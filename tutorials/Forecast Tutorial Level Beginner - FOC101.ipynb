{
 "cells": [
  {
   "cell_type": "markdown",
   "metadata": {},
   "source": [
    "#  <span style=\"color:orange\">Forecast Tutorial (FOC101) - Level Beginner</span>"
   ]
  },
  {
   "cell_type": "markdown",
   "metadata": {},
   "source": [
    "Welcome to Forecast Tutorial (FOC101) - Level Beginner. This tutorial assumes that you are new to PyCaret and looking to get started with Forecasting using the pycaret.forecast Module.\n",
    "\n",
    "In this tutorial we will learn:\n",
    "\n",
    "* **Getting Data**: How to import data from PyCaret repository\n",
    "* **Setting up Environment**: How to setup an experiment in PyCaret and get started with building forecasting models\n",
    "* **Create Model**: How to create a model, perform time series cross validation and evaluate forecasting metrics\n",
    "* **Auto Selection**: How to select a model based on the best fit.\n",
    "\n",
    "## 1.1 Installing PyCaret\n",
    "If you haven't installed PyCaret yet. Please follow the link to __[Beginner's Tutorial](https://github.com/pycaret/pycaret/blob/master/Tutorials/Regression%20Tutorial%20Level%20Beginner%20-%20REG101.ipynb)__ for instructions on how to install pycaret.\n",
    "\n",
    "## 1.2 Pre-Requisites\n",
    "- Python 3.x\n",
    "- Latest version of pycaret\n",
    "- Internet connection to load data from pycaret's repository\n",
    "- Completion of Regression Tutorial (REG101) - Level Beginner\n",
    "\n",
    "## 1.3 For Google colab users:\n",
    "If you are running this notebook on Google colab, run the following code at top of your notebook to display interactive visuals.<br/>\n",
    "<br/>\n",
    "`from pycaret.utils import enable_colab` <br/>\n",
    "`enable_colab()`\n"
   ]
  },
  {
   "cell_type": "markdown",
   "metadata": {},
   "source": [
    "# 2.0 What is Forecasting?\n",
    "\n",
    "Is a set of mathematical tools to make predictions of the future based on past data. A great introduction to the subject is Rob Hyndman's [Forecasting: Principles and Practice](https://otexts.com/fpp2/)\n",
    "\n",
    "\n",
    "# 3.0 Overwiew of Forecast Module in Pycaret\n",
    "\n",
    "PyCaret's Forecast module (`pycaret.forecast`) can be used to predict univariate Time Series data through Simple Exponential Smoothing, Holt or Arima model. Additionally the `auto_select` function runs these three models on the data selects the one that achieves the lower value of the given metric, such as [RMSE](https://en.wikipedia.org/wiki/Root-mean-square_deviation) or [MAPE](https://en.wikipedia.org/wiki/Mean_absolute_percentage_error). \n",
    "\n",
    "# 4.0 Dataset for the Tutorial\n",
    "\n",
    "The original dataset and description can be __[found here.](https://www.kaggle.com/chirag19/air-passengers/data)__ "
   ]
  },
  {
   "cell_type": "markdown",
   "metadata": {},
   "source": [
    "# 5.0 Getting the data \n",
    "\n",
    "You can download the data from the original source __[found here.](https://www.kaggle.com/chirag19/air-passengers/data)__ and load it using the pandas read_csv function or you can use PyCaret's data respository to load the data using the get_data function (This will require internet connection). Two variables are provided on the dataset:\n",
    "\n",
    "- **Month:** Month and year values from January 1949 to December 1960\n",
    "- **#Passengers:** The number of passengers in the month that took flyes in the US.\n",
    "\n",
    "In this tutorial, we're going to consider `#Passengers` as a univariate time series, and we will forecast the next couple of months.  "
   ]
  },
  {
   "cell_type": "code",
   "execution_count": 1,
   "metadata": {},
   "outputs": [],
   "source": [
    "from pycaret.datasets import get_data\n",
    "from pycaret.forecast import *\n",
    "\n",
    "import pandas as pd\n",
    "\n",
    "air_passangers = get_data('air_passangers')"
   ]
  },
  {
   "cell_type": "code",
   "execution_count": 2,
   "metadata": {},
   "outputs": [
    {
     "data": {
      "text/plain": [
       "(144, 2)"
      ]
     },
     "execution_count": 2,
     "metadata": {},
     "output_type": "execute_result"
    }
   ],
   "source": [
    "#check the shape of data\n",
    "data.shape"
   ]
  },
  {
   "cell_type": "markdown",
   "metadata": {},
   "source": [
    "# 6.0 Setting up Environment in Pycaret \n",
    "\n",
    "The `setup()` function initializes the environment in pycaret and creates the transformation pipeline to prepare the data for modeling and deployment. `setup()` must be called before executing any other function in pycaret. It takes two mandatory parameters: a pandas dataframe and the name of the target column. All other parameters are optional and are used to customize the pre-processing pipeline (we will see them in later tutorials).\n",
    "\n",
    "When `setup()` is executed, PyCaret's inference algorithm will automatically infer the data types for all features based on certain properties. The data type should be inferred correctly but this is not always the case. To account for this, PyCaret displays a table containing the features and their inferred data types after `setup()` is executed. If all of the data types are correctly identified `enter` can be pressed to continue or `quit` can be typed to end the expriment. Ensuring that the data types are correct is of fundamental importance in PyCaret as it automatically performs a few pre-processing tasks which are imperative to any working experiment. These tasks are performed differently for each data type which means it is very important for them to be correctly configured.\n",
    "\n",
    "In this example, we would like to remove any values that passes beyond nearly three standard deviations, one can achieve this by setting `remove_outliers=True` and `outliers_threshold=0.003`. If there is any atipical observation the sum of the shapes for the Train and Test sets would be different than the Original Data shape."
   ]
  },
  {
   "cell_type": "code",
   "execution_count": 3,
   "metadata": {},
   "outputs": [
    {
     "name": "stdout",
     "output_type": "stream",
     "text": [
      " \n",
      "Setup Succesfully Completed!\n"
     ]
    },
    {
     "data": {
      "text/html": [
       "<style  type=\"text/css\" >\n",
       "    #T_6f192a84_ae9c_11ea_96a6_0242ac110002row13_col1 {\n",
       "            background-color:  lightgreen;\n",
       "        }</style><table id=\"T_6f192a84_ae9c_11ea_96a6_0242ac110002\" ><thead>    <tr>        <th class=\"blank level0\" ></th>        <th class=\"col_heading level0 col0\" >Description</th>        <th class=\"col_heading level0 col1\" >Value</th>    </tr></thead><tbody>\n",
       "                <tr>\n",
       "                        <th id=\"T_6f192a84_ae9c_11ea_96a6_0242ac110002level0_row0\" class=\"row_heading level0 row0\" >0</th>\n",
       "                        <td id=\"T_6f192a84_ae9c_11ea_96a6_0242ac110002row0_col0\" class=\"data row0 col0\" >session_id</td>\n",
       "                        <td id=\"T_6f192a84_ae9c_11ea_96a6_0242ac110002row0_col1\" class=\"data row0 col1\" >4890</td>\n",
       "            </tr>\n",
       "            <tr>\n",
       "                        <th id=\"T_6f192a84_ae9c_11ea_96a6_0242ac110002level0_row1\" class=\"row_heading level0 row1\" >1</th>\n",
       "                        <td id=\"T_6f192a84_ae9c_11ea_96a6_0242ac110002row1_col0\" class=\"data row1 col0\" >Transform Target </td>\n",
       "                        <td id=\"T_6f192a84_ae9c_11ea_96a6_0242ac110002row1_col1\" class=\"data row1 col1\" >False</td>\n",
       "            </tr>\n",
       "            <tr>\n",
       "                        <th id=\"T_6f192a84_ae9c_11ea_96a6_0242ac110002level0_row2\" class=\"row_heading level0 row2\" >2</th>\n",
       "                        <td id=\"T_6f192a84_ae9c_11ea_96a6_0242ac110002row2_col0\" class=\"data row2 col0\" >Transform Target Method</td>\n",
       "                        <td id=\"T_6f192a84_ae9c_11ea_96a6_0242ac110002row2_col1\" class=\"data row2 col1\" >None</td>\n",
       "            </tr>\n",
       "            <tr>\n",
       "                        <th id=\"T_6f192a84_ae9c_11ea_96a6_0242ac110002level0_row3\" class=\"row_heading level0 row3\" >3</th>\n",
       "                        <td id=\"T_6f192a84_ae9c_11ea_96a6_0242ac110002row3_col0\" class=\"data row3 col0\" >Original Data</td>\n",
       "                        <td id=\"T_6f192a84_ae9c_11ea_96a6_0242ac110002row3_col1\" class=\"data row3 col1\" >(144, 2)</td>\n",
       "            </tr>\n",
       "            <tr>\n",
       "                        <th id=\"T_6f192a84_ae9c_11ea_96a6_0242ac110002level0_row4\" class=\"row_heading level0 row4\" >4</th>\n",
       "                        <td id=\"T_6f192a84_ae9c_11ea_96a6_0242ac110002row4_col0\" class=\"data row4 col0\" >Missing Values </td>\n",
       "                        <td id=\"T_6f192a84_ae9c_11ea_96a6_0242ac110002row4_col1\" class=\"data row4 col1\" >False</td>\n",
       "            </tr>\n",
       "            <tr>\n",
       "                        <th id=\"T_6f192a84_ae9c_11ea_96a6_0242ac110002level0_row5\" class=\"row_heading level0 row5\" >5</th>\n",
       "                        <td id=\"T_6f192a84_ae9c_11ea_96a6_0242ac110002row5_col0\" class=\"data row5 col0\" >Numeric Features </td>\n",
       "                        <td id=\"T_6f192a84_ae9c_11ea_96a6_0242ac110002row5_col1\" class=\"data row5 col1\" >0</td>\n",
       "            </tr>\n",
       "            <tr>\n",
       "                        <th id=\"T_6f192a84_ae9c_11ea_96a6_0242ac110002level0_row6\" class=\"row_heading level0 row6\" >6</th>\n",
       "                        <td id=\"T_6f192a84_ae9c_11ea_96a6_0242ac110002row6_col0\" class=\"data row6 col0\" >Transformed Train Set</td>\n",
       "                        <td id=\"T_6f192a84_ae9c_11ea_96a6_0242ac110002row6_col1\" class=\"data row6 col1\" >(100, 21)</td>\n",
       "            </tr>\n",
       "            <tr>\n",
       "                        <th id=\"T_6f192a84_ae9c_11ea_96a6_0242ac110002level0_row7\" class=\"row_heading level0 row7\" >7</th>\n",
       "                        <td id=\"T_6f192a84_ae9c_11ea_96a6_0242ac110002row7_col0\" class=\"data row7 col0\" >Transformed Test Set</td>\n",
       "                        <td id=\"T_6f192a84_ae9c_11ea_96a6_0242ac110002row7_col1\" class=\"data row7 col1\" >(44, 21)</td>\n",
       "            </tr>\n",
       "            <tr>\n",
       "                        <th id=\"T_6f192a84_ae9c_11ea_96a6_0242ac110002level0_row8\" class=\"row_heading level0 row8\" >8</th>\n",
       "                        <td id=\"T_6f192a84_ae9c_11ea_96a6_0242ac110002row8_col0\" class=\"data row8 col0\" >Numeric Imputer </td>\n",
       "                        <td id=\"T_6f192a84_ae9c_11ea_96a6_0242ac110002row8_col1\" class=\"data row8 col1\" >mean</td>\n",
       "            </tr>\n",
       "            <tr>\n",
       "                        <th id=\"T_6f192a84_ae9c_11ea_96a6_0242ac110002level0_row9\" class=\"row_heading level0 row9\" >9</th>\n",
       "                        <td id=\"T_6f192a84_ae9c_11ea_96a6_0242ac110002row9_col0\" class=\"data row9 col0\" >Normalize </td>\n",
       "                        <td id=\"T_6f192a84_ae9c_11ea_96a6_0242ac110002row9_col1\" class=\"data row9 col1\" >False</td>\n",
       "            </tr>\n",
       "            <tr>\n",
       "                        <th id=\"T_6f192a84_ae9c_11ea_96a6_0242ac110002level0_row10\" class=\"row_heading level0 row10\" >10</th>\n",
       "                        <td id=\"T_6f192a84_ae9c_11ea_96a6_0242ac110002row10_col0\" class=\"data row10 col0\" >Normalize Method </td>\n",
       "                        <td id=\"T_6f192a84_ae9c_11ea_96a6_0242ac110002row10_col1\" class=\"data row10 col1\" >None</td>\n",
       "            </tr>\n",
       "            <tr>\n",
       "                        <th id=\"T_6f192a84_ae9c_11ea_96a6_0242ac110002level0_row11\" class=\"row_heading level0 row11\" >11</th>\n",
       "                        <td id=\"T_6f192a84_ae9c_11ea_96a6_0242ac110002row11_col0\" class=\"data row11 col0\" >Transformation </td>\n",
       "                        <td id=\"T_6f192a84_ae9c_11ea_96a6_0242ac110002row11_col1\" class=\"data row11 col1\" >False</td>\n",
       "            </tr>\n",
       "            <tr>\n",
       "                        <th id=\"T_6f192a84_ae9c_11ea_96a6_0242ac110002level0_row12\" class=\"row_heading level0 row12\" >12</th>\n",
       "                        <td id=\"T_6f192a84_ae9c_11ea_96a6_0242ac110002row12_col0\" class=\"data row12 col0\" >Transformation Method </td>\n",
       "                        <td id=\"T_6f192a84_ae9c_11ea_96a6_0242ac110002row12_col1\" class=\"data row12 col1\" >None</td>\n",
       "            </tr>\n",
       "            <tr>\n",
       "                        <th id=\"T_6f192a84_ae9c_11ea_96a6_0242ac110002level0_row13\" class=\"row_heading level0 row13\" >13</th>\n",
       "                        <td id=\"T_6f192a84_ae9c_11ea_96a6_0242ac110002row13_col0\" class=\"data row13 col0\" >Remove Outliers </td>\n",
       "                        <td id=\"T_6f192a84_ae9c_11ea_96a6_0242ac110002row13_col1\" class=\"data row13 col1\" >True</td>\n",
       "            </tr>\n",
       "            <tr>\n",
       "                        <th id=\"T_6f192a84_ae9c_11ea_96a6_0242ac110002level0_row14\" class=\"row_heading level0 row14\" >14</th>\n",
       "                        <td id=\"T_6f192a84_ae9c_11ea_96a6_0242ac110002row14_col0\" class=\"data row14 col0\" >Outliers Threshold </td>\n",
       "                        <td id=\"T_6f192a84_ae9c_11ea_96a6_0242ac110002row14_col1\" class=\"data row14 col1\" >0.003000</td>\n",
       "            </tr>\n",
       "    </tbody></table>"
      ],
      "text/plain": [
       "<pandas.io.formats.style.Styler at 0x7f664ffa1bd0>"
      ]
     },
     "metadata": {},
     "output_type": "display_data"
    }
   ],
   "source": [
    "exp_foc101 = setup(data, target='#Passengers', remove_outliers=True, outliers_threshold=0.003)"
   ]
  },
  {
   "cell_type": "markdown",
   "metadata": {},
   "source": [
    "# 7.0 Creating a model\n",
    "\n",
    "The avaible options are\n",
    "\n",
    "* [sem](https://otexts.com/fpp2/ses.html). Simple Exponential Smoothing Model.\n",
    "* [holt](https://otexts.com/fpp2/holt.html). Holt-Linear Trend Model.\n",
    "* [auto_arima](https://alkaline-ml.com/pmdarima/tips_and_tricks.html). The `auto_arima` implementation in Python of the original function from the R package forecast.\n",
    "\n",
    "Under the hood `create_model` runs the [TimeSeriesSplit](https://scikit-learn.org/stable/modules/generated/sklearn.model_selection.TimeSeriesSplit.html) function from scikit-learn and calculates some relevant metrics like the \n",
    "`RMSE`, the `MAPE` or the `AIC` to evaluate the performance of the model. Thus, it will output these metrics for every split that we choose of the data and the model that we choose. Let's see this through an example."
   ]
  },
  {
   "cell_type": "code",
   "execution_count": 4,
   "metadata": {
    "scrolled": true
   },
   "outputs": [
    {
     "data": {
      "text/html": [
       "<div>\n",
       "<style scoped>\n",
       "    .dataframe tbody tr th:only-of-type {\n",
       "        vertical-align: middle;\n",
       "    }\n",
       "\n",
       "    .dataframe tbody tr th {\n",
       "        vertical-align: top;\n",
       "    }\n",
       "\n",
       "    .dataframe thead th {\n",
       "        text-align: right;\n",
       "    }\n",
       "</style>\n",
       "<table border=\"1\" class=\"dataframe\">\n",
       "  <thead>\n",
       "    <tr style=\"text-align: right;\">\n",
       "      <th></th>\n",
       "      <th>MAE</th>\n",
       "      <th>MSE</th>\n",
       "      <th>RMSE</th>\n",
       "      <th>MAPE</th>\n",
       "      <th>AIC</th>\n",
       "      <th>BIC</th>\n",
       "    </tr>\n",
       "  </thead>\n",
       "  <tbody>\n",
       "    <tr>\n",
       "      <th>0</th>\n",
       "      <td>43.5833</td>\n",
       "      <td>2477.0833</td>\n",
       "      <td>49.7703</td>\n",
       "      <td>0.2247</td>\n",
       "      <td>131.3489</td>\n",
       "      <td>133.7050</td>\n",
       "    </tr>\n",
       "    <tr>\n",
       "      <th>1</th>\n",
       "      <td>39.6250</td>\n",
       "      <td>2419.7083</td>\n",
       "      <td>49.1905</td>\n",
       "      <td>0.1578</td>\n",
       "      <td>269.0861</td>\n",
       "      <td>272.8285</td>\n",
       "    </tr>\n",
       "    <tr>\n",
       "      <th>2</th>\n",
       "      <td>77.1250</td>\n",
       "      <td>8301.6250</td>\n",
       "      <td>91.1133</td>\n",
       "      <td>0.2338</td>\n",
       "      <td>428.2398</td>\n",
       "      <td>432.7931</td>\n",
       "    </tr>\n",
       "    <tr>\n",
       "      <th>3</th>\n",
       "      <td>69.2083</td>\n",
       "      <td>8205.0417</td>\n",
       "      <td>90.5817</td>\n",
       "      <td>0.1663</td>\n",
       "      <td>607.7719</td>\n",
       "      <td>612.9006</td>\n",
       "    </tr>\n",
       "    <tr>\n",
       "      <th>4</th>\n",
       "      <td>115.2500</td>\n",
       "      <td>18859.2500</td>\n",
       "      <td>137.3290</td>\n",
       "      <td>0.2358</td>\n",
       "      <td>808.8125</td>\n",
       "      <td>814.3875</td>\n",
       "    </tr>\n",
       "    <tr>\n",
       "      <th>Mean</th>\n",
       "      <td>68.9583</td>\n",
       "      <td>8052.5417</td>\n",
       "      <td>83.5970</td>\n",
       "      <td>0.2037</td>\n",
       "      <td>449.0518</td>\n",
       "      <td>453.3229</td>\n",
       "    </tr>\n",
       "    <tr>\n",
       "      <th>SD</th>\n",
       "      <td>27.2544</td>\n",
       "      <td>5994.7442</td>\n",
       "      <td>32.6204</td>\n",
       "      <td>0.0343</td>\n",
       "      <td>240.1565</td>\n",
       "      <td>241.2418</td>\n",
       "    </tr>\n",
       "  </tbody>\n",
       "</table>\n",
       "</div>"
      ],
      "text/plain": [
       "           MAE         MSE      RMSE    MAPE       AIC       BIC\n",
       "0      43.5833   2477.0833   49.7703  0.2247  131.3489  133.7050\n",
       "1      39.6250   2419.7083   49.1905  0.1578  269.0861  272.8285\n",
       "2      77.1250   8301.6250   91.1133  0.2338  428.2398  432.7931\n",
       "3      69.2083   8205.0417   90.5817  0.1663  607.7719  612.9006\n",
       "4     115.2500  18859.2500  137.3290  0.2358  808.8125  814.3875\n",
       "Mean   68.9583   8052.5417   83.5970  0.2037  449.0518  453.3229\n",
       "SD     27.2544   5994.7442   32.6204  0.0343  240.1565  241.2418"
      ]
     },
     "metadata": {},
     "output_type": "display_data"
    }
   ],
   "source": [
    "model, model_results = create_model('sem', splits = 5, verbose=True)"
   ]
  },
  {
   "cell_type": "markdown",
   "metadata": {},
   "source": [
    "# 8.0 The `auto_select()` function\n",
    "\n",
    "The `auto_select()` function chooses automatically the model that best fits the data by just providing a metric based on which you would like to selet this model. As illustration, we're going to select a model based on the [AIC](https://en.wikipedia.org/wiki/Akaike_information_criterion) criteria, which is normally used to balance the complexity of the model. "
   ]
  },
  {
   "cell_type": "code",
   "execution_count": 5,
   "metadata": {
    "scrolled": true
   },
   "outputs": [
    {
     "data": {
      "text/html": [
       "<div>\n",
       "<style scoped>\n",
       "    .dataframe tbody tr th:only-of-type {\n",
       "        vertical-align: middle;\n",
       "    }\n",
       "\n",
       "    .dataframe tbody tr th {\n",
       "        vertical-align: top;\n",
       "    }\n",
       "\n",
       "    .dataframe thead th {\n",
       "        text-align: right;\n",
       "    }\n",
       "</style>\n",
       "<table border=\"1\" class=\"dataframe\">\n",
       "  <thead>\n",
       "    <tr style=\"text-align: right;\">\n",
       "      <th></th>\n",
       "      <th>MAE</th>\n",
       "      <th>MSE</th>\n",
       "      <th>RMSE</th>\n",
       "      <th>MAPE</th>\n",
       "      <th>AIC</th>\n",
       "      <th>BIC</th>\n",
       "    </tr>\n",
       "  </thead>\n",
       "  <tbody>\n",
       "    <tr>\n",
       "      <th>0</th>\n",
       "      <td>48.9312</td>\n",
       "      <td>3008.0559</td>\n",
       "      <td>54.8457</td>\n",
       "      <td>0.2539</td>\n",
       "      <td>191.2958</td>\n",
       "      <td>196.0080</td>\n",
       "    </tr>\n",
       "    <tr>\n",
       "      <th>1</th>\n",
       "      <td>24.8022</td>\n",
       "      <td>832.3146</td>\n",
       "      <td>28.8499</td>\n",
       "      <td>0.1081</td>\n",
       "      <td>385.6269</td>\n",
       "      <td>396.7278</td>\n",
       "    </tr>\n",
       "    <tr>\n",
       "      <th>2</th>\n",
       "      <td>45.6432</td>\n",
       "      <td>3551.5718</td>\n",
       "      <td>59.5951</td>\n",
       "      <td>0.1352</td>\n",
       "      <td>604.9559</td>\n",
       "      <td>618.5320</td>\n",
       "    </tr>\n",
       "    <tr>\n",
       "      <th>3</th>\n",
       "      <td>47.0761</td>\n",
       "      <td>2953.5406</td>\n",
       "      <td>54.3465</td>\n",
       "      <td>0.1259</td>\n",
       "      <td>835.9621</td>\n",
       "      <td>851.2854</td>\n",
       "    </tr>\n",
       "    <tr>\n",
       "      <th>4</th>\n",
       "      <td>46.9275</td>\n",
       "      <td>4570.2145</td>\n",
       "      <td>67.6034</td>\n",
       "      <td>0.0923</td>\n",
       "      <td>1087.0292</td>\n",
       "      <td>1103.7039</td>\n",
       "    </tr>\n",
       "    <tr>\n",
       "      <th>Mean</th>\n",
       "      <td>42.6760</td>\n",
       "      <td>2983.1395</td>\n",
       "      <td>53.0481</td>\n",
       "      <td>0.1431</td>\n",
       "      <td>620.9740</td>\n",
       "      <td>633.2514</td>\n",
       "    </tr>\n",
       "    <tr>\n",
       "      <th>SD</th>\n",
       "      <td>8.9982</td>\n",
       "      <td>1222.2493</td>\n",
       "      <td>13.0015</td>\n",
       "      <td>0.0573</td>\n",
       "      <td>317.3942</td>\n",
       "      <td>321.3118</td>\n",
       "    </tr>\n",
       "  </tbody>\n",
       "</table>\n",
       "</div>"
      ],
      "text/plain": [
       "          MAE        MSE     RMSE    MAPE        AIC        BIC\n",
       "0     48.9312  3008.0559  54.8457  0.2539   191.2958   196.0080\n",
       "1     24.8022   832.3146  28.8499  0.1081   385.6269   396.7278\n",
       "2     45.6432  3551.5718  59.5951  0.1352   604.9559   618.5320\n",
       "3     47.0761  2953.5406  54.3465  0.1259   835.9621   851.2854\n",
       "4     46.9275  4570.2145  67.6034  0.0923  1087.0292  1103.7039\n",
       "Mean  42.6760  2983.1395  53.0481  0.1431   620.9740   633.2514\n",
       "SD     8.9982  1222.2493  13.0015  0.0573   317.3942   321.3118"
      ]
     },
     "metadata": {},
     "output_type": "display_data"
    }
   ],
   "source": [
    "auto_model, auto_model_results = auto_select(splits=5, metric='rmse', verbose=True)"
   ]
  },
  {
   "cell_type": "markdown",
   "metadata": {},
   "source": [
    "# 8.0 The `forecast()` function\n",
    "\n",
    "If we want to forecast `n` steps ahead the value of the current time series, we just need to call the `forecast()` function. There are three basic parameters: \n",
    "\n",
    "* **steps**: The number of steps ahead point forecast. \n",
    "\n",
    "* **plot**: If we would like to graphically visualize the results of the point forecast. We specify this parameter to True `plot=True`.\n",
    "\n",
    "* **style**: Behind this function we're calling a matplot.pyplot graph. Thus, we can specify which a style sheet for the plot. For more info see the official [documentation](https://matplotlib.org/3.1.1/gallery/style_sheets/style_sheets_reference.html).\n",
    "\n",
    "In the above example we're going to forecast twelve months ahead data for the national flights in the US given the best model that `auto_model()` select for us. Notice that we're assigning the result of the function to a trash variable `_`."
   ]
  },
  {
   "cell_type": "code",
   "execution_count": 6,
   "metadata": {},
   "outputs": [
    {
     "data": {
      "image/png": "[encoded data removed]",
      "text/plain": [
       "<Figure size 864x432 with 1 Axes>"
      ]
     },
     "metadata": {},
     "output_type": "display_data"
    }
   ],
   "source": [
    "_ = forecast(auto_model, steps=12, plot=True, style='fivethirtyeight')"
   ]
  }
 ],
 "metadata": {
  "kernelspec": {
   "display_name": "Python 3",
   "language": "python",
   "name": "python3"
  },
  "language_info": {
   "codemirror_mode": {
    "name": "ipython",
    "version": 3
   },
   "file_extension": ".py",
   "mimetype": "text/x-python",
   "name": "python",
   "nbconvert_exporter": "python",
   "pygments_lexer": "ipython3",
   "version": "3.7.6"
  }
 },
 "nbformat": 4,
 "nbformat_minor": 4
}
