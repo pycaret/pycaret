{
 "cells": [
  {
   "cell_type": "markdown",
   "metadata": {},
   "source": [
    "#  <span style=\"color:orange\">Clustering Tutorial (CLU103) - Level Expert</span>"
   ]
  },
  {
   "cell_type": "markdown",
   "metadata": {},
   "source": [
    "**Date Updated: Feb 25, 2020**\n",
    "\n",
    "# Work in progress\n",
    "We are currently working on this tutorial. Please check back soon! \n",
    "\n",
    "### In the mean time, you can see: \n",
    "- __[Clustering Tutorial (CLU101) - Level Beginner](https://github.com/pycaret/pycaret/blob/master/Tutorials/Clustering%20Tutorial%20Level%20Beginner%20-%20CLU101.ipynb)__"
   ]
  }
 ],
 "metadata": {
  "kernelspec": {
   "display_name": "Python 3",
   "language": "python",
   "name": "python3"
  },
  "language_info": {
   "codemirror_mode": {
    "name": "ipython",
    "version": 3
   },
   "file_extension": ".py",
   "mimetype": "text/x-python",
   "name": "python",
   "nbconvert_exporter": "python",
   "pygments_lexer": "ipython3",
   "version": "3.7.4"
  }
 },
 "nbformat": 4,
 "nbformat_minor": 2
}
