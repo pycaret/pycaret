{
 "cells": [
  {
   "cell_type": "markdown",
   "metadata": {
    "colab_type": "text",
    "id": "Y57RMM1LEQmR",
    "pycharm": {
     "name": "#%% md\n"
    }
   },
   "source": [
    "#  <span style=\"color:orange\">Μάθημα Δυαδικής Ταξινόμησης (CLF101) - Επίπεδο Αρχάριων</span>"
   ]
  },
  {
   "cell_type": "markdown",
   "metadata": {
    "pycharm": {
     "name": "#%% md\n"
    }
   },
   "source": [
    "**Έγινε χρήση της βιβλιοθήκης: PyCaret 3.0** <br />\n",
    "**Python Vesrion: 3.9** <br />\n",
    "**Ημερομηνία τελευταίας τροποποίησης: 14 Αυγούστου 2022**\n",
    "\n",
    "\n",
    "# 1.0 Στόχοι Μαθήματος\n",
    "\n",
    "Καλώς ήρθατε στο μάθημα Δυαδικής Ταξινόμησης (CLF101) - Επίπεδο Αρχάριων. Ο οδηγός προορίζεται για τις νέες χρήστριες του PyCaret, οι οποίες ενδιαφέρονται να αξιοποιήσουν το Module `pycaret.classification` για να εκτελέσουν Δυαδική Ταξινόμηση:\n",
    "\n",
    "Σε αυτό το μάθημα θα διδαχθούμε:\n",
    "\n",
    "* **Λήψη Δεδομένων:** Πώς να εισάγουμε δεδομένα από το αποθετήριο της βιβλιοθήκης PyCaret.\n",
    "* **Εγκατάσταση Περιβάλλοντος:** Πώς να στήνουμε μια πειραματική διαδικασία κάνοντας χρήση της PyCaret και πώς να χτίζουμε μοντέλα ταξινόμησης.\n",
    "* **Δημιουργία Μοντέλου:** Πώς να δημιουργούμε ένα μοντέλο, να κάνουμε stratified cross validation (ΣτΜ: μέθοδος αξιολόγησης) και να αξιολογούμε τις μετρικές που χρησιμοποιούνται στην ταξινόμηση.\n",
    "* **Ρύθμιση Μοντέλου:** Πώς να ρυθμίζουμε αυτόματα τις υπερ-παραμέτρους ενός μοντέλου ταξινόμησης.\n",
    "* **Γραφική Απεικόνιση Μοντέλου:** Πώς να αναλύουμε την απόδοση ενός μοντέλου αξιοποιώντας διάφορες γραφικές απεικονίσεις.\n",
    "* **Οριστικοποίηση Μοντέλου:** Πώς να οριστικοποιούμε το καλύτερο μοντέλο στο τέλος του πειράματος.\n",
    "* **Πρόβλεψη Μοντέλου:** Πώς να κάνουμε προβλέψεις βασισμένες σε νέα / άγνωστα δεδομένα.\n",
    "* **Αποθήκευση / Φόρτωση Μοντέλου:** Πώς να αποθηκεύουμε / φορτώνουμε ένα μοντέλο για μελλοντική χρήση.\n",
    "\n",
    "Χρόνος Ανάγνωσης : Περίπου 30 Λεπτά.\n",
    "\n",
    "\n",
    "# 1.1 Εγκατάσταση PyCaret\n",
    "Το πρώτο βήμα για να χρησιμοποιήσουμε τη βιβλιοθήκη PyCaret είναι να την εγκαταστήσουμε. Η εγκατάσταση είναι εύκολη και θα διαρκέσει μόνο μερικά λεπτά. Ακολουθήστε τις παρακάτω οδηγίες:\n",
    "\n",
    "# Εγκατάσταση PyCaret σε Τοπικό Jupyter Notebook.\n",
    "`pip install pycaret`  <br />\n",
    "\n",
    "# Εγκατάσταση PyCaret στο Google Colab η στο Azure Notebooks\n",
    "`!pip install pycaret`\n",
    "\n",
    "\n",
    "# 1.2 Προ-απαιτούμενα\n",
    "- Python 3.6 ή πιο σύγχρονη (ΣτΜ: H Python 3.10 δεν υποστηρίζεται τη δεδομένη στιγμή).\n",
    "- PyCaret 2.0 ή πιο σύγχρονη.\n",
    "- Σύνδεση στο Internet, ώστε να φορτώσουμε δεδομένα από το αποθετήριο της PyCaret.\n",
    "- Βασικές Γνώσεις πάνω στη Δυαδική Ταξινόμηση.\n",
    "\n",
    "# 1.3 Για τους χρήστες του Google Colab:\n",
    "Αν εκτελείτε αυτό το notebook στο Google Colab, «τρέξτε» το παρακάτω κομμάτι κώδικα στην αρχή του notebook, ώστε να προβάλλετε διαδραστικές εικόνες.<br/>\n",
    "\n",
    "`from pycaret.utils import enable_colab` <br/>\n",
    "`enable_colab()`\n",
    "\n",
    "\n",
    "# 1.4 Δείτε επίσης:\n",
    "- __[Μάθημα Δυαδικής Ταξινόμησης (CLF102) - Μέσο Επίπεδο](https://github.com/pycaret/pycaret/blob/master/tutorials/Greek/Binary%20Classification%20Tutorial%20Level%20Intermediate%20-%20CLF102.ipynb)__\n",
    "- __[Μάθημα Δυαδικής Ταξινόμησης (CLF102) - Επίπεδο Προχωρημένων](https://github.com/pycaret/pycaret/blob/master/tutorials/Greek/Binary%20Classification%20Tutorial%20Level%Expert%20-%20CLF103.ipynb)__"
   ]
  },
  {
   "cell_type": "markdown",
   "metadata": {
    "pycharm": {
     "name": "#%% md\n"
    }
   },
   "source": [
    "# 2.0 Τι είναι η Δυαδική Ταξινόμηση;\n",
    "\n",
    "Η δυαδική ταξινόμηση είναι μια τεχνική επιβλεπόμενης μηχανικής μάθησης. Στοχεύει στην πρόβλεψη διακριτών ετικετών (labels) κλάσεων, όπως για παράδειγμα: Επιτυχία/Αποτυχία (Pass/Fail), Θετικό/Αρνητικό κλπ. Ακολουθούν ορισμένα πραγματικά προβλήματα όπου επιστρατεύεται η ταξινόμηση.\n",
    "\n",
    "- Ο ιατρικός έλεγχος ώστε να διαγνωστεί αν ένας ασθενής πάσχει από μία συγκεκριμένη ασθένεια. Η ιδιότητα που καλούμαστε να ταξινομήσουμε είναι η ύπαρξη ή μη της νόσου.\n",
    "- Η μέθοδος καθορισμούς της \"επιτυχίας ή αποτυχίας\" σε ένα τεστ ή ο ποιοτικός έλεγχος σε εργοστάσια, π.χ. η απόφαση για το αν πληρούνται κάποιες προδιαγραφές ή όχι.\n",
    "- Η ανάκτηση πληροφοριών, δηλαδή αν μια ιστοσελίδα ή ένα άρθρο πρέπει να συμπεριλαμβάνεται στα αποτελέσματα αναζήτησης ή όχι. Η ιδιότητα που καλούμαστε να ταξινομήσουμε είναι η συνάφεια του άρθρου ή η χρησιμότητα του για τη χρήστρια.\n",
    "\n",
    "__[Περισσότερες πληροφορίες σχετικά με τη δυαδική αναζήτηση](https://medium.com/@categitau/in-one-of-my-previous-posts-i-introduced-machine-learning-and-talked-about-the-two-most-common-c1ac6e18df16)__"
   ]
  },
  {
   "cell_type": "markdown",
   "metadata": {
    "pycharm": {
     "name": "#%% md\n"
    }
   },
   "source": [
    "# 3.0 Επισκόπηση του Module Ταξινόμησης της PyCaret\n",
    "\n",
    "Το Module της βιβλιοθήκης PyCaret που αφορά την ταξινόμηση (`pycaret.classification`) είναι ένα module επιβλεπόμενης μηχανικής μάθησης. Χρησιμοποιείται για την ταξινόμηση στοιχείων σε δύο ομάδες βάσει διάφορων τεχνικών και αλγορίθμων. Κάποια συνηθισμένα προβλήματα ταξινόμησης είναι η προεπιλογές πελατών (ναι ή όχι), η απώλεια πελάτη (θα μείνει ή θα φύγει) και η διάγνωση ασθένειας (θετικό ή αρνητικό).\n",
    "\n",
    "Το module ταξινόμησης της PyCaret μπορεί να χρησιμοποιηθεί σε προβλήματα Δυαδικής (Binary) ταξινόμησης και ταξινόμησης Πολλαπλών Κλάσεων (Multi-class classification). Έχει περισσότερους απο 18 αλγορίθμους και 14 γραφικές απεικονίσεις για την ανάλυση της απόδοσης των μοντέλων. Το module ταξινόμησης της PyCaret τα έχει όλα, είτε πρόκειται για ρύθμιση υπερ-παραμέντρων (tuning hyper-parameters), είτε για ensembling (ΣτΜ: τεχνική συνδυασμού μεθόδων), είτε για πιο προηγμένες τεχνικές όπως stacking (ΣτΜ: ό.π)."
   ]
  },
  {
   "cell_type": "markdown",
   "metadata": {
    "pycharm": {
     "name": "#%% md\n"
    }
   },
   "source": [
    "# 4.0 Το Σύνολο Δεδομένων (Dataset) του Μαθήματος"
   ]
  },
  {
   "cell_type": "markdown",
   "metadata": {
    "pycharm": {
     "name": "#%% md\n"
    }
   },
   "source": [
    "Σε αυτό το μάθημα θα χρησιμοποιήσουμε ένα σύνολο δεδομένων (dataset) που παρέχεται από το [UCI](https://archive.ics.uci.edu/ml/index.php) και ονομάζεται **Default of Credit Card Clients Dataset**. Σε αυτό εμπεριέχονται πληροφορίες σχετικά με τις προεπιλεγμένες πληρωμές, δημογραφικοί παράγοντες, πιστωτικά δεδομένα, ιστορικό πληρωμών και καταστάσεις τιμολόγησης πελατών πιστωτικών καρτών στην Ταϊβάν από τον Απρίλιο του 2005 έως τον Σεπτέμβριο του 2005. Υπάρχουν 24.000 δείγματα (samples) και 25 χαρακτηριστικά (features). Ακολουθεί σύντομη περιγραφή των επιμέρους στηλών:\n",
    "\n",
    "- **ID:** Αναγνωριστικό του κάθε πελάτη.\n",
    "- **LIMIT_BAL:** Ποσό πίστωσης σε δολάρια ΝΤ (περιλαμβάνει ατομική και οικογενειακή/συμπληρωματική πίστωση).\n",
    "- **SEX:** Φύλο (1=άρρεν, 2=θήλυ).\n",
    "- **EDUCATION:** (1=μεταπτυχιακό, 2=πανεπιστήμιο, 3=λύκειο, 4=άλλα, 5=άγνωστο, 6=άγνωστο).\n",
    "- **MARRIAGE:** Οικογενειακή κατάσταση (1=παντρεμένος, 2=ανύπαντρος, 3=άλλο).\n",
    "- **AGE:** Ηλικία σε χρόνια.\n",
    "- **PAY_1 to PAY_6:** Κατάσταση αποπληρωμής πριν από Χ μήνες (PAY_1 = προηγούμενος μήνας ... PAY_6 = πριν 6 μήνες) (Labels: -1=συνεπής πληρωμή, 1=αργοπορημένη πληρωμή κατά 1 μήνα, 2=αργοπορημένη πληρωμή κατά 2 μήνες, ... 8=αργοπορημένη πληρωμή κατά 8 μήνες, 9=αργοπορημένη πληρωμή κατά 9 ή περισσότερους μήνες).\n",
    "- **BILL_AMT1 to BILL_AMT6:** Εκκαθαριστικό υπόλοιπο του λογαριασμού πριν από Χ μήνες ( BILL_AMT1 = προηγούμενος μήνας .. BILL_AMT6 = πριν από 6 μήνες)\n",
    "- **PAY_AMT1 to PAY_AMT6:** Ποσό πληρωμής πριν από Χ μήνες ( BILL_AMT1 = προηγούμενος μήνας .. BILL_AMT6 = πριν από 6 μήνες)\n",
    "- **default:** Προεπιλεγμένη πληρωμή (1=ναι, 0=όχι) `Στήλη-Στόχος`\n",
    "\n",
    "# Ευχαριστίες για το dataset:\n",
    "Lichman, M. (2013). UCI Machine Learning Repository. Irvine, CA: University of California, School of Information and Computer Science.\n",
    "\n",
    "__[Πηγή](https://archive.ics.uci.edu/ml/datasets/default+of+credit+card+clients)__"
   ]
  },
  {
   "cell_type": "markdown",
   "metadata": {
    "pycharm": {
     "name": "#%% md\n"
    }
   },
   "source": [
    "# 5.0 Λήψη Δεδομένων"
   ]
  },
  {
   "cell_type": "markdown",
   "metadata": {
    "pycharm": {
     "name": "#%% md\n"
    }
   },
   "source": [
    "Μπορείτε να κατεβάσετε τα δεδομένα από την αρχική τους πηγή, __[εδώ](https://archive.ics.uci.edu/ml/datasets/default+of+credit+card+clients)__ και να τα φορτώσετε χρησιμοποιώντας τη βιβλιοθήκη Pandas __[(μαθετε πώς)](https://pandas.pydata.org/pandas-docs/stable/reference/api/pandas.read_csv.html)__ ή μπορείτε να χρησιμοποιήσετε το αποθετήριο της βιβλιοθήκης PyCaret και να τα φορτώσετε χρησιμοποιώντας τη συνάρτηση `get_data()` (αυτό απαιτεί σύνδεση στο Internet)."
   ]
  },
  {
   "cell_type": "code",
   "execution_count": 1,
   "metadata": {
    "pycharm": {
     "name": "#%%\n"
    }
   },
   "outputs": [
    {
     "data": {
      "text/html": [
       "<div>\n",
       "<style scoped>\n",
       "    .dataframe tbody tr th:only-of-type {\n",
       "        vertical-align: middle;\n",
       "    }\n",
       "\n",
       "    .dataframe tbody tr th {\n",
       "        vertical-align: top;\n",
       "    }\n",
       "\n",
       "    .dataframe thead th {\n",
       "        text-align: right;\n",
       "    }\n",
       "</style>\n",
       "<table border=\"1\" class=\"dataframe\">\n",
       "  <thead>\n",
       "    <tr style=\"text-align: right;\">\n",
       "      <th></th>\n",
       "      <th>LIMIT_BAL</th>\n",
       "      <th>SEX</th>\n",
       "      <th>EDUCATION</th>\n",
       "      <th>MARRIAGE</th>\n",
       "      <th>AGE</th>\n",
       "      <th>PAY_1</th>\n",
       "      <th>PAY_2</th>\n",
       "      <th>PAY_3</th>\n",
       "      <th>PAY_4</th>\n",
       "      <th>PAY_5</th>\n",
       "      <th>...</th>\n",
       "      <th>BILL_AMT4</th>\n",
       "      <th>BILL_AMT5</th>\n",
       "      <th>BILL_AMT6</th>\n",
       "      <th>PAY_AMT1</th>\n",
       "      <th>PAY_AMT2</th>\n",
       "      <th>PAY_AMT3</th>\n",
       "      <th>PAY_AMT4</th>\n",
       "      <th>PAY_AMT5</th>\n",
       "      <th>PAY_AMT6</th>\n",
       "      <th>default</th>\n",
       "    </tr>\n",
       "  </thead>\n",
       "  <tbody>\n",
       "    <tr>\n",
       "      <th>0</th>\n",
       "      <td>20000</td>\n",
       "      <td>2</td>\n",
       "      <td>2</td>\n",
       "      <td>1</td>\n",
       "      <td>24</td>\n",
       "      <td>2</td>\n",
       "      <td>2</td>\n",
       "      <td>-1</td>\n",
       "      <td>-1</td>\n",
       "      <td>-2</td>\n",
       "      <td>...</td>\n",
       "      <td>0.0</td>\n",
       "      <td>0.0</td>\n",
       "      <td>0.0</td>\n",
       "      <td>0.0</td>\n",
       "      <td>689.0</td>\n",
       "      <td>0.0</td>\n",
       "      <td>0.0</td>\n",
       "      <td>0.0</td>\n",
       "      <td>0.0</td>\n",
       "      <td>1</td>\n",
       "    </tr>\n",
       "    <tr>\n",
       "      <th>1</th>\n",
       "      <td>90000</td>\n",
       "      <td>2</td>\n",
       "      <td>2</td>\n",
       "      <td>2</td>\n",
       "      <td>34</td>\n",
       "      <td>0</td>\n",
       "      <td>0</td>\n",
       "      <td>0</td>\n",
       "      <td>0</td>\n",
       "      <td>0</td>\n",
       "      <td>...</td>\n",
       "      <td>14331.0</td>\n",
       "      <td>14948.0</td>\n",
       "      <td>15549.0</td>\n",
       "      <td>1518.0</td>\n",
       "      <td>1500.0</td>\n",
       "      <td>1000.0</td>\n",
       "      <td>1000.0</td>\n",
       "      <td>1000.0</td>\n",
       "      <td>5000.0</td>\n",
       "      <td>0</td>\n",
       "    </tr>\n",
       "    <tr>\n",
       "      <th>2</th>\n",
       "      <td>50000</td>\n",
       "      <td>2</td>\n",
       "      <td>2</td>\n",
       "      <td>1</td>\n",
       "      <td>37</td>\n",
       "      <td>0</td>\n",
       "      <td>0</td>\n",
       "      <td>0</td>\n",
       "      <td>0</td>\n",
       "      <td>0</td>\n",
       "      <td>...</td>\n",
       "      <td>28314.0</td>\n",
       "      <td>28959.0</td>\n",
       "      <td>29547.0</td>\n",
       "      <td>2000.0</td>\n",
       "      <td>2019.0</td>\n",
       "      <td>1200.0</td>\n",
       "      <td>1100.0</td>\n",
       "      <td>1069.0</td>\n",
       "      <td>1000.0</td>\n",
       "      <td>0</td>\n",
       "    </tr>\n",
       "    <tr>\n",
       "      <th>3</th>\n",
       "      <td>50000</td>\n",
       "      <td>1</td>\n",
       "      <td>2</td>\n",
       "      <td>1</td>\n",
       "      <td>57</td>\n",
       "      <td>-1</td>\n",
       "      <td>0</td>\n",
       "      <td>-1</td>\n",
       "      <td>0</td>\n",
       "      <td>0</td>\n",
       "      <td>...</td>\n",
       "      <td>20940.0</td>\n",
       "      <td>19146.0</td>\n",
       "      <td>19131.0</td>\n",
       "      <td>2000.0</td>\n",
       "      <td>36681.0</td>\n",
       "      <td>10000.0</td>\n",
       "      <td>9000.0</td>\n",
       "      <td>689.0</td>\n",
       "      <td>679.0</td>\n",
       "      <td>0</td>\n",
       "    </tr>\n",
       "    <tr>\n",
       "      <th>4</th>\n",
       "      <td>50000</td>\n",
       "      <td>1</td>\n",
       "      <td>1</td>\n",
       "      <td>2</td>\n",
       "      <td>37</td>\n",
       "      <td>0</td>\n",
       "      <td>0</td>\n",
       "      <td>0</td>\n",
       "      <td>0</td>\n",
       "      <td>0</td>\n",
       "      <td>...</td>\n",
       "      <td>19394.0</td>\n",
       "      <td>19619.0</td>\n",
       "      <td>20024.0</td>\n",
       "      <td>2500.0</td>\n",
       "      <td>1815.0</td>\n",
       "      <td>657.0</td>\n",
       "      <td>1000.0</td>\n",
       "      <td>1000.0</td>\n",
       "      <td>800.0</td>\n",
       "      <td>0</td>\n",
       "    </tr>\n",
       "  </tbody>\n",
       "</table>\n",
       "<p>5 rows × 24 columns</p>\n",
       "</div>"
      ],
      "text/plain": [
       "   LIMIT_BAL  SEX  EDUCATION  MARRIAGE  AGE  PAY_1  PAY_2  PAY_3  PAY_4  \\\n",
       "0      20000    2          2         1   24      2      2     -1     -1   \n",
       "1      90000    2          2         2   34      0      0      0      0   \n",
       "2      50000    2          2         1   37      0      0      0      0   \n",
       "3      50000    1          2         1   57     -1      0     -1      0   \n",
       "4      50000    1          1         2   37      0      0      0      0   \n",
       "\n",
       "   PAY_5  ...  BILL_AMT4  BILL_AMT5  BILL_AMT6  PAY_AMT1  PAY_AMT2  PAY_AMT3  \\\n",
       "0     -2  ...        0.0        0.0        0.0       0.0     689.0       0.0   \n",
       "1      0  ...    14331.0    14948.0    15549.0    1518.0    1500.0    1000.0   \n",
       "2      0  ...    28314.0    28959.0    29547.0    2000.0    2019.0    1200.0   \n",
       "3      0  ...    20940.0    19146.0    19131.0    2000.0   36681.0   10000.0   \n",
       "4      0  ...    19394.0    19619.0    20024.0    2500.0    1815.0     657.0   \n",
       "\n",
       "   PAY_AMT4  PAY_AMT5  PAY_AMT6  default  \n",
       "0       0.0       0.0       0.0        1  \n",
       "1    1000.0    1000.0    5000.0        0  \n",
       "2    1100.0    1069.0    1000.0        0  \n",
       "3    9000.0     689.0     679.0        0  \n",
       "4    1000.0    1000.0     800.0        0  \n",
       "\n",
       "[5 rows x 24 columns]"
      ]
     },
     "metadata": {},
     "output_type": "display_data"
    }
   ],
   "source": [
    "from pycaret.datasets import get_data\n",
    "dataset = get_data('credit')"
   ]
  },
  {
   "cell_type": "code",
   "execution_count": 2,
   "metadata": {
    "pycharm": {
     "name": "#%%\n"
    }
   },
   "outputs": [
    {
     "data": {
      "text/plain": [
       "(24000, 24)"
      ]
     },
     "execution_count": 2,
     "metadata": {},
     "output_type": "execute_result"
    }
   ],
   "source": [
    "#check the shape of data\n",
    "#έλεγχος του μεγέθους των δεδομένων\n",
    "dataset.shape"
   ]
  },
  {
   "cell_type": "markdown",
   "metadata": {
    "pycharm": {
     "name": "#%% md\n"
    }
   },
   "source": [
    "Για να επιδείξουμε τη λειτουργία της συνάρτησης `predict_model()` σε άγνωστα δεδομένα, δειγματοληπτούμε 1.200 καταγραφές (records) από το αρχικό σύνολο δεδομένων, οι οποίες θα χρησιμοποιηθούν για να κάνουμε τις προβλέψεις μας. Αυτό δεν πρέπει να το συγχέουμε με το διαχωρισμό δεδομένων εκπαίδευσης/ελέχου (train/test split), καθώς στη δική μας περίπτωσης εκτελείται με τέτοιο τρόπο ώστε να ανταποκρίνεται σε ένα πραγματικό σενάριο. Ένας άλλος τρόπος για να το αντιληφθούμε θα ήταν η παραδοχή ότι αυτές οι 1.200 καταγραφές δεν είναι διαθέσιμες τη στιγμή που διεξάγεται το πείραμα μηχανικής μάθησης."
   ]
  },
  {
   "cell_type": "code",
   "execution_count": 3,
   "metadata": {
    "pycharm": {
     "name": "#%%\n"
    }
   },
   "outputs": [
    {
     "name": "stdout",
     "output_type": "stream",
     "text": [
      "Δεδομένα που χρησιμοποιούνται στη Μοντελοποίηση: (22800, 24)\n",
      "Άγνωστα Δεδομένα για να κάνουμε Προβλέψεις: (1200, 24)\n"
     ]
    }
   ],
   "source": [
    "data = dataset.sample(frac=0.95, random_state=786)\n",
    "data_unseen = dataset.drop(data.index)\n",
    "data.reset_index(inplace=True, drop=True)\n",
    "data_unseen.reset_index(inplace=True, drop=True)\n",
    "print('Δεδομένα που χρησιμοποιούνται στη Μοντελοποίηση: ' + str(data.shape))\n",
    "print('Άγνωστα Δεδομένα για να κάνουμε Προβλέψεις: ' + str(data_unseen.shape))"
   ]
  },
  {
   "cell_type": "markdown",
   "metadata": {
    "pycharm": {
     "name": "#%% md\n"
    }
   },
   "source": [
    "# 6.0 Εγκατάσταση Περιβάλλοντος στην PyCaret"
   ]
  },
  {
   "cell_type": "markdown",
   "metadata": {
    "pycharm": {
     "name": "#%% md\n"
    }
   },
   "source": [
    "Η συνάρτηση `setup()` αρχικοποιεί το περιβάλλον στην pycaret και δημιουργεί το transformation pipeline που προετοιμάζει τα δεδομένα για  τις διαδικασίες της μοντελοποίησης και της ανάπτυξης. Η συνάρτηση `setup()` πρέπει να προηγείται οποιασδήποτε άλλης στην pycaret. Δέχεται δυο υποχρεωτικές παραμέτρους: ένα pandas dataframe και το όνομα της στήλης-στόχου. Όλες οι υπόλοιπες παράμετροι είναι προαιρετικές και χρησιμοποιούνται για την εξατομίκευση του pre-processing pipeline (θα το δούμε σε επόμενα μαθήματα).\n",
    "\n",
    "Όταν εκτελείται η συνάρτηση `setup()`, οι αλγόριθμοι συμπερασμάτων (inference algorithms) της PyCaret θα καταλήξουν στους τύπους δεδομένων όλων των features βάσει συγκεκριμένων ιδιοτήτων τους. Οι τύποι των δεδομένων πρέπει να συμπεραίνονται ορθά, αλλά αυτό δε συμβαίνει πάντα. Για να αντισταθμιστεί αυτό, η PyCaret προβάλλει έναν πίνακα με τα features και του αντίστοιχους τύπους δεδομένων που προέκυψαν μετά την εκτέλεση της `setup()`. Αν όλοι οι τύποι δεδομένων εντοπίστηκαν ορθά, τότε μπορεί να πατηθεί το κουμπί `enter` για να συνεχιστεί το πείραμα. Ειδάλλως, η πληκτρολόγηση της λέξης `quit` θα το τερματίσει. Η εξασφάλιση της ορθότητας των τύπων δεδομένων είναι θεμελιωδώς σημαντική στην PyCaret, καθώς εκτελεί αυτόματα μια σειρά από εργασίες προ-επεξεργασίας (pre-processing) που είναι απολύτως απαραίτητες σε κάθε πείραμα μηχανικής μάθησης. Αυτές εκτελούνται διαφορετικά ανάλογα με τον τύπο δεδομένων, γι' αυτό είναι ιδιαίτερα σημαντική η σωστή ρύθμισή τους.\n",
    "\n",
    "Σε επόμενα μαθήματα θα μάθουμε πώς να αντικαθιστούμε τους τύπος δεδομένων, που συμπέρανε η PyCaret, χρησιμοποιώντας τις παραμέτρους της `setup()`: `numeric_features` και `categorical_values`."
   ]
  },
  {
   "cell_type": "code",
   "execution_count": 4,
   "metadata": {
    "pycharm": {
     "name": "#%%\n"
    }
   },
   "outputs": [],
   "source": [
    "from pycaret.classification import *"
   ]
  },
  {
   "cell_type": "code",
   "execution_count": 5,
   "metadata": {
    "pycharm": {
     "name": "#%%\n"
    }
   },
   "outputs": [
    {
     "data": {
      "text/html": [
       "<style type=\"text/css\">\n",
       "#T_6352b_row44_col1 {\n",
       "  background-color: lightgreen;\n",
       "}\n",
       "</style>\n",
       "<table id=\"T_6352b\">\n",
       "  <thead>\n",
       "    <tr>\n",
       "      <th class=\"blank level0\" >&nbsp;</th>\n",
       "      <th id=\"T_6352b_level0_col0\" class=\"col_heading level0 col0\" >Description</th>\n",
       "      <th id=\"T_6352b_level0_col1\" class=\"col_heading level0 col1\" >Value</th>\n",
       "    </tr>\n",
       "  </thead>\n",
       "  <tbody>\n",
       "    <tr>\n",
       "      <th id=\"T_6352b_level0_row0\" class=\"row_heading level0 row0\" >0</th>\n",
       "      <td id=\"T_6352b_row0_col0\" class=\"data row0 col0\" >session_id</td>\n",
       "      <td id=\"T_6352b_row0_col1\" class=\"data row0 col1\" >123</td>\n",
       "    </tr>\n",
       "    <tr>\n",
       "      <th id=\"T_6352b_level0_row1\" class=\"row_heading level0 row1\" >1</th>\n",
       "      <td id=\"T_6352b_row1_col0\" class=\"data row1 col0\" >Target</td>\n",
       "      <td id=\"T_6352b_row1_col1\" class=\"data row1 col1\" >default</td>\n",
       "    </tr>\n",
       "    <tr>\n",
       "      <th id=\"T_6352b_level0_row2\" class=\"row_heading level0 row2\" >2</th>\n",
       "      <td id=\"T_6352b_row2_col0\" class=\"data row2 col0\" >Target Type</td>\n",
       "      <td id=\"T_6352b_row2_col1\" class=\"data row2 col1\" >Binary</td>\n",
       "    </tr>\n",
       "    <tr>\n",
       "      <th id=\"T_6352b_level0_row3\" class=\"row_heading level0 row3\" >3</th>\n",
       "      <td id=\"T_6352b_row3_col0\" class=\"data row3 col0\" >Label Encoded</td>\n",
       "      <td id=\"T_6352b_row3_col1\" class=\"data row3 col1\" >None</td>\n",
       "    </tr>\n",
       "    <tr>\n",
       "      <th id=\"T_6352b_level0_row4\" class=\"row_heading level0 row4\" >4</th>\n",
       "      <td id=\"T_6352b_row4_col0\" class=\"data row4 col0\" >Original Data</td>\n",
       "      <td id=\"T_6352b_row4_col1\" class=\"data row4 col1\" >(22800, 24)</td>\n",
       "    </tr>\n",
       "    <tr>\n",
       "      <th id=\"T_6352b_level0_row5\" class=\"row_heading level0 row5\" >5</th>\n",
       "      <td id=\"T_6352b_row5_col0\" class=\"data row5 col0\" >Missing Values</td>\n",
       "      <td id=\"T_6352b_row5_col1\" class=\"data row5 col1\" >False</td>\n",
       "    </tr>\n",
       "    <tr>\n",
       "      <th id=\"T_6352b_level0_row6\" class=\"row_heading level0 row6\" >6</th>\n",
       "      <td id=\"T_6352b_row6_col0\" class=\"data row6 col0\" >Numeric Features</td>\n",
       "      <td id=\"T_6352b_row6_col1\" class=\"data row6 col1\" >14</td>\n",
       "    </tr>\n",
       "    <tr>\n",
       "      <th id=\"T_6352b_level0_row7\" class=\"row_heading level0 row7\" >7</th>\n",
       "      <td id=\"T_6352b_row7_col0\" class=\"data row7 col0\" >Categorical Features</td>\n",
       "      <td id=\"T_6352b_row7_col1\" class=\"data row7 col1\" >9</td>\n",
       "    </tr>\n",
       "    <tr>\n",
       "      <th id=\"T_6352b_level0_row8\" class=\"row_heading level0 row8\" >8</th>\n",
       "      <td id=\"T_6352b_row8_col0\" class=\"data row8 col0\" >Ordinal Features</td>\n",
       "      <td id=\"T_6352b_row8_col1\" class=\"data row8 col1\" >False</td>\n",
       "    </tr>\n",
       "    <tr>\n",
       "      <th id=\"T_6352b_level0_row9\" class=\"row_heading level0 row9\" >9</th>\n",
       "      <td id=\"T_6352b_row9_col0\" class=\"data row9 col0\" >High Cardinality Features</td>\n",
       "      <td id=\"T_6352b_row9_col1\" class=\"data row9 col1\" >False</td>\n",
       "    </tr>\n",
       "    <tr>\n",
       "      <th id=\"T_6352b_level0_row10\" class=\"row_heading level0 row10\" >10</th>\n",
       "      <td id=\"T_6352b_row10_col0\" class=\"data row10 col0\" >High Cardinality Method</td>\n",
       "      <td id=\"T_6352b_row10_col1\" class=\"data row10 col1\" >None</td>\n",
       "    </tr>\n",
       "    <tr>\n",
       "      <th id=\"T_6352b_level0_row11\" class=\"row_heading level0 row11\" >11</th>\n",
       "      <td id=\"T_6352b_row11_col0\" class=\"data row11 col0\" >Transformed Train Set</td>\n",
       "      <td id=\"T_6352b_row11_col1\" class=\"data row11 col1\" >(15959, 88)</td>\n",
       "    </tr>\n",
       "    <tr>\n",
       "      <th id=\"T_6352b_level0_row12\" class=\"row_heading level0 row12\" >12</th>\n",
       "      <td id=\"T_6352b_row12_col0\" class=\"data row12 col0\" >Transformed Test Set</td>\n",
       "      <td id=\"T_6352b_row12_col1\" class=\"data row12 col1\" >(6841, 88)</td>\n",
       "    </tr>\n",
       "    <tr>\n",
       "      <th id=\"T_6352b_level0_row13\" class=\"row_heading level0 row13\" >13</th>\n",
       "      <td id=\"T_6352b_row13_col0\" class=\"data row13 col0\" >Shuffle Train-Test</td>\n",
       "      <td id=\"T_6352b_row13_col1\" class=\"data row13 col1\" >True</td>\n",
       "    </tr>\n",
       "    <tr>\n",
       "      <th id=\"T_6352b_level0_row14\" class=\"row_heading level0 row14\" >14</th>\n",
       "      <td id=\"T_6352b_row14_col0\" class=\"data row14 col0\" >Stratify Train-Test</td>\n",
       "      <td id=\"T_6352b_row14_col1\" class=\"data row14 col1\" >False</td>\n",
       "    </tr>\n",
       "    <tr>\n",
       "      <th id=\"T_6352b_level0_row15\" class=\"row_heading level0 row15\" >15</th>\n",
       "      <td id=\"T_6352b_row15_col0\" class=\"data row15 col0\" >Fold Generator</td>\n",
       "      <td id=\"T_6352b_row15_col1\" class=\"data row15 col1\" >StratifiedKFold</td>\n",
       "    </tr>\n",
       "    <tr>\n",
       "      <th id=\"T_6352b_level0_row16\" class=\"row_heading level0 row16\" >16</th>\n",
       "      <td id=\"T_6352b_row16_col0\" class=\"data row16 col0\" >Fold Number</td>\n",
       "      <td id=\"T_6352b_row16_col1\" class=\"data row16 col1\" >10</td>\n",
       "    </tr>\n",
       "    <tr>\n",
       "      <th id=\"T_6352b_level0_row17\" class=\"row_heading level0 row17\" >17</th>\n",
       "      <td id=\"T_6352b_row17_col0\" class=\"data row17 col0\" >CPU Jobs</td>\n",
       "      <td id=\"T_6352b_row17_col1\" class=\"data row17 col1\" >-1</td>\n",
       "    </tr>\n",
       "    <tr>\n",
       "      <th id=\"T_6352b_level0_row18\" class=\"row_heading level0 row18\" >18</th>\n",
       "      <td id=\"T_6352b_row18_col0\" class=\"data row18 col0\" >Use GPU</td>\n",
       "      <td id=\"T_6352b_row18_col1\" class=\"data row18 col1\" >False</td>\n",
       "    </tr>\n",
       "    <tr>\n",
       "      <th id=\"T_6352b_level0_row19\" class=\"row_heading level0 row19\" >19</th>\n",
       "      <td id=\"T_6352b_row19_col0\" class=\"data row19 col0\" >Log Experiment</td>\n",
       "      <td id=\"T_6352b_row19_col1\" class=\"data row19 col1\" >False</td>\n",
       "    </tr>\n",
       "    <tr>\n",
       "      <th id=\"T_6352b_level0_row20\" class=\"row_heading level0 row20\" >20</th>\n",
       "      <td id=\"T_6352b_row20_col0\" class=\"data row20 col0\" >Experiment Name</td>\n",
       "      <td id=\"T_6352b_row20_col1\" class=\"data row20 col1\" >clf-default-name</td>\n",
       "    </tr>\n",
       "    <tr>\n",
       "      <th id=\"T_6352b_level0_row21\" class=\"row_heading level0 row21\" >21</th>\n",
       "      <td id=\"T_6352b_row21_col0\" class=\"data row21 col0\" >USI</td>\n",
       "      <td id=\"T_6352b_row21_col1\" class=\"data row21 col1\" >1e3a</td>\n",
       "    </tr>\n",
       "    <tr>\n",
       "      <th id=\"T_6352b_level0_row22\" class=\"row_heading level0 row22\" >22</th>\n",
       "      <td id=\"T_6352b_row22_col0\" class=\"data row22 col0\" >Imputation Type</td>\n",
       "      <td id=\"T_6352b_row22_col1\" class=\"data row22 col1\" >simple</td>\n",
       "    </tr>\n",
       "    <tr>\n",
       "      <th id=\"T_6352b_level0_row23\" class=\"row_heading level0 row23\" >23</th>\n",
       "      <td id=\"T_6352b_row23_col0\" class=\"data row23 col0\" >Iterative Imputation Iteration</td>\n",
       "      <td id=\"T_6352b_row23_col1\" class=\"data row23 col1\" >None</td>\n",
       "    </tr>\n",
       "    <tr>\n",
       "      <th id=\"T_6352b_level0_row24\" class=\"row_heading level0 row24\" >24</th>\n",
       "      <td id=\"T_6352b_row24_col0\" class=\"data row24 col0\" >Numeric Imputer</td>\n",
       "      <td id=\"T_6352b_row24_col1\" class=\"data row24 col1\" >mean</td>\n",
       "    </tr>\n",
       "    <tr>\n",
       "      <th id=\"T_6352b_level0_row25\" class=\"row_heading level0 row25\" >25</th>\n",
       "      <td id=\"T_6352b_row25_col0\" class=\"data row25 col0\" >Iterative Imputation Numeric Model</td>\n",
       "      <td id=\"T_6352b_row25_col1\" class=\"data row25 col1\" >None</td>\n",
       "    </tr>\n",
       "    <tr>\n",
       "      <th id=\"T_6352b_level0_row26\" class=\"row_heading level0 row26\" >26</th>\n",
       "      <td id=\"T_6352b_row26_col0\" class=\"data row26 col0\" >Categorical Imputer</td>\n",
       "      <td id=\"T_6352b_row26_col1\" class=\"data row26 col1\" >constant</td>\n",
       "    </tr>\n",
       "    <tr>\n",
       "      <th id=\"T_6352b_level0_row27\" class=\"row_heading level0 row27\" >27</th>\n",
       "      <td id=\"T_6352b_row27_col0\" class=\"data row27 col0\" >Iterative Imputation Categorical Model</td>\n",
       "      <td id=\"T_6352b_row27_col1\" class=\"data row27 col1\" >None</td>\n",
       "    </tr>\n",
       "    <tr>\n",
       "      <th id=\"T_6352b_level0_row28\" class=\"row_heading level0 row28\" >28</th>\n",
       "      <td id=\"T_6352b_row28_col0\" class=\"data row28 col0\" >Unknown Categoricals Handling</td>\n",
       "      <td id=\"T_6352b_row28_col1\" class=\"data row28 col1\" >least_frequent</td>\n",
       "    </tr>\n",
       "    <tr>\n",
       "      <th id=\"T_6352b_level0_row29\" class=\"row_heading level0 row29\" >29</th>\n",
       "      <td id=\"T_6352b_row29_col0\" class=\"data row29 col0\" >Normalize</td>\n",
       "      <td id=\"T_6352b_row29_col1\" class=\"data row29 col1\" >False</td>\n",
       "    </tr>\n",
       "    <tr>\n",
       "      <th id=\"T_6352b_level0_row30\" class=\"row_heading level0 row30\" >30</th>\n",
       "      <td id=\"T_6352b_row30_col0\" class=\"data row30 col0\" >Normalize Method</td>\n",
       "      <td id=\"T_6352b_row30_col1\" class=\"data row30 col1\" >None</td>\n",
       "    </tr>\n",
       "    <tr>\n",
       "      <th id=\"T_6352b_level0_row31\" class=\"row_heading level0 row31\" >31</th>\n",
       "      <td id=\"T_6352b_row31_col0\" class=\"data row31 col0\" >Transformation</td>\n",
       "      <td id=\"T_6352b_row31_col1\" class=\"data row31 col1\" >False</td>\n",
       "    </tr>\n",
       "    <tr>\n",
       "      <th id=\"T_6352b_level0_row32\" class=\"row_heading level0 row32\" >32</th>\n",
       "      <td id=\"T_6352b_row32_col0\" class=\"data row32 col0\" >Transformation Method</td>\n",
       "      <td id=\"T_6352b_row32_col1\" class=\"data row32 col1\" >None</td>\n",
       "    </tr>\n",
       "    <tr>\n",
       "      <th id=\"T_6352b_level0_row33\" class=\"row_heading level0 row33\" >33</th>\n",
       "      <td id=\"T_6352b_row33_col0\" class=\"data row33 col0\" >PCA</td>\n",
       "      <td id=\"T_6352b_row33_col1\" class=\"data row33 col1\" >False</td>\n",
       "    </tr>\n",
       "    <tr>\n",
       "      <th id=\"T_6352b_level0_row34\" class=\"row_heading level0 row34\" >34</th>\n",
       "      <td id=\"T_6352b_row34_col0\" class=\"data row34 col0\" >PCA Method</td>\n",
       "      <td id=\"T_6352b_row34_col1\" class=\"data row34 col1\" >None</td>\n",
       "    </tr>\n",
       "    <tr>\n",
       "      <th id=\"T_6352b_level0_row35\" class=\"row_heading level0 row35\" >35</th>\n",
       "      <td id=\"T_6352b_row35_col0\" class=\"data row35 col0\" >PCA Components</td>\n",
       "      <td id=\"T_6352b_row35_col1\" class=\"data row35 col1\" >None</td>\n",
       "    </tr>\n",
       "    <tr>\n",
       "      <th id=\"T_6352b_level0_row36\" class=\"row_heading level0 row36\" >36</th>\n",
       "      <td id=\"T_6352b_row36_col0\" class=\"data row36 col0\" >Ignore Low Variance</td>\n",
       "      <td id=\"T_6352b_row36_col1\" class=\"data row36 col1\" >False</td>\n",
       "    </tr>\n",
       "    <tr>\n",
       "      <th id=\"T_6352b_level0_row37\" class=\"row_heading level0 row37\" >37</th>\n",
       "      <td id=\"T_6352b_row37_col0\" class=\"data row37 col0\" >Combine Rare Levels</td>\n",
       "      <td id=\"T_6352b_row37_col1\" class=\"data row37 col1\" >False</td>\n",
       "    </tr>\n",
       "    <tr>\n",
       "      <th id=\"T_6352b_level0_row38\" class=\"row_heading level0 row38\" >38</th>\n",
       "      <td id=\"T_6352b_row38_col0\" class=\"data row38 col0\" >Rare Level Threshold</td>\n",
       "      <td id=\"T_6352b_row38_col1\" class=\"data row38 col1\" >None</td>\n",
       "    </tr>\n",
       "    <tr>\n",
       "      <th id=\"T_6352b_level0_row39\" class=\"row_heading level0 row39\" >39</th>\n",
       "      <td id=\"T_6352b_row39_col0\" class=\"data row39 col0\" >Numeric Binning</td>\n",
       "      <td id=\"T_6352b_row39_col1\" class=\"data row39 col1\" >False</td>\n",
       "    </tr>\n",
       "    <tr>\n",
       "      <th id=\"T_6352b_level0_row40\" class=\"row_heading level0 row40\" >40</th>\n",
       "      <td id=\"T_6352b_row40_col0\" class=\"data row40 col0\" >Remove Outliers</td>\n",
       "      <td id=\"T_6352b_row40_col1\" class=\"data row40 col1\" >False</td>\n",
       "    </tr>\n",
       "    <tr>\n",
       "      <th id=\"T_6352b_level0_row41\" class=\"row_heading level0 row41\" >41</th>\n",
       "      <td id=\"T_6352b_row41_col0\" class=\"data row41 col0\" >Outliers Threshold</td>\n",
       "      <td id=\"T_6352b_row41_col1\" class=\"data row41 col1\" >None</td>\n",
       "    </tr>\n",
       "    <tr>\n",
       "      <th id=\"T_6352b_level0_row42\" class=\"row_heading level0 row42\" >42</th>\n",
       "      <td id=\"T_6352b_row42_col0\" class=\"data row42 col0\" >Remove Multicollinearity</td>\n",
       "      <td id=\"T_6352b_row42_col1\" class=\"data row42 col1\" >False</td>\n",
       "    </tr>\n",
       "    <tr>\n",
       "      <th id=\"T_6352b_level0_row43\" class=\"row_heading level0 row43\" >43</th>\n",
       "      <td id=\"T_6352b_row43_col0\" class=\"data row43 col0\" >Multicollinearity Threshold</td>\n",
       "      <td id=\"T_6352b_row43_col1\" class=\"data row43 col1\" >None</td>\n",
       "    </tr>\n",
       "    <tr>\n",
       "      <th id=\"T_6352b_level0_row44\" class=\"row_heading level0 row44\" >44</th>\n",
       "      <td id=\"T_6352b_row44_col0\" class=\"data row44 col0\" >Remove Perfect Collinearity</td>\n",
       "      <td id=\"T_6352b_row44_col1\" class=\"data row44 col1\" >True</td>\n",
       "    </tr>\n",
       "    <tr>\n",
       "      <th id=\"T_6352b_level0_row45\" class=\"row_heading level0 row45\" >45</th>\n",
       "      <td id=\"T_6352b_row45_col0\" class=\"data row45 col0\" >Clustering</td>\n",
       "      <td id=\"T_6352b_row45_col1\" class=\"data row45 col1\" >False</td>\n",
       "    </tr>\n",
       "    <tr>\n",
       "      <th id=\"T_6352b_level0_row46\" class=\"row_heading level0 row46\" >46</th>\n",
       "      <td id=\"T_6352b_row46_col0\" class=\"data row46 col0\" >Clustering Iteration</td>\n",
       "      <td id=\"T_6352b_row46_col1\" class=\"data row46 col1\" >None</td>\n",
       "    </tr>\n",
       "    <tr>\n",
       "      <th id=\"T_6352b_level0_row47\" class=\"row_heading level0 row47\" >47</th>\n",
       "      <td id=\"T_6352b_row47_col0\" class=\"data row47 col0\" >Polynomial Features</td>\n",
       "      <td id=\"T_6352b_row47_col1\" class=\"data row47 col1\" >False</td>\n",
       "    </tr>\n",
       "    <tr>\n",
       "      <th id=\"T_6352b_level0_row48\" class=\"row_heading level0 row48\" >48</th>\n",
       "      <td id=\"T_6352b_row48_col0\" class=\"data row48 col0\" >Polynomial Degree</td>\n",
       "      <td id=\"T_6352b_row48_col1\" class=\"data row48 col1\" >None</td>\n",
       "    </tr>\n",
       "    <tr>\n",
       "      <th id=\"T_6352b_level0_row49\" class=\"row_heading level0 row49\" >49</th>\n",
       "      <td id=\"T_6352b_row49_col0\" class=\"data row49 col0\" >Trignometry Features</td>\n",
       "      <td id=\"T_6352b_row49_col1\" class=\"data row49 col1\" >False</td>\n",
       "    </tr>\n",
       "    <tr>\n",
       "      <th id=\"T_6352b_level0_row50\" class=\"row_heading level0 row50\" >50</th>\n",
       "      <td id=\"T_6352b_row50_col0\" class=\"data row50 col0\" >Polynomial Threshold</td>\n",
       "      <td id=\"T_6352b_row50_col1\" class=\"data row50 col1\" >None</td>\n",
       "    </tr>\n",
       "    <tr>\n",
       "      <th id=\"T_6352b_level0_row51\" class=\"row_heading level0 row51\" >51</th>\n",
       "      <td id=\"T_6352b_row51_col0\" class=\"data row51 col0\" >Group Features</td>\n",
       "      <td id=\"T_6352b_row51_col1\" class=\"data row51 col1\" >False</td>\n",
       "    </tr>\n",
       "    <tr>\n",
       "      <th id=\"T_6352b_level0_row52\" class=\"row_heading level0 row52\" >52</th>\n",
       "      <td id=\"T_6352b_row52_col0\" class=\"data row52 col0\" >Feature Selection</td>\n",
       "      <td id=\"T_6352b_row52_col1\" class=\"data row52 col1\" >False</td>\n",
       "    </tr>\n",
       "    <tr>\n",
       "      <th id=\"T_6352b_level0_row53\" class=\"row_heading level0 row53\" >53</th>\n",
       "      <td id=\"T_6352b_row53_col0\" class=\"data row53 col0\" >Feature Selection Method</td>\n",
       "      <td id=\"T_6352b_row53_col1\" class=\"data row53 col1\" >classic</td>\n",
       "    </tr>\n",
       "    <tr>\n",
       "      <th id=\"T_6352b_level0_row54\" class=\"row_heading level0 row54\" >54</th>\n",
       "      <td id=\"T_6352b_row54_col0\" class=\"data row54 col0\" >Features Selection Threshold</td>\n",
       "      <td id=\"T_6352b_row54_col1\" class=\"data row54 col1\" >None</td>\n",
       "    </tr>\n",
       "    <tr>\n",
       "      <th id=\"T_6352b_level0_row55\" class=\"row_heading level0 row55\" >55</th>\n",
       "      <td id=\"T_6352b_row55_col0\" class=\"data row55 col0\" >Feature Interaction</td>\n",
       "      <td id=\"T_6352b_row55_col1\" class=\"data row55 col1\" >False</td>\n",
       "    </tr>\n",
       "    <tr>\n",
       "      <th id=\"T_6352b_level0_row56\" class=\"row_heading level0 row56\" >56</th>\n",
       "      <td id=\"T_6352b_row56_col0\" class=\"data row56 col0\" >Feature Ratio</td>\n",
       "      <td id=\"T_6352b_row56_col1\" class=\"data row56 col1\" >False</td>\n",
       "    </tr>\n",
       "    <tr>\n",
       "      <th id=\"T_6352b_level0_row57\" class=\"row_heading level0 row57\" >57</th>\n",
       "      <td id=\"T_6352b_row57_col0\" class=\"data row57 col0\" >Interaction Threshold</td>\n",
       "      <td id=\"T_6352b_row57_col1\" class=\"data row57 col1\" >None</td>\n",
       "    </tr>\n",
       "    <tr>\n",
       "      <th id=\"T_6352b_level0_row58\" class=\"row_heading level0 row58\" >58</th>\n",
       "      <td id=\"T_6352b_row58_col0\" class=\"data row58 col0\" >Fix Imbalance</td>\n",
       "      <td id=\"T_6352b_row58_col1\" class=\"data row58 col1\" >False</td>\n",
       "    </tr>\n",
       "    <tr>\n",
       "      <th id=\"T_6352b_level0_row59\" class=\"row_heading level0 row59\" >59</th>\n",
       "      <td id=\"T_6352b_row59_col0\" class=\"data row59 col0\" >Fix Imbalance Method</td>\n",
       "      <td id=\"T_6352b_row59_col1\" class=\"data row59 col1\" >SMOTE</td>\n",
       "    </tr>\n",
       "  </tbody>\n",
       "</table>\n"
      ],
      "text/plain": [
       "<pandas.io.formats.style.Styler at 0x7f48f6825b50>"
      ]
     },
     "metadata": {},
     "output_type": "display_data"
    }
   ],
   "source": [
    "exp_clf101 = setup(data = data, target ='default', session_id=123)"
   ]
  },
  {
   "cell_type": "markdown",
   "metadata": {
    "pycharm": {
     "name": "#%% md\n"
    }
   },
   "source": [
    "\n",
    "Όταν ολοκληρωθεί η εγκατάσταση, τυπώνονται κάποιες πολύ χρήσιμες πληροφορίες. Οι περισσότερες αφορούν το pre-processing pipeline που δημιουργείται με την εκτέλεση της `setup`. Η πλειοψηφία των features δεν ενδιαφέρουν στο συγκεκριμένο μάθημα, ωστόσο υπάρχουν κάποιες λίγες, αλλά σημαντικές, επισημάνσεις που πρέπει να γίνουν σε αυτό το στάδιο:\n",
    "\n",
    "* **session_id :** Ένας ψευδο-τυχαίος αριθμός που διαμοιράζεται ως seed σε όλες τις συναρτήσεις, έτσι ώστε τα αποτελέσματα να μπορούν αν αναπαραχθούν. Αν δεν οριστεί το `session_id`, τότε παράγεται ένας τυχαίος αριθμός. Σε αυτό το πείραμα, το `session_id` θα ισούται `123` για να μπορούν να αναπαραχθούν τα αποτελέσματα σε μεταγενέστερο χρόνο.<br/>\n",
    "* **Target Type :** Binary (Δύο Κλάσεις) ή Multiclass (Πολλαπλών Κλάσεων). Το πλήθος των κλάσεων στο οποίο μπορεί να ταξινομηθεί η μεταβλητή-στόχος εντοπίζεται αυτόματα και εμφανίζεται. Δεν υπάρχει διαφορά στον τρόπο εκτέλεσης του πειράματος για ταξινόμηση σε δύο ή περισσότερες κλάσεις. Όλες οι λειτουργίες είναι πανομοιότυπες.<br/>\n",
    "* **Label Encoded :** Όταν η μεταβλητή-στόχος είναι τύπου συμβολοσειράς (string), για παράδειγμα «Ναι» ή «Όχι», ατνί για 1 ή 0, τότε η ετικέτα (label) κωδικοποιείται αυτόματα σετ 1 και 0 και εμφανίζεται η αντιστοίχιση (0 : Όχι, 1 : Ναι). Σε αυτό το πείραμα δεν απαιτείται η κωδικοποίηση της ετικέτας, επειδή η μεταβλητή-στόχος είναι ήδη αριθμητικού τύπου.<br/>\n",
    "* **Original Data :** Εμφανίζεται το αρχικό μέγεθος του συνόλου δεδομένων. Σε αυτό το πείραμα το (22800, 24) σημαίνει 22.800 δείγματα (samples) και 24 χαρακτηριστικά (features) συμπεριλαμβανομένου και της στήλης-στόχου. <br/>\n",
    "* **Missing Values :** Όταν λείπουν κάποιες τιμές στα αρχικά δεδομένα, τότε παίρνει την τιμή True (Αληθές). Σε αυτό το πείραμα δε λείπουν τιμές στο σύνολο δεδομένων.<br/>\n",
    "* **Numeric Features :** Το πλήθος των features που χαρακτηρίστηκαν ως αριθμητικά. Σε αυτό το dataset, 14 από τα 24 features χαρακτηρίστηκαν ως τέτοια.<br/>\n",
    "* **Categorical Features :** Το πλήθος των features που λαμβάνουν διακριτές τιμές (categorical). Σε αυτό το dataset, 9 από τα 24 features χαρακτηρίστηκαν ως τέτοια. <br/>\n",
    "* **Transformed Train Set :** Εμφανίζεται το μέγεθος του μετασχηματισμένου συνόλου δεδομένων εκπαίδευσης (training set). Παρατηρούμε ότι το αρχικό μέγεθος (22800, 24) μετασχηματίζεται σε (15959, 91) και το πλήθος των features αυξήθηκε σε 91 από 24 εξαιτίας της κωδικοποίησης των categorical features (δηλ. αυτών που λαμβάνουν διακριτές τιμές).<br/>\n",
    "* **Transformed Test Set :** Εμφανίζεται το μέγεθος του μετασχηματισμένου συνόλου δεδομένων ελέγχου (test / hold-out set) (ΣτΜ: Εδώ πρόκειται για ένα μέρος των Δεδομένων Μοντελοποίησης· δεν πρέπει να συγχέεται με τα Άγνωστα Δεδομένα. Για να το διαχωρίσει, λοιπόν, από το test set το αναφέρει ως test / hold-out set). Υπάρχουν 6.841 δείγματα (samples) στο σύνολο δεδομένων ελέγχου. Τα δεδομένα διαχωρίζονται βάσει της προεπιλεγμένης αναλογίας 70/30, αυτό μπορεί να αλλάξει ορίζοντας την τιμή της παραμέτρου `train_size` στη συνάρτηση `setup()`.<br/>\n",
    "\n",
    "Παρατηρούμε πως κάποιες εργασίες που είναι απαραίτητες για τη μοντελοποίηση γίνονται αυτόματα, όπως για παράδειγμα η διαχείριση των τιμών που λείπουν (σε αυτή την περίπτωση μπορεί να μη λείπουν τιμές στα δεδομένα εκπαίδευσης, αλλά εξακολουθούμε να χρειασόμαστε μια τέτοια διαχείριση για τα άγνωστα δεδομένα), η κωδικοποίηση των features που λαμβάνουν διακριτές (categorical encoding) κλπ. Οι περισσότερες παράμετροι της `setup()` είναι προαιρετικές και χρησιμοποιούνται για την εξατομίκευση του pre-processing pipeline. Αυτές οι παράμετροι είναι εκτός του πεδίου του συγκεκριμένου μαθήματος, αλλά καθώς προχωράτε στα επόμενα επίπεδα (μέσο και προχωρημένων), θα καλυφτούν με μεγαλύτερη λεπτομέρεια."
   ]
  },
  {
   "cell_type": "markdown",
   "metadata": {
    "pycharm": {
     "name": "#%% md\n"
    }
   },
   "source": [
    "# 7.0 Σύγκριση Όλων των Μοντέλων"
   ]
  },
  {
   "cell_type": "markdown",
   "metadata": {
    "pycharm": {
     "name": "#%% md\n"
    }
   },
   "source": [
    "Αφού έχει ολοκληρωθεί η εκατάσταση (setup), η σύγκριση όλων των μοντέλων για την αξιολόγηση της απόδοσής τους είναι το πρώτο βήμα που συνιστάται (εκτός αν γνωρίζετε επακριβώς ποιο είναι το μοντέλο που χρειάζεται, το οποίο δε συνηθίζεται). Αυτή η συνάρτηση εκπαιδεύει όλα τα μοντέλα που βρίσκονται στη βιβλιοθήκη και τα αξιολογεί χρησιμοποιώντας stratified cross validation. Στην έξοδο εμφανίζεται ένας πίνακας βαθμολόγησης με τις μέσες τιμές των Accuracy, AUC, Recall, Precision, F1, Kappa και MCC για όλα τα folds (ΣτΜ: Το cross validation χωρίζει τα δεδομένα εκπαίδευσης σε επιμέρους κομμάτια (folds) - το προεπιλεγμένο πλήθος αυτών των folds είναι 10. Μάλιστα όταν αυτός ο διαχωρισμός είναι stratified, τότε το ποσοστό των samples που ανήκουν στην ίδια κλάση είναι περίπου ίσο σε όλα τα folds.) καθώς και τους χρόνους εκπαίδευσης."
   ]
  },
  {
   "cell_type": "code",
   "execution_count": 6,
   "metadata": {
    "pycharm": {
     "name": "#%%\n"
    }
   },
   "outputs": [
    {
     "data": {
      "text/html": [
       "<style type=\"text/css\">\n",
       "#T_0c016 th {\n",
       "  text-align: left;\n",
       "}\n",
       "#T_0c016_row0_col0, #T_0c016_row0_col2, #T_0c016_row0_col3, #T_0c016_row0_col5, #T_0c016_row0_col6, #T_0c016_row0_col7, #T_0c016_row1_col0, #T_0c016_row1_col1, #T_0c016_row1_col2, #T_0c016_row1_col3, #T_0c016_row1_col4, #T_0c016_row2_col0, #T_0c016_row2_col1, #T_0c016_row2_col3, #T_0c016_row2_col4, #T_0c016_row2_col5, #T_0c016_row2_col6, #T_0c016_row2_col7, #T_0c016_row3_col0, #T_0c016_row3_col1, #T_0c016_row3_col2, #T_0c016_row3_col3, #T_0c016_row3_col4, #T_0c016_row3_col5, #T_0c016_row3_col6, #T_0c016_row3_col7, #T_0c016_row4_col0, #T_0c016_row4_col1, #T_0c016_row4_col2, #T_0c016_row4_col3, #T_0c016_row4_col4, #T_0c016_row4_col5, #T_0c016_row4_col6, #T_0c016_row4_col7, #T_0c016_row5_col0, #T_0c016_row5_col1, #T_0c016_row5_col2, #T_0c016_row5_col3, #T_0c016_row5_col4, #T_0c016_row5_col5, #T_0c016_row5_col6, #T_0c016_row5_col7, #T_0c016_row6_col0, #T_0c016_row6_col1, #T_0c016_row6_col2, #T_0c016_row6_col3, #T_0c016_row6_col4, #T_0c016_row6_col5, #T_0c016_row6_col6, #T_0c016_row6_col7, #T_0c016_row7_col0, #T_0c016_row7_col1, #T_0c016_row7_col2, #T_0c016_row7_col3, #T_0c016_row7_col4, #T_0c016_row7_col5, #T_0c016_row7_col6, #T_0c016_row7_col7, #T_0c016_row8_col0, #T_0c016_row8_col1, #T_0c016_row8_col2, #T_0c016_row8_col3, #T_0c016_row8_col4, #T_0c016_row8_col5, #T_0c016_row8_col6, #T_0c016_row8_col7, #T_0c016_row9_col0, #T_0c016_row9_col1, #T_0c016_row9_col2, #T_0c016_row9_col3, #T_0c016_row9_col4, #T_0c016_row9_col5, #T_0c016_row9_col6, #T_0c016_row9_col7, #T_0c016_row10_col0, #T_0c016_row10_col1, #T_0c016_row10_col2, #T_0c016_row10_col3, #T_0c016_row10_col4, #T_0c016_row10_col5, #T_0c016_row10_col6, #T_0c016_row10_col7, #T_0c016_row11_col0, #T_0c016_row11_col1, #T_0c016_row11_col2, #T_0c016_row11_col3, #T_0c016_row11_col4, #T_0c016_row11_col5, #T_0c016_row11_col6, #T_0c016_row11_col7, #T_0c016_row12_col0, #T_0c016_row12_col1, #T_0c016_row12_col2, #T_0c016_row12_col3, #T_0c016_row12_col4, #T_0c016_row12_col5, #T_0c016_row12_col6, #T_0c016_row12_col7, #T_0c016_row13_col0, #T_0c016_row13_col1, #T_0c016_row13_col2, #T_0c016_row13_col3, #T_0c016_row13_col4, #T_0c016_row13_col5, #T_0c016_row13_col6, #T_0c016_row13_col7, #T_0c016_row14_col0, #T_0c016_row14_col1, #T_0c016_row14_col2, #T_0c016_row14_col3, #T_0c016_row14_col4, #T_0c016_row14_col5, #T_0c016_row14_col6, #T_0c016_row14_col7, #T_0c016_row15_col0, #T_0c016_row15_col1, #T_0c016_row15_col2, #T_0c016_row15_col4, #T_0c016_row15_col5, #T_0c016_row15_col6, #T_0c016_row15_col7 {\n",
       "  text-align: left;\n",
       "}\n",
       "#T_0c016_row0_col1, #T_0c016_row0_col4, #T_0c016_row1_col5, #T_0c016_row1_col6, #T_0c016_row1_col7, #T_0c016_row2_col2, #T_0c016_row15_col3 {\n",
       "  text-align: left;\n",
       "  background-color: yellow;\n",
       "}\n",
       "#T_0c016_row0_col8, #T_0c016_row1_col8, #T_0c016_row2_col8, #T_0c016_row3_col8, #T_0c016_row4_col8, #T_0c016_row5_col8, #T_0c016_row6_col8, #T_0c016_row7_col8, #T_0c016_row8_col8, #T_0c016_row9_col8, #T_0c016_row11_col8, #T_0c016_row12_col8, #T_0c016_row13_col8, #T_0c016_row14_col8, #T_0c016_row15_col8 {\n",
       "  text-align: left;\n",
       "  background-color: lightgrey;\n",
       "}\n",
       "#T_0c016_row10_col8 {\n",
       "  text-align: left;\n",
       "  background-color: yellow;\n",
       "  background-color: lightgrey;\n",
       "}\n",
       "</style>\n",
       "<table id=\"T_0c016\">\n",
       "  <thead>\n",
       "    <tr>\n",
       "      <th class=\"blank level0\" >&nbsp;</th>\n",
       "      <th id=\"T_0c016_level0_col0\" class=\"col_heading level0 col0\" >Model</th>\n",
       "      <th id=\"T_0c016_level0_col1\" class=\"col_heading level0 col1\" >Accuracy</th>\n",
       "      <th id=\"T_0c016_level0_col2\" class=\"col_heading level0 col2\" >AUC</th>\n",
       "      <th id=\"T_0c016_level0_col3\" class=\"col_heading level0 col3\" >Recall</th>\n",
       "      <th id=\"T_0c016_level0_col4\" class=\"col_heading level0 col4\" >Prec.</th>\n",
       "      <th id=\"T_0c016_level0_col5\" class=\"col_heading level0 col5\" >F1</th>\n",
       "      <th id=\"T_0c016_level0_col6\" class=\"col_heading level0 col6\" >Kappa</th>\n",
       "      <th id=\"T_0c016_level0_col7\" class=\"col_heading level0 col7\" >MCC</th>\n",
       "      <th id=\"T_0c016_level0_col8\" class=\"col_heading level0 col8\" >TT (Sec)</th>\n",
       "    </tr>\n",
       "  </thead>\n",
       "  <tbody>\n",
       "    <tr>\n",
       "      <th id=\"T_0c016_level0_row0\" class=\"row_heading level0 row0\" >ridge</th>\n",
       "      <td id=\"T_0c016_row0_col0\" class=\"data row0 col0\" >Ridge Classifier</td>\n",
       "      <td id=\"T_0c016_row0_col1\" class=\"data row0 col1\" >0.8254</td>\n",
       "      <td id=\"T_0c016_row0_col2\" class=\"data row0 col2\" >0.0000</td>\n",
       "      <td id=\"T_0c016_row0_col3\" class=\"data row0 col3\" >0.3637</td>\n",
       "      <td id=\"T_0c016_row0_col4\" class=\"data row0 col4\" >0.6913</td>\n",
       "      <td id=\"T_0c016_row0_col5\" class=\"data row0 col5\" >0.4764</td>\n",
       "      <td id=\"T_0c016_row0_col6\" class=\"data row0 col6\" >0.3836</td>\n",
       "      <td id=\"T_0c016_row0_col7\" class=\"data row0 col7\" >0.4122</td>\n",
       "      <td id=\"T_0c016_row0_col8\" class=\"data row0 col8\" >0.0180</td>\n",
       "    </tr>\n",
       "    <tr>\n",
       "      <th id=\"T_0c016_level0_row1\" class=\"row_heading level0 row1\" >lda</th>\n",
       "      <td id=\"T_0c016_row1_col0\" class=\"data row1 col0\" >Linear Discriminant Analysis</td>\n",
       "      <td id=\"T_0c016_row1_col1\" class=\"data row1 col1\" >0.8247</td>\n",
       "      <td id=\"T_0c016_row1_col2\" class=\"data row1 col2\" >0.7634</td>\n",
       "      <td id=\"T_0c016_row1_col3\" class=\"data row1 col3\" >0.3755</td>\n",
       "      <td id=\"T_0c016_row1_col4\" class=\"data row1 col4\" >0.6794</td>\n",
       "      <td id=\"T_0c016_row1_col5\" class=\"data row1 col5\" >0.4835</td>\n",
       "      <td id=\"T_0c016_row1_col6\" class=\"data row1 col6\" >0.3884</td>\n",
       "      <td id=\"T_0c016_row1_col7\" class=\"data row1 col7\" >0.4132</td>\n",
       "      <td id=\"T_0c016_row1_col8\" class=\"data row1 col8\" >0.1270</td>\n",
       "    </tr>\n",
       "    <tr>\n",
       "      <th id=\"T_0c016_level0_row2\" class=\"row_heading level0 row2\" >gbc</th>\n",
       "      <td id=\"T_0c016_row2_col0\" class=\"data row2 col0\" >Gradient Boosting Classifier</td>\n",
       "      <td id=\"T_0c016_row2_col1\" class=\"data row2 col1\" >0.8226</td>\n",
       "      <td id=\"T_0c016_row2_col2\" class=\"data row2 col2\" >0.7789</td>\n",
       "      <td id=\"T_0c016_row2_col3\" class=\"data row2 col3\" >0.3551</td>\n",
       "      <td id=\"T_0c016_row2_col4\" class=\"data row2 col4\" >0.6806</td>\n",
       "      <td id=\"T_0c016_row2_col5\" class=\"data row2 col5\" >0.4664</td>\n",
       "      <td id=\"T_0c016_row2_col6\" class=\"data row2 col6\" >0.3725</td>\n",
       "      <td id=\"T_0c016_row2_col7\" class=\"data row2 col7\" >0.4010</td>\n",
       "      <td id=\"T_0c016_row2_col8\" class=\"data row2 col8\" >0.6050</td>\n",
       "    </tr>\n",
       "    <tr>\n",
       "      <th id=\"T_0c016_level0_row3\" class=\"row_heading level0 row3\" >ada</th>\n",
       "      <td id=\"T_0c016_row3_col0\" class=\"data row3 col0\" >Ada Boost Classifier</td>\n",
       "      <td id=\"T_0c016_row3_col1\" class=\"data row3 col1\" >0.8221</td>\n",
       "      <td id=\"T_0c016_row3_col2\" class=\"data row3 col2\" >0.7697</td>\n",
       "      <td id=\"T_0c016_row3_col3\" class=\"data row3 col3\" >0.3505</td>\n",
       "      <td id=\"T_0c016_row3_col4\" class=\"data row3 col4\" >0.6811</td>\n",
       "      <td id=\"T_0c016_row3_col5\" class=\"data row3 col5\" >0.4626</td>\n",
       "      <td id=\"T_0c016_row3_col6\" class=\"data row3 col6\" >0.3690</td>\n",
       "      <td id=\"T_0c016_row3_col7\" class=\"data row3 col7\" >0.3983</td>\n",
       "      <td id=\"T_0c016_row3_col8\" class=\"data row3 col8\" >0.1550</td>\n",
       "    </tr>\n",
       "    <tr>\n",
       "      <th id=\"T_0c016_level0_row4\" class=\"row_heading level0 row4\" >catboost</th>\n",
       "      <td id=\"T_0c016_row4_col0\" class=\"data row4 col0\" >CatBoost Classifier</td>\n",
       "      <td id=\"T_0c016_row4_col1\" class=\"data row4 col1\" >0.8219</td>\n",
       "      <td id=\"T_0c016_row4_col2\" class=\"data row4 col2\" >0.7762</td>\n",
       "      <td id=\"T_0c016_row4_col3\" class=\"data row4 col3\" >0.3631</td>\n",
       "      <td id=\"T_0c016_row4_col4\" class=\"data row4 col4\" >0.6712</td>\n",
       "      <td id=\"T_0c016_row4_col5\" class=\"data row4 col5\" >0.4711</td>\n",
       "      <td id=\"T_0c016_row4_col6\" class=\"data row4 col6\" >0.3753</td>\n",
       "      <td id=\"T_0c016_row4_col7\" class=\"data row4 col7\" >0.4010</td>\n",
       "      <td id=\"T_0c016_row4_col8\" class=\"data row4 col8\" >5.7750</td>\n",
       "    </tr>\n",
       "    <tr>\n",
       "      <th id=\"T_0c016_level0_row5\" class=\"row_heading level0 row5\" >lightgbm</th>\n",
       "      <td id=\"T_0c016_row5_col0\" class=\"data row5 col0\" >Light Gradient Boosting Machine</td>\n",
       "      <td id=\"T_0c016_row5_col1\" class=\"data row5 col1\" >0.8210</td>\n",
       "      <td id=\"T_0c016_row5_col2\" class=\"data row5 col2\" >0.7750</td>\n",
       "      <td id=\"T_0c016_row5_col3\" class=\"data row5 col3\" >0.3609</td>\n",
       "      <td id=\"T_0c016_row5_col4\" class=\"data row5 col4\" >0.6679</td>\n",
       "      <td id=\"T_0c016_row5_col5\" class=\"data row5 col5\" >0.4683</td>\n",
       "      <td id=\"T_0c016_row5_col6\" class=\"data row5 col6\" >0.3721</td>\n",
       "      <td id=\"T_0c016_row5_col7\" class=\"data row5 col7\" >0.3977</td>\n",
       "      <td id=\"T_0c016_row5_col8\" class=\"data row5 col8\" >0.0560</td>\n",
       "    </tr>\n",
       "    <tr>\n",
       "      <th id=\"T_0c016_level0_row6\" class=\"row_heading level0 row6\" >rf</th>\n",
       "      <td id=\"T_0c016_row6_col0\" class=\"data row6 col0\" >Random Forest Classifier</td>\n",
       "      <td id=\"T_0c016_row6_col1\" class=\"data row6 col1\" >0.8199</td>\n",
       "      <td id=\"T_0c016_row6_col2\" class=\"data row6 col2\" >0.7598</td>\n",
       "      <td id=\"T_0c016_row6_col3\" class=\"data row6 col3\" >0.3663</td>\n",
       "      <td id=\"T_0c016_row6_col4\" class=\"data row6 col4\" >0.6601</td>\n",
       "      <td id=\"T_0c016_row6_col5\" class=\"data row6 col5\" >0.4707</td>\n",
       "      <td id=\"T_0c016_row6_col6\" class=\"data row6 col6\" >0.3727</td>\n",
       "      <td id=\"T_0c016_row6_col7\" class=\"data row6 col7\" >0.3965</td>\n",
       "      <td id=\"T_0c016_row6_col8\" class=\"data row6 col8\" >0.3480</td>\n",
       "    </tr>\n",
       "    <tr>\n",
       "      <th id=\"T_0c016_level0_row7\" class=\"row_heading level0 row7\" >xgboost</th>\n",
       "      <td id=\"T_0c016_row7_col0\" class=\"data row7 col0\" >Extreme Gradient Boosting</td>\n",
       "      <td id=\"T_0c016_row7_col1\" class=\"data row7 col1\" >0.8160</td>\n",
       "      <td id=\"T_0c016_row7_col2\" class=\"data row7 col2\" >0.7561</td>\n",
       "      <td id=\"T_0c016_row7_col3\" class=\"data row7 col3\" >0.3629</td>\n",
       "      <td id=\"T_0c016_row7_col4\" class=\"data row7 col4\" >0.6391</td>\n",
       "      <td id=\"T_0c016_row7_col5\" class=\"data row7 col5\" >0.4626</td>\n",
       "      <td id=\"T_0c016_row7_col6\" class=\"data row7 col6\" >0.3617</td>\n",
       "      <td id=\"T_0c016_row7_col7\" class=\"data row7 col7\" >0.3829</td>\n",
       "      <td id=\"T_0c016_row7_col8\" class=\"data row7 col8\" >0.7300</td>\n",
       "    </tr>\n",
       "    <tr>\n",
       "      <th id=\"T_0c016_level0_row8\" class=\"row_heading level0 row8\" >et</th>\n",
       "      <td id=\"T_0c016_row8_col0\" class=\"data row8 col0\" >Extra Trees Classifier</td>\n",
       "      <td id=\"T_0c016_row8_col1\" class=\"data row8 col1\" >0.8092</td>\n",
       "      <td id=\"T_0c016_row8_col2\" class=\"data row8 col2\" >0.7377</td>\n",
       "      <td id=\"T_0c016_row8_col3\" class=\"data row8 col3\" >0.3677</td>\n",
       "      <td id=\"T_0c016_row8_col4\" class=\"data row8 col4\" >0.6047</td>\n",
       "      <td id=\"T_0c016_row8_col5\" class=\"data row8 col5\" >0.4571</td>\n",
       "      <td id=\"T_0c016_row8_col6\" class=\"data row8 col6\" >0.3497</td>\n",
       "      <td id=\"T_0c016_row8_col7\" class=\"data row8 col7\" >0.3657</td>\n",
       "      <td id=\"T_0c016_row8_col8\" class=\"data row8 col8\" >0.3720</td>\n",
       "    </tr>\n",
       "    <tr>\n",
       "      <th id=\"T_0c016_level0_row9\" class=\"row_heading level0 row9\" >lr</th>\n",
       "      <td id=\"T_0c016_row9_col0\" class=\"data row9 col0\" >Logistic Regression</td>\n",
       "      <td id=\"T_0c016_row9_col1\" class=\"data row9 col1\" >0.7814</td>\n",
       "      <td id=\"T_0c016_row9_col2\" class=\"data row9 col2\" >0.6410</td>\n",
       "      <td id=\"T_0c016_row9_col3\" class=\"data row9 col3\" >0.0003</td>\n",
       "      <td id=\"T_0c016_row9_col4\" class=\"data row9 col4\" >0.1000</td>\n",
       "      <td id=\"T_0c016_row9_col5\" class=\"data row9 col5\" >0.0006</td>\n",
       "      <td id=\"T_0c016_row9_col6\" class=\"data row9 col6\" >0.0003</td>\n",
       "      <td id=\"T_0c016_row9_col7\" class=\"data row9 col7\" >0.0034</td>\n",
       "      <td id=\"T_0c016_row9_col8\" class=\"data row9 col8\" >0.4530</td>\n",
       "    </tr>\n",
       "    <tr>\n",
       "      <th id=\"T_0c016_level0_row10\" class=\"row_heading level0 row10\" >dummy</th>\n",
       "      <td id=\"T_0c016_row10_col0\" class=\"data row10 col0\" >Dummy Classifier</td>\n",
       "      <td id=\"T_0c016_row10_col1\" class=\"data row10 col1\" >0.7814</td>\n",
       "      <td id=\"T_0c016_row10_col2\" class=\"data row10 col2\" >0.5000</td>\n",
       "      <td id=\"T_0c016_row10_col3\" class=\"data row10 col3\" >0.0000</td>\n",
       "      <td id=\"T_0c016_row10_col4\" class=\"data row10 col4\" >0.0000</td>\n",
       "      <td id=\"T_0c016_row10_col5\" class=\"data row10 col5\" >0.0000</td>\n",
       "      <td id=\"T_0c016_row10_col6\" class=\"data row10 col6\" >0.0000</td>\n",
       "      <td id=\"T_0c016_row10_col7\" class=\"data row10 col7\" >0.0000</td>\n",
       "      <td id=\"T_0c016_row10_col8\" class=\"data row10 col8\" >0.0130</td>\n",
       "    </tr>\n",
       "    <tr>\n",
       "      <th id=\"T_0c016_level0_row11\" class=\"row_heading level0 row11\" >knn</th>\n",
       "      <td id=\"T_0c016_row11_col0\" class=\"data row11 col0\" >K Neighbors Classifier</td>\n",
       "      <td id=\"T_0c016_row11_col1\" class=\"data row11 col1\" >0.7547</td>\n",
       "      <td id=\"T_0c016_row11_col2\" class=\"data row11 col2\" >0.5939</td>\n",
       "      <td id=\"T_0c016_row11_col3\" class=\"data row11 col3\" >0.1763</td>\n",
       "      <td id=\"T_0c016_row11_col4\" class=\"data row11 col4\" >0.3719</td>\n",
       "      <td id=\"T_0c016_row11_col5\" class=\"data row11 col5\" >0.2388</td>\n",
       "      <td id=\"T_0c016_row11_col6\" class=\"data row11 col6\" >0.1145</td>\n",
       "      <td id=\"T_0c016_row11_col7\" class=\"data row11 col7\" >0.1259</td>\n",
       "      <td id=\"T_0c016_row11_col8\" class=\"data row11 col8\" >0.2350</td>\n",
       "    </tr>\n",
       "    <tr>\n",
       "      <th id=\"T_0c016_level0_row12\" class=\"row_heading level0 row12\" >dt</th>\n",
       "      <td id=\"T_0c016_row12_col0\" class=\"data row12 col0\" >Decision Tree Classifier</td>\n",
       "      <td id=\"T_0c016_row12_col1\" class=\"data row12 col1\" >0.7293</td>\n",
       "      <td id=\"T_0c016_row12_col2\" class=\"data row12 col2\" >0.6147</td>\n",
       "      <td id=\"T_0c016_row12_col3\" class=\"data row12 col3\" >0.4104</td>\n",
       "      <td id=\"T_0c016_row12_col4\" class=\"data row12 col4\" >0.3878</td>\n",
       "      <td id=\"T_0c016_row12_col5\" class=\"data row12 col5\" >0.3986</td>\n",
       "      <td id=\"T_0c016_row12_col6\" class=\"data row12 col6\" >0.2242</td>\n",
       "      <td id=\"T_0c016_row12_col7\" class=\"data row12 col7\" >0.2245</td>\n",
       "      <td id=\"T_0c016_row12_col8\" class=\"data row12 col8\" >0.0560</td>\n",
       "    </tr>\n",
       "    <tr>\n",
       "      <th id=\"T_0c016_level0_row13\" class=\"row_heading level0 row13\" >svm</th>\n",
       "      <td id=\"T_0c016_row13_col0\" class=\"data row13 col0\" >SVM - Linear Kernel</td>\n",
       "      <td id=\"T_0c016_row13_col1\" class=\"data row13 col1\" >0.7277</td>\n",
       "      <td id=\"T_0c016_row13_col2\" class=\"data row13 col2\" >0.0000</td>\n",
       "      <td id=\"T_0c016_row13_col3\" class=\"data row13 col3\" >0.1017</td>\n",
       "      <td id=\"T_0c016_row13_col4\" class=\"data row13 col4\" >0.1671</td>\n",
       "      <td id=\"T_0c016_row13_col5\" class=\"data row13 col5\" >0.0984</td>\n",
       "      <td id=\"T_0c016_row13_col6\" class=\"data row13 col6\" >0.0067</td>\n",
       "      <td id=\"T_0c016_row13_col7\" class=\"data row13 col7\" >0.0075</td>\n",
       "      <td id=\"T_0c016_row13_col8\" class=\"data row13 col8\" >0.1000</td>\n",
       "    </tr>\n",
       "    <tr>\n",
       "      <th id=\"T_0c016_level0_row14\" class=\"row_heading level0 row14\" >qda</th>\n",
       "      <td id=\"T_0c016_row14_col0\" class=\"data row14 col0\" >Quadratic Discriminant Analysis</td>\n",
       "      <td id=\"T_0c016_row14_col1\" class=\"data row14 col1\" >0.5098</td>\n",
       "      <td id=\"T_0c016_row14_col2\" class=\"data row14 col2\" >0.5473</td>\n",
       "      <td id=\"T_0c016_row14_col3\" class=\"data row14 col3\" >0.6141</td>\n",
       "      <td id=\"T_0c016_row14_col4\" class=\"data row14 col4\" >0.2472</td>\n",
       "      <td id=\"T_0c016_row14_col5\" class=\"data row14 col5\" >0.3488</td>\n",
       "      <td id=\"T_0c016_row14_col6\" class=\"data row14 col6\" >0.0600</td>\n",
       "      <td id=\"T_0c016_row14_col7\" class=\"data row14 col7\" >0.0805</td>\n",
       "      <td id=\"T_0c016_row14_col8\" class=\"data row14 col8\" >0.1110</td>\n",
       "    </tr>\n",
       "    <tr>\n",
       "      <th id=\"T_0c016_level0_row15\" class=\"row_heading level0 row15\" >nb</th>\n",
       "      <td id=\"T_0c016_row15_col0\" class=\"data row15 col0\" >Naive Bayes</td>\n",
       "      <td id=\"T_0c016_row15_col1\" class=\"data row15 col1\" >0.3760</td>\n",
       "      <td id=\"T_0c016_row15_col2\" class=\"data row15 col2\" >0.6442</td>\n",
       "      <td id=\"T_0c016_row15_col3\" class=\"data row15 col3\" >0.8845</td>\n",
       "      <td id=\"T_0c016_row15_col4\" class=\"data row15 col4\" >0.2441</td>\n",
       "      <td id=\"T_0c016_row15_col5\" class=\"data row15 col5\" >0.3826</td>\n",
       "      <td id=\"T_0c016_row15_col6\" class=\"data row15 col6\" >0.0608</td>\n",
       "      <td id=\"T_0c016_row15_col7\" class=\"data row15 col7\" >0.1207</td>\n",
       "      <td id=\"T_0c016_row15_col8\" class=\"data row15 col8\" >0.0190</td>\n",
       "    </tr>\n",
       "  </tbody>\n",
       "</table>\n"
      ],
      "text/plain": [
       "<pandas.io.formats.style.Styler at 0x7f48f6763b80>"
      ]
     },
     "metadata": {},
     "output_type": "display_data"
    }
   ],
   "source": [
    "best_model = compare_models()"
   ]
  },
  {
   "cell_type": "markdown",
   "metadata": {
    "pycharm": {
     "name": "#%% md\n"
    }
   },
   "source": [
    "Με δύο απλές λέξεις κώδικα ***(ούτε καν μια ολόκληρη γραμμή κώδικα)*** έχουμε εκπαιδεύσει και αξιολογήσει περισσότερα από 15 μοντέλα χρησιμοποιώντας cross validation. Ο πίνακας βαθμολόγησης επισημαίνει με έντονο χρώμα της καλύτερες επιδόσεις για λόγους σύγκρισης. Ο πίνακας κατατάσσεται με βάση το 'Accuracy', από το υψηλότερο στο χαμηλότερο. Αυτή η προεπιλογή (δηλ. το Accuracy) μπορεί να αλλάξει χρησιμοποιώντας την παράμετρο `sort`. Για παράδειγμα, το `compare_models(sort = 'Recall')` θα κατατάξει τον πίνακα βαθμολόγησης με βάση το Recall αντί του Accuracy. Αν θέλετε να αλλάξετε την προεπιλεγμένη τιμή για το πλήθος των folds (`10`) σε κάποια άλλη, τότε μπορείτε να χρησιμοποιήσετε την παράμετρο `fold`. Για παράδειγμα, το `compare_models(fold = 5)` θα συγκρίνει όλα τα μοντέλα κάνοντας 5 fold cross validation. Η μείωση του πλήθους των folds θα βελτιώσει το χρόνο εκπαίδευσης. Εκ προεπιλογής, το `compare_models` επιστρέφει το μοντέλο με την καλύτερη απόδοση με βάση την προεπιλεγμένη σειρά κατάταξης, αλλά μπορεί επίσης να επιστρέψει μια λίστα με τα N καλύτερα μοντέλα χρησιμοποιώντας την παράμετρο `n_select`."
   ]
  },
  {
   "cell_type": "code",
   "execution_count": 7,
   "metadata": {
    "pycharm": {
     "name": "#%%\n"
    }
   },
   "outputs": [
    {
     "name": "stdout",
     "output_type": "stream",
     "text": [
      "RidgeClassifier(alpha=1.0, class_weight=None, copy_X=True, fit_intercept=True,\n",
      "                max_iter=None, normalize=False, random_state=123, solver='auto',\n",
      "                tol=0.001)\n"
     ]
    }
   ],
   "source": [
    "print(best_model)"
   ]
  },
  {
   "cell_type": "markdown",
   "metadata": {
    "pycharm": {
     "name": "#%% md\n"
    }
   },
   "source": [
    "# 8.0 Δημιουργία ενός Μοντέλου"
   ]
  },
  {
   "cell_type": "markdown",
   "metadata": {
    "pycharm": {
     "name": "#%% md\n"
    }
   },
   "source": [
    "Η συνάρτηση `create_model` αποτελεί τη θεμελιωδέστερη της PyCaret και συχνά αποτελεί τη βάση πάνω στην οποία αναπτύσσονται όλες οι λειτουργίες της PyCaret. Όπως προδίδει και το όνομα της, αυτή η συνάρτηση εκπαιδεύει και αξιολογεί ένα μοντέλο χρησιμοποιώντας cross validation - το τελευταίο μπορεί να οριστεί με την παράμετρο `fold`. Στην έξοδο εκτυπώνεται ένας πίνακας βαθμολόγησης που δείχνει τις τιμές των Accuracy, AUC, Recall, Precision, F1, Kappa και MCC ανά fold.\n",
    "\n",
    "Σε όλο το υπόλοιπο μάθημα θα δουλέψουμε με τα μοντέλα που παραθέτονται παρακάτω· θα τα ορίσουμε ως υποψήφια μοντέλα. Η επιλογή των μοντέλων έγινε καθαρά για λόγους επίδειξης και δε σημαίνει, απαραιτήτως, ότι έχουν την καλύτερη απόδοση ή είναι τα ιδανικότερα γι' αυτό τον τύπο δεδομένων.\n",
    "\n",
    "- Decision Tree Classifier ('dt')\n",
    "- K Neighbors Classifier ('knn')\n",
    "- Random Forest Classifier ('rf')\n",
    "\n",
    "Υπάρχουν περισσότεροι από 18 ταξινομητές στη βιβλιοθήκη μοντέλων της PyCaret. Για να δείτε μια λίστα με όλους τους ταξινομητές μπορείτε να ελέγξετε το `docstring` ή να χρησιμοποιήσετε τη συνάρτηση `models`."
   ]
  },
  {
   "cell_type": "code",
   "execution_count": 8,
   "metadata": {
    "pycharm": {
     "name": "#%%\n"
    }
   },
   "outputs": [
    {
     "data": {
      "text/html": [
       "<div>\n",
       "<style scoped>\n",
       "    .dataframe tbody tr th:only-of-type {\n",
       "        vertical-align: middle;\n",
       "    }\n",
       "\n",
       "    .dataframe tbody tr th {\n",
       "        vertical-align: top;\n",
       "    }\n",
       "\n",
       "    .dataframe thead th {\n",
       "        text-align: right;\n",
       "    }\n",
       "</style>\n",
       "<table border=\"1\" class=\"dataframe\">\n",
       "  <thead>\n",
       "    <tr style=\"text-align: right;\">\n",
       "      <th></th>\n",
       "      <th>Name</th>\n",
       "      <th>Reference</th>\n",
       "      <th>Turbo</th>\n",
       "    </tr>\n",
       "    <tr>\n",
       "      <th>ID</th>\n",
       "      <th></th>\n",
       "      <th></th>\n",
       "      <th></th>\n",
       "    </tr>\n",
       "  </thead>\n",
       "  <tbody>\n",
       "    <tr>\n",
       "      <th>lr</th>\n",
       "      <td>Logistic Regression</td>\n",
       "      <td>sklearn.linear_model._logistic.LogisticRegression</td>\n",
       "      <td>True</td>\n",
       "    </tr>\n",
       "    <tr>\n",
       "      <th>knn</th>\n",
       "      <td>K Neighbors Classifier</td>\n",
       "      <td>sklearn.neighbors._classification.KNeighborsCl...</td>\n",
       "      <td>True</td>\n",
       "    </tr>\n",
       "    <tr>\n",
       "      <th>nb</th>\n",
       "      <td>Naive Bayes</td>\n",
       "      <td>sklearn.naive_bayes.GaussianNB</td>\n",
       "      <td>True</td>\n",
       "    </tr>\n",
       "    <tr>\n",
       "      <th>dt</th>\n",
       "      <td>Decision Tree Classifier</td>\n",
       "      <td>sklearn.tree._classes.DecisionTreeClassifier</td>\n",
       "      <td>True</td>\n",
       "    </tr>\n",
       "    <tr>\n",
       "      <th>svm</th>\n",
       "      <td>SVM - Linear Kernel</td>\n",
       "      <td>sklearn.linear_model._stochastic_gradient.SGDC...</td>\n",
       "      <td>True</td>\n",
       "    </tr>\n",
       "    <tr>\n",
       "      <th>rbfsvm</th>\n",
       "      <td>SVM - Radial Kernel</td>\n",
       "      <td>sklearn.svm._classes.SVC</td>\n",
       "      <td>False</td>\n",
       "    </tr>\n",
       "    <tr>\n",
       "      <th>gpc</th>\n",
       "      <td>Gaussian Process Classifier</td>\n",
       "      <td>sklearn.gaussian_process._gpc.GaussianProcessC...</td>\n",
       "      <td>False</td>\n",
       "    </tr>\n",
       "    <tr>\n",
       "      <th>mlp</th>\n",
       "      <td>MLP Classifier</td>\n",
       "      <td>sklearn.neural_network._multilayer_perceptron....</td>\n",
       "      <td>False</td>\n",
       "    </tr>\n",
       "    <tr>\n",
       "      <th>ridge</th>\n",
       "      <td>Ridge Classifier</td>\n",
       "      <td>sklearn.linear_model._ridge.RidgeClassifier</td>\n",
       "      <td>True</td>\n",
       "    </tr>\n",
       "    <tr>\n",
       "      <th>rf</th>\n",
       "      <td>Random Forest Classifier</td>\n",
       "      <td>sklearn.ensemble._forest.RandomForestClassifier</td>\n",
       "      <td>True</td>\n",
       "    </tr>\n",
       "    <tr>\n",
       "      <th>qda</th>\n",
       "      <td>Quadratic Discriminant Analysis</td>\n",
       "      <td>sklearn.discriminant_analysis.QuadraticDiscrim...</td>\n",
       "      <td>True</td>\n",
       "    </tr>\n",
       "    <tr>\n",
       "      <th>ada</th>\n",
       "      <td>Ada Boost Classifier</td>\n",
       "      <td>sklearn.ensemble._weight_boosting.AdaBoostClas...</td>\n",
       "      <td>True</td>\n",
       "    </tr>\n",
       "    <tr>\n",
       "      <th>gbc</th>\n",
       "      <td>Gradient Boosting Classifier</td>\n",
       "      <td>sklearn.ensemble._gb.GradientBoostingClassifier</td>\n",
       "      <td>True</td>\n",
       "    </tr>\n",
       "    <tr>\n",
       "      <th>lda</th>\n",
       "      <td>Linear Discriminant Analysis</td>\n",
       "      <td>sklearn.discriminant_analysis.LinearDiscrimina...</td>\n",
       "      <td>True</td>\n",
       "    </tr>\n",
       "    <tr>\n",
       "      <th>et</th>\n",
       "      <td>Extra Trees Classifier</td>\n",
       "      <td>sklearn.ensemble._forest.ExtraTreesClassifier</td>\n",
       "      <td>True</td>\n",
       "    </tr>\n",
       "    <tr>\n",
       "      <th>xgboost</th>\n",
       "      <td>Extreme Gradient Boosting</td>\n",
       "      <td>xgboost.sklearn.XGBClassifier</td>\n",
       "      <td>True</td>\n",
       "    </tr>\n",
       "    <tr>\n",
       "      <th>lightgbm</th>\n",
       "      <td>Light Gradient Boosting Machine</td>\n",
       "      <td>lightgbm.sklearn.LGBMClassifier</td>\n",
       "      <td>True</td>\n",
       "    </tr>\n",
       "    <tr>\n",
       "      <th>catboost</th>\n",
       "      <td>CatBoost Classifier</td>\n",
       "      <td>catboost.core.CatBoostClassifier</td>\n",
       "      <td>True</td>\n",
       "    </tr>\n",
       "    <tr>\n",
       "      <th>dummy</th>\n",
       "      <td>Dummy Classifier</td>\n",
       "      <td>sklearn.dummy.DummyClassifier</td>\n",
       "      <td>True</td>\n",
       "    </tr>\n",
       "  </tbody>\n",
       "</table>\n",
       "</div>"
      ],
      "text/plain": [
       "                                     Name  \\\n",
       "ID                                          \n",
       "lr                    Logistic Regression   \n",
       "knn                K Neighbors Classifier   \n",
       "nb                            Naive Bayes   \n",
       "dt               Decision Tree Classifier   \n",
       "svm                   SVM - Linear Kernel   \n",
       "rbfsvm                SVM - Radial Kernel   \n",
       "gpc           Gaussian Process Classifier   \n",
       "mlp                        MLP Classifier   \n",
       "ridge                    Ridge Classifier   \n",
       "rf               Random Forest Classifier   \n",
       "qda       Quadratic Discriminant Analysis   \n",
       "ada                  Ada Boost Classifier   \n",
       "gbc          Gradient Boosting Classifier   \n",
       "lda          Linear Discriminant Analysis   \n",
       "et                 Extra Trees Classifier   \n",
       "xgboost         Extreme Gradient Boosting   \n",
       "lightgbm  Light Gradient Boosting Machine   \n",
       "catboost              CatBoost Classifier   \n",
       "dummy                    Dummy Classifier   \n",
       "\n",
       "                                                  Reference  Turbo  \n",
       "ID                                                                  \n",
       "lr        sklearn.linear_model._logistic.LogisticRegression   True  \n",
       "knn       sklearn.neighbors._classification.KNeighborsCl...   True  \n",
       "nb                           sklearn.naive_bayes.GaussianNB   True  \n",
       "dt             sklearn.tree._classes.DecisionTreeClassifier   True  \n",
       "svm       sklearn.linear_model._stochastic_gradient.SGDC...   True  \n",
       "rbfsvm                             sklearn.svm._classes.SVC  False  \n",
       "gpc       sklearn.gaussian_process._gpc.GaussianProcessC...  False  \n",
       "mlp       sklearn.neural_network._multilayer_perceptron....  False  \n",
       "ridge           sklearn.linear_model._ridge.RidgeClassifier   True  \n",
       "rf          sklearn.ensemble._forest.RandomForestClassifier   True  \n",
       "qda       sklearn.discriminant_analysis.QuadraticDiscrim...   True  \n",
       "ada       sklearn.ensemble._weight_boosting.AdaBoostClas...   True  \n",
       "gbc         sklearn.ensemble._gb.GradientBoostingClassifier   True  \n",
       "lda       sklearn.discriminant_analysis.LinearDiscrimina...   True  \n",
       "et            sklearn.ensemble._forest.ExtraTreesClassifier   True  \n",
       "xgboost                       xgboost.sklearn.XGBClassifier   True  \n",
       "lightgbm                    lightgbm.sklearn.LGBMClassifier   True  \n",
       "catboost                   catboost.core.CatBoostClassifier   True  \n",
       "dummy                         sklearn.dummy.DummyClassifier   True  "
      ]
     },
     "execution_count": 8,
     "metadata": {},
     "output_type": "execute_result"
    }
   ],
   "source": [
    "models()"
   ]
  },
  {
   "cell_type": "markdown",
   "metadata": {
    "pycharm": {
     "name": "#%% md\n"
    }
   },
   "source": [
    "# 8.1 Decision Tree Classifier"
   ]
  },
  {
   "cell_type": "code",
   "execution_count": 9,
   "metadata": {
    "pycharm": {
     "name": "#%%\n"
    }
   },
   "outputs": [
    {
     "data": {
      "text/html": [
       "<style type=\"text/css\">\n",
       "#T_1aa83_row10_col0, #T_1aa83_row10_col1, #T_1aa83_row10_col2, #T_1aa83_row10_col3, #T_1aa83_row10_col4, #T_1aa83_row10_col5, #T_1aa83_row10_col6 {\n",
       "  background: yellow;\n",
       "}\n",
       "</style>\n",
       "<table id=\"T_1aa83\">\n",
       "  <thead>\n",
       "    <tr>\n",
       "      <th class=\"blank level0\" >&nbsp;</th>\n",
       "      <th id=\"T_1aa83_level0_col0\" class=\"col_heading level0 col0\" >Accuracy</th>\n",
       "      <th id=\"T_1aa83_level0_col1\" class=\"col_heading level0 col1\" >AUC</th>\n",
       "      <th id=\"T_1aa83_level0_col2\" class=\"col_heading level0 col2\" >Recall</th>\n",
       "      <th id=\"T_1aa83_level0_col3\" class=\"col_heading level0 col3\" >Prec.</th>\n",
       "      <th id=\"T_1aa83_level0_col4\" class=\"col_heading level0 col4\" >F1</th>\n",
       "      <th id=\"T_1aa83_level0_col5\" class=\"col_heading level0 col5\" >Kappa</th>\n",
       "      <th id=\"T_1aa83_level0_col6\" class=\"col_heading level0 col6\" >MCC</th>\n",
       "    </tr>\n",
       "    <tr>\n",
       "      <th class=\"index_name level0\" >Fold</th>\n",
       "      <th class=\"blank col0\" >&nbsp;</th>\n",
       "      <th class=\"blank col1\" >&nbsp;</th>\n",
       "      <th class=\"blank col2\" >&nbsp;</th>\n",
       "      <th class=\"blank col3\" >&nbsp;</th>\n",
       "      <th class=\"blank col4\" >&nbsp;</th>\n",
       "      <th class=\"blank col5\" >&nbsp;</th>\n",
       "      <th class=\"blank col6\" >&nbsp;</th>\n",
       "    </tr>\n",
       "  </thead>\n",
       "  <tbody>\n",
       "    <tr>\n",
       "      <th id=\"T_1aa83_level0_row0\" class=\"row_heading level0 row0\" >0</th>\n",
       "      <td id=\"T_1aa83_row0_col0\" class=\"data row0 col0\" >0.7343</td>\n",
       "      <td id=\"T_1aa83_row0_col1\" class=\"data row0 col1\" >0.6257</td>\n",
       "      <td id=\"T_1aa83_row0_col2\" class=\"data row0 col2\" >0.4327</td>\n",
       "      <td id=\"T_1aa83_row0_col3\" class=\"data row0 col3\" >0.4005</td>\n",
       "      <td id=\"T_1aa83_row0_col4\" class=\"data row0 col4\" >0.4160</td>\n",
       "      <td id=\"T_1aa83_row0_col5\" class=\"data row0 col5\" >0.2444</td>\n",
       "      <td id=\"T_1aa83_row0_col6\" class=\"data row0 col6\" >0.2447</td>\n",
       "    </tr>\n",
       "    <tr>\n",
       "      <th id=\"T_1aa83_level0_row1\" class=\"row_heading level0 row1\" >1</th>\n",
       "      <td id=\"T_1aa83_row1_col0\" class=\"data row1 col0\" >0.7325</td>\n",
       "      <td id=\"T_1aa83_row1_col1\" class=\"data row1 col1\" >0.6277</td>\n",
       "      <td id=\"T_1aa83_row1_col2\" class=\"data row1 col2\" >0.4384</td>\n",
       "      <td id=\"T_1aa83_row1_col3\" class=\"data row1 col3\" >0.3984</td>\n",
       "      <td id=\"T_1aa83_row1_col4\" class=\"data row1 col4\" >0.4175</td>\n",
       "      <td id=\"T_1aa83_row1_col5\" class=\"data row1 col5\" >0.2443</td>\n",
       "      <td id=\"T_1aa83_row1_col6\" class=\"data row1 col6\" >0.2448</td>\n",
       "    </tr>\n",
       "    <tr>\n",
       "      <th id=\"T_1aa83_level0_row2\" class=\"row_heading level0 row2\" >2</th>\n",
       "      <td id=\"T_1aa83_row2_col0\" class=\"data row2 col0\" >0.7431</td>\n",
       "      <td id=\"T_1aa83_row2_col1\" class=\"data row2 col1\" >0.6282</td>\n",
       "      <td id=\"T_1aa83_row2_col2\" class=\"data row2 col2\" >0.4241</td>\n",
       "      <td id=\"T_1aa83_row2_col3\" class=\"data row2 col3\" >0.4146</td>\n",
       "      <td id=\"T_1aa83_row2_col4\" class=\"data row2 col4\" >0.4193</td>\n",
       "      <td id=\"T_1aa83_row2_col5\" class=\"data row2 col5\" >0.2544</td>\n",
       "      <td id=\"T_1aa83_row2_col6\" class=\"data row2 col6\" >0.2544</td>\n",
       "    </tr>\n",
       "    <tr>\n",
       "      <th id=\"T_1aa83_level0_row3\" class=\"row_heading level0 row3\" >3</th>\n",
       "      <td id=\"T_1aa83_row3_col0\" class=\"data row3 col0\" >0.7274</td>\n",
       "      <td id=\"T_1aa83_row3_col1\" class=\"data row3 col1\" >0.6151</td>\n",
       "      <td id=\"T_1aa83_row3_col2\" class=\"data row3 col2\" >0.4155</td>\n",
       "      <td id=\"T_1aa83_row3_col3\" class=\"data row3 col3\" >0.3856</td>\n",
       "      <td id=\"T_1aa83_row3_col4\" class=\"data row3 col4\" >0.4000</td>\n",
       "      <td id=\"T_1aa83_row3_col5\" class=\"data row3 col5\" >0.2240</td>\n",
       "      <td id=\"T_1aa83_row3_col6\" class=\"data row3 col6\" >0.2242</td>\n",
       "    </tr>\n",
       "    <tr>\n",
       "      <th id=\"T_1aa83_level0_row4\" class=\"row_heading level0 row4\" >4</th>\n",
       "      <td id=\"T_1aa83_row4_col0\" class=\"data row4 col0\" >0.7187</td>\n",
       "      <td id=\"T_1aa83_row4_col1\" class=\"data row4 col1\" >0.6054</td>\n",
       "      <td id=\"T_1aa83_row4_col2\" class=\"data row4 col2\" >0.4040</td>\n",
       "      <td id=\"T_1aa83_row4_col3\" class=\"data row4 col3\" >0.3691</td>\n",
       "      <td id=\"T_1aa83_row4_col4\" class=\"data row4 col4\" >0.3858</td>\n",
       "      <td id=\"T_1aa83_row4_col5\" class=\"data row4 col5\" >0.2038</td>\n",
       "      <td id=\"T_1aa83_row4_col6\" class=\"data row4 col6\" >0.2042</td>\n",
       "    </tr>\n",
       "    <tr>\n",
       "      <th id=\"T_1aa83_level0_row5\" class=\"row_heading level0 row5\" >5</th>\n",
       "      <td id=\"T_1aa83_row5_col0\" class=\"data row5 col0\" >0.7187</td>\n",
       "      <td id=\"T_1aa83_row5_col1\" class=\"data row5 col1\" >0.6014</td>\n",
       "      <td id=\"T_1aa83_row5_col2\" class=\"data row5 col2\" >0.3897</td>\n",
       "      <td id=\"T_1aa83_row5_col3\" class=\"data row5 col3\" >0.3656</td>\n",
       "      <td id=\"T_1aa83_row5_col4\" class=\"data row5 col4\" >0.3773</td>\n",
       "      <td id=\"T_1aa83_row5_col5\" class=\"data row5 col5\" >0.1958</td>\n",
       "      <td id=\"T_1aa83_row5_col6\" class=\"data row5 col6\" >0.1960</td>\n",
       "    </tr>\n",
       "    <tr>\n",
       "      <th id=\"T_1aa83_level0_row6\" class=\"row_heading level0 row6\" >6</th>\n",
       "      <td id=\"T_1aa83_row6_col0\" class=\"data row6 col0\" >0.7206</td>\n",
       "      <td id=\"T_1aa83_row6_col1\" class=\"data row6 col1\" >0.6128</td>\n",
       "      <td id=\"T_1aa83_row6_col2\" class=\"data row6 col2\" >0.4212</td>\n",
       "      <td id=\"T_1aa83_row6_col3\" class=\"data row6 col3\" >0.3760</td>\n",
       "      <td id=\"T_1aa83_row6_col4\" class=\"data row6 col4\" >0.3973</td>\n",
       "      <td id=\"T_1aa83_row6_col5\" class=\"data row6 col5\" >0.2162</td>\n",
       "      <td id=\"T_1aa83_row6_col6\" class=\"data row6 col6\" >0.2168</td>\n",
       "    </tr>\n",
       "    <tr>\n",
       "      <th id=\"T_1aa83_level0_row7\" class=\"row_heading level0 row7\" >7</th>\n",
       "      <td id=\"T_1aa83_row7_col0\" class=\"data row7 col0\" >0.7331</td>\n",
       "      <td id=\"T_1aa83_row7_col1\" class=\"data row7 col1\" >0.5986</td>\n",
       "      <td id=\"T_1aa83_row7_col2\" class=\"data row7 col2\" >0.3610</td>\n",
       "      <td id=\"T_1aa83_row7_col3\" class=\"data row7 col3\" >0.3830</td>\n",
       "      <td id=\"T_1aa83_row7_col4\" class=\"data row7 col4\" >0.3717</td>\n",
       "      <td id=\"T_1aa83_row7_col5\" class=\"data row7 col5\" >0.2024</td>\n",
       "      <td id=\"T_1aa83_row7_col6\" class=\"data row7 col6\" >0.2026</td>\n",
       "    </tr>\n",
       "    <tr>\n",
       "      <th id=\"T_1aa83_level0_row8\" class=\"row_heading level0 row8\" >8</th>\n",
       "      <td id=\"T_1aa83_row8_col0\" class=\"data row8 col0\" >0.7206</td>\n",
       "      <td id=\"T_1aa83_row8_col1\" class=\"data row8 col1\" >0.6045</td>\n",
       "      <td id=\"T_1aa83_row8_col2\" class=\"data row8 col2\" >0.3983</td>\n",
       "      <td id=\"T_1aa83_row8_col3\" class=\"data row8 col3\" >0.3707</td>\n",
       "      <td id=\"T_1aa83_row8_col4\" class=\"data row8 col4\" >0.3840</td>\n",
       "      <td id=\"T_1aa83_row8_col5\" class=\"data row8 col5\" >0.2036</td>\n",
       "      <td id=\"T_1aa83_row8_col6\" class=\"data row8 col6\" >0.2038</td>\n",
       "    </tr>\n",
       "    <tr>\n",
       "      <th id=\"T_1aa83_level0_row9\" class=\"row_heading level0 row9\" >9</th>\n",
       "      <td id=\"T_1aa83_row9_col0\" class=\"data row9 col0\" >0.7442</td>\n",
       "      <td id=\"T_1aa83_row9_col1\" class=\"data row9 col1\" >0.6272</td>\n",
       "      <td id=\"T_1aa83_row9_col2\" class=\"data row9 col2\" >0.4195</td>\n",
       "      <td id=\"T_1aa83_row9_col3\" class=\"data row9 col3\" >0.4148</td>\n",
       "      <td id=\"T_1aa83_row9_col4\" class=\"data row9 col4\" >0.4171</td>\n",
       "      <td id=\"T_1aa83_row9_col5\" class=\"data row9 col5\" >0.2533</td>\n",
       "      <td id=\"T_1aa83_row9_col6\" class=\"data row9 col6\" >0.2533</td>\n",
       "    </tr>\n",
       "    <tr>\n",
       "      <th id=\"T_1aa83_level0_row10\" class=\"row_heading level0 row10\" >Mean</th>\n",
       "      <td id=\"T_1aa83_row10_col0\" class=\"data row10 col0\" >0.7293</td>\n",
       "      <td id=\"T_1aa83_row10_col1\" class=\"data row10 col1\" >0.6147</td>\n",
       "      <td id=\"T_1aa83_row10_col2\" class=\"data row10 col2\" >0.4104</td>\n",
       "      <td id=\"T_1aa83_row10_col3\" class=\"data row10 col3\" >0.3878</td>\n",
       "      <td id=\"T_1aa83_row10_col4\" class=\"data row10 col4\" >0.3986</td>\n",
       "      <td id=\"T_1aa83_row10_col5\" class=\"data row10 col5\" >0.2242</td>\n",
       "      <td id=\"T_1aa83_row10_col6\" class=\"data row10 col6\" >0.2245</td>\n",
       "    </tr>\n",
       "    <tr>\n",
       "      <th id=\"T_1aa83_level0_row11\" class=\"row_heading level0 row11\" >Std</th>\n",
       "      <td id=\"T_1aa83_row11_col0\" class=\"data row11 col0\" >0.0092</td>\n",
       "      <td id=\"T_1aa83_row11_col1\" class=\"data row11 col1\" >0.0112</td>\n",
       "      <td id=\"T_1aa83_row11_col2\" class=\"data row11 col2\" >0.0218</td>\n",
       "      <td id=\"T_1aa83_row11_col3\" class=\"data row11 col3\" >0.0174</td>\n",
       "      <td id=\"T_1aa83_row11_col4\" class=\"data row11 col4\" >0.0173</td>\n",
       "      <td id=\"T_1aa83_row11_col5\" class=\"data row11 col5\" >0.0218</td>\n",
       "      <td id=\"T_1aa83_row11_col6\" class=\"data row11 col6\" >0.0218</td>\n",
       "    </tr>\n",
       "  </tbody>\n",
       "</table>\n"
      ],
      "text/plain": [
       "<pandas.io.formats.style.Styler at 0x7f48f6800d30>"
      ]
     },
     "metadata": {},
     "output_type": "display_data"
    }
   ],
   "source": [
    "dt = create_model('dt')"
   ]
  },
  {
   "cell_type": "code",
   "execution_count": 10,
   "metadata": {
    "pycharm": {
     "name": "#%%\n"
    }
   },
   "outputs": [
    {
     "name": "stdout",
     "output_type": "stream",
     "text": [
      "DecisionTreeClassifier(ccp_alpha=0.0, class_weight=None, criterion='gini',\n",
      "                       max_depth=None, max_features=None, max_leaf_nodes=None,\n",
      "                       min_impurity_decrease=0.0, min_impurity_split=None,\n",
      "                       min_samples_leaf=1, min_samples_split=2,\n",
      "                       min_weight_fraction_leaf=0.0, presort='deprecated',\n",
      "                       random_state=123, splitter='best')\n"
     ]
    }
   ],
   "source": [
    "#trained model object is stored in the variable 'dt'.\n",
    "#το εκπαιδευμένο μοντέλο αποθηκεύεται στη μεταβλητή 'dt'.\n",
    "print(dt)"
   ]
  },
  {
   "cell_type": "markdown",
   "metadata": {
    "pycharm": {
     "name": "#%% md\n"
    }
   },
   "source": [
    "# 8.2 K Neighbors Classifier"
   ]
  },
  {
   "cell_type": "code",
   "execution_count": 11,
   "metadata": {
    "pycharm": {
     "name": "#%%\n"
    }
   },
   "outputs": [
    {
     "data": {
      "text/html": [
       "<style type=\"text/css\">\n",
       "#T_5474f_row10_col0, #T_5474f_row10_col1, #T_5474f_row10_col2, #T_5474f_row10_col3, #T_5474f_row10_col4, #T_5474f_row10_col5, #T_5474f_row10_col6 {\n",
       "  background: yellow;\n",
       "}\n",
       "</style>\n",
       "<table id=\"T_5474f\">\n",
       "  <thead>\n",
       "    <tr>\n",
       "      <th class=\"blank level0\" >&nbsp;</th>\n",
       "      <th id=\"T_5474f_level0_col0\" class=\"col_heading level0 col0\" >Accuracy</th>\n",
       "      <th id=\"T_5474f_level0_col1\" class=\"col_heading level0 col1\" >AUC</th>\n",
       "      <th id=\"T_5474f_level0_col2\" class=\"col_heading level0 col2\" >Recall</th>\n",
       "      <th id=\"T_5474f_level0_col3\" class=\"col_heading level0 col3\" >Prec.</th>\n",
       "      <th id=\"T_5474f_level0_col4\" class=\"col_heading level0 col4\" >F1</th>\n",
       "      <th id=\"T_5474f_level0_col5\" class=\"col_heading level0 col5\" >Kappa</th>\n",
       "      <th id=\"T_5474f_level0_col6\" class=\"col_heading level0 col6\" >MCC</th>\n",
       "    </tr>\n",
       "    <tr>\n",
       "      <th class=\"index_name level0\" >Fold</th>\n",
       "      <th class=\"blank col0\" >&nbsp;</th>\n",
       "      <th class=\"blank col1\" >&nbsp;</th>\n",
       "      <th class=\"blank col2\" >&nbsp;</th>\n",
       "      <th class=\"blank col3\" >&nbsp;</th>\n",
       "      <th class=\"blank col4\" >&nbsp;</th>\n",
       "      <th class=\"blank col5\" >&nbsp;</th>\n",
       "      <th class=\"blank col6\" >&nbsp;</th>\n",
       "    </tr>\n",
       "  </thead>\n",
       "  <tbody>\n",
       "    <tr>\n",
       "      <th id=\"T_5474f_level0_row0\" class=\"row_heading level0 row0\" >0</th>\n",
       "      <td id=\"T_5474f_row0_col0\" class=\"data row0 col0\" >0.7469</td>\n",
       "      <td id=\"T_5474f_row0_col1\" class=\"data row0 col1\" >0.6020</td>\n",
       "      <td id=\"T_5474f_row0_col2\" class=\"data row0 col2\" >0.1920</td>\n",
       "      <td id=\"T_5474f_row0_col3\" class=\"data row0 col3\" >0.3545</td>\n",
       "      <td id=\"T_5474f_row0_col4\" class=\"data row0 col4\" >0.2491</td>\n",
       "      <td id=\"T_5474f_row0_col5\" class=\"data row0 col5\" >0.1128</td>\n",
       "      <td id=\"T_5474f_row0_col6\" class=\"data row0 col6\" >0.1204</td>\n",
       "    </tr>\n",
       "    <tr>\n",
       "      <th id=\"T_5474f_level0_row1\" class=\"row_heading level0 row1\" >1</th>\n",
       "      <td id=\"T_5474f_row1_col0\" class=\"data row1 col0\" >0.7550</td>\n",
       "      <td id=\"T_5474f_row1_col1\" class=\"data row1 col1\" >0.5894</td>\n",
       "      <td id=\"T_5474f_row1_col2\" class=\"data row1 col2\" >0.2092</td>\n",
       "      <td id=\"T_5474f_row1_col3\" class=\"data row1 col3\" >0.3883</td>\n",
       "      <td id=\"T_5474f_row1_col4\" class=\"data row1 col4\" >0.2719</td>\n",
       "      <td id=\"T_5474f_row1_col5\" class=\"data row1 col5\" >0.1402</td>\n",
       "      <td id=\"T_5474f_row1_col6\" class=\"data row1 col6\" >0.1500</td>\n",
       "    </tr>\n",
       "    <tr>\n",
       "      <th id=\"T_5474f_level0_row2\" class=\"row_heading level0 row2\" >2</th>\n",
       "      <td id=\"T_5474f_row2_col0\" class=\"data row2 col0\" >0.7506</td>\n",
       "      <td id=\"T_5474f_row2_col1\" class=\"data row2 col1\" >0.5883</td>\n",
       "      <td id=\"T_5474f_row2_col2\" class=\"data row2 col2\" >0.1576</td>\n",
       "      <td id=\"T_5474f_row2_col3\" class=\"data row2 col3\" >0.3459</td>\n",
       "      <td id=\"T_5474f_row2_col4\" class=\"data row2 col4\" >0.2165</td>\n",
       "      <td id=\"T_5474f_row2_col5\" class=\"data row2 col5\" >0.0923</td>\n",
       "      <td id=\"T_5474f_row2_col6\" class=\"data row2 col6\" >0.1024</td>\n",
       "    </tr>\n",
       "    <tr>\n",
       "      <th id=\"T_5474f_level0_row3\" class=\"row_heading level0 row3\" >3</th>\n",
       "      <td id=\"T_5474f_row3_col0\" class=\"data row3 col0\" >0.7419</td>\n",
       "      <td id=\"T_5474f_row3_col1\" class=\"data row3 col1\" >0.5818</td>\n",
       "      <td id=\"T_5474f_row3_col2\" class=\"data row3 col2\" >0.1519</td>\n",
       "      <td id=\"T_5474f_row3_col3\" class=\"data row3 col3\" >0.3136</td>\n",
       "      <td id=\"T_5474f_row3_col4\" class=\"data row3 col4\" >0.2046</td>\n",
       "      <td id=\"T_5474f_row3_col5\" class=\"data row3 col5\" >0.0723</td>\n",
       "      <td id=\"T_5474f_row3_col6\" class=\"data row3 col6\" >0.0790</td>\n",
       "    </tr>\n",
       "    <tr>\n",
       "      <th id=\"T_5474f_level0_row4\" class=\"row_heading level0 row4\" >4</th>\n",
       "      <td id=\"T_5474f_row4_col0\" class=\"data row4 col0\" >0.7563</td>\n",
       "      <td id=\"T_5474f_row4_col1\" class=\"data row4 col1\" >0.5908</td>\n",
       "      <td id=\"T_5474f_row4_col2\" class=\"data row4 col2\" >0.1490</td>\n",
       "      <td id=\"T_5474f_row4_col3\" class=\"data row4 col3\" >0.3611</td>\n",
       "      <td id=\"T_5474f_row4_col4\" class=\"data row4 col4\" >0.2110</td>\n",
       "      <td id=\"T_5474f_row4_col5\" class=\"data row4 col5\" >0.0954</td>\n",
       "      <td id=\"T_5474f_row4_col6\" class=\"data row4 col6\" >0.1085</td>\n",
       "    </tr>\n",
       "    <tr>\n",
       "      <th id=\"T_5474f_level0_row5\" class=\"row_heading level0 row5\" >5</th>\n",
       "      <td id=\"T_5474f_row5_col0\" class=\"data row5 col0\" >0.7550</td>\n",
       "      <td id=\"T_5474f_row5_col1\" class=\"data row5 col1\" >0.5997</td>\n",
       "      <td id=\"T_5474f_row5_col2\" class=\"data row5 col2\" >0.1748</td>\n",
       "      <td id=\"T_5474f_row5_col3\" class=\"data row5 col3\" >0.3720</td>\n",
       "      <td id=\"T_5474f_row5_col4\" class=\"data row5 col4\" >0.2378</td>\n",
       "      <td id=\"T_5474f_row5_col5\" class=\"data row5 col5\" >0.1139</td>\n",
       "      <td id=\"T_5474f_row5_col6\" class=\"data row5 col6\" >0.1255</td>\n",
       "    </tr>\n",
       "    <tr>\n",
       "      <th id=\"T_5474f_level0_row6\" class=\"row_heading level0 row6\" >6</th>\n",
       "      <td id=\"T_5474f_row6_col0\" class=\"data row6 col0\" >0.7638</td>\n",
       "      <td id=\"T_5474f_row6_col1\" class=\"data row6 col1\" >0.5890</td>\n",
       "      <td id=\"T_5474f_row6_col2\" class=\"data row6 col2\" >0.1891</td>\n",
       "      <td id=\"T_5474f_row6_col3\" class=\"data row6 col3\" >0.4125</td>\n",
       "      <td id=\"T_5474f_row6_col4\" class=\"data row6 col4\" >0.2593</td>\n",
       "      <td id=\"T_5474f_row6_col5\" class=\"data row6 col5\" >0.1413</td>\n",
       "      <td id=\"T_5474f_row6_col6\" class=\"data row6 col6\" >0.1565</td>\n",
       "    </tr>\n",
       "    <tr>\n",
       "      <th id=\"T_5474f_level0_row7\" class=\"row_heading level0 row7\" >7</th>\n",
       "      <td id=\"T_5474f_row7_col0\" class=\"data row7 col0\" >0.7613</td>\n",
       "      <td id=\"T_5474f_row7_col1\" class=\"data row7 col1\" >0.6240</td>\n",
       "      <td id=\"T_5474f_row7_col2\" class=\"data row7 col2\" >0.1633</td>\n",
       "      <td id=\"T_5474f_row7_col3\" class=\"data row7 col3\" >0.3904</td>\n",
       "      <td id=\"T_5474f_row7_col4\" class=\"data row7 col4\" >0.2303</td>\n",
       "      <td id=\"T_5474f_row7_col5\" class=\"data row7 col5\" >0.1163</td>\n",
       "      <td id=\"T_5474f_row7_col6\" class=\"data row7 col6\" >0.1318</td>\n",
       "    </tr>\n",
       "    <tr>\n",
       "      <th id=\"T_5474f_level0_row8\" class=\"row_heading level0 row8\" >8</th>\n",
       "      <td id=\"T_5474f_row8_col0\" class=\"data row8 col0\" >0.7619</td>\n",
       "      <td id=\"T_5474f_row8_col1\" class=\"data row8 col1\" >0.5988</td>\n",
       "      <td id=\"T_5474f_row8_col2\" class=\"data row8 col2\" >0.1862</td>\n",
       "      <td id=\"T_5474f_row8_col3\" class=\"data row8 col3\" >0.4037</td>\n",
       "      <td id=\"T_5474f_row8_col4\" class=\"data row8 col4\" >0.2549</td>\n",
       "      <td id=\"T_5474f_row8_col5\" class=\"data row8 col5\" >0.1356</td>\n",
       "      <td id=\"T_5474f_row8_col6\" class=\"data row8 col6\" >0.1500</td>\n",
       "    </tr>\n",
       "    <tr>\n",
       "      <th id=\"T_5474f_level0_row9\" class=\"row_heading level0 row9\" >9</th>\n",
       "      <td id=\"T_5474f_row9_col0\" class=\"data row9 col0\" >0.7549</td>\n",
       "      <td id=\"T_5474f_row9_col1\" class=\"data row9 col1\" >0.5756</td>\n",
       "      <td id=\"T_5474f_row9_col2\" class=\"data row9 col2\" >0.1897</td>\n",
       "      <td id=\"T_5474f_row9_col3\" class=\"data row9 col3\" >0.3771</td>\n",
       "      <td id=\"T_5474f_row9_col4\" class=\"data row9 col4\" >0.2524</td>\n",
       "      <td id=\"T_5474f_row9_col5\" class=\"data row9 col5\" >0.1246</td>\n",
       "      <td id=\"T_5474f_row9_col6\" class=\"data row9 col6\" >0.1351</td>\n",
       "    </tr>\n",
       "    <tr>\n",
       "      <th id=\"T_5474f_level0_row10\" class=\"row_heading level0 row10\" >Mean</th>\n",
       "      <td id=\"T_5474f_row10_col0\" class=\"data row10 col0\" >0.7547</td>\n",
       "      <td id=\"T_5474f_row10_col1\" class=\"data row10 col1\" >0.5939</td>\n",
       "      <td id=\"T_5474f_row10_col2\" class=\"data row10 col2\" >0.1763</td>\n",
       "      <td id=\"T_5474f_row10_col3\" class=\"data row10 col3\" >0.3719</td>\n",
       "      <td id=\"T_5474f_row10_col4\" class=\"data row10 col4\" >0.2388</td>\n",
       "      <td id=\"T_5474f_row10_col5\" class=\"data row10 col5\" >0.1145</td>\n",
       "      <td id=\"T_5474f_row10_col6\" class=\"data row10 col6\" >0.1259</td>\n",
       "    </tr>\n",
       "    <tr>\n",
       "      <th id=\"T_5474f_level0_row11\" class=\"row_heading level0 row11\" >Std</th>\n",
       "      <td id=\"T_5474f_row11_col0\" class=\"data row11 col0\" >0.0065</td>\n",
       "      <td id=\"T_5474f_row11_col1\" class=\"data row11 col1\" >0.0126</td>\n",
       "      <td id=\"T_5474f_row11_col2\" class=\"data row11 col2\" >0.0191</td>\n",
       "      <td id=\"T_5474f_row11_col3\" class=\"data row11 col3\" >0.0279</td>\n",
       "      <td id=\"T_5474f_row11_col4\" class=\"data row11 col4\" >0.0214</td>\n",
       "      <td id=\"T_5474f_row11_col5\" class=\"data row11 col5\" >0.0214</td>\n",
       "      <td id=\"T_5474f_row11_col6\" class=\"data row11 col6\" >0.0230</td>\n",
       "    </tr>\n",
       "  </tbody>\n",
       "</table>\n"
      ],
      "text/plain": [
       "<pandas.io.formats.style.Styler at 0x7f48f6820730>"
      ]
     },
     "metadata": {},
     "output_type": "display_data"
    }
   ],
   "source": [
    "knn = create_model('knn')"
   ]
  },
  {
   "cell_type": "markdown",
   "metadata": {
    "pycharm": {
     "name": "#%% md\n"
    }
   },
   "source": [
    "# 8.3 Random Forest Classifier"
   ]
  },
  {
   "cell_type": "code",
   "execution_count": 12,
   "metadata": {
    "pycharm": {
     "name": "#%%\n"
    }
   },
   "outputs": [
    {
     "data": {
      "text/html": [
       "<style type=\"text/css\">\n",
       "#T_9df14_row10_col0, #T_9df14_row10_col1, #T_9df14_row10_col2, #T_9df14_row10_col3, #T_9df14_row10_col4, #T_9df14_row10_col5, #T_9df14_row10_col6 {\n",
       "  background: yellow;\n",
       "}\n",
       "</style>\n",
       "<table id=\"T_9df14\">\n",
       "  <thead>\n",
       "    <tr>\n",
       "      <th class=\"blank level0\" >&nbsp;</th>\n",
       "      <th id=\"T_9df14_level0_col0\" class=\"col_heading level0 col0\" >Accuracy</th>\n",
       "      <th id=\"T_9df14_level0_col1\" class=\"col_heading level0 col1\" >AUC</th>\n",
       "      <th id=\"T_9df14_level0_col2\" class=\"col_heading level0 col2\" >Recall</th>\n",
       "      <th id=\"T_9df14_level0_col3\" class=\"col_heading level0 col3\" >Prec.</th>\n",
       "      <th id=\"T_9df14_level0_col4\" class=\"col_heading level0 col4\" >F1</th>\n",
       "      <th id=\"T_9df14_level0_col5\" class=\"col_heading level0 col5\" >Kappa</th>\n",
       "      <th id=\"T_9df14_level0_col6\" class=\"col_heading level0 col6\" >MCC</th>\n",
       "    </tr>\n",
       "    <tr>\n",
       "      <th class=\"index_name level0\" >Fold</th>\n",
       "      <th class=\"blank col0\" >&nbsp;</th>\n",
       "      <th class=\"blank col1\" >&nbsp;</th>\n",
       "      <th class=\"blank col2\" >&nbsp;</th>\n",
       "      <th class=\"blank col3\" >&nbsp;</th>\n",
       "      <th class=\"blank col4\" >&nbsp;</th>\n",
       "      <th class=\"blank col5\" >&nbsp;</th>\n",
       "      <th class=\"blank col6\" >&nbsp;</th>\n",
       "    </tr>\n",
       "  </thead>\n",
       "  <tbody>\n",
       "    <tr>\n",
       "      <th id=\"T_9df14_level0_row0\" class=\"row_heading level0 row0\" >0</th>\n",
       "      <td id=\"T_9df14_row0_col0\" class=\"data row0 col0\" >0.8133</td>\n",
       "      <td id=\"T_9df14_row0_col1\" class=\"data row0 col1\" >0.7673</td>\n",
       "      <td id=\"T_9df14_row0_col2\" class=\"data row0 col2\" >0.3610</td>\n",
       "      <td id=\"T_9df14_row0_col3\" class=\"data row0 col3\" >0.6269</td>\n",
       "      <td id=\"T_9df14_row0_col4\" class=\"data row0 col4\" >0.4582</td>\n",
       "      <td id=\"T_9df14_row0_col5\" class=\"data row0 col5\" >0.3551</td>\n",
       "      <td id=\"T_9df14_row0_col6\" class=\"data row0 col6\" >0.3749</td>\n",
       "    </tr>\n",
       "    <tr>\n",
       "      <th id=\"T_9df14_level0_row1\" class=\"row_heading level0 row1\" >1</th>\n",
       "      <td id=\"T_9df14_row1_col0\" class=\"data row1 col0\" >0.8239</td>\n",
       "      <td id=\"T_9df14_row1_col1\" class=\"data row1 col1\" >0.7615</td>\n",
       "      <td id=\"T_9df14_row1_col2\" class=\"data row1 col2\" >0.3782</td>\n",
       "      <td id=\"T_9df14_row1_col3\" class=\"data row1 col3\" >0.6735</td>\n",
       "      <td id=\"T_9df14_row1_col4\" class=\"data row1 col4\" >0.4844</td>\n",
       "      <td id=\"T_9df14_row1_col5\" class=\"data row1 col5\" >0.3882</td>\n",
       "      <td id=\"T_9df14_row1_col6\" class=\"data row1 col6\" >0.4117</td>\n",
       "    </tr>\n",
       "    <tr>\n",
       "      <th id=\"T_9df14_level0_row2\" class=\"row_heading level0 row2\" >2</th>\n",
       "      <td id=\"T_9df14_row2_col0\" class=\"data row2 col0\" >0.8258</td>\n",
       "      <td id=\"T_9df14_row2_col1\" class=\"data row2 col1\" >0.7708</td>\n",
       "      <td id=\"T_9df14_row2_col2\" class=\"data row2 col2\" >0.3467</td>\n",
       "      <td id=\"T_9df14_row2_col3\" class=\"data row2 col3\" >0.7076</td>\n",
       "      <td id=\"T_9df14_row2_col4\" class=\"data row2 col4\" >0.4654</td>\n",
       "      <td id=\"T_9df14_row2_col5\" class=\"data row2 col5\" >0.3756</td>\n",
       "      <td id=\"T_9df14_row2_col6\" class=\"data row2 col6\" >0.4098</td>\n",
       "    </tr>\n",
       "    <tr>\n",
       "      <th id=\"T_9df14_level0_row3\" class=\"row_heading level0 row3\" >3</th>\n",
       "      <td id=\"T_9df14_row3_col0\" class=\"data row3 col0\" >0.8177</td>\n",
       "      <td id=\"T_9df14_row3_col1\" class=\"data row3 col1\" >0.7605</td>\n",
       "      <td id=\"T_9df14_row3_col2\" class=\"data row3 col2\" >0.3725</td>\n",
       "      <td id=\"T_9df14_row3_col3\" class=\"data row3 col3\" >0.6436</td>\n",
       "      <td id=\"T_9df14_row3_col4\" class=\"data row3 col4\" >0.4719</td>\n",
       "      <td id=\"T_9df14_row3_col5\" class=\"data row3 col5\" >0.3710</td>\n",
       "      <td id=\"T_9df14_row3_col6\" class=\"data row3 col6\" >0.3913</td>\n",
       "    </tr>\n",
       "    <tr>\n",
       "      <th id=\"T_9df14_level0_row4\" class=\"row_heading level0 row4\" >4</th>\n",
       "      <td id=\"T_9df14_row4_col0\" class=\"data row4 col0\" >0.8208</td>\n",
       "      <td id=\"T_9df14_row4_col1\" class=\"data row4 col1\" >0.7642</td>\n",
       "      <td id=\"T_9df14_row4_col2\" class=\"data row4 col2\" >0.3725</td>\n",
       "      <td id=\"T_9df14_row4_col3\" class=\"data row4 col3\" >0.6599</td>\n",
       "      <td id=\"T_9df14_row4_col4\" class=\"data row4 col4\" >0.4762</td>\n",
       "      <td id=\"T_9df14_row4_col5\" class=\"data row4 col5\" >0.3780</td>\n",
       "      <td id=\"T_9df14_row4_col6\" class=\"data row4 col6\" >0.4006</td>\n",
       "    </tr>\n",
       "    <tr>\n",
       "      <th id=\"T_9df14_level0_row5\" class=\"row_heading level0 row5\" >5</th>\n",
       "      <td id=\"T_9df14_row5_col0\" class=\"data row5 col0\" >0.8283</td>\n",
       "      <td id=\"T_9df14_row5_col1\" class=\"data row5 col1\" >0.7638</td>\n",
       "      <td id=\"T_9df14_row5_col2\" class=\"data row5 col2\" >0.3954</td>\n",
       "      <td id=\"T_9df14_row5_col3\" class=\"data row5 col3\" >0.6866</td>\n",
       "      <td id=\"T_9df14_row5_col4\" class=\"data row5 col4\" >0.5018</td>\n",
       "      <td id=\"T_9df14_row5_col5\" class=\"data row5 col5\" >0.4070</td>\n",
       "      <td id=\"T_9df14_row5_col6\" class=\"data row5 col6\" >0.4297</td>\n",
       "    </tr>\n",
       "    <tr>\n",
       "      <th id=\"T_9df14_level0_row6\" class=\"row_heading level0 row6\" >6</th>\n",
       "      <td id=\"T_9df14_row6_col0\" class=\"data row6 col0\" >0.8127</td>\n",
       "      <td id=\"T_9df14_row6_col1\" class=\"data row6 col1\" >0.7647</td>\n",
       "      <td id=\"T_9df14_row6_col2\" class=\"data row6 col2\" >0.3582</td>\n",
       "      <td id=\"T_9df14_row6_col3\" class=\"data row6 col3\" >0.6250</td>\n",
       "      <td id=\"T_9df14_row6_col4\" class=\"data row6 col4\" >0.4554</td>\n",
       "      <td id=\"T_9df14_row6_col5\" class=\"data row6 col5\" >0.3522</td>\n",
       "      <td id=\"T_9df14_row6_col6\" class=\"data row6 col6\" >0.3721</td>\n",
       "    </tr>\n",
       "    <tr>\n",
       "      <th id=\"T_9df14_level0_row7\" class=\"row_heading level0 row7\" >7</th>\n",
       "      <td id=\"T_9df14_row7_col0\" class=\"data row7 col0\" >0.8283</td>\n",
       "      <td id=\"T_9df14_row7_col1\" class=\"data row7 col1\" >0.7390</td>\n",
       "      <td id=\"T_9df14_row7_col2\" class=\"data row7 col2\" >0.3553</td>\n",
       "      <td id=\"T_9df14_row7_col3\" class=\"data row7 col3\" >0.7168</td>\n",
       "      <td id=\"T_9df14_row7_col4\" class=\"data row7 col4\" >0.4751</td>\n",
       "      <td id=\"T_9df14_row7_col5\" class=\"data row7 col5\" >0.3861</td>\n",
       "      <td id=\"T_9df14_row7_col6\" class=\"data row7 col6\" >0.4202</td>\n",
       "    </tr>\n",
       "    <tr>\n",
       "      <th id=\"T_9df14_level0_row8\" class=\"row_heading level0 row8\" >8</th>\n",
       "      <td id=\"T_9df14_row8_col0\" class=\"data row8 col0\" >0.8108</td>\n",
       "      <td id=\"T_9df14_row8_col1\" class=\"data row8 col1\" >0.7496</td>\n",
       "      <td id=\"T_9df14_row8_col2\" class=\"data row8 col2\" >0.3610</td>\n",
       "      <td id=\"T_9df14_row8_col3\" class=\"data row8 col3\" >0.6146</td>\n",
       "      <td id=\"T_9df14_row8_col4\" class=\"data row8 col4\" >0.4549</td>\n",
       "      <td id=\"T_9df14_row8_col5\" class=\"data row8 col5\" >0.3496</td>\n",
       "      <td id=\"T_9df14_row8_col6\" class=\"data row8 col6\" >0.3678</td>\n",
       "    </tr>\n",
       "    <tr>\n",
       "      <th id=\"T_9df14_level0_row9\" class=\"row_heading level0 row9\" >9</th>\n",
       "      <td id=\"T_9df14_row9_col0\" class=\"data row9 col0\" >0.8176</td>\n",
       "      <td id=\"T_9df14_row9_col1\" class=\"data row9 col1\" >0.7565</td>\n",
       "      <td id=\"T_9df14_row9_col2\" class=\"data row9 col2\" >0.3621</td>\n",
       "      <td id=\"T_9df14_row9_col3\" class=\"data row9 col3\" >0.6462</td>\n",
       "      <td id=\"T_9df14_row9_col4\" class=\"data row9 col4\" >0.4641</td>\n",
       "      <td id=\"T_9df14_row9_col5\" class=\"data row9 col5\" >0.3645</td>\n",
       "      <td id=\"T_9df14_row9_col6\" class=\"data row9 col6\" >0.3867</td>\n",
       "    </tr>\n",
       "    <tr>\n",
       "      <th id=\"T_9df14_level0_row10\" class=\"row_heading level0 row10\" >Mean</th>\n",
       "      <td id=\"T_9df14_row10_col0\" class=\"data row10 col0\" >0.8199</td>\n",
       "      <td id=\"T_9df14_row10_col1\" class=\"data row10 col1\" >0.7598</td>\n",
       "      <td id=\"T_9df14_row10_col2\" class=\"data row10 col2\" >0.3663</td>\n",
       "      <td id=\"T_9df14_row10_col3\" class=\"data row10 col3\" >0.6601</td>\n",
       "      <td id=\"T_9df14_row10_col4\" class=\"data row10 col4\" >0.4707</td>\n",
       "      <td id=\"T_9df14_row10_col5\" class=\"data row10 col5\" >0.3727</td>\n",
       "      <td id=\"T_9df14_row10_col6\" class=\"data row10 col6\" >0.3965</td>\n",
       "    </tr>\n",
       "    <tr>\n",
       "      <th id=\"T_9df14_level0_row11\" class=\"row_heading level0 row11\" >Std</th>\n",
       "      <td id=\"T_9df14_row11_col0\" class=\"data row11 col0\" >0.0062</td>\n",
       "      <td id=\"T_9df14_row11_col1\" class=\"data row11 col1\" >0.0089</td>\n",
       "      <td id=\"T_9df14_row11_col2\" class=\"data row11 col2\" >0.0131</td>\n",
       "      <td id=\"T_9df14_row11_col3\" class=\"data row11 col3\" >0.0335</td>\n",
       "      <td id=\"T_9df14_row11_col4\" class=\"data row11 col4\" >0.0139</td>\n",
       "      <td id=\"T_9df14_row11_col5\" class=\"data row11 col5\" >0.0172</td>\n",
       "      <td id=\"T_9df14_row11_col6\" class=\"data row11 col6\" >0.0202</td>\n",
       "    </tr>\n",
       "  </tbody>\n",
       "</table>\n"
      ],
      "text/plain": [
       "<pandas.io.formats.style.Styler at 0x7f48f6798520>"
      ]
     },
     "metadata": {},
     "output_type": "display_data"
    }
   ],
   "source": [
    "rf = create_model('rf')"
   ]
  },
  {
   "cell_type": "markdown",
   "metadata": {
    "pycharm": {
     "name": "#%% md\n"
    }
   },
   "source": [
    "Παρατηρήστε ότι ο μέσος όρος των σκoρ του κάθε μοντέλου ταιριάζει με το σκορ που εμφανίστηκε από τη συνάρτηση `compare_modles()`. Αυτό οφείλεται στο ότι οι μετρικές που εκτυπώνονται από τη συνάρτηση `compare_models()` αποτελούν τη μέση τιμή όλων των CV folds. Όπως και στην `compare_models()`, αν θέλετε να αλλάξετε το πλήθος των folds από την προεπιλεγμένη τιμή (10) σε κάποια άλλη, τότε μπορείτε να χρησιμοποιήσετε την παράμετρο `fold`. Για παράδειγμα, το `create_model('dt', fold = 5)` θα δημιουργήσει έναν Decision Tree Classifier χρησιμοποιώντας 5 fold stratified CV."
   ]
  },
  {
   "cell_type": "markdown",
   "metadata": {
    "pycharm": {
     "name": "#%% md\n"
    }
   },
   "source": [
    "# 9.0 Ρύθμιση Μοντέλου"
   ]
  },
  {
   "cell_type": "markdown",
   "metadata": {
    "pycharm": {
     "name": "#%% md\n"
    }
   },
   "source": [
    "Όταν δημιουργείται ένα μοντέλο από τη συνάρτηση `create_model()`, τότε χρησιμοποιούνται οι προεπιλεγμένες υπερ-παράμετροι για την εκπαίδευσή του. Για να ρυθμίσουμε τις υπερ-παραμέτρους χρησιμοποιούμε τη συνάρτηση `tune_model()`. Αυτή η συνάρτηση ρυθμίζει αυτόματα τις υπερπαραμέτρους του μοντέλου χρησιμοποιώντας την τεχνική `Random Grid Search` σε ένα πεδίο τιμών που εμείς ορίζουμε. Στην έξοδο εκτυπώνεται ένας πίνακας βαθμολόγησης που δείχνει τις μετρικές Accuracy, AUC, Recall, Precision, F1, Kappa και MCC ανά fold για το καλύτερο μοντέλο. Για να το επιτύχουμε, περνάμε την παράμετρο `custom_grid` στη συνάρτηση `tune_model` (βλέπε ενότητα 9.2)."
   ]
  },
  {
   "cell_type": "markdown",
   "metadata": {
    "pycharm": {
     "name": "#%% md\n"
    }
   },
   "source": [
    "# 9.1 Decision Tree Classifier"
   ]
  },
  {
   "cell_type": "code",
   "execution_count": 13,
   "metadata": {
    "pycharm": {
     "name": "#%%\n"
    }
   },
   "outputs": [
    {
     "data": {
      "text/html": [
       "<style type=\"text/css\">\n",
       "#T_76796_row10_col0, #T_76796_row10_col1, #T_76796_row10_col2, #T_76796_row10_col3, #T_76796_row10_col4, #T_76796_row10_col5, #T_76796_row10_col6 {\n",
       "  background: yellow;\n",
       "}\n",
       "</style>\n",
       "<table id=\"T_76796\">\n",
       "  <thead>\n",
       "    <tr>\n",
       "      <th class=\"blank level0\" >&nbsp;</th>\n",
       "      <th id=\"T_76796_level0_col0\" class=\"col_heading level0 col0\" >Accuracy</th>\n",
       "      <th id=\"T_76796_level0_col1\" class=\"col_heading level0 col1\" >AUC</th>\n",
       "      <th id=\"T_76796_level0_col2\" class=\"col_heading level0 col2\" >Recall</th>\n",
       "      <th id=\"T_76796_level0_col3\" class=\"col_heading level0 col3\" >Prec.</th>\n",
       "      <th id=\"T_76796_level0_col4\" class=\"col_heading level0 col4\" >F1</th>\n",
       "      <th id=\"T_76796_level0_col5\" class=\"col_heading level0 col5\" >Kappa</th>\n",
       "      <th id=\"T_76796_level0_col6\" class=\"col_heading level0 col6\" >MCC</th>\n",
       "    </tr>\n",
       "    <tr>\n",
       "      <th class=\"index_name level0\" >Fold</th>\n",
       "      <th class=\"blank col0\" >&nbsp;</th>\n",
       "      <th class=\"blank col1\" >&nbsp;</th>\n",
       "      <th class=\"blank col2\" >&nbsp;</th>\n",
       "      <th class=\"blank col3\" >&nbsp;</th>\n",
       "      <th class=\"blank col4\" >&nbsp;</th>\n",
       "      <th class=\"blank col5\" >&nbsp;</th>\n",
       "      <th class=\"blank col6\" >&nbsp;</th>\n",
       "    </tr>\n",
       "  </thead>\n",
       "  <tbody>\n",
       "    <tr>\n",
       "      <th id=\"T_76796_level0_row0\" class=\"row_heading level0 row0\" >0</th>\n",
       "      <td id=\"T_76796_row0_col0\" class=\"data row0 col0\" >0.8177</td>\n",
       "      <td id=\"T_76796_row0_col1\" class=\"data row0 col1\" >0.7475</td>\n",
       "      <td id=\"T_76796_row0_col2\" class=\"data row0 col2\" >0.3095</td>\n",
       "      <td id=\"T_76796_row0_col3\" class=\"data row0 col3\" >0.6835</td>\n",
       "      <td id=\"T_76796_row0_col4\" class=\"data row0 col4\" >0.4260</td>\n",
       "      <td id=\"T_76796_row0_col5\" class=\"data row0 col5\" >0.3355</td>\n",
       "      <td id=\"T_76796_row0_col6\" class=\"data row0 col6\" >0.3728</td>\n",
       "    </tr>\n",
       "    <tr>\n",
       "      <th id=\"T_76796_level0_row1\" class=\"row_heading level0 row1\" >1</th>\n",
       "      <td id=\"T_76796_row1_col0\" class=\"data row1 col0\" >0.8289</td>\n",
       "      <td id=\"T_76796_row1_col1\" class=\"data row1 col1\" >0.7711</td>\n",
       "      <td id=\"T_76796_row1_col2\" class=\"data row1 col2\" >0.3381</td>\n",
       "      <td id=\"T_76796_row1_col3\" class=\"data row1 col3\" >0.7375</td>\n",
       "      <td id=\"T_76796_row1_col4\" class=\"data row1 col4\" >0.4637</td>\n",
       "      <td id=\"T_76796_row1_col5\" class=\"data row1 col5\" >0.3782</td>\n",
       "      <td id=\"T_76796_row1_col6\" class=\"data row1 col6\" >0.4190</td>\n",
       "    </tr>\n",
       "    <tr>\n",
       "      <th id=\"T_76796_level0_row2\" class=\"row_heading level0 row2\" >2</th>\n",
       "      <td id=\"T_76796_row2_col0\" class=\"data row2 col0\" >0.8208</td>\n",
       "      <td id=\"T_76796_row2_col1\" class=\"data row2 col1\" >0.7377</td>\n",
       "      <td id=\"T_76796_row2_col2\" class=\"data row2 col2\" >0.2894</td>\n",
       "      <td id=\"T_76796_row2_col3\" class=\"data row2 col3\" >0.7266</td>\n",
       "      <td id=\"T_76796_row2_col4\" class=\"data row2 col4\" >0.4139</td>\n",
       "      <td id=\"T_76796_row2_col5\" class=\"data row2 col5\" >0.3305</td>\n",
       "      <td id=\"T_76796_row2_col6\" class=\"data row2 col6\" >0.3796</td>\n",
       "    </tr>\n",
       "    <tr>\n",
       "      <th id=\"T_76796_level0_row3\" class=\"row_heading level0 row3\" >3</th>\n",
       "      <td id=\"T_76796_row3_col0\" class=\"data row3 col0\" >0.8252</td>\n",
       "      <td id=\"T_76796_row3_col1\" class=\"data row3 col1\" >0.7580</td>\n",
       "      <td id=\"T_76796_row3_col2\" class=\"data row3 col2\" >0.3152</td>\n",
       "      <td id=\"T_76796_row3_col3\" class=\"data row3 col3\" >0.7333</td>\n",
       "      <td id=\"T_76796_row3_col4\" class=\"data row3 col4\" >0.4409</td>\n",
       "      <td id=\"T_76796_row3_col5\" class=\"data row3 col5\" >0.3563</td>\n",
       "      <td id=\"T_76796_row3_col6\" class=\"data row3 col6\" >0.4010</td>\n",
       "    </tr>\n",
       "    <tr>\n",
       "      <th id=\"T_76796_level0_row4\" class=\"row_heading level0 row4\" >4</th>\n",
       "      <td id=\"T_76796_row4_col0\" class=\"data row4 col0\" >0.8195</td>\n",
       "      <td id=\"T_76796_row4_col1\" class=\"data row4 col1\" >0.7545</td>\n",
       "      <td id=\"T_76796_row4_col2\" class=\"data row4 col2\" >0.3095</td>\n",
       "      <td id=\"T_76796_row4_col3\" class=\"data row4 col3\" >0.6968</td>\n",
       "      <td id=\"T_76796_row4_col4\" class=\"data row4 col4\" >0.4286</td>\n",
       "      <td id=\"T_76796_row4_col5\" class=\"data row4 col5\" >0.3398</td>\n",
       "      <td id=\"T_76796_row4_col6\" class=\"data row4 col6\" >0.3794</td>\n",
       "    </tr>\n",
       "    <tr>\n",
       "      <th id=\"T_76796_level0_row5\" class=\"row_heading level0 row5\" >5</th>\n",
       "      <td id=\"T_76796_row5_col0\" class=\"data row5 col0\" >0.8271</td>\n",
       "      <td id=\"T_76796_row5_col1\" class=\"data row5 col1\" >0.7509</td>\n",
       "      <td id=\"T_76796_row5_col2\" class=\"data row5 col2\" >0.3438</td>\n",
       "      <td id=\"T_76796_row5_col3\" class=\"data row5 col3\" >0.7186</td>\n",
       "      <td id=\"T_76796_row5_col4\" class=\"data row5 col4\" >0.4651</td>\n",
       "      <td id=\"T_76796_row5_col5\" class=\"data row5 col5\" >0.3769</td>\n",
       "      <td id=\"T_76796_row5_col6\" class=\"data row5 col6\" >0.4134</td>\n",
       "    </tr>\n",
       "    <tr>\n",
       "      <th id=\"T_76796_level0_row6\" class=\"row_heading level0 row6\" >6</th>\n",
       "      <td id=\"T_76796_row6_col0\" class=\"data row6 col0\" >0.8195</td>\n",
       "      <td id=\"T_76796_row6_col1\" class=\"data row6 col1\" >0.7488</td>\n",
       "      <td id=\"T_76796_row6_col2\" class=\"data row6 col2\" >0.3123</td>\n",
       "      <td id=\"T_76796_row6_col3\" class=\"data row6 col3\" >0.6943</td>\n",
       "      <td id=\"T_76796_row6_col4\" class=\"data row6 col4\" >0.4308</td>\n",
       "      <td id=\"T_76796_row6_col5\" class=\"data row6 col5\" >0.3415</td>\n",
       "      <td id=\"T_76796_row6_col6\" class=\"data row6 col6\" >0.3801</td>\n",
       "    </tr>\n",
       "    <tr>\n",
       "      <th id=\"T_76796_level0_row7\" class=\"row_heading level0 row7\" >7</th>\n",
       "      <td id=\"T_76796_row7_col0\" class=\"data row7 col0\" >0.8246</td>\n",
       "      <td id=\"T_76796_row7_col1\" class=\"data row7 col1\" >0.7529</td>\n",
       "      <td id=\"T_76796_row7_col2\" class=\"data row7 col2\" >0.2980</td>\n",
       "      <td id=\"T_76796_row7_col3\" class=\"data row7 col3\" >0.7482</td>\n",
       "      <td id=\"T_76796_row7_col4\" class=\"data row7 col4\" >0.4262</td>\n",
       "      <td id=\"T_76796_row7_col5\" class=\"data row7 col5\" >0.3446</td>\n",
       "      <td id=\"T_76796_row7_col6\" class=\"data row7 col6\" >0.3957</td>\n",
       "    </tr>\n",
       "    <tr>\n",
       "      <th id=\"T_76796_level0_row8\" class=\"row_heading level0 row8\" >8</th>\n",
       "      <td id=\"T_76796_row8_col0\" class=\"data row8 col0\" >0.8195</td>\n",
       "      <td id=\"T_76796_row8_col1\" class=\"data row8 col1\" >0.7241</td>\n",
       "      <td id=\"T_76796_row8_col2\" class=\"data row8 col2\" >0.3123</td>\n",
       "      <td id=\"T_76796_row8_col3\" class=\"data row8 col3\" >0.6943</td>\n",
       "      <td id=\"T_76796_row8_col4\" class=\"data row8 col4\" >0.4308</td>\n",
       "      <td id=\"T_76796_row8_col5\" class=\"data row8 col5\" >0.3415</td>\n",
       "      <td id=\"T_76796_row8_col6\" class=\"data row8 col6\" >0.3801</td>\n",
       "    </tr>\n",
       "    <tr>\n",
       "      <th id=\"T_76796_level0_row9\" class=\"row_heading level0 row9\" >9</th>\n",
       "      <td id=\"T_76796_row9_col0\" class=\"data row9 col0\" >0.8188</td>\n",
       "      <td id=\"T_76796_row9_col1\" class=\"data row9 col1\" >0.7378</td>\n",
       "      <td id=\"T_76796_row9_col2\" class=\"data row9 col2\" >0.3075</td>\n",
       "      <td id=\"T_76796_row9_col3\" class=\"data row9 col3\" >0.6903</td>\n",
       "      <td id=\"T_76796_row9_col4\" class=\"data row9 col4\" >0.4254</td>\n",
       "      <td id=\"T_76796_row9_col5\" class=\"data row9 col5\" >0.3362</td>\n",
       "      <td id=\"T_76796_row9_col6\" class=\"data row9 col6\" >0.3751</td>\n",
       "    </tr>\n",
       "    <tr>\n",
       "      <th id=\"T_76796_level0_row10\" class=\"row_heading level0 row10\" >Mean</th>\n",
       "      <td id=\"T_76796_row10_col0\" class=\"data row10 col0\" >0.8222</td>\n",
       "      <td id=\"T_76796_row10_col1\" class=\"data row10 col1\" >0.7483</td>\n",
       "      <td id=\"T_76796_row10_col2\" class=\"data row10 col2\" >0.3136</td>\n",
       "      <td id=\"T_76796_row10_col3\" class=\"data row10 col3\" >0.7123</td>\n",
       "      <td id=\"T_76796_row10_col4\" class=\"data row10 col4\" >0.4352</td>\n",
       "      <td id=\"T_76796_row10_col5\" class=\"data row10 col5\" >0.3481</td>\n",
       "      <td id=\"T_76796_row10_col6\" class=\"data row10 col6\" >0.3896</td>\n",
       "    </tr>\n",
       "    <tr>\n",
       "      <th id=\"T_76796_level0_row11\" class=\"row_heading level0 row11\" >Std</th>\n",
       "      <td id=\"T_76796_row11_col0\" class=\"data row11 col0\" >0.0037</td>\n",
       "      <td id=\"T_76796_row11_col1\" class=\"data row11 col1\" >0.0122</td>\n",
       "      <td id=\"T_76796_row11_col2\" class=\"data row11 col2\" >0.0156</td>\n",
       "      <td id=\"T_76796_row11_col3\" class=\"data row11 col3\" >0.0219</td>\n",
       "      <td id=\"T_76796_row11_col4\" class=\"data row11 col4\" >0.0159</td>\n",
       "      <td id=\"T_76796_row11_col5\" class=\"data row11 col5\" >0.0161</td>\n",
       "      <td id=\"T_76796_row11_col6\" class=\"data row11 col6\" >0.0158</td>\n",
       "    </tr>\n",
       "  </tbody>\n",
       "</table>\n"
      ],
      "text/plain": [
       "<pandas.io.formats.style.Styler at 0x7f48f67b00d0>"
      ]
     },
     "metadata": {},
     "output_type": "display_data"
    }
   ],
   "source": [
    "tuned_dt = tune_model(dt)"
   ]
  },
  {
   "cell_type": "code",
   "execution_count": 14,
   "metadata": {
    "pycharm": {
     "name": "#%%\n"
    }
   },
   "outputs": [
    {
     "name": "stdout",
     "output_type": "stream",
     "text": [
      "DecisionTreeClassifier(ccp_alpha=0.0, class_weight=None, criterion='entropy',\n",
      "                       max_depth=6, max_features=1.0, max_leaf_nodes=None,\n",
      "                       min_impurity_decrease=0.002, min_impurity_split=None,\n",
      "                       min_samples_leaf=5, min_samples_split=5,\n",
      "                       min_weight_fraction_leaf=0.0, presort='deprecated',\n",
      "                       random_state=123, splitter='best')\n"
     ]
    }
   ],
   "source": [
    "#tuned model object is stored in the variable 'tuned_dt'.\n",
    "#το μοντέλο με ρυθμισμένες υπερ-παραμέτρους αποθηκεύεται στη μεταβλητή 'tuned_dt'.\n",
    "print(tuned_dt)"
   ]
  },
  {
   "cell_type": "markdown",
   "metadata": {
    "pycharm": {
     "name": "#%% md\n"
    }
   },
   "source": [
    "# 9.2 K Neighbors Classifier"
   ]
  },
  {
   "cell_type": "code",
   "execution_count": 15,
   "metadata": {
    "pycharm": {
     "name": "#%%\n"
    }
   },
   "outputs": [
    {
     "data": {
      "text/html": [
       "<style type=\"text/css\">\n",
       "#T_846bc_row10_col0, #T_846bc_row10_col1, #T_846bc_row10_col2, #T_846bc_row10_col3, #T_846bc_row10_col4, #T_846bc_row10_col5, #T_846bc_row10_col6 {\n",
       "  background: yellow;\n",
       "}\n",
       "</style>\n",
       "<table id=\"T_846bc\">\n",
       "  <thead>\n",
       "    <tr>\n",
       "      <th class=\"blank level0\" >&nbsp;</th>\n",
       "      <th id=\"T_846bc_level0_col0\" class=\"col_heading level0 col0\" >Accuracy</th>\n",
       "      <th id=\"T_846bc_level0_col1\" class=\"col_heading level0 col1\" >AUC</th>\n",
       "      <th id=\"T_846bc_level0_col2\" class=\"col_heading level0 col2\" >Recall</th>\n",
       "      <th id=\"T_846bc_level0_col3\" class=\"col_heading level0 col3\" >Prec.</th>\n",
       "      <th id=\"T_846bc_level0_col4\" class=\"col_heading level0 col4\" >F1</th>\n",
       "      <th id=\"T_846bc_level0_col5\" class=\"col_heading level0 col5\" >Kappa</th>\n",
       "      <th id=\"T_846bc_level0_col6\" class=\"col_heading level0 col6\" >MCC</th>\n",
       "    </tr>\n",
       "    <tr>\n",
       "      <th class=\"index_name level0\" >Fold</th>\n",
       "      <th class=\"blank col0\" >&nbsp;</th>\n",
       "      <th class=\"blank col1\" >&nbsp;</th>\n",
       "      <th class=\"blank col2\" >&nbsp;</th>\n",
       "      <th class=\"blank col3\" >&nbsp;</th>\n",
       "      <th class=\"blank col4\" >&nbsp;</th>\n",
       "      <th class=\"blank col5\" >&nbsp;</th>\n",
       "      <th class=\"blank col6\" >&nbsp;</th>\n",
       "    </tr>\n",
       "  </thead>\n",
       "  <tbody>\n",
       "    <tr>\n",
       "      <th id=\"T_846bc_level0_row0\" class=\"row_heading level0 row0\" >0</th>\n",
       "      <td id=\"T_846bc_row0_col0\" class=\"data row0 col0\" >0.7813</td>\n",
       "      <td id=\"T_846bc_row0_col1\" class=\"data row0 col1\" >0.6482</td>\n",
       "      <td id=\"T_846bc_row0_col2\" class=\"data row0 col2\" >0.0372</td>\n",
       "      <td id=\"T_846bc_row0_col3\" class=\"data row0 col3\" >0.5000</td>\n",
       "      <td id=\"T_846bc_row0_col4\" class=\"data row0 col4\" >0.0693</td>\n",
       "      <td id=\"T_846bc_row0_col5\" class=\"data row0 col5\" >0.0402</td>\n",
       "      <td id=\"T_846bc_row0_col6\" class=\"data row0 col6\" >0.0876</td>\n",
       "    </tr>\n",
       "    <tr>\n",
       "      <th id=\"T_846bc_level0_row1\" class=\"row_heading level0 row1\" >1</th>\n",
       "      <td id=\"T_846bc_row1_col0\" class=\"data row1 col0\" >0.7807</td>\n",
       "      <td id=\"T_846bc_row1_col1\" class=\"data row1 col1\" >0.6436</td>\n",
       "      <td id=\"T_846bc_row1_col2\" class=\"data row1 col2\" >0.0315</td>\n",
       "      <td id=\"T_846bc_row1_col3\" class=\"data row1 col3\" >0.4783</td>\n",
       "      <td id=\"T_846bc_row1_col4\" class=\"data row1 col4\" >0.0591</td>\n",
       "      <td id=\"T_846bc_row1_col5\" class=\"data row1 col5\" >0.0330</td>\n",
       "      <td id=\"T_846bc_row1_col6\" class=\"data row1 col6\" >0.0759</td>\n",
       "    </tr>\n",
       "    <tr>\n",
       "      <th id=\"T_846bc_level0_row2\" class=\"row_heading level0 row2\" >2</th>\n",
       "      <td id=\"T_846bc_row2_col0\" class=\"data row2 col0\" >0.7744</td>\n",
       "      <td id=\"T_846bc_row2_col1\" class=\"data row2 col1\" >0.6563</td>\n",
       "      <td id=\"T_846bc_row2_col2\" class=\"data row2 col2\" >0.0315</td>\n",
       "      <td id=\"T_846bc_row2_col3\" class=\"data row2 col3\" >0.3333</td>\n",
       "      <td id=\"T_846bc_row2_col4\" class=\"data row2 col4\" >0.0576</td>\n",
       "      <td id=\"T_846bc_row2_col5\" class=\"data row2 col5\" >0.0206</td>\n",
       "      <td id=\"T_846bc_row2_col6\" class=\"data row2 col6\" >0.0403</td>\n",
       "    </tr>\n",
       "    <tr>\n",
       "      <th id=\"T_846bc_level0_row3\" class=\"row_heading level0 row3\" >3</th>\n",
       "      <td id=\"T_846bc_row3_col0\" class=\"data row3 col0\" >0.7845</td>\n",
       "      <td id=\"T_846bc_row3_col1\" class=\"data row3 col1\" >0.6589</td>\n",
       "      <td id=\"T_846bc_row3_col2\" class=\"data row3 col2\" >0.0659</td>\n",
       "      <td id=\"T_846bc_row3_col3\" class=\"data row3 col3\" >0.5610</td>\n",
       "      <td id=\"T_846bc_row3_col4\" class=\"data row3 col4\" >0.1179</td>\n",
       "      <td id=\"T_846bc_row3_col5\" class=\"data row3 col5\" >0.0754</td>\n",
       "      <td id=\"T_846bc_row3_col6\" class=\"data row3 col6\" >0.1345</td>\n",
       "    </tr>\n",
       "    <tr>\n",
       "      <th id=\"T_846bc_level0_row4\" class=\"row_heading level0 row4\" >4</th>\n",
       "      <td id=\"T_846bc_row4_col0\" class=\"data row4 col0\" >0.7826</td>\n",
       "      <td id=\"T_846bc_row4_col1\" class=\"data row4 col1\" >0.6645</td>\n",
       "      <td id=\"T_846bc_row4_col2\" class=\"data row4 col2\" >0.0315</td>\n",
       "      <td id=\"T_846bc_row4_col3\" class=\"data row4 col3\" >0.5500</td>\n",
       "      <td id=\"T_846bc_row4_col4\" class=\"data row4 col4\" >0.0596</td>\n",
       "      <td id=\"T_846bc_row4_col5\" class=\"data row4 col5\" >0.0368</td>\n",
       "      <td id=\"T_846bc_row4_col6\" class=\"data row4 col6\" >0.0903</td>\n",
       "    </tr>\n",
       "    <tr>\n",
       "      <th id=\"T_846bc_level0_row5\" class=\"row_heading level0 row5\" >5</th>\n",
       "      <td id=\"T_846bc_row5_col0\" class=\"data row5 col0\" >0.7794</td>\n",
       "      <td id=\"T_846bc_row5_col1\" class=\"data row5 col1\" >0.6477</td>\n",
       "      <td id=\"T_846bc_row5_col2\" class=\"data row5 col2\" >0.0544</td>\n",
       "      <td id=\"T_846bc_row5_col3\" class=\"data row5 col3\" >0.4634</td>\n",
       "      <td id=\"T_846bc_row5_col4\" class=\"data row5 col4\" >0.0974</td>\n",
       "      <td id=\"T_846bc_row5_col5\" class=\"data row5 col5\" >0.0539</td>\n",
       "      <td id=\"T_846bc_row5_col6\" class=\"data row5 col6\" >0.0961</td>\n",
       "    </tr>\n",
       "    <tr>\n",
       "      <th id=\"T_846bc_level0_row6\" class=\"row_heading level0 row6\" >6</th>\n",
       "      <td id=\"T_846bc_row6_col0\" class=\"data row6 col0\" >0.7826</td>\n",
       "      <td id=\"T_846bc_row6_col1\" class=\"data row6 col1\" >0.6278</td>\n",
       "      <td id=\"T_846bc_row6_col2\" class=\"data row6 col2\" >0.0630</td>\n",
       "      <td id=\"T_846bc_row6_col3\" class=\"data row6 col3\" >0.5238</td>\n",
       "      <td id=\"T_846bc_row6_col4\" class=\"data row6 col4\" >0.1125</td>\n",
       "      <td id=\"T_846bc_row6_col5\" class=\"data row6 col5\" >0.0688</td>\n",
       "      <td id=\"T_846bc_row6_col6\" class=\"data row6 col6\" >0.1214</td>\n",
       "    </tr>\n",
       "    <tr>\n",
       "      <th id=\"T_846bc_level0_row7\" class=\"row_heading level0 row7\" >7</th>\n",
       "      <td id=\"T_846bc_row7_col0\" class=\"data row7 col0\" >0.7751</td>\n",
       "      <td id=\"T_846bc_row7_col1\" class=\"data row7 col1\" >0.6702</td>\n",
       "      <td id=\"T_846bc_row7_col2\" class=\"data row7 col2\" >0.0372</td>\n",
       "      <td id=\"T_846bc_row7_col3\" class=\"data row7 col3\" >0.3611</td>\n",
       "      <td id=\"T_846bc_row7_col4\" class=\"data row7 col4\" >0.0675</td>\n",
       "      <td id=\"T_846bc_row7_col5\" class=\"data row7 col5\" >0.0278</td>\n",
       "      <td id=\"T_846bc_row7_col6\" class=\"data row7 col6\" >0.0523</td>\n",
       "    </tr>\n",
       "    <tr>\n",
       "      <th id=\"T_846bc_level0_row8\" class=\"row_heading level0 row8\" >8</th>\n",
       "      <td id=\"T_846bc_row8_col0\" class=\"data row8 col0\" >0.7813</td>\n",
       "      <td id=\"T_846bc_row8_col1\" class=\"data row8 col1\" >0.6409</td>\n",
       "      <td id=\"T_846bc_row8_col2\" class=\"data row8 col2\" >0.0630</td>\n",
       "      <td id=\"T_846bc_row8_col3\" class=\"data row8 col3\" >0.5000</td>\n",
       "      <td id=\"T_846bc_row8_col4\" class=\"data row8 col4\" >0.1120</td>\n",
       "      <td id=\"T_846bc_row8_col5\" class=\"data row8 col5\" >0.0662</td>\n",
       "      <td id=\"T_846bc_row8_col6\" class=\"data row8 col6\" >0.1146</td>\n",
       "    </tr>\n",
       "    <tr>\n",
       "      <th id=\"T_846bc_level0_row9\" class=\"row_heading level0 row9\" >9</th>\n",
       "      <td id=\"T_846bc_row9_col0\" class=\"data row9 col0\" >0.7881</td>\n",
       "      <td id=\"T_846bc_row9_col1\" class=\"data row9 col1\" >0.6426</td>\n",
       "      <td id=\"T_846bc_row9_col2\" class=\"data row9 col2\" >0.0661</td>\n",
       "      <td id=\"T_846bc_row9_col3\" class=\"data row9 col3\" >0.6389</td>\n",
       "      <td id=\"T_846bc_row9_col4\" class=\"data row9 col4\" >0.1198</td>\n",
       "      <td id=\"T_846bc_row9_col5\" class=\"data row9 col5\" >0.0822</td>\n",
       "      <td id=\"T_846bc_row9_col6\" class=\"data row9 col6\" >0.1548</td>\n",
       "    </tr>\n",
       "    <tr>\n",
       "      <th id=\"T_846bc_level0_row10\" class=\"row_heading level0 row10\" >Mean</th>\n",
       "      <td id=\"T_846bc_row10_col0\" class=\"data row10 col0\" >0.7810</td>\n",
       "      <td id=\"T_846bc_row10_col1\" class=\"data row10 col1\" >0.6501</td>\n",
       "      <td id=\"T_846bc_row10_col2\" class=\"data row10 col2\" >0.0482</td>\n",
       "      <td id=\"T_846bc_row10_col3\" class=\"data row10 col3\" >0.4910</td>\n",
       "      <td id=\"T_846bc_row10_col4\" class=\"data row10 col4\" >0.0873</td>\n",
       "      <td id=\"T_846bc_row10_col5\" class=\"data row10 col5\" >0.0505</td>\n",
       "      <td id=\"T_846bc_row10_col6\" class=\"data row10 col6\" >0.0968</td>\n",
       "    </tr>\n",
       "    <tr>\n",
       "      <th id=\"T_846bc_level0_row11\" class=\"row_heading level0 row11\" >Std</th>\n",
       "      <td id=\"T_846bc_row11_col0\" class=\"data row11 col0\" >0.0039</td>\n",
       "      <td id=\"T_846bc_row11_col1\" class=\"data row11 col1\" >0.0119</td>\n",
       "      <td id=\"T_846bc_row11_col2\" class=\"data row11 col2\" >0.0148</td>\n",
       "      <td id=\"T_846bc_row11_col3\" class=\"data row11 col3\" >0.0861</td>\n",
       "      <td id=\"T_846bc_row11_col4\" class=\"data row11 col4\" >0.0255</td>\n",
       "      <td id=\"T_846bc_row11_col5\" class=\"data row11 col5\" >0.0206</td>\n",
       "      <td id=\"T_846bc_row11_col6\" class=\"data row11 col6\" >0.0338</td>\n",
       "    </tr>\n",
       "  </tbody>\n",
       "</table>\n"
      ],
      "text/plain": [
       "<pandas.io.formats.style.Styler at 0x7f48f6829d00>"
      ]
     },
     "metadata": {},
     "output_type": "display_data"
    }
   ],
   "source": [
    "import numpy as np\n",
    "tuned_knn = tune_model(knn, custom_grid = {'n_neighbors' : np.arange(0,50,1)})"
   ]
  },
  {
   "cell_type": "code",
   "execution_count": 16,
   "metadata": {
    "pycharm": {
     "name": "#%%\n"
    }
   },
   "outputs": [
    {
     "name": "stdout",
     "output_type": "stream",
     "text": [
      "KNeighborsClassifier(algorithm='auto', leaf_size=30, metric='minkowski',\n",
      "                     metric_params=None, n_jobs=-1, n_neighbors=42, p=2,\n",
      "                     weights='uniform')\n"
     ]
    }
   ],
   "source": [
    "print(tuned_knn)"
   ]
  },
  {
   "cell_type": "markdown",
   "metadata": {
    "pycharm": {
     "name": "#%% md\n"
    }
   },
   "source": [
    "# 9.3 Random Forest Classifier"
   ]
  },
  {
   "cell_type": "code",
   "execution_count": 17,
   "metadata": {
    "pycharm": {
     "name": "#%%\n"
    }
   },
   "outputs": [
    {
     "data": {
      "text/html": [
       "<style type=\"text/css\">\n",
       "#T_4abdf_row10_col0, #T_4abdf_row10_col1, #T_4abdf_row10_col2, #T_4abdf_row10_col3, #T_4abdf_row10_col4, #T_4abdf_row10_col5, #T_4abdf_row10_col6 {\n",
       "  background: yellow;\n",
       "}\n",
       "</style>\n",
       "<table id=\"T_4abdf\">\n",
       "  <thead>\n",
       "    <tr>\n",
       "      <th class=\"blank level0\" >&nbsp;</th>\n",
       "      <th id=\"T_4abdf_level0_col0\" class=\"col_heading level0 col0\" >Accuracy</th>\n",
       "      <th id=\"T_4abdf_level0_col1\" class=\"col_heading level0 col1\" >AUC</th>\n",
       "      <th id=\"T_4abdf_level0_col2\" class=\"col_heading level0 col2\" >Recall</th>\n",
       "      <th id=\"T_4abdf_level0_col3\" class=\"col_heading level0 col3\" >Prec.</th>\n",
       "      <th id=\"T_4abdf_level0_col4\" class=\"col_heading level0 col4\" >F1</th>\n",
       "      <th id=\"T_4abdf_level0_col5\" class=\"col_heading level0 col5\" >Kappa</th>\n",
       "      <th id=\"T_4abdf_level0_col6\" class=\"col_heading level0 col6\" >MCC</th>\n",
       "    </tr>\n",
       "    <tr>\n",
       "      <th class=\"index_name level0\" >Fold</th>\n",
       "      <th class=\"blank col0\" >&nbsp;</th>\n",
       "      <th class=\"blank col1\" >&nbsp;</th>\n",
       "      <th class=\"blank col2\" >&nbsp;</th>\n",
       "      <th class=\"blank col3\" >&nbsp;</th>\n",
       "      <th class=\"blank col4\" >&nbsp;</th>\n",
       "      <th class=\"blank col5\" >&nbsp;</th>\n",
       "      <th class=\"blank col6\" >&nbsp;</th>\n",
       "    </tr>\n",
       "  </thead>\n",
       "  <tbody>\n",
       "    <tr>\n",
       "      <th id=\"T_4abdf_level0_row0\" class=\"row_heading level0 row0\" >0</th>\n",
       "      <td id=\"T_4abdf_row0_col0\" class=\"data row0 col0\" >0.8158</td>\n",
       "      <td id=\"T_4abdf_row0_col1\" class=\"data row0 col1\" >0.7508</td>\n",
       "      <td id=\"T_4abdf_row0_col2\" class=\"data row0 col2\" >0.3181</td>\n",
       "      <td id=\"T_4abdf_row0_col3\" class=\"data row0 col3\" >0.6647</td>\n",
       "      <td id=\"T_4abdf_row0_col4\" class=\"data row0 col4\" >0.4302</td>\n",
       "      <td id=\"T_4abdf_row0_col5\" class=\"data row0 col5\" >0.3363</td>\n",
       "      <td id=\"T_4abdf_row0_col6\" class=\"data row0 col6\" >0.3689</td>\n",
       "    </tr>\n",
       "    <tr>\n",
       "      <th id=\"T_4abdf_level0_row1\" class=\"row_heading level0 row1\" >1</th>\n",
       "      <td id=\"T_4abdf_row1_col0\" class=\"data row1 col0\" >0.8283</td>\n",
       "      <td id=\"T_4abdf_row1_col1\" class=\"data row1 col1\" >0.7675</td>\n",
       "      <td id=\"T_4abdf_row1_col2\" class=\"data row1 col2\" >0.3295</td>\n",
       "      <td id=\"T_4abdf_row1_col3\" class=\"data row1 col3\" >0.7419</td>\n",
       "      <td id=\"T_4abdf_row1_col4\" class=\"data row1 col4\" >0.4563</td>\n",
       "      <td id=\"T_4abdf_row1_col5\" class=\"data row1 col5\" >0.3719</td>\n",
       "      <td id=\"T_4abdf_row1_col6\" class=\"data row1 col6\" >0.4152</td>\n",
       "    </tr>\n",
       "    <tr>\n",
       "      <th id=\"T_4abdf_level0_row2\" class=\"row_heading level0 row2\" >2</th>\n",
       "      <td id=\"T_4abdf_row2_col0\" class=\"data row2 col0\" >0.8139</td>\n",
       "      <td id=\"T_4abdf_row2_col1\" class=\"data row2 col1\" >0.7337</td>\n",
       "      <td id=\"T_4abdf_row2_col2\" class=\"data row2 col2\" >0.3181</td>\n",
       "      <td id=\"T_4abdf_row2_col3\" class=\"data row2 col3\" >0.6529</td>\n",
       "      <td id=\"T_4abdf_row2_col4\" class=\"data row2 col4\" >0.4277</td>\n",
       "      <td id=\"T_4abdf_row2_col5\" class=\"data row2 col5\" >0.3321</td>\n",
       "      <td id=\"T_4abdf_row2_col6\" class=\"data row2 col6\" >0.3628</td>\n",
       "    </tr>\n",
       "    <tr>\n",
       "      <th id=\"T_4abdf_level0_row3\" class=\"row_heading level0 row3\" >3</th>\n",
       "      <td id=\"T_4abdf_row3_col0\" class=\"data row3 col0\" >0.8246</td>\n",
       "      <td id=\"T_4abdf_row3_col1\" class=\"data row3 col1\" >0.7588</td>\n",
       "      <td id=\"T_4abdf_row3_col2\" class=\"data row3 col2\" >0.3095</td>\n",
       "      <td id=\"T_4abdf_row3_col3\" class=\"data row3 col3\" >0.7347</td>\n",
       "      <td id=\"T_4abdf_row3_col4\" class=\"data row3 col4\" >0.4355</td>\n",
       "      <td id=\"T_4abdf_row3_col5\" class=\"data row3 col5\" >0.3514</td>\n",
       "      <td id=\"T_4abdf_row3_col6\" class=\"data row3 col6\" >0.3976</td>\n",
       "    </tr>\n",
       "    <tr>\n",
       "      <th id=\"T_4abdf_level0_row4\" class=\"row_heading level0 row4\" >4</th>\n",
       "      <td id=\"T_4abdf_row4_col0\" class=\"data row4 col0\" >0.8170</td>\n",
       "      <td id=\"T_4abdf_row4_col1\" class=\"data row4 col1\" >0.7567</td>\n",
       "      <td id=\"T_4abdf_row4_col2\" class=\"data row4 col2\" >0.3438</td>\n",
       "      <td id=\"T_4abdf_row4_col3\" class=\"data row4 col3\" >0.6557</td>\n",
       "      <td id=\"T_4abdf_row4_col4\" class=\"data row4 col4\" >0.4511</td>\n",
       "      <td id=\"T_4abdf_row4_col5\" class=\"data row4 col5\" >0.3539</td>\n",
       "      <td id=\"T_4abdf_row4_col6\" class=\"data row4 col6\" >0.3805</td>\n",
       "    </tr>\n",
       "    <tr>\n",
       "      <th id=\"T_4abdf_level0_row5\" class=\"row_heading level0 row5\" >5</th>\n",
       "      <td id=\"T_4abdf_row5_col0\" class=\"data row5 col0\" >0.8258</td>\n",
       "      <td id=\"T_4abdf_row5_col1\" class=\"data row5 col1\" >0.7506</td>\n",
       "      <td id=\"T_4abdf_row5_col2\" class=\"data row5 col2\" >0.3324</td>\n",
       "      <td id=\"T_4abdf_row5_col3\" class=\"data row5 col3\" >0.7205</td>\n",
       "      <td id=\"T_4abdf_row5_col4\" class=\"data row5 col4\" >0.4549</td>\n",
       "      <td id=\"T_4abdf_row5_col5\" class=\"data row5 col5\" >0.3676</td>\n",
       "      <td id=\"T_4abdf_row5_col6\" class=\"data row5 col6\" >0.4067</td>\n",
       "    </tr>\n",
       "    <tr>\n",
       "      <th id=\"T_4abdf_level0_row6\" class=\"row_heading level0 row6\" >6</th>\n",
       "      <td id=\"T_4abdf_row6_col0\" class=\"data row6 col0\" >0.8170</td>\n",
       "      <td id=\"T_4abdf_row6_col1\" class=\"data row6 col1\" >0.7530</td>\n",
       "      <td id=\"T_4abdf_row6_col2\" class=\"data row6 col2\" >0.3324</td>\n",
       "      <td id=\"T_4abdf_row6_col3\" class=\"data row6 col3\" >0.6629</td>\n",
       "      <td id=\"T_4abdf_row6_col4\" class=\"data row6 col4\" >0.4427</td>\n",
       "      <td id=\"T_4abdf_row6_col5\" class=\"data row6 col5\" >0.3474</td>\n",
       "      <td id=\"T_4abdf_row6_col6\" class=\"data row6 col6\" >0.3771</td>\n",
       "    </tr>\n",
       "    <tr>\n",
       "      <th id=\"T_4abdf_level0_row7\" class=\"row_heading level0 row7\" >7</th>\n",
       "      <td id=\"T_4abdf_row7_col0\" class=\"data row7 col0\" >0.8221</td>\n",
       "      <td id=\"T_4abdf_row7_col1\" class=\"data row7 col1\" >0.7507</td>\n",
       "      <td id=\"T_4abdf_row7_col2\" class=\"data row7 col2\" >0.3381</td>\n",
       "      <td id=\"T_4abdf_row7_col3\" class=\"data row7 col3\" >0.6901</td>\n",
       "      <td id=\"T_4abdf_row7_col4\" class=\"data row7 col4\" >0.4538</td>\n",
       "      <td id=\"T_4abdf_row7_col5\" class=\"data row7 col5\" >0.3621</td>\n",
       "      <td id=\"T_4abdf_row7_col6\" class=\"data row7 col6\" >0.3951</td>\n",
       "    </tr>\n",
       "    <tr>\n",
       "      <th id=\"T_4abdf_level0_row8\" class=\"row_heading level0 row8\" >8</th>\n",
       "      <td id=\"T_4abdf_row8_col0\" class=\"data row8 col0\" >0.8177</td>\n",
       "      <td id=\"T_4abdf_row8_col1\" class=\"data row8 col1\" >0.7201</td>\n",
       "      <td id=\"T_4abdf_row8_col2\" class=\"data row8 col2\" >0.2980</td>\n",
       "      <td id=\"T_4abdf_row8_col3\" class=\"data row8 col3\" >0.6933</td>\n",
       "      <td id=\"T_4abdf_row8_col4\" class=\"data row8 col4\" >0.4168</td>\n",
       "      <td id=\"T_4abdf_row8_col5\" class=\"data row8 col5\" >0.3286</td>\n",
       "      <td id=\"T_4abdf_row8_col6\" class=\"data row8 col6\" >0.3699</td>\n",
       "    </tr>\n",
       "    <tr>\n",
       "      <th id=\"T_4abdf_level0_row9\" class=\"row_heading level0 row9\" >9</th>\n",
       "      <td id=\"T_4abdf_row9_col0\" class=\"data row9 col0\" >0.8207</td>\n",
       "      <td id=\"T_4abdf_row9_col1\" class=\"data row9 col1\" >0.7484</td>\n",
       "      <td id=\"T_4abdf_row9_col2\" class=\"data row9 col2\" >0.3132</td>\n",
       "      <td id=\"T_4abdf_row9_col3\" class=\"data row9 col3\" >0.6987</td>\n",
       "      <td id=\"T_4abdf_row9_col4\" class=\"data row9 col4\" >0.4325</td>\n",
       "      <td id=\"T_4abdf_row9_col5\" class=\"data row9 col5\" >0.3439</td>\n",
       "      <td id=\"T_4abdf_row9_col6\" class=\"data row9 col6\" >0.3831</td>\n",
       "    </tr>\n",
       "    <tr>\n",
       "      <th id=\"T_4abdf_level0_row10\" class=\"row_heading level0 row10\" >Mean</th>\n",
       "      <td id=\"T_4abdf_row10_col0\" class=\"data row10 col0\" >0.8203</td>\n",
       "      <td id=\"T_4abdf_row10_col1\" class=\"data row10 col1\" >0.7490</td>\n",
       "      <td id=\"T_4abdf_row10_col2\" class=\"data row10 col2\" >0.3233</td>\n",
       "      <td id=\"T_4abdf_row10_col3\" class=\"data row10 col3\" >0.6915</td>\n",
       "      <td id=\"T_4abdf_row10_col4\" class=\"data row10 col4\" >0.4402</td>\n",
       "      <td id=\"T_4abdf_row10_col5\" class=\"data row10 col5\" >0.3495</td>\n",
       "      <td id=\"T_4abdf_row10_col6\" class=\"data row10 col6\" >0.3857</td>\n",
       "    </tr>\n",
       "    <tr>\n",
       "      <th id=\"T_4abdf_level0_row11\" class=\"row_heading level0 row11\" >Std</th>\n",
       "      <td id=\"T_4abdf_row11_col0\" class=\"data row11 col0\" >0.0045</td>\n",
       "      <td id=\"T_4abdf_row11_col1\" class=\"data row11 col1\" >0.0126</td>\n",
       "      <td id=\"T_4abdf_row11_col2\" class=\"data row11 col2\" >0.0135</td>\n",
       "      <td id=\"T_4abdf_row11_col3\" class=\"data row11 col3\" >0.0310</td>\n",
       "      <td id=\"T_4abdf_row11_col4\" class=\"data row11 col4\" >0.0129</td>\n",
       "      <td id=\"T_4abdf_row11_col5\" class=\"data row11 col5\" >0.0140</td>\n",
       "      <td id=\"T_4abdf_row11_col6\" class=\"data row11 col6\" >0.0165</td>\n",
       "    </tr>\n",
       "  </tbody>\n",
       "</table>\n"
      ],
      "text/plain": [
       "<pandas.io.formats.style.Styler at 0x7f48f67cbb20>"
      ]
     },
     "metadata": {},
     "output_type": "display_data"
    }
   ],
   "source": [
    "tuned_rf = tune_model(rf)"
   ]
  },
  {
   "cell_type": "markdown",
   "metadata": {
    "pycharm": {
     "name": "#%% md\n"
    }
   },
   "source": [
    "Εκ προεπιλογής, η συνάρτηση `tune_model` βελτιστοποιεί το `Accuracy`, αλλά αυτό μπορεί να αλλάξει ορίζοντας την παράμετρο `optimize`. Για παράδειγμα, το `tune_model(dt, optimize = 'AUC')` θα αναζητήσει υπερ-παραμέτρους για έναν Ταξινομητή Decision Tree που καταλήγει να έχει το υψηλότερο `AUC` αντί για `Accuracy`. Για τις ανάγκες αυτού του παραδείγματος χρησιμοποιήσαμε την προεπιλεγμένη μετρική `Accuracy` για λόγους απλότητας. Γενικά, όταν το dataset δεν είναι ισορροπημένο (imbalanced), όπως αυτό με το οποίο δουλεύουμε τώρα, δε συστήνεται να λάβουμε υπόψη μια μετρική σαν το `Accuracy`. Η μεθοδολογία επιλογής της καλύτερης μετρικής για την αξιολόγηση των ταξινομητών ξεπερνά το πεδίο αυτού του μαθήματος, αλλά αν θέλετε να μάθετε περισσότερα σχετικά με αυτό, μπορείτε να κλικάρετε __[εδώ](https://medium.com/@MohammedS/performance-metrics-for-classification-problems-in-machine-learning-part-i-b085d432082b)__ για να διαβάσετε πώς να επιλέξετε την ιδανική μετρική αξιολόγησης.\n",
    "\n",
    "Η μετρική από μόνης της δεν είναι το μοναδικό κριτήριο που πρέπει να λάβετε υπόψη για να οριστικοποιήσετε το καλύτερο μοντέλο. Άλλοι παράγοντες είναι ο χρόνος εκπαίδευσης, η τυπική απόκλιση των kfolds κ.α. Στα επόμενα επίπεδα αυτής της σειράς μαθημάτων θα συζητήσουμε λεπτομερώς αυτούς τους παράγοντες. Προς το παρόν, ας συνεχίσουμε θεωρώντας το Tuned Random Forest Classifier `tuned_rf`, ως το καλύτερο μοντέλο για το υπόλοιπο αυτού του μαθήματος."
   ]
  },
  {
   "cell_type": "markdown",
   "metadata": {
    "pycharm": {
     "name": "#%% md\n"
    }
   },
   "source": [
    "# 10.0 Γραφφική Απεικόνιση Μοντέλου"
   ]
  },
  {
   "cell_type": "markdown",
   "metadata": {
    "pycharm": {
     "name": "#%% md\n"
    }
   },
   "source": [
    "Πριν την οριστικοποίηση του μοντέλου, μπορεί να χρησιμοποιηθεί η συνάρτηση `plot_model()` για να αναλύσουμε την απόδοση από διάφορες σκοπιές, όπως AUC, confusion_matrix, decision boundary κλπ. Αυτή η συνάρτηση δέχεται ένα αντικείμενο (object) εκπαιδευμένου μοντέλου και επιστρέφει μια γραφική απεικόνιση βάσει του test / hold-out set.\n",
    "\n",
    "Υπάρχουν 15 διαφορετικά διαθέσιμα γραφήματα, παρακαλώ ανατρέξτε στο docstring της `plot_model()` για να βρείτε τη λίστα με τα διαθέσιμα γραφήματα."
   ]
  },
  {
   "cell_type": "markdown",
   "metadata": {
    "pycharm": {
     "name": "#%% md\n"
    }
   },
   "source": [
    "# 10.1 Γράφημα AUC"
   ]
  },
  {
   "cell_type": "code",
   "execution_count": 18,
   "metadata": {
    "pycharm": {
     "name": "#%%\n"
    }
   },
   "outputs": [
    {
     "data": {
      "image/png": "[encoded data removed]",
      "text/plain": [
       "<Figure size 432x288 with 1 Axes>"
      ]
     },
     "metadata": {
      "needs_background": "light"
     },
     "output_type": "display_data"
    }
   ],
   "source": [
    "plot_model(tuned_rf, plot = 'auc')"
   ]
  },
  {
   "cell_type": "markdown",
   "metadata": {
    "pycharm": {
     "name": "#%% md\n"
    }
   },
   "source": [
    "# 10.2 Καμπύλη Precision-Recall"
   ]
  },
  {
   "cell_type": "code",
   "execution_count": 19,
   "metadata": {
    "pycharm": {
     "name": "#%%\n"
    }
   },
   "outputs": [
    {
     "data": {
      "image/png": "[encoded data removed]",
      "text/plain": [
       "<Figure size 432x288 with 1 Axes>"
      ]
     },
     "metadata": {
      "needs_background": "light"
     },
     "output_type": "display_data"
    }
   ],
   "source": [
    "plot_model(tuned_rf, plot = 'pr')"
   ]
  },
  {
   "cell_type": "markdown",
   "metadata": {
    "pycharm": {
     "name": "#%% md\n"
    }
   },
   "source": [
    "# 10.3 Γράφημα Σπουδαιότητας των Χαρακτηριστικών (Features)"
   ]
  },
  {
   "cell_type": "code",
   "execution_count": 20,
   "metadata": {
    "pycharm": {
     "name": "#%%\n"
    }
   },
   "outputs": [
    {
     "data": {
      "image/png": "[encoded data removed]",
      "text/plain": [
       "<Figure size 800x500 with 1 Axes>"
      ]
     },
     "metadata": {
      "needs_background": "light"
     },
     "output_type": "display_data"
    }
   ],
   "source": [
    "plot_model(tuned_rf, plot='feature')"
   ]
  },
  {
   "cell_type": "markdown",
   "metadata": {
    "pycharm": {
     "name": "#%% md\n"
    }
   },
   "source": [
    "# 10.4 Confusion Matrix"
   ]
  },
  {
   "cell_type": "code",
   "execution_count": 21,
   "metadata": {
    "pycharm": {
     "name": "#%%\n"
    }
   },
   "outputs": [
    {
     "data": {
      "image/png": "[encoded data removed]",
      "text/plain": [
       "<Figure size 432x288 with 1 Axes>"
      ]
     },
     "metadata": {
      "needs_background": "light"
     },
     "output_type": "display_data"
    }
   ],
   "source": [
    "plot_model(tuned_rf, plot = 'confusion_matrix')"
   ]
  },
  {
   "cell_type": "markdown",
   "metadata": {
    "pycharm": {
     "name": "#%% md\n"
    }
   },
   "source": [
    "*Ένας άλλος τρόπος* ανάλυσης της απόδοσης των μοντέλων γίνεται με τη χρήση της συνάρτησης `evaluate_model()`, η οποία εμφανίζει ένα γραφικό περιβάλλον με όλα τα διαθέσιμα γραφήματα για ένα δεδομένο μοντέλο. Εσωτερικά χρησιμοποιεί τη συνάρτηση `plot_model()`."
   ]
  },
  {
   "cell_type": "code",
   "execution_count": 22,
   "metadata": {
    "pycharm": {
     "name": "#%%\n"
    }
   },
   "outputs": [
    {
     "data": {
      "application/vnd.jupyter.widget-view+json": {
       "model_id": "5aeb0446fe204f26adb8d51710569ef9",
       "version_major": 2,
       "version_minor": 0
      },
      "text/plain": [
       "interactive(children=(ToggleButtons(description='Plot Type:', icons=('',), options=(('Hyperparameters', 'param…"
      ]
     },
     "metadata": {},
     "output_type": "display_data"
    }
   ],
   "source": [
    "evaluate_model(tuned_rf)"
   ]
  },
  {
   "cell_type": "markdown",
   "metadata": {
    "pycharm": {
     "name": "#%% md\n"
    }
   },
   "source": [
    "# 11.0 Προβλέψεις στο Test / Hold-Out Set"
   ]
  },
  {
   "cell_type": "markdown",
   "metadata": {
    "pycharm": {
     "name": "#%% md\n"
    }
   },
   "source": [
    "Πριν την οριστικοποίηση του μοντέλου, συνιστάται να κάνουμε έναν τελευταίο έλεγχο εξάγοντας τις προβλέψεις από το test/hold-out σετ και εξετάζοντας τις μετρικές αξιολόγησης. Αν ανατρέξετε στον πίνακα με τις πληροφορίες της Ενότητας 6, θα διαπιστώσετε ότι το 30% (6.841 δείγματα) των δεδομένων έχει διαχωριστεί - διαμορφώνοντας το test/hold-out set. Όλα τα αποτελέσματα των παραπάνω μετρικών αξιολόγησης αφορούν μόνο τα δεδομένα εκπαίδευσης (training set), δηλαδή το 70%. Τώρα, θα χρησιμοποιήσουμε το αποθηκευμένο εκπαιδευμένο μοντέλο για κάνουμε προβλέψεις στα δεδομένα που διαχωρίσαμε και να εξάγουμε τα αποτελέσματα των μετρικών αξιολόγησης. Σκοπός είναι να δούμε αν υπάρχει ουσιαστική διαφορά σε σχέση με τα αποτελέσματα από το cross validation."
   ]
  },
  {
   "cell_type": "code",
   "execution_count": 23,
   "metadata": {
    "pycharm": {
     "name": "#%%\n"
    }
   },
   "outputs": [
    {
     "data": {
      "text/html": [
       "<style type=\"text/css\">\n",
       "</style>\n",
       "<table id=\"T_036d7\">\n",
       "  <thead>\n",
       "    <tr>\n",
       "      <th class=\"blank level0\" >&nbsp;</th>\n",
       "      <th id=\"T_036d7_level0_col0\" class=\"col_heading level0 col0\" >Model</th>\n",
       "      <th id=\"T_036d7_level0_col1\" class=\"col_heading level0 col1\" >Accuracy</th>\n",
       "      <th id=\"T_036d7_level0_col2\" class=\"col_heading level0 col2\" >AUC</th>\n",
       "      <th id=\"T_036d7_level0_col3\" class=\"col_heading level0 col3\" >Recall</th>\n",
       "      <th id=\"T_036d7_level0_col4\" class=\"col_heading level0 col4\" >Prec.</th>\n",
       "      <th id=\"T_036d7_level0_col5\" class=\"col_heading level0 col5\" >F1</th>\n",
       "      <th id=\"T_036d7_level0_col6\" class=\"col_heading level0 col6\" >Kappa</th>\n",
       "      <th id=\"T_036d7_level0_col7\" class=\"col_heading level0 col7\" >MCC</th>\n",
       "    </tr>\n",
       "  </thead>\n",
       "  <tbody>\n",
       "    <tr>\n",
       "      <th id=\"T_036d7_level0_row0\" class=\"row_heading level0 row0\" >0</th>\n",
       "      <td id=\"T_036d7_row0_col0\" class=\"data row0 col0\" >Random Forest Classifier</td>\n",
       "      <td id=\"T_036d7_row0_col1\" class=\"data row0 col1\" >0.8116</td>\n",
       "      <td id=\"T_036d7_row0_col2\" class=\"data row0 col2\" >0.7407</td>\n",
       "      <td id=\"T_036d7_row0_col3\" class=\"data row0 col3\" >0.3436</td>\n",
       "      <td id=\"T_036d7_row0_col4\" class=\"data row0 col4\" >0.6650</td>\n",
       "      <td id=\"T_036d7_row0_col5\" class=\"data row0 col5\" >0.4531</td>\n",
       "      <td id=\"T_036d7_row0_col6\" class=\"data row0 col6\" >0.3530</td>\n",
       "      <td id=\"T_036d7_row0_col7\" class=\"data row0 col7\" >0.3811</td>\n",
       "    </tr>\n",
       "  </tbody>\n",
       "</table>\n"
      ],
      "text/plain": [
       "<pandas.io.formats.style.Styler at 0x7f48f679f3d0>"
      ]
     },
     "metadata": {},
     "output_type": "display_data"
    }
   ],
   "source": [
    "predict_model(tuned_rf);"
   ]
  },
  {
   "cell_type": "markdown",
   "metadata": {
    "pycharm": {
     "name": "#%% md\n"
    }
   },
   "source": [
    "Το accuracy στο test/hold-out set είναι **`0.8116`** για το μοντέλο `tuned_rf`. Το αποτέλεσμα της ίδιας μετρικής κάνοντας cross validation ήταν **`0.8203`** (βλέπε Ενότητα 9.3). Αυτή δεν είναι ουσιαστική διαφορά. Αν υπάρχει μεγαλύτερη διακύμανση μεταξύ των αποτελεσμάτων test/hold-out και CV, τότε συνήθως αυτό υπονοεί over-fitting (ΣτΜ: δηλαδή ότι το μοντέλο έχει προσαρμοστεί υπερβολικά στα δεδομένα εκπαίδευσης και δεν μπορεί να γενικεύσει σε άγνωστα δεδομένα), αλλά μπορεί να οφείλεται και σε άλλους παράγοντες που χρήζουν περαιτέρω διερεύνησης. Σε αυτή την περίπτωση, θα προχωρήσουμε παρακάτω οριστικοποιώντας το μοντέλο και εξάγοντας τις προβλέψεις για τα άγνωστα δεδομένα. Δηλαδή, το 5% των δεδομένων που είχαμε διαχωρίσει από την αρχή και δεν τα έχει δει ποτέ η PyCaret.\n",
    "\n",
    "(Συμβουλή: Είναι πάντα καλή πρακτική να κοιτάμε την τυπική απόκλιση στα αποτελέσματα από του cross validation, όταν χρησιμοποιούμε το `create_model()`.)"
   ]
  },
  {
   "cell_type": "markdown",
   "metadata": {
    "pycharm": {
     "name": "#%% md\n"
    }
   },
   "source": [
    "# 12.0 Οριστικοποίηση Μοντέλου για Τελική Χρήση."
   ]
  },
  {
   "cell_type": "markdown",
   "metadata": {
    "pycharm": {
     "name": "#%% md\n"
    }
   },
   "source": [
    "Η οριστικοποίηση του μοντέλου είναι το τελευταίο βήμα του πειράματος. Μια τυπική ροή εργασιών μηχανικής μάθησης (ML workflow) ξεκινάει με τη συνάρτηση `setup()`, συνεχίζει συγκρίνοντας τα μοντέλα με την `compare_models()`, εκεί προκρίνονται μερικά υποψήφια μοντέλα (βάσει της μετρικής που ενδιαφέρει) και στα οποία εφαρμόζονται διάφορες τεχνικής μοντελοποίησης, όπως η ρύθμιση των υπερ-παραμέτρων, ensembling, stacking κλπ. Τελικά, αυτή η ροή εργασιών θα οδηγήσει στο καλύτερο μοντέλο που θα χρησιμοποιηθεί για να εξαχθούν οι προβλέψεις από νέα και άγνωστα δεδομένα. Η συνάρτηση `finalize_model()` προσαρμόζει το μοντέλο σε ολόκληρο το dataset, συμπεριλαμβανομένου του test/hold-out set (30% σε αυτή την περίπτωση). Ο σκοπός αυτής της συνάρτησης είναι να εκπαιδεύσει το μοντέλο σε ολόκληρο το dataset προτού είναι έτοιμο για τελική χρήση (deployment)."
   ]
  },
  {
   "cell_type": "code",
   "execution_count": 24,
   "metadata": {
    "pycharm": {
     "name": "#%%\n"
    }
   },
   "outputs": [],
   "source": [
    "final_rf = finalize_model(tuned_rf)"
   ]
  },
  {
   "cell_type": "code",
   "execution_count": 25,
   "metadata": {
    "pycharm": {
     "name": "#%%\n"
    }
   },
   "outputs": [
    {
     "name": "stdout",
     "output_type": "stream",
     "text": [
      "RandomForestClassifier(bootstrap=False, ccp_alpha=0.0, class_weight={},\n",
      "                       criterion='entropy', max_depth=5, max_features=1.0,\n",
      "                       max_leaf_nodes=None, max_samples=None,\n",
      "                       min_impurity_decrease=0.0002, min_impurity_split=None,\n",
      "                       min_samples_leaf=5, min_samples_split=10,\n",
      "                       min_weight_fraction_leaf=0.0, n_estimators=150,\n",
      "                       n_jobs=-1, oob_score=False, random_state=123, verbose=0,\n",
      "                       warm_start=False)\n"
     ]
    }
   ],
   "source": [
    "#Final Random Forest model parameters for deployment\n",
    "#Οι τελικές παράμετροι του μοντέλου Random Forest,\n",
    "#που προορίζονται για τελική χρήση.\n",
    "print(final_rf)"
   ]
  },
  {
   "cell_type": "markdown",
   "metadata": {
    "pycharm": {
     "name": "#%% md\n"
    }
   },
   "source": [
    "**Προσοχή:** Μια τελευταία προειδοποίηση! Όταν το μοντέλο οριστικοποιείται με την `finalize_model()`, χρησιμοποιείται ολόκληρο το dataset κατά την εκπαίδευση, συμπεριλαμβανομένου του test/hold-out set. Γι' αυτό το λόγο, αν το μοντέλο χρησιμοποιηθεί για να κάνει προβλέψεις βάσει των δεδομένων του test/hold-out set, τότε τα αποτελέσματα θα είναι παραπλανητικά, καθώς θα προσπαθείτε να εξάγετε προβλέψεις για δεδομένα που έχετε ήδη χρησιμοποιήσει κατά τη μοντελοποίηση. Μόνο και μόνο για να καταδείξουμε αυτό ακριβώς, θα χρησιμοποιήσουμε το `final_rf` με την `predict_model` για να συγκρίνουμε τα αποτελέσματα με αυτά της Ενότητας 11."
   ]
  },
  {
   "cell_type": "code",
   "execution_count": 26,
   "metadata": {
    "pycharm": {
     "name": "#%%\n"
    }
   },
   "outputs": [
    {
     "data": {
      "text/html": [
       "<style type=\"text/css\">\n",
       "</style>\n",
       "<table id=\"T_c84fd\">\n",
       "  <thead>\n",
       "    <tr>\n",
       "      <th class=\"blank level0\" >&nbsp;</th>\n",
       "      <th id=\"T_c84fd_level0_col0\" class=\"col_heading level0 col0\" >Model</th>\n",
       "      <th id=\"T_c84fd_level0_col1\" class=\"col_heading level0 col1\" >Accuracy</th>\n",
       "      <th id=\"T_c84fd_level0_col2\" class=\"col_heading level0 col2\" >AUC</th>\n",
       "      <th id=\"T_c84fd_level0_col3\" class=\"col_heading level0 col3\" >Recall</th>\n",
       "      <th id=\"T_c84fd_level0_col4\" class=\"col_heading level0 col4\" >Prec.</th>\n",
       "      <th id=\"T_c84fd_level0_col5\" class=\"col_heading level0 col5\" >F1</th>\n",
       "      <th id=\"T_c84fd_level0_col6\" class=\"col_heading level0 col6\" >Kappa</th>\n",
       "      <th id=\"T_c84fd_level0_col7\" class=\"col_heading level0 col7\" >MCC</th>\n",
       "    </tr>\n",
       "  </thead>\n",
       "  <tbody>\n",
       "    <tr>\n",
       "      <th id=\"T_c84fd_level0_row0\" class=\"row_heading level0 row0\" >0</th>\n",
       "      <td id=\"T_c84fd_row0_col0\" class=\"data row0 col0\" >Random Forest Classifier</td>\n",
       "      <td id=\"T_c84fd_row0_col1\" class=\"data row0 col1\" >0.8184</td>\n",
       "      <td id=\"T_c84fd_row0_col2\" class=\"data row0 col2\" >0.7526</td>\n",
       "      <td id=\"T_c84fd_row0_col3\" class=\"data row0 col3\" >0.3533</td>\n",
       "      <td id=\"T_c84fd_row0_col4\" class=\"data row0 col4\" >0.6985</td>\n",
       "      <td id=\"T_c84fd_row0_col5\" class=\"data row0 col5\" >0.4692</td>\n",
       "      <td id=\"T_c84fd_row0_col6\" class=\"data row0 col6\" >0.3736</td>\n",
       "      <td id=\"T_c84fd_row0_col7\" class=\"data row0 col7\" >0.4053</td>\n",
       "    </tr>\n",
       "  </tbody>\n",
       "</table>\n"
      ],
      "text/plain": [
       "<pandas.io.formats.style.Styler at 0x7f48f6798e50>"
      ]
     },
     "metadata": {},
     "output_type": "display_data"
    }
   ],
   "source": [
    "predict_model(final_rf);"
   ]
  },
  {
   "cell_type": "markdown",
   "metadata": {
    "pycharm": {
     "name": "#%% md\n"
    }
   },
   "source": [
    "Παρατηρήστε πως η AUC στο `final_rf` αυξήθηκε σε **`0,7526`** από **`0,7407`**, παρόλο που το μοντέλο παραμένει ίδιο. Αυτό συμβαίνει επειδή το `final_rf` έχει εκπαιδευτεί σε όλα τα δεδομένα, συμπεριλαμβανομένου του test/hold-out set."
   ]
  },
  {
   "cell_type": "markdown",
   "metadata": {
    "pycharm": {
     "name": "#%% md\n"
    }
   },
   "source": [
    "# 13.0 Προβλέψεις βάσει Άγνωστων Δεδομένων"
   ]
  },
  {
   "cell_type": "markdown",
   "metadata": {
    "pycharm": {
     "name": "#%% md\n"
    }
   },
   "source": [
    "Η συνάρτηση `predict_model()` χρησιμοποιείται, επίσης, για την εξαγωγή προβλέψεων βάσει άγνωστων δεδομένων. Η μόνη διαφορά από την Ενότητα 11 είναι ότι, αυτή τη φορά, θα περάσουμε την παράμετρο `data_unseen` στη συνάρτηση. Τη μεταβλητή `data_unseen` την ορίσαμε στην αρχή του μαθήματος και περιέχει το 5% (1.200 δείγματα) του αρχικού dataset, το οποίο δεν έχει εκτεθεί ποτέ στην PyCaret (βλέπε Ενότητα 5 για επεξήγηση)."
   ]
  },
  {
   "cell_type": "code",
   "execution_count": 27,
   "metadata": {
    "pycharm": {
     "name": "#%%\n"
    }
   },
   "outputs": [
    {
     "data": {
      "text/html": [
       "<style type=\"text/css\">\n",
       "</style>\n",
       "<table id=\"T_8f703\">\n",
       "  <thead>\n",
       "    <tr>\n",
       "      <th class=\"blank level0\" >&nbsp;</th>\n",
       "      <th id=\"T_8f703_level0_col0\" class=\"col_heading level0 col0\" >Model</th>\n",
       "      <th id=\"T_8f703_level0_col1\" class=\"col_heading level0 col1\" >Accuracy</th>\n",
       "      <th id=\"T_8f703_level0_col2\" class=\"col_heading level0 col2\" >AUC</th>\n",
       "      <th id=\"T_8f703_level0_col3\" class=\"col_heading level0 col3\" >Recall</th>\n",
       "      <th id=\"T_8f703_level0_col4\" class=\"col_heading level0 col4\" >Prec.</th>\n",
       "      <th id=\"T_8f703_level0_col5\" class=\"col_heading level0 col5\" >F1</th>\n",
       "      <th id=\"T_8f703_level0_col6\" class=\"col_heading level0 col6\" >Kappa</th>\n",
       "      <th id=\"T_8f703_level0_col7\" class=\"col_heading level0 col7\" >MCC</th>\n",
       "    </tr>\n",
       "  </thead>\n",
       "  <tbody>\n",
       "    <tr>\n",
       "      <th id=\"T_8f703_level0_row0\" class=\"row_heading level0 row0\" >0</th>\n",
       "      <td id=\"T_8f703_row0_col0\" class=\"data row0 col0\" >Random Forest Classifier</td>\n",
       "      <td id=\"T_8f703_row0_col1\" class=\"data row0 col1\" >0.8167</td>\n",
       "      <td id=\"T_8f703_row0_col2\" class=\"data row0 col2\" >0.7768</td>\n",
       "      <td id=\"T_8f703_row0_col3\" class=\"data row0 col3\" >0.3612</td>\n",
       "      <td id=\"T_8f703_row0_col4\" class=\"data row0 col4\" >0.6463</td>\n",
       "      <td id=\"T_8f703_row0_col5\" class=\"data row0 col5\" >0.4634</td>\n",
       "      <td id=\"T_8f703_row0_col6\" class=\"data row0 col6\" >0.3634</td>\n",
       "      <td id=\"T_8f703_row0_col7\" class=\"data row0 col7\" >0.3857</td>\n",
       "    </tr>\n",
       "  </tbody>\n",
       "</table>\n"
      ],
      "text/plain": [
       "<pandas.io.formats.style.Styler at 0x7f48f688ee20>"
      ]
     },
     "metadata": {},
     "output_type": "display_data"
    },
    {
     "data": {
      "text/html": [
       "<div>\n",
       "<style scoped>\n",
       "    .dataframe tbody tr th:only-of-type {\n",
       "        vertical-align: middle;\n",
       "    }\n",
       "\n",
       "    .dataframe tbody tr th {\n",
       "        vertical-align: top;\n",
       "    }\n",
       "\n",
       "    .dataframe thead th {\n",
       "        text-align: right;\n",
       "    }\n",
       "</style>\n",
       "<table border=\"1\" class=\"dataframe\">\n",
       "  <thead>\n",
       "    <tr style=\"text-align: right;\">\n",
       "      <th></th>\n",
       "      <th>LIMIT_BAL</th>\n",
       "      <th>SEX</th>\n",
       "      <th>EDUCATION</th>\n",
       "      <th>MARRIAGE</th>\n",
       "      <th>AGE</th>\n",
       "      <th>PAY_1</th>\n",
       "      <th>PAY_2</th>\n",
       "      <th>PAY_3</th>\n",
       "      <th>PAY_4</th>\n",
       "      <th>PAY_5</th>\n",
       "      <th>...</th>\n",
       "      <th>BILL_AMT6</th>\n",
       "      <th>PAY_AMT1</th>\n",
       "      <th>PAY_AMT2</th>\n",
       "      <th>PAY_AMT3</th>\n",
       "      <th>PAY_AMT4</th>\n",
       "      <th>PAY_AMT5</th>\n",
       "      <th>PAY_AMT6</th>\n",
       "      <th>default</th>\n",
       "      <th>Label</th>\n",
       "      <th>Score</th>\n",
       "    </tr>\n",
       "  </thead>\n",
       "  <tbody>\n",
       "    <tr>\n",
       "      <th>0</th>\n",
       "      <td>100000</td>\n",
       "      <td>2</td>\n",
       "      <td>2</td>\n",
       "      <td>2</td>\n",
       "      <td>23</td>\n",
       "      <td>0</td>\n",
       "      <td>-1</td>\n",
       "      <td>-1</td>\n",
       "      <td>0</td>\n",
       "      <td>0</td>\n",
       "      <td>...</td>\n",
       "      <td>567.0</td>\n",
       "      <td>380.0</td>\n",
       "      <td>601.0</td>\n",
       "      <td>0.0</td>\n",
       "      <td>581.0</td>\n",
       "      <td>1687.0</td>\n",
       "      <td>1542.0</td>\n",
       "      <td>0</td>\n",
       "      <td>0</td>\n",
       "      <td>0.8051</td>\n",
       "    </tr>\n",
       "    <tr>\n",
       "      <th>1</th>\n",
       "      <td>380000</td>\n",
       "      <td>1</td>\n",
       "      <td>2</td>\n",
       "      <td>2</td>\n",
       "      <td>32</td>\n",
       "      <td>-1</td>\n",
       "      <td>-1</td>\n",
       "      <td>-1</td>\n",
       "      <td>-1</td>\n",
       "      <td>-1</td>\n",
       "      <td>...</td>\n",
       "      <td>11873.0</td>\n",
       "      <td>21540.0</td>\n",
       "      <td>15138.0</td>\n",
       "      <td>24677.0</td>\n",
       "      <td>11851.0</td>\n",
       "      <td>11875.0</td>\n",
       "      <td>8251.0</td>\n",
       "      <td>0</td>\n",
       "      <td>0</td>\n",
       "      <td>0.9121</td>\n",
       "    </tr>\n",
       "    <tr>\n",
       "      <th>2</th>\n",
       "      <td>200000</td>\n",
       "      <td>2</td>\n",
       "      <td>2</td>\n",
       "      <td>1</td>\n",
       "      <td>32</td>\n",
       "      <td>-1</td>\n",
       "      <td>-1</td>\n",
       "      <td>-1</td>\n",
       "      <td>-1</td>\n",
       "      <td>2</td>\n",
       "      <td>...</td>\n",
       "      <td>3151.0</td>\n",
       "      <td>5818.0</td>\n",
       "      <td>15.0</td>\n",
       "      <td>9102.0</td>\n",
       "      <td>17.0</td>\n",
       "      <td>3165.0</td>\n",
       "      <td>1395.0</td>\n",
       "      <td>0</td>\n",
       "      <td>0</td>\n",
       "      <td>0.8051</td>\n",
       "    </tr>\n",
       "    <tr>\n",
       "      <th>3</th>\n",
       "      <td>200000</td>\n",
       "      <td>1</td>\n",
       "      <td>1</td>\n",
       "      <td>1</td>\n",
       "      <td>53</td>\n",
       "      <td>2</td>\n",
       "      <td>2</td>\n",
       "      <td>2</td>\n",
       "      <td>2</td>\n",
       "      <td>2</td>\n",
       "      <td>...</td>\n",
       "      <td>149531.0</td>\n",
       "      <td>6300.0</td>\n",
       "      <td>5500.0</td>\n",
       "      <td>5500.0</td>\n",
       "      <td>5500.0</td>\n",
       "      <td>5000.0</td>\n",
       "      <td>5000.0</td>\n",
       "      <td>1</td>\n",
       "      <td>1</td>\n",
       "      <td>0.7911</td>\n",
       "    </tr>\n",
       "    <tr>\n",
       "      <th>4</th>\n",
       "      <td>240000</td>\n",
       "      <td>1</td>\n",
       "      <td>1</td>\n",
       "      <td>2</td>\n",
       "      <td>41</td>\n",
       "      <td>1</td>\n",
       "      <td>-1</td>\n",
       "      <td>-1</td>\n",
       "      <td>0</td>\n",
       "      <td>0</td>\n",
       "      <td>...</td>\n",
       "      <td>1737.0</td>\n",
       "      <td>2622.0</td>\n",
       "      <td>3301.0</td>\n",
       "      <td>0.0</td>\n",
       "      <td>360.0</td>\n",
       "      <td>1737.0</td>\n",
       "      <td>924.0</td>\n",
       "      <td>0</td>\n",
       "      <td>0</td>\n",
       "      <td>0.9121</td>\n",
       "    </tr>\n",
       "  </tbody>\n",
       "</table>\n",
       "<p>5 rows × 26 columns</p>\n",
       "</div>"
      ],
      "text/plain": [
       "   LIMIT_BAL  SEX  EDUCATION  MARRIAGE  AGE  PAY_1  PAY_2  PAY_3  PAY_4  \\\n",
       "0     100000    2          2         2   23      0     -1     -1      0   \n",
       "1     380000    1          2         2   32     -1     -1     -1     -1   \n",
       "2     200000    2          2         1   32     -1     -1     -1     -1   \n",
       "3     200000    1          1         1   53      2      2      2      2   \n",
       "4     240000    1          1         2   41      1     -1     -1      0   \n",
       "\n",
       "   PAY_5  ...  BILL_AMT6  PAY_AMT1  PAY_AMT2  PAY_AMT3  PAY_AMT4  PAY_AMT5  \\\n",
       "0      0  ...      567.0     380.0     601.0       0.0     581.0    1687.0   \n",
       "1     -1  ...    11873.0   21540.0   15138.0   24677.0   11851.0   11875.0   \n",
       "2      2  ...     3151.0    5818.0      15.0    9102.0      17.0    3165.0   \n",
       "3      2  ...   149531.0    6300.0    5500.0    5500.0    5500.0    5000.0   \n",
       "4      0  ...     1737.0    2622.0    3301.0       0.0     360.0    1737.0   \n",
       "\n",
       "   PAY_AMT6  default  Label   Score  \n",
       "0    1542.0        0      0  0.8051  \n",
       "1    8251.0        0      0  0.9121  \n",
       "2    1395.0        0      0  0.8051  \n",
       "3    5000.0        1      1  0.7911  \n",
       "4     924.0        0      0  0.9121  \n",
       "\n",
       "[5 rows x 26 columns]"
      ]
     },
     "execution_count": 27,
     "metadata": {},
     "output_type": "execute_result"
    }
   ],
   "source": [
    "unseen_predictions = predict_model(final_rf, data=data_unseen)\n",
    "unseen_predictions.head()"
   ]
  },
  {
   "cell_type": "markdown",
   "metadata": {
    "pycharm": {
     "name": "#%% md\n"
    }
   },
   "source": [
    " Οι στήλες `Label` και `Score` προστίθενται στο σύνολο δεδομένων `data_unseen`. To Label (Ετικέτα) είναι η πρόβλεψη και το Score είναι η πιθανότητα αυτή της πρόβλεψης. Παρατηρήστε πως τα αποτελέσματα συνενώνονται στο αρχικό dataset, ενώ όλοι οι μετασχηματισμοί εκτελούνται αυτόματα στο υπόβαθρο. Επίσης, μπορείτε να ελέγξετε τις μετρικές αξιολόγησης σε αυτό το dataset, αφού είναι διαθέσιμη η στήλη-στόχος `default` με τις πραγματικές τιμές. Για να το κάνουμε αυτό, θα χρησιμοποιήσουμε το module `pycaret.utils`. Δείτε το παρακάτω παράδειγμα:"
   ]
  },
  {
   "cell_type": "code",
   "execution_count": 28,
   "metadata": {
    "pycharm": {
     "name": "#%%\n"
    }
   },
   "outputs": [
    {
     "data": {
      "text/plain": [
       "0.8167"
      ]
     },
     "execution_count": 28,
     "metadata": {},
     "output_type": "execute_result"
    }
   ],
   "source": [
    "from pycaret.utils import check_metric\n",
    "check_metric(unseen_predictions['default'], unseen_predictions['Label'], metric = 'Accuracy')"
   ]
  },
  {
   "cell_type": "markdown",
   "metadata": {
    "pycharm": {
     "name": "#%% md\n"
    }
   },
   "source": [
    "# 14.0 Αποθήκευση Μοντέλου"
   ]
  },
  {
   "cell_type": "markdown",
   "metadata": {
    "pycharm": {
     "name": "#%% md\n"
    }
   },
   "source": [
    "Τώρα, έχουμε ολοκληρώσει το πείραμα οριστικοποιώντας το μοντέλο `tuned_rf` που είναι αποθηκευμένο στη μεταβλητή `final_rf`. Επίσης, το χρησιμοποιήσαμε για κάνουμε προβλέψεις βάσει των άγνωστων δεδομένων `data_unseen`. Έτσι, φτάσαμε στο τέλος του πειράματος, αλλά παραμένει μια ερώτηση που πρέπει να απαντηθεί: Τι γίνεται όταν έχεις νέα, περισσότερα δεδομένα για να εξάγεις προβλέψεις; Πρέπει να ξανα-εκτελέσετε το πείραμα από την αρχή; Η απάντηση είναι όχι, η ενσωματωμένη συνάρτηση της PyCaret, `save_model()` σας επιτρέπει να αποθηκεύσετε το μοντέλο μαζί με ολόκληρη τη διαδικασία μετασχηματισμού (transformation pipeline) για μελλοντική χρήση."
   ]
  },
  {
   "cell_type": "code",
   "execution_count": 29,
   "metadata": {
    "pycharm": {
     "name": "#%%\n"
    }
   },
   "outputs": [
    {
     "name": "stdout",
     "output_type": "stream",
     "text": [
      "Transformation Pipeline and Model Successfully Saved\n"
     ]
    },
    {
     "data": {
      "text/plain": [
       "(Pipeline(memory=None,\n",
       "          steps=[('dtypes',\n",
       "                  DataTypes_Auto_infer(categorical_features=[],\n",
       "                                       display_types=True, features_todrop=[],\n",
       "                                       id_columns=[],\n",
       "                                       ml_usecase='classification',\n",
       "                                       numerical_features=[], target='default',\n",
       "                                       time_features=[])),\n",
       "                 ('imputer',\n",
       "                  Simple_Imputer(categorical_strategy='not_available',\n",
       "                                 fill_value_categorical=None,\n",
       "                                 fill_value_numerical=None,\n",
       "                                 numeric_stra...\n",
       "                  RandomForestClassifier(bootstrap=False, ccp_alpha=0.0,\n",
       "                                         class_weight={}, criterion='entropy',\n",
       "                                         max_depth=5, max_features=1.0,\n",
       "                                         max_leaf_nodes=None, max_samples=None,\n",
       "                                         min_impurity_decrease=0.0002,\n",
       "                                         min_impurity_split=None,\n",
       "                                         min_samples_leaf=5,\n",
       "                                         min_samples_split=10,\n",
       "                                         min_weight_fraction_leaf=0.0,\n",
       "                                         n_estimators=150, n_jobs=-1,\n",
       "                                         oob_score=False, random_state=123,\n",
       "                                         verbose=0, warm_start=False)]],\n",
       "          verbose=False),\n",
       " 'Final RF Model 14Aug2022.pkl')"
      ]
     },
     "execution_count": 29,
     "metadata": {},
     "output_type": "execute_result"
    }
   ],
   "source": [
    "save_model(final_rf,'Final RF Model 14Aug2022')"
   ]
  },
  {
   "cell_type": "markdown",
   "metadata": {
    "pycharm": {
     "name": "#%% md\n"
    }
   },
   "source": [
    "(Συμβουλή: Είναι πάντα καλή πρακτική να αναγράφετε την ημερομηνία στο όνομα του αρχείου όταν αποθηκεύεται μοντέλα - βοηθάει στον έλεγχο της έκδοσης (version control).)"
   ]
  },
  {
   "cell_type": "markdown",
   "metadata": {
    "pycharm": {
     "name": "#%% md\n"
    }
   },
   "source": [
    "# 15.0 Φόρτωση Αποθηκευμένου Μοντέλου"
   ]
  },
  {
   "cell_type": "markdown",
   "metadata": {
    "pycharm": {
     "name": "#%% md\n"
    }
   },
   "source": [
    "Για να φορτώσουμε ένα μοντέλο είτε σε κάποιο μεταγενέστερο χρόνο είτε σε κάποιο άλλο περιβάλλον, θα χρησιμοποιήσουμε τη συνάρτηση της Pycaret, `load_model()`. Στη συνέχεια, θα εφαρμόσουμε το μοντέλο σε νέα άγνωστα δεδομένα για να εξάγουμε προβλέψεις."
   ]
  },
  {
   "cell_type": "code",
   "execution_count": 30,
   "metadata": {
    "pycharm": {
     "name": "#%%\n"
    }
   },
   "outputs": [
    {
     "name": "stdout",
     "output_type": "stream",
     "text": [
      "Transformation Pipeline and Model Successfully Loaded\n"
     ]
    }
   ],
   "source": [
    "saved_final_rf = load_model('Final RF Model 14Aug2022')"
   ]
  },
  {
   "cell_type": "markdown",
   "metadata": {
    "pycharm": {
     "name": "#%% md\n"
    }
   },
   "source": [
    "Όταν φορτώσετε το μοντέλο στο περιβάλλον, μπορείτε με απλό τρόπο να κάνετε προβλέψεις σε νέα δεδομένα χρησιμοποιώντας τη συνάρτηση `predict_model()`. Παρακάτω έχουμε εφαρμόσει το φορτωμένο μοντέλο στα ίδια άγνωστα δεδομένα, `data_unseen`, που χρησιμοποιήσαμε στην Ενότητα 13."
   ]
  },
  {
   "cell_type": "code",
   "execution_count": 31,
   "metadata": {
    "pycharm": {
     "name": "#%%\n"
    }
   },
   "outputs": [
    {
     "data": {
      "text/html": [
       "<style type=\"text/css\">\n",
       "</style>\n",
       "<table id=\"T_20dc8\">\n",
       "  <thead>\n",
       "    <tr>\n",
       "      <th class=\"blank level0\" >&nbsp;</th>\n",
       "      <th id=\"T_20dc8_level0_col0\" class=\"col_heading level0 col0\" >Model</th>\n",
       "      <th id=\"T_20dc8_level0_col1\" class=\"col_heading level0 col1\" >Accuracy</th>\n",
       "      <th id=\"T_20dc8_level0_col2\" class=\"col_heading level0 col2\" >AUC</th>\n",
       "      <th id=\"T_20dc8_level0_col3\" class=\"col_heading level0 col3\" >Recall</th>\n",
       "      <th id=\"T_20dc8_level0_col4\" class=\"col_heading level0 col4\" >Prec.</th>\n",
       "      <th id=\"T_20dc8_level0_col5\" class=\"col_heading level0 col5\" >F1</th>\n",
       "      <th id=\"T_20dc8_level0_col6\" class=\"col_heading level0 col6\" >Kappa</th>\n",
       "      <th id=\"T_20dc8_level0_col7\" class=\"col_heading level0 col7\" >MCC</th>\n",
       "    </tr>\n",
       "  </thead>\n",
       "  <tbody>\n",
       "    <tr>\n",
       "      <th id=\"T_20dc8_level0_row0\" class=\"row_heading level0 row0\" >0</th>\n",
       "      <td id=\"T_20dc8_row0_col0\" class=\"data row0 col0\" >Random Forest Classifier</td>\n",
       "      <td id=\"T_20dc8_row0_col1\" class=\"data row0 col1\" >0.8167</td>\n",
       "      <td id=\"T_20dc8_row0_col2\" class=\"data row0 col2\" >0.7768</td>\n",
       "      <td id=\"T_20dc8_row0_col3\" class=\"data row0 col3\" >0.3612</td>\n",
       "      <td id=\"T_20dc8_row0_col4\" class=\"data row0 col4\" >0.6463</td>\n",
       "      <td id=\"T_20dc8_row0_col5\" class=\"data row0 col5\" >0.4634</td>\n",
       "      <td id=\"T_20dc8_row0_col6\" class=\"data row0 col6\" >0.3634</td>\n",
       "      <td id=\"T_20dc8_row0_col7\" class=\"data row0 col7\" >0.3857</td>\n",
       "    </tr>\n",
       "  </tbody>\n",
       "</table>\n"
      ],
      "text/plain": [
       "<pandas.io.formats.style.Styler at 0x7f49d08f46a0>"
      ]
     },
     "metadata": {},
     "output_type": "display_data"
    }
   ],
   "source": [
    "new_prediction = predict_model(saved_final_rf, data=data_unseen)"
   ]
  },
  {
   "cell_type": "code",
   "execution_count": 32,
   "metadata": {
    "pycharm": {
     "name": "#%%\n"
    }
   },
   "outputs": [
    {
     "data": {
      "text/html": [
       "<div>\n",
       "<style scoped>\n",
       "    .dataframe tbody tr th:only-of-type {\n",
       "        vertical-align: middle;\n",
       "    }\n",
       "\n",
       "    .dataframe tbody tr th {\n",
       "        vertical-align: top;\n",
       "    }\n",
       "\n",
       "    .dataframe thead th {\n",
       "        text-align: right;\n",
       "    }\n",
       "</style>\n",
       "<table border=\"1\" class=\"dataframe\">\n",
       "  <thead>\n",
       "    <tr style=\"text-align: right;\">\n",
       "      <th></th>\n",
       "      <th>LIMIT_BAL</th>\n",
       "      <th>SEX</th>\n",
       "      <th>EDUCATION</th>\n",
       "      <th>MARRIAGE</th>\n",
       "      <th>AGE</th>\n",
       "      <th>PAY_1</th>\n",
       "      <th>PAY_2</th>\n",
       "      <th>PAY_3</th>\n",
       "      <th>PAY_4</th>\n",
       "      <th>PAY_5</th>\n",
       "      <th>...</th>\n",
       "      <th>BILL_AMT6</th>\n",
       "      <th>PAY_AMT1</th>\n",
       "      <th>PAY_AMT2</th>\n",
       "      <th>PAY_AMT3</th>\n",
       "      <th>PAY_AMT4</th>\n",
       "      <th>PAY_AMT5</th>\n",
       "      <th>PAY_AMT6</th>\n",
       "      <th>default</th>\n",
       "      <th>Label</th>\n",
       "      <th>Score</th>\n",
       "    </tr>\n",
       "  </thead>\n",
       "  <tbody>\n",
       "    <tr>\n",
       "      <th>0</th>\n",
       "      <td>100000</td>\n",
       "      <td>2</td>\n",
       "      <td>2</td>\n",
       "      <td>2</td>\n",
       "      <td>23</td>\n",
       "      <td>0</td>\n",
       "      <td>-1</td>\n",
       "      <td>-1</td>\n",
       "      <td>0</td>\n",
       "      <td>0</td>\n",
       "      <td>...</td>\n",
       "      <td>567.0</td>\n",
       "      <td>380.0</td>\n",
       "      <td>601.0</td>\n",
       "      <td>0.0</td>\n",
       "      <td>581.0</td>\n",
       "      <td>1687.0</td>\n",
       "      <td>1542.0</td>\n",
       "      <td>0</td>\n",
       "      <td>0</td>\n",
       "      <td>0.8051</td>\n",
       "    </tr>\n",
       "    <tr>\n",
       "      <th>1</th>\n",
       "      <td>380000</td>\n",
       "      <td>1</td>\n",
       "      <td>2</td>\n",
       "      <td>2</td>\n",
       "      <td>32</td>\n",
       "      <td>-1</td>\n",
       "      <td>-1</td>\n",
       "      <td>-1</td>\n",
       "      <td>-1</td>\n",
       "      <td>-1</td>\n",
       "      <td>...</td>\n",
       "      <td>11873.0</td>\n",
       "      <td>21540.0</td>\n",
       "      <td>15138.0</td>\n",
       "      <td>24677.0</td>\n",
       "      <td>11851.0</td>\n",
       "      <td>11875.0</td>\n",
       "      <td>8251.0</td>\n",
       "      <td>0</td>\n",
       "      <td>0</td>\n",
       "      <td>0.9121</td>\n",
       "    </tr>\n",
       "    <tr>\n",
       "      <th>2</th>\n",
       "      <td>200000</td>\n",
       "      <td>2</td>\n",
       "      <td>2</td>\n",
       "      <td>1</td>\n",
       "      <td>32</td>\n",
       "      <td>-1</td>\n",
       "      <td>-1</td>\n",
       "      <td>-1</td>\n",
       "      <td>-1</td>\n",
       "      <td>2</td>\n",
       "      <td>...</td>\n",
       "      <td>3151.0</td>\n",
       "      <td>5818.0</td>\n",
       "      <td>15.0</td>\n",
       "      <td>9102.0</td>\n",
       "      <td>17.0</td>\n",
       "      <td>3165.0</td>\n",
       "      <td>1395.0</td>\n",
       "      <td>0</td>\n",
       "      <td>0</td>\n",
       "      <td>0.8051</td>\n",
       "    </tr>\n",
       "    <tr>\n",
       "      <th>3</th>\n",
       "      <td>200000</td>\n",
       "      <td>1</td>\n",
       "      <td>1</td>\n",
       "      <td>1</td>\n",
       "      <td>53</td>\n",
       "      <td>2</td>\n",
       "      <td>2</td>\n",
       "      <td>2</td>\n",
       "      <td>2</td>\n",
       "      <td>2</td>\n",
       "      <td>...</td>\n",
       "      <td>149531.0</td>\n",
       "      <td>6300.0</td>\n",
       "      <td>5500.0</td>\n",
       "      <td>5500.0</td>\n",
       "      <td>5500.0</td>\n",
       "      <td>5000.0</td>\n",
       "      <td>5000.0</td>\n",
       "      <td>1</td>\n",
       "      <td>1</td>\n",
       "      <td>0.7911</td>\n",
       "    </tr>\n",
       "    <tr>\n",
       "      <th>4</th>\n",
       "      <td>240000</td>\n",
       "      <td>1</td>\n",
       "      <td>1</td>\n",
       "      <td>2</td>\n",
       "      <td>41</td>\n",
       "      <td>1</td>\n",
       "      <td>-1</td>\n",
       "      <td>-1</td>\n",
       "      <td>0</td>\n",
       "      <td>0</td>\n",
       "      <td>...</td>\n",
       "      <td>1737.0</td>\n",
       "      <td>2622.0</td>\n",
       "      <td>3301.0</td>\n",
       "      <td>0.0</td>\n",
       "      <td>360.0</td>\n",
       "      <td>1737.0</td>\n",
       "      <td>924.0</td>\n",
       "      <td>0</td>\n",
       "      <td>0</td>\n",
       "      <td>0.9121</td>\n",
       "    </tr>\n",
       "  </tbody>\n",
       "</table>\n",
       "<p>5 rows × 26 columns</p>\n",
       "</div>"
      ],
      "text/plain": [
       "   LIMIT_BAL  SEX  EDUCATION  MARRIAGE  AGE  PAY_1  PAY_2  PAY_3  PAY_4  \\\n",
       "0     100000    2          2         2   23      0     -1     -1      0   \n",
       "1     380000    1          2         2   32     -1     -1     -1     -1   \n",
       "2     200000    2          2         1   32     -1     -1     -1     -1   \n",
       "3     200000    1          1         1   53      2      2      2      2   \n",
       "4     240000    1          1         2   41      1     -1     -1      0   \n",
       "\n",
       "   PAY_5  ...  BILL_AMT6  PAY_AMT1  PAY_AMT2  PAY_AMT3  PAY_AMT4  PAY_AMT5  \\\n",
       "0      0  ...      567.0     380.0     601.0       0.0     581.0    1687.0   \n",
       "1     -1  ...    11873.0   21540.0   15138.0   24677.0   11851.0   11875.0   \n",
       "2      2  ...     3151.0    5818.0      15.0    9102.0      17.0    3165.0   \n",
       "3      2  ...   149531.0    6300.0    5500.0    5500.0    5500.0    5000.0   \n",
       "4      0  ...     1737.0    2622.0    3301.0       0.0     360.0    1737.0   \n",
       "\n",
       "   PAY_AMT6  default  Label   Score  \n",
       "0    1542.0        0      0  0.8051  \n",
       "1    8251.0        0      0  0.9121  \n",
       "2    1395.0        0      0  0.8051  \n",
       "3    5000.0        1      1  0.7911  \n",
       "4     924.0        0      0  0.9121  \n",
       "\n",
       "[5 rows x 26 columns]"
      ]
     },
     "execution_count": 32,
     "metadata": {},
     "output_type": "execute_result"
    }
   ],
   "source": [
    "new_prediction.head()"
   ]
  },
  {
   "cell_type": "markdown",
   "metadata": {
    "pycharm": {
     "name": "#%% md\n"
    }
   },
   "source": [
    "Παρατηρήστε ότι τα αποτελέσματα `unseen_predictions` και `new_prediction` είναι πανομοιότυπα."
   ]
  },
  {
   "cell_type": "code",
   "execution_count": 33,
   "metadata": {
    "pycharm": {
     "name": "#%%\n"
    }
   },
   "outputs": [
    {
     "data": {
      "text/plain": [
       "0.8167"
      ]
     },
     "execution_count": 33,
     "metadata": {},
     "output_type": "execute_result"
    }
   ],
   "source": [
    "from pycaret.utils import check_metric\n",
    "check_metric(new_prediction['default'], new_prediction['Label'], metric = 'Accuracy')"
   ]
  },
  {
   "cell_type": "markdown",
   "metadata": {
    "pycharm": {
     "name": "#%% md\n"
    }
   },
   "source": [
    "# 16.0 Σύνοψη / Επόμενα Βήματα;"
   ]
  },
  {
   "cell_type": "markdown",
   "metadata": {
    "pycharm": {
     "name": "#%% md\n"
    }
   },
   "source": [
    "Αυτό το μάθημα έχει καλύψει ολόκληρο το pipeline της μηχανικής μάθησης: λήψη δεδομένων, προ-επεξεργασία, εκπαίδευση μοντέλου, ρύθμιση υπερ-παραμέτρων, προβλέψεις και αποθήκευση μοντέλου για μελλοντική χρήση. Ολοκληρώσαμε όλα αυτά τα βήματα με λιγότερες από 10 εντολές, οι οποίες είναι πολύ φυσικά δομημένες και εύκολο να τις θυμόμαστε διαισθητικά, όπως `create_model()`, `tune_model()`, `compare_models()`. Η εκτέλεση του πειράματος από την αρχή, χωρίς να κάνουμε χρήση της PyCaret, θα απαιτούσε περισσότερες από 100 εντολές για την πλειοψηφία των βιβλιοθηκών.\n",
    "\n",
    "Έχουμε καλύψει μόνο τα βασικά του module `pycaret.classification`. Στα επόμενα μαθήματα θα εμβαθύνουμε στην προηγμένη προ-επεξεργασία, τo ensembling, το γενικευμένο stacking και άλλες τεχνικές που επιτρέπουν την πλήρη εξατομίκευση του pipeline μηχανικής μάθησης και πρέπει να είναι κτήμα κάθε Data Scientist.\n",
    "\n",
    "Τα λέμε στο επόμενο μάθημα. Ακολουθήστε το σύνδεσμο στο __[Binary Classification Tutorial (CLF102) - Intermediate Level](https://github.com/pycaret/pycaret/blob/master/tutorials/Greek/Binary%20Classification%20Tutorial%20Level%20Intermediate%20-%20CLF102.ipynb)__"
   ]
  },
  {
   "cell_type": "code",
   "execution_count": null,
   "metadata": {
    "pycharm": {
     "name": "#%%\n"
    }
   },
   "outputs": [],
   "source": []
  }
 ],
 "metadata": {
  "colab": {
   "collapsed_sections": [
    "Ui_rALqYEQmv",
    "y9s9wNcjEQn0",
    "it_nJo1IEQob",
    "P5m2pciOEQo4",
    "UWMSeyNhEQo-",
    "rWUojqBCEQpb",
    "nSg3OUjuEQpu",
    "XvpjzbGQEQqB",
    "BQlMCxrUEQqG",
    "CD-f0delEQqq",
    "KO3zIfs-EQrA",
    "w_P46O0jEQrT",
    "euqkQYJaEQrY",
    "bwyoTUDQEQrm",
    "_r9rwEw7EQrz",
    "FfWC3NEhEQr9",
    "RX5pYUJJEQsV",
    "r79BGjIfEQs1",
    "hUzc6tXNEQtr",
    "L__po3sUEQt7",
    "Z8OBesfkEQuU",
    "_HeOs8BhEQvF"
   ],
   "name": "Binary Classification Tutorial (CLF101) - Level Beginner (ACN_EDITS).ipynb",
   "provenance": []
  },
  "kernelspec": {
   "display_name": "Python 3 (ipykernel)",
   "language": "python",
   "name": "python3"
  },
  "language_info": {
   "codemirror_mode": {
    "name": "ipython",
    "version": 3
   },
   "file_extension": ".py",
   "mimetype": "text/x-python",
   "name": "python",
   "nbconvert_exporter": "python",
   "pygments_lexer": "ipython3",
   "version": "3.9.0"
  },
  "widgets": {
   "application/vnd.jupyter.widget-state+json": {
    "02771b4dc3284414ab05df1906f4556b": {
     "model_module": "@jupyter-widgets/controls",
     "model_name": "IntProgressModel",
     "state": {
      "_dom_classes": [],
      "_model_module": "@jupyter-widgets/controls",
      "_model_module_version": "1.5.0",
      "_model_name": "IntProgressModel",
      "_view_count": null,
      "_view_module": "@jupyter-widgets/controls",
      "_view_module_version": "1.5.0",
      "_view_name": "ProgressView",
      "bar_style": "",
      "description": "Processing: ",
      "description_tooltip": null,
      "layout": "IPY_MODEL_22588a12c0db4067982e62ebbe7e6930",
      "max": 5,
      "min": 0,
      "orientation": "horizontal",
      "style": "IPY_MODEL_9e338844e75b4e17be8483529f5f38fd",
      "value": 5
     }
    },
    "0a06fb091bd94ce6b6ab892e2c6faadf": {
     "model_module": "@jupyter-widgets/base",
     "model_name": "LayoutModel",
     "state": {
      "_model_module": "@jupyter-widgets/base",
      "_model_module_version": "1.2.0",
      "_model_name": "LayoutModel",
      "_view_count": null,
      "_view_module": "@jupyter-widgets/base",
      "_view_module_version": "1.2.0",
      "_view_name": "LayoutView",
      "align_content": null,
      "align_items": null,
      "align_self": null,
      "border": null,
      "bottom": null,
      "display": null,
      "flex": null,
      "flex_flow": null,
      "grid_area": null,
      "grid_auto_columns": null,
      "grid_auto_flow": null,
      "grid_auto_rows": null,
      "grid_column": null,
      "grid_gap": null,
      "grid_row": null,
      "grid_template_areas": null,
      "grid_template_columns": null,
      "grid_template_rows": null,
      "height": null,
      "justify_content": null,
      "justify_items": null,
      "left": null,
      "margin": null,
      "max_height": null,
      "max_width": null,
      "min_height": null,
      "min_width": null,
      "object_fit": null,
      "object_position": null,
      "order": null,
      "overflow": null,
      "overflow_x": null,
      "overflow_y": null,
      "padding": null,
      "right": null,
      "top": null,
      "visibility": null,
      "width": null
     }
    },
    "12bf8b3c6ae8444a900474912589fdf1": {
     "model_module": "@jupyter-widgets/controls",
     "model_name": "ToggleButtonsModel",
     "state": {
      "_dom_classes": [],
      "_model_module": "@jupyter-widgets/controls",
      "_model_module_version": "1.5.0",
      "_model_name": "ToggleButtonsModel",
      "_options_labels": [
       "Hyperparameters",
       "AUC",
       "Confusion Matrix",
       "Threshold",
       "Precision Recall",
       "Error",
       "Class Report",
       "Feature Selection",
       "Learning Curve",
       "Manifold Learning",
       "Calibration Curve",
       "Validation Curve",
       "Dimensions",
       "Feature Importance",
       "Decision Boundary"
      ],
      "_view_count": null,
      "_view_module": "@jupyter-widgets/controls",
      "_view_module_version": "1.5.0",
      "_view_name": "ToggleButtonsView",
      "button_style": "",
      "description": "Plot Type:",
      "description_tooltip": null,
      "disabled": false,
      "icons": [
       ""
      ],
      "index": 2,
      "layout": "IPY_MODEL_0a06fb091bd94ce6b6ab892e2c6faadf",
      "style": "IPY_MODEL_8886001bc7c1463ba58a8453f5c55073",
      "tooltips": []
     }
    },
    "22588a12c0db4067982e62ebbe7e6930": {
     "model_module": "@jupyter-widgets/base",
     "model_name": "LayoutModel",
     "state": {
      "_model_module": "@jupyter-widgets/base",
      "_model_module_version": "1.2.0",
      "_model_name": "LayoutModel",
      "_view_count": null,
      "_view_module": "@jupyter-widgets/base",
      "_view_module_version": "1.2.0",
      "_view_name": "LayoutView",
      "align_content": null,
      "align_items": null,
      "align_self": null,
      "border": null,
      "bottom": null,
      "display": null,
      "flex": null,
      "flex_flow": null,
      "grid_area": null,
      "grid_auto_columns": null,
      "grid_auto_flow": null,
      "grid_auto_rows": null,
      "grid_column": null,
      "grid_gap": null,
      "grid_row": null,
      "grid_template_areas": null,
      "grid_template_columns": null,
      "grid_template_rows": null,
      "height": null,
      "justify_content": null,
      "justify_items": null,
      "left": null,
      "margin": null,
      "max_height": null,
      "max_width": null,
      "min_height": null,
      "min_width": null,
      "object_fit": null,
      "object_position": null,
      "order": null,
      "overflow": null,
      "overflow_x": null,
      "overflow_y": null,
      "padding": null,
      "right": null,
      "top": null,
      "visibility": null,
      "width": null
     }
    },
    "2a81017413ca4fe789c2272a5831a069": {
     "model_module": "@jupyter-widgets/base",
     "model_name": "LayoutModel",
     "state": {
      "_model_module": "@jupyter-widgets/base",
      "_model_module_version": "1.2.0",
      "_model_name": "LayoutModel",
      "_view_count": null,
      "_view_module": "@jupyter-widgets/base",
      "_view_module_version": "1.2.0",
      "_view_name": "LayoutView",
      "align_content": null,
      "align_items": null,
      "align_self": null,
      "border": null,
      "bottom": null,
      "display": null,
      "flex": null,
      "flex_flow": null,
      "grid_area": null,
      "grid_auto_columns": null,
      "grid_auto_flow": null,
      "grid_auto_rows": null,
      "grid_column": null,
      "grid_gap": null,
      "grid_row": null,
      "grid_template_areas": null,
      "grid_template_columns": null,
      "grid_template_rows": null,
      "height": null,
      "justify_content": null,
      "justify_items": null,
      "left": null,
      "margin": null,
      "max_height": null,
      "max_width": null,
      "min_height": null,
      "min_width": null,
      "object_fit": null,
      "object_position": null,
      "order": null,
      "overflow": null,
      "overflow_x": null,
      "overflow_y": null,
      "padding": null,
      "right": null,
      "top": null,
      "visibility": null,
      "width": null
     }
    },
    "3cc1e83b91f34b289c7d52003f20a97a": {
     "model_module": "@jupyter-widgets/controls",
     "model_name": "IntProgressModel",
     "state": {
      "_dom_classes": [],
      "_model_module": "@jupyter-widgets/controls",
      "_model_module_version": "1.5.0",
      "_model_name": "IntProgressModel",
      "_view_count": null,
      "_view_module": "@jupyter-widgets/controls",
      "_view_module_version": "1.5.0",
      "_view_name": "ProgressView",
      "bar_style": "",
      "description": "Processing: ",
      "description_tooltip": null,
      "layout": "IPY_MODEL_8399e21b17634116861a5abaa9c0ccf7",
      "max": 5,
      "min": 0,
      "orientation": "horizontal",
      "style": "IPY_MODEL_8d709ec9ec484944b1f9773748857f84",
      "value": 2
     }
    },
    "41031579127f4a53b58957e601465083": {
     "model_module": "@jupyter-widgets/base",
     "model_name": "LayoutModel",
     "state": {
      "_model_module": "@jupyter-widgets/base",
      "_model_module_version": "1.2.0",
      "_model_name": "LayoutModel",
      "_view_count": null,
      "_view_module": "@jupyter-widgets/base",
      "_view_module_version": "1.2.0",
      "_view_name": "LayoutView",
      "align_content": null,
      "align_items": null,
      "align_self": null,
      "border": null,
      "bottom": null,
      "display": null,
      "flex": null,
      "flex_flow": null,
      "grid_area": null,
      "grid_auto_columns": null,
      "grid_auto_flow": null,
      "grid_auto_rows": null,
      "grid_column": null,
      "grid_gap": null,
      "grid_row": null,
      "grid_template_areas": null,
      "grid_template_columns": null,
      "grid_template_rows": null,
      "height": null,
      "justify_content": null,
      "justify_items": null,
      "left": null,
      "margin": null,
      "max_height": null,
      "max_width": null,
      "min_height": null,
      "min_width": null,
      "object_fit": null,
      "object_position": null,
      "order": null,
      "overflow": null,
      "overflow_x": null,
      "overflow_y": null,
      "padding": null,
      "right": null,
      "top": null,
      "visibility": null,
      "width": null
     }
    },
    "42d5400d235d40b78190016ef0dabe11": {
     "model_module": "@jupyter-widgets/controls",
     "model_name": "VBoxModel",
     "state": {
      "_dom_classes": [
       "widget-interact"
      ],
      "_model_module": "@jupyter-widgets/controls",
      "_model_module_version": "1.5.0",
      "_model_name": "VBoxModel",
      "_view_count": null,
      "_view_module": "@jupyter-widgets/controls",
      "_view_module_version": "1.5.0",
      "_view_name": "VBoxView",
      "box_style": "",
      "children": [
       "IPY_MODEL_12bf8b3c6ae8444a900474912589fdf1",
       "IPY_MODEL_9bb3600d38c04691b444ff375ad5e3f5"
      ],
      "layout": "IPY_MODEL_41031579127f4a53b58957e601465083"
     }
    },
    "57b94ac505d142769b79de2f1e5c1166": {
     "model_module": "@jupyter-widgets/controls",
     "model_name": "ProgressStyleModel",
     "state": {
      "_model_module": "@jupyter-widgets/controls",
      "_model_module_version": "1.5.0",
      "_model_name": "ProgressStyleModel",
      "_view_count": null,
      "_view_module": "@jupyter-widgets/base",
      "_view_module_version": "1.2.0",
      "_view_name": "StyleView",
      "bar_color": null,
      "description_width": ""
     }
    },
    "8399e21b17634116861a5abaa9c0ccf7": {
     "model_module": "@jupyter-widgets/base",
     "model_name": "LayoutModel",
     "state": {
      "_model_module": "@jupyter-widgets/base",
      "_model_module_version": "1.2.0",
      "_model_name": "LayoutModel",
      "_view_count": null,
      "_view_module": "@jupyter-widgets/base",
      "_view_module_version": "1.2.0",
      "_view_name": "LayoutView",
      "align_content": null,
      "align_items": null,
      "align_self": null,
      "border": null,
      "bottom": null,
      "display": null,
      "flex": null,
      "flex_flow": null,
      "grid_area": null,
      "grid_auto_columns": null,
      "grid_auto_flow": null,
      "grid_auto_rows": null,
      "grid_column": null,
      "grid_gap": null,
      "grid_row": null,
      "grid_template_areas": null,
      "grid_template_columns": null,
      "grid_template_rows": null,
      "height": null,
      "justify_content": null,
      "justify_items": null,
      "left": null,
      "margin": null,
      "max_height": null,
      "max_width": null,
      "min_height": null,
      "min_width": null,
      "object_fit": null,
      "object_position": null,
      "order": null,
      "overflow": null,
      "overflow_x": null,
      "overflow_y": null,
      "padding": null,
      "right": null,
      "top": null,
      "visibility": null,
      "width": null
     }
    },
    "8886001bc7c1463ba58a8453f5c55073": {
     "model_module": "@jupyter-widgets/controls",
     "model_name": "ToggleButtonsStyleModel",
     "state": {
      "_model_module": "@jupyter-widgets/controls",
      "_model_module_version": "1.5.0",
      "_model_name": "ToggleButtonsStyleModel",
      "_view_count": null,
      "_view_module": "@jupyter-widgets/base",
      "_view_module_version": "1.2.0",
      "_view_name": "StyleView",
      "button_width": "",
      "description_width": "",
      "font_weight": ""
     }
    },
    "8d709ec9ec484944b1f9773748857f84": {
     "model_module": "@jupyter-widgets/controls",
     "model_name": "ProgressStyleModel",
     "state": {
      "_model_module": "@jupyter-widgets/controls",
      "_model_module_version": "1.5.0",
      "_model_name": "ProgressStyleModel",
      "_view_count": null,
      "_view_module": "@jupyter-widgets/base",
      "_view_module_version": "1.2.0",
      "_view_name": "StyleView",
      "bar_color": null,
      "description_width": ""
     }
    },
    "9bb3600d38c04691b444ff375ad5e3f5": {
     "model_module": "@jupyter-widgets/output",
     "model_name": "OutputModel",
     "state": {
      "_dom_classes": [],
      "_model_module": "@jupyter-widgets/output",
      "_model_module_version": "1.0.0",
      "_model_name": "OutputModel",
      "_view_count": null,
      "_view_module": "@jupyter-widgets/output",
      "_view_module_version": "1.0.0",
      "_view_name": "OutputView",
      "layout": "IPY_MODEL_4f8f81ab97b041a58a53c85a1ab97bd4",
      "msg_id": "",
      "outputs": [
       {
        "image/png": "iVBORw0KGgoAAAANSUhEUgAAAeoAAAFlCAYAAAAki6s3AAAABHNCSVQICAgIfAhkiAAAAAlwSFlz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\nAAAm9n9QR+M8QEgGtgAAAABJRU5ErkJggg==\n",
        "metadata": {
         "tags": []
        },
        "output_type": "display_data",
        "text/plain": "<Figure size 576x396 with 1 Axes>"
       }
      ]
     }
    },
    "9e338844e75b4e17be8483529f5f38fd": {
     "model_module": "@jupyter-widgets/controls",
     "model_name": "ProgressStyleModel",
     "state": {
      "_model_module": "@jupyter-widgets/controls",
      "_model_module_version": "1.5.0",
      "_model_name": "ProgressStyleModel",
      "_view_count": null,
      "_view_module": "@jupyter-widgets/base",
      "_view_module_version": "1.2.0",
      "_view_name": "StyleView",
      "bar_color": null,
      "description_width": ""
     }
    },
    "d5b6fce1763b4b54898ff3397b0f5bb0": {
     "model_module": "@jupyter-widgets/controls",
     "model_name": "IntProgressModel",
     "state": {
      "_dom_classes": [],
      "_model_module": "@jupyter-widgets/controls",
      "_model_module_version": "1.5.0",
      "_model_name": "IntProgressModel",
      "_view_count": null,
      "_view_module": "@jupyter-widgets/controls",
      "_view_module_version": "1.5.0",
      "_view_name": "ProgressView",
      "bar_style": "",
      "description": "Processing: ",
      "description_tooltip": null,
      "layout": "IPY_MODEL_2a81017413ca4fe789c2272a5831a069",
      "max": 5,
      "min": 0,
      "orientation": "horizontal",
      "style": "IPY_MODEL_57b94ac505d142769b79de2f1e5c1166",
      "value": 5
     }
    }
   }
  }
 },
 "nbformat": 4,
 "nbformat_minor": 1
}
