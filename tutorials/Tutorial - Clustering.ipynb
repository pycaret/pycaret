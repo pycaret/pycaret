{
 "cells": [
  {
   "cell_type": "markdown",
   "id": "81e0620e",
   "metadata": {},
   "source": [
    "Last updated: 15 Feb 2023\n",
    "\n",
    "# 👋 PyCaret Clustering Tutorial\n",
    "\n",
    "PyCaret is an open-source, low-code machine learning library in Python that automates machine learning workflows. It is an end-to-end machine learning and model management tool that exponentially speeds up the experiment cycle and makes you more productive.\n",
    "\n",
    "Compared with the other open-source machine learning libraries, PyCaret is an alternate low-code library that can be used to replace hundreds of lines of code with a few lines only. This makes experiments exponentially fast and efficient. PyCaret is essentially a Python wrapper around several machine learning libraries and frameworks, such as scikit-learn, XGBoost, LightGBM, CatBoost, spaCy, Optuna, Hyperopt, Ray, and a few more.\n",
    "\n",
    "The design and simplicity of PyCaret are inspired by the emerging role of citizen data scientists, a term first used by Gartner. Citizen Data Scientists are power users who can perform both simple and moderately sophisticated analytical tasks that would previously have required more technical expertise.\n"
   ]
  },
  {
   "cell_type": "markdown",
   "id": "8116e19d",
   "metadata": {},
   "source": [
    "# 💻 Installation\n",
    "\n",
    "PyCaret is tested and supported on the following 64-bit systems:\n",
    "- Python 3.7 – 3.10\n",
    "- Python 3.9 for Ubuntu only\n",
    "- Ubuntu 16.04 or later\n",
    "- Windows 7 or later\n",
    "\n",
    "You can install PyCaret with Python's pip package manager:\n",
    "\n",
    "`pip install pycaret`\n",
    "\n",
    "PyCaret's default installation will not install all the extra dependencies automatically. For that you will have to install the full version:\n",
    "\n",
    "`pip install pycaret[full]`\n",
    "\n",
    "or depending on your use-case you may install one of the following variant:\n",
    "\n",
    "- `pip install pycaret[analysis]`\n",
    "- `pip install pycaret[models]`\n",
    "- `pip install pycaret[tuner]`\n",
    "- `pip install pycaret[mlops]`\n",
    "- `pip install pycaret[parallel]`\n",
    "- `pip install pycaret[test]`"
   ]
  },
  {
   "cell_type": "code",
   "execution_count": 4,
   "id": "d7142a33",
   "metadata": {},
   "outputs": [
    {
     "data": {
      "text/plain": [
       "'3.0.0.rc9'"
      ]
     },
     "execution_count": 4,
     "metadata": {},
     "output_type": "execute_result"
    }
   ],
   "source": [
    "# check installed version\n",
    "import pycaret\n",
    "pycaret.__version__"
   ]
  },
  {
   "cell_type": "markdown",
   "id": "fb66e98d",
   "metadata": {},
   "source": [
    "# 🚀 Quick start"
   ]
  },
  {
   "cell_type": "markdown",
   "id": "00347d44",
   "metadata": {},
   "source": [
    "PyCaret's Clustering Module is an unsupervised machine learning module that performs the task of grouping a set of objects in such a way that objects in the same group (also known as a cluster) are more similar to each other than to those in other groups. \n",
    "\n",
    "It provides several pre-processing features that prepare the data for modeling through the setup function. It has over 10 ready-to-use algorithms and several plots to analyze the performance of trained models. \n",
    "\n",
    "A typical workflow in PyCaret's unsupervised module consist of following 6 steps in this order:\n",
    "\n",
    "**Setup** ➡️ **Create Model** ➡️ **Assign Labels** ➡️ **Analyze Model** ➡️ **Prediction** ➡️ **Save Model**"
   ]
  },
  {
   "cell_type": "code",
   "execution_count": 5,
   "id": "956dfdab",
   "metadata": {},
   "outputs": [
    {
     "data": {
      "text/html": [
       "<div>\n",
       "<style scoped>\n",
       "    .dataframe tbody tr th:only-of-type {\n",
       "        vertical-align: middle;\n",
       "    }\n",
       "\n",
       "    .dataframe tbody tr th {\n",
       "        vertical-align: top;\n",
       "    }\n",
       "\n",
       "    .dataframe thead th {\n",
       "        text-align: right;\n",
       "    }\n",
       "</style>\n",
       "<table border=\"1\" class=\"dataframe\">\n",
       "  <thead>\n",
       "    <tr style=\"text-align: right;\">\n",
       "      <th></th>\n",
       "      <th>Age</th>\n",
       "      <th>Income</th>\n",
       "      <th>SpendingScore</th>\n",
       "      <th>Savings</th>\n",
       "    </tr>\n",
       "  </thead>\n",
       "  <tbody>\n",
       "    <tr>\n",
       "      <th>0</th>\n",
       "      <td>58</td>\n",
       "      <td>77769</td>\n",
       "      <td>0.791329</td>\n",
       "      <td>6559.829923</td>\n",
       "    </tr>\n",
       "    <tr>\n",
       "      <th>1</th>\n",
       "      <td>59</td>\n",
       "      <td>81799</td>\n",
       "      <td>0.791082</td>\n",
       "      <td>5417.661426</td>\n",
       "    </tr>\n",
       "    <tr>\n",
       "      <th>2</th>\n",
       "      <td>62</td>\n",
       "      <td>74751</td>\n",
       "      <td>0.702657</td>\n",
       "      <td>9258.992965</td>\n",
       "    </tr>\n",
       "    <tr>\n",
       "      <th>3</th>\n",
       "      <td>59</td>\n",
       "      <td>74373</td>\n",
       "      <td>0.765680</td>\n",
       "      <td>7346.334504</td>\n",
       "    </tr>\n",
       "    <tr>\n",
       "      <th>4</th>\n",
       "      <td>87</td>\n",
       "      <td>17760</td>\n",
       "      <td>0.348778</td>\n",
       "      <td>16869.507130</td>\n",
       "    </tr>\n",
       "  </tbody>\n",
       "</table>\n",
       "</div>"
      ],
      "text/plain": [
       "   Age  Income  SpendingScore       Savings\n",
       "0   58   77769       0.791329   6559.829923\n",
       "1   59   81799       0.791082   5417.661426\n",
       "2   62   74751       0.702657   9258.992965\n",
       "3   59   74373       0.765680   7346.334504\n",
       "4   87   17760       0.348778  16869.507130"
      ]
     },
     "metadata": {},
     "output_type": "display_data"
    }
   ],
   "source": [
    "# loading sample dataset from pycaret dataset module\n",
    "from pycaret.datasets import get_data\n",
    "data = get_data('jewellery')"
   ]
  },
  {
   "cell_type": "markdown",
   "id": "c00f6a4a",
   "metadata": {},
   "source": [
    "## Setup\n",
    "This function initializes the training environment and creates the transformation pipeline. Setup function must be called before executing any other function in PyCaret. It only has two required parameters i.e. `data` and `target`. All the other parameters are optional."
   ]
  },
  {
   "cell_type": "code",
   "execution_count": 6,
   "id": "97f2c6c6",
   "metadata": {},
   "outputs": [
    {
     "data": {
      "text/html": [
       "<style type=\"text/css\">\n",
       "#T_41a38_row4_col1 {\n",
       "  background-color: lightgreen;\n",
       "}\n",
       "</style>\n",
       "<table id=\"T_41a38\">\n",
       "  <thead>\n",
       "    <tr>\n",
       "      <th class=\"blank level0\" >&nbsp;</th>\n",
       "      <th id=\"T_41a38_level0_col0\" class=\"col_heading level0 col0\" >Description</th>\n",
       "      <th id=\"T_41a38_level0_col1\" class=\"col_heading level0 col1\" >Value</th>\n",
       "    </tr>\n",
       "  </thead>\n",
       "  <tbody>\n",
       "    <tr>\n",
       "      <th id=\"T_41a38_level0_row0\" class=\"row_heading level0 row0\" >0</th>\n",
       "      <td id=\"T_41a38_row0_col0\" class=\"data row0 col0\" >Session id</td>\n",
       "      <td id=\"T_41a38_row0_col1\" class=\"data row0 col1\" >123</td>\n",
       "    </tr>\n",
       "    <tr>\n",
       "      <th id=\"T_41a38_level0_row1\" class=\"row_heading level0 row1\" >1</th>\n",
       "      <td id=\"T_41a38_row1_col0\" class=\"data row1 col0\" >Original data shape</td>\n",
       "      <td id=\"T_41a38_row1_col1\" class=\"data row1 col1\" >(505, 4)</td>\n",
       "    </tr>\n",
       "    <tr>\n",
       "      <th id=\"T_41a38_level0_row2\" class=\"row_heading level0 row2\" >2</th>\n",
       "      <td id=\"T_41a38_row2_col0\" class=\"data row2 col0\" >Transformed data shape</td>\n",
       "      <td id=\"T_41a38_row2_col1\" class=\"data row2 col1\" >(505, 4)</td>\n",
       "    </tr>\n",
       "    <tr>\n",
       "      <th id=\"T_41a38_level0_row3\" class=\"row_heading level0 row3\" >3</th>\n",
       "      <td id=\"T_41a38_row3_col0\" class=\"data row3 col0\" >Numeric features</td>\n",
       "      <td id=\"T_41a38_row3_col1\" class=\"data row3 col1\" >4</td>\n",
       "    </tr>\n",
       "    <tr>\n",
       "      <th id=\"T_41a38_level0_row4\" class=\"row_heading level0 row4\" >4</th>\n",
       "      <td id=\"T_41a38_row4_col0\" class=\"data row4 col0\" >Preprocess</td>\n",
       "      <td id=\"T_41a38_row4_col1\" class=\"data row4 col1\" >True</td>\n",
       "    </tr>\n",
       "    <tr>\n",
       "      <th id=\"T_41a38_level0_row5\" class=\"row_heading level0 row5\" >5</th>\n",
       "      <td id=\"T_41a38_row5_col0\" class=\"data row5 col0\" >Imputation type</td>\n",
       "      <td id=\"T_41a38_row5_col1\" class=\"data row5 col1\" >simple</td>\n",
       "    </tr>\n",
       "    <tr>\n",
       "      <th id=\"T_41a38_level0_row6\" class=\"row_heading level0 row6\" >6</th>\n",
       "      <td id=\"T_41a38_row6_col0\" class=\"data row6 col0\" >Numeric imputation</td>\n",
       "      <td id=\"T_41a38_row6_col1\" class=\"data row6 col1\" >mean</td>\n",
       "    </tr>\n",
       "    <tr>\n",
       "      <th id=\"T_41a38_level0_row7\" class=\"row_heading level0 row7\" >7</th>\n",
       "      <td id=\"T_41a38_row7_col0\" class=\"data row7 col0\" >Categorical imputation</td>\n",
       "      <td id=\"T_41a38_row7_col1\" class=\"data row7 col1\" >mode</td>\n",
       "    </tr>\n",
       "    <tr>\n",
       "      <th id=\"T_41a38_level0_row8\" class=\"row_heading level0 row8\" >8</th>\n",
       "      <td id=\"T_41a38_row8_col0\" class=\"data row8 col0\" >CPU Jobs</td>\n",
       "      <td id=\"T_41a38_row8_col1\" class=\"data row8 col1\" >-1</td>\n",
       "    </tr>\n",
       "    <tr>\n",
       "      <th id=\"T_41a38_level0_row9\" class=\"row_heading level0 row9\" >9</th>\n",
       "      <td id=\"T_41a38_row9_col0\" class=\"data row9 col0\" >Use GPU</td>\n",
       "      <td id=\"T_41a38_row9_col1\" class=\"data row9 col1\" >False</td>\n",
       "    </tr>\n",
       "    <tr>\n",
       "      <th id=\"T_41a38_level0_row10\" class=\"row_heading level0 row10\" >10</th>\n",
       "      <td id=\"T_41a38_row10_col0\" class=\"data row10 col0\" >Log Experiment</td>\n",
       "      <td id=\"T_41a38_row10_col1\" class=\"data row10 col1\" >False</td>\n",
       "    </tr>\n",
       "    <tr>\n",
       "      <th id=\"T_41a38_level0_row11\" class=\"row_heading level0 row11\" >11</th>\n",
       "      <td id=\"T_41a38_row11_col0\" class=\"data row11 col0\" >Experiment Name</td>\n",
       "      <td id=\"T_41a38_row11_col1\" class=\"data row11 col1\" >cluster-default-name</td>\n",
       "    </tr>\n",
       "    <tr>\n",
       "      <th id=\"T_41a38_level0_row12\" class=\"row_heading level0 row12\" >12</th>\n",
       "      <td id=\"T_41a38_row12_col0\" class=\"data row12 col0\" >USI</td>\n",
       "      <td id=\"T_41a38_row12_col1\" class=\"data row12 col1\" >f502</td>\n",
       "    </tr>\n",
       "  </tbody>\n",
       "</table>\n"
      ],
      "text/plain": [
       "<pandas.io.formats.style.Styler at 0x15be8e216d0>"
      ]
     },
     "metadata": {},
     "output_type": "display_data"
    }
   ],
   "source": [
    "# import pycaret clustering and init setup\n",
    "from pycaret.clustering import *\n",
    "s = setup(data, session_id = 123)"
   ]
  },
  {
   "cell_type": "markdown",
   "id": "3c583864",
   "metadata": {},
   "source": [
    "Once the setup has been successfully executed it shows the information grid containing experiment level information. \n",
    "\n",
    "- **Session id:**  A pseudo-random number distributed as a seed in all functions for later reproducibility. If no `session_id` is passed, a random number is automatically generated that is distributed to all functions.<br/>\n",
    "<br/>\n",
    "- **Original data shape:**  Shape of the original data prior to any transformations. <br/>\n",
    "<br/>\n",
    "- **Transformed data shape:**  Shape of data after transformations <br/>\n",
    "<br/>\n",
    "- **Numeric features :**  The number of features considered as numerical. <br/>\n",
    "<br/>\n",
    "- **Categorical features :**  The number of features considered as categorical. <br/>"
   ]
  },
  {
   "cell_type": "markdown",
   "id": "ada19398",
   "metadata": {},
   "source": [
    "PyCaret has two set of API's that you can work with. (1) Functional (as seen above) and (2) Object Oriented API.\n",
    "\n",
    "With Object Oriented API instead of executing functions directly you will import a class and execute methods of class."
   ]
  },
  {
   "cell_type": "code",
   "execution_count": 7,
   "id": "32ee91c9",
   "metadata": {},
   "outputs": [],
   "source": [
    "# import ClassificationExperiment and init the class\n",
    "from pycaret.clustering import ClusteringExperiment\n",
    "exp = ClusteringExperiment()"
   ]
  },
  {
   "cell_type": "code",
   "execution_count": 8,
   "id": "3ead9fb5",
   "metadata": {},
   "outputs": [
    {
     "data": {
      "text/plain": [
       "pycaret.clustering.oop.ClusteringExperiment"
      ]
     },
     "execution_count": 8,
     "metadata": {},
     "output_type": "execute_result"
    }
   ],
   "source": [
    "# check the type of exp\n",
    "type(exp)"
   ]
  },
  {
   "cell_type": "code",
   "execution_count": 9,
   "id": "f05b8590",
   "metadata": {},
   "outputs": [
    {
     "data": {
      "text/html": [
       "<style type=\"text/css\">\n",
       "#T_ba393_row4_col1 {\n",
       "  background-color: lightgreen;\n",
       "}\n",
       "</style>\n",
       "<table id=\"T_ba393\">\n",
       "  <thead>\n",
       "    <tr>\n",
       "      <th class=\"blank level0\" >&nbsp;</th>\n",
       "      <th id=\"T_ba393_level0_col0\" class=\"col_heading level0 col0\" >Description</th>\n",
       "      <th id=\"T_ba393_level0_col1\" class=\"col_heading level0 col1\" >Value</th>\n",
       "    </tr>\n",
       "  </thead>\n",
       "  <tbody>\n",
       "    <tr>\n",
       "      <th id=\"T_ba393_level0_row0\" class=\"row_heading level0 row0\" >0</th>\n",
       "      <td id=\"T_ba393_row0_col0\" class=\"data row0 col0\" >Session id</td>\n",
       "      <td id=\"T_ba393_row0_col1\" class=\"data row0 col1\" >123</td>\n",
       "    </tr>\n",
       "    <tr>\n",
       "      <th id=\"T_ba393_level0_row1\" class=\"row_heading level0 row1\" >1</th>\n",
       "      <td id=\"T_ba393_row1_col0\" class=\"data row1 col0\" >Original data shape</td>\n",
       "      <td id=\"T_ba393_row1_col1\" class=\"data row1 col1\" >(505, 4)</td>\n",
       "    </tr>\n",
       "    <tr>\n",
       "      <th id=\"T_ba393_level0_row2\" class=\"row_heading level0 row2\" >2</th>\n",
       "      <td id=\"T_ba393_row2_col0\" class=\"data row2 col0\" >Transformed data shape</td>\n",
       "      <td id=\"T_ba393_row2_col1\" class=\"data row2 col1\" >(505, 4)</td>\n",
       "    </tr>\n",
       "    <tr>\n",
       "      <th id=\"T_ba393_level0_row3\" class=\"row_heading level0 row3\" >3</th>\n",
       "      <td id=\"T_ba393_row3_col0\" class=\"data row3 col0\" >Numeric features</td>\n",
       "      <td id=\"T_ba393_row3_col1\" class=\"data row3 col1\" >4</td>\n",
       "    </tr>\n",
       "    <tr>\n",
       "      <th id=\"T_ba393_level0_row4\" class=\"row_heading level0 row4\" >4</th>\n",
       "      <td id=\"T_ba393_row4_col0\" class=\"data row4 col0\" >Preprocess</td>\n",
       "      <td id=\"T_ba393_row4_col1\" class=\"data row4 col1\" >True</td>\n",
       "    </tr>\n",
       "    <tr>\n",
       "      <th id=\"T_ba393_level0_row5\" class=\"row_heading level0 row5\" >5</th>\n",
       "      <td id=\"T_ba393_row5_col0\" class=\"data row5 col0\" >Imputation type</td>\n",
       "      <td id=\"T_ba393_row5_col1\" class=\"data row5 col1\" >simple</td>\n",
       "    </tr>\n",
       "    <tr>\n",
       "      <th id=\"T_ba393_level0_row6\" class=\"row_heading level0 row6\" >6</th>\n",
       "      <td id=\"T_ba393_row6_col0\" class=\"data row6 col0\" >Numeric imputation</td>\n",
       "      <td id=\"T_ba393_row6_col1\" class=\"data row6 col1\" >mean</td>\n",
       "    </tr>\n",
       "    <tr>\n",
       "      <th id=\"T_ba393_level0_row7\" class=\"row_heading level0 row7\" >7</th>\n",
       "      <td id=\"T_ba393_row7_col0\" class=\"data row7 col0\" >Categorical imputation</td>\n",
       "      <td id=\"T_ba393_row7_col1\" class=\"data row7 col1\" >mode</td>\n",
       "    </tr>\n",
       "    <tr>\n",
       "      <th id=\"T_ba393_level0_row8\" class=\"row_heading level0 row8\" >8</th>\n",
       "      <td id=\"T_ba393_row8_col0\" class=\"data row8 col0\" >CPU Jobs</td>\n",
       "      <td id=\"T_ba393_row8_col1\" class=\"data row8 col1\" >-1</td>\n",
       "    </tr>\n",
       "    <tr>\n",
       "      <th id=\"T_ba393_level0_row9\" class=\"row_heading level0 row9\" >9</th>\n",
       "      <td id=\"T_ba393_row9_col0\" class=\"data row9 col0\" >Use GPU</td>\n",
       "      <td id=\"T_ba393_row9_col1\" class=\"data row9 col1\" >False</td>\n",
       "    </tr>\n",
       "    <tr>\n",
       "      <th id=\"T_ba393_level0_row10\" class=\"row_heading level0 row10\" >10</th>\n",
       "      <td id=\"T_ba393_row10_col0\" class=\"data row10 col0\" >Log Experiment</td>\n",
       "      <td id=\"T_ba393_row10_col1\" class=\"data row10 col1\" >False</td>\n",
       "    </tr>\n",
       "    <tr>\n",
       "      <th id=\"T_ba393_level0_row11\" class=\"row_heading level0 row11\" >11</th>\n",
       "      <td id=\"T_ba393_row11_col0\" class=\"data row11 col0\" >Experiment Name</td>\n",
       "      <td id=\"T_ba393_row11_col1\" class=\"data row11 col1\" >cluster-default-name</td>\n",
       "    </tr>\n",
       "    <tr>\n",
       "      <th id=\"T_ba393_level0_row12\" class=\"row_heading level0 row12\" >12</th>\n",
       "      <td id=\"T_ba393_row12_col0\" class=\"data row12 col0\" >USI</td>\n",
       "      <td id=\"T_ba393_row12_col1\" class=\"data row12 col1\" >c0eb</td>\n",
       "    </tr>\n",
       "  </tbody>\n",
       "</table>\n"
      ],
      "text/plain": [
       "<pandas.io.formats.style.Styler at 0x15be8e774c0>"
      ]
     },
     "metadata": {},
     "output_type": "display_data"
    },
    {
     "data": {
      "text/plain": [
       "<pycaret.clustering.oop.ClusteringExperiment at 0x15be8e77e20>"
      ]
     },
     "execution_count": 9,
     "metadata": {},
     "output_type": "execute_result"
    }
   ],
   "source": [
    "# init setup on exp\n",
    "exp.setup(data, session_id = 123)"
   ]
  },
  {
   "cell_type": "markdown",
   "id": "77213120",
   "metadata": {},
   "source": [
    "You can use any of the two method i.e. Functional or OOP and even switch back and forth between two set of API's. The choice of method will not impact the results and has been tested for consistency.\n",
    "___"
   ]
  },
  {
   "cell_type": "markdown",
   "id": "5de1eab6",
   "metadata": {},
   "source": [
    "## Create Model\n",
    "\n",
    "This function trains and evaluates the performance of a given model. Metrics evaluated can be accessed using the `get_metrics` function. Custom metrics can be added or removed using the `add_metric` and `remove_metric` function. All the available models can be accessed using the models function."
   ]
  },
  {
   "cell_type": "code",
   "execution_count": 11,
   "id": "65a19df4",
   "metadata": {},
   "outputs": [
    {
     "data": {
      "text/html": [],
      "text/plain": [
       "<IPython.core.display.HTML object>"
      ]
     },
     "metadata": {},
     "output_type": "display_data"
    },
    {
     "data": {
      "text/html": [
       "<style type=\"text/css\">\n",
       "</style>\n",
       "<table id=\"T_8ccba\">\n",
       "  <thead>\n",
       "    <tr>\n",
       "      <th class=\"blank level0\" >&nbsp;</th>\n",
       "      <th id=\"T_8ccba_level0_col0\" class=\"col_heading level0 col0\" >Silhouette</th>\n",
       "      <th id=\"T_8ccba_level0_col1\" class=\"col_heading level0 col1\" >Calinski-Harabasz</th>\n",
       "      <th id=\"T_8ccba_level0_col2\" class=\"col_heading level0 col2\" >Davies-Bouldin</th>\n",
       "      <th id=\"T_8ccba_level0_col3\" class=\"col_heading level0 col3\" >Homogeneity</th>\n",
       "      <th id=\"T_8ccba_level0_col4\" class=\"col_heading level0 col4\" >Rand Index</th>\n",
       "      <th id=\"T_8ccba_level0_col5\" class=\"col_heading level0 col5\" >Completeness</th>\n",
       "    </tr>\n",
       "  </thead>\n",
       "  <tbody>\n",
       "    <tr>\n",
       "      <th id=\"T_8ccba_level0_row0\" class=\"row_heading level0 row0\" >0</th>\n",
       "      <td id=\"T_8ccba_row0_col0\" class=\"data row0 col0\" >0.7207</td>\n",
       "      <td id=\"T_8ccba_row0_col1\" class=\"data row0 col1\" >5011.8115</td>\n",
       "      <td id=\"T_8ccba_row0_col2\" class=\"data row0 col2\" >0.4114</td>\n",
       "      <td id=\"T_8ccba_row0_col3\" class=\"data row0 col3\" >0</td>\n",
       "      <td id=\"T_8ccba_row0_col4\" class=\"data row0 col4\" >0</td>\n",
       "      <td id=\"T_8ccba_row0_col5\" class=\"data row0 col5\" >0</td>\n",
       "    </tr>\n",
       "  </tbody>\n",
       "</table>\n"
      ],
      "text/plain": [
       "<pandas.io.formats.style.Styler at 0x15be8e8b880>"
      ]
     },
     "metadata": {},
     "output_type": "display_data"
    },
    {
     "data": {
      "application/vnd.jupyter.widget-view+json": {
       "model_id": "",
       "version_major": 2,
       "version_minor": 0
      },
      "text/plain": [
       "Processing:   0%|          | 0/3 [00:00<?, ?it/s]"
      ]
     },
     "metadata": {},
     "output_type": "display_data"
    }
   ],
   "source": [
    "# train kmeans model\n",
    "kmeans = create_model('kmeans')"
   ]
  },
  {
   "cell_type": "code",
   "execution_count": 12,
   "id": "8e1442ef",
   "metadata": {},
   "outputs": [
    {
     "data": {
      "text/html": [
       "<div>\n",
       "<style scoped>\n",
       "    .dataframe tbody tr th:only-of-type {\n",
       "        vertical-align: middle;\n",
       "    }\n",
       "\n",
       "    .dataframe tbody tr th {\n",
       "        vertical-align: top;\n",
       "    }\n",
       "\n",
       "    .dataframe thead th {\n",
       "        text-align: right;\n",
       "    }\n",
       "</style>\n",
       "<table border=\"1\" class=\"dataframe\">\n",
       "  <thead>\n",
       "    <tr style=\"text-align: right;\">\n",
       "      <th></th>\n",
       "      <th>Name</th>\n",
       "      <th>Reference</th>\n",
       "    </tr>\n",
       "    <tr>\n",
       "      <th>ID</th>\n",
       "      <th></th>\n",
       "      <th></th>\n",
       "    </tr>\n",
       "  </thead>\n",
       "  <tbody>\n",
       "    <tr>\n",
       "      <th>kmeans</th>\n",
       "      <td>K-Means Clustering</td>\n",
       "      <td>sklearn.cluster._kmeans.KMeans</td>\n",
       "    </tr>\n",
       "    <tr>\n",
       "      <th>ap</th>\n",
       "      <td>Affinity Propagation</td>\n",
       "      <td>sklearn.cluster._affinity_propagation.Affinity...</td>\n",
       "    </tr>\n",
       "    <tr>\n",
       "      <th>meanshift</th>\n",
       "      <td>Mean Shift Clustering</td>\n",
       "      <td>sklearn.cluster._mean_shift.MeanShift</td>\n",
       "    </tr>\n",
       "    <tr>\n",
       "      <th>sc</th>\n",
       "      <td>Spectral Clustering</td>\n",
       "      <td>sklearn.cluster._spectral.SpectralClustering</td>\n",
       "    </tr>\n",
       "    <tr>\n",
       "      <th>hclust</th>\n",
       "      <td>Agglomerative Clustering</td>\n",
       "      <td>sklearn.cluster._agglomerative.AgglomerativeCl...</td>\n",
       "    </tr>\n",
       "    <tr>\n",
       "      <th>dbscan</th>\n",
       "      <td>Density-Based Spatial Clustering</td>\n",
       "      <td>sklearn.cluster._dbscan.DBSCAN</td>\n",
       "    </tr>\n",
       "    <tr>\n",
       "      <th>optics</th>\n",
       "      <td>OPTICS Clustering</td>\n",
       "      <td>sklearn.cluster._optics.OPTICS</td>\n",
       "    </tr>\n",
       "    <tr>\n",
       "      <th>birch</th>\n",
       "      <td>Birch Clustering</td>\n",
       "      <td>sklearn.cluster._birch.Birch</td>\n",
       "    </tr>\n",
       "    <tr>\n",
       "      <th>kmodes</th>\n",
       "      <td>K-Modes Clustering</td>\n",
       "      <td>kmodes.kmodes.KModes</td>\n",
       "    </tr>\n",
       "  </tbody>\n",
       "</table>\n",
       "</div>"
      ],
      "text/plain": [
       "                                       Name  \\\n",
       "ID                                            \n",
       "kmeans                   K-Means Clustering   \n",
       "ap                     Affinity Propagation   \n",
       "meanshift             Mean Shift Clustering   \n",
       "sc                      Spectral Clustering   \n",
       "hclust             Agglomerative Clustering   \n",
       "dbscan     Density-Based Spatial Clustering   \n",
       "optics                    OPTICS Clustering   \n",
       "birch                      Birch Clustering   \n",
       "kmodes                   K-Modes Clustering   \n",
       "\n",
       "                                                   Reference  \n",
       "ID                                                            \n",
       "kmeans                        sklearn.cluster._kmeans.KMeans  \n",
       "ap         sklearn.cluster._affinity_propagation.Affinity...  \n",
       "meanshift              sklearn.cluster._mean_shift.MeanShift  \n",
       "sc              sklearn.cluster._spectral.SpectralClustering  \n",
       "hclust     sklearn.cluster._agglomerative.AgglomerativeCl...  \n",
       "dbscan                        sklearn.cluster._dbscan.DBSCAN  \n",
       "optics                        sklearn.cluster._optics.OPTICS  \n",
       "birch                           sklearn.cluster._birch.Birch  \n",
       "kmodes                                  kmodes.kmodes.KModes  "
      ]
     },
     "execution_count": 12,
     "metadata": {},
     "output_type": "execute_result"
    }
   ],
   "source": [
    "# to check all the available models\n",
    "models()"
   ]
  },
  {
   "cell_type": "code",
   "execution_count": 13,
   "id": "4954b77b",
   "metadata": {},
   "outputs": [
    {
     "data": {
      "text/html": [],
      "text/plain": [
       "<IPython.core.display.HTML object>"
      ]
     },
     "metadata": {},
     "output_type": "display_data"
    },
    {
     "data": {
      "text/html": [
       "<style type=\"text/css\">\n",
       "</style>\n",
       "<table id=\"T_a76c8\">\n",
       "  <thead>\n",
       "    <tr>\n",
       "      <th class=\"blank level0\" >&nbsp;</th>\n",
       "      <th id=\"T_a76c8_level0_col0\" class=\"col_heading level0 col0\" >Silhouette</th>\n",
       "      <th id=\"T_a76c8_level0_col1\" class=\"col_heading level0 col1\" >Calinski-Harabasz</th>\n",
       "      <th id=\"T_a76c8_level0_col2\" class=\"col_heading level0 col2\" >Davies-Bouldin</th>\n",
       "      <th id=\"T_a76c8_level0_col3\" class=\"col_heading level0 col3\" >Homogeneity</th>\n",
       "      <th id=\"T_a76c8_level0_col4\" class=\"col_heading level0 col4\" >Rand Index</th>\n",
       "      <th id=\"T_a76c8_level0_col5\" class=\"col_heading level0 col5\" >Completeness</th>\n",
       "    </tr>\n",
       "  </thead>\n",
       "  <tbody>\n",
       "    <tr>\n",
       "      <th id=\"T_a76c8_level0_row0\" class=\"row_heading level0 row0\" >0</th>\n",
       "      <td id=\"T_a76c8_row0_col0\" class=\"data row0 col0\" >0.7393</td>\n",
       "      <td id=\"T_a76c8_row0_col1\" class=\"data row0 col1\" >3567.5370</td>\n",
       "      <td id=\"T_a76c8_row0_col2\" class=\"data row0 col2\" >0.3435</td>\n",
       "      <td id=\"T_a76c8_row0_col3\" class=\"data row0 col3\" >0</td>\n",
       "      <td id=\"T_a76c8_row0_col4\" class=\"data row0 col4\" >0</td>\n",
       "      <td id=\"T_a76c8_row0_col5\" class=\"data row0 col5\" >0</td>\n",
       "    </tr>\n",
       "  </tbody>\n",
       "</table>\n"
      ],
      "text/plain": [
       "<pandas.io.formats.style.Styler at 0x15be8e0d2e0>"
      ]
     },
     "metadata": {},
     "output_type": "display_data"
    },
    {
     "data": {
      "application/vnd.jupyter.widget-view+json": {
       "model_id": "",
       "version_major": 2,
       "version_minor": 0
      },
      "text/plain": [
       "Processing:   0%|          | 0/3 [00:00<?, ?it/s]"
      ]
     },
     "metadata": {},
     "output_type": "display_data"
    }
   ],
   "source": [
    "# train meanshift model\n",
    "meanshift = create_model('meanshift')"
   ]
  },
  {
   "cell_type": "markdown",
   "id": "8aad62df",
   "metadata": {},
   "source": [
    "## Assign Model\n",
    "This function assigns cluster labels to the training data, given a trained model."
   ]
  },
  {
   "cell_type": "code",
   "execution_count": 21,
   "id": "f1e54158",
   "metadata": {},
   "outputs": [
    {
     "data": {
      "text/html": [
       "<div>\n",
       "<style scoped>\n",
       "    .dataframe tbody tr th:only-of-type {\n",
       "        vertical-align: middle;\n",
       "    }\n",
       "\n",
       "    .dataframe tbody tr th {\n",
       "        vertical-align: top;\n",
       "    }\n",
       "\n",
       "    .dataframe thead th {\n",
       "        text-align: right;\n",
       "    }\n",
       "</style>\n",
       "<table border=\"1\" class=\"dataframe\">\n",
       "  <thead>\n",
       "    <tr style=\"text-align: right;\">\n",
       "      <th></th>\n",
       "      <th>Age</th>\n",
       "      <th>Income</th>\n",
       "      <th>SpendingScore</th>\n",
       "      <th>Savings</th>\n",
       "      <th>Cluster</th>\n",
       "    </tr>\n",
       "  </thead>\n",
       "  <tbody>\n",
       "    <tr>\n",
       "      <th>0</th>\n",
       "      <td>58</td>\n",
       "      <td>77769</td>\n",
       "      <td>0.791329</td>\n",
       "      <td>6559.830078</td>\n",
       "      <td>Cluster 2</td>\n",
       "    </tr>\n",
       "    <tr>\n",
       "      <th>1</th>\n",
       "      <td>59</td>\n",
       "      <td>81799</td>\n",
       "      <td>0.791082</td>\n",
       "      <td>5417.661621</td>\n",
       "      <td>Cluster 2</td>\n",
       "    </tr>\n",
       "    <tr>\n",
       "      <th>2</th>\n",
       "      <td>62</td>\n",
       "      <td>74751</td>\n",
       "      <td>0.702657</td>\n",
       "      <td>9258.993164</td>\n",
       "      <td>Cluster 2</td>\n",
       "    </tr>\n",
       "    <tr>\n",
       "      <th>3</th>\n",
       "      <td>59</td>\n",
       "      <td>74373</td>\n",
       "      <td>0.765680</td>\n",
       "      <td>7346.334473</td>\n",
       "      <td>Cluster 2</td>\n",
       "    </tr>\n",
       "    <tr>\n",
       "      <th>4</th>\n",
       "      <td>87</td>\n",
       "      <td>17760</td>\n",
       "      <td>0.348778</td>\n",
       "      <td>16869.507812</td>\n",
       "      <td>Cluster 0</td>\n",
       "    </tr>\n",
       "    <tr>\n",
       "      <th>...</th>\n",
       "      <td>...</td>\n",
       "      <td>...</td>\n",
       "      <td>...</td>\n",
       "      <td>...</td>\n",
       "      <td>...</td>\n",
       "    </tr>\n",
       "    <tr>\n",
       "      <th>500</th>\n",
       "      <td>28</td>\n",
       "      <td>101206</td>\n",
       "      <td>0.387441</td>\n",
       "      <td>14936.775391</td>\n",
       "      <td>Cluster 1</td>\n",
       "    </tr>\n",
       "    <tr>\n",
       "      <th>501</th>\n",
       "      <td>93</td>\n",
       "      <td>19934</td>\n",
       "      <td>0.203140</td>\n",
       "      <td>17969.693359</td>\n",
       "      <td>Cluster 0</td>\n",
       "    </tr>\n",
       "    <tr>\n",
       "      <th>502</th>\n",
       "      <td>90</td>\n",
       "      <td>35297</td>\n",
       "      <td>0.355149</td>\n",
       "      <td>16091.402344</td>\n",
       "      <td>Cluster 0</td>\n",
       "    </tr>\n",
       "    <tr>\n",
       "      <th>503</th>\n",
       "      <td>91</td>\n",
       "      <td>20681</td>\n",
       "      <td>0.354679</td>\n",
       "      <td>18401.087891</td>\n",
       "      <td>Cluster 0</td>\n",
       "    </tr>\n",
       "    <tr>\n",
       "      <th>504</th>\n",
       "      <td>89</td>\n",
       "      <td>30267</td>\n",
       "      <td>0.289310</td>\n",
       "      <td>14386.351562</td>\n",
       "      <td>Cluster 0</td>\n",
       "    </tr>\n",
       "  </tbody>\n",
       "</table>\n",
       "<p>505 rows × 5 columns</p>\n",
       "</div>"
      ],
      "text/plain": [
       "     Age  Income  SpendingScore       Savings    Cluster\n",
       "0     58   77769       0.791329   6559.830078  Cluster 2\n",
       "1     59   81799       0.791082   5417.661621  Cluster 2\n",
       "2     62   74751       0.702657   9258.993164  Cluster 2\n",
       "3     59   74373       0.765680   7346.334473  Cluster 2\n",
       "4     87   17760       0.348778  16869.507812  Cluster 0\n",
       "..   ...     ...            ...           ...        ...\n",
       "500   28  101206       0.387441  14936.775391  Cluster 1\n",
       "501   93   19934       0.203140  17969.693359  Cluster 0\n",
       "502   90   35297       0.355149  16091.402344  Cluster 0\n",
       "503   91   20681       0.354679  18401.087891  Cluster 0\n",
       "504   89   30267       0.289310  14386.351562  Cluster 0\n",
       "\n",
       "[505 rows x 5 columns]"
      ]
     },
     "execution_count": 21,
     "metadata": {},
     "output_type": "execute_result"
    }
   ],
   "source": [
    "kmeans_cluster = assign_model(kmeans)\n",
    "kmeans_cluster"
   ]
  },
  {
   "cell_type": "markdown",
   "id": "6a77ec0c",
   "metadata": {},
   "source": [
    "## Analyze Model"
   ]
  },
  {
   "cell_type": "markdown",
   "id": "595ea108",
   "metadata": {},
   "source": [
    "You can use the `plot_model` function to analyzes the performance of a trained model on the test set. It may require re-training the model in certain cases."
   ]
  },
  {
   "cell_type": "code",
   "execution_count": 15,
   "id": "0ec7fad6",
   "metadata": {},
   "outputs": [
    {
     "data": {
      "text/html": [],
      "text/plain": [
       "<IPython.core.display.HTML object>"
      ]
     },
     "metadata": {},
     "output_type": "display_data"
    },
    {
     "data": {
      "application/vnd.plotly.v1+json": {
       "config": {
        "plotlyServerURL": "https://plot.ly"
       },
       "data": [
        {
         "customdata": [
          [
           89
          ],
          [
           85
          ],
          [
           88
          ],
          [
           94
          ],
          [
           89
          ],
          [
           87
          ],
          [
           92
          ],
          [
           85
          ],
          [
           93
          ],
          [
           86
          ],
          [
           79
          ],
          [
           82
          ],
          [
           89
          ],
          [
           84
          ],
          [
           87
          ],
          [
           86
          ],
          [
           94
          ],
          [
           88
          ],
          [
           95
          ],
          [
           89
          ],
          [
           86
          ],
          [
           85
          ],
          [
           87
          ],
          [
           89
          ],
          [
           92
          ],
          [
           85
          ],
          [
           90
          ],
          [
           90
          ],
          [
           84
          ],
          [
           88
          ],
          [
           84
          ],
          [
           88
          ],
          [
           91
          ],
          [
           89
          ],
          [
           86
          ],
          [
           88
          ],
          [
           87
          ],
          [
           85
          ],
          [
           82
          ],
          [
           79
          ],
          [
           91
          ],
          [
           85
          ],
          [
           94
          ],
          [
           85
          ],
          [
           88
          ],
          [
           89
          ],
          [
           88
          ],
          [
           89
          ],
          [
           89
          ],
          [
           87
          ],
          [
           87
          ],
          [
           90
          ],
          [
           88
          ],
          [
           90
          ],
          [
           88
          ],
          [
           93
          ],
          [
           90
          ],
          [
           91
          ],
          [
           89
          ],
          [
           84
          ],
          [
           87
          ],
          [
           85
          ],
          [
           87
          ],
          [
           88
          ],
          [
           88
          ],
          [
           85
          ],
          [
           87
          ],
          [
           90
          ],
          [
           86
          ],
          [
           91
          ],
          [
           91
          ],
          [
           87
          ],
          [
           92
          ],
          [
           89
          ],
          [
           84
          ],
          [
           88
          ],
          [
           89
          ],
          [
           84
          ],
          [
           91
          ],
          [
           91
          ],
          [
           88
          ],
          [
           85
          ],
          [
           92
          ],
          [
           91
          ],
          [
           83
          ],
          [
           83
          ],
          [
           83
          ],
          [
           84
          ],
          [
           86
          ],
          [
           81
          ],
          [
           91
          ],
          [
           91
          ],
          [
           82
          ],
          [
           94
          ],
          [
           82
          ],
          [
           86
          ],
          [
           94
          ],
          [
           91
          ],
          [
           88
          ],
          [
           83
          ],
          [
           91
          ],
          [
           91
          ],
          [
           87
          ],
          [
           86
          ],
          [
           85
          ],
          [
           87
          ],
          [
           92
          ],
          [
           87
          ],
          [
           88
          ],
          [
           87
          ],
          [
           82
          ],
          [
           84
          ],
          [
           91
          ],
          [
           97
          ],
          [
           92
          ],
          [
           83
          ],
          [
           91
          ],
          [
           90
          ],
          [
           90
          ],
          [
           84
          ],
          [
           91
          ],
          [
           84
          ],
          [
           84
          ],
          [
           94
          ],
          [
           86
          ],
          [
           92
          ],
          [
           87
          ],
          [
           88
          ],
          [
           91
          ],
          [
           87
          ],
          [
           90
          ],
          [
           87
          ],
          [
           87
          ],
          [
           88
          ],
          [
           90
          ],
          [
           83
          ],
          [
           93
          ],
          [
           84
          ],
          [
           83
          ],
          [
           94
          ],
          [
           90
          ],
          [
           84
          ],
          [
           83
          ],
          [
           83
          ],
          [
           91
          ],
          [
           92
          ],
          [
           83
          ]
         ],
         "hovertemplate": "Cluster=Cluster 0<br>PCA1=%{x}<br>PCA2=%{y}<br>Feature=%{customdata[0]}<extra></extra>",
         "legendgroup": "Cluster 0",
         "marker": {
          "color": "#636efa",
          "opacity": 0.5,
          "symbol": "circle"
         },
         "mode": "markers",
         "name": "Cluster 0",
         "orientation": "v",
         "showlegend": true,
         "textposition": "top center",
         "type": "scatter",
         "x": [
          -45316.581389427374,
          -49427.52412175888,
          -47129.844161164685,
          -47975.629885853,
          -41047.37638673445,
          -57176.86780758157,
          -42194.79875082259,
          -47211.309228383594,
          -55300.438368619965,
          -39708.646986385116,
          -37510.58805740357,
          -43231.47785779805,
          -55368.98425714009,
          -48469.75824737505,
          -51191.18314121457,
          -46897.28721880448,
          -36822.88273567959,
          -42594.243035417414,
          -48754.553262303794,
          -49610.67501721531,
          -28705.212825263345,
          -47927.75616068905,
          -45592.662707943855,
          -50446.68720778378,
          -42805.17470565497,
          -40907.25151543578,
          -51240.79467140158,
          -42382.6988227996,
          -46294.696563603386,
          -49640.51628007659,
          -33685.82301953529,
          -41654.28539711411,
          -46752.17189818297,
          -53680.72060591249,
          -60035.35569518884,
          -47339.94734492914,
          -59885.18347781833,
          -41090.432743024736,
          -51335.69631678477,
          -43219.5706384472,
          -45489.120008583355,
          -47271.41327800883,
          -54957.490976530244,
          -44945.69896471381,
          -40724.15684584516,
          -47490.05336010272,
          -58306.893745623165,
          -44680.89355364248,
          -51006.625949623805,
          -49952.56387007485,
          -50055.78755676451,
          -50029.04864430798,
          -48459.57886574735,
          -42253.87288275519,
          -43012.76980619298,
          -58127.503834469906,
          -45508.35391168645,
          -50504.82310462912,
          -48762.364713996,
          -37730.769294571925,
          -28723.991918569285,
          -46206.76075642487,
          -44821.27196488107,
          -56178.67329217832,
          -49206.07300463819,
          -54413.15852823437,
          -45504.92819267482,
          -53514.36611000951,
          -43811.47260914543,
          -63634.72202883467,
          -39063.28666484058,
          -63656.34761270805,
          -53329.08892211857,
          -56491.72617965686,
          -53484.99043374052,
          -57750.757755218016,
          -42432.6451210219,
          -48329.37517055244,
          -47000.17167428389,
          -48496.8479100809,
          -53103.847928511896,
          -46522.91946866403,
          -39882.0232882802,
          -46108.5643741535,
          -45148.06214368701,
          -57495.82749294876,
          -48890.1620634034,
          -48254.0062095681,
          -56854.2449292782,
          -41272.895354261316,
          -55116.83598721045,
          -58771.33010005759,
          -51459.51352500545,
          -56820.087514001265,
          -42172.091374211624,
          -39916.59061180589,
          -48448.1898314992,
          -49274.44239573865,
          -46888.40588576984,
          -47148.049525131864,
          -51304.420783637215,
          -49855.360193773886,
          -49083.989006407,
          -52219.788910884425,
          -53905.330812432665,
          -45889.16122740452,
          -39730.75490897845,
          -44207.36922040722,
          -42334.04764915752,
          -49618.5642662469,
          -42152.50284228481,
          -39255.47389259957,
          -52957.61627730337,
          -48338.70468800093,
          -56895.33601319732,
          -41183.65208626923,
          -47591.22513143459,
          -52877.381623309746,
          -38257.01248030675,
          -45243.3359459051,
          -38870.67259289509,
          -55003.11474871313,
          -51590.97204811316,
          -51858.95285548026,
          -48031.600303378444,
          -53120.54075530758,
          -52745.27195482759,
          -57888.98693996798,
          -44891.72695125933,
          -33223.78792540309,
          -46621.67517287663,
          -57945.294049611366,
          -52350.13687817325,
          -44316.39099715632,
          -42485.198938817666,
          -41229.08531754963,
          -55837.89619000486,
          -57516.27314156978,
          -42546.30924747514,
          -47366.649428725366,
          -40392.52356154922,
          -48086.4715980166,
          -52508.303527129036,
          -45053.50114082117,
          -48867.33425333959,
          -40276.44812098458,
          -47072.83269048476
         ],
         "xaxis": "x",
         "y": [
          72.34217763365419,
          -3282.4965395289973,
          -2166.945504634241,
          -2697.480521875645,
          163.0082475778472,
          -500.3822652767259,
          -2831.245268015842,
          -497.02890750722275,
          -2379.445630722072,
          -2812.6407933646487,
          -2385.9314929128664,
          -2464.3656356469846,
          -990.6072888551697,
          -975.0114136119696,
          -2999.048697401424,
          -1500.6000118770833,
          -3004.136044051589,
          -4573.136558318882,
          -3476.758241532864,
          -2494.346157927883,
          -2125.5165605467582,
          1139.067591383127,
          -1858.741442949728,
          -1789.8301942200426,
          -2383.9238128105276,
          -2247.723767110281,
          -337.58306102870245,
          -1026.2176795347032,
          -3445.141443035066,
          -2403.4517367006006,
          -2359.9807573111766,
          -1284.276804921396,
          -4260.668084206524,
          -1523.1535588510797,
          -2067.784524904224,
          -2756.2106649257653,
          968.1817045075763,
          -2507.468602483165,
          -2253.3241819888626,
          -982.6375502407398,
          -857.2362973575497,
          -1422.2632977402075,
          -1273.0338864987414,
          -2663.4354555556265,
          -3403.3543346107713,
          -1025.6554152767997,
          -1498.3071568123478,
          -3320.238902579961,
          1229.6345018341267,
          -1016.3629330534905,
          -458.73281868832174,
          -2907.7976923646947,
          -623.0250548560471,
          -2813.408968099352,
          -2388.397928565653,
          -3329.4235557220845,
          -1716.096216771758,
          -2541.1034297579617,
          -1902.30456623323,
          -3447.522083521282,
          -1283.2493348069195,
          -3972.4381382736697,
          -809.248028239832,
          -1450.732271212416,
          646.5434219075455,
          -1055.9964673992274,
          -1656.4246533860949,
          -3511.6510358173923,
          -3844.050469725101,
          -958.5370357661066,
          -2178.9510788997623,
          -672.130776142057,
          -3704.115462201349,
          -1529.949851865195,
          -2964.870935052016,
          -1546.7861986769078,
          -2804.317989764126,
          -2106.955706664308,
          -3258.592151182359,
          -1255.0228766467976,
          -1838.6649351563988,
          -2395.1514908507816,
          -3145.8380799741676,
          -4704.899979069126,
          -918.4435120938786,
          -874.5934065316495,
          -3117.0439521319945,
          -3586.392580330958,
          -1039.8872367476156,
          -2039.0522118035894,
          -3386.6308713700596,
          -1946.4256473207154,
          -1443.6315773519354,
          -2626.4940910385008,
          -3482.9500826311164,
          -5860.40700494763,
          -424.4946391842377,
          -1819.141122643649,
          -1747.2843051407021,
          -948.1703671149696,
          -1341.642033865233,
          -2551.6401760254344,
          -2706.953602076431,
          -361.82290007413934,
          776.7212819595751,
          -3656.859751453876,
          -3215.3115156639474,
          -1788.5954480508228,
          -946.4423236598792,
          -1200.498978591492,
          -3595.426920160017,
          -2456.06295838429,
          -512.1679220763313,
          -296.94836353178636,
          -219.83546115270886,
          -2299.1778477879425,
          -2876.0171941981107,
          -1034.0459046785422,
          -3209.704980791507,
          -2386.7438202843036,
          -4966.632164446527,
          -1806.3718853762575,
          -1709.6808347140882,
          -1998.3145888103281,
          -2520.879074299024,
          -2373.9076829435644,
          -3270.2493332029303,
          -2297.4104831044383,
          -1059.5101766806483,
          -4327.5997846590935,
          -1061.3925460477683,
          -1690.2242432392866,
          -1271.8366522528777,
          -1681.1081908254478,
          -1573.1294931068785,
          -559.8885893852685,
          -2913.1509550389637,
          -2662.2372056655686,
          -2323.9543527396136,
          -2226.524522178832,
          -1918.0710771595102,
          -3267.664257900956,
          -2003.3794666631088,
          -3267.8529257017867,
          -3330.095620391113,
          -3159.402908770568,
          -3652.142734722462
         ],
         "yaxis": "y"
        },
        {
         "customdata": [
          [
           35
          ],
          [
           39
          ],
          [
           33
          ],
          [
           31
          ],
          [
           35
          ],
          [
           29
          ],
          [
           38
          ],
          [
           37
          ],
          [
           31
          ],
          [
           36
          ],
          [
           29
          ],
          [
           38
          ],
          [
           84
          ],
          [
           34
          ],
          [
           31
          ],
          [
           33
          ],
          [
           39
          ],
          [
           33
          ],
          [
           33
          ],
          [
           34
          ],
          [
           31
          ],
          [
           31
          ],
          [
           37
          ],
          [
           32
          ],
          [
           36
          ],
          [
           85
          ],
          [
           34
          ],
          [
           30
          ],
          [
           29
          ],
          [
           30
          ],
          [
           33
          ],
          [
           30
          ],
          [
           37
          ],
          [
           88
          ],
          [
           36
          ],
          [
           30
          ],
          [
           33
          ],
          [
           28
          ],
          [
           33
          ],
          [
           26
          ],
          [
           35
          ],
          [
           33
          ],
          [
           31
          ],
          [
           40
          ],
          [
           36
          ],
          [
           31
          ],
          [
           36
          ],
          [
           28
          ],
          [
           37
          ],
          [
           36
          ],
          [
           84
          ],
          [
           43
          ],
          [
           30
          ],
          [
           34
          ],
          [
           37
          ],
          [
           33
          ],
          [
           31
          ],
          [
           29
          ],
          [
           31
          ],
          [
           30
          ],
          [
           42
          ],
          [
           37
          ],
          [
           37
          ],
          [
           27
          ],
          [
           24
          ],
          [
           30
          ],
          [
           34
          ],
          [
           33
          ],
          [
           22
          ],
          [
           28
          ],
          [
           33
          ],
          [
           31
          ],
          [
           35
          ],
          [
           31
          ],
          [
           30
          ],
          [
           34
          ],
          [
           31
          ],
          [
           44
          ],
          [
           35
          ],
          [
           30
          ],
          [
           86
          ],
          [
           30
          ],
          [
           39
          ],
          [
           31
          ],
          [
           35
          ],
          [
           38
          ],
          [
           29
          ],
          [
           36
          ],
          [
           34
          ],
          [
           32
          ],
          [
           35
          ],
          [
           34
          ],
          [
           31
          ],
          [
           28
          ],
          [
           84
          ],
          [
           36
          ],
          [
           34
          ],
          [
           29
          ],
          [
           28
          ],
          [
           30
          ],
          [
           33
          ],
          [
           32
          ],
          [
           38
          ],
          [
           32
          ],
          [
           34
          ],
          [
           31
          ],
          [
           32
          ],
          [
           32
          ],
          [
           29
          ],
          [
           25
          ],
          [
           25
          ],
          [
           59
          ],
          [
           35
          ],
          [
           29
          ],
          [
           29
          ],
          [
           28
          ],
          [
           37
          ],
          [
           37
          ],
          [
           37
          ],
          [
           35
          ],
          [
           31
          ],
          [
           31
          ],
          [
           28
          ],
          [
           33
          ],
          [
           36
          ],
          [
           31
          ],
          [
           36
          ],
          [
           35
          ],
          [
           29
          ],
          [
           33
          ]
         ],
         "hovertemplate": "Cluster=Cluster 1<br>PCA1=%{x}<br>PCA2=%{y}<br>Feature=%{customdata[0]}<extra></extra>",
         "legendgroup": "Cluster 1",
         "marker": {
          "color": "#EF553B",
          "opacity": 0.5,
          "symbol": "circle"
         },
         "mode": "markers",
         "name": "Cluster 1",
         "orientation": "v",
         "showlegend": true,
         "textposition": "top center",
         "type": "scatter",
         "x": [
          30806.776365699683,
          24706.12836543105,
          25328.069975138635,
          25363.91919366969,
          37194.902271544604,
          26228.376273797556,
          37939.717010227345,
          31960.75447088308,
          26983.04635508586,
          20592.34660124049,
          35036.71586290586,
          18943.37281532901,
          34834.90179722817,
          35572.715402147114,
          25732.344964588854,
          32561.02538427929,
          23470.847054512175,
          31361.085258501153,
          31045.22028118458,
          27758.38755378162,
          35758.275461121084,
          39135.37624685957,
          30949.63690680686,
          32572.750284951693,
          23967.006141706406,
          35579.20584184772,
          22393.4177046297,
          31911.001222896,
          40673.85966572635,
          26298.148403025214,
          38869.64947043886,
          32797.64364946061,
          21900.78529345971,
          38847.169751928894,
          32210.979752849802,
          22224.556150677465,
          19295.267700776076,
          25474.40276313259,
          24613.751994747225,
          21973.307957772937,
          41298.631284922674,
          30584.124596856775,
          32416.939856368153,
          23032.68011842759,
          24491.38892446562,
          37228.73474929926,
          29861.546691899726,
          33379.420597243974,
          32912.89205445821,
          22350.76980617095,
          39513.27355052197,
          25938.050515546736,
          25376.693283330602,
          14006.000973765149,
          22105.03460663262,
          30046.489099008362,
          30148.68268283114,
          15764.491422930658,
          32307.936747625536,
          24294.80848197433,
          31253.468503847278,
          32289.540193394674,
          34830.86604526112,
          31016.952780284246,
          34815.25490758295,
          31614.44255774996,
          23196.213321683514,
          36008.72534227599,
          33345.15627446258,
          23858.59823485603,
          22258.6086782299,
          23748.6778260255,
          34360.481813439445,
          32345.708411108044,
          32149.92130246567,
          27456.9132589894,
          32322.908535523773,
          38938.11811665463,
          31317.298082396956,
          30614.165788924765,
          39941.237372007025,
          20486.140681685305,
          24819.36093398272,
          31330.34395958769,
          28912.89514356203,
          28960.63498700782,
          36813.76713471409,
          33203.84261491329,
          28627.259856345157,
          26343.67868382353,
          32691.86956188506,
          26507.042897939544,
          29210.556892903744,
          36260.399872485126,
          38543.62513846534,
          28639.38501225212,
          31502.360315169364,
          26312.37296994564,
          22236.169465667845,
          33217.92658728097,
          16918.676225923726,
          26023.566392701516,
          39399.401380792246,
          34753.148471170534,
          23022.218288328782,
          40419.57667419343,
          19785.994373705318,
          30836.97832091276,
          23392.942038336685,
          25765.790066438298,
          30950.101845843255,
          15177.319702791374,
          30155.334179480957,
          30268.705481027388,
          27412.691418946462,
          19017.169490301145,
          32853.06228404298,
          35023.21628615081,
          31202.412658451638,
          26003.522420593872,
          28681.54987121016,
          35187.910560505494,
          24827.97879769219,
          40849.4806011811,
          26071.981192203377,
          29240.509736461725,
          34060.87751097296,
          26578.153217150317,
          35711.08000629997,
          23896.36879719901
         ],
         "xaxis": "x",
         "y": [
          -5560.204279339282,
          -6304.28666973399,
          -4507.818639633964,
          -6518.878337708825,
          -4030.4862142381594,
          -4266.484394821199,
          -4683.440267913227,
          -7950.138456796402,
          -2897.4182757985145,
          -4611.58786570278,
          -6415.6994227079485,
          -6099.926572904184,
          -5079.540897002698,
          -4807.6649456087935,
          -4846.280154278848,
          -5658.52873889132,
          -4720.2485683084615,
          -4837.589777514424,
          -4354.880238261408,
          -3524.602272808,
          -4122.47165904104,
          -4339.706610389623,
          -4397.197247861169,
          -6711.00561277483,
          -5918.695473496275,
          -6195.256076450445,
          -5150.7473873856125,
          -2672.9115870036853,
          -5771.827355976955,
          -5023.0388936156905,
          -4117.835744147907,
          -5654.547208585252,
          -5234.914564220799,
          -8209.639605398577,
          -5806.362656038767,
          -5737.01410615847,
          -3266.6498646157047,
          -4541.161734519428,
          -3288.464044751346,
          -5227.972192633895,
          -6422.065158701397,
          -5198.652074260119,
          -3316.8740951794775,
          -5461.179167794462,
          -3378.5436476328764,
          -4575.537585729343,
          -4210.49136349359,
          -4139.052833212817,
          -4588.6648482675855,
          -5405.192571717665,
          -4805.682615179937,
          -4054.2525236210595,
          -3922.328915477504,
          -1775.6048970799568,
          -4346.187481501869,
          -2733.109173664304,
          -3727.641074472827,
          -2149.152364399403,
          -3401.081205177556,
          -3156.1748108191573,
          -4792.820646769864,
          -3634.341607017835,
          -5377.228895403828,
          -4865.004250775129,
          -5108.281907469467,
          -3948.413294987954,
          -5613.714696123653,
          -6111.705479451019,
          -6080.299784647316,
          -4857.997405051628,
          -5195.925254869434,
          -4085.3877140573586,
          -5038.8163456089,
          -2201.7207440339266,
          -5508.945012028894,
          -4868.312310128523,
          -3681.290698907489,
          -4443.170207612084,
          -6141.762968151087,
          -4762.434742638747,
          -5237.495096676853,
          -4804.20396185195,
          -6443.116855817874,
          -5635.163992926352,
          -5224.554320132972,
          -5439.902010858874,
          -4615.462129937949,
          -6552.89238394367,
          -3324.816428758574,
          -3863.006710456133,
          -6066.457134457766,
          -5484.674224534336,
          -6286.357858424555,
          -3890.344534167897,
          -7198.063500096869,
          -3130.95037385806,
          -5081.2058281248155,
          -4286.405352481017,
          -4400.042493871477,
          -4387.405057818727,
          -2877.1941821022297,
          -7172.334086297059,
          -5202.0903724529035,
          -4008.5892737018034,
          -4439.122431386051,
          -6642.234020142066,
          -4699.391881256266,
          -4248.41077613017,
          -5117.926531788425,
          -4647.514683014754,
          -6274.399316410825,
          4253.6700801853995,
          -6491.84558752481,
          -4917.675610318436,
          -5970.6593858539245,
          -4587.056170558121,
          -5910.595732886553,
          -4416.577014358738,
          -4006.8812090056676,
          -3786.133848157171,
          -4194.112749071161,
          -4164.857943447234,
          -5088.608026609542,
          -5591.430813146166,
          -4687.76444193895,
          -5240.7101050214305,
          -5075.678179352552,
          -4542.181119259884,
          -4543.480905662913,
          -4653.572749186032
         ],
         "yaxis": "y"
        },
        {
         "customdata": [
          [
           59
          ],
          [
           57
          ],
          [
           59
          ],
          [
           61
          ],
          [
           60
          ],
          [
           65
          ],
          [
           57
          ],
          [
           64
          ],
          [
           59
          ],
          [
           58
          ],
          [
           63
          ],
          [
           59
          ],
          [
           51
          ],
          [
           57
          ],
          [
           58
          ],
          [
           61
          ],
          [
           67
          ],
          [
           65
          ],
          [
           56
          ],
          [
           59
          ],
          [
           55
          ],
          [
           62
          ],
          [
           60
          ],
          [
           61
          ],
          [
           62
          ],
          [
           60
          ],
          [
           58
          ],
          [
           60
          ],
          [
           66
          ],
          [
           59
          ],
          [
           56
          ],
          [
           61
          ],
          [
           55
          ],
          [
           58
          ],
          [
           58
          ],
          [
           61
          ],
          [
           68
          ],
          [
           65
          ],
          [
           59
          ],
          [
           63
          ],
          [
           67
          ],
          [
           63
          ],
          [
           58
          ],
          [
           67
          ],
          [
           56
          ],
          [
           59
          ],
          [
           61
          ],
          [
           58
          ],
          [
           62
          ],
          [
           58
          ],
          [
           62
          ],
          [
           66
          ],
          [
           57
          ],
          [
           66
          ],
          [
           63
          ],
          [
           64
          ],
          [
           62
          ],
          [
           62
          ],
          [
           60
          ],
          [
           65
          ],
          [
           60
          ],
          [
           63
          ],
          [
           56
          ],
          [
           60
          ],
          [
           58
          ],
          [
           62
          ],
          [
           56
          ],
          [
           59
          ],
          [
           65
          ],
          [
           62
          ],
          [
           59
          ],
          [
           66
          ],
          [
           64
          ],
          [
           62
          ],
          [
           61
          ],
          [
           56
          ],
          [
           62
          ],
          [
           60
          ],
          [
           62
          ],
          [
           59
          ],
          [
           64
          ],
          [
           58
          ],
          [
           56
          ],
          [
           59
          ],
          [
           62
          ],
          [
           59
          ],
          [
           54
          ],
          [
           61
          ],
          [
           55
          ],
          [
           53
          ],
          [
           55
          ],
          [
           61
          ],
          [
           59
          ],
          [
           59
          ],
          [
           56
          ],
          [
           61
          ],
          [
           61
          ],
          [
           63
          ],
          [
           60
          ],
          [
           61
          ],
          [
           55
          ],
          [
           53
          ],
          [
           61
          ],
          [
           64
          ],
          [
           62
          ],
          [
           55
          ],
          [
           58
          ],
          [
           57
          ],
          [
           59
          ],
          [
           58
          ],
          [
           59
          ],
          [
           64
          ],
          [
           58
          ],
          [
           57
          ],
          [
           63
          ],
          [
           57
          ],
          [
           58
          ],
          [
           63
          ],
          [
           62
          ],
          [
           59
          ],
          [
           67
          ],
          [
           58
          ],
          [
           58
          ],
          [
           57
          ],
          [
           66
          ],
          [
           64
          ],
          [
           59
          ],
          [
           59
          ],
          [
           59
          ],
          [
           59
          ],
          [
           68
          ],
          [
           58
          ],
          [
           61
          ],
          [
           61
          ],
          [
           57
          ],
          [
           57
          ],
          [
           55
          ],
          [
           64
          ],
          [
           64
          ],
          [
           56
          ],
          [
           63
          ],
          [
           60
          ],
          [
           61
          ],
          [
           53
          ],
          [
           56
          ],
          [
           61
          ],
          [
           59
          ],
          [
           60
          ],
          [
           58
          ],
          [
           58
          ],
          [
           55
          ],
          [
           56
          ],
          [
           62
          ],
          [
           56
          ],
          [
           61
          ],
          [
           59
          ]
         ],
         "hovertemplate": "Cluster=Cluster 2<br>PCA1=%{x}<br>PCA2=%{y}<br>Feature=%{customdata[0]}<extra></extra>",
         "legendgroup": "Cluster 2",
         "marker": {
          "color": "#00cc96",
          "opacity": 0.5,
          "symbol": "circle"
         },
         "mode": "markers",
         "name": "Cluster 2",
         "orientation": "v",
         "showlegend": true,
         "textposition": "top center",
         "type": "scatter",
         "x": [
          -7981.746785180182,
          -10371.48706517594,
          -2220.635444393811,
          3607.6218458178587,
          -805.5182754639131,
          -811.2732950246508,
          -3147.971701777522,
          -12402.614021503563,
          5619.125533378015,
          2868.6753241163115,
          7034.567000940583,
          -1709.0067144922564,
          -3127.7464850155247,
          4615.604597857519,
          4968.764656493565,
          -6214.354922912841,
          5679.93501906246,
          -4794.730197271373,
          -9823.292972914789,
          -5787.584451174631,
          1547.9124272171955,
          -7431.169948635805,
          -11770.096233982846,
          -3197.7706738433167,
          -1424.296859729877,
          -5149.414552703784,
          -4588.845678205519,
          -9176.939927564545,
          1855.0479746174185,
          7017.407221041009,
          5122.282549932676,
          -967.1345392121356,
          -10419.650737321674,
          -4883.720557377946,
          3333.037006876282,
          -7827.504394122572,
          -6270.130047136961,
          -4114.6658392531535,
          -7225.6566572804895,
          -4661.643211273577,
          -6586.3750253164635,
          -7793.211518497565,
          -6075.723954598627,
          3574.8676307498317,
          -1755.3663671079712,
          -1864.5940731049402,
          -9270.983238674971,
          2555.784223730438,
          -5898.744482221793,
          -5327.512632351789,
          -1710.0091114415,
          -2630.7941444101584,
          1381.2925353027417,
          -10238.837919558968,
          -2329.616773935962,
          -3536.6249026123105,
          -11570.013634605875,
          -12594.17525719195,
          -3881.279238659186,
          -9447.566961580664,
          -4595.725464525729,
          5567.478118222908,
          9121.20833327475,
          4848.44275648667,
          499.496624006364,
          -4176.722628358165,
          -6529.597903259437,
          -7423.928781748681,
          -9153.99211227534,
          4864.68365176265,
          -7249.028144112699,
          7325.256189942492,
          1198.2155216057806,
          -6945.490210959247,
          -5628.983755072115,
          -6874.447279795802,
          3175.730103636436,
          -10072.87512235504,
          -5806.077068066832,
          -6051.798043076611,
          11039.026949927069,
          -4972.9221323188995,
          11129.424152003645,
          6644.597598902894,
          -611.8920901109232,
          -879.6961238367875,
          1270.5926144944237,
          -3354.409395225731,
          -3652.051625562806,
          1535.320025725934,
          3442.0678892712554,
          1691.1470012917125,
          -9514.742116918946,
          -5495.930033917727,
          -11393.26427331702,
          -1006.7942920597748,
          -11385.807306619192,
          10499.407287118554,
          -5228.773563698111,
          -2009.7086269484455,
          -847.300232329234,
          -13124.391619355425,
          -6112.701963031476,
          -14757.626867529665,
          -5414.451735591036,
          -4197.995988224732,
          -907.6690954314622,
          4241.775879690278,
          -2601.8696305967806,
          1797.869290930973,
          -860.4354508721326,
          13091.374146760918,
          -4333.353165561371,
          106.44731571900178,
          -5414.849621040671,
          -1148.5927303150024,
          834.6063397987256,
          -182.8750991486991,
          -12401.012613234328,
          384.48864417494497,
          -15876.014206199558,
          2392.9514015408095,
          -4856.160273050595,
          -9604.976111586082,
          -3578.6411698601864,
          3594.042431937774,
          -5713.304473394477,
          -7793.454361394592,
          -18832.32309725967,
          277.3194394523527,
          2456.1149302637336,
          3385.822034418757,
          -1867.5011781843514,
          -4025.5345829792054,
          -5506.504771609419,
          1380.9095889215503,
          -1254.7960958097494,
          1223.333286810533,
          -10817.514887710628,
          375.6120103283671,
          -18377.080909021166,
          -7740.904886148209,
          -9600.009518947492,
          -284.9346156042528,
          -15159.901907030266,
          -4335.121225148139,
          -3902.6507664053634,
          -9955.598990292232,
          8122.080380431861,
          5073.487342754965,
          871.0561288830006,
          3735.222284723835,
          -8175.944783875935,
          -7927.279401739004,
          -3222.028498023295,
          2663.814116403005
         ],
         "xaxis": "x",
         "y": [
          3467.566430123231,
          6211.274367328179,
          4177.140252105052,
          4852.444506942659,
          4348.095844750883,
          4771.515278723635,
          5506.9964385163485,
          4277.420175996704,
          4314.803831727304,
          5223.642144465051,
          3374.2873062887675,
          3684.6952600892155,
          5318.2818445711,
          5713.4422040032005,
          3943.1172738218793,
          8154.200471910179,
          4711.285755352463,
          5174.4703666073765,
          6862.24756855008,
          5711.628519863226,
          3973.906796941001,
          6342.036887449047,
          5001.4205881955295,
          5127.9492979435245,
          7267.328447090975,
          5556.666162538331,
          4468.268199202194,
          7146.662700635211,
          5468.743079867762,
          5588.800471678816,
          3424.0734017075106,
          4638.724083111247,
          5982.858062463171,
          4688.370839749903,
          4012.2154853373427,
          5701.6975673885545,
          5401.821899173081,
          3078.895982492392,
          4564.6175359122635,
          4875.411844599688,
          4795.659468727204,
          6334.243106042947,
          3500.5963142113897,
          6638.189555586541,
          4273.205130157205,
          5267.352326944875,
          5996.549301848867,
          5164.690207216517,
          5205.840127358392,
          5507.67433861768,
          5692.091535965765,
          5512.809747300337,
          5207.220968280962,
          7423.315553060341,
          6502.207658399992,
          5070.413063690284,
          6393.584858504259,
          5058.593260676161,
          3532.750550096714,
          6026.370077872565,
          4575.315312500282,
          6399.679501338911,
          4076.18894041781,
          6716.389157420842,
          4450.572584113251,
          5121.948253777009,
          5174.060198642425,
          5595.425013755257,
          6237.454829267955,
          4834.954016262223,
          5030.101276940088,
          5245.750184774924,
          6031.5977029474325,
          5240.283887422072,
          3413.4612857981865,
          3266.470555811605,
          4727.0798785274455,
          7033.832267439081,
          5686.132099777846,
          6221.683197407646,
          4384.687445082089,
          5053.974565097909,
          2451.395705037185,
          6074.108602891885,
          2642.856238209565,
          4574.029857294057,
          4918.861045396699,
          4039.0497266262287,
          4298.147977719973,
          6617.143268176046,
          3293.926138303474,
          4305.605568968253,
          5484.06232146995,
          5033.927141363305,
          4760.726839204438,
          6827.736581903404,
          5239.834348120357,
          4092.586673558624,
          4906.821114529853,
          4571.311395238504,
          5435.293660917688,
          5122.2983241763395,
          7150.265776891166,
          5008.011891703157,
          6401.496667099216,
          4646.423182047725,
          4662.571681544222,
          4854.373360315709,
          5720.0638913443645,
          3616.9067455458803,
          1366.2174572861734,
          3878.073904440504,
          6791.121854812125,
          5019.545227332765,
          4509.378968992945,
          6154.518340801153,
          5141.10135312582,
          4411.324333177551,
          6731.62241348175,
          6845.141671584188,
          7337.462411005282,
          5992.684142669537,
          6861.841813756618,
          5517.45683612465,
          4687.331267871385,
          5244.223965614595,
          6098.407220683642,
          5788.853750291187,
          6823.253221994716,
          5152.077474584819,
          5539.978054207804,
          4513.1591882356615,
          2685.6629912898047,
          5644.552286645024,
          6298.430264198272,
          5567.1127539626605,
          6380.915678462944,
          5666.368020665916,
          6677.482013672136,
          5049.606055105611,
          5086.374515846047,
          5133.639365463536,
          4923.281736972965,
          4064.0083597599264,
          5573.243770197074,
          2658.2975017240046,
          5499.339242197263,
          4085.312440945957,
          4731.012077645321,
          5244.436589238666,
          5689.000195132621,
          4370.467576915724,
          5599.274846074169,
          5673.527612414196,
          4129.181187750043,
          3399.119908746677
         ],
         "yaxis": "y"
        },
        {
         "customdata": [
          [
           18
          ],
          [
           85
          ],
          [
           27
          ],
          [
           28
          ],
          [
           25
          ],
          [
           83
          ],
          [
           18
          ],
          [
           26
          ],
          [
           32
          ],
          [
           89
          ],
          [
           20
          ],
          [
           88
          ],
          [
           30
          ],
          [
           26
          ],
          [
           17
          ],
          [
           92
          ],
          [
           23
          ],
          [
           22
          ],
          [
           20
          ],
          [
           22
          ],
          [
           90
          ],
          [
           25
          ],
          [
           17
          ],
          [
           24
          ],
          [
           29
          ],
          [
           84
          ],
          [
           25
          ],
          [
           83
          ],
          [
           31
          ],
          [
           21
          ],
          [
           28
          ],
          [
           24
          ],
          [
           82
          ],
          [
           26
          ],
          [
           28
          ],
          [
           23
          ],
          [
           26
          ],
          [
           26
          ],
          [
           29
          ],
          [
           21
          ],
          [
           86
          ],
          [
           23
          ],
          [
           25
          ],
          [
           24
          ],
          [
           87
          ],
          [
           28
          ],
          [
           20
          ],
          [
           27
          ],
          [
           86
          ],
          [
           82
          ],
          [
           22
          ],
          [
           25
          ],
          [
           91
          ],
          [
           17
          ],
          [
           93
          ],
          [
           34
          ],
          [
           29
          ],
          [
           77
          ],
          [
           27
          ],
          [
           28
          ],
          [
           83
          ],
          [
           29
          ],
          [
           24
          ],
          [
           24
          ],
          [
           17
          ],
          [
           28
          ],
          [
           25
          ],
          [
           90
          ],
          [
           24
          ],
          [
           23
          ],
          [
           24
          ],
          [
           88
          ]
         ],
         "hovertemplate": "Cluster=Cluster 3<br>PCA1=%{x}<br>PCA2=%{y}<br>Feature=%{customdata[0]}<extra></extra>",
         "legendgroup": "Cluster 3",
         "marker": {
          "color": "#ab63fa",
          "opacity": 0.5,
          "symbol": "circle"
         },
         "mode": "markers",
         "name": "Cluster 3",
         "orientation": "v",
         "showlegend": true,
         "textposition": "top center",
         "type": "scatter",
         "x": [
          48551.897789887524,
          42414.13983525134,
          46271.74997443962,
          48029.23597884718,
          62912.45710039263,
          43629.01274005913,
          55587.35172793505,
          56651.455486319515,
          41328.25268046831,
          43861.74707162002,
          53899.23405406332,
          44952.90204718015,
          47549.76255316081,
          47842.8836691323,
          59798.17481890998,
          47182.068601211664,
          51395.224355863276,
          57857.2890531498,
          47415.389155965175,
          58984.550283890065,
          48410.00928895817,
          55168.45153662265,
          59803.04557597497,
          53976.789993076745,
          56449.67813276753,
          46993.64107086383,
          53422.552479964776,
          41580.27174136413,
          47836.448388874844,
          48602.57110350954,
          52465.033585302095,
          52263.49411048377,
          50433.85140507419,
          51532.470054685786,
          46000.802483408486,
          63317.06653029418,
          52086.38065950189,
          50397.08388459137,
          43600.216207210484,
          54542.56027032768,
          52679.137439365106,
          54778.91990697272,
          45728.4011392722,
          59239.85352122589,
          41859.154366077884,
          48281.96476028116,
          54230.31142876455,
          49923.2324005917,
          48577.24595197165,
          45920.30382555989,
          45302.570913649906,
          55809.6082475434,
          43084.43131856263,
          48697.32854572939,
          50874.59371963918,
          44074.744333958406,
          47210.61128826445,
          52844.21452066907,
          47518.88132347978,
          53924.5970418673,
          42157.80543094878,
          66750.62107639125,
          45280.29646688086,
          61617.256018538916,
          61085.161818166234,
          41933.87633764401,
          55783.42885409023,
          42045.79572232821,
          55795.99791010046,
          45049.713023239456,
          59196.59307835406,
          47964.552285061145
         ],
         "xaxis": "x",
         "y": [
          4668.2147013471895,
          -5432.281984340339,
          4207.414538362321,
          5422.323715263655,
          5261.355290099567,
          -6254.840940318084,
          3427.13517017135,
          4271.2922568352615,
          -4823.645609095871,
          -6877.0362371637675,
          3176.746804746799,
          -4985.514604349105,
          3437.896625297286,
          4758.188583448424,
          4315.751653167794,
          -4557.716265875782,
          5657.241523409545,
          5717.501103770007,
          4709.388721993287,
          3350.7117975359874,
          -5693.665477980675,
          4016.981500839464,
          8450.307548937883,
          5488.389848804973,
          5101.398631128984,
          -4647.129392602895,
          3894.235404068605,
          -5615.560841025175,
          6059.983303443483,
          6249.537248101829,
          3371.5330641923256,
          5916.358116348504,
          -6854.205790290385,
          6006.733800938252,
          3884.452852169693,
          4946.177503380897,
          3388.427067520488,
          2890.550760271962,
          -5657.478374018939,
          4193.883189681699,
          -4749.056737128217,
          4629.791345722708,
          3658.3064353496766,
          4745.144493284467,
          -4543.326342656859,
          8499.966919747458,
          3238.42893748413,
          6048.724076369277,
          -6305.307643166667,
          -4953.921494062044,
          3778.181609385137,
          3879.1495425780936,
          -4660.855325409081,
          5282.49786165519,
          -5178.053057007989,
          -6307.668957592938,
          6674.234783135662,
          -5677.667836398276,
          4941.999476017813,
          5765.842917677424,
          -5954.454575332954,
          2693.0080673252,
          4437.356755042903,
          6726.313729421183,
          4243.721803980186,
          4717.997031231385,
          4732.087674705496,
          -3106.103134052821,
          4252.897482631883,
          4590.872356292782,
          3903.9748137910706,
          -4397.185708241045
         ],
         "yaxis": "y"
        }
       ],
       "layout": {
        "height": 600,
        "legend": {
         "title": {
          "text": "Cluster"
         },
         "tracegroupgap": 0
        },
        "margin": {
         "t": 60
        },
        "plot_bgcolor": "rgb(240,240,240)",
        "template": {
         "data": {
          "bar": [
           {
            "error_x": {
             "color": "#2a3f5f"
            },
            "error_y": {
             "color": "#2a3f5f"
            },
            "marker": {
             "line": {
              "color": "#E5ECF6",
              "width": 0.5
             },
             "pattern": {
              "fillmode": "overlay",
              "size": 10,
              "solidity": 0.2
             }
            },
            "type": "bar"
           }
          ],
          "barpolar": [
           {
            "marker": {
             "line": {
              "color": "#E5ECF6",
              "width": 0.5
             },
             "pattern": {
              "fillmode": "overlay",
              "size": 10,
              "solidity": 0.2
             }
            },
            "type": "barpolar"
           }
          ],
          "carpet": [
           {
            "aaxis": {
             "endlinecolor": "#2a3f5f",
             "gridcolor": "white",
             "linecolor": "white",
             "minorgridcolor": "white",
             "startlinecolor": "#2a3f5f"
            },
            "baxis": {
             "endlinecolor": "#2a3f5f",
             "gridcolor": "white",
             "linecolor": "white",
             "minorgridcolor": "white",
             "startlinecolor": "#2a3f5f"
            },
            "type": "carpet"
           }
          ],
          "choropleth": [
           {
            "colorbar": {
             "outlinewidth": 0,
             "ticks": ""
            },
            "type": "choropleth"
           }
          ],
          "contour": [
           {
            "colorbar": {
             "outlinewidth": 0,
             "ticks": ""
            },
            "colorscale": [
             [
              0,
              "#0d0887"
             ],
             [
              0.1111111111111111,
              "#46039f"
             ],
             [
              0.2222222222222222,
              "#7201a8"
             ],
             [
              0.3333333333333333,
              "#9c179e"
             ],
             [
              0.4444444444444444,
              "#bd3786"
             ],
             [
              0.5555555555555556,
              "#d8576b"
             ],
             [
              0.6666666666666666,
              "#ed7953"
             ],
             [
              0.7777777777777778,
              "#fb9f3a"
             ],
             [
              0.8888888888888888,
              "#fdca26"
             ],
             [
              1,
              "#f0f921"
             ]
            ],
            "type": "contour"
           }
          ],
          "contourcarpet": [
           {
            "colorbar": {
             "outlinewidth": 0,
             "ticks": ""
            },
            "type": "contourcarpet"
           }
          ],
          "heatmap": [
           {
            "colorbar": {
             "outlinewidth": 0,
             "ticks": ""
            },
            "colorscale": [
             [
              0,
              "#0d0887"
             ],
             [
              0.1111111111111111,
              "#46039f"
             ],
             [
              0.2222222222222222,
              "#7201a8"
             ],
             [
              0.3333333333333333,
              "#9c179e"
             ],
             [
              0.4444444444444444,
              "#bd3786"
             ],
             [
              0.5555555555555556,
              "#d8576b"
             ],
             [
              0.6666666666666666,
              "#ed7953"
             ],
             [
              0.7777777777777778,
              "#fb9f3a"
             ],
             [
              0.8888888888888888,
              "#fdca26"
             ],
             [
              1,
              "#f0f921"
             ]
            ],
            "type": "heatmap"
           }
          ],
          "heatmapgl": [
           {
            "colorbar": {
             "outlinewidth": 0,
             "ticks": ""
            },
            "colorscale": [
             [
              0,
              "#0d0887"
             ],
             [
              0.1111111111111111,
              "#46039f"
             ],
             [
              0.2222222222222222,
              "#7201a8"
             ],
             [
              0.3333333333333333,
              "#9c179e"
             ],
             [
              0.4444444444444444,
              "#bd3786"
             ],
             [
              0.5555555555555556,
              "#d8576b"
             ],
             [
              0.6666666666666666,
              "#ed7953"
             ],
             [
              0.7777777777777778,
              "#fb9f3a"
             ],
             [
              0.8888888888888888,
              "#fdca26"
             ],
             [
              1,
              "#f0f921"
             ]
            ],
            "type": "heatmapgl"
           }
          ],
          "histogram": [
           {
            "marker": {
             "pattern": {
              "fillmode": "overlay",
              "size": 10,
              "solidity": 0.2
             }
            },
            "type": "histogram"
           }
          ],
          "histogram2d": [
           {
            "colorbar": {
             "outlinewidth": 0,
             "ticks": ""
            },
            "colorscale": [
             [
              0,
              "#0d0887"
             ],
             [
              0.1111111111111111,
              "#46039f"
             ],
             [
              0.2222222222222222,
              "#7201a8"
             ],
             [
              0.3333333333333333,
              "#9c179e"
             ],
             [
              0.4444444444444444,
              "#bd3786"
             ],
             [
              0.5555555555555556,
              "#d8576b"
             ],
             [
              0.6666666666666666,
              "#ed7953"
             ],
             [
              0.7777777777777778,
              "#fb9f3a"
             ],
             [
              0.8888888888888888,
              "#fdca26"
             ],
             [
              1,
              "#f0f921"
             ]
            ],
            "type": "histogram2d"
           }
          ],
          "histogram2dcontour": [
           {
            "colorbar": {
             "outlinewidth": 0,
             "ticks": ""
            },
            "colorscale": [
             [
              0,
              "#0d0887"
             ],
             [
              0.1111111111111111,
              "#46039f"
             ],
             [
              0.2222222222222222,
              "#7201a8"
             ],
             [
              0.3333333333333333,
              "#9c179e"
             ],
             [
              0.4444444444444444,
              "#bd3786"
             ],
             [
              0.5555555555555556,
              "#d8576b"
             ],
             [
              0.6666666666666666,
              "#ed7953"
             ],
             [
              0.7777777777777778,
              "#fb9f3a"
             ],
             [
              0.8888888888888888,
              "#fdca26"
             ],
             [
              1,
              "#f0f921"
             ]
            ],
            "type": "histogram2dcontour"
           }
          ],
          "mesh3d": [
           {
            "colorbar": {
             "outlinewidth": 0,
             "ticks": ""
            },
            "type": "mesh3d"
           }
          ],
          "parcoords": [
           {
            "line": {
             "colorbar": {
              "outlinewidth": 0,
              "ticks": ""
             }
            },
            "type": "parcoords"
           }
          ],
          "pie": [
           {
            "automargin": true,
            "type": "pie"
           }
          ],
          "scatter": [
           {
            "fillpattern": {
             "fillmode": "overlay",
             "size": 10,
             "solidity": 0.2
            },
            "type": "scatter"
           }
          ],
          "scatter3d": [
           {
            "line": {
             "colorbar": {
              "outlinewidth": 0,
              "ticks": ""
             }
            },
            "marker": {
             "colorbar": {
              "outlinewidth": 0,
              "ticks": ""
             }
            },
            "type": "scatter3d"
           }
          ],
          "scattercarpet": [
           {
            "marker": {
             "colorbar": {
              "outlinewidth": 0,
              "ticks": ""
             }
            },
            "type": "scattercarpet"
           }
          ],
          "scattergeo": [
           {
            "marker": {
             "colorbar": {
              "outlinewidth": 0,
              "ticks": ""
             }
            },
            "type": "scattergeo"
           }
          ],
          "scattergl": [
           {
            "marker": {
             "colorbar": {
              "outlinewidth": 0,
              "ticks": ""
             }
            },
            "type": "scattergl"
           }
          ],
          "scattermapbox": [
           {
            "marker": {
             "colorbar": {
              "outlinewidth": 0,
              "ticks": ""
             }
            },
            "type": "scattermapbox"
           }
          ],
          "scatterpolar": [
           {
            "marker": {
             "colorbar": {
              "outlinewidth": 0,
              "ticks": ""
             }
            },
            "type": "scatterpolar"
           }
          ],
          "scatterpolargl": [
           {
            "marker": {
             "colorbar": {
              "outlinewidth": 0,
              "ticks": ""
             }
            },
            "type": "scatterpolargl"
           }
          ],
          "scatterternary": [
           {
            "marker": {
             "colorbar": {
              "outlinewidth": 0,
              "ticks": ""
             }
            },
            "type": "scatterternary"
           }
          ],
          "surface": [
           {
            "colorbar": {
             "outlinewidth": 0,
             "ticks": ""
            },
            "colorscale": [
             [
              0,
              "#0d0887"
             ],
             [
              0.1111111111111111,
              "#46039f"
             ],
             [
              0.2222222222222222,
              "#7201a8"
             ],
             [
              0.3333333333333333,
              "#9c179e"
             ],
             [
              0.4444444444444444,
              "#bd3786"
             ],
             [
              0.5555555555555556,
              "#d8576b"
             ],
             [
              0.6666666666666666,
              "#ed7953"
             ],
             [
              0.7777777777777778,
              "#fb9f3a"
             ],
             [
              0.8888888888888888,
              "#fdca26"
             ],
             [
              1,
              "#f0f921"
             ]
            ],
            "type": "surface"
           }
          ],
          "table": [
           {
            "cells": {
             "fill": {
              "color": "#EBF0F8"
             },
             "line": {
              "color": "white"
             }
            },
            "header": {
             "fill": {
              "color": "#C8D4E3"
             },
             "line": {
              "color": "white"
             }
            },
            "type": "table"
           }
          ]
         },
         "layout": {
          "annotationdefaults": {
           "arrowcolor": "#2a3f5f",
           "arrowhead": 0,
           "arrowwidth": 1
          },
          "autotypenumbers": "strict",
          "coloraxis": {
           "colorbar": {
            "outlinewidth": 0,
            "ticks": ""
           }
          },
          "colorscale": {
           "diverging": [
            [
             0,
             "#8e0152"
            ],
            [
             0.1,
             "#c51b7d"
            ],
            [
             0.2,
             "#de77ae"
            ],
            [
             0.3,
             "#f1b6da"
            ],
            [
             0.4,
             "#fde0ef"
            ],
            [
             0.5,
             "#f7f7f7"
            ],
            [
             0.6,
             "#e6f5d0"
            ],
            [
             0.7,
             "#b8e186"
            ],
            [
             0.8,
             "#7fbc41"
            ],
            [
             0.9,
             "#4d9221"
            ],
            [
             1,
             "#276419"
            ]
           ],
           "sequential": [
            [
             0,
             "#0d0887"
            ],
            [
             0.1111111111111111,
             "#46039f"
            ],
            [
             0.2222222222222222,
             "#7201a8"
            ],
            [
             0.3333333333333333,
             "#9c179e"
            ],
            [
             0.4444444444444444,
             "#bd3786"
            ],
            [
             0.5555555555555556,
             "#d8576b"
            ],
            [
             0.6666666666666666,
             "#ed7953"
            ],
            [
             0.7777777777777778,
             "#fb9f3a"
            ],
            [
             0.8888888888888888,
             "#fdca26"
            ],
            [
             1,
             "#f0f921"
            ]
           ],
           "sequentialminus": [
            [
             0,
             "#0d0887"
            ],
            [
             0.1111111111111111,
             "#46039f"
            ],
            [
             0.2222222222222222,
             "#7201a8"
            ],
            [
             0.3333333333333333,
             "#9c179e"
            ],
            [
             0.4444444444444444,
             "#bd3786"
            ],
            [
             0.5555555555555556,
             "#d8576b"
            ],
            [
             0.6666666666666666,
             "#ed7953"
            ],
            [
             0.7777777777777778,
             "#fb9f3a"
            ],
            [
             0.8888888888888888,
             "#fdca26"
            ],
            [
             1,
             "#f0f921"
            ]
           ]
          },
          "colorway": [
           "#636efa",
           "#EF553B",
           "#00cc96",
           "#ab63fa",
           "#FFA15A",
           "#19d3f3",
           "#FF6692",
           "#B6E880",
           "#FF97FF",
           "#FECB52"
          ],
          "font": {
           "color": "#2a3f5f"
          },
          "geo": {
           "bgcolor": "white",
           "lakecolor": "white",
           "landcolor": "#E5ECF6",
           "showlakes": true,
           "showland": true,
           "subunitcolor": "white"
          },
          "hoverlabel": {
           "align": "left"
          },
          "hovermode": "closest",
          "mapbox": {
           "style": "light"
          },
          "paper_bgcolor": "white",
          "plot_bgcolor": "#E5ECF6",
          "polar": {
           "angularaxis": {
            "gridcolor": "white",
            "linecolor": "white",
            "ticks": ""
           },
           "bgcolor": "#E5ECF6",
           "radialaxis": {
            "gridcolor": "white",
            "linecolor": "white",
            "ticks": ""
           }
          },
          "scene": {
           "xaxis": {
            "backgroundcolor": "#E5ECF6",
            "gridcolor": "white",
            "gridwidth": 2,
            "linecolor": "white",
            "showbackground": true,
            "ticks": "",
            "zerolinecolor": "white"
           },
           "yaxis": {
            "backgroundcolor": "#E5ECF6",
            "gridcolor": "white",
            "gridwidth": 2,
            "linecolor": "white",
            "showbackground": true,
            "ticks": "",
            "zerolinecolor": "white"
           },
           "zaxis": {
            "backgroundcolor": "#E5ECF6",
            "gridcolor": "white",
            "gridwidth": 2,
            "linecolor": "white",
            "showbackground": true,
            "ticks": "",
            "zerolinecolor": "white"
           }
          },
          "shapedefaults": {
           "line": {
            "color": "#2a3f5f"
           }
          },
          "ternary": {
           "aaxis": {
            "gridcolor": "white",
            "linecolor": "white",
            "ticks": ""
           },
           "baxis": {
            "gridcolor": "white",
            "linecolor": "white",
            "ticks": ""
           },
           "bgcolor": "#E5ECF6",
           "caxis": {
            "gridcolor": "white",
            "linecolor": "white",
            "ticks": ""
           }
          },
          "title": {
           "x": 0.05
          },
          "xaxis": {
           "automargin": true,
           "gridcolor": "white",
           "linecolor": "white",
           "ticks": "",
           "title": {
            "standoff": 15
           },
           "zerolinecolor": "white",
           "zerolinewidth": 2
          },
          "yaxis": {
           "automargin": true,
           "gridcolor": "white",
           "linecolor": "white",
           "ticks": "",
           "title": {
            "standoff": 15
           },
           "zerolinecolor": "white",
           "zerolinewidth": 2
          }
         }
        },
        "title": {
         "text": "2D Cluster PCA Plot"
        },
        "xaxis": {
         "anchor": "y",
         "domain": [
          0,
          1
         ],
         "title": {
          "text": "PCA1"
         }
        },
        "yaxis": {
         "anchor": "x",
         "domain": [
          0,
          1
         ],
         "title": {
          "text": "PCA2"
         }
        }
       }
      },
      "text/html": [
       "<div>                            <div id=\"9b043c76-83d8-4d21-a40d-0f564efd4660\" class=\"plotly-graph-div\" style=\"height:600px; width:100%;\"></div>            <script type=\"text/javascript\">                require([\"plotly\"], function(Plotly) {                    window.PLOTLYENV=window.PLOTLYENV || {};                                    if (document.getElementById(\"9b043c76-83d8-4d21-a40d-0f564efd4660\")) {                    Plotly.newPlot(                        \"9b043c76-83d8-4d21-a40d-0f564efd4660\",                        [{\"customdata\":[[89],[85],[88],[94],[89],[87],[92],[85],[93],[86],[79],[82],[89],[84],[87],[86],[94],[88],[95],[89],[86],[85],[87],[89],[92],[85],[90],[90],[84],[88],[84],[88],[91],[89],[86],[88],[87],[85],[82],[79],[91],[85],[94],[85],[88],[89],[88],[89],[89],[87],[87],[90],[88],[90],[88],[93],[90],[91],[89],[84],[87],[85],[87],[88],[88],[85],[87],[90],[86],[91],[91],[87],[92],[89],[84],[88],[89],[84],[91],[91],[88],[85],[92],[91],[83],[83],[83],[84],[86],[81],[91],[91],[82],[94],[82],[86],[94],[91],[88],[83],[91],[91],[87],[86],[85],[87],[92],[87],[88],[87],[82],[84],[91],[97],[92],[83],[91],[90],[90],[84],[91],[84],[84],[94],[86],[92],[87],[88],[91],[87],[90],[87],[87],[88],[90],[83],[93],[84],[83],[94],[90],[84],[83],[83],[91],[92],[83]],\"hovertemplate\":\"Cluster=Cluster 0<br>PCA1=%{x}<br>PCA2=%{y}<br>Feature=%{customdata[0]}<extra></extra>\",\"legendgroup\":\"Cluster 0\",\"marker\":{\"color\":\"#636efa\",\"opacity\":0.5,\"symbol\":\"circle\"},\"mode\":\"markers\",\"name\":\"Cluster 0\",\"orientation\":\"v\",\"showlegend\":true,\"x\":[-45316.581389427374,-49427.52412175888,-47129.844161164685,-47975.629885853,-41047.37638673445,-57176.86780758157,-42194.79875082259,-47211.309228383594,-55300.438368619965,-39708.646986385116,-37510.58805740357,-43231.47785779805,-55368.98425714009,-48469.75824737505,-51191.18314121457,-46897.28721880448,-36822.88273567959,-42594.243035417414,-48754.553262303794,-49610.67501721531,-28705.212825263345,-47927.75616068905,-45592.662707943855,-50446.68720778378,-42805.17470565497,-40907.25151543578,-51240.79467140158,-42382.6988227996,-46294.696563603386,-49640.51628007659,-33685.82301953529,-41654.28539711411,-46752.17189818297,-53680.72060591249,-60035.35569518884,-47339.94734492914,-59885.18347781833,-41090.432743024736,-51335.69631678477,-43219.5706384472,-45489.120008583355,-47271.41327800883,-54957.490976530244,-44945.69896471381,-40724.15684584516,-47490.05336010272,-58306.893745623165,-44680.89355364248,-51006.625949623805,-49952.56387007485,-50055.78755676451,-50029.04864430798,-48459.57886574735,-42253.87288275519,-43012.76980619298,-58127.503834469906,-45508.35391168645,-50504.82310462912,-48762.364713996,-37730.769294571925,-28723.991918569285,-46206.76075642487,-44821.27196488107,-56178.67329217832,-49206.07300463819,-54413.15852823437,-45504.92819267482,-53514.36611000951,-43811.47260914543,-63634.72202883467,-39063.28666484058,-63656.34761270805,-53329.08892211857,-56491.72617965686,-53484.99043374052,-57750.757755218016,-42432.6451210219,-48329.37517055244,-47000.17167428389,-48496.8479100809,-53103.847928511896,-46522.91946866403,-39882.0232882802,-46108.5643741535,-45148.06214368701,-57495.82749294876,-48890.1620634034,-48254.0062095681,-56854.2449292782,-41272.895354261316,-55116.83598721045,-58771.33010005759,-51459.51352500545,-56820.087514001265,-42172.091374211624,-39916.59061180589,-48448.1898314992,-49274.44239573865,-46888.40588576984,-47148.049525131864,-51304.420783637215,-49855.360193773886,-49083.989006407,-52219.788910884425,-53905.330812432665,-45889.16122740452,-39730.75490897845,-44207.36922040722,-42334.04764915752,-49618.5642662469,-42152.50284228481,-39255.47389259957,-52957.61627730337,-48338.70468800093,-56895.33601319732,-41183.65208626923,-47591.22513143459,-52877.381623309746,-38257.01248030675,-45243.3359459051,-38870.67259289509,-55003.11474871313,-51590.97204811316,-51858.95285548026,-48031.600303378444,-53120.54075530758,-52745.27195482759,-57888.98693996798,-44891.72695125933,-33223.78792540309,-46621.67517287663,-57945.294049611366,-52350.13687817325,-44316.39099715632,-42485.198938817666,-41229.08531754963,-55837.89619000486,-57516.27314156978,-42546.30924747514,-47366.649428725366,-40392.52356154922,-48086.4715980166,-52508.303527129036,-45053.50114082117,-48867.33425333959,-40276.44812098458,-47072.83269048476],\"xaxis\":\"x\",\"y\":[72.34217763365419,-3282.4965395289973,-2166.945504634241,-2697.480521875645,163.0082475778472,-500.3822652767259,-2831.245268015842,-497.02890750722275,-2379.445630722072,-2812.6407933646487,-2385.9314929128664,-2464.3656356469846,-990.6072888551697,-975.0114136119696,-2999.048697401424,-1500.6000118770833,-3004.136044051589,-4573.136558318882,-3476.758241532864,-2494.346157927883,-2125.5165605467582,1139.067591383127,-1858.741442949728,-1789.8301942200426,-2383.9238128105276,-2247.723767110281,-337.58306102870245,-1026.2176795347032,-3445.141443035066,-2403.4517367006006,-2359.9807573111766,-1284.276804921396,-4260.668084206524,-1523.1535588510797,-2067.784524904224,-2756.2106649257653,968.1817045075763,-2507.468602483165,-2253.3241819888626,-982.6375502407398,-857.2362973575497,-1422.2632977402075,-1273.0338864987414,-2663.4354555556265,-3403.3543346107713,-1025.6554152767997,-1498.3071568123478,-3320.238902579961,1229.6345018341267,-1016.3629330534905,-458.73281868832174,-2907.7976923646947,-623.0250548560471,-2813.408968099352,-2388.397928565653,-3329.4235557220845,-1716.096216771758,-2541.1034297579617,-1902.30456623323,-3447.522083521282,-1283.2493348069195,-3972.4381382736697,-809.248028239832,-1450.732271212416,646.5434219075455,-1055.9964673992274,-1656.4246533860949,-3511.6510358173923,-3844.050469725101,-958.5370357661066,-2178.9510788997623,-672.130776142057,-3704.115462201349,-1529.949851865195,-2964.870935052016,-1546.7861986769078,-2804.317989764126,-2106.955706664308,-3258.592151182359,-1255.0228766467976,-1838.6649351563988,-2395.1514908507816,-3145.8380799741676,-4704.899979069126,-918.4435120938786,-874.5934065316495,-3117.0439521319945,-3586.392580330958,-1039.8872367476156,-2039.0522118035894,-3386.6308713700596,-1946.4256473207154,-1443.6315773519354,-2626.4940910385008,-3482.9500826311164,-5860.40700494763,-424.4946391842377,-1819.141122643649,-1747.2843051407021,-948.1703671149696,-1341.642033865233,-2551.6401760254344,-2706.953602076431,-361.82290007413934,776.7212819595751,-3656.859751453876,-3215.3115156639474,-1788.5954480508228,-946.4423236598792,-1200.498978591492,-3595.426920160017,-2456.06295838429,-512.1679220763313,-296.94836353178636,-219.83546115270886,-2299.1778477879425,-2876.0171941981107,-1034.0459046785422,-3209.704980791507,-2386.7438202843036,-4966.632164446527,-1806.3718853762575,-1709.6808347140882,-1998.3145888103281,-2520.879074299024,-2373.9076829435644,-3270.2493332029303,-2297.4104831044383,-1059.5101766806483,-4327.5997846590935,-1061.3925460477683,-1690.2242432392866,-1271.8366522528777,-1681.1081908254478,-1573.1294931068785,-559.8885893852685,-2913.1509550389637,-2662.2372056655686,-2323.9543527396136,-2226.524522178832,-1918.0710771595102,-3267.664257900956,-2003.3794666631088,-3267.8529257017867,-3330.095620391113,-3159.402908770568,-3652.142734722462],\"yaxis\":\"y\",\"type\":\"scatter\",\"textposition\":\"top center\"},{\"customdata\":[[35],[39],[33],[31],[35],[29],[38],[37],[31],[36],[29],[38],[84],[34],[31],[33],[39],[33],[33],[34],[31],[31],[37],[32],[36],[85],[34],[30],[29],[30],[33],[30],[37],[88],[36],[30],[33],[28],[33],[26],[35],[33],[31],[40],[36],[31],[36],[28],[37],[36],[84],[43],[30],[34],[37],[33],[31],[29],[31],[30],[42],[37],[37],[27],[24],[30],[34],[33],[22],[28],[33],[31],[35],[31],[30],[34],[31],[44],[35],[30],[86],[30],[39],[31],[35],[38],[29],[36],[34],[32],[35],[34],[31],[28],[84],[36],[34],[29],[28],[30],[33],[32],[38],[32],[34],[31],[32],[32],[29],[25],[25],[59],[35],[29],[29],[28],[37],[37],[37],[35],[31],[31],[28],[33],[36],[31],[36],[35],[29],[33]],\"hovertemplate\":\"Cluster=Cluster 1<br>PCA1=%{x}<br>PCA2=%{y}<br>Feature=%{customdata[0]}<extra></extra>\",\"legendgroup\":\"Cluster 1\",\"marker\":{\"color\":\"#EF553B\",\"opacity\":0.5,\"symbol\":\"circle\"},\"mode\":\"markers\",\"name\":\"Cluster 1\",\"orientation\":\"v\",\"showlegend\":true,\"x\":[30806.776365699683,24706.12836543105,25328.069975138635,25363.91919366969,37194.902271544604,26228.376273797556,37939.717010227345,31960.75447088308,26983.04635508586,20592.34660124049,35036.71586290586,18943.37281532901,34834.90179722817,35572.715402147114,25732.344964588854,32561.02538427929,23470.847054512175,31361.085258501153,31045.22028118458,27758.38755378162,35758.275461121084,39135.37624685957,30949.63690680686,32572.750284951693,23967.006141706406,35579.20584184772,22393.4177046297,31911.001222896,40673.85966572635,26298.148403025214,38869.64947043886,32797.64364946061,21900.78529345971,38847.169751928894,32210.979752849802,22224.556150677465,19295.267700776076,25474.40276313259,24613.751994747225,21973.307957772937,41298.631284922674,30584.124596856775,32416.939856368153,23032.68011842759,24491.38892446562,37228.73474929926,29861.546691899726,33379.420597243974,32912.89205445821,22350.76980617095,39513.27355052197,25938.050515546736,25376.693283330602,14006.000973765149,22105.03460663262,30046.489099008362,30148.68268283114,15764.491422930658,32307.936747625536,24294.80848197433,31253.468503847278,32289.540193394674,34830.86604526112,31016.952780284246,34815.25490758295,31614.44255774996,23196.213321683514,36008.72534227599,33345.15627446258,23858.59823485603,22258.6086782299,23748.6778260255,34360.481813439445,32345.708411108044,32149.92130246567,27456.9132589894,32322.908535523773,38938.11811665463,31317.298082396956,30614.165788924765,39941.237372007025,20486.140681685305,24819.36093398272,31330.34395958769,28912.89514356203,28960.63498700782,36813.76713471409,33203.84261491329,28627.259856345157,26343.67868382353,32691.86956188506,26507.042897939544,29210.556892903744,36260.399872485126,38543.62513846534,28639.38501225212,31502.360315169364,26312.37296994564,22236.169465667845,33217.92658728097,16918.676225923726,26023.566392701516,39399.401380792246,34753.148471170534,23022.218288328782,40419.57667419343,19785.994373705318,30836.97832091276,23392.942038336685,25765.790066438298,30950.101845843255,15177.319702791374,30155.334179480957,30268.705481027388,27412.691418946462,19017.169490301145,32853.06228404298,35023.21628615081,31202.412658451638,26003.522420593872,28681.54987121016,35187.910560505494,24827.97879769219,40849.4806011811,26071.981192203377,29240.509736461725,34060.87751097296,26578.153217150317,35711.08000629997,23896.36879719901],\"xaxis\":\"x\",\"y\":[-5560.204279339282,-6304.28666973399,-4507.818639633964,-6518.878337708825,-4030.4862142381594,-4266.484394821199,-4683.440267913227,-7950.138456796402,-2897.4182757985145,-4611.58786570278,-6415.6994227079485,-6099.926572904184,-5079.540897002698,-4807.6649456087935,-4846.280154278848,-5658.52873889132,-4720.2485683084615,-4837.589777514424,-4354.880238261408,-3524.602272808,-4122.47165904104,-4339.706610389623,-4397.197247861169,-6711.00561277483,-5918.695473496275,-6195.256076450445,-5150.7473873856125,-2672.9115870036853,-5771.827355976955,-5023.0388936156905,-4117.835744147907,-5654.547208585252,-5234.914564220799,-8209.639605398577,-5806.362656038767,-5737.01410615847,-3266.6498646157047,-4541.161734519428,-3288.464044751346,-5227.972192633895,-6422.065158701397,-5198.652074260119,-3316.8740951794775,-5461.179167794462,-3378.5436476328764,-4575.537585729343,-4210.49136349359,-4139.052833212817,-4588.6648482675855,-5405.192571717665,-4805.682615179937,-4054.2525236210595,-3922.328915477504,-1775.6048970799568,-4346.187481501869,-2733.109173664304,-3727.641074472827,-2149.152364399403,-3401.081205177556,-3156.1748108191573,-4792.820646769864,-3634.341607017835,-5377.228895403828,-4865.004250775129,-5108.281907469467,-3948.413294987954,-5613.714696123653,-6111.705479451019,-6080.299784647316,-4857.997405051628,-5195.925254869434,-4085.3877140573586,-5038.8163456089,-2201.7207440339266,-5508.945012028894,-4868.312310128523,-3681.290698907489,-4443.170207612084,-6141.762968151087,-4762.434742638747,-5237.495096676853,-4804.20396185195,-6443.116855817874,-5635.163992926352,-5224.554320132972,-5439.902010858874,-4615.462129937949,-6552.89238394367,-3324.816428758574,-3863.006710456133,-6066.457134457766,-5484.674224534336,-6286.357858424555,-3890.344534167897,-7198.063500096869,-3130.95037385806,-5081.2058281248155,-4286.405352481017,-4400.042493871477,-4387.405057818727,-2877.1941821022297,-7172.334086297059,-5202.0903724529035,-4008.5892737018034,-4439.122431386051,-6642.234020142066,-4699.391881256266,-4248.41077613017,-5117.926531788425,-4647.514683014754,-6274.399316410825,4253.6700801853995,-6491.84558752481,-4917.675610318436,-5970.6593858539245,-4587.056170558121,-5910.595732886553,-4416.577014358738,-4006.8812090056676,-3786.133848157171,-4194.112749071161,-4164.857943447234,-5088.608026609542,-5591.430813146166,-4687.76444193895,-5240.7101050214305,-5075.678179352552,-4542.181119259884,-4543.480905662913,-4653.572749186032],\"yaxis\":\"y\",\"type\":\"scatter\",\"textposition\":\"top center\"},{\"customdata\":[[59],[57],[59],[61],[60],[65],[57],[64],[59],[58],[63],[59],[51],[57],[58],[61],[67],[65],[56],[59],[55],[62],[60],[61],[62],[60],[58],[60],[66],[59],[56],[61],[55],[58],[58],[61],[68],[65],[59],[63],[67],[63],[58],[67],[56],[59],[61],[58],[62],[58],[62],[66],[57],[66],[63],[64],[62],[62],[60],[65],[60],[63],[56],[60],[58],[62],[56],[59],[65],[62],[59],[66],[64],[62],[61],[56],[62],[60],[62],[59],[64],[58],[56],[59],[62],[59],[54],[61],[55],[53],[55],[61],[59],[59],[56],[61],[61],[63],[60],[61],[55],[53],[61],[64],[62],[55],[58],[57],[59],[58],[59],[64],[58],[57],[63],[57],[58],[63],[62],[59],[67],[58],[58],[57],[66],[64],[59],[59],[59],[59],[68],[58],[61],[61],[57],[57],[55],[64],[64],[56],[63],[60],[61],[53],[56],[61],[59],[60],[58],[58],[55],[56],[62],[56],[61],[59]],\"hovertemplate\":\"Cluster=Cluster 2<br>PCA1=%{x}<br>PCA2=%{y}<br>Feature=%{customdata[0]}<extra></extra>\",\"legendgroup\":\"Cluster 2\",\"marker\":{\"color\":\"#00cc96\",\"opacity\":0.5,\"symbol\":\"circle\"},\"mode\":\"markers\",\"name\":\"Cluster 2\",\"orientation\":\"v\",\"showlegend\":true,\"x\":[-7981.746785180182,-10371.48706517594,-2220.635444393811,3607.6218458178587,-805.5182754639131,-811.2732950246508,-3147.971701777522,-12402.614021503563,5619.125533378015,2868.6753241163115,7034.567000940583,-1709.0067144922564,-3127.7464850155247,4615.604597857519,4968.764656493565,-6214.354922912841,5679.93501906246,-4794.730197271373,-9823.292972914789,-5787.584451174631,1547.9124272171955,-7431.169948635805,-11770.096233982846,-3197.7706738433167,-1424.296859729877,-5149.414552703784,-4588.845678205519,-9176.939927564545,1855.0479746174185,7017.407221041009,5122.282549932676,-967.1345392121356,-10419.650737321674,-4883.720557377946,3333.037006876282,-7827.504394122572,-6270.130047136961,-4114.6658392531535,-7225.6566572804895,-4661.643211273577,-6586.3750253164635,-7793.211518497565,-6075.723954598627,3574.8676307498317,-1755.3663671079712,-1864.5940731049402,-9270.983238674971,2555.784223730438,-5898.744482221793,-5327.512632351789,-1710.0091114415,-2630.7941444101584,1381.2925353027417,-10238.837919558968,-2329.616773935962,-3536.6249026123105,-11570.013634605875,-12594.17525719195,-3881.279238659186,-9447.566961580664,-4595.725464525729,5567.478118222908,9121.20833327475,4848.44275648667,499.496624006364,-4176.722628358165,-6529.597903259437,-7423.928781748681,-9153.99211227534,4864.68365176265,-7249.028144112699,7325.256189942492,1198.2155216057806,-6945.490210959247,-5628.983755072115,-6874.447279795802,3175.730103636436,-10072.87512235504,-5806.077068066832,-6051.798043076611,11039.026949927069,-4972.9221323188995,11129.424152003645,6644.597598902894,-611.8920901109232,-879.6961238367875,1270.5926144944237,-3354.409395225731,-3652.051625562806,1535.320025725934,3442.0678892712554,1691.1470012917125,-9514.742116918946,-5495.930033917727,-11393.26427331702,-1006.7942920597748,-11385.807306619192,10499.407287118554,-5228.773563698111,-2009.7086269484455,-847.300232329234,-13124.391619355425,-6112.701963031476,-14757.626867529665,-5414.451735591036,-4197.995988224732,-907.6690954314622,4241.775879690278,-2601.8696305967806,1797.869290930973,-860.4354508721326,13091.374146760918,-4333.353165561371,106.44731571900178,-5414.849621040671,-1148.5927303150024,834.6063397987256,-182.8750991486991,-12401.012613234328,384.48864417494497,-15876.014206199558,2392.9514015408095,-4856.160273050595,-9604.976111586082,-3578.6411698601864,3594.042431937774,-5713.304473394477,-7793.454361394592,-18832.32309725967,277.3194394523527,2456.1149302637336,3385.822034418757,-1867.5011781843514,-4025.5345829792054,-5506.504771609419,1380.9095889215503,-1254.7960958097494,1223.333286810533,-10817.514887710628,375.6120103283671,-18377.080909021166,-7740.904886148209,-9600.009518947492,-284.9346156042528,-15159.901907030266,-4335.121225148139,-3902.6507664053634,-9955.598990292232,8122.080380431861,5073.487342754965,871.0561288830006,3735.222284723835,-8175.944783875935,-7927.279401739004,-3222.028498023295,2663.814116403005],\"xaxis\":\"x\",\"y\":[3467.566430123231,6211.274367328179,4177.140252105052,4852.444506942659,4348.095844750883,4771.515278723635,5506.9964385163485,4277.420175996704,4314.803831727304,5223.642144465051,3374.2873062887675,3684.6952600892155,5318.2818445711,5713.4422040032005,3943.1172738218793,8154.200471910179,4711.285755352463,5174.4703666073765,6862.24756855008,5711.628519863226,3973.906796941001,6342.036887449047,5001.4205881955295,5127.9492979435245,7267.328447090975,5556.666162538331,4468.268199202194,7146.662700635211,5468.743079867762,5588.800471678816,3424.0734017075106,4638.724083111247,5982.858062463171,4688.370839749903,4012.2154853373427,5701.6975673885545,5401.821899173081,3078.895982492392,4564.6175359122635,4875.411844599688,4795.659468727204,6334.243106042947,3500.5963142113897,6638.189555586541,4273.205130157205,5267.352326944875,5996.549301848867,5164.690207216517,5205.840127358392,5507.67433861768,5692.091535965765,5512.809747300337,5207.220968280962,7423.315553060341,6502.207658399992,5070.413063690284,6393.584858504259,5058.593260676161,3532.750550096714,6026.370077872565,4575.315312500282,6399.679501338911,4076.18894041781,6716.389157420842,4450.572584113251,5121.948253777009,5174.060198642425,5595.425013755257,6237.454829267955,4834.954016262223,5030.101276940088,5245.750184774924,6031.5977029474325,5240.283887422072,3413.4612857981865,3266.470555811605,4727.0798785274455,7033.832267439081,5686.132099777846,6221.683197407646,4384.687445082089,5053.974565097909,2451.395705037185,6074.108602891885,2642.856238209565,4574.029857294057,4918.861045396699,4039.0497266262287,4298.147977719973,6617.143268176046,3293.926138303474,4305.605568968253,5484.06232146995,5033.927141363305,4760.726839204438,6827.736581903404,5239.834348120357,4092.586673558624,4906.821114529853,4571.311395238504,5435.293660917688,5122.2983241763395,7150.265776891166,5008.011891703157,6401.496667099216,4646.423182047725,4662.571681544222,4854.373360315709,5720.0638913443645,3616.9067455458803,1366.2174572861734,3878.073904440504,6791.121854812125,5019.545227332765,4509.378968992945,6154.518340801153,5141.10135312582,4411.324333177551,6731.62241348175,6845.141671584188,7337.462411005282,5992.684142669537,6861.841813756618,5517.45683612465,4687.331267871385,5244.223965614595,6098.407220683642,5788.853750291187,6823.253221994716,5152.077474584819,5539.978054207804,4513.1591882356615,2685.6629912898047,5644.552286645024,6298.430264198272,5567.1127539626605,6380.915678462944,5666.368020665916,6677.482013672136,5049.606055105611,5086.374515846047,5133.639365463536,4923.281736972965,4064.0083597599264,5573.243770197074,2658.2975017240046,5499.339242197263,4085.312440945957,4731.012077645321,5244.436589238666,5689.000195132621,4370.467576915724,5599.274846074169,5673.527612414196,4129.181187750043,3399.119908746677],\"yaxis\":\"y\",\"type\":\"scatter\",\"textposition\":\"top center\"},{\"customdata\":[[18],[85],[27],[28],[25],[83],[18],[26],[32],[89],[20],[88],[30],[26],[17],[92],[23],[22],[20],[22],[90],[25],[17],[24],[29],[84],[25],[83],[31],[21],[28],[24],[82],[26],[28],[23],[26],[26],[29],[21],[86],[23],[25],[24],[87],[28],[20],[27],[86],[82],[22],[25],[91],[17],[93],[34],[29],[77],[27],[28],[83],[29],[24],[24],[17],[28],[25],[90],[24],[23],[24],[88]],\"hovertemplate\":\"Cluster=Cluster 3<br>PCA1=%{x}<br>PCA2=%{y}<br>Feature=%{customdata[0]}<extra></extra>\",\"legendgroup\":\"Cluster 3\",\"marker\":{\"color\":\"#ab63fa\",\"opacity\":0.5,\"symbol\":\"circle\"},\"mode\":\"markers\",\"name\":\"Cluster 3\",\"orientation\":\"v\",\"showlegend\":true,\"x\":[48551.897789887524,42414.13983525134,46271.74997443962,48029.23597884718,62912.45710039263,43629.01274005913,55587.35172793505,56651.455486319515,41328.25268046831,43861.74707162002,53899.23405406332,44952.90204718015,47549.76255316081,47842.8836691323,59798.17481890998,47182.068601211664,51395.224355863276,57857.2890531498,47415.389155965175,58984.550283890065,48410.00928895817,55168.45153662265,59803.04557597497,53976.789993076745,56449.67813276753,46993.64107086383,53422.552479964776,41580.27174136413,47836.448388874844,48602.57110350954,52465.033585302095,52263.49411048377,50433.85140507419,51532.470054685786,46000.802483408486,63317.06653029418,52086.38065950189,50397.08388459137,43600.216207210484,54542.56027032768,52679.137439365106,54778.91990697272,45728.4011392722,59239.85352122589,41859.154366077884,48281.96476028116,54230.31142876455,49923.2324005917,48577.24595197165,45920.30382555989,45302.570913649906,55809.6082475434,43084.43131856263,48697.32854572939,50874.59371963918,44074.744333958406,47210.61128826445,52844.21452066907,47518.88132347978,53924.5970418673,42157.80543094878,66750.62107639125,45280.29646688086,61617.256018538916,61085.161818166234,41933.87633764401,55783.42885409023,42045.79572232821,55795.99791010046,45049.713023239456,59196.59307835406,47964.552285061145],\"xaxis\":\"x\",\"y\":[4668.2147013471895,-5432.281984340339,4207.414538362321,5422.323715263655,5261.355290099567,-6254.840940318084,3427.13517017135,4271.2922568352615,-4823.645609095871,-6877.0362371637675,3176.746804746799,-4985.514604349105,3437.896625297286,4758.188583448424,4315.751653167794,-4557.716265875782,5657.241523409545,5717.501103770007,4709.388721993287,3350.7117975359874,-5693.665477980675,4016.981500839464,8450.307548937883,5488.389848804973,5101.398631128984,-4647.129392602895,3894.235404068605,-5615.560841025175,6059.983303443483,6249.537248101829,3371.5330641923256,5916.358116348504,-6854.205790290385,6006.733800938252,3884.452852169693,4946.177503380897,3388.427067520488,2890.550760271962,-5657.478374018939,4193.883189681699,-4749.056737128217,4629.791345722708,3658.3064353496766,4745.144493284467,-4543.326342656859,8499.966919747458,3238.42893748413,6048.724076369277,-6305.307643166667,-4953.921494062044,3778.181609385137,3879.1495425780936,-4660.855325409081,5282.49786165519,-5178.053057007989,-6307.668957592938,6674.234783135662,-5677.667836398276,4941.999476017813,5765.842917677424,-5954.454575332954,2693.0080673252,4437.356755042903,6726.313729421183,4243.721803980186,4717.997031231385,4732.087674705496,-3106.103134052821,4252.897482631883,4590.872356292782,3903.9748137910706,-4397.185708241045],\"yaxis\":\"y\",\"type\":\"scatter\",\"textposition\":\"top center\"}],                        {\"template\":{\"data\":{\"histogram2dcontour\":[{\"type\":\"histogram2dcontour\",\"colorbar\":{\"outlinewidth\":0,\"ticks\":\"\"},\"colorscale\":[[0.0,\"#0d0887\"],[0.1111111111111111,\"#46039f\"],[0.2222222222222222,\"#7201a8\"],[0.3333333333333333,\"#9c179e\"],[0.4444444444444444,\"#bd3786\"],[0.5555555555555556,\"#d8576b\"],[0.6666666666666666,\"#ed7953\"],[0.7777777777777778,\"#fb9f3a\"],[0.8888888888888888,\"#fdca26\"],[1.0,\"#f0f921\"]]}],\"choropleth\":[{\"type\":\"choropleth\",\"colorbar\":{\"outlinewidth\":0,\"ticks\":\"\"}}],\"histogram2d\":[{\"type\":\"histogram2d\",\"colorbar\":{\"outlinewidth\":0,\"ticks\":\"\"},\"colorscale\":[[0.0,\"#0d0887\"],[0.1111111111111111,\"#46039f\"],[0.2222222222222222,\"#7201a8\"],[0.3333333333333333,\"#9c179e\"],[0.4444444444444444,\"#bd3786\"],[0.5555555555555556,\"#d8576b\"],[0.6666666666666666,\"#ed7953\"],[0.7777777777777778,\"#fb9f3a\"],[0.8888888888888888,\"#fdca26\"],[1.0,\"#f0f921\"]]}],\"heatmap\":[{\"type\":\"heatmap\",\"colorbar\":{\"outlinewidth\":0,\"ticks\":\"\"},\"colorscale\":[[0.0,\"#0d0887\"],[0.1111111111111111,\"#46039f\"],[0.2222222222222222,\"#7201a8\"],[0.3333333333333333,\"#9c179e\"],[0.4444444444444444,\"#bd3786\"],[0.5555555555555556,\"#d8576b\"],[0.6666666666666666,\"#ed7953\"],[0.7777777777777778,\"#fb9f3a\"],[0.8888888888888888,\"#fdca26\"],[1.0,\"#f0f921\"]]}],\"heatmapgl\":[{\"type\":\"heatmapgl\",\"colorbar\":{\"outlinewidth\":0,\"ticks\":\"\"},\"colorscale\":[[0.0,\"#0d0887\"],[0.1111111111111111,\"#46039f\"],[0.2222222222222222,\"#7201a8\"],[0.3333333333333333,\"#9c179e\"],[0.4444444444444444,\"#bd3786\"],[0.5555555555555556,\"#d8576b\"],[0.6666666666666666,\"#ed7953\"],[0.7777777777777778,\"#fb9f3a\"],[0.8888888888888888,\"#fdca26\"],[1.0,\"#f0f921\"]]}],\"contourcarpet\":[{\"type\":\"contourcarpet\",\"colorbar\":{\"outlinewidth\":0,\"ticks\":\"\"}}],\"contour\":[{\"type\":\"contour\",\"colorbar\":{\"outlinewidth\":0,\"ticks\":\"\"},\"colorscale\":[[0.0,\"#0d0887\"],[0.1111111111111111,\"#46039f\"],[0.2222222222222222,\"#7201a8\"],[0.3333333333333333,\"#9c179e\"],[0.4444444444444444,\"#bd3786\"],[0.5555555555555556,\"#d8576b\"],[0.6666666666666666,\"#ed7953\"],[0.7777777777777778,\"#fb9f3a\"],[0.8888888888888888,\"#fdca26\"],[1.0,\"#f0f921\"]]}],\"surface\":[{\"type\":\"surface\",\"colorbar\":{\"outlinewidth\":0,\"ticks\":\"\"},\"colorscale\":[[0.0,\"#0d0887\"],[0.1111111111111111,\"#46039f\"],[0.2222222222222222,\"#7201a8\"],[0.3333333333333333,\"#9c179e\"],[0.4444444444444444,\"#bd3786\"],[0.5555555555555556,\"#d8576b\"],[0.6666666666666666,\"#ed7953\"],[0.7777777777777778,\"#fb9f3a\"],[0.8888888888888888,\"#fdca26\"],[1.0,\"#f0f921\"]]}],\"mesh3d\":[{\"type\":\"mesh3d\",\"colorbar\":{\"outlinewidth\":0,\"ticks\":\"\"}}],\"scatter\":[{\"fillpattern\":{\"fillmode\":\"overlay\",\"size\":10,\"solidity\":0.2},\"type\":\"scatter\"}],\"parcoords\":[{\"type\":\"parcoords\",\"line\":{\"colorbar\":{\"outlinewidth\":0,\"ticks\":\"\"}}}],\"scatterpolargl\":[{\"type\":\"scatterpolargl\",\"marker\":{\"colorbar\":{\"outlinewidth\":0,\"ticks\":\"\"}}}],\"bar\":[{\"error_x\":{\"color\":\"#2a3f5f\"},\"error_y\":{\"color\":\"#2a3f5f\"},\"marker\":{\"line\":{\"color\":\"#E5ECF6\",\"width\":0.5},\"pattern\":{\"fillmode\":\"overlay\",\"size\":10,\"solidity\":0.2}},\"type\":\"bar\"}],\"scattergeo\":[{\"type\":\"scattergeo\",\"marker\":{\"colorbar\":{\"outlinewidth\":0,\"ticks\":\"\"}}}],\"scatterpolar\":[{\"type\":\"scatterpolar\",\"marker\":{\"colorbar\":{\"outlinewidth\":0,\"ticks\":\"\"}}}],\"histogram\":[{\"marker\":{\"pattern\":{\"fillmode\":\"overlay\",\"size\":10,\"solidity\":0.2}},\"type\":\"histogram\"}],\"scattergl\":[{\"type\":\"scattergl\",\"marker\":{\"colorbar\":{\"outlinewidth\":0,\"ticks\":\"\"}}}],\"scatter3d\":[{\"type\":\"scatter3d\",\"line\":{\"colorbar\":{\"outlinewidth\":0,\"ticks\":\"\"}},\"marker\":{\"colorbar\":{\"outlinewidth\":0,\"ticks\":\"\"}}}],\"scattermapbox\":[{\"type\":\"scattermapbox\",\"marker\":{\"colorbar\":{\"outlinewidth\":0,\"ticks\":\"\"}}}],\"scatterternary\":[{\"type\":\"scatterternary\",\"marker\":{\"colorbar\":{\"outlinewidth\":0,\"ticks\":\"\"}}}],\"scattercarpet\":[{\"type\":\"scattercarpet\",\"marker\":{\"colorbar\":{\"outlinewidth\":0,\"ticks\":\"\"}}}],\"carpet\":[{\"aaxis\":{\"endlinecolor\":\"#2a3f5f\",\"gridcolor\":\"white\",\"linecolor\":\"white\",\"minorgridcolor\":\"white\",\"startlinecolor\":\"#2a3f5f\"},\"baxis\":{\"endlinecolor\":\"#2a3f5f\",\"gridcolor\":\"white\",\"linecolor\":\"white\",\"minorgridcolor\":\"white\",\"startlinecolor\":\"#2a3f5f\"},\"type\":\"carpet\"}],\"table\":[{\"cells\":{\"fill\":{\"color\":\"#EBF0F8\"},\"line\":{\"color\":\"white\"}},\"header\":{\"fill\":{\"color\":\"#C8D4E3\"},\"line\":{\"color\":\"white\"}},\"type\":\"table\"}],\"barpolar\":[{\"marker\":{\"line\":{\"color\":\"#E5ECF6\",\"width\":0.5},\"pattern\":{\"fillmode\":\"overlay\",\"size\":10,\"solidity\":0.2}},\"type\":\"barpolar\"}],\"pie\":[{\"automargin\":true,\"type\":\"pie\"}]},\"layout\":{\"autotypenumbers\":\"strict\",\"colorway\":[\"#636efa\",\"#EF553B\",\"#00cc96\",\"#ab63fa\",\"#FFA15A\",\"#19d3f3\",\"#FF6692\",\"#B6E880\",\"#FF97FF\",\"#FECB52\"],\"font\":{\"color\":\"#2a3f5f\"},\"hovermode\":\"closest\",\"hoverlabel\":{\"align\":\"left\"},\"paper_bgcolor\":\"white\",\"plot_bgcolor\":\"#E5ECF6\",\"polar\":{\"bgcolor\":\"#E5ECF6\",\"angularaxis\":{\"gridcolor\":\"white\",\"linecolor\":\"white\",\"ticks\":\"\"},\"radialaxis\":{\"gridcolor\":\"white\",\"linecolor\":\"white\",\"ticks\":\"\"}},\"ternary\":{\"bgcolor\":\"#E5ECF6\",\"aaxis\":{\"gridcolor\":\"white\",\"linecolor\":\"white\",\"ticks\":\"\"},\"baxis\":{\"gridcolor\":\"white\",\"linecolor\":\"white\",\"ticks\":\"\"},\"caxis\":{\"gridcolor\":\"white\",\"linecolor\":\"white\",\"ticks\":\"\"}},\"coloraxis\":{\"colorbar\":{\"outlinewidth\":0,\"ticks\":\"\"}},\"colorscale\":{\"sequential\":[[0.0,\"#0d0887\"],[0.1111111111111111,\"#46039f\"],[0.2222222222222222,\"#7201a8\"],[0.3333333333333333,\"#9c179e\"],[0.4444444444444444,\"#bd3786\"],[0.5555555555555556,\"#d8576b\"],[0.6666666666666666,\"#ed7953\"],[0.7777777777777778,\"#fb9f3a\"],[0.8888888888888888,\"#fdca26\"],[1.0,\"#f0f921\"]],\"sequentialminus\":[[0.0,\"#0d0887\"],[0.1111111111111111,\"#46039f\"],[0.2222222222222222,\"#7201a8\"],[0.3333333333333333,\"#9c179e\"],[0.4444444444444444,\"#bd3786\"],[0.5555555555555556,\"#d8576b\"],[0.6666666666666666,\"#ed7953\"],[0.7777777777777778,\"#fb9f3a\"],[0.8888888888888888,\"#fdca26\"],[1.0,\"#f0f921\"]],\"diverging\":[[0,\"#8e0152\"],[0.1,\"#c51b7d\"],[0.2,\"#de77ae\"],[0.3,\"#f1b6da\"],[0.4,\"#fde0ef\"],[0.5,\"#f7f7f7\"],[0.6,\"#e6f5d0\"],[0.7,\"#b8e186\"],[0.8,\"#7fbc41\"],[0.9,\"#4d9221\"],[1,\"#276419\"]]},\"xaxis\":{\"gridcolor\":\"white\",\"linecolor\":\"white\",\"ticks\":\"\",\"title\":{\"standoff\":15},\"zerolinecolor\":\"white\",\"automargin\":true,\"zerolinewidth\":2},\"yaxis\":{\"gridcolor\":\"white\",\"linecolor\":\"white\",\"ticks\":\"\",\"title\":{\"standoff\":15},\"zerolinecolor\":\"white\",\"automargin\":true,\"zerolinewidth\":2},\"scene\":{\"xaxis\":{\"backgroundcolor\":\"#E5ECF6\",\"gridcolor\":\"white\",\"linecolor\":\"white\",\"showbackground\":true,\"ticks\":\"\",\"zerolinecolor\":\"white\",\"gridwidth\":2},\"yaxis\":{\"backgroundcolor\":\"#E5ECF6\",\"gridcolor\":\"white\",\"linecolor\":\"white\",\"showbackground\":true,\"ticks\":\"\",\"zerolinecolor\":\"white\",\"gridwidth\":2},\"zaxis\":{\"backgroundcolor\":\"#E5ECF6\",\"gridcolor\":\"white\",\"linecolor\":\"white\",\"showbackground\":true,\"ticks\":\"\",\"zerolinecolor\":\"white\",\"gridwidth\":2}},\"shapedefaults\":{\"line\":{\"color\":\"#2a3f5f\"}},\"annotationdefaults\":{\"arrowcolor\":\"#2a3f5f\",\"arrowhead\":0,\"arrowwidth\":1},\"geo\":{\"bgcolor\":\"white\",\"landcolor\":\"#E5ECF6\",\"subunitcolor\":\"white\",\"showland\":true,\"showlakes\":true,\"lakecolor\":\"white\"},\"title\":{\"x\":0.05},\"mapbox\":{\"style\":\"light\"}}},\"xaxis\":{\"anchor\":\"y\",\"domain\":[0.0,1.0],\"title\":{\"text\":\"PCA1\"}},\"yaxis\":{\"anchor\":\"x\",\"domain\":[0.0,1.0],\"title\":{\"text\":\"PCA2\"}},\"legend\":{\"title\":{\"text\":\"Cluster\"},\"tracegroupgap\":0},\"margin\":{\"t\":60},\"plot_bgcolor\":\"rgb(240,240,240)\",\"title\":{\"text\":\"2D Cluster PCA Plot\"},\"height\":600},                        {\"responsive\": true}                    ).then(function(){\n",
       "                            \n",
       "var gd = document.getElementById('9b043c76-83d8-4d21-a40d-0f564efd4660');\n",
       "var x = new MutationObserver(function (mutations, observer) {{\n",
       "        var display = window.getComputedStyle(gd).display;\n",
       "        if (!display || display === 'none') {{\n",
       "            console.log([gd, 'removed!']);\n",
       "            Plotly.purge(gd);\n",
       "            observer.disconnect();\n",
       "        }}\n",
       "}});\n",
       "\n",
       "// Listen for the removal of the full notebook cells\n",
       "var notebookContainer = gd.closest('#notebook-container');\n",
       "if (notebookContainer) {{\n",
       "    x.observe(notebookContainer, {childList: true});\n",
       "}}\n",
       "\n",
       "// Listen for the clearing of the current output cell\n",
       "var outputEl = gd.closest('.output');\n",
       "if (outputEl) {{\n",
       "    x.observe(outputEl, {childList: true});\n",
       "}}\n",
       "\n",
       "                        })                };                });            </script>        </div>"
      ]
     },
     "metadata": {},
     "output_type": "display_data"
    }
   ],
   "source": [
    "# plot pca cluster plot \n",
    "plot_model(kmeans, plot = 'cluster')"
   ]
  },
  {
   "cell_type": "code",
   "execution_count": 16,
   "id": "9fc4b9b1",
   "metadata": {},
   "outputs": [
    {
     "data": {
      "text/html": [],
      "text/plain": [
       "<IPython.core.display.HTML object>"
      ]
     },
     "metadata": {},
     "output_type": "display_data"
    },
    {
     "data": {
      "image/png": "[encoded data removed]",
      "text/plain": [
       "<Figure size 800x550 with 1 Axes>"
      ]
     },
     "metadata": {},
     "output_type": "display_data"
    }
   ],
   "source": [
    "# plot elbow\n",
    "plot_model(kmeans, plot = 'elbow')"
   ]
  },
  {
   "cell_type": "code",
   "execution_count": 18,
   "id": "bbc790e4",
   "metadata": {},
   "outputs": [
    {
     "data": {
      "text/html": [],
      "text/plain": [
       "<IPython.core.display.HTML object>"
      ]
     },
     "metadata": {},
     "output_type": "display_data"
    },
    {
     "data": {
      "image/png": "[encoded data removed]",
      "text/plain": [
       "<Figure size 800x550 with 1 Axes>"
      ]
     },
     "metadata": {},
     "output_type": "display_data"
    }
   ],
   "source": [
    "# plot silhouette\n",
    "plot_model(kmeans, plot = 'silhouette')"
   ]
  },
  {
   "cell_type": "code",
   "execution_count": null,
   "id": "da718984",
   "metadata": {},
   "outputs": [],
   "source": [
    "# check docstring to see available plots \n",
    "help(plot_model)"
   ]
  },
  {
   "cell_type": "markdown",
   "id": "6bd66179",
   "metadata": {},
   "source": [
    "An alternate to `plot_model` function is `evaluate_model`. It can only be used in Notebook since it uses ipywidget."
   ]
  },
  {
   "cell_type": "code",
   "execution_count": 19,
   "id": "c75f07a8",
   "metadata": {},
   "outputs": [
    {
     "data": {
      "application/vnd.jupyter.widget-view+json": {
       "model_id": "4838da99884c4c3aae9aa3dab44b53ad",
       "version_major": 2,
       "version_minor": 0
      },
      "text/plain": [
       "interactive(children=(ToggleButtons(description='Plot Type:', icons=('',), options=(('Pipeline Plot', 'pipelin…"
      ]
     },
     "metadata": {},
     "output_type": "display_data"
    }
   ],
   "source": [
    "evaluate_model(kmeans)"
   ]
  },
  {
   "cell_type": "markdown",
   "id": "ab3d2f1e",
   "metadata": {},
   "source": [
    "___"
   ]
  },
  {
   "cell_type": "markdown",
   "id": "954cbeff",
   "metadata": {},
   "source": [
    "## Prediction\n",
    "The `predict_model` function returns `Cluster` label as a new column in the input dataframe. This step may or may not be needed depending on the use-case. Some times clustering models are trained for analysis purpose only and the interest of user is only in assigned labels on the training dataset, that can be done using `assign_model` function. `predict_model` is only useful when you want to obtain cluster labels on unseen data (i.e. data that was not used during training the model)."
   ]
  },
  {
   "cell_type": "code",
   "execution_count": 23,
   "id": "87c1a007",
   "metadata": {},
   "outputs": [
    {
     "data": {
      "text/html": [
       "<div>\n",
       "<style scoped>\n",
       "    .dataframe tbody tr th:only-of-type {\n",
       "        vertical-align: middle;\n",
       "    }\n",
       "\n",
       "    .dataframe tbody tr th {\n",
       "        vertical-align: top;\n",
       "    }\n",
       "\n",
       "    .dataframe thead th {\n",
       "        text-align: right;\n",
       "    }\n",
       "</style>\n",
       "<table border=\"1\" class=\"dataframe\">\n",
       "  <thead>\n",
       "    <tr style=\"text-align: right;\">\n",
       "      <th></th>\n",
       "      <th>Age</th>\n",
       "      <th>Income</th>\n",
       "      <th>SpendingScore</th>\n",
       "      <th>Savings</th>\n",
       "      <th>Cluster</th>\n",
       "    </tr>\n",
       "  </thead>\n",
       "  <tbody>\n",
       "    <tr>\n",
       "      <th>0</th>\n",
       "      <td>58.0</td>\n",
       "      <td>77769.0</td>\n",
       "      <td>0.791329</td>\n",
       "      <td>6559.829923</td>\n",
       "      <td>Cluster 2</td>\n",
       "    </tr>\n",
       "    <tr>\n",
       "      <th>1</th>\n",
       "      <td>59.0</td>\n",
       "      <td>81799.0</td>\n",
       "      <td>0.791082</td>\n",
       "      <td>5417.661426</td>\n",
       "      <td>Cluster 2</td>\n",
       "    </tr>\n",
       "    <tr>\n",
       "      <th>2</th>\n",
       "      <td>62.0</td>\n",
       "      <td>74751.0</td>\n",
       "      <td>0.702657</td>\n",
       "      <td>9258.992965</td>\n",
       "      <td>Cluster 2</td>\n",
       "    </tr>\n",
       "    <tr>\n",
       "      <th>3</th>\n",
       "      <td>59.0</td>\n",
       "      <td>74373.0</td>\n",
       "      <td>0.765680</td>\n",
       "      <td>7346.334504</td>\n",
       "      <td>Cluster 2</td>\n",
       "    </tr>\n",
       "    <tr>\n",
       "      <th>4</th>\n",
       "      <td>87.0</td>\n",
       "      <td>17760.0</td>\n",
       "      <td>0.348778</td>\n",
       "      <td>16869.507130</td>\n",
       "      <td>Cluster 0</td>\n",
       "    </tr>\n",
       "    <tr>\n",
       "      <th>...</th>\n",
       "      <td>...</td>\n",
       "      <td>...</td>\n",
       "      <td>...</td>\n",
       "      <td>...</td>\n",
       "      <td>...</td>\n",
       "    </tr>\n",
       "    <tr>\n",
       "      <th>500</th>\n",
       "      <td>28.0</td>\n",
       "      <td>101206.0</td>\n",
       "      <td>0.387441</td>\n",
       "      <td>14936.775389</td>\n",
       "      <td>Cluster 1</td>\n",
       "    </tr>\n",
       "    <tr>\n",
       "      <th>501</th>\n",
       "      <td>93.0</td>\n",
       "      <td>19934.0</td>\n",
       "      <td>0.203140</td>\n",
       "      <td>17969.693769</td>\n",
       "      <td>Cluster 0</td>\n",
       "    </tr>\n",
       "    <tr>\n",
       "      <th>502</th>\n",
       "      <td>90.0</td>\n",
       "      <td>35297.0</td>\n",
       "      <td>0.355149</td>\n",
       "      <td>16091.401954</td>\n",
       "      <td>Cluster 0</td>\n",
       "    </tr>\n",
       "    <tr>\n",
       "      <th>503</th>\n",
       "      <td>91.0</td>\n",
       "      <td>20681.0</td>\n",
       "      <td>0.354679</td>\n",
       "      <td>18401.088445</td>\n",
       "      <td>Cluster 0</td>\n",
       "    </tr>\n",
       "    <tr>\n",
       "      <th>504</th>\n",
       "      <td>89.0</td>\n",
       "      <td>30267.0</td>\n",
       "      <td>0.289310</td>\n",
       "      <td>14386.351880</td>\n",
       "      <td>Cluster 0</td>\n",
       "    </tr>\n",
       "  </tbody>\n",
       "</table>\n",
       "<p>505 rows × 5 columns</p>\n",
       "</div>"
      ],
      "text/plain": [
       "      Age    Income  SpendingScore       Savings    Cluster\n",
       "0    58.0   77769.0       0.791329   6559.829923  Cluster 2\n",
       "1    59.0   81799.0       0.791082   5417.661426  Cluster 2\n",
       "2    62.0   74751.0       0.702657   9258.992965  Cluster 2\n",
       "3    59.0   74373.0       0.765680   7346.334504  Cluster 2\n",
       "4    87.0   17760.0       0.348778  16869.507130  Cluster 0\n",
       "..    ...       ...            ...           ...        ...\n",
       "500  28.0  101206.0       0.387441  14936.775389  Cluster 1\n",
       "501  93.0   19934.0       0.203140  17969.693769  Cluster 0\n",
       "502  90.0   35297.0       0.355149  16091.401954  Cluster 0\n",
       "503  91.0   20681.0       0.354679  18401.088445  Cluster 0\n",
       "504  89.0   30267.0       0.289310  14386.351880  Cluster 0\n",
       "\n",
       "[505 rows x 5 columns]"
      ]
     },
     "execution_count": 23,
     "metadata": {},
     "output_type": "execute_result"
    }
   ],
   "source": [
    "# predict on test set\n",
    "kmeans_pred = predict_model(kmeans, data=data)\n",
    "kmeans_pred"
   ]
  },
  {
   "cell_type": "markdown",
   "id": "d4baf825",
   "metadata": {},
   "source": [
    "The same function works for predicting the labels on unseen dataset. Let's create a copy of original data and drop the `Class variable`. We can then use the new data frame without labels for scoring."
   ]
  },
  {
   "cell_type": "markdown",
   "id": "3950252d",
   "metadata": {},
   "source": [
    "___"
   ]
  },
  {
   "cell_type": "markdown",
   "id": "e4384735",
   "metadata": {},
   "source": [
    "## Save Model"
   ]
  },
  {
   "cell_type": "markdown",
   "id": "cd63f053",
   "metadata": {},
   "source": [
    "Finally, you can save the entire pipeline on disk for later use, using pycaret's `save_model` function."
   ]
  },
  {
   "cell_type": "code",
   "execution_count": 24,
   "id": "4181de41",
   "metadata": {},
   "outputs": [
    {
     "name": "stdout",
     "output_type": "stream",
     "text": [
      "Transformation Pipeline and Model Successfully Saved\n"
     ]
    },
    {
     "data": {
      "text/plain": [
       "(Pipeline(memory=FastMemory(location=C:\\Users\\owner\\AppData\\Local\\Temp\\joblib),\n",
       "          steps=[('numerical_imputer',\n",
       "                  TransformerWrapper(include=['Age', 'Income', 'SpendingScore',\n",
       "                                              'Savings'],\n",
       "                                     transformer=SimpleImputer())),\n",
       "                 ('categorical_imputer',\n",
       "                  TransformerWrapper(include=[],\n",
       "                                     transformer=SimpleImputer(strategy='most_frequent'))),\n",
       "                 ('trained_model', KMeans(n_clusters=4, random_state=123))]),\n",
       " 'kmeans_pipeline.pkl')"
      ]
     },
     "execution_count": 24,
     "metadata": {},
     "output_type": "execute_result"
    }
   ],
   "source": [
    "# save pipeline\n",
    "save_model(kmeans, 'kmeans_pipeline')"
   ]
  },
  {
   "cell_type": "code",
   "execution_count": 25,
   "id": "40ed5152",
   "metadata": {},
   "outputs": [
    {
     "name": "stdout",
     "output_type": "stream",
     "text": [
      "Transformation Pipeline and Model Successfully Loaded\n"
     ]
    },
    {
     "data": {
      "text/html": [
       "<style>#sk-container-id-1 {color: black;background-color: white;}#sk-container-id-1 pre{padding: 0;}#sk-container-id-1 div.sk-toggleable {background-color: white;}#sk-container-id-1 label.sk-toggleable__label {cursor: pointer;display: block;width: 100%;margin-bottom: 0;padding: 0.3em;box-sizing: border-box;text-align: center;}#sk-container-id-1 label.sk-toggleable__label-arrow:before {content: \"▸\";float: left;margin-right: 0.25em;color: #696969;}#sk-container-id-1 label.sk-toggleable__label-arrow:hover:before {color: black;}#sk-container-id-1 div.sk-estimator:hover label.sk-toggleable__label-arrow:before {color: black;}#sk-container-id-1 div.sk-toggleable__content {max-height: 0;max-width: 0;overflow: hidden;text-align: left;background-color: #f0f8ff;}#sk-container-id-1 div.sk-toggleable__content pre {margin: 0.2em;color: black;border-radius: 0.25em;background-color: #f0f8ff;}#sk-container-id-1 input.sk-toggleable__control:checked~div.sk-toggleable__content {max-height: 200px;max-width: 100%;overflow: auto;}#sk-container-id-1 input.sk-toggleable__control:checked~label.sk-toggleable__label-arrow:before {content: \"▾\";}#sk-container-id-1 div.sk-estimator input.sk-toggleable__control:checked~label.sk-toggleable__label {background-color: #d4ebff;}#sk-container-id-1 div.sk-label input.sk-toggleable__control:checked~label.sk-toggleable__label {background-color: #d4ebff;}#sk-container-id-1 input.sk-hidden--visually {border: 0;clip: rect(1px 1px 1px 1px);clip: rect(1px, 1px, 1px, 1px);height: 1px;margin: -1px;overflow: hidden;padding: 0;position: absolute;width: 1px;}#sk-container-id-1 div.sk-estimator {font-family: monospace;background-color: #f0f8ff;border: 1px dotted black;border-radius: 0.25em;box-sizing: border-box;margin-bottom: 0.5em;}#sk-container-id-1 div.sk-estimator:hover {background-color: #d4ebff;}#sk-container-id-1 div.sk-parallel-item::after {content: \"\";width: 100%;border-bottom: 1px solid gray;flex-grow: 1;}#sk-container-id-1 div.sk-label:hover label.sk-toggleable__label {background-color: #d4ebff;}#sk-container-id-1 div.sk-serial::before {content: \"\";position: absolute;border-left: 1px solid gray;box-sizing: border-box;top: 0;bottom: 0;left: 50%;z-index: 0;}#sk-container-id-1 div.sk-serial {display: flex;flex-direction: column;align-items: center;background-color: white;padding-right: 0.2em;padding-left: 0.2em;position: relative;}#sk-container-id-1 div.sk-item {position: relative;z-index: 1;}#sk-container-id-1 div.sk-parallel {display: flex;align-items: stretch;justify-content: center;background-color: white;position: relative;}#sk-container-id-1 div.sk-item::before, #sk-container-id-1 div.sk-parallel-item::before {content: \"\";position: absolute;border-left: 1px solid gray;box-sizing: border-box;top: 0;bottom: 0;left: 50%;z-index: -1;}#sk-container-id-1 div.sk-parallel-item {display: flex;flex-direction: column;z-index: 1;position: relative;background-color: white;}#sk-container-id-1 div.sk-parallel-item:first-child::after {align-self: flex-end;width: 50%;}#sk-container-id-1 div.sk-parallel-item:last-child::after {align-self: flex-start;width: 50%;}#sk-container-id-1 div.sk-parallel-item:only-child::after {width: 0;}#sk-container-id-1 div.sk-dashed-wrapped {border: 1px dashed gray;margin: 0 0.4em 0.5em 0.4em;box-sizing: border-box;padding-bottom: 0.4em;background-color: white;}#sk-container-id-1 div.sk-label label {font-family: monospace;font-weight: bold;display: inline-block;line-height: 1.2em;}#sk-container-id-1 div.sk-label-container {text-align: center;}#sk-container-id-1 div.sk-container {/* jupyter's `normalize.less` sets `[hidden] { display: none; }` but bootstrap.min.css set `[hidden] { display: none !important; }` so we also need the `!important` here to be able to override the default hidden behavior on the sphinx rendered scikit-learn.org. See: https://github.com/scikit-learn/scikit-learn/issues/21755 */display: inline-block !important;position: relative;}#sk-container-id-1 div.sk-text-repr-fallback {display: none;}</style><div id=\"sk-container-id-1\" class=\"sk-top-container\"><div class=\"sk-text-repr-fallback\"><pre>Pipeline(memory=FastMemory(location=C:\\Users\\owner\\AppData\\Local\\Temp\\joblib),\n",
       "         steps=[(&#x27;numerical_imputer&#x27;,\n",
       "                 TransformerWrapper(include=[&#x27;Age&#x27;, &#x27;Income&#x27;, &#x27;SpendingScore&#x27;,\n",
       "                                             &#x27;Savings&#x27;],\n",
       "                                    transformer=SimpleImputer())),\n",
       "                (&#x27;categorical_imputer&#x27;,\n",
       "                 TransformerWrapper(include=[],\n",
       "                                    transformer=SimpleImputer(strategy=&#x27;most_frequent&#x27;))),\n",
       "                (&#x27;trained_model&#x27;, KMeans(n_clusters=4, random_state=123))])</pre><b>In a Jupyter environment, please rerun this cell to show the HTML representation or trust the notebook. <br />On GitHub, the HTML representation is unable to render, please try loading this page with nbviewer.org.</b></div><div class=\"sk-container\" hidden><div class=\"sk-item sk-dashed-wrapped\"><div class=\"sk-label-container\"><div class=\"sk-label sk-toggleable\"><input class=\"sk-toggleable__control sk-hidden--visually\" id=\"sk-estimator-id-1\" type=\"checkbox\" ><label for=\"sk-estimator-id-1\" class=\"sk-toggleable__label sk-toggleable__label-arrow\">Pipeline</label><div class=\"sk-toggleable__content\"><pre>Pipeline(memory=FastMemory(location=C:\\Users\\owner\\AppData\\Local\\Temp\\joblib),\n",
       "         steps=[(&#x27;numerical_imputer&#x27;,\n",
       "                 TransformerWrapper(include=[&#x27;Age&#x27;, &#x27;Income&#x27;, &#x27;SpendingScore&#x27;,\n",
       "                                             &#x27;Savings&#x27;],\n",
       "                                    transformer=SimpleImputer())),\n",
       "                (&#x27;categorical_imputer&#x27;,\n",
       "                 TransformerWrapper(include=[],\n",
       "                                    transformer=SimpleImputer(strategy=&#x27;most_frequent&#x27;))),\n",
       "                (&#x27;trained_model&#x27;, KMeans(n_clusters=4, random_state=123))])</pre></div></div></div><div class=\"sk-serial\"><div class=\"sk-item sk-dashed-wrapped\"><div class=\"sk-label-container\"><div class=\"sk-label sk-toggleable\"><input class=\"sk-toggleable__control sk-hidden--visually\" id=\"sk-estimator-id-2\" type=\"checkbox\" ><label for=\"sk-estimator-id-2\" class=\"sk-toggleable__label sk-toggleable__label-arrow\">numerical_imputer: TransformerWrapper</label><div class=\"sk-toggleable__content\"><pre>TransformerWrapper(include=[&#x27;Age&#x27;, &#x27;Income&#x27;, &#x27;SpendingScore&#x27;, &#x27;Savings&#x27;],\n",
       "                   transformer=SimpleImputer())</pre></div></div></div><div class=\"sk-parallel\"><div class=\"sk-parallel-item\"><div class=\"sk-item\"><div class=\"sk-label-container\"><div class=\"sk-label sk-toggleable\"><input class=\"sk-toggleable__control sk-hidden--visually\" id=\"sk-estimator-id-3\" type=\"checkbox\" ><label for=\"sk-estimator-id-3\" class=\"sk-toggleable__label sk-toggleable__label-arrow\">transformer: SimpleImputer</label><div class=\"sk-toggleable__content\"><pre>SimpleImputer()</pre></div></div></div><div class=\"sk-serial\"><div class=\"sk-item\"><div class=\"sk-estimator sk-toggleable\"><input class=\"sk-toggleable__control sk-hidden--visually\" id=\"sk-estimator-id-4\" type=\"checkbox\" ><label for=\"sk-estimator-id-4\" class=\"sk-toggleable__label sk-toggleable__label-arrow\">SimpleImputer</label><div class=\"sk-toggleable__content\"><pre>SimpleImputer()</pre></div></div></div></div></div></div></div></div><div class=\"sk-item sk-dashed-wrapped\"><div class=\"sk-label-container\"><div class=\"sk-label sk-toggleable\"><input class=\"sk-toggleable__control sk-hidden--visually\" id=\"sk-estimator-id-5\" type=\"checkbox\" ><label for=\"sk-estimator-id-5\" class=\"sk-toggleable__label sk-toggleable__label-arrow\">categorical_imputer: TransformerWrapper</label><div class=\"sk-toggleable__content\"><pre>TransformerWrapper(include=[],\n",
       "                   transformer=SimpleImputer(strategy=&#x27;most_frequent&#x27;))</pre></div></div></div><div class=\"sk-parallel\"><div class=\"sk-parallel-item\"><div class=\"sk-item\"><div class=\"sk-label-container\"><div class=\"sk-label sk-toggleable\"><input class=\"sk-toggleable__control sk-hidden--visually\" id=\"sk-estimator-id-6\" type=\"checkbox\" ><label for=\"sk-estimator-id-6\" class=\"sk-toggleable__label sk-toggleable__label-arrow\">transformer: SimpleImputer</label><div class=\"sk-toggleable__content\"><pre>SimpleImputer(strategy=&#x27;most_frequent&#x27;)</pre></div></div></div><div class=\"sk-serial\"><div class=\"sk-item\"><div class=\"sk-estimator sk-toggleable\"><input class=\"sk-toggleable__control sk-hidden--visually\" id=\"sk-estimator-id-7\" type=\"checkbox\" ><label for=\"sk-estimator-id-7\" class=\"sk-toggleable__label sk-toggleable__label-arrow\">SimpleImputer</label><div class=\"sk-toggleable__content\"><pre>SimpleImputer(strategy=&#x27;most_frequent&#x27;)</pre></div></div></div></div></div></div></div></div><div class=\"sk-item\"><div class=\"sk-estimator sk-toggleable\"><input class=\"sk-toggleable__control sk-hidden--visually\" id=\"sk-estimator-id-8\" type=\"checkbox\" ><label for=\"sk-estimator-id-8\" class=\"sk-toggleable__label sk-toggleable__label-arrow\">KMeans</label><div class=\"sk-toggleable__content\"><pre>KMeans(n_clusters=4, random_state=123)</pre></div></div></div></div></div></div></div>"
      ],
      "text/plain": [
       "Pipeline(memory=FastMemory(location=C:\\Users\\owner\\AppData\\Local\\Temp\\joblib),\n",
       "         steps=[('numerical_imputer',\n",
       "                 TransformerWrapper(include=['Age', 'Income', 'SpendingScore',\n",
       "                                             'Savings'],\n",
       "                                    transformer=SimpleImputer())),\n",
       "                ('categorical_imputer',\n",
       "                 TransformerWrapper(include=[],\n",
       "                                    transformer=SimpleImputer(strategy='most_frequent'))),\n",
       "                ('trained_model', KMeans(n_clusters=4, random_state=123))])"
      ]
     },
     "execution_count": 25,
     "metadata": {},
     "output_type": "execute_result"
    }
   ],
   "source": [
    "# load pipeline\n",
    "loaded_best_pipeline = load_model('kmeans_pipeline')\n",
    "loaded_best_pipeline"
   ]
  },
  {
   "cell_type": "markdown",
   "id": "b2c7d62e",
   "metadata": {},
   "source": [
    "# 👇 Detailed function-by-function overview"
   ]
  },
  {
   "cell_type": "markdown",
   "id": "e05937f5",
   "metadata": {},
   "source": [
    "## ✅ Setup\n",
    "This function initializes the experiment in PyCaret and creates the transformation pipeline based on all the parameters passed in the function. Setup function must be called before executing any other function. It takes two required parameters: `data` and `target`. All the other parameters are optional and are used for configuring data preprocessing pipeline."
   ]
  },
  {
   "cell_type": "code",
   "execution_count": null,
   "id": "24e503be",
   "metadata": {},
   "outputs": [],
   "source": [
    "s = setup(data, target = 'Class variable', session_id = 123)"
   ]
  },
  {
   "cell_type": "markdown",
   "id": "924d198b",
   "metadata": {},
   "source": [
    "To access all the variables created by the setup function such as transformed dataset, random_state, etc. you can use `get_config` method."
   ]
  },
  {
   "cell_type": "code",
   "execution_count": null,
   "id": "76128b08",
   "metadata": {},
   "outputs": [],
   "source": [
    "# check all available config\n",
    "get_config()"
   ]
  },
  {
   "cell_type": "code",
   "execution_count": null,
   "id": "dbc43292",
   "metadata": {},
   "outputs": [],
   "source": [
    "# lets access X_train_transformed\n",
    "get_config('X_train_transformed')"
   ]
  },
  {
   "cell_type": "code",
   "execution_count": null,
   "id": "ef9cd061",
   "metadata": {},
   "outputs": [],
   "source": [
    "# another example: let's access seed\n",
    "print(\"The current seed is: {}\".format(get_config('seed')))\n",
    "\n",
    "# now lets change it using set_config\n",
    "set_config('seed', 786)\n",
    "print(\"The new seed is: {}\".format(get_config('seed')))"
   ]
  },
  {
   "cell_type": "markdown",
   "id": "7afbe41d",
   "metadata": {},
   "source": [
    "All the preprocessing configurations and experiment settings/parameters are passed into the `setup` function. To see all available parameters, check the docstring:"
   ]
  },
  {
   "cell_type": "code",
   "execution_count": null,
   "id": "2885a14f",
   "metadata": {},
   "outputs": [],
   "source": [
    "# help(setup)"
   ]
  },
  {
   "cell_type": "code",
   "execution_count": null,
   "id": "34ae0fce",
   "metadata": {},
   "outputs": [],
   "source": [
    "# init setup with normalize = True\n",
    "\n",
    "s = setup(data, target = 'Class variable', session_id = 123,\n",
    "          normalize = True, normalize_method = 'minmax')"
   ]
  },
  {
   "cell_type": "code",
   "execution_count": null,
   "id": "04204ae7",
   "metadata": {},
   "outputs": [],
   "source": [
    "# lets check the X_train_transformed to see effect of params passed\n",
    "get_config('X_train_transformed')['Number of times pregnant'].hist()"
   ]
  },
  {
   "cell_type": "markdown",
   "id": "d28a3e4e",
   "metadata": {},
   "source": [
    "Notice that all the values are between 0 and 1 - that is because we passed `normalize=True` in the `setup` function. If you don't remember how it compares to actual data, no problem - we can also access non-transformed values using `get_config` and then compare. See below and notice the range of values on x-axis and compare it with histogram above."
   ]
  },
  {
   "cell_type": "code",
   "execution_count": null,
   "id": "68cc1c63",
   "metadata": {},
   "outputs": [],
   "source": [
    "get_config('X_train')['Number of times pregnant'].hist()"
   ]
  },
  {
   "cell_type": "markdown",
   "id": "b3776fbf",
   "metadata": {},
   "source": [
    "___"
   ]
  },
  {
   "cell_type": "markdown",
   "id": "f4ec411d",
   "metadata": {},
   "source": [
    "## ✅ Set Custom Metrics"
   ]
  },
  {
   "cell_type": "code",
   "execution_count": null,
   "id": "bd9d6395",
   "metadata": {},
   "outputs": [],
   "source": [
    "# check available metrics used in CV\n",
    "get_metrics()"
   ]
  },
  {
   "cell_type": "code",
   "execution_count": null,
   "id": "0d92512d",
   "metadata": {},
   "outputs": [],
   "source": [
    "# create a custom function\n",
    "import numpy as np\n",
    "\n",
    "def custom_metric(y, y_pred):\n",
    "    tp = np.where((y_pred==1) & (y==1), (100), 0)\n",
    "    fp = np.where((y_pred==1) & (y==0), -5, 0)\n",
    "    return np.sum([tp,fp])\n",
    "\n",
    "# add metric to PyCaret\n",
    "add_metric('custom_metric', 'Custom Metric', custom_metric)"
   ]
  },
  {
   "cell_type": "code",
   "execution_count": null,
   "id": "e4740319",
   "metadata": {},
   "outputs": [],
   "source": [
    "# now let's run compare_models again\n",
    "compare_models()"
   ]
  },
  {
   "cell_type": "code",
   "execution_count": null,
   "id": "6ee60c4e",
   "metadata": {},
   "outputs": [],
   "source": [
    "# remove custom metric\n",
    "remove_metric('custom_metric')"
   ]
  },
  {
   "cell_type": "markdown",
   "id": "9e6c47cb",
   "metadata": {},
   "source": [
    "## ✅ Experiment Logging\n",
    "PyCaret integrates with many different type of experiment loggers (default = 'mlflow'). To turn on experiment tracking in PyCaret you can set `log_experiment` and `experiment_name` parameter. It will automatically track all the metrics, hyperparameters, and artifacts based on the defined logger."
   ]
  },
  {
   "cell_type": "code",
   "execution_count": null,
   "id": "1af63fd0",
   "metadata": {},
   "outputs": [],
   "source": [
    "# from pycaret.classification import *\n",
    "# s = setup(data, target = 'Class variable', log_experiment='mlflow', experiment_name='diabetes1')"
   ]
  },
  {
   "cell_type": "code",
   "execution_count": null,
   "id": "42cd6120",
   "metadata": {},
   "outputs": [],
   "source": [
    "# compare models\n",
    "# best = compare_models()"
   ]
  },
  {
   "cell_type": "code",
   "execution_count": null,
   "id": "adc82ce5",
   "metadata": {},
   "outputs": [],
   "source": [
    "# start mlflow server on localhost:5000\n",
    "# !mlflow ui"
   ]
  },
  {
   "cell_type": "markdown",
   "id": "a06f9df7",
   "metadata": {},
   "source": [
    "By default PyCaret uses `MLFlow` logger that can be changed using `log_experiment` parameter. Following loggers are available:\n",
    "    \n",
    "    - mlflow\n",
    "    - wandb\n",
    "    - comet_ml\n",
    "    - dagshub\n",
    "    \n",
    "Other logging related parameters that you may find useful are:\n",
    "\n",
    "- experiment_custom_tags\n",
    "- log_plots\n",
    "- log_data\n",
    "- log_profile\n",
    "\n",
    "For more information check out the docstring of the `setup` function."
   ]
  },
  {
   "cell_type": "code",
   "execution_count": null,
   "id": "2f8b6aa1",
   "metadata": {},
   "outputs": [],
   "source": [
    "# help(setup)"
   ]
  },
  {
   "cell_type": "markdown",
   "id": "6ce0b555",
   "metadata": {},
   "source": [
    "## ✅ Create Model\n",
    "This function trains and evaluates the performance of a given estimator using cross-validation. The output of this function is a scoring grid with CV scores by fold. Metrics evaluated during CV can be accessed using the `get_metrics` function. Custom metrics can be added or removed using `add_metric` and `remove_metric` function. All the available models can be accessed using the models function."
   ]
  },
  {
   "cell_type": "code",
   "execution_count": null,
   "id": "837cebfa",
   "metadata": {},
   "outputs": [],
   "source": [
    "# check all the available models\n",
    "models()"
   ]
  },
  {
   "cell_type": "code",
   "execution_count": null,
   "id": "16641cab",
   "metadata": {},
   "outputs": [],
   "source": [
    "# train logistic regression with default fold=10\n",
    "lr = create_model('lr')"
   ]
  },
  {
   "cell_type": "markdown",
   "id": "074b4572",
   "metadata": {},
   "source": [
    "The function above has return trained model object as an output. The scoring grid is only displayed and not returned. If you need access to the scoring grid you can use `pull` function to access the dataframe."
   ]
  },
  {
   "cell_type": "code",
   "execution_count": null,
   "id": "fe277e1b",
   "metadata": {},
   "outputs": [],
   "source": [
    "lr_results = pull()\n",
    "print(type(lr_results))\n",
    "lr_results"
   ]
  },
  {
   "cell_type": "code",
   "execution_count": null,
   "id": "148a74c4",
   "metadata": {},
   "outputs": [],
   "source": [
    "# train logistic regression with fold=3\n",
    "lr = create_model('lr', fold=3)"
   ]
  },
  {
   "cell_type": "code",
   "execution_count": null,
   "id": "5a8906a8",
   "metadata": {},
   "outputs": [],
   "source": [
    "# train logistic regression with specific model parameters\n",
    "create_model('lr', C = 0.5, l1_ratio = 0.15)"
   ]
  },
  {
   "cell_type": "code",
   "execution_count": null,
   "id": "b85af29b",
   "metadata": {},
   "outputs": [],
   "source": [
    "# train lr and return train score as well alongwith CV\n",
    "create_model('lr', return_train_score=True)"
   ]
  },
  {
   "cell_type": "code",
   "execution_count": null,
   "id": "3b9d9ac6",
   "metadata": {},
   "outputs": [],
   "source": [
    "# change the probability threshold of classifier from 0.5 to 0.66\n",
    "create_model('lr', probability_threshold = 0.66)"
   ]
  },
  {
   "cell_type": "markdown",
   "id": "08634e9e",
   "metadata": {},
   "source": [
    "Some other parameters that you might find very useful in `create_model` are:\n",
    "\n",
    "- cross_validation\n",
    "- engine\n",
    "- fit_kwargs\n",
    "- groups\n",
    "\n",
    "You can check the docstring of the function for more info."
   ]
  },
  {
   "cell_type": "code",
   "execution_count": null,
   "id": "3fb32c74",
   "metadata": {},
   "outputs": [],
   "source": [
    "# help(create_model)"
   ]
  },
  {
   "cell_type": "markdown",
   "id": "2dc8e294",
   "metadata": {},
   "source": [
    "## ✅ Plot Model"
   ]
  },
  {
   "cell_type": "code",
   "execution_count": null,
   "id": "952b6f24",
   "metadata": {},
   "outputs": [],
   "source": [
    "# to control the scale of plot\n",
    "plot_model(best, plot = 'class_report', scale = 2)"
   ]
  },
  {
   "cell_type": "code",
   "execution_count": null,
   "id": "54389270",
   "metadata": {},
   "outputs": [],
   "source": [
    "# to save the plot\n",
    "plot_model(best, plot = 'class_report', save=True)"
   ]
  },
  {
   "cell_type": "markdown",
   "id": "2fef279d",
   "metadata": {},
   "source": [
    "Some other parameters that you might find very useful in `plot_model` are:\n",
    "\n",
    "- fit_kwargs\n",
    "- plot_kwargs\n",
    "- groups\n",
    "- use_train_data\n",
    "- display_format\n",
    "\n",
    "You can check the docstring of the function for more info."
   ]
  },
  {
   "cell_type": "code",
   "execution_count": null,
   "id": "54b09b8e",
   "metadata": {},
   "outputs": [],
   "source": [
    "# help(plot_model)"
   ]
  },
  {
   "cell_type": "markdown",
   "id": "ed00202c",
   "metadata": {},
   "source": [
    "## ✅ Deploy Model\n",
    "This function deploys the entire ML pipeline on the cloud.\n",
    "\n",
    "**AWS:**  When deploying model on AWS S3, environment variables must be configured using the command-line interface. To configure AWS environment variables, type `aws configure` in terminal. The following information is required which can be generated using the Identity and Access Management (IAM) portal of your amazon console account:\n",
    "\n",
    "- AWS Access Key ID\n",
    "- AWS Secret Key Access\n",
    "- Default Region Name (can be seen under Global settings on your AWS console)\n",
    "- Default output format (must be left blank)\n",
    "\n",
    "**GCP:** To deploy a model on Google Cloud Platform ('gcp'), the project must be created using the command-line or GCP console. Once the project is created, you must create a service account and download the service account key as a JSON file to set environment variables in your local environment. Learn more about it: https://cloud.google.com/docs/authentication/production\n",
    "\n",
    "**Azure:** To deploy a model on Microsoft Azure ('azure'), environment variables for the connection string must be set in your local environment. Go to settings of storage account on Azure portal to access the connection string required.\n",
    "AZURE_STORAGE_CONNECTION_STRING (required as environment variable)\n",
    "Learn more about it: https://docs.microsoft.com/en-us/azure/storage/blobs/storage-quickstart-blobs-python?toc=%2Fpython%2Fazure%2FTOC.json"
   ]
  },
  {
   "cell_type": "code",
   "execution_count": null,
   "id": "40b20a18",
   "metadata": {},
   "outputs": [],
   "source": [
    "# deploy model on aws s3\n",
    "# deploy_model(best, model_name = 'my_first_platform_on_aws',\n",
    "#             platform = 'aws', authentication = {'bucket' : 'pycaret-test'})"
   ]
  },
  {
   "cell_type": "code",
   "execution_count": null,
   "id": "9e236516",
   "metadata": {},
   "outputs": [],
   "source": [
    "# load model from aws s3\n",
    "# loaded_from_aws = load_model(model_name = 'my_first_platform_on_aws', platform = 'aws',\n",
    "#                              authentication = {'bucket' : 'pycaret-test'})\n",
    "\n",
    "# loaded_from_aws"
   ]
  },
  {
   "cell_type": "markdown",
   "id": "e169ae86",
   "metadata": {},
   "source": [
    "## ✅ Save / Load Model\n",
    "This function saves the transformation pipeline and a trained model object into the current working directory as a pickle file for later use."
   ]
  },
  {
   "cell_type": "code",
   "execution_count": null,
   "id": "bc5cf24a",
   "metadata": {},
   "outputs": [],
   "source": [
    "# save model\n",
    "save_model(best, 'my_first_model')"
   ]
  },
  {
   "cell_type": "code",
   "execution_count": null,
   "id": "e8478d34",
   "metadata": {},
   "outputs": [],
   "source": [
    "# load model\n",
    "loaded_from_disk = load_model('my_first_model')\n",
    "loaded_from_disk"
   ]
  },
  {
   "cell_type": "markdown",
   "id": "de5eee8c",
   "metadata": {},
   "source": [
    "## ✅ Save / Load Experiment\n",
    "This function saves all the experiment variables on disk, allowing to later resume without rerunning the setup function."
   ]
  },
  {
   "cell_type": "code",
   "execution_count": null,
   "id": "6a3c61b6",
   "metadata": {},
   "outputs": [],
   "source": [
    "# save experiment\n",
    "save_experiment('my_experiment')"
   ]
  },
  {
   "cell_type": "code",
   "execution_count": null,
   "id": "83252c09",
   "metadata": {},
   "outputs": [],
   "source": [
    "# load experiment from disk\n",
    "exp_from_disk = load_experiment('my_experiment', data=data)"
   ]
  },
  {
   "cell_type": "code",
   "execution_count": null,
   "id": "ac030246",
   "metadata": {},
   "outputs": [],
   "source": []
  }
 ],
 "metadata": {
  "kernelspec": {
   "display_name": "pycaretrc5",
   "language": "python",
   "name": "pycaretrc5"
  },
  "language_info": {
   "codemirror_mode": {
    "name": "ipython",
    "version": 3
   },
   "file_extension": ".py",
   "mimetype": "text/x-python",
   "name": "python",
   "nbconvert_exporter": "python",
   "pygments_lexer": "ipython3",
   "version": "3.8.15"
  }
 },
 "nbformat": 4,
 "nbformat_minor": 5
}
