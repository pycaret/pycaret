{
 "cells": [
  {
   "cell_type": "markdown",
   "metadata": {},
   "source": [
    "#  <span style=\"color:orange\">Natural Language Processing Tutorial (NLP101) - Level Beginner</span>"
   ]
  },
  {
   "cell_type": "markdown",
   "metadata": {},
   "source": [
    "**Created using: PyCaret 2.0** <br />\n",
    "**Date Updated: August 24, 2020**\n",
    "\n",
    "# 1.0 Objective of Tutorial\n",
    "Welcome to Natural Language Processing Tutorial **(NLP101)**. This tutorial assumes that you are new to PyCaret and looking to get started with Natural Language Processing using `pycaret.nlp` Module.\n",
    "\n",
    "In this tutorial we will learn:\n",
    "\n",
    "\n",
    "* **Getting Data:**  How to import data from PyCaret repository?\n",
    "* **Setting up Environment:**  How to setup environment in PyCaret and perform critical text pre-processing tasks?\n",
    "* **Create Model:**  How to create a topic model?\n",
    "* **Assign Model:**  How to assign documents/text to topics using a trained model?\n",
    "* **Plot Model:**  How to analyze topic models / overall corpus using various plots?\n",
    "* **Save / Load Model:**  How to save / load model for future use?\n",
    "\n",
    "Read Time : Approx. 30 Minutes\n",
    "\n",
    "\n",
    "## 1.1 Installing PyCaret\n",
    "First step to get started with PyCaret is to install pycaret. Installing pycaret is easy and take few minutes only. Follow the instructions below:\n",
    "\n",
    "#### Installing PyCaret in Local Jupyter Notebook\n",
    "`pip install pycaret`  <br />\n",
    "\n",
    "#### Installing PyCaret on Google Colab or Azure Notebooks\n",
    "`!pip install pycaret`\n",
    "\n",
    "\n",
    "## 1.2 Pre-Requisites\n",
    "- Python 3.6 or greater\n",
    "- PyCaret 2.0 or greater\n",
    "- Internet connection to load data from pycaret's repository\n",
    "- Basic Knowledge of NLP \n",
    "\n",
    "## 1.3 For Google colab users:\n",
    "If you are running this notebook on Google colab, below code of cells must be run at top of the notebook to display interactive visuals.<br/>\n",
    "<br/>\n",
    "`from pycaret.utils import enable_colab` <br/>\n",
    "`enable_colab()`\n",
    "\n",
    "## 1.4 See also:\n",
    "- __[Natural Language Processing Tutorial (NLP102) - Level Intermediate](https://github.com/pycaret/pycaret/blob/master/tutorials/Natural%20Language%20Processing%20Tutorial%20Level%20Intermediate%20-%20NLP102.ipynb)__\n",
    "- __[Natural Language Processing Tutorial (NLP103) - Level Expert](https://github.com/pycaret/pycaret/blob/master/tutorials/Natural%20Language%20Processing%20Tutorial%20Level%20Expert%20-%20NLP103.ipynb)__"
   ]
  },
  {
   "cell_type": "markdown",
   "metadata": {},
   "source": [
    "# 2.0 What is Natural Language Processing?\n",
    "\n",
    "Natural Language Processing (NLP in short) is a branch of artificial intelligence that deals with analyzing, understanding and generating the languages that humans use naturally in order to interface with computers in both written and spoken contexts using natural human languages instead of computer languages. Some of the common use case of NLP in machine learning are: \n",
    "\n",
    "- **Topic discovery and modeling:** Capture the meaning and themes in text collections, and apply advanced modeling techniques such as Topic Modeling to group similar documents together.\n",
    "- **Sentiment Analysis:** Identifying the mood or subjective opinions within large amounts of text, including average sentiment and opinion mining.\n",
    "- **Document summarization:** Automatically generating synopses of large bodies of text.\n",
    "- **Speech-to-text and text-to-speech conversion:** Transforming voice commands into written text, and vice versa.\n",
    "- **Machine translation:** Automatic translation of text or speech from one language to another.  \n",
    "\n",
    "__[Learn More about Natural Language Processing](https://en.wikipedia.org/wiki/Natural_language_processing)__"
   ]
  },
  {
   "cell_type": "markdown",
   "metadata": {},
   "source": [
    "# 3.0 Overview of Natural Language Processing Module in PyCaret\n",
    "PyCaret's NLP module (`pycaret.nlp`) is an unsupervised machine learning module which can be used for analyzing the text data by creating topic model to find hidden semantic structure in documents. PyCaret's NLP module comes built-in with a wide range of text pre-processing techniques which is the fundamental step in any NLP problem. It transforms the raw text into a format that machine learning algorithms can learn from.\n",
    "\n",
    "As of first release, PyCaret's NLP module only support `English` language and provides several popular implementation of topic models from Latent Dirichlet Allocation to Non-Negative Matrix Factorization. It has over 5 ready-to-use algorithms and over 10 plots to analyze the text. PyCaret's NLP module also implements a unique function `tune_model()` that allows you to tune the hyperparameters of a topic model to optimize the supervised learning objective such as `AUC` for classification or `R2` for regression."
   ]
  },
  {
   "cell_type": "markdown",
   "metadata": {},
   "source": [
    "# 4.0 Dataset for the Tutorial"
   ]
  },
  {
   "cell_type": "markdown",
   "metadata": {},
   "source": [
    "For this tutorial we will be using data from **Kiva Microfunds** https://www.kiva.org/. Kiva Microfunds is a non-profit that allows individuals to lend money to low-income entrepreneurs and students around the world. Since starting in 2005, Kiva has crowd-funded millions of loans with a repayment rate of around 98%. At Kiva, each loan request includes both traditional demographic information on the borrower, such as gender and location, as well as a personal story. In this tutorial we will use the text given in personal story to gain insights of the dataset and understand hidden semantic structure in the text. The dataset contains 6,818 samples. Short description of features are below:\n",
    "\n",
    "- **country:** country of borrower\n",
    "- **en:** Personal story of borrower when applied for loan\n",
    "- **gender:** Gender (M=male, F=female)\n",
    "- **loan_amount:** Amount of loan approved and disbursed\n",
    "- **nonpayment:** Type of lender (Lender = personal registered user on Kiva website, Partner = microfinance institution who work with Kiva to find and fund loans)\n",
    "- **sector:** sector of borrower\n",
    "- **status:** status of loan (1-default, 0-repaid)\n",
    "\n",
    "In this tutorial we will only use `en` column to create topic model. In next tutorial __[Natural Language Processing (NLP102) - Level Intermediate](https://github.com/pycaret/pycaret/blob/master/tutorials/Natural%20Language%20Processing%20Tutorial%20Level%20Intermediate%20-%20NLP102.ipynb)__ we will use topic model to build a classifier that predicts `status` of loan to know whether the applicant will default or not. \n",
    "\n",
    "#### Dataset Acknowledgement:\n",
    "Kiva Microfunds https://www.kiva.org/ "
   ]
  },
  {
   "cell_type": "markdown",
   "metadata": {},
   "source": [
    "# 5.0 Getting the Data"
   ]
  },
  {
   "cell_type": "markdown",
   "metadata": {},
   "source": [
    "You can download the data from PyCaret's git repository __[Click Here to Download](https://github.com/pycaret/pycaret/blob/master/datasets/kiva.csv)__ or you can load it using `get_data()` function (This will require internet connection)."
   ]
  },
  {
   "cell_type": "code",
   "execution_count": 1,
   "metadata": {},
   "outputs": [
    {
     "data": {
      "text/html": [
       "<div>\n",
       "<style scoped>\n",
       "    .dataframe tbody tr th:only-of-type {\n",
       "        vertical-align: middle;\n",
       "    }\n",
       "\n",
       "    .dataframe tbody tr th {\n",
       "        vertical-align: top;\n",
       "    }\n",
       "\n",
       "    .dataframe thead th {\n",
       "        text-align: right;\n",
       "    }\n",
       "</style>\n",
       "<table border=\"1\" class=\"dataframe\">\n",
       "  <thead>\n",
       "    <tr style=\"text-align: right;\">\n",
       "      <th></th>\n",
       "      <th>country</th>\n",
       "      <th>en</th>\n",
       "      <th>gender</th>\n",
       "      <th>loan_amount</th>\n",
       "      <th>nonpayment</th>\n",
       "      <th>sector</th>\n",
       "      <th>status</th>\n",
       "    </tr>\n",
       "  </thead>\n",
       "  <tbody>\n",
       "    <tr>\n",
       "      <th>0</th>\n",
       "      <td>Dominican Republic</td>\n",
       "      <td>\"Banco Esperanza\" is a group of 10 women looki...</td>\n",
       "      <td>F</td>\n",
       "      <td>1225</td>\n",
       "      <td>partner</td>\n",
       "      <td>Retail</td>\n",
       "      <td>0</td>\n",
       "    </tr>\n",
       "    <tr>\n",
       "      <th>1</th>\n",
       "      <td>Dominican Republic</td>\n",
       "      <td>\"Caminemos Hacia Adelante\" or \"Walking Forward...</td>\n",
       "      <td>F</td>\n",
       "      <td>1975</td>\n",
       "      <td>lender</td>\n",
       "      <td>Clothing</td>\n",
       "      <td>0</td>\n",
       "    </tr>\n",
       "    <tr>\n",
       "      <th>2</th>\n",
       "      <td>Dominican Republic</td>\n",
       "      <td>\"Creciendo Por La Union\" is a group of 10 peop...</td>\n",
       "      <td>F</td>\n",
       "      <td>2175</td>\n",
       "      <td>partner</td>\n",
       "      <td>Clothing</td>\n",
       "      <td>0</td>\n",
       "    </tr>\n",
       "    <tr>\n",
       "      <th>3</th>\n",
       "      <td>Dominican Republic</td>\n",
       "      <td>\"Cristo Vive\" (\"Christ lives\" is a group of 10...</td>\n",
       "      <td>F</td>\n",
       "      <td>1425</td>\n",
       "      <td>partner</td>\n",
       "      <td>Clothing</td>\n",
       "      <td>0</td>\n",
       "    </tr>\n",
       "    <tr>\n",
       "      <th>4</th>\n",
       "      <td>Dominican Republic</td>\n",
       "      <td>\"Cristo Vive\" is a large group of 35 people, 2...</td>\n",
       "      <td>F</td>\n",
       "      <td>4025</td>\n",
       "      <td>partner</td>\n",
       "      <td>Food</td>\n",
       "      <td>0</td>\n",
       "    </tr>\n",
       "  </tbody>\n",
       "</table>\n",
       "</div>"
      ],
      "text/plain": [
       "              country                                                 en  \\\n",
       "0  Dominican Republic  \"Banco Esperanza\" is a group of 10 women looki...   \n",
       "1  Dominican Republic  \"Caminemos Hacia Adelante\" or \"Walking Forward...   \n",
       "2  Dominican Republic  \"Creciendo Por La Union\" is a group of 10 peop...   \n",
       "3  Dominican Republic  \"Cristo Vive\" (\"Christ lives\" is a group of 10...   \n",
       "4  Dominican Republic  \"Cristo Vive\" is a large group of 35 people, 2...   \n",
       "\n",
       "  gender  loan_amount nonpayment    sector  status  \n",
       "0      F         1225    partner    Retail       0  \n",
       "1      F         1975     lender  Clothing       0  \n",
       "2      F         2175    partner  Clothing       0  \n",
       "3      F         1425    partner  Clothing       0  \n",
       "4      F         4025    partner      Food       0  "
      ]
     },
     "metadata": {},
     "output_type": "display_data"
    }
   ],
   "source": [
    "from pycaret.datasets import get_data\n",
    "data = get_data('kiva')"
   ]
  },
  {
   "cell_type": "code",
   "execution_count": 2,
   "metadata": {},
   "outputs": [
    {
     "data": {
      "text/plain": [
       "(6818, 7)"
      ]
     },
     "execution_count": 2,
     "metadata": {},
     "output_type": "execute_result"
    }
   ],
   "source": [
    "#check the shape of data\n",
    "data.shape"
   ]
  },
  {
   "cell_type": "code",
   "execution_count": 3,
   "metadata": {},
   "outputs": [
    {
     "data": {
      "text/plain": [
       "(1000, 7)"
      ]
     },
     "execution_count": 3,
     "metadata": {},
     "output_type": "execute_result"
    }
   ],
   "source": [
    "# sampling the data to select only 1000 documents\n",
    "data = data.sample(1000, random_state=786).reset_index(drop=True)\n",
    "data.shape"
   ]
  },
  {
   "cell_type": "markdown",
   "metadata": {},
   "source": [
    "# 6.0 Setting up Environment in PyCaret"
   ]
  },
  {
   "cell_type": "markdown",
   "metadata": {},
   "source": [
    "`setup()` function initializes the environment in pycaret and performs several text pre-processing steps that are imperative to work with NLP problems. setup must be called before executing any other function in pycaret. It takes two parameters: pandas dataframe and name of the text column passed as `target` parameter. You can also pass a `list` containing text, in which case you don't need to pass `target` parameter. When setup is executed, following pre-processing steps are applied automatically:\n",
    "\n",
    "- **Removing Numeric Characters:** All numeric characters are removed from the text. They are replaced with blanks.<br/>\n",
    "<br/>\n",
    "- **Removing Special Characters:** All non-alphanumeric special characters are removed from the text. They are also replaced with blanks.<br/>\n",
    "<br/>\n",
    "- **Word Tokenization:** Word tokenization is the process of splitting a large sample of text into words. This is the core requirement in natural language processing tasks where each word needs to be captured separately for further analysis. __[Read More](https://nlp.stanford.edu/IR-book/html/htmledition/tokenization-1.html)__ <br/>\n",
    "<br/> \n",
    "- **Stopword Removal:** A stop word (or stopword) is a word that is often removed from text because it is common and provides little value for information retrieval, even though it might be linguistically meaningful. Example of such words in english language are: \"the\", \"a\", \"an\", \"in\" etc. __[Read More](https://en.wikipedia.org/wiki/Stop_words)__ <br/>\n",
    "<br/>\n",
    "- **Bigram Extraction:** A bigram is a sequence of two adjacent elements from a string of tokens, which are typically letters, syllables, or words. For example: word New York is captured as two different words \"New\" and \"York\" when tokenization is performed but if it is repeated enough times, Bigram Extraction will represent the word as one i.e. \"New_York\"  __[Read More](https://en.wikipedia.org/wiki/Bigram)__ <br/>\n",
    "<br/>\n",
    "- **Trigram Extraction:** Similar to bigram extraction, trigram is a sequence of three adjacent elements from a string of tokens. __[Read More](https://en.wikipedia.org/wiki/Trigram)__ <br/>\n",
    "<br/>\n",
    "- **Lemmatizing:** Lemmatization is the process of grouping together the inflected forms of a word so they can be analysed as a single word, identified by the word's lemma, or dictionary form. In English language, word appears in several inflected forms. For example the verb 'to walk' may appear as 'walk', 'walked', 'walks', 'walking'. The base form, 'walk', that one might look up in a dictionary, is called the lemma for the word. __[Read More](https://en.wikipedia.org/wiki/Lemmatisation)__ <br/>\n",
    "<br/>\n",
    "- **Custom Stopwords:** Many times text contains words that are not stopwords by the rule of language but they add no or very little information. For example, in this tutorial we are using the loan dataset. As such, words like \"loan\", \"bank\", \"money\", \"business\" are too obvious and adds no value. More often than not, they also add a lot of noise in the topic model. You can remove those words from corpus by using `custom_stopwords` parameter. In next tutorial, __[Natural Language Processing Tutorial (NLP102) - Level Intermediate](https://github.com/pycaret/pycaret/blob/master/tutorials/Natural%20Language%20Processing%20Tutorial%20Level%20Intermediate%20-%20NLP102.ipynb)__ we will demonstrate the use of `custom_stopwords` parameter inside `setup()`. <br/>\n",
    "<br/>\n",
    "\n",
    "**Note :** Some functionalities in `pycaret.nlp` requires english language model. The language model is not downloaded automatically when you install pycaret. You will have to download these python command line interface such as Anaconda Prompt. To download the model, please type the following in your command line:\n",
    "\n",
    "`python -m spacy download en_core_web_sm` <br/>\n",
    "`python -m textblob.download_corpora` <br/>"
   ]
  },
  {
   "cell_type": "code",
   "execution_count": 5,
   "metadata": {},
   "outputs": [
    {
     "data": {
      "text/html": [
       "<style  type=\"text/css\" >\n",
       "</style><table id=\"T_51bd0106_e644_11ea_9a87_482ae32b83da\" ><thead>    <tr>        <th class=\"col_heading level0 col0\" >Description</th>        <th class=\"col_heading level0 col1\" >Value</th>    </tr></thead><tbody>\n",
       "                <tr>\n",
       "                                <td id=\"T_51bd0106_e644_11ea_9a87_482ae32b83darow0_col0\" class=\"data row0 col0\" >session_id</td>\n",
       "                        <td id=\"T_51bd0106_e644_11ea_9a87_482ae32b83darow0_col1\" class=\"data row0 col1\" >123</td>\n",
       "            </tr>\n",
       "            <tr>\n",
       "                                <td id=\"T_51bd0106_e644_11ea_9a87_482ae32b83darow1_col0\" class=\"data row1 col0\" >Documents</td>\n",
       "                        <td id=\"T_51bd0106_e644_11ea_9a87_482ae32b83darow1_col1\" class=\"data row1 col1\" >1000</td>\n",
       "            </tr>\n",
       "            <tr>\n",
       "                                <td id=\"T_51bd0106_e644_11ea_9a87_482ae32b83darow2_col0\" class=\"data row2 col0\" >Vocab Size</td>\n",
       "                        <td id=\"T_51bd0106_e644_11ea_9a87_482ae32b83darow2_col1\" class=\"data row2 col1\" >4573</td>\n",
       "            </tr>\n",
       "            <tr>\n",
       "                                <td id=\"T_51bd0106_e644_11ea_9a87_482ae32b83darow3_col0\" class=\"data row3 col0\" >Custom Stopwords</td>\n",
       "                        <td id=\"T_51bd0106_e644_11ea_9a87_482ae32b83darow3_col1\" class=\"data row3 col1\" >False</td>\n",
       "            </tr>\n",
       "    </tbody></table>"
      ],
      "text/plain": [
       "<pandas.io.formats.style.Styler at 0x15ac8a9eac8>"
      ]
     },
     "metadata": {},
     "output_type": "display_data"
    }
   ],
   "source": [
    "from pycaret.nlp import *\n",
    "exp_nlp101 = setup(data = data, target = 'en', session_id = 123)"
   ]
  },
  {
   "cell_type": "markdown",
   "metadata": {},
   "source": [
    "Once the setup is succesfully executed it prints the information grid with the following information: \n",
    "\n",
    "- **session_id :**  A pseduo-random number distributed as a seed in all functions for later reproducibility. If no `session_id` is passed, a random number is automatically generated that is distributed to all functions. In this experiment session_id is set as `123` for later reproducibility.<br/>\n",
    "<br/>\n",
    "- **# Documents :** Number of documents (or samples in dataset if dataframe is passed). <br/>\n",
    "<br/>\n",
    "- **Vocab Size :** Size of vocabulary in the corpus after applying all text pre-processing such as removal of stopwords, bigram/trigram extraction, lemmatization etc. <br/>\n",
    "\n",
    "Notice that all text pre-processing steps are performed automatically when you execute `setup()`. These steps are imperative to perform any NLP experiment. `setup()` function prepares the corpus and dictionary that is ready-to-use for the topic models that you can create using `create_model()` function. Another way to pass the text is in the form of list in which case no `target` parameter is needed."
   ]
  },
  {
   "cell_type": "markdown",
   "metadata": {},
   "source": [
    "# 7.0 Create a Topic Model"
   ]
  },
  {
   "cell_type": "markdown",
   "metadata": {},
   "source": [
    "**What is Topic Model?** In machine learning and natural language processing, a topic model is a type of statistical model for discovering the abstract \"topics\" that occur in a collection of documents. Topic modeling is a frequently used text-mining tool for discovery of hidden semantic structures in a text body. Intuitively, given that a document is about a particular topic, one would expect particular words to appear in the document more or less frequently: \"dog\" and \"bone\" will appear more often in documents about dogs, \"cat\" and \"meow\" will appear in documents about cats, and \"the\" and \"is\" will appear equally in both. A document typically concerns multiple topics in different proportions; thus, in a document that is 10% about cats and 90% about dogs, there would probably be about 9 times more dog words than cat words. The \"topics\" produced by topic modeling techniques are clusters of similar words. A topic model captures this intuition in a mathematical framework, which allows examining a set of documents and discovering, based on the statistics of the words in each, what the topics might be and what each document's balance of topics is. __[Read More](https://en.wikipedia.org/wiki/Topic_model)__\n",
    "\n",
    "Creating a topic model in PyCaret is simple and similar to how you would have created a model in supervised modules of pycaret. A topic model is created using `create_model()` function which takes one mandatory parameter i.e. name of model as a string. This function returns a trained model object. There are 5 topic models available in PyCaret. see the docstring of `create_model()` for complete list of models. See an example below where we create Latent Dirichlet Allocation (LDA) model:"
   ]
  },
  {
   "cell_type": "code",
   "execution_count": 14,
   "metadata": {
    "scrolled": false
   },
   "outputs": [],
   "source": [
    "lda = create_model('lda')"
   ]
  },
  {
   "cell_type": "code",
   "execution_count": 15,
   "metadata": {},
   "outputs": [
    {
     "name": "stdout",
     "output_type": "stream",
     "text": [
      "LdaModel(num_terms=4573, num_topics=4, decay=0.5, chunksize=100)\n"
     ]
    }
   ],
   "source": [
    "print(lda)"
   ]
  },
  {
   "cell_type": "markdown",
   "metadata": {},
   "source": [
    "We have created Latent Dirichlet Allocation (LDA) model with just one word i.e. `create_model()`. Notice the `num_topics` parameter is set to `4` which is a default value taken when you donot pass `num_topics` parameter in `create_model()`. In below example, we will create LDA model with 6 topics and we will also set `multi_core` parameter to `True`. When `multi_core` is set to `True` Latent Dirichlet Allocation (LDA) uses all CPU cores to parallelize and speed up model training."
   ]
  },
  {
   "cell_type": "code",
   "execution_count": 16,
   "metadata": {},
   "outputs": [],
   "source": [
    "lda2 = create_model('lda', num_topics = 6, multi_core = True)"
   ]
  },
  {
   "cell_type": "code",
   "execution_count": 17,
   "metadata": {},
   "outputs": [
    {
     "name": "stdout",
     "output_type": "stream",
     "text": [
      "LdaModel(num_terms=4573, num_topics=6, decay=0.5, chunksize=100)\n"
     ]
    }
   ],
   "source": [
    "print(lda2)"
   ]
  },
  {
   "cell_type": "markdown",
   "metadata": {},
   "source": [
    "# 8.0 Assign a Model"
   ]
  },
  {
   "cell_type": "markdown",
   "metadata": {},
   "source": [
    "Now that we have created a topic model, we would like to assign the topic proportions to our dataset (6818 documents / samples) to analyze the results. We will achieve this by using `assign_model()` function. See an example below:"
   ]
  },
  {
   "cell_type": "code",
   "execution_count": 18,
   "metadata": {},
   "outputs": [
    {
     "data": {
      "text/html": [
       "<div>\n",
       "<style scoped>\n",
       "    .dataframe tbody tr th:only-of-type {\n",
       "        vertical-align: middle;\n",
       "    }\n",
       "\n",
       "    .dataframe tbody tr th {\n",
       "        vertical-align: top;\n",
       "    }\n",
       "\n",
       "    .dataframe thead th {\n",
       "        text-align: right;\n",
       "    }\n",
       "</style>\n",
       "<table border=\"1\" class=\"dataframe\">\n",
       "  <thead>\n",
       "    <tr style=\"text-align: right;\">\n",
       "      <th></th>\n",
       "      <th>country</th>\n",
       "      <th>en</th>\n",
       "      <th>gender</th>\n",
       "      <th>loan_amount</th>\n",
       "      <th>nonpayment</th>\n",
       "      <th>sector</th>\n",
       "      <th>status</th>\n",
       "      <th>Topic_0</th>\n",
       "      <th>Topic_1</th>\n",
       "      <th>Topic_2</th>\n",
       "      <th>Topic_3</th>\n",
       "      <th>Dominant_Topic</th>\n",
       "      <th>Perc_Dominant_Topic</th>\n",
       "    </tr>\n",
       "  </thead>\n",
       "  <tbody>\n",
       "    <tr>\n",
       "      <th>0</th>\n",
       "      <td>Kenya</td>\n",
       "      <td>praxide marry child primary school train tailo...</td>\n",
       "      <td>F</td>\n",
       "      <td>75</td>\n",
       "      <td>partner</td>\n",
       "      <td>Services</td>\n",
       "      <td>0</td>\n",
       "      <td>0.001872</td>\n",
       "      <td>0.006235</td>\n",
       "      <td>0.990371</td>\n",
       "      <td>0.001521</td>\n",
       "      <td>Topic 2</td>\n",
       "      <td>0.99</td>\n",
       "    </tr>\n",
       "    <tr>\n",
       "      <th>1</th>\n",
       "      <td>Kenya</td>\n",
       "      <td>practitioner run year old life wife child biol...</td>\n",
       "      <td>M</td>\n",
       "      <td>1200</td>\n",
       "      <td>partner</td>\n",
       "      <td>Health</td>\n",
       "      <td>0</td>\n",
       "      <td>0.262538</td>\n",
       "      <td>0.129088</td>\n",
       "      <td>0.606908</td>\n",
       "      <td>0.001466</td>\n",
       "      <td>Topic 2</td>\n",
       "      <td>0.61</td>\n",
       "    </tr>\n",
       "    <tr>\n",
       "      <th>2</th>\n",
       "      <td>Dominican Republic</td>\n",
       "      <td>live child boy girl range year sell use clothi...</td>\n",
       "      <td>F</td>\n",
       "      <td>150</td>\n",
       "      <td>partner</td>\n",
       "      <td>Clothing</td>\n",
       "      <td>0</td>\n",
       "      <td>0.002032</td>\n",
       "      <td>0.218908</td>\n",
       "      <td>0.777409</td>\n",
       "      <td>0.001651</td>\n",
       "      <td>Topic 2</td>\n",
       "      <td>0.78</td>\n",
       "    </tr>\n",
       "    <tr>\n",
       "      <th>3</th>\n",
       "      <td>Kenya</td>\n",
       "      <td>phanice marry child daughter secondary school ...</td>\n",
       "      <td>F</td>\n",
       "      <td>150</td>\n",
       "      <td>lender</td>\n",
       "      <td>Services</td>\n",
       "      <td>1</td>\n",
       "      <td>0.002075</td>\n",
       "      <td>0.070739</td>\n",
       "      <td>0.925500</td>\n",
       "      <td>0.001686</td>\n",
       "      <td>Topic 2</td>\n",
       "      <td>0.93</td>\n",
       "    </tr>\n",
       "    <tr>\n",
       "      <th>4</th>\n",
       "      <td>Kenya</td>\n",
       "      <td>year old hotel kaptembwa operating hotel last ...</td>\n",
       "      <td>F</td>\n",
       "      <td>300</td>\n",
       "      <td>lender</td>\n",
       "      <td>Food</td>\n",
       "      <td>1</td>\n",
       "      <td>0.001838</td>\n",
       "      <td>0.097333</td>\n",
       "      <td>0.899336</td>\n",
       "      <td>0.001493</td>\n",
       "      <td>Topic 2</td>\n",
       "      <td>0.90</td>\n",
       "    </tr>\n",
       "  </tbody>\n",
       "</table>\n",
       "</div>"
      ],
      "text/plain": [
       "              country                                                 en  \\\n",
       "0               Kenya  praxide marry child primary school train tailo...   \n",
       "1               Kenya  practitioner run year old life wife child biol...   \n",
       "2  Dominican Republic  live child boy girl range year sell use clothi...   \n",
       "3               Kenya  phanice marry child daughter secondary school ...   \n",
       "4               Kenya  year old hotel kaptembwa operating hotel last ...   \n",
       "\n",
       "  gender  loan_amount nonpayment    sector  status   Topic_0   Topic_1  \\\n",
       "0      F           75    partner  Services       0  0.001872  0.006235   \n",
       "1      M         1200    partner    Health       0  0.262538  0.129088   \n",
       "2      F          150    partner  Clothing       0  0.002032  0.218908   \n",
       "3      F          150     lender  Services       1  0.002075  0.070739   \n",
       "4      F          300     lender      Food       1  0.001838  0.097333   \n",
       "\n",
       "    Topic_2   Topic_3 Dominant_Topic  Perc_Dominant_Topic  \n",
       "0  0.990371  0.001521        Topic 2                 0.99  \n",
       "1  0.606908  0.001466        Topic 2                 0.61  \n",
       "2  0.777409  0.001651        Topic 2                 0.78  \n",
       "3  0.925500  0.001686        Topic 2                 0.93  \n",
       "4  0.899336  0.001493        Topic 2                 0.90  "
      ]
     },
     "execution_count": 18,
     "metadata": {},
     "output_type": "execute_result"
    }
   ],
   "source": [
    "lda_results = assign_model(lda)\n",
    "lda_results.head()"
   ]
  },
  {
   "cell_type": "markdown",
   "metadata": {},
   "source": [
    "Notice how 6 additional columns are now added to the dataframe. `en` is the text after all pre-processing. `Topic_0 ... Topic_3` are the topic proportions and represents the distribution of topics for each document. `Dominant_Topic` is the topic number with highest proportion and `Perc_Dominant_Topic` is the percentage of dominant topic over 1 (only shown when models are stochastic i.e. sum of all proportions equal to 1) ."
   ]
  },
  {
   "cell_type": "markdown",
   "metadata": {},
   "source": [
    "# 9.0 Plot a Model"
   ]
  },
  {
   "cell_type": "markdown",
   "metadata": {},
   "source": [
    "`plot_model()` function can be used to analyze the overall corpus or only specific topics extracted through topic model. Hence the function `plot_model()` can also work without passing any trained model object. See examples below:"
   ]
  },
  {
   "cell_type": "markdown",
   "metadata": {},
   "source": [
    "### 9.1 Frequency Distribution of Entire Corpus"
   ]
  },
  {
   "cell_type": "code",
   "execution_count": 19,
   "metadata": {},
   "outputs": [
    {
     "data": {
      "text/html": [
       "        <script type=\"text/javascript\">\n",
       "        window.PlotlyConfig = {MathJaxConfig: 'local'};\n",
       "        if (window.MathJax) {MathJax.Hub.Config({SVG: {font: \"STIX-Web\"}});}\n",
       "        if (typeof require !== 'undefined') {\n",
       "        require.undef(\"plotly\");\n",
       "        requirejs.config({\n",
       "            paths: {\n",
       "                'plotly': ['https://cdn.plot.ly/plotly-latest.min']\n",
       "            }\n",
       "        });\n",
       "        require(['plotly'], function(Plotly) {\n",
       "            window._Plotly = Plotly;\n",
       "        });\n",
       "        }\n",
       "        </script>\n",
       "        "
      ]
     },
     "metadata": {},
     "output_type": "display_data"
    },
    {
     "data": {
      "application/vnd.plotly.v1+json": {
       "config": {
        "linkText": "Export to plot.ly",
        "plotlyServerURL": "https://plot.ly",
        "showLink": true
       },
       "data": [
        {
         "marker": {
          "color": "rgba(255, 153, 51, 0.6)",
          "line": {
           "color": "rgba(255, 153, 51, 1.0)",
           "width": 1
          }
         },
         "name": "count",
         "orientation": "v",
         "text": "",
         "type": "bar",
         "x": [
          "business",
          "loan",
          "child",
          "year",
          "sell",
          "buy",
          "also",
          "school",
          "work",
          "old",
          "use",
          "family",
          "make",
          "able",
          "start",
          "group",
          "help",
          "small",
          "live",
          "purchase",
          "product",
          "income",
          "husband",
          "increase",
          "home",
          "community",
          "well",
          "customer",
          "woman",
          "good",
          "need",
          "order",
          "hope",
          "request",
          "pay",
          "expand",
          "member",
          "stock",
          "marry",
          "grow",
          "new",
          "want",
          "people",
          "time",
          "store",
          "provide",
          "farmer",
          "get",
          "many",
          "client",
          "clothing",
          "go",
          "area",
          "support",
          "money",
          "entrepreneur",
          "improve",
          "give",
          "market",
          "hard",
          "shop",
          "sale",
          "first",
          "ago",
          "invest",
          "run",
          "food",
          "mother",
          "plan",
          "take",
          "profit",
          "life",
          "high",
          "continue",
          "service",
          "education",
          "capital",
          "farm",
          "local",
          "rice",
          "clothe",
          "young",
          "repay",
          "month",
          "fee",
          "married",
          "item",
          "wife",
          "demand",
          "enable",
          "operate",
          "large",
          "usd",
          "say",
          "receive",
          "meet",
          "offer",
          "day",
          "supply",
          "still"
         ],
         "y": [
          1900,
          1840,
          1193,
          1148,
          1094,
          793,
          647,
          643,
          614,
          594,
          591,
          590,
          526,
          516,
          488,
          477,
          476,
          475,
          451,
          390,
          389,
          359,
          359,
          350,
          330,
          321,
          317,
          315,
          315,
          304,
          295,
          288,
          275,
          273,
          263,
          261,
          251,
          248,
          248,
          247,
          245,
          245,
          242,
          240,
          235,
          233,
          223,
          221,
          217,
          214,
          213,
          212,
          212,
          212,
          209,
          206,
          200,
          200,
          194,
          191,
          187,
          185,
          184,
          184,
          180,
          179,
          174,
          174,
          172,
          172,
          171,
          167,
          165,
          160,
          159,
          158,
          157,
          157,
          156,
          154,
          153,
          146,
          145,
          144,
          142,
          142,
          142,
          141,
          140,
          139,
          137,
          136,
          134,
          132,
          132,
          130,
          127,
          127,
          126,
          126
         ]
        }
       ],
       "layout": {
        "legend": {
         "bgcolor": "#F5F6F9",
         "font": {
          "color": "#4D5663"
         }
        },
        "paper_bgcolor": "#F5F6F9",
        "plot_bgcolor": "#F5F6F9",
        "template": {
         "data": {
          "bar": [
           {
            "error_x": {
             "color": "#2a3f5f"
            },
            "error_y": {
             "color": "#2a3f5f"
            },
            "marker": {
             "line": {
              "color": "#E5ECF6",
              "width": 0.5
             }
            },
            "type": "bar"
           }
          ],
          "barpolar": [
           {
            "marker": {
             "line": {
              "color": "#E5ECF6",
              "width": 0.5
             }
            },
            "type": "barpolar"
           }
          ],
          "carpet": [
           {
            "aaxis": {
             "endlinecolor": "#2a3f5f",
             "gridcolor": "white",
             "linecolor": "white",
             "minorgridcolor": "white",
             "startlinecolor": "#2a3f5f"
            },
            "baxis": {
             "endlinecolor": "#2a3f5f",
             "gridcolor": "white",
             "linecolor": "white",
             "minorgridcolor": "white",
             "startlinecolor": "#2a3f5f"
            },
            "type": "carpet"
           }
          ],
          "choropleth": [
           {
            "colorbar": {
             "outlinewidth": 0,
             "ticks": ""
            },
            "type": "choropleth"
           }
          ],
          "contour": [
           {
            "colorbar": {
             "outlinewidth": 0,
             "ticks": ""
            },
            "colorscale": [
             [
              0,
              "#0d0887"
             ],
             [
              0.1111111111111111,
              "#46039f"
             ],
             [
              0.2222222222222222,
              "#7201a8"
             ],
             [
              0.3333333333333333,
              "#9c179e"
             ],
             [
              0.4444444444444444,
              "#bd3786"
             ],
             [
              0.5555555555555556,
              "#d8576b"
             ],
             [
              0.6666666666666666,
              "#ed7953"
             ],
             [
              0.7777777777777778,
              "#fb9f3a"
             ],
             [
              0.8888888888888888,
              "#fdca26"
             ],
             [
              1,
              "#f0f921"
             ]
            ],
            "type": "contour"
           }
          ],
          "contourcarpet": [
           {
            "colorbar": {
             "outlinewidth": 0,
             "ticks": ""
            },
            "type": "contourcarpet"
           }
          ],
          "heatmap": [
           {
            "colorbar": {
             "outlinewidth": 0,
             "ticks": ""
            },
            "colorscale": [
             [
              0,
              "#0d0887"
             ],
             [
              0.1111111111111111,
              "#46039f"
             ],
             [
              0.2222222222222222,
              "#7201a8"
             ],
             [
              0.3333333333333333,
              "#9c179e"
             ],
             [
              0.4444444444444444,
              "#bd3786"
             ],
             [
              0.5555555555555556,
              "#d8576b"
             ],
             [
              0.6666666666666666,
              "#ed7953"
             ],
             [
              0.7777777777777778,
              "#fb9f3a"
             ],
             [
              0.8888888888888888,
              "#fdca26"
             ],
             [
              1,
              "#f0f921"
             ]
            ],
            "type": "heatmap"
           }
          ],
          "heatmapgl": [
           {
            "colorbar": {
             "outlinewidth": 0,
             "ticks": ""
            },
            "colorscale": [
             [
              0,
              "#0d0887"
             ],
             [
              0.1111111111111111,
              "#46039f"
             ],
             [
              0.2222222222222222,
              "#7201a8"
             ],
             [
              0.3333333333333333,
              "#9c179e"
             ],
             [
              0.4444444444444444,
              "#bd3786"
             ],
             [
              0.5555555555555556,
              "#d8576b"
             ],
             [
              0.6666666666666666,
              "#ed7953"
             ],
             [
              0.7777777777777778,
              "#fb9f3a"
             ],
             [
              0.8888888888888888,
              "#fdca26"
             ],
             [
              1,
              "#f0f921"
             ]
            ],
            "type": "heatmapgl"
           }
          ],
          "histogram": [
           {
            "marker": {
             "colorbar": {
              "outlinewidth": 0,
              "ticks": ""
             }
            },
            "type": "histogram"
           }
          ],
          "histogram2d": [
           {
            "colorbar": {
             "outlinewidth": 0,
             "ticks": ""
            },
            "colorscale": [
             [
              0,
              "#0d0887"
             ],
             [
              0.1111111111111111,
              "#46039f"
             ],
             [
              0.2222222222222222,
              "#7201a8"
             ],
             [
              0.3333333333333333,
              "#9c179e"
             ],
             [
              0.4444444444444444,
              "#bd3786"
             ],
             [
              0.5555555555555556,
              "#d8576b"
             ],
             [
              0.6666666666666666,
              "#ed7953"
             ],
             [
              0.7777777777777778,
              "#fb9f3a"
             ],
             [
              0.8888888888888888,
              "#fdca26"
             ],
             [
              1,
              "#f0f921"
             ]
            ],
            "type": "histogram2d"
           }
          ],
          "histogram2dcontour": [
           {
            "colorbar": {
             "outlinewidth": 0,
             "ticks": ""
            },
            "colorscale": [
             [
              0,
              "#0d0887"
             ],
             [
              0.1111111111111111,
              "#46039f"
             ],
             [
              0.2222222222222222,
              "#7201a8"
             ],
             [
              0.3333333333333333,
              "#9c179e"
             ],
             [
              0.4444444444444444,
              "#bd3786"
             ],
             [
              0.5555555555555556,
              "#d8576b"
             ],
             [
              0.6666666666666666,
              "#ed7953"
             ],
             [
              0.7777777777777778,
              "#fb9f3a"
             ],
             [
              0.8888888888888888,
              "#fdca26"
             ],
             [
              1,
              "#f0f921"
             ]
            ],
            "type": "histogram2dcontour"
           }
          ],
          "mesh3d": [
           {
            "colorbar": {
             "outlinewidth": 0,
             "ticks": ""
            },
            "type": "mesh3d"
           }
          ],
          "parcoords": [
           {
            "line": {
             "colorbar": {
              "outlinewidth": 0,
              "ticks": ""
             }
            },
            "type": "parcoords"
           }
          ],
          "pie": [
           {
            "automargin": true,
            "type": "pie"
           }
          ],
          "scatter": [
           {
            "marker": {
             "colorbar": {
              "outlinewidth": 0,
              "ticks": ""
             }
            },
            "type": "scatter"
           }
          ],
          "scatter3d": [
           {
            "line": {
             "colorbar": {
              "outlinewidth": 0,
              "ticks": ""
             }
            },
            "marker": {
             "colorbar": {
              "outlinewidth": 0,
              "ticks": ""
             }
            },
            "type": "scatter3d"
           }
          ],
          "scattercarpet": [
           {
            "marker": {
             "colorbar": {
              "outlinewidth": 0,
              "ticks": ""
             }
            },
            "type": "scattercarpet"
           }
          ],
          "scattergeo": [
           {
            "marker": {
             "colorbar": {
              "outlinewidth": 0,
              "ticks": ""
             }
            },
            "type": "scattergeo"
           }
          ],
          "scattergl": [
           {
            "marker": {
             "colorbar": {
              "outlinewidth": 0,
              "ticks": ""
             }
            },
            "type": "scattergl"
           }
          ],
          "scattermapbox": [
           {
            "marker": {
             "colorbar": {
              "outlinewidth": 0,
              "ticks": ""
             }
            },
            "type": "scattermapbox"
           }
          ],
          "scatterpolar": [
           {
            "marker": {
             "colorbar": {
              "outlinewidth": 0,
              "ticks": ""
             }
            },
            "type": "scatterpolar"
           }
          ],
          "scatterpolargl": [
           {
            "marker": {
             "colorbar": {
              "outlinewidth": 0,
              "ticks": ""
             }
            },
            "type": "scatterpolargl"
           }
          ],
          "scatterternary": [
           {
            "marker": {
             "colorbar": {
              "outlinewidth": 0,
              "ticks": ""
             }
            },
            "type": "scatterternary"
           }
          ],
          "surface": [
           {
            "colorbar": {
             "outlinewidth": 0,
             "ticks": ""
            },
            "colorscale": [
             [
              0,
              "#0d0887"
             ],
             [
              0.1111111111111111,
              "#46039f"
             ],
             [
              0.2222222222222222,
              "#7201a8"
             ],
             [
              0.3333333333333333,
              "#9c179e"
             ],
             [
              0.4444444444444444,
              "#bd3786"
             ],
             [
              0.5555555555555556,
              "#d8576b"
             ],
             [
              0.6666666666666666,
              "#ed7953"
             ],
             [
              0.7777777777777778,
              "#fb9f3a"
             ],
             [
              0.8888888888888888,
              "#fdca26"
             ],
             [
              1,
              "#f0f921"
             ]
            ],
            "type": "surface"
           }
          ],
          "table": [
           {
            "cells": {
             "fill": {
              "color": "#EBF0F8"
             },
             "line": {
              "color": "white"
             }
            },
            "header": {
             "fill": {
              "color": "#C8D4E3"
             },
             "line": {
              "color": "white"
             }
            },
            "type": "table"
           }
          ]
         },
         "layout": {
          "annotationdefaults": {
           "arrowcolor": "#2a3f5f",
           "arrowhead": 0,
           "arrowwidth": 1
          },
          "coloraxis": {
           "colorbar": {
            "outlinewidth": 0,
            "ticks": ""
           }
          },
          "colorscale": {
           "diverging": [
            [
             0,
             "#8e0152"
            ],
            [
             0.1,
             "#c51b7d"
            ],
            [
             0.2,
             "#de77ae"
            ],
            [
             0.3,
             "#f1b6da"
            ],
            [
             0.4,
             "#fde0ef"
            ],
            [
             0.5,
             "#f7f7f7"
            ],
            [
             0.6,
             "#e6f5d0"
            ],
            [
             0.7,
             "#b8e186"
            ],
            [
             0.8,
             "#7fbc41"
            ],
            [
             0.9,
             "#4d9221"
            ],
            [
             1,
             "#276419"
            ]
           ],
           "sequential": [
            [
             0,
             "#0d0887"
            ],
            [
             0.1111111111111111,
             "#46039f"
            ],
            [
             0.2222222222222222,
             "#7201a8"
            ],
            [
             0.3333333333333333,
             "#9c179e"
            ],
            [
             0.4444444444444444,
             "#bd3786"
            ],
            [
             0.5555555555555556,
             "#d8576b"
            ],
            [
             0.6666666666666666,
             "#ed7953"
            ],
            [
             0.7777777777777778,
             "#fb9f3a"
            ],
            [
             0.8888888888888888,
             "#fdca26"
            ],
            [
             1,
             "#f0f921"
            ]
           ],
           "sequentialminus": [
            [
             0,
             "#0d0887"
            ],
            [
             0.1111111111111111,
             "#46039f"
            ],
            [
             0.2222222222222222,
             "#7201a8"
            ],
            [
             0.3333333333333333,
             "#9c179e"
            ],
            [
             0.4444444444444444,
             "#bd3786"
            ],
            [
             0.5555555555555556,
             "#d8576b"
            ],
            [
             0.6666666666666666,
             "#ed7953"
            ],
            [
             0.7777777777777778,
             "#fb9f3a"
            ],
            [
             0.8888888888888888,
             "#fdca26"
            ],
            [
             1,
             "#f0f921"
            ]
           ]
          },
          "colorway": [
           "#636efa",
           "#EF553B",
           "#00cc96",
           "#ab63fa",
           "#FFA15A",
           "#19d3f3",
           "#FF6692",
           "#B6E880",
           "#FF97FF",
           "#FECB52"
          ],
          "font": {
           "color": "#2a3f5f"
          },
          "geo": {
           "bgcolor": "white",
           "lakecolor": "white",
           "landcolor": "#E5ECF6",
           "showlakes": true,
           "showland": true,
           "subunitcolor": "white"
          },
          "hoverlabel": {
           "align": "left"
          },
          "hovermode": "closest",
          "mapbox": {
           "style": "light"
          },
          "paper_bgcolor": "white",
          "plot_bgcolor": "#E5ECF6",
          "polar": {
           "angularaxis": {
            "gridcolor": "white",
            "linecolor": "white",
            "ticks": ""
           },
           "bgcolor": "#E5ECF6",
           "radialaxis": {
            "gridcolor": "white",
            "linecolor": "white",
            "ticks": ""
           }
          },
          "scene": {
           "xaxis": {
            "backgroundcolor": "#E5ECF6",
            "gridcolor": "white",
            "gridwidth": 2,
            "linecolor": "white",
            "showbackground": true,
            "ticks": "",
            "zerolinecolor": "white"
           },
           "yaxis": {
            "backgroundcolor": "#E5ECF6",
            "gridcolor": "white",
            "gridwidth": 2,
            "linecolor": "white",
            "showbackground": true,
            "ticks": "",
            "zerolinecolor": "white"
           },
           "zaxis": {
            "backgroundcolor": "#E5ECF6",
            "gridcolor": "white",
            "gridwidth": 2,
            "linecolor": "white",
            "showbackground": true,
            "ticks": "",
            "zerolinecolor": "white"
           }
          },
          "shapedefaults": {
           "line": {
            "color": "#2a3f5f"
           }
          },
          "ternary": {
           "aaxis": {
            "gridcolor": "white",
            "linecolor": "white",
            "ticks": ""
           },
           "baxis": {
            "gridcolor": "white",
            "linecolor": "white",
            "ticks": ""
           },
           "bgcolor": "#E5ECF6",
           "caxis": {
            "gridcolor": "white",
            "linecolor": "white",
            "ticks": ""
           }
          },
          "title": {
           "x": 0.05
          },
          "xaxis": {
           "automargin": true,
           "gridcolor": "white",
           "linecolor": "white",
           "ticks": "",
           "title": {
            "standoff": 15
           },
           "zerolinecolor": "white",
           "zerolinewidth": 2
          },
          "yaxis": {
           "automargin": true,
           "gridcolor": "white",
           "linecolor": "white",
           "ticks": "",
           "title": {
            "standoff": 15
           },
           "zerolinecolor": "white",
           "zerolinewidth": 2
          }
         }
        },
        "title": {
         "font": {
          "color": "#4D5663"
         },
         "text": "Top 100 words after removing stop words"
        },
        "xaxis": {
         "gridcolor": "#E1E5ED",
         "linecolor": "black",
         "showgrid": true,
         "tickfont": {
          "color": "#4D5663"
         },
         "title": {
          "font": {
           "color": "#4D5663"
          },
          "text": ""
         },
         "zerolinecolor": "#E1E5ED"
        },
        "yaxis": {
         "gridcolor": "#E1E5ED",
         "linecolor": "black",
         "showgrid": true,
         "tickfont": {
          "color": "#4D5663"
         },
         "title": {
          "font": {
           "color": "#4D5663"
          },
          "text": "Count"
         },
         "zerolinecolor": "#E1E5ED"
        }
       }
      },
      "text/html": [
       "<div>\n",
       "        \n",
       "        \n",
       "            <div id=\"f561803c-7961-4d9d-ae11-86051bd3672a\" class=\"plotly-graph-div\" style=\"height:525px; width:100%;\"></div>\n",
       "            <script type=\"text/javascript\">\n",
       "                require([\"plotly\"], function(Plotly) {\n",
       "                    window.PLOTLYENV=window.PLOTLYENV || {};\n",
       "                    window.PLOTLYENV.BASE_URL='https://plot.ly';\n",
       "                    \n",
       "                if (document.getElementById(\"f561803c-7961-4d9d-ae11-86051bd3672a\")) {\n",
       "                    Plotly.newPlot(\n",
       "                        'f561803c-7961-4d9d-ae11-86051bd3672a',\n",
       "                        [{\"marker\": {\"color\": \"rgba(255, 153, 51, 0.6)\", \"line\": {\"color\": \"rgba(255, 153, 51, 1.0)\", \"width\": 1}}, \"name\": \"count\", \"orientation\": \"v\", \"text\": \"\", \"type\": \"bar\", \"x\": [\"business\", \"loan\", \"child\", \"year\", \"sell\", \"buy\", \"also\", \"school\", \"work\", \"old\", \"use\", \"family\", \"make\", \"able\", \"start\", \"group\", \"help\", \"small\", \"live\", \"purchase\", \"product\", \"income\", \"husband\", \"increase\", \"home\", \"community\", \"well\", \"customer\", \"woman\", \"good\", \"need\", \"order\", \"hope\", \"request\", \"pay\", \"expand\", \"member\", \"stock\", \"marry\", \"grow\", \"new\", \"want\", \"people\", \"time\", \"store\", \"provide\", \"farmer\", \"get\", \"many\", \"client\", \"clothing\", \"go\", \"area\", \"support\", \"money\", \"entrepreneur\", \"improve\", \"give\", \"market\", \"hard\", \"shop\", \"sale\", \"first\", \"ago\", \"invest\", \"run\", \"food\", \"mother\", \"plan\", \"take\", \"profit\", \"life\", \"high\", \"continue\", \"service\", \"education\", \"capital\", \"farm\", \"local\", \"rice\", \"clothe\", \"young\", \"repay\", \"month\", \"fee\", \"married\", \"item\", \"wife\", \"demand\", \"enable\", \"operate\", \"large\", \"usd\", \"say\", \"receive\", \"meet\", \"offer\", \"day\", \"supply\", \"still\"], \"y\": [1900, 1840, 1193, 1148, 1094, 793, 647, 643, 614, 594, 591, 590, 526, 516, 488, 477, 476, 475, 451, 390, 389, 359, 359, 350, 330, 321, 317, 315, 315, 304, 295, 288, 275, 273, 263, 261, 251, 248, 248, 247, 245, 245, 242, 240, 235, 233, 223, 221, 217, 214, 213, 212, 212, 212, 209, 206, 200, 200, 194, 191, 187, 185, 184, 184, 180, 179, 174, 174, 172, 172, 171, 167, 165, 160, 159, 158, 157, 157, 156, 154, 153, 146, 145, 144, 142, 142, 142, 141, 140, 139, 137, 136, 134, 132, 132, 130, 127, 127, 126, 126]}],\n",
       "                        {\"legend\": {\"bgcolor\": \"#F5F6F9\", \"font\": {\"color\": \"#4D5663\"}}, \"paper_bgcolor\": \"#F5F6F9\", \"plot_bgcolor\": \"#F5F6F9\", \"template\": {\"data\": {\"bar\": [{\"error_x\": {\"color\": \"#2a3f5f\"}, \"error_y\": {\"color\": \"#2a3f5f\"}, \"marker\": {\"line\": {\"color\": \"#E5ECF6\", \"width\": 0.5}}, \"type\": \"bar\"}], \"barpolar\": [{\"marker\": {\"line\": {\"color\": \"#E5ECF6\", \"width\": 0.5}}, \"type\": \"barpolar\"}], \"carpet\": [{\"aaxis\": {\"endlinecolor\": \"#2a3f5f\", \"gridcolor\": \"white\", \"linecolor\": \"white\", \"minorgridcolor\": \"white\", \"startlinecolor\": \"#2a3f5f\"}, \"baxis\": {\"endlinecolor\": \"#2a3f5f\", \"gridcolor\": \"white\", \"linecolor\": \"white\", \"minorgridcolor\": \"white\", \"startlinecolor\": \"#2a3f5f\"}, \"type\": \"carpet\"}], \"choropleth\": [{\"colorbar\": {\"outlinewidth\": 0, \"ticks\": \"\"}, \"type\": \"choropleth\"}], \"contour\": [{\"colorbar\": {\"outlinewidth\": 0, \"ticks\": \"\"}, \"colorscale\": [[0.0, \"#0d0887\"], [0.1111111111111111, \"#46039f\"], [0.2222222222222222, \"#7201a8\"], [0.3333333333333333, \"#9c179e\"], [0.4444444444444444, \"#bd3786\"], [0.5555555555555556, \"#d8576b\"], [0.6666666666666666, \"#ed7953\"], [0.7777777777777778, \"#fb9f3a\"], [0.8888888888888888, \"#fdca26\"], [1.0, \"#f0f921\"]], \"type\": \"contour\"}], \"contourcarpet\": [{\"colorbar\": {\"outlinewidth\": 0, \"ticks\": \"\"}, \"type\": \"contourcarpet\"}], \"heatmap\": [{\"colorbar\": {\"outlinewidth\": 0, \"ticks\": \"\"}, \"colorscale\": [[0.0, \"#0d0887\"], [0.1111111111111111, \"#46039f\"], [0.2222222222222222, \"#7201a8\"], [0.3333333333333333, \"#9c179e\"], [0.4444444444444444, \"#bd3786\"], [0.5555555555555556, \"#d8576b\"], [0.6666666666666666, \"#ed7953\"], [0.7777777777777778, \"#fb9f3a\"], [0.8888888888888888, \"#fdca26\"], [1.0, \"#f0f921\"]], \"type\": \"heatmap\"}], \"heatmapgl\": [{\"colorbar\": {\"outlinewidth\": 0, \"ticks\": \"\"}, \"colorscale\": [[0.0, \"#0d0887\"], [0.1111111111111111, \"#46039f\"], [0.2222222222222222, \"#7201a8\"], [0.3333333333333333, \"#9c179e\"], [0.4444444444444444, \"#bd3786\"], [0.5555555555555556, \"#d8576b\"], [0.6666666666666666, \"#ed7953\"], [0.7777777777777778, \"#fb9f3a\"], [0.8888888888888888, \"#fdca26\"], [1.0, \"#f0f921\"]], \"type\": \"heatmapgl\"}], \"histogram\": [{\"marker\": {\"colorbar\": {\"outlinewidth\": 0, \"ticks\": \"\"}}, \"type\": \"histogram\"}], \"histogram2d\": [{\"colorbar\": {\"outlinewidth\": 0, \"ticks\": \"\"}, \"colorscale\": [[0.0, \"#0d0887\"], [0.1111111111111111, \"#46039f\"], [0.2222222222222222, \"#7201a8\"], [0.3333333333333333, \"#9c179e\"], [0.4444444444444444, \"#bd3786\"], [0.5555555555555556, \"#d8576b\"], [0.6666666666666666, \"#ed7953\"], [0.7777777777777778, \"#fb9f3a\"], [0.8888888888888888, \"#fdca26\"], [1.0, \"#f0f921\"]], \"type\": \"histogram2d\"}], \"histogram2dcontour\": [{\"colorbar\": {\"outlinewidth\": 0, \"ticks\": \"\"}, \"colorscale\": [[0.0, \"#0d0887\"], [0.1111111111111111, \"#46039f\"], [0.2222222222222222, \"#7201a8\"], [0.3333333333333333, \"#9c179e\"], [0.4444444444444444, \"#bd3786\"], [0.5555555555555556, \"#d8576b\"], [0.6666666666666666, \"#ed7953\"], [0.7777777777777778, \"#fb9f3a\"], [0.8888888888888888, \"#fdca26\"], [1.0, \"#f0f921\"]], \"type\": \"histogram2dcontour\"}], \"mesh3d\": [{\"colorbar\": {\"outlinewidth\": 0, \"ticks\": \"\"}, \"type\": \"mesh3d\"}], \"parcoords\": [{\"line\": {\"colorbar\": {\"outlinewidth\": 0, \"ticks\": \"\"}}, \"type\": \"parcoords\"}], \"pie\": [{\"automargin\": true, \"type\": \"pie\"}], \"scatter\": [{\"marker\": {\"colorbar\": {\"outlinewidth\": 0, \"ticks\": \"\"}}, \"type\": \"scatter\"}], \"scatter3d\": [{\"line\": {\"colorbar\": {\"outlinewidth\": 0, \"ticks\": \"\"}}, \"marker\": {\"colorbar\": {\"outlinewidth\": 0, \"ticks\": \"\"}}, \"type\": \"scatter3d\"}], \"scattercarpet\": [{\"marker\": {\"colorbar\": {\"outlinewidth\": 0, \"ticks\": \"\"}}, \"type\": \"scattercarpet\"}], \"scattergeo\": [{\"marker\": {\"colorbar\": {\"outlinewidth\": 0, \"ticks\": \"\"}}, \"type\": \"scattergeo\"}], \"scattergl\": [{\"marker\": {\"colorbar\": {\"outlinewidth\": 0, \"ticks\": \"\"}}, \"type\": \"scattergl\"}], \"scattermapbox\": [{\"marker\": {\"colorbar\": {\"outlinewidth\": 0, \"ticks\": \"\"}}, \"type\": \"scattermapbox\"}], \"scatterpolar\": [{\"marker\": {\"colorbar\": {\"outlinewidth\": 0, \"ticks\": \"\"}}, \"type\": \"scatterpolar\"}], \"scatterpolargl\": [{\"marker\": {\"colorbar\": {\"outlinewidth\": 0, \"ticks\": \"\"}}, \"type\": \"scatterpolargl\"}], \"scatterternary\": [{\"marker\": {\"colorbar\": {\"outlinewidth\": 0, \"ticks\": \"\"}}, \"type\": \"scatterternary\"}], \"surface\": [{\"colorbar\": {\"outlinewidth\": 0, \"ticks\": \"\"}, \"colorscale\": [[0.0, \"#0d0887\"], [0.1111111111111111, \"#46039f\"], [0.2222222222222222, \"#7201a8\"], [0.3333333333333333, \"#9c179e\"], [0.4444444444444444, \"#bd3786\"], [0.5555555555555556, \"#d8576b\"], [0.6666666666666666, \"#ed7953\"], [0.7777777777777778, \"#fb9f3a\"], [0.8888888888888888, \"#fdca26\"], [1.0, \"#f0f921\"]], \"type\": \"surface\"}], \"table\": [{\"cells\": {\"fill\": {\"color\": \"#EBF0F8\"}, \"line\": {\"color\": \"white\"}}, \"header\": {\"fill\": {\"color\": \"#C8D4E3\"}, \"line\": {\"color\": \"white\"}}, \"type\": \"table\"}]}, \"layout\": {\"annotationdefaults\": {\"arrowcolor\": \"#2a3f5f\", \"arrowhead\": 0, \"arrowwidth\": 1}, \"coloraxis\": {\"colorbar\": {\"outlinewidth\": 0, \"ticks\": \"\"}}, \"colorscale\": {\"diverging\": [[0, \"#8e0152\"], [0.1, \"#c51b7d\"], [0.2, \"#de77ae\"], [0.3, \"#f1b6da\"], [0.4, \"#fde0ef\"], [0.5, \"#f7f7f7\"], [0.6, \"#e6f5d0\"], [0.7, \"#b8e186\"], [0.8, \"#7fbc41\"], [0.9, \"#4d9221\"], [1, \"#276419\"]], \"sequential\": [[0.0, \"#0d0887\"], [0.1111111111111111, \"#46039f\"], [0.2222222222222222, \"#7201a8\"], [0.3333333333333333, \"#9c179e\"], [0.4444444444444444, \"#bd3786\"], [0.5555555555555556, \"#d8576b\"], [0.6666666666666666, \"#ed7953\"], [0.7777777777777778, \"#fb9f3a\"], [0.8888888888888888, \"#fdca26\"], [1.0, \"#f0f921\"]], \"sequentialminus\": [[0.0, \"#0d0887\"], [0.1111111111111111, \"#46039f\"], [0.2222222222222222, \"#7201a8\"], [0.3333333333333333, \"#9c179e\"], [0.4444444444444444, \"#bd3786\"], [0.5555555555555556, \"#d8576b\"], [0.6666666666666666, \"#ed7953\"], [0.7777777777777778, \"#fb9f3a\"], [0.8888888888888888, \"#fdca26\"], [1.0, \"#f0f921\"]]}, \"colorway\": [\"#636efa\", \"#EF553B\", \"#00cc96\", \"#ab63fa\", \"#FFA15A\", \"#19d3f3\", \"#FF6692\", \"#B6E880\", \"#FF97FF\", \"#FECB52\"], \"font\": {\"color\": \"#2a3f5f\"}, \"geo\": {\"bgcolor\": \"white\", \"lakecolor\": \"white\", \"landcolor\": \"#E5ECF6\", \"showlakes\": true, \"showland\": true, \"subunitcolor\": \"white\"}, \"hoverlabel\": {\"align\": \"left\"}, \"hovermode\": \"closest\", \"mapbox\": {\"style\": \"light\"}, \"paper_bgcolor\": \"white\", \"plot_bgcolor\": \"#E5ECF6\", \"polar\": {\"angularaxis\": {\"gridcolor\": \"white\", \"linecolor\": \"white\", \"ticks\": \"\"}, \"bgcolor\": \"#E5ECF6\", \"radialaxis\": {\"gridcolor\": \"white\", \"linecolor\": \"white\", \"ticks\": \"\"}}, \"scene\": {\"xaxis\": {\"backgroundcolor\": \"#E5ECF6\", \"gridcolor\": \"white\", \"gridwidth\": 2, \"linecolor\": \"white\", \"showbackground\": true, \"ticks\": \"\", \"zerolinecolor\": \"white\"}, \"yaxis\": {\"backgroundcolor\": \"#E5ECF6\", \"gridcolor\": \"white\", \"gridwidth\": 2, \"linecolor\": \"white\", \"showbackground\": true, \"ticks\": \"\", \"zerolinecolor\": \"white\"}, \"zaxis\": {\"backgroundcolor\": \"#E5ECF6\", \"gridcolor\": \"white\", \"gridwidth\": 2, \"linecolor\": \"white\", \"showbackground\": true, \"ticks\": \"\", \"zerolinecolor\": \"white\"}}, \"shapedefaults\": {\"line\": {\"color\": \"#2a3f5f\"}}, \"ternary\": {\"aaxis\": {\"gridcolor\": \"white\", \"linecolor\": \"white\", \"ticks\": \"\"}, \"baxis\": {\"gridcolor\": \"white\", \"linecolor\": \"white\", \"ticks\": \"\"}, \"bgcolor\": \"#E5ECF6\", \"caxis\": {\"gridcolor\": \"white\", \"linecolor\": \"white\", \"ticks\": \"\"}}, \"title\": {\"x\": 0.05}, \"xaxis\": {\"automargin\": true, \"gridcolor\": \"white\", \"linecolor\": \"white\", \"ticks\": \"\", \"title\": {\"standoff\": 15}, \"zerolinecolor\": \"white\", \"zerolinewidth\": 2}, \"yaxis\": {\"automargin\": true, \"gridcolor\": \"white\", \"linecolor\": \"white\", \"ticks\": \"\", \"title\": {\"standoff\": 15}, \"zerolinecolor\": \"white\", \"zerolinewidth\": 2}}}, \"title\": {\"font\": {\"color\": \"#4D5663\"}, \"text\": \"Top 100 words after removing stop words\"}, \"xaxis\": {\"gridcolor\": \"#E1E5ED\", \"linecolor\": \"black\", \"showgrid\": true, \"tickfont\": {\"color\": \"#4D5663\"}, \"title\": {\"font\": {\"color\": \"#4D5663\"}, \"text\": \"\"}, \"zerolinecolor\": \"#E1E5ED\"}, \"yaxis\": {\"gridcolor\": \"#E1E5ED\", \"linecolor\": \"black\", \"showgrid\": true, \"tickfont\": {\"color\": \"#4D5663\"}, \"title\": {\"font\": {\"color\": \"#4D5663\"}, \"text\": \"Count\"}, \"zerolinecolor\": \"#E1E5ED\"}},\n",
       "                        {\"showLink\": true, \"linkText\": \"Export to plot.ly\", \"plotlyServerURL\": \"https://plot.ly\", \"responsive\": true}\n",
       "                    ).then(function(){\n",
       "                            \n",
       "var gd = document.getElementById('f561803c-7961-4d9d-ae11-86051bd3672a');\n",
       "var x = new MutationObserver(function (mutations, observer) {{\n",
       "        var display = window.getComputedStyle(gd).display;\n",
       "        if (!display || display === 'none') {{\n",
       "            console.log([gd, 'removed!']);\n",
       "            Plotly.purge(gd);\n",
       "            observer.disconnect();\n",
       "        }}\n",
       "}});\n",
       "\n",
       "// Listen for the removal of the full notebook cells\n",
       "var notebookContainer = gd.closest('#notebook-container');\n",
       "if (notebookContainer) {{\n",
       "    x.observe(notebookContainer, {childList: true});\n",
       "}}\n",
       "\n",
       "// Listen for the clearing of the current output cell\n",
       "var outputEl = gd.closest('.output');\n",
       "if (outputEl) {{\n",
       "    x.observe(outputEl, {childList: true});\n",
       "}}\n",
       "\n",
       "                        })\n",
       "                };\n",
       "                });\n",
       "            </script>\n",
       "        </div>"
      ]
     },
     "metadata": {},
     "output_type": "display_data"
    }
   ],
   "source": [
    "plot_model()"
   ]
  },
  {
   "cell_type": "markdown",
   "metadata": {},
   "source": [
    "### 9.2 Top 100 Bigrams on Entire Corpus"
   ]
  },
  {
   "cell_type": "code",
   "execution_count": 20,
   "metadata": {},
   "outputs": [
    {
     "data": {
      "text/html": [
       "        <script type=\"text/javascript\">\n",
       "        window.PlotlyConfig = {MathJaxConfig: 'local'};\n",
       "        if (window.MathJax) {MathJax.Hub.Config({SVG: {font: \"STIX-Web\"}});}\n",
       "        if (typeof require !== 'undefined') {\n",
       "        require.undef(\"plotly\");\n",
       "        requirejs.config({\n",
       "            paths: {\n",
       "                'plotly': ['https://cdn.plot.ly/plotly-latest.min']\n",
       "            }\n",
       "        });\n",
       "        require(['plotly'], function(Plotly) {\n",
       "            window._Plotly = Plotly;\n",
       "        });\n",
       "        }\n",
       "        </script>\n",
       "        "
      ]
     },
     "metadata": {},
     "output_type": "display_data"
    },
    {
     "data": {
      "application/vnd.plotly.v1+json": {
       "config": {
        "linkText": "Export to plot.ly",
        "plotlyServerURL": "https://plot.ly",
        "showLink": true
       },
       "data": [
        {
         "marker": {
          "color": "rgba(255, 153, 51, 0.6)",
          "line": {
           "color": "rgba(255, 153, 51, 1.0)",
           "width": 1
          }
         },
         "name": "count",
         "orientation": "v",
         "text": "",
         "type": "bar",
         "x": [
          "year old",
          "request loan",
          "start business",
          "marry child",
          "year ago",
          "loan buy",
          "expand business",
          "use loan",
          "business year",
          "school fee",
          "loan use",
          "old child",
          "first loan",
          "old married",
          "child school",
          "repay loan",
          "loan usd",
          "second loan",
          "business sell",
          "work hard",
          "old marry",
          "small business",
          "mother child",
          "hard work",
          "loan purchase",
          "married child",
          "primary school",
          "business able",
          "pay school",
          "use buy",
          "support family",
          "educate child",
          "secondary school",
          "increase income",
          "woman group",
          "increase stock",
          "loan order",
          "child live",
          "run business",
          "sell clothing",
          "start small",
          "need loan",
          "last year",
          "business training_educational_programs_information",
          "training_educational_programs_information microfinance_ecuador_services_please",
          "loan able",
          "business grow",
          "group member",
          "start sell",
          "help business",
          "microfinance_ecuador_services_please mifex_org_www_mifex",
          "mifex_org_www_mifex org",
          "year experience",
          "husband child",
          "also sell",
          "able buy",
          "sell product",
          "operate business",
          "farmer also",
          "high school",
          "business help",
          "child child",
          "apply loan",
          "give loan",
          "mifex_offers_client business",
          "begin business",
          "child age",
          "go school",
          "receive loan",
          "willing_repay loan",
          "husband work",
          "loan help",
          "business description",
          "provide family",
          "member group",
          "attend school",
          "child primary",
          "old mother",
          "business selling",
          "loan risk_willing_accept_additional",
          "loan invest",
          "risk_willing_accept_additional risk_making",
          "local_businesses_lender loan",
          "many local_businesses_lender",
          "risk_making loan",
          "communities_remains_unsettled_affecting many",
          "disclaimer_due_recent_event kenya_security_situation_many",
          "family need",
          "fee child",
          "loan pemci",
          "rice farmer",
          "pay loan",
          "kenya_security_situation_many communities_remains_unsettled_affecting",
          "child also",
          "able provide",
          "business loan",
          "plan use",
          "grow business",
          "high demand",
          "live child"
         ],
         "y": [
          478,
          188,
          172,
          168,
          162,
          152,
          149,
          141,
          111,
          105,
          97,
          94,
          93,
          89,
          88,
          84,
          76,
          72,
          70,
          70,
          67,
          66,
          65,
          65,
          65,
          61,
          60,
          58,
          58,
          57,
          56,
          56,
          55,
          53,
          53,
          51,
          51,
          50,
          49,
          48,
          47,
          47,
          47,
          46,
          46,
          46,
          46,
          46,
          45,
          44,
          44,
          44,
          43,
          41,
          41,
          41,
          41,
          40,
          40,
          40,
          40,
          39,
          39,
          38,
          38,
          38,
          38,
          37,
          37,
          37,
          37,
          37,
          36,
          36,
          35,
          34,
          33,
          33,
          33,
          32,
          32,
          32,
          32,
          32,
          32,
          31,
          31,
          31,
          31,
          30,
          30,
          30,
          30,
          29,
          29,
          28,
          28,
          28,
          28,
          28
         ]
        }
       ],
       "layout": {
        "legend": {
         "bgcolor": "#F5F6F9",
         "font": {
          "color": "#4D5663"
         }
        },
        "paper_bgcolor": "#F5F6F9",
        "plot_bgcolor": "#F5F6F9",
        "template": {
         "data": {
          "bar": [
           {
            "error_x": {
             "color": "#2a3f5f"
            },
            "error_y": {
             "color": "#2a3f5f"
            },
            "marker": {
             "line": {
              "color": "#E5ECF6",
              "width": 0.5
             }
            },
            "type": "bar"
           }
          ],
          "barpolar": [
           {
            "marker": {
             "line": {
              "color": "#E5ECF6",
              "width": 0.5
             }
            },
            "type": "barpolar"
           }
          ],
          "carpet": [
           {
            "aaxis": {
             "endlinecolor": "#2a3f5f",
             "gridcolor": "white",
             "linecolor": "white",
             "minorgridcolor": "white",
             "startlinecolor": "#2a3f5f"
            },
            "baxis": {
             "endlinecolor": "#2a3f5f",
             "gridcolor": "white",
             "linecolor": "white",
             "minorgridcolor": "white",
             "startlinecolor": "#2a3f5f"
            },
            "type": "carpet"
           }
          ],
          "choropleth": [
           {
            "colorbar": {
             "outlinewidth": 0,
             "ticks": ""
            },
            "type": "choropleth"
           }
          ],
          "contour": [
           {
            "colorbar": {
             "outlinewidth": 0,
             "ticks": ""
            },
            "colorscale": [
             [
              0,
              "#0d0887"
             ],
             [
              0.1111111111111111,
              "#46039f"
             ],
             [
              0.2222222222222222,
              "#7201a8"
             ],
             [
              0.3333333333333333,
              "#9c179e"
             ],
             [
              0.4444444444444444,
              "#bd3786"
             ],
             [
              0.5555555555555556,
              "#d8576b"
             ],
             [
              0.6666666666666666,
              "#ed7953"
             ],
             [
              0.7777777777777778,
              "#fb9f3a"
             ],
             [
              0.8888888888888888,
              "#fdca26"
             ],
             [
              1,
              "#f0f921"
             ]
            ],
            "type": "contour"
           }
          ],
          "contourcarpet": [
           {
            "colorbar": {
             "outlinewidth": 0,
             "ticks": ""
            },
            "type": "contourcarpet"
           }
          ],
          "heatmap": [
           {
            "colorbar": {
             "outlinewidth": 0,
             "ticks": ""
            },
            "colorscale": [
             [
              0,
              "#0d0887"
             ],
             [
              0.1111111111111111,
              "#46039f"
             ],
             [
              0.2222222222222222,
              "#7201a8"
             ],
             [
              0.3333333333333333,
              "#9c179e"
             ],
             [
              0.4444444444444444,
              "#bd3786"
             ],
             [
              0.5555555555555556,
              "#d8576b"
             ],
             [
              0.6666666666666666,
              "#ed7953"
             ],
             [
              0.7777777777777778,
              "#fb9f3a"
             ],
             [
              0.8888888888888888,
              "#fdca26"
             ],
             [
              1,
              "#f0f921"
             ]
            ],
            "type": "heatmap"
           }
          ],
          "heatmapgl": [
           {
            "colorbar": {
             "outlinewidth": 0,
             "ticks": ""
            },
            "colorscale": [
             [
              0,
              "#0d0887"
             ],
             [
              0.1111111111111111,
              "#46039f"
             ],
             [
              0.2222222222222222,
              "#7201a8"
             ],
             [
              0.3333333333333333,
              "#9c179e"
             ],
             [
              0.4444444444444444,
              "#bd3786"
             ],
             [
              0.5555555555555556,
              "#d8576b"
             ],
             [
              0.6666666666666666,
              "#ed7953"
             ],
             [
              0.7777777777777778,
              "#fb9f3a"
             ],
             [
              0.8888888888888888,
              "#fdca26"
             ],
             [
              1,
              "#f0f921"
             ]
            ],
            "type": "heatmapgl"
           }
          ],
          "histogram": [
           {
            "marker": {
             "colorbar": {
              "outlinewidth": 0,
              "ticks": ""
             }
            },
            "type": "histogram"
           }
          ],
          "histogram2d": [
           {
            "colorbar": {
             "outlinewidth": 0,
             "ticks": ""
            },
            "colorscale": [
             [
              0,
              "#0d0887"
             ],
             [
              0.1111111111111111,
              "#46039f"
             ],
             [
              0.2222222222222222,
              "#7201a8"
             ],
             [
              0.3333333333333333,
              "#9c179e"
             ],
             [
              0.4444444444444444,
              "#bd3786"
             ],
             [
              0.5555555555555556,
              "#d8576b"
             ],
             [
              0.6666666666666666,
              "#ed7953"
             ],
             [
              0.7777777777777778,
              "#fb9f3a"
             ],
             [
              0.8888888888888888,
              "#fdca26"
             ],
             [
              1,
              "#f0f921"
             ]
            ],
            "type": "histogram2d"
           }
          ],
          "histogram2dcontour": [
           {
            "colorbar": {
             "outlinewidth": 0,
             "ticks": ""
            },
            "colorscale": [
             [
              0,
              "#0d0887"
             ],
             [
              0.1111111111111111,
              "#46039f"
             ],
             [
              0.2222222222222222,
              "#7201a8"
             ],
             [
              0.3333333333333333,
              "#9c179e"
             ],
             [
              0.4444444444444444,
              "#bd3786"
             ],
             [
              0.5555555555555556,
              "#d8576b"
             ],
             [
              0.6666666666666666,
              "#ed7953"
             ],
             [
              0.7777777777777778,
              "#fb9f3a"
             ],
             [
              0.8888888888888888,
              "#fdca26"
             ],
             [
              1,
              "#f0f921"
             ]
            ],
            "type": "histogram2dcontour"
           }
          ],
          "mesh3d": [
           {
            "colorbar": {
             "outlinewidth": 0,
             "ticks": ""
            },
            "type": "mesh3d"
           }
          ],
          "parcoords": [
           {
            "line": {
             "colorbar": {
              "outlinewidth": 0,
              "ticks": ""
             }
            },
            "type": "parcoords"
           }
          ],
          "pie": [
           {
            "automargin": true,
            "type": "pie"
           }
          ],
          "scatter": [
           {
            "marker": {
             "colorbar": {
              "outlinewidth": 0,
              "ticks": ""
             }
            },
            "type": "scatter"
           }
          ],
          "scatter3d": [
           {
            "line": {
             "colorbar": {
              "outlinewidth": 0,
              "ticks": ""
             }
            },
            "marker": {
             "colorbar": {
              "outlinewidth": 0,
              "ticks": ""
             }
            },
            "type": "scatter3d"
           }
          ],
          "scattercarpet": [
           {
            "marker": {
             "colorbar": {
              "outlinewidth": 0,
              "ticks": ""
             }
            },
            "type": "scattercarpet"
           }
          ],
          "scattergeo": [
           {
            "marker": {
             "colorbar": {
              "outlinewidth": 0,
              "ticks": ""
             }
            },
            "type": "scattergeo"
           }
          ],
          "scattergl": [
           {
            "marker": {
             "colorbar": {
              "outlinewidth": 0,
              "ticks": ""
             }
            },
            "type": "scattergl"
           }
          ],
          "scattermapbox": [
           {
            "marker": {
             "colorbar": {
              "outlinewidth": 0,
              "ticks": ""
             }
            },
            "type": "scattermapbox"
           }
          ],
          "scatterpolar": [
           {
            "marker": {
             "colorbar": {
              "outlinewidth": 0,
              "ticks": ""
             }
            },
            "type": "scatterpolar"
           }
          ],
          "scatterpolargl": [
           {
            "marker": {
             "colorbar": {
              "outlinewidth": 0,
              "ticks": ""
             }
            },
            "type": "scatterpolargl"
           }
          ],
          "scatterternary": [
           {
            "marker": {
             "colorbar": {
              "outlinewidth": 0,
              "ticks": ""
             }
            },
            "type": "scatterternary"
           }
          ],
          "surface": [
           {
            "colorbar": {
             "outlinewidth": 0,
             "ticks": ""
            },
            "colorscale": [
             [
              0,
              "#0d0887"
             ],
             [
              0.1111111111111111,
              "#46039f"
             ],
             [
              0.2222222222222222,
              "#7201a8"
             ],
             [
              0.3333333333333333,
              "#9c179e"
             ],
             [
              0.4444444444444444,
              "#bd3786"
             ],
             [
              0.5555555555555556,
              "#d8576b"
             ],
             [
              0.6666666666666666,
              "#ed7953"
             ],
             [
              0.7777777777777778,
              "#fb9f3a"
             ],
             [
              0.8888888888888888,
              "#fdca26"
             ],
             [
              1,
              "#f0f921"
             ]
            ],
            "type": "surface"
           }
          ],
          "table": [
           {
            "cells": {
             "fill": {
              "color": "#EBF0F8"
             },
             "line": {
              "color": "white"
             }
            },
            "header": {
             "fill": {
              "color": "#C8D4E3"
             },
             "line": {
              "color": "white"
             }
            },
            "type": "table"
           }
          ]
         },
         "layout": {
          "annotationdefaults": {
           "arrowcolor": "#2a3f5f",
           "arrowhead": 0,
           "arrowwidth": 1
          },
          "coloraxis": {
           "colorbar": {
            "outlinewidth": 0,
            "ticks": ""
           }
          },
          "colorscale": {
           "diverging": [
            [
             0,
             "#8e0152"
            ],
            [
             0.1,
             "#c51b7d"
            ],
            [
             0.2,
             "#de77ae"
            ],
            [
             0.3,
             "#f1b6da"
            ],
            [
             0.4,
             "#fde0ef"
            ],
            [
             0.5,
             "#f7f7f7"
            ],
            [
             0.6,
             "#e6f5d0"
            ],
            [
             0.7,
             "#b8e186"
            ],
            [
             0.8,
             "#7fbc41"
            ],
            [
             0.9,
             "#4d9221"
            ],
            [
             1,
             "#276419"
            ]
           ],
           "sequential": [
            [
             0,
             "#0d0887"
            ],
            [
             0.1111111111111111,
             "#46039f"
            ],
            [
             0.2222222222222222,
             "#7201a8"
            ],
            [
             0.3333333333333333,
             "#9c179e"
            ],
            [
             0.4444444444444444,
             "#bd3786"
            ],
            [
             0.5555555555555556,
             "#d8576b"
            ],
            [
             0.6666666666666666,
             "#ed7953"
            ],
            [
             0.7777777777777778,
             "#fb9f3a"
            ],
            [
             0.8888888888888888,
             "#fdca26"
            ],
            [
             1,
             "#f0f921"
            ]
           ],
           "sequentialminus": [
            [
             0,
             "#0d0887"
            ],
            [
             0.1111111111111111,
             "#46039f"
            ],
            [
             0.2222222222222222,
             "#7201a8"
            ],
            [
             0.3333333333333333,
             "#9c179e"
            ],
            [
             0.4444444444444444,
             "#bd3786"
            ],
            [
             0.5555555555555556,
             "#d8576b"
            ],
            [
             0.6666666666666666,
             "#ed7953"
            ],
            [
             0.7777777777777778,
             "#fb9f3a"
            ],
            [
             0.8888888888888888,
             "#fdca26"
            ],
            [
             1,
             "#f0f921"
            ]
           ]
          },
          "colorway": [
           "#636efa",
           "#EF553B",
           "#00cc96",
           "#ab63fa",
           "#FFA15A",
           "#19d3f3",
           "#FF6692",
           "#B6E880",
           "#FF97FF",
           "#FECB52"
          ],
          "font": {
           "color": "#2a3f5f"
          },
          "geo": {
           "bgcolor": "white",
           "lakecolor": "white",
           "landcolor": "#E5ECF6",
           "showlakes": true,
           "showland": true,
           "subunitcolor": "white"
          },
          "hoverlabel": {
           "align": "left"
          },
          "hovermode": "closest",
          "mapbox": {
           "style": "light"
          },
          "paper_bgcolor": "white",
          "plot_bgcolor": "#E5ECF6",
          "polar": {
           "angularaxis": {
            "gridcolor": "white",
            "linecolor": "white",
            "ticks": ""
           },
           "bgcolor": "#E5ECF6",
           "radialaxis": {
            "gridcolor": "white",
            "linecolor": "white",
            "ticks": ""
           }
          },
          "scene": {
           "xaxis": {
            "backgroundcolor": "#E5ECF6",
            "gridcolor": "white",
            "gridwidth": 2,
            "linecolor": "white",
            "showbackground": true,
            "ticks": "",
            "zerolinecolor": "white"
           },
           "yaxis": {
            "backgroundcolor": "#E5ECF6",
            "gridcolor": "white",
            "gridwidth": 2,
            "linecolor": "white",
            "showbackground": true,
            "ticks": "",
            "zerolinecolor": "white"
           },
           "zaxis": {
            "backgroundcolor": "#E5ECF6",
            "gridcolor": "white",
            "gridwidth": 2,
            "linecolor": "white",
            "showbackground": true,
            "ticks": "",
            "zerolinecolor": "white"
           }
          },
          "shapedefaults": {
           "line": {
            "color": "#2a3f5f"
           }
          },
          "ternary": {
           "aaxis": {
            "gridcolor": "white",
            "linecolor": "white",
            "ticks": ""
           },
           "baxis": {
            "gridcolor": "white",
            "linecolor": "white",
            "ticks": ""
           },
           "bgcolor": "#E5ECF6",
           "caxis": {
            "gridcolor": "white",
            "linecolor": "white",
            "ticks": ""
           }
          },
          "title": {
           "x": 0.05
          },
          "xaxis": {
           "automargin": true,
           "gridcolor": "white",
           "linecolor": "white",
           "ticks": "",
           "title": {
            "standoff": 15
           },
           "zerolinecolor": "white",
           "zerolinewidth": 2
          },
          "yaxis": {
           "automargin": true,
           "gridcolor": "white",
           "linecolor": "white",
           "ticks": "",
           "title": {
            "standoff": 15
           },
           "zerolinecolor": "white",
           "zerolinewidth": 2
          }
         }
        },
        "title": {
         "font": {
          "color": "#4D5663"
         },
         "text": "Top 100 bigrams after removing stop words"
        },
        "xaxis": {
         "gridcolor": "#E1E5ED",
         "linecolor": "black",
         "showgrid": true,
         "tickfont": {
          "color": "#4D5663"
         },
         "title": {
          "font": {
           "color": "#4D5663"
          },
          "text": ""
         },
         "zerolinecolor": "#E1E5ED"
        },
        "yaxis": {
         "gridcolor": "#E1E5ED",
         "linecolor": "black",
         "showgrid": true,
         "tickfont": {
          "color": "#4D5663"
         },
         "title": {
          "font": {
           "color": "#4D5663"
          },
          "text": "Count"
         },
         "zerolinecolor": "#E1E5ED"
        }
       }
      },
      "text/html": [
       "<div>\n",
       "        \n",
       "        \n",
       "            <div id=\"f7fa0190-ea12-44ef-950d-dd181f6c51c3\" class=\"plotly-graph-div\" style=\"height:525px; width:100%;\"></div>\n",
       "            <script type=\"text/javascript\">\n",
       "                require([\"plotly\"], function(Plotly) {\n",
       "                    window.PLOTLYENV=window.PLOTLYENV || {};\n",
       "                    window.PLOTLYENV.BASE_URL='https://plot.ly';\n",
       "                    \n",
       "                if (document.getElementById(\"f7fa0190-ea12-44ef-950d-dd181f6c51c3\")) {\n",
       "                    Plotly.newPlot(\n",
       "                        'f7fa0190-ea12-44ef-950d-dd181f6c51c3',\n",
       "                        [{\"marker\": {\"color\": \"rgba(255, 153, 51, 0.6)\", \"line\": {\"color\": \"rgba(255, 153, 51, 1.0)\", \"width\": 1}}, \"name\": \"count\", \"orientation\": \"v\", \"text\": \"\", \"type\": \"bar\", \"x\": [\"year old\", \"request loan\", \"start business\", \"marry child\", \"year ago\", \"loan buy\", \"expand business\", \"use loan\", \"business year\", \"school fee\", \"loan use\", \"old child\", \"first loan\", \"old married\", \"child school\", \"repay loan\", \"loan usd\", \"second loan\", \"business sell\", \"work hard\", \"old marry\", \"small business\", \"mother child\", \"hard work\", \"loan purchase\", \"married child\", \"primary school\", \"business able\", \"pay school\", \"use buy\", \"support family\", \"educate child\", \"secondary school\", \"increase income\", \"woman group\", \"increase stock\", \"loan order\", \"child live\", \"run business\", \"sell clothing\", \"start small\", \"need loan\", \"last year\", \"business training_educational_programs_information\", \"training_educational_programs_information microfinance_ecuador_services_please\", \"loan able\", \"business grow\", \"group member\", \"start sell\", \"help business\", \"microfinance_ecuador_services_please mifex_org_www_mifex\", \"mifex_org_www_mifex org\", \"year experience\", \"husband child\", \"also sell\", \"able buy\", \"sell product\", \"operate business\", \"farmer also\", \"high school\", \"business help\", \"child child\", \"apply loan\", \"give loan\", \"mifex_offers_client business\", \"begin business\", \"child age\", \"go school\", \"receive loan\", \"willing_repay loan\", \"husband work\", \"loan help\", \"business description\", \"provide family\", \"member group\", \"attend school\", \"child primary\", \"old mother\", \"business selling\", \"loan risk_willing_accept_additional\", \"loan invest\", \"risk_willing_accept_additional risk_making\", \"local_businesses_lender loan\", \"many local_businesses_lender\", \"risk_making loan\", \"communities_remains_unsettled_affecting many\", \"disclaimer_due_recent_event kenya_security_situation_many\", \"family need\", \"fee child\", \"loan pemci\", \"rice farmer\", \"pay loan\", \"kenya_security_situation_many communities_remains_unsettled_affecting\", \"child also\", \"able provide\", \"business loan\", \"plan use\", \"grow business\", \"high demand\", \"live child\"], \"y\": [478, 188, 172, 168, 162, 152, 149, 141, 111, 105, 97, 94, 93, 89, 88, 84, 76, 72, 70, 70, 67, 66, 65, 65, 65, 61, 60, 58, 58, 57, 56, 56, 55, 53, 53, 51, 51, 50, 49, 48, 47, 47, 47, 46, 46, 46, 46, 46, 45, 44, 44, 44, 43, 41, 41, 41, 41, 40, 40, 40, 40, 39, 39, 38, 38, 38, 38, 37, 37, 37, 37, 37, 36, 36, 35, 34, 33, 33, 33, 32, 32, 32, 32, 32, 32, 31, 31, 31, 31, 30, 30, 30, 30, 29, 29, 28, 28, 28, 28, 28]}],\n",
       "                        {\"legend\": {\"bgcolor\": \"#F5F6F9\", \"font\": {\"color\": \"#4D5663\"}}, \"paper_bgcolor\": \"#F5F6F9\", \"plot_bgcolor\": \"#F5F6F9\", \"template\": {\"data\": {\"bar\": [{\"error_x\": {\"color\": \"#2a3f5f\"}, \"error_y\": {\"color\": \"#2a3f5f\"}, \"marker\": {\"line\": {\"color\": \"#E5ECF6\", \"width\": 0.5}}, \"type\": \"bar\"}], \"barpolar\": [{\"marker\": {\"line\": {\"color\": \"#E5ECF6\", \"width\": 0.5}}, \"type\": \"barpolar\"}], \"carpet\": [{\"aaxis\": {\"endlinecolor\": \"#2a3f5f\", \"gridcolor\": \"white\", \"linecolor\": \"white\", \"minorgridcolor\": \"white\", \"startlinecolor\": \"#2a3f5f\"}, \"baxis\": {\"endlinecolor\": \"#2a3f5f\", \"gridcolor\": \"white\", \"linecolor\": \"white\", \"minorgridcolor\": \"white\", \"startlinecolor\": \"#2a3f5f\"}, \"type\": \"carpet\"}], \"choropleth\": [{\"colorbar\": {\"outlinewidth\": 0, \"ticks\": \"\"}, \"type\": \"choropleth\"}], \"contour\": [{\"colorbar\": {\"outlinewidth\": 0, \"ticks\": \"\"}, \"colorscale\": [[0.0, \"#0d0887\"], [0.1111111111111111, \"#46039f\"], [0.2222222222222222, \"#7201a8\"], [0.3333333333333333, \"#9c179e\"], [0.4444444444444444, \"#bd3786\"], [0.5555555555555556, \"#d8576b\"], [0.6666666666666666, \"#ed7953\"], [0.7777777777777778, \"#fb9f3a\"], [0.8888888888888888, \"#fdca26\"], [1.0, \"#f0f921\"]], \"type\": \"contour\"}], \"contourcarpet\": [{\"colorbar\": {\"outlinewidth\": 0, \"ticks\": \"\"}, \"type\": \"contourcarpet\"}], \"heatmap\": [{\"colorbar\": {\"outlinewidth\": 0, \"ticks\": \"\"}, \"colorscale\": [[0.0, \"#0d0887\"], [0.1111111111111111, \"#46039f\"], [0.2222222222222222, \"#7201a8\"], [0.3333333333333333, \"#9c179e\"], [0.4444444444444444, \"#bd3786\"], [0.5555555555555556, \"#d8576b\"], [0.6666666666666666, \"#ed7953\"], [0.7777777777777778, \"#fb9f3a\"], [0.8888888888888888, \"#fdca26\"], [1.0, \"#f0f921\"]], \"type\": \"heatmap\"}], \"heatmapgl\": [{\"colorbar\": {\"outlinewidth\": 0, \"ticks\": \"\"}, \"colorscale\": [[0.0, \"#0d0887\"], [0.1111111111111111, \"#46039f\"], [0.2222222222222222, \"#7201a8\"], [0.3333333333333333, \"#9c179e\"], [0.4444444444444444, \"#bd3786\"], [0.5555555555555556, \"#d8576b\"], [0.6666666666666666, \"#ed7953\"], [0.7777777777777778, \"#fb9f3a\"], [0.8888888888888888, \"#fdca26\"], [1.0, \"#f0f921\"]], \"type\": \"heatmapgl\"}], \"histogram\": [{\"marker\": {\"colorbar\": {\"outlinewidth\": 0, \"ticks\": \"\"}}, \"type\": \"histogram\"}], \"histogram2d\": [{\"colorbar\": {\"outlinewidth\": 0, \"ticks\": \"\"}, \"colorscale\": [[0.0, \"#0d0887\"], [0.1111111111111111, \"#46039f\"], [0.2222222222222222, \"#7201a8\"], [0.3333333333333333, \"#9c179e\"], [0.4444444444444444, \"#bd3786\"], [0.5555555555555556, \"#d8576b\"], [0.6666666666666666, \"#ed7953\"], [0.7777777777777778, \"#fb9f3a\"], [0.8888888888888888, \"#fdca26\"], [1.0, \"#f0f921\"]], \"type\": \"histogram2d\"}], \"histogram2dcontour\": [{\"colorbar\": {\"outlinewidth\": 0, \"ticks\": \"\"}, \"colorscale\": [[0.0, \"#0d0887\"], [0.1111111111111111, \"#46039f\"], [0.2222222222222222, \"#7201a8\"], [0.3333333333333333, \"#9c179e\"], [0.4444444444444444, \"#bd3786\"], [0.5555555555555556, \"#d8576b\"], [0.6666666666666666, \"#ed7953\"], [0.7777777777777778, \"#fb9f3a\"], [0.8888888888888888, \"#fdca26\"], [1.0, \"#f0f921\"]], \"type\": \"histogram2dcontour\"}], \"mesh3d\": [{\"colorbar\": {\"outlinewidth\": 0, \"ticks\": \"\"}, \"type\": \"mesh3d\"}], \"parcoords\": [{\"line\": {\"colorbar\": {\"outlinewidth\": 0, \"ticks\": \"\"}}, \"type\": \"parcoords\"}], \"pie\": [{\"automargin\": true, \"type\": \"pie\"}], \"scatter\": [{\"marker\": {\"colorbar\": {\"outlinewidth\": 0, \"ticks\": \"\"}}, \"type\": \"scatter\"}], \"scatter3d\": [{\"line\": {\"colorbar\": {\"outlinewidth\": 0, \"ticks\": \"\"}}, \"marker\": {\"colorbar\": {\"outlinewidth\": 0, \"ticks\": \"\"}}, \"type\": \"scatter3d\"}], \"scattercarpet\": [{\"marker\": {\"colorbar\": {\"outlinewidth\": 0, \"ticks\": \"\"}}, \"type\": \"scattercarpet\"}], \"scattergeo\": [{\"marker\": {\"colorbar\": {\"outlinewidth\": 0, \"ticks\": \"\"}}, \"type\": \"scattergeo\"}], \"scattergl\": [{\"marker\": {\"colorbar\": {\"outlinewidth\": 0, \"ticks\": \"\"}}, \"type\": \"scattergl\"}], \"scattermapbox\": [{\"marker\": {\"colorbar\": {\"outlinewidth\": 0, \"ticks\": \"\"}}, \"type\": \"scattermapbox\"}], \"scatterpolar\": [{\"marker\": {\"colorbar\": {\"outlinewidth\": 0, \"ticks\": \"\"}}, \"type\": \"scatterpolar\"}], \"scatterpolargl\": [{\"marker\": {\"colorbar\": {\"outlinewidth\": 0, \"ticks\": \"\"}}, \"type\": \"scatterpolargl\"}], \"scatterternary\": [{\"marker\": {\"colorbar\": {\"outlinewidth\": 0, \"ticks\": \"\"}}, \"type\": \"scatterternary\"}], \"surface\": [{\"colorbar\": {\"outlinewidth\": 0, \"ticks\": \"\"}, \"colorscale\": [[0.0, \"#0d0887\"], [0.1111111111111111, \"#46039f\"], [0.2222222222222222, \"#7201a8\"], [0.3333333333333333, \"#9c179e\"], [0.4444444444444444, \"#bd3786\"], [0.5555555555555556, \"#d8576b\"], [0.6666666666666666, \"#ed7953\"], [0.7777777777777778, \"#fb9f3a\"], [0.8888888888888888, \"#fdca26\"], [1.0, \"#f0f921\"]], \"type\": \"surface\"}], \"table\": [{\"cells\": {\"fill\": {\"color\": \"#EBF0F8\"}, \"line\": {\"color\": \"white\"}}, \"header\": {\"fill\": {\"color\": \"#C8D4E3\"}, \"line\": {\"color\": \"white\"}}, \"type\": \"table\"}]}, \"layout\": {\"annotationdefaults\": {\"arrowcolor\": \"#2a3f5f\", \"arrowhead\": 0, \"arrowwidth\": 1}, \"coloraxis\": {\"colorbar\": {\"outlinewidth\": 0, \"ticks\": \"\"}}, \"colorscale\": {\"diverging\": [[0, \"#8e0152\"], [0.1, \"#c51b7d\"], [0.2, \"#de77ae\"], [0.3, \"#f1b6da\"], [0.4, \"#fde0ef\"], [0.5, \"#f7f7f7\"], [0.6, \"#e6f5d0\"], [0.7, \"#b8e186\"], [0.8, \"#7fbc41\"], [0.9, \"#4d9221\"], [1, \"#276419\"]], \"sequential\": [[0.0, \"#0d0887\"], [0.1111111111111111, \"#46039f\"], [0.2222222222222222, \"#7201a8\"], [0.3333333333333333, \"#9c179e\"], [0.4444444444444444, \"#bd3786\"], [0.5555555555555556, \"#d8576b\"], [0.6666666666666666, \"#ed7953\"], [0.7777777777777778, \"#fb9f3a\"], [0.8888888888888888, \"#fdca26\"], [1.0, \"#f0f921\"]], \"sequentialminus\": [[0.0, \"#0d0887\"], [0.1111111111111111, \"#46039f\"], [0.2222222222222222, \"#7201a8\"], [0.3333333333333333, \"#9c179e\"], [0.4444444444444444, \"#bd3786\"], [0.5555555555555556, \"#d8576b\"], [0.6666666666666666, \"#ed7953\"], [0.7777777777777778, \"#fb9f3a\"], [0.8888888888888888, \"#fdca26\"], [1.0, \"#f0f921\"]]}, \"colorway\": [\"#636efa\", \"#EF553B\", \"#00cc96\", \"#ab63fa\", \"#FFA15A\", \"#19d3f3\", \"#FF6692\", \"#B6E880\", \"#FF97FF\", \"#FECB52\"], \"font\": {\"color\": \"#2a3f5f\"}, \"geo\": {\"bgcolor\": \"white\", \"lakecolor\": \"white\", \"landcolor\": \"#E5ECF6\", \"showlakes\": true, \"showland\": true, \"subunitcolor\": \"white\"}, \"hoverlabel\": {\"align\": \"left\"}, \"hovermode\": \"closest\", \"mapbox\": {\"style\": \"light\"}, \"paper_bgcolor\": \"white\", \"plot_bgcolor\": \"#E5ECF6\", \"polar\": {\"angularaxis\": {\"gridcolor\": \"white\", \"linecolor\": \"white\", \"ticks\": \"\"}, \"bgcolor\": \"#E5ECF6\", \"radialaxis\": {\"gridcolor\": \"white\", \"linecolor\": \"white\", \"ticks\": \"\"}}, \"scene\": {\"xaxis\": {\"backgroundcolor\": \"#E5ECF6\", \"gridcolor\": \"white\", \"gridwidth\": 2, \"linecolor\": \"white\", \"showbackground\": true, \"ticks\": \"\", \"zerolinecolor\": \"white\"}, \"yaxis\": {\"backgroundcolor\": \"#E5ECF6\", \"gridcolor\": \"white\", \"gridwidth\": 2, \"linecolor\": \"white\", \"showbackground\": true, \"ticks\": \"\", \"zerolinecolor\": \"white\"}, \"zaxis\": {\"backgroundcolor\": \"#E5ECF6\", \"gridcolor\": \"white\", \"gridwidth\": 2, \"linecolor\": \"white\", \"showbackground\": true, \"ticks\": \"\", \"zerolinecolor\": \"white\"}}, \"shapedefaults\": {\"line\": {\"color\": \"#2a3f5f\"}}, \"ternary\": {\"aaxis\": {\"gridcolor\": \"white\", \"linecolor\": \"white\", \"ticks\": \"\"}, \"baxis\": {\"gridcolor\": \"white\", \"linecolor\": \"white\", \"ticks\": \"\"}, \"bgcolor\": \"#E5ECF6\", \"caxis\": {\"gridcolor\": \"white\", \"linecolor\": \"white\", \"ticks\": \"\"}}, \"title\": {\"x\": 0.05}, \"xaxis\": {\"automargin\": true, \"gridcolor\": \"white\", \"linecolor\": \"white\", \"ticks\": \"\", \"title\": {\"standoff\": 15}, \"zerolinecolor\": \"white\", \"zerolinewidth\": 2}, \"yaxis\": {\"automargin\": true, \"gridcolor\": \"white\", \"linecolor\": \"white\", \"ticks\": \"\", \"title\": {\"standoff\": 15}, \"zerolinecolor\": \"white\", \"zerolinewidth\": 2}}}, \"title\": {\"font\": {\"color\": \"#4D5663\"}, \"text\": \"Top 100 bigrams after removing stop words\"}, \"xaxis\": {\"gridcolor\": \"#E1E5ED\", \"linecolor\": \"black\", \"showgrid\": true, \"tickfont\": {\"color\": \"#4D5663\"}, \"title\": {\"font\": {\"color\": \"#4D5663\"}, \"text\": \"\"}, \"zerolinecolor\": \"#E1E5ED\"}, \"yaxis\": {\"gridcolor\": \"#E1E5ED\", \"linecolor\": \"black\", \"showgrid\": true, \"tickfont\": {\"color\": \"#4D5663\"}, \"title\": {\"font\": {\"color\": \"#4D5663\"}, \"text\": \"Count\"}, \"zerolinecolor\": \"#E1E5ED\"}},\n",
       "                        {\"showLink\": true, \"linkText\": \"Export to plot.ly\", \"plotlyServerURL\": \"https://plot.ly\", \"responsive\": true}\n",
       "                    ).then(function(){\n",
       "                            \n",
       "var gd = document.getElementById('f7fa0190-ea12-44ef-950d-dd181f6c51c3');\n",
       "var x = new MutationObserver(function (mutations, observer) {{\n",
       "        var display = window.getComputedStyle(gd).display;\n",
       "        if (!display || display === 'none') {{\n",
       "            console.log([gd, 'removed!']);\n",
       "            Plotly.purge(gd);\n",
       "            observer.disconnect();\n",
       "        }}\n",
       "}});\n",
       "\n",
       "// Listen for the removal of the full notebook cells\n",
       "var notebookContainer = gd.closest('#notebook-container');\n",
       "if (notebookContainer) {{\n",
       "    x.observe(notebookContainer, {childList: true});\n",
       "}}\n",
       "\n",
       "// Listen for the clearing of the current output cell\n",
       "var outputEl = gd.closest('.output');\n",
       "if (outputEl) {{\n",
       "    x.observe(outputEl, {childList: true});\n",
       "}}\n",
       "\n",
       "                        })\n",
       "                };\n",
       "                });\n",
       "            </script>\n",
       "        </div>"
      ]
     },
     "metadata": {},
     "output_type": "display_data"
    }
   ],
   "source": [
    "plot_model(plot = 'bigram')"
   ]
  },
  {
   "cell_type": "markdown",
   "metadata": {},
   "source": [
    "### 9.3 Frequency Distribution of Topic 1"
   ]
  },
  {
   "cell_type": "markdown",
   "metadata": {},
   "source": [
    "`plot_model()` can also be used to analyze the same plots for specific topics. To generate plots at topic level, function requires trained model object to be passed inside `plot_model()`. In example below we will generate frequency distribution on `Topic 1` only as defined by `topic_num` parameter."
   ]
  },
  {
   "cell_type": "code",
   "execution_count": 21,
   "metadata": {},
   "outputs": [
    {
     "data": {
      "text/html": [
       "        <script type=\"text/javascript\">\n",
       "        window.PlotlyConfig = {MathJaxConfig: 'local'};\n",
       "        if (window.MathJax) {MathJax.Hub.Config({SVG: {font: \"STIX-Web\"}});}\n",
       "        if (typeof require !== 'undefined') {\n",
       "        require.undef(\"plotly\");\n",
       "        requirejs.config({\n",
       "            paths: {\n",
       "                'plotly': ['https://cdn.plot.ly/plotly-latest.min']\n",
       "            }\n",
       "        });\n",
       "        require(['plotly'], function(Plotly) {\n",
       "            window._Plotly = Plotly;\n",
       "        });\n",
       "        }\n",
       "        </script>\n",
       "        "
      ]
     },
     "metadata": {},
     "output_type": "display_data"
    },
    {
     "data": {
      "application/vnd.plotly.v1+json": {
       "config": {
        "linkText": "Export to plot.ly",
        "plotlyServerURL": "https://plot.ly",
        "showLink": true
       },
       "data": [
        {
         "marker": {
          "color": "rgba(255, 153, 51, 0.6)",
          "line": {
           "color": "rgba(255, 153, 51, 1.0)",
           "width": 1
          }
         },
         "name": "count",
         "orientation": "v",
         "text": "",
         "type": "bar",
         "x": [
          "business",
          "loan",
          "sell",
          "year",
          "work",
          "child",
          "product",
          "buy",
          "home",
          "help",
          "use",
          "make",
          "old",
          "start",
          "also",
          "family",
          "husband",
          "able",
          "order",
          "well",
          "store",
          "invest",
          "client",
          "customer",
          "live",
          "purchase",
          "increase",
          "hope",
          "need",
          "want",
          "grow",
          "first",
          "wife",
          "school",
          "sale",
          "small",
          "merchandise",
          "new",
          "improve",
          "ago",
          "provide",
          "continue",
          "begin",
          "item",
          "good",
          "offer",
          "give",
          "house",
          "son",
          "clothing",
          "food",
          "second",
          "money",
          "would",
          "request",
          "goal",
          "time",
          "experience",
          "marry",
          "take",
          "capital",
          "open",
          "day",
          "income",
          "go",
          "microfinance_ecuador_services_please",
          "training_educational_programs_information",
          "clothe",
          "mifex_offers_client",
          "mifex_org_www_mifex",
          "org",
          "save",
          "run",
          "description",
          "people",
          "receive",
          "currently",
          "shop",
          "investment",
          "service",
          "life",
          "daughter",
          "expand",
          "mother",
          "profit",
          "allow",
          "married",
          "part",
          "household",
          "job",
          "market",
          "area",
          "build",
          "quality",
          "demand",
          "cosmetic",
          "education",
          "restaurant",
          "study",
          "community"
         ],
         "y": [
          608,
          406,
          367,
          356,
          256,
          248,
          206,
          204,
          204,
          197,
          191,
          189,
          175,
          152,
          149,
          135,
          131,
          125,
          119,
          119,
          114,
          100,
          90,
          87,
          87,
          85,
          85,
          85,
          81,
          79,
          77,
          76,
          75,
          74,
          74,
          74,
          72,
          72,
          70,
          69,
          69,
          67,
          65,
          65,
          63,
          60,
          56,
          54,
          53,
          53,
          52,
          52,
          52,
          50,
          50,
          50,
          50,
          50,
          49,
          48,
          48,
          48,
          47,
          47,
          46,
          45,
          45,
          44,
          44,
          44,
          44,
          44,
          43,
          42,
          42,
          42,
          41,
          41,
          40,
          40,
          38,
          38,
          38,
          38,
          37,
          37,
          37,
          37,
          36,
          36,
          36,
          35,
          35,
          34,
          34,
          34,
          33,
          33,
          33,
          31
         ]
        }
       ],
       "layout": {
        "legend": {
         "bgcolor": "#F5F6F9",
         "font": {
          "color": "#4D5663"
         }
        },
        "paper_bgcolor": "#F5F6F9",
        "plot_bgcolor": "#F5F6F9",
        "template": {
         "data": {
          "bar": [
           {
            "error_x": {
             "color": "#2a3f5f"
            },
            "error_y": {
             "color": "#2a3f5f"
            },
            "marker": {
             "line": {
              "color": "#E5ECF6",
              "width": 0.5
             }
            },
            "type": "bar"
           }
          ],
          "barpolar": [
           {
            "marker": {
             "line": {
              "color": "#E5ECF6",
              "width": 0.5
             }
            },
            "type": "barpolar"
           }
          ],
          "carpet": [
           {
            "aaxis": {
             "endlinecolor": "#2a3f5f",
             "gridcolor": "white",
             "linecolor": "white",
             "minorgridcolor": "white",
             "startlinecolor": "#2a3f5f"
            },
            "baxis": {
             "endlinecolor": "#2a3f5f",
             "gridcolor": "white",
             "linecolor": "white",
             "minorgridcolor": "white",
             "startlinecolor": "#2a3f5f"
            },
            "type": "carpet"
           }
          ],
          "choropleth": [
           {
            "colorbar": {
             "outlinewidth": 0,
             "ticks": ""
            },
            "type": "choropleth"
           }
          ],
          "contour": [
           {
            "colorbar": {
             "outlinewidth": 0,
             "ticks": ""
            },
            "colorscale": [
             [
              0,
              "#0d0887"
             ],
             [
              0.1111111111111111,
              "#46039f"
             ],
             [
              0.2222222222222222,
              "#7201a8"
             ],
             [
              0.3333333333333333,
              "#9c179e"
             ],
             [
              0.4444444444444444,
              "#bd3786"
             ],
             [
              0.5555555555555556,
              "#d8576b"
             ],
             [
              0.6666666666666666,
              "#ed7953"
             ],
             [
              0.7777777777777778,
              "#fb9f3a"
             ],
             [
              0.8888888888888888,
              "#fdca26"
             ],
             [
              1,
              "#f0f921"
             ]
            ],
            "type": "contour"
           }
          ],
          "contourcarpet": [
           {
            "colorbar": {
             "outlinewidth": 0,
             "ticks": ""
            },
            "type": "contourcarpet"
           }
          ],
          "heatmap": [
           {
            "colorbar": {
             "outlinewidth": 0,
             "ticks": ""
            },
            "colorscale": [
             [
              0,
              "#0d0887"
             ],
             [
              0.1111111111111111,
              "#46039f"
             ],
             [
              0.2222222222222222,
              "#7201a8"
             ],
             [
              0.3333333333333333,
              "#9c179e"
             ],
             [
              0.4444444444444444,
              "#bd3786"
             ],
             [
              0.5555555555555556,
              "#d8576b"
             ],
             [
              0.6666666666666666,
              "#ed7953"
             ],
             [
              0.7777777777777778,
              "#fb9f3a"
             ],
             [
              0.8888888888888888,
              "#fdca26"
             ],
             [
              1,
              "#f0f921"
             ]
            ],
            "type": "heatmap"
           }
          ],
          "heatmapgl": [
           {
            "colorbar": {
             "outlinewidth": 0,
             "ticks": ""
            },
            "colorscale": [
             [
              0,
              "#0d0887"
             ],
             [
              0.1111111111111111,
              "#46039f"
             ],
             [
              0.2222222222222222,
              "#7201a8"
             ],
             [
              0.3333333333333333,
              "#9c179e"
             ],
             [
              0.4444444444444444,
              "#bd3786"
             ],
             [
              0.5555555555555556,
              "#d8576b"
             ],
             [
              0.6666666666666666,
              "#ed7953"
             ],
             [
              0.7777777777777778,
              "#fb9f3a"
             ],
             [
              0.8888888888888888,
              "#fdca26"
             ],
             [
              1,
              "#f0f921"
             ]
            ],
            "type": "heatmapgl"
           }
          ],
          "histogram": [
           {
            "marker": {
             "colorbar": {
              "outlinewidth": 0,
              "ticks": ""
             }
            },
            "type": "histogram"
           }
          ],
          "histogram2d": [
           {
            "colorbar": {
             "outlinewidth": 0,
             "ticks": ""
            },
            "colorscale": [
             [
              0,
              "#0d0887"
             ],
             [
              0.1111111111111111,
              "#46039f"
             ],
             [
              0.2222222222222222,
              "#7201a8"
             ],
             [
              0.3333333333333333,
              "#9c179e"
             ],
             [
              0.4444444444444444,
              "#bd3786"
             ],
             [
              0.5555555555555556,
              "#d8576b"
             ],
             [
              0.6666666666666666,
              "#ed7953"
             ],
             [
              0.7777777777777778,
              "#fb9f3a"
             ],
             [
              0.8888888888888888,
              "#fdca26"
             ],
             [
              1,
              "#f0f921"
             ]
            ],
            "type": "histogram2d"
           }
          ],
          "histogram2dcontour": [
           {
            "colorbar": {
             "outlinewidth": 0,
             "ticks": ""
            },
            "colorscale": [
             [
              0,
              "#0d0887"
             ],
             [
              0.1111111111111111,
              "#46039f"
             ],
             [
              0.2222222222222222,
              "#7201a8"
             ],
             [
              0.3333333333333333,
              "#9c179e"
             ],
             [
              0.4444444444444444,
              "#bd3786"
             ],
             [
              0.5555555555555556,
              "#d8576b"
             ],
             [
              0.6666666666666666,
              "#ed7953"
             ],
             [
              0.7777777777777778,
              "#fb9f3a"
             ],
             [
              0.8888888888888888,
              "#fdca26"
             ],
             [
              1,
              "#f0f921"
             ]
            ],
            "type": "histogram2dcontour"
           }
          ],
          "mesh3d": [
           {
            "colorbar": {
             "outlinewidth": 0,
             "ticks": ""
            },
            "type": "mesh3d"
           }
          ],
          "parcoords": [
           {
            "line": {
             "colorbar": {
              "outlinewidth": 0,
              "ticks": ""
             }
            },
            "type": "parcoords"
           }
          ],
          "pie": [
           {
            "automargin": true,
            "type": "pie"
           }
          ],
          "scatter": [
           {
            "marker": {
             "colorbar": {
              "outlinewidth": 0,
              "ticks": ""
             }
            },
            "type": "scatter"
           }
          ],
          "scatter3d": [
           {
            "line": {
             "colorbar": {
              "outlinewidth": 0,
              "ticks": ""
             }
            },
            "marker": {
             "colorbar": {
              "outlinewidth": 0,
              "ticks": ""
             }
            },
            "type": "scatter3d"
           }
          ],
          "scattercarpet": [
           {
            "marker": {
             "colorbar": {
              "outlinewidth": 0,
              "ticks": ""
             }
            },
            "type": "scattercarpet"
           }
          ],
          "scattergeo": [
           {
            "marker": {
             "colorbar": {
              "outlinewidth": 0,
              "ticks": ""
             }
            },
            "type": "scattergeo"
           }
          ],
          "scattergl": [
           {
            "marker": {
             "colorbar": {
              "outlinewidth": 0,
              "ticks": ""
             }
            },
            "type": "scattergl"
           }
          ],
          "scattermapbox": [
           {
            "marker": {
             "colorbar": {
              "outlinewidth": 0,
              "ticks": ""
             }
            },
            "type": "scattermapbox"
           }
          ],
          "scatterpolar": [
           {
            "marker": {
             "colorbar": {
              "outlinewidth": 0,
              "ticks": ""
             }
            },
            "type": "scatterpolar"
           }
          ],
          "scatterpolargl": [
           {
            "marker": {
             "colorbar": {
              "outlinewidth": 0,
              "ticks": ""
             }
            },
            "type": "scatterpolargl"
           }
          ],
          "scatterternary": [
           {
            "marker": {
             "colorbar": {
              "outlinewidth": 0,
              "ticks": ""
             }
            },
            "type": "scatterternary"
           }
          ],
          "surface": [
           {
            "colorbar": {
             "outlinewidth": 0,
             "ticks": ""
            },
            "colorscale": [
             [
              0,
              "#0d0887"
             ],
             [
              0.1111111111111111,
              "#46039f"
             ],
             [
              0.2222222222222222,
              "#7201a8"
             ],
             [
              0.3333333333333333,
              "#9c179e"
             ],
             [
              0.4444444444444444,
              "#bd3786"
             ],
             [
              0.5555555555555556,
              "#d8576b"
             ],
             [
              0.6666666666666666,
              "#ed7953"
             ],
             [
              0.7777777777777778,
              "#fb9f3a"
             ],
             [
              0.8888888888888888,
              "#fdca26"
             ],
             [
              1,
              "#f0f921"
             ]
            ],
            "type": "surface"
           }
          ],
          "table": [
           {
            "cells": {
             "fill": {
              "color": "#EBF0F8"
             },
             "line": {
              "color": "white"
             }
            },
            "header": {
             "fill": {
              "color": "#C8D4E3"
             },
             "line": {
              "color": "white"
             }
            },
            "type": "table"
           }
          ]
         },
         "layout": {
          "annotationdefaults": {
           "arrowcolor": "#2a3f5f",
           "arrowhead": 0,
           "arrowwidth": 1
          },
          "coloraxis": {
           "colorbar": {
            "outlinewidth": 0,
            "ticks": ""
           }
          },
          "colorscale": {
           "diverging": [
            [
             0,
             "#8e0152"
            ],
            [
             0.1,
             "#c51b7d"
            ],
            [
             0.2,
             "#de77ae"
            ],
            [
             0.3,
             "#f1b6da"
            ],
            [
             0.4,
             "#fde0ef"
            ],
            [
             0.5,
             "#f7f7f7"
            ],
            [
             0.6,
             "#e6f5d0"
            ],
            [
             0.7,
             "#b8e186"
            ],
            [
             0.8,
             "#7fbc41"
            ],
            [
             0.9,
             "#4d9221"
            ],
            [
             1,
             "#276419"
            ]
           ],
           "sequential": [
            [
             0,
             "#0d0887"
            ],
            [
             0.1111111111111111,
             "#46039f"
            ],
            [
             0.2222222222222222,
             "#7201a8"
            ],
            [
             0.3333333333333333,
             "#9c179e"
            ],
            [
             0.4444444444444444,
             "#bd3786"
            ],
            [
             0.5555555555555556,
             "#d8576b"
            ],
            [
             0.6666666666666666,
             "#ed7953"
            ],
            [
             0.7777777777777778,
             "#fb9f3a"
            ],
            [
             0.8888888888888888,
             "#fdca26"
            ],
            [
             1,
             "#f0f921"
            ]
           ],
           "sequentialminus": [
            [
             0,
             "#0d0887"
            ],
            [
             0.1111111111111111,
             "#46039f"
            ],
            [
             0.2222222222222222,
             "#7201a8"
            ],
            [
             0.3333333333333333,
             "#9c179e"
            ],
            [
             0.4444444444444444,
             "#bd3786"
            ],
            [
             0.5555555555555556,
             "#d8576b"
            ],
            [
             0.6666666666666666,
             "#ed7953"
            ],
            [
             0.7777777777777778,
             "#fb9f3a"
            ],
            [
             0.8888888888888888,
             "#fdca26"
            ],
            [
             1,
             "#f0f921"
            ]
           ]
          },
          "colorway": [
           "#636efa",
           "#EF553B",
           "#00cc96",
           "#ab63fa",
           "#FFA15A",
           "#19d3f3",
           "#FF6692",
           "#B6E880",
           "#FF97FF",
           "#FECB52"
          ],
          "font": {
           "color": "#2a3f5f"
          },
          "geo": {
           "bgcolor": "white",
           "lakecolor": "white",
           "landcolor": "#E5ECF6",
           "showlakes": true,
           "showland": true,
           "subunitcolor": "white"
          },
          "hoverlabel": {
           "align": "left"
          },
          "hovermode": "closest",
          "mapbox": {
           "style": "light"
          },
          "paper_bgcolor": "white",
          "plot_bgcolor": "#E5ECF6",
          "polar": {
           "angularaxis": {
            "gridcolor": "white",
            "linecolor": "white",
            "ticks": ""
           },
           "bgcolor": "#E5ECF6",
           "radialaxis": {
            "gridcolor": "white",
            "linecolor": "white",
            "ticks": ""
           }
          },
          "scene": {
           "xaxis": {
            "backgroundcolor": "#E5ECF6",
            "gridcolor": "white",
            "gridwidth": 2,
            "linecolor": "white",
            "showbackground": true,
            "ticks": "",
            "zerolinecolor": "white"
           },
           "yaxis": {
            "backgroundcolor": "#E5ECF6",
            "gridcolor": "white",
            "gridwidth": 2,
            "linecolor": "white",
            "showbackground": true,
            "ticks": "",
            "zerolinecolor": "white"
           },
           "zaxis": {
            "backgroundcolor": "#E5ECF6",
            "gridcolor": "white",
            "gridwidth": 2,
            "linecolor": "white",
            "showbackground": true,
            "ticks": "",
            "zerolinecolor": "white"
           }
          },
          "shapedefaults": {
           "line": {
            "color": "#2a3f5f"
           }
          },
          "ternary": {
           "aaxis": {
            "gridcolor": "white",
            "linecolor": "white",
            "ticks": ""
           },
           "baxis": {
            "gridcolor": "white",
            "linecolor": "white",
            "ticks": ""
           },
           "bgcolor": "#E5ECF6",
           "caxis": {
            "gridcolor": "white",
            "linecolor": "white",
            "ticks": ""
           }
          },
          "title": {
           "x": 0.05
          },
          "xaxis": {
           "automargin": true,
           "gridcolor": "white",
           "linecolor": "white",
           "ticks": "",
           "title": {
            "standoff": 15
           },
           "zerolinecolor": "white",
           "zerolinewidth": 2
          },
          "yaxis": {
           "automargin": true,
           "gridcolor": "white",
           "linecolor": "white",
           "ticks": "",
           "title": {
            "standoff": 15
           },
           "zerolinecolor": "white",
           "zerolinewidth": 2
          }
         }
        },
        "title": {
         "font": {
          "color": "#4D5663"
         },
         "text": "Topic 1: Top 100 words after removing stop words"
        },
        "xaxis": {
         "gridcolor": "#E1E5ED",
         "linecolor": "black",
         "showgrid": true,
         "tickfont": {
          "color": "#4D5663"
         },
         "title": {
          "font": {
           "color": "#4D5663"
          },
          "text": ""
         },
         "zerolinecolor": "#E1E5ED"
        },
        "yaxis": {
         "gridcolor": "#E1E5ED",
         "linecolor": "black",
         "showgrid": true,
         "tickfont": {
          "color": "#4D5663"
         },
         "title": {
          "font": {
           "color": "#4D5663"
          },
          "text": "Count"
         },
         "zerolinecolor": "#E1E5ED"
        }
       }
      },
      "text/html": [
       "<div>\n",
       "        \n",
       "        \n",
       "            <div id=\"fffa578d-4d2a-4c2b-b307-2474ab7b034f\" class=\"plotly-graph-div\" style=\"height:525px; width:100%;\"></div>\n",
       "            <script type=\"text/javascript\">\n",
       "                require([\"plotly\"], function(Plotly) {\n",
       "                    window.PLOTLYENV=window.PLOTLYENV || {};\n",
       "                    window.PLOTLYENV.BASE_URL='https://plot.ly';\n",
       "                    \n",
       "                if (document.getElementById(\"fffa578d-4d2a-4c2b-b307-2474ab7b034f\")) {\n",
       "                    Plotly.newPlot(\n",
       "                        'fffa578d-4d2a-4c2b-b307-2474ab7b034f',\n",
       "                        [{\"marker\": {\"color\": \"rgba(255, 153, 51, 0.6)\", \"line\": {\"color\": \"rgba(255, 153, 51, 1.0)\", \"width\": 1}}, \"name\": \"count\", \"orientation\": \"v\", \"text\": \"\", \"type\": \"bar\", \"x\": [\"business\", \"loan\", \"sell\", \"year\", \"work\", \"child\", \"product\", \"buy\", \"home\", \"help\", \"use\", \"make\", \"old\", \"start\", \"also\", \"family\", \"husband\", \"able\", \"order\", \"well\", \"store\", \"invest\", \"client\", \"customer\", \"live\", \"purchase\", \"increase\", \"hope\", \"need\", \"want\", \"grow\", \"first\", \"wife\", \"school\", \"sale\", \"small\", \"merchandise\", \"new\", \"improve\", \"ago\", \"provide\", \"continue\", \"begin\", \"item\", \"good\", \"offer\", \"give\", \"house\", \"son\", \"clothing\", \"food\", \"second\", \"money\", \"would\", \"request\", \"goal\", \"time\", \"experience\", \"marry\", \"take\", \"capital\", \"open\", \"day\", \"income\", \"go\", \"microfinance_ecuador_services_please\", \"training_educational_programs_information\", \"clothe\", \"mifex_offers_client\", \"mifex_org_www_mifex\", \"org\", \"save\", \"run\", \"description\", \"people\", \"receive\", \"currently\", \"shop\", \"investment\", \"service\", \"life\", \"daughter\", \"expand\", \"mother\", \"profit\", \"allow\", \"married\", \"part\", \"household\", \"job\", \"market\", \"area\", \"build\", \"quality\", \"demand\", \"cosmetic\", \"education\", \"restaurant\", \"study\", \"community\"], \"y\": [608, 406, 367, 356, 256, 248, 206, 204, 204, 197, 191, 189, 175, 152, 149, 135, 131, 125, 119, 119, 114, 100, 90, 87, 87, 85, 85, 85, 81, 79, 77, 76, 75, 74, 74, 74, 72, 72, 70, 69, 69, 67, 65, 65, 63, 60, 56, 54, 53, 53, 52, 52, 52, 50, 50, 50, 50, 50, 49, 48, 48, 48, 47, 47, 46, 45, 45, 44, 44, 44, 44, 44, 43, 42, 42, 42, 41, 41, 40, 40, 38, 38, 38, 38, 37, 37, 37, 37, 36, 36, 36, 35, 35, 34, 34, 34, 33, 33, 33, 31]}],\n",
       "                        {\"legend\": {\"bgcolor\": \"#F5F6F9\", \"font\": {\"color\": \"#4D5663\"}}, \"paper_bgcolor\": \"#F5F6F9\", \"plot_bgcolor\": \"#F5F6F9\", \"template\": {\"data\": {\"bar\": [{\"error_x\": {\"color\": \"#2a3f5f\"}, \"error_y\": {\"color\": \"#2a3f5f\"}, \"marker\": {\"line\": {\"color\": \"#E5ECF6\", \"width\": 0.5}}, \"type\": \"bar\"}], \"barpolar\": [{\"marker\": {\"line\": {\"color\": \"#E5ECF6\", \"width\": 0.5}}, \"type\": \"barpolar\"}], \"carpet\": [{\"aaxis\": {\"endlinecolor\": \"#2a3f5f\", \"gridcolor\": \"white\", \"linecolor\": \"white\", \"minorgridcolor\": \"white\", \"startlinecolor\": \"#2a3f5f\"}, \"baxis\": {\"endlinecolor\": \"#2a3f5f\", \"gridcolor\": \"white\", \"linecolor\": \"white\", \"minorgridcolor\": \"white\", \"startlinecolor\": \"#2a3f5f\"}, \"type\": \"carpet\"}], \"choropleth\": [{\"colorbar\": {\"outlinewidth\": 0, \"ticks\": \"\"}, \"type\": \"choropleth\"}], \"contour\": [{\"colorbar\": {\"outlinewidth\": 0, \"ticks\": \"\"}, \"colorscale\": [[0.0, \"#0d0887\"], [0.1111111111111111, \"#46039f\"], [0.2222222222222222, \"#7201a8\"], [0.3333333333333333, \"#9c179e\"], [0.4444444444444444, \"#bd3786\"], [0.5555555555555556, \"#d8576b\"], [0.6666666666666666, \"#ed7953\"], [0.7777777777777778, \"#fb9f3a\"], [0.8888888888888888, \"#fdca26\"], [1.0, \"#f0f921\"]], \"type\": \"contour\"}], \"contourcarpet\": [{\"colorbar\": {\"outlinewidth\": 0, \"ticks\": \"\"}, \"type\": \"contourcarpet\"}], \"heatmap\": [{\"colorbar\": {\"outlinewidth\": 0, \"ticks\": \"\"}, \"colorscale\": [[0.0, \"#0d0887\"], [0.1111111111111111, \"#46039f\"], [0.2222222222222222, \"#7201a8\"], [0.3333333333333333, \"#9c179e\"], [0.4444444444444444, \"#bd3786\"], [0.5555555555555556, \"#d8576b\"], [0.6666666666666666, \"#ed7953\"], [0.7777777777777778, \"#fb9f3a\"], [0.8888888888888888, \"#fdca26\"], [1.0, \"#f0f921\"]], \"type\": \"heatmap\"}], \"heatmapgl\": [{\"colorbar\": {\"outlinewidth\": 0, \"ticks\": \"\"}, \"colorscale\": [[0.0, \"#0d0887\"], [0.1111111111111111, \"#46039f\"], [0.2222222222222222, \"#7201a8\"], [0.3333333333333333, \"#9c179e\"], [0.4444444444444444, \"#bd3786\"], [0.5555555555555556, \"#d8576b\"], [0.6666666666666666, \"#ed7953\"], [0.7777777777777778, \"#fb9f3a\"], [0.8888888888888888, \"#fdca26\"], [1.0, \"#f0f921\"]], \"type\": \"heatmapgl\"}], \"histogram\": [{\"marker\": {\"colorbar\": {\"outlinewidth\": 0, \"ticks\": \"\"}}, \"type\": \"histogram\"}], \"histogram2d\": [{\"colorbar\": {\"outlinewidth\": 0, \"ticks\": \"\"}, \"colorscale\": [[0.0, \"#0d0887\"], [0.1111111111111111, \"#46039f\"], [0.2222222222222222, \"#7201a8\"], [0.3333333333333333, \"#9c179e\"], [0.4444444444444444, \"#bd3786\"], [0.5555555555555556, \"#d8576b\"], [0.6666666666666666, \"#ed7953\"], [0.7777777777777778, \"#fb9f3a\"], [0.8888888888888888, \"#fdca26\"], [1.0, \"#f0f921\"]], \"type\": \"histogram2d\"}], \"histogram2dcontour\": [{\"colorbar\": {\"outlinewidth\": 0, \"ticks\": \"\"}, \"colorscale\": [[0.0, \"#0d0887\"], [0.1111111111111111, \"#46039f\"], [0.2222222222222222, \"#7201a8\"], [0.3333333333333333, \"#9c179e\"], [0.4444444444444444, \"#bd3786\"], [0.5555555555555556, \"#d8576b\"], [0.6666666666666666, \"#ed7953\"], [0.7777777777777778, \"#fb9f3a\"], [0.8888888888888888, \"#fdca26\"], [1.0, \"#f0f921\"]], \"type\": \"histogram2dcontour\"}], \"mesh3d\": [{\"colorbar\": {\"outlinewidth\": 0, \"ticks\": \"\"}, \"type\": \"mesh3d\"}], \"parcoords\": [{\"line\": {\"colorbar\": {\"outlinewidth\": 0, \"ticks\": \"\"}}, \"type\": \"parcoords\"}], \"pie\": [{\"automargin\": true, \"type\": \"pie\"}], \"scatter\": [{\"marker\": {\"colorbar\": {\"outlinewidth\": 0, \"ticks\": \"\"}}, \"type\": \"scatter\"}], \"scatter3d\": [{\"line\": {\"colorbar\": {\"outlinewidth\": 0, \"ticks\": \"\"}}, \"marker\": {\"colorbar\": {\"outlinewidth\": 0, \"ticks\": \"\"}}, \"type\": \"scatter3d\"}], \"scattercarpet\": [{\"marker\": {\"colorbar\": {\"outlinewidth\": 0, \"ticks\": \"\"}}, \"type\": \"scattercarpet\"}], \"scattergeo\": [{\"marker\": {\"colorbar\": {\"outlinewidth\": 0, \"ticks\": \"\"}}, \"type\": \"scattergeo\"}], \"scattergl\": [{\"marker\": {\"colorbar\": {\"outlinewidth\": 0, \"ticks\": \"\"}}, \"type\": \"scattergl\"}], \"scattermapbox\": [{\"marker\": {\"colorbar\": {\"outlinewidth\": 0, \"ticks\": \"\"}}, \"type\": \"scattermapbox\"}], \"scatterpolar\": [{\"marker\": {\"colorbar\": {\"outlinewidth\": 0, \"ticks\": \"\"}}, \"type\": \"scatterpolar\"}], \"scatterpolargl\": [{\"marker\": {\"colorbar\": {\"outlinewidth\": 0, \"ticks\": \"\"}}, \"type\": \"scatterpolargl\"}], \"scatterternary\": [{\"marker\": {\"colorbar\": {\"outlinewidth\": 0, \"ticks\": \"\"}}, \"type\": \"scatterternary\"}], \"surface\": [{\"colorbar\": {\"outlinewidth\": 0, \"ticks\": \"\"}, \"colorscale\": [[0.0, \"#0d0887\"], [0.1111111111111111, \"#46039f\"], [0.2222222222222222, \"#7201a8\"], [0.3333333333333333, \"#9c179e\"], [0.4444444444444444, \"#bd3786\"], [0.5555555555555556, \"#d8576b\"], [0.6666666666666666, \"#ed7953\"], [0.7777777777777778, \"#fb9f3a\"], [0.8888888888888888, \"#fdca26\"], [1.0, \"#f0f921\"]], \"type\": \"surface\"}], \"table\": [{\"cells\": {\"fill\": {\"color\": \"#EBF0F8\"}, \"line\": {\"color\": \"white\"}}, \"header\": {\"fill\": {\"color\": \"#C8D4E3\"}, \"line\": {\"color\": \"white\"}}, \"type\": \"table\"}]}, \"layout\": {\"annotationdefaults\": {\"arrowcolor\": \"#2a3f5f\", \"arrowhead\": 0, \"arrowwidth\": 1}, \"coloraxis\": {\"colorbar\": {\"outlinewidth\": 0, \"ticks\": \"\"}}, \"colorscale\": {\"diverging\": [[0, \"#8e0152\"], [0.1, \"#c51b7d\"], [0.2, \"#de77ae\"], [0.3, \"#f1b6da\"], [0.4, \"#fde0ef\"], [0.5, \"#f7f7f7\"], [0.6, \"#e6f5d0\"], [0.7, \"#b8e186\"], [0.8, \"#7fbc41\"], [0.9, \"#4d9221\"], [1, \"#276419\"]], \"sequential\": [[0.0, \"#0d0887\"], [0.1111111111111111, \"#46039f\"], [0.2222222222222222, \"#7201a8\"], [0.3333333333333333, \"#9c179e\"], [0.4444444444444444, \"#bd3786\"], [0.5555555555555556, \"#d8576b\"], [0.6666666666666666, \"#ed7953\"], [0.7777777777777778, \"#fb9f3a\"], [0.8888888888888888, \"#fdca26\"], [1.0, \"#f0f921\"]], \"sequentialminus\": [[0.0, \"#0d0887\"], [0.1111111111111111, \"#46039f\"], [0.2222222222222222, \"#7201a8\"], [0.3333333333333333, \"#9c179e\"], [0.4444444444444444, \"#bd3786\"], [0.5555555555555556, \"#d8576b\"], [0.6666666666666666, \"#ed7953\"], [0.7777777777777778, \"#fb9f3a\"], [0.8888888888888888, \"#fdca26\"], [1.0, \"#f0f921\"]]}, \"colorway\": [\"#636efa\", \"#EF553B\", \"#00cc96\", \"#ab63fa\", \"#FFA15A\", \"#19d3f3\", \"#FF6692\", \"#B6E880\", \"#FF97FF\", \"#FECB52\"], \"font\": {\"color\": \"#2a3f5f\"}, \"geo\": {\"bgcolor\": \"white\", \"lakecolor\": \"white\", \"landcolor\": \"#E5ECF6\", \"showlakes\": true, \"showland\": true, \"subunitcolor\": \"white\"}, \"hoverlabel\": {\"align\": \"left\"}, \"hovermode\": \"closest\", \"mapbox\": {\"style\": \"light\"}, \"paper_bgcolor\": \"white\", \"plot_bgcolor\": \"#E5ECF6\", \"polar\": {\"angularaxis\": {\"gridcolor\": \"white\", \"linecolor\": \"white\", \"ticks\": \"\"}, \"bgcolor\": \"#E5ECF6\", \"radialaxis\": {\"gridcolor\": \"white\", \"linecolor\": \"white\", \"ticks\": \"\"}}, \"scene\": {\"xaxis\": {\"backgroundcolor\": \"#E5ECF6\", \"gridcolor\": \"white\", \"gridwidth\": 2, \"linecolor\": \"white\", \"showbackground\": true, \"ticks\": \"\", \"zerolinecolor\": \"white\"}, \"yaxis\": {\"backgroundcolor\": \"#E5ECF6\", \"gridcolor\": \"white\", \"gridwidth\": 2, \"linecolor\": \"white\", \"showbackground\": true, \"ticks\": \"\", \"zerolinecolor\": \"white\"}, \"zaxis\": {\"backgroundcolor\": \"#E5ECF6\", \"gridcolor\": \"white\", \"gridwidth\": 2, \"linecolor\": \"white\", \"showbackground\": true, \"ticks\": \"\", \"zerolinecolor\": \"white\"}}, \"shapedefaults\": {\"line\": {\"color\": \"#2a3f5f\"}}, \"ternary\": {\"aaxis\": {\"gridcolor\": \"white\", \"linecolor\": \"white\", \"ticks\": \"\"}, \"baxis\": {\"gridcolor\": \"white\", \"linecolor\": \"white\", \"ticks\": \"\"}, \"bgcolor\": \"#E5ECF6\", \"caxis\": {\"gridcolor\": \"white\", \"linecolor\": \"white\", \"ticks\": \"\"}}, \"title\": {\"x\": 0.05}, \"xaxis\": {\"automargin\": true, \"gridcolor\": \"white\", \"linecolor\": \"white\", \"ticks\": \"\", \"title\": {\"standoff\": 15}, \"zerolinecolor\": \"white\", \"zerolinewidth\": 2}, \"yaxis\": {\"automargin\": true, \"gridcolor\": \"white\", \"linecolor\": \"white\", \"ticks\": \"\", \"title\": {\"standoff\": 15}, \"zerolinecolor\": \"white\", \"zerolinewidth\": 2}}}, \"title\": {\"font\": {\"color\": \"#4D5663\"}, \"text\": \"Topic 1: Top 100 words after removing stop words\"}, \"xaxis\": {\"gridcolor\": \"#E1E5ED\", \"linecolor\": \"black\", \"showgrid\": true, \"tickfont\": {\"color\": \"#4D5663\"}, \"title\": {\"font\": {\"color\": \"#4D5663\"}, \"text\": \"\"}, \"zerolinecolor\": \"#E1E5ED\"}, \"yaxis\": {\"gridcolor\": \"#E1E5ED\", \"linecolor\": \"black\", \"showgrid\": true, \"tickfont\": {\"color\": \"#4D5663\"}, \"title\": {\"font\": {\"color\": \"#4D5663\"}, \"text\": \"Count\"}, \"zerolinecolor\": \"#E1E5ED\"}},\n",
       "                        {\"showLink\": true, \"linkText\": \"Export to plot.ly\", \"plotlyServerURL\": \"https://plot.ly\", \"responsive\": true}\n",
       "                    ).then(function(){\n",
       "                            \n",
       "var gd = document.getElementById('fffa578d-4d2a-4c2b-b307-2474ab7b034f');\n",
       "var x = new MutationObserver(function (mutations, observer) {{\n",
       "        var display = window.getComputedStyle(gd).display;\n",
       "        if (!display || display === 'none') {{\n",
       "            console.log([gd, 'removed!']);\n",
       "            Plotly.purge(gd);\n",
       "            observer.disconnect();\n",
       "        }}\n",
       "}});\n",
       "\n",
       "// Listen for the removal of the full notebook cells\n",
       "var notebookContainer = gd.closest('#notebook-container');\n",
       "if (notebookContainer) {{\n",
       "    x.observe(notebookContainer, {childList: true});\n",
       "}}\n",
       "\n",
       "// Listen for the clearing of the current output cell\n",
       "var outputEl = gd.closest('.output');\n",
       "if (outputEl) {{\n",
       "    x.observe(outputEl, {childList: true});\n",
       "}}\n",
       "\n",
       "                        })\n",
       "                };\n",
       "                });\n",
       "            </script>\n",
       "        </div>"
      ]
     },
     "metadata": {},
     "output_type": "display_data"
    }
   ],
   "source": [
    "plot_model(lda, plot = 'frequency', topic_num = 'Topic 1')"
   ]
  },
  {
   "cell_type": "markdown",
   "metadata": {},
   "source": [
    "### 9.4 Topic Distribution"
   ]
  },
  {
   "cell_type": "code",
   "execution_count": 22,
   "metadata": {},
   "outputs": [
    {
     "data": {
      "text/html": [
       "        <script type=\"text/javascript\">\n",
       "        window.PlotlyConfig = {MathJaxConfig: 'local'};\n",
       "        if (window.MathJax) {MathJax.Hub.Config({SVG: {font: \"STIX-Web\"}});}\n",
       "        if (typeof require !== 'undefined') {\n",
       "        require.undef(\"plotly\");\n",
       "        requirejs.config({\n",
       "            paths: {\n",
       "                'plotly': ['https://cdn.plot.ly/plotly-latest.min']\n",
       "            }\n",
       "        });\n",
       "        require(['plotly'], function(Plotly) {\n",
       "            window._Plotly = Plotly;\n",
       "        });\n",
       "        }\n",
       "        </script>\n",
       "        "
      ]
     },
     "metadata": {},
     "output_type": "display_data"
    },
    {
     "data": {
      "application/vnd.plotly.v1+json": {
       "config": {
        "plotlyServerURL": "https://plot.ly"
       },
       "data": [
        {
         "alignmentgroup": "True",
         "customdata": [
          [
           "loan, farmer, also, farm, rice, use, small, land, area, many"
          ],
          [
           "business, sell, loan, year, product, work, home, help, make, use"
          ],
          [
           "business, loan, child, year, sell, school, buy, family, able, old"
          ],
          [
           "water, high, computer, milk, must, problem, bag, economy, come, banana"
          ]
         ],
         "hoverlabel": {
          "namelength": 0
         },
         "hovertemplate": "Topic=%{x}<br>Documents=%{y}<br>Keyword=%{customdata[0]}",
         "legendgroup": "",
         "marker": {
          "color": "#636efa"
         },
         "name": "",
         "offsetgroup": "",
         "orientation": "v",
         "showlegend": false,
         "textposition": "auto",
         "type": "bar",
         "x": [
          "Topic 0",
          "Topic 1",
          "Topic 2",
          "Topic 3"
         ],
         "xaxis": "x",
         "y": [
          45,
          238,
          713,
          4
         ],
         "yaxis": "y"
        }
       ],
       "layout": {
        "barmode": "relative",
        "legend": {
         "tracegroupgap": 0
        },
        "template": {
         "data": {
          "bar": [
           {
            "error_x": {
             "color": "#2a3f5f"
            },
            "error_y": {
             "color": "#2a3f5f"
            },
            "marker": {
             "line": {
              "color": "#E5ECF6",
              "width": 0.5
             }
            },
            "type": "bar"
           }
          ],
          "barpolar": [
           {
            "marker": {
             "line": {
              "color": "#E5ECF6",
              "width": 0.5
             }
            },
            "type": "barpolar"
           }
          ],
          "carpet": [
           {
            "aaxis": {
             "endlinecolor": "#2a3f5f",
             "gridcolor": "white",
             "linecolor": "white",
             "minorgridcolor": "white",
             "startlinecolor": "#2a3f5f"
            },
            "baxis": {
             "endlinecolor": "#2a3f5f",
             "gridcolor": "white",
             "linecolor": "white",
             "minorgridcolor": "white",
             "startlinecolor": "#2a3f5f"
            },
            "type": "carpet"
           }
          ],
          "choropleth": [
           {
            "colorbar": {
             "outlinewidth": 0,
             "ticks": ""
            },
            "type": "choropleth"
           }
          ],
          "contour": [
           {
            "colorbar": {
             "outlinewidth": 0,
             "ticks": ""
            },
            "colorscale": [
             [
              0,
              "#0d0887"
             ],
             [
              0.1111111111111111,
              "#46039f"
             ],
             [
              0.2222222222222222,
              "#7201a8"
             ],
             [
              0.3333333333333333,
              "#9c179e"
             ],
             [
              0.4444444444444444,
              "#bd3786"
             ],
             [
              0.5555555555555556,
              "#d8576b"
             ],
             [
              0.6666666666666666,
              "#ed7953"
             ],
             [
              0.7777777777777778,
              "#fb9f3a"
             ],
             [
              0.8888888888888888,
              "#fdca26"
             ],
             [
              1,
              "#f0f921"
             ]
            ],
            "type": "contour"
           }
          ],
          "contourcarpet": [
           {
            "colorbar": {
             "outlinewidth": 0,
             "ticks": ""
            },
            "type": "contourcarpet"
           }
          ],
          "heatmap": [
           {
            "colorbar": {
             "outlinewidth": 0,
             "ticks": ""
            },
            "colorscale": [
             [
              0,
              "#0d0887"
             ],
             [
              0.1111111111111111,
              "#46039f"
             ],
             [
              0.2222222222222222,
              "#7201a8"
             ],
             [
              0.3333333333333333,
              "#9c179e"
             ],
             [
              0.4444444444444444,
              "#bd3786"
             ],
             [
              0.5555555555555556,
              "#d8576b"
             ],
             [
              0.6666666666666666,
              "#ed7953"
             ],
             [
              0.7777777777777778,
              "#fb9f3a"
             ],
             [
              0.8888888888888888,
              "#fdca26"
             ],
             [
              1,
              "#f0f921"
             ]
            ],
            "type": "heatmap"
           }
          ],
          "heatmapgl": [
           {
            "colorbar": {
             "outlinewidth": 0,
             "ticks": ""
            },
            "colorscale": [
             [
              0,
              "#0d0887"
             ],
             [
              0.1111111111111111,
              "#46039f"
             ],
             [
              0.2222222222222222,
              "#7201a8"
             ],
             [
              0.3333333333333333,
              "#9c179e"
             ],
             [
              0.4444444444444444,
              "#bd3786"
             ],
             [
              0.5555555555555556,
              "#d8576b"
             ],
             [
              0.6666666666666666,
              "#ed7953"
             ],
             [
              0.7777777777777778,
              "#fb9f3a"
             ],
             [
              0.8888888888888888,
              "#fdca26"
             ],
             [
              1,
              "#f0f921"
             ]
            ],
            "type": "heatmapgl"
           }
          ],
          "histogram": [
           {
            "marker": {
             "colorbar": {
              "outlinewidth": 0,
              "ticks": ""
             }
            },
            "type": "histogram"
           }
          ],
          "histogram2d": [
           {
            "colorbar": {
             "outlinewidth": 0,
             "ticks": ""
            },
            "colorscale": [
             [
              0,
              "#0d0887"
             ],
             [
              0.1111111111111111,
              "#46039f"
             ],
             [
              0.2222222222222222,
              "#7201a8"
             ],
             [
              0.3333333333333333,
              "#9c179e"
             ],
             [
              0.4444444444444444,
              "#bd3786"
             ],
             [
              0.5555555555555556,
              "#d8576b"
             ],
             [
              0.6666666666666666,
              "#ed7953"
             ],
             [
              0.7777777777777778,
              "#fb9f3a"
             ],
             [
              0.8888888888888888,
              "#fdca26"
             ],
             [
              1,
              "#f0f921"
             ]
            ],
            "type": "histogram2d"
           }
          ],
          "histogram2dcontour": [
           {
            "colorbar": {
             "outlinewidth": 0,
             "ticks": ""
            },
            "colorscale": [
             [
              0,
              "#0d0887"
             ],
             [
              0.1111111111111111,
              "#46039f"
             ],
             [
              0.2222222222222222,
              "#7201a8"
             ],
             [
              0.3333333333333333,
              "#9c179e"
             ],
             [
              0.4444444444444444,
              "#bd3786"
             ],
             [
              0.5555555555555556,
              "#d8576b"
             ],
             [
              0.6666666666666666,
              "#ed7953"
             ],
             [
              0.7777777777777778,
              "#fb9f3a"
             ],
             [
              0.8888888888888888,
              "#fdca26"
             ],
             [
              1,
              "#f0f921"
             ]
            ],
            "type": "histogram2dcontour"
           }
          ],
          "mesh3d": [
           {
            "colorbar": {
             "outlinewidth": 0,
             "ticks": ""
            },
            "type": "mesh3d"
           }
          ],
          "parcoords": [
           {
            "line": {
             "colorbar": {
              "outlinewidth": 0,
              "ticks": ""
             }
            },
            "type": "parcoords"
           }
          ],
          "pie": [
           {
            "automargin": true,
            "type": "pie"
           }
          ],
          "scatter": [
           {
            "marker": {
             "colorbar": {
              "outlinewidth": 0,
              "ticks": ""
             }
            },
            "type": "scatter"
           }
          ],
          "scatter3d": [
           {
            "line": {
             "colorbar": {
              "outlinewidth": 0,
              "ticks": ""
             }
            },
            "marker": {
             "colorbar": {
              "outlinewidth": 0,
              "ticks": ""
             }
            },
            "type": "scatter3d"
           }
          ],
          "scattercarpet": [
           {
            "marker": {
             "colorbar": {
              "outlinewidth": 0,
              "ticks": ""
             }
            },
            "type": "scattercarpet"
           }
          ],
          "scattergeo": [
           {
            "marker": {
             "colorbar": {
              "outlinewidth": 0,
              "ticks": ""
             }
            },
            "type": "scattergeo"
           }
          ],
          "scattergl": [
           {
            "marker": {
             "colorbar": {
              "outlinewidth": 0,
              "ticks": ""
             }
            },
            "type": "scattergl"
           }
          ],
          "scattermapbox": [
           {
            "marker": {
             "colorbar": {
              "outlinewidth": 0,
              "ticks": ""
             }
            },
            "type": "scattermapbox"
           }
          ],
          "scatterpolar": [
           {
            "marker": {
             "colorbar": {
              "outlinewidth": 0,
              "ticks": ""
             }
            },
            "type": "scatterpolar"
           }
          ],
          "scatterpolargl": [
           {
            "marker": {
             "colorbar": {
              "outlinewidth": 0,
              "ticks": ""
             }
            },
            "type": "scatterpolargl"
           }
          ],
          "scatterternary": [
           {
            "marker": {
             "colorbar": {
              "outlinewidth": 0,
              "ticks": ""
             }
            },
            "type": "scatterternary"
           }
          ],
          "surface": [
           {
            "colorbar": {
             "outlinewidth": 0,
             "ticks": ""
            },
            "colorscale": [
             [
              0,
              "#0d0887"
             ],
             [
              0.1111111111111111,
              "#46039f"
             ],
             [
              0.2222222222222222,
              "#7201a8"
             ],
             [
              0.3333333333333333,
              "#9c179e"
             ],
             [
              0.4444444444444444,
              "#bd3786"
             ],
             [
              0.5555555555555556,
              "#d8576b"
             ],
             [
              0.6666666666666666,
              "#ed7953"
             ],
             [
              0.7777777777777778,
              "#fb9f3a"
             ],
             [
              0.8888888888888888,
              "#fdca26"
             ],
             [
              1,
              "#f0f921"
             ]
            ],
            "type": "surface"
           }
          ],
          "table": [
           {
            "cells": {
             "fill": {
              "color": "#EBF0F8"
             },
             "line": {
              "color": "white"
             }
            },
            "header": {
             "fill": {
              "color": "#C8D4E3"
             },
             "line": {
              "color": "white"
             }
            },
            "type": "table"
           }
          ]
         },
         "layout": {
          "annotationdefaults": {
           "arrowcolor": "#2a3f5f",
           "arrowhead": 0,
           "arrowwidth": 1
          },
          "coloraxis": {
           "colorbar": {
            "outlinewidth": 0,
            "ticks": ""
           }
          },
          "colorscale": {
           "diverging": [
            [
             0,
             "#8e0152"
            ],
            [
             0.1,
             "#c51b7d"
            ],
            [
             0.2,
             "#de77ae"
            ],
            [
             0.3,
             "#f1b6da"
            ],
            [
             0.4,
             "#fde0ef"
            ],
            [
             0.5,
             "#f7f7f7"
            ],
            [
             0.6,
             "#e6f5d0"
            ],
            [
             0.7,
             "#b8e186"
            ],
            [
             0.8,
             "#7fbc41"
            ],
            [
             0.9,
             "#4d9221"
            ],
            [
             1,
             "#276419"
            ]
           ],
           "sequential": [
            [
             0,
             "#0d0887"
            ],
            [
             0.1111111111111111,
             "#46039f"
            ],
            [
             0.2222222222222222,
             "#7201a8"
            ],
            [
             0.3333333333333333,
             "#9c179e"
            ],
            [
             0.4444444444444444,
             "#bd3786"
            ],
            [
             0.5555555555555556,
             "#d8576b"
            ],
            [
             0.6666666666666666,
             "#ed7953"
            ],
            [
             0.7777777777777778,
             "#fb9f3a"
            ],
            [
             0.8888888888888888,
             "#fdca26"
            ],
            [
             1,
             "#f0f921"
            ]
           ],
           "sequentialminus": [
            [
             0,
             "#0d0887"
            ],
            [
             0.1111111111111111,
             "#46039f"
            ],
            [
             0.2222222222222222,
             "#7201a8"
            ],
            [
             0.3333333333333333,
             "#9c179e"
            ],
            [
             0.4444444444444444,
             "#bd3786"
            ],
            [
             0.5555555555555556,
             "#d8576b"
            ],
            [
             0.6666666666666666,
             "#ed7953"
            ],
            [
             0.7777777777777778,
             "#fb9f3a"
            ],
            [
             0.8888888888888888,
             "#fdca26"
            ],
            [
             1,
             "#f0f921"
            ]
           ]
          },
          "colorway": [
           "#636efa",
           "#EF553B",
           "#00cc96",
           "#ab63fa",
           "#FFA15A",
           "#19d3f3",
           "#FF6692",
           "#B6E880",
           "#FF97FF",
           "#FECB52"
          ],
          "font": {
           "color": "#2a3f5f"
          },
          "geo": {
           "bgcolor": "white",
           "lakecolor": "white",
           "landcolor": "#E5ECF6",
           "showlakes": true,
           "showland": true,
           "subunitcolor": "white"
          },
          "hoverlabel": {
           "align": "left"
          },
          "hovermode": "closest",
          "mapbox": {
           "style": "light"
          },
          "paper_bgcolor": "white",
          "plot_bgcolor": "#E5ECF6",
          "polar": {
           "angularaxis": {
            "gridcolor": "white",
            "linecolor": "white",
            "ticks": ""
           },
           "bgcolor": "#E5ECF6",
           "radialaxis": {
            "gridcolor": "white",
            "linecolor": "white",
            "ticks": ""
           }
          },
          "scene": {
           "xaxis": {
            "backgroundcolor": "#E5ECF6",
            "gridcolor": "white",
            "gridwidth": 2,
            "linecolor": "white",
            "showbackground": true,
            "ticks": "",
            "zerolinecolor": "white"
           },
           "yaxis": {
            "backgroundcolor": "#E5ECF6",
            "gridcolor": "white",
            "gridwidth": 2,
            "linecolor": "white",
            "showbackground": true,
            "ticks": "",
            "zerolinecolor": "white"
           },
           "zaxis": {
            "backgroundcolor": "#E5ECF6",
            "gridcolor": "white",
            "gridwidth": 2,
            "linecolor": "white",
            "showbackground": true,
            "ticks": "",
            "zerolinecolor": "white"
           }
          },
          "shapedefaults": {
           "line": {
            "color": "#2a3f5f"
           }
          },
          "ternary": {
           "aaxis": {
            "gridcolor": "white",
            "linecolor": "white",
            "ticks": ""
           },
           "baxis": {
            "gridcolor": "white",
            "linecolor": "white",
            "ticks": ""
           },
           "bgcolor": "#E5ECF6",
           "caxis": {
            "gridcolor": "white",
            "linecolor": "white",
            "ticks": ""
           }
          },
          "title": {
           "x": 0.05
          },
          "xaxis": {
           "automargin": true,
           "gridcolor": "white",
           "linecolor": "white",
           "ticks": "",
           "title": {
            "standoff": 15
           },
           "zerolinecolor": "white",
           "zerolinewidth": 2
          },
          "yaxis": {
           "automargin": true,
           "gridcolor": "white",
           "linecolor": "white",
           "ticks": "",
           "title": {
            "standoff": 15
           },
           "zerolinecolor": "white",
           "zerolinewidth": 2
          }
         }
        },
        "title": {
         "text": "Document Distribution by Topics"
        },
        "xaxis": {
         "anchor": "y",
         "domain": [
          0,
          1
         ],
         "title": {
          "text": "Topic"
         }
        },
        "yaxis": {
         "anchor": "x",
         "domain": [
          0,
          1
         ],
         "title": {
          "text": "Documents"
         }
        }
       }
      },
      "text/html": [
       "<div>\n",
       "        \n",
       "        \n",
       "            <div id=\"aaf57f5c-3780-48d5-8ee4-5fe49b8a7e7d\" class=\"plotly-graph-div\" style=\"height:525px; width:100%;\"></div>\n",
       "            <script type=\"text/javascript\">\n",
       "                require([\"plotly\"], function(Plotly) {\n",
       "                    window.PLOTLYENV=window.PLOTLYENV || {};\n",
       "                    \n",
       "                if (document.getElementById(\"aaf57f5c-3780-48d5-8ee4-5fe49b8a7e7d\")) {\n",
       "                    Plotly.newPlot(\n",
       "                        'aaf57f5c-3780-48d5-8ee4-5fe49b8a7e7d',\n",
       "                        [{\"alignmentgroup\": \"True\", \"customdata\": [[\"loan, farmer, also, farm, rice, use, small, land, area, many\"], [\"business, sell, loan, year, product, work, home, help, make, use\"], [\"business, loan, child, year, sell, school, buy, family, able, old\"], [\"water, high, computer, milk, must, problem, bag, economy, come, banana\"]], \"hoverlabel\": {\"namelength\": 0}, \"hovertemplate\": \"Topic=%{x}<br>Documents=%{y}<br>Keyword=%{customdata[0]}\", \"legendgroup\": \"\", \"marker\": {\"color\": \"#636efa\"}, \"name\": \"\", \"offsetgroup\": \"\", \"orientation\": \"v\", \"showlegend\": false, \"textposition\": \"auto\", \"type\": \"bar\", \"x\": [\"Topic 0\", \"Topic 1\", \"Topic 2\", \"Topic 3\"], \"xaxis\": \"x\", \"y\": [45, 238, 713, 4], \"yaxis\": \"y\"}],\n",
       "                        {\"barmode\": \"relative\", \"legend\": {\"tracegroupgap\": 0}, \"template\": {\"data\": {\"bar\": [{\"error_x\": {\"color\": \"#2a3f5f\"}, \"error_y\": {\"color\": \"#2a3f5f\"}, \"marker\": {\"line\": {\"color\": \"#E5ECF6\", \"width\": 0.5}}, \"type\": \"bar\"}], \"barpolar\": [{\"marker\": {\"line\": {\"color\": \"#E5ECF6\", \"width\": 0.5}}, \"type\": \"barpolar\"}], \"carpet\": [{\"aaxis\": {\"endlinecolor\": \"#2a3f5f\", \"gridcolor\": \"white\", \"linecolor\": \"white\", \"minorgridcolor\": \"white\", \"startlinecolor\": \"#2a3f5f\"}, \"baxis\": {\"endlinecolor\": \"#2a3f5f\", \"gridcolor\": \"white\", \"linecolor\": \"white\", \"minorgridcolor\": \"white\", \"startlinecolor\": \"#2a3f5f\"}, \"type\": \"carpet\"}], \"choropleth\": [{\"colorbar\": {\"outlinewidth\": 0, \"ticks\": \"\"}, \"type\": \"choropleth\"}], \"contour\": [{\"colorbar\": {\"outlinewidth\": 0, \"ticks\": \"\"}, \"colorscale\": [[0.0, \"#0d0887\"], [0.1111111111111111, \"#46039f\"], [0.2222222222222222, \"#7201a8\"], [0.3333333333333333, \"#9c179e\"], [0.4444444444444444, \"#bd3786\"], [0.5555555555555556, \"#d8576b\"], [0.6666666666666666, \"#ed7953\"], [0.7777777777777778, \"#fb9f3a\"], [0.8888888888888888, \"#fdca26\"], [1.0, \"#f0f921\"]], \"type\": \"contour\"}], \"contourcarpet\": [{\"colorbar\": {\"outlinewidth\": 0, \"ticks\": \"\"}, \"type\": \"contourcarpet\"}], \"heatmap\": [{\"colorbar\": {\"outlinewidth\": 0, \"ticks\": \"\"}, \"colorscale\": [[0.0, \"#0d0887\"], [0.1111111111111111, \"#46039f\"], [0.2222222222222222, \"#7201a8\"], [0.3333333333333333, \"#9c179e\"], [0.4444444444444444, \"#bd3786\"], [0.5555555555555556, \"#d8576b\"], [0.6666666666666666, \"#ed7953\"], [0.7777777777777778, \"#fb9f3a\"], [0.8888888888888888, \"#fdca26\"], [1.0, \"#f0f921\"]], \"type\": \"heatmap\"}], \"heatmapgl\": [{\"colorbar\": {\"outlinewidth\": 0, \"ticks\": \"\"}, \"colorscale\": [[0.0, \"#0d0887\"], [0.1111111111111111, \"#46039f\"], [0.2222222222222222, \"#7201a8\"], [0.3333333333333333, \"#9c179e\"], [0.4444444444444444, \"#bd3786\"], [0.5555555555555556, \"#d8576b\"], [0.6666666666666666, \"#ed7953\"], [0.7777777777777778, \"#fb9f3a\"], [0.8888888888888888, \"#fdca26\"], [1.0, \"#f0f921\"]], \"type\": \"heatmapgl\"}], \"histogram\": [{\"marker\": {\"colorbar\": {\"outlinewidth\": 0, \"ticks\": \"\"}}, \"type\": \"histogram\"}], \"histogram2d\": [{\"colorbar\": {\"outlinewidth\": 0, \"ticks\": \"\"}, \"colorscale\": [[0.0, \"#0d0887\"], [0.1111111111111111, \"#46039f\"], [0.2222222222222222, \"#7201a8\"], [0.3333333333333333, \"#9c179e\"], [0.4444444444444444, \"#bd3786\"], [0.5555555555555556, \"#d8576b\"], [0.6666666666666666, \"#ed7953\"], [0.7777777777777778, \"#fb9f3a\"], [0.8888888888888888, \"#fdca26\"], [1.0, \"#f0f921\"]], \"type\": \"histogram2d\"}], \"histogram2dcontour\": [{\"colorbar\": {\"outlinewidth\": 0, \"ticks\": \"\"}, \"colorscale\": [[0.0, \"#0d0887\"], [0.1111111111111111, \"#46039f\"], [0.2222222222222222, \"#7201a8\"], [0.3333333333333333, \"#9c179e\"], [0.4444444444444444, \"#bd3786\"], [0.5555555555555556, \"#d8576b\"], [0.6666666666666666, \"#ed7953\"], [0.7777777777777778, \"#fb9f3a\"], [0.8888888888888888, \"#fdca26\"], [1.0, \"#f0f921\"]], \"type\": \"histogram2dcontour\"}], \"mesh3d\": [{\"colorbar\": {\"outlinewidth\": 0, \"ticks\": \"\"}, \"type\": \"mesh3d\"}], \"parcoords\": [{\"line\": {\"colorbar\": {\"outlinewidth\": 0, \"ticks\": \"\"}}, \"type\": \"parcoords\"}], \"pie\": [{\"automargin\": true, \"type\": \"pie\"}], \"scatter\": [{\"marker\": {\"colorbar\": {\"outlinewidth\": 0, \"ticks\": \"\"}}, \"type\": \"scatter\"}], \"scatter3d\": [{\"line\": {\"colorbar\": {\"outlinewidth\": 0, \"ticks\": \"\"}}, \"marker\": {\"colorbar\": {\"outlinewidth\": 0, \"ticks\": \"\"}}, \"type\": \"scatter3d\"}], \"scattercarpet\": [{\"marker\": {\"colorbar\": {\"outlinewidth\": 0, \"ticks\": \"\"}}, \"type\": \"scattercarpet\"}], \"scattergeo\": [{\"marker\": {\"colorbar\": {\"outlinewidth\": 0, \"ticks\": \"\"}}, \"type\": \"scattergeo\"}], \"scattergl\": [{\"marker\": {\"colorbar\": {\"outlinewidth\": 0, \"ticks\": \"\"}}, \"type\": \"scattergl\"}], \"scattermapbox\": [{\"marker\": {\"colorbar\": {\"outlinewidth\": 0, \"ticks\": \"\"}}, \"type\": \"scattermapbox\"}], \"scatterpolar\": [{\"marker\": {\"colorbar\": {\"outlinewidth\": 0, \"ticks\": \"\"}}, \"type\": \"scatterpolar\"}], \"scatterpolargl\": [{\"marker\": {\"colorbar\": {\"outlinewidth\": 0, \"ticks\": \"\"}}, \"type\": \"scatterpolargl\"}], \"scatterternary\": [{\"marker\": {\"colorbar\": {\"outlinewidth\": 0, \"ticks\": \"\"}}, \"type\": \"scatterternary\"}], \"surface\": [{\"colorbar\": {\"outlinewidth\": 0, \"ticks\": \"\"}, \"colorscale\": [[0.0, \"#0d0887\"], [0.1111111111111111, \"#46039f\"], [0.2222222222222222, \"#7201a8\"], [0.3333333333333333, \"#9c179e\"], [0.4444444444444444, \"#bd3786\"], [0.5555555555555556, \"#d8576b\"], [0.6666666666666666, \"#ed7953\"], [0.7777777777777778, \"#fb9f3a\"], [0.8888888888888888, \"#fdca26\"], [1.0, \"#f0f921\"]], \"type\": \"surface\"}], \"table\": [{\"cells\": {\"fill\": {\"color\": \"#EBF0F8\"}, \"line\": {\"color\": \"white\"}}, \"header\": {\"fill\": {\"color\": \"#C8D4E3\"}, \"line\": {\"color\": \"white\"}}, \"type\": \"table\"}]}, \"layout\": {\"annotationdefaults\": {\"arrowcolor\": \"#2a3f5f\", \"arrowhead\": 0, \"arrowwidth\": 1}, \"coloraxis\": {\"colorbar\": {\"outlinewidth\": 0, \"ticks\": \"\"}}, \"colorscale\": {\"diverging\": [[0, \"#8e0152\"], [0.1, \"#c51b7d\"], [0.2, \"#de77ae\"], [0.3, \"#f1b6da\"], [0.4, \"#fde0ef\"], [0.5, \"#f7f7f7\"], [0.6, \"#e6f5d0\"], [0.7, \"#b8e186\"], [0.8, \"#7fbc41\"], [0.9, \"#4d9221\"], [1, \"#276419\"]], \"sequential\": [[0.0, \"#0d0887\"], [0.1111111111111111, \"#46039f\"], [0.2222222222222222, \"#7201a8\"], [0.3333333333333333, \"#9c179e\"], [0.4444444444444444, \"#bd3786\"], [0.5555555555555556, \"#d8576b\"], [0.6666666666666666, \"#ed7953\"], [0.7777777777777778, \"#fb9f3a\"], [0.8888888888888888, \"#fdca26\"], [1.0, \"#f0f921\"]], \"sequentialminus\": [[0.0, \"#0d0887\"], [0.1111111111111111, \"#46039f\"], [0.2222222222222222, \"#7201a8\"], [0.3333333333333333, \"#9c179e\"], [0.4444444444444444, \"#bd3786\"], [0.5555555555555556, \"#d8576b\"], [0.6666666666666666, \"#ed7953\"], [0.7777777777777778, \"#fb9f3a\"], [0.8888888888888888, \"#fdca26\"], [1.0, \"#f0f921\"]]}, \"colorway\": [\"#636efa\", \"#EF553B\", \"#00cc96\", \"#ab63fa\", \"#FFA15A\", \"#19d3f3\", \"#FF6692\", \"#B6E880\", \"#FF97FF\", \"#FECB52\"], \"font\": {\"color\": \"#2a3f5f\"}, \"geo\": {\"bgcolor\": \"white\", \"lakecolor\": \"white\", \"landcolor\": \"#E5ECF6\", \"showlakes\": true, \"showland\": true, \"subunitcolor\": \"white\"}, \"hoverlabel\": {\"align\": \"left\"}, \"hovermode\": \"closest\", \"mapbox\": {\"style\": \"light\"}, \"paper_bgcolor\": \"white\", \"plot_bgcolor\": \"#E5ECF6\", \"polar\": {\"angularaxis\": {\"gridcolor\": \"white\", \"linecolor\": \"white\", \"ticks\": \"\"}, \"bgcolor\": \"#E5ECF6\", \"radialaxis\": {\"gridcolor\": \"white\", \"linecolor\": \"white\", \"ticks\": \"\"}}, \"scene\": {\"xaxis\": {\"backgroundcolor\": \"#E5ECF6\", \"gridcolor\": \"white\", \"gridwidth\": 2, \"linecolor\": \"white\", \"showbackground\": true, \"ticks\": \"\", \"zerolinecolor\": \"white\"}, \"yaxis\": {\"backgroundcolor\": \"#E5ECF6\", \"gridcolor\": \"white\", \"gridwidth\": 2, \"linecolor\": \"white\", \"showbackground\": true, \"ticks\": \"\", \"zerolinecolor\": \"white\"}, \"zaxis\": {\"backgroundcolor\": \"#E5ECF6\", \"gridcolor\": \"white\", \"gridwidth\": 2, \"linecolor\": \"white\", \"showbackground\": true, \"ticks\": \"\", \"zerolinecolor\": \"white\"}}, \"shapedefaults\": {\"line\": {\"color\": \"#2a3f5f\"}}, \"ternary\": {\"aaxis\": {\"gridcolor\": \"white\", \"linecolor\": \"white\", \"ticks\": \"\"}, \"baxis\": {\"gridcolor\": \"white\", \"linecolor\": \"white\", \"ticks\": \"\"}, \"bgcolor\": \"#E5ECF6\", \"caxis\": {\"gridcolor\": \"white\", \"linecolor\": \"white\", \"ticks\": \"\"}}, \"title\": {\"x\": 0.05}, \"xaxis\": {\"automargin\": true, \"gridcolor\": \"white\", \"linecolor\": \"white\", \"ticks\": \"\", \"title\": {\"standoff\": 15}, \"zerolinecolor\": \"white\", \"zerolinewidth\": 2}, \"yaxis\": {\"automargin\": true, \"gridcolor\": \"white\", \"linecolor\": \"white\", \"ticks\": \"\", \"title\": {\"standoff\": 15}, \"zerolinecolor\": \"white\", \"zerolinewidth\": 2}}}, \"title\": {\"text\": \"Document Distribution by Topics\"}, \"xaxis\": {\"anchor\": \"y\", \"domain\": [0.0, 1.0], \"title\": {\"text\": \"Topic\"}}, \"yaxis\": {\"anchor\": \"x\", \"domain\": [0.0, 1.0], \"title\": {\"text\": \"Documents\"}}},\n",
       "                        {\"responsive\": true}\n",
       "                    ).then(function(){\n",
       "                            \n",
       "var gd = document.getElementById('aaf57f5c-3780-48d5-8ee4-5fe49b8a7e7d');\n",
       "var x = new MutationObserver(function (mutations, observer) {{\n",
       "        var display = window.getComputedStyle(gd).display;\n",
       "        if (!display || display === 'none') {{\n",
       "            console.log([gd, 'removed!']);\n",
       "            Plotly.purge(gd);\n",
       "            observer.disconnect();\n",
       "        }}\n",
       "}});\n",
       "\n",
       "// Listen for the removal of the full notebook cells\n",
       "var notebookContainer = gd.closest('#notebook-container');\n",
       "if (notebookContainer) {{\n",
       "    x.observe(notebookContainer, {childList: true});\n",
       "}}\n",
       "\n",
       "// Listen for the clearing of the current output cell\n",
       "var outputEl = gd.closest('.output');\n",
       "if (outputEl) {{\n",
       "    x.observe(outputEl, {childList: true});\n",
       "}}\n",
       "\n",
       "                        })\n",
       "                };\n",
       "                });\n",
       "            </script>\n",
       "        </div>"
      ]
     },
     "metadata": {},
     "output_type": "display_data"
    }
   ],
   "source": [
    "plot_model(lda, plot = 'topic_distribution')"
   ]
  },
  {
   "cell_type": "markdown",
   "metadata": {},
   "source": [
    "Each document is a distribution of topics and not a single topic. Although, if the task is of categorizing document into specific topics, it wouldn't be wrong to use the topic proportion with highest value to categorize the document into **a topic**. In above plot, each document is categorized into one topic using the largest proportion of topic weights. We can see most of the documents are in `Topic 3` with only few in `Topic 1`. If you hover over these bars, you will get basic idea of themes in this topic by looking at the keywords. For example if you evaluate `Topic 2`, you will see keywords words like 'farmer', 'rice', 'land', which probably means that the loan applicants in this category pertains to agricultural/farming loans. However, if you hover over `Topic 0` and `Topic 3` you will observe lot of repitions and keywords are overlapping in all topics such as word \"loan\" and \"business\" appears both in `Topic 0` and `Topic 3`. In next tutorial, __[Natural Language Processing Tutorial (NLP102) - Level Intermediate](https://github.com/pycaret/pycaret/blob/master/Tutorials/Natural%20Language%20Processing%20Tutorial%20Level%20Intermediate%20-%20NLP102.ipynb)__ we will demonstrate the use of `custom_stopwords` at which point we will re-analyze this plot."
   ]
  },
  {
   "cell_type": "markdown",
   "metadata": {},
   "source": [
    "### 9.5 T-distributed Stochastic Neighbor Embedding (t-SNE)"
   ]
  },
  {
   "cell_type": "code",
   "execution_count": 23,
   "metadata": {},
   "outputs": [
    {
     "data": {
      "text/html": [
       "        <script type=\"text/javascript\">\n",
       "        window.PlotlyConfig = {MathJaxConfig: 'local'};\n",
       "        if (window.MathJax) {MathJax.Hub.Config({SVG: {font: \"STIX-Web\"}});}\n",
       "        if (typeof require !== 'undefined') {\n",
       "        require.undef(\"plotly\");\n",
       "        requirejs.config({\n",
       "            paths: {\n",
       "                'plotly': ['https://cdn.plot.ly/plotly-latest.min']\n",
       "            }\n",
       "        });\n",
       "        require(['plotly'], function(Plotly) {\n",
       "            window._Plotly = Plotly;\n",
       "        });\n",
       "        }\n",
       "        </script>\n",
       "        "
      ]
     },
     "metadata": {},
     "output_type": "display_data"
    },
    {
     "data": {
      "application/vnd.plotly.v1+json": {
       "config": {
        "plotlyServerURL": "https://plot.ly"
       },
       "data": [
        {
         "hoverlabel": {
          "namelength": 0
         },
         "hovertemplate": "Dominant_Topic=Topic 0<br>0=%{x}<br>1=%{y}<br>2=%{z}",
         "legendgroup": "Dominant_Topic=Topic 0",
         "marker": {
          "color": "#636efa",
          "opacity": 0.7,
          "symbol": "circle"
         },
         "mode": "markers",
         "name": "Dominant_Topic=Topic 0",
         "scene": "scene",
         "showlegend": true,
         "type": "scatter3d",
         "x": [
          0.580877959728241,
          0.2224329710006714,
          -0.554764449596405,
          0.5596984624862671,
          1.0190916061401367,
          0.7953823804855347,
          1.1211754083633423,
          0.2415754795074463,
          -0.5548763871192932,
          1.9357575178146362,
          0.282889723777771,
          0.9225965142250061,
          0.6143847703933716,
          2.0894923210144043,
          0.3547080457210541,
          1.1638988256454468,
          0.025879226624965668,
          0.4935312867164612,
          1.1702370643615723,
          0.8764452338218689,
          1.7136085033416748,
          0.4589498043060303,
          1.8323253393173218,
          0.7843786478042603,
          1.285922884941101,
          0.1566687971353531,
          0.03446926176548004,
          0.5182308554649353,
          1.4150633811950684,
          0.9065325856208801,
          0.15556295216083527,
          1.7214030027389526,
          0.8240438103675842,
          0.642983078956604,
          0.6702443361282349,
          1.141563892364502,
          0.5214382410049438,
          0.7010069489479065,
          2.170647382736206,
          2.054187297821045,
          2.016249656677246,
          0.5924200415611267,
          0.1980208456516266,
          1.0318390130996704,
          0.5032936334609985
         ],
         "y": [
          -11.022940635681152,
          -11.30164909362793,
          -6.5830583572387695,
          -11.174238204956055,
          -10.337331771850586,
          -11.451120376586914,
          -10.212244033813477,
          -11.600101470947266,
          -6.589481830596924,
          -9.7989501953125,
          -11.59134292602539,
          -7.235836982727051,
          -11.437210083007812,
          -9.775965690612793,
          -10.832818984985352,
          -10.171429634094238,
          -11.243111610412598,
          -10.892255783081055,
          -10.15934944152832,
          -11.182267189025879,
          -9.84437370300293,
          -11.210442543029785,
          -9.85849380493164,
          -11.526463508605957,
          -10.083106994628906,
          -10.925910949707031,
          -11.317220687866211,
          -11.695047378540039,
          -9.976770401000977,
          -10.496481895446777,
          -10.9993314743042,
          -9.902488708496094,
          -11.249726295471191,
          -11.003314018249512,
          -10.879084587097168,
          -10.19742488861084,
          -11.6581392288208,
          -8.83791732788086,
          -9.75416088104248,
          -9.7787504196167,
          -9.582087516784668,
          -10.831806182861328,
          -11.571039199829102,
          -10.321623802185059,
          -8.59794807434082
         ],
         "z": [
          -3.657258987426758,
          -4.58914041519165,
          -1.035497784614563,
          -4.630870819091797,
          -2.231189489364624,
          -4.4168853759765625,
          -1.9511994123458862,
          -4.029590606689453,
          -1.0396445989608765,
          -0.45746418833732605,
          -3.979740858078003,
          0.277081161737442,
          -3.8105955123901367,
          -0.25725114345550537,
          -4.303116321563721,
          -1.8445838689804077,
          -4.26175594329834,
          -4.421406269073486,
          -1.8225270509719849,
          -4.230217456817627,
          -0.773734986782074,
          -4.6498541831970215,
          -0.6492645144462585,
          -4.142126560211182,
          -1.5877432823181152,
          -3.9756522178649902,
          -4.300767421722412,
          -4.203231334686279,
          -1.29836905002594,
          -2.599477767944336,
          -3.879016399383545,
          -0.837148129940033,
          -4.44002103805542,
          -3.5014662742614746,
          -3.365368127822876,
          -1.9071571826934814,
          -4.420372009277344,
          0.6227186918258667,
          -0.14469541609287262,
          -0.29423731565475464,
          0.056966304779052734,
          -3.9703891277313232,
          -4.433218002319336,
          -2.196781873703003,
          -0.434406578540802
         ]
        },
        {
         "hoverlabel": {
          "namelength": 0
         },
         "hovertemplate": "Dominant_Topic=Topic 1<br>0=%{x}<br>1=%{y}<br>2=%{z}",
         "legendgroup": "Dominant_Topic=Topic 1",
         "marker": {
          "color": "#EF553B",
          "opacity": 0.7,
          "symbol": "circle"
         },
         "mode": "markers",
         "name": "Dominant_Topic=Topic 1",
         "scene": "scene",
         "showlegend": true,
         "type": "scatter3d",
         "x": [
          -8.043473243713379,
          -8.304264068603516,
          -9.341216087341309,
          -7.026676654815674,
          -9.299322128295898,
          -11.19878101348877,
          -11.296876907348633,
          -11.356410026550293,
          -9.461956024169922,
          -9.37147331237793,
          -10.371731758117676,
          -10.863860130310059,
          -11.342718124389648,
          -9.627086639404297,
          -8.485089302062988,
          -7.34832239151001,
          -9.251890182495117,
          -8.853544235229492,
          -7.330111980438232,
          -9.457049369812012,
          -9.125004768371582,
          -9.99853515625,
          -11.291319847106934,
          -9.47669506072998,
          -11.429093360900879,
          -10.27211856842041,
          -11.26986312866211,
          -9.99901008605957,
          -9.166984558105469,
          -9.160748481750488,
          -9.338949203491211,
          -9.21191692352295,
          -9.361318588256836,
          -7.207481861114502,
          -9.21656322479248,
          -9.141120910644531,
          -8.479076385498047,
          -8.5310640335083,
          -9.28549861907959,
          -9.311036109924316,
          -9.109396934509277,
          -9.13037395477295,
          -9.644742965698242,
          -11.085038185119629,
          -10.572416305541992,
          -9.40294075012207,
          -9.201355934143066,
          -11.260902404785156,
          -9.058429718017578,
          -9.169540405273438,
          -6.868458271026611,
          -7.113003730773926,
          -9.198225021362305,
          -11.504753112792969,
          -11.401711463928223,
          -9.456626892089844,
          -9.152909278869629,
          -10.506422996520996,
          -9.167275428771973,
          -10.769895553588867,
          -10.604001998901367,
          -11.514692306518555,
          -9.181636810302734,
          -9.355454444885254,
          -11.139754295349121,
          -10.457090377807617,
          -9.245697975158691,
          -11.068451881408691,
          -9.628536224365234,
          -8.327709197998047,
          -9.464537620544434,
          -9.378143310546875,
          -9.459615707397461,
          -11.084540367126465,
          -11.376030921936035,
          -9.030401229858398,
          -10.674520492553711,
          -9.98620319366455,
          -10.138073921203613,
          -9.436800956726074,
          -9.29365062713623,
          -9.22033977508545,
          -9.30705451965332,
          -9.018999099731445,
          -9.144545555114746,
          -9.217367172241211,
          -8.51065444946289,
          -11.33006763458252,
          -10.493720054626465,
          -11.398324966430664,
          -11.012091636657715,
          -8.900945663452148,
          -9.597179412841797,
          -9.442768096923828,
          -10.309321403503418,
          -9.650875091552734,
          -8.912346839904785,
          -9.476827621459961,
          -9.248824119567871,
          -9.15369701385498,
          -8.488398551940918,
          -9.178173065185547,
          -10.241083145141602,
          -9.45766544342041,
          -10.876405715942383,
          -9.462041854858398,
          -9.312621116638184,
          -9.144746780395508,
          -9.14967155456543,
          -10.129737854003906,
          -8.646178245544434,
          -10.397377014160156,
          -11.12954330444336,
          -9.044495582580566,
          -10.177302360534668,
          -9.428936958312988,
          -9.012128829956055,
          -10.07528018951416,
          -11.094825744628906,
          -10.209390640258789,
          -9.175225257873535,
          -9.147884368896484,
          -9.151832580566406,
          -11.283503532409668,
          -11.345013618469238,
          -9.643341064453125,
          -9.222468376159668,
          -8.928010940551758,
          -9.422104835510254,
          -9.3621826171875,
          -9.148914337158203,
          -9.15442180633545,
          -8.438987731933594,
          -11.614553451538086,
          -11.075474739074707,
          -11.198920249938965,
          -9.364013671875,
          -11.028693199157715,
          -9.313576698303223,
          -9.398714065551758,
          -11.355380058288574,
          -9.299482345581055,
          -9.105599403381348,
          -11.31201171875,
          -10.72614860534668,
          -9.296281814575195,
          -11.452948570251465,
          -9.901653289794922,
          -10.023214340209961,
          -8.766105651855469,
          -9.426074028015137,
          -9.137898445129395,
          -9.154962539672852,
          -9.343421936035156,
          -9.45327377319336,
          -8.819622039794922,
          -9.147576332092285,
          -9.953771591186523,
          -10.651512145996094,
          -9.708902359008789,
          -10.179113388061523,
          -11.456382751464844,
          -10.967303276062012,
          -9.255931854248047,
          -7.404562473297119,
          -11.376797676086426,
          -9.156274795532227,
          -9.14670467376709,
          -9.731588363647461,
          -9.372058868408203,
          -9.241142272949219,
          -10.26999568939209,
          -8.528223991394043,
          -8.447388648986816,
          -11.045812606811523,
          -6.985605239868164,
          -11.05859375,
          -9.15351390838623,
          -9.370165824890137,
          -9.617037773132324,
          -8.755045890808105,
          -9.133988380432129,
          -9.766519546508789,
          -11.44670295715332,
          -11.284506797790527,
          -9.083905220031738,
          -11.53262996673584,
          -8.856550216674805,
          -9.392356872558594,
          -10.803794860839844,
          -9.423165321350098,
          -9.34292984008789,
          -8.524751663208008,
          -9.159748077392578,
          -9.21221923828125,
          -9.3012113571167,
          -7.306513786315918,
          -9.020520210266113,
          -9.404046058654785,
          -9.452219009399414,
          -7.506631851196289,
          -11.326988220214844,
          -11.31281852722168,
          -10.83182430267334,
          -9.272661209106445,
          -9.396966934204102,
          -11.08382797241211,
          -11.425344467163086,
          -9.289633750915527,
          -9.418497085571289,
          -9.947599411010742,
          -8.169838905334473,
          -10.631901741027832,
          -10.198888778686523,
          -9.224604606628418,
          -10.7959566116333,
          -9.88581371307373,
          -9.058462142944336,
          -9.366873741149902,
          -9.752411842346191,
          -9.400569915771484,
          -9.46206283569336,
          -9.2420654296875,
          -10.016974449157715,
          -10.8058443069458,
          -10.002716064453125,
          -11.363775253295898,
          -11.331202507019043,
          -10.619563102722168,
          -7.228529453277588,
          -8.494071960449219,
          -9.474223136901855,
          -9.442307472229004,
          -9.177926063537598,
          -10.041037559509277,
          -9.093489646911621,
          -9.44179916381836,
          -11.022745132446289
         ],
         "y": [
          -0.7972122430801392,
          2.821476697921753,
          -3.9016575813293457,
          -0.47859111428260803,
          1.938904047012329,
          -14.19241714477539,
          -14.365274429321289,
          -13.539824485778809,
          -1.670000433921814,
          -4.17726993560791,
          -8.09581470489502,
          -10.10706615447998,
          -12.97669792175293,
          -4.756265163421631,
          -1.2954447269439697,
          -0.3802025020122528,
          4.712759971618652,
          4.404885292053223,
          0.37342533469200134,
          -0.9680941700935364,
          4.468143463134766,
          -6.571399688720703,
          -12.020991325378418,
          -3.0272700786590576,
          -14.515482902526855,
          -7.705827236175537,
          -14.490165710449219,
          -7.656594276428223,
          4.634513854980469,
          4.607165813446045,
          4.178579330444336,
          4.8129496574401855,
          4.191661834716797,
          0.08417429029941559,
          4.808973789215088,
          3.9691002368927,
          -1.3092072010040283,
          4.548196315765381,
          4.643584728240967,
          3.7103607654571533,
          2.3308944702148438,
          4.840085029602051,
          -4.039909839630127,
          -11.313426971435547,
          -8.875099182128906,
          -7.502918720245361,
          4.8435540199279785,
          -12.748437881469727,
          4.728562355041504,
          2.9365875720977783,
          -0.47885066270828247,
          -0.472639799118042,
          3.904752731323242,
          -14.246341705322266,
          -12.465409278869629,
          -0.9946718811988831,
          4.9361677169799805,
          -8.61669921875,
          4.9336256980896,
          -9.669947624206543,
          -9.012781143188477,
          -14.52355670928955,
          4.920714855194092,
          -4.225579261779785,
          -11.617655754089355,
          -8.418701171875,
          4.709688663482666,
          -11.201220512390137,
          -4.376861572265625,
          2.6057889461517334,
          -1.0559881925582886,
          0.5403501391410828,
          -1.0890843868255615,
          -11.29479694366455,
          -14.564260482788086,
          -0.7651384472846985,
          -9.291059494018555,
          -6.518041133880615,
          -7.175360202789307,
          -2.7784616947174072,
          1.9887092113494873,
          4.782492637634277,
          2.0854837894439697,
          -0.7175919413566589,
          4.926926612854004,
          2.5201170444488525,
          3.558483123779297,
          -14.0739164352417,
          -8.569501876831055,
          -13.800803184509277,
          -12.446587562561035,
          2.0265510082244873,
          -4.672932147979736,
          -7.470074653625488,
          -12.45705509185791,
          -4.876838207244873,
          -3.214383840560913,
          -4.30410099029541,
          2.0383782386779785,
          3.8497209548950195,
          -0.9807217121124268,
          4.92417049407959,
          -7.5743818283081055,
          -1.376993179321289,
          -10.169830322265625,
          -1.2237192392349243,
          4.448276042938232,
          3.4504265785217285,
          4.639055252075195,
          -7.158323287963867,
          2.5511481761932373,
          -12.583863258361816,
          -12.521401405334473,
          4.8152570724487305,
          -7.327224254608154,
          -2.755183696746826,
          4.822059631347656,
          -6.936494827270508,
          -12.034276962280273,
          -7.434136390686035,
          4.043122291564941,
          3.468925714492798,
          3.130866765975952,
          -14.293112754821777,
          -13.261157989501953,
          -4.170238018035889,
          4.777079105377197,
          4.381211757659912,
          -3.13555645942688,
          4.068883895874023,
          3.28521990776062,
          4.934930324554443,
          4.121922016143799,
          -14.258227348327637,
          -13.728669166564941,
          -11.88547420501709,
          0.6609275341033936,
          -12.133960723876953,
          2.1970629692077637,
          0.251845121383667,
          -12.9030179977417,
          -3.830203056335449,
          3.8504579067230225,
          -12.175477981567383,
          -9.502098083496094,
          1.4423656463623047,
          -12.43111515045166,
          -6.129530429840088,
          -6.67521858215332,
          0.02851690724492073,
          -0.518237829208374,
          4.479035377502441,
          3.309706926345825,
          4.3356499671936035,
          -2.0493571758270264,
          -0.24054265022277832,
          4.928600311279297,
          -6.368877410888672,
          -14.311010360717773,
          -4.03960657119751,
          -7.341883182525635,
          -12.45301628112793,
          -10.62419319152832,
          1.9644218683242798,
          0.752075731754303,
          -13.686145782470703,
          3.2916717529296875,
          4.503068447113037,
          -5.265039443969727,
          4.1113691329956055,
          2.5786325931549072,
          -7.697079658508301,
          -0.17047405242919922,
          -0.5725501179695129,
          -11.068768501281738,
          -0.3243419826030731,
          -12.597418785095215,
          3.9174275398254395,
          4.169116973876953,
          -3.6424314975738525,
          1.020604133605957,
          4.28934907913208,
          -5.466638088226318,
          -14.027254104614258,
          -12.744036674499512,
          4.907284736633301,
          -14.101962089538574,
          1.90732741355896,
          0.28074824810028076,
          -9.831787109375,
          -0.47240474820137024,
          4.40914249420166,
          -0.7335230112075806,
          4.940236568450928,
          2.8010544776916504,
          3.622141122817993,
          0.506395161151886,
          -0.7300359606742859,
          -3.3250582218170166,
          -1.738235592842102,
          -0.732607364654541,
          -12.015278816223145,
          -12.343396186828613,
          -9.955507278442383,
          4.686016082763672,
          -7.35984992980957,
          -11.291657447814941,
          -14.562500953674316,
          4.590114593505859,
          -0.06871622055768967,
          -6.908307075500488,
          3.665668249130249,
          -9.13357925415039,
          -8.070512771606445,
          1.9082554578781128,
          -9.811169624328613,
          -6.03427267074585,
          3.9192824363708496,
          -3.284113645553589,
          -5.40161657333374,
          0.1275322586297989,
          -4.454826354980469,
          2.3071677684783936,
          -6.635946273803711,
          -9.848142623901367,
          -7.696090221405029,
          -14.060100555419922,
          -13.172348976135254,
          -9.07436752319336,
          0.04542016610503197,
          1.500314474105835,
          -2.9928176403045654,
          -2.908275604248047,
          4.830108165740967,
          -7.808250427246094,
          4.910552024841309,
          -2.44694447517395,
          -8.533453941345215
         ],
         "z": [
          -11.741957664489746,
          -7.356375217437744,
          -11.172430038452148,
          -6.896672248840332,
          -10.31824779510498,
          -3.4764719009399414,
          -4.294686317443848,
          -5.0130743980407715,
          -11.517731666564941,
          -11.151833534240723,
          -9.354296684265137,
          -7.976956367492676,
          -5.577479362487793,
          -10.819710731506348,
          -9.49211311340332,
          -7.087793350219727,
          -3.3142967224121094,
          -2.970362424850464,
          -6.676499843597412,
          -11.503863334655762,
          -7.225125789642334,
          -10.1322021484375,
          -6.537647247314453,
          -11.337607383728027,
          -3.7610714435577393,
          -9.584136009216309,
          -3.903672456741333,
          -8.049464225769043,
          -6.884520530700684,
          -6.933896541595459,
          -1.9600332975387573,
          -3.8141558170318604,
          -1.9517055749893188,
          -6.727834224700928,
          -6.23101282119751,
          -8.166693687438965,
          -9.476095199584961,
          -7.063906669616699,
          -3.0401976108551025,
          -1.2259246110916138,
          -9.756064414978027,
          -6.390224933624268,
          -11.168305397033691,
          -7.086203098297119,
          -8.808472633361816,
          -6.682487487792969,
          -4.016177654266357,
          -5.93494987487793,
          -6.676226615905762,
          -9.51016902923584,
          -6.771988391876221,
          -6.957173824310303,
          -1.6471904516220093,
          -3.8777263164520264,
          -5.867290496826172,
          -11.506132125854492,
          -5.371788024902344,
          -9.023736953735352,
          -4.865463733673096,
          -8.275249481201172,
          -8.725747108459473,
          -3.7857675552368164,
          -4.6244964599609375,
          -10.859688758850098,
          -6.838533401489258,
          -9.151885986328125,
          -3.3188462257385254,
          -7.169249534606934,
          -11.062362670898438,
          -7.711130142211914,
          -11.512554168701172,
          -11.07896614074707,
          -11.513716697692871,
          -7.100741863250732,
          -4.006738185882568,
          -3.367567300796509,
          -8.529031753540039,
          -10.158493041992188,
          -9.877601623535156,
          -11.364457130432129,
          -10.289763450622559,
          -3.648608446121216,
          -10.272565841674805,
          -3.30255389213562,
          -5.461059093475342,
          -9.967180252075195,
          -1.8185515403747559,
          -4.406215190887451,
          -9.045949935913086,
          -4.730625152587891,
          -6.158735275268555,
          -9.552032470703125,
          -10.831954002380371,
          -6.820381164550781,
          -4.269595146179199,
          -10.776878356933594,
          -10.17797565460205,
          -10.75510025024414,
          -10.254884719848633,
          -8.380948066711426,
          -9.489583015441895,
          -4.67261266708374,
          -9.668558120727539,
          -11.522923469543457,
          -7.926647186279297,
          -11.521049499511719,
          -2.497858762741089,
          -8.935221672058105,
          -6.85056734085083,
          -9.858782768249512,
          -9.967756271362305,
          -4.291926383972168,
          -6.2944016456604,
          -6.093719959259033,
          -9.780403137207031,
          -11.35682201385498,
          -6.28084659576416,
          -9.972881317138672,
          -6.249046325683594,
          -9.746719360351562,
          -1.897172451019287,
          -8.915668487548828,
          -9.303356170654297,
          -4.328070640563965,
          -5.289233684539795,
          -10.822517395019531,
          -3.6230149269104004,
          -6.6412034034729,
          -11.299264907836914,
          -1.7409716844558716,
          -9.135552406311035,
          -5.208837032318115,
          -2.8793506622314453,
          -4.09940767288208,
          -4.119849681854248,
          -6.619001865386963,
          -11.018327713012695,
          -6.377910137176514,
          -10.22274112701416,
          -11.20201587677002,
          -5.6601738929748535,
          -11.10932731628418,
          -8.349320411682129,
          -6.0168657302856445,
          -8.39401626586914,
          -10.6025972366333,
          -5.938570976257324,
          -10.304865837097168,
          -10.09731388092041,
          -1.3039318323135376,
          -11.431356430053711,
          -7.209904670715332,
          -9.117744445800781,
          -2.232604742050171,
          -11.476548194885254,
          -1.8886353969573975,
          -5.4608354568481445,
          -10.206971168518066,
          -4.244344711303711,
          -10.986112594604492,
          -9.74939250946045,
          -6.215317249298096,
          -7.6049017906188965,
          -10.272520065307617,
          -6.535569190979004,
          -4.853816986083984,
          -9.140104293823242,
          -7.160694599151611,
          -10.638602256774902,
          -1.8029216527938843,
          -9.914443969726562,
          -9.575730323791504,
          -9.445622444152832,
          -9.339509963989258,
          -7.265872478485107,
          -6.781655788421631,
          -5.609550952911377,
          -8.273883819580078,
          -1.903326392173767,
          -11.03756332397461,
          -9.674276351928711,
          -7.5979485511779785,
          -10.56296157836914,
          -4.519031524658203,
          -6.012206077575684,
          -5.861167907714844,
          -4.151614189147949,
          -10.366311073303223,
          -11.188124656677246,
          -8.168542861938477,
          -11.421517372131348,
          -2.3801069259643555,
          -11.643637657165527,
          -5.140111446380615,
          -9.677558898925781,
          -1.093210220336914,
          -6.541605472564697,
          -3.3215320110321045,
          -11.283576965332031,
          -11.508779525756836,
          -7.371264934539795,
          -6.282196998596191,
          -6.45181941986084,
          -8.084280014038086,
          -3.190948486328125,
          -6.812561511993408,
          -7.101894378662109,
          -3.9943714141845703,
          -2.889204502105713,
          -11.315998077392578,
          -9.36155891418457,
          -2.3453681468963623,
          -8.653754234313965,
          -8.066275596618652,
          -10.283827781677246,
          -8.196788787841797,
          -10.353680610656738,
          -8.23349380493164,
          -11.233763694763184,
          -10.59049129486084,
          -11.246265411376953,
          -10.971433639526367,
          -10.18056869506836,
          -10.118334770202637,
          -8.160757064819336,
          -7.984416961669922,
          -4.435107707977295,
          -5.380077838897705,
          -8.681098937988281,
          -6.770213603973389,
          -10.685397148132324,
          -11.339322090148926,
          -11.318879127502441,
          -6.444030284881592,
          -7.911325454711914,
          -5.851772308349609,
          -11.420586585998535,
          -7.500088691711426
         ]
        },
        {
         "hoverlabel": {
          "namelength": 0
         },
         "hovertemplate": "Dominant_Topic=Topic 2<br>0=%{x}<br>1=%{y}<br>2=%{z}",
         "legendgroup": "Dominant_Topic=Topic 2",
         "marker": {
          "color": "#00cc96",
          "opacity": 0.7,
          "symbol": "circle"
         },
         "mode": "markers",
         "name": "Dominant_Topic=Topic 2",
         "scene": "scene",
         "showlegend": true,
         "type": "scatter3d",
         "x": [
          5.179564952850342,
          2.293034315109253,
          5.375969886779785,
          7.884922981262207,
          8.380860328674316,
          -5.317975997924805,
          0.4614435136318207,
          3.350923776626587,
          4.760396480560303,
          2.41764497756958,
          8.094717979431152,
          6.39420223236084,
          -2.0298666954040527,
          9.16808032989502,
          3.6705069541931152,
          -1.728401780128479,
          5.090127468109131,
          -5.920437812805176,
          2.741056442260742,
          8.14377498626709,
          8.001564025878906,
          -5.848202705383301,
          8.355710983276367,
          -9.264678001403809,
          8.109762191772461,
          6.79079008102417,
          0.020273618400096893,
          1.9078295230865479,
          0.22483007609844208,
          2.392832040786743,
          2.8058083057403564,
          -4.204304218292236,
          3.8174073696136475,
          2.6587722301483154,
          2.537618398666382,
          1.4648364782333374,
          -0.15399979054927826,
          7.376535415649414,
          -6.420893669128418,
          5.181695938110352,
          4.541784286499023,
          2.746609687805176,
          7.524554252624512,
          -1.5466209650039673,
          -2.0385866165161133,
          0.6519562005996704,
          -2.57271146774292,
          3.493776798248291,
          -3.9000473022460938,
          -1.9274332523345947,
          5.181266784667969,
          4.4120635986328125,
          2.7324109077453613,
          7.773634433746338,
          2.034207820892334,
          2.950540542602539,
          4.030825138092041,
          4.87166690826416,
          6.9788312911987305,
          9.056610107421875,
          -2.1111900806427,
          -5.363254070281982,
          4.136884689331055,
          -7.780357360839844,
          4.747886657714844,
          -5.962085247039795,
          8.068263053894043,
          7.448577880859375,
          2.610513687133789,
          0.3564879596233368,
          4.629397869110107,
          6.744476795196533,
          2.343320846557617,
          -1.130725622177124,
          1.309343695640564,
          5.030976295471191,
          -1.8568171262741089,
          -6.700879096984863,
          6.783865451812744,
          -6.568865776062012,
          0.7502928376197815,
          -1.350595235824585,
          4.2037882804870605,
          5.177961826324463,
          -8.974714279174805,
          8.562760353088379,
          2.1970200538635254,
          5.856459140777588,
          5.877015590667725,
          -2.6282107830047607,
          2.987401247024536,
          1.781631588935852,
          -9.04627799987793,
          7.835563659667969,
          2.9663243293762207,
          -3.9962105751037598,
          -0.6670976877212524,
          -4.8866143226623535,
          3.359337091445923,
          6.0864715576171875,
          -9.298232078552246,
          -4.654452323913574,
          3.4491093158721924,
          5.1706624031066895,
          0.6509637832641602,
          -5.545879364013672,
          3.6462061405181885,
          6.965171813964844,
          2.0918235778808594,
          8.150291442871094,
          -9.27435302734375,
          -5.3894548416137695,
          -8.984000205993652,
          -1.065228819847107,
          3.8756375312805176,
          -2.5654594898223877,
          2.6932480335235596,
          5.294358253479004,
          2.12785005569458,
          -7.451272487640381,
          4.996511459350586,
          -0.2450195997953415,
          2.232862949371338,
          0.8633576035499573,
          5.742018699645996,
          -8.835978507995605,
          9.044249534606934,
          8.754441261291504,
          -9.189969062805176,
          2.0948028564453125,
          -7.51118803024292,
          -8.560118675231934,
          2.8840699195861816,
          3.3957772254943848,
          3.9369823932647705,
          4.245343208312988,
          1.1636974811553955,
          8.46542739868164,
          6.3639912605285645,
          7.566343784332275,
          3.0857560634613037,
          1.8314213752746582,
          -8.789416313171387,
          4.288149833679199,
          5.054463863372803,
          9.074860572814941,
          4.364684104919434,
          6.552049160003662,
          6.676388263702393,
          7.193927764892578,
          -5.163461208343506,
          1.4676132202148438,
          5.909184455871582,
          -8.944655418395996,
          1.280001163482666,
          -8.100048065185547,
          7.674989700317383,
          2.3116962909698486,
          1.467894196510315,
          9.153277397155762,
          4.213159561157227,
          3.7462174892425537,
          8.867874145507812,
          7.525168418884277,
          9.008440017700195,
          -9.077754020690918,
          8.10246467590332,
          4.760897159576416,
          -8.874873161315918,
          -1.2465003728866577,
          6.335977554321289,
          5.314085960388184,
          -8.972617149353027,
          5.766057014465332,
          2.8677828311920166,
          9.322616577148438,
          2.6559336185455322,
          4.917487621307373,
          -8.574467658996582,
          -3.7424380779266357,
          3.595641613006592,
          6.607525825500488,
          8.412861824035645,
          -2.368255615234375,
          -2.791344165802002,
          4.795770168304443,
          -8.349601745605469,
          8.58083438873291,
          8.056447982788086,
          9.110398292541504,
          6.808898448944092,
          -2.398893356323242,
          7.117119789123535,
          8.419563293457031,
          -0.4588661789894104,
          4.165050029754639,
          -1.035117268562317,
          3.643458843231201,
          4.752544403076172,
          -0.9580337405204773,
          2.685748815536499,
          2.5937600135803223,
          1.3676725625991821,
          1.4273467063903809,
          4.072068214416504,
          5.414899826049805,
          9.266115188598633,
          7.738479137420654,
          -5.505376815795898,
          6.39694356918335,
          4.984278678894043,
          -4.038006782531738,
          7.177595615386963,
          5.026123523712158,
          -4.6455864906311035,
          4.714884281158447,
          3.724316358566284,
          1.2973932027816772,
          7.56186056137085,
          3.209486722946167,
          1.1479073762893677,
          7.858392238616943,
          6.093867778778076,
          6.220949172973633,
          6.1319169998168945,
          4.744077682495117,
          6.179525375366211,
          3.915404796600342,
          -1.0092025995254517,
          8.87161636352539,
          -8.83194351196289,
          3.9512832164764404,
          3.778731107711792,
          5.153635501861572,
          5.15586519241333,
          4.0492753982543945,
          -4.18505859375,
          4.903990268707275,
          5.606876373291016,
          7.542360305786133,
          -2.7750914096832275,
          -2.0463693141937256,
          7.1346330642700195,
          -5.302405834197998,
          -4.3273186683654785,
          7.928036689758301,
          4.692943572998047,
          -6.707449913024902,
          -2.9131669998168945,
          -3.8318331241607666,
          7.814763069152832,
          9.163176536560059,
          -2.056405782699585,
          2.8783817291259766,
          1.3376473188400269,
          -2.5982019901275635,
          3.550696849822998,
          -8.657313346862793,
          2.2469630241394043,
          6.120620250701904,
          3.4262492656707764,
          3.879397392272949,
          7.675075054168701,
          3.861448287963867,
          1.1112277507781982,
          7.936769008636475,
          8.05468463897705,
          7.169464111328125,
          -5.698307037353516,
          6.043796062469482,
          -5.542390823364258,
          6.071491241455078,
          5.1419525146484375,
          4.072939395904541,
          3.771141529083252,
          4.080122470855713,
          1.9529883861541748,
          9.028820991516113,
          4.050295829772949,
          -5.546549320220947,
          -2.2745540142059326,
          8.814728736877441,
          4.690903186798096,
          -0.5100530385971069,
          7.858757972717285,
          5.072083950042725,
          3.1148056983947754,
          -7.03375768661499,
          1.116852045059204,
          4.6452836990356445,
          1.0710272789001465,
          2.4789130687713623,
          7.712830543518066,
          -1.6003893613815308,
          2.725327253341675,
          6.090348243713379,
          -0.27142834663391113,
          -0.46407824754714966,
          5.348465919494629,
          -5.139739036560059,
          -9.2230863571167,
          5.432551383972168,
          -8.84412956237793,
          -8.95991039276123,
          3.7602195739746094,
          -3.405644416809082,
          5.977180480957031,
          3.689563035964966,
          6.6349196434021,
          1.6138429641723633,
          3.0821890830993652,
          -4.1664628982543945,
          -0.10375414043664932,
          5.682270526885986,
          1.6566962003707886,
          1.3595538139343262,
          -8.726897239685059,
          4.770623683929443,
          2.736729860305786,
          8.467964172363281,
          -2.3419253826141357,
          -8.697331428527832,
          -2.0015649795532227,
          0.17571085691452026,
          9.166422843933105,
          1.3479050397872925,
          -2.5338990688323975,
          2.939365863800049,
          1.534325122833252,
          -2.0437891483306885,
          6.189830303192139,
          -2.0434317588806152,
          4.025039196014404,
          6.398556232452393,
          6.153519630432129,
          5.214852809906006,
          0.06787491589784622,
          5.844038009643555,
          7.361932277679443,
          5.407450199127197,
          1.2899665832519531,
          0.005065972916781902,
          -4.043221950531006,
          -6.9397053718566895,
          -5.6461262702941895,
          -4.967355251312256,
          2.6772849559783936,
          -4.048633575439453,
          -4.038747310638428,
          4.9714884757995605,
          1.074194312095642,
          -3.7638258934020996,
          1.3258765935897827,
          -4.022724151611328,
          4.196633338928223,
          7.66465425491333,
          -0.29666751623153687,
          9.125097274780273,
          8.15302562713623,
          -0.21713614463806152,
          6.452353000640869,
          -9.246847152709961,
          8.363245964050293,
          6.277945518493652,
          2.83663010597229,
          1.5714383125305176,
          7.787072658538818,
          6.567676067352295,
          -9.074857711791992,
          5.119284629821777,
          -0.44121813774108887,
          1.4241440296173096,
          0.8996345400810242,
          1.3269398212432861,
          -0.06832915544509888,
          8.312358856201172,
          3.054083824157715,
          9.194084167480469,
          -7.548820972442627,
          4.964132785797119,
          5.033012390136719,
          7.150060653686523,
          3.178942918777466,
          4.294990539550781,
          6.138359546661377,
          -0.6373605728149414,
          -9.050350189208984,
          8.017111778259277,
          3.3435211181640625,
          -2.330925226211548,
          2.578723907470703,
          0.600466787815094,
          4.57829475402832,
          1.5831938982009888,
          6.0667266845703125,
          7.7074384689331055,
          1.9593623876571655,
          3.651684522628784,
          4.262383460998535,
          6.79738712310791,
          8.530823707580566,
          8.949456214904785,
          -8.872247695922852,
          8.429829597473145,
          1.928940773010254,
          2.7017982006073,
          9.148290634155273,
          3.3711116313934326,
          2.3722259998321533,
          -0.786732017993927,
          7.990987300872803,
          1.5515868663787842,
          2.944664478302002,
          8.669172286987305,
          1.394940972328186,
          1.6624215841293335,
          -8.911490440368652,
          -8.974189758300781,
          4.489451885223389,
          -0.9062771797180176,
          6.184327602386475,
          -2.4547553062438965,
          5.505691051483154,
          8.373537063598633,
          -9.189297676086426,
          3.649986505508423,
          5.415799140930176,
          1.6905326843261719,
          -4.0952277183532715,
          6.323334217071533,
          4.233102321624756,
          8.117300033569336,
          6.76341438293457,
          2.048074245452881,
          5.2689528465271,
          6.849664211273193,
          -8.934820175170898,
          7.705593585968018,
          -9.015246391296387,
          2.7268221378326416,
          1.3688206672668457,
          7.0781025886535645,
          9.039212226867676,
          -8.247814178466797,
          5.267634391784668,
          0.5528704524040222,
          1.1588047742843628,
          -0.8817427158355713,
          -0.19355526566505432,
          -5.3654046058654785,
          6.746420860290527,
          9.159613609313965,
          4.933323860168457,
          8.864152908325195,
          1.1166260242462158,
          5.524796009063721,
          0.38767606019973755,
          8.908284187316895,
          1.2711070775985718,
          4.443848133087158,
          1.8158799409866333,
          2.785961389541626,
          -2.2638134956359863,
          8.01123046875,
          -5.345776081085205,
          -2.3697335720062256,
          0.8631717562675476,
          -0.04192458093166351,
          2.952840805053711,
          3.08048415184021,
          -8.710870742797852,
          9.097671508789062,
          2.4149250984191895,
          -8.626112937927246,
          7.434927940368652,
          -0.8274192810058594,
          0.3619043827056885,
          4.974245548248291,
          -6.009330749511719,
          -1.791222095489502,
          8.21489143371582,
          6.661041736602783,
          1.2056485414505005,
          7.5707221031188965,
          -0.09934744983911514,
          7.934998512268066,
          8.42479133605957,
          3.531285047531128,
          0.1450238972902298,
          2.88948655128479,
          7.782252788543701,
          5.095533847808838,
          -4.783908843994141,
          7.6737751960754395,
          -7.251742362976074,
          5.025590896606445,
          3.8278186321258545,
          6.431379795074463,
          3.730635643005371,
          -8.739572525024414,
          6.801170825958252,
          2.3012523651123047,
          -5.783736705780029,
          -9.280740737915039,
          0.003017718903720379,
          4.936800956726074,
          6.043021202087402,
          -2.386016368865967,
          4.43420934677124,
          -8.981420516967773,
          2.565422296524048,
          1.4105950593948364,
          -3.865241765975952,
          -7.263183116912842,
          -9.240233421325684,
          5.209024906158447,
          1.846143126487732,
          5.5445966720581055,
          3.1485824584960938,
          3.6105291843414307,
          9.172320365905762,
          0.8095207810401917,
          4.71377420425415,
          -3.1938483715057373,
          0.3450167775154114,
          -5.401383399963379,
          6.298696994781494,
          -7.41120719909668,
          0.7742816209793091,
          6.793877601623535,
          3.444146156311035,
          8.13253402709961,
          8.081372261047363,
          1.3016432523727417,
          4.5115885734558105,
          4.4273223876953125,
          -7.617832183837891,
          7.897370338439941,
          5.21912956237793,
          -8.277036666870117,
          8.691618919372559,
          -2.133220911026001,
          5.120710849761963,
          7.7391252517700195,
          3.2102174758911133,
          6.097914218902588,
          8.972517013549805,
          9.161704063415527,
          0.5530850887298584,
          -0.9582626223564148,
          -6.7605109214782715,
          -2.3298442363739014,
          8.662367820739746,
          7.805847644805908,
          4.2826924324035645,
          9.09487533569336,
          0.5615941286087036,
          -8.804397583007812,
          2.9305179119110107,
          -9.248407363891602,
          3.579145908355713,
          2.7788197994232178,
          -3.1925361156463623,
          4.191556453704834,
          3.3811142444610596,
          1.6996134519577026,
          8.678512573242188,
          4.305838584899902,
          5.94755744934082,
          4.552366256713867,
          4.439329624176025,
          1.2748745679855347,
          3.563441753387451,
          -3.6231765747070312,
          7.841501235961914,
          6.863614082336426,
          -4.443102836608887,
          8.706880569458008,
          -8.988729476928711,
          8.506783485412598,
          -8.966504096984863,
          -5.310600280761719,
          -7.04231595993042,
          -5.202469825744629,
          -8.453277587890625,
          -8.735329627990723,
          5.2544965744018555,
          7.8393940925598145,
          1.230468511581421,
          8.275260925292969,
          -0.801296055316925,
          7.656740188598633,
          -2.311760187149048,
          -0.3018660247325897,
          9.142631530761719,
          -8.603751182556152,
          -0.30706170201301575,
          0.8667222857475281,
          4.152891635894775,
          2.5862486362457275,
          3.7348737716674805,
          -1.905426025390625,
          -9.098681449890137,
          5.623307704925537,
          3.3080897331237793,
          -0.07673779875040054,
          2.7399909496307373,
          -9.109434127807617,
          -5.039000034332275,
          4.46133279800415,
          1.8004106283187866,
          7.565967559814453,
          9.052998542785645,
          2.1656441688537598,
          7.214132308959961,
          0.9127905964851379,
          2.4758522510528564,
          1.4229522943496704,
          5.329213619232178,
          2.275242805480957,
          5.635483264923096,
          5.40102481842041,
          9.168349266052246,
          1.663063883781433,
          -9.188299179077148,
          2.3726084232330322,
          -7.910834789276123,
          5.750477313995361,
          1.6036796569824219,
          -2.31543231010437,
          0.2951066792011261,
          6.115796089172363,
          1.1866732835769653,
          -8.474409103393555,
          1.8460593223571777,
          0.4185815453529358,
          5.537441730499268,
          2.697206735610962,
          -8.833300590515137,
          7.20806884765625,
          2.677696704864502,
          -0.2788456678390503,
          -5.5295000076293945,
          -8.888011932373047,
          8.149406433105469,
          3.692934989929199,
          1.539371132850647,
          8.339385032653809,
          -0.9298917055130005,
          5.205014228820801,
          -2.9107089042663574,
          3.8325841426849365,
          -9.004971504211426,
          -3.1228203773498535,
          -1.6407041549682617,
          4.3550567626953125,
          -1.4281272888183594,
          8.434699058532715,
          -9.111221313476562,
          2.128910541534424,
          9.04871940612793,
          4.948992729187012,
          -6.7264862060546875,
          5.779688835144043,
          4.717590808868408,
          3.292393445968628,
          4.337906837463379,
          7.883804798126221,
          -3.26711368560791,
          1.2960013151168823,
          8.376522064208984,
          3.5830490589141846,
          3.018568277359009,
          6.821580410003662,
          5.512537002563477,
          8.769526481628418,
          -9.116445541381836,
          1.4199283123016357,
          2.7845237255096436,
          3.3305583000183105,
          -8.7103853225708,
          4.957943439483643,
          -3.8672099113464355,
          2.6967597007751465,
          5.852537631988525,
          -7.763551235198975,
          8.60387897491455,
          6.670273780822754,
          3.2779836654663086,
          7.5408549308776855,
          -3.2345454692840576,
          2.092869281768799,
          4.673164367675781,
          6.543501377105713,
          7.975918769836426,
          -3.7553093433380127,
          -8.058507919311523,
          8.98249626159668,
          9.183881759643555,
          2.099630117416382,
          0.8775249123573303,
          4.197247505187988,
          9.007832527160645,
          -5.367095947265625,
          2.060642957687378,
          4.3092193603515625,
          1.9298428297042847,
          8.032069206237793,
          7.96610164642334,
          9.144159317016602,
          1.9484671354293823,
          7.492564678192139,
          -0.027701834216713905
         ],
         "y": [
          -3.7203330993652344,
          -6.099052906036377,
          6.463039398193359,
          0.9418636560440063,
          5.010223865509033,
          -1.9532418251037598,
          -3.826848268508911,
          -8.927961349487305,
          6.193479537963867,
          6.28972053527832,
          5.003689765930176,
          6.680534362792969,
          0.9529409408569336,
          5.475358009338379,
          6.232518672943115,
          0.9576471447944641,
          -5.977031707763672,
          -1.9552526473999023,
          3.072725772857666,
          7.608837127685547,
          8.616860389709473,
          -1.961025357246399,
          5.384538173675537,
          2.8200464248657227,
          7.774293899536133,
          8.5323486328125,
          -5.194974422454834,
          -6.354517459869385,
          -0.12984144687652588,
          3.6129298210144043,
          4.187620639801025,
          -1.7567025423049927,
          5.398836612701416,
          6.243402004241943,
          4.145508289337158,
          1.8583109378814697,
          1.4445301294326782,
          8.515524864196777,
          -1.899948239326477,
          6.4607954025268555,
          2.9658634662628174,
          -5.308742523193359,
          5.519627571105957,
          -0.558208703994751,
          -0.7603404521942139,
          2.271421194076538,
          -0.5269739031791687,
          1.2894151210784912,
          -0.6274117231369019,
          -1.316115379333496,
          -3.8859612941741943,
          3.0009782314300537,
          -9.368803024291992,
          1.2249490022659302,
          3.746314764022827,
          -5.663863182067871,
          2.8640923500061035,
          -6.5391340255737305,
          7.915107250213623,
          4.977126598358154,
          -0.7322555780410767,
          -0.16352154314517975,
          -7.877504348754883,
          -1.5635312795639038,
          5.905461311340332,
          -1.952193260192871,
          1.002805233001709,
          2.5767388343811035,
          6.255754470825195,
          2.036604881286621,
          6.086902618408203,
          7.59856653213501,
          3.736928701400757,
          0.45758315920829773,
          2.8723649978637695,
          -5.533505916595459,
          0.1576564759016037,
          -1.861788034439087,
          5.788516044616699,
          -1.8832272291183472,
          1.0929555892944336,
          0.7753739356994629,
          -4.109283924102783,
          -5.103844165802002,
          -0.17116037011146545,
          5.088153839111328,
          3.672907829284668,
          4.472516059875488,
          6.022632598876953,
          -0.5769261717796326,
          6.22395658493042,
          6.293697834014893,
          1.8298759460449219,
          5.351574420928955,
          3.155487060546875,
          -1.5758601427078247,
          1.2404735088348389,
          -1.827193260192871,
          -4.850010395050049,
          7.050436973571777,
          3.5015766620635986,
          -1.891393780708313,
          -0.16448821127414703,
          -0.4937874674797058,
          -1.6155996322631836,
          -0.06799225509166718,
          6.226959705352783,
          5.721155166625977,
          -5.776026248931885,
          1.3765901327133179,
          2.975660800933838,
          -0.1527913361787796,
          -0.1349620372056961,
          0.8660913109779358,
          2.5534582138061523,
          -1.5836502313613892,
          -8.974794387817383,
          6.110651969909668,
          3.601510524749756,
          -1.690775752067566,
          -1.2289490699768066,
          -3.9689455032348633,
          6.2467427253723145,
          7.210665225982666,
          -1.207184076309204,
          -0.15465810894966125,
          6.231513023376465,
          2.1763265132904053,
          2.2648351192474365,
          3.6148107051849365,
          -1.6659724712371826,
          -0.9535813331604004,
          3.7508974075317383,
          0.48721298575401306,
          -7.634427547454834,
          3.694709300994873,
          -8.954813957214355,
          1.8036189079284668,
          7.600951194763184,
          8.358881950378418,
          -5.065276145935059,
          6.306704044342041,
          -0.4611618220806122,
          3.703808546066284,
          6.140329360961914,
          6.157268524169922,
          5.924008369445801,
          7.4893364906311035,
          7.4744977951049805,
          8.689441680908203,
          -1.9287110567092896,
          3.0076403617858887,
          4.493492126464844,
          0.7383407354354858,
          -1.674727201461792,
          -1.3374335765838623,
          0.8830786943435669,
          3.8212380409240723,
          0.507785975933075,
          5.732459545135498,
          -4.552801132202148,
          5.368902206420898,
          2.3886806964874268,
          5.513461589813232,
          7.557844638824463,
          1.886504888534546,
          1.7474945783615112,
          -2.7421929836273193,
          -0.3718365430831909,
          0.3625794053077698,
          4.618047714233398,
          4.256361484527588,
          1.425228476524353,
          4.962409496307373,
          4.426217555999756,
          3.0306689739227295,
          -9.556083679199219,
          4.068118572235107,
          1.7564235925674438,
          -0.5762997269630432,
          -5.891111373901367,
          5.840320110321045,
          7.289702892303467,
          -1.7736412286758423,
          -0.03615722060203552,
          6.232536792755127,
          -1.368215799331665,
          5.042808532714844,
          1.1061506271362305,
          5.0747551918029785,
          7.4899725914001465,
          -1.6589434146881104,
          5.665576457977295,
          7.275811672210693,
          -2.009138822555542,
          -7.836839199066162,
          0.21195612847805023,
          4.856263160705566,
          3.57674241065979,
          0.9697219133377075,
          4.336463928222656,
          3.260956287384033,
          -7.171684265136719,
          3.0024428367614746,
          -8.030470848083496,
          -2.58862042427063,
          3.0103096961975098,
          7.983743190765381,
          -0.4887905418872833,
          7.627293109893799,
          -6.327103137969971,
          -1.5843327045440674,
          9.310234069824219,
          -6.1959004402160645,
          -0.5847812294960022,
          2.7442543506622314,
          5.360997200012207,
          -1.6945000886917114,
          8.314033508300781,
          -5.155691623687744,
          6.728119850158691,
          1.1014742851257324,
          7.0972580909729,
          4.596602916717529,
          5.960361957550049,
          6.21049690246582,
          7.1301727294921875,
          -8.283592224121094,
          0.5709794163703918,
          7.325201034545898,
          -0.13558429479599,
          5.237536430358887,
          3.4374425411224365,
          6.1295084953308105,
          2.733133316040039,
          3.5509543418884277,
          -0.791209876537323,
          -6.087009906768799,
          4.359524250030518,
          5.517107963562012,
          -0.7590919137001038,
          -0.062326494604349136,
          8.791877746582031,
          -0.16700470447540283,
          -0.7854050397872925,
          3.3786399364471436,
          5.8693623542785645,
          -1.8614087104797363,
          -0.802936851978302,
          -1.4647096395492554,
          5.392421722412109,
          5.665892601013184,
          -0.0523894838988781,
          4.18734884262085,
          2.916154384613037,
          -0.5512451529502869,
          6.23124885559082,
          -0.9554392695426941,
          -9.575308799743652,
          4.568298816680908,
          -0.24288569390773773,
          3.4884891510009766,
          3.4240293502807617,
          5.493192195892334,
          -6.792602062225342,
          7.816208839416504,
          5.016026020050049,
          0.44524767994880676,
          -1.958561658859253,
          -0.6332722306251526,
          0.008453700691461563,
          5.972936630249023,
          -5.516541004180908,
          6.2180376052856445,
          5.369198322296143,
          6.215450763702393,
          3.4695351123809814,
          6.802661895751953,
          -0.0999952182173729,
          -0.07098519057035446,
          -1.285881519317627,
          2.277942419052124,
          -6.790290832519531,
          -2.1013848781585693,
          8.313364028930664,
          -5.784461498260498,
          -6.422137260437012,
          -1.8081231117248535,
          6.785316467285156,
          -6.200453281402588,
          -6.753207206726074,
          3.886762857437134,
          8.641846656799316,
          0.3727809190750122,
          3.3663885593414307,
          5.972718238830566,
          1.5521334409713745,
          -1.5787103176116943,
          -0.8094762563705444,
          -1.9192737340927124,
          2.533569097518921,
          -2.490044116973877,
          -0.7403725385665894,
          1.3273736238479614,
          -8.45174789428711,
          -1.1578984260559082,
          0.41131019592285156,
          5.28989315032959,
          7.186704158782959,
          -6.50925874710083,
          -9.269683837890625,
          -1.8397868871688843,
          -4.485651016235352,
          -1.47508704662323,
          -4.41802978515625,
          2.2330873012542725,
          -0.8848119378089905,
          -6.714706897735596,
          4.2394609451293945,
          1.542022466659546,
          0.8023431301116943,
          -0.1422886699438095,
          -0.8208444118499756,
          -3.7873384952545166,
          5.607824802398682,
          6.3841552734375,
          -0.49400559067726135,
          -9.387721061706543,
          1.930159091949463,
          -1.4871673583984375,
          7.2044758796691895,
          0.25030970573425293,
          2.892566442489624,
          5.899304389953613,
          -0.19563613831996918,
          6.120234966278076,
          -2.85577654838562,
          5.198468208312988,
          0.5869100689888,
          -2.577390193939209,
          0.3768446743488312,
          -3.0700786113739014,
          -0.8516857624053955,
          -1.7355276346206665,
          -0.02744085155427456,
          -1.8867419958114624,
          -9.526579856872559,
          -1.576965570449829,
          -1.5627524852752686,
          -6.171451568603516,
          6.842569351196289,
          -1.4039465188980103,
          -5.123019695281982,
          -1.5708386898040771,
          -7.779472827911377,
          0.9406963586807251,
          -1.6561185121536255,
          5.106670379638672,
          7.591579914093018,
          -1.3781242370605469,
          5.88344144821167,
          2.6305289268493652,
          4.960785865783691,
          5.92692756652832,
          -5.6805219650268555,
          0.6918241381645203,
          8.662023544311523,
          4.657680511474609,
          2.66904878616333,
          0.7061842083930969,
          0.5612794160842896,
          -6.865442752838135,
          0.6983811259269714,
          6.457812309265137,
          1.4590107202529907,
          1.1376737356185913,
          -6.443116188049316,
          2.942439556121826,
          -1.6640195846557617,
          -4.0794477462768555,
          -4.822854042053223,
          8.759687423706055,
          3.320812225341797,
          5.821444511413574,
          -0.06946618109941483,
          -5.457326412200928,
          1.8338608741760254,
          5.269041538238525,
          4.874521732330322,
          -0.7326592206954956,
          4.226635456085205,
          0.7052381038665771,
          6.1852641105651855,
          -1.9943981170654297,
          2.143019199371338,
          7.956571578979492,
          3.666293144226074,
          -8.620363235473633,
          3.720630407333374,
          7.726032257080078,
          8.284524917602539,
          2.602137804031372,
          -0.6880136132240295,
          5.346782207489014,
          -6.298943519592285,
          -8.983697891235352,
          5.185422897338867,
          -0.09534521400928497,
          3.794132709503174,
          1.1274598836898804,
          5.3543524742126465,
          6.303958892822266,
          3.046048641204834,
          1.9996137619018555,
          6.421209812164307,
          -7.257395267486572,
          -0.6209896206855774,
          -0.40529534220695496,
          6.191364765167236,
          1.0121065378189087,
          -0.42467981576919556,
          -0.42524710297584534,
          6.081813335418701,
          1.2922179698944092,
          2.347476005554199,
          5.252509117126465,
          6.480435371398926,
          -6.6795244216918945,
          -1.613645315170288,
          7.108316421508789,
          5.812167167663574,
          7.8670525550842285,
          7.5457587242126465,
          3.5438222885131836,
          -3.4532108306884766,
          7.774745941162109,
          2.582273483276367,
          8.640859603881836,
          1.7221035957336426,
          3.9806461334228516,
          -8.943766593933105,
          8.038737297058105,
          4.959932804107666,
          -1.2759631872177124,
          0.42120325565338135,
          -4.817431926727295,
          -4.985259532928467,
          -2.451094388961792,
          1.6228461265563965,
          -1.9558032751083374,
          8.41810417175293,
          5.319377899169922,
          -0.026991568505764008,
          4.925395488739014,
          -7.147973537445068,
          6.639463901519775,
          0.2977561056613922,
          4.925501823425293,
          6.563866138458252,
          3.769385814666748,
          2.19757342338562,
          4.090734958648682,
          -0.24110198020935059,
          3.4151690006256104,
          -1.953577995300293,
          0.7572994828224182,
          2.4459805488586426,
          -3.501248836517334,
          6.229573726654053,
          6.227665424346924,
          -0.6745684742927551,
          5.039272785186768,
          6.265228271484375,
          -1.0780892372131348,
          5.566643238067627,
          0.19678111374378204,
          -4.988399982452393,
          -6.037636756896973,
          -1.9482289552688599,
          0.2041958123445511,
          1.5595637559890747,
          7.7419114112854,
          -7.231381416320801,
          8.352822303771973,
          0.543107807636261,
          8.641196250915527,
          1.4001983404159546,
          -0.08016692847013474,
          -4.240259170532227,
          2.571031093597412,
          0.7627500891685486,
          -5.855551242828369,
          -1.8321456909179688,
          1.1887767314910889,
          -1.7620431184768677,
          6.1447625160217285,
          6.2236552238464355,
          7.32847785949707,
          3.4319515228271484,
          -0.06627891957759857,
          7.492412567138672,
          3.708178997039795,
          -1.9667479991912842,
          3.0718815326690674,
          -4.01987886428833,
          -6.248227596282959,
          4.53769588470459,
          -1.193392276763916,
          -7.379695892333984,
          1.6962292194366455,
          -9.60494327545166,
          -6.094738483428955,
          -0.5483025908470154,
          -1.7579401731491089,
          2.6466355323791504,
          -3.763197660446167,
          0.4906604290008545,
          4.331657886505127,
          -6.457583427429199,
          5.227339267730713,
          2.945856809616089,
          -1.6427030563354492,
          -6.913633823394775,
          -0.8317933678627014,
          -4.373049259185791,
          -1.9601613283157349,
          -0.1543496698141098,
          -1.5598952770233154,
          -1.6849303245544434,
          5.782655239105225,
          -8.203286170959473,
          7.6331562995910645,
          2.0611143112182617,
          -8.735408782958984,
          -3.951502561569214,
          -7.403928279876709,
          -1.625003695487976,
          5.378597736358643,
          -4.269747734069824,
          1.0806063413619995,
          2.080488681793213,
          -0.18579521775245667,
          -5.7802228927612305,
          7.982564926147461,
          6.240598201751709,
          -0.7211335301399231,
          4.9268598556518555,
          5.323696136474609,
          2.2088828086853027,
          0.9695135354995728,
          0.602231502532959,
          0.07075148075819016,
          4.973615646362305,
          8.235462188720703,
          -7.639276504516602,
          5.031051158905029,
          -3.4468507766723633,
          -0.7898169755935669,
          4.44233512878418,
          2.6984286308288574,
          6.227224349975586,
          -9.477063179016113,
          -0.5771906971931458,
          -3.723644495010376,
          -0.5470688343048096,
          3.6769046783447266,
          4.975885391235352,
          5.66896390914917,
          -0.8143701553344727,
          5.7296576499938965,
          6.194613456726074,
          2.8638315200805664,
          6.217004776000977,
          -1.3050354719161987,
          5.348897457122803,
          5.761856555938721,
          -0.4192751944065094,
          1.9423922300338745,
          1.5412803888320923,
          4.998978614807129,
          -0.4624084234237671,
          -0.17770539224147797,
          -1.8009828329086304,
          -1.9327231645584106,
          -1.135142207145691,
          -0.03877878934144974,
          -3.5506794452667236,
          8.332104682922363,
          2.809438943862915,
          7.507295608520508,
          0.11223477870225906,
          1.0675941705703735,
          -1.3515748977661133,
          -1.9554588794708252,
          5.856485843658447,
          -0.8526960015296936,
          1.5228266716003418,
          1.38632333278656,
          3.6395463943481445,
          -5.919503211975098,
          -4.314159393310547,
          -0.4814336895942688,
          1.927208662033081,
          -1.4800266027450562,
          -9.051494598388672,
          1.6790084838867188,
          3.072817802429199,
          1.969643235206604,
          -1.895689606666565,
          -7.330565452575684,
          -6.105766296386719,
          8.358469009399414,
          6.229954719543457,
          -5.913633823394775,
          9.266214370727539,
          -6.168261528015137,
          5.926876544952393,
          2.9762985706329346,
          6.1070475578308105,
          2.570124626159668,
          6.056552886962891,
          6.096864223480225,
          5.338830471038818,
          -4.359598636627197,
          2.330988645553589,
          -9.680159568786621,
          -1.486796259880066,
          -1.2168071269989014,
          6.419924736022949,
          -0.29918965697288513,
          -0.20289765298366547,
          7.089725494384766,
          1.55281662940979,
          2.4707648754119873,
          -8.91072940826416,
          2.118675947189331,
          -1.876808524131775,
          4.097416877746582,
          -0.7349144220352173,
          5.637497901916504,
          -6.154601573944092,
          -0.5668625831604004,
          -0.09815827012062073,
          -0.6646497249603271,
          1.172165870666504,
          -8.49804401397705,
          6.461009502410889,
          8.407175064086914,
          1.0071090459823608,
          6.401060581207275,
          -1.7482900619506836,
          3.5187699794769287,
          1.6826728582382202,
          -0.9531768560409546,
          -1.5316598415374756,
          6.2024078369140625,
          0.5580446720123291,
          4.910712242126465,
          1.972269892692566,
          -6.038933753967285,
          4.969064712524414,
          4.054244041442871,
          -1.8570142984390259,
          6.035735607147217,
          -4.243893623352051,
          3.23138427734375,
          5.89233922958374,
          8.652376174926758,
          -1.052207112312317,
          1.3752590417861938,
          7.368903160095215,
          -8.754006385803223,
          -5.778189659118652,
          5.771213531494141,
          -2.00012469291687,
          2.225349187850952,
          3.1359238624572754,
          -4.202836990356445,
          6.228217601776123,
          -9.019830703735352,
          2.1943469047546387,
          6.326625823974609,
          -0.722362220287323,
          -6.26674222946167,
          4.463183879852295,
          -1.5739657878875732,
          5.156834125518799,
          1.8848443031311035,
          -8.909262657165527,
          0.8514207601547241,
          -1.0263386964797974,
          3.6113171577453613,
          3.9159586429595947,
          5.858260154724121,
          8.013467788696289,
          -0.5837033987045288,
          -1.404236912727356,
          7.8272294998168945,
          2.9214365482330322,
          6.242112636566162,
          2.5108509063720703,
          6.210960865020752,
          2.7228267192840576,
          -0.14205710589885712,
          0.5615355372428894,
          6.207610607147217,
          6.290513515472412,
          5.299997806549072,
          8.628198623657227,
          5.245936393737793,
          0.49169814586639404,
          2.091632604598999,
          1.7637965679168701
         ],
         "z": [
          6.163670063018799,
          5.424920558929443,
          7.350787162780762,
          3.2430179119110107,
          -7.034016132354736,
          8.384834289550781,
          1.5043723583221436,
          1.7102605104446411,
          7.9717326164245605,
          -13.440605163574219,
          -6.736606597900391,
          6.4193596839904785,
          10.270977973937988,
          -3.2542519569396973,
          -12.312858581542969,
          10.795570373535156,
          4.709805965423584,
          7.6949591636657715,
          3.0264484882354736,
          -0.24838081002235413,
          2.5211424827575684,
          7.781030654907227,
          -7.030159950256348,
          0.27151551842689514,
          -0.03392511233687401,
          2.399336099624634,
          1.797519564628601,
          5.291329383850098,
          1.984326958656311,
          4.961120128631592,
          10.092476844787598,
          8.880398750305176,
          8.778653144836426,
          -13.227703094482422,
          10.24061107635498,
          2.524953842163086,
          11.873048782348633,
          1.0946009159088135,
          7.094178676605225,
          7.61751127243042,
          2.3054280281066895,
          5.876588821411133,
          -8.002991676330566,
          2.1671142578125,
          2.096444845199585,
          11.85903263092041,
          11.386063575744629,
          8.288769721984863,
          3.6032543182373047,
          1.5829784870147705,
          6.099418640136719,
          2.2621870040893555,
          0.8228300213813782,
          3.2939679622650146,
          5.805729389190674,
          5.563930988311768,
          8.120792388916016,
          4.143700122833252,
          5.222620010375977,
          -4.406659126281738,
          2.1388700008392334,
          1.212491750717163,
          2.7479922771453857,
          5.848166465759277,
          5.144795894622803,
          7.65600061416626,
          3.265728712081909,
          4.594756603240967,
          -13.273639678955078,
          11.971500396728516,
          8.053777694702148,
          6.220170021057129,
          10.740972518920898,
          3.1649668216705322,
          11.566621780395508,
          5.105204105377197,
          11.79604721069336,
          6.855664253234863,
          -9.02113151550293,
          6.991568088531494,
          2.578099250793457,
          11.724908828735352,
          6.227203845977783,
          5.383468151092529,
          3.625126361846924,
          -6.430613040924072,
          5.379220008850098,
          -0.5319258570671082,
          -10.107025146484375,
          11.346034049987793,
          -12.929308891296387,
          -14.018157958984375,
          1.58028244972229,
          -7.544468879699707,
          2.8753466606140137,
          9.846728324890137,
          11.816683769226074,
          6.669301509857178,
          5.915345191955566,
          6.712583541870117,
          -0.8865223526954651,
          6.617815017700195,
          7.8270039558410645,
          6.557877063751221,
          7.6987128257751465,
          1.2303738594055176,
          -12.335199356079102,
          -8.782561302185059,
          2.3436286449432373,
          2.870941400527954,
          -0.0072303591296076775,
          0.4287356436252594,
          3.6132383346557617,
          12.09991455078125,
          8.218185424804688,
          9.602516174316406,
          1.6900646686553955,
          -10.724008560180664,
          5.21280574798584,
          6.166920185089111,
          6.735617160797119,
          0.5269364714622498,
          -13.60400390625,
          -14.512299537658691,
          6.164636611938477,
          0.9068737626075745,
          -2.2228963375091553,
          1.5651898384094238,
          1.131440281867981,
          10.960489273071289,
          6.099246025085449,
          3.9814863204956055,
          5.788044452667236,
          8.118098258972168,
          2.7188355922698975,
          1.3021668195724487,
          0.631071925163269,
          2.2901430130004883,
          6.210353851318359,
          0.7557857036590576,
          5.680109977722168,
          -14.0054931640625,
          1.452614426612854,
          1.2814273834228516,
          -10.971723556518555,
          -2.3370566368103027,
          8.318573951721191,
          6.448345184326172,
          5.6944098472595215,
          1.4808392524719238,
          8.539168357849121,
          11.457393646240234,
          -0.6167837977409363,
          1.0302724838256836,
          7.807530879974365,
          5.202685832977295,
          3.731037139892578,
          5.7601518630981445,
          2.9878506660461426,
          -2.905414581298828,
          5.6306376457214355,
          8.913717269897461,
          1.2296366691589355,
          -7.992476940155029,
          -0.08760736137628555,
          1.524683952331543,
          2.845796585083008,
          6.5859551429748535,
          3.665093421936035,
          3.0761189460754395,
          -1.4235283136367798,
          7.426537990570068,
          2.099773645401001,
          7.168231010437012,
          10.088970184326172,
          0.15651151537895203,
          0.5429630279541016,
          0.633188784122467,
          1.3297183513641357,
          3.2337517738342285,
          3.500645875930786,
          -9.245368957519531,
          -0.6937732100486755,
          9.183980941772461,
          10.058504104614258,
          7.960565090179443,
          1.4119312763214111,
          -6.3233208656311035,
          3.3525259494781494,
          -4.044825077056885,
          6.186252593994141,
          9.425431251525879,
          -8.572604179382324,
          -0.7131720781326294,
          1.1376688480377197,
          2.789123058319092,
          2.7371487617492676,
          7.126323699951172,
          1.319053053855896,
          12.099466323852539,
          10.321404457092285,
          3.630810499191284,
          4.849604606628418,
          11.502010345458984,
          2.6202309131622314,
          6.342563629150391,
          0.2249637395143509,
          0.5538564324378967,
          0.33719107508659363,
          5.984263896942139,
          4.372104644775391,
          9.84734058380127,
          2.0180857181549072,
          4.506041526794434,
          0.38333308696746826,
          2.8667683601379395,
          8.955316543579102,
          7.796704292297363,
          0.6181495189666748,
          5.732758522033691,
          -14.463506698608398,
          3.1127941608428955,
          6.811212539672852,
          -1.1735799312591553,
          -9.816414833068848,
          8.018831253051758,
          6.549011707305908,
          2.3884432315826416,
          3.1760153770446777,
          -0.5823644995689392,
          1.2213011980056763,
          6.335432529449463,
          1.81982421875,
          -10.871106147766113,
          2.3724069595336914,
          1.5832611322402954,
          4.395106792449951,
          4.632462024688721,
          -0.15957637131214142,
          -7.975688457489014,
          10.647125244140625,
          3.0061721801757812,
          1.8326088190078735,
          1.5518735647201538,
          4.243991374969482,
          0.37769943475723267,
          6.056941509246826,
          6.856083869934082,
          11.10803508758545,
          10.10633659362793,
          -7.628656387329102,
          -2.9935975074768066,
          11.745553016662598,
          9.98300838470459,
          11.558843612670898,
          11.354666709899902,
          -12.419107437133789,
          4.660097122192383,
          0.140358567237854,
          -0.9488604664802551,
          7.809140682220459,
          1.71195650100708,
          0.4286748468875885,
          8.79604721069336,
          0.7554088830947876,
          0.0018695208709686995,
          -7.053666591644287,
          4.453378677368164,
          7.809861660003662,
          5.766701698303223,
          0.13762006163597107,
          -9.879668235778809,
          5.099071025848389,
          -11.933958053588867,
          8.854288101196289,
          -11.928180694580078,
          11.06766414642334,
          -1.4271050691604614,
          7.4430437088012695,
          1.630793571472168,
          1.565117359161377,
          1.393057107925415,
          3.8645477294921875,
          1.0641130208969116,
          0.46571093797683716,
          4.884398460388184,
          2.7554569244384766,
          6.58477783203125,
          -14.461487770080566,
          4.217019081115723,
          0.7508066296577454,
          10.521700859069824,
          3.0434494018554688,
          11.96204662322998,
          3.6834511756896973,
          -9.860457420349121,
          12.128840446472168,
          1.401874303817749,
          6.445810317993164,
          8.647360801696777,
          0.724626898765564,
          6.349713325500488,
          4.390019416809082,
          2.191502332687378,
          2.2278120517730713,
          10.560357093811035,
          5.771366119384766,
          8.96088981628418,
          6.225027084350586,
          5.41149377822876,
          1.182483434677124,
          8.299454689025879,
          0.4471137523651123,
          6.248785495758057,
          2.512615919113159,
          3.2713160514831543,
          4.568379878997803,
          3.956486940383911,
          10.404812812805176,
          2.400317668914795,
          9.821758270263672,
          -1.2794746160507202,
          2.030128002166748,
          1.1830463409423828,
          -3.0670151710510254,
          -14.2315673828125,
          11.43615436553955,
          0.9609343409538269,
          2.5507516860961914,
          9.637331008911133,
          6.646811008453369,
          3.791926622390747,
          8.131089210510254,
          -9.502863883972168,
          6.3929762840271,
          -10.80710220336914,
          1.394782543182373,
          7.101494312286377,
          4.21500301361084,
          6.346898555755615,
          2.9010913372039795,
          1.2549927234649658,
          4.951530933380127,
          6.181401252746582,
          1.6258492469787598,
          6.802707195281982,
          0.603918194770813,
          9.878448486328125,
          9.92410659790039,
          4.534686088562012,
          -14.47506046295166,
          10.229881286621094,
          2.231351613998413,
          9.882853507995605,
          2.8388824462890625,
          3.736189842224121,
          1.339555025100708,
          -3.9584591388702393,
          -0.27394139766693115,
          1.4689624309539795,
          -9.438040733337402,
          0.603510320186615,
          -6.278575420379639,
          -9.64614486694336,
          3.262136936187744,
          3.00760555267334,
          2.8813023567199707,
          -1.8949475288391113,
          0.28125640749931335,
          6.463138580322266,
          2.7888095378875732,
          5.161098957061768,
          2.571711778640747,
          -14.339337348937988,
          11.83655071258545,
          2.7753188610076904,
          2.6972451210021973,
          0.3553095757961273,
          6.115120887756348,
          6.03704309463501,
          5.577586650848389,
          1.706889271736145,
          9.36068058013916,
          8.295483589172363,
          5.732185363769531,
          1.7773241996765137,
          1.5965421199798584,
          -7.466736316680908,
          9.390704154968262,
          2.197575330734253,
          10.461589813232422,
          2.3112146854400635,
          -11.446243286132812,
          7.64202356338501,
          2.842161178588867,
          0.46411100029945374,
          5.590717315673828,
          2.068988084793091,
          1.2560265064239502,
          5.670748233795166,
          1.6306428909301758,
          0.9198046326637268,
          4.31105899810791,
          -6.733214855194092,
          5.413121223449707,
          1.6759392023086548,
          -3.786752462387085,
          7.896739482879639,
          10.622018814086914,
          12.156464576721191,
          -7.472899913787842,
          -14.083362579345703,
          2.400055170059204,
          1.8297358751296997,
          -14.366938591003418,
          4.530741214752197,
          4.2427825927734375,
          3.9372899532318115,
          -11.533795356750488,
          12.121192932128906,
          5.59950065612793,
          11.501277923583984,
          -10.511689186096191,
          2.6382339000701904,
          0.2279432862997055,
          9.01402759552002,
          7.311689853668213,
          5.160835266113281,
          9.771206855773926,
          6.465127944946289,
          8.409976959228516,
          0.0812474936246872,
          5.814690113067627,
          10.977948188781738,
          6.221472263336182,
          5.560653209686279,
          -0.37706878781318665,
          3.0506937503814697,
          1.7166227102279663,
          10.417989730834961,
          0.5792442560195923,
          4.8765645027160645,
          -4.530210494995117,
          5.209061145782471,
          6.3655476570129395,
          1.4163963794708252,
          2.147213935852051,
          0.8036491870880127,
          12.132322311401367,
          8.329975128173828,
          1.3645333051681519,
          -3.5006117820739746,
          6.710336685180664,
          -5.223902702331543,
          0.572144091129303,
          7.284060478210449,
          2.1827139854431152,
          -5.059417724609375,
          -14.405643463134766,
          1.157898187637329,
          2.542509078979492,
          10.420401573181152,
          11.590409278869629,
          0.2879052758216858,
          8.331393241882324,
          9.827492713928223,
          11.779083251953125,
          1.0226037502288818,
          -12.957418441772461,
          -12.843133926391602,
          1.3512697219848633,
          -4.176459312438965,
          -13.4426908493042,
          3.9142653942108154,
          -8.155064582824707,
          2.6210057735443115,
          1.750125527381897,
          4.666445732116699,
          7.598112106323242,
          11.862369537353516,
          2.734144687652588,
          5.966240882873535,
          4.8834357261657715,
          0.723929762840271,
          2.657916307449341,
          2.685340642929077,
          2.5214056968688965,
          7.8101806640625,
          0.9628498554229736,
          2.758465528488159,
          3.663264751434326,
          4.820930480957031,
          9.034869194030762,
          3.5181069374084473,
          6.412093162536621,
          -11.000913619995117,
          -12.16943645477295,
          5.941915988922119,
          1.824833869934082,
          -1.2439830303192139,
          5.85294246673584,
          5.408272743225098,
          7.872200012207031,
          -0.16880083084106445,
          0.8428396582603455,
          4.454391956329346,
          -0.8070231080055237,
          1.6590900421142578,
          3.249690532684326,
          -1.0341224670410156,
          0.40807321667671204,
          1.4604551792144775,
          2.8876352310180664,
          6.395136833190918,
          0.549360454082489,
          6.14084005355835,
          3.2019057273864746,
          -0.07440538704395294,
          2.7521653175354004,
          9.078380584716797,
          0.3674716651439667,
          7.903944969177246,
          3.751309633255005,
          2.1186599731445312,
          1.1773595809936523,
          8.325836181640625,
          5.458645343780518,
          5.483524799346924,
          7.882864952087402,
          -9.015924453735352,
          2.148620128631592,
          -0.20839911699295044,
          3.0706043243408203,
          0.7055069804191589,
          6.1207756996154785,
          3.2242929935455322,
          6.0002570152282715,
          -7.4786906242370605,
          5.89996862411499,
          2.0363752841949463,
          1.7338194847106934,
          2.852801561355591,
          4.883610725402832,
          0.5557801723480225,
          -12.72746467590332,
          6.823436260223389,
          -4.841189861297607,
          -3.4941816329956055,
          11.909590721130371,
          12.09941577911377,
          1.541333794593811,
          10.96677303314209,
          -5.980976104736328,
          0.44287803769111633,
          2.978024959564209,
          -4.199531078338623,
          1.6990925073623657,
          4.368999004364014,
          9.98536491394043,
          0.4727431833744049,
          -12.391287803649902,
          0.7426676154136658,
          2.7129199504852295,
          6.420834541320801,
          7.728089332580566,
          5.939398765563965,
          -5.979033946990967,
          7.0657501220703125,
          5.890705108642578,
          5.515968322753906,
          -11.579802513122559,
          11.600979804992676,
          -12.407214164733887,
          10.392644882202148,
          -7.549331188201904,
          -8.920745849609375,
          1.939670443534851,
          1.8178378343582153,
          1.9735054969787598,
          -6.523531436920166,
          4.027128219604492,
          1.3518662452697754,
          6.549834728240967,
          8.566366195678711,
          4.924460411071777,
          -1.1934592723846436,
          6.197692394256592,
          0.6020865440368652,
          11.620758056640625,
          -0.41292130947113037,
          2.5284807682037354,
          3.671969413757324,
          1.478129506111145,
          1.307442307472229,
          -2.74906325340271,
          1.302471399307251,
          12.134125709533691,
          2.6525652408599854,
          1.412329912185669,
          5.479523181915283,
          6.270257472991943,
          2.348400115966797,
          1.5198851823806763,
          6.304580211639404,
          1.537959098815918,
          12.054698944091797,
          3.0272469520568848,
          1.423482894897461,
          8.769461631774902,
          3.301191568374634,
          1.8500950336456299,
          0.7434883713722229,
          -2.233238935470581,
          5.338336944580078,
          2.187822103500366,
          0.8878604173660278,
          -13.387104034423828,
          11.492449760437012,
          -10.691080093383789,
          2.524641513824463,
          -10.365127563476562,
          -10.617706298828125,
          -3.4785995483398438,
          2.536125421524048,
          0.999055027961731,
          0.14360034465789795,
          5.666413307189941,
          6.157084941864014,
          -14.35123348236084,
          11.599047660827637,
          2.018852949142456,
          6.681645393371582,
          2.508087158203125,
          -0.08618099987506866,
          1.4011951684951782,
          11.97083854675293,
          6.362110614776611,
          10.150232315063477,
          4.0407023429870605,
          -8.452030181884766,
          5.247286796569824,
          1.8875131607055664,
          1.5588421821594238,
          4.32244348526001,
          2.9664061069488525,
          2.1422677040100098,
          -14.398615837097168,
          1.8796242475509644,
          12.065088272094727,
          7.531152248382568,
          9.326470375061035,
          8.427153587341309,
          1.7698538303375244,
          10.894824028015137,
          1.4351246356964111,
          -11.660651206970215,
          11.978796005249023,
          -6.661989212036133,
          1.403342366218567,
          2.894209146499634,
          -4.462647438049316,
          0.612933874130249,
          6.833867073059082,
          -10.212915420532227,
          5.960362434387207,
          2.187150001525879,
          8.322441101074219,
          2.755495548248291,
          10.749550819396973,
          10.839372634887695,
          -0.5832738280296326,
          1.926231861114502,
          3.130486249923706,
          -8.968683242797852,
          6.368253707885742,
          1.4978612661361694,
          -0.5911985039710999,
          2.3413095474243164,
          -13.108683586120605,
          1.5824754238128662,
          0.6970655918121338,
          7.810344219207764,
          2.251512289047241,
          2.5365447998046875,
          -0.4710818827152252,
          5.876350402832031,
          -6.8167572021484375,
          2.887878656387329,
          1.6047642230987549,
          3.93058705329895,
          10.833922386169434,
          10.963634490966797,
          0.8702734708786011,
          -9.325005531311035,
          0.08893514424562454,
          3.4321229457855225,
          5.498330116271973,
          0.5494621396064758,
          0.3873356878757477,
          -13.729623794555664,
          11.808286666870117,
          -11.818666458129883,
          0.7375946044921875,
          1.5552785396575928,
          3.2988369464874268,
          -11.709877967834473,
          -13.911643981933594,
          -6.85595703125,
          2.523104429244995,
          -3.6357429027557373,
          3.255152702331543,
          4.324566841125488,
          12.08167839050293
         ]
        },
        {
         "hoverlabel": {
          "namelength": 0
         },
         "hovertemplate": "Dominant_Topic=Topic 3<br>0=%{x}<br>1=%{y}<br>2=%{z}",
         "legendgroup": "Dominant_Topic=Topic 3",
         "marker": {
          "color": "#ab63fa",
          "opacity": 0.7,
          "symbol": "circle"
         },
         "mode": "markers",
         "name": "Dominant_Topic=Topic 3",
         "scene": "scene",
         "showlegend": true,
         "type": "scatter3d",
         "x": [
          -1.5055832862854004,
          -0.0701679140329361,
          -0.5654895901679993,
          -1.4959815740585327
         ],
         "y": [
          -4.305938720703125,
          -5.008856773376465,
          -6.5562944412231445,
          -4.300198554992676
         ],
         "z": [
          -0.8292155861854553,
          0.22024467587471008,
          -1.0301471948623657,
          -0.8165018558502197
         ]
        }
       ],
       "layout": {
        "height": 800,
        "legend": {
         "tracegroupgap": 0
        },
        "scene": {
         "domain": {
          "x": [
           0,
           1
          ],
          "y": [
           0,
           1
          ]
         },
         "xaxis": {
          "title": {
           "text": "0"
          }
         },
         "yaxis": {
          "title": {
           "text": "1"
          }
         },
         "zaxis": {
          "title": {
           "text": "2"
          }
         }
        },
        "template": {
         "data": {
          "bar": [
           {
            "error_x": {
             "color": "#2a3f5f"
            },
            "error_y": {
             "color": "#2a3f5f"
            },
            "marker": {
             "line": {
              "color": "#E5ECF6",
              "width": 0.5
             }
            },
            "type": "bar"
           }
          ],
          "barpolar": [
           {
            "marker": {
             "line": {
              "color": "#E5ECF6",
              "width": 0.5
             }
            },
            "type": "barpolar"
           }
          ],
          "carpet": [
           {
            "aaxis": {
             "endlinecolor": "#2a3f5f",
             "gridcolor": "white",
             "linecolor": "white",
             "minorgridcolor": "white",
             "startlinecolor": "#2a3f5f"
            },
            "baxis": {
             "endlinecolor": "#2a3f5f",
             "gridcolor": "white",
             "linecolor": "white",
             "minorgridcolor": "white",
             "startlinecolor": "#2a3f5f"
            },
            "type": "carpet"
           }
          ],
          "choropleth": [
           {
            "colorbar": {
             "outlinewidth": 0,
             "ticks": ""
            },
            "type": "choropleth"
           }
          ],
          "contour": [
           {
            "colorbar": {
             "outlinewidth": 0,
             "ticks": ""
            },
            "colorscale": [
             [
              0,
              "#0d0887"
             ],
             [
              0.1111111111111111,
              "#46039f"
             ],
             [
              0.2222222222222222,
              "#7201a8"
             ],
             [
              0.3333333333333333,
              "#9c179e"
             ],
             [
              0.4444444444444444,
              "#bd3786"
             ],
             [
              0.5555555555555556,
              "#d8576b"
             ],
             [
              0.6666666666666666,
              "#ed7953"
             ],
             [
              0.7777777777777778,
              "#fb9f3a"
             ],
             [
              0.8888888888888888,
              "#fdca26"
             ],
             [
              1,
              "#f0f921"
             ]
            ],
            "type": "contour"
           }
          ],
          "contourcarpet": [
           {
            "colorbar": {
             "outlinewidth": 0,
             "ticks": ""
            },
            "type": "contourcarpet"
           }
          ],
          "heatmap": [
           {
            "colorbar": {
             "outlinewidth": 0,
             "ticks": ""
            },
            "colorscale": [
             [
              0,
              "#0d0887"
             ],
             [
              0.1111111111111111,
              "#46039f"
             ],
             [
              0.2222222222222222,
              "#7201a8"
             ],
             [
              0.3333333333333333,
              "#9c179e"
             ],
             [
              0.4444444444444444,
              "#bd3786"
             ],
             [
              0.5555555555555556,
              "#d8576b"
             ],
             [
              0.6666666666666666,
              "#ed7953"
             ],
             [
              0.7777777777777778,
              "#fb9f3a"
             ],
             [
              0.8888888888888888,
              "#fdca26"
             ],
             [
              1,
              "#f0f921"
             ]
            ],
            "type": "heatmap"
           }
          ],
          "heatmapgl": [
           {
            "colorbar": {
             "outlinewidth": 0,
             "ticks": ""
            },
            "colorscale": [
             [
              0,
              "#0d0887"
             ],
             [
              0.1111111111111111,
              "#46039f"
             ],
             [
              0.2222222222222222,
              "#7201a8"
             ],
             [
              0.3333333333333333,
              "#9c179e"
             ],
             [
              0.4444444444444444,
              "#bd3786"
             ],
             [
              0.5555555555555556,
              "#d8576b"
             ],
             [
              0.6666666666666666,
              "#ed7953"
             ],
             [
              0.7777777777777778,
              "#fb9f3a"
             ],
             [
              0.8888888888888888,
              "#fdca26"
             ],
             [
              1,
              "#f0f921"
             ]
            ],
            "type": "heatmapgl"
           }
          ],
          "histogram": [
           {
            "marker": {
             "colorbar": {
              "outlinewidth": 0,
              "ticks": ""
             }
            },
            "type": "histogram"
           }
          ],
          "histogram2d": [
           {
            "colorbar": {
             "outlinewidth": 0,
             "ticks": ""
            },
            "colorscale": [
             [
              0,
              "#0d0887"
             ],
             [
              0.1111111111111111,
              "#46039f"
             ],
             [
              0.2222222222222222,
              "#7201a8"
             ],
             [
              0.3333333333333333,
              "#9c179e"
             ],
             [
              0.4444444444444444,
              "#bd3786"
             ],
             [
              0.5555555555555556,
              "#d8576b"
             ],
             [
              0.6666666666666666,
              "#ed7953"
             ],
             [
              0.7777777777777778,
              "#fb9f3a"
             ],
             [
              0.8888888888888888,
              "#fdca26"
             ],
             [
              1,
              "#f0f921"
             ]
            ],
            "type": "histogram2d"
           }
          ],
          "histogram2dcontour": [
           {
            "colorbar": {
             "outlinewidth": 0,
             "ticks": ""
            },
            "colorscale": [
             [
              0,
              "#0d0887"
             ],
             [
              0.1111111111111111,
              "#46039f"
             ],
             [
              0.2222222222222222,
              "#7201a8"
             ],
             [
              0.3333333333333333,
              "#9c179e"
             ],
             [
              0.4444444444444444,
              "#bd3786"
             ],
             [
              0.5555555555555556,
              "#d8576b"
             ],
             [
              0.6666666666666666,
              "#ed7953"
             ],
             [
              0.7777777777777778,
              "#fb9f3a"
             ],
             [
              0.8888888888888888,
              "#fdca26"
             ],
             [
              1,
              "#f0f921"
             ]
            ],
            "type": "histogram2dcontour"
           }
          ],
          "mesh3d": [
           {
            "colorbar": {
             "outlinewidth": 0,
             "ticks": ""
            },
            "type": "mesh3d"
           }
          ],
          "parcoords": [
           {
            "line": {
             "colorbar": {
              "outlinewidth": 0,
              "ticks": ""
             }
            },
            "type": "parcoords"
           }
          ],
          "pie": [
           {
            "automargin": true,
            "type": "pie"
           }
          ],
          "scatter": [
           {
            "marker": {
             "colorbar": {
              "outlinewidth": 0,
              "ticks": ""
             }
            },
            "type": "scatter"
           }
          ],
          "scatter3d": [
           {
            "line": {
             "colorbar": {
              "outlinewidth": 0,
              "ticks": ""
             }
            },
            "marker": {
             "colorbar": {
              "outlinewidth": 0,
              "ticks": ""
             }
            },
            "type": "scatter3d"
           }
          ],
          "scattercarpet": [
           {
            "marker": {
             "colorbar": {
              "outlinewidth": 0,
              "ticks": ""
             }
            },
            "type": "scattercarpet"
           }
          ],
          "scattergeo": [
           {
            "marker": {
             "colorbar": {
              "outlinewidth": 0,
              "ticks": ""
             }
            },
            "type": "scattergeo"
           }
          ],
          "scattergl": [
           {
            "marker": {
             "colorbar": {
              "outlinewidth": 0,
              "ticks": ""
             }
            },
            "type": "scattergl"
           }
          ],
          "scattermapbox": [
           {
            "marker": {
             "colorbar": {
              "outlinewidth": 0,
              "ticks": ""
             }
            },
            "type": "scattermapbox"
           }
          ],
          "scatterpolar": [
           {
            "marker": {
             "colorbar": {
              "outlinewidth": 0,
              "ticks": ""
             }
            },
            "type": "scatterpolar"
           }
          ],
          "scatterpolargl": [
           {
            "marker": {
             "colorbar": {
              "outlinewidth": 0,
              "ticks": ""
             }
            },
            "type": "scatterpolargl"
           }
          ],
          "scatterternary": [
           {
            "marker": {
             "colorbar": {
              "outlinewidth": 0,
              "ticks": ""
             }
            },
            "type": "scatterternary"
           }
          ],
          "surface": [
           {
            "colorbar": {
             "outlinewidth": 0,
             "ticks": ""
            },
            "colorscale": [
             [
              0,
              "#0d0887"
             ],
             [
              0.1111111111111111,
              "#46039f"
             ],
             [
              0.2222222222222222,
              "#7201a8"
             ],
             [
              0.3333333333333333,
              "#9c179e"
             ],
             [
              0.4444444444444444,
              "#bd3786"
             ],
             [
              0.5555555555555556,
              "#d8576b"
             ],
             [
              0.6666666666666666,
              "#ed7953"
             ],
             [
              0.7777777777777778,
              "#fb9f3a"
             ],
             [
              0.8888888888888888,
              "#fdca26"
             ],
             [
              1,
              "#f0f921"
             ]
            ],
            "type": "surface"
           }
          ],
          "table": [
           {
            "cells": {
             "fill": {
              "color": "#EBF0F8"
             },
             "line": {
              "color": "white"
             }
            },
            "header": {
             "fill": {
              "color": "#C8D4E3"
             },
             "line": {
              "color": "white"
             }
            },
            "type": "table"
           }
          ]
         },
         "layout": {
          "annotationdefaults": {
           "arrowcolor": "#2a3f5f",
           "arrowhead": 0,
           "arrowwidth": 1
          },
          "coloraxis": {
           "colorbar": {
            "outlinewidth": 0,
            "ticks": ""
           }
          },
          "colorscale": {
           "diverging": [
            [
             0,
             "#8e0152"
            ],
            [
             0.1,
             "#c51b7d"
            ],
            [
             0.2,
             "#de77ae"
            ],
            [
             0.3,
             "#f1b6da"
            ],
            [
             0.4,
             "#fde0ef"
            ],
            [
             0.5,
             "#f7f7f7"
            ],
            [
             0.6,
             "#e6f5d0"
            ],
            [
             0.7,
             "#b8e186"
            ],
            [
             0.8,
             "#7fbc41"
            ],
            [
             0.9,
             "#4d9221"
            ],
            [
             1,
             "#276419"
            ]
           ],
           "sequential": [
            [
             0,
             "#0d0887"
            ],
            [
             0.1111111111111111,
             "#46039f"
            ],
            [
             0.2222222222222222,
             "#7201a8"
            ],
            [
             0.3333333333333333,
             "#9c179e"
            ],
            [
             0.4444444444444444,
             "#bd3786"
            ],
            [
             0.5555555555555556,
             "#d8576b"
            ],
            [
             0.6666666666666666,
             "#ed7953"
            ],
            [
             0.7777777777777778,
             "#fb9f3a"
            ],
            [
             0.8888888888888888,
             "#fdca26"
            ],
            [
             1,
             "#f0f921"
            ]
           ],
           "sequentialminus": [
            [
             0,
             "#0d0887"
            ],
            [
             0.1111111111111111,
             "#46039f"
            ],
            [
             0.2222222222222222,
             "#7201a8"
            ],
            [
             0.3333333333333333,
             "#9c179e"
            ],
            [
             0.4444444444444444,
             "#bd3786"
            ],
            [
             0.5555555555555556,
             "#d8576b"
            ],
            [
             0.6666666666666666,
             "#ed7953"
            ],
            [
             0.7777777777777778,
             "#fb9f3a"
            ],
            [
             0.8888888888888888,
             "#fdca26"
            ],
            [
             1,
             "#f0f921"
            ]
           ]
          },
          "colorway": [
           "#636efa",
           "#EF553B",
           "#00cc96",
           "#ab63fa",
           "#FFA15A",
           "#19d3f3",
           "#FF6692",
           "#B6E880",
           "#FF97FF",
           "#FECB52"
          ],
          "font": {
           "color": "#2a3f5f"
          },
          "geo": {
           "bgcolor": "white",
           "lakecolor": "white",
           "landcolor": "#E5ECF6",
           "showlakes": true,
           "showland": true,
           "subunitcolor": "white"
          },
          "hoverlabel": {
           "align": "left"
          },
          "hovermode": "closest",
          "mapbox": {
           "style": "light"
          },
          "paper_bgcolor": "white",
          "plot_bgcolor": "#E5ECF6",
          "polar": {
           "angularaxis": {
            "gridcolor": "white",
            "linecolor": "white",
            "ticks": ""
           },
           "bgcolor": "#E5ECF6",
           "radialaxis": {
            "gridcolor": "white",
            "linecolor": "white",
            "ticks": ""
           }
          },
          "scene": {
           "xaxis": {
            "backgroundcolor": "#E5ECF6",
            "gridcolor": "white",
            "gridwidth": 2,
            "linecolor": "white",
            "showbackground": true,
            "ticks": "",
            "zerolinecolor": "white"
           },
           "yaxis": {
            "backgroundcolor": "#E5ECF6",
            "gridcolor": "white",
            "gridwidth": 2,
            "linecolor": "white",
            "showbackground": true,
            "ticks": "",
            "zerolinecolor": "white"
           },
           "zaxis": {
            "backgroundcolor": "#E5ECF6",
            "gridcolor": "white",
            "gridwidth": 2,
            "linecolor": "white",
            "showbackground": true,
            "ticks": "",
            "zerolinecolor": "white"
           }
          },
          "shapedefaults": {
           "line": {
            "color": "#2a3f5f"
           }
          },
          "ternary": {
           "aaxis": {
            "gridcolor": "white",
            "linecolor": "white",
            "ticks": ""
           },
           "baxis": {
            "gridcolor": "white",
            "linecolor": "white",
            "ticks": ""
           },
           "bgcolor": "#E5ECF6",
           "caxis": {
            "gridcolor": "white",
            "linecolor": "white",
            "ticks": ""
           }
          },
          "title": {
           "x": 0.05
          },
          "xaxis": {
           "automargin": true,
           "gridcolor": "white",
           "linecolor": "white",
           "ticks": "",
           "title": {
            "standoff": 15
           },
           "zerolinecolor": "white",
           "zerolinewidth": 2
          },
          "yaxis": {
           "automargin": true,
           "gridcolor": "white",
           "linecolor": "white",
           "ticks": "",
           "title": {
            "standoff": 15
           },
           "zerolinecolor": "white",
           "zerolinewidth": 2
          }
         }
        },
        "title": {
         "text": "3d TSNE Plot for Topic Model"
        },
        "width": 900
       }
      },
      "text/html": [
       "<div>\n",
       "        \n",
       "        \n",
       "            <div id=\"8a6e1b80-400e-488b-ad38-e7e7c98e13ac\" class=\"plotly-graph-div\" style=\"height:800px; width:900px;\"></div>\n",
       "            <script type=\"text/javascript\">\n",
       "                require([\"plotly\"], function(Plotly) {\n",
       "                    window.PLOTLYENV=window.PLOTLYENV || {};\n",
       "                    \n",
       "                if (document.getElementById(\"8a6e1b80-400e-488b-ad38-e7e7c98e13ac\")) {\n",
       "                    Plotly.newPlot(\n",
       "                        '8a6e1b80-400e-488b-ad38-e7e7c98e13ac',\n",
       "                        [{\"hoverlabel\": {\"namelength\": 0}, \"hovertemplate\": \"Dominant_Topic=Topic 0<br>0=%{x}<br>1=%{y}<br>2=%{z}\", \"legendgroup\": \"Dominant_Topic=Topic 0\", \"marker\": {\"color\": \"#636efa\", \"opacity\": 0.7, \"symbol\": \"circle\"}, \"mode\": \"markers\", \"name\": \"Dominant_Topic=Topic 0\", \"scene\": \"scene\", \"showlegend\": true, \"type\": \"scatter3d\", \"x\": [0.580877959728241, 0.2224329710006714, -0.554764449596405, 0.5596984624862671, 1.0190916061401367, 0.7953823804855347, 1.1211754083633423, 0.2415754795074463, -0.5548763871192932, 1.9357575178146362, 0.282889723777771, 0.9225965142250061, 0.6143847703933716, 2.0894923210144043, 0.3547080457210541, 1.1638988256454468, 0.025879226624965668, 0.4935312867164612, 1.1702370643615723, 0.8764452338218689, 1.7136085033416748, 0.4589498043060303, 1.8323253393173218, 0.7843786478042603, 1.285922884941101, 0.1566687971353531, 0.03446926176548004, 0.5182308554649353, 1.4150633811950684, 0.9065325856208801, 0.15556295216083527, 1.7214030027389526, 0.8240438103675842, 0.642983078956604, 0.6702443361282349, 1.141563892364502, 0.5214382410049438, 0.7010069489479065, 2.170647382736206, 2.054187297821045, 2.016249656677246, 0.5924200415611267, 0.1980208456516266, 1.0318390130996704, 0.5032936334609985], \"y\": [-11.022940635681152, -11.30164909362793, -6.5830583572387695, -11.174238204956055, -10.337331771850586, -11.451120376586914, -10.212244033813477, -11.600101470947266, -6.589481830596924, -9.7989501953125, -11.59134292602539, -7.235836982727051, -11.437210083007812, -9.775965690612793, -10.832818984985352, -10.171429634094238, -11.243111610412598, -10.892255783081055, -10.15934944152832, -11.182267189025879, -9.84437370300293, -11.210442543029785, -9.85849380493164, -11.526463508605957, -10.083106994628906, -10.925910949707031, -11.317220687866211, -11.695047378540039, -9.976770401000977, -10.496481895446777, -10.9993314743042, -9.902488708496094, -11.249726295471191, -11.003314018249512, -10.879084587097168, -10.19742488861084, -11.6581392288208, -8.83791732788086, -9.75416088104248, -9.7787504196167, -9.582087516784668, -10.831806182861328, -11.571039199829102, -10.321623802185059, -8.59794807434082], \"z\": [-3.657258987426758, -4.58914041519165, -1.035497784614563, -4.630870819091797, -2.231189489364624, -4.4168853759765625, -1.9511994123458862, -4.029590606689453, -1.0396445989608765, -0.45746418833732605, -3.979740858078003, 0.277081161737442, -3.8105955123901367, -0.25725114345550537, -4.303116321563721, -1.8445838689804077, -4.26175594329834, -4.421406269073486, -1.8225270509719849, -4.230217456817627, -0.773734986782074, -4.6498541831970215, -0.6492645144462585, -4.142126560211182, -1.5877432823181152, -3.9756522178649902, -4.300767421722412, -4.203231334686279, -1.29836905002594, -2.599477767944336, -3.879016399383545, -0.837148129940033, -4.44002103805542, -3.5014662742614746, -3.365368127822876, -1.9071571826934814, -4.420372009277344, 0.6227186918258667, -0.14469541609287262, -0.29423731565475464, 0.056966304779052734, -3.9703891277313232, -4.433218002319336, -2.196781873703003, -0.434406578540802]}, {\"hoverlabel\": {\"namelength\": 0}, \"hovertemplate\": \"Dominant_Topic=Topic 1<br>0=%{x}<br>1=%{y}<br>2=%{z}\", \"legendgroup\": \"Dominant_Topic=Topic 1\", \"marker\": {\"color\": \"#EF553B\", \"opacity\": 0.7, \"symbol\": \"circle\"}, \"mode\": \"markers\", \"name\": \"Dominant_Topic=Topic 1\", \"scene\": \"scene\", \"showlegend\": true, \"type\": \"scatter3d\", \"x\": [-8.043473243713379, -8.304264068603516, -9.341216087341309, -7.026676654815674, -9.299322128295898, -11.19878101348877, -11.296876907348633, -11.356410026550293, -9.461956024169922, -9.37147331237793, -10.371731758117676, -10.863860130310059, -11.342718124389648, -9.627086639404297, -8.485089302062988, -7.34832239151001, -9.251890182495117, -8.853544235229492, -7.330111980438232, -9.457049369812012, -9.125004768371582, -9.99853515625, -11.291319847106934, -9.47669506072998, -11.429093360900879, -10.27211856842041, -11.26986312866211, -9.99901008605957, -9.166984558105469, -9.160748481750488, -9.338949203491211, -9.21191692352295, -9.361318588256836, -7.207481861114502, -9.21656322479248, -9.141120910644531, -8.479076385498047, -8.5310640335083, -9.28549861907959, -9.311036109924316, -9.109396934509277, -9.13037395477295, -9.644742965698242, -11.085038185119629, -10.572416305541992, -9.40294075012207, -9.201355934143066, -11.260902404785156, -9.058429718017578, -9.169540405273438, -6.868458271026611, -7.113003730773926, -9.198225021362305, -11.504753112792969, -11.401711463928223, -9.456626892089844, -9.152909278869629, -10.506422996520996, -9.167275428771973, -10.769895553588867, -10.604001998901367, -11.514692306518555, -9.181636810302734, -9.355454444885254, -11.139754295349121, -10.457090377807617, -9.245697975158691, -11.068451881408691, -9.628536224365234, -8.327709197998047, -9.464537620544434, -9.378143310546875, -9.459615707397461, -11.084540367126465, -11.376030921936035, -9.030401229858398, -10.674520492553711, -9.98620319366455, -10.138073921203613, -9.436800956726074, -9.29365062713623, -9.22033977508545, -9.30705451965332, -9.018999099731445, -9.144545555114746, -9.217367172241211, -8.51065444946289, -11.33006763458252, -10.493720054626465, -11.398324966430664, -11.012091636657715, -8.900945663452148, -9.597179412841797, -9.442768096923828, -10.309321403503418, -9.650875091552734, -8.912346839904785, -9.476827621459961, -9.248824119567871, -9.15369701385498, -8.488398551940918, -9.178173065185547, -10.241083145141602, -9.45766544342041, -10.876405715942383, -9.462041854858398, -9.312621116638184, -9.144746780395508, -9.14967155456543, -10.129737854003906, -8.646178245544434, -10.397377014160156, -11.12954330444336, -9.044495582580566, -10.177302360534668, -9.428936958312988, -9.012128829956055, -10.07528018951416, -11.094825744628906, -10.209390640258789, -9.175225257873535, -9.147884368896484, -9.151832580566406, -11.283503532409668, -11.345013618469238, -9.643341064453125, -9.222468376159668, -8.928010940551758, -9.422104835510254, -9.3621826171875, -9.148914337158203, -9.15442180633545, -8.438987731933594, -11.614553451538086, -11.075474739074707, -11.198920249938965, -9.364013671875, -11.028693199157715, -9.313576698303223, -9.398714065551758, -11.355380058288574, -9.299482345581055, -9.105599403381348, -11.31201171875, -10.72614860534668, -9.296281814575195, -11.452948570251465, -9.901653289794922, -10.023214340209961, -8.766105651855469, -9.426074028015137, -9.137898445129395, -9.154962539672852, -9.343421936035156, -9.45327377319336, -8.819622039794922, -9.147576332092285, -9.953771591186523, -10.651512145996094, -9.708902359008789, -10.179113388061523, -11.456382751464844, -10.967303276062012, -9.255931854248047, -7.404562473297119, -11.376797676086426, -9.156274795532227, -9.14670467376709, -9.731588363647461, -9.372058868408203, -9.241142272949219, -10.26999568939209, -8.528223991394043, -8.447388648986816, -11.045812606811523, -6.985605239868164, -11.05859375, -9.15351390838623, -9.370165824890137, -9.617037773132324, -8.755045890808105, -9.133988380432129, -9.766519546508789, -11.44670295715332, -11.284506797790527, -9.083905220031738, -11.53262996673584, -8.856550216674805, -9.392356872558594, -10.803794860839844, -9.423165321350098, -9.34292984008789, -8.524751663208008, -9.159748077392578, -9.21221923828125, -9.3012113571167, -7.306513786315918, -9.020520210266113, -9.404046058654785, -9.452219009399414, -7.506631851196289, -11.326988220214844, -11.31281852722168, -10.83182430267334, -9.272661209106445, -9.396966934204102, -11.08382797241211, -11.425344467163086, -9.289633750915527, -9.418497085571289, -9.947599411010742, -8.169838905334473, -10.631901741027832, -10.198888778686523, -9.224604606628418, -10.7959566116333, -9.88581371307373, -9.058462142944336, -9.366873741149902, -9.752411842346191, -9.400569915771484, -9.46206283569336, -9.2420654296875, -10.016974449157715, -10.8058443069458, -10.002716064453125, -11.363775253295898, -11.331202507019043, -10.619563102722168, -7.228529453277588, -8.494071960449219, -9.474223136901855, -9.442307472229004, -9.177926063537598, -10.041037559509277, -9.093489646911621, -9.44179916381836, -11.022745132446289], \"y\": [-0.7972122430801392, 2.821476697921753, -3.9016575813293457, -0.47859111428260803, 1.938904047012329, -14.19241714477539, -14.365274429321289, -13.539824485778809, -1.670000433921814, -4.17726993560791, -8.09581470489502, -10.10706615447998, -12.97669792175293, -4.756265163421631, -1.2954447269439697, -0.3802025020122528, 4.712759971618652, 4.404885292053223, 0.37342533469200134, -0.9680941700935364, 4.468143463134766, -6.571399688720703, -12.020991325378418, -3.0272700786590576, -14.515482902526855, -7.705827236175537, -14.490165710449219, -7.656594276428223, 4.634513854980469, 4.607165813446045, 4.178579330444336, 4.8129496574401855, 4.191661834716797, 0.08417429029941559, 4.808973789215088, 3.9691002368927, -1.3092072010040283, 4.548196315765381, 4.643584728240967, 3.7103607654571533, 2.3308944702148438, 4.840085029602051, -4.039909839630127, -11.313426971435547, -8.875099182128906, -7.502918720245361, 4.8435540199279785, -12.748437881469727, 4.728562355041504, 2.9365875720977783, -0.47885066270828247, -0.472639799118042, 3.904752731323242, -14.246341705322266, -12.465409278869629, -0.9946718811988831, 4.9361677169799805, -8.61669921875, 4.9336256980896, -9.669947624206543, -9.012781143188477, -14.52355670928955, 4.920714855194092, -4.225579261779785, -11.617655754089355, -8.418701171875, 4.709688663482666, -11.201220512390137, -4.376861572265625, 2.6057889461517334, -1.0559881925582886, 0.5403501391410828, -1.0890843868255615, -11.29479694366455, -14.564260482788086, -0.7651384472846985, -9.291059494018555, -6.518041133880615, -7.175360202789307, -2.7784616947174072, 1.9887092113494873, 4.782492637634277, 2.0854837894439697, -0.7175919413566589, 4.926926612854004, 2.5201170444488525, 3.558483123779297, -14.0739164352417, -8.569501876831055, -13.800803184509277, -12.446587562561035, 2.0265510082244873, -4.672932147979736, -7.470074653625488, -12.45705509185791, -4.876838207244873, -3.214383840560913, -4.30410099029541, 2.0383782386779785, 3.8497209548950195, -0.9807217121124268, 4.92417049407959, -7.5743818283081055, -1.376993179321289, -10.169830322265625, -1.2237192392349243, 4.448276042938232, 3.4504265785217285, 4.639055252075195, -7.158323287963867, 2.5511481761932373, -12.583863258361816, -12.521401405334473, 4.8152570724487305, -7.327224254608154, -2.755183696746826, 4.822059631347656, -6.936494827270508, -12.034276962280273, -7.434136390686035, 4.043122291564941, 3.468925714492798, 3.130866765975952, -14.293112754821777, -13.261157989501953, -4.170238018035889, 4.777079105377197, 4.381211757659912, -3.13555645942688, 4.068883895874023, 3.28521990776062, 4.934930324554443, 4.121922016143799, -14.258227348327637, -13.728669166564941, -11.88547420501709, 0.6609275341033936, -12.133960723876953, 2.1970629692077637, 0.251845121383667, -12.9030179977417, -3.830203056335449, 3.8504579067230225, -12.175477981567383, -9.502098083496094, 1.4423656463623047, -12.43111515045166, -6.129530429840088, -6.67521858215332, 0.02851690724492073, -0.518237829208374, 4.479035377502441, 3.309706926345825, 4.3356499671936035, -2.0493571758270264, -0.24054265022277832, 4.928600311279297, -6.368877410888672, -14.311010360717773, -4.03960657119751, -7.341883182525635, -12.45301628112793, -10.62419319152832, 1.9644218683242798, 0.752075731754303, -13.686145782470703, 3.2916717529296875, 4.503068447113037, -5.265039443969727, 4.1113691329956055, 2.5786325931549072, -7.697079658508301, -0.17047405242919922, -0.5725501179695129, -11.068768501281738, -0.3243419826030731, -12.597418785095215, 3.9174275398254395, 4.169116973876953, -3.6424314975738525, 1.020604133605957, 4.28934907913208, -5.466638088226318, -14.027254104614258, -12.744036674499512, 4.907284736633301, -14.101962089538574, 1.90732741355896, 0.28074824810028076, -9.831787109375, -0.47240474820137024, 4.40914249420166, -0.7335230112075806, 4.940236568450928, 2.8010544776916504, 3.622141122817993, 0.506395161151886, -0.7300359606742859, -3.3250582218170166, -1.738235592842102, -0.732607364654541, -12.015278816223145, -12.343396186828613, -9.955507278442383, 4.686016082763672, -7.35984992980957, -11.291657447814941, -14.562500953674316, 4.590114593505859, -0.06871622055768967, -6.908307075500488, 3.665668249130249, -9.13357925415039, -8.070512771606445, 1.9082554578781128, -9.811169624328613, -6.03427267074585, 3.9192824363708496, -3.284113645553589, -5.40161657333374, 0.1275322586297989, -4.454826354980469, 2.3071677684783936, -6.635946273803711, -9.848142623901367, -7.696090221405029, -14.060100555419922, -13.172348976135254, -9.07436752319336, 0.04542016610503197, 1.500314474105835, -2.9928176403045654, -2.908275604248047, 4.830108165740967, -7.808250427246094, 4.910552024841309, -2.44694447517395, -8.533453941345215], \"z\": [-11.741957664489746, -7.356375217437744, -11.172430038452148, -6.896672248840332, -10.31824779510498, -3.4764719009399414, -4.294686317443848, -5.0130743980407715, -11.517731666564941, -11.151833534240723, -9.354296684265137, -7.976956367492676, -5.577479362487793, -10.819710731506348, -9.49211311340332, -7.087793350219727, -3.3142967224121094, -2.970362424850464, -6.676499843597412, -11.503863334655762, -7.225125789642334, -10.1322021484375, -6.537647247314453, -11.337607383728027, -3.7610714435577393, -9.584136009216309, -3.903672456741333, -8.049464225769043, -6.884520530700684, -6.933896541595459, -1.9600332975387573, -3.8141558170318604, -1.9517055749893188, -6.727834224700928, -6.23101282119751, -8.166693687438965, -9.476095199584961, -7.063906669616699, -3.0401976108551025, -1.2259246110916138, -9.756064414978027, -6.390224933624268, -11.168305397033691, -7.086203098297119, -8.808472633361816, -6.682487487792969, -4.016177654266357, -5.93494987487793, -6.676226615905762, -9.51016902923584, -6.771988391876221, -6.957173824310303, -1.6471904516220093, -3.8777263164520264, -5.867290496826172, -11.506132125854492, -5.371788024902344, -9.023736953735352, -4.865463733673096, -8.275249481201172, -8.725747108459473, -3.7857675552368164, -4.6244964599609375, -10.859688758850098, -6.838533401489258, -9.151885986328125, -3.3188462257385254, -7.169249534606934, -11.062362670898438, -7.711130142211914, -11.512554168701172, -11.07896614074707, -11.513716697692871, -7.100741863250732, -4.006738185882568, -3.367567300796509, -8.529031753540039, -10.158493041992188, -9.877601623535156, -11.364457130432129, -10.289763450622559, -3.648608446121216, -10.272565841674805, -3.30255389213562, -5.461059093475342, -9.967180252075195, -1.8185515403747559, -4.406215190887451, -9.045949935913086, -4.730625152587891, -6.158735275268555, -9.552032470703125, -10.831954002380371, -6.820381164550781, -4.269595146179199, -10.776878356933594, -10.17797565460205, -10.75510025024414, -10.254884719848633, -8.380948066711426, -9.489583015441895, -4.67261266708374, -9.668558120727539, -11.522923469543457, -7.926647186279297, -11.521049499511719, -2.497858762741089, -8.935221672058105, -6.85056734085083, -9.858782768249512, -9.967756271362305, -4.291926383972168, -6.2944016456604, -6.093719959259033, -9.780403137207031, -11.35682201385498, -6.28084659576416, -9.972881317138672, -6.249046325683594, -9.746719360351562, -1.897172451019287, -8.915668487548828, -9.303356170654297, -4.328070640563965, -5.289233684539795, -10.822517395019531, -3.6230149269104004, -6.6412034034729, -11.299264907836914, -1.7409716844558716, -9.135552406311035, -5.208837032318115, -2.8793506622314453, -4.09940767288208, -4.119849681854248, -6.619001865386963, -11.018327713012695, -6.377910137176514, -10.22274112701416, -11.20201587677002, -5.6601738929748535, -11.10932731628418, -8.349320411682129, -6.0168657302856445, -8.39401626586914, -10.6025972366333, -5.938570976257324, -10.304865837097168, -10.09731388092041, -1.3039318323135376, -11.431356430053711, -7.209904670715332, -9.117744445800781, -2.232604742050171, -11.476548194885254, -1.8886353969573975, -5.4608354568481445, -10.206971168518066, -4.244344711303711, -10.986112594604492, -9.74939250946045, -6.215317249298096, -7.6049017906188965, -10.272520065307617, -6.535569190979004, -4.853816986083984, -9.140104293823242, -7.160694599151611, -10.638602256774902, -1.8029216527938843, -9.914443969726562, -9.575730323791504, -9.445622444152832, -9.339509963989258, -7.265872478485107, -6.781655788421631, -5.609550952911377, -8.273883819580078, -1.903326392173767, -11.03756332397461, -9.674276351928711, -7.5979485511779785, -10.56296157836914, -4.519031524658203, -6.012206077575684, -5.861167907714844, -4.151614189147949, -10.366311073303223, -11.188124656677246, -8.168542861938477, -11.421517372131348, -2.3801069259643555, -11.643637657165527, -5.140111446380615, -9.677558898925781, -1.093210220336914, -6.541605472564697, -3.3215320110321045, -11.283576965332031, -11.508779525756836, -7.371264934539795, -6.282196998596191, -6.45181941986084, -8.084280014038086, -3.190948486328125, -6.812561511993408, -7.101894378662109, -3.9943714141845703, -2.889204502105713, -11.315998077392578, -9.36155891418457, -2.3453681468963623, -8.653754234313965, -8.066275596618652, -10.283827781677246, -8.196788787841797, -10.353680610656738, -8.23349380493164, -11.233763694763184, -10.59049129486084, -11.246265411376953, -10.971433639526367, -10.18056869506836, -10.118334770202637, -8.160757064819336, -7.984416961669922, -4.435107707977295, -5.380077838897705, -8.681098937988281, -6.770213603973389, -10.685397148132324, -11.339322090148926, -11.318879127502441, -6.444030284881592, -7.911325454711914, -5.851772308349609, -11.420586585998535, -7.500088691711426]}, {\"hoverlabel\": {\"namelength\": 0}, \"hovertemplate\": \"Dominant_Topic=Topic 2<br>0=%{x}<br>1=%{y}<br>2=%{z}\", \"legendgroup\": \"Dominant_Topic=Topic 2\", \"marker\": {\"color\": \"#00cc96\", \"opacity\": 0.7, \"symbol\": \"circle\"}, \"mode\": \"markers\", \"name\": \"Dominant_Topic=Topic 2\", \"scene\": \"scene\", \"showlegend\": true, \"type\": \"scatter3d\", \"x\": [5.179564952850342, 2.293034315109253, 5.375969886779785, 7.884922981262207, 8.380860328674316, -5.317975997924805, 0.4614435136318207, 3.350923776626587, 4.760396480560303, 2.41764497756958, 8.094717979431152, 6.39420223236084, -2.0298666954040527, 9.16808032989502, 3.6705069541931152, -1.728401780128479, 5.090127468109131, -5.920437812805176, 2.741056442260742, 8.14377498626709, 8.001564025878906, -5.848202705383301, 8.355710983276367, -9.264678001403809, 8.109762191772461, 6.79079008102417, 0.020273618400096893, 1.9078295230865479, 0.22483007609844208, 2.392832040786743, 2.8058083057403564, -4.204304218292236, 3.8174073696136475, 2.6587722301483154, 2.537618398666382, 1.4648364782333374, -0.15399979054927826, 7.376535415649414, -6.420893669128418, 5.181695938110352, 4.541784286499023, 2.746609687805176, 7.524554252624512, -1.5466209650039673, -2.0385866165161133, 0.6519562005996704, -2.57271146774292, 3.493776798248291, -3.9000473022460938, -1.9274332523345947, 5.181266784667969, 4.4120635986328125, 2.7324109077453613, 7.773634433746338, 2.034207820892334, 2.950540542602539, 4.030825138092041, 4.87166690826416, 6.9788312911987305, 9.056610107421875, -2.1111900806427, -5.363254070281982, 4.136884689331055, -7.780357360839844, 4.747886657714844, -5.962085247039795, 8.068263053894043, 7.448577880859375, 2.610513687133789, 0.3564879596233368, 4.629397869110107, 6.744476795196533, 2.343320846557617, -1.130725622177124, 1.309343695640564, 5.030976295471191, -1.8568171262741089, -6.700879096984863, 6.783865451812744, -6.568865776062012, 0.7502928376197815, -1.350595235824585, 4.2037882804870605, 5.177961826324463, -8.974714279174805, 8.562760353088379, 2.1970200538635254, 5.856459140777588, 5.877015590667725, -2.6282107830047607, 2.987401247024536, 1.781631588935852, -9.04627799987793, 7.835563659667969, 2.9663243293762207, -3.9962105751037598, -0.6670976877212524, -4.8866143226623535, 3.359337091445923, 6.0864715576171875, -9.298232078552246, -4.654452323913574, 3.4491093158721924, 5.1706624031066895, 0.6509637832641602, -5.545879364013672, 3.6462061405181885, 6.965171813964844, 2.0918235778808594, 8.150291442871094, -9.27435302734375, -5.3894548416137695, -8.984000205993652, -1.065228819847107, 3.8756375312805176, -2.5654594898223877, 2.6932480335235596, 5.294358253479004, 2.12785005569458, -7.451272487640381, 4.996511459350586, -0.2450195997953415, 2.232862949371338, 0.8633576035499573, 5.742018699645996, -8.835978507995605, 9.044249534606934, 8.754441261291504, -9.189969062805176, 2.0948028564453125, -7.51118803024292, -8.560118675231934, 2.8840699195861816, 3.3957772254943848, 3.9369823932647705, 4.245343208312988, 1.1636974811553955, 8.46542739868164, 6.3639912605285645, 7.566343784332275, 3.0857560634613037, 1.8314213752746582, -8.789416313171387, 4.288149833679199, 5.054463863372803, 9.074860572814941, 4.364684104919434, 6.552049160003662, 6.676388263702393, 7.193927764892578, -5.163461208343506, 1.4676132202148438, 5.909184455871582, -8.944655418395996, 1.280001163482666, -8.100048065185547, 7.674989700317383, 2.3116962909698486, 1.467894196510315, 9.153277397155762, 4.213159561157227, 3.7462174892425537, 8.867874145507812, 7.525168418884277, 9.008440017700195, -9.077754020690918, 8.10246467590332, 4.760897159576416, -8.874873161315918, -1.2465003728866577, 6.335977554321289, 5.314085960388184, -8.972617149353027, 5.766057014465332, 2.8677828311920166, 9.322616577148438, 2.6559336185455322, 4.917487621307373, -8.574467658996582, -3.7424380779266357, 3.595641613006592, 6.607525825500488, 8.412861824035645, -2.368255615234375, -2.791344165802002, 4.795770168304443, -8.349601745605469, 8.58083438873291, 8.056447982788086, 9.110398292541504, 6.808898448944092, -2.398893356323242, 7.117119789123535, 8.419563293457031, -0.4588661789894104, 4.165050029754639, -1.035117268562317, 3.643458843231201, 4.752544403076172, -0.9580337405204773, 2.685748815536499, 2.5937600135803223, 1.3676725625991821, 1.4273467063903809, 4.072068214416504, 5.414899826049805, 9.266115188598633, 7.738479137420654, -5.505376815795898, 6.39694356918335, 4.984278678894043, -4.038006782531738, 7.177595615386963, 5.026123523712158, -4.6455864906311035, 4.714884281158447, 3.724316358566284, 1.2973932027816772, 7.56186056137085, 3.209486722946167, 1.1479073762893677, 7.858392238616943, 6.093867778778076, 6.220949172973633, 6.1319169998168945, 4.744077682495117, 6.179525375366211, 3.915404796600342, -1.0092025995254517, 8.87161636352539, -8.83194351196289, 3.9512832164764404, 3.778731107711792, 5.153635501861572, 5.15586519241333, 4.0492753982543945, -4.18505859375, 4.903990268707275, 5.606876373291016, 7.542360305786133, -2.7750914096832275, -2.0463693141937256, 7.1346330642700195, -5.302405834197998, -4.3273186683654785, 7.928036689758301, 4.692943572998047, -6.707449913024902, -2.9131669998168945, -3.8318331241607666, 7.814763069152832, 9.163176536560059, -2.056405782699585, 2.8783817291259766, 1.3376473188400269, -2.5982019901275635, 3.550696849822998, -8.657313346862793, 2.2469630241394043, 6.120620250701904, 3.4262492656707764, 3.879397392272949, 7.675075054168701, 3.861448287963867, 1.1112277507781982, 7.936769008636475, 8.05468463897705, 7.169464111328125, -5.698307037353516, 6.043796062469482, -5.542390823364258, 6.071491241455078, 5.1419525146484375, 4.072939395904541, 3.771141529083252, 4.080122470855713, 1.9529883861541748, 9.028820991516113, 4.050295829772949, -5.546549320220947, -2.2745540142059326, 8.814728736877441, 4.690903186798096, -0.5100530385971069, 7.858757972717285, 5.072083950042725, 3.1148056983947754, -7.03375768661499, 1.116852045059204, 4.6452836990356445, 1.0710272789001465, 2.4789130687713623, 7.712830543518066, -1.6003893613815308, 2.725327253341675, 6.090348243713379, -0.27142834663391113, -0.46407824754714966, 5.348465919494629, -5.139739036560059, -9.2230863571167, 5.432551383972168, -8.84412956237793, -8.95991039276123, 3.7602195739746094, -3.405644416809082, 5.977180480957031, 3.689563035964966, 6.6349196434021, 1.6138429641723633, 3.0821890830993652, -4.1664628982543945, -0.10375414043664932, 5.682270526885986, 1.6566962003707886, 1.3595538139343262, -8.726897239685059, 4.770623683929443, 2.736729860305786, 8.467964172363281, -2.3419253826141357, -8.697331428527832, -2.0015649795532227, 0.17571085691452026, 9.166422843933105, 1.3479050397872925, -2.5338990688323975, 2.939365863800049, 1.534325122833252, -2.0437891483306885, 6.189830303192139, -2.0434317588806152, 4.025039196014404, 6.398556232452393, 6.153519630432129, 5.214852809906006, 0.06787491589784622, 5.844038009643555, 7.361932277679443, 5.407450199127197, 1.2899665832519531, 0.005065972916781902, -4.043221950531006, -6.9397053718566895, -5.6461262702941895, -4.967355251312256, 2.6772849559783936, -4.048633575439453, -4.038747310638428, 4.9714884757995605, 1.074194312095642, -3.7638258934020996, 1.3258765935897827, -4.022724151611328, 4.196633338928223, 7.66465425491333, -0.29666751623153687, 9.125097274780273, 8.15302562713623, -0.21713614463806152, 6.452353000640869, -9.246847152709961, 8.363245964050293, 6.277945518493652, 2.83663010597229, 1.5714383125305176, 7.787072658538818, 6.567676067352295, -9.074857711791992, 5.119284629821777, -0.44121813774108887, 1.4241440296173096, 0.8996345400810242, 1.3269398212432861, -0.06832915544509888, 8.312358856201172, 3.054083824157715, 9.194084167480469, -7.548820972442627, 4.964132785797119, 5.033012390136719, 7.150060653686523, 3.178942918777466, 4.294990539550781, 6.138359546661377, -0.6373605728149414, -9.050350189208984, 8.017111778259277, 3.3435211181640625, -2.330925226211548, 2.578723907470703, 0.600466787815094, 4.57829475402832, 1.5831938982009888, 6.0667266845703125, 7.7074384689331055, 1.9593623876571655, 3.651684522628784, 4.262383460998535, 6.79738712310791, 8.530823707580566, 8.949456214904785, -8.872247695922852, 8.429829597473145, 1.928940773010254, 2.7017982006073, 9.148290634155273, 3.3711116313934326, 2.3722259998321533, -0.786732017993927, 7.990987300872803, 1.5515868663787842, 2.944664478302002, 8.669172286987305, 1.394940972328186, 1.6624215841293335, -8.911490440368652, -8.974189758300781, 4.489451885223389, -0.9062771797180176, 6.184327602386475, -2.4547553062438965, 5.505691051483154, 8.373537063598633, -9.189297676086426, 3.649986505508423, 5.415799140930176, 1.6905326843261719, -4.0952277183532715, 6.323334217071533, 4.233102321624756, 8.117300033569336, 6.76341438293457, 2.048074245452881, 5.2689528465271, 6.849664211273193, -8.934820175170898, 7.705593585968018, -9.015246391296387, 2.7268221378326416, 1.3688206672668457, 7.0781025886535645, 9.039212226867676, -8.247814178466797, 5.267634391784668, 0.5528704524040222, 1.1588047742843628, -0.8817427158355713, -0.19355526566505432, -5.3654046058654785, 6.746420860290527, 9.159613609313965, 4.933323860168457, 8.864152908325195, 1.1166260242462158, 5.524796009063721, 0.38767606019973755, 8.908284187316895, 1.2711070775985718, 4.443848133087158, 1.8158799409866333, 2.785961389541626, -2.2638134956359863, 8.01123046875, -5.345776081085205, -2.3697335720062256, 0.8631717562675476, -0.04192458093166351, 2.952840805053711, 3.08048415184021, -8.710870742797852, 9.097671508789062, 2.4149250984191895, -8.626112937927246, 7.434927940368652, -0.8274192810058594, 0.3619043827056885, 4.974245548248291, -6.009330749511719, -1.791222095489502, 8.21489143371582, 6.661041736602783, 1.2056485414505005, 7.5707221031188965, -0.09934744983911514, 7.934998512268066, 8.42479133605957, 3.531285047531128, 0.1450238972902298, 2.88948655128479, 7.782252788543701, 5.095533847808838, -4.783908843994141, 7.6737751960754395, -7.251742362976074, 5.025590896606445, 3.8278186321258545, 6.431379795074463, 3.730635643005371, -8.739572525024414, 6.801170825958252, 2.3012523651123047, -5.783736705780029, -9.280740737915039, 0.003017718903720379, 4.936800956726074, 6.043021202087402, -2.386016368865967, 4.43420934677124, -8.981420516967773, 2.565422296524048, 1.4105950593948364, -3.865241765975952, -7.263183116912842, -9.240233421325684, 5.209024906158447, 1.846143126487732, 5.5445966720581055, 3.1485824584960938, 3.6105291843414307, 9.172320365905762, 0.8095207810401917, 4.71377420425415, -3.1938483715057373, 0.3450167775154114, -5.401383399963379, 6.298696994781494, -7.41120719909668, 0.7742816209793091, 6.793877601623535, 3.444146156311035, 8.13253402709961, 8.081372261047363, 1.3016432523727417, 4.5115885734558105, 4.4273223876953125, -7.617832183837891, 7.897370338439941, 5.21912956237793, -8.277036666870117, 8.691618919372559, -2.133220911026001, 5.120710849761963, 7.7391252517700195, 3.2102174758911133, 6.097914218902588, 8.972517013549805, 9.161704063415527, 0.5530850887298584, -0.9582626223564148, -6.7605109214782715, -2.3298442363739014, 8.662367820739746, 7.805847644805908, 4.2826924324035645, 9.09487533569336, 0.5615941286087036, -8.804397583007812, 2.9305179119110107, -9.248407363891602, 3.579145908355713, 2.7788197994232178, -3.1925361156463623, 4.191556453704834, 3.3811142444610596, 1.6996134519577026, 8.678512573242188, 4.305838584899902, 5.94755744934082, 4.552366256713867, 4.439329624176025, 1.2748745679855347, 3.563441753387451, -3.6231765747070312, 7.841501235961914, 6.863614082336426, -4.443102836608887, 8.706880569458008, -8.988729476928711, 8.506783485412598, -8.966504096984863, -5.310600280761719, -7.04231595993042, -5.202469825744629, -8.453277587890625, -8.735329627990723, 5.2544965744018555, 7.8393940925598145, 1.230468511581421, 8.275260925292969, -0.801296055316925, 7.656740188598633, -2.311760187149048, -0.3018660247325897, 9.142631530761719, -8.603751182556152, -0.30706170201301575, 0.8667222857475281, 4.152891635894775, 2.5862486362457275, 3.7348737716674805, -1.905426025390625, -9.098681449890137, 5.623307704925537, 3.3080897331237793, -0.07673779875040054, 2.7399909496307373, -9.109434127807617, -5.039000034332275, 4.46133279800415, 1.8004106283187866, 7.565967559814453, 9.052998542785645, 2.1656441688537598, 7.214132308959961, 0.9127905964851379, 2.4758522510528564, 1.4229522943496704, 5.329213619232178, 2.275242805480957, 5.635483264923096, 5.40102481842041, 9.168349266052246, 1.663063883781433, -9.188299179077148, 2.3726084232330322, -7.910834789276123, 5.750477313995361, 1.6036796569824219, -2.31543231010437, 0.2951066792011261, 6.115796089172363, 1.1866732835769653, -8.474409103393555, 1.8460593223571777, 0.4185815453529358, 5.537441730499268, 2.697206735610962, -8.833300590515137, 7.20806884765625, 2.677696704864502, -0.2788456678390503, -5.5295000076293945, -8.888011932373047, 8.149406433105469, 3.692934989929199, 1.539371132850647, 8.339385032653809, -0.9298917055130005, 5.205014228820801, -2.9107089042663574, 3.8325841426849365, -9.004971504211426, -3.1228203773498535, -1.6407041549682617, 4.3550567626953125, -1.4281272888183594, 8.434699058532715, -9.111221313476562, 2.128910541534424, 9.04871940612793, 4.948992729187012, -6.7264862060546875, 5.779688835144043, 4.717590808868408, 3.292393445968628, 4.337906837463379, 7.883804798126221, -3.26711368560791, 1.2960013151168823, 8.376522064208984, 3.5830490589141846, 3.018568277359009, 6.821580410003662, 5.512537002563477, 8.769526481628418, -9.116445541381836, 1.4199283123016357, 2.7845237255096436, 3.3305583000183105, -8.7103853225708, 4.957943439483643, -3.8672099113464355, 2.6967597007751465, 5.852537631988525, -7.763551235198975, 8.60387897491455, 6.670273780822754, 3.2779836654663086, 7.5408549308776855, -3.2345454692840576, 2.092869281768799, 4.673164367675781, 6.543501377105713, 7.975918769836426, -3.7553093433380127, -8.058507919311523, 8.98249626159668, 9.183881759643555, 2.099630117416382, 0.8775249123573303, 4.197247505187988, 9.007832527160645, -5.367095947265625, 2.060642957687378, 4.3092193603515625, 1.9298428297042847, 8.032069206237793, 7.96610164642334, 9.144159317016602, 1.9484671354293823, 7.492564678192139, -0.027701834216713905], \"y\": [-3.7203330993652344, -6.099052906036377, 6.463039398193359, 0.9418636560440063, 5.010223865509033, -1.9532418251037598, -3.826848268508911, -8.927961349487305, 6.193479537963867, 6.28972053527832, 5.003689765930176, 6.680534362792969, 0.9529409408569336, 5.475358009338379, 6.232518672943115, 0.9576471447944641, -5.977031707763672, -1.9552526473999023, 3.072725772857666, 7.608837127685547, 8.616860389709473, -1.961025357246399, 5.384538173675537, 2.8200464248657227, 7.774293899536133, 8.5323486328125, -5.194974422454834, -6.354517459869385, -0.12984144687652588, 3.6129298210144043, 4.187620639801025, -1.7567025423049927, 5.398836612701416, 6.243402004241943, 4.145508289337158, 1.8583109378814697, 1.4445301294326782, 8.515524864196777, -1.899948239326477, 6.4607954025268555, 2.9658634662628174, -5.308742523193359, 5.519627571105957, -0.558208703994751, -0.7603404521942139, 2.271421194076538, -0.5269739031791687, 1.2894151210784912, -0.6274117231369019, -1.316115379333496, -3.8859612941741943, 3.0009782314300537, -9.368803024291992, 1.2249490022659302, 3.746314764022827, -5.663863182067871, 2.8640923500061035, -6.5391340255737305, 7.915107250213623, 4.977126598358154, -0.7322555780410767, -0.16352154314517975, -7.877504348754883, -1.5635312795639038, 5.905461311340332, -1.952193260192871, 1.002805233001709, 2.5767388343811035, 6.255754470825195, 2.036604881286621, 6.086902618408203, 7.59856653213501, 3.736928701400757, 0.45758315920829773, 2.8723649978637695, -5.533505916595459, 0.1576564759016037, -1.861788034439087, 5.788516044616699, -1.8832272291183472, 1.0929555892944336, 0.7753739356994629, -4.109283924102783, -5.103844165802002, -0.17116037011146545, 5.088153839111328, 3.672907829284668, 4.472516059875488, 6.022632598876953, -0.5769261717796326, 6.22395658493042, 6.293697834014893, 1.8298759460449219, 5.351574420928955, 3.155487060546875, -1.5758601427078247, 1.2404735088348389, -1.827193260192871, -4.850010395050049, 7.050436973571777, 3.5015766620635986, -1.891393780708313, -0.16448821127414703, -0.4937874674797058, -1.6155996322631836, -0.06799225509166718, 6.226959705352783, 5.721155166625977, -5.776026248931885, 1.3765901327133179, 2.975660800933838, -0.1527913361787796, -0.1349620372056961, 0.8660913109779358, 2.5534582138061523, -1.5836502313613892, -8.974794387817383, 6.110651969909668, 3.601510524749756, -1.690775752067566, -1.2289490699768066, -3.9689455032348633, 6.2467427253723145, 7.210665225982666, -1.207184076309204, -0.15465810894966125, 6.231513023376465, 2.1763265132904053, 2.2648351192474365, 3.6148107051849365, -1.6659724712371826, -0.9535813331604004, 3.7508974075317383, 0.48721298575401306, -7.634427547454834, 3.694709300994873, -8.954813957214355, 1.8036189079284668, 7.600951194763184, 8.358881950378418, -5.065276145935059, 6.306704044342041, -0.4611618220806122, 3.703808546066284, 6.140329360961914, 6.157268524169922, 5.924008369445801, 7.4893364906311035, 7.4744977951049805, 8.689441680908203, -1.9287110567092896, 3.0076403617858887, 4.493492126464844, 0.7383407354354858, -1.674727201461792, -1.3374335765838623, 0.8830786943435669, 3.8212380409240723, 0.507785975933075, 5.732459545135498, -4.552801132202148, 5.368902206420898, 2.3886806964874268, 5.513461589813232, 7.557844638824463, 1.886504888534546, 1.7474945783615112, -2.7421929836273193, -0.3718365430831909, 0.3625794053077698, 4.618047714233398, 4.256361484527588, 1.425228476524353, 4.962409496307373, 4.426217555999756, 3.0306689739227295, -9.556083679199219, 4.068118572235107, 1.7564235925674438, -0.5762997269630432, -5.891111373901367, 5.840320110321045, 7.289702892303467, -1.7736412286758423, -0.03615722060203552, 6.232536792755127, -1.368215799331665, 5.042808532714844, 1.1061506271362305, 5.0747551918029785, 7.4899725914001465, -1.6589434146881104, 5.665576457977295, 7.275811672210693, -2.009138822555542, -7.836839199066162, 0.21195612847805023, 4.856263160705566, 3.57674241065979, 0.9697219133377075, 4.336463928222656, 3.260956287384033, -7.171684265136719, 3.0024428367614746, -8.030470848083496, -2.58862042427063, 3.0103096961975098, 7.983743190765381, -0.4887905418872833, 7.627293109893799, -6.327103137969971, -1.5843327045440674, 9.310234069824219, -6.1959004402160645, -0.5847812294960022, 2.7442543506622314, 5.360997200012207, -1.6945000886917114, 8.314033508300781, -5.155691623687744, 6.728119850158691, 1.1014742851257324, 7.0972580909729, 4.596602916717529, 5.960361957550049, 6.21049690246582, 7.1301727294921875, -8.283592224121094, 0.5709794163703918, 7.325201034545898, -0.13558429479599, 5.237536430358887, 3.4374425411224365, 6.1295084953308105, 2.733133316040039, 3.5509543418884277, -0.791209876537323, -6.087009906768799, 4.359524250030518, 5.517107963562012, -0.7590919137001038, -0.062326494604349136, 8.791877746582031, -0.16700470447540283, -0.7854050397872925, 3.3786399364471436, 5.8693623542785645, -1.8614087104797363, -0.802936851978302, -1.4647096395492554, 5.392421722412109, 5.665892601013184, -0.0523894838988781, 4.18734884262085, 2.916154384613037, -0.5512451529502869, 6.23124885559082, -0.9554392695426941, -9.575308799743652, 4.568298816680908, -0.24288569390773773, 3.4884891510009766, 3.4240293502807617, 5.493192195892334, -6.792602062225342, 7.816208839416504, 5.016026020050049, 0.44524767994880676, -1.958561658859253, -0.6332722306251526, 0.008453700691461563, 5.972936630249023, -5.516541004180908, 6.2180376052856445, 5.369198322296143, 6.215450763702393, 3.4695351123809814, 6.802661895751953, -0.0999952182173729, -0.07098519057035446, -1.285881519317627, 2.277942419052124, -6.790290832519531, -2.1013848781585693, 8.313364028930664, -5.784461498260498, -6.422137260437012, -1.8081231117248535, 6.785316467285156, -6.200453281402588, -6.753207206726074, 3.886762857437134, 8.641846656799316, 0.3727809190750122, 3.3663885593414307, 5.972718238830566, 1.5521334409713745, -1.5787103176116943, -0.8094762563705444, -1.9192737340927124, 2.533569097518921, -2.490044116973877, -0.7403725385665894, 1.3273736238479614, -8.45174789428711, -1.1578984260559082, 0.41131019592285156, 5.28989315032959, 7.186704158782959, -6.50925874710083, -9.269683837890625, -1.8397868871688843, -4.485651016235352, -1.47508704662323, -4.41802978515625, 2.2330873012542725, -0.8848119378089905, -6.714706897735596, 4.2394609451293945, 1.542022466659546, 0.8023431301116943, -0.1422886699438095, -0.8208444118499756, -3.7873384952545166, 5.607824802398682, 6.3841552734375, -0.49400559067726135, -9.387721061706543, 1.930159091949463, -1.4871673583984375, 7.2044758796691895, 0.25030970573425293, 2.892566442489624, 5.899304389953613, -0.19563613831996918, 6.120234966278076, -2.85577654838562, 5.198468208312988, 0.5869100689888, -2.577390193939209, 0.3768446743488312, -3.0700786113739014, -0.8516857624053955, -1.7355276346206665, -0.02744085155427456, -1.8867419958114624, -9.526579856872559, -1.576965570449829, -1.5627524852752686, -6.171451568603516, 6.842569351196289, -1.4039465188980103, -5.123019695281982, -1.5708386898040771, -7.779472827911377, 0.9406963586807251, -1.6561185121536255, 5.106670379638672, 7.591579914093018, -1.3781242370605469, 5.88344144821167, 2.6305289268493652, 4.960785865783691, 5.92692756652832, -5.6805219650268555, 0.6918241381645203, 8.662023544311523, 4.657680511474609, 2.66904878616333, 0.7061842083930969, 0.5612794160842896, -6.865442752838135, 0.6983811259269714, 6.457812309265137, 1.4590107202529907, 1.1376737356185913, -6.443116188049316, 2.942439556121826, -1.6640195846557617, -4.0794477462768555, -4.822854042053223, 8.759687423706055, 3.320812225341797, 5.821444511413574, -0.06946618109941483, -5.457326412200928, 1.8338608741760254, 5.269041538238525, 4.874521732330322, -0.7326592206954956, 4.226635456085205, 0.7052381038665771, 6.1852641105651855, -1.9943981170654297, 2.143019199371338, 7.956571578979492, 3.666293144226074, -8.620363235473633, 3.720630407333374, 7.726032257080078, 8.284524917602539, 2.602137804031372, -0.6880136132240295, 5.346782207489014, -6.298943519592285, -8.983697891235352, 5.185422897338867, -0.09534521400928497, 3.794132709503174, 1.1274598836898804, 5.3543524742126465, 6.303958892822266, 3.046048641204834, 1.9996137619018555, 6.421209812164307, -7.257395267486572, -0.6209896206855774, -0.40529534220695496, 6.191364765167236, 1.0121065378189087, -0.42467981576919556, -0.42524710297584534, 6.081813335418701, 1.2922179698944092, 2.347476005554199, 5.252509117126465, 6.480435371398926, -6.6795244216918945, -1.613645315170288, 7.108316421508789, 5.812167167663574, 7.8670525550842285, 7.5457587242126465, 3.5438222885131836, -3.4532108306884766, 7.774745941162109, 2.582273483276367, 8.640859603881836, 1.7221035957336426, 3.9806461334228516, -8.943766593933105, 8.038737297058105, 4.959932804107666, -1.2759631872177124, 0.42120325565338135, -4.817431926727295, -4.985259532928467, -2.451094388961792, 1.6228461265563965, -1.9558032751083374, 8.41810417175293, 5.319377899169922, -0.026991568505764008, 4.925395488739014, -7.147973537445068, 6.639463901519775, 0.2977561056613922, 4.925501823425293, 6.563866138458252, 3.769385814666748, 2.19757342338562, 4.090734958648682, -0.24110198020935059, 3.4151690006256104, -1.953577995300293, 0.7572994828224182, 2.4459805488586426, -3.501248836517334, 6.229573726654053, 6.227665424346924, -0.6745684742927551, 5.039272785186768, 6.265228271484375, -1.0780892372131348, 5.566643238067627, 0.19678111374378204, -4.988399982452393, -6.037636756896973, -1.9482289552688599, 0.2041958123445511, 1.5595637559890747, 7.7419114112854, -7.231381416320801, 8.352822303771973, 0.543107807636261, 8.641196250915527, 1.4001983404159546, -0.08016692847013474, -4.240259170532227, 2.571031093597412, 0.7627500891685486, -5.855551242828369, -1.8321456909179688, 1.1887767314910889, -1.7620431184768677, 6.1447625160217285, 6.2236552238464355, 7.32847785949707, 3.4319515228271484, -0.06627891957759857, 7.492412567138672, 3.708178997039795, -1.9667479991912842, 3.0718815326690674, -4.01987886428833, -6.248227596282959, 4.53769588470459, -1.193392276763916, -7.379695892333984, 1.6962292194366455, -9.60494327545166, -6.094738483428955, -0.5483025908470154, -1.7579401731491089, 2.6466355323791504, -3.763197660446167, 0.4906604290008545, 4.331657886505127, -6.457583427429199, 5.227339267730713, 2.945856809616089, -1.6427030563354492, -6.913633823394775, -0.8317933678627014, -4.373049259185791, -1.9601613283157349, -0.1543496698141098, -1.5598952770233154, -1.6849303245544434, 5.782655239105225, -8.203286170959473, 7.6331562995910645, 2.0611143112182617, -8.735408782958984, -3.951502561569214, -7.403928279876709, -1.625003695487976, 5.378597736358643, -4.269747734069824, 1.0806063413619995, 2.080488681793213, -0.18579521775245667, -5.7802228927612305, 7.982564926147461, 6.240598201751709, -0.7211335301399231, 4.9268598556518555, 5.323696136474609, 2.2088828086853027, 0.9695135354995728, 0.602231502532959, 0.07075148075819016, 4.973615646362305, 8.235462188720703, -7.639276504516602, 5.031051158905029, -3.4468507766723633, -0.7898169755935669, 4.44233512878418, 2.6984286308288574, 6.227224349975586, -9.477063179016113, -0.5771906971931458, -3.723644495010376, -0.5470688343048096, 3.6769046783447266, 4.975885391235352, 5.66896390914917, -0.8143701553344727, 5.7296576499938965, 6.194613456726074, 2.8638315200805664, 6.217004776000977, -1.3050354719161987, 5.348897457122803, 5.761856555938721, -0.4192751944065094, 1.9423922300338745, 1.5412803888320923, 4.998978614807129, -0.4624084234237671, -0.17770539224147797, -1.8009828329086304, -1.9327231645584106, -1.135142207145691, -0.03877878934144974, -3.5506794452667236, 8.332104682922363, 2.809438943862915, 7.507295608520508, 0.11223477870225906, 1.0675941705703735, -1.3515748977661133, -1.9554588794708252, 5.856485843658447, -0.8526960015296936, 1.5228266716003418, 1.38632333278656, 3.6395463943481445, -5.919503211975098, -4.314159393310547, -0.4814336895942688, 1.927208662033081, -1.4800266027450562, -9.051494598388672, 1.6790084838867188, 3.072817802429199, 1.969643235206604, -1.895689606666565, -7.330565452575684, -6.105766296386719, 8.358469009399414, 6.229954719543457, -5.913633823394775, 9.266214370727539, -6.168261528015137, 5.926876544952393, 2.9762985706329346, 6.1070475578308105, 2.570124626159668, 6.056552886962891, 6.096864223480225, 5.338830471038818, -4.359598636627197, 2.330988645553589, -9.680159568786621, -1.486796259880066, -1.2168071269989014, 6.419924736022949, -0.29918965697288513, -0.20289765298366547, 7.089725494384766, 1.55281662940979, 2.4707648754119873, -8.91072940826416, 2.118675947189331, -1.876808524131775, 4.097416877746582, -0.7349144220352173, 5.637497901916504, -6.154601573944092, -0.5668625831604004, -0.09815827012062073, -0.6646497249603271, 1.172165870666504, -8.49804401397705, 6.461009502410889, 8.407175064086914, 1.0071090459823608, 6.401060581207275, -1.7482900619506836, 3.5187699794769287, 1.6826728582382202, -0.9531768560409546, -1.5316598415374756, 6.2024078369140625, 0.5580446720123291, 4.910712242126465, 1.972269892692566, -6.038933753967285, 4.969064712524414, 4.054244041442871, -1.8570142984390259, 6.035735607147217, -4.243893623352051, 3.23138427734375, 5.89233922958374, 8.652376174926758, -1.052207112312317, 1.3752590417861938, 7.368903160095215, -8.754006385803223, -5.778189659118652, 5.771213531494141, -2.00012469291687, 2.225349187850952, 3.1359238624572754, -4.202836990356445, 6.228217601776123, -9.019830703735352, 2.1943469047546387, 6.326625823974609, -0.722362220287323, -6.26674222946167, 4.463183879852295, -1.5739657878875732, 5.156834125518799, 1.8848443031311035, -8.909262657165527, 0.8514207601547241, -1.0263386964797974, 3.6113171577453613, 3.9159586429595947, 5.858260154724121, 8.013467788696289, -0.5837033987045288, -1.404236912727356, 7.8272294998168945, 2.9214365482330322, 6.242112636566162, 2.5108509063720703, 6.210960865020752, 2.7228267192840576, -0.14205710589885712, 0.5615355372428894, 6.207610607147217, 6.290513515472412, 5.299997806549072, 8.628198623657227, 5.245936393737793, 0.49169814586639404, 2.091632604598999, 1.7637965679168701], \"z\": [6.163670063018799, 5.424920558929443, 7.350787162780762, 3.2430179119110107, -7.034016132354736, 8.384834289550781, 1.5043723583221436, 1.7102605104446411, 7.9717326164245605, -13.440605163574219, -6.736606597900391, 6.4193596839904785, 10.270977973937988, -3.2542519569396973, -12.312858581542969, 10.795570373535156, 4.709805965423584, 7.6949591636657715, 3.0264484882354736, -0.24838081002235413, 2.5211424827575684, 7.781030654907227, -7.030159950256348, 0.27151551842689514, -0.03392511233687401, 2.399336099624634, 1.797519564628601, 5.291329383850098, 1.984326958656311, 4.961120128631592, 10.092476844787598, 8.880398750305176, 8.778653144836426, -13.227703094482422, 10.24061107635498, 2.524953842163086, 11.873048782348633, 1.0946009159088135, 7.094178676605225, 7.61751127243042, 2.3054280281066895, 5.876588821411133, -8.002991676330566, 2.1671142578125, 2.096444845199585, 11.85903263092041, 11.386063575744629, 8.288769721984863, 3.6032543182373047, 1.5829784870147705, 6.099418640136719, 2.2621870040893555, 0.8228300213813782, 3.2939679622650146, 5.805729389190674, 5.563930988311768, 8.120792388916016, 4.143700122833252, 5.222620010375977, -4.406659126281738, 2.1388700008392334, 1.212491750717163, 2.7479922771453857, 5.848166465759277, 5.144795894622803, 7.65600061416626, 3.265728712081909, 4.594756603240967, -13.273639678955078, 11.971500396728516, 8.053777694702148, 6.220170021057129, 10.740972518920898, 3.1649668216705322, 11.566621780395508, 5.105204105377197, 11.79604721069336, 6.855664253234863, -9.02113151550293, 6.991568088531494, 2.578099250793457, 11.724908828735352, 6.227203845977783, 5.383468151092529, 3.625126361846924, -6.430613040924072, 5.379220008850098, -0.5319258570671082, -10.107025146484375, 11.346034049987793, -12.929308891296387, -14.018157958984375, 1.58028244972229, -7.544468879699707, 2.8753466606140137, 9.846728324890137, 11.816683769226074, 6.669301509857178, 5.915345191955566, 6.712583541870117, -0.8865223526954651, 6.617815017700195, 7.8270039558410645, 6.557877063751221, 7.6987128257751465, 1.2303738594055176, -12.335199356079102, -8.782561302185059, 2.3436286449432373, 2.870941400527954, -0.0072303591296076775, 0.4287356436252594, 3.6132383346557617, 12.09991455078125, 8.218185424804688, 9.602516174316406, 1.6900646686553955, -10.724008560180664, 5.21280574798584, 6.166920185089111, 6.735617160797119, 0.5269364714622498, -13.60400390625, -14.512299537658691, 6.164636611938477, 0.9068737626075745, -2.2228963375091553, 1.5651898384094238, 1.131440281867981, 10.960489273071289, 6.099246025085449, 3.9814863204956055, 5.788044452667236, 8.118098258972168, 2.7188355922698975, 1.3021668195724487, 0.631071925163269, 2.2901430130004883, 6.210353851318359, 0.7557857036590576, 5.680109977722168, -14.0054931640625, 1.452614426612854, 1.2814273834228516, -10.971723556518555, -2.3370566368103027, 8.318573951721191, 6.448345184326172, 5.6944098472595215, 1.4808392524719238, 8.539168357849121, 11.457393646240234, -0.6167837977409363, 1.0302724838256836, 7.807530879974365, 5.202685832977295, 3.731037139892578, 5.7601518630981445, 2.9878506660461426, -2.905414581298828, 5.6306376457214355, 8.913717269897461, 1.2296366691589355, -7.992476940155029, -0.08760736137628555, 1.524683952331543, 2.845796585083008, 6.5859551429748535, 3.665093421936035, 3.0761189460754395, -1.4235283136367798, 7.426537990570068, 2.099773645401001, 7.168231010437012, 10.088970184326172, 0.15651151537895203, 0.5429630279541016, 0.633188784122467, 1.3297183513641357, 3.2337517738342285, 3.500645875930786, -9.245368957519531, -0.6937732100486755, 9.183980941772461, 10.058504104614258, 7.960565090179443, 1.4119312763214111, -6.3233208656311035, 3.3525259494781494, -4.044825077056885, 6.186252593994141, 9.425431251525879, -8.572604179382324, -0.7131720781326294, 1.1376688480377197, 2.789123058319092, 2.7371487617492676, 7.126323699951172, 1.319053053855896, 12.099466323852539, 10.321404457092285, 3.630810499191284, 4.849604606628418, 11.502010345458984, 2.6202309131622314, 6.342563629150391, 0.2249637395143509, 0.5538564324378967, 0.33719107508659363, 5.984263896942139, 4.372104644775391, 9.84734058380127, 2.0180857181549072, 4.506041526794434, 0.38333308696746826, 2.8667683601379395, 8.955316543579102, 7.796704292297363, 0.6181495189666748, 5.732758522033691, -14.463506698608398, 3.1127941608428955, 6.811212539672852, -1.1735799312591553, -9.816414833068848, 8.018831253051758, 6.549011707305908, 2.3884432315826416, 3.1760153770446777, -0.5823644995689392, 1.2213011980056763, 6.335432529449463, 1.81982421875, -10.871106147766113, 2.3724069595336914, 1.5832611322402954, 4.395106792449951, 4.632462024688721, -0.15957637131214142, -7.975688457489014, 10.647125244140625, 3.0061721801757812, 1.8326088190078735, 1.5518735647201538, 4.243991374969482, 0.37769943475723267, 6.056941509246826, 6.856083869934082, 11.10803508758545, 10.10633659362793, -7.628656387329102, -2.9935975074768066, 11.745553016662598, 9.98300838470459, 11.558843612670898, 11.354666709899902, -12.419107437133789, 4.660097122192383, 0.140358567237854, -0.9488604664802551, 7.809140682220459, 1.71195650100708, 0.4286748468875885, 8.79604721069336, 0.7554088830947876, 0.0018695208709686995, -7.053666591644287, 4.453378677368164, 7.809861660003662, 5.766701698303223, 0.13762006163597107, -9.879668235778809, 5.099071025848389, -11.933958053588867, 8.854288101196289, -11.928180694580078, 11.06766414642334, -1.4271050691604614, 7.4430437088012695, 1.630793571472168, 1.565117359161377, 1.393057107925415, 3.8645477294921875, 1.0641130208969116, 0.46571093797683716, 4.884398460388184, 2.7554569244384766, 6.58477783203125, -14.461487770080566, 4.217019081115723, 0.7508066296577454, 10.521700859069824, 3.0434494018554688, 11.96204662322998, 3.6834511756896973, -9.860457420349121, 12.128840446472168, 1.401874303817749, 6.445810317993164, 8.647360801696777, 0.724626898765564, 6.349713325500488, 4.390019416809082, 2.191502332687378, 2.2278120517730713, 10.560357093811035, 5.771366119384766, 8.96088981628418, 6.225027084350586, 5.41149377822876, 1.182483434677124, 8.299454689025879, 0.4471137523651123, 6.248785495758057, 2.512615919113159, 3.2713160514831543, 4.568379878997803, 3.956486940383911, 10.404812812805176, 2.400317668914795, 9.821758270263672, -1.2794746160507202, 2.030128002166748, 1.1830463409423828, -3.0670151710510254, -14.2315673828125, 11.43615436553955, 0.9609343409538269, 2.5507516860961914, 9.637331008911133, 6.646811008453369, 3.791926622390747, 8.131089210510254, -9.502863883972168, 6.3929762840271, -10.80710220336914, 1.394782543182373, 7.101494312286377, 4.21500301361084, 6.346898555755615, 2.9010913372039795, 1.2549927234649658, 4.951530933380127, 6.181401252746582, 1.6258492469787598, 6.802707195281982, 0.603918194770813, 9.878448486328125, 9.92410659790039, 4.534686088562012, -14.47506046295166, 10.229881286621094, 2.231351613998413, 9.882853507995605, 2.8388824462890625, 3.736189842224121, 1.339555025100708, -3.9584591388702393, -0.27394139766693115, 1.4689624309539795, -9.438040733337402, 0.603510320186615, -6.278575420379639, -9.64614486694336, 3.262136936187744, 3.00760555267334, 2.8813023567199707, -1.8949475288391113, 0.28125640749931335, 6.463138580322266, 2.7888095378875732, 5.161098957061768, 2.571711778640747, -14.339337348937988, 11.83655071258545, 2.7753188610076904, 2.6972451210021973, 0.3553095757961273, 6.115120887756348, 6.03704309463501, 5.577586650848389, 1.706889271736145, 9.36068058013916, 8.295483589172363, 5.732185363769531, 1.7773241996765137, 1.5965421199798584, -7.466736316680908, 9.390704154968262, 2.197575330734253, 10.461589813232422, 2.3112146854400635, -11.446243286132812, 7.64202356338501, 2.842161178588867, 0.46411100029945374, 5.590717315673828, 2.068988084793091, 1.2560265064239502, 5.670748233795166, 1.6306428909301758, 0.9198046326637268, 4.31105899810791, -6.733214855194092, 5.413121223449707, 1.6759392023086548, -3.786752462387085, 7.896739482879639, 10.622018814086914, 12.156464576721191, -7.472899913787842, -14.083362579345703, 2.400055170059204, 1.8297358751296997, -14.366938591003418, 4.530741214752197, 4.2427825927734375, 3.9372899532318115, -11.533795356750488, 12.121192932128906, 5.59950065612793, 11.501277923583984, -10.511689186096191, 2.6382339000701904, 0.2279432862997055, 9.01402759552002, 7.311689853668213, 5.160835266113281, 9.771206855773926, 6.465127944946289, 8.409976959228516, 0.0812474936246872, 5.814690113067627, 10.977948188781738, 6.221472263336182, 5.560653209686279, -0.37706878781318665, 3.0506937503814697, 1.7166227102279663, 10.417989730834961, 0.5792442560195923, 4.8765645027160645, -4.530210494995117, 5.209061145782471, 6.3655476570129395, 1.4163963794708252, 2.147213935852051, 0.8036491870880127, 12.132322311401367, 8.329975128173828, 1.3645333051681519, -3.5006117820739746, 6.710336685180664, -5.223902702331543, 0.572144091129303, 7.284060478210449, 2.1827139854431152, -5.059417724609375, -14.405643463134766, 1.157898187637329, 2.542509078979492, 10.420401573181152, 11.590409278869629, 0.2879052758216858, 8.331393241882324, 9.827492713928223, 11.779083251953125, 1.0226037502288818, -12.957418441772461, -12.843133926391602, 1.3512697219848633, -4.176459312438965, -13.4426908493042, 3.9142653942108154, -8.155064582824707, 2.6210057735443115, 1.750125527381897, 4.666445732116699, 7.598112106323242, 11.862369537353516, 2.734144687652588, 5.966240882873535, 4.8834357261657715, 0.723929762840271, 2.657916307449341, 2.685340642929077, 2.5214056968688965, 7.8101806640625, 0.9628498554229736, 2.758465528488159, 3.663264751434326, 4.820930480957031, 9.034869194030762, 3.5181069374084473, 6.412093162536621, -11.000913619995117, -12.16943645477295, 5.941915988922119, 1.824833869934082, -1.2439830303192139, 5.85294246673584, 5.408272743225098, 7.872200012207031, -0.16880083084106445, 0.8428396582603455, 4.454391956329346, -0.8070231080055237, 1.6590900421142578, 3.249690532684326, -1.0341224670410156, 0.40807321667671204, 1.4604551792144775, 2.8876352310180664, 6.395136833190918, 0.549360454082489, 6.14084005355835, 3.2019057273864746, -0.07440538704395294, 2.7521653175354004, 9.078380584716797, 0.3674716651439667, 7.903944969177246, 3.751309633255005, 2.1186599731445312, 1.1773595809936523, 8.325836181640625, 5.458645343780518, 5.483524799346924, 7.882864952087402, -9.015924453735352, 2.148620128631592, -0.20839911699295044, 3.0706043243408203, 0.7055069804191589, 6.1207756996154785, 3.2242929935455322, 6.0002570152282715, -7.4786906242370605, 5.89996862411499, 2.0363752841949463, 1.7338194847106934, 2.852801561355591, 4.883610725402832, 0.5557801723480225, -12.72746467590332, 6.823436260223389, -4.841189861297607, -3.4941816329956055, 11.909590721130371, 12.09941577911377, 1.541333794593811, 10.96677303314209, -5.980976104736328, 0.44287803769111633, 2.978024959564209, -4.199531078338623, 1.6990925073623657, 4.368999004364014, 9.98536491394043, 0.4727431833744049, -12.391287803649902, 0.7426676154136658, 2.7129199504852295, 6.420834541320801, 7.728089332580566, 5.939398765563965, -5.979033946990967, 7.0657501220703125, 5.890705108642578, 5.515968322753906, -11.579802513122559, 11.600979804992676, -12.407214164733887, 10.392644882202148, -7.549331188201904, -8.920745849609375, 1.939670443534851, 1.8178378343582153, 1.9735054969787598, -6.523531436920166, 4.027128219604492, 1.3518662452697754, 6.549834728240967, 8.566366195678711, 4.924460411071777, -1.1934592723846436, 6.197692394256592, 0.6020865440368652, 11.620758056640625, -0.41292130947113037, 2.5284807682037354, 3.671969413757324, 1.478129506111145, 1.307442307472229, -2.74906325340271, 1.302471399307251, 12.134125709533691, 2.6525652408599854, 1.412329912185669, 5.479523181915283, 6.270257472991943, 2.348400115966797, 1.5198851823806763, 6.304580211639404, 1.537959098815918, 12.054698944091797, 3.0272469520568848, 1.423482894897461, 8.769461631774902, 3.301191568374634, 1.8500950336456299, 0.7434883713722229, -2.233238935470581, 5.338336944580078, 2.187822103500366, 0.8878604173660278, -13.387104034423828, 11.492449760437012, -10.691080093383789, 2.524641513824463, -10.365127563476562, -10.617706298828125, -3.4785995483398438, 2.536125421524048, 0.999055027961731, 0.14360034465789795, 5.666413307189941, 6.157084941864014, -14.35123348236084, 11.599047660827637, 2.018852949142456, 6.681645393371582, 2.508087158203125, -0.08618099987506866, 1.4011951684951782, 11.97083854675293, 6.362110614776611, 10.150232315063477, 4.0407023429870605, -8.452030181884766, 5.247286796569824, 1.8875131607055664, 1.5588421821594238, 4.32244348526001, 2.9664061069488525, 2.1422677040100098, -14.398615837097168, 1.8796242475509644, 12.065088272094727, 7.531152248382568, 9.326470375061035, 8.427153587341309, 1.7698538303375244, 10.894824028015137, 1.4351246356964111, -11.660651206970215, 11.978796005249023, -6.661989212036133, 1.403342366218567, 2.894209146499634, -4.462647438049316, 0.612933874130249, 6.833867073059082, -10.212915420532227, 5.960362434387207, 2.187150001525879, 8.322441101074219, 2.755495548248291, 10.749550819396973, 10.839372634887695, -0.5832738280296326, 1.926231861114502, 3.130486249923706, -8.968683242797852, 6.368253707885742, 1.4978612661361694, -0.5911985039710999, 2.3413095474243164, -13.108683586120605, 1.5824754238128662, 0.6970655918121338, 7.810344219207764, 2.251512289047241, 2.5365447998046875, -0.4710818827152252, 5.876350402832031, -6.8167572021484375, 2.887878656387329, 1.6047642230987549, 3.93058705329895, 10.833922386169434, 10.963634490966797, 0.8702734708786011, -9.325005531311035, 0.08893514424562454, 3.4321229457855225, 5.498330116271973, 0.5494621396064758, 0.3873356878757477, -13.729623794555664, 11.808286666870117, -11.818666458129883, 0.7375946044921875, 1.5552785396575928, 3.2988369464874268, -11.709877967834473, -13.911643981933594, -6.85595703125, 2.523104429244995, -3.6357429027557373, 3.255152702331543, 4.324566841125488, 12.08167839050293]}, {\"hoverlabel\": {\"namelength\": 0}, \"hovertemplate\": \"Dominant_Topic=Topic 3<br>0=%{x}<br>1=%{y}<br>2=%{z}\", \"legendgroup\": \"Dominant_Topic=Topic 3\", \"marker\": {\"color\": \"#ab63fa\", \"opacity\": 0.7, \"symbol\": \"circle\"}, \"mode\": \"markers\", \"name\": \"Dominant_Topic=Topic 3\", \"scene\": \"scene\", \"showlegend\": true, \"type\": \"scatter3d\", \"x\": [-1.5055832862854004, -0.0701679140329361, -0.5654895901679993, -1.4959815740585327], \"y\": [-4.305938720703125, -5.008856773376465, -6.5562944412231445, -4.300198554992676], \"z\": [-0.8292155861854553, 0.22024467587471008, -1.0301471948623657, -0.8165018558502197]}],\n",
       "                        {\"height\": 800, \"legend\": {\"tracegroupgap\": 0}, \"scene\": {\"domain\": {\"x\": [0.0, 1.0], \"y\": [0.0, 1.0]}, \"xaxis\": {\"title\": {\"text\": \"0\"}}, \"yaxis\": {\"title\": {\"text\": \"1\"}}, \"zaxis\": {\"title\": {\"text\": \"2\"}}}, \"template\": {\"data\": {\"bar\": [{\"error_x\": {\"color\": \"#2a3f5f\"}, \"error_y\": {\"color\": \"#2a3f5f\"}, \"marker\": {\"line\": {\"color\": \"#E5ECF6\", \"width\": 0.5}}, \"type\": \"bar\"}], \"barpolar\": [{\"marker\": {\"line\": {\"color\": \"#E5ECF6\", \"width\": 0.5}}, \"type\": \"barpolar\"}], \"carpet\": [{\"aaxis\": {\"endlinecolor\": \"#2a3f5f\", \"gridcolor\": \"white\", \"linecolor\": \"white\", \"minorgridcolor\": \"white\", \"startlinecolor\": \"#2a3f5f\"}, \"baxis\": {\"endlinecolor\": \"#2a3f5f\", \"gridcolor\": \"white\", \"linecolor\": \"white\", \"minorgridcolor\": \"white\", \"startlinecolor\": \"#2a3f5f\"}, \"type\": \"carpet\"}], \"choropleth\": [{\"colorbar\": {\"outlinewidth\": 0, \"ticks\": \"\"}, \"type\": \"choropleth\"}], \"contour\": [{\"colorbar\": {\"outlinewidth\": 0, \"ticks\": \"\"}, \"colorscale\": [[0.0, \"#0d0887\"], [0.1111111111111111, \"#46039f\"], [0.2222222222222222, \"#7201a8\"], [0.3333333333333333, \"#9c179e\"], [0.4444444444444444, \"#bd3786\"], [0.5555555555555556, \"#d8576b\"], [0.6666666666666666, \"#ed7953\"], [0.7777777777777778, \"#fb9f3a\"], [0.8888888888888888, \"#fdca26\"], [1.0, \"#f0f921\"]], \"type\": \"contour\"}], \"contourcarpet\": [{\"colorbar\": {\"outlinewidth\": 0, \"ticks\": \"\"}, \"type\": \"contourcarpet\"}], \"heatmap\": [{\"colorbar\": {\"outlinewidth\": 0, \"ticks\": \"\"}, \"colorscale\": [[0.0, \"#0d0887\"], [0.1111111111111111, \"#46039f\"], [0.2222222222222222, \"#7201a8\"], [0.3333333333333333, \"#9c179e\"], [0.4444444444444444, \"#bd3786\"], [0.5555555555555556, \"#d8576b\"], [0.6666666666666666, \"#ed7953\"], [0.7777777777777778, \"#fb9f3a\"], [0.8888888888888888, \"#fdca26\"], [1.0, \"#f0f921\"]], \"type\": \"heatmap\"}], \"heatmapgl\": [{\"colorbar\": {\"outlinewidth\": 0, \"ticks\": \"\"}, \"colorscale\": [[0.0, \"#0d0887\"], [0.1111111111111111, \"#46039f\"], [0.2222222222222222, \"#7201a8\"], [0.3333333333333333, \"#9c179e\"], [0.4444444444444444, \"#bd3786\"], [0.5555555555555556, \"#d8576b\"], [0.6666666666666666, \"#ed7953\"], [0.7777777777777778, \"#fb9f3a\"], [0.8888888888888888, \"#fdca26\"], [1.0, \"#f0f921\"]], \"type\": \"heatmapgl\"}], \"histogram\": [{\"marker\": {\"colorbar\": {\"outlinewidth\": 0, \"ticks\": \"\"}}, \"type\": \"histogram\"}], \"histogram2d\": [{\"colorbar\": {\"outlinewidth\": 0, \"ticks\": \"\"}, \"colorscale\": [[0.0, \"#0d0887\"], [0.1111111111111111, \"#46039f\"], [0.2222222222222222, \"#7201a8\"], [0.3333333333333333, \"#9c179e\"], [0.4444444444444444, \"#bd3786\"], [0.5555555555555556, \"#d8576b\"], [0.6666666666666666, \"#ed7953\"], [0.7777777777777778, \"#fb9f3a\"], [0.8888888888888888, \"#fdca26\"], [1.0, \"#f0f921\"]], \"type\": \"histogram2d\"}], \"histogram2dcontour\": [{\"colorbar\": {\"outlinewidth\": 0, \"ticks\": \"\"}, \"colorscale\": [[0.0, \"#0d0887\"], [0.1111111111111111, \"#46039f\"], [0.2222222222222222, \"#7201a8\"], [0.3333333333333333, \"#9c179e\"], [0.4444444444444444, \"#bd3786\"], [0.5555555555555556, \"#d8576b\"], [0.6666666666666666, \"#ed7953\"], [0.7777777777777778, \"#fb9f3a\"], [0.8888888888888888, \"#fdca26\"], [1.0, \"#f0f921\"]], \"type\": \"histogram2dcontour\"}], \"mesh3d\": [{\"colorbar\": {\"outlinewidth\": 0, \"ticks\": \"\"}, \"type\": \"mesh3d\"}], \"parcoords\": [{\"line\": {\"colorbar\": {\"outlinewidth\": 0, \"ticks\": \"\"}}, \"type\": \"parcoords\"}], \"pie\": [{\"automargin\": true, \"type\": \"pie\"}], \"scatter\": [{\"marker\": {\"colorbar\": {\"outlinewidth\": 0, \"ticks\": \"\"}}, \"type\": \"scatter\"}], \"scatter3d\": [{\"line\": {\"colorbar\": {\"outlinewidth\": 0, \"ticks\": \"\"}}, \"marker\": {\"colorbar\": {\"outlinewidth\": 0, \"ticks\": \"\"}}, \"type\": \"scatter3d\"}], \"scattercarpet\": [{\"marker\": {\"colorbar\": {\"outlinewidth\": 0, \"ticks\": \"\"}}, \"type\": \"scattercarpet\"}], \"scattergeo\": [{\"marker\": {\"colorbar\": {\"outlinewidth\": 0, \"ticks\": \"\"}}, \"type\": \"scattergeo\"}], \"scattergl\": [{\"marker\": {\"colorbar\": {\"outlinewidth\": 0, \"ticks\": \"\"}}, \"type\": \"scattergl\"}], \"scattermapbox\": [{\"marker\": {\"colorbar\": {\"outlinewidth\": 0, \"ticks\": \"\"}}, \"type\": \"scattermapbox\"}], \"scatterpolar\": [{\"marker\": {\"colorbar\": {\"outlinewidth\": 0, \"ticks\": \"\"}}, \"type\": \"scatterpolar\"}], \"scatterpolargl\": [{\"marker\": {\"colorbar\": {\"outlinewidth\": 0, \"ticks\": \"\"}}, \"type\": \"scatterpolargl\"}], \"scatterternary\": [{\"marker\": {\"colorbar\": {\"outlinewidth\": 0, \"ticks\": \"\"}}, \"type\": \"scatterternary\"}], \"surface\": [{\"colorbar\": {\"outlinewidth\": 0, \"ticks\": \"\"}, \"colorscale\": [[0.0, \"#0d0887\"], [0.1111111111111111, \"#46039f\"], [0.2222222222222222, \"#7201a8\"], [0.3333333333333333, \"#9c179e\"], [0.4444444444444444, \"#bd3786\"], [0.5555555555555556, \"#d8576b\"], [0.6666666666666666, \"#ed7953\"], [0.7777777777777778, \"#fb9f3a\"], [0.8888888888888888, \"#fdca26\"], [1.0, \"#f0f921\"]], \"type\": \"surface\"}], \"table\": [{\"cells\": {\"fill\": {\"color\": \"#EBF0F8\"}, \"line\": {\"color\": \"white\"}}, \"header\": {\"fill\": {\"color\": \"#C8D4E3\"}, \"line\": {\"color\": \"white\"}}, \"type\": \"table\"}]}, \"layout\": {\"annotationdefaults\": {\"arrowcolor\": \"#2a3f5f\", \"arrowhead\": 0, \"arrowwidth\": 1}, \"coloraxis\": {\"colorbar\": {\"outlinewidth\": 0, \"ticks\": \"\"}}, \"colorscale\": {\"diverging\": [[0, \"#8e0152\"], [0.1, \"#c51b7d\"], [0.2, \"#de77ae\"], [0.3, \"#f1b6da\"], [0.4, \"#fde0ef\"], [0.5, \"#f7f7f7\"], [0.6, \"#e6f5d0\"], [0.7, \"#b8e186\"], [0.8, \"#7fbc41\"], [0.9, \"#4d9221\"], [1, \"#276419\"]], \"sequential\": [[0.0, \"#0d0887\"], [0.1111111111111111, \"#46039f\"], [0.2222222222222222, \"#7201a8\"], [0.3333333333333333, \"#9c179e\"], [0.4444444444444444, \"#bd3786\"], [0.5555555555555556, \"#d8576b\"], [0.6666666666666666, \"#ed7953\"], [0.7777777777777778, \"#fb9f3a\"], [0.8888888888888888, \"#fdca26\"], [1.0, \"#f0f921\"]], \"sequentialminus\": [[0.0, \"#0d0887\"], [0.1111111111111111, \"#46039f\"], [0.2222222222222222, \"#7201a8\"], [0.3333333333333333, \"#9c179e\"], [0.4444444444444444, \"#bd3786\"], [0.5555555555555556, \"#d8576b\"], [0.6666666666666666, \"#ed7953\"], [0.7777777777777778, \"#fb9f3a\"], [0.8888888888888888, \"#fdca26\"], [1.0, \"#f0f921\"]]}, \"colorway\": [\"#636efa\", \"#EF553B\", \"#00cc96\", \"#ab63fa\", \"#FFA15A\", \"#19d3f3\", \"#FF6692\", \"#B6E880\", \"#FF97FF\", \"#FECB52\"], \"font\": {\"color\": \"#2a3f5f\"}, \"geo\": {\"bgcolor\": \"white\", \"lakecolor\": \"white\", \"landcolor\": \"#E5ECF6\", \"showlakes\": true, \"showland\": true, \"subunitcolor\": \"white\"}, \"hoverlabel\": {\"align\": \"left\"}, \"hovermode\": \"closest\", \"mapbox\": {\"style\": \"light\"}, \"paper_bgcolor\": \"white\", \"plot_bgcolor\": \"#E5ECF6\", \"polar\": {\"angularaxis\": {\"gridcolor\": \"white\", \"linecolor\": \"white\", \"ticks\": \"\"}, \"bgcolor\": \"#E5ECF6\", \"radialaxis\": {\"gridcolor\": \"white\", \"linecolor\": \"white\", \"ticks\": \"\"}}, \"scene\": {\"xaxis\": {\"backgroundcolor\": \"#E5ECF6\", \"gridcolor\": \"white\", \"gridwidth\": 2, \"linecolor\": \"white\", \"showbackground\": true, \"ticks\": \"\", \"zerolinecolor\": \"white\"}, \"yaxis\": {\"backgroundcolor\": \"#E5ECF6\", \"gridcolor\": \"white\", \"gridwidth\": 2, \"linecolor\": \"white\", \"showbackground\": true, \"ticks\": \"\", \"zerolinecolor\": \"white\"}, \"zaxis\": {\"backgroundcolor\": \"#E5ECF6\", \"gridcolor\": \"white\", \"gridwidth\": 2, \"linecolor\": \"white\", \"showbackground\": true, \"ticks\": \"\", \"zerolinecolor\": \"white\"}}, \"shapedefaults\": {\"line\": {\"color\": \"#2a3f5f\"}}, \"ternary\": {\"aaxis\": {\"gridcolor\": \"white\", \"linecolor\": \"white\", \"ticks\": \"\"}, \"baxis\": {\"gridcolor\": \"white\", \"linecolor\": \"white\", \"ticks\": \"\"}, \"bgcolor\": \"#E5ECF6\", \"caxis\": {\"gridcolor\": \"white\", \"linecolor\": \"white\", \"ticks\": \"\"}}, \"title\": {\"x\": 0.05}, \"xaxis\": {\"automargin\": true, \"gridcolor\": \"white\", \"linecolor\": \"white\", \"ticks\": \"\", \"title\": {\"standoff\": 15}, \"zerolinecolor\": \"white\", \"zerolinewidth\": 2}, \"yaxis\": {\"automargin\": true, \"gridcolor\": \"white\", \"linecolor\": \"white\", \"ticks\": \"\", \"title\": {\"standoff\": 15}, \"zerolinecolor\": \"white\", \"zerolinewidth\": 2}}}, \"title\": {\"text\": \"3d TSNE Plot for Topic Model\"}, \"width\": 900},\n",
       "                        {\"responsive\": true}\n",
       "                    ).then(function(){\n",
       "                            \n",
       "var gd = document.getElementById('8a6e1b80-400e-488b-ad38-e7e7c98e13ac');\n",
       "var x = new MutationObserver(function (mutations, observer) {{\n",
       "        var display = window.getComputedStyle(gd).display;\n",
       "        if (!display || display === 'none') {{\n",
       "            console.log([gd, 'removed!']);\n",
       "            Plotly.purge(gd);\n",
       "            observer.disconnect();\n",
       "        }}\n",
       "}});\n",
       "\n",
       "// Listen for the removal of the full notebook cells\n",
       "var notebookContainer = gd.closest('#notebook-container');\n",
       "if (notebookContainer) {{\n",
       "    x.observe(notebookContainer, {childList: true});\n",
       "}}\n",
       "\n",
       "// Listen for the clearing of the current output cell\n",
       "var outputEl = gd.closest('.output');\n",
       "if (outputEl) {{\n",
       "    x.observe(outputEl, {childList: true});\n",
       "}}\n",
       "\n",
       "                        })\n",
       "                };\n",
       "                });\n",
       "            </script>\n",
       "        </div>"
      ]
     },
     "metadata": {},
     "output_type": "display_data"
    }
   ],
   "source": [
    "plot_model(lda, plot = 'tsne')"
   ]
  },
    {
   "cell_type": "markdown",
   "metadata": {},
   "source": [
    "![T-distributed Stochastic Neighbor Embedding (t-SNE)](https://github.com/Jheel-patel/pycaret/blob/master/examples/T-distributed%20Stochastic%20Neighbor%20Embedding%20(t-SNE).png?raw=true)"
   ]
  },
  {
   "cell_type": "markdown",
   "metadata": {},
   "source": [
    "T-distributed Stochastic Neighbor Embedding (t-SNE) is a nonlinear dimensionality reduction technique well-suited for embedding high-dimensional data for visualization in a low-dimensional space of two or three dimensions. \n",
    "\n",
    "__[Learn More](https://en.wikipedia.org/wiki/T-distributed_stochastic_neighbor_embedding)__"
   ]
  },
  {
   "cell_type": "markdown",
   "metadata": {},
   "source": [
    "### 9.6 Uniform Manifold Approximation and Projection Plot"
   ]
  },
  {
   "cell_type": "code",
   "execution_count": 24,
   "metadata": {},
   "outputs": [
    {
     "data": {
      "text/html": [
       "        <script type=\"text/javascript\">\n",
       "        window.PlotlyConfig = {MathJaxConfig: 'local'};\n",
       "        if (window.MathJax) {MathJax.Hub.Config({SVG: {font: \"STIX-Web\"}});}\n",
       "        if (typeof require !== 'undefined') {\n",
       "        require.undef(\"plotly\");\n",
       "        requirejs.config({\n",
       "            paths: {\n",
       "                'plotly': ['https://cdn.plot.ly/plotly-latest.min']\n",
       "            }\n",
       "        });\n",
       "        require(['plotly'], function(Plotly) {\n",
       "            window._Plotly = Plotly;\n",
       "        });\n",
       "        }\n",
       "        </script>\n",
       "        "
      ]
     },
     "metadata": {},
     "output_type": "display_data"
    },
    {
     "data": {
      "image/png": "[encoded data removed]",
      "text/plain": [
       "<Figure size 720x432 with 1 Axes>"
      ]
     },
     "metadata": {},
     "output_type": "display_data"
    }
   ],
   "source": [
    "plot_model(lda, plot = 'umap')"
   ]
  },
  {
   "cell_type": "markdown",
   "metadata": {},
   "source": [
    "UMAP (Uniform Manifold Approximation and Projection) is a novel manifold learning technique for dimensionality reduction. It is similar to tSNE and PCA in its purpose as all of them are techniques to reduce dimensionality for 2d/3d projections. UMAP is constructed from a theoretical framework based in Riemannian geometry and algebraic topology. \n",
    "\n",
    "__[Learn More](https://towardsdatascience.com/how-exactly-umap-works-13e3040e1668)__"
   ]
  },
  {
   "cell_type": "markdown",
   "metadata": {},
   "source": [
    "# 10.0 Evaluate Model"
   ]
  },
  {
   "cell_type": "markdown",
   "metadata": {},
   "source": [
    "Another way to analyze performance of models is to use `evaluate_model()` function which displays a user interface for all of the available plots for a given model. It internally uses the `plot_model()` function. See below example where we have generated Sentiment Polarity Plot for `Topic 3` using LDA model stored in `lda` variable."
   ]
  },
  {
   "cell_type": "code",
   "execution_count": 25,
   "metadata": {},
   "outputs": [
    {
     "data": {
      "application/vnd.jupyter.widget-view+json": {
       "model_id": "e8a0dea9e89f4d9a841bcf6faafd26cc",
       "version_major": 2,
       "version_minor": 0
      },
      "text/plain": [
       "interactive(children=(ToggleButtons(description='Plot Type:', icons=('',), options=(('Frequency Plot', 'freque…"
      ]
     },
     "metadata": {},
     "output_type": "display_data"
    }
   ],
   "source": [
    "evaluate_model(lda)"
   ]
  },
  {
   "cell_type": "markdown",
   "metadata": {},
   "source": [
    "# 11.0 Saving the model"
   ]
  },
  {
   "cell_type": "markdown",
   "metadata": {},
   "source": [
    "As you get deeper into Natural Language Processing, you will learn that training time of topic models increases exponentially as the size of corpus increases. As such, if you would like to continue your experiment or analysis at a later point, you don't need to repeat the entire experiment and re-train your model. PyCaret inbuilt function `save_model()` allows you to save the model for later use."
   ]
  },
  {
   "cell_type": "code",
   "execution_count": 26,
   "metadata": {},
   "outputs": [
    {
     "name": "stdout",
     "output_type": "stream",
     "text": [
      "Model Succesfully Saved\n"
     ]
    }
   ],
   "source": [
    "save_model(lda,'Final LDA Model 08Feb2020')"
   ]
  },
  {
   "cell_type": "markdown",
   "metadata": {},
   "source": [
    "# 12.0 Loading the model"
   ]
  },
  {
   "cell_type": "markdown",
   "metadata": {},
   "source": [
    "To load a saved model on a future date in the same or different environment, we would use the PyCaret's `load_model()` function."
   ]
  },
  {
   "cell_type": "code",
   "execution_count": 27,
   "metadata": {},
   "outputs": [
    {
     "name": "stdout",
     "output_type": "stream",
     "text": [
      "Model Sucessfully Loaded\n"
     ]
    }
   ],
   "source": [
    "saved_lda = load_model('Final LDA Model 08Feb2020')"
   ]
  },
  {
   "cell_type": "code",
   "execution_count": 28,
   "metadata": {},
   "outputs": [
    {
     "name": "stdout",
     "output_type": "stream",
     "text": [
      "LdaModel(num_terms=4573, num_topics=4, decay=0.5, chunksize=100)\n"
     ]
    }
   ],
   "source": [
    "print(saved_lda)"
   ]
  },
  {
   "cell_type": "markdown",
   "metadata": {},
   "source": [
    "# 13.0 Wrap-up / Next Steps?"
   ]
  },
  {
   "cell_type": "markdown",
   "metadata": {},
   "source": [
    "What we have covered in this tutorial is the entire workflow for Natural Language Processing experiment. Our task today was to create and analyze a topic model. We have performed several text pre-processing steps using `setup()` then we have created a topic model using `create_model()`, assigned topics to the dataset using `assign_model()` and analyze the results using `plot_model()`. All this was completed in less than 10 commands that are naturally constructed and very intuitive to remember. Re-creating the entire experiment without PyCaret would have taken well over 100 lines of code.\n",
    "\n",
    "In this tutorial, we have only covered basics of `pycaret.nlp`. In the next tutorial we will demonstrate the use of `tune_model()` to automatically select the number of topics for a topic model. We will also go deeper into few concepts and techniques such as `custom_stopwords` to improve the result of a topic model. \n",
    "\n",
    "See you at the next tutorial. Follow the link to __[Natural Language Processing (NLP102) - Level Intermediate](https://github.com/pycaret/pycaret/blob/master/tutorials/Natural%20Language%20Processing%20Tutorial%20Level%20Intermediate%20-%20NLP102.ipynb)__"
   ]
  }
 ],
 "metadata": {
  "kernelspec": {
   "display_name": "Python 3",
   "language": "python",
   "name": "python3"
  },
  "language_info": {
   "codemirror_mode": {
    "name": "ipython",
    "version": 3
   },
   "file_extension": ".py",
   "mimetype": "text/x-python",
   "name": "python",
   "nbconvert_exporter": "python",
   "pygments_lexer": "ipython3",
   "version": "3.7.4"
  }
 },
 "nbformat": 4,
 "nbformat_minor": 2
}
