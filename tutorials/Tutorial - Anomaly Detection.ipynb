{
 "cells": [
  {
   "cell_type": "markdown",
   "id": "81e0620e",
   "metadata": {},
   "source": [
    "Last updated: 15 Feb 2023\n",
    "\n",
    "# 👋 PyCaret Anomaly Detection Tutorial\n",
    "\n",
    "PyCaret is an open-source, low-code machine learning library in Python that automates machine learning workflows. It is an end-to-end machine learning and model management tool that exponentially speeds up the experiment cycle and makes you more productive.\n",
    "\n",
    "Compared with the other open-source machine learning libraries, PyCaret is an alternate low-code library that can be used to replace hundreds of lines of code with a few lines only. This makes experiments exponentially fast and efficient. PyCaret is essentially a Python wrapper around several machine learning libraries and frameworks, such as scikit-learn, XGBoost, LightGBM, CatBoost, spaCy, Optuna, Hyperopt, Ray, and a few more.\n",
    "\n",
    "The design and simplicity of PyCaret are inspired by the emerging role of citizen data scientists, a term first used by Gartner. Citizen Data Scientists are power users who can perform both simple and moderately sophisticated analytical tasks that would previously have required more technical expertise.\n"
   ]
  },
  {
   "cell_type": "markdown",
   "id": "8116e19d",
   "metadata": {},
   "source": [
    "# 💻 Installation\n",
    "\n",
    "PyCaret is tested and supported on the following 64-bit systems:\n",
    "- Python 3.7 – 3.10\n",
    "- Python 3.9 for Ubuntu only\n",
    "- Ubuntu 16.04 or later\n",
    "- Windows 7 or later\n",
    "\n",
    "You can install PyCaret with Python's pip package manager:\n",
    "\n",
    "`pip install pycaret`\n",
    "\n",
    "PyCaret's default installation will not install all the extra dependencies automatically. For that you will have to install the full version:\n",
    "\n",
    "`pip install pycaret[full]`\n",
    "\n",
    "or depending on your use-case you may install one of the following variant:\n",
    "\n",
    "- `pip install pycaret[analysis]`\n",
    "- `pip install pycaret[models]`\n",
    "- `pip install pycaret[tuner]`\n",
    "- `pip install pycaret[mlops]`\n",
    "- `pip install pycaret[parallel]`\n",
    "- `pip install pycaret[test]`"
   ]
  },
  {
   "cell_type": "code",
   "execution_count": 44,
   "id": "d7142a33",
   "metadata": {},
   "outputs": [
    {
     "data": {
      "text/plain": [
       "'3.0.0'"
      ]
     },
     "execution_count": 44,
     "metadata": {},
     "output_type": "execute_result"
    }
   ],
   "source": [
    "# check installed version\n",
    "import pycaret\n",
    "pycaret.__version__"
   ]
  },
  {
   "cell_type": "markdown",
   "id": "fb66e98d",
   "metadata": {},
   "source": [
    "# 🚀 Quick start"
   ]
  },
  {
   "cell_type": "markdown",
   "id": "00347d44",
   "metadata": {},
   "source": [
    "PyCaret’s Anomaly Detection Module is an unsupervised machine learning module that is used for identifying rare items, events, or observations that raise suspicions by differing significantly from the majority of the data. \n",
    "\n",
    "Typically, the anomalous items will translate to some kind of problems such as bank fraud, a structural defect, medical problems, or errors. \n",
    "\n",
    "PyCaret's Anomaly Detection module provides several pre-processing features to prepare the data for modeling through the `setup` function. It has over 10 ready-to-use algorithms and few plots to analyze the performance of trained models. \n",
    "\n",
    "A typical workflow in PyCaret's unsupervised module consist of following 6 steps in this order:\n",
    "\n",
    "**Setup** ➡️ **Create Model** ➡️ **Assign Labels** ➡️ **Analyze Model** ➡️ **Prediction** ➡️ **Save Model**"
   ]
  },
  {
   "cell_type": "code",
   "execution_count": 45,
   "id": "956dfdab",
   "metadata": {},
   "outputs": [
    {
     "data": {
      "text/html": [
       "<div>\n",
       "<style scoped>\n",
       "    .dataframe tbody tr th:only-of-type {\n",
       "        vertical-align: middle;\n",
       "    }\n",
       "\n",
       "    .dataframe tbody tr th {\n",
       "        vertical-align: top;\n",
       "    }\n",
       "\n",
       "    .dataframe thead th {\n",
       "        text-align: right;\n",
       "    }\n",
       "</style>\n",
       "<table border=\"1\" class=\"dataframe\">\n",
       "  <thead>\n",
       "    <tr style=\"text-align: right;\">\n",
       "      <th></th>\n",
       "      <th>Col1</th>\n",
       "      <th>Col2</th>\n",
       "      <th>Col3</th>\n",
       "      <th>Col4</th>\n",
       "      <th>Col5</th>\n",
       "      <th>Col6</th>\n",
       "      <th>Col7</th>\n",
       "      <th>Col8</th>\n",
       "      <th>Col9</th>\n",
       "      <th>Col10</th>\n",
       "    </tr>\n",
       "  </thead>\n",
       "  <tbody>\n",
       "    <tr>\n",
       "      <th>0</th>\n",
       "      <td>0.263995</td>\n",
       "      <td>0.764929</td>\n",
       "      <td>0.138424</td>\n",
       "      <td>0.935242</td>\n",
       "      <td>0.605867</td>\n",
       "      <td>0.518790</td>\n",
       "      <td>0.912225</td>\n",
       "      <td>0.608234</td>\n",
       "      <td>0.723782</td>\n",
       "      <td>0.733591</td>\n",
       "    </tr>\n",
       "    <tr>\n",
       "      <th>1</th>\n",
       "      <td>0.546092</td>\n",
       "      <td>0.653975</td>\n",
       "      <td>0.065575</td>\n",
       "      <td>0.227772</td>\n",
       "      <td>0.845269</td>\n",
       "      <td>0.837066</td>\n",
       "      <td>0.272379</td>\n",
       "      <td>0.331679</td>\n",
       "      <td>0.429297</td>\n",
       "      <td>0.367422</td>\n",
       "    </tr>\n",
       "    <tr>\n",
       "      <th>2</th>\n",
       "      <td>0.336714</td>\n",
       "      <td>0.538842</td>\n",
       "      <td>0.192801</td>\n",
       "      <td>0.553563</td>\n",
       "      <td>0.074515</td>\n",
       "      <td>0.332993</td>\n",
       "      <td>0.365792</td>\n",
       "      <td>0.861309</td>\n",
       "      <td>0.899017</td>\n",
       "      <td>0.088600</td>\n",
       "    </tr>\n",
       "    <tr>\n",
       "      <th>3</th>\n",
       "      <td>0.092108</td>\n",
       "      <td>0.995017</td>\n",
       "      <td>0.014465</td>\n",
       "      <td>0.176371</td>\n",
       "      <td>0.241530</td>\n",
       "      <td>0.514724</td>\n",
       "      <td>0.562208</td>\n",
       "      <td>0.158963</td>\n",
       "      <td>0.073715</td>\n",
       "      <td>0.208463</td>\n",
       "    </tr>\n",
       "    <tr>\n",
       "      <th>4</th>\n",
       "      <td>0.325261</td>\n",
       "      <td>0.805968</td>\n",
       "      <td>0.957033</td>\n",
       "      <td>0.331665</td>\n",
       "      <td>0.307923</td>\n",
       "      <td>0.355315</td>\n",
       "      <td>0.501899</td>\n",
       "      <td>0.558449</td>\n",
       "      <td>0.885169</td>\n",
       "      <td>0.182754</td>\n",
       "    </tr>\n",
       "  </tbody>\n",
       "</table>\n",
       "</div>"
      ],
      "text/plain": [
       "       Col1      Col2      Col3      Col4      Col5      Col6      Col7  \\\n",
       "0  0.263995  0.764929  0.138424  0.935242  0.605867  0.518790  0.912225   \n",
       "1  0.546092  0.653975  0.065575  0.227772  0.845269  0.837066  0.272379   \n",
       "2  0.336714  0.538842  0.192801  0.553563  0.074515  0.332993  0.365792   \n",
       "3  0.092108  0.995017  0.014465  0.176371  0.241530  0.514724  0.562208   \n",
       "4  0.325261  0.805968  0.957033  0.331665  0.307923  0.355315  0.501899   \n",
       "\n",
       "       Col8      Col9     Col10  \n",
       "0  0.608234  0.723782  0.733591  \n",
       "1  0.331679  0.429297  0.367422  \n",
       "2  0.861309  0.899017  0.088600  \n",
       "3  0.158963  0.073715  0.208463  \n",
       "4  0.558449  0.885169  0.182754  "
      ]
     },
     "metadata": {},
     "output_type": "display_data"
    }
   ],
   "source": [
    "# loading sample dataset from pycaret dataset module\n",
    "from pycaret.datasets import get_data\n",
    "data = get_data('anomaly')"
   ]
  },
  {
   "cell_type": "markdown",
   "id": "c00f6a4a",
   "metadata": {},
   "source": [
    "## Setup\n",
    "This function initializes the training environment and creates the transformation pipeline. The setup function must be called before executing any other function. It takes one mandatory parameter only: data. All the other parameters are optional."
   ]
  },
  {
   "cell_type": "code",
   "execution_count": 46,
   "id": "97f2c6c6",
   "metadata": {},
   "outputs": [
    {
     "data": {
      "text/html": [
       "<style type=\"text/css\">\n",
       "#T_d820b_row4_col1 {\n",
       "  background-color: lightgreen;\n",
       "}\n",
       "</style>\n",
       "<table id=\"T_d820b\">\n",
       "  <thead>\n",
       "    <tr>\n",
       "      <th class=\"blank level0\" >&nbsp;</th>\n",
       "      <th id=\"T_d820b_level0_col0\" class=\"col_heading level0 col0\" >Description</th>\n",
       "      <th id=\"T_d820b_level0_col1\" class=\"col_heading level0 col1\" >Value</th>\n",
       "    </tr>\n",
       "  </thead>\n",
       "  <tbody>\n",
       "    <tr>\n",
       "      <th id=\"T_d820b_level0_row0\" class=\"row_heading level0 row0\" >0</th>\n",
       "      <td id=\"T_d820b_row0_col0\" class=\"data row0 col0\" >Session id</td>\n",
       "      <td id=\"T_d820b_row0_col1\" class=\"data row0 col1\" >123</td>\n",
       "    </tr>\n",
       "    <tr>\n",
       "      <th id=\"T_d820b_level0_row1\" class=\"row_heading level0 row1\" >1</th>\n",
       "      <td id=\"T_d820b_row1_col0\" class=\"data row1 col0\" >Original data shape</td>\n",
       "      <td id=\"T_d820b_row1_col1\" class=\"data row1 col1\" >(1000, 10)</td>\n",
       "    </tr>\n",
       "    <tr>\n",
       "      <th id=\"T_d820b_level0_row2\" class=\"row_heading level0 row2\" >2</th>\n",
       "      <td id=\"T_d820b_row2_col0\" class=\"data row2 col0\" >Transformed data shape</td>\n",
       "      <td id=\"T_d820b_row2_col1\" class=\"data row2 col1\" >(1000, 10)</td>\n",
       "    </tr>\n",
       "    <tr>\n",
       "      <th id=\"T_d820b_level0_row3\" class=\"row_heading level0 row3\" >3</th>\n",
       "      <td id=\"T_d820b_row3_col0\" class=\"data row3 col0\" >Numeric features</td>\n",
       "      <td id=\"T_d820b_row3_col1\" class=\"data row3 col1\" >10</td>\n",
       "    </tr>\n",
       "    <tr>\n",
       "      <th id=\"T_d820b_level0_row4\" class=\"row_heading level0 row4\" >4</th>\n",
       "      <td id=\"T_d820b_row4_col0\" class=\"data row4 col0\" >Preprocess</td>\n",
       "      <td id=\"T_d820b_row4_col1\" class=\"data row4 col1\" >True</td>\n",
       "    </tr>\n",
       "    <tr>\n",
       "      <th id=\"T_d820b_level0_row5\" class=\"row_heading level0 row5\" >5</th>\n",
       "      <td id=\"T_d820b_row5_col0\" class=\"data row5 col0\" >Imputation type</td>\n",
       "      <td id=\"T_d820b_row5_col1\" class=\"data row5 col1\" >simple</td>\n",
       "    </tr>\n",
       "    <tr>\n",
       "      <th id=\"T_d820b_level0_row6\" class=\"row_heading level0 row6\" >6</th>\n",
       "      <td id=\"T_d820b_row6_col0\" class=\"data row6 col0\" >Numeric imputation</td>\n",
       "      <td id=\"T_d820b_row6_col1\" class=\"data row6 col1\" >mean</td>\n",
       "    </tr>\n",
       "    <tr>\n",
       "      <th id=\"T_d820b_level0_row7\" class=\"row_heading level0 row7\" >7</th>\n",
       "      <td id=\"T_d820b_row7_col0\" class=\"data row7 col0\" >Categorical imputation</td>\n",
       "      <td id=\"T_d820b_row7_col1\" class=\"data row7 col1\" >mode</td>\n",
       "    </tr>\n",
       "    <tr>\n",
       "      <th id=\"T_d820b_level0_row8\" class=\"row_heading level0 row8\" >8</th>\n",
       "      <td id=\"T_d820b_row8_col0\" class=\"data row8 col0\" >CPU Jobs</td>\n",
       "      <td id=\"T_d820b_row8_col1\" class=\"data row8 col1\" >-1</td>\n",
       "    </tr>\n",
       "    <tr>\n",
       "      <th id=\"T_d820b_level0_row9\" class=\"row_heading level0 row9\" >9</th>\n",
       "      <td id=\"T_d820b_row9_col0\" class=\"data row9 col0\" >Use GPU</td>\n",
       "      <td id=\"T_d820b_row9_col1\" class=\"data row9 col1\" >False</td>\n",
       "    </tr>\n",
       "    <tr>\n",
       "      <th id=\"T_d820b_level0_row10\" class=\"row_heading level0 row10\" >10</th>\n",
       "      <td id=\"T_d820b_row10_col0\" class=\"data row10 col0\" >Log Experiment</td>\n",
       "      <td id=\"T_d820b_row10_col1\" class=\"data row10 col1\" >False</td>\n",
       "    </tr>\n",
       "    <tr>\n",
       "      <th id=\"T_d820b_level0_row11\" class=\"row_heading level0 row11\" >11</th>\n",
       "      <td id=\"T_d820b_row11_col0\" class=\"data row11 col0\" >Experiment Name</td>\n",
       "      <td id=\"T_d820b_row11_col1\" class=\"data row11 col1\" >anomaly-default-name</td>\n",
       "    </tr>\n",
       "    <tr>\n",
       "      <th id=\"T_d820b_level0_row12\" class=\"row_heading level0 row12\" >12</th>\n",
       "      <td id=\"T_d820b_row12_col0\" class=\"data row12 col0\" >USI</td>\n",
       "      <td id=\"T_d820b_row12_col1\" class=\"data row12 col1\" >7433</td>\n",
       "    </tr>\n",
       "  </tbody>\n",
       "</table>\n"
      ],
      "text/plain": [
       "<pandas.io.formats.style.Styler at 0x21f996423a0>"
      ]
     },
     "metadata": {},
     "output_type": "display_data"
    }
   ],
   "source": [
    "# import pycaret anomaly and init setup\n",
    "from pycaret.anomaly import *\n",
    "s = setup(data, session_id = 123)"
   ]
  },
  {
   "cell_type": "markdown",
   "id": "3c583864",
   "metadata": {},
   "source": [
    "Once the setup has been successfully executed it shows the information grid containing experiment level information. \n",
    "\n",
    "- **Session id:**  A pseudo-random number distributed as a seed in all functions for later reproducibility. If no `session_id` is passed, a random number is automatically generated that is distributed to all functions.<br/>\n",
    "<br/>\n",
    "- **Original data shape:**  Shape of the original data prior to any transformations. <br/>\n",
    "<br/>\n",
    "- **Transformed data shape:**  Shape of data after transformations <br/>\n",
    "<br/>\n",
    "- **Numeric features :**  The number of features considered as numerical. <br/>\n",
    "<br/>\n",
    "- **Categorical features :**  The number of features considered as categorical. <br/>"
   ]
  },
  {
   "cell_type": "markdown",
   "id": "ada19398",
   "metadata": {},
   "source": [
    "PyCaret has two set of API's that you can work with. (1) Functional (as seen above) and (2) Object Oriented API.\n",
    "\n",
    "With Object Oriented API instead of executing functions directly you will import a class and execute methods of class."
   ]
  },
  {
   "cell_type": "code",
   "execution_count": 47,
   "id": "32ee91c9",
   "metadata": {},
   "outputs": [],
   "source": [
    "# import AnomalyExperiment and init the class\n",
    "from pycaret.anomaly import AnomalyExperiment\n",
    "exp = AnomalyExperiment()"
   ]
  },
  {
   "cell_type": "code",
   "execution_count": 48,
   "id": "3ead9fb5",
   "metadata": {},
   "outputs": [
    {
     "data": {
      "text/plain": [
       "pycaret.anomaly.oop.AnomalyExperiment"
      ]
     },
     "execution_count": 48,
     "metadata": {},
     "output_type": "execute_result"
    }
   ],
   "source": [
    "# check the type of exp\n",
    "type(exp)"
   ]
  },
  {
   "cell_type": "code",
   "execution_count": 49,
   "id": "f05b8590",
   "metadata": {},
   "outputs": [
    {
     "data": {
      "text/html": [
       "<style type=\"text/css\">\n",
       "#T_f2164_row4_col1 {\n",
       "  background-color: lightgreen;\n",
       "}\n",
       "</style>\n",
       "<table id=\"T_f2164\">\n",
       "  <thead>\n",
       "    <tr>\n",
       "      <th class=\"blank level0\" >&nbsp;</th>\n",
       "      <th id=\"T_f2164_level0_col0\" class=\"col_heading level0 col0\" >Description</th>\n",
       "      <th id=\"T_f2164_level0_col1\" class=\"col_heading level0 col1\" >Value</th>\n",
       "    </tr>\n",
       "  </thead>\n",
       "  <tbody>\n",
       "    <tr>\n",
       "      <th id=\"T_f2164_level0_row0\" class=\"row_heading level0 row0\" >0</th>\n",
       "      <td id=\"T_f2164_row0_col0\" class=\"data row0 col0\" >Session id</td>\n",
       "      <td id=\"T_f2164_row0_col1\" class=\"data row0 col1\" >123</td>\n",
       "    </tr>\n",
       "    <tr>\n",
       "      <th id=\"T_f2164_level0_row1\" class=\"row_heading level0 row1\" >1</th>\n",
       "      <td id=\"T_f2164_row1_col0\" class=\"data row1 col0\" >Original data shape</td>\n",
       "      <td id=\"T_f2164_row1_col1\" class=\"data row1 col1\" >(1000, 10)</td>\n",
       "    </tr>\n",
       "    <tr>\n",
       "      <th id=\"T_f2164_level0_row2\" class=\"row_heading level0 row2\" >2</th>\n",
       "      <td id=\"T_f2164_row2_col0\" class=\"data row2 col0\" >Transformed data shape</td>\n",
       "      <td id=\"T_f2164_row2_col1\" class=\"data row2 col1\" >(1000, 10)</td>\n",
       "    </tr>\n",
       "    <tr>\n",
       "      <th id=\"T_f2164_level0_row3\" class=\"row_heading level0 row3\" >3</th>\n",
       "      <td id=\"T_f2164_row3_col0\" class=\"data row3 col0\" >Numeric features</td>\n",
       "      <td id=\"T_f2164_row3_col1\" class=\"data row3 col1\" >10</td>\n",
       "    </tr>\n",
       "    <tr>\n",
       "      <th id=\"T_f2164_level0_row4\" class=\"row_heading level0 row4\" >4</th>\n",
       "      <td id=\"T_f2164_row4_col0\" class=\"data row4 col0\" >Preprocess</td>\n",
       "      <td id=\"T_f2164_row4_col1\" class=\"data row4 col1\" >True</td>\n",
       "    </tr>\n",
       "    <tr>\n",
       "      <th id=\"T_f2164_level0_row5\" class=\"row_heading level0 row5\" >5</th>\n",
       "      <td id=\"T_f2164_row5_col0\" class=\"data row5 col0\" >Imputation type</td>\n",
       "      <td id=\"T_f2164_row5_col1\" class=\"data row5 col1\" >simple</td>\n",
       "    </tr>\n",
       "    <tr>\n",
       "      <th id=\"T_f2164_level0_row6\" class=\"row_heading level0 row6\" >6</th>\n",
       "      <td id=\"T_f2164_row6_col0\" class=\"data row6 col0\" >Numeric imputation</td>\n",
       "      <td id=\"T_f2164_row6_col1\" class=\"data row6 col1\" >mean</td>\n",
       "    </tr>\n",
       "    <tr>\n",
       "      <th id=\"T_f2164_level0_row7\" class=\"row_heading level0 row7\" >7</th>\n",
       "      <td id=\"T_f2164_row7_col0\" class=\"data row7 col0\" >Categorical imputation</td>\n",
       "      <td id=\"T_f2164_row7_col1\" class=\"data row7 col1\" >mode</td>\n",
       "    </tr>\n",
       "    <tr>\n",
       "      <th id=\"T_f2164_level0_row8\" class=\"row_heading level0 row8\" >8</th>\n",
       "      <td id=\"T_f2164_row8_col0\" class=\"data row8 col0\" >CPU Jobs</td>\n",
       "      <td id=\"T_f2164_row8_col1\" class=\"data row8 col1\" >-1</td>\n",
       "    </tr>\n",
       "    <tr>\n",
       "      <th id=\"T_f2164_level0_row9\" class=\"row_heading level0 row9\" >9</th>\n",
       "      <td id=\"T_f2164_row9_col0\" class=\"data row9 col0\" >Use GPU</td>\n",
       "      <td id=\"T_f2164_row9_col1\" class=\"data row9 col1\" >False</td>\n",
       "    </tr>\n",
       "    <tr>\n",
       "      <th id=\"T_f2164_level0_row10\" class=\"row_heading level0 row10\" >10</th>\n",
       "      <td id=\"T_f2164_row10_col0\" class=\"data row10 col0\" >Log Experiment</td>\n",
       "      <td id=\"T_f2164_row10_col1\" class=\"data row10 col1\" >False</td>\n",
       "    </tr>\n",
       "    <tr>\n",
       "      <th id=\"T_f2164_level0_row11\" class=\"row_heading level0 row11\" >11</th>\n",
       "      <td id=\"T_f2164_row11_col0\" class=\"data row11 col0\" >Experiment Name</td>\n",
       "      <td id=\"T_f2164_row11_col1\" class=\"data row11 col1\" >anomaly-default-name</td>\n",
       "    </tr>\n",
       "    <tr>\n",
       "      <th id=\"T_f2164_level0_row12\" class=\"row_heading level0 row12\" >12</th>\n",
       "      <td id=\"T_f2164_row12_col0\" class=\"data row12 col0\" >USI</td>\n",
       "      <td id=\"T_f2164_row12_col1\" class=\"data row12 col1\" >013f</td>\n",
       "    </tr>\n",
       "  </tbody>\n",
       "</table>\n"
      ],
      "text/plain": [
       "<pandas.io.formats.style.Styler at 0x21f9968f370>"
      ]
     },
     "metadata": {},
     "output_type": "display_data"
    },
    {
     "data": {
      "text/plain": [
       "<pycaret.anomaly.oop.AnomalyExperiment at 0x21f932a96d0>"
      ]
     },
     "execution_count": 49,
     "metadata": {},
     "output_type": "execute_result"
    }
   ],
   "source": [
    "# init setup on exp\n",
    "exp.setup(data, session_id = 123)"
   ]
  },
  {
   "cell_type": "markdown",
   "id": "77213120",
   "metadata": {},
   "source": [
    "You can use any of the two method i.e. Functional or OOP and even switch back and forth between two set of API's. The choice of method will not impact the results and has been tested for consistency."
   ]
  },
  {
   "cell_type": "markdown",
   "id": "5de1eab6",
   "metadata": {},
   "source": [
    "## Create Model\n",
    "\n",
    "This function trains an unsupervised anomaly detection model. All the available models can be accessed using the models function."
   ]
  },
  {
   "cell_type": "code",
   "execution_count": 50,
   "id": "65a19df4",
   "metadata": {},
   "outputs": [
    {
     "data": {
      "text/html": [],
      "text/plain": [
       "<IPython.core.display.HTML object>"
      ]
     },
     "metadata": {},
     "output_type": "display_data"
    },
    {
     "data": {
      "text/html": [],
      "text/plain": [
       "<IPython.core.display.HTML object>"
      ]
     },
     "metadata": {},
     "output_type": "display_data"
    },
    {
     "data": {
      "application/vnd.jupyter.widget-view+json": {
       "model_id": "",
       "version_major": 2,
       "version_minor": 0
      },
      "text/plain": [
       "Processing:   0%|          | 0/3 [00:00<?, ?it/s]"
      ]
     },
     "metadata": {},
     "output_type": "display_data"
    },
    {
     "data": {
      "text/plain": [
       "IForest(behaviour='new', bootstrap=False, contamination=0.05,\n",
       "    max_features=1.0, max_samples='auto', n_estimators=100, n_jobs=-1,\n",
       "    random_state=123, verbose=0)"
      ]
     },
     "execution_count": 50,
     "metadata": {},
     "output_type": "execute_result"
    }
   ],
   "source": [
    "# train iforest model\n",
    "iforest = create_model('iforest')\n",
    "iforest"
   ]
  },
  {
   "cell_type": "code",
   "execution_count": 51,
   "id": "8e1442ef",
   "metadata": {},
   "outputs": [
    {
     "data": {
      "text/html": [
       "<div>\n",
       "<style scoped>\n",
       "    .dataframe tbody tr th:only-of-type {\n",
       "        vertical-align: middle;\n",
       "    }\n",
       "\n",
       "    .dataframe tbody tr th {\n",
       "        vertical-align: top;\n",
       "    }\n",
       "\n",
       "    .dataframe thead th {\n",
       "        text-align: right;\n",
       "    }\n",
       "</style>\n",
       "<table border=\"1\" class=\"dataframe\">\n",
       "  <thead>\n",
       "    <tr style=\"text-align: right;\">\n",
       "      <th></th>\n",
       "      <th>Name</th>\n",
       "      <th>Reference</th>\n",
       "    </tr>\n",
       "    <tr>\n",
       "      <th>ID</th>\n",
       "      <th></th>\n",
       "      <th></th>\n",
       "    </tr>\n",
       "  </thead>\n",
       "  <tbody>\n",
       "    <tr>\n",
       "      <th>abod</th>\n",
       "      <td>Angle-base Outlier Detection</td>\n",
       "      <td>pyod.models.abod.ABOD</td>\n",
       "    </tr>\n",
       "    <tr>\n",
       "      <th>cluster</th>\n",
       "      <td>Clustering-Based Local Outlier</td>\n",
       "      <td>pyod.models.cblof.CBLOF</td>\n",
       "    </tr>\n",
       "    <tr>\n",
       "      <th>cof</th>\n",
       "      <td>Connectivity-Based Local Outlier</td>\n",
       "      <td>pycaret.internal.patches.pyod.COFPatched</td>\n",
       "    </tr>\n",
       "    <tr>\n",
       "      <th>iforest</th>\n",
       "      <td>Isolation Forest</td>\n",
       "      <td>pyod.models.iforest.IForest</td>\n",
       "    </tr>\n",
       "    <tr>\n",
       "      <th>histogram</th>\n",
       "      <td>Histogram-based Outlier Detection</td>\n",
       "      <td>pyod.models.hbos.HBOS</td>\n",
       "    </tr>\n",
       "    <tr>\n",
       "      <th>knn</th>\n",
       "      <td>K-Nearest Neighbors Detector</td>\n",
       "      <td>pyod.models.knn.KNN</td>\n",
       "    </tr>\n",
       "    <tr>\n",
       "      <th>lof</th>\n",
       "      <td>Local Outlier Factor</td>\n",
       "      <td>pyod.models.lof.LOF</td>\n",
       "    </tr>\n",
       "    <tr>\n",
       "      <th>svm</th>\n",
       "      <td>One-class SVM detector</td>\n",
       "      <td>pyod.models.ocsvm.OCSVM</td>\n",
       "    </tr>\n",
       "    <tr>\n",
       "      <th>pca</th>\n",
       "      <td>Principal Component Analysis</td>\n",
       "      <td>pyod.models.pca.PCA</td>\n",
       "    </tr>\n",
       "    <tr>\n",
       "      <th>mcd</th>\n",
       "      <td>Minimum Covariance Determinant</td>\n",
       "      <td>pyod.models.mcd.MCD</td>\n",
       "    </tr>\n",
       "    <tr>\n",
       "      <th>sod</th>\n",
       "      <td>Subspace Outlier Detection</td>\n",
       "      <td>pycaret.internal.patches.pyod.SODPatched</td>\n",
       "    </tr>\n",
       "    <tr>\n",
       "      <th>sos</th>\n",
       "      <td>Stochastic Outlier Selection</td>\n",
       "      <td>pycaret.internal.patches.pyod.SOSPatched</td>\n",
       "    </tr>\n",
       "  </tbody>\n",
       "</table>\n",
       "</div>"
      ],
      "text/plain": [
       "                                        Name  \\\n",
       "ID                                             \n",
       "abod            Angle-base Outlier Detection   \n",
       "cluster       Clustering-Based Local Outlier   \n",
       "cof         Connectivity-Based Local Outlier   \n",
       "iforest                     Isolation Forest   \n",
       "histogram  Histogram-based Outlier Detection   \n",
       "knn             K-Nearest Neighbors Detector   \n",
       "lof                     Local Outlier Factor   \n",
       "svm                   One-class SVM detector   \n",
       "pca             Principal Component Analysis   \n",
       "mcd           Minimum Covariance Determinant   \n",
       "sod               Subspace Outlier Detection   \n",
       "sos             Stochastic Outlier Selection   \n",
       "\n",
       "                                          Reference  \n",
       "ID                                                   \n",
       "abod                          pyod.models.abod.ABOD  \n",
       "cluster                     pyod.models.cblof.CBLOF  \n",
       "cof        pycaret.internal.patches.pyod.COFPatched  \n",
       "iforest                 pyod.models.iforest.IForest  \n",
       "histogram                     pyod.models.hbos.HBOS  \n",
       "knn                             pyod.models.knn.KNN  \n",
       "lof                             pyod.models.lof.LOF  \n",
       "svm                         pyod.models.ocsvm.OCSVM  \n",
       "pca                             pyod.models.pca.PCA  \n",
       "mcd                             pyod.models.mcd.MCD  \n",
       "sod        pycaret.internal.patches.pyod.SODPatched  \n",
       "sos        pycaret.internal.patches.pyod.SOSPatched  "
      ]
     },
     "execution_count": 51,
     "metadata": {},
     "output_type": "execute_result"
    }
   ],
   "source": [
    "# to check all the available models\n",
    "models()"
   ]
  },
  {
   "cell_type": "markdown",
   "id": "8aad62df",
   "metadata": {},
   "source": [
    "## Assign Model\n",
    "This function assigns anomaly labels to the training data, given a trained model."
   ]
  },
  {
   "cell_type": "code",
   "execution_count": 52,
   "id": "f1e54158",
   "metadata": {},
   "outputs": [
    {
     "data": {
      "text/html": [
       "<div>\n",
       "<style scoped>\n",
       "    .dataframe tbody tr th:only-of-type {\n",
       "        vertical-align: middle;\n",
       "    }\n",
       "\n",
       "    .dataframe tbody tr th {\n",
       "        vertical-align: top;\n",
       "    }\n",
       "\n",
       "    .dataframe thead th {\n",
       "        text-align: right;\n",
       "    }\n",
       "</style>\n",
       "<table border=\"1\" class=\"dataframe\">\n",
       "  <thead>\n",
       "    <tr style=\"text-align: right;\">\n",
       "      <th></th>\n",
       "      <th>Col1</th>\n",
       "      <th>Col2</th>\n",
       "      <th>Col3</th>\n",
       "      <th>Col4</th>\n",
       "      <th>Col5</th>\n",
       "      <th>Col6</th>\n",
       "      <th>Col7</th>\n",
       "      <th>Col8</th>\n",
       "      <th>Col9</th>\n",
       "      <th>Col10</th>\n",
       "      <th>Anomaly</th>\n",
       "      <th>Anomaly_Score</th>\n",
       "    </tr>\n",
       "  </thead>\n",
       "  <tbody>\n",
       "    <tr>\n",
       "      <th>0</th>\n",
       "      <td>0.263995</td>\n",
       "      <td>0.764929</td>\n",
       "      <td>0.138424</td>\n",
       "      <td>0.935242</td>\n",
       "      <td>0.605867</td>\n",
       "      <td>0.518790</td>\n",
       "      <td>0.912225</td>\n",
       "      <td>0.608234</td>\n",
       "      <td>0.723782</td>\n",
       "      <td>0.733591</td>\n",
       "      <td>0</td>\n",
       "      <td>-0.035865</td>\n",
       "    </tr>\n",
       "    <tr>\n",
       "      <th>1</th>\n",
       "      <td>0.546092</td>\n",
       "      <td>0.653975</td>\n",
       "      <td>0.065575</td>\n",
       "      <td>0.227772</td>\n",
       "      <td>0.845269</td>\n",
       "      <td>0.837066</td>\n",
       "      <td>0.272379</td>\n",
       "      <td>0.331679</td>\n",
       "      <td>0.429297</td>\n",
       "      <td>0.367422</td>\n",
       "      <td>0</td>\n",
       "      <td>-0.084927</td>\n",
       "    </tr>\n",
       "    <tr>\n",
       "      <th>2</th>\n",
       "      <td>0.336714</td>\n",
       "      <td>0.538842</td>\n",
       "      <td>0.192801</td>\n",
       "      <td>0.553563</td>\n",
       "      <td>0.074515</td>\n",
       "      <td>0.332993</td>\n",
       "      <td>0.365792</td>\n",
       "      <td>0.861309</td>\n",
       "      <td>0.899017</td>\n",
       "      <td>0.088600</td>\n",
       "      <td>1</td>\n",
       "      <td>0.025356</td>\n",
       "    </tr>\n",
       "    <tr>\n",
       "      <th>3</th>\n",
       "      <td>0.092108</td>\n",
       "      <td>0.995017</td>\n",
       "      <td>0.014465</td>\n",
       "      <td>0.176371</td>\n",
       "      <td>0.241530</td>\n",
       "      <td>0.514724</td>\n",
       "      <td>0.562208</td>\n",
       "      <td>0.158963</td>\n",
       "      <td>0.073715</td>\n",
       "      <td>0.208463</td>\n",
       "      <td>1</td>\n",
       "      <td>0.042415</td>\n",
       "    </tr>\n",
       "    <tr>\n",
       "      <th>4</th>\n",
       "      <td>0.325261</td>\n",
       "      <td>0.805968</td>\n",
       "      <td>0.957033</td>\n",
       "      <td>0.331665</td>\n",
       "      <td>0.307923</td>\n",
       "      <td>0.355315</td>\n",
       "      <td>0.501899</td>\n",
       "      <td>0.558449</td>\n",
       "      <td>0.885169</td>\n",
       "      <td>0.182754</td>\n",
       "      <td>0</td>\n",
       "      <td>-0.023408</td>\n",
       "    </tr>\n",
       "    <tr>\n",
       "      <th>...</th>\n",
       "      <td>...</td>\n",
       "      <td>...</td>\n",
       "      <td>...</td>\n",
       "      <td>...</td>\n",
       "      <td>...</td>\n",
       "      <td>...</td>\n",
       "      <td>...</td>\n",
       "      <td>...</td>\n",
       "      <td>...</td>\n",
       "      <td>...</td>\n",
       "      <td>...</td>\n",
       "      <td>...</td>\n",
       "    </tr>\n",
       "    <tr>\n",
       "      <th>995</th>\n",
       "      <td>0.305055</td>\n",
       "      <td>0.656837</td>\n",
       "      <td>0.331665</td>\n",
       "      <td>0.822525</td>\n",
       "      <td>0.907127</td>\n",
       "      <td>0.882276</td>\n",
       "      <td>0.855732</td>\n",
       "      <td>0.584786</td>\n",
       "      <td>0.808640</td>\n",
       "      <td>0.242762</td>\n",
       "      <td>0</td>\n",
       "      <td>-0.083981</td>\n",
       "    </tr>\n",
       "    <tr>\n",
       "      <th>996</th>\n",
       "      <td>0.812627</td>\n",
       "      <td>0.864258</td>\n",
       "      <td>0.616604</td>\n",
       "      <td>0.167966</td>\n",
       "      <td>0.811223</td>\n",
       "      <td>0.938071</td>\n",
       "      <td>0.418462</td>\n",
       "      <td>0.472306</td>\n",
       "      <td>0.348347</td>\n",
       "      <td>0.671129</td>\n",
       "      <td>0</td>\n",
       "      <td>-0.075839</td>\n",
       "    </tr>\n",
       "    <tr>\n",
       "      <th>997</th>\n",
       "      <td>0.250967</td>\n",
       "      <td>0.138627</td>\n",
       "      <td>0.919703</td>\n",
       "      <td>0.461234</td>\n",
       "      <td>0.886555</td>\n",
       "      <td>0.869888</td>\n",
       "      <td>0.800908</td>\n",
       "      <td>0.530324</td>\n",
       "      <td>0.779433</td>\n",
       "      <td>0.234952</td>\n",
       "      <td>0</td>\n",
       "      <td>-0.052903</td>\n",
       "    </tr>\n",
       "    <tr>\n",
       "      <th>998</th>\n",
       "      <td>0.502436</td>\n",
       "      <td>0.936820</td>\n",
       "      <td>0.580062</td>\n",
       "      <td>0.540773</td>\n",
       "      <td>0.151995</td>\n",
       "      <td>0.059452</td>\n",
       "      <td>0.225220</td>\n",
       "      <td>0.242755</td>\n",
       "      <td>0.279385</td>\n",
       "      <td>0.538755</td>\n",
       "      <td>0</td>\n",
       "      <td>-0.075104</td>\n",
       "    </tr>\n",
       "    <tr>\n",
       "      <th>999</th>\n",
       "      <td>0.457991</td>\n",
       "      <td>0.017755</td>\n",
       "      <td>0.714113</td>\n",
       "      <td>0.125992</td>\n",
       "      <td>0.063316</td>\n",
       "      <td>0.154739</td>\n",
       "      <td>0.922974</td>\n",
       "      <td>0.692299</td>\n",
       "      <td>0.816777</td>\n",
       "      <td>0.307592</td>\n",
       "      <td>0</td>\n",
       "      <td>-0.008665</td>\n",
       "    </tr>\n",
       "  </tbody>\n",
       "</table>\n",
       "<p>1000 rows × 12 columns</p>\n",
       "</div>"
      ],
      "text/plain": [
       "         Col1      Col2      Col3      Col4      Col5      Col6      Col7  \\\n",
       "0    0.263995  0.764929  0.138424  0.935242  0.605867  0.518790  0.912225   \n",
       "1    0.546092  0.653975  0.065575  0.227772  0.845269  0.837066  0.272379   \n",
       "2    0.336714  0.538842  0.192801  0.553563  0.074515  0.332993  0.365792   \n",
       "3    0.092108  0.995017  0.014465  0.176371  0.241530  0.514724  0.562208   \n",
       "4    0.325261  0.805968  0.957033  0.331665  0.307923  0.355315  0.501899   \n",
       "..        ...       ...       ...       ...       ...       ...       ...   \n",
       "995  0.305055  0.656837  0.331665  0.822525  0.907127  0.882276  0.855732   \n",
       "996  0.812627  0.864258  0.616604  0.167966  0.811223  0.938071  0.418462   \n",
       "997  0.250967  0.138627  0.919703  0.461234  0.886555  0.869888  0.800908   \n",
       "998  0.502436  0.936820  0.580062  0.540773  0.151995  0.059452  0.225220   \n",
       "999  0.457991  0.017755  0.714113  0.125992  0.063316  0.154739  0.922974   \n",
       "\n",
       "         Col8      Col9     Col10  Anomaly  Anomaly_Score  \n",
       "0    0.608234  0.723782  0.733591        0      -0.035865  \n",
       "1    0.331679  0.429297  0.367422        0      -0.084927  \n",
       "2    0.861309  0.899017  0.088600        1       0.025356  \n",
       "3    0.158963  0.073715  0.208463        1       0.042415  \n",
       "4    0.558449  0.885169  0.182754        0      -0.023408  \n",
       "..        ...       ...       ...      ...            ...  \n",
       "995  0.584786  0.808640  0.242762        0      -0.083981  \n",
       "996  0.472306  0.348347  0.671129        0      -0.075839  \n",
       "997  0.530324  0.779433  0.234952        0      -0.052903  \n",
       "998  0.242755  0.279385  0.538755        0      -0.075104  \n",
       "999  0.692299  0.816777  0.307592        0      -0.008665  \n",
       "\n",
       "[1000 rows x 12 columns]"
      ]
     },
     "execution_count": 52,
     "metadata": {},
     "output_type": "execute_result"
    }
   ],
   "source": [
    "iforest_anomalies = assign_model(iforest)\n",
    "iforest_anomalies"
   ]
  },
  {
   "cell_type": "markdown",
   "id": "6a77ec0c",
   "metadata": {},
   "source": [
    "## Analyze Model"
   ]
  },
  {
   "cell_type": "markdown",
   "id": "595ea108",
   "metadata": {},
   "source": [
    "You can use the `plot_model` function to analyzes the performance of a trained model on the test set. It may require re-training the model in certain cases."
   ]
  },
  {
   "cell_type": "code",
   "execution_count": 53,
   "id": "0ec7fad6",
   "metadata": {},
   "outputs": [
    {
     "data": {
      "text/html": [],
      "text/plain": [
       "<IPython.core.display.HTML object>"
      ]
     },
     "metadata": {},
     "output_type": "display_data"
    },
    {
     "data": {
      "application/vnd.plotly.v1+json": {
       "config": {
        "plotlyServerURL": "https://plot.ly"
       },
       "data": [
        {
         "customdata": [
          [
           0.26399535
          ],
          [
           0.54609233
          ],
          [
           0.33671412
          ],
          [
           0.09210783
          ],
          [
           0.32526118
          ],
          [
           0.21246485
          ],
          [
           0.25856572
          ],
          [
           0.86923677
          ],
          [
           0.19707796
          ],
          [
           0.29298452
          ],
          [
           0.8217832
          ],
          [
           0.79662293
          ],
          [
           0.045577012
          ],
          [
           0.61366034
          ],
          [
           0.95074457
          ],
          [
           0.33634633
          ],
          [
           0.034440666
          ],
          [
           0.74154425
          ],
          [
           0.18443266
          ],
          [
           0.66451496
          ],
          [
           0.16282485
          ],
          [
           0.72983843
          ],
          [
           0.62837386
          ],
          [
           0.05788366
          ],
          [
           0.44553483
          ],
          [
           0.80183697
          ],
          [
           0.27709612
          ],
          [
           0.22863401
          ],
          [
           0.8348607
          ],
          [
           0.6697665
          ],
          [
           0.5325273
          ],
          [
           0.17045908
          ],
          [
           0.5102885
          ],
          [
           0.977562
          ],
          [
           0.24977599
          ],
          [
           0.9755007
          ],
          [
           0.6137017
          ],
          [
           0.16742036
          ],
          [
           0.5374725
          ],
          [
           0.37989914
          ],
          [
           0.6338973
          ],
          [
           0.6339604
          ],
          [
           0.5499747
          ],
          [
           0.17817299
          ],
          [
           0.85563815
          ],
          [
           0.3217967
          ],
          [
           0.8174905
          ],
          [
           0.25487942
          ],
          [
           0.3441405
          ],
          [
           0.8061457
          ],
          [
           0.27708167
          ],
          [
           0.5443285
          ],
          [
           0.07708393
          ],
          [
           0.27308145
          ],
          [
           0.39087734
          ],
          [
           0.3496214
          ],
          [
           0.21454975
          ],
          [
           0.20607522
          ],
          [
           0.86462
          ],
          [
           0.9817088
          ],
          [
           0.33482966
          ],
          [
           0.6483871
          ],
          [
           0.09364356
          ],
          [
           0.8378027
          ],
          [
           0.76034397
          ],
          [
           0.2914042
          ],
          [
           0.3413454
          ],
          [
           0.7611125
          ],
          [
           0.5418998
          ],
          [
           0.6841766
          ],
          [
           0.9835356
          ],
          [
           0.52081245
          ],
          [
           0.32822773
          ],
          [
           0.09715794
          ],
          [
           0.8760886
          ],
          [
           0.8702145
          ],
          [
           0.656087
          ],
          [
           0.3067915
          ],
          [
           0.48126733
          ],
          [
           0.25955918
          ],
          [
           0.32612365
          ],
          [
           0.93056804
          ],
          [
           0.6583894
          ],
          [
           0.6899923
          ],
          [
           0.31578112
          ],
          [
           0.5669051
          ],
          [
           0.63752663
          ],
          [
           0.6875407
          ],
          [
           0.3243006
          ],
          [
           0.5927049
          ],
          [
           0.74025315
          ],
          [
           0.5940329
          ],
          [
           0.59645295
          ],
          [
           0.2776808
          ],
          [
           0.25832966
          ],
          [
           0.14246087
          ],
          [
           0.43553346
          ],
          [
           0.70249903
          ],
          [
           0.58897537
          ],
          [
           0.6533044
          ],
          [
           0.3369685
          ],
          [
           0.6312447
          ],
          [
           0.7353008
          ],
          [
           0.050390366
          ],
          [
           0.06426492
          ],
          [
           0.6653595
          ],
          [
           0.91783524
          ],
          [
           0.4465101
          ],
          [
           0.6619382
          ],
          [
           0.43935984
          ],
          [
           0.6875724
          ],
          [
           0.36346224
          ],
          [
           0.6542622
          ],
          [
           0.57855356
          ],
          [
           0.065927945
          ],
          [
           0.55014855
          ],
          [
           0.13918282
          ],
          [
           0.08000463
          ],
          [
           0.27822837
          ],
          [
           0.5601243
          ],
          [
           0.53639865
          ],
          [
           0.4265319
          ],
          [
           0.78910977
          ],
          [
           0.7429005
          ],
          [
           0.90169257
          ],
          [
           0.6503374
          ],
          [
           0.11405731
          ],
          [
           0.26081258
          ],
          [
           0.43991232
          ],
          [
           0.9644093
          ],
          [
           0.18440141
          ],
          [
           0.34514543
          ],
          [
           0.17589459
          ],
          [
           0.31251445
          ],
          [
           0.6741319
          ],
          [
           0.32825044
          ],
          [
           0.5982311
          ],
          [
           0.09259882
          ],
          [
           0.49791652
          ],
          [
           0.41977653
          ],
          [
           0.3121767
          ],
          [
           0.9378571
          ],
          [
           0.049030963
          ],
          [
           0.47610453
          ],
          [
           0.44739753
          ],
          [
           0.29580605
          ],
          [
           0.737364
          ],
          [
           0.6258963
          ],
          [
           0.40881342
          ],
          [
           0.43751115
          ],
          [
           0.69135135
          ],
          [
           0.9355553
          ],
          [
           0.43784666
          ],
          [
           0.07221772
          ],
          [
           0.67636067
          ],
          [
           0.468884
          ],
          [
           0.5438206
          ],
          [
           0.65552264
          ],
          [
           0.69352895
          ],
          [
           0.108878314
          ],
          [
           0.28546375
          ],
          [
           0
          ],
          [
           0.7064955
          ],
          [
           0.27353063
          ],
          [
           0.29232028
          ],
          [
           0.6739843
          ],
          [
           0.12612183
          ],
          [
           0.9467075
          ],
          [
           0.9363389
          ],
          [
           0.85375535
          ],
          [
           0.7060714
          ],
          [
           0.6936822
          ],
          [
           0.5085279
          ],
          [
           0.34717038
          ],
          [
           0.70415425
          ],
          [
           0.6587301
          ],
          [
           0.15584156
          ],
          [
           0.31108543
          ],
          [
           0.28113535
          ],
          [
           0.0945878
          ],
          [
           0.683261
          ],
          [
           0.90772927
          ],
          [
           0.29151267
          ],
          [
           0.7527345
          ],
          [
           0.93482965
          ],
          [
           0.07141396
          ],
          [
           0.5948963
          ],
          [
           0.40467203
          ],
          [
           0.1383762
          ],
          [
           0.7473385
          ],
          [
           0.5308825
          ],
          [
           0.2826496
          ],
          [
           0.69933575
          ],
          [
           0.05611125
          ],
          [
           0.855235
          ],
          [
           0.07789513
          ],
          [
           0.8916496
          ],
          [
           0.3867423
          ],
          [
           0.27113158
          ],
          [
           0.95888895
          ],
          [
           0.08512087
          ],
          [
           0.52690226
          ],
          [
           0.066577785
          ],
          [
           0.8415067
          ],
          [
           0.2553421
          ],
          [
           0.060545772
          ],
          [
           0.07338587
          ],
          [
           0.18749373
          ],
          [
           0.8583657
          ],
          [
           0.09064035
          ],
          [
           0.7097252
          ],
          [
           0.6313006
          ],
          [
           0.24750447
          ],
          [
           0.8228436
          ],
          [
           0.37347677
          ],
          [
           0.6255386
          ],
          [
           0.2929517
          ],
          [
           0.29973033
          ],
          [
           0.25121406
          ],
          [
           0.34448054
          ],
          [
           0.29306477
          ],
          [
           0.7628032
          ],
          [
           0.7384708
          ],
          [
           0.67488325
          ],
          [
           0.7191516
          ],
          [
           0.13098022
          ],
          [
           0.51132804
          ],
          [
           0.04492903
          ],
          [
           0.56091446
          ],
          [
           0.74404067
          ],
          [
           0.26696163
          ],
          [
           0.64423186
          ],
          [
           0.038113352
          ],
          [
           0.0571553
          ],
          [
           0.34139246
          ],
          [
           0.72046363
          ],
          [
           0.40287822
          ],
          [
           0.63514894
          ],
          [
           0.32072946
          ],
          [
           0.091209695
          ],
          [
           0.23414609
          ],
          [
           0.8902211
          ],
          [
           0.6021709
          ],
          [
           0.63365203
          ],
          [
           0.80624086
          ],
          [
           0.7397312
          ],
          [
           0.46523127
          ],
          [
           0.7321109
          ],
          [
           0.3738743
          ],
          [
           0.5015879
          ],
          [
           0.115383156
          ],
          [
           0.7319466
          ],
          [
           0.41829872
          ],
          [
           0.062259592
          ],
          [
           0.3914964
          ],
          [
           0.3598493
          ],
          [
           0.24523562
          ],
          [
           0.6100283
          ],
          [
           0.43540362
          ],
          [
           0.43430966
          ],
          [
           0.52376336
          ],
          [
           0.17118786
          ],
          [
           0.1877343
          ],
          [
           0.94501466
          ],
          [
           0.027851097
          ],
          [
           0.68445706
          ],
          [
           0.17801453
          ],
          [
           0.6434279
          ],
          [
           0.59588355
          ],
          [
           0.3723617
          ],
          [
           0.58610356
          ],
          [
           0.27165884
          ],
          [
           0.5995111
          ],
          [
           0.46836308
          ],
          [
           0.31451556
          ],
          [
           0.21893726
          ],
          [
           0.25471658
          ],
          [
           0.25612816
          ],
          [
           0.60225976
          ],
          [
           0.13438107
          ],
          [
           0.5138874
          ],
          [
           0.62424165
          ],
          [
           0.16025186
          ],
          [
           0.5807081
          ],
          [
           0.27054048
          ],
          [
           0.83291996
          ],
          [
           0.93032134
          ],
          [
           0.7191579
          ],
          [
           0.88672006
          ],
          [
           0.09879228
          ],
          [
           0.7871743
          ],
          [
           0.3655924
          ],
          [
           0.7195762
          ],
          [
           0.8058956
          ],
          [
           0.75557834
          ],
          [
           0.5260059
          ],
          [
           0.68880427
          ],
          [
           0.2211153
          ],
          [
           0.73936945
          ],
          [
           0.40844023
          ],
          [
           0.34892654
          ],
          [
           0.43371376
          ],
          [
           0.5964966
          ],
          [
           0.6942953
          ],
          [
           0.709031
          ],
          [
           0.867653
          ],
          [
           0.89332545
          ],
          [
           0.7460209
          ],
          [
           0.5382844
          ],
          [
           0.8922193
          ],
          [
           0.9351758
          ],
          [
           0.2605277
          ],
          [
           0.95678043
          ],
          [
           0.20493248
          ],
          [
           0.68773335
          ],
          [
           0.32906362
          ],
          [
           0.6321498
          ],
          [
           0.4637445
          ],
          [
           0.69885963
          ],
          [
           0.38544658
          ],
          [
           0.47997537
          ],
          [
           0.7322791
          ],
          [
           0.3813543
          ],
          [
           0.459326
          ],
          [
           0.25740144
          ],
          [
           0.6650148
          ],
          [
           0.103399545
          ],
          [
           0.42528442
          ],
          [
           0.94352907
          ],
          [
           0.5947502
          ],
          [
           0.5437768
          ],
          [
           0.18203989
          ],
          [
           0.23584208
          ],
          [
           0.58598447
          ],
          [
           0.7620132
          ],
          [
           0.6849829
          ],
          [
           0.6769369
          ],
          [
           0.29018497
          ],
          [
           0.48106822
          ],
          [
           0.49276602
          ],
          [
           0.22185624
          ],
          [
           0.053875998
          ],
          [
           0.08275115
          ],
          [
           0.38536623
          ],
          [
           0.70251393
          ],
          [
           0.9155316
          ],
          [
           0.082087435
          ],
          [
           0.25128037
          ],
          [
           0.41672182
          ],
          [
           0.27703267
          ],
          [
           0.5795398
          ],
          [
           0.5693635
          ],
          [
           0.13339971
          ],
          [
           0.26504546
          ],
          [
           0.9365719
          ],
          [
           0.25261855
          ],
          [
           0.054033082
          ],
          [
           0.8024814
          ],
          [
           0.5281977
          ],
          [
           0.9515026
          ],
          [
           0.57212114
          ],
          [
           0.7529382
          ],
          [
           0.14385754
          ],
          [
           0.5134846
          ],
          [
           0.3133224
          ],
          [
           0.68779737
          ],
          [
           0.37705985
          ],
          [
           0.34822613
          ],
          [
           0.6776328
          ],
          [
           0.24138752
          ],
          [
           0.8506502
          ],
          [
           0.2203481
          ],
          [
           0.47644547
          ],
          [
           0.690324
          ],
          [
           0.36469594
          ],
          [
           0.6492492
          ],
          [
           0.9437019
          ],
          [
           0.529646
          ],
          [
           0.299097
          ],
          [
           0.96696246
          ],
          [
           0.27200523
          ],
          [
           0.31416145
          ],
          [
           0.752021
          ],
          [
           0.22188245
          ],
          [
           0.7203327
          ],
          [
           0.37920478
          ],
          [
           0.60168654
          ],
          [
           0.58293265
          ],
          [
           0.95080984
          ],
          [
           0.5883014
          ],
          [
           0.8808872
          ],
          [
           0.4678577
          ],
          [
           0.8799022
          ],
          [
           0.619844
          ],
          [
           0.35900256
          ],
          [
           0.29151127
          ],
          [
           0.6941571
          ],
          [
           0.72796035
          ],
          [
           0.6177039
          ],
          [
           0.39581257
          ],
          [
           0.5831728
          ],
          [
           0.7103324
          ],
          [
           0.2537537
          ],
          [
           0.04941223
          ],
          [
           0.7283787
          ],
          [
           0.4324329
          ],
          [
           0.58612347
          ],
          [
           0.052342374
          ],
          [
           0.053483903
          ],
          [
           0.5187294
          ],
          [
           0.9330402
          ],
          [
           0.7035543
          ],
          [
           0.2689899
          ],
          [
           0.73300695
          ],
          [
           0.44435248
          ],
          [
           0.58339465
          ],
          [
           0.87117267
          ],
          [
           0.42876709
          ],
          [
           0.30046085
          ],
          [
           0.95332944
          ],
          [
           0.60644394
          ],
          [
           0.9098681
          ],
          [
           0.71489644
          ],
          [
           0.4973495
          ],
          [
           0.8530975
          ],
          [
           0.72180414
          ],
          [
           0.30346733
          ],
          [
           0.6644851
          ],
          [
           0.27978063
          ],
          [
           0.5694817
          ],
          [
           0.6286289
          ],
          [
           0.088368125
          ],
          [
           0.7335673
          ],
          [
           0.5374368
          ],
          [
           0.6385937
          ],
          [
           0.95472693
          ],
          [
           0.6322023
          ],
          [
           0.64213467
          ],
          [
           0.7446531
          ],
          [
           0.115714006
          ],
          [
           0.48625007
          ],
          [
           0.44035614
          ],
          [
           0.08272289
          ],
          [
           0.511591
          ],
          [
           0.39462754
          ],
          [
           0.224394
          ],
          [
           0.62692755
          ],
          [
           0.29025406
          ],
          [
           0.77900803
          ],
          [
           0.8661058
          ],
          [
           0.87332606
          ],
          [
           0.49548915
          ],
          [
           0.5942977
          ],
          [
           0.91820157
          ],
          [
           0.57704276
          ],
          [
           0.01946767
          ],
          [
           0.6702983
          ],
          [
           0.54659534
          ],
          [
           0.59166515
          ],
          [
           0.4215582
          ],
          [
           0.68560857
          ],
          [
           0.34030303
          ],
          [
           0.67562675
          ],
          [
           0.31906736
          ],
          [
           0.38849968
          ],
          [
           0.7069496
          ],
          [
           0.5594095
          ],
          [
           0.6876635
          ],
          [
           0.70880455
          ],
          [
           0.6818881
          ],
          [
           0.42253512
          ],
          [
           0.3200046
          ],
          [
           0.6582814
          ],
          [
           0.63415486
          ],
          [
           0.777332
          ],
          [
           0.8126772
          ],
          [
           0.0742808
          ],
          [
           0.39600217
          ],
          [
           0.054933913
          ],
          [
           0.82505894
          ],
          [
           0.382642
          ],
          [
           0.8687298
          ],
          [
           0.58804333
          ],
          [
           0.89155155
          ],
          [
           0.10920046
          ],
          [
           0.6476828
          ],
          [
           0.7243425
          ],
          [
           0.07016304
          ],
          [
           0.28088206
          ],
          [
           0.03911326
          ],
          [
           0.5796416
          ],
          [
           0.6390009
          ],
          [
           0.2817459
          ],
          [
           0.6478577
          ],
          [
           0.6479058
          ],
          [
           0.87522626
          ],
          [
           0.5676033
          ],
          [
           0.2629406
          ],
          [
           0.26802605
          ],
          [
           0.40519133
          ],
          [
           0.47996545
          ],
          [
           0.33552402
          ],
          [
           0.77716535
          ],
          [
           0.42548797
          ],
          [
           0.23798612
          ],
          [
           0.14252298
          ],
          [
           0.72417647
          ],
          [
           0.23469894
          ],
          [
           0.07818228
          ],
          [
           0.8559902
          ],
          [
           0.27025175
          ],
          [
           0.43551785
          ],
          [
           0.7626975
          ],
          [
           0.46448725
          ],
          [
           0.39611268
          ],
          [
           0.37638092
          ],
          [
           0.29459468
          ],
          [
           0.6944921
          ],
          [
           0.6227679
          ],
          [
           0.84755975
          ],
          [
           0.30146307
          ],
          [
           0.9129378
          ],
          [
           0.50001717
          ],
          [
           0.90258795
          ],
          [
           0.30451795
          ],
          [
           0.29916567
          ],
          [
           0.09201409
          ],
          [
           0.4885489
          ],
          [
           0.66466445
          ],
          [
           0.26534954
          ],
          [
           0.723657
          ],
          [
           0.14926238
          ],
          [
           0.04577339
          ],
          [
           0.6966106
          ],
          [
           0.42181486
          ],
          [
           0.7338458
          ],
          [
           0.41879538
          ],
          [
           0.6774435
          ],
          [
           0.2612836
          ],
          [
           0.26852778
          ],
          [
           0.54432225
          ],
          [
           0.43163204
          ],
          [
           0.9810181
          ],
          [
           0.21498072
          ],
          [
           0.39473
          ],
          [
           0.12222494
          ],
          [
           0.29749689
          ],
          [
           0.37490442
          ],
          [
           0.6869877
          ],
          [
           0.3885492
          ],
          [
           0.039296072
          ],
          [
           0.73553425
          ],
          [
           0.3792949
          ],
          [
           0.7321234
          ],
          [
           0.33922145
          ],
          [
           0.6594506
          ],
          [
           0.054838642
          ],
          [
           0.6401121
          ],
          [
           0.3071417
          ],
          [
           0.3966119
          ],
          [
           0.42043915
          ],
          [
           0.24171497
          ],
          [
           0.06589315
          ],
          [
           0.9105219
          ],
          [
           0.6971631
          ],
          [
           0.072559856
          ],
          [
           0.81825095
          ],
          [
           0.3118888
          ],
          [
           0.9616446
          ],
          [
           0.81632555
          ],
          [
           0.14647302
          ],
          [
           0.5487539
          ],
          [
           0.9461581
          ],
          [
           0.29399273
          ],
          [
           0.33147964
          ],
          [
           0.90622
          ],
          [
           0.5255404
          ],
          [
           0.83301413
          ],
          [
           0.5148498
          ],
          [
           0.57460904
          ],
          [
           0.46871185
          ],
          [
           0.71002775
          ],
          [
           0.64597327
          ],
          [
           0.22979441
          ],
          [
           0.5517834
          ],
          [
           0.05582299
          ],
          [
           0.33175093
          ],
          [
           0.7155202
          ],
          [
           0.58392435
          ],
          [
           0.3069577
          ],
          [
           0.7914782
          ],
          [
           0.16423663
          ],
          [
           0.06571122
          ],
          [
           0.94899315
          ],
          [
           0.08042383
          ],
          [
           0.052495427
          ],
          [
           0.5663461
          ],
          [
           0.3630266
          ],
          [
           0.60544217
          ],
          [
           0.6308506
          ],
          [
           0.065791234
          ],
          [
           0.28681707
          ],
          [
           0.68546283
          ],
          [
           0.2608537
          ],
          [
           0.6591224
          ],
          [
           0.44317392
          ],
          [
           0.602064
          ],
          [
           0.06036691
          ],
          [
           0.78190315
          ],
          [
           0.51457983
          ],
          [
           0.4838862
          ],
          [
           0.6002138
          ],
          [
           0.49736404
          ],
          [
           0.41114524
          ],
          [
           0.11699917
          ],
          [
           0.34189013
          ],
          [
           0.74695086
          ],
          [
           0.39629275
          ],
          [
           0.62214386
          ],
          [
           0.33527115
          ],
          [
           0.14025714
          ],
          [
           0.08162068
          ],
          [
           0.06983757
          ],
          [
           0.46894002
          ],
          [
           0.9908574
          ],
          [
           0.8966168
          ],
          [
           0.25531057
          ],
          [
           0.22464527
          ],
          [
           0.01991825
          ],
          [
           0.29648042
          ],
          [
           0.155459
          ],
          [
           0.57791674
          ],
          [
           0.95630306
          ],
          [
           0.8134644
          ],
          [
           0.5296758
          ],
          [
           0.28767136
          ],
          [
           0.48039135
          ],
          [
           0.2810448
          ],
          [
           0.63319653
          ],
          [
           0.09332538
          ],
          [
           0.284474
          ],
          [
           0.052223776
          ],
          [
           0.051129386
          ],
          [
           0.9674056
          ],
          [
           0.040045727
          ],
          [
           0.9085829
          ],
          [
           0.6621174
          ],
          [
           0.4247032
          ],
          [
           0.7220781
          ],
          [
           0.6661933
          ],
          [
           0.5096812
          ],
          [
           0.7513536
          ],
          [
           0.27907312
          ],
          [
           0.074927
          ],
          [
           0.91635954
          ],
          [
           0.31040326
          ],
          [
           0.71660405
          ],
          [
           0.4855871
          ],
          [
           0.3060752
          ],
          [
           0.4775582
          ],
          [
           0.71192396
          ],
          [
           0.066348635
          ],
          [
           0.27453935
          ],
          [
           0.31082252
          ],
          [
           0.47607312
          ],
          [
           0.18679556
          ],
          [
           0.26654208
          ],
          [
           0.07023114
          ],
          [
           0.26951927
          ],
          [
           0.8000047
          ],
          [
           0.27363366
          ],
          [
           0.14647919
          ],
          [
           0.37831897
          ],
          [
           0.37384906
          ],
          [
           0.24217084
          ],
          [
           0.2497965
          ],
          [
           0.06659119
          ],
          [
           0.3729568
          ],
          [
           0.5018123
          ],
          [
           0.31309775
          ],
          [
           0.8802022
          ],
          [
           0.5198189
          ],
          [
           0.36413875
          ],
          [
           0.4926829
          ],
          [
           0.28573266
          ],
          [
           0.89011496
          ],
          [
           0.31641957
          ],
          [
           0.26866353
          ],
          [
           0.77197593
          ],
          [
           0.968889
          ],
          [
           0.08033438
          ],
          [
           0.7368282
          ],
          [
           0.30055806
          ],
          [
           0.9179504
          ],
          [
           0.46581504
          ],
          [
           0.05403668
          ],
          [
           0.96315014
          ],
          [
           0.0896535
          ],
          [
           0.7076932
          ],
          [
           0.636416
          ],
          [
           0.5395211
          ],
          [
           0.11475716
          ],
          [
           0.3573124
          ],
          [
           0.67639834
          ],
          [
           0.4348284
          ],
          [
           0.032326385
          ],
          [
           0.7113656
          ],
          [
           0.18748651
          ],
          [
           0.052789655
          ],
          [
           0.5058636
          ],
          [
           0.9274319
          ],
          [
           0.68098426
          ],
          [
           0.8828222
          ],
          [
           0.49570546
          ],
          [
           0.5962404
          ],
          [
           0.3206107
          ],
          [
           0.3413685
          ],
          [
           0.1596818
          ],
          [
           0.31813368
          ],
          [
           0.83930105
          ],
          [
           0.06435925
          ],
          [
           0.47021663
          ],
          [
           0.77625227
          ],
          [
           0.6358434
          ],
          [
           0.62510544
          ],
          [
           0.52959067
          ],
          [
           0.98690015
          ],
          [
           0.078585684
          ],
          [
           0.23328426
          ],
          [
           0.36333096
          ],
          [
           0.716717
          ],
          [
           0.37588978
          ],
          [
           0.2233169
          ],
          [
           0.29934397
          ],
          [
           0.5385958
          ],
          [
           0.73029715
          ],
          [
           0.6603308
          ],
          [
           0.435296
          ],
          [
           0.3264943
          ],
          [
           0.8544027
          ],
          [
           0.57349384
          ],
          [
           0.75778615
          ],
          [
           0.7047432
          ],
          [
           0.2815756
          ],
          [
           0.6719682
          ],
          [
           0.313726
          ],
          [
           0.36433828
          ],
          [
           0.3682164
          ],
          [
           0.3862952
          ],
          [
           0.6559719
          ],
          [
           0.56602526
          ],
          [
           0.4249991
          ],
          [
           0.09011037
          ],
          [
           0.77235055
          ],
          [
           0.33104727
          ],
          [
           0.27371618
          ],
          [
           0.23877569
          ],
          [
           0.37307978
          ],
          [
           0.33118588
          ],
          [
           0.25613454
          ],
          [
           0.6783732
          ],
          [
           0.43463835
          ],
          [
           0.65466833
          ],
          [
           0.98668104
          ],
          [
           0.3715205
          ],
          [
           0.40835962
          ],
          [
           0.40932366
          ],
          [
           0.28341207
          ],
          [
           0.39524654
          ],
          [
           0.010984428
          ],
          [
           0.30601388
          ],
          [
           0.26619482
          ],
          [
           0.29931852
          ],
          [
           0.31829396
          ],
          [
           0.7428259
          ],
          [
           0.09766433
          ],
          [
           0.07966694
          ],
          [
           0.6132588
          ],
          [
           0.9944307
          ],
          [
           0.5688351
          ],
          [
           0.7080345
          ],
          [
           0.3705927
          ],
          [
           0.66986734
          ],
          [
           0.6512956
          ],
          [
           0.46253157
          ],
          [
           0.7196256
          ],
          [
           0.4537725
          ],
          [
           0.39486393
          ],
          [
           0.32397482
          ],
          [
           0.14645472
          ],
          [
           0.77906704
          ],
          [
           0.4018289
          ],
          [
           0.6014796
          ],
          [
           0.856423
          ],
          [
           0.56524295
          ],
          [
           0.3012251
          ],
          [
           0.28210816
          ],
          [
           0.594378
          ],
          [
           0.7053124
          ],
          [
           0.54086965
          ],
          [
           0.31924957
          ],
          [
           0.36176613
          ],
          [
           0.6250007
          ],
          [
           0.3162874
          ],
          [
           0.04723902
          ],
          [
           0.8011822
          ],
          [
           0.5084744
          ],
          [
           0.8178934
          ],
          [
           0.3992356
          ],
          [
           0.974052
          ],
          [
           0.7224153
          ],
          [
           0.039564762
          ],
          [
           0.90868413
          ],
          [
           0.47301012
          ],
          [
           0.71804965
          ],
          [
           0.76347905
          ],
          [
           0.64759654
          ],
          [
           0.89499736
          ],
          [
           0.2228259
          ],
          [
           0.35901225
          ],
          [
           0.9449102
          ],
          [
           0.29787782
          ],
          [
           0.172518
          ],
          [
           0.55658627
          ],
          [
           0.8764817
          ],
          [
           0.48667786
          ],
          [
           0.45949674
          ],
          [
           0.47412637
          ],
          [
           0.7010114
          ],
          [
           0.3375974
          ],
          [
           0.5375789
          ],
          [
           0.96699244
          ],
          [
           0.056849547
          ],
          [
           0.23324907
          ],
          [
           0.3800547
          ],
          [
           0.6029294
          ],
          [
           0.303848
          ],
          [
           0.17019455
          ],
          [
           0.97216856
          ],
          [
           0.33216894
          ],
          [
           0.6887287
          ],
          [
           0.1107734
          ],
          [
           0.27335206
          ],
          [
           0.5729397
          ],
          [
           0.49145707
          ],
          [
           0.28139
          ],
          [
           0.82169724
          ],
          [
           0.67497766
          ],
          [
           0.58513457
          ],
          [
           0.71059614
          ],
          [
           0.04048879
          ],
          [
           0.5680543
          ],
          [
           0.32175294
          ],
          [
           0.61185026
          ],
          [
           0.9260969
          ],
          [
           0.6183474
          ],
          [
           0.6676298
          ],
          [
           0.39773348
          ],
          [
           0.2908755
          ],
          [
           0.5943751
          ],
          [
           0.50825524
          ],
          [
           0.33857137
          ],
          [
           0.43230236
          ],
          [
           0.30222198
          ],
          [
           0.8761982
          ],
          [
           0.080204494
          ],
          [
           0.09233353
          ],
          [
           0.09365645
          ],
          [
           0.6084524
          ],
          [
           0.7326546
          ],
          [
           0.94415885
          ],
          [
           0.2674231
          ],
          [
           0.7311242
          ],
          [
           0.6613085
          ],
          [
           0.38776627
          ],
          [
           0.9625853
          ],
          [
           0.32206705
          ],
          [
           0.63408107
          ],
          [
           0.47534502
          ],
          [
           0.353559
          ],
          [
           0.8859363
          ],
          [
           0.8767981
          ],
          [
           0.22158106
          ],
          [
           0.39436245
          ],
          [
           0.80503565
          ],
          [
           0.45289847
          ],
          [
           0.59252053
          ],
          [
           0.7610264
          ],
          [
           0.24504903
          ],
          [
           0.37213936
          ],
          [
           0.68105483
          ],
          [
           0.74714315
          ],
          [
           0.92073953
          ],
          [
           0.09720795
          ],
          [
           0.699303
          ],
          [
           0.721647
          ],
          [
           0.5353561
          ],
          [
           0.7382938
          ],
          [
           0.70646757
          ],
          [
           0.6739506
          ],
          [
           0.7112123
          ],
          [
           0.30255872
          ],
          [
           0.080097854
          ],
          [
           0.70701087
          ],
          [
           0.51224864
          ],
          [
           0.6596275
          ],
          [
           0.6575597
          ],
          [
           0.10064561
          ],
          [
           0.9266536
          ],
          [
           0.89287937
          ],
          [
           0.8391575
          ],
          [
           0.89095974
          ],
          [
           0.55675447
          ],
          [
           0.96036196
          ],
          [
           0.6310379
          ],
          [
           0.029838065
          ],
          [
           0.27884334
          ],
          [
           0.9261577
          ],
          [
           0.55150425
          ],
          [
           0.48594236
          ],
          [
           0.4372347
          ],
          [
           0.25231802
          ],
          [
           0.515467
          ],
          [
           0.43725228
          ],
          [
           0.4937242
          ],
          [
           0.83324724
          ],
          [
           0.31752148
          ],
          [
           0.28623456
          ],
          [
           0.72683394
          ],
          [
           0.49566704
          ],
          [
           0.028645255
          ],
          [
           0.31967193
          ],
          [
           0.6743446
          ],
          [
           0.76603717
          ],
          [
           0.6545699
          ],
          [
           0.7565144
          ],
          [
           0.52825373
          ],
          [
           0.3897195
          ],
          [
           0.35508746
          ],
          [
           0.870152
          ],
          [
           0.7390833
          ],
          [
           0.30576184
          ],
          [
           0.4115877
          ],
          [
           0.06363309
          ],
          [
           0.7354094
          ],
          [
           0.6059167
          ],
          [
           0.5393956
          ],
          [
           0.5661835
          ],
          [
           0.6747952
          ],
          [
           0.070993364
          ],
          [
           0.1252641
          ],
          [
           0.27960148
          ],
          [
           0.9521744
          ],
          [
           0.23380676
          ],
          [
           0.43724743
          ],
          [
           0.9254231
          ],
          [
           0.43349862
          ],
          [
           0.525179
          ],
          [
           0.08843553
          ],
          [
           0.44767764
          ],
          [
           0.6470006
          ],
          [
           0.9036033
          ],
          [
           0.26579073
          ],
          [
           0.66419697
          ],
          [
           0.49812067
          ],
          [
           0.49018896
          ],
          [
           0.7470842
          ],
          [
           0.90678364
          ],
          [
           0.6787709
          ],
          [
           0.34859985
          ],
          [
           0.29483968
          ],
          [
           0.7056918
          ],
          [
           0.21191794
          ],
          [
           0.06320112
          ],
          [
           0.27669954
          ],
          [
           0.6724594
          ],
          [
           0.80820596
          ],
          [
           0.29653838
          ],
          [
           0.16012686
          ],
          [
           0.43938503
          ],
          [
           0.5559514
          ],
          [
           0.38624012
          ],
          [
           0.15868962
          ],
          [
           0.21449986
          ],
          [
           0.29957944
          ],
          [
           0.56916165
          ],
          [
           0.4886148
          ],
          [
           0.878295
          ],
          [
           0.6493809
          ],
          [
           0.46571335
          ],
          [
           0.16813774
          ],
          [
           0.87529546
          ],
          [
           0.84113234
          ],
          [
           0.33292082
          ],
          [
           0.5130479
          ],
          [
           0.30505508
          ],
          [
           0.812627
          ],
          [
           0.25096706
          ],
          [
           0.50243556
          ],
          [
           0.45799074
          ]
         ],
         "hovertemplate": "0=%{x}<br>1=%{y}<br>2=%{z}<br>Feature=%{customdata[0]}<br>Anomaly=%{marker.color}<extra></extra>",
         "legendgroup": "",
         "marker": {
          "color": [
           0,
           0,
           1,
           1,
           0,
           0,
           0,
           1,
           1,
           0,
           0,
           1,
           0,
           0,
           1,
           0,
           1,
           0,
           0,
           0,
           1,
           0,
           0,
           1,
           1,
           1,
           0,
           0,
           1,
           1,
           0,
           0,
           1,
           1,
           1,
           0,
           0,
           0,
           0,
           0,
           1,
           0,
           0,
           1,
           0,
           0,
           0,
           0,
           0,
           0,
           0,
           1,
           0,
           1,
           0,
           1,
           0,
           0,
           0,
           1,
           0,
           0,
           1,
           1,
           0,
           0,
           1,
           0,
           0,
           1,
           0,
           0,
           0,
           0,
           0,
           0,
           0,
           0,
           0,
           0,
           0,
           0,
           0,
           0,
           0,
           0,
           0,
           0,
           0,
           0,
           0,
           0,
           0,
           0,
           0,
           0,
           0,
           0,
           0,
           0,
           0,
           0,
           0,
           0,
           0,
           0,
           0,
           0,
           0,
           0,
           0,
           0,
           0,
           0,
           0,
           0,
           0,
           0,
           0,
           0,
           0,
           0,
           0,
           0,
           0,
           0,
           0,
           0,
           0,
           0,
           0,
           0,
           0,
           0,
           0,
           0,
           0,
           0,
           0,
           0,
           0,
           0,
           0,
           0,
           0,
           0,
           0,
           0,
           0,
           0,
           0,
           0,
           0,
           0,
           0,
           0,
           0,
           0,
           0,
           0,
           0,
           0,
           0,
           0,
           0,
           0,
           0,
           0,
           0,
           0,
           0,
           0,
           0,
           0,
           0,
           0,
           0,
           0,
           0,
           0,
           0,
           0,
           0,
           0,
           0,
           0,
           0,
           0,
           0,
           0,
           0,
           0,
           0,
           0,
           0,
           0,
           0,
           0,
           1,
           0,
           0,
           0,
           0,
           0,
           0,
           0,
           0,
           0,
           0,
           0,
           0,
           0,
           0,
           0,
           0,
           0,
           0,
           0,
           0,
           0,
           0,
           0,
           0,
           0,
           0,
           0,
           0,
           0,
           0,
           0,
           0,
           0,
           0,
           0,
           0,
           0,
           0,
           0,
           0,
           0,
           0,
           0,
           0,
           0,
           0,
           0,
           0,
           0,
           0,
           0,
           0,
           0,
           0,
           0,
           0,
           0,
           0,
           0,
           0,
           0,
           0,
           0,
           0,
           0,
           0,
           0,
           0,
           0,
           0,
           0,
           0,
           0,
           0,
           0,
           0,
           0,
           0,
           0,
           0,
           0,
           0,
           0,
           0,
           0,
           0,
           0,
           0,
           0,
           0,
           0,
           0,
           0,
           0,
           0,
           0,
           0,
           0,
           0,
           0,
           0,
           0,
           0,
           0,
           0,
           0,
           0,
           0,
           0,
           0,
           0,
           0,
           0,
           0,
           0,
           0,
           0,
           0,
           0,
           0,
           0,
           0,
           0,
           0,
           0,
           0,
           0,
           0,
           0,
           0,
           0,
           0,
           0,
           0,
           0,
           0,
           0,
           0,
           0,
           0,
           0,
           0,
           0,
           0,
           0,
           0,
           0,
           0,
           0,
           0,
           0,
           0,
           0,
           0,
           0,
           0,
           0,
           0,
           0,
           0,
           0,
           0,
           0,
           0,
           0,
           0,
           0,
           0,
           0,
           0,
           0,
           0,
           0,
           0,
           0,
           0,
           0,
           0,
           0,
           0,
           0,
           0,
           0,
           0,
           0,
           0,
           0,
           0,
           0,
           0,
           0,
           0,
           0,
           0,
           0,
           0,
           0,
           0,
           0,
           0,
           0,
           0,
           0,
           0,
           0,
           0,
           0,
           0,
           0,
           0,
           0,
           0,
           0,
           0,
           0,
           0,
           0,
           0,
           0,
           0,
           0,
           0,
           0,
           0,
           0,
           0,
           0,
           0,
           0,
           0,
           0,
           0,
           0,
           0,
           0,
           0,
           0,
           0,
           0,
           0,
           0,
           0,
           0,
           0,
           0,
           0,
           0,
           0,
           0,
           0,
           0,
           0,
           0,
           0,
           0,
           0,
           0,
           0,
           0,
           0,
           0,
           0,
           0,
           0,
           0,
           0,
           0,
           0,
           0,
           0,
           0,
           0,
           0,
           0,
           0,
           0,
           0,
           0,
           0,
           0,
           0,
           0,
           0,
           0,
           0,
           0,
           0,
           0,
           0,
           0,
           0,
           0,
           0,
           0,
           0,
           0,
           0,
           0,
           0,
           0,
           0,
           0,
           0,
           0,
           0,
           0,
           0,
           0,
           0,
           0,
           0,
           0,
           0,
           0,
           0,
           0,
           0,
           0,
           0,
           0,
           0,
           0,
           0,
           0,
           0,
           0,
           0,
           0,
           0,
           0,
           0,
           0,
           0,
           0,
           0,
           0,
           0,
           0,
           0,
           0,
           0,
           0,
           0,
           0,
           0,
           0,
           1,
           0,
           0,
           0,
           0,
           0,
           0,
           0,
           0,
           0,
           0,
           0,
           0,
           0,
           0,
           0,
           0,
           0,
           0,
           0,
           0,
           0,
           0,
           0,
           0,
           0,
           0,
           0,
           0,
           0,
           0,
           0,
           1,
           0,
           0,
           0,
           0,
           0,
           0,
           0,
           0,
           0,
           0,
           0,
           0,
           0,
           0,
           0,
           0,
           0,
           0,
           0,
           0,
           0,
           0,
           0,
           0,
           1,
           0,
           0,
           0,
           0,
           0,
           0,
           0,
           0,
           0,
           0,
           0,
           0,
           0,
           0,
           0,
           0,
           0,
           0,
           0,
           0,
           0,
           0,
           0,
           0,
           0,
           0,
           0,
           0,
           0,
           0,
           0,
           0,
           0,
           0,
           0,
           0,
           0,
           0,
           0,
           0,
           0,
           0,
           0,
           0,
           0,
           0,
           0,
           0,
           0,
           0,
           0,
           0,
           0,
           0,
           0,
           0,
           0,
           0,
           0,
           0,
           0,
           0,
           0,
           0,
           0,
           0,
           0,
           0,
           0,
           0,
           0,
           0,
           0,
           0,
           0,
           0,
           0,
           1,
           0,
           0,
           0,
           0,
           0,
           0,
           0,
           0,
           0,
           0,
           0,
           0,
           0,
           0,
           0,
           0,
           0,
           0,
           0,
           1,
           1,
           0,
           1,
           1,
           0,
           0,
           1,
           1,
           0,
           0,
           0,
           0,
           1,
           0,
           0,
           1,
           1,
           1,
           0,
           1,
           0,
           1,
           1,
           1,
           0,
           0,
           0,
           1,
           0,
           0,
           0,
           0,
           0,
           0,
           0,
           0,
           0,
           0,
           0,
           0,
           0,
           0,
           1,
           0,
           0,
           0,
           0,
           0,
           0,
           0,
           0,
           0,
           0,
           0,
           0,
           0,
           0,
           0,
           0,
           0,
           0,
           0,
           0,
           0,
           0,
           0,
           0,
           0,
           0,
           0,
           0,
           0,
           0,
           0,
           0,
           0,
           0,
           0,
           0,
           1,
           0,
           0,
           0,
           0,
           0,
           0,
           0,
           0,
           0,
           0,
           0,
           0,
           0,
           0,
           0,
           0,
           0,
           0,
           0,
           0,
           0,
           0,
           0,
           0,
           0,
           0,
           0,
           0,
           0,
           0,
           0,
           0,
           0,
           0,
           0,
           0,
           0,
           0,
           0,
           0,
           0,
           0,
           0,
           0,
           0,
           0,
           0,
           0,
           0,
           0,
           0,
           0,
           0,
           0,
           0,
           0,
           0,
           0,
           0,
           0,
           0,
           0,
           0,
           0,
           0,
           0,
           0,
           0,
           0,
           0,
           0,
           0,
           0,
           0,
           0,
           0,
           0,
           0,
           0,
           0,
           0,
           0,
           1,
           0,
           0,
           0,
           0,
           0,
           0,
           0,
           0,
           0,
           0,
           0,
           0,
           0,
           0,
           0,
           0,
           0,
           0,
           0,
           0,
           0,
           0,
           0,
           0,
           0,
           0,
           0,
           0,
           0,
           0,
           0,
           0,
           0,
           0,
           0,
           0,
           0,
           0,
           0,
           0,
           0,
           0,
           0,
           0,
           0,
           0,
           0,
           0,
           0,
           0,
           0,
           0,
           0,
           0,
           0,
           0,
           0,
           1,
           0,
           0,
           0,
           0,
           0,
           0,
           0,
           0,
           0,
           0,
           0,
           0,
           0,
           0,
           0,
           0,
           0,
           0,
           0,
           0,
           0,
           0,
           0,
           0,
           0,
           0,
           0,
           0,
           0,
           0,
           0,
           0,
           0,
           0,
           0,
           0,
           0,
           0,
           0,
           0,
           0,
           0,
           0,
           0,
           0,
           0,
           0,
           0,
           0,
           0,
           0,
           0,
           0,
           0,
           0,
           0,
           0,
           0,
           0,
           0,
           0,
           0,
           0,
           0,
           0,
           0,
           0,
           0,
           0,
           0,
           0,
           0,
           0,
           0,
           0,
           0,
           0,
           0
          ],
          "coloraxis": "coloraxis",
          "opacity": 0.7,
          "symbol": "circle"
         },
         "mode": "markers",
         "name": "",
         "scene": "scene",
         "showlegend": false,
         "type": "scatter3d",
         "x": [
          1.2776442,
          1.3950518,
          -2.2200153,
          2.8076391,
          2.3837411,
          1.6296673,
          -4.706368,
          2.646379,
          -0.8313108,
          -2.1236062,
          -0.3042869,
          7.461717,
          -1.2100146,
          5.6272683,
          1.818129,
          -1.5867878,
          -1.1995753,
          2.4636679,
          -3.3980982,
          6.5963573,
          2.103351,
          0.79575074,
          4.9006133,
          -1.4239291,
          -0.81575435,
          2.8239846,
          6.6103234,
          2.9506667,
          4.3598294,
          3.5150785,
          2.7064402,
          -1.5351028,
          3.2817361,
          3.1757567,
          -3.4253616,
          2.6377642,
          1.8603481,
          3.257523,
          0.5152603,
          1.7684855,
          -5.219664,
          2.9175313,
          -1.4999194,
          -1.7275742,
          2.7967222,
          -1.964572,
          3.5667005,
          -0.9644774,
          7.201562,
          0.12752645,
          1.211391,
          -4.3470125,
          -2.1307166,
          -1.8848511,
          -0.4443836,
          -6.902217,
          -5.8733544,
          -2.9230864,
          3.3436213,
          -1.9955198,
          -1.7747979,
          5.3689995,
          0.9427092,
          2.7817786,
          -0.59581435,
          4.4617367,
          -4.279489,
          2.0790663,
          6.1573987,
          -2.6205456,
          5.586935,
          3.9973211,
          -2.2330968,
          0.6997357,
          3.4717298,
          2.144559,
          0.71289074,
          1.2776967,
          -0.09142772,
          -1.8991177,
          -1.0917376,
          -0.7823906,
          4.435729,
          4.3236656,
          -1.4533582,
          3.1290085,
          0.16511293,
          0.5631242,
          -4.435362,
          -2.231284,
          1.730909,
          -0.22562385,
          -1.653588,
          -5.042041,
          -4.944959,
          2.151087,
          -0.825571,
          3.6451848,
          2.4710155,
          1.8679996,
          -1.3563831,
          -1.2905703,
          3.2572,
          -2.4613466,
          2.251117,
          -0.69242746,
          1.6212873,
          5.5071793,
          2.778796,
          2.130434,
          -3.5616753,
          -1.9067625,
          -2.634898,
          2.0767272,
          0.20309713,
          -2.5998719,
          -5.1699505,
          -5.3185244,
          1.4583442,
          3.1479285,
          -2.7298136,
          -2.9915872,
          5.1847577,
          -1.2321132,
          6.048481,
          2.1054747,
          -3.990396,
          2.612392,
          -0.54046535,
          3.2380767,
          -4.972267,
          -1.397848,
          2.3428397,
          -3.2157493,
          -1.7411788,
          1.0409762,
          3.4039922,
          3.74401,
          0.7105606,
          0.7845835,
          0.8030669,
          -1.1927006,
          -3.2040007,
          3.41779,
          2.3214943,
          -2.0420687,
          0.09977882,
          -2.5187454,
          0.6025013,
          1.2308397,
          -3.7123718,
          0.47415867,
          -3.0423565,
          -4.1089783,
          0.53268003,
          0.24495718,
          -0.2503508,
          -2.5353007,
          1.0292015,
          -0.88884544,
          -5.895554,
          -6.417372,
          0.53079545,
          -1.8937259,
          0.69175786,
          -1.5231216,
          1.5441923,
          5.2180133,
          0.28656864,
          5.8396983,
          0.7185238,
          4.091157,
          -1.7467068,
          0.9261049,
          5.8062906,
          0.14461282,
          -1.2224419,
          0.37465128,
          0.0047302353,
          4.212026,
          4.6665616,
          -2.5019696,
          -2.200029,
          6.291747,
          5.851166,
          -5.7221246,
          0.48739392,
          -4.99831,
          -1.3290374,
          0.017415296,
          -2.1520827,
          2.5481956,
          0.12242116,
          0.047462646,
          -1.3306717,
          -5.375579,
          4.9500575,
          6.704299,
          -2.1639645,
          6.031604,
          -2.8216639,
          1.3762021,
          -4.3663726,
          4.3697605,
          -0.9446574,
          -2.1727362,
          -4.0430107,
          -3.5652754,
          -2.3456652,
          -1.6976508,
          6.796683,
          -1.1848279,
          2.370506,
          -2.6425025,
          -3.052775,
          -2.6691828,
          -0.9100803,
          0.2590348,
          2.518728,
          0.82104576,
          -1.3865553,
          2.9376936,
          3.2532134,
          2.4828665,
          -1.3637571,
          -4.108946,
          -1.6156356,
          -2.569115,
          -2.4797595,
          -4.3848367,
          -4.0613894,
          -1.5722499,
          3.1508286,
          3.8895457,
          -0.23601678,
          3.173034,
          -0.53586906,
          -0.4167719,
          2.7502005,
          0.29604545,
          -3.7738242,
          6.008696,
          0.8169907,
          -0.09264472,
          2.6538,
          -1.1962867,
          0.37840998,
          -0.15288602,
          -1.9241015,
          4.4340005,
          -5.56067,
          3.0897374,
          3.8998144,
          -6.184024,
          -1.3691648,
          0.96954006,
          0.9852113,
          -2.3082385,
          -4.1043215,
          2.327744,
          1.573898,
          -5.2645526,
          2.2199688,
          4.640444,
          -4.101609,
          0.20404698,
          4.1071906,
          -2.5074887,
          2.5693495,
          8.018813,
          5.458241,
          -3.8258128,
          -0.22375277,
          1.3739973,
          -0.29175553,
          -5.8400083,
          1.0672861,
          2.4056895,
          4.606182,
          -1.172142,
          -1.8338896,
          1.5504385,
          -0.96731204,
          2.6019468,
          0.12852535,
          3.9960642,
          3.3831358,
          2.616412,
          -0.85202235,
          -1.7308918,
          -2.8537765,
          -1.4188823,
          1.4248853,
          3.4812455,
          4.1844225,
          -1.1200132,
          0.13282996,
          -2.4067593,
          2.679996,
          1.8445156,
          2.387264,
          -3.6554067,
          3.568244,
          3.083524,
          0.072134845,
          2.0679483,
          4.8492775,
          1.0554624,
          -4.244863,
          6.202744,
          5.518397,
          -3.9948492,
          -2.737406,
          0.820557,
          -3.7200534,
          -0.014166686,
          5.468349,
          -2.0738974,
          2.043735,
          -4.042825,
          2.919108,
          2.0192647,
          4.0461926,
          0.99821216,
          -4.1095676,
          1.4998223,
          4.985579,
          3.720577,
          2.0615387,
          0.15665902,
          -2.6345713,
          -0.5011599,
          -6.113945,
          -0.69040245,
          0.86076003,
          1.3355702,
          2.1168823,
          0.4633693,
          0.78893363,
          -1.252153,
          -0.20833133,
          -0.12078291,
          1.3696275,
          -4.886866,
          2.984146,
          3.174997,
          -3.5990884,
          -4.587479,
          1.9901946,
          -0.49749643,
          2.9754448,
          0.1531187,
          1.9572241,
          -3.6260643,
          3.4249406,
          -0.11286712,
          -2.7462811,
          1.8247597,
          3.5140138,
          1.5558683,
          2.3052082,
          3.747541,
          0.26900563,
          -3.2862203,
          2.9988663,
          0.25001448,
          2.1701963,
          -4.7286654,
          -2.1518648,
          5.9486227,
          0.5254807,
          -3.8238769,
          1.3194879,
          0.28000176,
          4.0496855,
          -0.35066488,
          3.7128994,
          0.8963252,
          -4.308056,
          0.018889263,
          0.300336,
          0.16557136,
          2.0443118,
          -0.43030366,
          2.6616623,
          -1.044811,
          1.2933947,
          1.3190362,
          5.8459787,
          -2.3997352,
          2.8197625,
          -0.7382841,
          1.3755425,
          -0.11369012,
          0.94872075,
          -3.687711,
          -0.2613138,
          3.0523138,
          1.5913842,
          0.4017821,
          3.3959482,
          3.7609837,
          -3.87063,
          -2.0429215,
          4.841541,
          -3.2947109,
          -0.95081276,
          -0.3258052,
          -1.9622731,
          6.791864,
          1.9736993,
          -0.7802954,
          3.2056224,
          1.092459,
          -1.970466,
          -1.4718219,
          1.4553922,
          -0.56311435,
          3.4994378,
          3.0016167,
          -2.4976969,
          3.0277207,
          3.121309,
          1.7907125,
          0.40558365,
          -1.467418,
          -3.8434012,
          0.20409909,
          -0.90997916,
          0.8268942,
          -2.220061,
          -5.8387914,
          4.464405,
          2.2237327,
          4.956892,
          4.569258,
          2.5394661,
          2.1529999,
          2.7424326,
          -1.395862,
          -0.6962518,
          -0.6229876,
          -0.53100973,
          1.573824,
          -2.9721773,
          -1.7043833,
          4.2007895,
          -4.999991,
          3.4249718,
          -1.8346959,
          3.3736107,
          3.0380278,
          -1.2093322,
          1.951565,
          -1.8071578,
          -4.23674,
          5.794259,
          2.769008,
          0.42502886,
          -0.21334524,
          3.1067636,
          -0.63122034,
          -0.88497293,
          0.10337542,
          0.3361973,
          1.5833545,
          2.569477,
          4.6195107,
          -1.6024039,
          0.78882045,
          -2.9232852,
          1.1540123,
          -0.5506239,
          0.99074584,
          0.40143213,
          -1.6340779,
          -4.7187233,
          -0.18974103,
          0.036121536,
          0.6880674,
          -3.559713,
          4.1944933,
          0.7439012,
          2.8244994,
          -5.506027,
          2.2631328,
          4.8289175,
          -1.567077,
          0.7331516,
          0.8028611,
          -0.52474153,
          -1.4557917,
          -2.8592823,
          3.766988,
          0.74885386,
          0.34609506,
          6.6449747,
          -1.5480914,
          -4.139771,
          -2.9050975,
          0.7561389,
          2.5948524,
          1.2015588,
          -4.020151,
          -0.7401175,
          1.1085149,
          2.0030472,
          -4.8511186,
          -2.4258502,
          -3.168252,
          1.5266055,
          -3.1152763,
          5.7986007,
          -0.9081817,
          -1.3049585,
          -5.074414,
          -5.521975,
          1.2993726,
          3.2807803,
          5.713382,
          -3.322738,
          4.5031104,
          -2.6871765,
          2.1765978,
          2.2818859,
          -4.636125,
          -1.5406513,
          -3.5389068,
          5.490766,
          -1.1287323,
          3.408645,
          1.8334216,
          -0.34795922,
          0.6157641,
          -2.1411278,
          5.119236,
          -2.1263418,
          3.7803218,
          -0.27444783,
          7.7165046,
          1.5367315,
          -0.7032961,
          2.2688968,
          0.28205705,
          -4.200506,
          1.031294,
          -1.9008244,
          1.0580215,
          0.6393253,
          -1.2681948,
          -2.7830837,
          2.9769158,
          0.73046565,
          1.1555707,
          -5.5167847,
          1.6720245,
          -1.2385383,
          3.3158557,
          4.490911,
          1.1512452,
          1.6142129,
          2.8354356,
          -5.7787514,
          -1.2251756,
          3.2102096,
          -2.872041,
          -0.40976417,
          2.3203628,
          -0.4312419,
          -2.4099681,
          0.12705217,
          -2.0369737,
          3.2538853,
          -0.33206284,
          -0.051329862,
          5.892789,
          -0.52949744,
          0.008813995,
          1.9947194,
          -2.881129,
          -1.8769785,
          -1.2914369,
          0.1789746,
          -1.5289967,
          -4.234657,
          -4.202194,
          -0.48117828,
          0.93068856,
          -2.350678,
          2.009281,
          3.7436504,
          -4.2217393,
          -0.2412354,
          4.0404215,
          -0.20198908,
          -3.349141,
          3.3895764,
          2.605163,
          -0.6254831,
          1.7202252,
          2.0548618,
          -2.3103945,
          -3.8581572,
          -4.9992256,
          -1.667791,
          0.4567606,
          3.5093253,
          0.6321927,
          3.3520024,
          1.8977611,
          -2.8798914,
          -2.1169581,
          -3.5723517,
          -0.23899847,
          -0.8275169,
          -5.331833,
          -3.6479242,
          -5.162246,
          5.44727,
          -0.8723413,
          0.38751277,
          -2.4346008,
          -5.0110717,
          2.789676,
          1.5416944,
          3.83118,
          -5.4602995,
          0.010509389,
          -0.8640996,
          -0.12609316,
          -5.196289,
          6.0013523,
          2.8830454,
          4.4742126,
          -2.1771472,
          -0.20321356,
          -4.9410152,
          0.24360164,
          -2.0291066,
          -0.7246813,
          -1.0266204,
          -1.9528183,
          -5.078651,
          -0.6623446,
          -0.12457059,
          0.53270143,
          -0.248681,
          2.2376006,
          5.035916,
          0.8461753,
          -1.5619154,
          -0.22062974,
          -0.13355981,
          2.1424928,
          -0.008258139,
          0.5847121,
          2.91079,
          2.425389,
          0.33729362,
          1.9719748,
          4.688246,
          -2.7097516,
          0.15338784,
          1.1325867,
          0.10184536,
          -0.7748201,
          3.2401648,
          -3.5036764,
          6.8334074,
          -0.53229576,
          0.73257625,
          -0.27421013,
          -5.7025566,
          0.86887825,
          -1.3768609,
          -2.9314153,
          -0.98221105,
          -2.7326698,
          1.514784,
          -3.1232562,
          0.4283607,
          -1.308111,
          -0.3143508,
          -1.7740146,
          -4.1696014,
          -0.83777905,
          -2.754601,
          -4.832758,
          -0.475791,
          5.191074,
          -1.3853692,
          5.0041246,
          3.2045057,
          5.3878913,
          -0.74178374,
          -0.7349452,
          1.2467186,
          -4.0839734,
          1.2219743,
          -0.008692332,
          -5.10462,
          -5.553164,
          5.6001844,
          4.3598585,
          0.41822195,
          -6.156948,
          1.3104807,
          -2.895825,
          0.45839757,
          -1.7656509,
          3.3834965,
          -1.9952849,
          6.490584,
          2.9284656,
          5.5070863,
          -3.10463,
          1.8555607,
          -2.0817974,
          5.5482183,
          1.5934641,
          -3.3328497,
          -4.1436877,
          5.690208,
          -4.4003725,
          5.246174,
          3.3459918,
          -2.3311088,
          -0.924451,
          4.6852884,
          1.5874729,
          6.8034782,
          0.3771653,
          0.5040376,
          1.0483401,
          -1.144477,
          -1.605164,
          -2.5233765,
          -1.5626189,
          -1.3812902,
          -2.320056,
          1.9346088,
          3.2132885,
          2.9003184,
          -4.076779,
          1.5807884,
          -2.163914,
          -3.857974,
          -2.1798344,
          2.1792786,
          4.7193727,
          1.4918361,
          1.1582993,
          -5.445991,
          -1.4618875,
          -2.8395832,
          0.17354088,
          -2.014626,
          -5.0449443,
          -0.61711115,
          -4.6240225,
          5.9635468,
          -5.862725,
          -0.16258517,
          0.086074665,
          0.2507986,
          -4.5716214,
          -3.3607545,
          2.003641,
          -2.3395207,
          2.7320075,
          -1.6579814,
          0.8718102,
          1.1569148,
          -3.7400522,
          2.151214,
          -4.7445283,
          -0.75730217,
          -3.7426715,
          2.881498,
          2.9929893,
          -1.3384283,
          -4.227359,
          3.9016192,
          -3.421424,
          -0.7646159,
          5.4918847,
          -6.1021132,
          -1.2138278,
          -2.796194,
          -4.843327,
          5.2768373,
          -0.47071162,
          -3.770217,
          2.6565661,
          -2.492319,
          -1.6236625,
          -2.9036045,
          3.0065944,
          -0.9392557,
          -3.031648,
          -2.8177423,
          0.6692023,
          4.4415956,
          0.5916023,
          0.2852103,
          -1.2247875,
          -5.4507594,
          2.4388924,
          0.68332845,
          1.4392154,
          2.2213483,
          -3.9227502,
          2.8604002,
          -1.9100084,
          3.9860406,
          3.3268063,
          2.9234421,
          4.308322,
          -1.0473232,
          1.7926966,
          -1.2242343,
          1.1772021,
          -2.2088664,
          1.8534886,
          5.2754817,
          1.3780308,
          0.5422202,
          -2.14641,
          1.7223057,
          1.9368047,
          1.3360205,
          1.2257106,
          1.0858393,
          -2.9684129,
          2.8978457,
          -1.5379983,
          0.9046188,
          3.0144472,
          -2.220081,
          -4.8723936,
          -1.4195647,
          -2.3836644,
          2.2576628,
          4.2603965,
          -2.389897,
          -1.8745421,
          6.2459025,
          -1.433372,
          -3.598911,
          5.9190135,
          -1.061934,
          -3.7850022,
          -4.653168,
          -1.9744054,
          5.95484,
          6.644127,
          4.6628184,
          -0.14227794,
          -3.2007582,
          -3.9662173,
          -0.32215405,
          -2.7392118,
          1.8664438,
          -4.34639,
          5.412429,
          3.5543656,
          -5.5134816,
          -4.4315386,
          -1.358733,
          -1.4717404,
          -1.3459486,
          -2.9183102,
          0.22689983,
          -3.786614,
          -5.1945934,
          0.94264525,
          0.2719585,
          -4.034166,
          1.8980289,
          -0.6687259,
          -2.385674,
          0.024598673,
          -0.3507962,
          5.111262,
          3.0886111,
          -2.060818,
          2.8501675,
          1.8859069,
          1.539838,
          -2.0340095,
          2.994048,
          5.3696194,
          0.9636565,
          -1.5170302,
          6.834465,
          -0.6782299,
          1.6984855,
          -0.83186674,
          5.704482,
          3.648646,
          2.638872,
          -5.0065174,
          -3.996128,
          4.3590226,
          -3.9472518,
          4.651959,
          0.6546288,
          -1.9354295,
          0.9268796,
          2.7133353,
          3.3802257,
          1.2912573,
          -1.705999,
          3.5844805,
          -2.7962954,
          0.5324566,
          0.3498666,
          4.5243497,
          -0.6586494,
          -1.4517322,
          -2.8626866,
          2.6481488,
          2.7194252,
          -0.34441614,
          7.433391,
          -3.5625272,
          -3.1910427,
          0.7777101,
          2.9245534,
          6.8028054,
          1.3273126,
          -3.4377797,
          0.42532456,
          4.3961096,
          3.0403237,
          0.83539623,
          -0.32335016,
          -1.5443397,
          0.6526949,
          -1.2309026,
          -1.2801628,
          -4.9481235,
          -0.87866837,
          -1.5211118,
          1.1985687,
          -1.8080077,
          -0.7171764,
          1.7798947,
          4.0889497,
          -3.6389928,
          0.24581671,
          0.22840887,
          4.254682,
          3.82118,
          1.0025996,
          1.5144483,
          -0.9859724,
          1.2506242,
          -3.1779025,
          -4.325493,
          -2.6579401,
          2.7540486,
          0.22037771,
          0.7251453,
          2.0409796,
          -3.118433,
          3.0472221,
          1.3637029,
          -1.5276521,
          -5.5684752,
          1.8966199,
          -2.1969132,
          -0.48261353,
          0.7156765,
          -1.5377904,
          -1.3018306,
          0.59235334,
          0.57875115,
          0.3857019,
          -1.7237821,
          -2.3950238,
          -1.5195476,
          -3.1720092,
          -5.52502,
          0.5661415,
          3.8392892,
          -4.126337,
          -0.6252021,
          -2.0293775,
          1.9768099,
          0.05469258,
          2.8049998,
          0.19632791,
          -1.4952445,
          -0.99575424,
          1.079668,
          3.2544968,
          -2.7829432,
          1.2161247,
          0.70371014
         ],
         "y": [
          -1.2090617,
          4.4076147,
          -11.443384,
          -8.668653,
          -16.630785,
          -7.7198906,
          9.180052,
          -16.386538,
          -2.0744042,
          11.459276,
          -17.24743,
          -13.643687,
          -8.844589,
          -9.310882,
          -9.774994,
          -18.831707,
          -8.890719,
          12.373922,
          -10.206687,
          -12.5440035,
          -7.013606,
          -1.713608,
          -10.692585,
          -1.4180146,
          -9.942742,
          -3.8875825,
          -12.799306,
          2.9439902,
          -6.4236493,
          -14.264564,
          0.7518025,
          2.638737,
          -4.7924194,
          -9.553419,
          4.0954046,
          -1.5955353,
          -2.213693,
          3.0240703,
          -2.7029948,
          -9.710296,
          12.860492,
          -12.4443,
          9.36179,
          -8.956256,
          -11.849704,
          -19.51821,
          -11.357245,
          -1.5043554,
          -13.4062,
          13.443906,
          -14.890654,
          -8.538155,
          5.2360544,
          -19.357168,
          -7.904692,
          2.3398871,
          3.7942786,
          2.663378,
          -10.146533,
          -13.261872,
          -0.13537353,
          9.247212,
          -19.932327,
          -12.540185,
          13.320245,
          -11.32131,
          15.829567,
          11.498298,
          -13.434762,
          -12.034081,
          -17.563213,
          -12.594141,
          -1.3239957,
          -11.247752,
          7.521129,
          3.532776,
          -15.722678,
          -16.058922,
          10.049718,
          8.513253,
          8.374847,
          2.6556742,
          -14.47612,
          8.073669,
          6.881815,
          2.5646484,
          9.308021,
          11.016897,
          3.9398518,
          -0.0315998,
          1.4232053,
          -14.991117,
          7.7592998,
          10.42917,
          3.3810763,
          -19.150003,
          9.839414,
          4.428446,
          5.416205,
          -15.464486,
          -2.2373798,
          12.728805,
          4.285689,
          7.3009634,
          -20.398396,
          9.294086,
          8.429434,
          8.380964,
          7.8291335,
          -15.118063,
          1.7020335,
          -3.0682416,
          -15.220404,
          5.9850225,
          -15.371594,
          3.940174,
          7.3933034,
          10.657407,
          -9.548617,
          7.2920284,
          4.819206,
          3.1120095,
          6.6429734,
          11.898592,
          5.051829,
          4.9423933,
          2.4838831,
          -10.330524,
          6.6563444,
          5.264543,
          1.4958162,
          9.199019,
          -14.494089,
          6.156373,
          11.794113,
          3.2779202,
          -13.607115,
          -12.016288,
          4.356699,
          3.165026,
          -12.373297,
          0.10513807,
          6.8061433,
          -15.604669,
          7.9969454,
          9.222318,
          -14.681776,
          14.14552,
          4.1708794,
          5.3995447,
          0.655827,
          4.9350505,
          0.93955344,
          7.540089,
          -1.7547,
          9.877232,
          13.814828,
          11.519367,
          7.508415,
          -9.849542,
          7.197663,
          4.1115484,
          4.8697968,
          10.541437,
          -9.849655,
          11.382625,
          -11.911739,
          -15.139179,
          -12.4491415,
          6.601216,
          8.834887,
          3.2973857,
          -10.8662195,
          -13.285519,
          1.8959354,
          12.042547,
          -8.75634,
          -12.417107,
          3.643052,
          -11.391418,
          3.336163,
          -13.961142,
          3.6760435,
          -15.92234,
          -15.238562,
          8.625097,
          -13.156666,
          2.3459976,
          7.529925,
          4.406723,
          13.475821,
          -16.185102,
          -15.793414,
          -14.103392,
          9.565996,
          7.5322256,
          6.088973,
          7.685672,
          -3.3251882,
          4.2931037,
          1.1167349,
          4.1886725,
          4.008055,
          -15.336984,
          -12.91463,
          2.583779,
          9.305915,
          1.2566487,
          -13.716786,
          2.9327009,
          2.5024076,
          -14.838124,
          -15.819231,
          2.4751906,
          2.883716,
          4.382051,
          3.5503109,
          -17.119328,
          -18.660536,
          1.405181,
          -13.038173,
          7.5270452,
          -15.245977,
          9.146866,
          11.356147,
          8.06481,
          10.454725,
          8.859339,
          11.569198,
          -13.066972,
          7.95931,
          8.082726,
          -11.878243,
          -11.776917,
          6.8191447,
          7.840386,
          1.627525,
          4.576343,
          -10.568782,
          -11.277451,
          1.5945723,
          4.7679276,
          -11.033943,
          8.999028,
          -14.396827,
          12.02674,
          6.063365,
          7.9162803,
          10.472137,
          -11.891046,
          4.979194,
          2.5689754,
          -12.091486,
          4.1185446,
          8.93311,
          -0.6620971,
          0.80389756,
          10.8184805,
          -13.699586,
          7.389185,
          -11.515601,
          3.8855252,
          -15.05166,
          3.742951,
          5.542694,
          8.749285,
          -13.465311,
          8.100352,
          7.583361,
          7.0376554,
          7.91998,
          4.331532,
          2.7790382,
          -10.619486,
          -9.288171,
          7.609364,
          -17.954952,
          -16.330956,
          8.196536,
          7.4415536,
          10.596816,
          -10.700295,
          8.946379,
          1.9054315,
          -15.024112,
          7.095596,
          10.484406,
          7.1833243,
          10.493981,
          -3.46726,
          0.017642459,
          6.2761383,
          8.097187,
          7.960228,
          8.005775,
          -13.067909,
          -13.538149,
          9.319939,
          6.2869806,
          -0.258752,
          1.7622201,
          10.7150755,
          -16.438433,
          -14.270567,
          -12.439838,
          5.496809,
          5.9109945,
          4.931174,
          12.909681,
          -15.200155,
          -14.457169,
          14.033238,
          -13.861334,
          -11.120554,
          5.561842,
          -0.049917072,
          6.453147,
          7.7311482,
          6.572586,
          4.268343,
          2.565087,
          3.757592,
          -12.310338,
          3.6408966,
          6.4628468,
          0.16614065,
          -12.916982,
          -14.48823,
          -12.032875,
          -12.115688,
          8.227574,
          -17.563704,
          6.175985,
          9.605451,
          11.379227,
          -14.7011175,
          5.4443374,
          3.4715567,
          -13.281521,
          -16.116533,
          2.821108,
          9.838957,
          -9.504017,
          7.7931423,
          -15.57576,
          -13.115666,
          5.405799,
          11.706904,
          -10.411173,
          -17.926003,
          2.1726565,
          3.321999,
          6.7496185,
          4.5303993,
          10.474161,
          10.367103,
          5.247811,
          6.487637,
          -18.972166,
          -1.9571912,
          4.2083697,
          5.8999267,
          2.4293103,
          12.360549,
          -11.784824,
          5.1485076,
          -17.28482,
          10.0164175,
          11.119433,
          8.992088,
          10.78713,
          1.9002723,
          -16.245481,
          -12.342982,
          -12.2009115,
          11.830146,
          6.9414744,
          -12.075016,
          4.247201,
          -0.086672366,
          -11.451835,
          3.3912249,
          6.054171,
          11.070059,
          5.1800065,
          10.456401,
          7.8319354,
          6.631439,
          3.6112692,
          -2.1013963,
          11.409222,
          9.77122,
          2.327457,
          5.1542563,
          6.508665,
          4.348799,
          9.364688,
          -14.119879,
          -1.086704,
          7.0492706,
          6.9174066,
          10.721889,
          14.270806,
          2.7431598,
          -15.545663,
          7.8113146,
          -13.377318,
          2.909177,
          -9.735885,
          5.2075634,
          7.92638,
          1.1856952,
          -19.890306,
          5.744515,
          6.386575,
          8.732005,
          12.176355,
          6.170942,
          -14.256246,
          -13.460893,
          -2.2884111,
          7.3849225,
          7.812988,
          2.9515874,
          -13.177443,
          11.643803,
          8.35111,
          -12.455156,
          -1.5007428,
          -15.626272,
          3.4630408,
          8.516486,
          8.545182,
          -11.860532,
          -17.399431,
          4.377805,
          9.730742,
          -15.492335,
          8.460282,
          -13.463006,
          9.190756,
          9.507739,
          -14.137258,
          -17.875206,
          4.8438582,
          -9.632434,
          -16.894144,
          8.166098,
          -11.696547,
          -15.184729,
          11.003474,
          -14.237641,
          11.74183,
          5.6635494,
          -15.045193,
          2.856952,
          0.8974138,
          -13.014802,
          9.542902,
          10.795383,
          5.477434,
          -14.46509,
          9.033437,
          10.552998,
          0.21328585,
          1.648444,
          7.6461797,
          -17.509935,
          11.658837,
          -12.740208,
          5.8138,
          9.228416,
          9.3065195,
          4.624272,
          11.789751,
          10.087315,
          7.1078405,
          -11.263316,
          1.6952538,
          7.702296,
          11.734245,
          9.616681,
          -12.438006,
          -16.40932,
          7.801305,
          -16.980597,
          3.1422422,
          -1.5262997,
          2.433492,
          -11.8465805,
          6.5797677,
          -13.681106,
          -10.964417,
          -16.451149,
          -11.675329,
          -14.649404,
          5.9351068,
          -11.218052,
          7.0113163,
          -0.07019502,
          4.655892,
          2.4772341,
          -0.1244632,
          3.601972,
          -1.2990865,
          -11.761988,
          8.96578,
          10.5246105,
          -1.6885192,
          -13.665686,
          -16.650122,
          11.0931425,
          6.33488,
          -15.768837,
          9.906191,
          9.763628,
          6.317431,
          9.450677,
          2.0755196,
          6.062463,
          -2.7320364,
          -14.661768,
          -12.461782,
          -12.20149,
          -19.177906,
          7.216973,
          -1.0489215,
          10.779776,
          1.8864273,
          0.4925316,
          4.3583136,
          -16.387362,
          -10.519081,
          10.26053,
          -12.815934,
          -13.835001,
          3.9771383,
          -16.258593,
          1.1398531,
          7.1088543,
          2.0144694,
          -11.944312,
          7.881193,
          3.1977036,
          11.752533,
          -12.299249,
          8.996416,
          -12.048921,
          -14.194607,
          9.257986,
          8.787555,
          3.1595552,
          -15.181981,
          7.51556,
          7.46092,
          4.647847,
          -9.980483,
          6.015163,
          -13.783794,
          -0.80761343,
          -18.139997,
          -19.000462,
          8.036258,
          -15.224073,
          9.51742,
          10.138194,
          12.4219265,
          2.5516717,
          -16.112553,
          -14.692658,
          -0.8129241,
          -13.902568,
          -15.601823,
          -18.294716,
          2.5900717,
          -16.152037,
          6.7509212,
          10.651031,
          1.6821147,
          4.5800734,
          -2.2851508,
          5.452902,
          -12.39242,
          6.4210825,
          12.705965,
          9.547293,
          0.49945772,
          10.925494,
          10.583032,
          -17.128855,
          10.552117,
          10.764239,
          -0.2821913,
          -15.665055,
          0.47659913,
          6.3751307,
          -13.752442,
          -16.00072,
          -11.909609,
          -17.21045,
          -10.946793,
          1.8291246,
          -13.378882,
          8.913289,
          -12.685251,
          4.3421383,
          -15.059682,
          -18.460358,
          8.054621,
          2.3448522,
          -12.403135,
          0.5969263,
          -1.6480533,
          2.0122585,
          10.803866,
          9.031212,
          2.2912128,
          3.4510682,
          5.9408746,
          0.82908314,
          1.4529582,
          6.3079963,
          5.474628,
          1.9062102,
          -12.100891,
          -17.607271,
          7.6910276,
          -16.398752,
          3.4541283,
          10.614721,
          3.0958788,
          7.139568,
          8.509718,
          -14.50696,
          -0.37663147,
          1.0526272,
          2.365399,
          1.8141556,
          -15.019187,
          0.70045215,
          -12.6185465,
          2.9215314,
          7.466977,
          0.32667923,
          -17.28857,
          5.7485175,
          -12.306505,
          4.703587,
          -16.792173,
          2.7312822,
          10.385999,
          12.711094,
          3.044423,
          -12.440863,
          12.635623,
          3.4225218,
          -15.165128,
          2.218538,
          5.649327,
          -15.417732,
          -16.859213,
          5.859849,
          0.23030777,
          -0.35324195,
          -12.184775,
          1.7577811,
          -10.9747925,
          5.7271895,
          7.9434085,
          13.213471,
          2.487277,
          9.880525,
          6.465018,
          3.5575385,
          -9.7668295,
          9.553998,
          2.5248811,
          -13.648117,
          -12.480344,
          6.3754096,
          -11.901131,
          10.127509,
          3.4739182,
          -10.715352,
          8.745771,
          12.991448,
          8.92268,
          12.189655,
          -15.754575,
          -15.659742,
          -8.347968,
          -13.612415,
          -19.317352,
          3.205559,
          -15.493639,
          -9.495573,
          -0.64118284,
          7.78447,
          8.34701,
          -12.741452,
          2.3332696,
          8.846819,
          -9.345584,
          -6.397391,
          7.1971264,
          3.008952,
          -15.535084,
          -16.407452,
          0.76701766,
          -9.749923,
          -10.034977,
          11.969527,
          7.3948307,
          -4.0742188,
          7.1630454,
          -9.7318535,
          -7.625323,
          -19.776905,
          7.1658797,
          8.006022,
          -10.306483,
          6.97751,
          2.2823036,
          -8.453327,
          -0.3330802,
          -4.865624,
          -14.521578,
          -8.91118,
          -11.1071415,
          -9.1172285,
          2.7715542,
          -16.635843,
          3.06927,
          4.4820256,
          0.52737117,
          -15.51081,
          3.045868,
          7.8117943,
          9.466539,
          -13.311067,
          4.8912463,
          2.5018702,
          2.4873414,
          -11.806327,
          -1.2558945,
          9.131374,
          5.827892,
          -14.114015,
          -12.8598385,
          -17.454178,
          4.3301196,
          -15.604936,
          3.6367753,
          9.551353,
          11.118998,
          -12.877442,
          8.356039,
          4.006784,
          -16.15741,
          10.548429,
          -16.02656,
          6.3783083,
          9.878602,
          12.841004,
          -0.34605777,
          9.455965,
          7.864796,
          -16.529205,
          7.4876237,
          -16.970474,
          8.134659,
          1.7150697,
          0.64976025,
          7.8636007,
          0.5193338,
          11.172121,
          3.4768105,
          2.295477,
          8.343766,
          0.23804207,
          4.4852457,
          8.48516,
          3.2149904,
          1.0062662,
          8.361997,
          -16.974466,
          5.2554965,
          -10.328167,
          10.173531,
          7.5250363,
          -15.75309,
          5.4980226,
          -13.440017,
          5.715247,
          9.281854,
          2.6511157,
          10.23692,
          -12.080794,
          5.3239,
          14.650727,
          4.9898663,
          3.6822937,
          1.9552245,
          4.209818,
          -11.989533,
          12.150554,
          9.439037,
          4.268975,
          -13.0823145,
          10.743367,
          -14.871425,
          -10.803247,
          6.5429664,
          -2.800821,
          2.8639243,
          -11.692731,
          5.028849,
          -16.67575,
          -8.785629,
          -12.130078,
          -15.359685,
          -10.799278,
          10.038999,
          2.5974007,
          6.3201942,
          9.624676,
          -13.190722,
          8.396543,
          2.398223,
          -16.77918,
          4.6571355,
          -0.49786884,
          -18.854715,
          -11.019211,
          -12.953959,
          -11.796699,
          -17.550808,
          -15.85716,
          -14.819766,
          8.210891,
          4.8214984,
          7.0345125,
          -11.817219,
          8.676805,
          8.898502,
          -11.345954,
          4.4572167,
          5.3914666,
          1.693324,
          5.250472,
          -10.001063,
          -1.5067248,
          7.8701243,
          4.719035,
          2.8250897,
          6.6469007,
          1.4274249,
          -12.647994,
          8.5526905,
          -13.106973,
          -1.9827821,
          7.6264095,
          -1.4237972,
          5.5747685,
          5.9564805,
          -12.15325,
          10.679105,
          7.7216873,
          -12.478186,
          0.0040107425,
          -15.951883,
          9.081318,
          9.338037,
          2.2626686,
          5.0371704,
          10.230771,
          6.3355374,
          4.70526,
          1.1255245,
          -12.334762,
          0.37678388,
          5.142399,
          9.9513855,
          -12.656903,
          -14.490363,
          -15.001658,
          0.3350229,
          7.289781,
          0.049131226,
          -10.489169,
          -15.179511,
          -14.686042,
          -12.402793,
          9.85161,
          -15.387509,
          2.7334292,
          3.6877813,
          11.969382,
          1.8001288,
          3.5018046,
          7.0945377,
          4.389637,
          10.614974,
          -17.312489,
          6.319853,
          -15.171495,
          -13.810897,
          2.0445855,
          -12.195068,
          9.149205,
          10.404468,
          10.456841,
          7.6817374,
          7.817872,
          -13.4007845,
          -16.729914,
          0.8307051,
          5.936843,
          -12.944632,
          -15.72941,
          -1.8471717,
          -14.57287,
          6.1289954,
          6.6851635,
          6.5173926,
          0.2517094,
          5.009736,
          0.98690146,
          6.1245747,
          6.9201546,
          -17.618906,
          7.844817,
          8.893469,
          -16.898209,
          -14.081485,
          -14.87105,
          10.038932,
          -12.665964,
          3.5981486,
          -15.593118,
          -13.262052,
          2.04233,
          9.725382,
          -11.053303,
          6.344449,
          -13.766012,
          6.838658,
          3.6905792,
          7.5273576,
          5.8326325,
          2.2272227,
          3.316455,
          -16.449919,
          -12.151984,
          6.005837,
          12.166891,
          -15.3990345,
          -13.709574,
          -10.787309,
          3.42585,
          10.770499,
          7.5495515,
          -11.826936,
          8.917286,
          1.9217967,
          11.258037,
          8.12939,
          7.3964715,
          -12.657259,
          6.4065213,
          -17.839746,
          4.937828,
          3.2587292,
          -16.397396,
          7.365069,
          9.608771,
          8.412706,
          -17.624163,
          2.9439826,
          -10.472667,
          -12.525839,
          -2.34179,
          9.301676,
          9.126289,
          -17.563416,
          11.188281,
          4.4550247,
          -13.593029,
          -14.125425,
          -17.3734,
          -9.976372,
          6.0322304,
          5.729851,
          -12.780947,
          -14.388986,
          1.777666,
          8.645919,
          9.619336,
          -11.813176,
          -17.128448
         ],
         "z": [
          -7.138369,
          10.72059,
          -8.418662,
          8.2792015,
          -8.9883375,
          5.343394,
          6.494067,
          8.508329,
          0.5816055,
          -8.886749,
          9.797785,
          -2.8815413,
          12.684539,
          -6.8610997,
          -1.4255729,
          2.6816616,
          12.662062,
          -2.6796422,
          -8.365085,
          -1.06105,
          4.988536,
          -12.342491,
          -6.6242156,
          0.52881414,
          2.7926223,
          -12.881217,
          -1.8203628,
          -1.713156,
          -1.9935912,
          3.2853067,
          -1.1479034,
          9.655339,
          -9.08612,
          0.46249178,
          -1.7833545,
          -12.714684,
          3.0346906,
          -2.0082061,
          -10.216263,
          5.503155,
          3.1290865,
          1.2070446,
          2.143293,
          0.8425568,
          -0.5674173,
          2.9050126,
          -0.21638228,
          0.5435096,
          -2.558492,
          4.866609,
          12.38733,
          -8.23812,
          -2.5851219,
          2.983141,
          6.1959805,
          9.5916605,
          11.4439745,
          5.659212,
          0.8356744,
          -4.1357384,
          4.3994803,
          0.8354065,
          -0.1489994,
          1.8227706,
          1.0407293,
          -0.4643835,
          4.156172,
          -2.769226,
          -2.6084971,
          5.9207273,
          1.370147,
          7.003462,
          -8.810305,
          10.743289,
          -13.002037,
          -10.765917,
          -4.0703483,
          2.2372572,
          -15.376945,
          -12.3968725,
          -12.006685,
          -12.4594345,
          -5.087689,
          0.9055751,
          7.0352983,
          7.600432,
          4.8291187,
          7.879045,
          1.5715657,
          -12.370664,
          -13.313046,
          9.709909,
          1.9829524,
          7.8000445,
          8.486573,
          0.081746444,
          -3.3409724,
          6.184259,
          -2.1198585,
          -3.8208358,
          -9.666675,
          5.0525923,
          5.7241693,
          -3.099457,
          1.1380714,
          -6.2626047,
          0.69340724,
          7.7762485,
          -12.126964,
          2.4793568,
          -12.654034,
          -11.557408,
          11.399345,
          -10.537361,
          -7.754756,
          -13.554357,
          10.449367,
          7.9279485,
          9.233305,
          -2.3912525,
          -13.745752,
          0.6325761,
          8.797056,
          2.269381,
          -0.01045864,
          8.568085,
          7.555066,
          7.6588316,
          7.2679296,
          8.142556,
          -0.57444805,
          -3.2520409,
          11.8902645,
          6.3269243,
          6.323899,
          -8.48885,
          -6.9083967,
          10.906093,
          7.5496364,
          2.8873842,
          10.7844095,
          -13.916218,
          -3.0705738,
          -6.270227,
          -3.3273294,
          -8.759206,
          7.5180383,
          4.8423214,
          8.788473,
          0.60367197,
          -13.045537,
          -12.679556,
          2.078066,
          -3.4149632,
          -11.104062,
          -3.1278052,
          2.8368032,
          3.3916326,
          -14.46091,
          8.667422,
          8.996235,
          -0.5269681,
          -16.23199,
          -14.96611,
          7.227415,
          4.87931,
          11.0678,
          2.0811572,
          -4.173972,
          -0.68014437,
          0.35669085,
          6.1445456,
          4.444525,
          -7.960893,
          1.6165091,
          6.7626963,
          5.341317,
          -7.672502,
          9.154802,
          9.374806,
          3.2126098,
          4.855571,
          10.812509,
          4.805804,
          2.9040558,
          10.00801,
          1.2046013,
          -0.94254637,
          -10.119219,
          -12.875433,
          4.8664994,
          -6.9972963,
          10.164672,
          -8.407953,
          11.424097,
          7.0969486,
          3.8007958,
          8.485045,
          -9.20063,
          0.6026169,
          0.37083906,
          1.8913336,
          7.1663413,
          -4.905592,
          -8.089076,
          9.716703,
          -12.741816,
          0.46008116,
          5.817672,
          6.760899,
          1.7614936,
          0.90813833,
          1.0650427,
          -13.879531,
          0.75670165,
          1.8461643,
          6.975988,
          2.6456227,
          1.4930878,
          2.7002914,
          -8.6830635,
          6.7704844,
          -4.760106,
          -12.921455,
          10.159466,
          -12.725109,
          0.8606249,
          -10.3283825,
          6.105997,
          1.3248435,
          7.429839,
          2.1205633,
          9.568937,
          10.406583,
          -3.1792102,
          6.340447,
          5.458066,
          -11.942764,
          7.4438167,
          -8.618281,
          0.8229215,
          6.8570786,
          -6.0471888,
          8.16672,
          6.1191635,
          9.078841,
          -9.84044,
          -16.967659,
          0.35331723,
          -6.696438,
          -3.8220956,
          2.3774283,
          6.6831155,
          -0.62996674,
          -6.8862157,
          -0.37003627,
          -9.188681,
          8.225813,
          0.9742174,
          -3.4224908,
          -6.998879,
          -1.6100887,
          -8.155754,
          2.649757,
          -4.3550806,
          8.199224,
          10.840916,
          10.780785,
          -12.179786,
          7.3136992,
          6.18804,
          9.964404,
          -10.708748,
          -7.0357676,
          7.492643,
          -0.03527022,
          0.1264638,
          -7.0193467,
          6.761924,
          -9.842999,
          1.487664,
          -6.671944,
          -9.056338,
          -7.9111476,
          -7.069307,
          8.948758,
          -0.43856278,
          6.935333,
          8.746053,
          -8.629757,
          -13.571826,
          5.947916,
          0.4798251,
          9.02065,
          1.1114436,
          11.321826,
          6.9161553,
          -15.450283,
          1.640895,
          -8.81009,
          8.004766,
          9.1262865,
          2.4254534,
          6.8013062,
          4.9671135,
          -15.053915,
          5.9651265,
          -14.92752,
          3.099027,
          3.2236924,
          2.9335463,
          4.9028587,
          3.8813689,
          -8.134745,
          2.9295564,
          -9.045163,
          -0.6067112,
          8.136226,
          -15.341374,
          8.00716,
          7.879807,
          -12.653027,
          8.150991,
          5.6244802,
          -14.939126,
          -11.60757,
          9.79879,
          10.244129,
          -2.7634268,
          6.1033,
          10.931872,
          1.224714,
          -0.6713439,
          -4.79511,
          7.5518026,
          -3.8940346,
          7.8076982,
          -8.114789,
          1.5200244,
          0.014837129,
          -8.723391,
          -10.329408,
          9.511003,
          -3.0355349,
          8.4949045,
          -3.7548869,
          6.389135,
          5.1154165,
          8.14272,
          1.8091327,
          1.3516095,
          -10.093556,
          -3.8581405,
          9.614681,
          -0.45569545,
          -10.303376,
          -0.96477246,
          6.277642,
          0.32924026,
          -13.043139,
          9.388851,
          6.010111,
          -3.0841985,
          2.3690603,
          8.458901,
          -16.32129,
          3.3047087,
          10.545382,
          8.243635,
          8.017775,
          2.4772706,
          0.8410776,
          -5.1377077,
          -1.8721268,
          8.131638,
          1.0245956,
          -14.3873,
          5.7179317,
          8.571223,
          -13.58775,
          8.813262,
          1.1384927,
          -12.492551,
          -13.013968,
          8.957339,
          -3.0492969,
          0.21252422,
          0.5953999,
          1.2657777,
          -11.532819,
          1.1509,
          -4.0073175,
          -11.948914,
          -12.186572,
          -2.941367,
          9.727402,
          -6.428563,
          6.019957,
          -10.7743025,
          -9.638555,
          -2.0994961,
          2.6748352,
          5.073721,
          10.390241,
          6.885181,
          10.312436,
          -5.248397,
          -0.09259437,
          9.645418,
          9.091421,
          9.488352,
          -12.725307,
          2.309839,
          -15.686428,
          5.5775194,
          2.1404245,
          6.8075466,
          8.590748,
          10.602571,
          -3.417073,
          -11.707989,
          3.239232,
          6.8385663,
          8.725776,
          -3.765404,
          7.442121,
          7.499121,
          5.6042595,
          -8.466456,
          -3.6697989,
          -13.343635,
          8.516143,
          0.59825945,
          5.8441567,
          0.59455496,
          2.7425299,
          -3.0591753,
          -4.690864,
          -12.739409,
          -7.6637406,
          -7.107055,
          -15.770954,
          -7.857566,
          -3.0014799,
          0.90573937,
          5.8771343,
          2.9649947,
          -0.9707136,
          -5.6872444,
          5.663074,
          1.8695602,
          -6.7151384,
          1.6819887,
          -15.571631,
          10.507005,
          7.6945863,
          -0.038722474,
          -6.8422503,
          -15.17158,
          -14.062867,
          9.46491,
          -6.338324,
          3.133173,
          -11.932734,
          0.7735361,
          -13.274097,
          -11.685442,
          4.4744883,
          5.261592,
          -4.826632,
          -13.592765,
          -3.9401724,
          4.2336216,
          -10.174957,
          0.8834435,
          10.988346,
          7.032862,
          4.33998,
          -6.9838085,
          8.949128,
          2.706131,
          1.5489864,
          4.27755,
          -2.6663547,
          10.005117,
          -3.6717942,
          5.3828897,
          -7.8915563,
          -8.484356,
          -9.522997,
          -16.288015,
          10.867823,
          2.7037618,
          1.7895101,
          -5.6917644,
          6.7812304,
          9.2826605,
          9.516577,
          -1.8073746,
          -11.505732,
          7.676787,
          -1.0046498,
          -12.55529,
          1.6512091,
          -7.911688,
          -8.878855,
          -14.868633,
          4.882497,
          -8.119055,
          4.2162123,
          -7.5896544,
          3.646102,
          5.290714,
          0.62789774,
          -14.826561,
          -1.6998649,
          -3.8652108,
          -15.079721,
          1.2757274,
          6.313811,
          -10.429165,
          -3.2982278,
          0.63963956,
          -2.274408,
          0.7984931,
          11.474453,
          -6.7861547,
          9.2222805,
          1.1409085,
          -9.425073,
          5.708935,
          2.5549364,
          10.397908,
          2.5074186,
          9.964918,
          3.137065,
          11.213521,
          -4.5850616,
          -4.756982,
          7.5943947,
          3.7887065,
          7.387726,
          9.527226,
          8.593372,
          5.591617,
          12.499946,
          -7.6351495,
          7.7641015,
          6.2204847,
          -8.547363,
          -1.9244119,
          -8.9561615,
          -5.883777,
          -14.387484,
          -0.42239246,
          4.329031,
          10.001834,
          -13.09887,
          10.484204,
          -0.33548176,
          -3.5584638,
          1.7564642,
          0.20999284,
          7.867386,
          -1.4065756,
          -12.853064,
          4.0143566,
          -0.59229046,
          6.4008985,
          8.858764,
          -7.888571,
          9.718801,
          7.358543,
          1.588648,
          10.259134,
          2.2310536,
          8.832038,
          8.561925,
          -8.269227,
          -14.779618,
          -11.0291605,
          -15.544697,
          -2.5021782,
          8.522653,
          3.027035,
          -12.568438,
          -9.516259,
          -0.19290254,
          10.8520975,
          3.1485457,
          3.4934986,
          0.7066654,
          -0.91387445,
          6.8358226,
          3.1238308,
          -3.2677195,
          7.7761497,
          1.3256469,
          4.79912,
          -3.3660164,
          10.372641,
          0.22688648,
          4.0452905,
          7.7242746,
          6.684145,
          7.719367,
          9.7004595,
          -0.027460104,
          -2.2656312,
          6.857898,
          1.34718,
          -12.483541,
          -10.13447,
          -9.437427,
          -10.9913025,
          0.42170152,
          2.98987,
          1.9216899,
          -0.5515068,
          -9.451088,
          -2.2464561,
          -2.3746161,
          -4.203569,
          0.58984244,
          -2.4738023,
          6.2942805,
          9.319725,
          -7.859403,
          0.7502331,
          -12.427721,
          -3.1689284,
          8.505424,
          -15.0159445,
          -4.1688433,
          -12.207805,
          -4.962609,
          -4.33529,
          -2.0108192,
          10.098498,
          4.1448565,
          -8.143415,
          6.9391804,
          7.4258785,
          -13.65916,
          0.006887071,
          -17.00759,
          -5.30284,
          -8.99016,
          -0.1476437,
          -11.242424,
          0.85773444,
          4.094037,
          1.7103893,
          11.257296,
          6.722016,
          6.083847,
          -4.345459,
          -8.382763,
          0.30554366,
          2.5849972,
          3.185327,
          -1.5614731,
          0.51668596,
          -8.23895,
          7.4635396,
          5.665921,
          10.878499,
          6.5531335,
          8.477191,
          5.909222,
          3.2048395,
          -9.698934,
          -3.7250195,
          -2.1018126,
          7.323464,
          -1.2790614,
          8.002996,
          11.404606,
          6.8739,
          6.202577,
          -3.9733076,
          2.2333844,
          -9.392247,
          4.6352754,
          -5.2649255,
          6.319302,
          -7.7209764,
          4.197979,
          9.738362,
          2.7354274,
          4.542878,
          3.155347,
          1.979269,
          4.525353,
          11.664161,
          10.25179,
          -12.944498,
          -12.6853485,
          -15.577736,
          0.72266924,
          2.6572344,
          -10.650349,
          -6.8591104,
          -1.9923705,
          -8.693355,
          9.327856,
          9.414999,
          -1.016369,
          -3.256822,
          1.0926304,
          0.15607086,
          2.835591,
          -0.7562099,
          -12.921802,
          -7.7320576,
          8.015135,
          5.182877,
          3.6399226,
          -7.698093,
          2.6399078,
          -8.369675,
          12.1747675,
          5.712464,
          -8.224424,
          2.913898,
          -9.038773,
          5.210174,
          10.765528,
          8.23882,
          5.114993,
          2.0366704,
          -4.479881,
          -2.2820044,
          -3.4542985,
          0.95730793,
          9.72108,
          -13.434304,
          -15.7740555,
          -15.193333,
          1.4136328,
          1.208535,
          -10.152053,
          -9.175657,
          2.1550152,
          -10.963348,
          -15.417235,
          -14.0860405,
          11.265777,
          -7.2210927,
          2.8639674,
          9.81539,
          -5.612859,
          8.779887,
          11.383958,
          1.3250545,
          -7.9475865,
          -12.25086,
          -1.4739854,
          0.6140204,
          4.8844857,
          4.137968,
          -3.8240178,
          0.36555755,
          8.264714,
          -8.775431,
          10.2345705,
          10.3558035,
          -6.269204,
          8.126134,
          -7.2564073,
          -12.044379,
          -6.5647745,
          -1.1418946,
          7.4776764,
          -10.993242,
          1.2068955,
          0.67445177,
          2.716777,
          -14.944219,
          -9.912016,
          -12.7503,
          10.06007,
          6.520412,
          -12.984291,
          -16.908592,
          3.2585888,
          -1.997938,
          7.730104,
          -14.016302,
          -12.194898,
          7.3551,
          -11.198974,
          1.6197048,
          -14.78156,
          11.412096,
          11.098964,
          -0.28492555,
          -6.0681853,
          -14.018929,
          4.3548393,
          0.7106117,
          0.21792397,
          1.1621363,
          10.139894,
          -8.796619,
          5.536001,
          -1.6338779,
          4.774854,
          11.060231,
          2.2444532,
          -4.8743305,
          2.932449,
          -14.891778,
          -11.699562,
          7.05214,
          -5.5157685,
          5.7582855,
          6.092459,
          4.7825108,
          8.299134,
          7.988192,
          -7.913835,
          -15.758005,
          6.1757107,
          4.5519323,
          -3.5511086,
          10.925111,
          -13.458558,
          -12.987764,
          1.7046229,
          4.215781,
          -12.9747305,
          -0.04321932,
          2.4533598,
          -7.414984,
          6.2064824,
          -4.5287423,
          -7.5181518,
          7.4631853,
          -1.2683214,
          -13.715104,
          -3.1254122,
          8.49047,
          6.558635,
          8.200985,
          9.6493435,
          7.854619,
          -14.130699,
          -13.077075,
          -0.1760608,
          9.85028,
          -10.159495,
          -2.4711254,
          -13.659306,
          1.1690881,
          6.4416156,
          2.9733753,
          12.407988,
          -13.639338,
          1.4892752,
          -10.666861,
          -12.568829,
          -0.13190824,
          -13.889477,
          5.9527006,
          10.6800375,
          8.551881,
          -12.363709,
          6.974455,
          -13.187901,
          6.132828,
          -1.7285138,
          4.943502,
          -13.6937,
          8.7205925,
          0.18705066,
          -2.852972,
          2.453201,
          -6.7051406,
          -6.7809668,
          -14.077066,
          -17.700277,
          -9.634405,
          7.0010786,
          6.196349,
          11.3861475,
          -10.180151,
          1.2578926,
          -8.675345,
          1.3826036,
          -5.170121,
          3.4900663,
          -3.3838847,
          -9.750955,
          3.9356065,
          -12.155414,
          -9.093553,
          7.180178,
          0.7878999,
          0.6126108,
          6.505703,
          -1.4348038,
          0.413289,
          5.903976,
          -15.167287,
          -5.3452992,
          7.0710087,
          9.055439,
          -2.9575222,
          -13.360953,
          4.50002,
          0.21152458,
          1.9647704,
          -13.375633,
          2.0526047,
          -7.8895655,
          -6.0690155,
          8.701747,
          11.885784,
          10.609104,
          -10.162182,
          11.849869,
          -2.2908096,
          -10.46907,
          7.079007,
          -13.722214,
          10.086673,
          -6.7716117,
          1.7958988,
          6.7307467,
          -7.4633193,
          -0.5676661,
          4.407249,
          3.994424,
          6.7885895,
          -3.6784468,
          -3.1465507,
          -6.7756944,
          9.237434,
          8.468755,
          -4.5793595,
          -0.760574,
          -15.144155,
          10.419334,
          -15.857976,
          0.35318,
          -16.278225,
          -13.414666,
          6.8077216,
          10.298583,
          -6.47948,
          0.18475243,
          6.276509,
          9.039503,
          0.45169646,
          6.822708,
          11.444516,
          2.2397888,
          2.331223,
          1.8235366,
          10.881107,
          2.9719918,
          -7.674168,
          -15.346626,
          -8.345879,
          4.144035,
          8.327059,
          -13.901325,
          1.2184949,
          -0.8039423,
          1.186285,
          -15.621269,
          -8.658105,
          -7.947297,
          -10.6301985,
          7.810186,
          8.550994,
          0.9468055,
          -2.0428693,
          7.6227727,
          1.143014,
          -9.860477,
          -15.337276,
          9.076271,
          1.7715515,
          2.7268515,
          2.0701106,
          6.630474,
          9.251925,
          -4.169868,
          8.017108,
          -14.6707,
          -17.34351,
          -6.6354346,
          1.38766,
          -7.4967957,
          -2.3118863,
          -13.657223,
          6.0630136,
          -4.399604
         ]
        }
       ],
       "layout": {
        "coloraxis": {
         "colorbar": {
          "title": {
           "text": "Anomaly"
          }
         },
         "colorscale": [
          [
           0,
           "#0d0887"
          ],
          [
           0.1111111111111111,
           "#46039f"
          ],
          [
           0.2222222222222222,
           "#7201a8"
          ],
          [
           0.3333333333333333,
           "#9c179e"
          ],
          [
           0.4444444444444444,
           "#bd3786"
          ],
          [
           0.5555555555555556,
           "#d8576b"
          ],
          [
           0.6666666666666666,
           "#ed7953"
          ],
          [
           0.7777777777777778,
           "#fb9f3a"
          ],
          [
           0.8888888888888888,
           "#fdca26"
          ],
          [
           1,
           "#f0f921"
          ]
         ]
        },
        "height": 800,
        "legend": {
         "tracegroupgap": 0
        },
        "scene": {
         "domain": {
          "x": [
           0,
           1
          ],
          "y": [
           0,
           1
          ]
         },
         "xaxis": {
          "title": {
           "text": "0"
          }
         },
         "yaxis": {
          "title": {
           "text": "1"
          }
         },
         "zaxis": {
          "title": {
           "text": "2"
          }
         }
        },
        "template": {
         "data": {
          "bar": [
           {
            "error_x": {
             "color": "#2a3f5f"
            },
            "error_y": {
             "color": "#2a3f5f"
            },
            "marker": {
             "line": {
              "color": "#E5ECF6",
              "width": 0.5
             },
             "pattern": {
              "fillmode": "overlay",
              "size": 10,
              "solidity": 0.2
             }
            },
            "type": "bar"
           }
          ],
          "barpolar": [
           {
            "marker": {
             "line": {
              "color": "#E5ECF6",
              "width": 0.5
             },
             "pattern": {
              "fillmode": "overlay",
              "size": 10,
              "solidity": 0.2
             }
            },
            "type": "barpolar"
           }
          ],
          "carpet": [
           {
            "aaxis": {
             "endlinecolor": "#2a3f5f",
             "gridcolor": "white",
             "linecolor": "white",
             "minorgridcolor": "white",
             "startlinecolor": "#2a3f5f"
            },
            "baxis": {
             "endlinecolor": "#2a3f5f",
             "gridcolor": "white",
             "linecolor": "white",
             "minorgridcolor": "white",
             "startlinecolor": "#2a3f5f"
            },
            "type": "carpet"
           }
          ],
          "choropleth": [
           {
            "colorbar": {
             "outlinewidth": 0,
             "ticks": ""
            },
            "type": "choropleth"
           }
          ],
          "contour": [
           {
            "colorbar": {
             "outlinewidth": 0,
             "ticks": ""
            },
            "colorscale": [
             [
              0,
              "#0d0887"
             ],
             [
              0.1111111111111111,
              "#46039f"
             ],
             [
              0.2222222222222222,
              "#7201a8"
             ],
             [
              0.3333333333333333,
              "#9c179e"
             ],
             [
              0.4444444444444444,
              "#bd3786"
             ],
             [
              0.5555555555555556,
              "#d8576b"
             ],
             [
              0.6666666666666666,
              "#ed7953"
             ],
             [
              0.7777777777777778,
              "#fb9f3a"
             ],
             [
              0.8888888888888888,
              "#fdca26"
             ],
             [
              1,
              "#f0f921"
             ]
            ],
            "type": "contour"
           }
          ],
          "contourcarpet": [
           {
            "colorbar": {
             "outlinewidth": 0,
             "ticks": ""
            },
            "type": "contourcarpet"
           }
          ],
          "heatmap": [
           {
            "colorbar": {
             "outlinewidth": 0,
             "ticks": ""
            },
            "colorscale": [
             [
              0,
              "#0d0887"
             ],
             [
              0.1111111111111111,
              "#46039f"
             ],
             [
              0.2222222222222222,
              "#7201a8"
             ],
             [
              0.3333333333333333,
              "#9c179e"
             ],
             [
              0.4444444444444444,
              "#bd3786"
             ],
             [
              0.5555555555555556,
              "#d8576b"
             ],
             [
              0.6666666666666666,
              "#ed7953"
             ],
             [
              0.7777777777777778,
              "#fb9f3a"
             ],
             [
              0.8888888888888888,
              "#fdca26"
             ],
             [
              1,
              "#f0f921"
             ]
            ],
            "type": "heatmap"
           }
          ],
          "heatmapgl": [
           {
            "colorbar": {
             "outlinewidth": 0,
             "ticks": ""
            },
            "colorscale": [
             [
              0,
              "#0d0887"
             ],
             [
              0.1111111111111111,
              "#46039f"
             ],
             [
              0.2222222222222222,
              "#7201a8"
             ],
             [
              0.3333333333333333,
              "#9c179e"
             ],
             [
              0.4444444444444444,
              "#bd3786"
             ],
             [
              0.5555555555555556,
              "#d8576b"
             ],
             [
              0.6666666666666666,
              "#ed7953"
             ],
             [
              0.7777777777777778,
              "#fb9f3a"
             ],
             [
              0.8888888888888888,
              "#fdca26"
             ],
             [
              1,
              "#f0f921"
             ]
            ],
            "type": "heatmapgl"
           }
          ],
          "histogram": [
           {
            "marker": {
             "pattern": {
              "fillmode": "overlay",
              "size": 10,
              "solidity": 0.2
             }
            },
            "type": "histogram"
           }
          ],
          "histogram2d": [
           {
            "colorbar": {
             "outlinewidth": 0,
             "ticks": ""
            },
            "colorscale": [
             [
              0,
              "#0d0887"
             ],
             [
              0.1111111111111111,
              "#46039f"
             ],
             [
              0.2222222222222222,
              "#7201a8"
             ],
             [
              0.3333333333333333,
              "#9c179e"
             ],
             [
              0.4444444444444444,
              "#bd3786"
             ],
             [
              0.5555555555555556,
              "#d8576b"
             ],
             [
              0.6666666666666666,
              "#ed7953"
             ],
             [
              0.7777777777777778,
              "#fb9f3a"
             ],
             [
              0.8888888888888888,
              "#fdca26"
             ],
             [
              1,
              "#f0f921"
             ]
            ],
            "type": "histogram2d"
           }
          ],
          "histogram2dcontour": [
           {
            "colorbar": {
             "outlinewidth": 0,
             "ticks": ""
            },
            "colorscale": [
             [
              0,
              "#0d0887"
             ],
             [
              0.1111111111111111,
              "#46039f"
             ],
             [
              0.2222222222222222,
              "#7201a8"
             ],
             [
              0.3333333333333333,
              "#9c179e"
             ],
             [
              0.4444444444444444,
              "#bd3786"
             ],
             [
              0.5555555555555556,
              "#d8576b"
             ],
             [
              0.6666666666666666,
              "#ed7953"
             ],
             [
              0.7777777777777778,
              "#fb9f3a"
             ],
             [
              0.8888888888888888,
              "#fdca26"
             ],
             [
              1,
              "#f0f921"
             ]
            ],
            "type": "histogram2dcontour"
           }
          ],
          "mesh3d": [
           {
            "colorbar": {
             "outlinewidth": 0,
             "ticks": ""
            },
            "type": "mesh3d"
           }
          ],
          "parcoords": [
           {
            "line": {
             "colorbar": {
              "outlinewidth": 0,
              "ticks": ""
             }
            },
            "type": "parcoords"
           }
          ],
          "pie": [
           {
            "automargin": true,
            "type": "pie"
           }
          ],
          "scatter": [
           {
            "fillpattern": {
             "fillmode": "overlay",
             "size": 10,
             "solidity": 0.2
            },
            "type": "scatter"
           }
          ],
          "scatter3d": [
           {
            "line": {
             "colorbar": {
              "outlinewidth": 0,
              "ticks": ""
             }
            },
            "marker": {
             "colorbar": {
              "outlinewidth": 0,
              "ticks": ""
             }
            },
            "type": "scatter3d"
           }
          ],
          "scattercarpet": [
           {
            "marker": {
             "colorbar": {
              "outlinewidth": 0,
              "ticks": ""
             }
            },
            "type": "scattercarpet"
           }
          ],
          "scattergeo": [
           {
            "marker": {
             "colorbar": {
              "outlinewidth": 0,
              "ticks": ""
             }
            },
            "type": "scattergeo"
           }
          ],
          "scattergl": [
           {
            "marker": {
             "colorbar": {
              "outlinewidth": 0,
              "ticks": ""
             }
            },
            "type": "scattergl"
           }
          ],
          "scattermapbox": [
           {
            "marker": {
             "colorbar": {
              "outlinewidth": 0,
              "ticks": ""
             }
            },
            "type": "scattermapbox"
           }
          ],
          "scatterpolar": [
           {
            "marker": {
             "colorbar": {
              "outlinewidth": 0,
              "ticks": ""
             }
            },
            "type": "scatterpolar"
           }
          ],
          "scatterpolargl": [
           {
            "marker": {
             "colorbar": {
              "outlinewidth": 0,
              "ticks": ""
             }
            },
            "type": "scatterpolargl"
           }
          ],
          "scatterternary": [
           {
            "marker": {
             "colorbar": {
              "outlinewidth": 0,
              "ticks": ""
             }
            },
            "type": "scatterternary"
           }
          ],
          "surface": [
           {
            "colorbar": {
             "outlinewidth": 0,
             "ticks": ""
            },
            "colorscale": [
             [
              0,
              "#0d0887"
             ],
             [
              0.1111111111111111,
              "#46039f"
             ],
             [
              0.2222222222222222,
              "#7201a8"
             ],
             [
              0.3333333333333333,
              "#9c179e"
             ],
             [
              0.4444444444444444,
              "#bd3786"
             ],
             [
              0.5555555555555556,
              "#d8576b"
             ],
             [
              0.6666666666666666,
              "#ed7953"
             ],
             [
              0.7777777777777778,
              "#fb9f3a"
             ],
             [
              0.8888888888888888,
              "#fdca26"
             ],
             [
              1,
              "#f0f921"
             ]
            ],
            "type": "surface"
           }
          ],
          "table": [
           {
            "cells": {
             "fill": {
              "color": "#EBF0F8"
             },
             "line": {
              "color": "white"
             }
            },
            "header": {
             "fill": {
              "color": "#C8D4E3"
             },
             "line": {
              "color": "white"
             }
            },
            "type": "table"
           }
          ]
         },
         "layout": {
          "annotationdefaults": {
           "arrowcolor": "#2a3f5f",
           "arrowhead": 0,
           "arrowwidth": 1
          },
          "autotypenumbers": "strict",
          "coloraxis": {
           "colorbar": {
            "outlinewidth": 0,
            "ticks": ""
           }
          },
          "colorscale": {
           "diverging": [
            [
             0,
             "#8e0152"
            ],
            [
             0.1,
             "#c51b7d"
            ],
            [
             0.2,
             "#de77ae"
            ],
            [
             0.3,
             "#f1b6da"
            ],
            [
             0.4,
             "#fde0ef"
            ],
            [
             0.5,
             "#f7f7f7"
            ],
            [
             0.6,
             "#e6f5d0"
            ],
            [
             0.7,
             "#b8e186"
            ],
            [
             0.8,
             "#7fbc41"
            ],
            [
             0.9,
             "#4d9221"
            ],
            [
             1,
             "#276419"
            ]
           ],
           "sequential": [
            [
             0,
             "#0d0887"
            ],
            [
             0.1111111111111111,
             "#46039f"
            ],
            [
             0.2222222222222222,
             "#7201a8"
            ],
            [
             0.3333333333333333,
             "#9c179e"
            ],
            [
             0.4444444444444444,
             "#bd3786"
            ],
            [
             0.5555555555555556,
             "#d8576b"
            ],
            [
             0.6666666666666666,
             "#ed7953"
            ],
            [
             0.7777777777777778,
             "#fb9f3a"
            ],
            [
             0.8888888888888888,
             "#fdca26"
            ],
            [
             1,
             "#f0f921"
            ]
           ],
           "sequentialminus": [
            [
             0,
             "#0d0887"
            ],
            [
             0.1111111111111111,
             "#46039f"
            ],
            [
             0.2222222222222222,
             "#7201a8"
            ],
            [
             0.3333333333333333,
             "#9c179e"
            ],
            [
             0.4444444444444444,
             "#bd3786"
            ],
            [
             0.5555555555555556,
             "#d8576b"
            ],
            [
             0.6666666666666666,
             "#ed7953"
            ],
            [
             0.7777777777777778,
             "#fb9f3a"
            ],
            [
             0.8888888888888888,
             "#fdca26"
            ],
            [
             1,
             "#f0f921"
            ]
           ]
          },
          "colorway": [
           "#636efa",
           "#EF553B",
           "#00cc96",
           "#ab63fa",
           "#FFA15A",
           "#19d3f3",
           "#FF6692",
           "#B6E880",
           "#FF97FF",
           "#FECB52"
          ],
          "font": {
           "color": "#2a3f5f"
          },
          "geo": {
           "bgcolor": "white",
           "lakecolor": "white",
           "landcolor": "#E5ECF6",
           "showlakes": true,
           "showland": true,
           "subunitcolor": "white"
          },
          "hoverlabel": {
           "align": "left"
          },
          "hovermode": "closest",
          "mapbox": {
           "style": "light"
          },
          "paper_bgcolor": "white",
          "plot_bgcolor": "#E5ECF6",
          "polar": {
           "angularaxis": {
            "gridcolor": "white",
            "linecolor": "white",
            "ticks": ""
           },
           "bgcolor": "#E5ECF6",
           "radialaxis": {
            "gridcolor": "white",
            "linecolor": "white",
            "ticks": ""
           }
          },
          "scene": {
           "xaxis": {
            "backgroundcolor": "#E5ECF6",
            "gridcolor": "white",
            "gridwidth": 2,
            "linecolor": "white",
            "showbackground": true,
            "ticks": "",
            "zerolinecolor": "white"
           },
           "yaxis": {
            "backgroundcolor": "#E5ECF6",
            "gridcolor": "white",
            "gridwidth": 2,
            "linecolor": "white",
            "showbackground": true,
            "ticks": "",
            "zerolinecolor": "white"
           },
           "zaxis": {
            "backgroundcolor": "#E5ECF6",
            "gridcolor": "white",
            "gridwidth": 2,
            "linecolor": "white",
            "showbackground": true,
            "ticks": "",
            "zerolinecolor": "white"
           }
          },
          "shapedefaults": {
           "line": {
            "color": "#2a3f5f"
           }
          },
          "ternary": {
           "aaxis": {
            "gridcolor": "white",
            "linecolor": "white",
            "ticks": ""
           },
           "baxis": {
            "gridcolor": "white",
            "linecolor": "white",
            "ticks": ""
           },
           "bgcolor": "#E5ECF6",
           "caxis": {
            "gridcolor": "white",
            "linecolor": "white",
            "ticks": ""
           }
          },
          "title": {
           "x": 0.05
          },
          "xaxis": {
           "automargin": true,
           "gridcolor": "white",
           "linecolor": "white",
           "ticks": "",
           "title": {
            "standoff": 15
           },
           "zerolinecolor": "white",
           "zerolinewidth": 2
          },
          "yaxis": {
           "automargin": true,
           "gridcolor": "white",
           "linecolor": "white",
           "ticks": "",
           "title": {
            "standoff": 15
           },
           "zerolinecolor": "white",
           "zerolinewidth": 2
          }
         }
        },
        "title": {
         "text": "3d TSNE Plot for Outliers"
        },
        "width": 900
       }
      },
      "text/html": [
       "<div>                            <div id=\"f115546c-99dc-4b5d-a8fc-701f39389587\" class=\"plotly-graph-div\" style=\"height:800px; width:900px;\"></div>            <script type=\"text/javascript\">                require([\"plotly\"], function(Plotly) {                    window.PLOTLYENV=window.PLOTLYENV || {};                                    if (document.getElementById(\"f115546c-99dc-4b5d-a8fc-701f39389587\")) {                    Plotly.newPlot(                        \"f115546c-99dc-4b5d-a8fc-701f39389587\",                        [{\"customdata\":[[0.26399535],[0.54609233],[0.33671412],[0.09210783],[0.32526118],[0.21246485],[0.25856572],[0.86923677],[0.19707796],[0.29298452],[0.8217832],[0.79662293],[0.045577012],[0.61366034],[0.95074457],[0.33634633],[0.034440666],[0.74154425],[0.18443266],[0.66451496],[0.16282485],[0.72983843],[0.62837386],[0.05788366],[0.44553483],[0.80183697],[0.27709612],[0.22863401],[0.8348607],[0.6697665],[0.5325273],[0.17045908],[0.5102885],[0.977562],[0.24977599],[0.9755007],[0.6137017],[0.16742036],[0.5374725],[0.37989914],[0.6338973],[0.6339604],[0.5499747],[0.17817299],[0.85563815],[0.3217967],[0.8174905],[0.25487942],[0.3441405],[0.8061457],[0.27708167],[0.5443285],[0.07708393],[0.27308145],[0.39087734],[0.3496214],[0.21454975],[0.20607522],[0.86462],[0.9817088],[0.33482966],[0.6483871],[0.09364356],[0.8378027],[0.76034397],[0.2914042],[0.3413454],[0.7611125],[0.5418998],[0.6841766],[0.9835356],[0.52081245],[0.32822773],[0.09715794],[0.8760886],[0.8702145],[0.656087],[0.3067915],[0.48126733],[0.25955918],[0.32612365],[0.93056804],[0.6583894],[0.6899923],[0.31578112],[0.5669051],[0.63752663],[0.6875407],[0.3243006],[0.5927049],[0.74025315],[0.5940329],[0.59645295],[0.2776808],[0.25832966],[0.14246087],[0.43553346],[0.70249903],[0.58897537],[0.6533044],[0.3369685],[0.6312447],[0.7353008],[0.050390366],[0.06426492],[0.6653595],[0.91783524],[0.4465101],[0.6619382],[0.43935984],[0.6875724],[0.36346224],[0.6542622],[0.57855356],[0.065927945],[0.55014855],[0.13918282],[0.08000463],[0.27822837],[0.5601243],[0.53639865],[0.4265319],[0.78910977],[0.7429005],[0.90169257],[0.6503374],[0.11405731],[0.26081258],[0.43991232],[0.9644093],[0.18440141],[0.34514543],[0.17589459],[0.31251445],[0.6741319],[0.32825044],[0.5982311],[0.09259882],[0.49791652],[0.41977653],[0.3121767],[0.9378571],[0.049030963],[0.47610453],[0.44739753],[0.29580605],[0.737364],[0.6258963],[0.40881342],[0.43751115],[0.69135135],[0.9355553],[0.43784666],[0.07221772],[0.67636067],[0.468884],[0.5438206],[0.65552264],[0.69352895],[0.108878314],[0.28546375],[0.0],[0.7064955],[0.27353063],[0.29232028],[0.6739843],[0.12612183],[0.9467075],[0.9363389],[0.85375535],[0.7060714],[0.6936822],[0.5085279],[0.34717038],[0.70415425],[0.6587301],[0.15584156],[0.31108543],[0.28113535],[0.0945878],[0.683261],[0.90772927],[0.29151267],[0.7527345],[0.93482965],[0.07141396],[0.5948963],[0.40467203],[0.1383762],[0.7473385],[0.5308825],[0.2826496],[0.69933575],[0.05611125],[0.855235],[0.07789513],[0.8916496],[0.3867423],[0.27113158],[0.95888895],[0.08512087],[0.52690226],[0.066577785],[0.8415067],[0.2553421],[0.060545772],[0.07338587],[0.18749373],[0.8583657],[0.09064035],[0.7097252],[0.6313006],[0.24750447],[0.8228436],[0.37347677],[0.6255386],[0.2929517],[0.29973033],[0.25121406],[0.34448054],[0.29306477],[0.7628032],[0.7384708],[0.67488325],[0.7191516],[0.13098022],[0.51132804],[0.04492903],[0.56091446],[0.74404067],[0.26696163],[0.64423186],[0.038113352],[0.0571553],[0.34139246],[0.72046363],[0.40287822],[0.63514894],[0.32072946],[0.091209695],[0.23414609],[0.8902211],[0.6021709],[0.63365203],[0.80624086],[0.7397312],[0.46523127],[0.7321109],[0.3738743],[0.5015879],[0.115383156],[0.7319466],[0.41829872],[0.062259592],[0.3914964],[0.3598493],[0.24523562],[0.6100283],[0.43540362],[0.43430966],[0.52376336],[0.17118786],[0.1877343],[0.94501466],[0.027851097],[0.68445706],[0.17801453],[0.6434279],[0.59588355],[0.3723617],[0.58610356],[0.27165884],[0.5995111],[0.46836308],[0.31451556],[0.21893726],[0.25471658],[0.25612816],[0.60225976],[0.13438107],[0.5138874],[0.62424165],[0.16025186],[0.5807081],[0.27054048],[0.83291996],[0.93032134],[0.7191579],[0.88672006],[0.09879228],[0.7871743],[0.3655924],[0.7195762],[0.8058956],[0.75557834],[0.5260059],[0.68880427],[0.2211153],[0.73936945],[0.40844023],[0.34892654],[0.43371376],[0.5964966],[0.6942953],[0.709031],[0.867653],[0.89332545],[0.7460209],[0.5382844],[0.8922193],[0.9351758],[0.2605277],[0.95678043],[0.20493248],[0.68773335],[0.32906362],[0.6321498],[0.4637445],[0.69885963],[0.38544658],[0.47997537],[0.7322791],[0.3813543],[0.459326],[0.25740144],[0.6650148],[0.103399545],[0.42528442],[0.94352907],[0.5947502],[0.5437768],[0.18203989],[0.23584208],[0.58598447],[0.7620132],[0.6849829],[0.6769369],[0.29018497],[0.48106822],[0.49276602],[0.22185624],[0.053875998],[0.08275115],[0.38536623],[0.70251393],[0.9155316],[0.082087435],[0.25128037],[0.41672182],[0.27703267],[0.5795398],[0.5693635],[0.13339971],[0.26504546],[0.9365719],[0.25261855],[0.054033082],[0.8024814],[0.5281977],[0.9515026],[0.57212114],[0.7529382],[0.14385754],[0.5134846],[0.3133224],[0.68779737],[0.37705985],[0.34822613],[0.6776328],[0.24138752],[0.8506502],[0.2203481],[0.47644547],[0.690324],[0.36469594],[0.6492492],[0.9437019],[0.529646],[0.299097],[0.96696246],[0.27200523],[0.31416145],[0.752021],[0.22188245],[0.7203327],[0.37920478],[0.60168654],[0.58293265],[0.95080984],[0.5883014],[0.8808872],[0.4678577],[0.8799022],[0.619844],[0.35900256],[0.29151127],[0.6941571],[0.72796035],[0.6177039],[0.39581257],[0.5831728],[0.7103324],[0.2537537],[0.04941223],[0.7283787],[0.4324329],[0.58612347],[0.052342374],[0.053483903],[0.5187294],[0.9330402],[0.7035543],[0.2689899],[0.73300695],[0.44435248],[0.58339465],[0.87117267],[0.42876709],[0.30046085],[0.95332944],[0.60644394],[0.9098681],[0.71489644],[0.4973495],[0.8530975],[0.72180414],[0.30346733],[0.6644851],[0.27978063],[0.5694817],[0.6286289],[0.088368125],[0.7335673],[0.5374368],[0.6385937],[0.95472693],[0.6322023],[0.64213467],[0.7446531],[0.115714006],[0.48625007],[0.44035614],[0.08272289],[0.511591],[0.39462754],[0.224394],[0.62692755],[0.29025406],[0.77900803],[0.8661058],[0.87332606],[0.49548915],[0.5942977],[0.91820157],[0.57704276],[0.01946767],[0.6702983],[0.54659534],[0.59166515],[0.4215582],[0.68560857],[0.34030303],[0.67562675],[0.31906736],[0.38849968],[0.7069496],[0.5594095],[0.6876635],[0.70880455],[0.6818881],[0.42253512],[0.3200046],[0.6582814],[0.63415486],[0.777332],[0.8126772],[0.0742808],[0.39600217],[0.054933913],[0.82505894],[0.382642],[0.8687298],[0.58804333],[0.89155155],[0.10920046],[0.6476828],[0.7243425],[0.07016304],[0.28088206],[0.03911326],[0.5796416],[0.6390009],[0.2817459],[0.6478577],[0.6479058],[0.87522626],[0.5676033],[0.2629406],[0.26802605],[0.40519133],[0.47996545],[0.33552402],[0.77716535],[0.42548797],[0.23798612],[0.14252298],[0.72417647],[0.23469894],[0.07818228],[0.8559902],[0.27025175],[0.43551785],[0.7626975],[0.46448725],[0.39611268],[0.37638092],[0.29459468],[0.6944921],[0.6227679],[0.84755975],[0.30146307],[0.9129378],[0.50001717],[0.90258795],[0.30451795],[0.29916567],[0.09201409],[0.4885489],[0.66466445],[0.26534954],[0.723657],[0.14926238],[0.04577339],[0.6966106],[0.42181486],[0.7338458],[0.41879538],[0.6774435],[0.2612836],[0.26852778],[0.54432225],[0.43163204],[0.9810181],[0.21498072],[0.39473],[0.12222494],[0.29749689],[0.37490442],[0.6869877],[0.3885492],[0.039296072],[0.73553425],[0.3792949],[0.7321234],[0.33922145],[0.6594506],[0.054838642],[0.6401121],[0.3071417],[0.3966119],[0.42043915],[0.24171497],[0.06589315],[0.9105219],[0.6971631],[0.072559856],[0.81825095],[0.3118888],[0.9616446],[0.81632555],[0.14647302],[0.5487539],[0.9461581],[0.29399273],[0.33147964],[0.90622],[0.5255404],[0.83301413],[0.5148498],[0.57460904],[0.46871185],[0.71002775],[0.64597327],[0.22979441],[0.5517834],[0.05582299],[0.33175093],[0.7155202],[0.58392435],[0.3069577],[0.7914782],[0.16423663],[0.06571122],[0.94899315],[0.08042383],[0.052495427],[0.5663461],[0.3630266],[0.60544217],[0.6308506],[0.065791234],[0.28681707],[0.68546283],[0.2608537],[0.6591224],[0.44317392],[0.602064],[0.06036691],[0.78190315],[0.51457983],[0.4838862],[0.6002138],[0.49736404],[0.41114524],[0.11699917],[0.34189013],[0.74695086],[0.39629275],[0.62214386],[0.33527115],[0.14025714],[0.08162068],[0.06983757],[0.46894002],[0.9908574],[0.8966168],[0.25531057],[0.22464527],[0.01991825],[0.29648042],[0.155459],[0.57791674],[0.95630306],[0.8134644],[0.5296758],[0.28767136],[0.48039135],[0.2810448],[0.63319653],[0.09332538],[0.284474],[0.052223776],[0.051129386],[0.9674056],[0.040045727],[0.9085829],[0.6621174],[0.4247032],[0.7220781],[0.6661933],[0.5096812],[0.7513536],[0.27907312],[0.074927],[0.91635954],[0.31040326],[0.71660405],[0.4855871],[0.3060752],[0.4775582],[0.71192396],[0.066348635],[0.27453935],[0.31082252],[0.47607312],[0.18679556],[0.26654208],[0.07023114],[0.26951927],[0.8000047],[0.27363366],[0.14647919],[0.37831897],[0.37384906],[0.24217084],[0.2497965],[0.06659119],[0.3729568],[0.5018123],[0.31309775],[0.8802022],[0.5198189],[0.36413875],[0.4926829],[0.28573266],[0.89011496],[0.31641957],[0.26866353],[0.77197593],[0.968889],[0.08033438],[0.7368282],[0.30055806],[0.9179504],[0.46581504],[0.05403668],[0.96315014],[0.0896535],[0.7076932],[0.636416],[0.5395211],[0.11475716],[0.3573124],[0.67639834],[0.4348284],[0.032326385],[0.7113656],[0.18748651],[0.052789655],[0.5058636],[0.9274319],[0.68098426],[0.8828222],[0.49570546],[0.5962404],[0.3206107],[0.3413685],[0.1596818],[0.31813368],[0.83930105],[0.06435925],[0.47021663],[0.77625227],[0.6358434],[0.62510544],[0.52959067],[0.98690015],[0.078585684],[0.23328426],[0.36333096],[0.716717],[0.37588978],[0.2233169],[0.29934397],[0.5385958],[0.73029715],[0.6603308],[0.435296],[0.3264943],[0.8544027],[0.57349384],[0.75778615],[0.7047432],[0.2815756],[0.6719682],[0.313726],[0.36433828],[0.3682164],[0.3862952],[0.6559719],[0.56602526],[0.4249991],[0.09011037],[0.77235055],[0.33104727],[0.27371618],[0.23877569],[0.37307978],[0.33118588],[0.25613454],[0.6783732],[0.43463835],[0.65466833],[0.98668104],[0.3715205],[0.40835962],[0.40932366],[0.28341207],[0.39524654],[0.010984428],[0.30601388],[0.26619482],[0.29931852],[0.31829396],[0.7428259],[0.09766433],[0.07966694],[0.6132588],[0.9944307],[0.5688351],[0.7080345],[0.3705927],[0.66986734],[0.6512956],[0.46253157],[0.7196256],[0.4537725],[0.39486393],[0.32397482],[0.14645472],[0.77906704],[0.4018289],[0.6014796],[0.856423],[0.56524295],[0.3012251],[0.28210816],[0.594378],[0.7053124],[0.54086965],[0.31924957],[0.36176613],[0.6250007],[0.3162874],[0.04723902],[0.8011822],[0.5084744],[0.8178934],[0.3992356],[0.974052],[0.7224153],[0.039564762],[0.90868413],[0.47301012],[0.71804965],[0.76347905],[0.64759654],[0.89499736],[0.2228259],[0.35901225],[0.9449102],[0.29787782],[0.172518],[0.55658627],[0.8764817],[0.48667786],[0.45949674],[0.47412637],[0.7010114],[0.3375974],[0.5375789],[0.96699244],[0.056849547],[0.23324907],[0.3800547],[0.6029294],[0.303848],[0.17019455],[0.97216856],[0.33216894],[0.6887287],[0.1107734],[0.27335206],[0.5729397],[0.49145707],[0.28139],[0.82169724],[0.67497766],[0.58513457],[0.71059614],[0.04048879],[0.5680543],[0.32175294],[0.61185026],[0.9260969],[0.6183474],[0.6676298],[0.39773348],[0.2908755],[0.5943751],[0.50825524],[0.33857137],[0.43230236],[0.30222198],[0.8761982],[0.080204494],[0.09233353],[0.09365645],[0.6084524],[0.7326546],[0.94415885],[0.2674231],[0.7311242],[0.6613085],[0.38776627],[0.9625853],[0.32206705],[0.63408107],[0.47534502],[0.353559],[0.8859363],[0.8767981],[0.22158106],[0.39436245],[0.80503565],[0.45289847],[0.59252053],[0.7610264],[0.24504903],[0.37213936],[0.68105483],[0.74714315],[0.92073953],[0.09720795],[0.699303],[0.721647],[0.5353561],[0.7382938],[0.70646757],[0.6739506],[0.7112123],[0.30255872],[0.080097854],[0.70701087],[0.51224864],[0.6596275],[0.6575597],[0.10064561],[0.9266536],[0.89287937],[0.8391575],[0.89095974],[0.55675447],[0.96036196],[0.6310379],[0.029838065],[0.27884334],[0.9261577],[0.55150425],[0.48594236],[0.4372347],[0.25231802],[0.515467],[0.43725228],[0.4937242],[0.83324724],[0.31752148],[0.28623456],[0.72683394],[0.49566704],[0.028645255],[0.31967193],[0.6743446],[0.76603717],[0.6545699],[0.7565144],[0.52825373],[0.3897195],[0.35508746],[0.870152],[0.7390833],[0.30576184],[0.4115877],[0.06363309],[0.7354094],[0.6059167],[0.5393956],[0.5661835],[0.6747952],[0.070993364],[0.1252641],[0.27960148],[0.9521744],[0.23380676],[0.43724743],[0.9254231],[0.43349862],[0.525179],[0.08843553],[0.44767764],[0.6470006],[0.9036033],[0.26579073],[0.66419697],[0.49812067],[0.49018896],[0.7470842],[0.90678364],[0.6787709],[0.34859985],[0.29483968],[0.7056918],[0.21191794],[0.06320112],[0.27669954],[0.6724594],[0.80820596],[0.29653838],[0.16012686],[0.43938503],[0.5559514],[0.38624012],[0.15868962],[0.21449986],[0.29957944],[0.56916165],[0.4886148],[0.878295],[0.6493809],[0.46571335],[0.16813774],[0.87529546],[0.84113234],[0.33292082],[0.5130479],[0.30505508],[0.812627],[0.25096706],[0.50243556],[0.45799074]],\"hovertemplate\":\"0=%{x}<br>1=%{y}<br>2=%{z}<br>Feature=%{customdata[0]}<br>Anomaly=%{marker.color}<extra></extra>\",\"legendgroup\":\"\",\"marker\":{\"color\":[0,0,1,1,0,0,0,1,1,0,0,1,0,0,1,0,1,0,0,0,1,0,0,1,1,1,0,0,1,1,0,0,1,1,1,0,0,0,0,0,1,0,0,1,0,0,0,0,0,0,0,1,0,1,0,1,0,0,0,1,0,0,1,1,0,0,1,0,0,1,0,0,0,0,0,0,0,0,0,0,0,0,0,0,0,0,0,0,0,0,0,0,0,0,0,0,0,0,0,0,0,0,0,0,0,0,0,0,0,0,0,0,0,0,0,0,0,0,0,0,0,0,0,0,0,0,0,0,0,0,0,0,0,0,0,0,0,0,0,0,0,0,0,0,0,0,0,0,0,0,0,0,0,0,0,0,0,0,0,0,0,0,0,0,0,0,0,0,0,0,0,0,0,0,0,0,0,0,0,0,0,0,0,0,0,0,0,0,0,0,0,0,0,0,0,0,0,0,1,0,0,0,0,0,0,0,0,0,0,0,0,0,0,0,0,0,0,0,0,0,0,0,0,0,0,0,0,0,0,0,0,0,0,0,0,0,0,0,0,0,0,0,0,0,0,0,0,0,0,0,0,0,0,0,0,0,0,0,0,0,0,0,0,0,0,0,0,0,0,0,0,0,0,0,0,0,0,0,0,0,0,0,0,0,0,0,0,0,0,0,0,0,0,0,0,0,0,0,0,0,0,0,0,0,0,0,0,0,0,0,0,0,0,0,0,0,0,0,0,0,0,0,0,0,0,0,0,0,0,0,0,0,0,0,0,0,0,0,0,0,0,0,0,0,0,0,0,0,0,0,0,0,0,0,0,0,0,0,0,0,0,0,0,0,0,0,0,0,0,0,0,0,0,0,0,0,0,0,0,0,0,0,0,0,0,0,0,0,0,0,0,0,0,0,0,0,0,0,0,0,0,0,0,0,0,0,0,0,0,0,0,0,0,0,0,0,0,0,0,0,0,0,0,0,0,0,0,0,0,0,0,0,0,0,0,0,0,0,0,0,0,0,0,0,0,0,0,0,0,0,0,0,0,0,0,0,0,0,0,0,0,0,0,0,0,0,0,0,0,0,0,0,0,0,0,0,0,0,0,0,0,0,0,0,0,0,0,0,0,0,0,0,0,0,0,0,0,0,0,0,0,0,0,0,0,0,0,0,0,0,0,0,0,0,0,0,0,0,0,0,0,0,0,0,0,0,0,0,0,0,0,0,0,0,0,0,0,0,0,0,0,0,0,0,0,1,0,0,0,0,0,0,0,0,0,0,0,0,0,0,0,0,0,0,0,0,0,0,0,0,0,0,0,0,0,0,0,1,0,0,0,0,0,0,0,0,0,0,0,0,0,0,0,0,0,0,0,0,0,0,0,0,1,0,0,0,0,0,0,0,0,0,0,0,0,0,0,0,0,0,0,0,0,0,0,0,0,0,0,0,0,0,0,0,0,0,0,0,0,0,0,0,0,0,0,0,0,0,0,0,0,0,0,0,0,0,0,0,0,0,0,0,0,0,0,0,0,0,0,0,0,0,0,0,0,0,0,0,0,0,1,0,0,0,0,0,0,0,0,0,0,0,0,0,0,0,0,0,0,0,1,1,0,1,1,0,0,1,1,0,0,0,0,1,0,0,1,1,1,0,1,0,1,1,1,0,0,0,1,0,0,0,0,0,0,0,0,0,0,0,0,0,0,1,0,0,0,0,0,0,0,0,0,0,0,0,0,0,0,0,0,0,0,0,0,0,0,0,0,0,0,0,0,0,0,0,0,0,0,0,1,0,0,0,0,0,0,0,0,0,0,0,0,0,0,0,0,0,0,0,0,0,0,0,0,0,0,0,0,0,0,0,0,0,0,0,0,0,0,0,0,0,0,0,0,0,0,0,0,0,0,0,0,0,0,0,0,0,0,0,0,0,0,0,0,0,0,0,0,0,0,0,0,0,0,0,0,0,0,0,0,0,0,1,0,0,0,0,0,0,0,0,0,0,0,0,0,0,0,0,0,0,0,0,0,0,0,0,0,0,0,0,0,0,0,0,0,0,0,0,0,0,0,0,0,0,0,0,0,0,0,0,0,0,0,0,0,0,0,0,0,1,0,0,0,0,0,0,0,0,0,0,0,0,0,0,0,0,0,0,0,0,0,0,0,0,0,0,0,0,0,0,0,0,0,0,0,0,0,0,0,0,0,0,0,0,0,0,0,0,0,0,0,0,0,0,0,0,0,0,0,0,0,0,0,0,0,0,0,0,0,0,0,0,0,0,0,0,0,0],\"coloraxis\":\"coloraxis\",\"opacity\":0.7,\"symbol\":\"circle\"},\"mode\":\"markers\",\"name\":\"\",\"scene\":\"scene\",\"showlegend\":false,\"x\":[1.2776442,1.3950518,-2.2200153,2.8076391,2.3837411,1.6296673,-4.706368,2.646379,-0.8313108,-2.1236062,-0.3042869,7.461717,-1.2100146,5.6272683,1.818129,-1.5867878,-1.1995753,2.4636679,-3.3980982,6.5963573,2.103351,0.79575074,4.9006133,-1.4239291,-0.81575435,2.8239846,6.6103234,2.9506667,4.3598294,3.5150785,2.7064402,-1.5351028,3.2817361,3.1757567,-3.4253616,2.6377642,1.8603481,3.257523,0.5152603,1.7684855,-5.219664,2.9175313,-1.4999194,-1.7275742,2.7967222,-1.964572,3.5667005,-0.9644774,7.201562,0.12752645,1.211391,-4.3470125,-2.1307166,-1.8848511,-0.4443836,-6.902217,-5.8733544,-2.9230864,3.3436213,-1.9955198,-1.7747979,5.3689995,0.9427092,2.7817786,-0.59581435,4.4617367,-4.279489,2.0790663,6.1573987,-2.6205456,5.586935,3.9973211,-2.2330968,0.6997357,3.4717298,2.144559,0.71289074,1.2776967,-0.09142772,-1.8991177,-1.0917376,-0.7823906,4.435729,4.3236656,-1.4533582,3.1290085,0.16511293,0.5631242,-4.435362,-2.231284,1.730909,-0.22562385,-1.653588,-5.042041,-4.944959,2.151087,-0.825571,3.6451848,2.4710155,1.8679996,-1.3563831,-1.2905703,3.2572,-2.4613466,2.251117,-0.69242746,1.6212873,5.5071793,2.778796,2.130434,-3.5616753,-1.9067625,-2.634898,2.0767272,0.20309713,-2.5998719,-5.1699505,-5.3185244,1.4583442,3.1479285,-2.7298136,-2.9915872,5.1847577,-1.2321132,6.048481,2.1054747,-3.990396,2.612392,-0.54046535,3.2380767,-4.972267,-1.397848,2.3428397,-3.2157493,-1.7411788,1.0409762,3.4039922,3.74401,0.7105606,0.7845835,0.8030669,-1.1927006,-3.2040007,3.41779,2.3214943,-2.0420687,0.09977882,-2.5187454,0.6025013,1.2308397,-3.7123718,0.47415867,-3.0423565,-4.1089783,0.53268003,0.24495718,-0.2503508,-2.5353007,1.0292015,-0.88884544,-5.895554,-6.417372,0.53079545,-1.8937259,0.69175786,-1.5231216,1.5441923,5.2180133,0.28656864,5.8396983,0.7185238,4.091157,-1.7467068,0.9261049,5.8062906,0.14461282,-1.2224419,0.37465128,0.0047302353,4.212026,4.6665616,-2.5019696,-2.200029,6.291747,5.851166,-5.7221246,0.48739392,-4.99831,-1.3290374,0.017415296,-2.1520827,2.5481956,0.12242116,0.047462646,-1.3306717,-5.375579,4.9500575,6.704299,-2.1639645,6.031604,-2.8216639,1.3762021,-4.3663726,4.3697605,-0.9446574,-2.1727362,-4.0430107,-3.5652754,-2.3456652,-1.6976508,6.796683,-1.1848279,2.370506,-2.6425025,-3.052775,-2.6691828,-0.9100803,0.2590348,2.518728,0.82104576,-1.3865553,2.9376936,3.2532134,2.4828665,-1.3637571,-4.108946,-1.6156356,-2.569115,-2.4797595,-4.3848367,-4.0613894,-1.5722499,3.1508286,3.8895457,-0.23601678,3.173034,-0.53586906,-0.4167719,2.7502005,0.29604545,-3.7738242,6.008696,0.8169907,-0.09264472,2.6538,-1.1962867,0.37840998,-0.15288602,-1.9241015,4.4340005,-5.56067,3.0897374,3.8998144,-6.184024,-1.3691648,0.96954006,0.9852113,-2.3082385,-4.1043215,2.327744,1.573898,-5.2645526,2.2199688,4.640444,-4.101609,0.20404698,4.1071906,-2.5074887,2.5693495,8.018813,5.458241,-3.8258128,-0.22375277,1.3739973,-0.29175553,-5.8400083,1.0672861,2.4056895,4.606182,-1.172142,-1.8338896,1.5504385,-0.96731204,2.6019468,0.12852535,3.9960642,3.3831358,2.616412,-0.85202235,-1.7308918,-2.8537765,-1.4188823,1.4248853,3.4812455,4.1844225,-1.1200132,0.13282996,-2.4067593,2.679996,1.8445156,2.387264,-3.6554067,3.568244,3.083524,0.072134845,2.0679483,4.8492775,1.0554624,-4.244863,6.202744,5.518397,-3.9948492,-2.737406,0.820557,-3.7200534,-0.014166686,5.468349,-2.0738974,2.043735,-4.042825,2.919108,2.0192647,4.0461926,0.99821216,-4.1095676,1.4998223,4.985579,3.720577,2.0615387,0.15665902,-2.6345713,-0.5011599,-6.113945,-0.69040245,0.86076003,1.3355702,2.1168823,0.4633693,0.78893363,-1.252153,-0.20833133,-0.12078291,1.3696275,-4.886866,2.984146,3.174997,-3.5990884,-4.587479,1.9901946,-0.49749643,2.9754448,0.1531187,1.9572241,-3.6260643,3.4249406,-0.11286712,-2.7462811,1.8247597,3.5140138,1.5558683,2.3052082,3.747541,0.26900563,-3.2862203,2.9988663,0.25001448,2.1701963,-4.7286654,-2.1518648,5.9486227,0.5254807,-3.8238769,1.3194879,0.28000176,4.0496855,-0.35066488,3.7128994,0.8963252,-4.308056,0.018889263,0.300336,0.16557136,2.0443118,-0.43030366,2.6616623,-1.044811,1.2933947,1.3190362,5.8459787,-2.3997352,2.8197625,-0.7382841,1.3755425,-0.11369012,0.94872075,-3.687711,-0.2613138,3.0523138,1.5913842,0.4017821,3.3959482,3.7609837,-3.87063,-2.0429215,4.841541,-3.2947109,-0.95081276,-0.3258052,-1.9622731,6.791864,1.9736993,-0.7802954,3.2056224,1.092459,-1.970466,-1.4718219,1.4553922,-0.56311435,3.4994378,3.0016167,-2.4976969,3.0277207,3.121309,1.7907125,0.40558365,-1.467418,-3.8434012,0.20409909,-0.90997916,0.8268942,-2.220061,-5.8387914,4.464405,2.2237327,4.956892,4.569258,2.5394661,2.1529999,2.7424326,-1.395862,-0.6962518,-0.6229876,-0.53100973,1.573824,-2.9721773,-1.7043833,4.2007895,-4.999991,3.4249718,-1.8346959,3.3736107,3.0380278,-1.2093322,1.951565,-1.8071578,-4.23674,5.794259,2.769008,0.42502886,-0.21334524,3.1067636,-0.63122034,-0.88497293,0.10337542,0.3361973,1.5833545,2.569477,4.6195107,-1.6024039,0.78882045,-2.9232852,1.1540123,-0.5506239,0.99074584,0.40143213,-1.6340779,-4.7187233,-0.18974103,0.036121536,0.6880674,-3.559713,4.1944933,0.7439012,2.8244994,-5.506027,2.2631328,4.8289175,-1.567077,0.7331516,0.8028611,-0.52474153,-1.4557917,-2.8592823,3.766988,0.74885386,0.34609506,6.6449747,-1.5480914,-4.139771,-2.9050975,0.7561389,2.5948524,1.2015588,-4.020151,-0.7401175,1.1085149,2.0030472,-4.8511186,-2.4258502,-3.168252,1.5266055,-3.1152763,5.7986007,-0.9081817,-1.3049585,-5.074414,-5.521975,1.2993726,3.2807803,5.713382,-3.322738,4.5031104,-2.6871765,2.1765978,2.2818859,-4.636125,-1.5406513,-3.5389068,5.490766,-1.1287323,3.408645,1.8334216,-0.34795922,0.6157641,-2.1411278,5.119236,-2.1263418,3.7803218,-0.27444783,7.7165046,1.5367315,-0.7032961,2.2688968,0.28205705,-4.200506,1.031294,-1.9008244,1.0580215,0.6393253,-1.2681948,-2.7830837,2.9769158,0.73046565,1.1555707,-5.5167847,1.6720245,-1.2385383,3.3158557,4.490911,1.1512452,1.6142129,2.8354356,-5.7787514,-1.2251756,3.2102096,-2.872041,-0.40976417,2.3203628,-0.4312419,-2.4099681,0.12705217,-2.0369737,3.2538853,-0.33206284,-0.051329862,5.892789,-0.52949744,0.008813995,1.9947194,-2.881129,-1.8769785,-1.2914369,0.1789746,-1.5289967,-4.234657,-4.202194,-0.48117828,0.93068856,-2.350678,2.009281,3.7436504,-4.2217393,-0.2412354,4.0404215,-0.20198908,-3.349141,3.3895764,2.605163,-0.6254831,1.7202252,2.0548618,-2.3103945,-3.8581572,-4.9992256,-1.667791,0.4567606,3.5093253,0.6321927,3.3520024,1.8977611,-2.8798914,-2.1169581,-3.5723517,-0.23899847,-0.8275169,-5.331833,-3.6479242,-5.162246,5.44727,-0.8723413,0.38751277,-2.4346008,-5.0110717,2.789676,1.5416944,3.83118,-5.4602995,0.010509389,-0.8640996,-0.12609316,-5.196289,6.0013523,2.8830454,4.4742126,-2.1771472,-0.20321356,-4.9410152,0.24360164,-2.0291066,-0.7246813,-1.0266204,-1.9528183,-5.078651,-0.6623446,-0.12457059,0.53270143,-0.248681,2.2376006,5.035916,0.8461753,-1.5619154,-0.22062974,-0.13355981,2.1424928,-0.008258139,0.5847121,2.91079,2.425389,0.33729362,1.9719748,4.688246,-2.7097516,0.15338784,1.1325867,0.10184536,-0.7748201,3.2401648,-3.5036764,6.8334074,-0.53229576,0.73257625,-0.27421013,-5.7025566,0.86887825,-1.3768609,-2.9314153,-0.98221105,-2.7326698,1.514784,-3.1232562,0.4283607,-1.308111,-0.3143508,-1.7740146,-4.1696014,-0.83777905,-2.754601,-4.832758,-0.475791,5.191074,-1.3853692,5.0041246,3.2045057,5.3878913,-0.74178374,-0.7349452,1.2467186,-4.0839734,1.2219743,-0.008692332,-5.10462,-5.553164,5.6001844,4.3598585,0.41822195,-6.156948,1.3104807,-2.895825,0.45839757,-1.7656509,3.3834965,-1.9952849,6.490584,2.9284656,5.5070863,-3.10463,1.8555607,-2.0817974,5.5482183,1.5934641,-3.3328497,-4.1436877,5.690208,-4.4003725,5.246174,3.3459918,-2.3311088,-0.924451,4.6852884,1.5874729,6.8034782,0.3771653,0.5040376,1.0483401,-1.144477,-1.605164,-2.5233765,-1.5626189,-1.3812902,-2.320056,1.9346088,3.2132885,2.9003184,-4.076779,1.5807884,-2.163914,-3.857974,-2.1798344,2.1792786,4.7193727,1.4918361,1.1582993,-5.445991,-1.4618875,-2.8395832,0.17354088,-2.014626,-5.0449443,-0.61711115,-4.6240225,5.9635468,-5.862725,-0.16258517,0.086074665,0.2507986,-4.5716214,-3.3607545,2.003641,-2.3395207,2.7320075,-1.6579814,0.8718102,1.1569148,-3.7400522,2.151214,-4.7445283,-0.75730217,-3.7426715,2.881498,2.9929893,-1.3384283,-4.227359,3.9016192,-3.421424,-0.7646159,5.4918847,-6.1021132,-1.2138278,-2.796194,-4.843327,5.2768373,-0.47071162,-3.770217,2.6565661,-2.492319,-1.6236625,-2.9036045,3.0065944,-0.9392557,-3.031648,-2.8177423,0.6692023,4.4415956,0.5916023,0.2852103,-1.2247875,-5.4507594,2.4388924,0.68332845,1.4392154,2.2213483,-3.9227502,2.8604002,-1.9100084,3.9860406,3.3268063,2.9234421,4.308322,-1.0473232,1.7926966,-1.2242343,1.1772021,-2.2088664,1.8534886,5.2754817,1.3780308,0.5422202,-2.14641,1.7223057,1.9368047,1.3360205,1.2257106,1.0858393,-2.9684129,2.8978457,-1.5379983,0.9046188,3.0144472,-2.220081,-4.8723936,-1.4195647,-2.3836644,2.2576628,4.2603965,-2.389897,-1.8745421,6.2459025,-1.433372,-3.598911,5.9190135,-1.061934,-3.7850022,-4.653168,-1.9744054,5.95484,6.644127,4.6628184,-0.14227794,-3.2007582,-3.9662173,-0.32215405,-2.7392118,1.8664438,-4.34639,5.412429,3.5543656,-5.5134816,-4.4315386,-1.358733,-1.4717404,-1.3459486,-2.9183102,0.22689983,-3.786614,-5.1945934,0.94264525,0.2719585,-4.034166,1.8980289,-0.6687259,-2.385674,0.024598673,-0.3507962,5.111262,3.0886111,-2.060818,2.8501675,1.8859069,1.539838,-2.0340095,2.994048,5.3696194,0.9636565,-1.5170302,6.834465,-0.6782299,1.6984855,-0.83186674,5.704482,3.648646,2.638872,-5.0065174,-3.996128,4.3590226,-3.9472518,4.651959,0.6546288,-1.9354295,0.9268796,2.7133353,3.3802257,1.2912573,-1.705999,3.5844805,-2.7962954,0.5324566,0.3498666,4.5243497,-0.6586494,-1.4517322,-2.8626866,2.6481488,2.7194252,-0.34441614,7.433391,-3.5625272,-3.1910427,0.7777101,2.9245534,6.8028054,1.3273126,-3.4377797,0.42532456,4.3961096,3.0403237,0.83539623,-0.32335016,-1.5443397,0.6526949,-1.2309026,-1.2801628,-4.9481235,-0.87866837,-1.5211118,1.1985687,-1.8080077,-0.7171764,1.7798947,4.0889497,-3.6389928,0.24581671,0.22840887,4.254682,3.82118,1.0025996,1.5144483,-0.9859724,1.2506242,-3.1779025,-4.325493,-2.6579401,2.7540486,0.22037771,0.7251453,2.0409796,-3.118433,3.0472221,1.3637029,-1.5276521,-5.5684752,1.8966199,-2.1969132,-0.48261353,0.7156765,-1.5377904,-1.3018306,0.59235334,0.57875115,0.3857019,-1.7237821,-2.3950238,-1.5195476,-3.1720092,-5.52502,0.5661415,3.8392892,-4.126337,-0.6252021,-2.0293775,1.9768099,0.05469258,2.8049998,0.19632791,-1.4952445,-0.99575424,1.079668,3.2544968,-2.7829432,1.2161247,0.70371014],\"y\":[-1.2090617,4.4076147,-11.443384,-8.668653,-16.630785,-7.7198906,9.180052,-16.386538,-2.0744042,11.459276,-17.24743,-13.643687,-8.844589,-9.310882,-9.774994,-18.831707,-8.890719,12.373922,-10.206687,-12.5440035,-7.013606,-1.713608,-10.692585,-1.4180146,-9.942742,-3.8875825,-12.799306,2.9439902,-6.4236493,-14.264564,0.7518025,2.638737,-4.7924194,-9.553419,4.0954046,-1.5955353,-2.213693,3.0240703,-2.7029948,-9.710296,12.860492,-12.4443,9.36179,-8.956256,-11.849704,-19.51821,-11.357245,-1.5043554,-13.4062,13.443906,-14.890654,-8.538155,5.2360544,-19.357168,-7.904692,2.3398871,3.7942786,2.663378,-10.146533,-13.261872,-0.13537353,9.247212,-19.932327,-12.540185,13.320245,-11.32131,15.829567,11.498298,-13.434762,-12.034081,-17.563213,-12.594141,-1.3239957,-11.247752,7.521129,3.532776,-15.722678,-16.058922,10.049718,8.513253,8.374847,2.6556742,-14.47612,8.073669,6.881815,2.5646484,9.308021,11.016897,3.9398518,-0.0315998,1.4232053,-14.991117,7.7592998,10.42917,3.3810763,-19.150003,9.839414,4.428446,5.416205,-15.464486,-2.2373798,12.728805,4.285689,7.3009634,-20.398396,9.294086,8.429434,8.380964,7.8291335,-15.118063,1.7020335,-3.0682416,-15.220404,5.9850225,-15.371594,3.940174,7.3933034,10.657407,-9.548617,7.2920284,4.819206,3.1120095,6.6429734,11.898592,5.051829,4.9423933,2.4838831,-10.330524,6.6563444,5.264543,1.4958162,9.199019,-14.494089,6.156373,11.794113,3.2779202,-13.607115,-12.016288,4.356699,3.165026,-12.373297,0.10513807,6.8061433,-15.604669,7.9969454,9.222318,-14.681776,14.14552,4.1708794,5.3995447,0.655827,4.9350505,0.93955344,7.540089,-1.7547,9.877232,13.814828,11.519367,7.508415,-9.849542,7.197663,4.1115484,4.8697968,10.541437,-9.849655,11.382625,-11.911739,-15.139179,-12.4491415,6.601216,8.834887,3.2973857,-10.8662195,-13.285519,1.8959354,12.042547,-8.75634,-12.417107,3.643052,-11.391418,3.336163,-13.961142,3.6760435,-15.92234,-15.238562,8.625097,-13.156666,2.3459976,7.529925,4.406723,13.475821,-16.185102,-15.793414,-14.103392,9.565996,7.5322256,6.088973,7.685672,-3.3251882,4.2931037,1.1167349,4.1886725,4.008055,-15.336984,-12.91463,2.583779,9.305915,1.2566487,-13.716786,2.9327009,2.5024076,-14.838124,-15.819231,2.4751906,2.883716,4.382051,3.5503109,-17.119328,-18.660536,1.405181,-13.038173,7.5270452,-15.245977,9.146866,11.356147,8.06481,10.454725,8.859339,11.569198,-13.066972,7.95931,8.082726,-11.878243,-11.776917,6.8191447,7.840386,1.627525,4.576343,-10.568782,-11.277451,1.5945723,4.7679276,-11.033943,8.999028,-14.396827,12.02674,6.063365,7.9162803,10.472137,-11.891046,4.979194,2.5689754,-12.091486,4.1185446,8.93311,-0.6620971,0.80389756,10.8184805,-13.699586,7.389185,-11.515601,3.8855252,-15.05166,3.742951,5.542694,8.749285,-13.465311,8.100352,7.583361,7.0376554,7.91998,4.331532,2.7790382,-10.619486,-9.288171,7.609364,-17.954952,-16.330956,8.196536,7.4415536,10.596816,-10.700295,8.946379,1.9054315,-15.024112,7.095596,10.484406,7.1833243,10.493981,-3.46726,0.017642459,6.2761383,8.097187,7.960228,8.005775,-13.067909,-13.538149,9.319939,6.2869806,-0.258752,1.7622201,10.7150755,-16.438433,-14.270567,-12.439838,5.496809,5.9109945,4.931174,12.909681,-15.200155,-14.457169,14.033238,-13.861334,-11.120554,5.561842,-0.049917072,6.453147,7.7311482,6.572586,4.268343,2.565087,3.757592,-12.310338,3.6408966,6.4628468,0.16614065,-12.916982,-14.48823,-12.032875,-12.115688,8.227574,-17.563704,6.175985,9.605451,11.379227,-14.7011175,5.4443374,3.4715567,-13.281521,-16.116533,2.821108,9.838957,-9.504017,7.7931423,-15.57576,-13.115666,5.405799,11.706904,-10.411173,-17.926003,2.1726565,3.321999,6.7496185,4.5303993,10.474161,10.367103,5.247811,6.487637,-18.972166,-1.9571912,4.2083697,5.8999267,2.4293103,12.360549,-11.784824,5.1485076,-17.28482,10.0164175,11.119433,8.992088,10.78713,1.9002723,-16.245481,-12.342982,-12.2009115,11.830146,6.9414744,-12.075016,4.247201,-0.086672366,-11.451835,3.3912249,6.054171,11.070059,5.1800065,10.456401,7.8319354,6.631439,3.6112692,-2.1013963,11.409222,9.77122,2.327457,5.1542563,6.508665,4.348799,9.364688,-14.119879,-1.086704,7.0492706,6.9174066,10.721889,14.270806,2.7431598,-15.545663,7.8113146,-13.377318,2.909177,-9.735885,5.2075634,7.92638,1.1856952,-19.890306,5.744515,6.386575,8.732005,12.176355,6.170942,-14.256246,-13.460893,-2.2884111,7.3849225,7.812988,2.9515874,-13.177443,11.643803,8.35111,-12.455156,-1.5007428,-15.626272,3.4630408,8.516486,8.545182,-11.860532,-17.399431,4.377805,9.730742,-15.492335,8.460282,-13.463006,9.190756,9.507739,-14.137258,-17.875206,4.8438582,-9.632434,-16.894144,8.166098,-11.696547,-15.184729,11.003474,-14.237641,11.74183,5.6635494,-15.045193,2.856952,0.8974138,-13.014802,9.542902,10.795383,5.477434,-14.46509,9.033437,10.552998,0.21328585,1.648444,7.6461797,-17.509935,11.658837,-12.740208,5.8138,9.228416,9.3065195,4.624272,11.789751,10.087315,7.1078405,-11.263316,1.6952538,7.702296,11.734245,9.616681,-12.438006,-16.40932,7.801305,-16.980597,3.1422422,-1.5262997,2.433492,-11.8465805,6.5797677,-13.681106,-10.964417,-16.451149,-11.675329,-14.649404,5.9351068,-11.218052,7.0113163,-0.07019502,4.655892,2.4772341,-0.1244632,3.601972,-1.2990865,-11.761988,8.96578,10.5246105,-1.6885192,-13.665686,-16.650122,11.0931425,6.33488,-15.768837,9.906191,9.763628,6.317431,9.450677,2.0755196,6.062463,-2.7320364,-14.661768,-12.461782,-12.20149,-19.177906,7.216973,-1.0489215,10.779776,1.8864273,0.4925316,4.3583136,-16.387362,-10.519081,10.26053,-12.815934,-13.835001,3.9771383,-16.258593,1.1398531,7.1088543,2.0144694,-11.944312,7.881193,3.1977036,11.752533,-12.299249,8.996416,-12.048921,-14.194607,9.257986,8.787555,3.1595552,-15.181981,7.51556,7.46092,4.647847,-9.980483,6.015163,-13.783794,-0.80761343,-18.139997,-19.000462,8.036258,-15.224073,9.51742,10.138194,12.4219265,2.5516717,-16.112553,-14.692658,-0.8129241,-13.902568,-15.601823,-18.294716,2.5900717,-16.152037,6.7509212,10.651031,1.6821147,4.5800734,-2.2851508,5.452902,-12.39242,6.4210825,12.705965,9.547293,0.49945772,10.925494,10.583032,-17.128855,10.552117,10.764239,-0.2821913,-15.665055,0.47659913,6.3751307,-13.752442,-16.00072,-11.909609,-17.21045,-10.946793,1.8291246,-13.378882,8.913289,-12.685251,4.3421383,-15.059682,-18.460358,8.054621,2.3448522,-12.403135,0.5969263,-1.6480533,2.0122585,10.803866,9.031212,2.2912128,3.4510682,5.9408746,0.82908314,1.4529582,6.3079963,5.474628,1.9062102,-12.100891,-17.607271,7.6910276,-16.398752,3.4541283,10.614721,3.0958788,7.139568,8.509718,-14.50696,-0.37663147,1.0526272,2.365399,1.8141556,-15.019187,0.70045215,-12.6185465,2.9215314,7.466977,0.32667923,-17.28857,5.7485175,-12.306505,4.703587,-16.792173,2.7312822,10.385999,12.711094,3.044423,-12.440863,12.635623,3.4225218,-15.165128,2.218538,5.649327,-15.417732,-16.859213,5.859849,0.23030777,-0.35324195,-12.184775,1.7577811,-10.9747925,5.7271895,7.9434085,13.213471,2.487277,9.880525,6.465018,3.5575385,-9.7668295,9.553998,2.5248811,-13.648117,-12.480344,6.3754096,-11.901131,10.127509,3.4739182,-10.715352,8.745771,12.991448,8.92268,12.189655,-15.754575,-15.659742,-8.347968,-13.612415,-19.317352,3.205559,-15.493639,-9.495573,-0.64118284,7.78447,8.34701,-12.741452,2.3332696,8.846819,-9.345584,-6.397391,7.1971264,3.008952,-15.535084,-16.407452,0.76701766,-9.749923,-10.034977,11.969527,7.3948307,-4.0742188,7.1630454,-9.7318535,-7.625323,-19.776905,7.1658797,8.006022,-10.306483,6.97751,2.2823036,-8.453327,-0.3330802,-4.865624,-14.521578,-8.91118,-11.1071415,-9.1172285,2.7715542,-16.635843,3.06927,4.4820256,0.52737117,-15.51081,3.045868,7.8117943,9.466539,-13.311067,4.8912463,2.5018702,2.4873414,-11.806327,-1.2558945,9.131374,5.827892,-14.114015,-12.8598385,-17.454178,4.3301196,-15.604936,3.6367753,9.551353,11.118998,-12.877442,8.356039,4.006784,-16.15741,10.548429,-16.02656,6.3783083,9.878602,12.841004,-0.34605777,9.455965,7.864796,-16.529205,7.4876237,-16.970474,8.134659,1.7150697,0.64976025,7.8636007,0.5193338,11.172121,3.4768105,2.295477,8.343766,0.23804207,4.4852457,8.48516,3.2149904,1.0062662,8.361997,-16.974466,5.2554965,-10.328167,10.173531,7.5250363,-15.75309,5.4980226,-13.440017,5.715247,9.281854,2.6511157,10.23692,-12.080794,5.3239,14.650727,4.9898663,3.6822937,1.9552245,4.209818,-11.989533,12.150554,9.439037,4.268975,-13.0823145,10.743367,-14.871425,-10.803247,6.5429664,-2.800821,2.8639243,-11.692731,5.028849,-16.67575,-8.785629,-12.130078,-15.359685,-10.799278,10.038999,2.5974007,6.3201942,9.624676,-13.190722,8.396543,2.398223,-16.77918,4.6571355,-0.49786884,-18.854715,-11.019211,-12.953959,-11.796699,-17.550808,-15.85716,-14.819766,8.210891,4.8214984,7.0345125,-11.817219,8.676805,8.898502,-11.345954,4.4572167,5.3914666,1.693324,5.250472,-10.001063,-1.5067248,7.8701243,4.719035,2.8250897,6.6469007,1.4274249,-12.647994,8.5526905,-13.106973,-1.9827821,7.6264095,-1.4237972,5.5747685,5.9564805,-12.15325,10.679105,7.7216873,-12.478186,0.0040107425,-15.951883,9.081318,9.338037,2.2626686,5.0371704,10.230771,6.3355374,4.70526,1.1255245,-12.334762,0.37678388,5.142399,9.9513855,-12.656903,-14.490363,-15.001658,0.3350229,7.289781,0.049131226,-10.489169,-15.179511,-14.686042,-12.402793,9.85161,-15.387509,2.7334292,3.6877813,11.969382,1.8001288,3.5018046,7.0945377,4.389637,10.614974,-17.312489,6.319853,-15.171495,-13.810897,2.0445855,-12.195068,9.149205,10.404468,10.456841,7.6817374,7.817872,-13.4007845,-16.729914,0.8307051,5.936843,-12.944632,-15.72941,-1.8471717,-14.57287,6.1289954,6.6851635,6.5173926,0.2517094,5.009736,0.98690146,6.1245747,6.9201546,-17.618906,7.844817,8.893469,-16.898209,-14.081485,-14.87105,10.038932,-12.665964,3.5981486,-15.593118,-13.262052,2.04233,9.725382,-11.053303,6.344449,-13.766012,6.838658,3.6905792,7.5273576,5.8326325,2.2272227,3.316455,-16.449919,-12.151984,6.005837,12.166891,-15.3990345,-13.709574,-10.787309,3.42585,10.770499,7.5495515,-11.826936,8.917286,1.9217967,11.258037,8.12939,7.3964715,-12.657259,6.4065213,-17.839746,4.937828,3.2587292,-16.397396,7.365069,9.608771,8.412706,-17.624163,2.9439826,-10.472667,-12.525839,-2.34179,9.301676,9.126289,-17.563416,11.188281,4.4550247,-13.593029,-14.125425,-17.3734,-9.976372,6.0322304,5.729851,-12.780947,-14.388986,1.777666,8.645919,9.619336,-11.813176,-17.128448],\"z\":[-7.138369,10.72059,-8.418662,8.2792015,-8.9883375,5.343394,6.494067,8.508329,0.5816055,-8.886749,9.797785,-2.8815413,12.684539,-6.8610997,-1.4255729,2.6816616,12.662062,-2.6796422,-8.365085,-1.06105,4.988536,-12.342491,-6.6242156,0.52881414,2.7926223,-12.881217,-1.8203628,-1.713156,-1.9935912,3.2853067,-1.1479034,9.655339,-9.08612,0.46249178,-1.7833545,-12.714684,3.0346906,-2.0082061,-10.216263,5.503155,3.1290865,1.2070446,2.143293,0.8425568,-0.5674173,2.9050126,-0.21638228,0.5435096,-2.558492,4.866609,12.38733,-8.23812,-2.5851219,2.983141,6.1959805,9.5916605,11.4439745,5.659212,0.8356744,-4.1357384,4.3994803,0.8354065,-0.1489994,1.8227706,1.0407293,-0.4643835,4.156172,-2.769226,-2.6084971,5.9207273,1.370147,7.003462,-8.810305,10.743289,-13.002037,-10.765917,-4.0703483,2.2372572,-15.376945,-12.3968725,-12.006685,-12.4594345,-5.087689,0.9055751,7.0352983,7.600432,4.8291187,7.879045,1.5715657,-12.370664,-13.313046,9.709909,1.9829524,7.8000445,8.486573,0.081746444,-3.3409724,6.184259,-2.1198585,-3.8208358,-9.666675,5.0525923,5.7241693,-3.099457,1.1380714,-6.2626047,0.69340724,7.7762485,-12.126964,2.4793568,-12.654034,-11.557408,11.399345,-10.537361,-7.754756,-13.554357,10.449367,7.9279485,9.233305,-2.3912525,-13.745752,0.6325761,8.797056,2.269381,-0.01045864,8.568085,7.555066,7.6588316,7.2679296,8.142556,-0.57444805,-3.2520409,11.8902645,6.3269243,6.323899,-8.48885,-6.9083967,10.906093,7.5496364,2.8873842,10.7844095,-13.916218,-3.0705738,-6.270227,-3.3273294,-8.759206,7.5180383,4.8423214,8.788473,0.60367197,-13.045537,-12.679556,2.078066,-3.4149632,-11.104062,-3.1278052,2.8368032,3.3916326,-14.46091,8.667422,8.996235,-0.5269681,-16.23199,-14.96611,7.227415,4.87931,11.0678,2.0811572,-4.173972,-0.68014437,0.35669085,6.1445456,4.444525,-7.960893,1.6165091,6.7626963,5.341317,-7.672502,9.154802,9.374806,3.2126098,4.855571,10.812509,4.805804,2.9040558,10.00801,1.2046013,-0.94254637,-10.119219,-12.875433,4.8664994,-6.9972963,10.164672,-8.407953,11.424097,7.0969486,3.8007958,8.485045,-9.20063,0.6026169,0.37083906,1.8913336,7.1663413,-4.905592,-8.089076,9.716703,-12.741816,0.46008116,5.817672,6.760899,1.7614936,0.90813833,1.0650427,-13.879531,0.75670165,1.8461643,6.975988,2.6456227,1.4930878,2.7002914,-8.6830635,6.7704844,-4.760106,-12.921455,10.159466,-12.725109,0.8606249,-10.3283825,6.105997,1.3248435,7.429839,2.1205633,9.568937,10.406583,-3.1792102,6.340447,5.458066,-11.942764,7.4438167,-8.618281,0.8229215,6.8570786,-6.0471888,8.16672,6.1191635,9.078841,-9.84044,-16.967659,0.35331723,-6.696438,-3.8220956,2.3774283,6.6831155,-0.62996674,-6.8862157,-0.37003627,-9.188681,8.225813,0.9742174,-3.4224908,-6.998879,-1.6100887,-8.155754,2.649757,-4.3550806,8.199224,10.840916,10.780785,-12.179786,7.3136992,6.18804,9.964404,-10.708748,-7.0357676,7.492643,-0.03527022,0.1264638,-7.0193467,6.761924,-9.842999,1.487664,-6.671944,-9.056338,-7.9111476,-7.069307,8.948758,-0.43856278,6.935333,8.746053,-8.629757,-13.571826,5.947916,0.4798251,9.02065,1.1114436,11.321826,6.9161553,-15.450283,1.640895,-8.81009,8.004766,9.1262865,2.4254534,6.8013062,4.9671135,-15.053915,5.9651265,-14.92752,3.099027,3.2236924,2.9335463,4.9028587,3.8813689,-8.134745,2.9295564,-9.045163,-0.6067112,8.136226,-15.341374,8.00716,7.879807,-12.653027,8.150991,5.6244802,-14.939126,-11.60757,9.79879,10.244129,-2.7634268,6.1033,10.931872,1.224714,-0.6713439,-4.79511,7.5518026,-3.8940346,7.8076982,-8.114789,1.5200244,0.014837129,-8.723391,-10.329408,9.511003,-3.0355349,8.4949045,-3.7548869,6.389135,5.1154165,8.14272,1.8091327,1.3516095,-10.093556,-3.8581405,9.614681,-0.45569545,-10.303376,-0.96477246,6.277642,0.32924026,-13.043139,9.388851,6.010111,-3.0841985,2.3690603,8.458901,-16.32129,3.3047087,10.545382,8.243635,8.017775,2.4772706,0.8410776,-5.1377077,-1.8721268,8.131638,1.0245956,-14.3873,5.7179317,8.571223,-13.58775,8.813262,1.1384927,-12.492551,-13.013968,8.957339,-3.0492969,0.21252422,0.5953999,1.2657777,-11.532819,1.1509,-4.0073175,-11.948914,-12.186572,-2.941367,9.727402,-6.428563,6.019957,-10.7743025,-9.638555,-2.0994961,2.6748352,5.073721,10.390241,6.885181,10.312436,-5.248397,-0.09259437,9.645418,9.091421,9.488352,-12.725307,2.309839,-15.686428,5.5775194,2.1404245,6.8075466,8.590748,10.602571,-3.417073,-11.707989,3.239232,6.8385663,8.725776,-3.765404,7.442121,7.499121,5.6042595,-8.466456,-3.6697989,-13.343635,8.516143,0.59825945,5.8441567,0.59455496,2.7425299,-3.0591753,-4.690864,-12.739409,-7.6637406,-7.107055,-15.770954,-7.857566,-3.0014799,0.90573937,5.8771343,2.9649947,-0.9707136,-5.6872444,5.663074,1.8695602,-6.7151384,1.6819887,-15.571631,10.507005,7.6945863,-0.038722474,-6.8422503,-15.17158,-14.062867,9.46491,-6.338324,3.133173,-11.932734,0.7735361,-13.274097,-11.685442,4.4744883,5.261592,-4.826632,-13.592765,-3.9401724,4.2336216,-10.174957,0.8834435,10.988346,7.032862,4.33998,-6.9838085,8.949128,2.706131,1.5489864,4.27755,-2.6663547,10.005117,-3.6717942,5.3828897,-7.8915563,-8.484356,-9.522997,-16.288015,10.867823,2.7037618,1.7895101,-5.6917644,6.7812304,9.2826605,9.516577,-1.8073746,-11.505732,7.676787,-1.0046498,-12.55529,1.6512091,-7.911688,-8.878855,-14.868633,4.882497,-8.119055,4.2162123,-7.5896544,3.646102,5.290714,0.62789774,-14.826561,-1.6998649,-3.8652108,-15.079721,1.2757274,6.313811,-10.429165,-3.2982278,0.63963956,-2.274408,0.7984931,11.474453,-6.7861547,9.2222805,1.1409085,-9.425073,5.708935,2.5549364,10.397908,2.5074186,9.964918,3.137065,11.213521,-4.5850616,-4.756982,7.5943947,3.7887065,7.387726,9.527226,8.593372,5.591617,12.499946,-7.6351495,7.7641015,6.2204847,-8.547363,-1.9244119,-8.9561615,-5.883777,-14.387484,-0.42239246,4.329031,10.001834,-13.09887,10.484204,-0.33548176,-3.5584638,1.7564642,0.20999284,7.867386,-1.4065756,-12.853064,4.0143566,-0.59229046,6.4008985,8.858764,-7.888571,9.718801,7.358543,1.588648,10.259134,2.2310536,8.832038,8.561925,-8.269227,-14.779618,-11.0291605,-15.544697,-2.5021782,8.522653,3.027035,-12.568438,-9.516259,-0.19290254,10.8520975,3.1485457,3.4934986,0.7066654,-0.91387445,6.8358226,3.1238308,-3.2677195,7.7761497,1.3256469,4.79912,-3.3660164,10.372641,0.22688648,4.0452905,7.7242746,6.684145,7.719367,9.7004595,-0.027460104,-2.2656312,6.857898,1.34718,-12.483541,-10.13447,-9.437427,-10.9913025,0.42170152,2.98987,1.9216899,-0.5515068,-9.451088,-2.2464561,-2.3746161,-4.203569,0.58984244,-2.4738023,6.2942805,9.319725,-7.859403,0.7502331,-12.427721,-3.1689284,8.505424,-15.0159445,-4.1688433,-12.207805,-4.962609,-4.33529,-2.0108192,10.098498,4.1448565,-8.143415,6.9391804,7.4258785,-13.65916,0.006887071,-17.00759,-5.30284,-8.99016,-0.1476437,-11.242424,0.85773444,4.094037,1.7103893,11.257296,6.722016,6.083847,-4.345459,-8.382763,0.30554366,2.5849972,3.185327,-1.5614731,0.51668596,-8.23895,7.4635396,5.665921,10.878499,6.5531335,8.477191,5.909222,3.2048395,-9.698934,-3.7250195,-2.1018126,7.323464,-1.2790614,8.002996,11.404606,6.8739,6.202577,-3.9733076,2.2333844,-9.392247,4.6352754,-5.2649255,6.319302,-7.7209764,4.197979,9.738362,2.7354274,4.542878,3.155347,1.979269,4.525353,11.664161,10.25179,-12.944498,-12.6853485,-15.577736,0.72266924,2.6572344,-10.650349,-6.8591104,-1.9923705,-8.693355,9.327856,9.414999,-1.016369,-3.256822,1.0926304,0.15607086,2.835591,-0.7562099,-12.921802,-7.7320576,8.015135,5.182877,3.6399226,-7.698093,2.6399078,-8.369675,12.1747675,5.712464,-8.224424,2.913898,-9.038773,5.210174,10.765528,8.23882,5.114993,2.0366704,-4.479881,-2.2820044,-3.4542985,0.95730793,9.72108,-13.434304,-15.7740555,-15.193333,1.4136328,1.208535,-10.152053,-9.175657,2.1550152,-10.963348,-15.417235,-14.0860405,11.265777,-7.2210927,2.8639674,9.81539,-5.612859,8.779887,11.383958,1.3250545,-7.9475865,-12.25086,-1.4739854,0.6140204,4.8844857,4.137968,-3.8240178,0.36555755,8.264714,-8.775431,10.2345705,10.3558035,-6.269204,8.126134,-7.2564073,-12.044379,-6.5647745,-1.1418946,7.4776764,-10.993242,1.2068955,0.67445177,2.716777,-14.944219,-9.912016,-12.7503,10.06007,6.520412,-12.984291,-16.908592,3.2585888,-1.997938,7.730104,-14.016302,-12.194898,7.3551,-11.198974,1.6197048,-14.78156,11.412096,11.098964,-0.28492555,-6.0681853,-14.018929,4.3548393,0.7106117,0.21792397,1.1621363,10.139894,-8.796619,5.536001,-1.6338779,4.774854,11.060231,2.2444532,-4.8743305,2.932449,-14.891778,-11.699562,7.05214,-5.5157685,5.7582855,6.092459,4.7825108,8.299134,7.988192,-7.913835,-15.758005,6.1757107,4.5519323,-3.5511086,10.925111,-13.458558,-12.987764,1.7046229,4.215781,-12.9747305,-0.04321932,2.4533598,-7.414984,6.2064824,-4.5287423,-7.5181518,7.4631853,-1.2683214,-13.715104,-3.1254122,8.49047,6.558635,8.200985,9.6493435,7.854619,-14.130699,-13.077075,-0.1760608,9.85028,-10.159495,-2.4711254,-13.659306,1.1690881,6.4416156,2.9733753,12.407988,-13.639338,1.4892752,-10.666861,-12.568829,-0.13190824,-13.889477,5.9527006,10.6800375,8.551881,-12.363709,6.974455,-13.187901,6.132828,-1.7285138,4.943502,-13.6937,8.7205925,0.18705066,-2.852972,2.453201,-6.7051406,-6.7809668,-14.077066,-17.700277,-9.634405,7.0010786,6.196349,11.3861475,-10.180151,1.2578926,-8.675345,1.3826036,-5.170121,3.4900663,-3.3838847,-9.750955,3.9356065,-12.155414,-9.093553,7.180178,0.7878999,0.6126108,6.505703,-1.4348038,0.413289,5.903976,-15.167287,-5.3452992,7.0710087,9.055439,-2.9575222,-13.360953,4.50002,0.21152458,1.9647704,-13.375633,2.0526047,-7.8895655,-6.0690155,8.701747,11.885784,10.609104,-10.162182,11.849869,-2.2908096,-10.46907,7.079007,-13.722214,10.086673,-6.7716117,1.7958988,6.7307467,-7.4633193,-0.5676661,4.407249,3.994424,6.7885895,-3.6784468,-3.1465507,-6.7756944,9.237434,8.468755,-4.5793595,-0.760574,-15.144155,10.419334,-15.857976,0.35318,-16.278225,-13.414666,6.8077216,10.298583,-6.47948,0.18475243,6.276509,9.039503,0.45169646,6.822708,11.444516,2.2397888,2.331223,1.8235366,10.881107,2.9719918,-7.674168,-15.346626,-8.345879,4.144035,8.327059,-13.901325,1.2184949,-0.8039423,1.186285,-15.621269,-8.658105,-7.947297,-10.6301985,7.810186,8.550994,0.9468055,-2.0428693,7.6227727,1.143014,-9.860477,-15.337276,9.076271,1.7715515,2.7268515,2.0701106,6.630474,9.251925,-4.169868,8.017108,-14.6707,-17.34351,-6.6354346,1.38766,-7.4967957,-2.3118863,-13.657223,6.0630136,-4.399604],\"type\":\"scatter3d\"}],                        {\"template\":{\"data\":{\"histogram2dcontour\":[{\"type\":\"histogram2dcontour\",\"colorbar\":{\"outlinewidth\":0,\"ticks\":\"\"},\"colorscale\":[[0.0,\"#0d0887\"],[0.1111111111111111,\"#46039f\"],[0.2222222222222222,\"#7201a8\"],[0.3333333333333333,\"#9c179e\"],[0.4444444444444444,\"#bd3786\"],[0.5555555555555556,\"#d8576b\"],[0.6666666666666666,\"#ed7953\"],[0.7777777777777778,\"#fb9f3a\"],[0.8888888888888888,\"#fdca26\"],[1.0,\"#f0f921\"]]}],\"choropleth\":[{\"type\":\"choropleth\",\"colorbar\":{\"outlinewidth\":0,\"ticks\":\"\"}}],\"histogram2d\":[{\"type\":\"histogram2d\",\"colorbar\":{\"outlinewidth\":0,\"ticks\":\"\"},\"colorscale\":[[0.0,\"#0d0887\"],[0.1111111111111111,\"#46039f\"],[0.2222222222222222,\"#7201a8\"],[0.3333333333333333,\"#9c179e\"],[0.4444444444444444,\"#bd3786\"],[0.5555555555555556,\"#d8576b\"],[0.6666666666666666,\"#ed7953\"],[0.7777777777777778,\"#fb9f3a\"],[0.8888888888888888,\"#fdca26\"],[1.0,\"#f0f921\"]]}],\"heatmap\":[{\"type\":\"heatmap\",\"colorbar\":{\"outlinewidth\":0,\"ticks\":\"\"},\"colorscale\":[[0.0,\"#0d0887\"],[0.1111111111111111,\"#46039f\"],[0.2222222222222222,\"#7201a8\"],[0.3333333333333333,\"#9c179e\"],[0.4444444444444444,\"#bd3786\"],[0.5555555555555556,\"#d8576b\"],[0.6666666666666666,\"#ed7953\"],[0.7777777777777778,\"#fb9f3a\"],[0.8888888888888888,\"#fdca26\"],[1.0,\"#f0f921\"]]}],\"heatmapgl\":[{\"type\":\"heatmapgl\",\"colorbar\":{\"outlinewidth\":0,\"ticks\":\"\"},\"colorscale\":[[0.0,\"#0d0887\"],[0.1111111111111111,\"#46039f\"],[0.2222222222222222,\"#7201a8\"],[0.3333333333333333,\"#9c179e\"],[0.4444444444444444,\"#bd3786\"],[0.5555555555555556,\"#d8576b\"],[0.6666666666666666,\"#ed7953\"],[0.7777777777777778,\"#fb9f3a\"],[0.8888888888888888,\"#fdca26\"],[1.0,\"#f0f921\"]]}],\"contourcarpet\":[{\"type\":\"contourcarpet\",\"colorbar\":{\"outlinewidth\":0,\"ticks\":\"\"}}],\"contour\":[{\"type\":\"contour\",\"colorbar\":{\"outlinewidth\":0,\"ticks\":\"\"},\"colorscale\":[[0.0,\"#0d0887\"],[0.1111111111111111,\"#46039f\"],[0.2222222222222222,\"#7201a8\"],[0.3333333333333333,\"#9c179e\"],[0.4444444444444444,\"#bd3786\"],[0.5555555555555556,\"#d8576b\"],[0.6666666666666666,\"#ed7953\"],[0.7777777777777778,\"#fb9f3a\"],[0.8888888888888888,\"#fdca26\"],[1.0,\"#f0f921\"]]}],\"surface\":[{\"type\":\"surface\",\"colorbar\":{\"outlinewidth\":0,\"ticks\":\"\"},\"colorscale\":[[0.0,\"#0d0887\"],[0.1111111111111111,\"#46039f\"],[0.2222222222222222,\"#7201a8\"],[0.3333333333333333,\"#9c179e\"],[0.4444444444444444,\"#bd3786\"],[0.5555555555555556,\"#d8576b\"],[0.6666666666666666,\"#ed7953\"],[0.7777777777777778,\"#fb9f3a\"],[0.8888888888888888,\"#fdca26\"],[1.0,\"#f0f921\"]]}],\"mesh3d\":[{\"type\":\"mesh3d\",\"colorbar\":{\"outlinewidth\":0,\"ticks\":\"\"}}],\"scatter\":[{\"fillpattern\":{\"fillmode\":\"overlay\",\"size\":10,\"solidity\":0.2},\"type\":\"scatter\"}],\"parcoords\":[{\"type\":\"parcoords\",\"line\":{\"colorbar\":{\"outlinewidth\":0,\"ticks\":\"\"}}}],\"scatterpolargl\":[{\"type\":\"scatterpolargl\",\"marker\":{\"colorbar\":{\"outlinewidth\":0,\"ticks\":\"\"}}}],\"bar\":[{\"error_x\":{\"color\":\"#2a3f5f\"},\"error_y\":{\"color\":\"#2a3f5f\"},\"marker\":{\"line\":{\"color\":\"#E5ECF6\",\"width\":0.5},\"pattern\":{\"fillmode\":\"overlay\",\"size\":10,\"solidity\":0.2}},\"type\":\"bar\"}],\"scattergeo\":[{\"type\":\"scattergeo\",\"marker\":{\"colorbar\":{\"outlinewidth\":0,\"ticks\":\"\"}}}],\"scatterpolar\":[{\"type\":\"scatterpolar\",\"marker\":{\"colorbar\":{\"outlinewidth\":0,\"ticks\":\"\"}}}],\"histogram\":[{\"marker\":{\"pattern\":{\"fillmode\":\"overlay\",\"size\":10,\"solidity\":0.2}},\"type\":\"histogram\"}],\"scattergl\":[{\"type\":\"scattergl\",\"marker\":{\"colorbar\":{\"outlinewidth\":0,\"ticks\":\"\"}}}],\"scatter3d\":[{\"type\":\"scatter3d\",\"line\":{\"colorbar\":{\"outlinewidth\":0,\"ticks\":\"\"}},\"marker\":{\"colorbar\":{\"outlinewidth\":0,\"ticks\":\"\"}}}],\"scattermapbox\":[{\"type\":\"scattermapbox\",\"marker\":{\"colorbar\":{\"outlinewidth\":0,\"ticks\":\"\"}}}],\"scatterternary\":[{\"type\":\"scatterternary\",\"marker\":{\"colorbar\":{\"outlinewidth\":0,\"ticks\":\"\"}}}],\"scattercarpet\":[{\"type\":\"scattercarpet\",\"marker\":{\"colorbar\":{\"outlinewidth\":0,\"ticks\":\"\"}}}],\"carpet\":[{\"aaxis\":{\"endlinecolor\":\"#2a3f5f\",\"gridcolor\":\"white\",\"linecolor\":\"white\",\"minorgridcolor\":\"white\",\"startlinecolor\":\"#2a3f5f\"},\"baxis\":{\"endlinecolor\":\"#2a3f5f\",\"gridcolor\":\"white\",\"linecolor\":\"white\",\"minorgridcolor\":\"white\",\"startlinecolor\":\"#2a3f5f\"},\"type\":\"carpet\"}],\"table\":[{\"cells\":{\"fill\":{\"color\":\"#EBF0F8\"},\"line\":{\"color\":\"white\"}},\"header\":{\"fill\":{\"color\":\"#C8D4E3\"},\"line\":{\"color\":\"white\"}},\"type\":\"table\"}],\"barpolar\":[{\"marker\":{\"line\":{\"color\":\"#E5ECF6\",\"width\":0.5},\"pattern\":{\"fillmode\":\"overlay\",\"size\":10,\"solidity\":0.2}},\"type\":\"barpolar\"}],\"pie\":[{\"automargin\":true,\"type\":\"pie\"}]},\"layout\":{\"autotypenumbers\":\"strict\",\"colorway\":[\"#636efa\",\"#EF553B\",\"#00cc96\",\"#ab63fa\",\"#FFA15A\",\"#19d3f3\",\"#FF6692\",\"#B6E880\",\"#FF97FF\",\"#FECB52\"],\"font\":{\"color\":\"#2a3f5f\"},\"hovermode\":\"closest\",\"hoverlabel\":{\"align\":\"left\"},\"paper_bgcolor\":\"white\",\"plot_bgcolor\":\"#E5ECF6\",\"polar\":{\"bgcolor\":\"#E5ECF6\",\"angularaxis\":{\"gridcolor\":\"white\",\"linecolor\":\"white\",\"ticks\":\"\"},\"radialaxis\":{\"gridcolor\":\"white\",\"linecolor\":\"white\",\"ticks\":\"\"}},\"ternary\":{\"bgcolor\":\"#E5ECF6\",\"aaxis\":{\"gridcolor\":\"white\",\"linecolor\":\"white\",\"ticks\":\"\"},\"baxis\":{\"gridcolor\":\"white\",\"linecolor\":\"white\",\"ticks\":\"\"},\"caxis\":{\"gridcolor\":\"white\",\"linecolor\":\"white\",\"ticks\":\"\"}},\"coloraxis\":{\"colorbar\":{\"outlinewidth\":0,\"ticks\":\"\"}},\"colorscale\":{\"sequential\":[[0.0,\"#0d0887\"],[0.1111111111111111,\"#46039f\"],[0.2222222222222222,\"#7201a8\"],[0.3333333333333333,\"#9c179e\"],[0.4444444444444444,\"#bd3786\"],[0.5555555555555556,\"#d8576b\"],[0.6666666666666666,\"#ed7953\"],[0.7777777777777778,\"#fb9f3a\"],[0.8888888888888888,\"#fdca26\"],[1.0,\"#f0f921\"]],\"sequentialminus\":[[0.0,\"#0d0887\"],[0.1111111111111111,\"#46039f\"],[0.2222222222222222,\"#7201a8\"],[0.3333333333333333,\"#9c179e\"],[0.4444444444444444,\"#bd3786\"],[0.5555555555555556,\"#d8576b\"],[0.6666666666666666,\"#ed7953\"],[0.7777777777777778,\"#fb9f3a\"],[0.8888888888888888,\"#fdca26\"],[1.0,\"#f0f921\"]],\"diverging\":[[0,\"#8e0152\"],[0.1,\"#c51b7d\"],[0.2,\"#de77ae\"],[0.3,\"#f1b6da\"],[0.4,\"#fde0ef\"],[0.5,\"#f7f7f7\"],[0.6,\"#e6f5d0\"],[0.7,\"#b8e186\"],[0.8,\"#7fbc41\"],[0.9,\"#4d9221\"],[1,\"#276419\"]]},\"xaxis\":{\"gridcolor\":\"white\",\"linecolor\":\"white\",\"ticks\":\"\",\"title\":{\"standoff\":15},\"zerolinecolor\":\"white\",\"automargin\":true,\"zerolinewidth\":2},\"yaxis\":{\"gridcolor\":\"white\",\"linecolor\":\"white\",\"ticks\":\"\",\"title\":{\"standoff\":15},\"zerolinecolor\":\"white\",\"automargin\":true,\"zerolinewidth\":2},\"scene\":{\"xaxis\":{\"backgroundcolor\":\"#E5ECF6\",\"gridcolor\":\"white\",\"linecolor\":\"white\",\"showbackground\":true,\"ticks\":\"\",\"zerolinecolor\":\"white\",\"gridwidth\":2},\"yaxis\":{\"backgroundcolor\":\"#E5ECF6\",\"gridcolor\":\"white\",\"linecolor\":\"white\",\"showbackground\":true,\"ticks\":\"\",\"zerolinecolor\":\"white\",\"gridwidth\":2},\"zaxis\":{\"backgroundcolor\":\"#E5ECF6\",\"gridcolor\":\"white\",\"linecolor\":\"white\",\"showbackground\":true,\"ticks\":\"\",\"zerolinecolor\":\"white\",\"gridwidth\":2}},\"shapedefaults\":{\"line\":{\"color\":\"#2a3f5f\"}},\"annotationdefaults\":{\"arrowcolor\":\"#2a3f5f\",\"arrowhead\":0,\"arrowwidth\":1},\"geo\":{\"bgcolor\":\"white\",\"landcolor\":\"#E5ECF6\",\"subunitcolor\":\"white\",\"showland\":true,\"showlakes\":true,\"lakecolor\":\"white\"},\"title\":{\"x\":0.05},\"mapbox\":{\"style\":\"light\"}}},\"scene\":{\"domain\":{\"x\":[0.0,1.0],\"y\":[0.0,1.0]},\"xaxis\":{\"title\":{\"text\":\"0\"}},\"yaxis\":{\"title\":{\"text\":\"1\"}},\"zaxis\":{\"title\":{\"text\":\"2\"}}},\"coloraxis\":{\"colorbar\":{\"title\":{\"text\":\"Anomaly\"}},\"colorscale\":[[0.0,\"#0d0887\"],[0.1111111111111111,\"#46039f\"],[0.2222222222222222,\"#7201a8\"],[0.3333333333333333,\"#9c179e\"],[0.4444444444444444,\"#bd3786\"],[0.5555555555555556,\"#d8576b\"],[0.6666666666666666,\"#ed7953\"],[0.7777777777777778,\"#fb9f3a\"],[0.8888888888888888,\"#fdca26\"],[1.0,\"#f0f921\"]]},\"legend\":{\"tracegroupgap\":0},\"title\":{\"text\":\"3d TSNE Plot for Outliers\"},\"height\":800,\"width\":900},                        {\"responsive\": true}                    ).then(function(){\n",
       "                            \n",
       "var gd = document.getElementById('f115546c-99dc-4b5d-a8fc-701f39389587');\n",
       "var x = new MutationObserver(function (mutations, observer) {{\n",
       "        var display = window.getComputedStyle(gd).display;\n",
       "        if (!display || display === 'none') {{\n",
       "            console.log([gd, 'removed!']);\n",
       "            Plotly.purge(gd);\n",
       "            observer.disconnect();\n",
       "        }}\n",
       "}});\n",
       "\n",
       "// Listen for the removal of the full notebook cells\n",
       "var notebookContainer = gd.closest('#notebook-container');\n",
       "if (notebookContainer) {{\n",
       "    x.observe(notebookContainer, {childList: true});\n",
       "}}\n",
       "\n",
       "// Listen for the clearing of the current output cell\n",
       "var outputEl = gd.closest('.output');\n",
       "if (outputEl) {{\n",
       "    x.observe(outputEl, {childList: true});\n",
       "}}\n",
       "\n",
       "                        })                };                });            </script>        </div>"
      ]
     },
     "metadata": {},
     "output_type": "display_data"
    }
   ],
   "source": [
    "# tsne plot anomalies\n",
    "plot_model(iforest, plot = 'tsne')"
   ]
  },
  {
   "cell_type": "code",
   "execution_count": 54,
   "id": "da718984",
   "metadata": {},
   "outputs": [],
   "source": [
    "# check docstring to see available plots \n",
    "# help(plot_model)"
   ]
  },
  {
   "cell_type": "markdown",
   "id": "99e64e65",
   "metadata": {},
   "source": [
    "An alternate to `plot_model` function is `evaluate_model`. It can only be used in Notebook since it uses ipywidget."
   ]
  },
  {
   "cell_type": "code",
   "execution_count": 87,
   "id": "c75f07a8",
   "metadata": {},
   "outputs": [
    {
     "data": {
      "application/vnd.jupyter.widget-view+json": {
       "model_id": "9404175a4d9b485db9c968fd33da83d2",
       "version_major": 2,
       "version_minor": 0
      },
      "text/plain": [
       "interactive(children=(ToggleButtons(description='Plot Type:', icons=('',), options=(('Pipeline Plot', 'pipelin…"
      ]
     },
     "metadata": {},
     "output_type": "display_data"
    }
   ],
   "source": [
    "evaluate_model(iforest)"
   ]
  },
  {
   "cell_type": "markdown",
   "id": "954cbeff",
   "metadata": {},
   "source": [
    "## Prediction\n",
    "The `predict_model` function returns `Anomaly` and `Anomaly_Score` label as a new column in the input dataframe. This step may or may not be needed depending on the use-case. Some times clustering models are trained for analysis purpose only and the interest of user is only in assigned labels on the training dataset, that can be done using `assign_model` function. `predict_model` is only useful when you want to obtain cluster labels on unseen data (i.e. data that was not used during training the model)."
   ]
  },
  {
   "cell_type": "code",
   "execution_count": 56,
   "id": "87c1a007",
   "metadata": {},
   "outputs": [
    {
     "data": {
      "text/html": [
       "<div>\n",
       "<style scoped>\n",
       "    .dataframe tbody tr th:only-of-type {\n",
       "        vertical-align: middle;\n",
       "    }\n",
       "\n",
       "    .dataframe tbody tr th {\n",
       "        vertical-align: top;\n",
       "    }\n",
       "\n",
       "    .dataframe thead th {\n",
       "        text-align: right;\n",
       "    }\n",
       "</style>\n",
       "<table border=\"1\" class=\"dataframe\">\n",
       "  <thead>\n",
       "    <tr style=\"text-align: right;\">\n",
       "      <th></th>\n",
       "      <th>Col1</th>\n",
       "      <th>Col2</th>\n",
       "      <th>Col3</th>\n",
       "      <th>Col4</th>\n",
       "      <th>Col5</th>\n",
       "      <th>Col6</th>\n",
       "      <th>Col7</th>\n",
       "      <th>Col8</th>\n",
       "      <th>Col9</th>\n",
       "      <th>Col10</th>\n",
       "      <th>Anomaly</th>\n",
       "      <th>Anomaly_Score</th>\n",
       "    </tr>\n",
       "  </thead>\n",
       "  <tbody>\n",
       "    <tr>\n",
       "      <th>0</th>\n",
       "      <td>0.263995</td>\n",
       "      <td>0.764929</td>\n",
       "      <td>0.138424</td>\n",
       "      <td>0.935242</td>\n",
       "      <td>0.605867</td>\n",
       "      <td>0.518790</td>\n",
       "      <td>0.912225</td>\n",
       "      <td>0.608234</td>\n",
       "      <td>0.723782</td>\n",
       "      <td>0.733591</td>\n",
       "      <td>0</td>\n",
       "      <td>-0.035865</td>\n",
       "    </tr>\n",
       "    <tr>\n",
       "      <th>1</th>\n",
       "      <td>0.546092</td>\n",
       "      <td>0.653975</td>\n",
       "      <td>0.065575</td>\n",
       "      <td>0.227772</td>\n",
       "      <td>0.845269</td>\n",
       "      <td>0.837066</td>\n",
       "      <td>0.272379</td>\n",
       "      <td>0.331679</td>\n",
       "      <td>0.429297</td>\n",
       "      <td>0.367422</td>\n",
       "      <td>0</td>\n",
       "      <td>-0.084927</td>\n",
       "    </tr>\n",
       "    <tr>\n",
       "      <th>2</th>\n",
       "      <td>0.336714</td>\n",
       "      <td>0.538842</td>\n",
       "      <td>0.192801</td>\n",
       "      <td>0.553563</td>\n",
       "      <td>0.074515</td>\n",
       "      <td>0.332993</td>\n",
       "      <td>0.365792</td>\n",
       "      <td>0.861309</td>\n",
       "      <td>0.899017</td>\n",
       "      <td>0.088600</td>\n",
       "      <td>1</td>\n",
       "      <td>0.025356</td>\n",
       "    </tr>\n",
       "    <tr>\n",
       "      <th>3</th>\n",
       "      <td>0.092108</td>\n",
       "      <td>0.995017</td>\n",
       "      <td>0.014465</td>\n",
       "      <td>0.176371</td>\n",
       "      <td>0.241530</td>\n",
       "      <td>0.514724</td>\n",
       "      <td>0.562208</td>\n",
       "      <td>0.158963</td>\n",
       "      <td>0.073715</td>\n",
       "      <td>0.208463</td>\n",
       "      <td>1</td>\n",
       "      <td>0.042415</td>\n",
       "    </tr>\n",
       "    <tr>\n",
       "      <th>4</th>\n",
       "      <td>0.325261</td>\n",
       "      <td>0.805968</td>\n",
       "      <td>0.957033</td>\n",
       "      <td>0.331665</td>\n",
       "      <td>0.307923</td>\n",
       "      <td>0.355315</td>\n",
       "      <td>0.501899</td>\n",
       "      <td>0.558449</td>\n",
       "      <td>0.885169</td>\n",
       "      <td>0.182754</td>\n",
       "      <td>0</td>\n",
       "      <td>-0.023408</td>\n",
       "    </tr>\n",
       "    <tr>\n",
       "      <th>...</th>\n",
       "      <td>...</td>\n",
       "      <td>...</td>\n",
       "      <td>...</td>\n",
       "      <td>...</td>\n",
       "      <td>...</td>\n",
       "      <td>...</td>\n",
       "      <td>...</td>\n",
       "      <td>...</td>\n",
       "      <td>...</td>\n",
       "      <td>...</td>\n",
       "      <td>...</td>\n",
       "      <td>...</td>\n",
       "    </tr>\n",
       "    <tr>\n",
       "      <th>995</th>\n",
       "      <td>0.305055</td>\n",
       "      <td>0.656837</td>\n",
       "      <td>0.331665</td>\n",
       "      <td>0.822525</td>\n",
       "      <td>0.907127</td>\n",
       "      <td>0.882276</td>\n",
       "      <td>0.855732</td>\n",
       "      <td>0.584786</td>\n",
       "      <td>0.808640</td>\n",
       "      <td>0.242762</td>\n",
       "      <td>0</td>\n",
       "      <td>-0.083981</td>\n",
       "    </tr>\n",
       "    <tr>\n",
       "      <th>996</th>\n",
       "      <td>0.812627</td>\n",
       "      <td>0.864258</td>\n",
       "      <td>0.616604</td>\n",
       "      <td>0.167966</td>\n",
       "      <td>0.811223</td>\n",
       "      <td>0.938071</td>\n",
       "      <td>0.418462</td>\n",
       "      <td>0.472306</td>\n",
       "      <td>0.348347</td>\n",
       "      <td>0.671129</td>\n",
       "      <td>0</td>\n",
       "      <td>-0.075839</td>\n",
       "    </tr>\n",
       "    <tr>\n",
       "      <th>997</th>\n",
       "      <td>0.250967</td>\n",
       "      <td>0.138627</td>\n",
       "      <td>0.919703</td>\n",
       "      <td>0.461234</td>\n",
       "      <td>0.886555</td>\n",
       "      <td>0.869888</td>\n",
       "      <td>0.800908</td>\n",
       "      <td>0.530324</td>\n",
       "      <td>0.779433</td>\n",
       "      <td>0.234952</td>\n",
       "      <td>0</td>\n",
       "      <td>-0.052903</td>\n",
       "    </tr>\n",
       "    <tr>\n",
       "      <th>998</th>\n",
       "      <td>0.502436</td>\n",
       "      <td>0.936820</td>\n",
       "      <td>0.580062</td>\n",
       "      <td>0.540773</td>\n",
       "      <td>0.151995</td>\n",
       "      <td>0.059452</td>\n",
       "      <td>0.225220</td>\n",
       "      <td>0.242755</td>\n",
       "      <td>0.279385</td>\n",
       "      <td>0.538755</td>\n",
       "      <td>0</td>\n",
       "      <td>-0.075104</td>\n",
       "    </tr>\n",
       "    <tr>\n",
       "      <th>999</th>\n",
       "      <td>0.457991</td>\n",
       "      <td>0.017755</td>\n",
       "      <td>0.714113</td>\n",
       "      <td>0.125992</td>\n",
       "      <td>0.063316</td>\n",
       "      <td>0.154739</td>\n",
       "      <td>0.922974</td>\n",
       "      <td>0.692299</td>\n",
       "      <td>0.816777</td>\n",
       "      <td>0.307592</td>\n",
       "      <td>0</td>\n",
       "      <td>-0.008665</td>\n",
       "    </tr>\n",
       "  </tbody>\n",
       "</table>\n",
       "<p>1000 rows × 12 columns</p>\n",
       "</div>"
      ],
      "text/plain": [
       "         Col1      Col2      Col3      Col4      Col5      Col6      Col7  \\\n",
       "0    0.263995  0.764929  0.138424  0.935242  0.605867  0.518790  0.912225   \n",
       "1    0.546092  0.653975  0.065575  0.227772  0.845269  0.837066  0.272379   \n",
       "2    0.336714  0.538842  0.192801  0.553563  0.074515  0.332993  0.365792   \n",
       "3    0.092108  0.995017  0.014465  0.176371  0.241530  0.514724  0.562208   \n",
       "4    0.325261  0.805968  0.957033  0.331665  0.307923  0.355315  0.501899   \n",
       "..        ...       ...       ...       ...       ...       ...       ...   \n",
       "995  0.305055  0.656837  0.331665  0.822525  0.907127  0.882276  0.855732   \n",
       "996  0.812627  0.864258  0.616604  0.167966  0.811223  0.938071  0.418462   \n",
       "997  0.250967  0.138627  0.919703  0.461234  0.886555  0.869888  0.800908   \n",
       "998  0.502436  0.936820  0.580062  0.540773  0.151995  0.059452  0.225220   \n",
       "999  0.457991  0.017755  0.714113  0.125992  0.063316  0.154739  0.922974   \n",
       "\n",
       "         Col8      Col9     Col10  Anomaly  Anomaly_Score  \n",
       "0    0.608234  0.723782  0.733591        0      -0.035865  \n",
       "1    0.331679  0.429297  0.367422        0      -0.084927  \n",
       "2    0.861309  0.899017  0.088600        1       0.025356  \n",
       "3    0.158963  0.073715  0.208463        1       0.042415  \n",
       "4    0.558449  0.885169  0.182754        0      -0.023408  \n",
       "..        ...       ...       ...      ...            ...  \n",
       "995  0.584786  0.808640  0.242762        0      -0.083981  \n",
       "996  0.472306  0.348347  0.671129        0      -0.075839  \n",
       "997  0.530324  0.779433  0.234952        0      -0.052903  \n",
       "998  0.242755  0.279385  0.538755        0      -0.075104  \n",
       "999  0.692299  0.816777  0.307592        0      -0.008665  \n",
       "\n",
       "[1000 rows x 12 columns]"
      ]
     },
     "execution_count": 56,
     "metadata": {},
     "output_type": "execute_result"
    }
   ],
   "source": [
    "# predict on test set\n",
    "iforest_pred = predict_model(iforest, data=data)\n",
    "iforest_pred"
   ]
  },
  {
   "cell_type": "markdown",
   "id": "d4baf825",
   "metadata": {},
   "source": [
    "The same function works for predicting the labels on unseen dataset. Let's create a copy of original data and drop the `Class variable`. We can then use the new data frame without labels for scoring."
   ]
  },
  {
   "cell_type": "markdown",
   "id": "e4384735",
   "metadata": {},
   "source": [
    "## Save Model"
   ]
  },
  {
   "cell_type": "markdown",
   "id": "cd63f053",
   "metadata": {},
   "source": [
    "Finally, you can save the entire pipeline on disk for later use, using pycaret's `save_model` function."
   ]
  },
  {
   "cell_type": "code",
   "execution_count": 57,
   "id": "4181de41",
   "metadata": {},
   "outputs": [
    {
     "name": "stdout",
     "output_type": "stream",
     "text": [
      "Transformation Pipeline and Model Successfully Saved\n"
     ]
    },
    {
     "data": {
      "text/plain": [
       "(Pipeline(memory=FastMemory(location=C:\\Users\\owner\\AppData\\Local\\Temp\\joblib),\n",
       "          steps=[('numerical_imputer',\n",
       "                  TransformerWrapper(include=['Col1', 'Col2', 'Col3', 'Col4',\n",
       "                                              'Col5', 'Col6', 'Col7', 'Col8',\n",
       "                                              'Col9', 'Col10'],\n",
       "                                     transformer=SimpleImputer())),\n",
       "                 ('categorical_imputer',\n",
       "                  TransformerWrapper(include=[],\n",
       "                                     transformer=SimpleImputer(strategy='most_frequent'))),\n",
       "                 ('trained_model',\n",
       "                  IForest(behaviour='new', bootstrap=False, contamination=0.05,\n",
       "     max_features=1.0, max_samples='auto', n_estimators=100, n_jobs=-1,\n",
       "     random_state=123, verbose=0))]),\n",
       " 'iforest_pipeline.pkl')"
      ]
     },
     "execution_count": 57,
     "metadata": {},
     "output_type": "execute_result"
    }
   ],
   "source": [
    "# save pipeline\n",
    "save_model(iforest, 'iforest_pipeline')"
   ]
  },
  {
   "cell_type": "code",
   "execution_count": 58,
   "id": "40ed5152",
   "metadata": {},
   "outputs": [
    {
     "name": "stdout",
     "output_type": "stream",
     "text": [
      "Transformation Pipeline and Model Successfully Loaded\n"
     ]
    },
    {
     "data": {
      "text/html": [
       "<style>#sk-container-id-3 {color: black;background-color: white;}#sk-container-id-3 pre{padding: 0;}#sk-container-id-3 div.sk-toggleable {background-color: white;}#sk-container-id-3 label.sk-toggleable__label {cursor: pointer;display: block;width: 100%;margin-bottom: 0;padding: 0.3em;box-sizing: border-box;text-align: center;}#sk-container-id-3 label.sk-toggleable__label-arrow:before {content: \"▸\";float: left;margin-right: 0.25em;color: #696969;}#sk-container-id-3 label.sk-toggleable__label-arrow:hover:before {color: black;}#sk-container-id-3 div.sk-estimator:hover label.sk-toggleable__label-arrow:before {color: black;}#sk-container-id-3 div.sk-toggleable__content {max-height: 0;max-width: 0;overflow: hidden;text-align: left;background-color: #f0f8ff;}#sk-container-id-3 div.sk-toggleable__content pre {margin: 0.2em;color: black;border-radius: 0.25em;background-color: #f0f8ff;}#sk-container-id-3 input.sk-toggleable__control:checked~div.sk-toggleable__content {max-height: 200px;max-width: 100%;overflow: auto;}#sk-container-id-3 input.sk-toggleable__control:checked~label.sk-toggleable__label-arrow:before {content: \"▾\";}#sk-container-id-3 div.sk-estimator input.sk-toggleable__control:checked~label.sk-toggleable__label {background-color: #d4ebff;}#sk-container-id-3 div.sk-label input.sk-toggleable__control:checked~label.sk-toggleable__label {background-color: #d4ebff;}#sk-container-id-3 input.sk-hidden--visually {border: 0;clip: rect(1px 1px 1px 1px);clip: rect(1px, 1px, 1px, 1px);height: 1px;margin: -1px;overflow: hidden;padding: 0;position: absolute;width: 1px;}#sk-container-id-3 div.sk-estimator {font-family: monospace;background-color: #f0f8ff;border: 1px dotted black;border-radius: 0.25em;box-sizing: border-box;margin-bottom: 0.5em;}#sk-container-id-3 div.sk-estimator:hover {background-color: #d4ebff;}#sk-container-id-3 div.sk-parallel-item::after {content: \"\";width: 100%;border-bottom: 1px solid gray;flex-grow: 1;}#sk-container-id-3 div.sk-label:hover label.sk-toggleable__label {background-color: #d4ebff;}#sk-container-id-3 div.sk-serial::before {content: \"\";position: absolute;border-left: 1px solid gray;box-sizing: border-box;top: 0;bottom: 0;left: 50%;z-index: 0;}#sk-container-id-3 div.sk-serial {display: flex;flex-direction: column;align-items: center;background-color: white;padding-right: 0.2em;padding-left: 0.2em;position: relative;}#sk-container-id-3 div.sk-item {position: relative;z-index: 1;}#sk-container-id-3 div.sk-parallel {display: flex;align-items: stretch;justify-content: center;background-color: white;position: relative;}#sk-container-id-3 div.sk-item::before, #sk-container-id-3 div.sk-parallel-item::before {content: \"\";position: absolute;border-left: 1px solid gray;box-sizing: border-box;top: 0;bottom: 0;left: 50%;z-index: -1;}#sk-container-id-3 div.sk-parallel-item {display: flex;flex-direction: column;z-index: 1;position: relative;background-color: white;}#sk-container-id-3 div.sk-parallel-item:first-child::after {align-self: flex-end;width: 50%;}#sk-container-id-3 div.sk-parallel-item:last-child::after {align-self: flex-start;width: 50%;}#sk-container-id-3 div.sk-parallel-item:only-child::after {width: 0;}#sk-container-id-3 div.sk-dashed-wrapped {border: 1px dashed gray;margin: 0 0.4em 0.5em 0.4em;box-sizing: border-box;padding-bottom: 0.4em;background-color: white;}#sk-container-id-3 div.sk-label label {font-family: monospace;font-weight: bold;display: inline-block;line-height: 1.2em;}#sk-container-id-3 div.sk-label-container {text-align: center;}#sk-container-id-3 div.sk-container {/* jupyter's `normalize.less` sets `[hidden] { display: none; }` but bootstrap.min.css set `[hidden] { display: none !important; }` so we also need the `!important` here to be able to override the default hidden behavior on the sphinx rendered scikit-learn.org. See: https://github.com/scikit-learn/scikit-learn/issues/21755 */display: inline-block !important;position: relative;}#sk-container-id-3 div.sk-text-repr-fallback {display: none;}</style><div id=\"sk-container-id-3\" class=\"sk-top-container\"><div class=\"sk-text-repr-fallback\"><pre>Pipeline(memory=FastMemory(location=C:\\Users\\owner\\AppData\\Local\\Temp\\joblib),\n",
       "         steps=[(&#x27;numerical_imputer&#x27;,\n",
       "                 TransformerWrapper(include=[&#x27;Col1&#x27;, &#x27;Col2&#x27;, &#x27;Col3&#x27;, &#x27;Col4&#x27;,\n",
       "                                             &#x27;Col5&#x27;, &#x27;Col6&#x27;, &#x27;Col7&#x27;, &#x27;Col8&#x27;,\n",
       "                                             &#x27;Col9&#x27;, &#x27;Col10&#x27;],\n",
       "                                    transformer=SimpleImputer())),\n",
       "                (&#x27;categorical_imputer&#x27;,\n",
       "                 TransformerWrapper(include=[],\n",
       "                                    transformer=SimpleImputer(strategy=&#x27;most_frequent&#x27;))),\n",
       "                (&#x27;trained_model&#x27;,\n",
       "                 IForest(behaviour=&#x27;new&#x27;, bootstrap=False, contamination=0.05,\n",
       "    max_features=1.0, max_samples=&#x27;auto&#x27;, n_estimators=100, n_jobs=-1,\n",
       "    random_state=123, verbose=0))])</pre><b>In a Jupyter environment, please rerun this cell to show the HTML representation or trust the notebook. <br />On GitHub, the HTML representation is unable to render, please try loading this page with nbviewer.org.</b></div><div class=\"sk-container\" hidden><div class=\"sk-item sk-dashed-wrapped\"><div class=\"sk-label-container\"><div class=\"sk-label sk-toggleable\"><input class=\"sk-toggleable__control sk-hidden--visually\" id=\"sk-estimator-id-20\" type=\"checkbox\" ><label for=\"sk-estimator-id-20\" class=\"sk-toggleable__label sk-toggleable__label-arrow\">Pipeline</label><div class=\"sk-toggleable__content\"><pre>Pipeline(memory=FastMemory(location=C:\\Users\\owner\\AppData\\Local\\Temp\\joblib),\n",
       "         steps=[(&#x27;numerical_imputer&#x27;,\n",
       "                 TransformerWrapper(include=[&#x27;Col1&#x27;, &#x27;Col2&#x27;, &#x27;Col3&#x27;, &#x27;Col4&#x27;,\n",
       "                                             &#x27;Col5&#x27;, &#x27;Col6&#x27;, &#x27;Col7&#x27;, &#x27;Col8&#x27;,\n",
       "                                             &#x27;Col9&#x27;, &#x27;Col10&#x27;],\n",
       "                                    transformer=SimpleImputer())),\n",
       "                (&#x27;categorical_imputer&#x27;,\n",
       "                 TransformerWrapper(include=[],\n",
       "                                    transformer=SimpleImputer(strategy=&#x27;most_frequent&#x27;))),\n",
       "                (&#x27;trained_model&#x27;,\n",
       "                 IForest(behaviour=&#x27;new&#x27;, bootstrap=False, contamination=0.05,\n",
       "    max_features=1.0, max_samples=&#x27;auto&#x27;, n_estimators=100, n_jobs=-1,\n",
       "    random_state=123, verbose=0))])</pre></div></div></div><div class=\"sk-serial\"><div class=\"sk-item sk-dashed-wrapped\"><div class=\"sk-label-container\"><div class=\"sk-label sk-toggleable\"><input class=\"sk-toggleable__control sk-hidden--visually\" id=\"sk-estimator-id-21\" type=\"checkbox\" ><label for=\"sk-estimator-id-21\" class=\"sk-toggleable__label sk-toggleable__label-arrow\">numerical_imputer: TransformerWrapper</label><div class=\"sk-toggleable__content\"><pre>TransformerWrapper(include=[&#x27;Col1&#x27;, &#x27;Col2&#x27;, &#x27;Col3&#x27;, &#x27;Col4&#x27;, &#x27;Col5&#x27;, &#x27;Col6&#x27;,\n",
       "                            &#x27;Col7&#x27;, &#x27;Col8&#x27;, &#x27;Col9&#x27;, &#x27;Col10&#x27;],\n",
       "                   transformer=SimpleImputer())</pre></div></div></div><div class=\"sk-parallel\"><div class=\"sk-parallel-item\"><div class=\"sk-item\"><div class=\"sk-label-container\"><div class=\"sk-label sk-toggleable\"><input class=\"sk-toggleable__control sk-hidden--visually\" id=\"sk-estimator-id-22\" type=\"checkbox\" ><label for=\"sk-estimator-id-22\" class=\"sk-toggleable__label sk-toggleable__label-arrow\">transformer: SimpleImputer</label><div class=\"sk-toggleable__content\"><pre>SimpleImputer()</pre></div></div></div><div class=\"sk-serial\"><div class=\"sk-item\"><div class=\"sk-estimator sk-toggleable\"><input class=\"sk-toggleable__control sk-hidden--visually\" id=\"sk-estimator-id-23\" type=\"checkbox\" ><label for=\"sk-estimator-id-23\" class=\"sk-toggleable__label sk-toggleable__label-arrow\">SimpleImputer</label><div class=\"sk-toggleable__content\"><pre>SimpleImputer()</pre></div></div></div></div></div></div></div></div><div class=\"sk-item sk-dashed-wrapped\"><div class=\"sk-label-container\"><div class=\"sk-label sk-toggleable\"><input class=\"sk-toggleable__control sk-hidden--visually\" id=\"sk-estimator-id-24\" type=\"checkbox\" ><label for=\"sk-estimator-id-24\" class=\"sk-toggleable__label sk-toggleable__label-arrow\">categorical_imputer: TransformerWrapper</label><div class=\"sk-toggleable__content\"><pre>TransformerWrapper(include=[],\n",
       "                   transformer=SimpleImputer(strategy=&#x27;most_frequent&#x27;))</pre></div></div></div><div class=\"sk-parallel\"><div class=\"sk-parallel-item\"><div class=\"sk-item\"><div class=\"sk-label-container\"><div class=\"sk-label sk-toggleable\"><input class=\"sk-toggleable__control sk-hidden--visually\" id=\"sk-estimator-id-25\" type=\"checkbox\" ><label for=\"sk-estimator-id-25\" class=\"sk-toggleable__label sk-toggleable__label-arrow\">transformer: SimpleImputer</label><div class=\"sk-toggleable__content\"><pre>SimpleImputer(strategy=&#x27;most_frequent&#x27;)</pre></div></div></div><div class=\"sk-serial\"><div class=\"sk-item\"><div class=\"sk-estimator sk-toggleable\"><input class=\"sk-toggleable__control sk-hidden--visually\" id=\"sk-estimator-id-26\" type=\"checkbox\" ><label for=\"sk-estimator-id-26\" class=\"sk-toggleable__label sk-toggleable__label-arrow\">SimpleImputer</label><div class=\"sk-toggleable__content\"><pre>SimpleImputer(strategy=&#x27;most_frequent&#x27;)</pre></div></div></div></div></div></div></div></div><div class=\"sk-item\"><div class=\"sk-estimator sk-toggleable\"><input class=\"sk-toggleable__control sk-hidden--visually\" id=\"sk-estimator-id-27\" type=\"checkbox\" ><label for=\"sk-estimator-id-27\" class=\"sk-toggleable__label sk-toggleable__label-arrow\">IForest</label><div class=\"sk-toggleable__content\"><pre>IForest(behaviour=&#x27;new&#x27;, bootstrap=False, contamination=0.05,\n",
       "    max_features=1.0, max_samples=&#x27;auto&#x27;, n_estimators=100, n_jobs=-1,\n",
       "    random_state=123, verbose=0)</pre></div></div></div></div></div></div></div>"
      ],
      "text/plain": [
       "Pipeline(memory=FastMemory(location=C:\\Users\\owner\\AppData\\Local\\Temp\\joblib),\n",
       "         steps=[('numerical_imputer',\n",
       "                 TransformerWrapper(include=['Col1', 'Col2', 'Col3', 'Col4',\n",
       "                                             'Col5', 'Col6', 'Col7', 'Col8',\n",
       "                                             'Col9', 'Col10'],\n",
       "                                    transformer=SimpleImputer())),\n",
       "                ('categorical_imputer',\n",
       "                 TransformerWrapper(include=[],\n",
       "                                    transformer=SimpleImputer(strategy='most_frequent'))),\n",
       "                ('trained_model',\n",
       "                 IForest(behaviour='new', bootstrap=False, contamination=0.05,\n",
       "    max_features=1.0, max_samples='auto', n_estimators=100, n_jobs=-1,\n",
       "    random_state=123, verbose=0))])"
      ]
     },
     "execution_count": 58,
     "metadata": {},
     "output_type": "execute_result"
    }
   ],
   "source": [
    "# load pipeline\n",
    "loaded_iforest_pipeline = load_model('iforest_pipeline')\n",
    "loaded_iforest_pipeline"
   ]
  },
  {
   "cell_type": "markdown",
   "id": "b2c7d62e",
   "metadata": {},
   "source": [
    "# 👇 Detailed function-by-function overview"
   ]
  },
  {
   "cell_type": "markdown",
   "id": "e05937f5",
   "metadata": {},
   "source": [
    "## ✅ Setup\n",
    "This function initializes the training environment and creates the transformation pipeline. The setup function must be called before executing any other function. It takes one mandatory parameter only: data. All the other parameters are optional."
   ]
  },
  {
   "cell_type": "code",
   "execution_count": 59,
   "id": "24e503be",
   "metadata": {},
   "outputs": [
    {
     "data": {
      "text/html": [
       "<style type=\"text/css\">\n",
       "#T_12709_row4_col1 {\n",
       "  background-color: lightgreen;\n",
       "}\n",
       "</style>\n",
       "<table id=\"T_12709\">\n",
       "  <thead>\n",
       "    <tr>\n",
       "      <th class=\"blank level0\" >&nbsp;</th>\n",
       "      <th id=\"T_12709_level0_col0\" class=\"col_heading level0 col0\" >Description</th>\n",
       "      <th id=\"T_12709_level0_col1\" class=\"col_heading level0 col1\" >Value</th>\n",
       "    </tr>\n",
       "  </thead>\n",
       "  <tbody>\n",
       "    <tr>\n",
       "      <th id=\"T_12709_level0_row0\" class=\"row_heading level0 row0\" >0</th>\n",
       "      <td id=\"T_12709_row0_col0\" class=\"data row0 col0\" >Session id</td>\n",
       "      <td id=\"T_12709_row0_col1\" class=\"data row0 col1\" >123</td>\n",
       "    </tr>\n",
       "    <tr>\n",
       "      <th id=\"T_12709_level0_row1\" class=\"row_heading level0 row1\" >1</th>\n",
       "      <td id=\"T_12709_row1_col0\" class=\"data row1 col0\" >Original data shape</td>\n",
       "      <td id=\"T_12709_row1_col1\" class=\"data row1 col1\" >(1000, 10)</td>\n",
       "    </tr>\n",
       "    <tr>\n",
       "      <th id=\"T_12709_level0_row2\" class=\"row_heading level0 row2\" >2</th>\n",
       "      <td id=\"T_12709_row2_col0\" class=\"data row2 col0\" >Transformed data shape</td>\n",
       "      <td id=\"T_12709_row2_col1\" class=\"data row2 col1\" >(1000, 10)</td>\n",
       "    </tr>\n",
       "    <tr>\n",
       "      <th id=\"T_12709_level0_row3\" class=\"row_heading level0 row3\" >3</th>\n",
       "      <td id=\"T_12709_row3_col0\" class=\"data row3 col0\" >Numeric features</td>\n",
       "      <td id=\"T_12709_row3_col1\" class=\"data row3 col1\" >10</td>\n",
       "    </tr>\n",
       "    <tr>\n",
       "      <th id=\"T_12709_level0_row4\" class=\"row_heading level0 row4\" >4</th>\n",
       "      <td id=\"T_12709_row4_col0\" class=\"data row4 col0\" >Preprocess</td>\n",
       "      <td id=\"T_12709_row4_col1\" class=\"data row4 col1\" >True</td>\n",
       "    </tr>\n",
       "    <tr>\n",
       "      <th id=\"T_12709_level0_row5\" class=\"row_heading level0 row5\" >5</th>\n",
       "      <td id=\"T_12709_row5_col0\" class=\"data row5 col0\" >Imputation type</td>\n",
       "      <td id=\"T_12709_row5_col1\" class=\"data row5 col1\" >simple</td>\n",
       "    </tr>\n",
       "    <tr>\n",
       "      <th id=\"T_12709_level0_row6\" class=\"row_heading level0 row6\" >6</th>\n",
       "      <td id=\"T_12709_row6_col0\" class=\"data row6 col0\" >Numeric imputation</td>\n",
       "      <td id=\"T_12709_row6_col1\" class=\"data row6 col1\" >mean</td>\n",
       "    </tr>\n",
       "    <tr>\n",
       "      <th id=\"T_12709_level0_row7\" class=\"row_heading level0 row7\" >7</th>\n",
       "      <td id=\"T_12709_row7_col0\" class=\"data row7 col0\" >Categorical imputation</td>\n",
       "      <td id=\"T_12709_row7_col1\" class=\"data row7 col1\" >mode</td>\n",
       "    </tr>\n",
       "    <tr>\n",
       "      <th id=\"T_12709_level0_row8\" class=\"row_heading level0 row8\" >8</th>\n",
       "      <td id=\"T_12709_row8_col0\" class=\"data row8 col0\" >CPU Jobs</td>\n",
       "      <td id=\"T_12709_row8_col1\" class=\"data row8 col1\" >-1</td>\n",
       "    </tr>\n",
       "    <tr>\n",
       "      <th id=\"T_12709_level0_row9\" class=\"row_heading level0 row9\" >9</th>\n",
       "      <td id=\"T_12709_row9_col0\" class=\"data row9 col0\" >Use GPU</td>\n",
       "      <td id=\"T_12709_row9_col1\" class=\"data row9 col1\" >False</td>\n",
       "    </tr>\n",
       "    <tr>\n",
       "      <th id=\"T_12709_level0_row10\" class=\"row_heading level0 row10\" >10</th>\n",
       "      <td id=\"T_12709_row10_col0\" class=\"data row10 col0\" >Log Experiment</td>\n",
       "      <td id=\"T_12709_row10_col1\" class=\"data row10 col1\" >False</td>\n",
       "    </tr>\n",
       "    <tr>\n",
       "      <th id=\"T_12709_level0_row11\" class=\"row_heading level0 row11\" >11</th>\n",
       "      <td id=\"T_12709_row11_col0\" class=\"data row11 col0\" >Experiment Name</td>\n",
       "      <td id=\"T_12709_row11_col1\" class=\"data row11 col1\" >anomaly-default-name</td>\n",
       "    </tr>\n",
       "    <tr>\n",
       "      <th id=\"T_12709_level0_row12\" class=\"row_heading level0 row12\" >12</th>\n",
       "      <td id=\"T_12709_row12_col0\" class=\"data row12 col0\" >USI</td>\n",
       "      <td id=\"T_12709_row12_col1\" class=\"data row12 col1\" >f822</td>\n",
       "    </tr>\n",
       "  </tbody>\n",
       "</table>\n"
      ],
      "text/plain": [
       "<pandas.io.formats.style.Styler at 0x21f9973f1c0>"
      ]
     },
     "metadata": {},
     "output_type": "display_data"
    }
   ],
   "source": [
    "s = setup(data, session_id = 123)"
   ]
  },
  {
   "cell_type": "markdown",
   "id": "924d198b",
   "metadata": {},
   "source": [
    "To access all the variables created by the setup function such as transformed dataset, random_state, etc. you can use `get_config` method."
   ]
  },
  {
   "cell_type": "code",
   "execution_count": 60,
   "id": "76128b08",
   "metadata": {},
   "outputs": [
    {
     "data": {
      "text/plain": [
       "{'USI',\n",
       " 'X',\n",
       " 'X_train',\n",
       " 'X_train_transformed',\n",
       " 'X_transformed',\n",
       " '_available_plots',\n",
       " '_ml_usecase',\n",
       " 'data',\n",
       " 'dataset',\n",
       " 'dataset_transformed',\n",
       " 'exp_id',\n",
       " 'exp_name_log',\n",
       " 'gpu_n_jobs_param',\n",
       " 'gpu_param',\n",
       " 'html_param',\n",
       " 'idx',\n",
       " 'is_multiclass',\n",
       " 'log_plots_param',\n",
       " 'logging_param',\n",
       " 'memory',\n",
       " 'n_jobs_param',\n",
       " 'pipeline',\n",
       " 'seed',\n",
       " 'train',\n",
       " 'train_transformed',\n",
       " 'variable_and_property_keys',\n",
       " 'variables'}"
      ]
     },
     "execution_count": 60,
     "metadata": {},
     "output_type": "execute_result"
    }
   ],
   "source": [
    "# check all available config\n",
    "get_config()"
   ]
  },
  {
   "cell_type": "code",
   "execution_count": 61,
   "id": "dbc43292",
   "metadata": {},
   "outputs": [
    {
     "data": {
      "text/html": [
       "<div>\n",
       "<style scoped>\n",
       "    .dataframe tbody tr th:only-of-type {\n",
       "        vertical-align: middle;\n",
       "    }\n",
       "\n",
       "    .dataframe tbody tr th {\n",
       "        vertical-align: top;\n",
       "    }\n",
       "\n",
       "    .dataframe thead th {\n",
       "        text-align: right;\n",
       "    }\n",
       "</style>\n",
       "<table border=\"1\" class=\"dataframe\">\n",
       "  <thead>\n",
       "    <tr style=\"text-align: right;\">\n",
       "      <th></th>\n",
       "      <th>Col1</th>\n",
       "      <th>Col2</th>\n",
       "      <th>Col3</th>\n",
       "      <th>Col4</th>\n",
       "      <th>Col5</th>\n",
       "      <th>Col6</th>\n",
       "      <th>Col7</th>\n",
       "      <th>Col8</th>\n",
       "      <th>Col9</th>\n",
       "      <th>Col10</th>\n",
       "    </tr>\n",
       "  </thead>\n",
       "  <tbody>\n",
       "    <tr>\n",
       "      <th>0</th>\n",
       "      <td>0.263995</td>\n",
       "      <td>0.764929</td>\n",
       "      <td>0.138424</td>\n",
       "      <td>0.935242</td>\n",
       "      <td>0.605867</td>\n",
       "      <td>0.518790</td>\n",
       "      <td>0.912225</td>\n",
       "      <td>0.608234</td>\n",
       "      <td>0.723782</td>\n",
       "      <td>0.733591</td>\n",
       "    </tr>\n",
       "    <tr>\n",
       "      <th>1</th>\n",
       "      <td>0.546092</td>\n",
       "      <td>0.653975</td>\n",
       "      <td>0.065575</td>\n",
       "      <td>0.227772</td>\n",
       "      <td>0.845269</td>\n",
       "      <td>0.837066</td>\n",
       "      <td>0.272379</td>\n",
       "      <td>0.331679</td>\n",
       "      <td>0.429297</td>\n",
       "      <td>0.367422</td>\n",
       "    </tr>\n",
       "    <tr>\n",
       "      <th>2</th>\n",
       "      <td>0.336714</td>\n",
       "      <td>0.538842</td>\n",
       "      <td>0.192801</td>\n",
       "      <td>0.553563</td>\n",
       "      <td>0.074515</td>\n",
       "      <td>0.332993</td>\n",
       "      <td>0.365792</td>\n",
       "      <td>0.861309</td>\n",
       "      <td>0.899017</td>\n",
       "      <td>0.088600</td>\n",
       "    </tr>\n",
       "    <tr>\n",
       "      <th>3</th>\n",
       "      <td>0.092108</td>\n",
       "      <td>0.995017</td>\n",
       "      <td>0.014465</td>\n",
       "      <td>0.176371</td>\n",
       "      <td>0.241530</td>\n",
       "      <td>0.514724</td>\n",
       "      <td>0.562208</td>\n",
       "      <td>0.158963</td>\n",
       "      <td>0.073715</td>\n",
       "      <td>0.208463</td>\n",
       "    </tr>\n",
       "    <tr>\n",
       "      <th>4</th>\n",
       "      <td>0.325261</td>\n",
       "      <td>0.805968</td>\n",
       "      <td>0.957033</td>\n",
       "      <td>0.331665</td>\n",
       "      <td>0.307923</td>\n",
       "      <td>0.355315</td>\n",
       "      <td>0.501899</td>\n",
       "      <td>0.558449</td>\n",
       "      <td>0.885169</td>\n",
       "      <td>0.182754</td>\n",
       "    </tr>\n",
       "    <tr>\n",
       "      <th>...</th>\n",
       "      <td>...</td>\n",
       "      <td>...</td>\n",
       "      <td>...</td>\n",
       "      <td>...</td>\n",
       "      <td>...</td>\n",
       "      <td>...</td>\n",
       "      <td>...</td>\n",
       "      <td>...</td>\n",
       "      <td>...</td>\n",
       "      <td>...</td>\n",
       "    </tr>\n",
       "    <tr>\n",
       "      <th>995</th>\n",
       "      <td>0.305055</td>\n",
       "      <td>0.656837</td>\n",
       "      <td>0.331665</td>\n",
       "      <td>0.822525</td>\n",
       "      <td>0.907127</td>\n",
       "      <td>0.882276</td>\n",
       "      <td>0.855732</td>\n",
       "      <td>0.584786</td>\n",
       "      <td>0.808640</td>\n",
       "      <td>0.242762</td>\n",
       "    </tr>\n",
       "    <tr>\n",
       "      <th>996</th>\n",
       "      <td>0.812627</td>\n",
       "      <td>0.864258</td>\n",
       "      <td>0.616604</td>\n",
       "      <td>0.167966</td>\n",
       "      <td>0.811223</td>\n",
       "      <td>0.938071</td>\n",
       "      <td>0.418462</td>\n",
       "      <td>0.472306</td>\n",
       "      <td>0.348347</td>\n",
       "      <td>0.671129</td>\n",
       "    </tr>\n",
       "    <tr>\n",
       "      <th>997</th>\n",
       "      <td>0.250967</td>\n",
       "      <td>0.138627</td>\n",
       "      <td>0.919703</td>\n",
       "      <td>0.461234</td>\n",
       "      <td>0.886555</td>\n",
       "      <td>0.869888</td>\n",
       "      <td>0.800908</td>\n",
       "      <td>0.530324</td>\n",
       "      <td>0.779433</td>\n",
       "      <td>0.234952</td>\n",
       "    </tr>\n",
       "    <tr>\n",
       "      <th>998</th>\n",
       "      <td>0.502436</td>\n",
       "      <td>0.936820</td>\n",
       "      <td>0.580062</td>\n",
       "      <td>0.540773</td>\n",
       "      <td>0.151995</td>\n",
       "      <td>0.059452</td>\n",
       "      <td>0.225220</td>\n",
       "      <td>0.242755</td>\n",
       "      <td>0.279385</td>\n",
       "      <td>0.538755</td>\n",
       "    </tr>\n",
       "    <tr>\n",
       "      <th>999</th>\n",
       "      <td>0.457991</td>\n",
       "      <td>0.017755</td>\n",
       "      <td>0.714113</td>\n",
       "      <td>0.125992</td>\n",
       "      <td>0.063316</td>\n",
       "      <td>0.154739</td>\n",
       "      <td>0.922974</td>\n",
       "      <td>0.692299</td>\n",
       "      <td>0.816777</td>\n",
       "      <td>0.307592</td>\n",
       "    </tr>\n",
       "  </tbody>\n",
       "</table>\n",
       "<p>1000 rows × 10 columns</p>\n",
       "</div>"
      ],
      "text/plain": [
       "         Col1      Col2      Col3      Col4      Col5      Col6      Col7  \\\n",
       "0    0.263995  0.764929  0.138424  0.935242  0.605867  0.518790  0.912225   \n",
       "1    0.546092  0.653975  0.065575  0.227772  0.845269  0.837066  0.272379   \n",
       "2    0.336714  0.538842  0.192801  0.553563  0.074515  0.332993  0.365792   \n",
       "3    0.092108  0.995017  0.014465  0.176371  0.241530  0.514724  0.562208   \n",
       "4    0.325261  0.805968  0.957033  0.331665  0.307923  0.355315  0.501899   \n",
       "..        ...       ...       ...       ...       ...       ...       ...   \n",
       "995  0.305055  0.656837  0.331665  0.822525  0.907127  0.882276  0.855732   \n",
       "996  0.812627  0.864258  0.616604  0.167966  0.811223  0.938071  0.418462   \n",
       "997  0.250967  0.138627  0.919703  0.461234  0.886555  0.869888  0.800908   \n",
       "998  0.502436  0.936820  0.580062  0.540773  0.151995  0.059452  0.225220   \n",
       "999  0.457991  0.017755  0.714113  0.125992  0.063316  0.154739  0.922974   \n",
       "\n",
       "         Col8      Col9     Col10  \n",
       "0    0.608234  0.723782  0.733591  \n",
       "1    0.331679  0.429297  0.367422  \n",
       "2    0.861309  0.899017  0.088600  \n",
       "3    0.158963  0.073715  0.208463  \n",
       "4    0.558449  0.885169  0.182754  \n",
       "..        ...       ...       ...  \n",
       "995  0.584786  0.808640  0.242762  \n",
       "996  0.472306  0.348347  0.671129  \n",
       "997  0.530324  0.779433  0.234952  \n",
       "998  0.242755  0.279385  0.538755  \n",
       "999  0.692299  0.816777  0.307592  \n",
       "\n",
       "[1000 rows x 10 columns]"
      ]
     },
     "execution_count": 61,
     "metadata": {},
     "output_type": "execute_result"
    }
   ],
   "source": [
    "# lets access X_train_transformed\n",
    "get_config('X_train_transformed')"
   ]
  },
  {
   "cell_type": "code",
   "execution_count": 62,
   "id": "ef9cd061",
   "metadata": {},
   "outputs": [
    {
     "name": "stdout",
     "output_type": "stream",
     "text": [
      "The current seed is: 123\n",
      "The new seed is: 786\n"
     ]
    }
   ],
   "source": [
    "# another example: let's access seed\n",
    "print(\"The current seed is: {}\".format(get_config('seed')))\n",
    "\n",
    "# now lets change it using set_config\n",
    "set_config('seed', 786)\n",
    "print(\"The new seed is: {}\".format(get_config('seed')))"
   ]
  },
  {
   "cell_type": "markdown",
   "id": "7afbe41d",
   "metadata": {},
   "source": [
    "All the preprocessing configurations and experiment settings/parameters are passed into the `setup` function. To see all available parameters, check the docstring:"
   ]
  },
  {
   "cell_type": "code",
   "execution_count": 63,
   "id": "2885a14f",
   "metadata": {},
   "outputs": [],
   "source": [
    "# help(setup)"
   ]
  },
  {
   "cell_type": "code",
   "execution_count": 64,
   "id": "34ae0fce",
   "metadata": {},
   "outputs": [
    {
     "data": {
      "text/html": [
       "<style type=\"text/css\">\n",
       "#T_76a25_row4_col1 {\n",
       "  background-color: lightgreen;\n",
       "}\n",
       "</style>\n",
       "<table id=\"T_76a25\">\n",
       "  <thead>\n",
       "    <tr>\n",
       "      <th class=\"blank level0\" >&nbsp;</th>\n",
       "      <th id=\"T_76a25_level0_col0\" class=\"col_heading level0 col0\" >Description</th>\n",
       "      <th id=\"T_76a25_level0_col1\" class=\"col_heading level0 col1\" >Value</th>\n",
       "    </tr>\n",
       "  </thead>\n",
       "  <tbody>\n",
       "    <tr>\n",
       "      <th id=\"T_76a25_level0_row0\" class=\"row_heading level0 row0\" >0</th>\n",
       "      <td id=\"T_76a25_row0_col0\" class=\"data row0 col0\" >Session id</td>\n",
       "      <td id=\"T_76a25_row0_col1\" class=\"data row0 col1\" >123</td>\n",
       "    </tr>\n",
       "    <tr>\n",
       "      <th id=\"T_76a25_level0_row1\" class=\"row_heading level0 row1\" >1</th>\n",
       "      <td id=\"T_76a25_row1_col0\" class=\"data row1 col0\" >Original data shape</td>\n",
       "      <td id=\"T_76a25_row1_col1\" class=\"data row1 col1\" >(1000, 10)</td>\n",
       "    </tr>\n",
       "    <tr>\n",
       "      <th id=\"T_76a25_level0_row2\" class=\"row_heading level0 row2\" >2</th>\n",
       "      <td id=\"T_76a25_row2_col0\" class=\"data row2 col0\" >Transformed data shape</td>\n",
       "      <td id=\"T_76a25_row2_col1\" class=\"data row2 col1\" >(1000, 10)</td>\n",
       "    </tr>\n",
       "    <tr>\n",
       "      <th id=\"T_76a25_level0_row3\" class=\"row_heading level0 row3\" >3</th>\n",
       "      <td id=\"T_76a25_row3_col0\" class=\"data row3 col0\" >Numeric features</td>\n",
       "      <td id=\"T_76a25_row3_col1\" class=\"data row3 col1\" >10</td>\n",
       "    </tr>\n",
       "    <tr>\n",
       "      <th id=\"T_76a25_level0_row4\" class=\"row_heading level0 row4\" >4</th>\n",
       "      <td id=\"T_76a25_row4_col0\" class=\"data row4 col0\" >Preprocess</td>\n",
       "      <td id=\"T_76a25_row4_col1\" class=\"data row4 col1\" >True</td>\n",
       "    </tr>\n",
       "    <tr>\n",
       "      <th id=\"T_76a25_level0_row5\" class=\"row_heading level0 row5\" >5</th>\n",
       "      <td id=\"T_76a25_row5_col0\" class=\"data row5 col0\" >Imputation type</td>\n",
       "      <td id=\"T_76a25_row5_col1\" class=\"data row5 col1\" >simple</td>\n",
       "    </tr>\n",
       "    <tr>\n",
       "      <th id=\"T_76a25_level0_row6\" class=\"row_heading level0 row6\" >6</th>\n",
       "      <td id=\"T_76a25_row6_col0\" class=\"data row6 col0\" >Numeric imputation</td>\n",
       "      <td id=\"T_76a25_row6_col1\" class=\"data row6 col1\" >mean</td>\n",
       "    </tr>\n",
       "    <tr>\n",
       "      <th id=\"T_76a25_level0_row7\" class=\"row_heading level0 row7\" >7</th>\n",
       "      <td id=\"T_76a25_row7_col0\" class=\"data row7 col0\" >Categorical imputation</td>\n",
       "      <td id=\"T_76a25_row7_col1\" class=\"data row7 col1\" >mode</td>\n",
       "    </tr>\n",
       "    <tr>\n",
       "      <th id=\"T_76a25_level0_row8\" class=\"row_heading level0 row8\" >8</th>\n",
       "      <td id=\"T_76a25_row8_col0\" class=\"data row8 col0\" >CPU Jobs</td>\n",
       "      <td id=\"T_76a25_row8_col1\" class=\"data row8 col1\" >-1</td>\n",
       "    </tr>\n",
       "    <tr>\n",
       "      <th id=\"T_76a25_level0_row9\" class=\"row_heading level0 row9\" >9</th>\n",
       "      <td id=\"T_76a25_row9_col0\" class=\"data row9 col0\" >Use GPU</td>\n",
       "      <td id=\"T_76a25_row9_col1\" class=\"data row9 col1\" >False</td>\n",
       "    </tr>\n",
       "    <tr>\n",
       "      <th id=\"T_76a25_level0_row10\" class=\"row_heading level0 row10\" >10</th>\n",
       "      <td id=\"T_76a25_row10_col0\" class=\"data row10 col0\" >Log Experiment</td>\n",
       "      <td id=\"T_76a25_row10_col1\" class=\"data row10 col1\" >False</td>\n",
       "    </tr>\n",
       "    <tr>\n",
       "      <th id=\"T_76a25_level0_row11\" class=\"row_heading level0 row11\" >11</th>\n",
       "      <td id=\"T_76a25_row11_col0\" class=\"data row11 col0\" >Experiment Name</td>\n",
       "      <td id=\"T_76a25_row11_col1\" class=\"data row11 col1\" >anomaly-default-name</td>\n",
       "    </tr>\n",
       "    <tr>\n",
       "      <th id=\"T_76a25_level0_row12\" class=\"row_heading level0 row12\" >12</th>\n",
       "      <td id=\"T_76a25_row12_col0\" class=\"data row12 col0\" >USI</td>\n",
       "      <td id=\"T_76a25_row12_col1\" class=\"data row12 col1\" >9b1e</td>\n",
       "    </tr>\n",
       "  </tbody>\n",
       "</table>\n"
      ],
      "text/plain": [
       "<pandas.io.formats.style.Styler at 0x21f99746f40>"
      ]
     },
     "metadata": {},
     "output_type": "display_data"
    }
   ],
   "source": [
    "# init setup with bin_numeric_feature\n",
    "\n",
    "s = setup(data, session_id = 123,\n",
    "          bin_numeric_features=['Col1'])"
   ]
  },
  {
   "cell_type": "code",
   "execution_count": 65,
   "id": "04204ae7",
   "metadata": {},
   "outputs": [
    {
     "data": {
      "text/plain": [
       "<AxesSubplot:>"
      ]
     },
     "execution_count": 65,
     "metadata": {},
     "output_type": "execute_result"
    },
    {
     "data": {
      "image/png": "[encoded data removed]",
      "text/plain": [
       "<Figure size 800x550 with 1 Axes>"
      ]
     },
     "metadata": {},
     "output_type": "display_data"
    }
   ],
   "source": [
    "# lets check the X_train_transformed to see effect of params passed\n",
    "get_config('X_train_transformed')['Col1'].hist()"
   ]
  },
  {
   "cell_type": "markdown",
   "id": "d28a3e4e",
   "metadata": {},
   "source": [
    "Notice that `Col1` originally was a numeric feature with a continious distribution. After transformation it is now converted into categorical feature. We can also access non-transformed values using `get_config` and then compare the differences."
   ]
  },
  {
   "cell_type": "code",
   "execution_count": 66,
   "id": "68cc1c63",
   "metadata": {},
   "outputs": [
    {
     "data": {
      "text/plain": [
       "<AxesSubplot:>"
      ]
     },
     "execution_count": 66,
     "metadata": {},
     "output_type": "execute_result"
    },
    {
     "data": {
      "image/png": "[encoded data removed]",
      "text/plain": [
       "<Figure size 800x550 with 1 Axes>"
      ]
     },
     "metadata": {},
     "output_type": "display_data"
    }
   ],
   "source": [
    "get_config('X_train')['Col1'].hist()"
   ]
  },
  {
   "cell_type": "markdown",
   "id": "9e6c47cb",
   "metadata": {},
   "source": [
    "## ✅ Experiment Logging\n",
    "PyCaret integrates with many different type of experiment loggers (default = 'mlflow'). To turn on experiment tracking in PyCaret you can set `log_experiment` and `experiment_name` parameter. It will automatically track all the metrics, hyperparameters, and artifacts based on the defined logger."
   ]
  },
  {
   "cell_type": "code",
   "execution_count": 67,
   "id": "1af63fd0",
   "metadata": {},
   "outputs": [],
   "source": [
    "# from pycaret.anomaly import *\n",
    "# s = setup(data, session_id = 123, log_experiment='mlflow', experiment_name='anomaly_project')"
   ]
  },
  {
   "cell_type": "code",
   "execution_count": 68,
   "id": "42cd6120",
   "metadata": {},
   "outputs": [],
   "source": [
    "# train iforest\n",
    "# iforest = create_model('iforest')"
   ]
  },
  {
   "cell_type": "code",
   "execution_count": 69,
   "id": "adc82ce5",
   "metadata": {},
   "outputs": [],
   "source": [
    "# start mlflow server on localhost:5000\n",
    "# !mlflow ui"
   ]
  },
  {
   "cell_type": "markdown",
   "id": "a06f9df7",
   "metadata": {},
   "source": [
    "By default PyCaret uses `MLFlow` logger that can be changed using `log_experiment` parameter. Following loggers are available:\n",
    "    \n",
    "    - mlflow\n",
    "    - wandb\n",
    "    - comet_ml\n",
    "    - dagshub\n",
    "    \n",
    "Other logging related parameters that you may find useful are:\n",
    "\n",
    "- experiment_custom_tags\n",
    "- log_plots\n",
    "- log_data\n",
    "- log_profile\n",
    "\n",
    "For more information check out the docstring of the `setup` function."
   ]
  },
  {
   "cell_type": "code",
   "execution_count": 70,
   "id": "2f8b6aa1",
   "metadata": {},
   "outputs": [],
   "source": [
    "# help(setup)"
   ]
  },
  {
   "cell_type": "markdown",
   "id": "6ce0b555",
   "metadata": {},
   "source": [
    "## ✅ Create Model\n",
    "This function trains an unsupervised anomaly detection model. All the available models can be accessed using the models function."
   ]
  },
  {
   "cell_type": "code",
   "execution_count": 71,
   "id": "837cebfa",
   "metadata": {},
   "outputs": [
    {
     "data": {
      "text/html": [
       "<div>\n",
       "<style scoped>\n",
       "    .dataframe tbody tr th:only-of-type {\n",
       "        vertical-align: middle;\n",
       "    }\n",
       "\n",
       "    .dataframe tbody tr th {\n",
       "        vertical-align: top;\n",
       "    }\n",
       "\n",
       "    .dataframe thead th {\n",
       "        text-align: right;\n",
       "    }\n",
       "</style>\n",
       "<table border=\"1\" class=\"dataframe\">\n",
       "  <thead>\n",
       "    <tr style=\"text-align: right;\">\n",
       "      <th></th>\n",
       "      <th>Name</th>\n",
       "      <th>Reference</th>\n",
       "    </tr>\n",
       "    <tr>\n",
       "      <th>ID</th>\n",
       "      <th></th>\n",
       "      <th></th>\n",
       "    </tr>\n",
       "  </thead>\n",
       "  <tbody>\n",
       "    <tr>\n",
       "      <th>abod</th>\n",
       "      <td>Angle-base Outlier Detection</td>\n",
       "      <td>pyod.models.abod.ABOD</td>\n",
       "    </tr>\n",
       "    <tr>\n",
       "      <th>cluster</th>\n",
       "      <td>Clustering-Based Local Outlier</td>\n",
       "      <td>pyod.models.cblof.CBLOF</td>\n",
       "    </tr>\n",
       "    <tr>\n",
       "      <th>cof</th>\n",
       "      <td>Connectivity-Based Local Outlier</td>\n",
       "      <td>pycaret.internal.patches.pyod.COFPatched</td>\n",
       "    </tr>\n",
       "    <tr>\n",
       "      <th>iforest</th>\n",
       "      <td>Isolation Forest</td>\n",
       "      <td>pyod.models.iforest.IForest</td>\n",
       "    </tr>\n",
       "    <tr>\n",
       "      <th>histogram</th>\n",
       "      <td>Histogram-based Outlier Detection</td>\n",
       "      <td>pyod.models.hbos.HBOS</td>\n",
       "    </tr>\n",
       "    <tr>\n",
       "      <th>knn</th>\n",
       "      <td>K-Nearest Neighbors Detector</td>\n",
       "      <td>pyod.models.knn.KNN</td>\n",
       "    </tr>\n",
       "    <tr>\n",
       "      <th>lof</th>\n",
       "      <td>Local Outlier Factor</td>\n",
       "      <td>pyod.models.lof.LOF</td>\n",
       "    </tr>\n",
       "    <tr>\n",
       "      <th>svm</th>\n",
       "      <td>One-class SVM detector</td>\n",
       "      <td>pyod.models.ocsvm.OCSVM</td>\n",
       "    </tr>\n",
       "    <tr>\n",
       "      <th>pca</th>\n",
       "      <td>Principal Component Analysis</td>\n",
       "      <td>pyod.models.pca.PCA</td>\n",
       "    </tr>\n",
       "    <tr>\n",
       "      <th>mcd</th>\n",
       "      <td>Minimum Covariance Determinant</td>\n",
       "      <td>pyod.models.mcd.MCD</td>\n",
       "    </tr>\n",
       "    <tr>\n",
       "      <th>sod</th>\n",
       "      <td>Subspace Outlier Detection</td>\n",
       "      <td>pycaret.internal.patches.pyod.SODPatched</td>\n",
       "    </tr>\n",
       "    <tr>\n",
       "      <th>sos</th>\n",
       "      <td>Stochastic Outlier Selection</td>\n",
       "      <td>pycaret.internal.patches.pyod.SOSPatched</td>\n",
       "    </tr>\n",
       "  </tbody>\n",
       "</table>\n",
       "</div>"
      ],
      "text/plain": [
       "                                        Name  \\\n",
       "ID                                             \n",
       "abod            Angle-base Outlier Detection   \n",
       "cluster       Clustering-Based Local Outlier   \n",
       "cof         Connectivity-Based Local Outlier   \n",
       "iforest                     Isolation Forest   \n",
       "histogram  Histogram-based Outlier Detection   \n",
       "knn             K-Nearest Neighbors Detector   \n",
       "lof                     Local Outlier Factor   \n",
       "svm                   One-class SVM detector   \n",
       "pca             Principal Component Analysis   \n",
       "mcd           Minimum Covariance Determinant   \n",
       "sod               Subspace Outlier Detection   \n",
       "sos             Stochastic Outlier Selection   \n",
       "\n",
       "                                          Reference  \n",
       "ID                                                   \n",
       "abod                          pyod.models.abod.ABOD  \n",
       "cluster                     pyod.models.cblof.CBLOF  \n",
       "cof        pycaret.internal.patches.pyod.COFPatched  \n",
       "iforest                 pyod.models.iforest.IForest  \n",
       "histogram                     pyod.models.hbos.HBOS  \n",
       "knn                             pyod.models.knn.KNN  \n",
       "lof                             pyod.models.lof.LOF  \n",
       "svm                         pyod.models.ocsvm.OCSVM  \n",
       "pca                             pyod.models.pca.PCA  \n",
       "mcd                             pyod.models.mcd.MCD  \n",
       "sod        pycaret.internal.patches.pyod.SODPatched  \n",
       "sos        pycaret.internal.patches.pyod.SOSPatched  "
      ]
     },
     "execution_count": 71,
     "metadata": {},
     "output_type": "execute_result"
    }
   ],
   "source": [
    "# check all the available models\n",
    "models()"
   ]
  },
  {
   "cell_type": "code",
   "execution_count": 72,
   "id": "16641cab",
   "metadata": {},
   "outputs": [
    {
     "data": {
      "text/html": [],
      "text/plain": [
       "<IPython.core.display.HTML object>"
      ]
     },
     "metadata": {},
     "output_type": "display_data"
    },
    {
     "data": {
      "text/html": [],
      "text/plain": [
       "<IPython.core.display.HTML object>"
      ]
     },
     "metadata": {},
     "output_type": "display_data"
    },
    {
     "data": {
      "application/vnd.jupyter.widget-view+json": {
       "model_id": "",
       "version_major": 2,
       "version_minor": 0
      },
      "text/plain": [
       "Processing:   0%|          | 0/3 [00:00<?, ?it/s]"
      ]
     },
     "metadata": {},
     "output_type": "display_data"
    }
   ],
   "source": [
    "# train iforest model\n",
    "iforest = create_model('iforest')"
   ]
  },
  {
   "cell_type": "code",
   "execution_count": 73,
   "id": "2a59af82",
   "metadata": {},
   "outputs": [
    {
     "data": {
      "text/plain": [
       "IForest(behaviour='new', bootstrap=False, contamination=0.05,\n",
       "    max_features=1.0, max_samples='auto', n_estimators=100, n_jobs=-1,\n",
       "    random_state=123, verbose=0)"
      ]
     },
     "execution_count": 73,
     "metadata": {},
     "output_type": "execute_result"
    }
   ],
   "source": [
    "iforest"
   ]
  },
  {
   "cell_type": "code",
   "execution_count": 74,
   "id": "148a74c4",
   "metadata": {},
   "outputs": [
    {
     "data": {
      "text/html": [],
      "text/plain": [
       "<IPython.core.display.HTML object>"
      ]
     },
     "metadata": {},
     "output_type": "display_data"
    },
    {
     "data": {
      "text/html": [],
      "text/plain": [
       "<IPython.core.display.HTML object>"
      ]
     },
     "metadata": {},
     "output_type": "display_data"
    },
    {
     "data": {
      "application/vnd.jupyter.widget-view+json": {
       "model_id": "",
       "version_major": 2,
       "version_minor": 0
      },
      "text/plain": [
       "Processing:   0%|          | 0/3 [00:00<?, ?it/s]"
      ]
     },
     "metadata": {},
     "output_type": "display_data"
    },
    {
     "data": {
      "text/plain": [
       "IForest(behaviour='new', bootstrap=False, contamination=0.05,\n",
       "    max_features=1.0, max_samples='auto', n_estimators=100, n_jobs=-1,\n",
       "    random_state=123, verbose=0)"
      ]
     },
     "execution_count": 74,
     "metadata": {},
     "output_type": "execute_result"
    }
   ],
   "source": [
    "# train iforest with specific model parameter\n",
    "create_model('iforest', contamination = 0.1)"
   ]
  },
  {
   "cell_type": "code",
   "execution_count": 75,
   "id": "3fb32c74",
   "metadata": {},
   "outputs": [],
   "source": [
    "# help(create_model)"
   ]
  },
  {
   "cell_type": "markdown",
   "id": "e302389c",
   "metadata": {},
   "source": [
    "## ✅ Assign Model\n",
    "This function assigns anomaly labels to the dataset for a given model. (1 = outlier, 0 = inlier)."
   ]
  },
  {
   "cell_type": "code",
   "execution_count": 76,
   "id": "b831ba7d",
   "metadata": {},
   "outputs": [
    {
     "data": {
      "text/html": [
       "<div>\n",
       "<style scoped>\n",
       "    .dataframe tbody tr th:only-of-type {\n",
       "        vertical-align: middle;\n",
       "    }\n",
       "\n",
       "    .dataframe tbody tr th {\n",
       "        vertical-align: top;\n",
       "    }\n",
       "\n",
       "    .dataframe thead th {\n",
       "        text-align: right;\n",
       "    }\n",
       "</style>\n",
       "<table border=\"1\" class=\"dataframe\">\n",
       "  <thead>\n",
       "    <tr style=\"text-align: right;\">\n",
       "      <th></th>\n",
       "      <th>Col1</th>\n",
       "      <th>Col2</th>\n",
       "      <th>Col3</th>\n",
       "      <th>Col4</th>\n",
       "      <th>Col5</th>\n",
       "      <th>Col6</th>\n",
       "      <th>Col7</th>\n",
       "      <th>Col8</th>\n",
       "      <th>Col9</th>\n",
       "      <th>Col10</th>\n",
       "      <th>Anomaly</th>\n",
       "      <th>Anomaly_Score</th>\n",
       "    </tr>\n",
       "  </thead>\n",
       "  <tbody>\n",
       "    <tr>\n",
       "      <th>0</th>\n",
       "      <td>0.263995</td>\n",
       "      <td>0.764929</td>\n",
       "      <td>0.138424</td>\n",
       "      <td>0.935242</td>\n",
       "      <td>0.605867</td>\n",
       "      <td>0.518790</td>\n",
       "      <td>0.912225</td>\n",
       "      <td>0.608234</td>\n",
       "      <td>0.723782</td>\n",
       "      <td>0.733591</td>\n",
       "      <td>0</td>\n",
       "      <td>-0.024763</td>\n",
       "    </tr>\n",
       "    <tr>\n",
       "      <th>1</th>\n",
       "      <td>0.546092</td>\n",
       "      <td>0.653975</td>\n",
       "      <td>0.065575</td>\n",
       "      <td>0.227772</td>\n",
       "      <td>0.845269</td>\n",
       "      <td>0.837066</td>\n",
       "      <td>0.272379</td>\n",
       "      <td>0.331679</td>\n",
       "      <td>0.429297</td>\n",
       "      <td>0.367422</td>\n",
       "      <td>0</td>\n",
       "      <td>-0.083637</td>\n",
       "    </tr>\n",
       "    <tr>\n",
       "      <th>2</th>\n",
       "      <td>0.336714</td>\n",
       "      <td>0.538842</td>\n",
       "      <td>0.192801</td>\n",
       "      <td>0.553563</td>\n",
       "      <td>0.074515</td>\n",
       "      <td>0.332993</td>\n",
       "      <td>0.365792</td>\n",
       "      <td>0.861309</td>\n",
       "      <td>0.899017</td>\n",
       "      <td>0.088600</td>\n",
       "      <td>1</td>\n",
       "      <td>0.021481</td>\n",
       "    </tr>\n",
       "    <tr>\n",
       "      <th>3</th>\n",
       "      <td>0.092108</td>\n",
       "      <td>0.995017</td>\n",
       "      <td>0.014465</td>\n",
       "      <td>0.176371</td>\n",
       "      <td>0.241530</td>\n",
       "      <td>0.514724</td>\n",
       "      <td>0.562208</td>\n",
       "      <td>0.158963</td>\n",
       "      <td>0.073715</td>\n",
       "      <td>0.208463</td>\n",
       "      <td>1</td>\n",
       "      <td>0.044031</td>\n",
       "    </tr>\n",
       "    <tr>\n",
       "      <th>4</th>\n",
       "      <td>0.325261</td>\n",
       "      <td>0.805968</td>\n",
       "      <td>0.957033</td>\n",
       "      <td>0.331665</td>\n",
       "      <td>0.307923</td>\n",
       "      <td>0.355315</td>\n",
       "      <td>0.501899</td>\n",
       "      <td>0.558449</td>\n",
       "      <td>0.885169</td>\n",
       "      <td>0.182754</td>\n",
       "      <td>0</td>\n",
       "      <td>-0.026150</td>\n",
       "    </tr>\n",
       "    <tr>\n",
       "      <th>...</th>\n",
       "      <td>...</td>\n",
       "      <td>...</td>\n",
       "      <td>...</td>\n",
       "      <td>...</td>\n",
       "      <td>...</td>\n",
       "      <td>...</td>\n",
       "      <td>...</td>\n",
       "      <td>...</td>\n",
       "      <td>...</td>\n",
       "      <td>...</td>\n",
       "      <td>...</td>\n",
       "      <td>...</td>\n",
       "    </tr>\n",
       "    <tr>\n",
       "      <th>995</th>\n",
       "      <td>0.305055</td>\n",
       "      <td>0.656837</td>\n",
       "      <td>0.331665</td>\n",
       "      <td>0.822525</td>\n",
       "      <td>0.907127</td>\n",
       "      <td>0.882276</td>\n",
       "      <td>0.855732</td>\n",
       "      <td>0.584786</td>\n",
       "      <td>0.808640</td>\n",
       "      <td>0.242762</td>\n",
       "      <td>0</td>\n",
       "      <td>-0.076718</td>\n",
       "    </tr>\n",
       "    <tr>\n",
       "      <th>996</th>\n",
       "      <td>0.812627</td>\n",
       "      <td>0.864258</td>\n",
       "      <td>0.616604</td>\n",
       "      <td>0.167966</td>\n",
       "      <td>0.811223</td>\n",
       "      <td>0.938071</td>\n",
       "      <td>0.418462</td>\n",
       "      <td>0.472306</td>\n",
       "      <td>0.348347</td>\n",
       "      <td>0.671129</td>\n",
       "      <td>0</td>\n",
       "      <td>-0.059275</td>\n",
       "    </tr>\n",
       "    <tr>\n",
       "      <th>997</th>\n",
       "      <td>0.250967</td>\n",
       "      <td>0.138627</td>\n",
       "      <td>0.919703</td>\n",
       "      <td>0.461234</td>\n",
       "      <td>0.886555</td>\n",
       "      <td>0.869888</td>\n",
       "      <td>0.800908</td>\n",
       "      <td>0.530324</td>\n",
       "      <td>0.779433</td>\n",
       "      <td>0.234952</td>\n",
       "      <td>0</td>\n",
       "      <td>-0.058574</td>\n",
       "    </tr>\n",
       "    <tr>\n",
       "      <th>998</th>\n",
       "      <td>0.502436</td>\n",
       "      <td>0.936820</td>\n",
       "      <td>0.580062</td>\n",
       "      <td>0.540773</td>\n",
       "      <td>0.151995</td>\n",
       "      <td>0.059452</td>\n",
       "      <td>0.225220</td>\n",
       "      <td>0.242755</td>\n",
       "      <td>0.279385</td>\n",
       "      <td>0.538755</td>\n",
       "      <td>0</td>\n",
       "      <td>-0.089169</td>\n",
       "    </tr>\n",
       "    <tr>\n",
       "      <th>999</th>\n",
       "      <td>0.457991</td>\n",
       "      <td>0.017755</td>\n",
       "      <td>0.714113</td>\n",
       "      <td>0.125992</td>\n",
       "      <td>0.063316</td>\n",
       "      <td>0.154739</td>\n",
       "      <td>0.922974</td>\n",
       "      <td>0.692299</td>\n",
       "      <td>0.816777</td>\n",
       "      <td>0.307592</td>\n",
       "      <td>0</td>\n",
       "      <td>-0.008304</td>\n",
       "    </tr>\n",
       "  </tbody>\n",
       "</table>\n",
       "<p>1000 rows × 12 columns</p>\n",
       "</div>"
      ],
      "text/plain": [
       "         Col1      Col2      Col3      Col4      Col5      Col6      Col7  \\\n",
       "0    0.263995  0.764929  0.138424  0.935242  0.605867  0.518790  0.912225   \n",
       "1    0.546092  0.653975  0.065575  0.227772  0.845269  0.837066  0.272379   \n",
       "2    0.336714  0.538842  0.192801  0.553563  0.074515  0.332993  0.365792   \n",
       "3    0.092108  0.995017  0.014465  0.176371  0.241530  0.514724  0.562208   \n",
       "4    0.325261  0.805968  0.957033  0.331665  0.307923  0.355315  0.501899   \n",
       "..        ...       ...       ...       ...       ...       ...       ...   \n",
       "995  0.305055  0.656837  0.331665  0.822525  0.907127  0.882276  0.855732   \n",
       "996  0.812627  0.864258  0.616604  0.167966  0.811223  0.938071  0.418462   \n",
       "997  0.250967  0.138627  0.919703  0.461234  0.886555  0.869888  0.800908   \n",
       "998  0.502436  0.936820  0.580062  0.540773  0.151995  0.059452  0.225220   \n",
       "999  0.457991  0.017755  0.714113  0.125992  0.063316  0.154739  0.922974   \n",
       "\n",
       "         Col8      Col9     Col10  Anomaly  Anomaly_Score  \n",
       "0    0.608234  0.723782  0.733591        0      -0.024763  \n",
       "1    0.331679  0.429297  0.367422        0      -0.083637  \n",
       "2    0.861309  0.899017  0.088600        1       0.021481  \n",
       "3    0.158963  0.073715  0.208463        1       0.044031  \n",
       "4    0.558449  0.885169  0.182754        0      -0.026150  \n",
       "..        ...       ...       ...      ...            ...  \n",
       "995  0.584786  0.808640  0.242762        0      -0.076718  \n",
       "996  0.472306  0.348347  0.671129        0      -0.059275  \n",
       "997  0.530324  0.779433  0.234952        0      -0.058574  \n",
       "998  0.242755  0.279385  0.538755        0      -0.089169  \n",
       "999  0.692299  0.816777  0.307592        0      -0.008304  \n",
       "\n",
       "[1000 rows x 12 columns]"
      ]
     },
     "execution_count": 76,
     "metadata": {},
     "output_type": "execute_result"
    }
   ],
   "source": [
    "iforest_results = assign_model(iforest)\n",
    "iforest_results"
   ]
  },
  {
   "cell_type": "code",
   "execution_count": 77,
   "id": "385bd688",
   "metadata": {},
   "outputs": [],
   "source": [
    "# help(assign_model)"
   ]
  },
  {
   "cell_type": "markdown",
   "id": "2dc8e294",
   "metadata": {},
   "source": [
    "## ✅ Plot Model"
   ]
  },
  {
   "cell_type": "code",
   "execution_count": 78,
   "id": "952b6f24",
   "metadata": {},
   "outputs": [
    {
     "data": {
      "text/html": [],
      "text/plain": [
       "<IPython.core.display.HTML object>"
      ]
     },
     "metadata": {},
     "output_type": "display_data"
    },
    {
     "data": {
      "application/vnd.plotly.v1+json": {
       "config": {
        "plotlyServerURL": "https://plot.ly"
       },
       "data": [
        {
         "customdata": [
          [
           0.26399535
          ],
          [
           0.54609233
          ],
          [
           0.33671412
          ],
          [
           0.09210783
          ],
          [
           0.32526118
          ],
          [
           0.21246485
          ],
          [
           0.25856572
          ],
          [
           0.86923677
          ],
          [
           0.19707796
          ],
          [
           0.29298452
          ],
          [
           0.8217832
          ],
          [
           0.79662293
          ],
          [
           0.045577012
          ],
          [
           0.61366034
          ],
          [
           0.95074457
          ],
          [
           0.33634633
          ],
          [
           0.034440666
          ],
          [
           0.74154425
          ],
          [
           0.18443266
          ],
          [
           0.66451496
          ],
          [
           0.16282485
          ],
          [
           0.72983843
          ],
          [
           0.62837386
          ],
          [
           0.05788366
          ],
          [
           0.44553483
          ],
          [
           0.80183697
          ],
          [
           0.27709612
          ],
          [
           0.22863401
          ],
          [
           0.8348607
          ],
          [
           0.6697665
          ],
          [
           0.5325273
          ],
          [
           0.17045908
          ],
          [
           0.5102885
          ],
          [
           0.977562
          ],
          [
           0.24977599
          ],
          [
           0.9755007
          ],
          [
           0.6137017
          ],
          [
           0.16742036
          ],
          [
           0.5374725
          ],
          [
           0.37989914
          ],
          [
           0.6338973
          ],
          [
           0.6339604
          ],
          [
           0.5499747
          ],
          [
           0.17817299
          ],
          [
           0.85563815
          ],
          [
           0.3217967
          ],
          [
           0.8174905
          ],
          [
           0.25487942
          ],
          [
           0.3441405
          ],
          [
           0.8061457
          ],
          [
           0.27708167
          ],
          [
           0.5443285
          ],
          [
           0.07708393
          ],
          [
           0.27308145
          ],
          [
           0.39087734
          ],
          [
           0.3496214
          ],
          [
           0.21454975
          ],
          [
           0.20607522
          ],
          [
           0.86462
          ],
          [
           0.9817088
          ],
          [
           0.33482966
          ],
          [
           0.6483871
          ],
          [
           0.09364356
          ],
          [
           0.8378027
          ],
          [
           0.76034397
          ],
          [
           0.2914042
          ],
          [
           0.3413454
          ],
          [
           0.7611125
          ],
          [
           0.5418998
          ],
          [
           0.6841766
          ],
          [
           0.9835356
          ],
          [
           0.52081245
          ],
          [
           0.32822773
          ],
          [
           0.09715794
          ],
          [
           0.8760886
          ],
          [
           0.8702145
          ],
          [
           0.656087
          ],
          [
           0.3067915
          ],
          [
           0.48126733
          ],
          [
           0.25955918
          ],
          [
           0.32612365
          ],
          [
           0.93056804
          ],
          [
           0.6583894
          ],
          [
           0.6899923
          ],
          [
           0.31578112
          ],
          [
           0.5669051
          ],
          [
           0.63752663
          ],
          [
           0.6875407
          ],
          [
           0.3243006
          ],
          [
           0.5927049
          ],
          [
           0.74025315
          ],
          [
           0.5940329
          ],
          [
           0.59645295
          ],
          [
           0.2776808
          ],
          [
           0.25832966
          ],
          [
           0.14246087
          ],
          [
           0.43553346
          ],
          [
           0.70249903
          ],
          [
           0.58897537
          ],
          [
           0.6533044
          ],
          [
           0.3369685
          ],
          [
           0.6312447
          ],
          [
           0.7353008
          ],
          [
           0.050390366
          ],
          [
           0.06426492
          ],
          [
           0.6653595
          ],
          [
           0.91783524
          ],
          [
           0.4465101
          ],
          [
           0.6619382
          ],
          [
           0.43935984
          ],
          [
           0.6875724
          ],
          [
           0.36346224
          ],
          [
           0.6542622
          ],
          [
           0.57855356
          ],
          [
           0.065927945
          ],
          [
           0.55014855
          ],
          [
           0.13918282
          ],
          [
           0.08000463
          ],
          [
           0.27822837
          ],
          [
           0.5601243
          ],
          [
           0.53639865
          ],
          [
           0.4265319
          ],
          [
           0.78910977
          ],
          [
           0.7429005
          ],
          [
           0.90169257
          ],
          [
           0.6503374
          ],
          [
           0.11405731
          ],
          [
           0.26081258
          ],
          [
           0.43991232
          ],
          [
           0.9644093
          ],
          [
           0.18440141
          ],
          [
           0.34514543
          ],
          [
           0.17589459
          ],
          [
           0.31251445
          ],
          [
           0.6741319
          ],
          [
           0.32825044
          ],
          [
           0.5982311
          ],
          [
           0.09259882
          ],
          [
           0.49791652
          ],
          [
           0.41977653
          ],
          [
           0.3121767
          ],
          [
           0.9378571
          ],
          [
           0.049030963
          ],
          [
           0.47610453
          ],
          [
           0.44739753
          ],
          [
           0.29580605
          ],
          [
           0.737364
          ],
          [
           0.6258963
          ],
          [
           0.40881342
          ],
          [
           0.43751115
          ],
          [
           0.69135135
          ],
          [
           0.9355553
          ],
          [
           0.43784666
          ],
          [
           0.07221772
          ],
          [
           0.67636067
          ],
          [
           0.468884
          ],
          [
           0.5438206
          ],
          [
           0.65552264
          ],
          [
           0.69352895
          ],
          [
           0.108878314
          ],
          [
           0.28546375
          ],
          [
           0
          ],
          [
           0.7064955
          ],
          [
           0.27353063
          ],
          [
           0.29232028
          ],
          [
           0.6739843
          ],
          [
           0.12612183
          ],
          [
           0.9467075
          ],
          [
           0.9363389
          ],
          [
           0.85375535
          ],
          [
           0.7060714
          ],
          [
           0.6936822
          ],
          [
           0.5085279
          ],
          [
           0.34717038
          ],
          [
           0.70415425
          ],
          [
           0.6587301
          ],
          [
           0.15584156
          ],
          [
           0.31108543
          ],
          [
           0.28113535
          ],
          [
           0.0945878
          ],
          [
           0.683261
          ],
          [
           0.90772927
          ],
          [
           0.29151267
          ],
          [
           0.7527345
          ],
          [
           0.93482965
          ],
          [
           0.07141396
          ],
          [
           0.5948963
          ],
          [
           0.40467203
          ],
          [
           0.1383762
          ],
          [
           0.7473385
          ],
          [
           0.5308825
          ],
          [
           0.2826496
          ],
          [
           0.69933575
          ],
          [
           0.05611125
          ],
          [
           0.855235
          ],
          [
           0.07789513
          ],
          [
           0.8916496
          ],
          [
           0.3867423
          ],
          [
           0.27113158
          ],
          [
           0.95888895
          ],
          [
           0.08512087
          ],
          [
           0.52690226
          ],
          [
           0.066577785
          ],
          [
           0.8415067
          ],
          [
           0.2553421
          ],
          [
           0.060545772
          ],
          [
           0.07338587
          ],
          [
           0.18749373
          ],
          [
           0.8583657
          ],
          [
           0.09064035
          ],
          [
           0.7097252
          ],
          [
           0.6313006
          ],
          [
           0.24750447
          ],
          [
           0.8228436
          ],
          [
           0.37347677
          ],
          [
           0.6255386
          ],
          [
           0.2929517
          ],
          [
           0.29973033
          ],
          [
           0.25121406
          ],
          [
           0.34448054
          ],
          [
           0.29306477
          ],
          [
           0.7628032
          ],
          [
           0.7384708
          ],
          [
           0.67488325
          ],
          [
           0.7191516
          ],
          [
           0.13098022
          ],
          [
           0.51132804
          ],
          [
           0.04492903
          ],
          [
           0.56091446
          ],
          [
           0.74404067
          ],
          [
           0.26696163
          ],
          [
           0.64423186
          ],
          [
           0.038113352
          ],
          [
           0.0571553
          ],
          [
           0.34139246
          ],
          [
           0.72046363
          ],
          [
           0.40287822
          ],
          [
           0.63514894
          ],
          [
           0.32072946
          ],
          [
           0.091209695
          ],
          [
           0.23414609
          ],
          [
           0.8902211
          ],
          [
           0.6021709
          ],
          [
           0.63365203
          ],
          [
           0.80624086
          ],
          [
           0.7397312
          ],
          [
           0.46523127
          ],
          [
           0.7321109
          ],
          [
           0.3738743
          ],
          [
           0.5015879
          ],
          [
           0.115383156
          ],
          [
           0.7319466
          ],
          [
           0.41829872
          ],
          [
           0.062259592
          ],
          [
           0.3914964
          ],
          [
           0.3598493
          ],
          [
           0.24523562
          ],
          [
           0.6100283
          ],
          [
           0.43540362
          ],
          [
           0.43430966
          ],
          [
           0.52376336
          ],
          [
           0.17118786
          ],
          [
           0.1877343
          ],
          [
           0.94501466
          ],
          [
           0.027851097
          ],
          [
           0.68445706
          ],
          [
           0.17801453
          ],
          [
           0.6434279
          ],
          [
           0.59588355
          ],
          [
           0.3723617
          ],
          [
           0.58610356
          ],
          [
           0.27165884
          ],
          [
           0.5995111
          ],
          [
           0.46836308
          ],
          [
           0.31451556
          ],
          [
           0.21893726
          ],
          [
           0.25471658
          ],
          [
           0.25612816
          ],
          [
           0.60225976
          ],
          [
           0.13438107
          ],
          [
           0.5138874
          ],
          [
           0.62424165
          ],
          [
           0.16025186
          ],
          [
           0.5807081
          ],
          [
           0.27054048
          ],
          [
           0.83291996
          ],
          [
           0.93032134
          ],
          [
           0.7191579
          ],
          [
           0.88672006
          ],
          [
           0.09879228
          ],
          [
           0.7871743
          ],
          [
           0.3655924
          ],
          [
           0.7195762
          ],
          [
           0.8058956
          ],
          [
           0.75557834
          ],
          [
           0.5260059
          ],
          [
           0.68880427
          ],
          [
           0.2211153
          ],
          [
           0.73936945
          ],
          [
           0.40844023
          ],
          [
           0.34892654
          ],
          [
           0.43371376
          ],
          [
           0.5964966
          ],
          [
           0.6942953
          ],
          [
           0.709031
          ],
          [
           0.867653
          ],
          [
           0.89332545
          ],
          [
           0.7460209
          ],
          [
           0.5382844
          ],
          [
           0.8922193
          ],
          [
           0.9351758
          ],
          [
           0.2605277
          ],
          [
           0.95678043
          ],
          [
           0.20493248
          ],
          [
           0.68773335
          ],
          [
           0.32906362
          ],
          [
           0.6321498
          ],
          [
           0.4637445
          ],
          [
           0.69885963
          ],
          [
           0.38544658
          ],
          [
           0.47997537
          ],
          [
           0.7322791
          ],
          [
           0.3813543
          ],
          [
           0.459326
          ],
          [
           0.25740144
          ],
          [
           0.6650148
          ],
          [
           0.103399545
          ],
          [
           0.42528442
          ],
          [
           0.94352907
          ],
          [
           0.5947502
          ],
          [
           0.5437768
          ],
          [
           0.18203989
          ],
          [
           0.23584208
          ],
          [
           0.58598447
          ],
          [
           0.7620132
          ],
          [
           0.6849829
          ],
          [
           0.6769369
          ],
          [
           0.29018497
          ],
          [
           0.48106822
          ],
          [
           0.49276602
          ],
          [
           0.22185624
          ],
          [
           0.053875998
          ],
          [
           0.08275115
          ],
          [
           0.38536623
          ],
          [
           0.70251393
          ],
          [
           0.9155316
          ],
          [
           0.082087435
          ],
          [
           0.25128037
          ],
          [
           0.41672182
          ],
          [
           0.27703267
          ],
          [
           0.5795398
          ],
          [
           0.5693635
          ],
          [
           0.13339971
          ],
          [
           0.26504546
          ],
          [
           0.9365719
          ],
          [
           0.25261855
          ],
          [
           0.054033082
          ],
          [
           0.8024814
          ],
          [
           0.5281977
          ],
          [
           0.9515026
          ],
          [
           0.57212114
          ],
          [
           0.7529382
          ],
          [
           0.14385754
          ],
          [
           0.5134846
          ],
          [
           0.3133224
          ],
          [
           0.68779737
          ],
          [
           0.37705985
          ],
          [
           0.34822613
          ],
          [
           0.6776328
          ],
          [
           0.24138752
          ],
          [
           0.8506502
          ],
          [
           0.2203481
          ],
          [
           0.47644547
          ],
          [
           0.690324
          ],
          [
           0.36469594
          ],
          [
           0.6492492
          ],
          [
           0.9437019
          ],
          [
           0.529646
          ],
          [
           0.299097
          ],
          [
           0.96696246
          ],
          [
           0.27200523
          ],
          [
           0.31416145
          ],
          [
           0.752021
          ],
          [
           0.22188245
          ],
          [
           0.7203327
          ],
          [
           0.37920478
          ],
          [
           0.60168654
          ],
          [
           0.58293265
          ],
          [
           0.95080984
          ],
          [
           0.5883014
          ],
          [
           0.8808872
          ],
          [
           0.4678577
          ],
          [
           0.8799022
          ],
          [
           0.619844
          ],
          [
           0.35900256
          ],
          [
           0.29151127
          ],
          [
           0.6941571
          ],
          [
           0.72796035
          ],
          [
           0.6177039
          ],
          [
           0.39581257
          ],
          [
           0.5831728
          ],
          [
           0.7103324
          ],
          [
           0.2537537
          ],
          [
           0.04941223
          ],
          [
           0.7283787
          ],
          [
           0.4324329
          ],
          [
           0.58612347
          ],
          [
           0.052342374
          ],
          [
           0.053483903
          ],
          [
           0.5187294
          ],
          [
           0.9330402
          ],
          [
           0.7035543
          ],
          [
           0.2689899
          ],
          [
           0.73300695
          ],
          [
           0.44435248
          ],
          [
           0.58339465
          ],
          [
           0.87117267
          ],
          [
           0.42876709
          ],
          [
           0.30046085
          ],
          [
           0.95332944
          ],
          [
           0.60644394
          ],
          [
           0.9098681
          ],
          [
           0.71489644
          ],
          [
           0.4973495
          ],
          [
           0.8530975
          ],
          [
           0.72180414
          ],
          [
           0.30346733
          ],
          [
           0.6644851
          ],
          [
           0.27978063
          ],
          [
           0.5694817
          ],
          [
           0.6286289
          ],
          [
           0.088368125
          ],
          [
           0.7335673
          ],
          [
           0.5374368
          ],
          [
           0.6385937
          ],
          [
           0.95472693
          ],
          [
           0.6322023
          ],
          [
           0.64213467
          ],
          [
           0.7446531
          ],
          [
           0.115714006
          ],
          [
           0.48625007
          ],
          [
           0.44035614
          ],
          [
           0.08272289
          ],
          [
           0.511591
          ],
          [
           0.39462754
          ],
          [
           0.224394
          ],
          [
           0.62692755
          ],
          [
           0.29025406
          ],
          [
           0.77900803
          ],
          [
           0.8661058
          ],
          [
           0.87332606
          ],
          [
           0.49548915
          ],
          [
           0.5942977
          ],
          [
           0.91820157
          ],
          [
           0.57704276
          ],
          [
           0.01946767
          ],
          [
           0.6702983
          ],
          [
           0.54659534
          ],
          [
           0.59166515
          ],
          [
           0.4215582
          ],
          [
           0.68560857
          ],
          [
           0.34030303
          ],
          [
           0.67562675
          ],
          [
           0.31906736
          ],
          [
           0.38849968
          ],
          [
           0.7069496
          ],
          [
           0.5594095
          ],
          [
           0.6876635
          ],
          [
           0.70880455
          ],
          [
           0.6818881
          ],
          [
           0.42253512
          ],
          [
           0.3200046
          ],
          [
           0.6582814
          ],
          [
           0.63415486
          ],
          [
           0.777332
          ],
          [
           0.8126772
          ],
          [
           0.0742808
          ],
          [
           0.39600217
          ],
          [
           0.054933913
          ],
          [
           0.82505894
          ],
          [
           0.382642
          ],
          [
           0.8687298
          ],
          [
           0.58804333
          ],
          [
           0.89155155
          ],
          [
           0.10920046
          ],
          [
           0.6476828
          ],
          [
           0.7243425
          ],
          [
           0.07016304
          ],
          [
           0.28088206
          ],
          [
           0.03911326
          ],
          [
           0.5796416
          ],
          [
           0.6390009
          ],
          [
           0.2817459
          ],
          [
           0.6478577
          ],
          [
           0.6479058
          ],
          [
           0.87522626
          ],
          [
           0.5676033
          ],
          [
           0.2629406
          ],
          [
           0.26802605
          ],
          [
           0.40519133
          ],
          [
           0.47996545
          ],
          [
           0.33552402
          ],
          [
           0.77716535
          ],
          [
           0.42548797
          ],
          [
           0.23798612
          ],
          [
           0.14252298
          ],
          [
           0.72417647
          ],
          [
           0.23469894
          ],
          [
           0.07818228
          ],
          [
           0.8559902
          ],
          [
           0.27025175
          ],
          [
           0.43551785
          ],
          [
           0.7626975
          ],
          [
           0.46448725
          ],
          [
           0.39611268
          ],
          [
           0.37638092
          ],
          [
           0.29459468
          ],
          [
           0.6944921
          ],
          [
           0.6227679
          ],
          [
           0.84755975
          ],
          [
           0.30146307
          ],
          [
           0.9129378
          ],
          [
           0.50001717
          ],
          [
           0.90258795
          ],
          [
           0.30451795
          ],
          [
           0.29916567
          ],
          [
           0.09201409
          ],
          [
           0.4885489
          ],
          [
           0.66466445
          ],
          [
           0.26534954
          ],
          [
           0.723657
          ],
          [
           0.14926238
          ],
          [
           0.04577339
          ],
          [
           0.6966106
          ],
          [
           0.42181486
          ],
          [
           0.7338458
          ],
          [
           0.41879538
          ],
          [
           0.6774435
          ],
          [
           0.2612836
          ],
          [
           0.26852778
          ],
          [
           0.54432225
          ],
          [
           0.43163204
          ],
          [
           0.9810181
          ],
          [
           0.21498072
          ],
          [
           0.39473
          ],
          [
           0.12222494
          ],
          [
           0.29749689
          ],
          [
           0.37490442
          ],
          [
           0.6869877
          ],
          [
           0.3885492
          ],
          [
           0.039296072
          ],
          [
           0.73553425
          ],
          [
           0.3792949
          ],
          [
           0.7321234
          ],
          [
           0.33922145
          ],
          [
           0.6594506
          ],
          [
           0.054838642
          ],
          [
           0.6401121
          ],
          [
           0.3071417
          ],
          [
           0.3966119
          ],
          [
           0.42043915
          ],
          [
           0.24171497
          ],
          [
           0.06589315
          ],
          [
           0.9105219
          ],
          [
           0.6971631
          ],
          [
           0.072559856
          ],
          [
           0.81825095
          ],
          [
           0.3118888
          ],
          [
           0.9616446
          ],
          [
           0.81632555
          ],
          [
           0.14647302
          ],
          [
           0.5487539
          ],
          [
           0.9461581
          ],
          [
           0.29399273
          ],
          [
           0.33147964
          ],
          [
           0.90622
          ],
          [
           0.5255404
          ],
          [
           0.83301413
          ],
          [
           0.5148498
          ],
          [
           0.57460904
          ],
          [
           0.46871185
          ],
          [
           0.71002775
          ],
          [
           0.64597327
          ],
          [
           0.22979441
          ],
          [
           0.5517834
          ],
          [
           0.05582299
          ],
          [
           0.33175093
          ],
          [
           0.7155202
          ],
          [
           0.58392435
          ],
          [
           0.3069577
          ],
          [
           0.7914782
          ],
          [
           0.16423663
          ],
          [
           0.06571122
          ],
          [
           0.94899315
          ],
          [
           0.08042383
          ],
          [
           0.052495427
          ],
          [
           0.5663461
          ],
          [
           0.3630266
          ],
          [
           0.60544217
          ],
          [
           0.6308506
          ],
          [
           0.065791234
          ],
          [
           0.28681707
          ],
          [
           0.68546283
          ],
          [
           0.2608537
          ],
          [
           0.6591224
          ],
          [
           0.44317392
          ],
          [
           0.602064
          ],
          [
           0.06036691
          ],
          [
           0.78190315
          ],
          [
           0.51457983
          ],
          [
           0.4838862
          ],
          [
           0.6002138
          ],
          [
           0.49736404
          ],
          [
           0.41114524
          ],
          [
           0.11699917
          ],
          [
           0.34189013
          ],
          [
           0.74695086
          ],
          [
           0.39629275
          ],
          [
           0.62214386
          ],
          [
           0.33527115
          ],
          [
           0.14025714
          ],
          [
           0.08162068
          ],
          [
           0.06983757
          ],
          [
           0.46894002
          ],
          [
           0.9908574
          ],
          [
           0.8966168
          ],
          [
           0.25531057
          ],
          [
           0.22464527
          ],
          [
           0.01991825
          ],
          [
           0.29648042
          ],
          [
           0.155459
          ],
          [
           0.57791674
          ],
          [
           0.95630306
          ],
          [
           0.8134644
          ],
          [
           0.5296758
          ],
          [
           0.28767136
          ],
          [
           0.48039135
          ],
          [
           0.2810448
          ],
          [
           0.63319653
          ],
          [
           0.09332538
          ],
          [
           0.284474
          ],
          [
           0.052223776
          ],
          [
           0.051129386
          ],
          [
           0.9674056
          ],
          [
           0.040045727
          ],
          [
           0.9085829
          ],
          [
           0.6621174
          ],
          [
           0.4247032
          ],
          [
           0.7220781
          ],
          [
           0.6661933
          ],
          [
           0.5096812
          ],
          [
           0.7513536
          ],
          [
           0.27907312
          ],
          [
           0.074927
          ],
          [
           0.91635954
          ],
          [
           0.31040326
          ],
          [
           0.71660405
          ],
          [
           0.4855871
          ],
          [
           0.3060752
          ],
          [
           0.4775582
          ],
          [
           0.71192396
          ],
          [
           0.066348635
          ],
          [
           0.27453935
          ],
          [
           0.31082252
          ],
          [
           0.47607312
          ],
          [
           0.18679556
          ],
          [
           0.26654208
          ],
          [
           0.07023114
          ],
          [
           0.26951927
          ],
          [
           0.8000047
          ],
          [
           0.27363366
          ],
          [
           0.14647919
          ],
          [
           0.37831897
          ],
          [
           0.37384906
          ],
          [
           0.24217084
          ],
          [
           0.2497965
          ],
          [
           0.06659119
          ],
          [
           0.3729568
          ],
          [
           0.5018123
          ],
          [
           0.31309775
          ],
          [
           0.8802022
          ],
          [
           0.5198189
          ],
          [
           0.36413875
          ],
          [
           0.4926829
          ],
          [
           0.28573266
          ],
          [
           0.89011496
          ],
          [
           0.31641957
          ],
          [
           0.26866353
          ],
          [
           0.77197593
          ],
          [
           0.968889
          ],
          [
           0.08033438
          ],
          [
           0.7368282
          ],
          [
           0.30055806
          ],
          [
           0.9179504
          ],
          [
           0.46581504
          ],
          [
           0.05403668
          ],
          [
           0.96315014
          ],
          [
           0.0896535
          ],
          [
           0.7076932
          ],
          [
           0.636416
          ],
          [
           0.5395211
          ],
          [
           0.11475716
          ],
          [
           0.3573124
          ],
          [
           0.67639834
          ],
          [
           0.4348284
          ],
          [
           0.032326385
          ],
          [
           0.7113656
          ],
          [
           0.18748651
          ],
          [
           0.052789655
          ],
          [
           0.5058636
          ],
          [
           0.9274319
          ],
          [
           0.68098426
          ],
          [
           0.8828222
          ],
          [
           0.49570546
          ],
          [
           0.5962404
          ],
          [
           0.3206107
          ],
          [
           0.3413685
          ],
          [
           0.1596818
          ],
          [
           0.31813368
          ],
          [
           0.83930105
          ],
          [
           0.06435925
          ],
          [
           0.47021663
          ],
          [
           0.77625227
          ],
          [
           0.6358434
          ],
          [
           0.62510544
          ],
          [
           0.52959067
          ],
          [
           0.98690015
          ],
          [
           0.078585684
          ],
          [
           0.23328426
          ],
          [
           0.36333096
          ],
          [
           0.716717
          ],
          [
           0.37588978
          ],
          [
           0.2233169
          ],
          [
           0.29934397
          ],
          [
           0.5385958
          ],
          [
           0.73029715
          ],
          [
           0.6603308
          ],
          [
           0.435296
          ],
          [
           0.3264943
          ],
          [
           0.8544027
          ],
          [
           0.57349384
          ],
          [
           0.75778615
          ],
          [
           0.7047432
          ],
          [
           0.2815756
          ],
          [
           0.6719682
          ],
          [
           0.313726
          ],
          [
           0.36433828
          ],
          [
           0.3682164
          ],
          [
           0.3862952
          ],
          [
           0.6559719
          ],
          [
           0.56602526
          ],
          [
           0.4249991
          ],
          [
           0.09011037
          ],
          [
           0.77235055
          ],
          [
           0.33104727
          ],
          [
           0.27371618
          ],
          [
           0.23877569
          ],
          [
           0.37307978
          ],
          [
           0.33118588
          ],
          [
           0.25613454
          ],
          [
           0.6783732
          ],
          [
           0.43463835
          ],
          [
           0.65466833
          ],
          [
           0.98668104
          ],
          [
           0.3715205
          ],
          [
           0.40835962
          ],
          [
           0.40932366
          ],
          [
           0.28341207
          ],
          [
           0.39524654
          ],
          [
           0.010984428
          ],
          [
           0.30601388
          ],
          [
           0.26619482
          ],
          [
           0.29931852
          ],
          [
           0.31829396
          ],
          [
           0.7428259
          ],
          [
           0.09766433
          ],
          [
           0.07966694
          ],
          [
           0.6132588
          ],
          [
           0.9944307
          ],
          [
           0.5688351
          ],
          [
           0.7080345
          ],
          [
           0.3705927
          ],
          [
           0.66986734
          ],
          [
           0.6512956
          ],
          [
           0.46253157
          ],
          [
           0.7196256
          ],
          [
           0.4537725
          ],
          [
           0.39486393
          ],
          [
           0.32397482
          ],
          [
           0.14645472
          ],
          [
           0.77906704
          ],
          [
           0.4018289
          ],
          [
           0.6014796
          ],
          [
           0.856423
          ],
          [
           0.56524295
          ],
          [
           0.3012251
          ],
          [
           0.28210816
          ],
          [
           0.594378
          ],
          [
           0.7053124
          ],
          [
           0.54086965
          ],
          [
           0.31924957
          ],
          [
           0.36176613
          ],
          [
           0.6250007
          ],
          [
           0.3162874
          ],
          [
           0.04723902
          ],
          [
           0.8011822
          ],
          [
           0.5084744
          ],
          [
           0.8178934
          ],
          [
           0.3992356
          ],
          [
           0.974052
          ],
          [
           0.7224153
          ],
          [
           0.039564762
          ],
          [
           0.90868413
          ],
          [
           0.47301012
          ],
          [
           0.71804965
          ],
          [
           0.76347905
          ],
          [
           0.64759654
          ],
          [
           0.89499736
          ],
          [
           0.2228259
          ],
          [
           0.35901225
          ],
          [
           0.9449102
          ],
          [
           0.29787782
          ],
          [
           0.172518
          ],
          [
           0.55658627
          ],
          [
           0.8764817
          ],
          [
           0.48667786
          ],
          [
           0.45949674
          ],
          [
           0.47412637
          ],
          [
           0.7010114
          ],
          [
           0.3375974
          ],
          [
           0.5375789
          ],
          [
           0.96699244
          ],
          [
           0.056849547
          ],
          [
           0.23324907
          ],
          [
           0.3800547
          ],
          [
           0.6029294
          ],
          [
           0.303848
          ],
          [
           0.17019455
          ],
          [
           0.97216856
          ],
          [
           0.33216894
          ],
          [
           0.6887287
          ],
          [
           0.1107734
          ],
          [
           0.27335206
          ],
          [
           0.5729397
          ],
          [
           0.49145707
          ],
          [
           0.28139
          ],
          [
           0.82169724
          ],
          [
           0.67497766
          ],
          [
           0.58513457
          ],
          [
           0.71059614
          ],
          [
           0.04048879
          ],
          [
           0.5680543
          ],
          [
           0.32175294
          ],
          [
           0.61185026
          ],
          [
           0.9260969
          ],
          [
           0.6183474
          ],
          [
           0.6676298
          ],
          [
           0.39773348
          ],
          [
           0.2908755
          ],
          [
           0.5943751
          ],
          [
           0.50825524
          ],
          [
           0.33857137
          ],
          [
           0.43230236
          ],
          [
           0.30222198
          ],
          [
           0.8761982
          ],
          [
           0.080204494
          ],
          [
           0.09233353
          ],
          [
           0.09365645
          ],
          [
           0.6084524
          ],
          [
           0.7326546
          ],
          [
           0.94415885
          ],
          [
           0.2674231
          ],
          [
           0.7311242
          ],
          [
           0.6613085
          ],
          [
           0.38776627
          ],
          [
           0.9625853
          ],
          [
           0.32206705
          ],
          [
           0.63408107
          ],
          [
           0.47534502
          ],
          [
           0.353559
          ],
          [
           0.8859363
          ],
          [
           0.8767981
          ],
          [
           0.22158106
          ],
          [
           0.39436245
          ],
          [
           0.80503565
          ],
          [
           0.45289847
          ],
          [
           0.59252053
          ],
          [
           0.7610264
          ],
          [
           0.24504903
          ],
          [
           0.37213936
          ],
          [
           0.68105483
          ],
          [
           0.74714315
          ],
          [
           0.92073953
          ],
          [
           0.09720795
          ],
          [
           0.699303
          ],
          [
           0.721647
          ],
          [
           0.5353561
          ],
          [
           0.7382938
          ],
          [
           0.70646757
          ],
          [
           0.6739506
          ],
          [
           0.7112123
          ],
          [
           0.30255872
          ],
          [
           0.080097854
          ],
          [
           0.70701087
          ],
          [
           0.51224864
          ],
          [
           0.6596275
          ],
          [
           0.6575597
          ],
          [
           0.10064561
          ],
          [
           0.9266536
          ],
          [
           0.89287937
          ],
          [
           0.8391575
          ],
          [
           0.89095974
          ],
          [
           0.55675447
          ],
          [
           0.96036196
          ],
          [
           0.6310379
          ],
          [
           0.029838065
          ],
          [
           0.27884334
          ],
          [
           0.9261577
          ],
          [
           0.55150425
          ],
          [
           0.48594236
          ],
          [
           0.4372347
          ],
          [
           0.25231802
          ],
          [
           0.515467
          ],
          [
           0.43725228
          ],
          [
           0.4937242
          ],
          [
           0.83324724
          ],
          [
           0.31752148
          ],
          [
           0.28623456
          ],
          [
           0.72683394
          ],
          [
           0.49566704
          ],
          [
           0.028645255
          ],
          [
           0.31967193
          ],
          [
           0.6743446
          ],
          [
           0.76603717
          ],
          [
           0.6545699
          ],
          [
           0.7565144
          ],
          [
           0.52825373
          ],
          [
           0.3897195
          ],
          [
           0.35508746
          ],
          [
           0.870152
          ],
          [
           0.7390833
          ],
          [
           0.30576184
          ],
          [
           0.4115877
          ],
          [
           0.06363309
          ],
          [
           0.7354094
          ],
          [
           0.6059167
          ],
          [
           0.5393956
          ],
          [
           0.5661835
          ],
          [
           0.6747952
          ],
          [
           0.070993364
          ],
          [
           0.1252641
          ],
          [
           0.27960148
          ],
          [
           0.9521744
          ],
          [
           0.23380676
          ],
          [
           0.43724743
          ],
          [
           0.9254231
          ],
          [
           0.43349862
          ],
          [
           0.525179
          ],
          [
           0.08843553
          ],
          [
           0.44767764
          ],
          [
           0.6470006
          ],
          [
           0.9036033
          ],
          [
           0.26579073
          ],
          [
           0.66419697
          ],
          [
           0.49812067
          ],
          [
           0.49018896
          ],
          [
           0.7470842
          ],
          [
           0.90678364
          ],
          [
           0.6787709
          ],
          [
           0.34859985
          ],
          [
           0.29483968
          ],
          [
           0.7056918
          ],
          [
           0.21191794
          ],
          [
           0.06320112
          ],
          [
           0.27669954
          ],
          [
           0.6724594
          ],
          [
           0.80820596
          ],
          [
           0.29653838
          ],
          [
           0.16012686
          ],
          [
           0.43938503
          ],
          [
           0.5559514
          ],
          [
           0.38624012
          ],
          [
           0.15868962
          ],
          [
           0.21449986
          ],
          [
           0.29957944
          ],
          [
           0.56916165
          ],
          [
           0.4886148
          ],
          [
           0.878295
          ],
          [
           0.6493809
          ],
          [
           0.46571335
          ],
          [
           0.16813774
          ],
          [
           0.87529546
          ],
          [
           0.84113234
          ],
          [
           0.33292082
          ],
          [
           0.5130479
          ],
          [
           0.30505508
          ],
          [
           0.812627
          ],
          [
           0.25096706
          ],
          [
           0.50243556
          ],
          [
           0.45799074
          ]
         ],
         "hovertemplate": "0=%{x}<br>1=%{y}<br>2=%{z}<br>Feature=%{customdata[0]}<br>Anomaly=%{marker.color}<extra></extra>",
         "legendgroup": "",
         "marker": {
          "color": [
           0,
           0,
           1,
           1,
           0,
           0,
           0,
           1,
           1,
           0,
           0,
           1,
           0,
           1,
           1,
           0,
           0,
           0,
           1,
           0,
           1,
           0,
           0,
           1,
           1,
           1,
           0,
           0,
           1,
           1,
           0,
           0,
           0,
           1,
           1,
           0,
           0,
           0,
           0,
           0,
           1,
           0,
           0,
           1,
           0,
           0,
           0,
           0,
           0,
           0,
           0,
           1,
           0,
           1,
           0,
           1,
           0,
           0,
           0,
           1,
           0,
           0,
           1,
           1,
           0,
           0,
           1,
           0,
           0,
           1,
           0,
           0,
           0,
           0,
           0,
           0,
           0,
           0,
           0,
           0,
           0,
           0,
           0,
           0,
           0,
           0,
           0,
           0,
           0,
           0,
           0,
           0,
           0,
           0,
           0,
           0,
           0,
           0,
           0,
           0,
           0,
           0,
           0,
           0,
           0,
           0,
           0,
           0,
           0,
           0,
           0,
           0,
           0,
           0,
           0,
           0,
           0,
           0,
           0,
           0,
           0,
           0,
           0,
           0,
           0,
           0,
           0,
           0,
           0,
           0,
           1,
           0,
           0,
           0,
           0,
           0,
           0,
           0,
           0,
           0,
           0,
           0,
           0,
           0,
           0,
           0,
           0,
           0,
           0,
           0,
           0,
           0,
           0,
           0,
           0,
           0,
           0,
           0,
           0,
           0,
           0,
           0,
           0,
           0,
           0,
           0,
           0,
           0,
           0,
           0,
           0,
           0,
           0,
           0,
           0,
           0,
           0,
           0,
           0,
           0,
           0,
           0,
           0,
           0,
           0,
           0,
           0,
           0,
           0,
           0,
           0,
           0,
           0,
           0,
           0,
           0,
           0,
           0,
           1,
           0,
           0,
           0,
           0,
           0,
           0,
           0,
           0,
           0,
           0,
           0,
           0,
           0,
           0,
           0,
           0,
           0,
           0,
           0,
           0,
           0,
           0,
           0,
           0,
           0,
           0,
           0,
           0,
           0,
           0,
           0,
           0,
           0,
           0,
           0,
           0,
           0,
           0,
           0,
           0,
           0,
           0,
           0,
           0,
           0,
           0,
           0,
           0,
           0,
           0,
           0,
           0,
           0,
           0,
           0,
           0,
           0,
           0,
           0,
           0,
           0,
           0,
           0,
           0,
           0,
           0,
           0,
           0,
           0,
           0,
           0,
           0,
           0,
           0,
           0,
           0,
           0,
           0,
           0,
           0,
           0,
           0,
           0,
           0,
           0,
           0,
           0,
           0,
           0,
           0,
           0,
           0,
           0,
           0,
           0,
           0,
           0,
           0,
           0,
           0,
           0,
           0,
           0,
           0,
           0,
           0,
           0,
           0,
           0,
           0,
           0,
           0,
           0,
           0,
           0,
           0,
           0,
           0,
           0,
           0,
           0,
           0,
           0,
           0,
           0,
           0,
           0,
           0,
           0,
           0,
           0,
           0,
           0,
           0,
           0,
           0,
           0,
           0,
           0,
           0,
           0,
           0,
           0,
           0,
           0,
           0,
           0,
           0,
           0,
           0,
           0,
           0,
           0,
           0,
           0,
           0,
           0,
           0,
           0,
           0,
           0,
           0,
           0,
           0,
           0,
           0,
           0,
           0,
           0,
           0,
           0,
           0,
           0,
           0,
           0,
           0,
           0,
           0,
           0,
           0,
           0,
           0,
           0,
           0,
           0,
           0,
           0,
           0,
           0,
           0,
           0,
           0,
           0,
           0,
           0,
           0,
           0,
           0,
           0,
           0,
           0,
           0,
           0,
           0,
           0,
           0,
           0,
           0,
           0,
           0,
           0,
           0,
           0,
           0,
           0,
           0,
           0,
           0,
           0,
           0,
           0,
           0,
           0,
           0,
           0,
           0,
           0,
           0,
           0,
           0,
           0,
           0,
           0,
           0,
           0,
           0,
           0,
           0,
           0,
           0,
           0,
           0,
           0,
           0,
           0,
           0,
           0,
           0,
           0,
           0,
           0,
           0,
           0,
           0,
           0,
           0,
           0,
           0,
           0,
           0,
           0,
           0,
           0,
           0,
           0,
           0,
           0,
           0,
           0,
           0,
           0,
           0,
           0,
           0,
           0,
           0,
           0,
           0,
           0,
           0,
           0,
           0,
           0,
           0,
           0,
           0,
           0,
           0,
           0,
           0,
           0,
           0,
           0,
           0,
           0,
           0,
           0,
           0,
           0,
           0,
           0,
           0,
           0,
           0,
           0,
           0,
           0,
           0,
           0,
           0,
           0,
           0,
           0,
           0,
           0,
           0,
           0,
           0,
           0,
           0,
           0,
           0,
           0,
           0,
           0,
           0,
           0,
           0,
           0,
           0,
           0,
           0,
           0,
           0,
           0,
           0,
           0,
           0,
           0,
           0,
           0,
           0,
           0,
           0,
           0,
           0,
           1,
           0,
           0,
           0,
           0,
           0,
           0,
           0,
           0,
           0,
           0,
           0,
           0,
           0,
           0,
           0,
           0,
           0,
           0,
           0,
           0,
           0,
           0,
           0,
           0,
           0,
           0,
           0,
           0,
           0,
           0,
           0,
           1,
           0,
           0,
           0,
           0,
           0,
           0,
           0,
           0,
           0,
           0,
           0,
           0,
           0,
           0,
           0,
           0,
           0,
           0,
           0,
           0,
           0,
           0,
           0,
           0,
           1,
           0,
           0,
           0,
           0,
           0,
           0,
           0,
           0,
           0,
           0,
           0,
           0,
           0,
           0,
           0,
           0,
           0,
           0,
           0,
           0,
           0,
           0,
           0,
           0,
           0,
           0,
           0,
           0,
           0,
           0,
           0,
           0,
           0,
           0,
           0,
           0,
           0,
           0,
           0,
           0,
           0,
           0,
           0,
           0,
           0,
           0,
           0,
           0,
           0,
           0,
           0,
           0,
           0,
           0,
           0,
           0,
           0,
           0,
           0,
           0,
           0,
           0,
           0,
           0,
           0,
           0,
           0,
           0,
           0,
           0,
           0,
           0,
           0,
           0,
           0,
           0,
           0,
           1,
           0,
           0,
           0,
           0,
           0,
           0,
           0,
           0,
           0,
           0,
           0,
           0,
           0,
           0,
           0,
           0,
           0,
           0,
           0,
           1,
           1,
           0,
           1,
           0,
           0,
           0,
           1,
           1,
           0,
           0,
           0,
           0,
           1,
           0,
           0,
           1,
           1,
           1,
           0,
           1,
           0,
           1,
           1,
           1,
           0,
           0,
           0,
           1,
           0,
           0,
           0,
           0,
           0,
           0,
           0,
           0,
           0,
           0,
           0,
           0,
           0,
           0,
           1,
           0,
           0,
           0,
           0,
           0,
           0,
           0,
           0,
           0,
           0,
           0,
           0,
           0,
           0,
           0,
           0,
           0,
           0,
           0,
           0,
           0,
           0,
           0,
           0,
           0,
           0,
           0,
           0,
           0,
           0,
           0,
           0,
           0,
           0,
           0,
           0,
           0,
           0,
           0,
           0,
           0,
           0,
           0,
           0,
           0,
           0,
           0,
           0,
           0,
           0,
           0,
           0,
           0,
           0,
           0,
           0,
           0,
           0,
           0,
           0,
           0,
           0,
           0,
           0,
           0,
           0,
           0,
           0,
           0,
           0,
           0,
           0,
           0,
           0,
           0,
           0,
           0,
           0,
           0,
           0,
           0,
           0,
           0,
           0,
           0,
           0,
           0,
           0,
           0,
           0,
           0,
           0,
           0,
           0,
           0,
           0,
           0,
           0,
           0,
           0,
           0,
           0,
           0,
           0,
           0,
           0,
           0,
           0,
           0,
           0,
           0,
           0,
           1,
           0,
           0,
           0,
           0,
           0,
           0,
           0,
           0,
           0,
           0,
           0,
           0,
           0,
           0,
           0,
           0,
           0,
           0,
           0,
           0,
           0,
           0,
           0,
           0,
           0,
           0,
           0,
           0,
           0,
           0,
           0,
           0,
           0,
           0,
           0,
           0,
           0,
           0,
           0,
           0,
           0,
           0,
           0,
           0,
           0,
           0,
           0,
           0,
           0,
           0,
           0,
           0,
           0,
           0,
           0,
           0,
           0,
           0,
           0,
           0,
           0,
           0,
           0,
           0,
           1,
           0,
           0,
           0,
           0,
           0,
           0,
           0,
           0,
           0,
           0,
           0,
           0,
           0,
           0,
           0,
           0,
           0,
           0,
           0,
           1,
           0,
           0,
           0,
           0,
           0,
           0,
           0,
           0,
           0,
           0,
           0,
           0,
           0,
           0,
           0,
           0,
           0,
           0,
           0,
           0,
           0,
           0,
           0,
           0,
           0,
           0,
           0,
           0,
           0,
           0,
           0,
           0,
           0,
           0,
           0,
           0,
           0,
           0,
           0,
           0,
           0,
           0,
           0,
           0,
           0,
           0,
           0,
           0,
           0,
           0,
           0,
           0,
           0,
           0,
           0,
           0,
           0,
           0
          ],
          "coloraxis": "coloraxis",
          "opacity": 0.7,
          "symbol": "circle"
         },
         "mode": "markers",
         "name": "",
         "scene": "scene",
         "showlegend": false,
         "type": "scatter3d",
         "x": [
          7.8080754,
          -8.16249,
          10.574644,
          -8.708487,
          7.9193835,
          10.755972,
          14.795123,
          -1.9302782,
          -13.338951,
          13.869382,
          -1.2207541,
          -9.251577,
          -6.4905806,
          1.0053929,
          -6.554966,
          7.334705,
          -6.180611,
          5.501641,
          -11.322866,
          3.1549883,
          -10.186909,
          2.9293506,
          0.4109568,
          -13.329974,
          -2.901203,
          -8.352446,
          8.196534,
          9.935695,
          -6.364865,
          -1.888958,
          -8.485691,
          -11.895415,
          -4.575576,
          -5.2549295,
          11.520588,
          -8.697337,
          3.8798013,
          -9.434129,
          -4.4168706,
          9.971804,
          9.731096,
          1.9746083,
          -4.025524,
          -14.528789,
          -5.254542,
          7.3875895,
          -5.018877,
          9.098619,
          7.713219,
          -6.5480366,
          9.764994,
          -4.1478615,
          -12.565694,
          7.3410463,
          11.981934,
          13.029455,
          14.216431,
          13.619026,
          -4.81858,
          -8.293309,
          13.69018,
          4.258544,
          -6.614805,
          -3.395674,
          7.9204483,
          7.609332,
          13.215835,
          5.8369093,
          -0.8935866,
          1.1336284,
          -4.8688073,
          -1.072261,
          7.637743,
          -6.7601733,
          -10.453426,
          -9.555241,
          -3.823795,
          8.100856,
          -3.4992948,
          6.9574146,
          6.6039195,
          -9.514747,
          -2.0570738,
          4.7556524,
          13.708504,
          -8.49563,
          8.229241,
          8.238222,
          12.371277,
          -5.3964715,
          3.280814,
          -0.76653,
          6.587794,
          13.586614,
          13.796309,
          -7.0774918,
          -6.472322,
          6.7957067,
          -8.459216,
          -3.1755314,
          7.5930185,
          8.617998,
          7.2212777,
          -11.157941,
          -6.423962,
          5.8628325,
          -6.994745,
          -5.6044197,
          3.7500427,
          -1.1913269,
          4.381618,
          6.8807554,
          0.21787815,
          -6.591835,
          -8.939066,
          -4.8058333,
          -8.914279,
          -10.020238,
          11.2204685,
          -7.801993,
          -4.678439,
          -2.5667584,
          6.182861,
          8.338939,
          -8.269351,
          7.296386,
          -10.963371,
          9.865866,
          -7.0907035,
          -6.523341,
          -12.68835,
          10.398265,
          -5.705864,
          15.097228,
          9.0038395,
          6.536295,
          -1.9203495,
          -6.2845545,
          -7.2444983,
          -7.1754894,
          9.88334,
          -8.321228,
          -11.092955,
          -1.7112176,
          -7.896057,
          7.743548,
          1.1571865,
          7.8967705,
          -7.5737176,
          -6.804319,
          4.3811502,
          -10.059134,
          -4.0134163,
          -11.186057,
          3.067474,
          -6.471047,
          -3.408298,
          9.126523,
          3.4498413,
          -7.806703,
          14.480968,
          -11.576279,
          5.0482545,
          6.279387,
          10.681556,
          9.446145,
          -6.4384,
          -5.0177383,
          -7.2184043,
          -8.947546,
          5.7730775,
          7.3522367,
          -2.4916975,
          9.745961,
          4.1867747,
          8.358902,
          -8.575233,
          10.400498,
          14.49519,
          -7.137515,
          5.6383576,
          -3.5782437,
          15.665356,
          0.23553698,
          -4.792604,
          -9.136895,
          -2.1139195,
          11.994457,
          -13.669016,
          3.5750747,
          -4.0013876,
          8.005985,
          1.5893681,
          -9.2496395,
          -7.836213,
          -9.455128,
          -5.579498,
          15.620427,
          8.170054,
          -7.7230916,
          -13.286086,
          -7.0825057,
          -10.930155,
          -7.122807,
          10.288465,
          -11.572367,
          -13.710436,
          -13.072009,
          -3.2295878,
          -11.805698,
          4.2178464,
          -1.0193954,
          7.534711,
          -8.687033,
          11.250638,
          5.415438,
          13.781357,
          7.889793,
          6.68284,
          11.1218815,
          9.88498,
          6.0128837,
          -2.9303102,
          4.346958,
          9.061728,
          -13.097058,
          -4.168744,
          -14.366564,
          -4.7104664,
          -0.992814,
          14.738017,
          6.786882,
          -7.008843,
          -6.506819,
          12.188242,
          5.458335,
          12.351456,
          3.1847136,
          9.672058,
          -9.409932,
          11.916755,
          -4.738709,
          -1.9532552,
          7.8934946,
          -3.0808513,
          8.9602,
          -7.213327,
          5.20785,
          12.150686,
          -2.7508214,
          -11.935457,
          5.081259,
          -1.3860842,
          -11.48619,
          8.982418,
          8.810215,
          6.0051837,
          7.8107734,
          -0.4664632,
          -8.033144,
          -2.7878168,
          -12.110234,
          -8.797251,
          -6.74491,
          -10.9419565,
          7.5688076,
          -5.9632993,
          8.4670925,
          3.597578,
          16.443104,
          -5.1307163,
          15.418618,
          2.3232281,
          -2.968223,
          11.527084,
          13.252241,
          7.471659,
          7.995444,
          5.619156,
          -13.568012,
          -4.1697893,
          -1.4730922,
          -14.075162,
          -6.5585346,
          9.183246,
          -5.3971453,
          -6.3725944,
          6.2954926,
          -7.353809,
          -14.597721,
          4.259375,
          14.470362,
          5.5093813,
          -5.141408,
          4.905221,
          -0.38787723,
          1.2506802,
          6.7137256,
          5.2792754,
          -6.8304,
          15.105807,
          -7.8165207,
          -0.6851127,
          1.9245453,
          0.5940115,
          -10.266136,
          -5.1986537,
          4.364357,
          -3.3021262,
          -4.772028,
          -4.496421,
          13.67815,
          -4.0496035,
          10.618408,
          7.2004004,
          6.7504606,
          3.7659204,
          -7.8875775,
          4.3212924,
          14.308896,
          -8.510749,
          1.9233129,
          8.688334,
          -7.179206,
          7.9854484,
          2.372106,
          -6.8103175,
          -0.26192215,
          -5.975321,
          -2.4656572,
          -7.2329683,
          -7.6338706,
          13.401916,
          -6.33892,
          8.052346,
          -3.2505343,
          6.8010564,
          7.0187516,
          -0.9398553,
          -0.29650554,
          6.585211,
          -14.042766,
          -7.569021,
          11.7727,
          2.30308,
          -6.566438,
          -10.868103,
          14.258773,
          -1.0979136,
          7.4882684,
          -8.456667,
          -8.0538025,
          -12.879219,
          14.995688,
          -6.2815495,
          6.379267,
          -11.819046,
          -7.4416866,
          -0.15714148,
          -8.1849375,
          -8.51345,
          6.060783,
          -13.825836,
          -3.849234,
          9.333985,
          5.353977,
          6.4705253,
          12.812402,
          7.8956304,
          14.846837,
          -5.4292164,
          11.866552,
          -0.86004627,
          -2.3881452,
          8.68557,
          7.442868,
          -10.096609,
          -2.1923835,
          14.459437,
          -8.96385,
          10.215673,
          10.925927,
          2.9638333,
          7.024292,
          7.2383432,
          11.023252,
          5.157807,
          -6.455504,
          -7.12784,
          -4.435131,
          -5.8423147,
          -6.681747,
          -10.298941,
          3.2913191,
          12.925453,
          15.203183,
          5.8591394,
          1.8195244,
          2.537312,
          6.7514386,
          -7.7948833,
          7.156456,
          13.601034,
          -11.596854,
          1.5266714,
          -7.291646,
          -2.1284745,
          -13.516867,
          -7.311407,
          -4.503802,
          -6.604307,
          2.897324,
          6.1477838,
          4.965983,
          -5.1255546,
          -4.2206306,
          -5.604208,
          -7.951966,
          8.962586,
          -6.44148,
          4.1830087,
          -5.8728023,
          5.7460356,
          -8.617005,
          -7.151679,
          9.034666,
          14.432184,
          0.78520364,
          7.7724156,
          -0.76909244,
          4.087546,
          -9.011741,
          4.46617,
          -2.0566075,
          -0.37674987,
          -6.492923,
          6.711814,
          -3.4691274,
          4.111808,
          -9.648796,
          -6.09283,
          -3.5101826,
          -9.481536,
          -0.18902692,
          11.758916,
          11.292743,
          -0.009373029,
          11.969561,
          -0.86617905,
          -3.2270794,
          -5.4185295,
          -1.9149039,
          -3.5606725,
          -9.957462,
          -0.8824856,
          -10.844734,
          4.0063257,
          -2.3214483,
          -3.7017653,
          -4.1097546,
          7.1622143,
          9.663036,
          7.38564,
          5.96952,
          9.427335,
          3.39908,
          -6.320833,
          0.6109898,
          9.288559,
          -2.7221081,
          -4.502277,
          10.6369,
          8.47644,
          1.7950794,
          7.3231816,
          -7.7236867,
          -10.038621,
          10.319048,
          -14.8110075,
          -7.188269,
          13.109032,
          -5.363196,
          -2.2830734,
          -7.8856573,
          -8.977516,
          -3.3866367,
          6.9851875,
          -15.076039,
          6.4159274,
          -9.153567,
          -3.9622986,
          0.8105833,
          10.830704,
          -0.5799716,
          -2.1599479,
          -2.7241125,
          -4.636165,
          11.175993,
          12.016007,
          -5.1346216,
          -7.057061,
          9.582809,
          2.9626245,
          -2.347008,
          8.05573,
          -9.181127,
          3.7796767,
          14.044356,
          -14.568207,
          -3.9494731,
          8.151198,
          -4.184957,
          5.413963,
          -0.39573348,
          6.3341527,
          11.048425,
          11.610353,
          3.920318,
          4.745674,
          -5.0814366,
          7.3538756,
          -6.211381,
          -0.84575367,
          -5.9410086,
          6.7154946,
          12.885648,
          -15.2354,
          -7.8910356,
          4.1362867,
          6.253523,
          7.1582613,
          -7.64499,
          -6.7990627,
          6.771702,
          -1.2782263,
          -0.7479011,
          -4.7028484,
          -2.5211973,
          9.380013,
          16.19835,
          -8.230388,
          -2.4296412,
          -6.111615,
          13.925637,
          14.447627,
          -5.792068,
          8.42289,
          10.083451,
          0.7594789,
          7.6361465,
          -11.712054,
          0.93314934,
          8.8737335,
          3.4309957,
          12.867957,
          8.035217,
          -7.2253904,
          2.7905428,
          7.724728,
          8.806195,
          -0.23228066,
          6.4344993,
          -10.464413,
          -2.5234718,
          6.142035,
          -14.076413,
          -6.1132708,
          9.820829,
          -2.3646193,
          -2.3311412,
          -15.125788,
          -1.2981545,
          -2.7329044,
          7.215221,
          15.478022,
          -4.8410397,
          -8.112369,
          -7.2119474,
          -6.817357,
          -4.490848,
          -4.6594944,
          5.588067,
          -2.682086,
          13.741921,
          -3.4091647,
          -14.009508,
          6.215018,
          6.7967453,
          -6.987844,
          6.542748,
          -5.024412,
          -9.687599,
          -13.840449,
          -2.8241062,
          -12.959044,
          -11.032322,
          -0.67186666,
          7.4069686,
          0.41928694,
          -3.6374187,
          -7.2016807,
          10.87764,
          -2.4551632,
          14.167995,
          0.9736908,
          -7.1932955,
          1.6163439,
          -7.3952265,
          5.779548,
          -8.3141365,
          -1.05933,
          3.8707697,
          -4.010778,
          -7.648774,
          -14.952293,
          12.702276,
          5.762194,
          12.682803,
          3.5455186,
          6.145045,
          -13.95503,
          -11.76669,
          -11.129163,
          -8.545363,
          -6.1399665,
          -2.7024763,
          14.192486,
          9.087832,
          -12.473084,
          6.256433,
          -12.967948,
          -4.963967,
          -9.88859,
          -6.5143504,
          -5.3504133,
          9.257657,
          -5.2644734,
          10.273883,
          1.1051288,
          -12.744064,
          10.387431,
          -11.567236,
          -9.48559,
          -8.677761,
          -8.135434,
          -9.214203,
          -2.6108077,
          -7.2976956,
          -0.17084262,
          1.8857169,
          -4.166559,
          8.196517,
          11.315217,
          -6.2562156,
          -6.2284775,
          13.976322,
          -2.9785235,
          -6.746819,
          11.495076,
          -0.95643395,
          -0.04605606,
          -11.649336,
          9.511193,
          7.1255713,
          -1.966852,
          -12.104049,
          8.447183,
          -10.887135,
          15.594024,
          -5.9026346,
          11.742724,
          -14.088978,
          11.632023,
          11.5766,
          11.401536,
          11.072711,
          -12.032978,
          11.206371,
          -1.5938662,
          15.118666,
          -6.9482965,
          -4.11382,
          6.7053013,
          -2.4769976,
          14.019823,
          -6.2842236,
          8.377628,
          13.950196,
          1.3521266,
          -4.890768,
          -8.604906,
          -0.57074624,
          6.1275206,
          -6.6847677,
          -0.18467452,
          -6.8571343,
          -9.016216,
          -13.214145,
          3.7767744,
          -1.938987,
          -1.6087799,
          -11.864959,
          8.926818,
          4.0211506,
          -7.406142,
          -9.422226,
          1.9037961,
          -10.184403,
          -14.762973,
          -2.544981,
          -5.17695,
          8.898753,
          -9.133312,
          -3.5110009,
          4.251484,
          15.19487,
          10.571063,
          -7.8823347,
          12.7603035,
          -6.280075,
          -11.320661,
          -6.8465924,
          7.6072626,
          2.5140572,
          3.3187149,
          -4.51929,
          -3.7887971,
          -6.9892654,
          8.59755,
          10.24131,
          4.515715,
          8.055236,
          11.570877,
          12.0318575,
          -4.249416,
          1.503974,
          4.3132796,
          -4.0772023,
          6.625605,
          -4.3440495,
          -6.8301597,
          1.54673,
          1.169575,
          10.635799,
          2.7310297,
          6.6306133,
          8.167777,
          11.043685,
          9.745981,
          0.07936807,
          -8.153852,
          -1.0458684,
          -9.781821,
          8.028448,
          12.335126,
          10.057377,
          7.1093717,
          12.439664,
          8.514837,
          14.153084,
          -0.22699131,
          -2.2183914,
          6.429549,
          -6.804859,
          7.1322107,
          -7.004258,
          -7.27865,
          8.003937,
          14.111926,
          -9.117053,
          7.0250425,
          8.052194,
          8.680653,
          14.676101,
          1.6795148,
          -9.303255,
          -12.61576,
          5.5597196,
          -10.132957,
          -6.5118604,
          3.8775866,
          13.88843,
          7.3238072,
          4.4508247,
          -3.2605028,
          -0.17493646,
          -2.2738593,
          11.375425,
          6.7211785,
          -13.192607,
          1.5898349,
          6.958939,
          -0.7964327,
          -10.640395,
          -7.540783,
          16.108929,
          11.872514,
          -2.4005718,
          4.5423875,
          -3.2755668,
          11.807652,
          10.336494,
          4.3905954,
          14.524724,
          -9.361771,
          -6.040162,
          -2.8939116,
          -7.2140174,
          9.8602915,
          -5.736617,
          -3.3356924,
          -8.218197,
          -10.439869,
          -4.7584734,
          7.7218423,
          -0.7885603,
          6.404819,
          -3.0466883,
          10.829449,
          9.8588915,
          -2.4369032,
          10.542151,
          -13.809775,
          -7.9322524,
          -5.247663,
          -7.1820765,
          -0.4181077,
          -4.466116,
          2.9329262,
          7.5670977,
          -6.9533386,
          -9.047602,
          -7.2031426,
          10.747027,
          9.681047,
          0.86640686,
          7.896065,
          -9.22426,
          -2.5831387,
          11.510931,
          4.416621,
          -11.377491,
          9.695914,
          -5.5956388,
          -7.963787,
          11.250733,
          -4.5627637,
          4.799092,
          -5.114046,
          3.3193316,
          -7.2157965,
          -3.784252,
          11.743477,
          4.437632,
          -7.4961114,
          5.4800572,
          4.7810316,
          11.09518,
          7.4144073,
          -0.72009665,
          -4.7259765,
          7.758892,
          -4.945017,
          8.350398,
          -5.0539145,
          -6.4413047,
          -9.703279,
          -13.178418,
          1.1482593,
          3.7185261,
          -2.5822675,
          10.615618,
          8.162085,
          5.242802,
          14.413152,
          -6.689663,
          12.487374,
          6.9802303,
          -6.5751686,
          10.883362,
          -8.262356,
          -8.946784,
          6.8497806,
          8.078631,
          -3.020642,
          -0.6040742,
          -6.468712,
          5.729243,
          6.6043863,
          11.074691,
          -2.9076047,
          -0.9775861,
          -6.7181754,
          -14.439579,
          -0.74057126,
          2.8887746,
          -7.4810057,
          8.516838,
          4.1544633,
          4.899028,
          6.001785,
          12.284019,
          -9.831654,
          1.0503147,
          -3.5269523,
          -2.0188975,
          1.1782821,
          -12.064638,
          -6.5360765,
          -9.666375,
          -5.3157005,
          -6.481667,
          -4.3103256,
          -10.280668,
          -0.7339007,
          -8.263395,
          8.531684,
          -5.4412518,
          -0.21057698,
          -0.9216073,
          -4.1596375,
          9.768638,
          -8.299238,
          -6.687013,
          -4.333013,
          -8.419701,
          15.090348,
          7.981858,
          5.553617,
          -4.578169,
          -8.199029,
          10.81825,
          8.040791,
          0.52076787,
          1.8539029,
          -3.6038523,
          -6.4421244,
          10.785822,
          14.352495,
          -2.075537,
          -3.3163931,
          11.913564,
          -3.7183158,
          -7.1140604,
          4.895957,
          -1.8305982,
          -3.8778174,
          -6.309002,
          5.738923,
          -9.982596,
          -14.748553,
          10.347224,
          -3.0321877,
          8.869959,
          -6.4334154,
          -5.761137,
          -0.39843854,
          -1.1792244,
          -8.40074,
          -2.3086455,
          9.0604315,
          -6.1085725,
          10.571251,
          4.391175,
          -6.8980126,
          -4.300124,
          5.911028,
          -10.577468,
          -1.6395575,
          12.797407,
          7.111289,
          5.911704,
          6.841922,
          -8.515828,
          7.416895,
          9.270042,
          -7.3543844,
          7.648634,
          -13.310606,
          -2.3232102,
          -1.2219604,
          7.4751515,
          -13.614782,
          13.213727,
          7.415556,
          -2.2966475,
          -2.4382646,
          -2.8003023,
          1.0490582,
          -0.612251,
          -7.7466087,
          -10.686264,
          -9.041812,
          10.752936,
          -0.442704,
          7.4888153,
          -7.954296,
          6.9943566,
          -1.9384302,
          -0.3874723
         ],
         "y": [
          -0.7195036,
          -13.761105,
          -1.5757904,
          2.8694236,
          -3.7040188,
          2.4751143,
          -5.14229,
          -1.7045045,
          4.190738,
          -5.967212,
          -1.786555,
          -2.1515396,
          3.0166738,
          12.22769,
          -4.045666,
          0.3489602,
          2.8432064,
          13.053199,
          3.619171,
          10.29673,
          4.254343,
          14.051987,
          11.9257765,
          4.27722,
          -7.2711835,
          -7.201557,
          -0.92457074,
          -3.3629663,
          -0.28470427,
          8.319559,
          -10.934867,
          3.61508,
          -10.483588,
          -3.5607746,
          -3.4130938,
          -7.27341,
          10.434801,
          6.2721925,
          -10.028733,
          2.4350278,
          12.899396,
          9.993668,
          -14.032133,
          4.010625,
          -2.7188485,
          0.62185514,
          -3.449648,
          -0.71517414,
          -0.7923326,
          -7.058664,
          2.5284998,
          -10.829327,
          7.230139,
          0.4707507,
          2.1496387,
          -4.058819,
          -4.6425576,
          -1.5238107,
          -2.8654544,
          -2.8170288,
          -2.426111,
          12.060141,
          5.336232,
          -2.9036045,
          11.433403,
          -0.83947086,
          -6.2583175,
          12.718543,
          -7.623182,
          12.6017,
          -0.085140646,
          -3.9353118,
          -3.5574248,
          2.7118175,
          -4.645109,
          -5.9767976,
          10.8169985,
          1.3336245,
          -11.716172,
          -6.547852,
          -6.2877426,
          -5.4234605,
          10.591266,
          13.77956,
          -3.3854594,
          -11.815828,
          13.607961,
          12.688045,
          -1.2457013,
          -10.484835,
          12.990984,
          -6.1661882,
          13.747891,
          -4.956484,
          -3.6405807,
          4.7954855,
          -14.9169655,
          16.836575,
          -13.186007,
          10.74828,
          -2.7109773,
          11.865523,
          16.26845,
          7.9042025,
          3.9429677,
          11.497527,
          -6.56141,
          -12.27374,
          11.66466,
          -4.1789656,
          14.839751,
          -3.5587032,
          10.898055,
          -11.885451,
          4.6267014,
          -12.6427355,
          5.0168834,
          6.4453115,
          2.6398818,
          -13.40472,
          -12.966656,
          -12.249845,
          17.23968,
          11.739179,
          -7.445048,
          16.655958,
          4.0753427,
          3.2382514,
          -13.033032,
          -9.09494,
          3.9363275,
          -4.170287,
          3.6374402,
          -3.664163,
          12.324217,
          -2.1614125,
          11.427139,
          4.163779,
          -12.204985,
          -10.900719,
          1.9578115,
          -6.3566074,
          7.5417504,
          -7.2511687,
          -14.197057,
          -5.4105024,
          10.853199,
          11.402302,
          -12.762154,
          -12.05018,
          15.168165,
          -5.191015,
          -11.994268,
          8.059953,
          13.745893,
          -15.125748,
          -14.549635,
          12.318094,
          11.326845,
          2.0917015,
          -6.0176864,
          5.634084,
          12.189229,
          -6.671916,
          2.7390428,
          12.103915,
          3.2968664,
          -1.2513224,
          -2.3894348,
          -6.9901743,
          11.8069515,
          17.081963,
          -6.262045,
          -2.127379,
          16.414886,
          11.948861,
          2.8927472,
          -2.3136983,
          -1.5325019,
          4.4855103,
          16.184916,
          -1.5198766,
          -2.6265335,
          8.556836,
          -0.74121094,
          5.3033404,
          10.490885,
          -2.4706583,
          9.30966,
          13.409703,
          -15.742534,
          -2.6791968,
          10.949937,
          4.4681015,
          -8.976617,
          5.204786,
          -7.062032,
          -1.4376464,
          -3.0060523,
          -7.300329,
          4.673866,
          -11.413015,
          5.1833067,
          -1.3825313,
          -1.6272486,
          3.4849787,
          8.232255,
          4.4024644,
          -1.9233294,
          4.8769083,
          15.604748,
          10.71315,
          1.2437925,
          -5.007054,
          -1.2705001,
          15.819519,
          -1.8617309,
          1.614035,
          1.5405527,
          -0.4661281,
          -1.3372926,
          15.39543,
          10.654274,
          11.351264,
          13.974374,
          8.431335,
          -14.469934,
          8.872478,
          -15.521468,
          10.514657,
          -4.8988986,
          13.444232,
          4.0302253,
          4.185973,
          -4.016647,
          15.556787,
          -1.6820004,
          13.808103,
          3.2951462,
          3.303661,
          -1.1373069,
          -8.351103,
          12.549892,
          13.542163,
          -1.773253,
          13.447635,
          -12.532951,
          10.833196,
          -6.3744526,
          -7.2638993,
          7.153596,
          17.410814,
          -3.659274,
          5.740207,
          -5.0320373,
          -0.8220498,
          -1.5143036,
          12.725288,
          -8.255294,
          -14.038486,
          -6.562386,
          6.030199,
          5.005709,
          -7.3166294,
          7.2677803,
          13.911297,
          4.4658933,
          14.768174,
          11.501322,
          -1.3654922,
          -11.886054,
          -3.8501532,
          14.398711,
          -6.363234,
          2.3874,
          -4.8050838,
          0.10536686,
          -2.6649199,
          16.143187,
          9.298257,
          -14.68304,
          12.496366,
          9.520186,
          -10.822475,
          -2.3895369,
          -8.750683,
          -5.660509,
          15.5138855,
          -8.889021,
          7.1355453,
          15.253531,
          -2.3861861,
          11.948615,
          -8.465346,
          13.687201,
          -6.393284,
          11.296664,
          -6.2974005,
          13.729095,
          -9.907151,
          -2.0428088,
          -15.068723,
          8.720188,
          10.0831375,
          11.412081,
          -3.8865013,
          -8.091913,
          12.48203,
          -15.953651,
          -0.66693026,
          -1.015309,
          -6.880066,
          -1.0652329,
          -2.9225953,
          14.766625,
          -2.0070288,
          13.688706,
          -13.992829,
          11.509362,
          -3.4848042,
          -11.95476,
          12.9558735,
          3.619713,
          -11.339173,
          -5.4257703,
          13.611571,
          4.874804,
          -5.2167134,
          -2.062551,
          -4.675346,
          -14.960901,
          4.624627,
          -3.8843381,
          -14.442739,
          12.642284,
          11.115994,
          16.345297,
          -2.0426693,
          -5.1541457,
          -7.3921914,
          -1.8426375,
          9.862489,
          2.6209087,
          -5.319219,
          9.682245,
          -1.730061,
          5.4802713,
          -7.071816,
          -4.988746,
          0.73198396,
          -11.484241,
          -10.884884,
          8.630638,
          -3.5953367,
          -5.620986,
          -5.171656,
          6.5353413,
          -8.545161,
          -7.8360744,
          -7.077203,
          -12.6650715,
          16.412947,
          6.5970325,
          -15.679712,
          3.3282728,
          11.999135,
          0.91686475,
          -4.9355526,
          12.835825,
          -1.8440397,
          -5.204542,
          -1.1910307,
          -7.4263425,
          11.629925,
          3.5136771,
          11.347587,
          -4.4263067,
          -4.361447,
          -3.8716552,
          -6.0394754,
          2.1386323,
          -1.4543133,
          12.356117,
          -4.2171493,
          16.791842,
          -4.0956173,
          11.846493,
          -12.576355,
          -7.987315,
          -9.928056,
          -6.125304,
          -14.840485,
          -5.49291,
          13.283024,
          -3.8743546,
          -3.6613562,
          11.315402,
          10.226552,
          13.38313,
          -6.050042,
          -13.062051,
          14.371971,
          -6.788444,
          3.4492278,
          8.873815,
          -14.756177,
          -6.999079,
          5.357949,
          1.4786344,
          -13.469616,
          -8.983681,
          14.837317,
          2.489134,
          11.899205,
          -12.954737,
          -13.755214,
          -8.020467,
          -13.07315,
          3.2963653,
          -1.6727376,
          14.1283245,
          -7.0610614,
          15.377155,
          -12.4886055,
          -2.4567058,
          12.727257,
          -4.7294817,
          11.555389,
          -2.6935618,
          -7.341119,
          14.218485,
          5.9970703,
          13.4341,
          -3.8630702,
          10.064064,
          -6.802642,
          12.555478,
          10.837015,
          11.73896,
          3.9362104,
          -13.095246,
          -12.2123785,
          4.2572994,
          -7.696756,
          -2.2569711,
          1.1358407,
          8.91616,
          -4.975716,
          11.736426,
          -2.4580574,
          -5.802149,
          -6.959219,
          -14.812391,
          -3.7784927,
          -6.925349,
          4.3729362,
          16.12208,
          -6.9509254,
          -11.897263,
          -11.525736,
          17.03845,
          -2.5178666,
          13.392981,
          -5.241392,
          -1.1786718,
          13.098179,
          -12.168669,
          8.917183,
          12.156479,
          11.91891,
          -13.202757,
          -5.5924287,
          13.62276,
          13.302751,
          11.125077,
          -8.9606905,
          4.933926,
          1.3233546,
          7.1678033,
          -9.040993,
          -6.8734035,
          -6.2185526,
          -4.110376,
          -1.7361547,
          5.259687,
          9.949547,
          16.79903,
          7.643403,
          -1.7167829,
          3.069743,
          -13.229097,
          11.423481,
          0.4360797,
          8.992988,
          12.478741,
          -0.83222795,
          -13.276374,
          1.40937,
          -4.261151,
          -10.701045,
          -12.343844,
          -2.9881935,
          13.794245,
          -12.55993,
          -2.4692628,
          3.3040423,
          10.725557,
          -6.5748935,
          7.7418914,
          -1.3421069,
          -2.86008,
          -15.126121,
          17.331793,
          -6.7430415,
          -6.216492,
          -5.7969136,
          -4.64267,
          10.496554,
          17.538336,
          -8.3290825,
          -4.2472305,
          -1.1682495,
          -7.5810256,
          -2.0048416,
          1.6249806,
          -5.6059394,
          8.2459955,
          -15.296592,
          16.807938,
          -2.4976485,
          16.230947,
          5.075152,
          2.1345716,
          13.261127,
          -6.7918215,
          9.718461,
          -13.566376,
          10.09718,
          -1.9470115,
          -1.4577074,
          -10.9837675,
          -5.6427236,
          -8.941697,
          -1.3683381,
          -6.820244,
          2.9894989,
          -5.3777466,
          3.0288103,
          10.859722,
          -4.893655,
          8.039716,
          13.938919,
          -1.6876973,
          11.306012,
          -4.5437503,
          15.230855,
          1.8834294,
          11.226357,
          2.4646263,
          -0.69508517,
          -7.678226,
          1.8147321,
          7.162919,
          -1.1792097,
          12.570684,
          8.615251,
          -6.4241724,
          -2.6017506,
          -1.8329628,
          -1.7308993,
          7.253874,
          -6.6160235,
          -1.2182976,
          0.548711,
          -1.721527,
          -0.43353966,
          -13.5811,
          -8.93262,
          -10.47731,
          -13.262371,
          -9.884147,
          12.560127,
          11.737077,
          -3.0724397,
          -15.730357,
          8.016055,
          -2.4370089,
          11.274736,
          -15.525389,
          0.99760616,
          -6.9278407,
          7.36883,
          5.838712,
          -1.0998545,
          4.550718,
          7.439626,
          -4.2919974,
          1.5872093,
          11.847625,
          9.916885,
          3.2892208,
          -2.1732724,
          10.30234,
          -5.5377192,
          12.072331,
          -12.330676,
          9.458309,
          4.833361,
          12.773937,
          -11.770372,
          -7.8588886,
          14.905443,
          -10.774593,
          -10.540664,
          9.140442,
          -5.7992167,
          15.655358,
          -0.87369365,
          13.884279,
          -2.3861506,
          6.586617,
          7.094358,
          7.34917,
          -11.404598,
          -2.2771869,
          -0.2206833,
          -5.702884,
          -3.136068,
          5.3170753,
          -5.1751194,
          6.6106706,
          -12.311341,
          -3.8044245,
          -1.252539,
          -10.2001915,
          -2.0073218,
          -11.515459,
          -1.8807076,
          11.571128,
          5.2611694,
          -1.6400884,
          4.5957627,
          5.186472,
          -6.1874895,
          4.4113145,
          -3.6561167,
          12.44885,
          -11.827874,
          11.072061,
          13.694267,
          -14.402411,
          11.57551,
          -1.1307209,
          3.374727,
          -7.7692256,
          -2.774833,
          10.623882,
          -10.814861,
          -2.503896,
          -4.3020124,
          8.768238,
          7.064067,
          -1.2048239,
          -1.3115386,
          -5.2294655,
          5.146737,
          2.5529563,
          5.135022,
          -1.4234052,
          -7.485307,
          -0.30968156,
          9.967766,
          -4.6475706,
          -2.1662893,
          1.6531792,
          -5.5511928,
          4.4388895,
          1.0286545,
          -4.4408584,
          -3.773396,
          -2.4001212,
          -14.547141,
          -1.7366248,
          -6.182553,
          -5.1366405,
          -7.415911,
          -5.7816973,
          -7.2379403,
          11.024904,
          -0.8813241,
          3.6895788,
          10.071269,
          2.0755897,
          -7.012221,
          -7.073682,
          2.0932946,
          -6.4625793,
          8.588842,
          11.818811,
          11.2673,
          -11.972849,
          8.813407,
          -3.6180727,
          11.231739,
          -13.219817,
          3.9475887,
          10.276096,
          3.938336,
          6.378128,
          -7.9235106,
          -3.785187,
          11.931746,
          -7.0418577,
          -11.269826,
          11.469838,
          -3.6527727,
          2.4715924,
          5.586867,
          -4.200417,
          -5.537549,
          3.6122565,
          -15.75315,
          16.972977,
          12.012638,
          16.881752,
          -10.533522,
          -2.144934,
          2.2269242,
          4.187585,
          1.7880831,
          15.591016,
          -1.7448158,
          -2.2101488,
          -3.0957308,
          -12.271106,
          11.626662,
          14.356802,
          -13.218061,
          -5.974293,
          -1.1697863,
          -11.481839,
          14.696847,
          14.048743,
          -0.12121557,
          13.279192,
          -6.4115205,
          -5.8503437,
          1.2241489,
          -3.160048,
          8.8550205,
          -13.034684,
          -7.397973,
          4.6121564,
          14.082616,
          -6.744513,
          -2.2380817,
          -6.501564,
          -2.8269212,
          0.5549095,
          -6.361996,
          8.26696,
          -13.184844,
          11.746252,
          -7.824501,
          -1.8179338,
          -15.167861,
          -14.873508,
          -2.2591317,
          -3.9977465,
          5.467263,
          -6.5042253,
          -2.5343819,
          -1.5492418,
          -4.670631,
          13.519654,
          7.117906,
          5.7235203,
          15.235109,
          -3.79523,
          -10.194286,
          13.967632,
          -5.0738635,
          17.02542,
          15.102899,
          -12.886577,
          8.569023,
          -13.235869,
          2.0264711,
          -7.1652746,
          7.7513127,
          8.747269,
          -3.6758146,
          10.719731,
          -3.7953913,
          -15.431393,
          -2.375,
          -5.9633675,
          -6.93673,
          12.885803,
          -16.357214,
          -2.2894607,
          -1.7013638,
          17.07837,
          -1.0546143,
          3.478391,
          -7.2223964,
          -14.106579,
          -8.843423,
          2.1298852,
          -4.9708185,
          11.130357,
          1.879644,
          -3.7928493,
          -9.577486,
          16.931765,
          11.657628,
          16.348778,
          -0.5120877,
          0.6761004,
          3.4029286,
          -1.0149362,
          -3.1464686,
          9.091078,
          -11.332074,
          -7.3543935,
          -15.273028,
          -6.0066004,
          -12.768853,
          12.773829,
          1.0724726,
          -10.844628,
          -6.4347,
          4.984958,
          0.11749962,
          -3.3546917,
          12.455449,
          -1.8654317,
          5.4580097,
          -1.8592592,
          -4.736913,
          13.256757,
          7.8395667,
          3.144015,
          -12.334493,
          -14.401328,
          1.1641154,
          -8.913912,
          12.92467,
          -11.588068,
          14.065863,
          1.9834069,
          -10.815602,
          -5.256843,
          13.45865,
          -7.716532,
          17.484589,
          16.462221,
          2.60701,
          -6.870625,
          -8.170785,
          -9.967628,
          -6.5077252,
          -12.9592705,
          -5.6231675,
          -8.121313,
          4.1603575,
          6.018457,
          8.309328,
          12.089503,
          15.327991,
          -2.4607198,
          -5.1582117,
          13.724514,
          14.4221525,
          -4.885563,
          -5.591058,
          -3.6589677,
          15.130521,
          -10.421629,
          -2.0111213,
          -5.7225237,
          -4.2217045,
          -5.1396337,
          2.9198248,
          -1.533867,
          -7.0310445,
          -10.732209,
          12.814209,
          -1.3640939,
          -0.16402762,
          10.851274,
          8.881176,
          -2.2961318,
          9.56247,
          8.673637,
          14.406313,
          -11.181923,
          12.332746,
          16.544796,
          18.096582,
          15.515273,
          -3.167257,
          7.4106927,
          9.120914,
          -12.870784,
          10.386155,
          10.842834,
          3.674223,
          -2.3774302,
          -4.2129784,
          -7.4545064,
          -6.2556067,
          -13.077458,
          -4.565151,
          11.246953,
          5.1045256,
          -2.3076205,
          -9.106906,
          -6.306609,
          -7.0914607,
          -10.320129,
          3.9030712,
          -13.158707,
          -12.562786,
          -12.086538,
          -5.2452536,
          -3.1474912,
          -2.0453718,
          14.058303,
          -11.964006,
          5.312468,
          -4.0159764,
          14.051101,
          9.041141,
          10.1493225,
          11.013405,
          -15.005402,
          -1.5706769,
          -1.4895217,
          -1.0060661,
          12.195739,
          -2.0464857,
          -12.120915,
          1.7242469,
          11.71625,
          10.748367,
          -13.27501,
          -12.281481,
          16.21827,
          4.1897864,
          7.095323,
          -1.5591846,
          -0.51642156,
          3.5942929,
          -12.355952,
          -7.8839707,
          -6.9801993,
          -5.0726533,
          2.189816,
          -12.542374,
          14.207112,
          -6.574574,
          -2.6180646,
          10.997062,
          -10.566811,
          -15.415407,
          14.984863,
          -4.695193,
          11.349682,
          -3.8604925,
          0.92473596,
          13.131488,
          -1.6468147,
          5.139273,
          -6.321753,
          13.143009,
          -8.746934,
          0.53524464,
          5.876853,
          -5.5758953,
          -7.796263,
          -2.7658336,
          8.922063,
          -5.7037177,
          0.7825869,
          -13.696236,
          -12.874716,
          -1.2130338,
          11.803242,
          -7.6263785,
          2.5312715,
          -3.7920415,
          -3.7502277,
          -1.6228381,
          -6.651171,
          -2.1490874,
          -8.227634,
          -7.0149145,
          -4.318438,
          -7.5935364
         ],
         "z": [
          -0.6778939,
          9.522507,
          4.9733334,
          4.9322276,
          6.4547048,
          5.899972,
          -4.8682275,
          -11.616978,
          4.9425874,
          -0.15716842,
          -9.720082,
          -11.963264,
          1.776408,
          -4.005077,
          -9.672139,
          11.052746,
          1.7968252,
          -5.625581,
          2.8527625,
          -7.05958,
          6.544992,
          0.3097223,
          -4.550441,
          5.2925963,
          8.323713,
          -9.216674,
          5.591324,
          -4.058735,
          -11.263734,
          -8.420795,
          5.814404,
          8.795383,
          5.206295,
          -10.854805,
          -8.054063,
          -9.514926,
          -6.6767764,
          6.383104,
          2.886707,
          6.748306,
          -1.4797246,
          -6.5916195,
          6.178933,
          7.299729,
          -9.365716,
          11.310364,
          -9.700296,
          -5.4893703,
          5.4066772,
          -15.863608,
          10.6435,
          0.013791796,
          8.1131115,
          11.32279,
          6.6529007,
          0.89987606,
          0.20048821,
          -4.6505284,
          -10.54264,
          -8.9256,
          -6.1713943,
          -3.3600156,
          2.3443503,
          -11.0266695,
          -0.44052178,
          3.8799398,
          -7.341564,
          -5.0198402,
          4.3587904,
          -7.677646,
          -10.142594,
          9.535962,
          -0.7192399,
          3.6205,
          -12.586781,
          -11.116811,
          -6.156228,
          8.59198,
          3.2063117,
          -2.1711867,
          -2.5252078,
          -10.519309,
          -4.7071967,
          -2.8516083,
          -3.6253638,
          9.304563,
          -2.6989062,
          -5.6684823,
          -5.9784727,
          1.1815956,
          1.7684053,
          10.421645,
          -1.1404464,
          -4.2065034,
          -1.4179285,
          1.7276518,
          5.025105,
          -3.8362315,
          5.5967917,
          -5.9706683,
          0.19544536,
          -3.4354222,
          -3.799747,
          8.242893,
          2.2470207,
          1.7654684,
          -13.6265545,
          9.342165,
          5.1676555,
          8.258974,
          2.792966,
          0.10818083,
          -10.4918785,
          2.5974905,
          0.42238224,
          1.5350869,
          8.835699,
          9.369537,
          8.984336,
          5.7298875,
          1.6894741,
          7.1246676,
          -5.8715615,
          -1.9694223,
          -11.455505,
          -5.0450926,
          7.794817,
          7.5887823,
          8.363319,
          -12.217494,
          6.783906,
          -4.97335,
          2.6988802,
          -3.757612,
          -3.8302062,
          -2.2107725,
          -4.8683615,
          4.0674973,
          9.200547,
          7.844817,
          9.426218,
          -10.853322,
          7.7752614,
          5.0900097,
          5.8577943,
          -2.5128055,
          -9.118159,
          -4.017746,
          9.458845,
          6.4230614,
          2.3973854,
          -11.420369,
          8.804948,
          7.126452,
          0.4860633,
          5.4764767,
          4.733427,
          -2.0254786,
          3.1417193,
          3.489752,
          -2.3057747,
          7.487191,
          2.5972154,
          -0.65257883,
          7.5573306,
          -2.9952757,
          3.7222247,
          -10.802514,
          -8.417437,
          -12.166945,
          -1.5207834,
          -3.3711424,
          8.562404,
          6.155554,
          -1.711384,
          -4.6706247,
          2.9924572,
          6.514182,
          -2.3703213,
          4.173671,
          -1.7566769,
          -8.908525,
          -1.7287868,
          -9.223776,
          -11.243859,
          8.602881,
          -8.704979,
          -7.166437,
          6.6828446,
          3.6152844,
          6.414278,
          6.654745,
          -10.547722,
          1.0147487,
          -14.256959,
          9.937066,
          -12.274437,
          -4.053802,
          0.5777711,
          -11.2229,
          6.693069,
          7.2238355,
          7.6934576,
          -10.449571,
          5.99955,
          8.589699,
          4.9879227,
          6.613067,
          -8.99169,
          8.796495,
          -1.8856822,
          -8.998467,
          7.2990723,
          -10.665102,
          -6.4100733,
          -2.058007,
          -2.947398,
          9.476295,
          8.479423,
          -4.3085713,
          5.7166266,
          -4.9712973,
          -5.03145,
          5.0888495,
          -3.6085086,
          5.174886,
          5.4119544,
          6.0141478,
          7.784161,
          -10.196312,
          -3.7821486,
          -1.1197381,
          3.8356254,
          4.2243514,
          -3.817674,
          -4.9706492,
          -2.781629,
          3.9027076,
          7.577025,
          0.5509527,
          -6.3090305,
          -12.536861,
          -6.1391883,
          -5.361153,
          -10.804342,
          -3.6678007,
          3.6538057,
          3.8205314,
          -4.1667953,
          5.585593,
          5.828203,
          -2.5520785,
          9.55227,
          7.409955,
          -3.680452,
          -4.489997,
          -1.2296628,
          -4.747709,
          8.253174,
          6.5207644,
          6.12102,
          6.4299626,
          1.0323888,
          -11.628104,
          6.2718606,
          -5.488782,
          3.561004,
          -3.6354065,
          4.8302093,
          -3.8102484,
          9.340887,
          -2.0391939,
          3.0831873,
          6.227574,
          7.905313,
          -6.077839,
          8.571906,
          6.6835666,
          -5.5764694,
          6.8952312,
          5.909186,
          -5.9856396,
          6.632526,
          1.7933207,
          6.829161,
          -13.326382,
          -14.962678,
          -5.265683,
          -15.067447,
          5.405389,
          1.8835452,
          -4.057062,
          -1.9586837,
          -13.725063,
          -2.8456004,
          9.239617,
          -8.572406,
          -0.747356,
          -1.6006948,
          2.7033768,
          -1.149989,
          7.0279317,
          -7.337738,
          -7.917775,
          -7.6226063,
          -11.425633,
          -12.38753,
          3.2453384,
          6.8075504,
          -11.260359,
          -11.071455,
          -5.607681,
          -8.659176,
          5.690199,
          -1.3471795,
          -0.5597257,
          -2.0712159,
          7.8517585,
          3.74241,
          -2.0552666,
          9.280208,
          3.265649,
          8.278207,
          8.190951,
          -0.53279084,
          1.432529,
          3.446468,
          10.466051,
          -8.750855,
          9.567938,
          8.375755,
          2.6259441,
          -6.4787173,
          4.81498,
          -5.646155,
          -6.2490835,
          -5.1126575,
          -2.5552986,
          8.042936,
          7.255686,
          -2.430766,
          5.9151,
          4.415574,
          -7.1206613,
          -9.410179,
          -9.523084,
          8.901528,
          -4.096971,
          9.218443,
          9.914969,
          7.1547775,
          2.1277614,
          7.8916016,
          -1.9102346,
          -14.98688,
          -2.9021122,
          7.174483,
          -11.979204,
          7.182809,
          -10.431238,
          9.500568,
          -4.3401275,
          7.609217,
          6.4166975,
          8.422415,
          2.528849,
          7.526006,
          -1.8473898,
          -4.328297,
          -4.2342744,
          -13.91197,
          -6.2739377,
          5.040848,
          -7.7602725,
          8.19122,
          -1.4653318,
          -12.163206,
          9.3080225,
          -1.7962135,
          -10.368265,
          8.487122,
          -3.7534895,
          4.703014,
          -1.2470219,
          -5.2098413,
          -4.362177,
          -1.7149506,
          5.9842887,
          -11.566186,
          1.4667548,
          -14.802453,
          4.852297,
          -10.216935,
          4.2908516,
          -4.187733,
          -1.8687457,
          1.728206,
          -7.701146,
          0.7230882,
          -3.6484494,
          5.849266,
          -0.7524088,
          -5.8182054,
          8.874993,
          -8.842775,
          8.416142,
          6.453466,
          7.282888,
          3.1733196,
          10.032237,
          -13.628215,
          2.2102277,
          8.390098,
          3.2982898,
          8.894279,
          5.9614086,
          -14.915856,
          8.453703,
          9.6930275,
          -9.590161,
          1.1465057,
          -12.931721,
          -4.9304276,
          8.814458,
          -8.594362,
          -4.3271537,
          -3.9440935,
          -7.7371197,
          -0.48286498,
          5.658322,
          3.418867,
          8.82695,
          -2.9153128,
          9.8981285,
          -6.4399805,
          -12.155097,
          -4.555716,
          -5.4135404,
          5.014962,
          1.3019114,
          4.0601363,
          3.2530944,
          0.9252921,
          5.9451656,
          -5.653196,
          7.6143603,
          -7.4142838,
          -6.1220946,
          -5.822188,
          -9.858871,
          -14.376927,
          4.979171,
          6.2372947,
          -11.634142,
          10.538773,
          7.9253697,
          -0.13100915,
          5.5348516,
          3.1435962,
          2.606831,
          -5.658265,
          7.2327194,
          -2.6073976,
          -2.1376479,
          -4.9810677,
          2.1209962,
          2.5590076,
          -8.082138,
          -3.220135,
          -6.116363,
          1.9385985,
          -3.6035972,
          -2.5789607,
          3.3697474,
          -1.5605884,
          -14.481069,
          9.700084,
          7.8369775,
          6.4007125,
          -13.391997,
          -4.375228,
          -14.307251,
          8.628946,
          -9.199064,
          8.865505,
          -5.7048087,
          -2.6737633,
          5.582426,
          -2.02291,
          0.92912376,
          3.1590478,
          -10.788541,
          8.202238,
          -6.770822,
          -6.0775943,
          -10.08624,
          9.575679,
          8.77728,
          -6.195751,
          1.0052308,
          9.24842,
          -4.06266,
          1.3352356,
          7.33493,
          -0.64898986,
          0.6668252,
          3.9657948,
          -4.814038,
          5.217294,
          -8.762442,
          6.795271,
          7.415336,
          -4.668871,
          7.7585573,
          -0.8716945,
          -6.0748043,
          -7.8792486,
          3.6512194,
          -2.0785897,
          -12.063569,
          -0.030095981,
          -10.536822,
          8.906256,
          -8.812943,
          8.937089,
          -2.9658248,
          5.6136093,
          7.1389375,
          -1.4852859,
          -0.19779234,
          -3.6828291,
          3.9739788,
          3.683917,
          -3.0109975,
          9.787148,
          -8.859656,
          10.00054,
          -5.1563263,
          -1.775469,
          -3.77212,
          8.959873,
          9.648379,
          -13.664438,
          -2.232836,
          -3.8299596,
          4.090971,
          -3.0650096,
          8.514179,
          -8.528643,
          -2.9526517,
          7.430128,
          2.0554528,
          6.3990197,
          3.2199948,
          -6.172781,
          -4.105173,
          2.8994825,
          4.478628,
          9.536518,
          -4.331134,
          5.81678,
          8.332727,
          8.609978,
          -9.234891,
          -3.5321543,
          4.335946,
          -15.332186,
          -3.9398687,
          -10.360284,
          -8.927325,
          6.3014402,
          10.095398,
          -11.519097,
          9.765256,
          -2.8438618,
          -10.729445,
          8.185047,
          -15.215779,
          1.9217823,
          1.6091754,
          1.6369622,
          3.9800391,
          -7.36247,
          -3.1236866,
          6.841683,
          5.130456,
          -0.706632,
          -1.7688843,
          7.742836,
          7.7000837,
          -14.092477,
          8.053326,
          6.2568464,
          -11.425652,
          8.531983,
          7.263782,
          9.756251,
          7.4868946,
          -7.499558,
          -6.0103483,
          3.9779966,
          -5.92499,
          -9.540339,
          -3.9334552,
          -8.584289,
          9.321183,
          -9.251329,
          2.2881784,
          -3.7366185,
          8.348036,
          8.675199,
          1.8283627,
          2.0194728,
          1.8522323,
          5.9299297,
          -6.0068264,
          -0.96378934,
          -5.9728913,
          -1.9173535,
          -0.44083926,
          7.7333455,
          8.018146,
          6.140449,
          6.6195083,
          -8.685471,
          -10.518844,
          -2.522962,
          7.1370525,
          7.5121865,
          -1.7548943,
          5.810117,
          9.903901,
          -12.530382,
          -10.322574,
          1.0623852,
          -1.6409582,
          0.8695502,
          -4.639386,
          -10.692117,
          8.961932,
          5.8803954,
          8.46303,
          9.643035,
          -10.740009,
          2.2120671,
          -11.524784,
          -6.579519,
          2.6499546,
          -6.895368,
          3.0607252,
          5.443322,
          -2.7947912,
          -4.310475,
          3.2061837,
          -15.4076605,
          -1.4672748,
          -5.356451,
          2.3481598,
          -4.792564,
          8.305389,
          -7.7052193,
          7.427538,
          -4.932464,
          -1.1000568,
          9.704031,
          9.4368105,
          9.141488,
          9.20641,
          -3.9776795,
          -15.464738,
          -3.9668477,
          6.2993927,
          -7.8211217,
          -3.0758648,
          7.808626,
          -4.9642234,
          9.123395,
          9.874296,
          9.685558,
          -3.8613188,
          -8.119272,
          6.323787,
          -3.002213,
          8.573544,
          -5.668478,
          -15.38909,
          -2.6188068,
          -3.6590226,
          -10.313109,
          -11.317007,
          2.1461737,
          -8.979642,
          8.239449,
          -11.227153,
          10.295469,
          2.873853,
          -9.960775,
          5.230139,
          2.594241,
          -8.361774,
          7.717147,
          5.404593,
          -4.8822246,
          -3.5826275,
          3.728787,
          7.479955,
          -9.751438,
          2.5813885,
          7.933507,
          8.745613,
          -10.429518,
          -1.9392036,
          -12.99882,
          9.179747,
          -1.0156056,
          0.1402497,
          5.6867704,
          4.99135,
          -0.48996684,
          -12.784783,
          2.8394594,
          8.941064,
          -1.8432295,
          -11.045147,
          -3.2218146,
          5.245366,
          -9.366015,
          2.1971319,
          7.9933796,
          6.094295,
          -2.6403358,
          7.531591,
          -3.1409702,
          -2.9184487,
          7.2405224,
          -10.62201,
          3.1243486,
          3.8049207,
          -1.2398291,
          -8.218237,
          6.5382223,
          1.8936951,
          1.8379672,
          8.709241,
          0.63971114,
          -0.6074084,
          -0.51257044,
          9.865705,
          6.2601194,
          -7.4085565,
          9.510377,
          5.020696,
          8.324808,
          -3.9917877,
          -4.534497,
          5.963479,
          -2.191472,
          -6.7495103,
          8.788553,
          -4.6138415,
          -8.757855,
          5.5001297,
          -1.5626665,
          -14.866967,
          -0.6757627,
          7.2190485,
          8.346285,
          6.8556986,
          -3.7351816,
          0.6393241,
          -2.4747548,
          -1.6646619,
          -4.4959173,
          -3.7178748,
          1.387804,
          8.242812,
          7.494307,
          -0.7438136,
          -12.478501,
          2.9852338,
          4.477719,
          -2.2691529,
          -3.443016,
          2.379736,
          2.9446507,
          -8.187552,
          6.1775365,
          8.16577,
          -0.692596,
          5.518535,
          -9.404924,
          -2.5656364,
          -9.875925,
          -11.5664215,
          8.028322,
          -2.3125017,
          -3.980532,
          5.990581,
          4.429274,
          6.389443,
          -5.2787504,
          -3.1036541,
          -1.546297,
          -2.0758004,
          0.74461955,
          -15.86562,
          6.289246,
          -13.041814,
          9.753139,
          -13.897173,
          -5.3247175,
          2.3771913,
          -12.060262,
          1.3390288,
          -3.2583826,
          -6.145084,
          -3.9547908,
          -11.155761,
          6.417654,
          8.779043,
          -9.173365,
          5.589011,
          4.478105,
          8.0964985,
          -12.453108,
          6.32394,
          9.704185,
          2.6718254,
          2.505339,
          8.2315,
          7.9759946,
          -10.006239,
          2.0710313,
          8.223087,
          5.938572,
          -8.040186,
          7.5690427,
          0.72056437,
          -9.118517,
          -6.247599,
          4.0558577,
          8.08028,
          8.501201,
          8.999076,
          7.646015,
          8.866479,
          -12.348724,
          4.443359,
          1.4379525,
          -1.7170987,
          3.1318073,
          2.1414099,
          -6.614549,
          3.915082,
          -11.285807,
          -4.852399,
          -2.431897,
          9.797609,
          -1.1863303,
          8.554965,
          2.1285641,
          -2.0973935,
          8.55624,
          -0.23027425,
          -12.410175,
          3.7991889,
          9.537167,
          5.4897456,
          -8.671626,
          1.1269734,
          -9.893495,
          -5.2861447,
          -2.9162376,
          2.840743,
          -1.8960177,
          -13.709111,
          -4.2260103,
          -1.2649758,
          1.2568649,
          6.469485,
          -10.640408,
          -11.099547,
          -3.2284725,
          8.824668,
          -11.107669,
          10.524859,
          2.909699,
          -1.9607254,
          -1.1752212,
          7.778153,
          -5.0125895,
          -8.644078,
          -8.383637,
          6.2993083,
          -9.321129,
          3.1767642,
          2.448574,
          -4.5404677,
          -1.1116121,
          -2.322375,
          -4.8202763,
          -6.5956717,
          7.9628735,
          -8.681297,
          2.1306872,
          -4.7175665,
          -8.624935,
          8.351344,
          -8.473083,
          -12.689766,
          -14.329773,
          -13.735222,
          5.508799,
          -12.664768,
          -9.525215,
          0.54507816,
          -1.2990222,
          -12.395145,
          9.064219,
          10.628464,
          1.90227,
          9.579728,
          6.2606936,
          3.3062217,
          9.474671,
          -10.308843,
          -1.6934028,
          -1.356671,
          -1.6140652,
          9.676128,
          1.0899757,
          -6.026086,
          -2.3282003,
          -7.6023436,
          -8.049286,
          -6.3946705,
          5.2069798,
          6.7232385,
          -2.218029,
          -9.238511,
          -7.132778,
          -7.3083863,
          3.2654505,
          3.8286674,
          3.6493723,
          -8.753174,
          3.308733,
          3.7376816,
          -5.25873,
          8.9692335,
          6.826263,
          -3.242789,
          -11.2502985,
          8.629316,
          5.9884553,
          -14.797973,
          10.417699,
          8.37187,
          2.0890872,
          7.374887,
          -4.907098,
          -13.060738,
          6.073574,
          3.7847679,
          2.0594616,
          7.638769,
          -4.048156,
          -11.268744,
          -8.706762,
          -6.5224524,
          8.52101,
          3.915047,
          -2.8441424,
          0.236421,
          -2.972141,
          -4.7119484,
          -13.641204,
          9.008272,
          8.378294,
          9.439583,
          8.649372,
          0.4262937,
          4.8787127,
          -3.3056352,
          9.17486,
          6.713384,
          7.288043,
          -9.843971,
          -10.038017,
          5.5994024,
          3.593124,
          -11.791471,
          -11.414893,
          6.9690537,
          8.611728,
          -1.6742243,
          -14.178263,
          -0.9814382,
          9.324769,
          5.230548
         ]
        }
       ],
       "layout": {
        "coloraxis": {
         "colorbar": {
          "title": {
           "text": "Anomaly"
          }
         },
         "colorscale": [
          [
           0,
           "#0d0887"
          ],
          [
           0.1111111111111111,
           "#46039f"
          ],
          [
           0.2222222222222222,
           "#7201a8"
          ],
          [
           0.3333333333333333,
           "#9c179e"
          ],
          [
           0.4444444444444444,
           "#bd3786"
          ],
          [
           0.5555555555555556,
           "#d8576b"
          ],
          [
           0.6666666666666666,
           "#ed7953"
          ],
          [
           0.7777777777777778,
           "#fb9f3a"
          ],
          [
           0.8888888888888888,
           "#fdca26"
          ],
          [
           1,
           "#f0f921"
          ]
         ]
        },
        "height": 800,
        "legend": {
         "tracegroupgap": 0
        },
        "scene": {
         "domain": {
          "x": [
           0,
           1
          ],
          "y": [
           0,
           1
          ]
         },
         "xaxis": {
          "title": {
           "text": "0"
          }
         },
         "yaxis": {
          "title": {
           "text": "1"
          }
         },
         "zaxis": {
          "title": {
           "text": "2"
          }
         }
        },
        "template": {
         "data": {
          "bar": [
           {
            "error_x": {
             "color": "#2a3f5f"
            },
            "error_y": {
             "color": "#2a3f5f"
            },
            "marker": {
             "line": {
              "color": "#E5ECF6",
              "width": 0.5
             },
             "pattern": {
              "fillmode": "overlay",
              "size": 10,
              "solidity": 0.2
             }
            },
            "type": "bar"
           }
          ],
          "barpolar": [
           {
            "marker": {
             "line": {
              "color": "#E5ECF6",
              "width": 0.5
             },
             "pattern": {
              "fillmode": "overlay",
              "size": 10,
              "solidity": 0.2
             }
            },
            "type": "barpolar"
           }
          ],
          "carpet": [
           {
            "aaxis": {
             "endlinecolor": "#2a3f5f",
             "gridcolor": "white",
             "linecolor": "white",
             "minorgridcolor": "white",
             "startlinecolor": "#2a3f5f"
            },
            "baxis": {
             "endlinecolor": "#2a3f5f",
             "gridcolor": "white",
             "linecolor": "white",
             "minorgridcolor": "white",
             "startlinecolor": "#2a3f5f"
            },
            "type": "carpet"
           }
          ],
          "choropleth": [
           {
            "colorbar": {
             "outlinewidth": 0,
             "ticks": ""
            },
            "type": "choropleth"
           }
          ],
          "contour": [
           {
            "colorbar": {
             "outlinewidth": 0,
             "ticks": ""
            },
            "colorscale": [
             [
              0,
              "#0d0887"
             ],
             [
              0.1111111111111111,
              "#46039f"
             ],
             [
              0.2222222222222222,
              "#7201a8"
             ],
             [
              0.3333333333333333,
              "#9c179e"
             ],
             [
              0.4444444444444444,
              "#bd3786"
             ],
             [
              0.5555555555555556,
              "#d8576b"
             ],
             [
              0.6666666666666666,
              "#ed7953"
             ],
             [
              0.7777777777777778,
              "#fb9f3a"
             ],
             [
              0.8888888888888888,
              "#fdca26"
             ],
             [
              1,
              "#f0f921"
             ]
            ],
            "type": "contour"
           }
          ],
          "contourcarpet": [
           {
            "colorbar": {
             "outlinewidth": 0,
             "ticks": ""
            },
            "type": "contourcarpet"
           }
          ],
          "heatmap": [
           {
            "colorbar": {
             "outlinewidth": 0,
             "ticks": ""
            },
            "colorscale": [
             [
              0,
              "#0d0887"
             ],
             [
              0.1111111111111111,
              "#46039f"
             ],
             [
              0.2222222222222222,
              "#7201a8"
             ],
             [
              0.3333333333333333,
              "#9c179e"
             ],
             [
              0.4444444444444444,
              "#bd3786"
             ],
             [
              0.5555555555555556,
              "#d8576b"
             ],
             [
              0.6666666666666666,
              "#ed7953"
             ],
             [
              0.7777777777777778,
              "#fb9f3a"
             ],
             [
              0.8888888888888888,
              "#fdca26"
             ],
             [
              1,
              "#f0f921"
             ]
            ],
            "type": "heatmap"
           }
          ],
          "heatmapgl": [
           {
            "colorbar": {
             "outlinewidth": 0,
             "ticks": ""
            },
            "colorscale": [
             [
              0,
              "#0d0887"
             ],
             [
              0.1111111111111111,
              "#46039f"
             ],
             [
              0.2222222222222222,
              "#7201a8"
             ],
             [
              0.3333333333333333,
              "#9c179e"
             ],
             [
              0.4444444444444444,
              "#bd3786"
             ],
             [
              0.5555555555555556,
              "#d8576b"
             ],
             [
              0.6666666666666666,
              "#ed7953"
             ],
             [
              0.7777777777777778,
              "#fb9f3a"
             ],
             [
              0.8888888888888888,
              "#fdca26"
             ],
             [
              1,
              "#f0f921"
             ]
            ],
            "type": "heatmapgl"
           }
          ],
          "histogram": [
           {
            "marker": {
             "pattern": {
              "fillmode": "overlay",
              "size": 10,
              "solidity": 0.2
             }
            },
            "type": "histogram"
           }
          ],
          "histogram2d": [
           {
            "colorbar": {
             "outlinewidth": 0,
             "ticks": ""
            },
            "colorscale": [
             [
              0,
              "#0d0887"
             ],
             [
              0.1111111111111111,
              "#46039f"
             ],
             [
              0.2222222222222222,
              "#7201a8"
             ],
             [
              0.3333333333333333,
              "#9c179e"
             ],
             [
              0.4444444444444444,
              "#bd3786"
             ],
             [
              0.5555555555555556,
              "#d8576b"
             ],
             [
              0.6666666666666666,
              "#ed7953"
             ],
             [
              0.7777777777777778,
              "#fb9f3a"
             ],
             [
              0.8888888888888888,
              "#fdca26"
             ],
             [
              1,
              "#f0f921"
             ]
            ],
            "type": "histogram2d"
           }
          ],
          "histogram2dcontour": [
           {
            "colorbar": {
             "outlinewidth": 0,
             "ticks": ""
            },
            "colorscale": [
             [
              0,
              "#0d0887"
             ],
             [
              0.1111111111111111,
              "#46039f"
             ],
             [
              0.2222222222222222,
              "#7201a8"
             ],
             [
              0.3333333333333333,
              "#9c179e"
             ],
             [
              0.4444444444444444,
              "#bd3786"
             ],
             [
              0.5555555555555556,
              "#d8576b"
             ],
             [
              0.6666666666666666,
              "#ed7953"
             ],
             [
              0.7777777777777778,
              "#fb9f3a"
             ],
             [
              0.8888888888888888,
              "#fdca26"
             ],
             [
              1,
              "#f0f921"
             ]
            ],
            "type": "histogram2dcontour"
           }
          ],
          "mesh3d": [
           {
            "colorbar": {
             "outlinewidth": 0,
             "ticks": ""
            },
            "type": "mesh3d"
           }
          ],
          "parcoords": [
           {
            "line": {
             "colorbar": {
              "outlinewidth": 0,
              "ticks": ""
             }
            },
            "type": "parcoords"
           }
          ],
          "pie": [
           {
            "automargin": true,
            "type": "pie"
           }
          ],
          "scatter": [
           {
            "fillpattern": {
             "fillmode": "overlay",
             "size": 10,
             "solidity": 0.2
            },
            "type": "scatter"
           }
          ],
          "scatter3d": [
           {
            "line": {
             "colorbar": {
              "outlinewidth": 0,
              "ticks": ""
             }
            },
            "marker": {
             "colorbar": {
              "outlinewidth": 0,
              "ticks": ""
             }
            },
            "type": "scatter3d"
           }
          ],
          "scattercarpet": [
           {
            "marker": {
             "colorbar": {
              "outlinewidth": 0,
              "ticks": ""
             }
            },
            "type": "scattercarpet"
           }
          ],
          "scattergeo": [
           {
            "marker": {
             "colorbar": {
              "outlinewidth": 0,
              "ticks": ""
             }
            },
            "type": "scattergeo"
           }
          ],
          "scattergl": [
           {
            "marker": {
             "colorbar": {
              "outlinewidth": 0,
              "ticks": ""
             }
            },
            "type": "scattergl"
           }
          ],
          "scattermapbox": [
           {
            "marker": {
             "colorbar": {
              "outlinewidth": 0,
              "ticks": ""
             }
            },
            "type": "scattermapbox"
           }
          ],
          "scatterpolar": [
           {
            "marker": {
             "colorbar": {
              "outlinewidth": 0,
              "ticks": ""
             }
            },
            "type": "scatterpolar"
           }
          ],
          "scatterpolargl": [
           {
            "marker": {
             "colorbar": {
              "outlinewidth": 0,
              "ticks": ""
             }
            },
            "type": "scatterpolargl"
           }
          ],
          "scatterternary": [
           {
            "marker": {
             "colorbar": {
              "outlinewidth": 0,
              "ticks": ""
             }
            },
            "type": "scatterternary"
           }
          ],
          "surface": [
           {
            "colorbar": {
             "outlinewidth": 0,
             "ticks": ""
            },
            "colorscale": [
             [
              0,
              "#0d0887"
             ],
             [
              0.1111111111111111,
              "#46039f"
             ],
             [
              0.2222222222222222,
              "#7201a8"
             ],
             [
              0.3333333333333333,
              "#9c179e"
             ],
             [
              0.4444444444444444,
              "#bd3786"
             ],
             [
              0.5555555555555556,
              "#d8576b"
             ],
             [
              0.6666666666666666,
              "#ed7953"
             ],
             [
              0.7777777777777778,
              "#fb9f3a"
             ],
             [
              0.8888888888888888,
              "#fdca26"
             ],
             [
              1,
              "#f0f921"
             ]
            ],
            "type": "surface"
           }
          ],
          "table": [
           {
            "cells": {
             "fill": {
              "color": "#EBF0F8"
             },
             "line": {
              "color": "white"
             }
            },
            "header": {
             "fill": {
              "color": "#C8D4E3"
             },
             "line": {
              "color": "white"
             }
            },
            "type": "table"
           }
          ]
         },
         "layout": {
          "annotationdefaults": {
           "arrowcolor": "#2a3f5f",
           "arrowhead": 0,
           "arrowwidth": 1
          },
          "autotypenumbers": "strict",
          "coloraxis": {
           "colorbar": {
            "outlinewidth": 0,
            "ticks": ""
           }
          },
          "colorscale": {
           "diverging": [
            [
             0,
             "#8e0152"
            ],
            [
             0.1,
             "#c51b7d"
            ],
            [
             0.2,
             "#de77ae"
            ],
            [
             0.3,
             "#f1b6da"
            ],
            [
             0.4,
             "#fde0ef"
            ],
            [
             0.5,
             "#f7f7f7"
            ],
            [
             0.6,
             "#e6f5d0"
            ],
            [
             0.7,
             "#b8e186"
            ],
            [
             0.8,
             "#7fbc41"
            ],
            [
             0.9,
             "#4d9221"
            ],
            [
             1,
             "#276419"
            ]
           ],
           "sequential": [
            [
             0,
             "#0d0887"
            ],
            [
             0.1111111111111111,
             "#46039f"
            ],
            [
             0.2222222222222222,
             "#7201a8"
            ],
            [
             0.3333333333333333,
             "#9c179e"
            ],
            [
             0.4444444444444444,
             "#bd3786"
            ],
            [
             0.5555555555555556,
             "#d8576b"
            ],
            [
             0.6666666666666666,
             "#ed7953"
            ],
            [
             0.7777777777777778,
             "#fb9f3a"
            ],
            [
             0.8888888888888888,
             "#fdca26"
            ],
            [
             1,
             "#f0f921"
            ]
           ],
           "sequentialminus": [
            [
             0,
             "#0d0887"
            ],
            [
             0.1111111111111111,
             "#46039f"
            ],
            [
             0.2222222222222222,
             "#7201a8"
            ],
            [
             0.3333333333333333,
             "#9c179e"
            ],
            [
             0.4444444444444444,
             "#bd3786"
            ],
            [
             0.5555555555555556,
             "#d8576b"
            ],
            [
             0.6666666666666666,
             "#ed7953"
            ],
            [
             0.7777777777777778,
             "#fb9f3a"
            ],
            [
             0.8888888888888888,
             "#fdca26"
            ],
            [
             1,
             "#f0f921"
            ]
           ]
          },
          "colorway": [
           "#636efa",
           "#EF553B",
           "#00cc96",
           "#ab63fa",
           "#FFA15A",
           "#19d3f3",
           "#FF6692",
           "#B6E880",
           "#FF97FF",
           "#FECB52"
          ],
          "font": {
           "color": "#2a3f5f"
          },
          "geo": {
           "bgcolor": "white",
           "lakecolor": "white",
           "landcolor": "#E5ECF6",
           "showlakes": true,
           "showland": true,
           "subunitcolor": "white"
          },
          "hoverlabel": {
           "align": "left"
          },
          "hovermode": "closest",
          "mapbox": {
           "style": "light"
          },
          "paper_bgcolor": "white",
          "plot_bgcolor": "#E5ECF6",
          "polar": {
           "angularaxis": {
            "gridcolor": "white",
            "linecolor": "white",
            "ticks": ""
           },
           "bgcolor": "#E5ECF6",
           "radialaxis": {
            "gridcolor": "white",
            "linecolor": "white",
            "ticks": ""
           }
          },
          "scene": {
           "xaxis": {
            "backgroundcolor": "#E5ECF6",
            "gridcolor": "white",
            "gridwidth": 2,
            "linecolor": "white",
            "showbackground": true,
            "ticks": "",
            "zerolinecolor": "white"
           },
           "yaxis": {
            "backgroundcolor": "#E5ECF6",
            "gridcolor": "white",
            "gridwidth": 2,
            "linecolor": "white",
            "showbackground": true,
            "ticks": "",
            "zerolinecolor": "white"
           },
           "zaxis": {
            "backgroundcolor": "#E5ECF6",
            "gridcolor": "white",
            "gridwidth": 2,
            "linecolor": "white",
            "showbackground": true,
            "ticks": "",
            "zerolinecolor": "white"
           }
          },
          "shapedefaults": {
           "line": {
            "color": "#2a3f5f"
           }
          },
          "ternary": {
           "aaxis": {
            "gridcolor": "white",
            "linecolor": "white",
            "ticks": ""
           },
           "baxis": {
            "gridcolor": "white",
            "linecolor": "white",
            "ticks": ""
           },
           "bgcolor": "#E5ECF6",
           "caxis": {
            "gridcolor": "white",
            "linecolor": "white",
            "ticks": ""
           }
          },
          "title": {
           "x": 0.05
          },
          "xaxis": {
           "automargin": true,
           "gridcolor": "white",
           "linecolor": "white",
           "ticks": "",
           "title": {
            "standoff": 15
           },
           "zerolinecolor": "white",
           "zerolinewidth": 2
          },
          "yaxis": {
           "automargin": true,
           "gridcolor": "white",
           "linecolor": "white",
           "ticks": "",
           "title": {
            "standoff": 15
           },
           "zerolinecolor": "white",
           "zerolinewidth": 2
          }
         }
        },
        "title": {
         "text": "3d TSNE Plot for Outliers"
        },
        "width": 900
       }
      },
      "text/html": [
       "<div>                            <div id=\"37a3b428-19b3-447b-a209-8d9a1d21bad2\" class=\"plotly-graph-div\" style=\"height:800px; width:900px;\"></div>            <script type=\"text/javascript\">                require([\"plotly\"], function(Plotly) {                    window.PLOTLYENV=window.PLOTLYENV || {};                                    if (document.getElementById(\"37a3b428-19b3-447b-a209-8d9a1d21bad2\")) {                    Plotly.newPlot(                        \"37a3b428-19b3-447b-a209-8d9a1d21bad2\",                        [{\"customdata\":[[0.26399535],[0.54609233],[0.33671412],[0.09210783],[0.32526118],[0.21246485],[0.25856572],[0.86923677],[0.19707796],[0.29298452],[0.8217832],[0.79662293],[0.045577012],[0.61366034],[0.95074457],[0.33634633],[0.034440666],[0.74154425],[0.18443266],[0.66451496],[0.16282485],[0.72983843],[0.62837386],[0.05788366],[0.44553483],[0.80183697],[0.27709612],[0.22863401],[0.8348607],[0.6697665],[0.5325273],[0.17045908],[0.5102885],[0.977562],[0.24977599],[0.9755007],[0.6137017],[0.16742036],[0.5374725],[0.37989914],[0.6338973],[0.6339604],[0.5499747],[0.17817299],[0.85563815],[0.3217967],[0.8174905],[0.25487942],[0.3441405],[0.8061457],[0.27708167],[0.5443285],[0.07708393],[0.27308145],[0.39087734],[0.3496214],[0.21454975],[0.20607522],[0.86462],[0.9817088],[0.33482966],[0.6483871],[0.09364356],[0.8378027],[0.76034397],[0.2914042],[0.3413454],[0.7611125],[0.5418998],[0.6841766],[0.9835356],[0.52081245],[0.32822773],[0.09715794],[0.8760886],[0.8702145],[0.656087],[0.3067915],[0.48126733],[0.25955918],[0.32612365],[0.93056804],[0.6583894],[0.6899923],[0.31578112],[0.5669051],[0.63752663],[0.6875407],[0.3243006],[0.5927049],[0.74025315],[0.5940329],[0.59645295],[0.2776808],[0.25832966],[0.14246087],[0.43553346],[0.70249903],[0.58897537],[0.6533044],[0.3369685],[0.6312447],[0.7353008],[0.050390366],[0.06426492],[0.6653595],[0.91783524],[0.4465101],[0.6619382],[0.43935984],[0.6875724],[0.36346224],[0.6542622],[0.57855356],[0.065927945],[0.55014855],[0.13918282],[0.08000463],[0.27822837],[0.5601243],[0.53639865],[0.4265319],[0.78910977],[0.7429005],[0.90169257],[0.6503374],[0.11405731],[0.26081258],[0.43991232],[0.9644093],[0.18440141],[0.34514543],[0.17589459],[0.31251445],[0.6741319],[0.32825044],[0.5982311],[0.09259882],[0.49791652],[0.41977653],[0.3121767],[0.9378571],[0.049030963],[0.47610453],[0.44739753],[0.29580605],[0.737364],[0.6258963],[0.40881342],[0.43751115],[0.69135135],[0.9355553],[0.43784666],[0.07221772],[0.67636067],[0.468884],[0.5438206],[0.65552264],[0.69352895],[0.108878314],[0.28546375],[0.0],[0.7064955],[0.27353063],[0.29232028],[0.6739843],[0.12612183],[0.9467075],[0.9363389],[0.85375535],[0.7060714],[0.6936822],[0.5085279],[0.34717038],[0.70415425],[0.6587301],[0.15584156],[0.31108543],[0.28113535],[0.0945878],[0.683261],[0.90772927],[0.29151267],[0.7527345],[0.93482965],[0.07141396],[0.5948963],[0.40467203],[0.1383762],[0.7473385],[0.5308825],[0.2826496],[0.69933575],[0.05611125],[0.855235],[0.07789513],[0.8916496],[0.3867423],[0.27113158],[0.95888895],[0.08512087],[0.52690226],[0.066577785],[0.8415067],[0.2553421],[0.060545772],[0.07338587],[0.18749373],[0.8583657],[0.09064035],[0.7097252],[0.6313006],[0.24750447],[0.8228436],[0.37347677],[0.6255386],[0.2929517],[0.29973033],[0.25121406],[0.34448054],[0.29306477],[0.7628032],[0.7384708],[0.67488325],[0.7191516],[0.13098022],[0.51132804],[0.04492903],[0.56091446],[0.74404067],[0.26696163],[0.64423186],[0.038113352],[0.0571553],[0.34139246],[0.72046363],[0.40287822],[0.63514894],[0.32072946],[0.091209695],[0.23414609],[0.8902211],[0.6021709],[0.63365203],[0.80624086],[0.7397312],[0.46523127],[0.7321109],[0.3738743],[0.5015879],[0.115383156],[0.7319466],[0.41829872],[0.062259592],[0.3914964],[0.3598493],[0.24523562],[0.6100283],[0.43540362],[0.43430966],[0.52376336],[0.17118786],[0.1877343],[0.94501466],[0.027851097],[0.68445706],[0.17801453],[0.6434279],[0.59588355],[0.3723617],[0.58610356],[0.27165884],[0.5995111],[0.46836308],[0.31451556],[0.21893726],[0.25471658],[0.25612816],[0.60225976],[0.13438107],[0.5138874],[0.62424165],[0.16025186],[0.5807081],[0.27054048],[0.83291996],[0.93032134],[0.7191579],[0.88672006],[0.09879228],[0.7871743],[0.3655924],[0.7195762],[0.8058956],[0.75557834],[0.5260059],[0.68880427],[0.2211153],[0.73936945],[0.40844023],[0.34892654],[0.43371376],[0.5964966],[0.6942953],[0.709031],[0.867653],[0.89332545],[0.7460209],[0.5382844],[0.8922193],[0.9351758],[0.2605277],[0.95678043],[0.20493248],[0.68773335],[0.32906362],[0.6321498],[0.4637445],[0.69885963],[0.38544658],[0.47997537],[0.7322791],[0.3813543],[0.459326],[0.25740144],[0.6650148],[0.103399545],[0.42528442],[0.94352907],[0.5947502],[0.5437768],[0.18203989],[0.23584208],[0.58598447],[0.7620132],[0.6849829],[0.6769369],[0.29018497],[0.48106822],[0.49276602],[0.22185624],[0.053875998],[0.08275115],[0.38536623],[0.70251393],[0.9155316],[0.082087435],[0.25128037],[0.41672182],[0.27703267],[0.5795398],[0.5693635],[0.13339971],[0.26504546],[0.9365719],[0.25261855],[0.054033082],[0.8024814],[0.5281977],[0.9515026],[0.57212114],[0.7529382],[0.14385754],[0.5134846],[0.3133224],[0.68779737],[0.37705985],[0.34822613],[0.6776328],[0.24138752],[0.8506502],[0.2203481],[0.47644547],[0.690324],[0.36469594],[0.6492492],[0.9437019],[0.529646],[0.299097],[0.96696246],[0.27200523],[0.31416145],[0.752021],[0.22188245],[0.7203327],[0.37920478],[0.60168654],[0.58293265],[0.95080984],[0.5883014],[0.8808872],[0.4678577],[0.8799022],[0.619844],[0.35900256],[0.29151127],[0.6941571],[0.72796035],[0.6177039],[0.39581257],[0.5831728],[0.7103324],[0.2537537],[0.04941223],[0.7283787],[0.4324329],[0.58612347],[0.052342374],[0.053483903],[0.5187294],[0.9330402],[0.7035543],[0.2689899],[0.73300695],[0.44435248],[0.58339465],[0.87117267],[0.42876709],[0.30046085],[0.95332944],[0.60644394],[0.9098681],[0.71489644],[0.4973495],[0.8530975],[0.72180414],[0.30346733],[0.6644851],[0.27978063],[0.5694817],[0.6286289],[0.088368125],[0.7335673],[0.5374368],[0.6385937],[0.95472693],[0.6322023],[0.64213467],[0.7446531],[0.115714006],[0.48625007],[0.44035614],[0.08272289],[0.511591],[0.39462754],[0.224394],[0.62692755],[0.29025406],[0.77900803],[0.8661058],[0.87332606],[0.49548915],[0.5942977],[0.91820157],[0.57704276],[0.01946767],[0.6702983],[0.54659534],[0.59166515],[0.4215582],[0.68560857],[0.34030303],[0.67562675],[0.31906736],[0.38849968],[0.7069496],[0.5594095],[0.6876635],[0.70880455],[0.6818881],[0.42253512],[0.3200046],[0.6582814],[0.63415486],[0.777332],[0.8126772],[0.0742808],[0.39600217],[0.054933913],[0.82505894],[0.382642],[0.8687298],[0.58804333],[0.89155155],[0.10920046],[0.6476828],[0.7243425],[0.07016304],[0.28088206],[0.03911326],[0.5796416],[0.6390009],[0.2817459],[0.6478577],[0.6479058],[0.87522626],[0.5676033],[0.2629406],[0.26802605],[0.40519133],[0.47996545],[0.33552402],[0.77716535],[0.42548797],[0.23798612],[0.14252298],[0.72417647],[0.23469894],[0.07818228],[0.8559902],[0.27025175],[0.43551785],[0.7626975],[0.46448725],[0.39611268],[0.37638092],[0.29459468],[0.6944921],[0.6227679],[0.84755975],[0.30146307],[0.9129378],[0.50001717],[0.90258795],[0.30451795],[0.29916567],[0.09201409],[0.4885489],[0.66466445],[0.26534954],[0.723657],[0.14926238],[0.04577339],[0.6966106],[0.42181486],[0.7338458],[0.41879538],[0.6774435],[0.2612836],[0.26852778],[0.54432225],[0.43163204],[0.9810181],[0.21498072],[0.39473],[0.12222494],[0.29749689],[0.37490442],[0.6869877],[0.3885492],[0.039296072],[0.73553425],[0.3792949],[0.7321234],[0.33922145],[0.6594506],[0.054838642],[0.6401121],[0.3071417],[0.3966119],[0.42043915],[0.24171497],[0.06589315],[0.9105219],[0.6971631],[0.072559856],[0.81825095],[0.3118888],[0.9616446],[0.81632555],[0.14647302],[0.5487539],[0.9461581],[0.29399273],[0.33147964],[0.90622],[0.5255404],[0.83301413],[0.5148498],[0.57460904],[0.46871185],[0.71002775],[0.64597327],[0.22979441],[0.5517834],[0.05582299],[0.33175093],[0.7155202],[0.58392435],[0.3069577],[0.7914782],[0.16423663],[0.06571122],[0.94899315],[0.08042383],[0.052495427],[0.5663461],[0.3630266],[0.60544217],[0.6308506],[0.065791234],[0.28681707],[0.68546283],[0.2608537],[0.6591224],[0.44317392],[0.602064],[0.06036691],[0.78190315],[0.51457983],[0.4838862],[0.6002138],[0.49736404],[0.41114524],[0.11699917],[0.34189013],[0.74695086],[0.39629275],[0.62214386],[0.33527115],[0.14025714],[0.08162068],[0.06983757],[0.46894002],[0.9908574],[0.8966168],[0.25531057],[0.22464527],[0.01991825],[0.29648042],[0.155459],[0.57791674],[0.95630306],[0.8134644],[0.5296758],[0.28767136],[0.48039135],[0.2810448],[0.63319653],[0.09332538],[0.284474],[0.052223776],[0.051129386],[0.9674056],[0.040045727],[0.9085829],[0.6621174],[0.4247032],[0.7220781],[0.6661933],[0.5096812],[0.7513536],[0.27907312],[0.074927],[0.91635954],[0.31040326],[0.71660405],[0.4855871],[0.3060752],[0.4775582],[0.71192396],[0.066348635],[0.27453935],[0.31082252],[0.47607312],[0.18679556],[0.26654208],[0.07023114],[0.26951927],[0.8000047],[0.27363366],[0.14647919],[0.37831897],[0.37384906],[0.24217084],[0.2497965],[0.06659119],[0.3729568],[0.5018123],[0.31309775],[0.8802022],[0.5198189],[0.36413875],[0.4926829],[0.28573266],[0.89011496],[0.31641957],[0.26866353],[0.77197593],[0.968889],[0.08033438],[0.7368282],[0.30055806],[0.9179504],[0.46581504],[0.05403668],[0.96315014],[0.0896535],[0.7076932],[0.636416],[0.5395211],[0.11475716],[0.3573124],[0.67639834],[0.4348284],[0.032326385],[0.7113656],[0.18748651],[0.052789655],[0.5058636],[0.9274319],[0.68098426],[0.8828222],[0.49570546],[0.5962404],[0.3206107],[0.3413685],[0.1596818],[0.31813368],[0.83930105],[0.06435925],[0.47021663],[0.77625227],[0.6358434],[0.62510544],[0.52959067],[0.98690015],[0.078585684],[0.23328426],[0.36333096],[0.716717],[0.37588978],[0.2233169],[0.29934397],[0.5385958],[0.73029715],[0.6603308],[0.435296],[0.3264943],[0.8544027],[0.57349384],[0.75778615],[0.7047432],[0.2815756],[0.6719682],[0.313726],[0.36433828],[0.3682164],[0.3862952],[0.6559719],[0.56602526],[0.4249991],[0.09011037],[0.77235055],[0.33104727],[0.27371618],[0.23877569],[0.37307978],[0.33118588],[0.25613454],[0.6783732],[0.43463835],[0.65466833],[0.98668104],[0.3715205],[0.40835962],[0.40932366],[0.28341207],[0.39524654],[0.010984428],[0.30601388],[0.26619482],[0.29931852],[0.31829396],[0.7428259],[0.09766433],[0.07966694],[0.6132588],[0.9944307],[0.5688351],[0.7080345],[0.3705927],[0.66986734],[0.6512956],[0.46253157],[0.7196256],[0.4537725],[0.39486393],[0.32397482],[0.14645472],[0.77906704],[0.4018289],[0.6014796],[0.856423],[0.56524295],[0.3012251],[0.28210816],[0.594378],[0.7053124],[0.54086965],[0.31924957],[0.36176613],[0.6250007],[0.3162874],[0.04723902],[0.8011822],[0.5084744],[0.8178934],[0.3992356],[0.974052],[0.7224153],[0.039564762],[0.90868413],[0.47301012],[0.71804965],[0.76347905],[0.64759654],[0.89499736],[0.2228259],[0.35901225],[0.9449102],[0.29787782],[0.172518],[0.55658627],[0.8764817],[0.48667786],[0.45949674],[0.47412637],[0.7010114],[0.3375974],[0.5375789],[0.96699244],[0.056849547],[0.23324907],[0.3800547],[0.6029294],[0.303848],[0.17019455],[0.97216856],[0.33216894],[0.6887287],[0.1107734],[0.27335206],[0.5729397],[0.49145707],[0.28139],[0.82169724],[0.67497766],[0.58513457],[0.71059614],[0.04048879],[0.5680543],[0.32175294],[0.61185026],[0.9260969],[0.6183474],[0.6676298],[0.39773348],[0.2908755],[0.5943751],[0.50825524],[0.33857137],[0.43230236],[0.30222198],[0.8761982],[0.080204494],[0.09233353],[0.09365645],[0.6084524],[0.7326546],[0.94415885],[0.2674231],[0.7311242],[0.6613085],[0.38776627],[0.9625853],[0.32206705],[0.63408107],[0.47534502],[0.353559],[0.8859363],[0.8767981],[0.22158106],[0.39436245],[0.80503565],[0.45289847],[0.59252053],[0.7610264],[0.24504903],[0.37213936],[0.68105483],[0.74714315],[0.92073953],[0.09720795],[0.699303],[0.721647],[0.5353561],[0.7382938],[0.70646757],[0.6739506],[0.7112123],[0.30255872],[0.080097854],[0.70701087],[0.51224864],[0.6596275],[0.6575597],[0.10064561],[0.9266536],[0.89287937],[0.8391575],[0.89095974],[0.55675447],[0.96036196],[0.6310379],[0.029838065],[0.27884334],[0.9261577],[0.55150425],[0.48594236],[0.4372347],[0.25231802],[0.515467],[0.43725228],[0.4937242],[0.83324724],[0.31752148],[0.28623456],[0.72683394],[0.49566704],[0.028645255],[0.31967193],[0.6743446],[0.76603717],[0.6545699],[0.7565144],[0.52825373],[0.3897195],[0.35508746],[0.870152],[0.7390833],[0.30576184],[0.4115877],[0.06363309],[0.7354094],[0.6059167],[0.5393956],[0.5661835],[0.6747952],[0.070993364],[0.1252641],[0.27960148],[0.9521744],[0.23380676],[0.43724743],[0.9254231],[0.43349862],[0.525179],[0.08843553],[0.44767764],[0.6470006],[0.9036033],[0.26579073],[0.66419697],[0.49812067],[0.49018896],[0.7470842],[0.90678364],[0.6787709],[0.34859985],[0.29483968],[0.7056918],[0.21191794],[0.06320112],[0.27669954],[0.6724594],[0.80820596],[0.29653838],[0.16012686],[0.43938503],[0.5559514],[0.38624012],[0.15868962],[0.21449986],[0.29957944],[0.56916165],[0.4886148],[0.878295],[0.6493809],[0.46571335],[0.16813774],[0.87529546],[0.84113234],[0.33292082],[0.5130479],[0.30505508],[0.812627],[0.25096706],[0.50243556],[0.45799074]],\"hovertemplate\":\"0=%{x}<br>1=%{y}<br>2=%{z}<br>Feature=%{customdata[0]}<br>Anomaly=%{marker.color}<extra></extra>\",\"legendgroup\":\"\",\"marker\":{\"color\":[0,0,1,1,0,0,0,1,1,0,0,1,0,1,1,0,0,0,1,0,1,0,0,1,1,1,0,0,1,1,0,0,0,1,1,0,0,0,0,0,1,0,0,1,0,0,0,0,0,0,0,1,0,1,0,1,0,0,0,1,0,0,1,1,0,0,1,0,0,1,0,0,0,0,0,0,0,0,0,0,0,0,0,0,0,0,0,0,0,0,0,0,0,0,0,0,0,0,0,0,0,0,0,0,0,0,0,0,0,0,0,0,0,0,0,0,0,0,0,0,0,0,0,0,0,0,0,0,0,0,1,0,0,0,0,0,0,0,0,0,0,0,0,0,0,0,0,0,0,0,0,0,0,0,0,0,0,0,0,0,0,0,0,0,0,0,0,0,0,0,0,0,0,0,0,0,0,0,0,0,0,0,0,0,0,0,0,0,0,0,0,0,0,0,0,0,0,0,1,0,0,0,0,0,0,0,0,0,0,0,0,0,0,0,0,0,0,0,0,0,0,0,0,0,0,0,0,0,0,0,0,0,0,0,0,0,0,0,0,0,0,0,0,0,0,0,0,0,0,0,0,0,0,0,0,0,0,0,0,0,0,0,0,0,0,0,0,0,0,0,0,0,0,0,0,0,0,0,0,0,0,0,0,0,0,0,0,0,0,0,0,0,0,0,0,0,0,0,0,0,0,0,0,0,0,0,0,0,0,0,0,0,0,0,0,0,0,0,0,0,0,0,0,0,0,0,0,0,0,0,0,0,0,0,0,0,0,0,0,0,0,0,0,0,0,0,0,0,0,0,0,0,0,0,0,0,0,0,0,0,0,0,0,0,0,0,0,0,0,0,0,0,0,0,0,0,0,0,0,0,0,0,0,0,0,0,0,0,0,0,0,0,0,0,0,0,0,0,0,0,0,0,0,0,0,0,0,0,0,0,0,0,0,0,0,0,0,0,0,0,0,0,0,0,0,0,0,0,0,0,0,0,0,0,0,0,0,0,0,0,0,0,0,0,0,0,0,0,0,0,0,0,0,0,0,0,0,0,0,0,0,0,0,0,0,0,0,0,0,0,0,0,0,0,0,0,0,0,0,0,0,0,0,0,0,0,0,0,0,0,0,0,0,0,0,0,0,0,0,0,0,0,0,0,0,0,0,0,0,0,0,0,0,0,0,0,0,0,0,0,0,0,0,0,0,0,0,0,0,0,0,0,0,0,0,0,0,0,0,0,0,0,0,0,0,1,0,0,0,0,0,0,0,0,0,0,0,0,0,0,0,0,0,0,0,0,0,0,0,0,0,0,0,0,0,0,0,1,0,0,0,0,0,0,0,0,0,0,0,0,0,0,0,0,0,0,0,0,0,0,0,0,1,0,0,0,0,0,0,0,0,0,0,0,0,0,0,0,0,0,0,0,0,0,0,0,0,0,0,0,0,0,0,0,0,0,0,0,0,0,0,0,0,0,0,0,0,0,0,0,0,0,0,0,0,0,0,0,0,0,0,0,0,0,0,0,0,0,0,0,0,0,0,0,0,0,0,0,0,0,1,0,0,0,0,0,0,0,0,0,0,0,0,0,0,0,0,0,0,0,1,1,0,1,0,0,0,1,1,0,0,0,0,1,0,0,1,1,1,0,1,0,1,1,1,0,0,0,1,0,0,0,0,0,0,0,0,0,0,0,0,0,0,1,0,0,0,0,0,0,0,0,0,0,0,0,0,0,0,0,0,0,0,0,0,0,0,0,0,0,0,0,0,0,0,0,0,0,0,0,0,0,0,0,0,0,0,0,0,0,0,0,0,0,0,0,0,0,0,0,0,0,0,0,0,0,0,0,0,0,0,0,0,0,0,0,0,0,0,0,0,0,0,0,0,0,0,0,0,0,0,0,0,0,0,0,0,0,0,0,0,0,0,0,0,0,0,0,0,0,0,0,0,0,0,0,1,0,0,0,0,0,0,0,0,0,0,0,0,0,0,0,0,0,0,0,0,0,0,0,0,0,0,0,0,0,0,0,0,0,0,0,0,0,0,0,0,0,0,0,0,0,0,0,0,0,0,0,0,0,0,0,0,0,0,0,0,0,0,0,0,1,0,0,0,0,0,0,0,0,0,0,0,0,0,0,0,0,0,0,0,1,0,0,0,0,0,0,0,0,0,0,0,0,0,0,0,0,0,0,0,0,0,0,0,0,0,0,0,0,0,0,0,0,0,0,0,0,0,0,0,0,0,0,0,0,0,0,0,0,0,0,0,0,0,0,0,0,0,0],\"coloraxis\":\"coloraxis\",\"opacity\":0.7,\"symbol\":\"circle\"},\"mode\":\"markers\",\"name\":\"\",\"scene\":\"scene\",\"showlegend\":false,\"x\":[7.8080754,-8.16249,10.574644,-8.708487,7.9193835,10.755972,14.795123,-1.9302782,-13.338951,13.869382,-1.2207541,-9.251577,-6.4905806,1.0053929,-6.554966,7.334705,-6.180611,5.501641,-11.322866,3.1549883,-10.186909,2.9293506,0.4109568,-13.329974,-2.901203,-8.352446,8.196534,9.935695,-6.364865,-1.888958,-8.485691,-11.895415,-4.575576,-5.2549295,11.520588,-8.697337,3.8798013,-9.434129,-4.4168706,9.971804,9.731096,1.9746083,-4.025524,-14.528789,-5.254542,7.3875895,-5.018877,9.098619,7.713219,-6.5480366,9.764994,-4.1478615,-12.565694,7.3410463,11.981934,13.029455,14.216431,13.619026,-4.81858,-8.293309,13.69018,4.258544,-6.614805,-3.395674,7.9204483,7.609332,13.215835,5.8369093,-0.8935866,1.1336284,-4.8688073,-1.072261,7.637743,-6.7601733,-10.453426,-9.555241,-3.823795,8.100856,-3.4992948,6.9574146,6.6039195,-9.514747,-2.0570738,4.7556524,13.708504,-8.49563,8.229241,8.238222,12.371277,-5.3964715,3.280814,-0.76653,6.587794,13.586614,13.796309,-7.0774918,-6.472322,6.7957067,-8.459216,-3.1755314,7.5930185,8.617998,7.2212777,-11.157941,-6.423962,5.8628325,-6.994745,-5.6044197,3.7500427,-1.1913269,4.381618,6.8807554,0.21787815,-6.591835,-8.939066,-4.8058333,-8.914279,-10.020238,11.2204685,-7.801993,-4.678439,-2.5667584,6.182861,8.338939,-8.269351,7.296386,-10.963371,9.865866,-7.0907035,-6.523341,-12.68835,10.398265,-5.705864,15.097228,9.0038395,6.536295,-1.9203495,-6.2845545,-7.2444983,-7.1754894,9.88334,-8.321228,-11.092955,-1.7112176,-7.896057,7.743548,1.1571865,7.8967705,-7.5737176,-6.804319,4.3811502,-10.059134,-4.0134163,-11.186057,3.067474,-6.471047,-3.408298,9.126523,3.4498413,-7.806703,14.480968,-11.576279,5.0482545,6.279387,10.681556,9.446145,-6.4384,-5.0177383,-7.2184043,-8.947546,5.7730775,7.3522367,-2.4916975,9.745961,4.1867747,8.358902,-8.575233,10.400498,14.49519,-7.137515,5.6383576,-3.5782437,15.665356,0.23553698,-4.792604,-9.136895,-2.1139195,11.994457,-13.669016,3.5750747,-4.0013876,8.005985,1.5893681,-9.2496395,-7.836213,-9.455128,-5.579498,15.620427,8.170054,-7.7230916,-13.286086,-7.0825057,-10.930155,-7.122807,10.288465,-11.572367,-13.710436,-13.072009,-3.2295878,-11.805698,4.2178464,-1.0193954,7.534711,-8.687033,11.250638,5.415438,13.781357,7.889793,6.68284,11.1218815,9.88498,6.0128837,-2.9303102,4.346958,9.061728,-13.097058,-4.168744,-14.366564,-4.7104664,-0.992814,14.738017,6.786882,-7.008843,-6.506819,12.188242,5.458335,12.351456,3.1847136,9.672058,-9.409932,11.916755,-4.738709,-1.9532552,7.8934946,-3.0808513,8.9602,-7.213327,5.20785,12.150686,-2.7508214,-11.935457,5.081259,-1.3860842,-11.48619,8.982418,8.810215,6.0051837,7.8107734,-0.4664632,-8.033144,-2.7878168,-12.110234,-8.797251,-6.74491,-10.9419565,7.5688076,-5.9632993,8.4670925,3.597578,16.443104,-5.1307163,15.418618,2.3232281,-2.968223,11.527084,13.252241,7.471659,7.995444,5.619156,-13.568012,-4.1697893,-1.4730922,-14.075162,-6.5585346,9.183246,-5.3971453,-6.3725944,6.2954926,-7.353809,-14.597721,4.259375,14.470362,5.5093813,-5.141408,4.905221,-0.38787723,1.2506802,6.7137256,5.2792754,-6.8304,15.105807,-7.8165207,-0.6851127,1.9245453,0.5940115,-10.266136,-5.1986537,4.364357,-3.3021262,-4.772028,-4.496421,13.67815,-4.0496035,10.618408,7.2004004,6.7504606,3.7659204,-7.8875775,4.3212924,14.308896,-8.510749,1.9233129,8.688334,-7.179206,7.9854484,2.372106,-6.8103175,-0.26192215,-5.975321,-2.4656572,-7.2329683,-7.6338706,13.401916,-6.33892,8.052346,-3.2505343,6.8010564,7.0187516,-0.9398553,-0.29650554,6.585211,-14.042766,-7.569021,11.7727,2.30308,-6.566438,-10.868103,14.258773,-1.0979136,7.4882684,-8.456667,-8.0538025,-12.879219,14.995688,-6.2815495,6.379267,-11.819046,-7.4416866,-0.15714148,-8.1849375,-8.51345,6.060783,-13.825836,-3.849234,9.333985,5.353977,6.4705253,12.812402,7.8956304,14.846837,-5.4292164,11.866552,-0.86004627,-2.3881452,8.68557,7.442868,-10.096609,-2.1923835,14.459437,-8.96385,10.215673,10.925927,2.9638333,7.024292,7.2383432,11.023252,5.157807,-6.455504,-7.12784,-4.435131,-5.8423147,-6.681747,-10.298941,3.2913191,12.925453,15.203183,5.8591394,1.8195244,2.537312,6.7514386,-7.7948833,7.156456,13.601034,-11.596854,1.5266714,-7.291646,-2.1284745,-13.516867,-7.311407,-4.503802,-6.604307,2.897324,6.1477838,4.965983,-5.1255546,-4.2206306,-5.604208,-7.951966,8.962586,-6.44148,4.1830087,-5.8728023,5.7460356,-8.617005,-7.151679,9.034666,14.432184,0.78520364,7.7724156,-0.76909244,4.087546,-9.011741,4.46617,-2.0566075,-0.37674987,-6.492923,6.711814,-3.4691274,4.111808,-9.648796,-6.09283,-3.5101826,-9.481536,-0.18902692,11.758916,11.292743,-0.009373029,11.969561,-0.86617905,-3.2270794,-5.4185295,-1.9149039,-3.5606725,-9.957462,-0.8824856,-10.844734,4.0063257,-2.3214483,-3.7017653,-4.1097546,7.1622143,9.663036,7.38564,5.96952,9.427335,3.39908,-6.320833,0.6109898,9.288559,-2.7221081,-4.502277,10.6369,8.47644,1.7950794,7.3231816,-7.7236867,-10.038621,10.319048,-14.8110075,-7.188269,13.109032,-5.363196,-2.2830734,-7.8856573,-8.977516,-3.3866367,6.9851875,-15.076039,6.4159274,-9.153567,-3.9622986,0.8105833,10.830704,-0.5799716,-2.1599479,-2.7241125,-4.636165,11.175993,12.016007,-5.1346216,-7.057061,9.582809,2.9626245,-2.347008,8.05573,-9.181127,3.7796767,14.044356,-14.568207,-3.9494731,8.151198,-4.184957,5.413963,-0.39573348,6.3341527,11.048425,11.610353,3.920318,4.745674,-5.0814366,7.3538756,-6.211381,-0.84575367,-5.9410086,6.7154946,12.885648,-15.2354,-7.8910356,4.1362867,6.253523,7.1582613,-7.64499,-6.7990627,6.771702,-1.2782263,-0.7479011,-4.7028484,-2.5211973,9.380013,16.19835,-8.230388,-2.4296412,-6.111615,13.925637,14.447627,-5.792068,8.42289,10.083451,0.7594789,7.6361465,-11.712054,0.93314934,8.8737335,3.4309957,12.867957,8.035217,-7.2253904,2.7905428,7.724728,8.806195,-0.23228066,6.4344993,-10.464413,-2.5234718,6.142035,-14.076413,-6.1132708,9.820829,-2.3646193,-2.3311412,-15.125788,-1.2981545,-2.7329044,7.215221,15.478022,-4.8410397,-8.112369,-7.2119474,-6.817357,-4.490848,-4.6594944,5.588067,-2.682086,13.741921,-3.4091647,-14.009508,6.215018,6.7967453,-6.987844,6.542748,-5.024412,-9.687599,-13.840449,-2.8241062,-12.959044,-11.032322,-0.67186666,7.4069686,0.41928694,-3.6374187,-7.2016807,10.87764,-2.4551632,14.167995,0.9736908,-7.1932955,1.6163439,-7.3952265,5.779548,-8.3141365,-1.05933,3.8707697,-4.010778,-7.648774,-14.952293,12.702276,5.762194,12.682803,3.5455186,6.145045,-13.95503,-11.76669,-11.129163,-8.545363,-6.1399665,-2.7024763,14.192486,9.087832,-12.473084,6.256433,-12.967948,-4.963967,-9.88859,-6.5143504,-5.3504133,9.257657,-5.2644734,10.273883,1.1051288,-12.744064,10.387431,-11.567236,-9.48559,-8.677761,-8.135434,-9.214203,-2.6108077,-7.2976956,-0.17084262,1.8857169,-4.166559,8.196517,11.315217,-6.2562156,-6.2284775,13.976322,-2.9785235,-6.746819,11.495076,-0.95643395,-0.04605606,-11.649336,9.511193,7.1255713,-1.966852,-12.104049,8.447183,-10.887135,15.594024,-5.9026346,11.742724,-14.088978,11.632023,11.5766,11.401536,11.072711,-12.032978,11.206371,-1.5938662,15.118666,-6.9482965,-4.11382,6.7053013,-2.4769976,14.019823,-6.2842236,8.377628,13.950196,1.3521266,-4.890768,-8.604906,-0.57074624,6.1275206,-6.6847677,-0.18467452,-6.8571343,-9.016216,-13.214145,3.7767744,-1.938987,-1.6087799,-11.864959,8.926818,4.0211506,-7.406142,-9.422226,1.9037961,-10.184403,-14.762973,-2.544981,-5.17695,8.898753,-9.133312,-3.5110009,4.251484,15.19487,10.571063,-7.8823347,12.7603035,-6.280075,-11.320661,-6.8465924,7.6072626,2.5140572,3.3187149,-4.51929,-3.7887971,-6.9892654,8.59755,10.24131,4.515715,8.055236,11.570877,12.0318575,-4.249416,1.503974,4.3132796,-4.0772023,6.625605,-4.3440495,-6.8301597,1.54673,1.169575,10.635799,2.7310297,6.6306133,8.167777,11.043685,9.745981,0.07936807,-8.153852,-1.0458684,-9.781821,8.028448,12.335126,10.057377,7.1093717,12.439664,8.514837,14.153084,-0.22699131,-2.2183914,6.429549,-6.804859,7.1322107,-7.004258,-7.27865,8.003937,14.111926,-9.117053,7.0250425,8.052194,8.680653,14.676101,1.6795148,-9.303255,-12.61576,5.5597196,-10.132957,-6.5118604,3.8775866,13.88843,7.3238072,4.4508247,-3.2605028,-0.17493646,-2.2738593,11.375425,6.7211785,-13.192607,1.5898349,6.958939,-0.7964327,-10.640395,-7.540783,16.108929,11.872514,-2.4005718,4.5423875,-3.2755668,11.807652,10.336494,4.3905954,14.524724,-9.361771,-6.040162,-2.8939116,-7.2140174,9.8602915,-5.736617,-3.3356924,-8.218197,-10.439869,-4.7584734,7.7218423,-0.7885603,6.404819,-3.0466883,10.829449,9.8588915,-2.4369032,10.542151,-13.809775,-7.9322524,-5.247663,-7.1820765,-0.4181077,-4.466116,2.9329262,7.5670977,-6.9533386,-9.047602,-7.2031426,10.747027,9.681047,0.86640686,7.896065,-9.22426,-2.5831387,11.510931,4.416621,-11.377491,9.695914,-5.5956388,-7.963787,11.250733,-4.5627637,4.799092,-5.114046,3.3193316,-7.2157965,-3.784252,11.743477,4.437632,-7.4961114,5.4800572,4.7810316,11.09518,7.4144073,-0.72009665,-4.7259765,7.758892,-4.945017,8.350398,-5.0539145,-6.4413047,-9.703279,-13.178418,1.1482593,3.7185261,-2.5822675,10.615618,8.162085,5.242802,14.413152,-6.689663,12.487374,6.9802303,-6.5751686,10.883362,-8.262356,-8.946784,6.8497806,8.078631,-3.020642,-0.6040742,-6.468712,5.729243,6.6043863,11.074691,-2.9076047,-0.9775861,-6.7181754,-14.439579,-0.74057126,2.8887746,-7.4810057,8.516838,4.1544633,4.899028,6.001785,12.284019,-9.831654,1.0503147,-3.5269523,-2.0188975,1.1782821,-12.064638,-6.5360765,-9.666375,-5.3157005,-6.481667,-4.3103256,-10.280668,-0.7339007,-8.263395,8.531684,-5.4412518,-0.21057698,-0.9216073,-4.1596375,9.768638,-8.299238,-6.687013,-4.333013,-8.419701,15.090348,7.981858,5.553617,-4.578169,-8.199029,10.81825,8.040791,0.52076787,1.8539029,-3.6038523,-6.4421244,10.785822,14.352495,-2.075537,-3.3163931,11.913564,-3.7183158,-7.1140604,4.895957,-1.8305982,-3.8778174,-6.309002,5.738923,-9.982596,-14.748553,10.347224,-3.0321877,8.869959,-6.4334154,-5.761137,-0.39843854,-1.1792244,-8.40074,-2.3086455,9.0604315,-6.1085725,10.571251,4.391175,-6.8980126,-4.300124,5.911028,-10.577468,-1.6395575,12.797407,7.111289,5.911704,6.841922,-8.515828,7.416895,9.270042,-7.3543844,7.648634,-13.310606,-2.3232102,-1.2219604,7.4751515,-13.614782,13.213727,7.415556,-2.2966475,-2.4382646,-2.8003023,1.0490582,-0.612251,-7.7466087,-10.686264,-9.041812,10.752936,-0.442704,7.4888153,-7.954296,6.9943566,-1.9384302,-0.3874723],\"y\":[-0.7195036,-13.761105,-1.5757904,2.8694236,-3.7040188,2.4751143,-5.14229,-1.7045045,4.190738,-5.967212,-1.786555,-2.1515396,3.0166738,12.22769,-4.045666,0.3489602,2.8432064,13.053199,3.619171,10.29673,4.254343,14.051987,11.9257765,4.27722,-7.2711835,-7.201557,-0.92457074,-3.3629663,-0.28470427,8.319559,-10.934867,3.61508,-10.483588,-3.5607746,-3.4130938,-7.27341,10.434801,6.2721925,-10.028733,2.4350278,12.899396,9.993668,-14.032133,4.010625,-2.7188485,0.62185514,-3.449648,-0.71517414,-0.7923326,-7.058664,2.5284998,-10.829327,7.230139,0.4707507,2.1496387,-4.058819,-4.6425576,-1.5238107,-2.8654544,-2.8170288,-2.426111,12.060141,5.336232,-2.9036045,11.433403,-0.83947086,-6.2583175,12.718543,-7.623182,12.6017,-0.085140646,-3.9353118,-3.5574248,2.7118175,-4.645109,-5.9767976,10.8169985,1.3336245,-11.716172,-6.547852,-6.2877426,-5.4234605,10.591266,13.77956,-3.3854594,-11.815828,13.607961,12.688045,-1.2457013,-10.484835,12.990984,-6.1661882,13.747891,-4.956484,-3.6405807,4.7954855,-14.9169655,16.836575,-13.186007,10.74828,-2.7109773,11.865523,16.26845,7.9042025,3.9429677,11.497527,-6.56141,-12.27374,11.66466,-4.1789656,14.839751,-3.5587032,10.898055,-11.885451,4.6267014,-12.6427355,5.0168834,6.4453115,2.6398818,-13.40472,-12.966656,-12.249845,17.23968,11.739179,-7.445048,16.655958,4.0753427,3.2382514,-13.033032,-9.09494,3.9363275,-4.170287,3.6374402,-3.664163,12.324217,-2.1614125,11.427139,4.163779,-12.204985,-10.900719,1.9578115,-6.3566074,7.5417504,-7.2511687,-14.197057,-5.4105024,10.853199,11.402302,-12.762154,-12.05018,15.168165,-5.191015,-11.994268,8.059953,13.745893,-15.125748,-14.549635,12.318094,11.326845,2.0917015,-6.0176864,5.634084,12.189229,-6.671916,2.7390428,12.103915,3.2968664,-1.2513224,-2.3894348,-6.9901743,11.8069515,17.081963,-6.262045,-2.127379,16.414886,11.948861,2.8927472,-2.3136983,-1.5325019,4.4855103,16.184916,-1.5198766,-2.6265335,8.556836,-0.74121094,5.3033404,10.490885,-2.4706583,9.30966,13.409703,-15.742534,-2.6791968,10.949937,4.4681015,-8.976617,5.204786,-7.062032,-1.4376464,-3.0060523,-7.300329,4.673866,-11.413015,5.1833067,-1.3825313,-1.6272486,3.4849787,8.232255,4.4024644,-1.9233294,4.8769083,15.604748,10.71315,1.2437925,-5.007054,-1.2705001,15.819519,-1.8617309,1.614035,1.5405527,-0.4661281,-1.3372926,15.39543,10.654274,11.351264,13.974374,8.431335,-14.469934,8.872478,-15.521468,10.514657,-4.8988986,13.444232,4.0302253,4.185973,-4.016647,15.556787,-1.6820004,13.808103,3.2951462,3.303661,-1.1373069,-8.351103,12.549892,13.542163,-1.773253,13.447635,-12.532951,10.833196,-6.3744526,-7.2638993,7.153596,17.410814,-3.659274,5.740207,-5.0320373,-0.8220498,-1.5143036,12.725288,-8.255294,-14.038486,-6.562386,6.030199,5.005709,-7.3166294,7.2677803,13.911297,4.4658933,14.768174,11.501322,-1.3654922,-11.886054,-3.8501532,14.398711,-6.363234,2.3874,-4.8050838,0.10536686,-2.6649199,16.143187,9.298257,-14.68304,12.496366,9.520186,-10.822475,-2.3895369,-8.750683,-5.660509,15.5138855,-8.889021,7.1355453,15.253531,-2.3861861,11.948615,-8.465346,13.687201,-6.393284,11.296664,-6.2974005,13.729095,-9.907151,-2.0428088,-15.068723,8.720188,10.0831375,11.412081,-3.8865013,-8.091913,12.48203,-15.953651,-0.66693026,-1.015309,-6.880066,-1.0652329,-2.9225953,14.766625,-2.0070288,13.688706,-13.992829,11.509362,-3.4848042,-11.95476,12.9558735,3.619713,-11.339173,-5.4257703,13.611571,4.874804,-5.2167134,-2.062551,-4.675346,-14.960901,4.624627,-3.8843381,-14.442739,12.642284,11.115994,16.345297,-2.0426693,-5.1541457,-7.3921914,-1.8426375,9.862489,2.6209087,-5.319219,9.682245,-1.730061,5.4802713,-7.071816,-4.988746,0.73198396,-11.484241,-10.884884,8.630638,-3.5953367,-5.620986,-5.171656,6.5353413,-8.545161,-7.8360744,-7.077203,-12.6650715,16.412947,6.5970325,-15.679712,3.3282728,11.999135,0.91686475,-4.9355526,12.835825,-1.8440397,-5.204542,-1.1910307,-7.4263425,11.629925,3.5136771,11.347587,-4.4263067,-4.361447,-3.8716552,-6.0394754,2.1386323,-1.4543133,12.356117,-4.2171493,16.791842,-4.0956173,11.846493,-12.576355,-7.987315,-9.928056,-6.125304,-14.840485,-5.49291,13.283024,-3.8743546,-3.6613562,11.315402,10.226552,13.38313,-6.050042,-13.062051,14.371971,-6.788444,3.4492278,8.873815,-14.756177,-6.999079,5.357949,1.4786344,-13.469616,-8.983681,14.837317,2.489134,11.899205,-12.954737,-13.755214,-8.020467,-13.07315,3.2963653,-1.6727376,14.1283245,-7.0610614,15.377155,-12.4886055,-2.4567058,12.727257,-4.7294817,11.555389,-2.6935618,-7.341119,14.218485,5.9970703,13.4341,-3.8630702,10.064064,-6.802642,12.555478,10.837015,11.73896,3.9362104,-13.095246,-12.2123785,4.2572994,-7.696756,-2.2569711,1.1358407,8.91616,-4.975716,11.736426,-2.4580574,-5.802149,-6.959219,-14.812391,-3.7784927,-6.925349,4.3729362,16.12208,-6.9509254,-11.897263,-11.525736,17.03845,-2.5178666,13.392981,-5.241392,-1.1786718,13.098179,-12.168669,8.917183,12.156479,11.91891,-13.202757,-5.5924287,13.62276,13.302751,11.125077,-8.9606905,4.933926,1.3233546,7.1678033,-9.040993,-6.8734035,-6.2185526,-4.110376,-1.7361547,5.259687,9.949547,16.79903,7.643403,-1.7167829,3.069743,-13.229097,11.423481,0.4360797,8.992988,12.478741,-0.83222795,-13.276374,1.40937,-4.261151,-10.701045,-12.343844,-2.9881935,13.794245,-12.55993,-2.4692628,3.3040423,10.725557,-6.5748935,7.7418914,-1.3421069,-2.86008,-15.126121,17.331793,-6.7430415,-6.216492,-5.7969136,-4.64267,10.496554,17.538336,-8.3290825,-4.2472305,-1.1682495,-7.5810256,-2.0048416,1.6249806,-5.6059394,8.2459955,-15.296592,16.807938,-2.4976485,16.230947,5.075152,2.1345716,13.261127,-6.7918215,9.718461,-13.566376,10.09718,-1.9470115,-1.4577074,-10.9837675,-5.6427236,-8.941697,-1.3683381,-6.820244,2.9894989,-5.3777466,3.0288103,10.859722,-4.893655,8.039716,13.938919,-1.6876973,11.306012,-4.5437503,15.230855,1.8834294,11.226357,2.4646263,-0.69508517,-7.678226,1.8147321,7.162919,-1.1792097,12.570684,8.615251,-6.4241724,-2.6017506,-1.8329628,-1.7308993,7.253874,-6.6160235,-1.2182976,0.548711,-1.721527,-0.43353966,-13.5811,-8.93262,-10.47731,-13.262371,-9.884147,12.560127,11.737077,-3.0724397,-15.730357,8.016055,-2.4370089,11.274736,-15.525389,0.99760616,-6.9278407,7.36883,5.838712,-1.0998545,4.550718,7.439626,-4.2919974,1.5872093,11.847625,9.916885,3.2892208,-2.1732724,10.30234,-5.5377192,12.072331,-12.330676,9.458309,4.833361,12.773937,-11.770372,-7.8588886,14.905443,-10.774593,-10.540664,9.140442,-5.7992167,15.655358,-0.87369365,13.884279,-2.3861506,6.586617,7.094358,7.34917,-11.404598,-2.2771869,-0.2206833,-5.702884,-3.136068,5.3170753,-5.1751194,6.6106706,-12.311341,-3.8044245,-1.252539,-10.2001915,-2.0073218,-11.515459,-1.8807076,11.571128,5.2611694,-1.6400884,4.5957627,5.186472,-6.1874895,4.4113145,-3.6561167,12.44885,-11.827874,11.072061,13.694267,-14.402411,11.57551,-1.1307209,3.374727,-7.7692256,-2.774833,10.623882,-10.814861,-2.503896,-4.3020124,8.768238,7.064067,-1.2048239,-1.3115386,-5.2294655,5.146737,2.5529563,5.135022,-1.4234052,-7.485307,-0.30968156,9.967766,-4.6475706,-2.1662893,1.6531792,-5.5511928,4.4388895,1.0286545,-4.4408584,-3.773396,-2.4001212,-14.547141,-1.7366248,-6.182553,-5.1366405,-7.415911,-5.7816973,-7.2379403,11.024904,-0.8813241,3.6895788,10.071269,2.0755897,-7.012221,-7.073682,2.0932946,-6.4625793,8.588842,11.818811,11.2673,-11.972849,8.813407,-3.6180727,11.231739,-13.219817,3.9475887,10.276096,3.938336,6.378128,-7.9235106,-3.785187,11.931746,-7.0418577,-11.269826,11.469838,-3.6527727,2.4715924,5.586867,-4.200417,-5.537549,3.6122565,-15.75315,16.972977,12.012638,16.881752,-10.533522,-2.144934,2.2269242,4.187585,1.7880831,15.591016,-1.7448158,-2.2101488,-3.0957308,-12.271106,11.626662,14.356802,-13.218061,-5.974293,-1.1697863,-11.481839,14.696847,14.048743,-0.12121557,13.279192,-6.4115205,-5.8503437,1.2241489,-3.160048,8.8550205,-13.034684,-7.397973,4.6121564,14.082616,-6.744513,-2.2380817,-6.501564,-2.8269212,0.5549095,-6.361996,8.26696,-13.184844,11.746252,-7.824501,-1.8179338,-15.167861,-14.873508,-2.2591317,-3.9977465,5.467263,-6.5042253,-2.5343819,-1.5492418,-4.670631,13.519654,7.117906,5.7235203,15.235109,-3.79523,-10.194286,13.967632,-5.0738635,17.02542,15.102899,-12.886577,8.569023,-13.235869,2.0264711,-7.1652746,7.7513127,8.747269,-3.6758146,10.719731,-3.7953913,-15.431393,-2.375,-5.9633675,-6.93673,12.885803,-16.357214,-2.2894607,-1.7013638,17.07837,-1.0546143,3.478391,-7.2223964,-14.106579,-8.843423,2.1298852,-4.9708185,11.130357,1.879644,-3.7928493,-9.577486,16.931765,11.657628,16.348778,-0.5120877,0.6761004,3.4029286,-1.0149362,-3.1464686,9.091078,-11.332074,-7.3543935,-15.273028,-6.0066004,-12.768853,12.773829,1.0724726,-10.844628,-6.4347,4.984958,0.11749962,-3.3546917,12.455449,-1.8654317,5.4580097,-1.8592592,-4.736913,13.256757,7.8395667,3.144015,-12.334493,-14.401328,1.1641154,-8.913912,12.92467,-11.588068,14.065863,1.9834069,-10.815602,-5.256843,13.45865,-7.716532,17.484589,16.462221,2.60701,-6.870625,-8.170785,-9.967628,-6.5077252,-12.9592705,-5.6231675,-8.121313,4.1603575,6.018457,8.309328,12.089503,15.327991,-2.4607198,-5.1582117,13.724514,14.4221525,-4.885563,-5.591058,-3.6589677,15.130521,-10.421629,-2.0111213,-5.7225237,-4.2217045,-5.1396337,2.9198248,-1.533867,-7.0310445,-10.732209,12.814209,-1.3640939,-0.16402762,10.851274,8.881176,-2.2961318,9.56247,8.673637,14.406313,-11.181923,12.332746,16.544796,18.096582,15.515273,-3.167257,7.4106927,9.120914,-12.870784,10.386155,10.842834,3.674223,-2.3774302,-4.2129784,-7.4545064,-6.2556067,-13.077458,-4.565151,11.246953,5.1045256,-2.3076205,-9.106906,-6.306609,-7.0914607,-10.320129,3.9030712,-13.158707,-12.562786,-12.086538,-5.2452536,-3.1474912,-2.0453718,14.058303,-11.964006,5.312468,-4.0159764,14.051101,9.041141,10.1493225,11.013405,-15.005402,-1.5706769,-1.4895217,-1.0060661,12.195739,-2.0464857,-12.120915,1.7242469,11.71625,10.748367,-13.27501,-12.281481,16.21827,4.1897864,7.095323,-1.5591846,-0.51642156,3.5942929,-12.355952,-7.8839707,-6.9801993,-5.0726533,2.189816,-12.542374,14.207112,-6.574574,-2.6180646,10.997062,-10.566811,-15.415407,14.984863,-4.695193,11.349682,-3.8604925,0.92473596,13.131488,-1.6468147,5.139273,-6.321753,13.143009,-8.746934,0.53524464,5.876853,-5.5758953,-7.796263,-2.7658336,8.922063,-5.7037177,0.7825869,-13.696236,-12.874716,-1.2130338,11.803242,-7.6263785,2.5312715,-3.7920415,-3.7502277,-1.6228381,-6.651171,-2.1490874,-8.227634,-7.0149145,-4.318438,-7.5935364],\"z\":[-0.6778939,9.522507,4.9733334,4.9322276,6.4547048,5.899972,-4.8682275,-11.616978,4.9425874,-0.15716842,-9.720082,-11.963264,1.776408,-4.005077,-9.672139,11.052746,1.7968252,-5.625581,2.8527625,-7.05958,6.544992,0.3097223,-4.550441,5.2925963,8.323713,-9.216674,5.591324,-4.058735,-11.263734,-8.420795,5.814404,8.795383,5.206295,-10.854805,-8.054063,-9.514926,-6.6767764,6.383104,2.886707,6.748306,-1.4797246,-6.5916195,6.178933,7.299729,-9.365716,11.310364,-9.700296,-5.4893703,5.4066772,-15.863608,10.6435,0.013791796,8.1131115,11.32279,6.6529007,0.89987606,0.20048821,-4.6505284,-10.54264,-8.9256,-6.1713943,-3.3600156,2.3443503,-11.0266695,-0.44052178,3.8799398,-7.341564,-5.0198402,4.3587904,-7.677646,-10.142594,9.535962,-0.7192399,3.6205,-12.586781,-11.116811,-6.156228,8.59198,3.2063117,-2.1711867,-2.5252078,-10.519309,-4.7071967,-2.8516083,-3.6253638,9.304563,-2.6989062,-5.6684823,-5.9784727,1.1815956,1.7684053,10.421645,-1.1404464,-4.2065034,-1.4179285,1.7276518,5.025105,-3.8362315,5.5967917,-5.9706683,0.19544536,-3.4354222,-3.799747,8.242893,2.2470207,1.7654684,-13.6265545,9.342165,5.1676555,8.258974,2.792966,0.10818083,-10.4918785,2.5974905,0.42238224,1.5350869,8.835699,9.369537,8.984336,5.7298875,1.6894741,7.1246676,-5.8715615,-1.9694223,-11.455505,-5.0450926,7.794817,7.5887823,8.363319,-12.217494,6.783906,-4.97335,2.6988802,-3.757612,-3.8302062,-2.2107725,-4.8683615,4.0674973,9.200547,7.844817,9.426218,-10.853322,7.7752614,5.0900097,5.8577943,-2.5128055,-9.118159,-4.017746,9.458845,6.4230614,2.3973854,-11.420369,8.804948,7.126452,0.4860633,5.4764767,4.733427,-2.0254786,3.1417193,3.489752,-2.3057747,7.487191,2.5972154,-0.65257883,7.5573306,-2.9952757,3.7222247,-10.802514,-8.417437,-12.166945,-1.5207834,-3.3711424,8.562404,6.155554,-1.711384,-4.6706247,2.9924572,6.514182,-2.3703213,4.173671,-1.7566769,-8.908525,-1.7287868,-9.223776,-11.243859,8.602881,-8.704979,-7.166437,6.6828446,3.6152844,6.414278,6.654745,-10.547722,1.0147487,-14.256959,9.937066,-12.274437,-4.053802,0.5777711,-11.2229,6.693069,7.2238355,7.6934576,-10.449571,5.99955,8.589699,4.9879227,6.613067,-8.99169,8.796495,-1.8856822,-8.998467,7.2990723,-10.665102,-6.4100733,-2.058007,-2.947398,9.476295,8.479423,-4.3085713,5.7166266,-4.9712973,-5.03145,5.0888495,-3.6085086,5.174886,5.4119544,6.0141478,7.784161,-10.196312,-3.7821486,-1.1197381,3.8356254,4.2243514,-3.817674,-4.9706492,-2.781629,3.9027076,7.577025,0.5509527,-6.3090305,-12.536861,-6.1391883,-5.361153,-10.804342,-3.6678007,3.6538057,3.8205314,-4.1667953,5.585593,5.828203,-2.5520785,9.55227,7.409955,-3.680452,-4.489997,-1.2296628,-4.747709,8.253174,6.5207644,6.12102,6.4299626,1.0323888,-11.628104,6.2718606,-5.488782,3.561004,-3.6354065,4.8302093,-3.8102484,9.340887,-2.0391939,3.0831873,6.227574,7.905313,-6.077839,8.571906,6.6835666,-5.5764694,6.8952312,5.909186,-5.9856396,6.632526,1.7933207,6.829161,-13.326382,-14.962678,-5.265683,-15.067447,5.405389,1.8835452,-4.057062,-1.9586837,-13.725063,-2.8456004,9.239617,-8.572406,-0.747356,-1.6006948,2.7033768,-1.149989,7.0279317,-7.337738,-7.917775,-7.6226063,-11.425633,-12.38753,3.2453384,6.8075504,-11.260359,-11.071455,-5.607681,-8.659176,5.690199,-1.3471795,-0.5597257,-2.0712159,7.8517585,3.74241,-2.0552666,9.280208,3.265649,8.278207,8.190951,-0.53279084,1.432529,3.446468,10.466051,-8.750855,9.567938,8.375755,2.6259441,-6.4787173,4.81498,-5.646155,-6.2490835,-5.1126575,-2.5552986,8.042936,7.255686,-2.430766,5.9151,4.415574,-7.1206613,-9.410179,-9.523084,8.901528,-4.096971,9.218443,9.914969,7.1547775,2.1277614,7.8916016,-1.9102346,-14.98688,-2.9021122,7.174483,-11.979204,7.182809,-10.431238,9.500568,-4.3401275,7.609217,6.4166975,8.422415,2.528849,7.526006,-1.8473898,-4.328297,-4.2342744,-13.91197,-6.2739377,5.040848,-7.7602725,8.19122,-1.4653318,-12.163206,9.3080225,-1.7962135,-10.368265,8.487122,-3.7534895,4.703014,-1.2470219,-5.2098413,-4.362177,-1.7149506,5.9842887,-11.566186,1.4667548,-14.802453,4.852297,-10.216935,4.2908516,-4.187733,-1.8687457,1.728206,-7.701146,0.7230882,-3.6484494,5.849266,-0.7524088,-5.8182054,8.874993,-8.842775,8.416142,6.453466,7.282888,3.1733196,10.032237,-13.628215,2.2102277,8.390098,3.2982898,8.894279,5.9614086,-14.915856,8.453703,9.6930275,-9.590161,1.1465057,-12.931721,-4.9304276,8.814458,-8.594362,-4.3271537,-3.9440935,-7.7371197,-0.48286498,5.658322,3.418867,8.82695,-2.9153128,9.8981285,-6.4399805,-12.155097,-4.555716,-5.4135404,5.014962,1.3019114,4.0601363,3.2530944,0.9252921,5.9451656,-5.653196,7.6143603,-7.4142838,-6.1220946,-5.822188,-9.858871,-14.376927,4.979171,6.2372947,-11.634142,10.538773,7.9253697,-0.13100915,5.5348516,3.1435962,2.606831,-5.658265,7.2327194,-2.6073976,-2.1376479,-4.9810677,2.1209962,2.5590076,-8.082138,-3.220135,-6.116363,1.9385985,-3.6035972,-2.5789607,3.3697474,-1.5605884,-14.481069,9.700084,7.8369775,6.4007125,-13.391997,-4.375228,-14.307251,8.628946,-9.199064,8.865505,-5.7048087,-2.6737633,5.582426,-2.02291,0.92912376,3.1590478,-10.788541,8.202238,-6.770822,-6.0775943,-10.08624,9.575679,8.77728,-6.195751,1.0052308,9.24842,-4.06266,1.3352356,7.33493,-0.64898986,0.6668252,3.9657948,-4.814038,5.217294,-8.762442,6.795271,7.415336,-4.668871,7.7585573,-0.8716945,-6.0748043,-7.8792486,3.6512194,-2.0785897,-12.063569,-0.030095981,-10.536822,8.906256,-8.812943,8.937089,-2.9658248,5.6136093,7.1389375,-1.4852859,-0.19779234,-3.6828291,3.9739788,3.683917,-3.0109975,9.787148,-8.859656,10.00054,-5.1563263,-1.775469,-3.77212,8.959873,9.648379,-13.664438,-2.232836,-3.8299596,4.090971,-3.0650096,8.514179,-8.528643,-2.9526517,7.430128,2.0554528,6.3990197,3.2199948,-6.172781,-4.105173,2.8994825,4.478628,9.536518,-4.331134,5.81678,8.332727,8.609978,-9.234891,-3.5321543,4.335946,-15.332186,-3.9398687,-10.360284,-8.927325,6.3014402,10.095398,-11.519097,9.765256,-2.8438618,-10.729445,8.185047,-15.215779,1.9217823,1.6091754,1.6369622,3.9800391,-7.36247,-3.1236866,6.841683,5.130456,-0.706632,-1.7688843,7.742836,7.7000837,-14.092477,8.053326,6.2568464,-11.425652,8.531983,7.263782,9.756251,7.4868946,-7.499558,-6.0103483,3.9779966,-5.92499,-9.540339,-3.9334552,-8.584289,9.321183,-9.251329,2.2881784,-3.7366185,8.348036,8.675199,1.8283627,2.0194728,1.8522323,5.9299297,-6.0068264,-0.96378934,-5.9728913,-1.9173535,-0.44083926,7.7333455,8.018146,6.140449,6.6195083,-8.685471,-10.518844,-2.522962,7.1370525,7.5121865,-1.7548943,5.810117,9.903901,-12.530382,-10.322574,1.0623852,-1.6409582,0.8695502,-4.639386,-10.692117,8.961932,5.8803954,8.46303,9.643035,-10.740009,2.2120671,-11.524784,-6.579519,2.6499546,-6.895368,3.0607252,5.443322,-2.7947912,-4.310475,3.2061837,-15.4076605,-1.4672748,-5.356451,2.3481598,-4.792564,8.305389,-7.7052193,7.427538,-4.932464,-1.1000568,9.704031,9.4368105,9.141488,9.20641,-3.9776795,-15.464738,-3.9668477,6.2993927,-7.8211217,-3.0758648,7.808626,-4.9642234,9.123395,9.874296,9.685558,-3.8613188,-8.119272,6.323787,-3.002213,8.573544,-5.668478,-15.38909,-2.6188068,-3.6590226,-10.313109,-11.317007,2.1461737,-8.979642,8.239449,-11.227153,10.295469,2.873853,-9.960775,5.230139,2.594241,-8.361774,7.717147,5.404593,-4.8822246,-3.5826275,3.728787,7.479955,-9.751438,2.5813885,7.933507,8.745613,-10.429518,-1.9392036,-12.99882,9.179747,-1.0156056,0.1402497,5.6867704,4.99135,-0.48996684,-12.784783,2.8394594,8.941064,-1.8432295,-11.045147,-3.2218146,5.245366,-9.366015,2.1971319,7.9933796,6.094295,-2.6403358,7.531591,-3.1409702,-2.9184487,7.2405224,-10.62201,3.1243486,3.8049207,-1.2398291,-8.218237,6.5382223,1.8936951,1.8379672,8.709241,0.63971114,-0.6074084,-0.51257044,9.865705,6.2601194,-7.4085565,9.510377,5.020696,8.324808,-3.9917877,-4.534497,5.963479,-2.191472,-6.7495103,8.788553,-4.6138415,-8.757855,5.5001297,-1.5626665,-14.866967,-0.6757627,7.2190485,8.346285,6.8556986,-3.7351816,0.6393241,-2.4747548,-1.6646619,-4.4959173,-3.7178748,1.387804,8.242812,7.494307,-0.7438136,-12.478501,2.9852338,4.477719,-2.2691529,-3.443016,2.379736,2.9446507,-8.187552,6.1775365,8.16577,-0.692596,5.518535,-9.404924,-2.5656364,-9.875925,-11.5664215,8.028322,-2.3125017,-3.980532,5.990581,4.429274,6.389443,-5.2787504,-3.1036541,-1.546297,-2.0758004,0.74461955,-15.86562,6.289246,-13.041814,9.753139,-13.897173,-5.3247175,2.3771913,-12.060262,1.3390288,-3.2583826,-6.145084,-3.9547908,-11.155761,6.417654,8.779043,-9.173365,5.589011,4.478105,8.0964985,-12.453108,6.32394,9.704185,2.6718254,2.505339,8.2315,7.9759946,-10.006239,2.0710313,8.223087,5.938572,-8.040186,7.5690427,0.72056437,-9.118517,-6.247599,4.0558577,8.08028,8.501201,8.999076,7.646015,8.866479,-12.348724,4.443359,1.4379525,-1.7170987,3.1318073,2.1414099,-6.614549,3.915082,-11.285807,-4.852399,-2.431897,9.797609,-1.1863303,8.554965,2.1285641,-2.0973935,8.55624,-0.23027425,-12.410175,3.7991889,9.537167,5.4897456,-8.671626,1.1269734,-9.893495,-5.2861447,-2.9162376,2.840743,-1.8960177,-13.709111,-4.2260103,-1.2649758,1.2568649,6.469485,-10.640408,-11.099547,-3.2284725,8.824668,-11.107669,10.524859,2.909699,-1.9607254,-1.1752212,7.778153,-5.0125895,-8.644078,-8.383637,6.2993083,-9.321129,3.1767642,2.448574,-4.5404677,-1.1116121,-2.322375,-4.8202763,-6.5956717,7.9628735,-8.681297,2.1306872,-4.7175665,-8.624935,8.351344,-8.473083,-12.689766,-14.329773,-13.735222,5.508799,-12.664768,-9.525215,0.54507816,-1.2990222,-12.395145,9.064219,10.628464,1.90227,9.579728,6.2606936,3.3062217,9.474671,-10.308843,-1.6934028,-1.356671,-1.6140652,9.676128,1.0899757,-6.026086,-2.3282003,-7.6023436,-8.049286,-6.3946705,5.2069798,6.7232385,-2.218029,-9.238511,-7.132778,-7.3083863,3.2654505,3.8286674,3.6493723,-8.753174,3.308733,3.7376816,-5.25873,8.9692335,6.826263,-3.242789,-11.2502985,8.629316,5.9884553,-14.797973,10.417699,8.37187,2.0890872,7.374887,-4.907098,-13.060738,6.073574,3.7847679,2.0594616,7.638769,-4.048156,-11.268744,-8.706762,-6.5224524,8.52101,3.915047,-2.8441424,0.236421,-2.972141,-4.7119484,-13.641204,9.008272,8.378294,9.439583,8.649372,0.4262937,4.8787127,-3.3056352,9.17486,6.713384,7.288043,-9.843971,-10.038017,5.5994024,3.593124,-11.791471,-11.414893,6.9690537,8.611728,-1.6742243,-14.178263,-0.9814382,9.324769,5.230548],\"type\":\"scatter3d\"}],                        {\"template\":{\"data\":{\"histogram2dcontour\":[{\"type\":\"histogram2dcontour\",\"colorbar\":{\"outlinewidth\":0,\"ticks\":\"\"},\"colorscale\":[[0.0,\"#0d0887\"],[0.1111111111111111,\"#46039f\"],[0.2222222222222222,\"#7201a8\"],[0.3333333333333333,\"#9c179e\"],[0.4444444444444444,\"#bd3786\"],[0.5555555555555556,\"#d8576b\"],[0.6666666666666666,\"#ed7953\"],[0.7777777777777778,\"#fb9f3a\"],[0.8888888888888888,\"#fdca26\"],[1.0,\"#f0f921\"]]}],\"choropleth\":[{\"type\":\"choropleth\",\"colorbar\":{\"outlinewidth\":0,\"ticks\":\"\"}}],\"histogram2d\":[{\"type\":\"histogram2d\",\"colorbar\":{\"outlinewidth\":0,\"ticks\":\"\"},\"colorscale\":[[0.0,\"#0d0887\"],[0.1111111111111111,\"#46039f\"],[0.2222222222222222,\"#7201a8\"],[0.3333333333333333,\"#9c179e\"],[0.4444444444444444,\"#bd3786\"],[0.5555555555555556,\"#d8576b\"],[0.6666666666666666,\"#ed7953\"],[0.7777777777777778,\"#fb9f3a\"],[0.8888888888888888,\"#fdca26\"],[1.0,\"#f0f921\"]]}],\"heatmap\":[{\"type\":\"heatmap\",\"colorbar\":{\"outlinewidth\":0,\"ticks\":\"\"},\"colorscale\":[[0.0,\"#0d0887\"],[0.1111111111111111,\"#46039f\"],[0.2222222222222222,\"#7201a8\"],[0.3333333333333333,\"#9c179e\"],[0.4444444444444444,\"#bd3786\"],[0.5555555555555556,\"#d8576b\"],[0.6666666666666666,\"#ed7953\"],[0.7777777777777778,\"#fb9f3a\"],[0.8888888888888888,\"#fdca26\"],[1.0,\"#f0f921\"]]}],\"heatmapgl\":[{\"type\":\"heatmapgl\",\"colorbar\":{\"outlinewidth\":0,\"ticks\":\"\"},\"colorscale\":[[0.0,\"#0d0887\"],[0.1111111111111111,\"#46039f\"],[0.2222222222222222,\"#7201a8\"],[0.3333333333333333,\"#9c179e\"],[0.4444444444444444,\"#bd3786\"],[0.5555555555555556,\"#d8576b\"],[0.6666666666666666,\"#ed7953\"],[0.7777777777777778,\"#fb9f3a\"],[0.8888888888888888,\"#fdca26\"],[1.0,\"#f0f921\"]]}],\"contourcarpet\":[{\"type\":\"contourcarpet\",\"colorbar\":{\"outlinewidth\":0,\"ticks\":\"\"}}],\"contour\":[{\"type\":\"contour\",\"colorbar\":{\"outlinewidth\":0,\"ticks\":\"\"},\"colorscale\":[[0.0,\"#0d0887\"],[0.1111111111111111,\"#46039f\"],[0.2222222222222222,\"#7201a8\"],[0.3333333333333333,\"#9c179e\"],[0.4444444444444444,\"#bd3786\"],[0.5555555555555556,\"#d8576b\"],[0.6666666666666666,\"#ed7953\"],[0.7777777777777778,\"#fb9f3a\"],[0.8888888888888888,\"#fdca26\"],[1.0,\"#f0f921\"]]}],\"surface\":[{\"type\":\"surface\",\"colorbar\":{\"outlinewidth\":0,\"ticks\":\"\"},\"colorscale\":[[0.0,\"#0d0887\"],[0.1111111111111111,\"#46039f\"],[0.2222222222222222,\"#7201a8\"],[0.3333333333333333,\"#9c179e\"],[0.4444444444444444,\"#bd3786\"],[0.5555555555555556,\"#d8576b\"],[0.6666666666666666,\"#ed7953\"],[0.7777777777777778,\"#fb9f3a\"],[0.8888888888888888,\"#fdca26\"],[1.0,\"#f0f921\"]]}],\"mesh3d\":[{\"type\":\"mesh3d\",\"colorbar\":{\"outlinewidth\":0,\"ticks\":\"\"}}],\"scatter\":[{\"fillpattern\":{\"fillmode\":\"overlay\",\"size\":10,\"solidity\":0.2},\"type\":\"scatter\"}],\"parcoords\":[{\"type\":\"parcoords\",\"line\":{\"colorbar\":{\"outlinewidth\":0,\"ticks\":\"\"}}}],\"scatterpolargl\":[{\"type\":\"scatterpolargl\",\"marker\":{\"colorbar\":{\"outlinewidth\":0,\"ticks\":\"\"}}}],\"bar\":[{\"error_x\":{\"color\":\"#2a3f5f\"},\"error_y\":{\"color\":\"#2a3f5f\"},\"marker\":{\"line\":{\"color\":\"#E5ECF6\",\"width\":0.5},\"pattern\":{\"fillmode\":\"overlay\",\"size\":10,\"solidity\":0.2}},\"type\":\"bar\"}],\"scattergeo\":[{\"type\":\"scattergeo\",\"marker\":{\"colorbar\":{\"outlinewidth\":0,\"ticks\":\"\"}}}],\"scatterpolar\":[{\"type\":\"scatterpolar\",\"marker\":{\"colorbar\":{\"outlinewidth\":0,\"ticks\":\"\"}}}],\"histogram\":[{\"marker\":{\"pattern\":{\"fillmode\":\"overlay\",\"size\":10,\"solidity\":0.2}},\"type\":\"histogram\"}],\"scattergl\":[{\"type\":\"scattergl\",\"marker\":{\"colorbar\":{\"outlinewidth\":0,\"ticks\":\"\"}}}],\"scatter3d\":[{\"type\":\"scatter3d\",\"line\":{\"colorbar\":{\"outlinewidth\":0,\"ticks\":\"\"}},\"marker\":{\"colorbar\":{\"outlinewidth\":0,\"ticks\":\"\"}}}],\"scattermapbox\":[{\"type\":\"scattermapbox\",\"marker\":{\"colorbar\":{\"outlinewidth\":0,\"ticks\":\"\"}}}],\"scatterternary\":[{\"type\":\"scatterternary\",\"marker\":{\"colorbar\":{\"outlinewidth\":0,\"ticks\":\"\"}}}],\"scattercarpet\":[{\"type\":\"scattercarpet\",\"marker\":{\"colorbar\":{\"outlinewidth\":0,\"ticks\":\"\"}}}],\"carpet\":[{\"aaxis\":{\"endlinecolor\":\"#2a3f5f\",\"gridcolor\":\"white\",\"linecolor\":\"white\",\"minorgridcolor\":\"white\",\"startlinecolor\":\"#2a3f5f\"},\"baxis\":{\"endlinecolor\":\"#2a3f5f\",\"gridcolor\":\"white\",\"linecolor\":\"white\",\"minorgridcolor\":\"white\",\"startlinecolor\":\"#2a3f5f\"},\"type\":\"carpet\"}],\"table\":[{\"cells\":{\"fill\":{\"color\":\"#EBF0F8\"},\"line\":{\"color\":\"white\"}},\"header\":{\"fill\":{\"color\":\"#C8D4E3\"},\"line\":{\"color\":\"white\"}},\"type\":\"table\"}],\"barpolar\":[{\"marker\":{\"line\":{\"color\":\"#E5ECF6\",\"width\":0.5},\"pattern\":{\"fillmode\":\"overlay\",\"size\":10,\"solidity\":0.2}},\"type\":\"barpolar\"}],\"pie\":[{\"automargin\":true,\"type\":\"pie\"}]},\"layout\":{\"autotypenumbers\":\"strict\",\"colorway\":[\"#636efa\",\"#EF553B\",\"#00cc96\",\"#ab63fa\",\"#FFA15A\",\"#19d3f3\",\"#FF6692\",\"#B6E880\",\"#FF97FF\",\"#FECB52\"],\"font\":{\"color\":\"#2a3f5f\"},\"hovermode\":\"closest\",\"hoverlabel\":{\"align\":\"left\"},\"paper_bgcolor\":\"white\",\"plot_bgcolor\":\"#E5ECF6\",\"polar\":{\"bgcolor\":\"#E5ECF6\",\"angularaxis\":{\"gridcolor\":\"white\",\"linecolor\":\"white\",\"ticks\":\"\"},\"radialaxis\":{\"gridcolor\":\"white\",\"linecolor\":\"white\",\"ticks\":\"\"}},\"ternary\":{\"bgcolor\":\"#E5ECF6\",\"aaxis\":{\"gridcolor\":\"white\",\"linecolor\":\"white\",\"ticks\":\"\"},\"baxis\":{\"gridcolor\":\"white\",\"linecolor\":\"white\",\"ticks\":\"\"},\"caxis\":{\"gridcolor\":\"white\",\"linecolor\":\"white\",\"ticks\":\"\"}},\"coloraxis\":{\"colorbar\":{\"outlinewidth\":0,\"ticks\":\"\"}},\"colorscale\":{\"sequential\":[[0.0,\"#0d0887\"],[0.1111111111111111,\"#46039f\"],[0.2222222222222222,\"#7201a8\"],[0.3333333333333333,\"#9c179e\"],[0.4444444444444444,\"#bd3786\"],[0.5555555555555556,\"#d8576b\"],[0.6666666666666666,\"#ed7953\"],[0.7777777777777778,\"#fb9f3a\"],[0.8888888888888888,\"#fdca26\"],[1.0,\"#f0f921\"]],\"sequentialminus\":[[0.0,\"#0d0887\"],[0.1111111111111111,\"#46039f\"],[0.2222222222222222,\"#7201a8\"],[0.3333333333333333,\"#9c179e\"],[0.4444444444444444,\"#bd3786\"],[0.5555555555555556,\"#d8576b\"],[0.6666666666666666,\"#ed7953\"],[0.7777777777777778,\"#fb9f3a\"],[0.8888888888888888,\"#fdca26\"],[1.0,\"#f0f921\"]],\"diverging\":[[0,\"#8e0152\"],[0.1,\"#c51b7d\"],[0.2,\"#de77ae\"],[0.3,\"#f1b6da\"],[0.4,\"#fde0ef\"],[0.5,\"#f7f7f7\"],[0.6,\"#e6f5d0\"],[0.7,\"#b8e186\"],[0.8,\"#7fbc41\"],[0.9,\"#4d9221\"],[1,\"#276419\"]]},\"xaxis\":{\"gridcolor\":\"white\",\"linecolor\":\"white\",\"ticks\":\"\",\"title\":{\"standoff\":15},\"zerolinecolor\":\"white\",\"automargin\":true,\"zerolinewidth\":2},\"yaxis\":{\"gridcolor\":\"white\",\"linecolor\":\"white\",\"ticks\":\"\",\"title\":{\"standoff\":15},\"zerolinecolor\":\"white\",\"automargin\":true,\"zerolinewidth\":2},\"scene\":{\"xaxis\":{\"backgroundcolor\":\"#E5ECF6\",\"gridcolor\":\"white\",\"linecolor\":\"white\",\"showbackground\":true,\"ticks\":\"\",\"zerolinecolor\":\"white\",\"gridwidth\":2},\"yaxis\":{\"backgroundcolor\":\"#E5ECF6\",\"gridcolor\":\"white\",\"linecolor\":\"white\",\"showbackground\":true,\"ticks\":\"\",\"zerolinecolor\":\"white\",\"gridwidth\":2},\"zaxis\":{\"backgroundcolor\":\"#E5ECF6\",\"gridcolor\":\"white\",\"linecolor\":\"white\",\"showbackground\":true,\"ticks\":\"\",\"zerolinecolor\":\"white\",\"gridwidth\":2}},\"shapedefaults\":{\"line\":{\"color\":\"#2a3f5f\"}},\"annotationdefaults\":{\"arrowcolor\":\"#2a3f5f\",\"arrowhead\":0,\"arrowwidth\":1},\"geo\":{\"bgcolor\":\"white\",\"landcolor\":\"#E5ECF6\",\"subunitcolor\":\"white\",\"showland\":true,\"showlakes\":true,\"lakecolor\":\"white\"},\"title\":{\"x\":0.05},\"mapbox\":{\"style\":\"light\"}}},\"scene\":{\"domain\":{\"x\":[0.0,1.0],\"y\":[0.0,1.0]},\"xaxis\":{\"title\":{\"text\":\"0\"}},\"yaxis\":{\"title\":{\"text\":\"1\"}},\"zaxis\":{\"title\":{\"text\":\"2\"}}},\"coloraxis\":{\"colorbar\":{\"title\":{\"text\":\"Anomaly\"}},\"colorscale\":[[0.0,\"#0d0887\"],[0.1111111111111111,\"#46039f\"],[0.2222222222222222,\"#7201a8\"],[0.3333333333333333,\"#9c179e\"],[0.4444444444444444,\"#bd3786\"],[0.5555555555555556,\"#d8576b\"],[0.6666666666666666,\"#ed7953\"],[0.7777777777777778,\"#fb9f3a\"],[0.8888888888888888,\"#fdca26\"],[1.0,\"#f0f921\"]]},\"legend\":{\"tracegroupgap\":0},\"title\":{\"text\":\"3d TSNE Plot for Outliers\"},\"height\":800,\"width\":900},                        {\"responsive\": true}                    ).then(function(){\n",
       "                            \n",
       "var gd = document.getElementById('37a3b428-19b3-447b-a209-8d9a1d21bad2');\n",
       "var x = new MutationObserver(function (mutations, observer) {{\n",
       "        var display = window.getComputedStyle(gd).display;\n",
       "        if (!display || display === 'none') {{\n",
       "            console.log([gd, 'removed!']);\n",
       "            Plotly.purge(gd);\n",
       "            observer.disconnect();\n",
       "        }}\n",
       "}});\n",
       "\n",
       "// Listen for the removal of the full notebook cells\n",
       "var notebookContainer = gd.closest('#notebook-container');\n",
       "if (notebookContainer) {{\n",
       "    x.observe(notebookContainer, {childList: true});\n",
       "}}\n",
       "\n",
       "// Listen for the clearing of the current output cell\n",
       "var outputEl = gd.closest('.output');\n",
       "if (outputEl) {{\n",
       "    x.observe(outputEl, {childList: true});\n",
       "}}\n",
       "\n",
       "                        })                };                });            </script>        </div>"
      ]
     },
     "metadata": {},
     "output_type": "display_data"
    }
   ],
   "source": [
    "# tsne plot of anomalies\n",
    "plot_model(iforest, plot = 'tsne')"
   ]
  },
  {
   "cell_type": "code",
   "execution_count": 79,
   "id": "54389270",
   "metadata": {},
   "outputs": [],
   "source": [
    "# umap plot of anomalies (you need to install umap library for this separately)\n",
    "# plot_model(iforest, plot = 'umap')"
   ]
  },
  {
   "cell_type": "code",
   "execution_count": 80,
   "id": "54b09b8e",
   "metadata": {},
   "outputs": [],
   "source": [
    "# help(plot_model)"
   ]
  },
  {
   "cell_type": "markdown",
   "id": "ed00202c",
   "metadata": {},
   "source": [
    "## ✅ Deploy Model\n",
    "This function deploys the entire ML pipeline on the cloud.\n",
    "\n",
    "**AWS:**  When deploying model on AWS S3, environment variables must be configured using the command-line interface. To configure AWS environment variables, type `aws configure` in terminal. The following information is required which can be generated using the Identity and Access Management (IAM) portal of your amazon console account:\n",
    "\n",
    "- AWS Access Key ID\n",
    "- AWS Secret Key Access\n",
    "- Default Region Name (can be seen under Global settings on your AWS console)\n",
    "- Default output format (must be left blank)\n",
    "\n",
    "**GCP:** To deploy a model on Google Cloud Platform ('gcp'), the project must be created using the command-line or GCP console. Once the project is created, you must create a service account and download the service account key as a JSON file to set environment variables in your local environment. Learn more about it: https://cloud.google.com/docs/authentication/production\n",
    "\n",
    "**Azure:** To deploy a model on Microsoft Azure ('azure'), environment variables for the connection string must be set in your local environment. Go to settings of storage account on Azure portal to access the connection string required.\n",
    "AZURE_STORAGE_CONNECTION_STRING (required as environment variable)\n",
    "Learn more about it: https://docs.microsoft.com/en-us/azure/storage/blobs/storage-quickstart-blobs-python?toc=%2Fpython%2Fazure%2FTOC.json"
   ]
  },
  {
   "cell_type": "code",
   "execution_count": 81,
   "id": "40b20a18",
   "metadata": {},
   "outputs": [],
   "source": [
    "# deploy model on aws s3\n",
    "# deploy_model(iforest, model_name = 'my_first_platform_on_aws',\n",
    "#             platform = 'aws', authentication = {'bucket' : 'pycaret-test'})"
   ]
  },
  {
   "cell_type": "code",
   "execution_count": 82,
   "id": "9e236516",
   "metadata": {},
   "outputs": [],
   "source": [
    "# load model from aws s3\n",
    "# loaded_from_aws = load_model(model_name = 'my_first_platform_on_aws', platform = 'aws',\n",
    "#                              authentication = {'bucket' : 'pycaret-test'})\n",
    "\n",
    "# loaded_from_aws"
   ]
  },
  {
   "cell_type": "markdown",
   "id": "e169ae86",
   "metadata": {},
   "source": [
    "## ✅ Save / Load Model\n",
    "This function saves the transformation pipeline and a trained model object into the current working directory as a pickle file for later use."
   ]
  },
  {
   "cell_type": "code",
   "execution_count": 83,
   "id": "bc5cf24a",
   "metadata": {},
   "outputs": [
    {
     "name": "stdout",
     "output_type": "stream",
     "text": [
      "Transformation Pipeline and Model Successfully Saved\n"
     ]
    },
    {
     "data": {
      "text/plain": [
       "(Pipeline(memory=FastMemory(location=C:\\Users\\owner\\AppData\\Local\\Temp\\joblib),\n",
       "          steps=[('numerical_imputer',\n",
       "                  TransformerWrapper(include=['Col1', 'Col2', 'Col3', 'Col4',\n",
       "                                              'Col5', 'Col6', 'Col7', 'Col8',\n",
       "                                              'Col9', 'Col10'],\n",
       "                                     transformer=SimpleImputer())),\n",
       "                 ('categorical_imputer',\n",
       "                  TransformerWrapper(include=[],\n",
       "                                     transformer=SimpleImputer(strategy='most_frequent'))),\n",
       "                 ('bin_numeric_features',\n",
       "                  TransformerWrapper(include=['Col1'],\n",
       "                                     transformer=KBinsDiscretizer(encode='ordinal',\n",
       "                                                                  strategy='kmeans'))),\n",
       "                 ('trained_model',\n",
       "                  IForest(behaviour='new', bootstrap=False, contamination=0.05,\n",
       "     max_features=1.0, max_samples='auto', n_estimators=100, n_jobs=-1,\n",
       "     random_state=123, verbose=0))]),\n",
       " 'my_first_model.pkl')"
      ]
     },
     "execution_count": 83,
     "metadata": {},
     "output_type": "execute_result"
    }
   ],
   "source": [
    "# save model\n",
    "save_model(iforest, 'my_first_model')"
   ]
  },
  {
   "cell_type": "code",
   "execution_count": 84,
   "id": "e8478d34",
   "metadata": {},
   "outputs": [
    {
     "name": "stdout",
     "output_type": "stream",
     "text": [
      "Transformation Pipeline and Model Successfully Loaded\n"
     ]
    },
    {
     "data": {
      "text/html": [
       "<style>#sk-container-id-4 {color: black;background-color: white;}#sk-container-id-4 pre{padding: 0;}#sk-container-id-4 div.sk-toggleable {background-color: white;}#sk-container-id-4 label.sk-toggleable__label {cursor: pointer;display: block;width: 100%;margin-bottom: 0;padding: 0.3em;box-sizing: border-box;text-align: center;}#sk-container-id-4 label.sk-toggleable__label-arrow:before {content: \"▸\";float: left;margin-right: 0.25em;color: #696969;}#sk-container-id-4 label.sk-toggleable__label-arrow:hover:before {color: black;}#sk-container-id-4 div.sk-estimator:hover label.sk-toggleable__label-arrow:before {color: black;}#sk-container-id-4 div.sk-toggleable__content {max-height: 0;max-width: 0;overflow: hidden;text-align: left;background-color: #f0f8ff;}#sk-container-id-4 div.sk-toggleable__content pre {margin: 0.2em;color: black;border-radius: 0.25em;background-color: #f0f8ff;}#sk-container-id-4 input.sk-toggleable__control:checked~div.sk-toggleable__content {max-height: 200px;max-width: 100%;overflow: auto;}#sk-container-id-4 input.sk-toggleable__control:checked~label.sk-toggleable__label-arrow:before {content: \"▾\";}#sk-container-id-4 div.sk-estimator input.sk-toggleable__control:checked~label.sk-toggleable__label {background-color: #d4ebff;}#sk-container-id-4 div.sk-label input.sk-toggleable__control:checked~label.sk-toggleable__label {background-color: #d4ebff;}#sk-container-id-4 input.sk-hidden--visually {border: 0;clip: rect(1px 1px 1px 1px);clip: rect(1px, 1px, 1px, 1px);height: 1px;margin: -1px;overflow: hidden;padding: 0;position: absolute;width: 1px;}#sk-container-id-4 div.sk-estimator {font-family: monospace;background-color: #f0f8ff;border: 1px dotted black;border-radius: 0.25em;box-sizing: border-box;margin-bottom: 0.5em;}#sk-container-id-4 div.sk-estimator:hover {background-color: #d4ebff;}#sk-container-id-4 div.sk-parallel-item::after {content: \"\";width: 100%;border-bottom: 1px solid gray;flex-grow: 1;}#sk-container-id-4 div.sk-label:hover label.sk-toggleable__label {background-color: #d4ebff;}#sk-container-id-4 div.sk-serial::before {content: \"\";position: absolute;border-left: 1px solid gray;box-sizing: border-box;top: 0;bottom: 0;left: 50%;z-index: 0;}#sk-container-id-4 div.sk-serial {display: flex;flex-direction: column;align-items: center;background-color: white;padding-right: 0.2em;padding-left: 0.2em;position: relative;}#sk-container-id-4 div.sk-item {position: relative;z-index: 1;}#sk-container-id-4 div.sk-parallel {display: flex;align-items: stretch;justify-content: center;background-color: white;position: relative;}#sk-container-id-4 div.sk-item::before, #sk-container-id-4 div.sk-parallel-item::before {content: \"\";position: absolute;border-left: 1px solid gray;box-sizing: border-box;top: 0;bottom: 0;left: 50%;z-index: -1;}#sk-container-id-4 div.sk-parallel-item {display: flex;flex-direction: column;z-index: 1;position: relative;background-color: white;}#sk-container-id-4 div.sk-parallel-item:first-child::after {align-self: flex-end;width: 50%;}#sk-container-id-4 div.sk-parallel-item:last-child::after {align-self: flex-start;width: 50%;}#sk-container-id-4 div.sk-parallel-item:only-child::after {width: 0;}#sk-container-id-4 div.sk-dashed-wrapped {border: 1px dashed gray;margin: 0 0.4em 0.5em 0.4em;box-sizing: border-box;padding-bottom: 0.4em;background-color: white;}#sk-container-id-4 div.sk-label label {font-family: monospace;font-weight: bold;display: inline-block;line-height: 1.2em;}#sk-container-id-4 div.sk-label-container {text-align: center;}#sk-container-id-4 div.sk-container {/* jupyter's `normalize.less` sets `[hidden] { display: none; }` but bootstrap.min.css set `[hidden] { display: none !important; }` so we also need the `!important` here to be able to override the default hidden behavior on the sphinx rendered scikit-learn.org. See: https://github.com/scikit-learn/scikit-learn/issues/21755 */display: inline-block !important;position: relative;}#sk-container-id-4 div.sk-text-repr-fallback {display: none;}</style><div id=\"sk-container-id-4\" class=\"sk-top-container\"><div class=\"sk-text-repr-fallback\"><pre>Pipeline(memory=FastMemory(location=C:\\Users\\owner\\AppData\\Local\\Temp\\joblib),\n",
       "         steps=[(&#x27;numerical_imputer&#x27;,\n",
       "                 TransformerWrapper(include=[&#x27;Col1&#x27;, &#x27;Col2&#x27;, &#x27;Col3&#x27;, &#x27;Col4&#x27;,\n",
       "                                             &#x27;Col5&#x27;, &#x27;Col6&#x27;, &#x27;Col7&#x27;, &#x27;Col8&#x27;,\n",
       "                                             &#x27;Col9&#x27;, &#x27;Col10&#x27;],\n",
       "                                    transformer=SimpleImputer())),\n",
       "                (&#x27;categorical_imputer&#x27;,\n",
       "                 TransformerWrapper(include=[],\n",
       "                                    transformer=SimpleImputer(strategy=&#x27;most_frequent&#x27;))),\n",
       "                (&#x27;bin_numeric_features&#x27;,\n",
       "                 TransformerWrapper(include=[&#x27;Col1&#x27;],\n",
       "                                    transformer=KBinsDiscretizer(encode=&#x27;ordinal&#x27;,\n",
       "                                                                 strategy=&#x27;kmeans&#x27;))),\n",
       "                (&#x27;trained_model&#x27;,\n",
       "                 IForest(behaviour=&#x27;new&#x27;, bootstrap=False, contamination=0.05,\n",
       "    max_features=1.0, max_samples=&#x27;auto&#x27;, n_estimators=100, n_jobs=-1,\n",
       "    random_state=123, verbose=0))])</pre><b>In a Jupyter environment, please rerun this cell to show the HTML representation or trust the notebook. <br />On GitHub, the HTML representation is unable to render, please try loading this page with nbviewer.org.</b></div><div class=\"sk-container\" hidden><div class=\"sk-item sk-dashed-wrapped\"><div class=\"sk-label-container\"><div class=\"sk-label sk-toggleable\"><input class=\"sk-toggleable__control sk-hidden--visually\" id=\"sk-estimator-id-28\" type=\"checkbox\" ><label for=\"sk-estimator-id-28\" class=\"sk-toggleable__label sk-toggleable__label-arrow\">Pipeline</label><div class=\"sk-toggleable__content\"><pre>Pipeline(memory=FastMemory(location=C:\\Users\\owner\\AppData\\Local\\Temp\\joblib),\n",
       "         steps=[(&#x27;numerical_imputer&#x27;,\n",
       "                 TransformerWrapper(include=[&#x27;Col1&#x27;, &#x27;Col2&#x27;, &#x27;Col3&#x27;, &#x27;Col4&#x27;,\n",
       "                                             &#x27;Col5&#x27;, &#x27;Col6&#x27;, &#x27;Col7&#x27;, &#x27;Col8&#x27;,\n",
       "                                             &#x27;Col9&#x27;, &#x27;Col10&#x27;],\n",
       "                                    transformer=SimpleImputer())),\n",
       "                (&#x27;categorical_imputer&#x27;,\n",
       "                 TransformerWrapper(include=[],\n",
       "                                    transformer=SimpleImputer(strategy=&#x27;most_frequent&#x27;))),\n",
       "                (&#x27;bin_numeric_features&#x27;,\n",
       "                 TransformerWrapper(include=[&#x27;Col1&#x27;],\n",
       "                                    transformer=KBinsDiscretizer(encode=&#x27;ordinal&#x27;,\n",
       "                                                                 strategy=&#x27;kmeans&#x27;))),\n",
       "                (&#x27;trained_model&#x27;,\n",
       "                 IForest(behaviour=&#x27;new&#x27;, bootstrap=False, contamination=0.05,\n",
       "    max_features=1.0, max_samples=&#x27;auto&#x27;, n_estimators=100, n_jobs=-1,\n",
       "    random_state=123, verbose=0))])</pre></div></div></div><div class=\"sk-serial\"><div class=\"sk-item sk-dashed-wrapped\"><div class=\"sk-label-container\"><div class=\"sk-label sk-toggleable\"><input class=\"sk-toggleable__control sk-hidden--visually\" id=\"sk-estimator-id-29\" type=\"checkbox\" ><label for=\"sk-estimator-id-29\" class=\"sk-toggleable__label sk-toggleable__label-arrow\">numerical_imputer: TransformerWrapper</label><div class=\"sk-toggleable__content\"><pre>TransformerWrapper(include=[&#x27;Col1&#x27;, &#x27;Col2&#x27;, &#x27;Col3&#x27;, &#x27;Col4&#x27;, &#x27;Col5&#x27;, &#x27;Col6&#x27;,\n",
       "                            &#x27;Col7&#x27;, &#x27;Col8&#x27;, &#x27;Col9&#x27;, &#x27;Col10&#x27;],\n",
       "                   transformer=SimpleImputer())</pre></div></div></div><div class=\"sk-parallel\"><div class=\"sk-parallel-item\"><div class=\"sk-item\"><div class=\"sk-label-container\"><div class=\"sk-label sk-toggleable\"><input class=\"sk-toggleable__control sk-hidden--visually\" id=\"sk-estimator-id-30\" type=\"checkbox\" ><label for=\"sk-estimator-id-30\" class=\"sk-toggleable__label sk-toggleable__label-arrow\">transformer: SimpleImputer</label><div class=\"sk-toggleable__content\"><pre>SimpleImputer()</pre></div></div></div><div class=\"sk-serial\"><div class=\"sk-item\"><div class=\"sk-estimator sk-toggleable\"><input class=\"sk-toggleable__control sk-hidden--visually\" id=\"sk-estimator-id-31\" type=\"checkbox\" ><label for=\"sk-estimator-id-31\" class=\"sk-toggleable__label sk-toggleable__label-arrow\">SimpleImputer</label><div class=\"sk-toggleable__content\"><pre>SimpleImputer()</pre></div></div></div></div></div></div></div></div><div class=\"sk-item sk-dashed-wrapped\"><div class=\"sk-label-container\"><div class=\"sk-label sk-toggleable\"><input class=\"sk-toggleable__control sk-hidden--visually\" id=\"sk-estimator-id-32\" type=\"checkbox\" ><label for=\"sk-estimator-id-32\" class=\"sk-toggleable__label sk-toggleable__label-arrow\">categorical_imputer: TransformerWrapper</label><div class=\"sk-toggleable__content\"><pre>TransformerWrapper(include=[],\n",
       "                   transformer=SimpleImputer(strategy=&#x27;most_frequent&#x27;))</pre></div></div></div><div class=\"sk-parallel\"><div class=\"sk-parallel-item\"><div class=\"sk-item\"><div class=\"sk-label-container\"><div class=\"sk-label sk-toggleable\"><input class=\"sk-toggleable__control sk-hidden--visually\" id=\"sk-estimator-id-33\" type=\"checkbox\" ><label for=\"sk-estimator-id-33\" class=\"sk-toggleable__label sk-toggleable__label-arrow\">transformer: SimpleImputer</label><div class=\"sk-toggleable__content\"><pre>SimpleImputer(strategy=&#x27;most_frequent&#x27;)</pre></div></div></div><div class=\"sk-serial\"><div class=\"sk-item\"><div class=\"sk-estimator sk-toggleable\"><input class=\"sk-toggleable__control sk-hidden--visually\" id=\"sk-estimator-id-34\" type=\"checkbox\" ><label for=\"sk-estimator-id-34\" class=\"sk-toggleable__label sk-toggleable__label-arrow\">SimpleImputer</label><div class=\"sk-toggleable__content\"><pre>SimpleImputer(strategy=&#x27;most_frequent&#x27;)</pre></div></div></div></div></div></div></div></div><div class=\"sk-item sk-dashed-wrapped\"><div class=\"sk-label-container\"><div class=\"sk-label sk-toggleable\"><input class=\"sk-toggleable__control sk-hidden--visually\" id=\"sk-estimator-id-35\" type=\"checkbox\" ><label for=\"sk-estimator-id-35\" class=\"sk-toggleable__label sk-toggleable__label-arrow\">bin_numeric_features: TransformerWrapper</label><div class=\"sk-toggleable__content\"><pre>TransformerWrapper(include=[&#x27;Col1&#x27;],\n",
       "                   transformer=KBinsDiscretizer(encode=&#x27;ordinal&#x27;,\n",
       "                                                strategy=&#x27;kmeans&#x27;))</pre></div></div></div><div class=\"sk-parallel\"><div class=\"sk-parallel-item\"><div class=\"sk-item\"><div class=\"sk-label-container\"><div class=\"sk-label sk-toggleable\"><input class=\"sk-toggleable__control sk-hidden--visually\" id=\"sk-estimator-id-36\" type=\"checkbox\" ><label for=\"sk-estimator-id-36\" class=\"sk-toggleable__label sk-toggleable__label-arrow\">transformer: KBinsDiscretizer</label><div class=\"sk-toggleable__content\"><pre>KBinsDiscretizer(encode=&#x27;ordinal&#x27;, strategy=&#x27;kmeans&#x27;)</pre></div></div></div><div class=\"sk-serial\"><div class=\"sk-item\"><div class=\"sk-estimator sk-toggleable\"><input class=\"sk-toggleable__control sk-hidden--visually\" id=\"sk-estimator-id-37\" type=\"checkbox\" ><label for=\"sk-estimator-id-37\" class=\"sk-toggleable__label sk-toggleable__label-arrow\">KBinsDiscretizer</label><div class=\"sk-toggleable__content\"><pre>KBinsDiscretizer(encode=&#x27;ordinal&#x27;, strategy=&#x27;kmeans&#x27;)</pre></div></div></div></div></div></div></div></div><div class=\"sk-item\"><div class=\"sk-estimator sk-toggleable\"><input class=\"sk-toggleable__control sk-hidden--visually\" id=\"sk-estimator-id-38\" type=\"checkbox\" ><label for=\"sk-estimator-id-38\" class=\"sk-toggleable__label sk-toggleable__label-arrow\">IForest</label><div class=\"sk-toggleable__content\"><pre>IForest(behaviour=&#x27;new&#x27;, bootstrap=False, contamination=0.05,\n",
       "    max_features=1.0, max_samples=&#x27;auto&#x27;, n_estimators=100, n_jobs=-1,\n",
       "    random_state=123, verbose=0)</pre></div></div></div></div></div></div></div>"
      ],
      "text/plain": [
       "Pipeline(memory=FastMemory(location=C:\\Users\\owner\\AppData\\Local\\Temp\\joblib),\n",
       "         steps=[('numerical_imputer',\n",
       "                 TransformerWrapper(include=['Col1', 'Col2', 'Col3', 'Col4',\n",
       "                                             'Col5', 'Col6', 'Col7', 'Col8',\n",
       "                                             'Col9', 'Col10'],\n",
       "                                    transformer=SimpleImputer())),\n",
       "                ('categorical_imputer',\n",
       "                 TransformerWrapper(include=[],\n",
       "                                    transformer=SimpleImputer(strategy='most_frequent'))),\n",
       "                ('bin_numeric_features',\n",
       "                 TransformerWrapper(include=['Col1'],\n",
       "                                    transformer=KBinsDiscretizer(encode='ordinal',\n",
       "                                                                 strategy='kmeans'))),\n",
       "                ('trained_model',\n",
       "                 IForest(behaviour='new', bootstrap=False, contamination=0.05,\n",
       "    max_features=1.0, max_samples='auto', n_estimators=100, n_jobs=-1,\n",
       "    random_state=123, verbose=0))])"
      ]
     },
     "execution_count": 84,
     "metadata": {},
     "output_type": "execute_result"
    }
   ],
   "source": [
    "# load model\n",
    "loaded_from_disk = load_model('my_first_model')\n",
    "loaded_from_disk"
   ]
  },
  {
   "cell_type": "markdown",
   "id": "de5eee8c",
   "metadata": {},
   "source": [
    "## ✅ Save / Load Experiment\n",
    "This function saves all the experiment variables on disk, allowing to later resume without rerunning the setup function."
   ]
  },
  {
   "cell_type": "code",
   "execution_count": 85,
   "id": "6a3c61b6",
   "metadata": {},
   "outputs": [],
   "source": [
    "# save experiment\n",
    "save_experiment('my_experiment')"
   ]
  },
  {
   "cell_type": "code",
   "execution_count": 86,
   "id": "83252c09",
   "metadata": {},
   "outputs": [
    {
     "data": {
      "text/html": [
       "<style type=\"text/css\">\n",
       "#T_87b19_row4_col1 {\n",
       "  background-color: lightgreen;\n",
       "}\n",
       "</style>\n",
       "<table id=\"T_87b19\">\n",
       "  <thead>\n",
       "    <tr>\n",
       "      <th class=\"blank level0\" >&nbsp;</th>\n",
       "      <th id=\"T_87b19_level0_col0\" class=\"col_heading level0 col0\" >Description</th>\n",
       "      <th id=\"T_87b19_level0_col1\" class=\"col_heading level0 col1\" >Value</th>\n",
       "    </tr>\n",
       "  </thead>\n",
       "  <tbody>\n",
       "    <tr>\n",
       "      <th id=\"T_87b19_level0_row0\" class=\"row_heading level0 row0\" >0</th>\n",
       "      <td id=\"T_87b19_row0_col0\" class=\"data row0 col0\" >Session id</td>\n",
       "      <td id=\"T_87b19_row0_col1\" class=\"data row0 col1\" >123</td>\n",
       "    </tr>\n",
       "    <tr>\n",
       "      <th id=\"T_87b19_level0_row1\" class=\"row_heading level0 row1\" >1</th>\n",
       "      <td id=\"T_87b19_row1_col0\" class=\"data row1 col0\" >Original data shape</td>\n",
       "      <td id=\"T_87b19_row1_col1\" class=\"data row1 col1\" >(1000, 10)</td>\n",
       "    </tr>\n",
       "    <tr>\n",
       "      <th id=\"T_87b19_level0_row2\" class=\"row_heading level0 row2\" >2</th>\n",
       "      <td id=\"T_87b19_row2_col0\" class=\"data row2 col0\" >Transformed data shape</td>\n",
       "      <td id=\"T_87b19_row2_col1\" class=\"data row2 col1\" >(1000, 10)</td>\n",
       "    </tr>\n",
       "    <tr>\n",
       "      <th id=\"T_87b19_level0_row3\" class=\"row_heading level0 row3\" >3</th>\n",
       "      <td id=\"T_87b19_row3_col0\" class=\"data row3 col0\" >Numeric features</td>\n",
       "      <td id=\"T_87b19_row3_col1\" class=\"data row3 col1\" >10</td>\n",
       "    </tr>\n",
       "    <tr>\n",
       "      <th id=\"T_87b19_level0_row4\" class=\"row_heading level0 row4\" >4</th>\n",
       "      <td id=\"T_87b19_row4_col0\" class=\"data row4 col0\" >Preprocess</td>\n",
       "      <td id=\"T_87b19_row4_col1\" class=\"data row4 col1\" >True</td>\n",
       "    </tr>\n",
       "    <tr>\n",
       "      <th id=\"T_87b19_level0_row5\" class=\"row_heading level0 row5\" >5</th>\n",
       "      <td id=\"T_87b19_row5_col0\" class=\"data row5 col0\" >Imputation type</td>\n",
       "      <td id=\"T_87b19_row5_col1\" class=\"data row5 col1\" >simple</td>\n",
       "    </tr>\n",
       "    <tr>\n",
       "      <th id=\"T_87b19_level0_row6\" class=\"row_heading level0 row6\" >6</th>\n",
       "      <td id=\"T_87b19_row6_col0\" class=\"data row6 col0\" >Numeric imputation</td>\n",
       "      <td id=\"T_87b19_row6_col1\" class=\"data row6 col1\" >mean</td>\n",
       "    </tr>\n",
       "    <tr>\n",
       "      <th id=\"T_87b19_level0_row7\" class=\"row_heading level0 row7\" >7</th>\n",
       "      <td id=\"T_87b19_row7_col0\" class=\"data row7 col0\" >Categorical imputation</td>\n",
       "      <td id=\"T_87b19_row7_col1\" class=\"data row7 col1\" >mode</td>\n",
       "    </tr>\n",
       "    <tr>\n",
       "      <th id=\"T_87b19_level0_row8\" class=\"row_heading level0 row8\" >8</th>\n",
       "      <td id=\"T_87b19_row8_col0\" class=\"data row8 col0\" >CPU Jobs</td>\n",
       "      <td id=\"T_87b19_row8_col1\" class=\"data row8 col1\" >-1</td>\n",
       "    </tr>\n",
       "    <tr>\n",
       "      <th id=\"T_87b19_level0_row9\" class=\"row_heading level0 row9\" >9</th>\n",
       "      <td id=\"T_87b19_row9_col0\" class=\"data row9 col0\" >Use GPU</td>\n",
       "      <td id=\"T_87b19_row9_col1\" class=\"data row9 col1\" >False</td>\n",
       "    </tr>\n",
       "    <tr>\n",
       "      <th id=\"T_87b19_level0_row10\" class=\"row_heading level0 row10\" >10</th>\n",
       "      <td id=\"T_87b19_row10_col0\" class=\"data row10 col0\" >Log Experiment</td>\n",
       "      <td id=\"T_87b19_row10_col1\" class=\"data row10 col1\" >False</td>\n",
       "    </tr>\n",
       "    <tr>\n",
       "      <th id=\"T_87b19_level0_row11\" class=\"row_heading level0 row11\" >11</th>\n",
       "      <td id=\"T_87b19_row11_col0\" class=\"data row11 col0\" >Experiment Name</td>\n",
       "      <td id=\"T_87b19_row11_col1\" class=\"data row11 col1\" >anomaly-default-name</td>\n",
       "    </tr>\n",
       "    <tr>\n",
       "      <th id=\"T_87b19_level0_row12\" class=\"row_heading level0 row12\" >12</th>\n",
       "      <td id=\"T_87b19_row12_col0\" class=\"data row12 col0\" >USI</td>\n",
       "      <td id=\"T_87b19_row12_col1\" class=\"data row12 col1\" >40f2</td>\n",
       "    </tr>\n",
       "  </tbody>\n",
       "</table>\n"
      ],
      "text/plain": [
       "<pandas.io.formats.style.Styler at 0x21f9cc8c160>"
      ]
     },
     "metadata": {},
     "output_type": "display_data"
    }
   ],
   "source": [
    "# load experiment from disk\n",
    "exp_from_disk = load_experiment('my_experiment', data=data)"
   ]
  },
  {
   "cell_type": "code",
   "execution_count": null,
   "id": "ac030246",
   "metadata": {},
   "outputs": [],
   "source": []
  }
 ],
 "metadata": {
  "kernelspec": {
   "display_name": "pycaretrc5",
   "language": "python",
   "name": "pycaretrc5"
  },
  "language_info": {
   "codemirror_mode": {
    "name": "ipython",
    "version": 3
   },
   "file_extension": ".py",
   "mimetype": "text/x-python",
   "name": "python",
   "nbconvert_exporter": "python",
   "pygments_lexer": "ipython3",
   "version": "3.8.15"
  }
 },
 "nbformat": 4,
 "nbformat_minor": 5
}
