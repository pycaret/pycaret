{
 "cells": [
  {
   "cell_type": "markdown",
   "metadata": {},
   "source": [
    "#  <span style=\"color:orange\">Natural Language Processing Tutorial (NLP101) - Level Beginner</span>"
   ]
  },
  {
   "cell_type": "markdown",
   "metadata": {},
   "source": [
    "**Date Updated: May 02, 2020**\n",
    "\n",
    "# 1.0 Objective of Tutorial\n",
    "Welcome to Natural Language Processing Tutorial (NLP101). This tutorial assumes that you are new to PyCaret and looking to get started with Natural Language Processing using `pycaret.nlp` Module.\n",
    "\n",
    "In this tutorial we will learn:\n",
    "\n",
    "\n",
    "* **Getting Data:**  How to import data from PyCaret repository?\n",
    "* **Setting up Environment:**  How to setup environment in PyCaret and perform critical text pre-processing tasks?\n",
    "* **Create Model:**  How to create a topic model?\n",
    "* **Assign Model:**  How to assign documents/text to topics using the trained model?\n",
    "* **Plot Model:**  How to analyze topic models / overall corpus using various plots?\n",
    "* **Save / Load Model:**  How to save / load model for future use?\n",
    "\n",
    "Read Time : Approx. 30 Minutes\n",
    "\n",
    "\n",
    "## 1.1 Installing PyCaret\n",
    "First step to get started with PyCaret is to install PyCaret. Installing PyCaret is easy and take few minutes only. Follow the instructions below:\n",
    "\n",
    "#### Installing PyCaret in Local Jupyter Notebook\n",
    "`pip install pycaret`  <br />\n",
    "\n",
    "#### Installing PyCaret on Google Colab or Azure Notebooks\n",
    "`!pip install pycaret`\n",
    "\n",
    "\n",
    "## 1.2 Pre-Requisites\n",
    "- Python 3.x\n",
    "- Latest version of PyCaret\n",
    "- Internet connection to load data from PyCaret's repository\n",
    "- Basic Knowledge of NLP \n",
    "\n",
    "## 1.3 For Google Colab Users:\n",
    "If you are running this notebook on Google Colab, run the following code at top of your notebook to display interactive visuals.<br/>\n",
    "<br/>\n",
    "`from pycaret.utils import enable_colab` <br/>\n",
    "`enable_colab()`\n",
    "\n",
    "## 1.4 See Also:\n",
    "- __[Natural Language Processing Tutorial (NLP102) - Level Intermediate](https://github.com/pycaret/pycaret/blob/master/Tutorials/Natural%20Language%20Processing%20Tutorial%20Level%20Intermediate%20-%20NLP102.ipynb)__\n",
    "- __[Natural Language Processing Tutorial (NLP103) - Level Expert](https://github.com/pycaret/pycaret/blob/master/Tutorials/Natural%20Language%20Processing%20Tutorial%20Level%20Expert%20-%20NLP103.ipynb)__"
   ]
  },
  {
   "cell_type": "markdown",
   "metadata": {},
   "source": [
    "# 2.0 What is Natural Language Processing?\n",
    "\n",
    "Natural Language Processing (NLP in short) is a branch of artificial intelligence that deals with analyzing, understanding and generating the languages that humans use naturally in order to interface with computers in both written and spoken contexts using natural human languages instead of computer languages. Some of the common use cases of NLP in machine learning are: \n",
    "\n",
    "- **Topic discovery and modeling:** Capture the meaning and themes in text collections and apply advanced modeling techniques such as Topic Modeling to group similar documents together.\n",
    "- **Sentiment Analysis:** Identifying the mood or subjective opinions within large amounts of text, including average sentiment and opinion mining.\n",
    "- **Document summarization:** Automatically generating synopses of large bodies of text.\n",
    "- **Speech-to-text and text-to-speech conversion:** Transforming voice commands into written text and vice versa.\n",
    "- **Machine translation:** Automatic translation of text or speech from one language to another.  \n",
    "\n",
    "__[Learn More about Natural Language Processing](https://en.wikipedia.org/wiki/Natural_language_processing)__"
   ]
  },
  {
   "cell_type": "markdown",
   "metadata": {},
   "source": [
    "# 3.0 Overview of Natural Language Processing Module in PyCaret\n",
    "PyCaret's NLP module (`pycaret.nlp`) is an unsupervised machine learning module which can be used for analyzing the text data by creating topic model to find hidden semantic structure in documents. PyCaret's NLP module comes built-in with a wide range of text pre-processing techniques, which is the fundamental step in any NLP problem. It transforms the raw text into a format which machine learning algorithms can learn from.\n",
    "\n",
    "As of first release, PyCaret's NLP module only supports `English` language and provides several popular implementations of topic models from Latent Dirichlet Allocation to Non-Negative Matrix Factorization. It has over 5 ready-to-use algorithms and over 10 plots to analyze the text. PyCaret's NLP module also implements a unique function `tune_model()` that allows you to tune the hyperparameters of a topic model to optimize the supervised learning objective such as `AUC` for classification or `R2` for regression."
   ]
  },
  {
   "cell_type": "markdown",
   "metadata": {},
   "source": [
    "# 4.0 Dataset for the Tutorial"
   ]
  },
  {
   "cell_type": "markdown",
   "metadata": {},
   "source": [
    "For this tutorial we will be using data from **Kiva Microfunds** https://www.kiva.org/. Kiva Microfunds is a non-profit that allows individuals to lend money to low-income entrepreneurs and students around the world. Since starting in 2005, Kiva has crowd-funded millions of loans with a repayment rate of around 98%. At Kiva, each loan request includes both traditional demographic information on the borrower, such as gender and location, as well as a personal story. In this tutorial we will use the text given in personal story to gain insights of the dataset and understand hidden semantic structure in the text. The dataset contains 6,818 samples. Short description of features are below:\n",
    "\n",
    "- **country:** country of borrower\n",
    "- **en:** Personal story of the borrower when applied for loan\n",
    "- **gender:** Gender (M=male, F=female)\n",
    "- **loan_amount:** Amount of loan approved and disbursed\n",
    "- **nonpayment:** Type of lender (Lender = personal registered user on Kiva website, Partner = microfinance institution who work with Kiva to find and fund loans)\n",
    "- **sector:** sector of borrower\n",
    "- **status:** status of loan (1-default, 0-repaid)\n",
    "\n",
    "In this tutorial we will only use `en` column to create a topic model. In the next tutorial __[Natural Language Processing (NLP102) - Level Intermediate](https://github.com/pycaret/pycaret/blob/master/Tutorials/Natural%20Language%20Processing%20Tutorial%20Level%20Intermediate%20-%20NLP102.ipynb)__ we will use topic model to build a classifier that predicts `status` of the loan to know whether the applicant will default or not. \n",
    "\n",
    "#### Dataset Acknowledgement:\n",
    "Kiva Microfunds https://www.kiva.org/ "
   ]
  },
  {
   "cell_type": "markdown",
   "metadata": {},
   "source": [
    "# 5.0 Getting the Data"
   ]
  },
  {
   "cell_type": "markdown",
   "metadata": {},
   "source": [
    "You can download the data from PyCaret's git repository __[Click Here to Download](https://github.com/pycaret/pycaret/blob/master/datasets/kiva.csv)__ or you can load it using `get_data()` function (This will require internet connection)."
   ]
  },
  {
   "cell_type": "code",
   "execution_count": 1,
   "metadata": {
    "ExecuteTime": {
     "end_time": "2020-05-02T15:52:00.182566Z",
     "start_time": "2020-05-02T15:51:20.097264Z"
    }
   },
   "outputs": [
    {
     "data": {
      "text/html": [
       "<div>\n",
       "<style scoped>\n",
       "    .dataframe tbody tr th:only-of-type {\n",
       "        vertical-align: middle;\n",
       "    }\n",
       "\n",
       "    .dataframe tbody tr th {\n",
       "        vertical-align: top;\n",
       "    }\n",
       "\n",
       "    .dataframe thead th {\n",
       "        text-align: right;\n",
       "    }\n",
       "</style>\n",
       "<table border=\"1\" class=\"dataframe\">\n",
       "  <thead>\n",
       "    <tr style=\"text-align: right;\">\n",
       "      <th></th>\n",
       "      <th>country</th>\n",
       "      <th>en</th>\n",
       "      <th>gender</th>\n",
       "      <th>loan_amount</th>\n",
       "      <th>nonpayment</th>\n",
       "      <th>sector</th>\n",
       "      <th>status</th>\n",
       "    </tr>\n",
       "  </thead>\n",
       "  <tbody>\n",
       "    <tr>\n",
       "      <th>0</th>\n",
       "      <td>Dominican Republic</td>\n",
       "      <td>\"Banco Esperanza\" is a group of 10 women looki...</td>\n",
       "      <td>F</td>\n",
       "      <td>1225</td>\n",
       "      <td>partner</td>\n",
       "      <td>Retail</td>\n",
       "      <td>0</td>\n",
       "    </tr>\n",
       "    <tr>\n",
       "      <th>1</th>\n",
       "      <td>Dominican Republic</td>\n",
       "      <td>\"Caminemos Hacia Adelante\" or \"Walking Forward...</td>\n",
       "      <td>F</td>\n",
       "      <td>1975</td>\n",
       "      <td>lender</td>\n",
       "      <td>Clothing</td>\n",
       "      <td>0</td>\n",
       "    </tr>\n",
       "    <tr>\n",
       "      <th>2</th>\n",
       "      <td>Dominican Republic</td>\n",
       "      <td>\"Creciendo Por La Union\" is a group of 10 peop...</td>\n",
       "      <td>F</td>\n",
       "      <td>2175</td>\n",
       "      <td>partner</td>\n",
       "      <td>Clothing</td>\n",
       "      <td>0</td>\n",
       "    </tr>\n",
       "    <tr>\n",
       "      <th>3</th>\n",
       "      <td>Dominican Republic</td>\n",
       "      <td>\"Cristo Vive\" (\"Christ lives\" is a group of 10...</td>\n",
       "      <td>F</td>\n",
       "      <td>1425</td>\n",
       "      <td>partner</td>\n",
       "      <td>Clothing</td>\n",
       "      <td>0</td>\n",
       "    </tr>\n",
       "    <tr>\n",
       "      <th>4</th>\n",
       "      <td>Dominican Republic</td>\n",
       "      <td>\"Cristo Vive\" is a large group of 35 people, 2...</td>\n",
       "      <td>F</td>\n",
       "      <td>4025</td>\n",
       "      <td>partner</td>\n",
       "      <td>Food</td>\n",
       "      <td>0</td>\n",
       "    </tr>\n",
       "  </tbody>\n",
       "</table>\n",
       "</div>"
      ],
      "text/plain": [
       "              country                                                 en  \\\n",
       "0  Dominican Republic  \"Banco Esperanza\" is a group of 10 women looki...   \n",
       "1  Dominican Republic  \"Caminemos Hacia Adelante\" or \"Walking Forward...   \n",
       "2  Dominican Republic  \"Creciendo Por La Union\" is a group of 10 peop...   \n",
       "3  Dominican Republic  \"Cristo Vive\" (\"Christ lives\" is a group of 10...   \n",
       "4  Dominican Republic  \"Cristo Vive\" is a large group of 35 people, 2...   \n",
       "\n",
       "  gender  loan_amount nonpayment    sector  status  \n",
       "0      F         1225    partner    Retail       0  \n",
       "1      F         1975     lender  Clothing       0  \n",
       "2      F         2175    partner  Clothing       0  \n",
       "3      F         1425    partner  Clothing       0  \n",
       "4      F         4025    partner      Food       0  "
      ]
     },
     "metadata": {},
     "output_type": "display_data"
    }
   ],
   "source": [
    "from pycaret.datasets import get_data\n",
    "data = get_data('kiva')"
   ]
  },
  {
   "cell_type": "code",
   "execution_count": 2,
   "metadata": {
    "ExecuteTime": {
     "end_time": "2020-05-02T15:52:00.185921Z",
     "start_time": "2020-05-02T15:52:00.183576Z"
    }
   },
   "outputs": [
    {
     "data": {
      "text/plain": [
       "(6818, 7)"
      ]
     },
     "execution_count": 2,
     "metadata": {},
     "output_type": "execute_result"
    }
   ],
   "source": [
    "#check the shape of data\n",
    "data.shape"
   ]
  },
  {
   "cell_type": "code",
   "execution_count": 3,
   "metadata": {
    "ExecuteTime": {
     "end_time": "2020-05-02T15:52:00.192485Z",
     "start_time": "2020-05-02T15:52:00.187141Z"
    }
   },
   "outputs": [
    {
     "data": {
      "text/plain": [
       "(1000, 7)"
      ]
     },
     "execution_count": 3,
     "metadata": {},
     "output_type": "execute_result"
    }
   ],
   "source": [
    "# sampling the data to select only 1000 documents\n",
    "data = data.sample(1000, random_state=786).reset_index(drop=True)\n",
    "data.shape"
   ]
  },
  {
   "cell_type": "markdown",
   "metadata": {},
   "source": [
    "# 6.0 Setting up Environment in PyCaret"
   ]
  },
  {
   "cell_type": "markdown",
   "metadata": {},
   "source": [
    "`setup()` function initializes the environment in PyCaret and performs several text pre-processing steps that are imperative to work with NLP problems. `setup()` must be called before executing any other function in PyCaret. It takes two parameters: pandas dataframe and the name of the text column passed as `target` parameter. You can also pass a `list` containing text, in which case you don't need to pass `target` parameter. When setup is executed, the following pre-processing steps are applied automatically:\n",
    "\n",
    "- **Removing Numeric Characters:** All numeric characters are removed from the text. They are replaced with blanks.<br/>\n",
    "<br/>\n",
    "- **Removing Special Characters:** All non-alphanumeric special characters are removed from the text. They are also replaced with blanks.<br/>\n",
    "<br/>\n",
    "- **Word Tokenization:** Word tokenization is the process of splitting a large sample of text into words. This is the core requirement in natural language processing tasks where each word needs to be captured separately for further analysis. __[Read More](https://nlp.stanford.edu/IR-book/html/htmledition/tokenization-1.html)__ <br/>\n",
    "<br/> \n",
    "- **Stopword Removal:** A stop word (or stopword) is a word that is often removed from text because it is common and provides little value for information retrieval, even though it might be linguistically meaningful. Example of such words in english language are: \"the\", \"a\", \"an\", \"in\" etc. __[Read More](https://en.wikipedia.org/wiki/Stop_words)__ <br/>\n",
    "<br/>\n",
    "- **Bigram Extraction:** A bigram is a sequence of two adjacent elements from a string of tokens, which are typically letters, syllables or words. For example: word New York is captured as two different words \"New\" and \"York\" when tokenization is performed but if it is repeated enough times, Bigram Extraction will represent the word as one i.e. \"New_York\"  __[Read More](https://en.wikipedia.org/wiki/Bigram)__ <br/>\n",
    "<br/>\n",
    "- **Trigram Extraction:** Similar to bigram extraction, trigram is a sequence of three adjacent elements from a string of tokens. __[Read More](https://en.wikipedia.org/wiki/Trigram)__ <br/>\n",
    "<br/>\n",
    "- **Lemmatizing:** Lemmatization is the process of grouping together the inflected forms of a word so they can be analysed as a single word, identified by the word's lemma, or dictionary form. In English language, word appears in several inflected forms. For example, the verb 'to walk' may appear as 'walk', 'walked', 'walks', 'walking'. The base form, 'walk', that one might look up in a dictionary, is called the lemma for the word. __[Read More](https://en.wikipedia.org/wiki/Lemmatisation)__ <br/>\n",
    "<br/>\n",
    "- **Custom Stopwords:** Many times text contains words that are not stopwords by the rules of the language, but they add no or very little information. For example, in this tutorial we are using the loan dataset. As such, words like \"loan\", \"bank\", \"money\", \"business\" are too obvious and adds no value. More often than not, they also add a lot of noise in the topic model. You can remove those words from corpus by using `custom_stopwords` parameter. In next tutorial, __[Natural Language Processing Tutorial (NLP102) - Level Intermediate](https://github.com/pycaret/pycaret/blob/master/Tutorials/Natural%20Language%20Processing%20Tutorial%20Level%20Intermediate%20-%20NLP102.ipynb)__ we will demonstrate the use of `custom_stopwords` parameter inside `setup()`. <br/>\n",
    "<br/>\n",
    "\n",
    "**Note :** Some functionalities in `pycaret.nlp` require English language model. The language model is not downloaded automatically when you install pycaret. You will have to download these using Python's command line interface, such as Anaconda Prompt. To download the model, please type the following in your command line:\n",
    "\n",
    "`python -m spacy download en_core_web_sm` <br/>\n",
    "`python -m textblob.download_corpora` <br/>"
   ]
  },
  {
   "cell_type": "code",
   "execution_count": 4,
   "metadata": {
    "ExecuteTime": {
     "end_time": "2020-05-02T15:52:00.196619Z",
     "start_time": "2020-05-02T15:52:00.193816Z"
    }
   },
   "outputs": [],
   "source": [
    "from pycaret.nlp import *"
   ]
  },
  {
   "cell_type": "code",
   "execution_count": 5,
   "metadata": {
    "ExecuteTime": {
     "end_time": "2020-05-02T15:52:10.444475Z",
     "start_time": "2020-05-02T15:52:00.197900Z"
    },
    "scrolled": false
   },
   "outputs": [
    {
     "data": {
      "text/html": [
       "<style  type=\"text/css\" >\n",
       "</style><table id=\"T_e212ad1c_8c8c_11ea_b8d3_4df9062e7578\" ><thead>    <tr>        <th class=\"col_heading level0 col0\" >Description</th>        <th class=\"col_heading level0 col1\" >Value</th>    </tr></thead><tbody>\n",
       "                <tr>\n",
       "                                <td id=\"T_e212ad1c_8c8c_11ea_b8d3_4df9062e7578row0_col0\" class=\"data row0 col0\" >session_id</td>\n",
       "                        <td id=\"T_e212ad1c_8c8c_11ea_b8d3_4df9062e7578row0_col1\" class=\"data row0 col1\" >123</td>\n",
       "            </tr>\n",
       "            <tr>\n",
       "                                <td id=\"T_e212ad1c_8c8c_11ea_b8d3_4df9062e7578row1_col0\" class=\"data row1 col0\" ># Documents</td>\n",
       "                        <td id=\"T_e212ad1c_8c8c_11ea_b8d3_4df9062e7578row1_col1\" class=\"data row1 col1\" >1000</td>\n",
       "            </tr>\n",
       "            <tr>\n",
       "                                <td id=\"T_e212ad1c_8c8c_11ea_b8d3_4df9062e7578row2_col0\" class=\"data row2 col0\" >Vocab Size</td>\n",
       "                        <td id=\"T_e212ad1c_8c8c_11ea_b8d3_4df9062e7578row2_col1\" class=\"data row2 col1\" >6761</td>\n",
       "            </tr>\n",
       "            <tr>\n",
       "                                <td id=\"T_e212ad1c_8c8c_11ea_b8d3_4df9062e7578row3_col0\" class=\"data row3 col0\" >Custom Stopwords</td>\n",
       "                        <td id=\"T_e212ad1c_8c8c_11ea_b8d3_4df9062e7578row3_col1\" class=\"data row3 col1\" >False</td>\n",
       "            </tr>\n",
       "    </tbody></table>"
      ],
      "text/plain": [
       "<pandas.io.formats.style.Styler at 0x7fa6f0b0c690>"
      ]
     },
     "metadata": {},
     "output_type": "display_data"
    }
   ],
   "source": [
    "exp_nlp101 = setup(data = data, target = 'en', session_id = 123)"
   ]
  },
  {
   "cell_type": "markdown",
   "metadata": {},
   "source": [
    "Once the setup is succesfully executed it prints the information grid with the following information: \n",
    "\n",
    "- **session_id :**  A pseudo-random number distributed as a seed in all functions for later reproducibility. If no `session_id` is passed, a random number is automatically generated, which is distributed to all functions. In this experiment session_id is set as `123` for later reproducibility.<br/>\n",
    "<br/>\n",
    "- **# Documents :** Number of documents (or samples in dataset if dataframe is passed). <br/>\n",
    "<br/>\n",
    "- **Vocab Size :** Size of vocabulary in the corpus after applying all text pre-processing such as removal of stopwords, bigram/trigram extraction, lemmatization, etc. <br/>\n",
    "\n",
    "Notice that all text pre-processing steps are performed automatically when you execute `setup()`. These steps are imperative to perform any NLP experiment. `setup()` function prepares the corpus and dictionary that is ready-to-use for the topic models that you can create using `create_model()` function. Another way to pass the text is in the form of a list. See an example below:"
   ]
  },
  {
   "cell_type": "code",
   "execution_count": 6,
   "metadata": {
    "ExecuteTime": {
     "end_time": "2020-05-02T15:52:10.454416Z",
     "start_time": "2020-05-02T15:52:10.445781Z"
    }
   },
   "outputs": [
    {
     "data": {
      "text/plain": [
       "list"
      ]
     },
     "execution_count": 6,
     "metadata": {},
     "output_type": "execute_result"
    }
   ],
   "source": [
    "#convert 'en' column of dataset into list format\n",
    "text_list = list(data['en'])\n",
    "type(text_list)"
   ]
  },
  {
   "cell_type": "code",
   "execution_count": 7,
   "metadata": {
    "ExecuteTime": {
     "end_time": "2020-05-02T15:52:19.481681Z",
     "start_time": "2020-05-02T15:52:10.455810Z"
    }
   },
   "outputs": [
    {
     "data": {
      "text/html": [
       "<style  type=\"text/css\" >\n",
       "</style><table id=\"T_e770b6b4_8c8c_11ea_b8d3_4df9062e7578\" ><thead>    <tr>        <th class=\"col_heading level0 col0\" >Description</th>        <th class=\"col_heading level0 col1\" >Value</th>    </tr></thead><tbody>\n",
       "                <tr>\n",
       "                                <td id=\"T_e770b6b4_8c8c_11ea_b8d3_4df9062e7578row0_col0\" class=\"data row0 col0\" >session_id</td>\n",
       "                        <td id=\"T_e770b6b4_8c8c_11ea_b8d3_4df9062e7578row0_col1\" class=\"data row0 col1\" >123</td>\n",
       "            </tr>\n",
       "            <tr>\n",
       "                                <td id=\"T_e770b6b4_8c8c_11ea_b8d3_4df9062e7578row1_col0\" class=\"data row1 col0\" ># Documents</td>\n",
       "                        <td id=\"T_e770b6b4_8c8c_11ea_b8d3_4df9062e7578row1_col1\" class=\"data row1 col1\" >1000</td>\n",
       "            </tr>\n",
       "            <tr>\n",
       "                                <td id=\"T_e770b6b4_8c8c_11ea_b8d3_4df9062e7578row2_col0\" class=\"data row2 col0\" >Vocab Size</td>\n",
       "                        <td id=\"T_e770b6b4_8c8c_11ea_b8d3_4df9062e7578row2_col1\" class=\"data row2 col1\" >6761</td>\n",
       "            </tr>\n",
       "            <tr>\n",
       "                                <td id=\"T_e770b6b4_8c8c_11ea_b8d3_4df9062e7578row3_col0\" class=\"data row3 col0\" >Custom Stopwords</td>\n",
       "                        <td id=\"T_e770b6b4_8c8c_11ea_b8d3_4df9062e7578row3_col1\" class=\"data row3 col1\" >False</td>\n",
       "            </tr>\n",
       "    </tbody></table>"
      ],
      "text/plain": [
       "<pandas.io.formats.style.Styler at 0x7fa74e9e2110>"
      ]
     },
     "metadata": {},
     "output_type": "display_data"
    }
   ],
   "source": [
    "exp_nlp101_list = setup(data = text_list, session_id = 123)"
   ]
  },
  {
   "cell_type": "markdown",
   "metadata": {},
   "source": [
    "Notice the output of `exp_nlp101_list` is identical to the output of `exp_nlp101`."
   ]
  },
  {
   "cell_type": "markdown",
   "metadata": {},
   "source": [
    "# 7.0 Create a Topic Model"
   ]
  },
  {
   "cell_type": "markdown",
   "metadata": {},
   "source": [
    "**What is Topic Model?** In machine learning and natural language processing, a topic model is a type of statistical model for discovering the abstract \"topics\" that occur in a collection of documents. Topic modeling is a frequently used text-mining tool for discovery of hidden semantic structures in a text body. Intuitively, given that a document is about a particular topic, one would expect particular words to appear in the document more or less frequently: \"dog\" and \"bone\" will appear more often in documents about dogs, \"cat\" and \"meow\" will appear in documents about cats, and \"the\" and \"is\" will appear equally in both. A document typically concerns multiple topics in different proportions; thus, in a document that is 10% about cats and 90% about dogs, there would probably be about 9 times more dog words than cat words. The \"topics\" produced by topic modeling techniques are clusters of similar words. A topic model captures this intuition in a mathematical framework, which allows examining a set of documents and discovering, based on the statistics of the words in each, what the topics might be and what each document's balance of topics is. __[Read More](https://en.wikipedia.org/wiki/Topic_model)__\n",
    "\n",
    "Creating a topic model in PyCaret is simple and similar to how you would have created a model in supervised modules of PyCaret. A topic model is created using `create_model()` function which takes one mandatory parameter i.e. the name of the model as a string. This function returns a trained model object. There are 5 topic models available in PyCaret. see the docstring of `create_model()` for complete list of models. See an example below where we create Latent Dirichlet Allocation (LDA) model:"
   ]
  },
  {
   "cell_type": "code",
   "execution_count": 8,
   "metadata": {
    "ExecuteTime": {
     "end_time": "2020-05-02T15:52:23.898776Z",
     "start_time": "2020-05-02T15:52:19.484352Z"
    },
    "scrolled": false
   },
   "outputs": [],
   "source": [
    "lda = create_model('lda')"
   ]
  },
  {
   "cell_type": "code",
   "execution_count": 9,
   "metadata": {
    "ExecuteTime": {
     "end_time": "2020-05-02T15:52:23.902212Z",
     "start_time": "2020-05-02T15:52:23.899996Z"
    }
   },
   "outputs": [
    {
     "name": "stdout",
     "output_type": "stream",
     "text": [
      "LdaModel(num_terms=6761, num_topics=4, decay=0.5, chunksize=100)\n"
     ]
    }
   ],
   "source": [
    "print(lda)"
   ]
  },
  {
   "cell_type": "markdown",
   "metadata": {},
   "source": [
    "We have created Latent Dirichlet Allocation (LDA) model with just one word i.e. `create_model()`. Notice that the `num_topics` parameter is set to `4`, which is a default value when you do not pass `num_topics` parameter in `create_model()`. In the below example, we will create an LDA model with 6 topics and we will also set `multi_core` parameter to `True`. When `multi_core` is set to `True` Latent Dirichlet Allocation (LDA) uses all CPU cores to parallelize and speed up model training."
   ]
  },
  {
   "cell_type": "code",
   "execution_count": 10,
   "metadata": {
    "ExecuteTime": {
     "end_time": "2020-05-02T15:52:29.035646Z",
     "start_time": "2020-05-02T15:52:23.903838Z"
    }
   },
   "outputs": [],
   "source": [
    "lda2 = create_model('lda', num_topics = 6, multi_core = True)"
   ]
  },
  {
   "cell_type": "code",
   "execution_count": 11,
   "metadata": {
    "ExecuteTime": {
     "end_time": "2020-05-02T15:52:29.040107Z",
     "start_time": "2020-05-02T15:52:29.037130Z"
    }
   },
   "outputs": [
    {
     "name": "stdout",
     "output_type": "stream",
     "text": [
      "LdaModel(num_terms=6761, num_topics=6, decay=0.5, chunksize=100)\n"
     ]
    }
   ],
   "source": [
    "print(lda2)"
   ]
  },
  {
   "cell_type": "markdown",
   "metadata": {},
   "source": [
    "# 8.0 Assign a Model"
   ]
  },
  {
   "cell_type": "markdown",
   "metadata": {},
   "source": [
    "Now, after we have created a topic model, we would like to assign the topic proportions to our dataset (6818 documents / samples) to analyze the results. We will achieve this by using `assign_model()` function. See an example below:"
   ]
  },
  {
   "cell_type": "code",
   "execution_count": 12,
   "metadata": {
    "ExecuteTime": {
     "end_time": "2020-05-02T15:52:29.770449Z",
     "start_time": "2020-05-02T15:52:29.041603Z"
    }
   },
   "outputs": [
    {
     "data": {
      "text/html": [
       "<div>\n",
       "<style scoped>\n",
       "    .dataframe tbody tr th:only-of-type {\n",
       "        vertical-align: middle;\n",
       "    }\n",
       "\n",
       "    .dataframe tbody tr th {\n",
       "        vertical-align: top;\n",
       "    }\n",
       "\n",
       "    .dataframe thead th {\n",
       "        text-align: right;\n",
       "    }\n",
       "</style>\n",
       "<table border=\"1\" class=\"dataframe\">\n",
       "  <thead>\n",
       "    <tr style=\"text-align: right;\">\n",
       "      <th></th>\n",
       "      <th>en</th>\n",
       "      <th>Topic_0</th>\n",
       "      <th>Topic_1</th>\n",
       "      <th>Topic_2</th>\n",
       "      <th>Topic_3</th>\n",
       "      <th>Dominant_Topic</th>\n",
       "      <th>Perc_Dominant_Topic</th>\n",
       "    </tr>\n",
       "  </thead>\n",
       "  <tbody>\n",
       "    <tr>\n",
       "      <th>0</th>\n",
       "      <td>praxide marry child primary school train tailo...</td>\n",
       "      <td>0.124381</td>\n",
       "      <td>0.002221</td>\n",
       "      <td>0.873075</td>\n",
       "      <td>0.000323</td>\n",
       "      <td>Topic 2</td>\n",
       "      <td>0.87</td>\n",
       "    </tr>\n",
       "    <tr>\n",
       "      <th>1</th>\n",
       "      <td>dr odongo obs gynaecology practitioner run rep...</td>\n",
       "      <td>0.003739</td>\n",
       "      <td>0.562978</td>\n",
       "      <td>0.433032</td>\n",
       "      <td>0.000252</td>\n",
       "      <td>Topic 1</td>\n",
       "      <td>0.56</td>\n",
       "    </tr>\n",
       "    <tr>\n",
       "      <th>2</th>\n",
       "      <td>ana josefa single_mother live san_cristobal wh...</td>\n",
       "      <td>0.223984</td>\n",
       "      <td>0.702847</td>\n",
       "      <td>0.072889</td>\n",
       "      <td>0.000280</td>\n",
       "      <td>Topic 1</td>\n",
       "      <td>0.70</td>\n",
       "    </tr>\n",
       "    <tr>\n",
       "      <th>3</th>\n",
       "      <td>phanice marry child daughter secondary school ...</td>\n",
       "      <td>0.244497</td>\n",
       "      <td>0.002180</td>\n",
       "      <td>0.753006</td>\n",
       "      <td>0.000317</td>\n",
       "      <td>Topic 2</td>\n",
       "      <td>0.75</td>\n",
       "    </tr>\n",
       "    <tr>\n",
       "      <th>4</th>\n",
       "      <td>fredrice nzioka kilonzo year old hotel kaptemb...</td>\n",
       "      <td>0.172208</td>\n",
       "      <td>0.086028</td>\n",
       "      <td>0.741453</td>\n",
       "      <td>0.000312</td>\n",
       "      <td>Topic 2</td>\n",
       "      <td>0.74</td>\n",
       "    </tr>\n",
       "  </tbody>\n",
       "</table>\n",
       "</div>"
      ],
      "text/plain": [
       "                                                  en   Topic_0   Topic_1  \\\n",
       "0  praxide marry child primary school train tailo...  0.124381  0.002221   \n",
       "1  dr odongo obs gynaecology practitioner run rep...  0.003739  0.562978   \n",
       "2  ana josefa single_mother live san_cristobal wh...  0.223984  0.702847   \n",
       "3  phanice marry child daughter secondary school ...  0.244497  0.002180   \n",
       "4  fredrice nzioka kilonzo year old hotel kaptemb...  0.172208  0.086028   \n",
       "\n",
       "    Topic_2   Topic_3 Dominant_Topic  Perc_Dominant_Topic  \n",
       "0  0.873075  0.000323        Topic 2                 0.87  \n",
       "1  0.433032  0.000252        Topic 1                 0.56  \n",
       "2  0.072889  0.000280        Topic 1                 0.70  \n",
       "3  0.753006  0.000317        Topic 2                 0.75  \n",
       "4  0.741453  0.000312        Topic 2                 0.74  "
      ]
     },
     "execution_count": 12,
     "metadata": {},
     "output_type": "execute_result"
    }
   ],
   "source": [
    "lda_results = assign_model(lda)\n",
    "lda_results.head()"
   ]
  },
  {
   "cell_type": "markdown",
   "metadata": {},
   "source": [
    "Notice how 6 additional columns are now added to the dataframe. `en` is the text after all pre-processing. `Topic_0 ... Topic_3` are the topic proportions and represent the distribution of topics for each document. `Dominant_Topic` is the topic number with the highest proportion and `Perc_Dominant_Topic` is the percentage of dominant topic over 1 (only shown when models are stochastic i.e. sum of all proportions equal to 1) ."
   ]
  },
  {
   "cell_type": "markdown",
   "metadata": {},
   "source": [
    "# 9.0 Plot a Model"
   ]
  },
  {
   "cell_type": "markdown",
   "metadata": {},
   "source": [
    "`plot_model()` function can be used to analyze the overall corpus or only specific topics extracted through topic model. Hence the function `plot_model()` can also work without passing any trained model object. See examples below:"
   ]
  },
  {
   "cell_type": "markdown",
   "metadata": {},
   "source": [
    "### 9.1 Frequency Distribution of Entire Corpus"
   ]
  },
  {
   "cell_type": "code",
   "execution_count": 13,
   "metadata": {
    "ExecuteTime": {
     "end_time": "2020-05-02T15:52:30.528207Z",
     "start_time": "2020-05-02T15:52:29.771858Z"
    }
   },
   "outputs": [
    {
     "data": {
      "text/html": [
       "        <script type=\"text/javascript\">\n",
       "        window.PlotlyConfig = {MathJaxConfig: 'local'};\n",
       "        if (window.MathJax) {MathJax.Hub.Config({SVG: {font: \"STIX-Web\"}});}\n",
       "        if (typeof require !== 'undefined') {\n",
       "        require.undef(\"plotly\");\n",
       "        requirejs.config({\n",
       "            paths: {\n",
       "                'plotly': ['https://cdn.plot.ly/plotly-latest.min']\n",
       "            }\n",
       "        });\n",
       "        require(['plotly'], function(Plotly) {\n",
       "            window._Plotly = Plotly;\n",
       "        });\n",
       "        }\n",
       "        </script>\n",
       "        "
      ]
     },
     "metadata": {},
     "output_type": "display_data"
    },
    {
     "data": {
      "application/vnd.plotly.v1+json": {
       "config": {
        "linkText": "Export to plot.ly",
        "plotlyServerURL": "https://plot.ly",
        "showLink": true
       },
       "data": [
        {
         "marker": {
          "color": "rgba(255, 153, 51, 0.6)",
          "line": {
           "color": "rgba(255, 153, 51, 1.0)",
           "width": 1
          }
         },
         "name": "count",
         "orientation": "v",
         "text": "",
         "type": "bar",
         "x": [
          "loan",
          "business",
          "year",
          "child",
          "sell",
          "buy",
          "school",
          "also",
          "work",
          "group",
          "family",
          "use",
          "old",
          "make",
          "able",
          "start",
          "good",
          "help",
          "small",
          "husband",
          "live",
          "purchase",
          "product",
          "community",
          "home",
          "income",
          "increase",
          "woman",
          "customer",
          "need",
          "member",
          "order",
          "request",
          "get",
          "expand",
          "house",
          "pay",
          "new",
          "stock",
          "grow",
          "store",
          "want",
          "farmer",
          "people",
          "time",
          "married",
          "clothing",
          "provide",
          "area",
          "client",
          "rice",
          "support",
          "first",
          "many",
          "market",
          "entrepreneur",
          "go",
          "money",
          "shop",
          "life",
          "improve",
          "well",
          "give",
          "repay",
          "mother",
          "hard",
          "food",
          "sale",
          "run",
          "invest",
          "capital",
          "marry",
          "education",
          "plan",
          "service",
          "profit",
          "take",
          "usd",
          "ago",
          "high",
          "farm",
          "young",
          "local",
          "continue",
          "wife",
          "day",
          "month",
          "enable",
          "hope",
          "clothe",
          "fee",
          "item",
          "part",
          "demand",
          "meet",
          "operate",
          "large",
          "hop",
          "son",
          "say"
         ],
         "y": [
          2072,
          1974,
          1235,
          1209,
          1103,
          811,
          714,
          647,
          646,
          644,
          633,
          630,
          611,
          530,
          526,
          493,
          484,
          480,
          479,
          455,
          436,
          396,
          392,
          383,
          366,
          362,
          355,
          350,
          318,
          298,
          289,
          289,
          275,
          272,
          269,
          265,
          264,
          260,
          260,
          249,
          249,
          246,
          245,
          243,
          242,
          235,
          235,
          235,
          227,
          224,
          221,
          220,
          219,
          217,
          216,
          215,
          215,
          213,
          212,
          211,
          203,
          203,
          200,
          199,
          198,
          195,
          187,
          187,
          187,
          181,
          179,
          175,
          174,
          174,
          172,
          172,
          171,
          169,
          168,
          166,
          164,
          160,
          160,
          157,
          155,
          155,
          154,
          154,
          147,
          147,
          143,
          142,
          142,
          140,
          138,
          137,
          137,
          135,
          133,
          132
         ]
        }
       ],
       "layout": {
        "legend": {
         "bgcolor": "#F5F6F9",
         "font": {
          "color": "#4D5663"
         }
        },
        "paper_bgcolor": "#F5F6F9",
        "plot_bgcolor": "#F5F6F9",
        "template": {
         "data": {
          "bar": [
           {
            "error_x": {
             "color": "#2a3f5f"
            },
            "error_y": {
             "color": "#2a3f5f"
            },
            "marker": {
             "line": {
              "color": "#E5ECF6",
              "width": 0.5
             }
            },
            "type": "bar"
           }
          ],
          "barpolar": [
           {
            "marker": {
             "line": {
              "color": "#E5ECF6",
              "width": 0.5
             }
            },
            "type": "barpolar"
           }
          ],
          "carpet": [
           {
            "aaxis": {
             "endlinecolor": "#2a3f5f",
             "gridcolor": "white",
             "linecolor": "white",
             "minorgridcolor": "white",
             "startlinecolor": "#2a3f5f"
            },
            "baxis": {
             "endlinecolor": "#2a3f5f",
             "gridcolor": "white",
             "linecolor": "white",
             "minorgridcolor": "white",
             "startlinecolor": "#2a3f5f"
            },
            "type": "carpet"
           }
          ],
          "choropleth": [
           {
            "colorbar": {
             "outlinewidth": 0,
             "ticks": ""
            },
            "type": "choropleth"
           }
          ],
          "contour": [
           {
            "colorbar": {
             "outlinewidth": 0,
             "ticks": ""
            },
            "colorscale": [
             [
              0,
              "#0d0887"
             ],
             [
              0.1111111111111111,
              "#46039f"
             ],
             [
              0.2222222222222222,
              "#7201a8"
             ],
             [
              0.3333333333333333,
              "#9c179e"
             ],
             [
              0.4444444444444444,
              "#bd3786"
             ],
             [
              0.5555555555555556,
              "#d8576b"
             ],
             [
              0.6666666666666666,
              "#ed7953"
             ],
             [
              0.7777777777777778,
              "#fb9f3a"
             ],
             [
              0.8888888888888888,
              "#fdca26"
             ],
             [
              1,
              "#f0f921"
             ]
            ],
            "type": "contour"
           }
          ],
          "contourcarpet": [
           {
            "colorbar": {
             "outlinewidth": 0,
             "ticks": ""
            },
            "type": "contourcarpet"
           }
          ],
          "heatmap": [
           {
            "colorbar": {
             "outlinewidth": 0,
             "ticks": ""
            },
            "colorscale": [
             [
              0,
              "#0d0887"
             ],
             [
              0.1111111111111111,
              "#46039f"
             ],
             [
              0.2222222222222222,
              "#7201a8"
             ],
             [
              0.3333333333333333,
              "#9c179e"
             ],
             [
              0.4444444444444444,
              "#bd3786"
             ],
             [
              0.5555555555555556,
              "#d8576b"
             ],
             [
              0.6666666666666666,
              "#ed7953"
             ],
             [
              0.7777777777777778,
              "#fb9f3a"
             ],
             [
              0.8888888888888888,
              "#fdca26"
             ],
             [
              1,
              "#f0f921"
             ]
            ],
            "type": "heatmap"
           }
          ],
          "heatmapgl": [
           {
            "colorbar": {
             "outlinewidth": 0,
             "ticks": ""
            },
            "colorscale": [
             [
              0,
              "#0d0887"
             ],
             [
              0.1111111111111111,
              "#46039f"
             ],
             [
              0.2222222222222222,
              "#7201a8"
             ],
             [
              0.3333333333333333,
              "#9c179e"
             ],
             [
              0.4444444444444444,
              "#bd3786"
             ],
             [
              0.5555555555555556,
              "#d8576b"
             ],
             [
              0.6666666666666666,
              "#ed7953"
             ],
             [
              0.7777777777777778,
              "#fb9f3a"
             ],
             [
              0.8888888888888888,
              "#fdca26"
             ],
             [
              1,
              "#f0f921"
             ]
            ],
            "type": "heatmapgl"
           }
          ],
          "histogram": [
           {
            "marker": {
             "colorbar": {
              "outlinewidth": 0,
              "ticks": ""
             }
            },
            "type": "histogram"
           }
          ],
          "histogram2d": [
           {
            "colorbar": {
             "outlinewidth": 0,
             "ticks": ""
            },
            "colorscale": [
             [
              0,
              "#0d0887"
             ],
             [
              0.1111111111111111,
              "#46039f"
             ],
             [
              0.2222222222222222,
              "#7201a8"
             ],
             [
              0.3333333333333333,
              "#9c179e"
             ],
             [
              0.4444444444444444,
              "#bd3786"
             ],
             [
              0.5555555555555556,
              "#d8576b"
             ],
             [
              0.6666666666666666,
              "#ed7953"
             ],
             [
              0.7777777777777778,
              "#fb9f3a"
             ],
             [
              0.8888888888888888,
              "#fdca26"
             ],
             [
              1,
              "#f0f921"
             ]
            ],
            "type": "histogram2d"
           }
          ],
          "histogram2dcontour": [
           {
            "colorbar": {
             "outlinewidth": 0,
             "ticks": ""
            },
            "colorscale": [
             [
              0,
              "#0d0887"
             ],
             [
              0.1111111111111111,
              "#46039f"
             ],
             [
              0.2222222222222222,
              "#7201a8"
             ],
             [
              0.3333333333333333,
              "#9c179e"
             ],
             [
              0.4444444444444444,
              "#bd3786"
             ],
             [
              0.5555555555555556,
              "#d8576b"
             ],
             [
              0.6666666666666666,
              "#ed7953"
             ],
             [
              0.7777777777777778,
              "#fb9f3a"
             ],
             [
              0.8888888888888888,
              "#fdca26"
             ],
             [
              1,
              "#f0f921"
             ]
            ],
            "type": "histogram2dcontour"
           }
          ],
          "mesh3d": [
           {
            "colorbar": {
             "outlinewidth": 0,
             "ticks": ""
            },
            "type": "mesh3d"
           }
          ],
          "parcoords": [
           {
            "line": {
             "colorbar": {
              "outlinewidth": 0,
              "ticks": ""
             }
            },
            "type": "parcoords"
           }
          ],
          "pie": [
           {
            "automargin": true,
            "type": "pie"
           }
          ],
          "scatter": [
           {
            "marker": {
             "colorbar": {
              "outlinewidth": 0,
              "ticks": ""
             }
            },
            "type": "scatter"
           }
          ],
          "scatter3d": [
           {
            "line": {
             "colorbar": {
              "outlinewidth": 0,
              "ticks": ""
             }
            },
            "marker": {
             "colorbar": {
              "outlinewidth": 0,
              "ticks": ""
             }
            },
            "type": "scatter3d"
           }
          ],
          "scattercarpet": [
           {
            "marker": {
             "colorbar": {
              "outlinewidth": 0,
              "ticks": ""
             }
            },
            "type": "scattercarpet"
           }
          ],
          "scattergeo": [
           {
            "marker": {
             "colorbar": {
              "outlinewidth": 0,
              "ticks": ""
             }
            },
            "type": "scattergeo"
           }
          ],
          "scattergl": [
           {
            "marker": {
             "colorbar": {
              "outlinewidth": 0,
              "ticks": ""
             }
            },
            "type": "scattergl"
           }
          ],
          "scattermapbox": [
           {
            "marker": {
             "colorbar": {
              "outlinewidth": 0,
              "ticks": ""
             }
            },
            "type": "scattermapbox"
           }
          ],
          "scatterpolar": [
           {
            "marker": {
             "colorbar": {
              "outlinewidth": 0,
              "ticks": ""
             }
            },
            "type": "scatterpolar"
           }
          ],
          "scatterpolargl": [
           {
            "marker": {
             "colorbar": {
              "outlinewidth": 0,
              "ticks": ""
             }
            },
            "type": "scatterpolargl"
           }
          ],
          "scatterternary": [
           {
            "marker": {
             "colorbar": {
              "outlinewidth": 0,
              "ticks": ""
             }
            },
            "type": "scatterternary"
           }
          ],
          "surface": [
           {
            "colorbar": {
             "outlinewidth": 0,
             "ticks": ""
            },
            "colorscale": [
             [
              0,
              "#0d0887"
             ],
             [
              0.1111111111111111,
              "#46039f"
             ],
             [
              0.2222222222222222,
              "#7201a8"
             ],
             [
              0.3333333333333333,
              "#9c179e"
             ],
             [
              0.4444444444444444,
              "#bd3786"
             ],
             [
              0.5555555555555556,
              "#d8576b"
             ],
             [
              0.6666666666666666,
              "#ed7953"
             ],
             [
              0.7777777777777778,
              "#fb9f3a"
             ],
             [
              0.8888888888888888,
              "#fdca26"
             ],
             [
              1,
              "#f0f921"
             ]
            ],
            "type": "surface"
           }
          ],
          "table": [
           {
            "cells": {
             "fill": {
              "color": "#EBF0F8"
             },
             "line": {
              "color": "white"
             }
            },
            "header": {
             "fill": {
              "color": "#C8D4E3"
             },
             "line": {
              "color": "white"
             }
            },
            "type": "table"
           }
          ]
         },
         "layout": {
          "annotationdefaults": {
           "arrowcolor": "#2a3f5f",
           "arrowhead": 0,
           "arrowwidth": 1
          },
          "coloraxis": {
           "colorbar": {
            "outlinewidth": 0,
            "ticks": ""
           }
          },
          "colorscale": {
           "diverging": [
            [
             0,
             "#8e0152"
            ],
            [
             0.1,
             "#c51b7d"
            ],
            [
             0.2,
             "#de77ae"
            ],
            [
             0.3,
             "#f1b6da"
            ],
            [
             0.4,
             "#fde0ef"
            ],
            [
             0.5,
             "#f7f7f7"
            ],
            [
             0.6,
             "#e6f5d0"
            ],
            [
             0.7,
             "#b8e186"
            ],
            [
             0.8,
             "#7fbc41"
            ],
            [
             0.9,
             "#4d9221"
            ],
            [
             1,
             "#276419"
            ]
           ],
           "sequential": [
            [
             0,
             "#0d0887"
            ],
            [
             0.1111111111111111,
             "#46039f"
            ],
            [
             0.2222222222222222,
             "#7201a8"
            ],
            [
             0.3333333333333333,
             "#9c179e"
            ],
            [
             0.4444444444444444,
             "#bd3786"
            ],
            [
             0.5555555555555556,
             "#d8576b"
            ],
            [
             0.6666666666666666,
             "#ed7953"
            ],
            [
             0.7777777777777778,
             "#fb9f3a"
            ],
            [
             0.8888888888888888,
             "#fdca26"
            ],
            [
             1,
             "#f0f921"
            ]
           ],
           "sequentialminus": [
            [
             0,
             "#0d0887"
            ],
            [
             0.1111111111111111,
             "#46039f"
            ],
            [
             0.2222222222222222,
             "#7201a8"
            ],
            [
             0.3333333333333333,
             "#9c179e"
            ],
            [
             0.4444444444444444,
             "#bd3786"
            ],
            [
             0.5555555555555556,
             "#d8576b"
            ],
            [
             0.6666666666666666,
             "#ed7953"
            ],
            [
             0.7777777777777778,
             "#fb9f3a"
            ],
            [
             0.8888888888888888,
             "#fdca26"
            ],
            [
             1,
             "#f0f921"
            ]
           ]
          },
          "colorway": [
           "#636efa",
           "#EF553B",
           "#00cc96",
           "#ab63fa",
           "#FFA15A",
           "#19d3f3",
           "#FF6692",
           "#B6E880",
           "#FF97FF",
           "#FECB52"
          ],
          "font": {
           "color": "#2a3f5f"
          },
          "geo": {
           "bgcolor": "white",
           "lakecolor": "white",
           "landcolor": "#E5ECF6",
           "showlakes": true,
           "showland": true,
           "subunitcolor": "white"
          },
          "hoverlabel": {
           "align": "left"
          },
          "hovermode": "closest",
          "mapbox": {
           "style": "light"
          },
          "paper_bgcolor": "white",
          "plot_bgcolor": "#E5ECF6",
          "polar": {
           "angularaxis": {
            "gridcolor": "white",
            "linecolor": "white",
            "ticks": ""
           },
           "bgcolor": "#E5ECF6",
           "radialaxis": {
            "gridcolor": "white",
            "linecolor": "white",
            "ticks": ""
           }
          },
          "scene": {
           "xaxis": {
            "backgroundcolor": "#E5ECF6",
            "gridcolor": "white",
            "gridwidth": 2,
            "linecolor": "white",
            "showbackground": true,
            "ticks": "",
            "zerolinecolor": "white"
           },
           "yaxis": {
            "backgroundcolor": "#E5ECF6",
            "gridcolor": "white",
            "gridwidth": 2,
            "linecolor": "white",
            "showbackground": true,
            "ticks": "",
            "zerolinecolor": "white"
           },
           "zaxis": {
            "backgroundcolor": "#E5ECF6",
            "gridcolor": "white",
            "gridwidth": 2,
            "linecolor": "white",
            "showbackground": true,
            "ticks": "",
            "zerolinecolor": "white"
           }
          },
          "shapedefaults": {
           "line": {
            "color": "#2a3f5f"
           }
          },
          "ternary": {
           "aaxis": {
            "gridcolor": "white",
            "linecolor": "white",
            "ticks": ""
           },
           "baxis": {
            "gridcolor": "white",
            "linecolor": "white",
            "ticks": ""
           },
           "bgcolor": "#E5ECF6",
           "caxis": {
            "gridcolor": "white",
            "linecolor": "white",
            "ticks": ""
           }
          },
          "title": {
           "x": 0.05
          },
          "xaxis": {
           "automargin": true,
           "gridcolor": "white",
           "linecolor": "white",
           "ticks": "",
           "title": {
            "standoff": 15
           },
           "zerolinecolor": "white",
           "zerolinewidth": 2
          },
          "yaxis": {
           "automargin": true,
           "gridcolor": "white",
           "linecolor": "white",
           "ticks": "",
           "title": {
            "standoff": 15
           },
           "zerolinecolor": "white",
           "zerolinewidth": 2
          }
         }
        },
        "title": {
         "font": {
          "color": "#4D5663"
         },
         "text": "Top 100 words after removing stop words"
        },
        "xaxis": {
         "gridcolor": "#E1E5ED",
         "linecolor": "black",
         "showgrid": true,
         "tickfont": {
          "color": "#4D5663"
         },
         "title": {
          "font": {
           "color": "#4D5663"
          },
          "text": ""
         },
         "zerolinecolor": "#E1E5ED"
        },
        "yaxis": {
         "gridcolor": "#E1E5ED",
         "linecolor": "black",
         "showgrid": true,
         "tickfont": {
          "color": "#4D5663"
         },
         "title": {
          "font": {
           "color": "#4D5663"
          },
          "text": "Count"
         },
         "zerolinecolor": "#E1E5ED"
        }
       }
      },
      "text/html": [
       "<div>\n",
       "        \n",
       "        \n",
       "            <div id=\"8eec9725-6764-4cb7-b09b-7d6084a59059\" class=\"plotly-graph-div\" style=\"height:525px; width:100%;\"></div>\n",
       "            <script type=\"text/javascript\">\n",
       "                require([\"plotly\"], function(Plotly) {\n",
       "                    window.PLOTLYENV=window.PLOTLYENV || {};\n",
       "                    window.PLOTLYENV.BASE_URL='https://plot.ly';\n",
       "                    \n",
       "                if (document.getElementById(\"8eec9725-6764-4cb7-b09b-7d6084a59059\")) {\n",
       "                    Plotly.newPlot(\n",
       "                        '8eec9725-6764-4cb7-b09b-7d6084a59059',\n",
       "                        [{\"marker\": {\"color\": \"rgba(255, 153, 51, 0.6)\", \"line\": {\"color\": \"rgba(255, 153, 51, 1.0)\", \"width\": 1}}, \"name\": \"count\", \"orientation\": \"v\", \"text\": \"\", \"type\": \"bar\", \"x\": [\"loan\", \"business\", \"year\", \"child\", \"sell\", \"buy\", \"school\", \"also\", \"work\", \"group\", \"family\", \"use\", \"old\", \"make\", \"able\", \"start\", \"good\", \"help\", \"small\", \"husband\", \"live\", \"purchase\", \"product\", \"community\", \"home\", \"income\", \"increase\", \"woman\", \"customer\", \"need\", \"member\", \"order\", \"request\", \"get\", \"expand\", \"house\", \"pay\", \"new\", \"stock\", \"grow\", \"store\", \"want\", \"farmer\", \"people\", \"time\", \"married\", \"clothing\", \"provide\", \"area\", \"client\", \"rice\", \"support\", \"first\", \"many\", \"market\", \"entrepreneur\", \"go\", \"money\", \"shop\", \"life\", \"improve\", \"well\", \"give\", \"repay\", \"mother\", \"hard\", \"food\", \"sale\", \"run\", \"invest\", \"capital\", \"marry\", \"education\", \"plan\", \"service\", \"profit\", \"take\", \"usd\", \"ago\", \"high\", \"farm\", \"young\", \"local\", \"continue\", \"wife\", \"day\", \"month\", \"enable\", \"hope\", \"clothe\", \"fee\", \"item\", \"part\", \"demand\", \"meet\", \"operate\", \"large\", \"hop\", \"son\", \"say\"], \"y\": [2072, 1974, 1235, 1209, 1103, 811, 714, 647, 646, 644, 633, 630, 611, 530, 526, 493, 484, 480, 479, 455, 436, 396, 392, 383, 366, 362, 355, 350, 318, 298, 289, 289, 275, 272, 269, 265, 264, 260, 260, 249, 249, 246, 245, 243, 242, 235, 235, 235, 227, 224, 221, 220, 219, 217, 216, 215, 215, 213, 212, 211, 203, 203, 200, 199, 198, 195, 187, 187, 187, 181, 179, 175, 174, 174, 172, 172, 171, 169, 168, 166, 164, 160, 160, 157, 155, 155, 154, 154, 147, 147, 143, 142, 142, 140, 138, 137, 137, 135, 133, 132]}],\n",
       "                        {\"legend\": {\"bgcolor\": \"#F5F6F9\", \"font\": {\"color\": \"#4D5663\"}}, \"paper_bgcolor\": \"#F5F6F9\", \"plot_bgcolor\": \"#F5F6F9\", \"template\": {\"data\": {\"bar\": [{\"error_x\": {\"color\": \"#2a3f5f\"}, \"error_y\": {\"color\": \"#2a3f5f\"}, \"marker\": {\"line\": {\"color\": \"#E5ECF6\", \"width\": 0.5}}, \"type\": \"bar\"}], \"barpolar\": [{\"marker\": {\"line\": {\"color\": \"#E5ECF6\", \"width\": 0.5}}, \"type\": \"barpolar\"}], \"carpet\": [{\"aaxis\": {\"endlinecolor\": \"#2a3f5f\", \"gridcolor\": \"white\", \"linecolor\": \"white\", \"minorgridcolor\": \"white\", \"startlinecolor\": \"#2a3f5f\"}, \"baxis\": {\"endlinecolor\": \"#2a3f5f\", \"gridcolor\": \"white\", \"linecolor\": \"white\", \"minorgridcolor\": \"white\", \"startlinecolor\": \"#2a3f5f\"}, \"type\": \"carpet\"}], \"choropleth\": [{\"colorbar\": {\"outlinewidth\": 0, \"ticks\": \"\"}, \"type\": \"choropleth\"}], \"contour\": [{\"colorbar\": {\"outlinewidth\": 0, \"ticks\": \"\"}, \"colorscale\": [[0.0, \"#0d0887\"], [0.1111111111111111, \"#46039f\"], [0.2222222222222222, \"#7201a8\"], [0.3333333333333333, \"#9c179e\"], [0.4444444444444444, \"#bd3786\"], [0.5555555555555556, \"#d8576b\"], [0.6666666666666666, \"#ed7953\"], [0.7777777777777778, \"#fb9f3a\"], [0.8888888888888888, \"#fdca26\"], [1.0, \"#f0f921\"]], \"type\": \"contour\"}], \"contourcarpet\": [{\"colorbar\": {\"outlinewidth\": 0, \"ticks\": \"\"}, \"type\": \"contourcarpet\"}], \"heatmap\": [{\"colorbar\": {\"outlinewidth\": 0, \"ticks\": \"\"}, \"colorscale\": [[0.0, \"#0d0887\"], [0.1111111111111111, \"#46039f\"], [0.2222222222222222, \"#7201a8\"], [0.3333333333333333, \"#9c179e\"], [0.4444444444444444, \"#bd3786\"], [0.5555555555555556, \"#d8576b\"], [0.6666666666666666, \"#ed7953\"], [0.7777777777777778, \"#fb9f3a\"], [0.8888888888888888, \"#fdca26\"], [1.0, \"#f0f921\"]], \"type\": \"heatmap\"}], \"heatmapgl\": [{\"colorbar\": {\"outlinewidth\": 0, \"ticks\": \"\"}, \"colorscale\": [[0.0, \"#0d0887\"], [0.1111111111111111, \"#46039f\"], [0.2222222222222222, \"#7201a8\"], [0.3333333333333333, \"#9c179e\"], [0.4444444444444444, \"#bd3786\"], [0.5555555555555556, \"#d8576b\"], [0.6666666666666666, \"#ed7953\"], [0.7777777777777778, \"#fb9f3a\"], [0.8888888888888888, \"#fdca26\"], [1.0, \"#f0f921\"]], \"type\": \"heatmapgl\"}], \"histogram\": [{\"marker\": {\"colorbar\": {\"outlinewidth\": 0, \"ticks\": \"\"}}, \"type\": \"histogram\"}], \"histogram2d\": [{\"colorbar\": {\"outlinewidth\": 0, \"ticks\": \"\"}, \"colorscale\": [[0.0, \"#0d0887\"], [0.1111111111111111, \"#46039f\"], [0.2222222222222222, \"#7201a8\"], [0.3333333333333333, \"#9c179e\"], [0.4444444444444444, \"#bd3786\"], [0.5555555555555556, \"#d8576b\"], [0.6666666666666666, \"#ed7953\"], [0.7777777777777778, \"#fb9f3a\"], [0.8888888888888888, \"#fdca26\"], [1.0, \"#f0f921\"]], \"type\": \"histogram2d\"}], \"histogram2dcontour\": [{\"colorbar\": {\"outlinewidth\": 0, \"ticks\": \"\"}, \"colorscale\": [[0.0, \"#0d0887\"], [0.1111111111111111, \"#46039f\"], [0.2222222222222222, \"#7201a8\"], [0.3333333333333333, \"#9c179e\"], [0.4444444444444444, \"#bd3786\"], [0.5555555555555556, \"#d8576b\"], [0.6666666666666666, \"#ed7953\"], [0.7777777777777778, \"#fb9f3a\"], [0.8888888888888888, \"#fdca26\"], [1.0, \"#f0f921\"]], \"type\": \"histogram2dcontour\"}], \"mesh3d\": [{\"colorbar\": {\"outlinewidth\": 0, \"ticks\": \"\"}, \"type\": \"mesh3d\"}], \"parcoords\": [{\"line\": {\"colorbar\": {\"outlinewidth\": 0, \"ticks\": \"\"}}, \"type\": \"parcoords\"}], \"pie\": [{\"automargin\": true, \"type\": \"pie\"}], \"scatter\": [{\"marker\": {\"colorbar\": {\"outlinewidth\": 0, \"ticks\": \"\"}}, \"type\": \"scatter\"}], \"scatter3d\": [{\"line\": {\"colorbar\": {\"outlinewidth\": 0, \"ticks\": \"\"}}, \"marker\": {\"colorbar\": {\"outlinewidth\": 0, \"ticks\": \"\"}}, \"type\": \"scatter3d\"}], \"scattercarpet\": [{\"marker\": {\"colorbar\": {\"outlinewidth\": 0, \"ticks\": \"\"}}, \"type\": \"scattercarpet\"}], \"scattergeo\": [{\"marker\": {\"colorbar\": {\"outlinewidth\": 0, \"ticks\": \"\"}}, \"type\": \"scattergeo\"}], \"scattergl\": [{\"marker\": {\"colorbar\": {\"outlinewidth\": 0, \"ticks\": \"\"}}, \"type\": \"scattergl\"}], \"scattermapbox\": [{\"marker\": {\"colorbar\": {\"outlinewidth\": 0, \"ticks\": \"\"}}, \"type\": \"scattermapbox\"}], \"scatterpolar\": [{\"marker\": {\"colorbar\": {\"outlinewidth\": 0, \"ticks\": \"\"}}, \"type\": \"scatterpolar\"}], \"scatterpolargl\": [{\"marker\": {\"colorbar\": {\"outlinewidth\": 0, \"ticks\": \"\"}}, \"type\": \"scatterpolargl\"}], \"scatterternary\": [{\"marker\": {\"colorbar\": {\"outlinewidth\": 0, \"ticks\": \"\"}}, \"type\": \"scatterternary\"}], \"surface\": [{\"colorbar\": {\"outlinewidth\": 0, \"ticks\": \"\"}, \"colorscale\": [[0.0, \"#0d0887\"], [0.1111111111111111, \"#46039f\"], [0.2222222222222222, \"#7201a8\"], [0.3333333333333333, \"#9c179e\"], [0.4444444444444444, \"#bd3786\"], [0.5555555555555556, \"#d8576b\"], [0.6666666666666666, \"#ed7953\"], [0.7777777777777778, \"#fb9f3a\"], [0.8888888888888888, \"#fdca26\"], [1.0, \"#f0f921\"]], \"type\": \"surface\"}], \"table\": [{\"cells\": {\"fill\": {\"color\": \"#EBF0F8\"}, \"line\": {\"color\": \"white\"}}, \"header\": {\"fill\": {\"color\": \"#C8D4E3\"}, \"line\": {\"color\": \"white\"}}, \"type\": \"table\"}]}, \"layout\": {\"annotationdefaults\": {\"arrowcolor\": \"#2a3f5f\", \"arrowhead\": 0, \"arrowwidth\": 1}, \"coloraxis\": {\"colorbar\": {\"outlinewidth\": 0, \"ticks\": \"\"}}, \"colorscale\": {\"diverging\": [[0, \"#8e0152\"], [0.1, \"#c51b7d\"], [0.2, \"#de77ae\"], [0.3, \"#f1b6da\"], [0.4, \"#fde0ef\"], [0.5, \"#f7f7f7\"], [0.6, \"#e6f5d0\"], [0.7, \"#b8e186\"], [0.8, \"#7fbc41\"], [0.9, \"#4d9221\"], [1, \"#276419\"]], \"sequential\": [[0.0, \"#0d0887\"], [0.1111111111111111, \"#46039f\"], [0.2222222222222222, \"#7201a8\"], [0.3333333333333333, \"#9c179e\"], [0.4444444444444444, \"#bd3786\"], [0.5555555555555556, \"#d8576b\"], [0.6666666666666666, \"#ed7953\"], [0.7777777777777778, \"#fb9f3a\"], [0.8888888888888888, \"#fdca26\"], [1.0, \"#f0f921\"]], \"sequentialminus\": [[0.0, \"#0d0887\"], [0.1111111111111111, \"#46039f\"], [0.2222222222222222, \"#7201a8\"], [0.3333333333333333, \"#9c179e\"], [0.4444444444444444, \"#bd3786\"], [0.5555555555555556, \"#d8576b\"], [0.6666666666666666, \"#ed7953\"], [0.7777777777777778, \"#fb9f3a\"], [0.8888888888888888, \"#fdca26\"], [1.0, \"#f0f921\"]]}, \"colorway\": [\"#636efa\", \"#EF553B\", \"#00cc96\", \"#ab63fa\", \"#FFA15A\", \"#19d3f3\", \"#FF6692\", \"#B6E880\", \"#FF97FF\", \"#FECB52\"], \"font\": {\"color\": \"#2a3f5f\"}, \"geo\": {\"bgcolor\": \"white\", \"lakecolor\": \"white\", \"landcolor\": \"#E5ECF6\", \"showlakes\": true, \"showland\": true, \"subunitcolor\": \"white\"}, \"hoverlabel\": {\"align\": \"left\"}, \"hovermode\": \"closest\", \"mapbox\": {\"style\": \"light\"}, \"paper_bgcolor\": \"white\", \"plot_bgcolor\": \"#E5ECF6\", \"polar\": {\"angularaxis\": {\"gridcolor\": \"white\", \"linecolor\": \"white\", \"ticks\": \"\"}, \"bgcolor\": \"#E5ECF6\", \"radialaxis\": {\"gridcolor\": \"white\", \"linecolor\": \"white\", \"ticks\": \"\"}}, \"scene\": {\"xaxis\": {\"backgroundcolor\": \"#E5ECF6\", \"gridcolor\": \"white\", \"gridwidth\": 2, \"linecolor\": \"white\", \"showbackground\": true, \"ticks\": \"\", \"zerolinecolor\": \"white\"}, \"yaxis\": {\"backgroundcolor\": \"#E5ECF6\", \"gridcolor\": \"white\", \"gridwidth\": 2, \"linecolor\": \"white\", \"showbackground\": true, \"ticks\": \"\", \"zerolinecolor\": \"white\"}, \"zaxis\": {\"backgroundcolor\": \"#E5ECF6\", \"gridcolor\": \"white\", \"gridwidth\": 2, \"linecolor\": \"white\", \"showbackground\": true, \"ticks\": \"\", \"zerolinecolor\": \"white\"}}, \"shapedefaults\": {\"line\": {\"color\": \"#2a3f5f\"}}, \"ternary\": {\"aaxis\": {\"gridcolor\": \"white\", \"linecolor\": \"white\", \"ticks\": \"\"}, \"baxis\": {\"gridcolor\": \"white\", \"linecolor\": \"white\", \"ticks\": \"\"}, \"bgcolor\": \"#E5ECF6\", \"caxis\": {\"gridcolor\": \"white\", \"linecolor\": \"white\", \"ticks\": \"\"}}, \"title\": {\"x\": 0.05}, \"xaxis\": {\"automargin\": true, \"gridcolor\": \"white\", \"linecolor\": \"white\", \"ticks\": \"\", \"title\": {\"standoff\": 15}, \"zerolinecolor\": \"white\", \"zerolinewidth\": 2}, \"yaxis\": {\"automargin\": true, \"gridcolor\": \"white\", \"linecolor\": \"white\", \"ticks\": \"\", \"title\": {\"standoff\": 15}, \"zerolinecolor\": \"white\", \"zerolinewidth\": 2}}}, \"title\": {\"font\": {\"color\": \"#4D5663\"}, \"text\": \"Top 100 words after removing stop words\"}, \"xaxis\": {\"gridcolor\": \"#E1E5ED\", \"linecolor\": \"black\", \"showgrid\": true, \"tickfont\": {\"color\": \"#4D5663\"}, \"title\": {\"font\": {\"color\": \"#4D5663\"}, \"text\": \"\"}, \"zerolinecolor\": \"#E1E5ED\"}, \"yaxis\": {\"gridcolor\": \"#E1E5ED\", \"linecolor\": \"black\", \"showgrid\": true, \"tickfont\": {\"color\": \"#4D5663\"}, \"title\": {\"font\": {\"color\": \"#4D5663\"}, \"text\": \"Count\"}, \"zerolinecolor\": \"#E1E5ED\"}},\n",
       "                        {\"showLink\": true, \"linkText\": \"Export to plot.ly\", \"plotlyServerURL\": \"https://plot.ly\", \"responsive\": true}\n",
       "                    ).then(function(){\n",
       "                            \n",
       "var gd = document.getElementById('8eec9725-6764-4cb7-b09b-7d6084a59059');\n",
       "var x = new MutationObserver(function (mutations, observer) {{\n",
       "        var display = window.getComputedStyle(gd).display;\n",
       "        if (!display || display === 'none') {{\n",
       "            console.log([gd, 'removed!']);\n",
       "            Plotly.purge(gd);\n",
       "            observer.disconnect();\n",
       "        }}\n",
       "}});\n",
       "\n",
       "// Listen for the removal of the full notebook cells\n",
       "var notebookContainer = gd.closest('#notebook-container');\n",
       "if (notebookContainer) {{\n",
       "    x.observe(notebookContainer, {childList: true});\n",
       "}}\n",
       "\n",
       "// Listen for the clearing of the current output cell\n",
       "var outputEl = gd.closest('.output');\n",
       "if (outputEl) {{\n",
       "    x.observe(outputEl, {childList: true});\n",
       "}}\n",
       "\n",
       "                        })\n",
       "                };\n",
       "                });\n",
       "            </script>\n",
       "        </div>"
      ]
     },
     "metadata": {},
     "output_type": "display_data"
    }
   ],
   "source": [
    "plot_model()"
   ]
  },
  {
   "cell_type": "markdown",
   "metadata": {},
   "source": [
    "### 9.2 Top 100 Bigrams on Entire Corpus"
   ]
  },
  {
   "cell_type": "code",
   "execution_count": 14,
   "metadata": {
    "ExecuteTime": {
     "end_time": "2020-05-02T15:52:31.076580Z",
     "start_time": "2020-05-02T15:52:30.529270Z"
    }
   },
   "outputs": [
    {
     "data": {
      "text/html": [
       "        <script type=\"text/javascript\">\n",
       "        window.PlotlyConfig = {MathJaxConfig: 'local'};\n",
       "        if (window.MathJax) {MathJax.Hub.Config({SVG: {font: \"STIX-Web\"}});}\n",
       "        if (typeof require !== 'undefined') {\n",
       "        require.undef(\"plotly\");\n",
       "        requirejs.config({\n",
       "            paths: {\n",
       "                'plotly': ['https://cdn.plot.ly/plotly-latest.min']\n",
       "            }\n",
       "        });\n",
       "        require(['plotly'], function(Plotly) {\n",
       "            window._Plotly = Plotly;\n",
       "        });\n",
       "        }\n",
       "        </script>\n",
       "        "
      ]
     },
     "metadata": {},
     "output_type": "display_data"
    },
    {
     "data": {
      "application/vnd.plotly.v1+json": {
       "config": {
        "linkText": "Export to plot.ly",
        "plotlyServerURL": "https://plot.ly",
        "showLink": true
       },
       "data": [
        {
         "marker": {
          "color": "rgba(255, 153, 51, 0.6)",
          "line": {
           "color": "rgba(255, 153, 51, 1.0)",
           "width": 1
          }
         },
         "name": "count",
         "orientation": "v",
         "text": "",
         "type": "bar",
         "x": [
          "year old",
          "request loan",
          "start business",
          "use loan",
          "expand business",
          "loan buy",
          "year ago",
          "married child",
          "repay loan",
          "old married",
          "business year",
          "school fee",
          "loan use",
          "child school",
          "first loan",
          "loan usd",
          "woman group",
          "marry child",
          "second loan",
          "primary school",
          "business sell",
          "hard work",
          "work hard",
          "old child",
          "small business",
          "mother child",
          "loan purchase",
          "pay school",
          "apply loan",
          "secondary school",
          "educate child",
          "support family",
          "use buy",
          "business able",
          "increase stock",
          "increase income",
          "husband work",
          "need loan",
          "business description",
          "loan order",
          "run business",
          "child live",
          "group member",
          "business grow",
          "last year",
          "training_educational_programs_information microfinance_ecuador_services_please",
          "microinsurance_access business",
          "mifex_offers_client microinsurance_access",
          "business training_educational_programs_information",
          "start small",
          "year experience",
          "able buy",
          "loan pemci",
          "microfinance_ecuador_services_please org",
          "sell product",
          "high school",
          "help business",
          "operate business",
          "start sell",
          "attend school",
          "husband child",
          "also sell",
          "able repay",
          "farmer also",
          "business help",
          "child primary",
          "give loan",
          "go school",
          "loan able",
          "child child",
          "rice farmer",
          "begin business",
          "sell clothing",
          "receive loan",
          "willing_repay loan",
          "family need",
          "loan help",
          "child age",
          "improve family",
          "community santo_domingo",
          "person group",
          "loan may_represent_higher_default",
          "local_businesses_lender entrepreneur_aware",
          "many local_businesses_lender",
          "old mother",
          "kenya_security_situation_many communities_remains_unsettled_affect",
          "provide family",
          "communities_remains_unsettled_affect many",
          "disclaimer_due_recent_event kenya_security_situation_many",
          "provide good",
          "entrepreneur_aware loan",
          "risk_willing_accept_additional risk_making",
          "risk_making loan",
          "may_represent_higher_default risk_willing_accept_additional",
          "member group",
          "fee child",
          "good life",
          "live husband",
          "loan group",
          "loan invest"
         ],
         "y": [
          559,
          196,
          173,
          152,
          151,
          150,
          149,
          144,
          135,
          133,
          108,
          104,
          97,
          97,
          96,
          93,
          87,
          86,
          83,
          81,
          78,
          76,
          70,
          67,
          67,
          67,
          65,
          58,
          57,
          57,
          56,
          56,
          56,
          54,
          53,
          52,
          51,
          51,
          50,
          49,
          48,
          48,
          48,
          47,
          47,
          46,
          46,
          46,
          46,
          46,
          46,
          44,
          44,
          44,
          43,
          43,
          43,
          42,
          42,
          42,
          42,
          41,
          41,
          41,
          40,
          40,
          40,
          40,
          40,
          39,
          38,
          38,
          38,
          37,
          37,
          37,
          36,
          36,
          35,
          33,
          33,
          32,
          32,
          32,
          32,
          32,
          32,
          32,
          32,
          32,
          32,
          32,
          32,
          32,
          32,
          31,
          30,
          30,
          30,
          30
         ]
        }
       ],
       "layout": {
        "legend": {
         "bgcolor": "#F5F6F9",
         "font": {
          "color": "#4D5663"
         }
        },
        "paper_bgcolor": "#F5F6F9",
        "plot_bgcolor": "#F5F6F9",
        "template": {
         "data": {
          "bar": [
           {
            "error_x": {
             "color": "#2a3f5f"
            },
            "error_y": {
             "color": "#2a3f5f"
            },
            "marker": {
             "line": {
              "color": "#E5ECF6",
              "width": 0.5
             }
            },
            "type": "bar"
           }
          ],
          "barpolar": [
           {
            "marker": {
             "line": {
              "color": "#E5ECF6",
              "width": 0.5
             }
            },
            "type": "barpolar"
           }
          ],
          "carpet": [
           {
            "aaxis": {
             "endlinecolor": "#2a3f5f",
             "gridcolor": "white",
             "linecolor": "white",
             "minorgridcolor": "white",
             "startlinecolor": "#2a3f5f"
            },
            "baxis": {
             "endlinecolor": "#2a3f5f",
             "gridcolor": "white",
             "linecolor": "white",
             "minorgridcolor": "white",
             "startlinecolor": "#2a3f5f"
            },
            "type": "carpet"
           }
          ],
          "choropleth": [
           {
            "colorbar": {
             "outlinewidth": 0,
             "ticks": ""
            },
            "type": "choropleth"
           }
          ],
          "contour": [
           {
            "colorbar": {
             "outlinewidth": 0,
             "ticks": ""
            },
            "colorscale": [
             [
              0,
              "#0d0887"
             ],
             [
              0.1111111111111111,
              "#46039f"
             ],
             [
              0.2222222222222222,
              "#7201a8"
             ],
             [
              0.3333333333333333,
              "#9c179e"
             ],
             [
              0.4444444444444444,
              "#bd3786"
             ],
             [
              0.5555555555555556,
              "#d8576b"
             ],
             [
              0.6666666666666666,
              "#ed7953"
             ],
             [
              0.7777777777777778,
              "#fb9f3a"
             ],
             [
              0.8888888888888888,
              "#fdca26"
             ],
             [
              1,
              "#f0f921"
             ]
            ],
            "type": "contour"
           }
          ],
          "contourcarpet": [
           {
            "colorbar": {
             "outlinewidth": 0,
             "ticks": ""
            },
            "type": "contourcarpet"
           }
          ],
          "heatmap": [
           {
            "colorbar": {
             "outlinewidth": 0,
             "ticks": ""
            },
            "colorscale": [
             [
              0,
              "#0d0887"
             ],
             [
              0.1111111111111111,
              "#46039f"
             ],
             [
              0.2222222222222222,
              "#7201a8"
             ],
             [
              0.3333333333333333,
              "#9c179e"
             ],
             [
              0.4444444444444444,
              "#bd3786"
             ],
             [
              0.5555555555555556,
              "#d8576b"
             ],
             [
              0.6666666666666666,
              "#ed7953"
             ],
             [
              0.7777777777777778,
              "#fb9f3a"
             ],
             [
              0.8888888888888888,
              "#fdca26"
             ],
             [
              1,
              "#f0f921"
             ]
            ],
            "type": "heatmap"
           }
          ],
          "heatmapgl": [
           {
            "colorbar": {
             "outlinewidth": 0,
             "ticks": ""
            },
            "colorscale": [
             [
              0,
              "#0d0887"
             ],
             [
              0.1111111111111111,
              "#46039f"
             ],
             [
              0.2222222222222222,
              "#7201a8"
             ],
             [
              0.3333333333333333,
              "#9c179e"
             ],
             [
              0.4444444444444444,
              "#bd3786"
             ],
             [
              0.5555555555555556,
              "#d8576b"
             ],
             [
              0.6666666666666666,
              "#ed7953"
             ],
             [
              0.7777777777777778,
              "#fb9f3a"
             ],
             [
              0.8888888888888888,
              "#fdca26"
             ],
             [
              1,
              "#f0f921"
             ]
            ],
            "type": "heatmapgl"
           }
          ],
          "histogram": [
           {
            "marker": {
             "colorbar": {
              "outlinewidth": 0,
              "ticks": ""
             }
            },
            "type": "histogram"
           }
          ],
          "histogram2d": [
           {
            "colorbar": {
             "outlinewidth": 0,
             "ticks": ""
            },
            "colorscale": [
             [
              0,
              "#0d0887"
             ],
             [
              0.1111111111111111,
              "#46039f"
             ],
             [
              0.2222222222222222,
              "#7201a8"
             ],
             [
              0.3333333333333333,
              "#9c179e"
             ],
             [
              0.4444444444444444,
              "#bd3786"
             ],
             [
              0.5555555555555556,
              "#d8576b"
             ],
             [
              0.6666666666666666,
              "#ed7953"
             ],
             [
              0.7777777777777778,
              "#fb9f3a"
             ],
             [
              0.8888888888888888,
              "#fdca26"
             ],
             [
              1,
              "#f0f921"
             ]
            ],
            "type": "histogram2d"
           }
          ],
          "histogram2dcontour": [
           {
            "colorbar": {
             "outlinewidth": 0,
             "ticks": ""
            },
            "colorscale": [
             [
              0,
              "#0d0887"
             ],
             [
              0.1111111111111111,
              "#46039f"
             ],
             [
              0.2222222222222222,
              "#7201a8"
             ],
             [
              0.3333333333333333,
              "#9c179e"
             ],
             [
              0.4444444444444444,
              "#bd3786"
             ],
             [
              0.5555555555555556,
              "#d8576b"
             ],
             [
              0.6666666666666666,
              "#ed7953"
             ],
             [
              0.7777777777777778,
              "#fb9f3a"
             ],
             [
              0.8888888888888888,
              "#fdca26"
             ],
             [
              1,
              "#f0f921"
             ]
            ],
            "type": "histogram2dcontour"
           }
          ],
          "mesh3d": [
           {
            "colorbar": {
             "outlinewidth": 0,
             "ticks": ""
            },
            "type": "mesh3d"
           }
          ],
          "parcoords": [
           {
            "line": {
             "colorbar": {
              "outlinewidth": 0,
              "ticks": ""
             }
            },
            "type": "parcoords"
           }
          ],
          "pie": [
           {
            "automargin": true,
            "type": "pie"
           }
          ],
          "scatter": [
           {
            "marker": {
             "colorbar": {
              "outlinewidth": 0,
              "ticks": ""
             }
            },
            "type": "scatter"
           }
          ],
          "scatter3d": [
           {
            "line": {
             "colorbar": {
              "outlinewidth": 0,
              "ticks": ""
             }
            },
            "marker": {
             "colorbar": {
              "outlinewidth": 0,
              "ticks": ""
             }
            },
            "type": "scatter3d"
           }
          ],
          "scattercarpet": [
           {
            "marker": {
             "colorbar": {
              "outlinewidth": 0,
              "ticks": ""
             }
            },
            "type": "scattercarpet"
           }
          ],
          "scattergeo": [
           {
            "marker": {
             "colorbar": {
              "outlinewidth": 0,
              "ticks": ""
             }
            },
            "type": "scattergeo"
           }
          ],
          "scattergl": [
           {
            "marker": {
             "colorbar": {
              "outlinewidth": 0,
              "ticks": ""
             }
            },
            "type": "scattergl"
           }
          ],
          "scattermapbox": [
           {
            "marker": {
             "colorbar": {
              "outlinewidth": 0,
              "ticks": ""
             }
            },
            "type": "scattermapbox"
           }
          ],
          "scatterpolar": [
           {
            "marker": {
             "colorbar": {
              "outlinewidth": 0,
              "ticks": ""
             }
            },
            "type": "scatterpolar"
           }
          ],
          "scatterpolargl": [
           {
            "marker": {
             "colorbar": {
              "outlinewidth": 0,
              "ticks": ""
             }
            },
            "type": "scatterpolargl"
           }
          ],
          "scatterternary": [
           {
            "marker": {
             "colorbar": {
              "outlinewidth": 0,
              "ticks": ""
             }
            },
            "type": "scatterternary"
           }
          ],
          "surface": [
           {
            "colorbar": {
             "outlinewidth": 0,
             "ticks": ""
            },
            "colorscale": [
             [
              0,
              "#0d0887"
             ],
             [
              0.1111111111111111,
              "#46039f"
             ],
             [
              0.2222222222222222,
              "#7201a8"
             ],
             [
              0.3333333333333333,
              "#9c179e"
             ],
             [
              0.4444444444444444,
              "#bd3786"
             ],
             [
              0.5555555555555556,
              "#d8576b"
             ],
             [
              0.6666666666666666,
              "#ed7953"
             ],
             [
              0.7777777777777778,
              "#fb9f3a"
             ],
             [
              0.8888888888888888,
              "#fdca26"
             ],
             [
              1,
              "#f0f921"
             ]
            ],
            "type": "surface"
           }
          ],
          "table": [
           {
            "cells": {
             "fill": {
              "color": "#EBF0F8"
             },
             "line": {
              "color": "white"
             }
            },
            "header": {
             "fill": {
              "color": "#C8D4E3"
             },
             "line": {
              "color": "white"
             }
            },
            "type": "table"
           }
          ]
         },
         "layout": {
          "annotationdefaults": {
           "arrowcolor": "#2a3f5f",
           "arrowhead": 0,
           "arrowwidth": 1
          },
          "coloraxis": {
           "colorbar": {
            "outlinewidth": 0,
            "ticks": ""
           }
          },
          "colorscale": {
           "diverging": [
            [
             0,
             "#8e0152"
            ],
            [
             0.1,
             "#c51b7d"
            ],
            [
             0.2,
             "#de77ae"
            ],
            [
             0.3,
             "#f1b6da"
            ],
            [
             0.4,
             "#fde0ef"
            ],
            [
             0.5,
             "#f7f7f7"
            ],
            [
             0.6,
             "#e6f5d0"
            ],
            [
             0.7,
             "#b8e186"
            ],
            [
             0.8,
             "#7fbc41"
            ],
            [
             0.9,
             "#4d9221"
            ],
            [
             1,
             "#276419"
            ]
           ],
           "sequential": [
            [
             0,
             "#0d0887"
            ],
            [
             0.1111111111111111,
             "#46039f"
            ],
            [
             0.2222222222222222,
             "#7201a8"
            ],
            [
             0.3333333333333333,
             "#9c179e"
            ],
            [
             0.4444444444444444,
             "#bd3786"
            ],
            [
             0.5555555555555556,
             "#d8576b"
            ],
            [
             0.6666666666666666,
             "#ed7953"
            ],
            [
             0.7777777777777778,
             "#fb9f3a"
            ],
            [
             0.8888888888888888,
             "#fdca26"
            ],
            [
             1,
             "#f0f921"
            ]
           ],
           "sequentialminus": [
            [
             0,
             "#0d0887"
            ],
            [
             0.1111111111111111,
             "#46039f"
            ],
            [
             0.2222222222222222,
             "#7201a8"
            ],
            [
             0.3333333333333333,
             "#9c179e"
            ],
            [
             0.4444444444444444,
             "#bd3786"
            ],
            [
             0.5555555555555556,
             "#d8576b"
            ],
            [
             0.6666666666666666,
             "#ed7953"
            ],
            [
             0.7777777777777778,
             "#fb9f3a"
            ],
            [
             0.8888888888888888,
             "#fdca26"
            ],
            [
             1,
             "#f0f921"
            ]
           ]
          },
          "colorway": [
           "#636efa",
           "#EF553B",
           "#00cc96",
           "#ab63fa",
           "#FFA15A",
           "#19d3f3",
           "#FF6692",
           "#B6E880",
           "#FF97FF",
           "#FECB52"
          ],
          "font": {
           "color": "#2a3f5f"
          },
          "geo": {
           "bgcolor": "white",
           "lakecolor": "white",
           "landcolor": "#E5ECF6",
           "showlakes": true,
           "showland": true,
           "subunitcolor": "white"
          },
          "hoverlabel": {
           "align": "left"
          },
          "hovermode": "closest",
          "mapbox": {
           "style": "light"
          },
          "paper_bgcolor": "white",
          "plot_bgcolor": "#E5ECF6",
          "polar": {
           "angularaxis": {
            "gridcolor": "white",
            "linecolor": "white",
            "ticks": ""
           },
           "bgcolor": "#E5ECF6",
           "radialaxis": {
            "gridcolor": "white",
            "linecolor": "white",
            "ticks": ""
           }
          },
          "scene": {
           "xaxis": {
            "backgroundcolor": "#E5ECF6",
            "gridcolor": "white",
            "gridwidth": 2,
            "linecolor": "white",
            "showbackground": true,
            "ticks": "",
            "zerolinecolor": "white"
           },
           "yaxis": {
            "backgroundcolor": "#E5ECF6",
            "gridcolor": "white",
            "gridwidth": 2,
            "linecolor": "white",
            "showbackground": true,
            "ticks": "",
            "zerolinecolor": "white"
           },
           "zaxis": {
            "backgroundcolor": "#E5ECF6",
            "gridcolor": "white",
            "gridwidth": 2,
            "linecolor": "white",
            "showbackground": true,
            "ticks": "",
            "zerolinecolor": "white"
           }
          },
          "shapedefaults": {
           "line": {
            "color": "#2a3f5f"
           }
          },
          "ternary": {
           "aaxis": {
            "gridcolor": "white",
            "linecolor": "white",
            "ticks": ""
           },
           "baxis": {
            "gridcolor": "white",
            "linecolor": "white",
            "ticks": ""
           },
           "bgcolor": "#E5ECF6",
           "caxis": {
            "gridcolor": "white",
            "linecolor": "white",
            "ticks": ""
           }
          },
          "title": {
           "x": 0.05
          },
          "xaxis": {
           "automargin": true,
           "gridcolor": "white",
           "linecolor": "white",
           "ticks": "",
           "title": {
            "standoff": 15
           },
           "zerolinecolor": "white",
           "zerolinewidth": 2
          },
          "yaxis": {
           "automargin": true,
           "gridcolor": "white",
           "linecolor": "white",
           "ticks": "",
           "title": {
            "standoff": 15
           },
           "zerolinecolor": "white",
           "zerolinewidth": 2
          }
         }
        },
        "title": {
         "font": {
          "color": "#4D5663"
         },
         "text": "Top 100 bigrams after removing stop words"
        },
        "xaxis": {
         "gridcolor": "#E1E5ED",
         "linecolor": "black",
         "showgrid": true,
         "tickfont": {
          "color": "#4D5663"
         },
         "title": {
          "font": {
           "color": "#4D5663"
          },
          "text": ""
         },
         "zerolinecolor": "#E1E5ED"
        },
        "yaxis": {
         "gridcolor": "#E1E5ED",
         "linecolor": "black",
         "showgrid": true,
         "tickfont": {
          "color": "#4D5663"
         },
         "title": {
          "font": {
           "color": "#4D5663"
          },
          "text": "Count"
         },
         "zerolinecolor": "#E1E5ED"
        }
       }
      },
      "text/html": [
       "<div>\n",
       "        \n",
       "        \n",
       "            <div id=\"7625139b-9dbd-4d2b-a0f0-3d8183689330\" class=\"plotly-graph-div\" style=\"height:525px; width:100%;\"></div>\n",
       "            <script type=\"text/javascript\">\n",
       "                require([\"plotly\"], function(Plotly) {\n",
       "                    window.PLOTLYENV=window.PLOTLYENV || {};\n",
       "                    window.PLOTLYENV.BASE_URL='https://plot.ly';\n",
       "                    \n",
       "                if (document.getElementById(\"7625139b-9dbd-4d2b-a0f0-3d8183689330\")) {\n",
       "                    Plotly.newPlot(\n",
       "                        '7625139b-9dbd-4d2b-a0f0-3d8183689330',\n",
       "                        [{\"marker\": {\"color\": \"rgba(255, 153, 51, 0.6)\", \"line\": {\"color\": \"rgba(255, 153, 51, 1.0)\", \"width\": 1}}, \"name\": \"count\", \"orientation\": \"v\", \"text\": \"\", \"type\": \"bar\", \"x\": [\"year old\", \"request loan\", \"start business\", \"use loan\", \"expand business\", \"loan buy\", \"year ago\", \"married child\", \"repay loan\", \"old married\", \"business year\", \"school fee\", \"loan use\", \"child school\", \"first loan\", \"loan usd\", \"woman group\", \"marry child\", \"second loan\", \"primary school\", \"business sell\", \"hard work\", \"work hard\", \"old child\", \"small business\", \"mother child\", \"loan purchase\", \"pay school\", \"apply loan\", \"secondary school\", \"educate child\", \"support family\", \"use buy\", \"business able\", \"increase stock\", \"increase income\", \"husband work\", \"need loan\", \"business description\", \"loan order\", \"run business\", \"child live\", \"group member\", \"business grow\", \"last year\", \"training_educational_programs_information microfinance_ecuador_services_please\", \"microinsurance_access business\", \"mifex_offers_client microinsurance_access\", \"business training_educational_programs_information\", \"start small\", \"year experience\", \"able buy\", \"loan pemci\", \"microfinance_ecuador_services_please org\", \"sell product\", \"high school\", \"help business\", \"operate business\", \"start sell\", \"attend school\", \"husband child\", \"also sell\", \"able repay\", \"farmer also\", \"business help\", \"child primary\", \"give loan\", \"go school\", \"loan able\", \"child child\", \"rice farmer\", \"begin business\", \"sell clothing\", \"receive loan\", \"willing_repay loan\", \"family need\", \"loan help\", \"child age\", \"improve family\", \"community santo_domingo\", \"person group\", \"loan may_represent_higher_default\", \"local_businesses_lender entrepreneur_aware\", \"many local_businesses_lender\", \"old mother\", \"kenya_security_situation_many communities_remains_unsettled_affect\", \"provide family\", \"communities_remains_unsettled_affect many\", \"disclaimer_due_recent_event kenya_security_situation_many\", \"provide good\", \"entrepreneur_aware loan\", \"risk_willing_accept_additional risk_making\", \"risk_making loan\", \"may_represent_higher_default risk_willing_accept_additional\", \"member group\", \"fee child\", \"good life\", \"live husband\", \"loan group\", \"loan invest\"], \"y\": [559, 196, 173, 152, 151, 150, 149, 144, 135, 133, 108, 104, 97, 97, 96, 93, 87, 86, 83, 81, 78, 76, 70, 67, 67, 67, 65, 58, 57, 57, 56, 56, 56, 54, 53, 52, 51, 51, 50, 49, 48, 48, 48, 47, 47, 46, 46, 46, 46, 46, 46, 44, 44, 44, 43, 43, 43, 42, 42, 42, 42, 41, 41, 41, 40, 40, 40, 40, 40, 39, 38, 38, 38, 37, 37, 37, 36, 36, 35, 33, 33, 32, 32, 32, 32, 32, 32, 32, 32, 32, 32, 32, 32, 32, 32, 31, 30, 30, 30, 30]}],\n",
       "                        {\"legend\": {\"bgcolor\": \"#F5F6F9\", \"font\": {\"color\": \"#4D5663\"}}, \"paper_bgcolor\": \"#F5F6F9\", \"plot_bgcolor\": \"#F5F6F9\", \"template\": {\"data\": {\"bar\": [{\"error_x\": {\"color\": \"#2a3f5f\"}, \"error_y\": {\"color\": \"#2a3f5f\"}, \"marker\": {\"line\": {\"color\": \"#E5ECF6\", \"width\": 0.5}}, \"type\": \"bar\"}], \"barpolar\": [{\"marker\": {\"line\": {\"color\": \"#E5ECF6\", \"width\": 0.5}}, \"type\": \"barpolar\"}], \"carpet\": [{\"aaxis\": {\"endlinecolor\": \"#2a3f5f\", \"gridcolor\": \"white\", \"linecolor\": \"white\", \"minorgridcolor\": \"white\", \"startlinecolor\": \"#2a3f5f\"}, \"baxis\": {\"endlinecolor\": \"#2a3f5f\", \"gridcolor\": \"white\", \"linecolor\": \"white\", \"minorgridcolor\": \"white\", \"startlinecolor\": \"#2a3f5f\"}, \"type\": \"carpet\"}], \"choropleth\": [{\"colorbar\": {\"outlinewidth\": 0, \"ticks\": \"\"}, \"type\": \"choropleth\"}], \"contour\": [{\"colorbar\": {\"outlinewidth\": 0, \"ticks\": \"\"}, \"colorscale\": [[0.0, \"#0d0887\"], [0.1111111111111111, \"#46039f\"], [0.2222222222222222, \"#7201a8\"], [0.3333333333333333, \"#9c179e\"], [0.4444444444444444, \"#bd3786\"], [0.5555555555555556, \"#d8576b\"], [0.6666666666666666, \"#ed7953\"], [0.7777777777777778, \"#fb9f3a\"], [0.8888888888888888, \"#fdca26\"], [1.0, \"#f0f921\"]], \"type\": \"contour\"}], \"contourcarpet\": [{\"colorbar\": {\"outlinewidth\": 0, \"ticks\": \"\"}, \"type\": \"contourcarpet\"}], \"heatmap\": [{\"colorbar\": {\"outlinewidth\": 0, \"ticks\": \"\"}, \"colorscale\": [[0.0, \"#0d0887\"], [0.1111111111111111, \"#46039f\"], [0.2222222222222222, \"#7201a8\"], [0.3333333333333333, \"#9c179e\"], [0.4444444444444444, \"#bd3786\"], [0.5555555555555556, \"#d8576b\"], [0.6666666666666666, \"#ed7953\"], [0.7777777777777778, \"#fb9f3a\"], [0.8888888888888888, \"#fdca26\"], [1.0, \"#f0f921\"]], \"type\": \"heatmap\"}], \"heatmapgl\": [{\"colorbar\": {\"outlinewidth\": 0, \"ticks\": \"\"}, \"colorscale\": [[0.0, \"#0d0887\"], [0.1111111111111111, \"#46039f\"], [0.2222222222222222, \"#7201a8\"], [0.3333333333333333, \"#9c179e\"], [0.4444444444444444, \"#bd3786\"], [0.5555555555555556, \"#d8576b\"], [0.6666666666666666, \"#ed7953\"], [0.7777777777777778, \"#fb9f3a\"], [0.8888888888888888, \"#fdca26\"], [1.0, \"#f0f921\"]], \"type\": \"heatmapgl\"}], \"histogram\": [{\"marker\": {\"colorbar\": {\"outlinewidth\": 0, \"ticks\": \"\"}}, \"type\": \"histogram\"}], \"histogram2d\": [{\"colorbar\": {\"outlinewidth\": 0, \"ticks\": \"\"}, \"colorscale\": [[0.0, \"#0d0887\"], [0.1111111111111111, \"#46039f\"], [0.2222222222222222, \"#7201a8\"], [0.3333333333333333, \"#9c179e\"], [0.4444444444444444, \"#bd3786\"], [0.5555555555555556, \"#d8576b\"], [0.6666666666666666, \"#ed7953\"], [0.7777777777777778, \"#fb9f3a\"], [0.8888888888888888, \"#fdca26\"], [1.0, \"#f0f921\"]], \"type\": \"histogram2d\"}], \"histogram2dcontour\": [{\"colorbar\": {\"outlinewidth\": 0, \"ticks\": \"\"}, \"colorscale\": [[0.0, \"#0d0887\"], [0.1111111111111111, \"#46039f\"], [0.2222222222222222, \"#7201a8\"], [0.3333333333333333, \"#9c179e\"], [0.4444444444444444, \"#bd3786\"], [0.5555555555555556, \"#d8576b\"], [0.6666666666666666, \"#ed7953\"], [0.7777777777777778, \"#fb9f3a\"], [0.8888888888888888, \"#fdca26\"], [1.0, \"#f0f921\"]], \"type\": \"histogram2dcontour\"}], \"mesh3d\": [{\"colorbar\": {\"outlinewidth\": 0, \"ticks\": \"\"}, \"type\": \"mesh3d\"}], \"parcoords\": [{\"line\": {\"colorbar\": {\"outlinewidth\": 0, \"ticks\": \"\"}}, \"type\": \"parcoords\"}], \"pie\": [{\"automargin\": true, \"type\": \"pie\"}], \"scatter\": [{\"marker\": {\"colorbar\": {\"outlinewidth\": 0, \"ticks\": \"\"}}, \"type\": \"scatter\"}], \"scatter3d\": [{\"line\": {\"colorbar\": {\"outlinewidth\": 0, \"ticks\": \"\"}}, \"marker\": {\"colorbar\": {\"outlinewidth\": 0, \"ticks\": \"\"}}, \"type\": \"scatter3d\"}], \"scattercarpet\": [{\"marker\": {\"colorbar\": {\"outlinewidth\": 0, \"ticks\": \"\"}}, \"type\": \"scattercarpet\"}], \"scattergeo\": [{\"marker\": {\"colorbar\": {\"outlinewidth\": 0, \"ticks\": \"\"}}, \"type\": \"scattergeo\"}], \"scattergl\": [{\"marker\": {\"colorbar\": {\"outlinewidth\": 0, \"ticks\": \"\"}}, \"type\": \"scattergl\"}], \"scattermapbox\": [{\"marker\": {\"colorbar\": {\"outlinewidth\": 0, \"ticks\": \"\"}}, \"type\": \"scattermapbox\"}], \"scatterpolar\": [{\"marker\": {\"colorbar\": {\"outlinewidth\": 0, \"ticks\": \"\"}}, \"type\": \"scatterpolar\"}], \"scatterpolargl\": [{\"marker\": {\"colorbar\": {\"outlinewidth\": 0, \"ticks\": \"\"}}, \"type\": \"scatterpolargl\"}], \"scatterternary\": [{\"marker\": {\"colorbar\": {\"outlinewidth\": 0, \"ticks\": \"\"}}, \"type\": \"scatterternary\"}], \"surface\": [{\"colorbar\": {\"outlinewidth\": 0, \"ticks\": \"\"}, \"colorscale\": [[0.0, \"#0d0887\"], [0.1111111111111111, \"#46039f\"], [0.2222222222222222, \"#7201a8\"], [0.3333333333333333, \"#9c179e\"], [0.4444444444444444, \"#bd3786\"], [0.5555555555555556, \"#d8576b\"], [0.6666666666666666, \"#ed7953\"], [0.7777777777777778, \"#fb9f3a\"], [0.8888888888888888, \"#fdca26\"], [1.0, \"#f0f921\"]], \"type\": \"surface\"}], \"table\": [{\"cells\": {\"fill\": {\"color\": \"#EBF0F8\"}, \"line\": {\"color\": \"white\"}}, \"header\": {\"fill\": {\"color\": \"#C8D4E3\"}, \"line\": {\"color\": \"white\"}}, \"type\": \"table\"}]}, \"layout\": {\"annotationdefaults\": {\"arrowcolor\": \"#2a3f5f\", \"arrowhead\": 0, \"arrowwidth\": 1}, \"coloraxis\": {\"colorbar\": {\"outlinewidth\": 0, \"ticks\": \"\"}}, \"colorscale\": {\"diverging\": [[0, \"#8e0152\"], [0.1, \"#c51b7d\"], [0.2, \"#de77ae\"], [0.3, \"#f1b6da\"], [0.4, \"#fde0ef\"], [0.5, \"#f7f7f7\"], [0.6, \"#e6f5d0\"], [0.7, \"#b8e186\"], [0.8, \"#7fbc41\"], [0.9, \"#4d9221\"], [1, \"#276419\"]], \"sequential\": [[0.0, \"#0d0887\"], [0.1111111111111111, \"#46039f\"], [0.2222222222222222, \"#7201a8\"], [0.3333333333333333, \"#9c179e\"], [0.4444444444444444, \"#bd3786\"], [0.5555555555555556, \"#d8576b\"], [0.6666666666666666, \"#ed7953\"], [0.7777777777777778, \"#fb9f3a\"], [0.8888888888888888, \"#fdca26\"], [1.0, \"#f0f921\"]], \"sequentialminus\": [[0.0, \"#0d0887\"], [0.1111111111111111, \"#46039f\"], [0.2222222222222222, \"#7201a8\"], [0.3333333333333333, \"#9c179e\"], [0.4444444444444444, \"#bd3786\"], [0.5555555555555556, \"#d8576b\"], [0.6666666666666666, \"#ed7953\"], [0.7777777777777778, \"#fb9f3a\"], [0.8888888888888888, \"#fdca26\"], [1.0, \"#f0f921\"]]}, \"colorway\": [\"#636efa\", \"#EF553B\", \"#00cc96\", \"#ab63fa\", \"#FFA15A\", \"#19d3f3\", \"#FF6692\", \"#B6E880\", \"#FF97FF\", \"#FECB52\"], \"font\": {\"color\": \"#2a3f5f\"}, \"geo\": {\"bgcolor\": \"white\", \"lakecolor\": \"white\", \"landcolor\": \"#E5ECF6\", \"showlakes\": true, \"showland\": true, \"subunitcolor\": \"white\"}, \"hoverlabel\": {\"align\": \"left\"}, \"hovermode\": \"closest\", \"mapbox\": {\"style\": \"light\"}, \"paper_bgcolor\": \"white\", \"plot_bgcolor\": \"#E5ECF6\", \"polar\": {\"angularaxis\": {\"gridcolor\": \"white\", \"linecolor\": \"white\", \"ticks\": \"\"}, \"bgcolor\": \"#E5ECF6\", \"radialaxis\": {\"gridcolor\": \"white\", \"linecolor\": \"white\", \"ticks\": \"\"}}, \"scene\": {\"xaxis\": {\"backgroundcolor\": \"#E5ECF6\", \"gridcolor\": \"white\", \"gridwidth\": 2, \"linecolor\": \"white\", \"showbackground\": true, \"ticks\": \"\", \"zerolinecolor\": \"white\"}, \"yaxis\": {\"backgroundcolor\": \"#E5ECF6\", \"gridcolor\": \"white\", \"gridwidth\": 2, \"linecolor\": \"white\", \"showbackground\": true, \"ticks\": \"\", \"zerolinecolor\": \"white\"}, \"zaxis\": {\"backgroundcolor\": \"#E5ECF6\", \"gridcolor\": \"white\", \"gridwidth\": 2, \"linecolor\": \"white\", \"showbackground\": true, \"ticks\": \"\", \"zerolinecolor\": \"white\"}}, \"shapedefaults\": {\"line\": {\"color\": \"#2a3f5f\"}}, \"ternary\": {\"aaxis\": {\"gridcolor\": \"white\", \"linecolor\": \"white\", \"ticks\": \"\"}, \"baxis\": {\"gridcolor\": \"white\", \"linecolor\": \"white\", \"ticks\": \"\"}, \"bgcolor\": \"#E5ECF6\", \"caxis\": {\"gridcolor\": \"white\", \"linecolor\": \"white\", \"ticks\": \"\"}}, \"title\": {\"x\": 0.05}, \"xaxis\": {\"automargin\": true, \"gridcolor\": \"white\", \"linecolor\": \"white\", \"ticks\": \"\", \"title\": {\"standoff\": 15}, \"zerolinecolor\": \"white\", \"zerolinewidth\": 2}, \"yaxis\": {\"automargin\": true, \"gridcolor\": \"white\", \"linecolor\": \"white\", \"ticks\": \"\", \"title\": {\"standoff\": 15}, \"zerolinecolor\": \"white\", \"zerolinewidth\": 2}}}, \"title\": {\"font\": {\"color\": \"#4D5663\"}, \"text\": \"Top 100 bigrams after removing stop words\"}, \"xaxis\": {\"gridcolor\": \"#E1E5ED\", \"linecolor\": \"black\", \"showgrid\": true, \"tickfont\": {\"color\": \"#4D5663\"}, \"title\": {\"font\": {\"color\": \"#4D5663\"}, \"text\": \"\"}, \"zerolinecolor\": \"#E1E5ED\"}, \"yaxis\": {\"gridcolor\": \"#E1E5ED\", \"linecolor\": \"black\", \"showgrid\": true, \"tickfont\": {\"color\": \"#4D5663\"}, \"title\": {\"font\": {\"color\": \"#4D5663\"}, \"text\": \"Count\"}, \"zerolinecolor\": \"#E1E5ED\"}},\n",
       "                        {\"showLink\": true, \"linkText\": \"Export to plot.ly\", \"plotlyServerURL\": \"https://plot.ly\", \"responsive\": true}\n",
       "                    ).then(function(){\n",
       "                            \n",
       "var gd = document.getElementById('7625139b-9dbd-4d2b-a0f0-3d8183689330');\n",
       "var x = new MutationObserver(function (mutations, observer) {{\n",
       "        var display = window.getComputedStyle(gd).display;\n",
       "        if (!display || display === 'none') {{\n",
       "            console.log([gd, 'removed!']);\n",
       "            Plotly.purge(gd);\n",
       "            observer.disconnect();\n",
       "        }}\n",
       "}});\n",
       "\n",
       "// Listen for the removal of the full notebook cells\n",
       "var notebookContainer = gd.closest('#notebook-container');\n",
       "if (notebookContainer) {{\n",
       "    x.observe(notebookContainer, {childList: true});\n",
       "}}\n",
       "\n",
       "// Listen for the clearing of the current output cell\n",
       "var outputEl = gd.closest('.output');\n",
       "if (outputEl) {{\n",
       "    x.observe(outputEl, {childList: true});\n",
       "}}\n",
       "\n",
       "                        })\n",
       "                };\n",
       "                });\n",
       "            </script>\n",
       "        </div>"
      ]
     },
     "metadata": {},
     "output_type": "display_data"
    }
   ],
   "source": [
    "plot_model(plot = 'bigram')"
   ]
  },
  {
   "cell_type": "markdown",
   "metadata": {},
   "source": [
    "### 9.3 Frequency Distribution of Topic 1"
   ]
  },
  {
   "cell_type": "markdown",
   "metadata": {},
   "source": [
    "`plot_model()` can also be used to analyze the same plots for specific topics. To generate plots at the topic level, the function requires the trained model object to be passed inside `plot_model()`. In the example below we will generate a frequency distribution on `Topic 1` only as defined by `topic_num` parameter."
   ]
  },
  {
   "cell_type": "code",
   "execution_count": 15,
   "metadata": {
    "ExecuteTime": {
     "end_time": "2020-05-02T15:52:31.932014Z",
     "start_time": "2020-05-02T15:52:31.077626Z"
    }
   },
   "outputs": [
    {
     "data": {
      "text/html": [
       "        <script type=\"text/javascript\">\n",
       "        window.PlotlyConfig = {MathJaxConfig: 'local'};\n",
       "        if (window.MathJax) {MathJax.Hub.Config({SVG: {font: \"STIX-Web\"}});}\n",
       "        if (typeof require !== 'undefined') {\n",
       "        require.undef(\"plotly\");\n",
       "        requirejs.config({\n",
       "            paths: {\n",
       "                'plotly': ['https://cdn.plot.ly/plotly-latest.min']\n",
       "            }\n",
       "        });\n",
       "        require(['plotly'], function(Plotly) {\n",
       "            window._Plotly = Plotly;\n",
       "        });\n",
       "        }\n",
       "        </script>\n",
       "        "
      ]
     },
     "metadata": {},
     "output_type": "display_data"
    },
    {
     "data": {
      "application/vnd.plotly.v1+json": {
       "config": {
        "linkText": "Export to plot.ly",
        "plotlyServerURL": "https://plot.ly",
        "showLink": true
       },
       "data": [
        {
         "marker": {
          "color": "rgba(255, 153, 51, 0.6)",
          "line": {
           "color": "rgba(255, 153, 51, 1.0)",
           "width": 1
          }
         },
         "name": "count",
         "orientation": "v",
         "text": "",
         "type": "bar",
         "x": [
          "loan",
          "business",
          "sell",
          "child",
          "community",
          "year",
          "group",
          "family",
          "small",
          "buy",
          "good",
          "live",
          "woman",
          "work",
          "entrepreneur",
          "clothing",
          "make",
          "husband",
          "old",
          "product",
          "new",
          "help",
          "use",
          "purchase",
          "start",
          "people",
          "school",
          "hard",
          "member",
          "also",
          "support",
          "house",
          "income",
          "say",
          "customer",
          "life",
          "store",
          "hop",
          "time",
          "able",
          "want",
          "run",
          "increase",
          "operate",
          "order",
          "provide",
          "money",
          "plan",
          "esperanza",
          "need",
          "request",
          "go",
          "improve",
          "take",
          "day",
          "hope",
          "expand",
          "explain",
          "get",
          "food",
          "mara",
          "large",
          "santo_domingo",
          "continue",
          "mother",
          "home",
          "keep",
          "first",
          "well",
          "education",
          "receive",
          "age",
          "allow",
          "offer",
          "dream",
          "shell",
          "rosa",
          "item",
          "service",
          "enough",
          "shoe",
          "grow",
          "future",
          "invest",
          "pay",
          "stock",
          "attend",
          "neighborhood",
          "esperanza_international",
          "together",
          "add",
          "repay",
          "maria",
          "come",
          "altagracia",
          "see",
          "son",
          "great",
          "currently",
          "profit"
         ],
         "y": [
          506,
          464,
          325,
          283,
          246,
          240,
          240,
          177,
          168,
          163,
          160,
          156,
          153,
          149,
          143,
          141,
          132,
          131,
          123,
          108,
          107,
          102,
          100,
          98,
          95,
          95,
          93,
          91,
          90,
          88,
          88,
          87,
          86,
          85,
          79,
          79,
          77,
          76,
          74,
          72,
          72,
          71,
          69,
          69,
          68,
          65,
          65,
          63,
          63,
          63,
          60,
          58,
          57,
          56,
          55,
          54,
          54,
          54,
          54,
          54,
          54,
          53,
          53,
          52,
          51,
          50,
          50,
          49,
          47,
          47,
          47,
          45,
          41,
          41,
          41,
          41,
          39,
          39,
          38,
          37,
          37,
          37,
          37,
          37,
          37,
          36,
          36,
          36,
          36,
          35,
          35,
          35,
          35,
          35,
          34,
          33,
          33,
          31,
          31,
          31
         ]
        }
       ],
       "layout": {
        "legend": {
         "bgcolor": "#F5F6F9",
         "font": {
          "color": "#4D5663"
         }
        },
        "paper_bgcolor": "#F5F6F9",
        "plot_bgcolor": "#F5F6F9",
        "template": {
         "data": {
          "bar": [
           {
            "error_x": {
             "color": "#2a3f5f"
            },
            "error_y": {
             "color": "#2a3f5f"
            },
            "marker": {
             "line": {
              "color": "#E5ECF6",
              "width": 0.5
             }
            },
            "type": "bar"
           }
          ],
          "barpolar": [
           {
            "marker": {
             "line": {
              "color": "#E5ECF6",
              "width": 0.5
             }
            },
            "type": "barpolar"
           }
          ],
          "carpet": [
           {
            "aaxis": {
             "endlinecolor": "#2a3f5f",
             "gridcolor": "white",
             "linecolor": "white",
             "minorgridcolor": "white",
             "startlinecolor": "#2a3f5f"
            },
            "baxis": {
             "endlinecolor": "#2a3f5f",
             "gridcolor": "white",
             "linecolor": "white",
             "minorgridcolor": "white",
             "startlinecolor": "#2a3f5f"
            },
            "type": "carpet"
           }
          ],
          "choropleth": [
           {
            "colorbar": {
             "outlinewidth": 0,
             "ticks": ""
            },
            "type": "choropleth"
           }
          ],
          "contour": [
           {
            "colorbar": {
             "outlinewidth": 0,
             "ticks": ""
            },
            "colorscale": [
             [
              0,
              "#0d0887"
             ],
             [
              0.1111111111111111,
              "#46039f"
             ],
             [
              0.2222222222222222,
              "#7201a8"
             ],
             [
              0.3333333333333333,
              "#9c179e"
             ],
             [
              0.4444444444444444,
              "#bd3786"
             ],
             [
              0.5555555555555556,
              "#d8576b"
             ],
             [
              0.6666666666666666,
              "#ed7953"
             ],
             [
              0.7777777777777778,
              "#fb9f3a"
             ],
             [
              0.8888888888888888,
              "#fdca26"
             ],
             [
              1,
              "#f0f921"
             ]
            ],
            "type": "contour"
           }
          ],
          "contourcarpet": [
           {
            "colorbar": {
             "outlinewidth": 0,
             "ticks": ""
            },
            "type": "contourcarpet"
           }
          ],
          "heatmap": [
           {
            "colorbar": {
             "outlinewidth": 0,
             "ticks": ""
            },
            "colorscale": [
             [
              0,
              "#0d0887"
             ],
             [
              0.1111111111111111,
              "#46039f"
             ],
             [
              0.2222222222222222,
              "#7201a8"
             ],
             [
              0.3333333333333333,
              "#9c179e"
             ],
             [
              0.4444444444444444,
              "#bd3786"
             ],
             [
              0.5555555555555556,
              "#d8576b"
             ],
             [
              0.6666666666666666,
              "#ed7953"
             ],
             [
              0.7777777777777778,
              "#fb9f3a"
             ],
             [
              0.8888888888888888,
              "#fdca26"
             ],
             [
              1,
              "#f0f921"
             ]
            ],
            "type": "heatmap"
           }
          ],
          "heatmapgl": [
           {
            "colorbar": {
             "outlinewidth": 0,
             "ticks": ""
            },
            "colorscale": [
             [
              0,
              "#0d0887"
             ],
             [
              0.1111111111111111,
              "#46039f"
             ],
             [
              0.2222222222222222,
              "#7201a8"
             ],
             [
              0.3333333333333333,
              "#9c179e"
             ],
             [
              0.4444444444444444,
              "#bd3786"
             ],
             [
              0.5555555555555556,
              "#d8576b"
             ],
             [
              0.6666666666666666,
              "#ed7953"
             ],
             [
              0.7777777777777778,
              "#fb9f3a"
             ],
             [
              0.8888888888888888,
              "#fdca26"
             ],
             [
              1,
              "#f0f921"
             ]
            ],
            "type": "heatmapgl"
           }
          ],
          "histogram": [
           {
            "marker": {
             "colorbar": {
              "outlinewidth": 0,
              "ticks": ""
             }
            },
            "type": "histogram"
           }
          ],
          "histogram2d": [
           {
            "colorbar": {
             "outlinewidth": 0,
             "ticks": ""
            },
            "colorscale": [
             [
              0,
              "#0d0887"
             ],
             [
              0.1111111111111111,
              "#46039f"
             ],
             [
              0.2222222222222222,
              "#7201a8"
             ],
             [
              0.3333333333333333,
              "#9c179e"
             ],
             [
              0.4444444444444444,
              "#bd3786"
             ],
             [
              0.5555555555555556,
              "#d8576b"
             ],
             [
              0.6666666666666666,
              "#ed7953"
             ],
             [
              0.7777777777777778,
              "#fb9f3a"
             ],
             [
              0.8888888888888888,
              "#fdca26"
             ],
             [
              1,
              "#f0f921"
             ]
            ],
            "type": "histogram2d"
           }
          ],
          "histogram2dcontour": [
           {
            "colorbar": {
             "outlinewidth": 0,
             "ticks": ""
            },
            "colorscale": [
             [
              0,
              "#0d0887"
             ],
             [
              0.1111111111111111,
              "#46039f"
             ],
             [
              0.2222222222222222,
              "#7201a8"
             ],
             [
              0.3333333333333333,
              "#9c179e"
             ],
             [
              0.4444444444444444,
              "#bd3786"
             ],
             [
              0.5555555555555556,
              "#d8576b"
             ],
             [
              0.6666666666666666,
              "#ed7953"
             ],
             [
              0.7777777777777778,
              "#fb9f3a"
             ],
             [
              0.8888888888888888,
              "#fdca26"
             ],
             [
              1,
              "#f0f921"
             ]
            ],
            "type": "histogram2dcontour"
           }
          ],
          "mesh3d": [
           {
            "colorbar": {
             "outlinewidth": 0,
             "ticks": ""
            },
            "type": "mesh3d"
           }
          ],
          "parcoords": [
           {
            "line": {
             "colorbar": {
              "outlinewidth": 0,
              "ticks": ""
             }
            },
            "type": "parcoords"
           }
          ],
          "pie": [
           {
            "automargin": true,
            "type": "pie"
           }
          ],
          "scatter": [
           {
            "marker": {
             "colorbar": {
              "outlinewidth": 0,
              "ticks": ""
             }
            },
            "type": "scatter"
           }
          ],
          "scatter3d": [
           {
            "line": {
             "colorbar": {
              "outlinewidth": 0,
              "ticks": ""
             }
            },
            "marker": {
             "colorbar": {
              "outlinewidth": 0,
              "ticks": ""
             }
            },
            "type": "scatter3d"
           }
          ],
          "scattercarpet": [
           {
            "marker": {
             "colorbar": {
              "outlinewidth": 0,
              "ticks": ""
             }
            },
            "type": "scattercarpet"
           }
          ],
          "scattergeo": [
           {
            "marker": {
             "colorbar": {
              "outlinewidth": 0,
              "ticks": ""
             }
            },
            "type": "scattergeo"
           }
          ],
          "scattergl": [
           {
            "marker": {
             "colorbar": {
              "outlinewidth": 0,
              "ticks": ""
             }
            },
            "type": "scattergl"
           }
          ],
          "scattermapbox": [
           {
            "marker": {
             "colorbar": {
              "outlinewidth": 0,
              "ticks": ""
             }
            },
            "type": "scattermapbox"
           }
          ],
          "scatterpolar": [
           {
            "marker": {
             "colorbar": {
              "outlinewidth": 0,
              "ticks": ""
             }
            },
            "type": "scatterpolar"
           }
          ],
          "scatterpolargl": [
           {
            "marker": {
             "colorbar": {
              "outlinewidth": 0,
              "ticks": ""
             }
            },
            "type": "scatterpolargl"
           }
          ],
          "scatterternary": [
           {
            "marker": {
             "colorbar": {
              "outlinewidth": 0,
              "ticks": ""
             }
            },
            "type": "scatterternary"
           }
          ],
          "surface": [
           {
            "colorbar": {
             "outlinewidth": 0,
             "ticks": ""
            },
            "colorscale": [
             [
              0,
              "#0d0887"
             ],
             [
              0.1111111111111111,
              "#46039f"
             ],
             [
              0.2222222222222222,
              "#7201a8"
             ],
             [
              0.3333333333333333,
              "#9c179e"
             ],
             [
              0.4444444444444444,
              "#bd3786"
             ],
             [
              0.5555555555555556,
              "#d8576b"
             ],
             [
              0.6666666666666666,
              "#ed7953"
             ],
             [
              0.7777777777777778,
              "#fb9f3a"
             ],
             [
              0.8888888888888888,
              "#fdca26"
             ],
             [
              1,
              "#f0f921"
             ]
            ],
            "type": "surface"
           }
          ],
          "table": [
           {
            "cells": {
             "fill": {
              "color": "#EBF0F8"
             },
             "line": {
              "color": "white"
             }
            },
            "header": {
             "fill": {
              "color": "#C8D4E3"
             },
             "line": {
              "color": "white"
             }
            },
            "type": "table"
           }
          ]
         },
         "layout": {
          "annotationdefaults": {
           "arrowcolor": "#2a3f5f",
           "arrowhead": 0,
           "arrowwidth": 1
          },
          "coloraxis": {
           "colorbar": {
            "outlinewidth": 0,
            "ticks": ""
           }
          },
          "colorscale": {
           "diverging": [
            [
             0,
             "#8e0152"
            ],
            [
             0.1,
             "#c51b7d"
            ],
            [
             0.2,
             "#de77ae"
            ],
            [
             0.3,
             "#f1b6da"
            ],
            [
             0.4,
             "#fde0ef"
            ],
            [
             0.5,
             "#f7f7f7"
            ],
            [
             0.6,
             "#e6f5d0"
            ],
            [
             0.7,
             "#b8e186"
            ],
            [
             0.8,
             "#7fbc41"
            ],
            [
             0.9,
             "#4d9221"
            ],
            [
             1,
             "#276419"
            ]
           ],
           "sequential": [
            [
             0,
             "#0d0887"
            ],
            [
             0.1111111111111111,
             "#46039f"
            ],
            [
             0.2222222222222222,
             "#7201a8"
            ],
            [
             0.3333333333333333,
             "#9c179e"
            ],
            [
             0.4444444444444444,
             "#bd3786"
            ],
            [
             0.5555555555555556,
             "#d8576b"
            ],
            [
             0.6666666666666666,
             "#ed7953"
            ],
            [
             0.7777777777777778,
             "#fb9f3a"
            ],
            [
             0.8888888888888888,
             "#fdca26"
            ],
            [
             1,
             "#f0f921"
            ]
           ],
           "sequentialminus": [
            [
             0,
             "#0d0887"
            ],
            [
             0.1111111111111111,
             "#46039f"
            ],
            [
             0.2222222222222222,
             "#7201a8"
            ],
            [
             0.3333333333333333,
             "#9c179e"
            ],
            [
             0.4444444444444444,
             "#bd3786"
            ],
            [
             0.5555555555555556,
             "#d8576b"
            ],
            [
             0.6666666666666666,
             "#ed7953"
            ],
            [
             0.7777777777777778,
             "#fb9f3a"
            ],
            [
             0.8888888888888888,
             "#fdca26"
            ],
            [
             1,
             "#f0f921"
            ]
           ]
          },
          "colorway": [
           "#636efa",
           "#EF553B",
           "#00cc96",
           "#ab63fa",
           "#FFA15A",
           "#19d3f3",
           "#FF6692",
           "#B6E880",
           "#FF97FF",
           "#FECB52"
          ],
          "font": {
           "color": "#2a3f5f"
          },
          "geo": {
           "bgcolor": "white",
           "lakecolor": "white",
           "landcolor": "#E5ECF6",
           "showlakes": true,
           "showland": true,
           "subunitcolor": "white"
          },
          "hoverlabel": {
           "align": "left"
          },
          "hovermode": "closest",
          "mapbox": {
           "style": "light"
          },
          "paper_bgcolor": "white",
          "plot_bgcolor": "#E5ECF6",
          "polar": {
           "angularaxis": {
            "gridcolor": "white",
            "linecolor": "white",
            "ticks": ""
           },
           "bgcolor": "#E5ECF6",
           "radialaxis": {
            "gridcolor": "white",
            "linecolor": "white",
            "ticks": ""
           }
          },
          "scene": {
           "xaxis": {
            "backgroundcolor": "#E5ECF6",
            "gridcolor": "white",
            "gridwidth": 2,
            "linecolor": "white",
            "showbackground": true,
            "ticks": "",
            "zerolinecolor": "white"
           },
           "yaxis": {
            "backgroundcolor": "#E5ECF6",
            "gridcolor": "white",
            "gridwidth": 2,
            "linecolor": "white",
            "showbackground": true,
            "ticks": "",
            "zerolinecolor": "white"
           },
           "zaxis": {
            "backgroundcolor": "#E5ECF6",
            "gridcolor": "white",
            "gridwidth": 2,
            "linecolor": "white",
            "showbackground": true,
            "ticks": "",
            "zerolinecolor": "white"
           }
          },
          "shapedefaults": {
           "line": {
            "color": "#2a3f5f"
           }
          },
          "ternary": {
           "aaxis": {
            "gridcolor": "white",
            "linecolor": "white",
            "ticks": ""
           },
           "baxis": {
            "gridcolor": "white",
            "linecolor": "white",
            "ticks": ""
           },
           "bgcolor": "#E5ECF6",
           "caxis": {
            "gridcolor": "white",
            "linecolor": "white",
            "ticks": ""
           }
          },
          "title": {
           "x": 0.05
          },
          "xaxis": {
           "automargin": true,
           "gridcolor": "white",
           "linecolor": "white",
           "ticks": "",
           "title": {
            "standoff": 15
           },
           "zerolinecolor": "white",
           "zerolinewidth": 2
          },
          "yaxis": {
           "automargin": true,
           "gridcolor": "white",
           "linecolor": "white",
           "ticks": "",
           "title": {
            "standoff": 15
           },
           "zerolinecolor": "white",
           "zerolinewidth": 2
          }
         }
        },
        "title": {
         "font": {
          "color": "#4D5663"
         },
         "text": "Topic 1: Top 100 words after removing stop words"
        },
        "xaxis": {
         "gridcolor": "#E1E5ED",
         "linecolor": "black",
         "showgrid": true,
         "tickfont": {
          "color": "#4D5663"
         },
         "title": {
          "font": {
           "color": "#4D5663"
          },
          "text": ""
         },
         "zerolinecolor": "#E1E5ED"
        },
        "yaxis": {
         "gridcolor": "#E1E5ED",
         "linecolor": "black",
         "showgrid": true,
         "tickfont": {
          "color": "#4D5663"
         },
         "title": {
          "font": {
           "color": "#4D5663"
          },
          "text": "Count"
         },
         "zerolinecolor": "#E1E5ED"
        }
       }
      },
      "text/html": [
       "<div>\n",
       "        \n",
       "        \n",
       "            <div id=\"2a40b156-3c02-4418-b8b9-ae2a8d368d36\" class=\"plotly-graph-div\" style=\"height:525px; width:100%;\"></div>\n",
       "            <script type=\"text/javascript\">\n",
       "                require([\"plotly\"], function(Plotly) {\n",
       "                    window.PLOTLYENV=window.PLOTLYENV || {};\n",
       "                    window.PLOTLYENV.BASE_URL='https://plot.ly';\n",
       "                    \n",
       "                if (document.getElementById(\"2a40b156-3c02-4418-b8b9-ae2a8d368d36\")) {\n",
       "                    Plotly.newPlot(\n",
       "                        '2a40b156-3c02-4418-b8b9-ae2a8d368d36',\n",
       "                        [{\"marker\": {\"color\": \"rgba(255, 153, 51, 0.6)\", \"line\": {\"color\": \"rgba(255, 153, 51, 1.0)\", \"width\": 1}}, \"name\": \"count\", \"orientation\": \"v\", \"text\": \"\", \"type\": \"bar\", \"x\": [\"loan\", \"business\", \"sell\", \"child\", \"community\", \"year\", \"group\", \"family\", \"small\", \"buy\", \"good\", \"live\", \"woman\", \"work\", \"entrepreneur\", \"clothing\", \"make\", \"husband\", \"old\", \"product\", \"new\", \"help\", \"use\", \"purchase\", \"start\", \"people\", \"school\", \"hard\", \"member\", \"also\", \"support\", \"house\", \"income\", \"say\", \"customer\", \"life\", \"store\", \"hop\", \"time\", \"able\", \"want\", \"run\", \"increase\", \"operate\", \"order\", \"provide\", \"money\", \"plan\", \"esperanza\", \"need\", \"request\", \"go\", \"improve\", \"take\", \"day\", \"hope\", \"expand\", \"explain\", \"get\", \"food\", \"mara\", \"large\", \"santo_domingo\", \"continue\", \"mother\", \"home\", \"keep\", \"first\", \"well\", \"education\", \"receive\", \"age\", \"allow\", \"offer\", \"dream\", \"shell\", \"rosa\", \"item\", \"service\", \"enough\", \"shoe\", \"grow\", \"future\", \"invest\", \"pay\", \"stock\", \"attend\", \"neighborhood\", \"esperanza_international\", \"together\", \"add\", \"repay\", \"maria\", \"come\", \"altagracia\", \"see\", \"son\", \"great\", \"currently\", \"profit\"], \"y\": [506, 464, 325, 283, 246, 240, 240, 177, 168, 163, 160, 156, 153, 149, 143, 141, 132, 131, 123, 108, 107, 102, 100, 98, 95, 95, 93, 91, 90, 88, 88, 87, 86, 85, 79, 79, 77, 76, 74, 72, 72, 71, 69, 69, 68, 65, 65, 63, 63, 63, 60, 58, 57, 56, 55, 54, 54, 54, 54, 54, 54, 53, 53, 52, 51, 50, 50, 49, 47, 47, 47, 45, 41, 41, 41, 41, 39, 39, 38, 37, 37, 37, 37, 37, 37, 36, 36, 36, 36, 35, 35, 35, 35, 35, 34, 33, 33, 31, 31, 31]}],\n",
       "                        {\"legend\": {\"bgcolor\": \"#F5F6F9\", \"font\": {\"color\": \"#4D5663\"}}, \"paper_bgcolor\": \"#F5F6F9\", \"plot_bgcolor\": \"#F5F6F9\", \"template\": {\"data\": {\"bar\": [{\"error_x\": {\"color\": \"#2a3f5f\"}, \"error_y\": {\"color\": \"#2a3f5f\"}, \"marker\": {\"line\": {\"color\": \"#E5ECF6\", \"width\": 0.5}}, \"type\": \"bar\"}], \"barpolar\": [{\"marker\": {\"line\": {\"color\": \"#E5ECF6\", \"width\": 0.5}}, \"type\": \"barpolar\"}], \"carpet\": [{\"aaxis\": {\"endlinecolor\": \"#2a3f5f\", \"gridcolor\": \"white\", \"linecolor\": \"white\", \"minorgridcolor\": \"white\", \"startlinecolor\": \"#2a3f5f\"}, \"baxis\": {\"endlinecolor\": \"#2a3f5f\", \"gridcolor\": \"white\", \"linecolor\": \"white\", \"minorgridcolor\": \"white\", \"startlinecolor\": \"#2a3f5f\"}, \"type\": \"carpet\"}], \"choropleth\": [{\"colorbar\": {\"outlinewidth\": 0, \"ticks\": \"\"}, \"type\": \"choropleth\"}], \"contour\": [{\"colorbar\": {\"outlinewidth\": 0, \"ticks\": \"\"}, \"colorscale\": [[0.0, \"#0d0887\"], [0.1111111111111111, \"#46039f\"], [0.2222222222222222, \"#7201a8\"], [0.3333333333333333, \"#9c179e\"], [0.4444444444444444, \"#bd3786\"], [0.5555555555555556, \"#d8576b\"], [0.6666666666666666, \"#ed7953\"], [0.7777777777777778, \"#fb9f3a\"], [0.8888888888888888, \"#fdca26\"], [1.0, \"#f0f921\"]], \"type\": \"contour\"}], \"contourcarpet\": [{\"colorbar\": {\"outlinewidth\": 0, \"ticks\": \"\"}, \"type\": \"contourcarpet\"}], \"heatmap\": [{\"colorbar\": {\"outlinewidth\": 0, \"ticks\": \"\"}, \"colorscale\": [[0.0, \"#0d0887\"], [0.1111111111111111, \"#46039f\"], [0.2222222222222222, \"#7201a8\"], [0.3333333333333333, \"#9c179e\"], [0.4444444444444444, \"#bd3786\"], [0.5555555555555556, \"#d8576b\"], [0.6666666666666666, \"#ed7953\"], [0.7777777777777778, \"#fb9f3a\"], [0.8888888888888888, \"#fdca26\"], [1.0, \"#f0f921\"]], \"type\": \"heatmap\"}], \"heatmapgl\": [{\"colorbar\": {\"outlinewidth\": 0, \"ticks\": \"\"}, \"colorscale\": [[0.0, \"#0d0887\"], [0.1111111111111111, \"#46039f\"], [0.2222222222222222, \"#7201a8\"], [0.3333333333333333, \"#9c179e\"], [0.4444444444444444, \"#bd3786\"], [0.5555555555555556, \"#d8576b\"], [0.6666666666666666, \"#ed7953\"], [0.7777777777777778, \"#fb9f3a\"], [0.8888888888888888, \"#fdca26\"], [1.0, \"#f0f921\"]], \"type\": \"heatmapgl\"}], \"histogram\": [{\"marker\": {\"colorbar\": {\"outlinewidth\": 0, \"ticks\": \"\"}}, \"type\": \"histogram\"}], \"histogram2d\": [{\"colorbar\": {\"outlinewidth\": 0, \"ticks\": \"\"}, \"colorscale\": [[0.0, \"#0d0887\"], [0.1111111111111111, \"#46039f\"], [0.2222222222222222, \"#7201a8\"], [0.3333333333333333, \"#9c179e\"], [0.4444444444444444, \"#bd3786\"], [0.5555555555555556, \"#d8576b\"], [0.6666666666666666, \"#ed7953\"], [0.7777777777777778, \"#fb9f3a\"], [0.8888888888888888, \"#fdca26\"], [1.0, \"#f0f921\"]], \"type\": \"histogram2d\"}], \"histogram2dcontour\": [{\"colorbar\": {\"outlinewidth\": 0, \"ticks\": \"\"}, \"colorscale\": [[0.0, \"#0d0887\"], [0.1111111111111111, \"#46039f\"], [0.2222222222222222, \"#7201a8\"], [0.3333333333333333, \"#9c179e\"], [0.4444444444444444, \"#bd3786\"], [0.5555555555555556, \"#d8576b\"], [0.6666666666666666, \"#ed7953\"], [0.7777777777777778, \"#fb9f3a\"], [0.8888888888888888, \"#fdca26\"], [1.0, \"#f0f921\"]], \"type\": \"histogram2dcontour\"}], \"mesh3d\": [{\"colorbar\": {\"outlinewidth\": 0, \"ticks\": \"\"}, \"type\": \"mesh3d\"}], \"parcoords\": [{\"line\": {\"colorbar\": {\"outlinewidth\": 0, \"ticks\": \"\"}}, \"type\": \"parcoords\"}], \"pie\": [{\"automargin\": true, \"type\": \"pie\"}], \"scatter\": [{\"marker\": {\"colorbar\": {\"outlinewidth\": 0, \"ticks\": \"\"}}, \"type\": \"scatter\"}], \"scatter3d\": [{\"line\": {\"colorbar\": {\"outlinewidth\": 0, \"ticks\": \"\"}}, \"marker\": {\"colorbar\": {\"outlinewidth\": 0, \"ticks\": \"\"}}, \"type\": \"scatter3d\"}], \"scattercarpet\": [{\"marker\": {\"colorbar\": {\"outlinewidth\": 0, \"ticks\": \"\"}}, \"type\": \"scattercarpet\"}], \"scattergeo\": [{\"marker\": {\"colorbar\": {\"outlinewidth\": 0, \"ticks\": \"\"}}, \"type\": \"scattergeo\"}], \"scattergl\": [{\"marker\": {\"colorbar\": {\"outlinewidth\": 0, \"ticks\": \"\"}}, \"type\": \"scattergl\"}], \"scattermapbox\": [{\"marker\": {\"colorbar\": {\"outlinewidth\": 0, \"ticks\": \"\"}}, \"type\": \"scattermapbox\"}], \"scatterpolar\": [{\"marker\": {\"colorbar\": {\"outlinewidth\": 0, \"ticks\": \"\"}}, \"type\": \"scatterpolar\"}], \"scatterpolargl\": [{\"marker\": {\"colorbar\": {\"outlinewidth\": 0, \"ticks\": \"\"}}, \"type\": \"scatterpolargl\"}], \"scatterternary\": [{\"marker\": {\"colorbar\": {\"outlinewidth\": 0, \"ticks\": \"\"}}, \"type\": \"scatterternary\"}], \"surface\": [{\"colorbar\": {\"outlinewidth\": 0, \"ticks\": \"\"}, \"colorscale\": [[0.0, \"#0d0887\"], [0.1111111111111111, \"#46039f\"], [0.2222222222222222, \"#7201a8\"], [0.3333333333333333, \"#9c179e\"], [0.4444444444444444, \"#bd3786\"], [0.5555555555555556, \"#d8576b\"], [0.6666666666666666, \"#ed7953\"], [0.7777777777777778, \"#fb9f3a\"], [0.8888888888888888, \"#fdca26\"], [1.0, \"#f0f921\"]], \"type\": \"surface\"}], \"table\": [{\"cells\": {\"fill\": {\"color\": \"#EBF0F8\"}, \"line\": {\"color\": \"white\"}}, \"header\": {\"fill\": {\"color\": \"#C8D4E3\"}, \"line\": {\"color\": \"white\"}}, \"type\": \"table\"}]}, \"layout\": {\"annotationdefaults\": {\"arrowcolor\": \"#2a3f5f\", \"arrowhead\": 0, \"arrowwidth\": 1}, \"coloraxis\": {\"colorbar\": {\"outlinewidth\": 0, \"ticks\": \"\"}}, \"colorscale\": {\"diverging\": [[0, \"#8e0152\"], [0.1, \"#c51b7d\"], [0.2, \"#de77ae\"], [0.3, \"#f1b6da\"], [0.4, \"#fde0ef\"], [0.5, \"#f7f7f7\"], [0.6, \"#e6f5d0\"], [0.7, \"#b8e186\"], [0.8, \"#7fbc41\"], [0.9, \"#4d9221\"], [1, \"#276419\"]], \"sequential\": [[0.0, \"#0d0887\"], [0.1111111111111111, \"#46039f\"], [0.2222222222222222, \"#7201a8\"], [0.3333333333333333, \"#9c179e\"], [0.4444444444444444, \"#bd3786\"], [0.5555555555555556, \"#d8576b\"], [0.6666666666666666, \"#ed7953\"], [0.7777777777777778, \"#fb9f3a\"], [0.8888888888888888, \"#fdca26\"], [1.0, \"#f0f921\"]], \"sequentialminus\": [[0.0, \"#0d0887\"], [0.1111111111111111, \"#46039f\"], [0.2222222222222222, \"#7201a8\"], [0.3333333333333333, \"#9c179e\"], [0.4444444444444444, \"#bd3786\"], [0.5555555555555556, \"#d8576b\"], [0.6666666666666666, \"#ed7953\"], [0.7777777777777778, \"#fb9f3a\"], [0.8888888888888888, \"#fdca26\"], [1.0, \"#f0f921\"]]}, \"colorway\": [\"#636efa\", \"#EF553B\", \"#00cc96\", \"#ab63fa\", \"#FFA15A\", \"#19d3f3\", \"#FF6692\", \"#B6E880\", \"#FF97FF\", \"#FECB52\"], \"font\": {\"color\": \"#2a3f5f\"}, \"geo\": {\"bgcolor\": \"white\", \"lakecolor\": \"white\", \"landcolor\": \"#E5ECF6\", \"showlakes\": true, \"showland\": true, \"subunitcolor\": \"white\"}, \"hoverlabel\": {\"align\": \"left\"}, \"hovermode\": \"closest\", \"mapbox\": {\"style\": \"light\"}, \"paper_bgcolor\": \"white\", \"plot_bgcolor\": \"#E5ECF6\", \"polar\": {\"angularaxis\": {\"gridcolor\": \"white\", \"linecolor\": \"white\", \"ticks\": \"\"}, \"bgcolor\": \"#E5ECF6\", \"radialaxis\": {\"gridcolor\": \"white\", \"linecolor\": \"white\", \"ticks\": \"\"}}, \"scene\": {\"xaxis\": {\"backgroundcolor\": \"#E5ECF6\", \"gridcolor\": \"white\", \"gridwidth\": 2, \"linecolor\": \"white\", \"showbackground\": true, \"ticks\": \"\", \"zerolinecolor\": \"white\"}, \"yaxis\": {\"backgroundcolor\": \"#E5ECF6\", \"gridcolor\": \"white\", \"gridwidth\": 2, \"linecolor\": \"white\", \"showbackground\": true, \"ticks\": \"\", \"zerolinecolor\": \"white\"}, \"zaxis\": {\"backgroundcolor\": \"#E5ECF6\", \"gridcolor\": \"white\", \"gridwidth\": 2, \"linecolor\": \"white\", \"showbackground\": true, \"ticks\": \"\", \"zerolinecolor\": \"white\"}}, \"shapedefaults\": {\"line\": {\"color\": \"#2a3f5f\"}}, \"ternary\": {\"aaxis\": {\"gridcolor\": \"white\", \"linecolor\": \"white\", \"ticks\": \"\"}, \"baxis\": {\"gridcolor\": \"white\", \"linecolor\": \"white\", \"ticks\": \"\"}, \"bgcolor\": \"#E5ECF6\", \"caxis\": {\"gridcolor\": \"white\", \"linecolor\": \"white\", \"ticks\": \"\"}}, \"title\": {\"x\": 0.05}, \"xaxis\": {\"automargin\": true, \"gridcolor\": \"white\", \"linecolor\": \"white\", \"ticks\": \"\", \"title\": {\"standoff\": 15}, \"zerolinecolor\": \"white\", \"zerolinewidth\": 2}, \"yaxis\": {\"automargin\": true, \"gridcolor\": \"white\", \"linecolor\": \"white\", \"ticks\": \"\", \"title\": {\"standoff\": 15}, \"zerolinecolor\": \"white\", \"zerolinewidth\": 2}}}, \"title\": {\"font\": {\"color\": \"#4D5663\"}, \"text\": \"Topic 1: Top 100 words after removing stop words\"}, \"xaxis\": {\"gridcolor\": \"#E1E5ED\", \"linecolor\": \"black\", \"showgrid\": true, \"tickfont\": {\"color\": \"#4D5663\"}, \"title\": {\"font\": {\"color\": \"#4D5663\"}, \"text\": \"\"}, \"zerolinecolor\": \"#E1E5ED\"}, \"yaxis\": {\"gridcolor\": \"#E1E5ED\", \"linecolor\": \"black\", \"showgrid\": true, \"tickfont\": {\"color\": \"#4D5663\"}, \"title\": {\"font\": {\"color\": \"#4D5663\"}, \"text\": \"Count\"}, \"zerolinecolor\": \"#E1E5ED\"}},\n",
       "                        {\"showLink\": true, \"linkText\": \"Export to plot.ly\", \"plotlyServerURL\": \"https://plot.ly\", \"responsive\": true}\n",
       "                    ).then(function(){\n",
       "                            \n",
       "var gd = document.getElementById('2a40b156-3c02-4418-b8b9-ae2a8d368d36');\n",
       "var x = new MutationObserver(function (mutations, observer) {{\n",
       "        var display = window.getComputedStyle(gd).display;\n",
       "        if (!display || display === 'none') {{\n",
       "            console.log([gd, 'removed!']);\n",
       "            Plotly.purge(gd);\n",
       "            observer.disconnect();\n",
       "        }}\n",
       "}});\n",
       "\n",
       "// Listen for the removal of the full notebook cells\n",
       "var notebookContainer = gd.closest('#notebook-container');\n",
       "if (notebookContainer) {{\n",
       "    x.observe(notebookContainer, {childList: true});\n",
       "}}\n",
       "\n",
       "// Listen for the clearing of the current output cell\n",
       "var outputEl = gd.closest('.output');\n",
       "if (outputEl) {{\n",
       "    x.observe(outputEl, {childList: true});\n",
       "}}\n",
       "\n",
       "                        })\n",
       "                };\n",
       "                });\n",
       "            </script>\n",
       "        </div>"
      ]
     },
     "metadata": {},
     "output_type": "display_data"
    }
   ],
   "source": [
    "plot_model(lda, plot = 'frequency', topic_num = 'Topic 1')"
   ]
  },
  {
   "cell_type": "markdown",
   "metadata": {},
   "source": [
    "### 9.4 Topic Distribution"
   ]
  },
  {
   "cell_type": "code",
   "execution_count": 16,
   "metadata": {
    "ExecuteTime": {
     "end_time": "2020-05-02T15:52:32.994484Z",
     "start_time": "2020-05-02T15:52:31.933112Z"
    }
   },
   "outputs": [
    {
     "data": {
      "text/html": [
       "        <script type=\"text/javascript\">\n",
       "        window.PlotlyConfig = {MathJaxConfig: 'local'};\n",
       "        if (window.MathJax) {MathJax.Hub.Config({SVG: {font: \"STIX-Web\"}});}\n",
       "        if (typeof require !== 'undefined') {\n",
       "        require.undef(\"plotly\");\n",
       "        requirejs.config({\n",
       "            paths: {\n",
       "                'plotly': ['https://cdn.plot.ly/plotly-latest.min']\n",
       "            }\n",
       "        });\n",
       "        require(['plotly'], function(Plotly) {\n",
       "            window._Plotly = Plotly;\n",
       "        });\n",
       "        }\n",
       "        </script>\n",
       "        "
      ]
     },
     "metadata": {},
     "output_type": "display_data"
    },
    {
     "data": {
      "application/vnd.plotly.v1+json": {
       "config": {
        "plotlyServerURL": "https://plot.ly"
       },
       "data": [
        {
         "alignmentgroup": "True",
         "customdata": [
          [
           "business, loan, year, sell, child, work, product, home, buy, make"
          ],
          [
           "loan, business, sell, community, group, child, small, year, woman, family"
          ],
          [
           "loan, business, child, school, year, group, buy, able, sell, family"
          ],
          [
           "loan, rice, farmer, also, use, land, small, area, sector, many"
          ]
         ],
         "hoverlabel": {
          "namelength": 0
         },
         "hovertemplate": "Topic=%{x}<br>Documents=%{y}<br>Keyword=%{customdata[0]}",
         "legendgroup": "",
         "marker": {
          "color": "#636efa"
         },
         "name": "",
         "offsetgroup": "",
         "orientation": "v",
         "showlegend": false,
         "textposition": "auto",
         "type": "bar",
         "x": [
          "Topic 0",
          "Topic 1",
          "Topic 2",
          "Topic 3"
         ],
         "xaxis": "x",
         "y": [
          277,
          255,
          429,
          39
         ],
         "yaxis": "y"
        }
       ],
       "layout": {
        "barmode": "relative",
        "legend": {
         "tracegroupgap": 0
        },
        "template": {
         "data": {
          "bar": [
           {
            "error_x": {
             "color": "#2a3f5f"
            },
            "error_y": {
             "color": "#2a3f5f"
            },
            "marker": {
             "line": {
              "color": "#E5ECF6",
              "width": 0.5
             }
            },
            "type": "bar"
           }
          ],
          "barpolar": [
           {
            "marker": {
             "line": {
              "color": "#E5ECF6",
              "width": 0.5
             }
            },
            "type": "barpolar"
           }
          ],
          "carpet": [
           {
            "aaxis": {
             "endlinecolor": "#2a3f5f",
             "gridcolor": "white",
             "linecolor": "white",
             "minorgridcolor": "white",
             "startlinecolor": "#2a3f5f"
            },
            "baxis": {
             "endlinecolor": "#2a3f5f",
             "gridcolor": "white",
             "linecolor": "white",
             "minorgridcolor": "white",
             "startlinecolor": "#2a3f5f"
            },
            "type": "carpet"
           }
          ],
          "choropleth": [
           {
            "colorbar": {
             "outlinewidth": 0,
             "ticks": ""
            },
            "type": "choropleth"
           }
          ],
          "contour": [
           {
            "colorbar": {
             "outlinewidth": 0,
             "ticks": ""
            },
            "colorscale": [
             [
              0,
              "#0d0887"
             ],
             [
              0.1111111111111111,
              "#46039f"
             ],
             [
              0.2222222222222222,
              "#7201a8"
             ],
             [
              0.3333333333333333,
              "#9c179e"
             ],
             [
              0.4444444444444444,
              "#bd3786"
             ],
             [
              0.5555555555555556,
              "#d8576b"
             ],
             [
              0.6666666666666666,
              "#ed7953"
             ],
             [
              0.7777777777777778,
              "#fb9f3a"
             ],
             [
              0.8888888888888888,
              "#fdca26"
             ],
             [
              1,
              "#f0f921"
             ]
            ],
            "type": "contour"
           }
          ],
          "contourcarpet": [
           {
            "colorbar": {
             "outlinewidth": 0,
             "ticks": ""
            },
            "type": "contourcarpet"
           }
          ],
          "heatmap": [
           {
            "colorbar": {
             "outlinewidth": 0,
             "ticks": ""
            },
            "colorscale": [
             [
              0,
              "#0d0887"
             ],
             [
              0.1111111111111111,
              "#46039f"
             ],
             [
              0.2222222222222222,
              "#7201a8"
             ],
             [
              0.3333333333333333,
              "#9c179e"
             ],
             [
              0.4444444444444444,
              "#bd3786"
             ],
             [
              0.5555555555555556,
              "#d8576b"
             ],
             [
              0.6666666666666666,
              "#ed7953"
             ],
             [
              0.7777777777777778,
              "#fb9f3a"
             ],
             [
              0.8888888888888888,
              "#fdca26"
             ],
             [
              1,
              "#f0f921"
             ]
            ],
            "type": "heatmap"
           }
          ],
          "heatmapgl": [
           {
            "colorbar": {
             "outlinewidth": 0,
             "ticks": ""
            },
            "colorscale": [
             [
              0,
              "#0d0887"
             ],
             [
              0.1111111111111111,
              "#46039f"
             ],
             [
              0.2222222222222222,
              "#7201a8"
             ],
             [
              0.3333333333333333,
              "#9c179e"
             ],
             [
              0.4444444444444444,
              "#bd3786"
             ],
             [
              0.5555555555555556,
              "#d8576b"
             ],
             [
              0.6666666666666666,
              "#ed7953"
             ],
             [
              0.7777777777777778,
              "#fb9f3a"
             ],
             [
              0.8888888888888888,
              "#fdca26"
             ],
             [
              1,
              "#f0f921"
             ]
            ],
            "type": "heatmapgl"
           }
          ],
          "histogram": [
           {
            "marker": {
             "colorbar": {
              "outlinewidth": 0,
              "ticks": ""
             }
            },
            "type": "histogram"
           }
          ],
          "histogram2d": [
           {
            "colorbar": {
             "outlinewidth": 0,
             "ticks": ""
            },
            "colorscale": [
             [
              0,
              "#0d0887"
             ],
             [
              0.1111111111111111,
              "#46039f"
             ],
             [
              0.2222222222222222,
              "#7201a8"
             ],
             [
              0.3333333333333333,
              "#9c179e"
             ],
             [
              0.4444444444444444,
              "#bd3786"
             ],
             [
              0.5555555555555556,
              "#d8576b"
             ],
             [
              0.6666666666666666,
              "#ed7953"
             ],
             [
              0.7777777777777778,
              "#fb9f3a"
             ],
             [
              0.8888888888888888,
              "#fdca26"
             ],
             [
              1,
              "#f0f921"
             ]
            ],
            "type": "histogram2d"
           }
          ],
          "histogram2dcontour": [
           {
            "colorbar": {
             "outlinewidth": 0,
             "ticks": ""
            },
            "colorscale": [
             [
              0,
              "#0d0887"
             ],
             [
              0.1111111111111111,
              "#46039f"
             ],
             [
              0.2222222222222222,
              "#7201a8"
             ],
             [
              0.3333333333333333,
              "#9c179e"
             ],
             [
              0.4444444444444444,
              "#bd3786"
             ],
             [
              0.5555555555555556,
              "#d8576b"
             ],
             [
              0.6666666666666666,
              "#ed7953"
             ],
             [
              0.7777777777777778,
              "#fb9f3a"
             ],
             [
              0.8888888888888888,
              "#fdca26"
             ],
             [
              1,
              "#f0f921"
             ]
            ],
            "type": "histogram2dcontour"
           }
          ],
          "mesh3d": [
           {
            "colorbar": {
             "outlinewidth": 0,
             "ticks": ""
            },
            "type": "mesh3d"
           }
          ],
          "parcoords": [
           {
            "line": {
             "colorbar": {
              "outlinewidth": 0,
              "ticks": ""
             }
            },
            "type": "parcoords"
           }
          ],
          "pie": [
           {
            "automargin": true,
            "type": "pie"
           }
          ],
          "scatter": [
           {
            "marker": {
             "colorbar": {
              "outlinewidth": 0,
              "ticks": ""
             }
            },
            "type": "scatter"
           }
          ],
          "scatter3d": [
           {
            "line": {
             "colorbar": {
              "outlinewidth": 0,
              "ticks": ""
             }
            },
            "marker": {
             "colorbar": {
              "outlinewidth": 0,
              "ticks": ""
             }
            },
            "type": "scatter3d"
           }
          ],
          "scattercarpet": [
           {
            "marker": {
             "colorbar": {
              "outlinewidth": 0,
              "ticks": ""
             }
            },
            "type": "scattercarpet"
           }
          ],
          "scattergeo": [
           {
            "marker": {
             "colorbar": {
              "outlinewidth": 0,
              "ticks": ""
             }
            },
            "type": "scattergeo"
           }
          ],
          "scattergl": [
           {
            "marker": {
             "colorbar": {
              "outlinewidth": 0,
              "ticks": ""
             }
            },
            "type": "scattergl"
           }
          ],
          "scattermapbox": [
           {
            "marker": {
             "colorbar": {
              "outlinewidth": 0,
              "ticks": ""
             }
            },
            "type": "scattermapbox"
           }
          ],
          "scatterpolar": [
           {
            "marker": {
             "colorbar": {
              "outlinewidth": 0,
              "ticks": ""
             }
            },
            "type": "scatterpolar"
           }
          ],
          "scatterpolargl": [
           {
            "marker": {
             "colorbar": {
              "outlinewidth": 0,
              "ticks": ""
             }
            },
            "type": "scatterpolargl"
           }
          ],
          "scatterternary": [
           {
            "marker": {
             "colorbar": {
              "outlinewidth": 0,
              "ticks": ""
             }
            },
            "type": "scatterternary"
           }
          ],
          "surface": [
           {
            "colorbar": {
             "outlinewidth": 0,
             "ticks": ""
            },
            "colorscale": [
             [
              0,
              "#0d0887"
             ],
             [
              0.1111111111111111,
              "#46039f"
             ],
             [
              0.2222222222222222,
              "#7201a8"
             ],
             [
              0.3333333333333333,
              "#9c179e"
             ],
             [
              0.4444444444444444,
              "#bd3786"
             ],
             [
              0.5555555555555556,
              "#d8576b"
             ],
             [
              0.6666666666666666,
              "#ed7953"
             ],
             [
              0.7777777777777778,
              "#fb9f3a"
             ],
             [
              0.8888888888888888,
              "#fdca26"
             ],
             [
              1,
              "#f0f921"
             ]
            ],
            "type": "surface"
           }
          ],
          "table": [
           {
            "cells": {
             "fill": {
              "color": "#EBF0F8"
             },
             "line": {
              "color": "white"
             }
            },
            "header": {
             "fill": {
              "color": "#C8D4E3"
             },
             "line": {
              "color": "white"
             }
            },
            "type": "table"
           }
          ]
         },
         "layout": {
          "annotationdefaults": {
           "arrowcolor": "#2a3f5f",
           "arrowhead": 0,
           "arrowwidth": 1
          },
          "coloraxis": {
           "colorbar": {
            "outlinewidth": 0,
            "ticks": ""
           }
          },
          "colorscale": {
           "diverging": [
            [
             0,
             "#8e0152"
            ],
            [
             0.1,
             "#c51b7d"
            ],
            [
             0.2,
             "#de77ae"
            ],
            [
             0.3,
             "#f1b6da"
            ],
            [
             0.4,
             "#fde0ef"
            ],
            [
             0.5,
             "#f7f7f7"
            ],
            [
             0.6,
             "#e6f5d0"
            ],
            [
             0.7,
             "#b8e186"
            ],
            [
             0.8,
             "#7fbc41"
            ],
            [
             0.9,
             "#4d9221"
            ],
            [
             1,
             "#276419"
            ]
           ],
           "sequential": [
            [
             0,
             "#0d0887"
            ],
            [
             0.1111111111111111,
             "#46039f"
            ],
            [
             0.2222222222222222,
             "#7201a8"
            ],
            [
             0.3333333333333333,
             "#9c179e"
            ],
            [
             0.4444444444444444,
             "#bd3786"
            ],
            [
             0.5555555555555556,
             "#d8576b"
            ],
            [
             0.6666666666666666,
             "#ed7953"
            ],
            [
             0.7777777777777778,
             "#fb9f3a"
            ],
            [
             0.8888888888888888,
             "#fdca26"
            ],
            [
             1,
             "#f0f921"
            ]
           ],
           "sequentialminus": [
            [
             0,
             "#0d0887"
            ],
            [
             0.1111111111111111,
             "#46039f"
            ],
            [
             0.2222222222222222,
             "#7201a8"
            ],
            [
             0.3333333333333333,
             "#9c179e"
            ],
            [
             0.4444444444444444,
             "#bd3786"
            ],
            [
             0.5555555555555556,
             "#d8576b"
            ],
            [
             0.6666666666666666,
             "#ed7953"
            ],
            [
             0.7777777777777778,
             "#fb9f3a"
            ],
            [
             0.8888888888888888,
             "#fdca26"
            ],
            [
             1,
             "#f0f921"
            ]
           ]
          },
          "colorway": [
           "#636efa",
           "#EF553B",
           "#00cc96",
           "#ab63fa",
           "#FFA15A",
           "#19d3f3",
           "#FF6692",
           "#B6E880",
           "#FF97FF",
           "#FECB52"
          ],
          "font": {
           "color": "#2a3f5f"
          },
          "geo": {
           "bgcolor": "white",
           "lakecolor": "white",
           "landcolor": "#E5ECF6",
           "showlakes": true,
           "showland": true,
           "subunitcolor": "white"
          },
          "hoverlabel": {
           "align": "left"
          },
          "hovermode": "closest",
          "mapbox": {
           "style": "light"
          },
          "paper_bgcolor": "white",
          "plot_bgcolor": "#E5ECF6",
          "polar": {
           "angularaxis": {
            "gridcolor": "white",
            "linecolor": "white",
            "ticks": ""
           },
           "bgcolor": "#E5ECF6",
           "radialaxis": {
            "gridcolor": "white",
            "linecolor": "white",
            "ticks": ""
           }
          },
          "scene": {
           "xaxis": {
            "backgroundcolor": "#E5ECF6",
            "gridcolor": "white",
            "gridwidth": 2,
            "linecolor": "white",
            "showbackground": true,
            "ticks": "",
            "zerolinecolor": "white"
           },
           "yaxis": {
            "backgroundcolor": "#E5ECF6",
            "gridcolor": "white",
            "gridwidth": 2,
            "linecolor": "white",
            "showbackground": true,
            "ticks": "",
            "zerolinecolor": "white"
           },
           "zaxis": {
            "backgroundcolor": "#E5ECF6",
            "gridcolor": "white",
            "gridwidth": 2,
            "linecolor": "white",
            "showbackground": true,
            "ticks": "",
            "zerolinecolor": "white"
           }
          },
          "shapedefaults": {
           "line": {
            "color": "#2a3f5f"
           }
          },
          "ternary": {
           "aaxis": {
            "gridcolor": "white",
            "linecolor": "white",
            "ticks": ""
           },
           "baxis": {
            "gridcolor": "white",
            "linecolor": "white",
            "ticks": ""
           },
           "bgcolor": "#E5ECF6",
           "caxis": {
            "gridcolor": "white",
            "linecolor": "white",
            "ticks": ""
           }
          },
          "title": {
           "x": 0.05
          },
          "xaxis": {
           "automargin": true,
           "gridcolor": "white",
           "linecolor": "white",
           "ticks": "",
           "title": {
            "standoff": 15
           },
           "zerolinecolor": "white",
           "zerolinewidth": 2
          },
          "yaxis": {
           "automargin": true,
           "gridcolor": "white",
           "linecolor": "white",
           "ticks": "",
           "title": {
            "standoff": 15
           },
           "zerolinecolor": "white",
           "zerolinewidth": 2
          }
         }
        },
        "title": {
         "text": "Document Distribution by Topics"
        },
        "xaxis": {
         "anchor": "y",
         "domain": [
          0,
          1
         ],
         "title": {
          "text": "Topic"
         }
        },
        "yaxis": {
         "anchor": "x",
         "domain": [
          0,
          1
         ],
         "title": {
          "text": "Documents"
         }
        }
       }
      },
      "text/html": [
       "<div>\n",
       "        \n",
       "        \n",
       "            <div id=\"3c7231d6-5f67-41c7-ba65-a3bddde8664f\" class=\"plotly-graph-div\" style=\"height:525px; width:100%;\"></div>\n",
       "            <script type=\"text/javascript\">\n",
       "                require([\"plotly\"], function(Plotly) {\n",
       "                    window.PLOTLYENV=window.PLOTLYENV || {};\n",
       "                    \n",
       "                if (document.getElementById(\"3c7231d6-5f67-41c7-ba65-a3bddde8664f\")) {\n",
       "                    Plotly.newPlot(\n",
       "                        '3c7231d6-5f67-41c7-ba65-a3bddde8664f',\n",
       "                        [{\"alignmentgroup\": \"True\", \"customdata\": [[\"business, loan, year, sell, child, work, product, home, buy, make\"], [\"loan, business, sell, community, group, child, small, year, woman, family\"], [\"loan, business, child, school, year, group, buy, able, sell, family\"], [\"loan, rice, farmer, also, use, land, small, area, sector, many\"]], \"hoverlabel\": {\"namelength\": 0}, \"hovertemplate\": \"Topic=%{x}<br>Documents=%{y}<br>Keyword=%{customdata[0]}\", \"legendgroup\": \"\", \"marker\": {\"color\": \"#636efa\"}, \"name\": \"\", \"offsetgroup\": \"\", \"orientation\": \"v\", \"showlegend\": false, \"textposition\": \"auto\", \"type\": \"bar\", \"x\": [\"Topic 0\", \"Topic 1\", \"Topic 2\", \"Topic 3\"], \"xaxis\": \"x\", \"y\": [277, 255, 429, 39], \"yaxis\": \"y\"}],\n",
       "                        {\"barmode\": \"relative\", \"legend\": {\"tracegroupgap\": 0}, \"template\": {\"data\": {\"bar\": [{\"error_x\": {\"color\": \"#2a3f5f\"}, \"error_y\": {\"color\": \"#2a3f5f\"}, \"marker\": {\"line\": {\"color\": \"#E5ECF6\", \"width\": 0.5}}, \"type\": \"bar\"}], \"barpolar\": [{\"marker\": {\"line\": {\"color\": \"#E5ECF6\", \"width\": 0.5}}, \"type\": \"barpolar\"}], \"carpet\": [{\"aaxis\": {\"endlinecolor\": \"#2a3f5f\", \"gridcolor\": \"white\", \"linecolor\": \"white\", \"minorgridcolor\": \"white\", \"startlinecolor\": \"#2a3f5f\"}, \"baxis\": {\"endlinecolor\": \"#2a3f5f\", \"gridcolor\": \"white\", \"linecolor\": \"white\", \"minorgridcolor\": \"white\", \"startlinecolor\": \"#2a3f5f\"}, \"type\": \"carpet\"}], \"choropleth\": [{\"colorbar\": {\"outlinewidth\": 0, \"ticks\": \"\"}, \"type\": \"choropleth\"}], \"contour\": [{\"colorbar\": {\"outlinewidth\": 0, \"ticks\": \"\"}, \"colorscale\": [[0.0, \"#0d0887\"], [0.1111111111111111, \"#46039f\"], [0.2222222222222222, \"#7201a8\"], [0.3333333333333333, \"#9c179e\"], [0.4444444444444444, \"#bd3786\"], [0.5555555555555556, \"#d8576b\"], [0.6666666666666666, \"#ed7953\"], [0.7777777777777778, \"#fb9f3a\"], [0.8888888888888888, \"#fdca26\"], [1.0, \"#f0f921\"]], \"type\": \"contour\"}], \"contourcarpet\": [{\"colorbar\": {\"outlinewidth\": 0, \"ticks\": \"\"}, \"type\": \"contourcarpet\"}], \"heatmap\": [{\"colorbar\": {\"outlinewidth\": 0, \"ticks\": \"\"}, \"colorscale\": [[0.0, \"#0d0887\"], [0.1111111111111111, \"#46039f\"], [0.2222222222222222, \"#7201a8\"], [0.3333333333333333, \"#9c179e\"], [0.4444444444444444, \"#bd3786\"], [0.5555555555555556, \"#d8576b\"], [0.6666666666666666, \"#ed7953\"], [0.7777777777777778, \"#fb9f3a\"], [0.8888888888888888, \"#fdca26\"], [1.0, \"#f0f921\"]], \"type\": \"heatmap\"}], \"heatmapgl\": [{\"colorbar\": {\"outlinewidth\": 0, \"ticks\": \"\"}, \"colorscale\": [[0.0, \"#0d0887\"], [0.1111111111111111, \"#46039f\"], [0.2222222222222222, \"#7201a8\"], [0.3333333333333333, \"#9c179e\"], [0.4444444444444444, \"#bd3786\"], [0.5555555555555556, \"#d8576b\"], [0.6666666666666666, \"#ed7953\"], [0.7777777777777778, \"#fb9f3a\"], [0.8888888888888888, \"#fdca26\"], [1.0, \"#f0f921\"]], \"type\": \"heatmapgl\"}], \"histogram\": [{\"marker\": {\"colorbar\": {\"outlinewidth\": 0, \"ticks\": \"\"}}, \"type\": \"histogram\"}], \"histogram2d\": [{\"colorbar\": {\"outlinewidth\": 0, \"ticks\": \"\"}, \"colorscale\": [[0.0, \"#0d0887\"], [0.1111111111111111, \"#46039f\"], [0.2222222222222222, \"#7201a8\"], [0.3333333333333333, \"#9c179e\"], [0.4444444444444444, \"#bd3786\"], [0.5555555555555556, \"#d8576b\"], [0.6666666666666666, \"#ed7953\"], [0.7777777777777778, \"#fb9f3a\"], [0.8888888888888888, \"#fdca26\"], [1.0, \"#f0f921\"]], \"type\": \"histogram2d\"}], \"histogram2dcontour\": [{\"colorbar\": {\"outlinewidth\": 0, \"ticks\": \"\"}, \"colorscale\": [[0.0, \"#0d0887\"], [0.1111111111111111, \"#46039f\"], [0.2222222222222222, \"#7201a8\"], [0.3333333333333333, \"#9c179e\"], [0.4444444444444444, \"#bd3786\"], [0.5555555555555556, \"#d8576b\"], [0.6666666666666666, \"#ed7953\"], [0.7777777777777778, \"#fb9f3a\"], [0.8888888888888888, \"#fdca26\"], [1.0, \"#f0f921\"]], \"type\": \"histogram2dcontour\"}], \"mesh3d\": [{\"colorbar\": {\"outlinewidth\": 0, \"ticks\": \"\"}, \"type\": \"mesh3d\"}], \"parcoords\": [{\"line\": {\"colorbar\": {\"outlinewidth\": 0, \"ticks\": \"\"}}, \"type\": \"parcoords\"}], \"pie\": [{\"automargin\": true, \"type\": \"pie\"}], \"scatter\": [{\"marker\": {\"colorbar\": {\"outlinewidth\": 0, \"ticks\": \"\"}}, \"type\": \"scatter\"}], \"scatter3d\": [{\"line\": {\"colorbar\": {\"outlinewidth\": 0, \"ticks\": \"\"}}, \"marker\": {\"colorbar\": {\"outlinewidth\": 0, \"ticks\": \"\"}}, \"type\": \"scatter3d\"}], \"scattercarpet\": [{\"marker\": {\"colorbar\": {\"outlinewidth\": 0, \"ticks\": \"\"}}, \"type\": \"scattercarpet\"}], \"scattergeo\": [{\"marker\": {\"colorbar\": {\"outlinewidth\": 0, \"ticks\": \"\"}}, \"type\": \"scattergeo\"}], \"scattergl\": [{\"marker\": {\"colorbar\": {\"outlinewidth\": 0, \"ticks\": \"\"}}, \"type\": \"scattergl\"}], \"scattermapbox\": [{\"marker\": {\"colorbar\": {\"outlinewidth\": 0, \"ticks\": \"\"}}, \"type\": \"scattermapbox\"}], \"scatterpolar\": [{\"marker\": {\"colorbar\": {\"outlinewidth\": 0, \"ticks\": \"\"}}, \"type\": \"scatterpolar\"}], \"scatterpolargl\": [{\"marker\": {\"colorbar\": {\"outlinewidth\": 0, \"ticks\": \"\"}}, \"type\": \"scatterpolargl\"}], \"scatterternary\": [{\"marker\": {\"colorbar\": {\"outlinewidth\": 0, \"ticks\": \"\"}}, \"type\": \"scatterternary\"}], \"surface\": [{\"colorbar\": {\"outlinewidth\": 0, \"ticks\": \"\"}, \"colorscale\": [[0.0, \"#0d0887\"], [0.1111111111111111, \"#46039f\"], [0.2222222222222222, \"#7201a8\"], [0.3333333333333333, \"#9c179e\"], [0.4444444444444444, \"#bd3786\"], [0.5555555555555556, \"#d8576b\"], [0.6666666666666666, \"#ed7953\"], [0.7777777777777778, \"#fb9f3a\"], [0.8888888888888888, \"#fdca26\"], [1.0, \"#f0f921\"]], \"type\": \"surface\"}], \"table\": [{\"cells\": {\"fill\": {\"color\": \"#EBF0F8\"}, \"line\": {\"color\": \"white\"}}, \"header\": {\"fill\": {\"color\": \"#C8D4E3\"}, \"line\": {\"color\": \"white\"}}, \"type\": \"table\"}]}, \"layout\": {\"annotationdefaults\": {\"arrowcolor\": \"#2a3f5f\", \"arrowhead\": 0, \"arrowwidth\": 1}, \"coloraxis\": {\"colorbar\": {\"outlinewidth\": 0, \"ticks\": \"\"}}, \"colorscale\": {\"diverging\": [[0, \"#8e0152\"], [0.1, \"#c51b7d\"], [0.2, \"#de77ae\"], [0.3, \"#f1b6da\"], [0.4, \"#fde0ef\"], [0.5, \"#f7f7f7\"], [0.6, \"#e6f5d0\"], [0.7, \"#b8e186\"], [0.8, \"#7fbc41\"], [0.9, \"#4d9221\"], [1, \"#276419\"]], \"sequential\": [[0.0, \"#0d0887\"], [0.1111111111111111, \"#46039f\"], [0.2222222222222222, \"#7201a8\"], [0.3333333333333333, \"#9c179e\"], [0.4444444444444444, \"#bd3786\"], [0.5555555555555556, \"#d8576b\"], [0.6666666666666666, \"#ed7953\"], [0.7777777777777778, \"#fb9f3a\"], [0.8888888888888888, \"#fdca26\"], [1.0, \"#f0f921\"]], \"sequentialminus\": [[0.0, \"#0d0887\"], [0.1111111111111111, \"#46039f\"], [0.2222222222222222, \"#7201a8\"], [0.3333333333333333, \"#9c179e\"], [0.4444444444444444, \"#bd3786\"], [0.5555555555555556, \"#d8576b\"], [0.6666666666666666, \"#ed7953\"], [0.7777777777777778, \"#fb9f3a\"], [0.8888888888888888, \"#fdca26\"], [1.0, \"#f0f921\"]]}, \"colorway\": [\"#636efa\", \"#EF553B\", \"#00cc96\", \"#ab63fa\", \"#FFA15A\", \"#19d3f3\", \"#FF6692\", \"#B6E880\", \"#FF97FF\", \"#FECB52\"], \"font\": {\"color\": \"#2a3f5f\"}, \"geo\": {\"bgcolor\": \"white\", \"lakecolor\": \"white\", \"landcolor\": \"#E5ECF6\", \"showlakes\": true, \"showland\": true, \"subunitcolor\": \"white\"}, \"hoverlabel\": {\"align\": \"left\"}, \"hovermode\": \"closest\", \"mapbox\": {\"style\": \"light\"}, \"paper_bgcolor\": \"white\", \"plot_bgcolor\": \"#E5ECF6\", \"polar\": {\"angularaxis\": {\"gridcolor\": \"white\", \"linecolor\": \"white\", \"ticks\": \"\"}, \"bgcolor\": \"#E5ECF6\", \"radialaxis\": {\"gridcolor\": \"white\", \"linecolor\": \"white\", \"ticks\": \"\"}}, \"scene\": {\"xaxis\": {\"backgroundcolor\": \"#E5ECF6\", \"gridcolor\": \"white\", \"gridwidth\": 2, \"linecolor\": \"white\", \"showbackground\": true, \"ticks\": \"\", \"zerolinecolor\": \"white\"}, \"yaxis\": {\"backgroundcolor\": \"#E5ECF6\", \"gridcolor\": \"white\", \"gridwidth\": 2, \"linecolor\": \"white\", \"showbackground\": true, \"ticks\": \"\", \"zerolinecolor\": \"white\"}, \"zaxis\": {\"backgroundcolor\": \"#E5ECF6\", \"gridcolor\": \"white\", \"gridwidth\": 2, \"linecolor\": \"white\", \"showbackground\": true, \"ticks\": \"\", \"zerolinecolor\": \"white\"}}, \"shapedefaults\": {\"line\": {\"color\": \"#2a3f5f\"}}, \"ternary\": {\"aaxis\": {\"gridcolor\": \"white\", \"linecolor\": \"white\", \"ticks\": \"\"}, \"baxis\": {\"gridcolor\": \"white\", \"linecolor\": \"white\", \"ticks\": \"\"}, \"bgcolor\": \"#E5ECF6\", \"caxis\": {\"gridcolor\": \"white\", \"linecolor\": \"white\", \"ticks\": \"\"}}, \"title\": {\"x\": 0.05}, \"xaxis\": {\"automargin\": true, \"gridcolor\": \"white\", \"linecolor\": \"white\", \"ticks\": \"\", \"title\": {\"standoff\": 15}, \"zerolinecolor\": \"white\", \"zerolinewidth\": 2}, \"yaxis\": {\"automargin\": true, \"gridcolor\": \"white\", \"linecolor\": \"white\", \"ticks\": \"\", \"title\": {\"standoff\": 15}, \"zerolinecolor\": \"white\", \"zerolinewidth\": 2}}}, \"title\": {\"text\": \"Document Distribution by Topics\"}, \"xaxis\": {\"anchor\": \"y\", \"domain\": [0.0, 1.0], \"title\": {\"text\": \"Topic\"}}, \"yaxis\": {\"anchor\": \"x\", \"domain\": [0.0, 1.0], \"title\": {\"text\": \"Documents\"}}},\n",
       "                        {\"responsive\": true}\n",
       "                    ).then(function(){\n",
       "                            \n",
       "var gd = document.getElementById('3c7231d6-5f67-41c7-ba65-a3bddde8664f');\n",
       "var x = new MutationObserver(function (mutations, observer) {{\n",
       "        var display = window.getComputedStyle(gd).display;\n",
       "        if (!display || display === 'none') {{\n",
       "            console.log([gd, 'removed!']);\n",
       "            Plotly.purge(gd);\n",
       "            observer.disconnect();\n",
       "        }}\n",
       "}});\n",
       "\n",
       "// Listen for the removal of the full notebook cells\n",
       "var notebookContainer = gd.closest('#notebook-container');\n",
       "if (notebookContainer) {{\n",
       "    x.observe(notebookContainer, {childList: true});\n",
       "}}\n",
       "\n",
       "// Listen for the clearing of the current output cell\n",
       "var outputEl = gd.closest('.output');\n",
       "if (outputEl) {{\n",
       "    x.observe(outputEl, {childList: true});\n",
       "}}\n",
       "\n",
       "                        })\n",
       "                };\n",
       "                });\n",
       "            </script>\n",
       "        </div>"
      ]
     },
     "metadata": {},
     "output_type": "display_data"
    }
   ],
   "source": [
    "plot_model(lda, plot = 'topic_distribution')"
   ]
  },
  {
   "cell_type": "markdown",
   "metadata": {},
   "source": [
    "Each document is a distribution of topics and not a single topic. Although, if the task is about categorizing the document into specific topics, it wouldn't be wrong to use the topic proportion with the highest value to categorize the document into **a topic**. In the above plot, each document is categorized into one topic using the largest proportion of topic weights. We can see that the most of the documents are in `Topic 3` with only few in `Topic 1`. If you hover over these bars, you will get a basic idea of the themes in this topic by looking at the keywords. For example, if you evaluate `Topic 2`, you will see keywords like 'farmer', 'rice', 'land', which probably means that the loan applicants in this category pertain to agricultural/farming loans. However, if you hover over `Topic 0` and `Topic 3` you will observe a lot of repititions and the keywords are overlapping in all topics. For instance, the words such as \"loan\" and \"business\" appear both in `Topic 0` and `Topic 3`. In the next tutorial, __[Natural Language Processing Tutorial (NLP102) - Level Intermediate](https://github.com/pycaret/pycaret/blob/master/Tutorials/Natural%20Language%20Processing%20Tutorial%20Level%20Intermediate%20-%20NLP102.ipynb)__ we will demonstrate the use of `custom_stopwords`, at which point we will re-analyze this plot."
   ]
  },
  {
   "cell_type": "markdown",
   "metadata": {},
   "source": [
    "### 9.5 T-distributed Stochastic Neighbor Embedding (t-SNE)"
   ]
  },
  {
   "cell_type": "code",
   "execution_count": 17,
   "metadata": {
    "ExecuteTime": {
     "end_time": "2020-05-02T15:52:39.534503Z",
     "start_time": "2020-05-02T15:52:32.995998Z"
    }
   },
   "outputs": [
    {
     "data": {
      "text/html": [
       "        <script type=\"text/javascript\">\n",
       "        window.PlotlyConfig = {MathJaxConfig: 'local'};\n",
       "        if (window.MathJax) {MathJax.Hub.Config({SVG: {font: \"STIX-Web\"}});}\n",
       "        if (typeof require !== 'undefined') {\n",
       "        require.undef(\"plotly\");\n",
       "        requirejs.config({\n",
       "            paths: {\n",
       "                'plotly': ['https://cdn.plot.ly/plotly-latest.min']\n",
       "            }\n",
       "        });\n",
       "        require(['plotly'], function(Plotly) {\n",
       "            window._Plotly = Plotly;\n",
       "        });\n",
       "        }\n",
       "        </script>\n",
       "        "
      ]
     },
     "metadata": {},
     "output_type": "display_data"
    },
    {
     "data": {
      "application/vnd.plotly.v1+json": {
       "config": {
        "plotlyServerURL": "https://plot.ly"
       },
       "data": [
        {
         "hoverlabel": {
          "namelength": 0
         },
         "hovertemplate": "Dominant_Topic=Topic 0<br>0=%{x}<br>1=%{y}<br>2=%{z}",
         "legendgroup": "Dominant_Topic=Topic 0",
         "marker": {
          "color": "#636efa",
          "opacity": 0.7,
          "symbol": "circle"
         },
         "mode": "markers",
         "name": "Dominant_Topic=Topic 0",
         "scene": "scene",
         "showlegend": true,
         "type": "scatter3d",
         "x": [
          11.531847953796387,
          15.068507194519043,
          11.912078857421875,
          11.112519264221191,
          10.042877197265625,
          7.818315029144287,
          13.305817604064941,
          14.60688304901123,
          7.560601711273193,
          10.23253345489502,
          7.0051445960998535,
          11.39444351196289,
          8.443708419799805,
          9.059886932373047,
          9.375234603881836,
          11.105198860168457,
          15.037480354309082,
          5.472512245178223,
          6.497344493865967,
          4.958730220794678,
          10.508007049560547,
          14.604168891906738,
          15.134623527526855,
          5.030663013458252,
          13.542328834533691,
          13.18542766571045,
          12.738702774047852,
          4.793269634246826,
          11.859829902648926,
          3.6131908893585205,
          12.836223602294922,
          10.835357666015625,
          9.3466796875,
          2.797593355178833,
          12.603099822998047,
          9.201177597045898,
          3.3178818225860596,
          11.134796142578125,
          10.167235374450684,
          12.865394592285156,
          11.865120887756348,
          3.99408221244812,
          6.016854286193848,
          10.996770858764648,
          13.795610427856445,
          5.011973857879639,
          9.016427040100098,
          1.4086925983428955,
          3.379094123840332,
          11.048724174499512,
          12.593798637390137,
          13.820843696594238,
          8.748296737670898,
          13.43479061126709,
          6.361194610595703,
          14.069527626037598,
          12.366947174072266,
          8.558985710144043,
          15.144640922546387,
          7.853326320648193,
          12.961231231689453,
          15.918539047241211,
          5.06104040145874,
          6.358774662017822,
          9.738422393798828,
          6.347071647644043,
          3.572159767150879,
          11.780489921569824,
          2.6309010982513428,
          14.052008628845215,
          10.723153114318848,
          11.118358612060547,
          11.378658294677734,
          8.384446144104004,
          11.119295120239258,
          8.734959602355957,
          7.398254871368408,
          11.844306945800781,
          15.842947006225586,
          15.1452054977417,
          15.56734561920166,
          13.318105697631836,
          5.5125861167907715,
          10.672093391418457,
          6.866118431091309,
          10.489164352416992,
          5.826243877410889,
          8.342105865478516,
          7.157680034637451,
          10.606297492980957,
          15.864714622497559,
          15.320274353027344,
          15.18509578704834,
          10.875082969665527,
          14.245248794555664,
          12.377394676208496,
          -1.4006147384643555,
          8.880005836486816,
          2.9804413318634033,
          10.009227752685547,
          8.140177726745605,
          6.156125068664551,
          6.390029430389404,
          10.91723346710205,
          15.77295970916748,
          12.248591423034668,
          11.583934783935547,
          11.279311180114746,
          13.907694816589355,
          10.631232261657715,
          11.30124282836914,
          6.702589988708496,
          15.913552284240723,
          3.7155704498291016,
          9.082491874694824,
          6.50567626953125,
          10.05313777923584,
          12.279007911682129,
          11.374808311462402,
          3.0726754665374756,
          2.2380805015563965,
          13.07419204711914,
          15.133293151855469,
          12.616286277770996,
          6.453952789306641,
          15.222476959228516,
          15.564485549926758,
          14.599337577819824,
          5.016981601715088,
          3.0907280445098877,
          7.1335649490356445,
          6.462722301483154,
          15.921743392944336,
          12.953706741333008,
          13.932710647583008,
          12.290297508239746,
          10.594456672668457,
          5.408527374267578,
          5.760393142700195,
          14.929325103759766,
          6.6751203536987305,
          5.669658660888672,
          5.602505207061768,
          12.272452354431152,
          11.749003410339355,
          15.004252433776855,
          15.918476104736328,
          12.137322425842285,
          12.261184692382812,
          7.397182941436768,
          11.789420127868652,
          4.577361106872559,
          12.306953430175781,
          15.661770820617676,
          15.655574798583984,
          8.10761547088623,
          2.560797929763794,
          14.04651927947998,
          3.16605806350708,
          7.119462966918945,
          11.274079322814941,
          15.42704963684082,
          9.546228408813477,
          7.999740123748779,
          2.7051842212677,
          14.452625274658203,
          12.215567588806152,
          3.40917706489563,
          8.659686088562012,
          6.69616174697876,
          14.309962272644043,
          6.257029056549072,
          11.15176010131836,
          4.192368030548096,
          3.525784969329834,
          3.061279296875,
          2.463608741760254,
          12.25195598602295,
          12.025282859802246,
          13.305318832397461,
          14.90219497680664,
          15.103413581848145,
          11.106626510620117,
          13.666814804077148,
          4.588054180145264,
          7.862307548522949,
          6.497379302978516,
          9.963001251220703,
          14.600309371948242,
          7.197085857391357,
          5.934593200683594,
          7.084109306335449,
          11.422178268432617,
          3.073018789291382,
          11.117292404174805,
          11.24994945526123,
          14.070016860961914,
          3.1902995109558105,
          6.500241756439209,
          8.092864036560059,
          6.624497413635254,
          12.348557472229004,
          6.7587385177612305,
          8.030717849731445,
          10.539878845214844,
          15.53592586517334,
          15.521123886108398,
          10.458459854125977,
          15.862013816833496,
          5.4293212890625,
          5.112768650054932,
          11.344279289245605,
          4.978140830993652,
          13.4403076171875,
          6.335390567779541,
          4.88328218460083,
          14.912521362304688,
          12.15578556060791,
          11.615567207336426,
          11.671038627624512,
          8.450997352600098,
          13.071687698364258,
          11.374671936035156,
          10.256104469299316,
          9.239980697631836,
          2.5320844650268555,
          15.642324447631836,
          14.049921989440918,
          10.083351135253906,
          11.202037811279297,
          13.431782722473145,
          10.484272003173828,
          3.1166622638702393,
          7.882793426513672,
          8.832469940185547,
          12.478996276855469,
          12.325577735900879,
          14.898845672607422,
          3.892075777053833,
          12.155533790588379,
          4.509699821472168,
          1.4675465822219849,
          14.311469078063965,
          8.272576332092285,
          7.23618745803833,
          10.291028022766113,
          6.215862274169922,
          4.445594787597656,
          5.2960205078125,
          10.955430030822754,
          10.985182762145996,
          12.833431243896484,
          10.694637298583984,
          15.918791770935059,
          15.444378852844238,
          11.32064437866211,
          6.423776149749756,
          9.87108039855957,
          8.117558479309082,
          7.592957496643066,
          11.435681343078613,
          6.68161153793335,
          7.552094459533691,
          3.5522494316101074,
          5.254065036773682,
          11.420666694641113,
          12.543617248535156,
          11.67396354675293,
          11.632113456726074,
          2.8176350593566895,
          12.869484901428223,
          12.025863647460938,
          9.675707817077637,
          12.725024223327637,
          13.311108589172363,
          11.473048210144043,
          12.275694847106934
         ],
         "y": [
          8.946746826171875,
          5.473373889923096,
          8.895722389221191,
          3.452895402908325,
          4.776148796081543,
          4.375450611114502,
          7.722232341766357,
          6.884210109710693,
          4.216914176940918,
          -0.35673534870147705,
          -2.4708385467529297,
          9.65601921081543,
          -1.4323855638504028,
          -1.1826566457748413,
          -0.9979272484779358,
          9.564407348632812,
          6.476795196533203,
          0.017440402880311012,
          -1.7656562328338623,
          -2.797088861465454,
          -0.03776266425848007,
          6.88663911819458,
          5.5042924880981445,
          -1.7664885520935059,
          7.54293966293335,
          7.809816360473633,
          8.222628593444824,
          -2.9644970893859863,
          8.954534530639648,
          -3.5119001865386963,
          8.109484672546387,
          4.328217506408691,
          4.7834906578063965,
          2.1642417907714844,
          8.300634384155273,
          4.770866394042969,
          -4.175792694091797,
          9.59524154663086,
          -0.4080064594745636,
          8.074899673461914,
          2.1117048263549805,
          -4.063226699829102,
          2.4789657592773438,
          2.684601306915283,
          7.3705878257751465,
          -2.7369697093963623,
          4.758242130279541,
          3.1243503093719482,
          1.8355201482772827,
          0.8124555945396423,
          8.316018104553223,
          7.35370397567749,
          4.7137274742126465,
          7.624483585357666,
          3.0041253566741943,
          7.196267604827881,
          8.619441032409668,
          -1.404492974281311,
          6.695904731750488,
          4.394813060760498,
          8.000114440917969,
          6.122035503387451,
          -2.7064414024353027,
          -1.8383475542068481,
          -0.2318236082792282,
          -1.362438440322876,
          1.7524577379226685,
          9.648694038391113,
          2.273158311843872,
          7.207970142364502,
          4.307754039764404,
          9.581762313842773,
          9.234076499938965,
          -1.4544579982757568,
          9.579566955566406,
          -1.3456956148147583,
          4.101767539978027,
          8.975192070007324,
          6.303808689117432,
          6.826138496398926,
          6.564598083496094,
          7.712615489959717,
          1.9290581941604614,
          1.5148602724075317,
          -2.3551199436187744,
          1.680472731590271,
          0.9395203590393066,
          4.597625732421875,
          -2.225785732269287,
          0.09434736520051956,
          6.285642623901367,
          5.591774940490723,
          6.498425483703613,
          0.45778366923332214,
          7.092069149017334,
          8.389907836914062,
          2.2869341373443604,
          -1.2866261005401611,
          -4.700367450714111,
          -0.5521714687347412,
          4.528722286224365,
          2.6839776039123535,
          -1.7989652156829834,
          0.5205214023590088,
          5.854494571685791,
          8.667168617248535,
          1.5764132738113403,
          9.283609390258789,
          7.296992301940918,
          0.1702493578195572,
          9.647075653076172,
          3.47469162940979,
          5.994630336761475,
          -4.534928798675537,
          -1.175545334815979,
          3.2178618907928467,
          4.773642063140869,
          8.596964836120605,
          9.654409408569336,
          -5.914249897003174,
          2.5390326976776123,
          7.901416778564453,
          5.50349235534668,
          8.306110382080078,
          3.1421313285827637,
          6.695735931396484,
          6.558815002441406,
          6.88878059387207,
          -2.734713554382324,
          -5.863405227661133,
          -2.257697820663452,
          3.1595396995544434,
          6.131308555603027,
          8.006158828735352,
          7.28108024597168,
          3.1503326892852783,
          0.011650634929537773,
          -0.32521307468414307,
          1.1552704572677612,
          6.650175094604492,
          -1.710200548171997,
          0.028003742918372154,
          -2.3180909156799316,
          8.58057689666748,
          9.174752235412598,
          6.78594970703125,
          6.121905326843262,
          2.7389984130859375,
          8.469966888427734,
          4.099399089813232,
          8.994430541992188,
          0.0406416691839695,
          3.232839345932007,
          6.56258487701416,
          6.229873180389404,
          4.516743183135986,
          -4.397334098815918,
          7.211048603057861,
          1.9472010135650635,
          -2.1795570850372314,
          9.293988227844238,
          6.482163429260254,
          4.802706718444824,
          -1.5237449407577515,
          -4.238705635070801,
          6.9760332107543945,
          2.964672803878784,
          -5.121366024017334,
          -1.3725770711898804,
          3.7284367084503174,
          7.056766986846924,
          -2.2249386310577393,
          0.8687590956687927,
          1.487501621246338,
          1.7665414810180664,
          1.9983668327331543,
          -4.871480941772461,
          8.65989875793457,
          2.4583678245544434,
          7.722141742706299,
          6.73382568359375,
          6.402192115783691,
          9.563679695129395,
          7.457303047180176,
          -2.6137125492095947,
          -1.5460988283157349,
          -1.788940191268921,
          4.792687892913818,
          6.889342308044434,
          -2.23146915435791,
          2.326666831970215,
          3.835771083831787,
          9.208291053771973,
          -5.913442134857178,
          9.575506210327148,
          1.094536542892456,
          7.196269512176514,
          -5.617800235748291,
          -1.6176725625991821,
          4.512218475341797,
          -2.302845001220703,
          3.317171812057495,
          3.530594825744629,
          -1.5202199220657349,
          0.0030986028723418713,
          5.701706886291504,
          6.602838039398193,
          4.741713523864746,
          5.9280781745910645,
          -2.4134151935577393,
          -0.8036719560623169,
          1.1716411113739014,
          1.7872507572174072,
          7.6208577156066895,
          2.964019536972046,
          1.7584819793701172,
          6.727595806121826,
          8.697056770324707,
          9.236416816711426,
          1.797905445098877,
          -1.4367433786392212,
          7.903987407684326,
          1.2161718606948853,
          4.770264625549316,
          -1.0628175735473633,
          2.3332180976867676,
          6.216775894165039,
          7.209144115447998,
          -0.4719158113002777,
          9.364358901977539,
          7.624622821807861,
          -0.05009074509143829,
          1.974236249923706,
          -1.5389316082000732,
          4.725354194641113,
          8.534455299377441,
          3.2855796813964844,
          6.737534523010254,
          1.672999620437622,
          2.7516181468963623,
          -2.745615243911743,
          3.090822696685791,
          7.055126667022705,
          4.572000503540039,
          -2.1779367923736572,
          -0.29722076654434204,
          -1.192862629890442,
          -2.9844279289245605,
          1.8826292753219604,
          2.5339982509613037,
          -0.6867513656616211,
          8.1033353805542,
          0.15671147406101227,
          6.112143516540527,
          6.23129940032959,
          9.257272720336914,
          3.0999743938446045,
          -0.6660745143890381,
          4.516504764556885,
          4.249370574951172,
          9.657625198364258,
          3.4448611736297607,
          -3.0630581378936768,
          -4.839765548706055,
          -0.8606905341148376,
          9.20747184753418,
          8.416803359985352,
          8.880940437316895,
          9.057564735412598,
          -5.539771556854248,
          8.070931434631348,
          2.472470283508301,
          4.793115139007568,
          8.232973098754883,
          7.7176079750061035,
          1.4108864068984985,
          8.654430389404297
         ],
         "z": [
          -9.698921203613281,
          1.5815455913543701,
          -9.109580993652344,
          -0.10090398788452148,
          -0.18983840942382812,
          -0.36263400316238403,
          -5.587565898895264,
          -2.339223623275757,
          -0.33544453978538513,
          2.974250316619873,
          -2.3471295833587646,
          -11.896158218383789,
          2.8762457370758057,
          2.997758150100708,
          3.014056921005249,
          -11.354815483093262,
          -1.3038700819015503,
          1.3736766576766968,
          2.1604325771331787,
          1.7663242816925049,
          2.865947723388672,
          -2.346628189086914,
          1.5387355089187622,
          1.6430292129516602,
          -4.950254917144775,
          -5.906604766845703,
          -7.16284704208374,
          1.7319717407226562,
          -9.51831340789795,
          1.7361581325531006,
          -6.873655796051025,
          0.11721063405275345,
          -0.28929781913757324,
          1.9306412935256958,
          -7.478909015655518,
          -0.30509597063064575,
          1.6699458360671997,
          -11.46756362915039,
          3.0266478061676025,
          -6.775171279907227,
          2.061657667160034,
          1.5363065004348755,
          0.3464466333389282,
          -0.3818185031414032,
          -4.303122520446777,
          1.7755236625671387,
          -0.32842522859573364,
          2.5181705951690674,
          1.7023584842681885,
          2.6859078407287598,
          -7.509568691253662,
          -4.2407307624816895,
          -0.3509180545806885,
          -5.2423858642578125,
          0.07284995913505554,
          -3.619701385498047,
          -8.023758888244629,
          2.9089953899383545,
          -0.8843753933906555,
          -0.36564821004867554,
          -6.510150909423828,
          0.4290063977241516,
          1.786792278289795,
          2.120154857635498,
          3.74139666557312,
          2.0162618160247803,
          1.6250932216644287,
          -12.191608428955078,
          2.001220703125,
          -3.6629302501678467,
          0.08793102949857712,
          -11.419364929199219,
          -10.087050437927246,
          2.8587167263031006,
          -11.425262451171875,
          2.937507390975952,
          -0.31327858567237854,
          -9.593027114868164,
          -0.111084945499897,
          -1.2383638620376587,
          -0.28461652994155884,
          -5.55542516708374,
          0.7114952206611633,
          2.6073553562164307,
          -2.218353271484375,
          2.591782569885254,
          0.9840691685676575,
          -0.36421144008636475,
          -1.682515025138855,
          2.984717845916748,
          0.19064974784851074,
          1.407811164855957,
          -1.3458151817321777,
          2.7961390018463135,
          -3.1881492137908936,
          -8.123801231384277,
          2.293471097946167,
          2.9653844833374023,
          1.6255472898483276,
          3.004756212234497,
          -0.36718836426734924,
          0.2320278286933899,
          2.1247165203094482,
          2.7769505977630615,
          0.9826163053512573,
          -8.397894859313965,
          2.332115411758423,
          -10.353875160217285,
          -4.01706600189209,
          2.9474658966064453,
          -11.794573783874512,
          -0.13215936720371246,
          0.6768383979797363,
          1.4483708143234253,
          2.9948935508728027,
          -0.0280374214053154,
          -0.18671058118343353,
          -8.410639762878418,
          -11.875483512878418,
          1.1864957809448242,
          2.16595196723938,
          -6.209468364715576,
          1.5396288633346558,
          -7.463809013366699,
          0.007547938730567694,
          -1.3845099210739136,
          -0.2846514880657196,
          -2.3533926010131836,
          1.7768040895462036,
          1.197312593460083,
          -1.8267782926559448,
          -0.007271125912666321,
          0.40756964683532715,
          -6.528867244720459,
          -3.951870918273926,
          1.4704968929290771,
          2.9716598987579346,
          1.4754880666732788,
          0.9152668714523315,
          -1.2017468214035034,
          2.2220592498779297,
          1.3665187358856201,
          1.9219342470169067,
          -8.409372329711914,
          -9.480576515197754,
          -1.1820666790008545,
          0.4297989010810852,
          1.712770938873291,
          -8.033395767211914,
          -0.30777063965797424,
          -9.273579597473145,
          1.5317399501800537,
          1.4161487817764282,
          -0.32589536905288696,
          -0.4548724293708801,
          -0.3668644428253174,
          1.8692570924758911,
          -3.674774646759033,
          1.7852096557617188,
          -1.4340273141860962,
          -10.35371208190918,
          -1.040468692779541,
          -0.2681216895580292,
          2.730379343032837,
          1.857922911643982,
          -2.7025909423828125,
          1.5776244401931763,
          1.3422939777374268,
          2.936568260192871,
          -0.5608343482017517,
          -3.035233736038208,
          -2.326080322265625,
          2.6472907066345215,
          1.3943250179290771,
          1.6447035074234009,
          1.8272993564605713,
          1.7681032419204712,
          -8.40532398223877,
          1.8746681213378906,
          -5.588510513305664,
          -1.6721093654632568,
          -0.8971539735794067,
          -11.361948013305664,
          -4.638432502746582,
          1.6579755544662476,
          2.68051815032959,
          2.1657426357269287,
          -0.20683160424232483,
          -2.3506927490234375,
          -1.7375383377075195,
          0.42259159684181213,
          -0.23377496004104614,
          -9.976433753967285,
          1.186643362045288,
          -11.410396575927734,
          2.5597963333129883,
          -3.6218795776367188,
          1.2452198266983032,
          2.1325643062591553,
          -0.3660351037979126,
          -2.2868242263793945,
          1.3692256212234497,
          -0.14440451562404633,
          2.742102861404419,
          3.0192127227783203,
          1.239126205444336,
          -0.6799355745315552,
          -0.11572278290987015,
          0.8277447819709778,
          1.8738014698028564,
          1.5437160730361938,
          2.5184950828552246,
          0.9624421000480652,
          -5.22673225402832,
          0.09107305109500885,
          1.0110011100769043,
          -1.6366333961486816,
          -8.69235897064209,
          -9.656150817871094,
          2.198777437210083,
          2.8780791759490967,
          -6.217031002044678,
          2.497791290283203,
          -0.15721939504146576,
          3.023940086364746,
          2.040640354156494,
          -0.44652384519577026,
          -3.6671202182769775,
          3.047736644744873,
          -10.543590545654297,
          -5.252023220062256,
          2.8326478004455566,
          1.804679274559021,
          2.6873843669891357,
          -0.34279024600982666,
          -8.143767356872559,
          1.3850505352020264,
          -1.6774027347564697,
          1.4885919094085693,
          1.7112053632736206,
          1.6634857654571533,
          2.4971566200256348,
          -3.030571699142456,
          -0.3652208149433136,
          -1.6159515380859375,
          3.0415167808532715,
          1.9282548427581787,
          1.6770527362823486,
          0.8060696721076965,
          -0.42936384677886963,
          2.681704044342041,
          -6.856959819793701,
          2.890883684158325,
          0.47137337923049927,
          -0.3555273413658142,
          -10.226120948791504,
          0.026676086708903313,
          3.0176663398742676,
          -0.3700597286224365,
          -0.3363140821456909,
          -11.935503005981445,
          -0.1119421198964119,
          -3.0851142406463623,
          1.3936899900436401,
          1.5708152055740356,
          -9.979523658752441,
          -7.779031753540039,
          -9.474586486816406,
          -9.403912544250488,
          1.408220887184143,
          -6.762368679046631,
          1.8651684522628784,
          -0.2465103715658188,
          -7.203360557556152,
          -5.573983192443848,
          2.414172649383545,
          -8.421356201171875
         ]
        },
        {
         "hoverlabel": {
          "namelength": 0
         },
         "hovertemplate": "Dominant_Topic=Topic 1<br>0=%{x}<br>1=%{y}<br>2=%{z}",
         "legendgroup": "Dominant_Topic=Topic 1",
         "marker": {
          "color": "#EF553B",
          "opacity": 0.7,
          "symbol": "circle"
         },
         "mode": "markers",
         "name": "Dominant_Topic=Topic 1",
         "scene": "scene",
         "showlegend": true,
         "type": "scatter3d",
         "x": [
          -0.8649324774742126,
          -3.928846597671509,
          -5.171008110046387,
          -3.0056142807006836,
          -3.2525837421417236,
          0.3897964060306549,
          -2.328787326812744,
          -4.692837238311768,
          -0.44147446751594543,
          -5.248843669891357,
          -1.1642537117004395,
          -5.323063373565674,
          -3.8749563694000244,
          -4.255126953125,
          -1.9011682271957397,
          -3.651465892791748,
          -3.485732078552246,
          -1.93996262550354,
          1.202278971672058,
          1.1588630676269531,
          -3.034259080886841,
          -0.3132947087287903,
          -1.0116593837738037,
          -4.121346950531006,
          -3.270993232727051,
          0.4792412221431732,
          0.7565568089485168,
          -5.322198390960693,
          -2.120694875717163,
          -1.3802002668380737,
          -5.033029079437256,
          -3.6050148010253906,
          -4.409844875335693,
          2.5154900550842285,
          -2.69854474067688,
          -1.0872377157211304,
          0.6745222210884094,
          2.730172872543335,
          -5.299217224121094,
          -1.1121386289596558,
          -1.1161054372787476,
          -1.2686762809753418,
          -1.4053624868392944,
          1.8569130897521973,
          -2.3056693077087402,
          -1.7353122234344482,
          -3.3201820850372314,
          -1.9840337038040161,
          -3.127258062362671,
          -5.328124046325684,
          -2.919962167739868,
          -3.945321559906006,
          0.9979402422904968,
          -3.2228057384490967,
          -3.922900676727295,
          -3.446091651916504,
          1.4838135242462158,
          -4.465685844421387,
          -0.175698921084404,
          -1.7679165601730347,
          -2.4713497161865234,
          1.628361701965332,
          2.714177370071411,
          -5.002326488494873,
          2.5601773262023926,
          -1.555785059928894,
          -4.899416446685791,
          -1.176472783088684,
          -3.9491190910339355,
          -0.3092004656791687,
          -3.174443483352661,
          -0.9835814833641052,
          -2.6681525707244873,
          -2.8042757511138916,
          -3.39835786819458,
          -3.079806327819824,
          -2.9518468379974365,
          -4.074481964111328,
          -4.2631449699401855,
          -3.746812582015991,
          -1.5837879180908203,
          -4.3738250732421875,
          -5.3212571144104,
          -3.937629461288452,
          -3.597297430038452,
          -1.1265414953231812,
          -5.134860038757324,
          -2.8617091178894043,
          -3.855616807937622,
          -2.6954262256622314,
          -0.9966307878494263,
          1.074741244316101,
          0.3678509593009949,
          -5.32390022277832,
          -4.813060760498047,
          -5.271389961242676,
          0.5084031224250793,
          -0.5414137840270996,
          -2.021409749984741,
          -5.116843223571777,
          -5.325796127319336,
          -4.800459861755371,
          -4.0942769050598145,
          0.8585681915283203,
          -5.104386329650879,
          -1.4162904024124146,
          -4.883421897888184,
          -1.0386964082717896,
          -4.012819766998291,
          -3.1655211448669434,
          -1.8533799648284912,
          -1.5556451082229614,
          -4.317028522491455,
          0.802171528339386,
          1.0565282106399536,
          -2.655561685562134,
          -3.6618707180023193,
          -1.896012306213379,
          -3.748500108718872,
          -1.4007961750030518,
          -5.056397438049316,
          1.1863892078399658,
          -1.4353575706481934,
          -2.649164915084839,
          -3.125659704208374,
          -0.8102999329566956,
          -1.7876814603805542,
          -3.1092638969421387,
          -3.66215443611145,
          -2.646385431289673,
          2.775987148284912,
          -2.307188034057617,
          0.1611107736825943,
          2.091796875,
          -5.187943458557129,
          1.5697773694992065,
          0.9702883958816528,
          -1.5350544452667236,
          -4.3213114738464355,
          -0.9434016346931458,
          -2.5989882946014404,
          -3.1904335021972656,
          -4.008361339569092,
          -4.0417799949646,
          -2.6483123302459717,
          -1.7759050130844116,
          -2.913752555847168,
          -3.1012766361236572,
          -4.612353801727295,
          1.05013108253479,
          -4.1594767570495605,
          -3.203622341156006,
          -3.8065805435180664,
          -2.116380453109741,
          -3.6415529251098633,
          -4.4371185302734375,
          -5.324057579040527,
          -3.007004737854004,
          1.5314531326293945,
          -3.072235345840454,
          0.017699966207146645,
          -2.8275973796844482,
          -1.5392968654632568,
          -4.4061126708984375,
          -1.1230475902557373,
          -1.0987732410430908,
          -1.9890236854553223,
          -4.352688312530518,
          -4.404845714569092,
          -2.452507972717285,
          -4.6069440841674805,
          0.8882970809936523,
          0.021303096786141396,
          0.4415857493877411,
          -2.8462140560150146,
          -4.637364864349365,
          -3.58799147605896,
          -3.1582961082458496,
          1.1895251274108887,
          -2.0004348754882812,
          -5.235522270202637,
          -5.267823219299316,
          1.3039852380752563,
          -4.545333385467529,
          -3.2553484439849854,
          -1.8545557260513306,
          -4.820559978485107,
          -5.049502849578857,
          -0.9934648275375366,
          -5.111604690551758,
          -5.288494110107422,
          -1.8617641925811768,
          1.9302412271499634,
          -1.6752485036849976,
          -3.200551748275757,
          -4.937661647796631,
          -1.5475568771362305,
          -1.8300062417984009,
          -4.748751163482666,
          -3.4112439155578613,
          -1.1692485809326172,
          -5.118753910064697,
          -5.336441516876221,
          -1.2223761081695557,
          1.2262297868728638,
          -3.8999745845794678,
          -1.7544198036193848,
          3.0320627689361572,
          1.094684362411499,
          0.847048819065094,
          -4.751976490020752,
          -4.132542610168457,
          -1.4165743589401245,
          -5.28695821762085,
          -4.514280796051025,
          -4.518967628479004,
          -2.5324296951293945,
          -3.5583643913269043,
          1.4586687088012695,
          -4.7818922996521,
          -1.0362986326217651,
          -2.33693265914917,
          0.8547043800354004,
          -1.0633856058120728,
          2.580566883087158,
          -3.157780408859253,
          -4.3929972648620605,
          -0.5663798451423645,
          -2.8075950145721436,
          -3.9459164142608643,
          -4.93717622756958,
          -1.493309736251831,
          -1.5372177362442017,
          -5.320541858673096,
          -3.022982120513916,
          -3.2661731243133545,
          2.721989154815674,
          -4.977749824523926,
          -1.4171886444091797,
          -5.240890979766846,
          -5.038832187652588,
          -5.1085309982299805,
          -1.7692183256149292,
          -3.3423807621002197,
          -1.2950531244277954,
          -4.98043155670166,
          -1.4125112295150757,
          -2.2411978244781494,
          -2.361137866973877,
          -1.0413532257080078,
          -2.9040257930755615,
          1.8744922876358032,
          -2.433635950088501,
          -4.530486106872559,
          -3.1793627738952637
         ],
         "y": [
          -11.254207611083984,
          -6.879599571228027,
          -10.427989959716797,
          -7.717710018157959,
          -4.457378387451172,
          -10.221667289733887,
          -11.948938369750977,
          -6.600799083709717,
          -10.91983699798584,
          -9.981720924377441,
          -2.47680926322937,
          -9.275154113769531,
          -5.418126106262207,
          -5.948217391967773,
          -6.223783493041992,
          -5.158280849456787,
          -7.023050308227539,
          -5.176657199859619,
          -5.639822006225586,
          -9.253058433532715,
          -3.669978618621826,
          -5.591457843780518,
          -7.017624855041504,
          -12.033535957336426,
          -4.486818313598633,
          -7.185675144195557,
          -7.1320109367370605,
          -8.78327751159668,
          -11.881816864013672,
          -10.11820125579834,
          -10.91012191772461,
          -12.221735954284668,
          -6.776570796966553,
          -6.134383201599121,
          -8.592083930969238,
          -9.454059600830078,
          -9.918269157409668,
          -6.635563373565674,
          -9.523347854614258,
          -3.1160922050476074,
          -11.416401863098145,
          -3.162180185317993,
          -2.628365993499756,
          -8.027480125427246,
          -1.0608139038085938,
          -2.5928990840911865,
          -12.290085792541504,
          -6.373434543609619,
          -4.06965970993042,
          -9.341615676879883,
          -12.24930477142334,
          -6.683585166931152,
          -7.331873416900635,
          -12.274118423461914,
          -5.477054119110107,
          -12.25832462310791,
          -8.674758911132812,
          -6.701436519622803,
          -10.791608810424805,
          -11.724655151367188,
          -12.081705093383789,
          -8.393195152282715,
          -6.697998046875,
          -10.936779975891113,
          -6.974731922149658,
          -2.9474802017211914,
          -11.206323623657227,
          -6.980594635009766,
          -5.6116766929626465,
          -10.901049613952637,
          -7.49667501449585,
          -11.337158203125,
          -12.120376586914062,
          -8.852865219116211,
          -7.920739650726318,
          -7.105503082275391,
          -12.207337379455566,
          -5.672867774963379,
          -11.935067176818848,
          -12.192610740661621,
          -1.835831880569458,
          -6.037604808807373,
          -8.839629173278809,
          -5.493431568145752,
          -5.328836441040039,
          -2.3386363983154297,
          -10.571646690368652,
          -6.992494106292725,
          -12.165705680847168,
          -1.2397699356079102,
          -2.6261794567108154,
          -5.40236234664917,
          -10.242880821228027,
          -7.404300689697266,
          -6.847121238708496,
          -9.754181861877441,
          -10.153485298156738,
          -11.04961109161377,
          -10.149325370788574,
          -7.736320972442627,
          -8.930378913879395,
          -6.819761276245117,
          -6.271009922027588,
          -9.705567359924316,
          -10.791814804077148,
          -11.554704666137695,
          -7.012970447540283,
          -6.9576849937438965,
          -12.090288162231445,
          -4.694620609283447,
          -4.884672164916992,
          -2.8706047534942627,
          -6.029272079467773,
          -9.787412643432617,
          -7.179821014404297,
          -6.431005001068115,
          -5.793159484863281,
          -10.190657615661621,
          -7.972057342529297,
          -2.0219528675079346,
          -7.530116081237793,
          -9.181382179260254,
          -11.607922554016113,
          -1.2534959316253662,
          -3.7679154872894287,
          -9.527812004089355,
          -1.6314860582351685,
          -9.245107650756836,
          -12.216082572937012,
          -12.098613739013672,
          -6.564197063446045,
          -1.1806132793426514,
          -10.505281448364258,
          -7.6635589599609375,
          -10.296393394470215,
          -8.517955780029297,
          -7.504326820373535,
          -6.245109558105469,
          -6.522110939025879,
          -3.184175968170166,
          -1.1680335998535156,
          -4.308868885040283,
          -5.5846333503723145,
          -5.519280910491943,
          -1.3195459842681885,
          -2.3298521041870117,
          -12.195319175720215,
          -4.296152114868164,
          -11.603297233581543,
          -9.459218978881836,
          -12.014086723327637,
          -7.411724090576172,
          -5.5294952392578125,
          -1.2629501819610596,
          -12.232698440551758,
          -6.948580265045166,
          -8.799540519714355,
          -3.645326614379883,
          -5.510319232940674,
          -7.113230228424072,
          -10.582086563110352,
          -1.0081487894058228,
          -2.114135265350342,
          -6.272658824920654,
          -3.7432565689086914,
          -3.6595911979675293,
          -10.333041191101074,
          -6.057438850402832,
          -6.703948020935059,
          -1.1089115142822266,
          -6.465356349945068,
          -8.005691528320312,
          -10.588946342468262,
          -10.199256896972656,
          -12.210013389587402,
          -11.574589729309082,
          -5.095650672912598,
          -3.8056728839874268,
          -9.196167945861816,
          -11.855574607849121,
          -8.232084274291992,
          -9.816181182861328,
          -5.536499977111816,
          -6.364042282104492,
          -5.437306880950928,
          -6.579440593719482,
          -11.334648132324219,
          -10.855813026428223,
          -3.1309409141540527,
          -10.67321491241455,
          -9.733832359313965,
          -4.950159072875977,
          -7.923197269439697,
          -1.7324624061584473,
          -3.9139652252197266,
          -11.139699935913086,
          -6.104381561279297,
          -6.300583362579346,
          -8.74425983428955,
          -4.907939434051514,
          -11.449274063110352,
          -10.628490447998047,
          -9.0880765914917,
          -3.946324110031128,
          -5.268057346343994,
          -6.686440467834473,
          -4.203668117523193,
          -6.021035671234131,
          -9.3616361618042,
          -6.312954902648926,
          -6.728035926818848,
          -6.419571399688721,
          -2.572880983352661,
          -8.502028465270996,
          -6.313651084899902,
          -8.459434509277344,
          -12.029535293579102,
          -5.065572261810303,
          -8.712037086486816,
          -8.45054817199707,
          -3.513848304748535,
          -1.0641391277313232,
          -9.710779190063477,
          -10.017221450805664,
          -6.933958530426025,
          -12.223943710327148,
          -11.827472686767578,
          -11.010252952575684,
          -8.861166000366211,
          -5.599676609039307,
          -7.162101745605469,
          -2.1356844902038574,
          -2.514446973800659,
          -8.917952537536621,
          -8.42839241027832,
          -12.271854400634766,
          -6.660924911499023,
          -7.265287399291992,
          -11.583009719848633,
          -9.983922958374023,
          -7.470851421356201,
          -7.671537399291992,
          -2.435014486312866,
          -4.714507579803467,
          -11.516852378845215,
          -11.064821243286133,
          -2.2033536434173584,
          -4.518486499786377,
          -1.2799791097640991,
          -2.8098249435424805,
          -8.692926406860352,
          -8.025257110595703,
          -12.008537292480469,
          -11.693277359008789,
          -4.264761924743652
         ],
         "z": [
          2.2401785850524902,
          6.699892520904541,
          7.816845417022705,
          4.785906791687012,
          4.551774024963379,
          1.4439890384674072,
          3.4877634048461914,
          10.974742889404297,
          1.9466674327850342,
          8.210921287536621,
          13.008010864257812,
          8.840350151062012,
          11.997023582458496,
          9.357376098632812,
          3.7402431964874268,
          12.230818748474121,
          5.758645057678223,
          3.5274910926818848,
          2.055521011352539,
          1.136904001235962,
          10.887850761413574,
          2.7950990200042725,
          2.9616189002990723,
          5.689453125,
          4.5939459800720215,
          1.9752503633499146,
          1.8317794799804688,
          9.315513610839844,
          3.290424108505249,
          2.6649088859558105,
          7.39299201965332,
          4.9274187088012695,
          8.110054969787598,
          1.327380657196045,
          4.186617851257324,
          2.4730427265167236,
          1.3048806190490723,
          1.0840262174606323,
          8.592292785644531,
          12.850577354431152,
          2.4332714080810547,
          13.462477684020996,
          12.896713256835938,
          1.0641381740570068,
          13.957303047180176,
          13.47188949584961,
          4.553190231323242,
          3.8368186950683594,
          4.133057117462158,
          8.813380241394043,
          4.0819411277771,
          6.78593111038208,
          1.6510744094848633,
          4.436638355255127,
          11.942534446716309,
          4.70819616317749,
          1.0863820314407349,
          8.495349884033203,
          1.7687785625457764,
          2.974618673324585,
          3.6220808029174805,
          1.0806628465652466,
          1.0725761651992798,
          7.331484317779541,
          1.0530025959014893,
          13.410623550415039,
          7.0793681144714355,
          3.0905215740203857,
          6.8220930099487305,
          1.8569995164871216,
          5.096133232116699,
          2.3303582668304443,
          3.819157838821411,
          4.236629486083984,
          5.350508689880371,
          5.03776216506958,
          4.082759380340576,
          11.754060745239258,
          5.916903972625732,
          5.1276535987854,
          13.424612998962402,
          10.761344909667969,
          9.249287605285645,
          11.917662620544434,
          5.741561412811279,
          13.414119720458984,
          7.690906524658203,
          4.760157108306885,
          5.286572456359863,
          13.83883285522461,
          13.173605918884277,
          2.185086488723755,
          1.4551323652267456,
          10.131490707397461,
          10.760649681091309,
          8.386960983276367,
          1.3794028759002686,
          2.0151610374450684,
          3.2276198863983154,
          10.159890174865723,
          9.168291091918945,
          10.856886863708496,
          7.2777628898620605,
          1.2281124591827393,
          7.564812660217285,
          2.675516366958618,
          10.669048309326172,
          2.9912803173065186,
          5.5192790031433105,
          12.631387710571289,
          3.3837573528289795,
          13.002246856689453,
          9.574441909790039,
          1.2488219738006592,
          1.6655114889144897,
          4.535350799560547,
          6.031610488891602,
          3.1064651012420654,
          5.942898273468018,
          13.4550199508667,
          10.328943252563477,
          1.1347404718399048,
          2.6919641494750977,
          14.032547950744629,
          10.74994945526123,
          2.2640154361724854,
          13.552427291870117,
          4.309519290924072,
          5.002514362335205,
          3.7898433208465576,
          1.0883668661117554,
          14.034436225891113,
          1.5622090101242065,
          1.0578120946884155,
          7.911280155181885,
          1.0791655778884888,
          1.6179882287979126,
          3.438790798187256,
          8.08816146850586,
          13.281797409057617,
          13.657638549804688,
          4.3786492347717285,
          11.839629173278809,
          11.40429401397705,
          13.914674758911133,
          13.183945655822754,
          4.056933403015137,
          4.271376132965088,
          6.5252604484558105,
          1.1608058214187622,
          5.744588851928711,
          5.163117408752441,
          6.368650436401367,
          13.726283073425293,
          4.974386692047119,
          8.021268844604492,
          9.313100814819336,
          10.927872657775879,
          1.9499882459640503,
          5.025172710418701,
          1.6502974033355713,
          13.975671768188477,
          13.114502906799316,
          9.300511360168457,
          12.999829292297363,
          13.021289825439453,
          3.1831319332122803,
          11.380264282226562,
          8.19153881072998,
          13.612422943115234,
          11.11976432800293,
          1.531960129737854,
          1.648341417312622,
          1.414838194847107,
          4.0055036544799805,
          6.57244873046875,
          12.30473804473877,
          10.684014320373535,
          1.1294519901275635,
          3.1824378967285156,
          9.768250465393066,
          8.342543601989746,
          2.041287422180176,
          11.206942558288574,
          5.089835166931152,
          3.7211334705352783,
          6.9180378913879395,
          7.448801040649414,
          12.9163818359375,
          7.603227138519287,
          8.439912796020508,
          3.407085418701172,
          1.0585685968399048,
          13.464395523071289,
          10.810432434082031,
          7.1595025062561035,
          3.443338632583618,
          3.685114622116089,
          7.591017723083496,
          12.448715209960938,
          2.4776484966278076,
          7.641864776611328,
          9.052968978881836,
          12.953332901000977,
          2.158139944076538,
          6.670215129852295,
          12.99966049194336,
          1.1661466360092163,
          1.150262475013733,
          2.0240609645843506,
          10.879620552062988,
          7.381133079528809,
          13.652620315551758,
          9.56527328491211,
          11.236401557922363,
          7.223784446716309,
          3.6755101680755615,
          12.332714080810547,
          1.090440034866333,
          7.858750343322754,
          13.030797958374023,
          13.688873291015625,
          1.2297548055648804,
          2.4166831970214844,
          1.0569915771484375,
          4.35263204574585,
          6.139389514923096,
          2.0020828247070312,
          4.238467693328857,
          6.812519073486328,
          10.576374053955078,
          13.096529006958008,
          13.649813652038574,
          9.160624504089355,
          4.620898246765137,
          4.495538711547852,
          1.0807589292526245,
          10.470921516418457,
          2.6769862174987793,
          8.18542194366455,
          10.33642292022705,
          10.23585319519043,
          13.172398567199707,
          4.841897964477539,
          2.5771865844726562,
          7.263452053070068,
          13.628355026245117,
          3.544163465499878,
          14.0757474899292,
          13.476171493530273,
          4.389564037322998,
          1.0569572448730469,
          3.5823581218719482,
          6.377638339996338,
          4.334897518157959
         ]
        },
        {
         "hoverlabel": {
          "namelength": 0
         },
         "hovertemplate": "Dominant_Topic=Topic 2<br>0=%{x}<br>1=%{y}<br>2=%{z}",
         "legendgroup": "Dominant_Topic=Topic 2",
         "marker": {
          "color": "#00cc96",
          "opacity": 0.7,
          "symbol": "circle"
         },
         "mode": "markers",
         "name": "Dominant_Topic=Topic 2",
         "scene": "scene",
         "showlegend": true,
         "type": "scatter3d",
         "x": [
          -1.7261848449707031,
          -5.860001087188721,
          -6.190662384033203,
          -11.052268981933594,
          -1.6224089860916138,
          -4.911978721618652,
          -9.166227340698242,
          -4.864662170410156,
          -2.905719518661499,
          -3.641404867172241,
          1.067790150642395,
          -0.22666938602924347,
          -2.4784622192382812,
          -7.528541564941406,
          -8.389649391174316,
          -0.17108367383480072,
          -3.0965020656585693,
          -1.5471112728118896,
          -9.559802055358887,
          -10.892107009887695,
          -8.980010032653809,
          1.095008373260498,
          -0.8853870630264282,
          1.060238003730774,
          -1.790174126625061,
          -7.9527411460876465,
          -12.37551212310791,
          -0.09251680970191956,
          -5.662126541137695,
          -8.654568672180176,
          -8.092066764831543,
          -2.2865195274353027,
          -4.651763916015625,
          -8.229366302490234,
          -5.949452877044678,
          -0.36833637952804565,
          -4.811062812805176,
          -5.31643009185791,
          -3.289881706237793,
          -0.6433119773864746,
          -2.158764362335205,
          -6.403561115264893,
          -11.881004333496094,
          -8.469949722290039,
          -0.49935483932495117,
          -9.057950973510742,
          -8.557720184326172,
          -11.09561824798584,
          -10.342421531677246,
          -2.656339406967163,
          -8.025297164916992,
          -8.461609840393066,
          -12.235892295837402,
          -11.184916496276855,
          -12.061420440673828,
          -6.501945495605469,
          -6.284439563751221,
          -1.580244779586792,
          -5.626703262329102,
          -6.053645610809326,
          -12.319472312927246,
          -1.6607853174209595,
          -11.290786743164062,
          -0.8302837610244751,
          -1.1509429216384888,
          -2.2924234867095947,
          -0.024983376264572144,
          -10.873138427734375,
          -5.853662967681885,
          -12.123357772827148,
          -10.280180931091309,
          -0.588631808757782,
          -6.284956932067871,
          -12.36343002319336,
          -6.668860912322998,
          -4.879441738128662,
          -11.435165405273438,
          -11.956218719482422,
          -0.5863076448440552,
          -11.825841903686523,
          -11.932140350341797,
          -6.195984840393066,
          -5.009039402008057,
          -12.001676559448242,
          -4.389929294586182,
          -6.5135602951049805,
          -10.053934097290039,
          -10.37568187713623,
          -6.299778461456299,
          -5.327127933502197,
          -11.68220329284668,
          -11.295705795288086,
          -7.405937194824219,
          -0.24519619345664978,
          -10.375994682312012,
          -8.215465545654297,
          -5.246193885803223,
          -1.4287766218185425,
          -11.713419914245605,
          -8.411209106445312,
          -11.231372833251953,
          -10.760501861572266,
          -0.17361946403980255,
          -3.5761332511901855,
          -8.115355491638184,
          -3.739635467529297,
          -4.356107711791992,
          -5.294745445251465,
          -6.441133499145508,
          -6.409963607788086,
          -7.0605998039245605,
          -7.4867634773254395,
          -0.415097713470459,
          -7.720171928405762,
          -0.03543026000261307,
          -10.496344566345215,
          -12.171124458312988,
          -12.371849060058594,
          -12.714217185974121,
          -6.829423904418945,
          -10.051916122436523,
          -9.6172513961792,
          -0.31980761885643005,
          -12.327113151550293,
          -7.065424919128418,
          -11.18753433227539,
          -0.33740541338920593,
          -0.5360851287841797,
          -0.5028199553489685,
          -9.965228080749512,
          -6.781949996948242,
          -0.023626595735549927,
          -1.9145301580429077,
          -1.4181879758834839,
          -1.090673565864563,
          -4.247035980224609,
          -0.12185199558734894,
          -8.226876258850098,
          -5.888902187347412,
          -0.5664858818054199,
          -10.9304780960083,
          -10.94438648223877,
          -12.304606437683105,
          -1.2149521112442017,
          -0.8935307264328003,
          -2.79538893699646,
          -8.669317245483398,
          -1.372746229171753,
          -0.012703021988272667,
          -6.387998580932617,
          -0.0676189512014389,
          -6.8479390144348145,
          -12.138425827026367,
          -5.842099666595459,
          -10.74601936340332,
          -6.701867580413818,
          -2.778555393218994,
          -11.138906478881836,
          -2.219008207321167,
          -9.906414031982422,
          -7.47373104095459,
          -11.563058853149414,
          -0.014506518840789795,
          -11.872040748596191,
          -1.254332423210144,
          -11.490059852600098,
          -5.7191081047058105,
          -11.166703224182129,
          -7.325173854827881,
          -3.204939842224121,
          -0.21119125187397003,
          -5.797638416290283,
          -12.228741645812988,
          -0.5959713459014893,
          -1.0802205801010132,
          -7.400984764099121,
          -8.774720191955566,
          0.050179168581962585,
          -11.255613327026367,
          -0.5624848008155823,
          -1.591263771057129,
          -7.842690467834473,
          -6.782778739929199,
          -12.158292770385742,
          -6.998366355895996,
          -0.39157187938690186,
          -7.9003825187683105,
          -5.344968318939209,
          -6.315752983093262,
          -10.839323043823242,
          -3.307220458984375,
          -6.3027849197387695,
          -4.394164562225342,
          -10.646296501159668,
          -0.12380123883485794,
          -7.033578395843506,
          -12.347209930419922,
          -6.509627342224121,
          -10.544635772705078,
          -0.8408233523368835,
          -10.415946006774902,
          -7.782264709472656,
          -0.281152606010437,
          -9.129446029663086,
          -7.271963596343994,
          -7.960450172424316,
          -6.3838090896606445,
          -4.138674736022949,
          -12.025311470031738,
          -0.14167526364326477,
          -6.724255084991455,
          -0.577889084815979,
          -7.877350807189941,
          -0.9131173491477966,
          -7.124976634979248,
          -12.098074913024902,
          -6.755191802978516,
          0.7185503840446472,
          -4.189786911010742,
          -2.80617356300354,
          -3.3117048740386963,
          -1.894944429397583,
          -0.012509875930845737,
          -3.1214964389801025,
          -7.643272876739502,
          -5.236359119415283,
          -0.4164544939994812,
          -0.1466345638036728,
          -11.44132137298584,
          -0.9972666501998901,
          -7.313217639923096,
          -6.5263824462890625,
          -8.06260871887207,
          -0.010648499242961407,
          -10.33200454711914,
          -4.540220260620117,
          -10.367657661437988,
          -11.449450492858887,
          -6.044876575469971,
          -2.1391475200653076,
          -11.334399223327637,
          -0.258408784866333,
          -0.798198938369751,
          -12.34715461730957,
          -10.746018409729004,
          -12.176492691040039,
          -12.116385459899902,
          -6.506712913513184,
          -5.9915947914123535,
          -8.126921653747559,
          -11.291836738586426,
          -8.241910934448242,
          -12.233209609985352,
          -0.3082423806190491,
          -12.333975791931152,
          -7.30178689956665,
          -12.069402694702148,
          -10.580653190612793,
          -5.807498455047607,
          -2.6326093673706055,
          0.02334083989262581,
          -3.5377368927001953,
          -7.4382734298706055,
          -8.388374328613281,
          -4.757205486297607,
          -5.011993408203125,
          -8.079828262329102,
          -0.0870036631822586,
          -0.36758196353912354,
          -3.9269521236419678,
          1.0607995986938477,
          -12.32789421081543,
          -9.257412910461426,
          -6.4484357833862305,
          -3.796581506729126,
          -12.280162811279297,
          -4.937812805175781,
          -8.962148666381836,
          -2.8134138584136963,
          -11.573694229125977,
          -4.080156326293945,
          -6.636557579040527,
          -7.310266017913818,
          -0.4243154227733612,
          -0.7125676274299622,
          -5.617053985595703,
          -6.416863441467285,
          -6.842430114746094,
          -9.037626266479492,
          1.0604625940322876,
          -1.2041010856628418,
          -5.3271613121032715,
          -2.6137609481811523,
          -4.913653373718262,
          -0.35658034682273865,
          -0.19818487763404846,
          -9.642641067504883,
          -7.667794704437256,
          0.010527737438678741,
          -6.030937194824219,
          -2.3023438453674316,
          -5.9326043128967285,
          -6.843322277069092,
          -0.8523114323616028,
          -0.020017964765429497,
          -6.4920454025268555,
          -10.26042652130127,
          -5.348598957061768,
          -11.132294654846191,
          -2.279810905456543,
          -3.4377431869506836,
          -8.462716102600098,
          -6.793848037719727,
          -5.0998215675354,
          -0.00696325721219182,
          -0.6248385906219482,
          -0.7069975733757019,
          -7.209930419921875,
          -1.446347951889038,
          0.04193063825368881,
          -5.132775783538818,
          -0.5781936049461365,
          -7.2720232009887695,
          -12.024638175964355,
          -0.09263261407613754,
          -12.016499519348145,
          -11.89773941040039,
          -6.745918273925781,
          -1.4052436351776123,
          -11.234354019165039,
          -2.2932581901550293,
          -3.5801713466644287,
          -11.504638671875,
          -6.8293046951293945,
          -4.8245062828063965,
          -0.10530246049165726,
          -1.4092371463775635,
          -4.849281311035156,
          -9.747673988342285,
          -7.702920436859131,
          -11.452866554260254,
          -2.7675259113311768,
          -10.184123039245605,
          -11.02364730834961,
          -0.3572773039340973,
          -5.35085916519165,
          -5.110367774963379,
          -10.181830406188965,
          -3.012693405151367,
          -5.510952472686768,
          -5.822754383087158,
          -8.406641006469727,
          -10.640801429748535,
          -6.980484485626221,
          -2.577866315841675,
          -10.739562034606934,
          -8.233715057373047,
          -0.6772356629371643,
          -11.97533893585205,
          -5.980745315551758,
          -8.433449745178223,
          -11.293159484863281,
          -0.033260319381952286,
          -12.08177375793457,
          -9.59869384765625,
          -10.465447425842285,
          -6.780047416687012,
          -5.635267734527588,
          -0.405274897813797,
          -1.1991604566574097,
          -1.1223809719085693,
          -1.301870584487915,
          -7.339428901672363,
          -6.807035446166992,
          -8.883426666259766,
          -1.0578866004943848,
          -9.0033597946167,
          -5.4721360206604,
          -3.638911247253418,
          -9.035656929016113,
          -5.537152290344238,
          -9.998123168945312,
          -4.812521934509277,
          -11.720394134521484,
          -5.999579429626465,
          -4.818056106567383,
          -8.759308815002441,
          -0.8393771648406982,
          -8.214823722839355,
          -6.813809394836426,
          -8.088679313659668,
          -1.8002187013626099,
          -7.8224639892578125,
          -6.565579414367676,
          -2.4606213569641113,
          1.0132921934127808,
          -10.798842430114746,
          -6.428974628448486,
          -4.700577259063721,
          -6.2897629737854,
          -8.82150936126709,
          -2.841416358947754,
          -11.957749366760254,
          -10.081531524658203,
          -10.366621971130371,
          -6.825123310089111,
          -3.722066879272461,
          -10.667693138122559,
          -12.27420711517334,
          -9.654483795166016,
          -0.22892044484615326,
          -0.05282791331410408,
          -3.5638527870178223,
          -7.027289390563965,
          -12.089071273803711,
          -5.645016670227051,
          -9.16477108001709,
          -1.2487291097640991,
          -5.556376934051514,
          -7.875838279724121,
          -5.745207786560059,
          -0.9254494309425354,
          -1.7594969272613525,
          -4.352319240570068,
          -12.329864501953125,
          -3.227034568786621,
          -0.6471584439277649,
          0.8389699459075928,
          -6.866569995880127
         ],
         "y": [
          -0.7905632853507996,
          -0.8472347855567932,
          -0.6734312176704407,
          7.335260391235352,
          -0.9694392085075378,
          -0.9473415017127991,
          7.869957447052002,
          7.30898380279541,
          6.627166271209717,
          3.8634533882141113,
          3.3758277893066406,
          -7.1483964920043945,
          6.461408615112305,
          3.20672345161438,
          7.8598408699035645,
          4.135137557983398,
          -0.28939709067344666,
          6.097989559173584,
          2.706324577331543,
          2.5716826915740967,
          2.628582239151001,
          3.3702776432037354,
          5.759909152984619,
          3.375474214553833,
          -0.6896346807479858,
          4.253042697906494,
          5.464404582977295,
          4.895291328430176,
          -0.8369593024253845,
          0.43815308809280396,
          7.842038154602051,
          -0.20510177314281464,
          -1.3761991262435913,
          4.181222915649414,
          -0.8024670481681824,
          -9.584117889404297,
          -1.2494134902954102,
          -0.9014305472373962,
          -0.39766380190849304,
          -4.265799045562744,
          -0.29513925313949585,
          7.6970438957214355,
          3.5705888271331787,
          0.3125368058681488,
          -5.140296459197998,
          0.7751819491386414,
          0.379761666059494,
          2.155923843383789,
          7.840287208557129,
          6.542031764984131,
          2.461761951446533,
          4.301153182983398,
          5.849299430847168,
          2.5038983821868896,
          3.913480281829834,
          1.792933702468872,
          0.19837307929992676,
          -1.0632256269454956,
          -0.8459693789482117,
          7.06693696975708,
          5.346951961517334,
          -0.8996658325195312,
          3.4966204166412354,
          -3.60299015045166,
          -2.2741475105285645,
          -0.2017894983291626,
          -8.915826797485352,
          7.478930950164795,
          -0.8545864224433899,
          4.118346214294434,
          1.764656901359558,
          -4.648688316345215,
          0.19783900678157806,
          5.1042561531066895,
          5.565924167633057,
          -1.212971568107605,
          2.87458872795105,
          3.6957342624664307,
          5.564453125,
          6.569828033447266,
          3.6605520248413086,
          0.4409863352775574,
          -0.5193815231323242,
          6.219780445098877,
          0.9624037742614746,
          4.796694278717041,
          1.5984126329421997,
          1.8445603847503662,
          4.115171909332275,
          -0.8976722359657288,
          6.717418193817139,
          2.702516555786133,
          -0.27160927653312683,
          -6.597036838531494,
          7.657507419586182,
          0.15117035806179047,
          7.508731842041016,
          -1.4156489372253418,
          6.142840385437012,
          0.27195319533348083,
          7.1605143547058105,
          2.3708088397979736,
          5.037479877471924,
          6.8598761558532715,
          0.3432518243789673,
          4.332237243652344,
          0.9740499258041382,
          7.5164361000061035,
          0.015433023683726788,
          7.668756484985352,
          4.206501007080078,
          7.777838706970215,
          5.182040214538574,
          3.5031726360321045,
          -8.959466934204102,
          7.548061370849609,
          5.447787761688232,
          5.427157402038574,
          4.0854997634887695,
          -0.24251556396484375,
          7.8158063888549805,
          1.247272253036499,
          -6.738806247711182,
          5.415617942810059,
          7.879264831542969,
          7.209898948669434,
          3.6873137950897217,
          5.524278163909912,
          -5.122264385223389,
          7.819339275360107,
          3.8519248962402344,
          -6.8711442947387695,
          6.159624099731445,
          2.975651502609253,
          5.877289295196533,
          7.1381402015686035,
          4.950721740722656,
          4.142019748687744,
          0.2550579011440277,
          5.553591728210449,
          4.113772392272949,
          2.3340609073638916,
          4.94373083114624,
          -2.0553903579711914,
          -3.2922825813293457,
          -3.9581854343414307,
          4.448209285736084,
          2.5675063133239746,
          -7.875400066375732,
          0.08940654247999191,
          -7.338415622711182,
          -0.27120649814605713,
          4.15847635269165,
          7.636741638183594,
          1.9934653043746948,
          1.9946117401123047,
          6.584973335266113,
          2.665151834487915,
          6.360620498657227,
          1.4865788221359253,
          2.969529628753662,
          3.083787202835083,
          -7.8628129959106445,
          5.9713592529296875,
          5.89234733581543,
          5.851113796234131,
          2.7730162143707275,
          7.220339298248291,
          3.0519566535949707,
          -0.35121867060661316,
          5.109617710113525,
          -0.8719513416290283,
          4.4588165283203125,
          -4.0379157066345215,
          -2.5216727256774902,
          -0.24366562068462372,
          2.571185350418091,
          -8.279886245727539,
          2.3632335662841797,
          4.050811290740967,
          -1.0297666788101196,
          3.2907302379608154,
          -0.26483264565467834,
          6.072718620300293,
          -0.00016464682994410396,
          -5.675626754760742,
          3.8059580326080322,
          3.015000104904175,
          0.6634812951087952,
          2.2171273231506348,
          4.074042797088623,
          4.367346286773682,
          4.500703811645508,
          7.706791400909424,
          4.913273811340332,
          -0.047604866325855255,
          5.651134490966797,
          -0.4909410774707794,
          1.9299551248550415,
          -3.4873948097229004,
          7.608222007751465,
          -0.11215293407440186,
          -6.272210597991943,
          4.425801753997803,
          7.724409580230713,
          3.1485633850097656,
          -0.5614400506019592,
          7.102290630340576,
          3.8090837001800537,
          -6.600624084472656,
          3.372437000274658,
          -4.821505546569824,
          1.0267853736877441,
          -3.2141871452331543,
          7.736254692077637,
          4.048819541931152,
          6.865972995758057,
          3.6704490184783936,
          7.123262882232666,
          6.426886081695557,
          4.961122512817383,
          3.2348172664642334,
          -8.840697288513184,
          -3.907679796218872,
          0.23653389513492584,
          -0.9127750396728516,
          5.183872222900391,
          4.973832130432129,
          2.8997802734375,
          -2.790055513381958,
          1.9157055616378784,
          -0.0686093419790268,
          7.839097499847412,
          -7.9003777503967285,
          1.8303543329238892,
          4.45927095413208,
          1.828947901725769,
          6.940364837646484,
          7.678439140319824,
          -0.3091907203197479,
          2.7717268466949463,
          -6.5771002769470215,
          5.709969997406006,
          5.810362339019775,
          7.564619064331055,
          4.245951175689697,
          6.09824800491333,
          4.379248142242432,
          -0.7740678787231445,
          0.07042822241783142,
          2.6758363246917725,
          0.6110522747039795,
          5.914004802703857,
          -6.91804313659668,
          5.500716209411621,
          7.757356643676758,
          6.307798862457275,
          4.267115592956543,
          -0.8748846650123596,
          3.703500270843506,
          -8.02908992767334,
          4.500069618225098,
          0.6168748140335083,
          0.23931656777858734,
          4.396350383758545,
          -0.9391718506813049,
          0.04118775576353073,
          -6.886288642883301,
          -5.77733039855957,
          4.200567245483398,
          3.375307321548462,
          4.911441802978516,
          7.86522102355957,
          0.004889057483524084,
          5.891573429107666,
          5.6359028816223145,
          7.3914690017700195,
          0.7245565056800842,
          -0.15733790397644043,
          6.812692165374756,
          7.066151142120361,
          -0.13298209011554718,
          0.34513598680496216,
          -5.479490280151367,
          -4.1868391036987305,
          -0.8473486304283142,
          -0.5386630296707153,
          -0.23155316710472107,
          2.4555628299713135,
          3.375309705734253,
          -2.0929174423217773,
          -0.8976894021034241,
          -0.11915336549282074,
          -1.1852904558181763,
          -5.393481254577637,
          -9.360089302062988,
          1.281313419342041,
          7.802542686462402,
          -8.761566162109375,
          0.6474157571792603,
          3.585479259490967,
          -0.8114421367645264,
          -0.2563866376876831,
          -4.021373748779297,
          -8.891936302185059,
          -0.049527037888765335,
          1.7557415962219238,
          -1.030128836631775,
          2.4948785305023193,
          -0.21225818991661072,
          6.25706672668457,
          0.297357439994812,
          -0.30361586809158325,
          -1.1142210960388184,
          -6.920314311981201,
          5.563474655151367,
          -4.112590789794922,
          2.0022504329681396,
          -1.3698396682739258,
          -8.200713157653809,
          -1.1050432920455933,
          -4.6398773193359375,
          0.3643783628940582,
          3.8194899559020996,
          -9.146432876586914,
          3.8410260677337646,
          6.208149433135986,
          -0.3334200084209442,
          -1.483195185661316,
          2.443990707397461,
          6.405066967010498,
          5.846149444580078,
          2.9861161708831787,
          -0.2740423083305359,
          -1.2388821840286255,
          -7.455944061279297,
          -1.463938593864441,
          -1.2258086204528809,
          7.843989849090576,
          3.8903825283050537,
          2.9177627563476562,
          3.68487286567688,
          1.7237180471420288,
          2.1006221771240234,
          -5.910090923309326,
          -0.8944878578186035,
          -1.1199567317962646,
          2.5770907402038574,
          -0.24508799612522125,
          -0.868229329586029,
          -0.7957313060760498,
          0.24190747737884521,
          7.68991756439209,
          7.560589790344238,
          -0.12120399624109268,
          2.2769148349761963,
          7.856753349304199,
          -4.322519779205322,
          6.419020652770996,
          7.435080528259277,
          0.2533511519432068,
          2.591470241546631,
          -7.733733177185059,
          3.9243876934051514,
          1.2351367473602295,
          4.4430694580078125,
          -0.26023584604263306,
          7.572211265563965,
          -5.598730564117432,
          3.6037187576293945,
          5.888580322265625,
          -1.7846437692642212,
          0.07209610939025879,
          -0.303066223859787,
          0.6560366749763489,
          -2.602029323577881,
          0.7362347841262817,
          7.507440567016602,
          5.171638011932373,
          2.538302421569824,
          7.590147495269775,
          7.831934928894043,
          -1.2595540285110474,
          6.324224472045898,
          -0.7767870426177979,
          -0.9501602649688721,
          0.5166226029396057,
          -3.4880826473236084,
          0.5789739489555359,
          -0.19736987352371216,
          7.7606587409973145,
          -0.6733019351959229,
          7.8052873611450195,
          -0.09653741866350174,
          6.4558024406433105,
          3.4240338802337646,
          7.525181770324707,
          0.016390448436141014,
          -1.3397828340530396,
          0.21578338742256165,
          7.868394374847412,
          4.486955642700195,
          3.7578954696655273,
          1.6043474674224854,
          7.838655471801758,
          5.605952739715576,
          4.73621940612793,
          1.9888213872909546,
          4.6323113441467285,
          7.846610069274902,
          -7.050380706787109,
          -9.020110130310059,
          5.999755382537842,
          -0.009816407226026058,
          4.034782409667969,
          7.389103412628174,
          2.5627081394195557,
          -1.9674806594848633,
          -0.9663175344467163,
          -0.06943067163228989,
          0.14998504519462585,
          -3.167497396469116,
          2.664947509765625,
          7.1828227043151855,
          4.925671100616455,
          -0.36130663752555847,
          -3.7829341888427734,
          3.5940005779266357,
          7.707874298095703
         ],
         "z": [
          -13.272615432739258,
          -5.536351203918457,
          -4.906059741973877,
          2.5320842266082764,
          -13.332358360290527,
          -10.317445755004883,
          3.7198219299316406,
          4.432494163513184,
          4.282260417938232,
          2.545320987701416,
          2.6651875972747803,
          -12.115772247314453,
          4.227298736572266,
          0.6001181602478027,
          3.9626944065093994,
          3.0697498321533203,
          -11.853262901306152,
          4.086476802825928,
          -2.0728161334991455,
          -6.134693622589111,
          -1.4764200448989868,
          2.661973714828491,
          3.9432146549224854,
          2.6657145023345947,
          -13.232744216918945,
          1.2368590831756592,
          -0.2840558588504791,
          3.4975709915161133,
          -9.977444648742676,
          -9.34561538696289,
          4.041511535644531,
          -12.811286926269531,
          -7.905855178833008,
          1.0444124937057495,
          -5.402835369110107,
          -12.095755577087402,
          -7.346208572387695,
          -10.101546287536621,
          -11.618038177490234,
          -13.1776704788208,
          -12.93232250213623,
          4.38230037689209,
          -3.3558688163757324,
          -9.530550003051758,
          -12.903956413269043,
          -8.82981014251709,
          -9.36083984375,
          -6.080935955047607,
          3.1014420986175537,
          4.258638381958008,
          -0.620269775390625,
          1.034364938735962,
          0.33373260498046875,
          -5.658178806304932,
          -2.660576343536377,
          -8.479251861572266,
          0.34492653608322144,
          -13.349825859069824,
          -9.983089447021484,
          4.014199733734131,
          -0.30959680676460266,
          -13.313691139221191,
          -2.5997774600982666,
          -13.270939826965332,
          -13.364076614379883,
          -12.805458068847656,
          -11.634284973144531,
          2.748263120651245,
          -5.55905294418335,
          -2.280733823776245,
          -7.3882551193237305,
          -13.018489837646484,
          0.34379762411117554,
          -0.7677505612373352,
          2.790022611618042,
          -7.144282341003418,
          -4.876401424407959,
          -3.102228879928589,
          3.846705675125122,
          1.3487255573272705,
          -3.170142412185669,
          0.682050347328186,
          -7.4195075035095215,
          0.9468965530395508,
          -9.748549461364746,
          2.282674789428711,
          -7.608682155609131,
          -7.238087177276611,
          1.899788498878479,
          -10.102450370788574,
          1.5865188837051392,
          -5.302605152130127,
          -9.949092864990234,
          -12.427380561828613,
          3.2695372104644775,
          -9.653937339782715,
          4.491070747375488,
          -13.401750564575195,
          1.2919615507125854,
          -9.581222534179688,
          2.2860569953918457,
          -6.163160800933838,
          3.5763421058654785,
          4.343335151672363,
          -7.241894245147705,
          2.827328681945801,
          -9.769233703613281,
          4.487322807312012,
          -0.18996170163154602,
          4.355729579925537,
          1.6109117269515991,
          4.1840996742248535,
          3.6439874172210693,
          0.7163891196250916,
          -11.645059585571289,
          3.1609997749328613,
          0.037796057760715485,
          -0.3236726224422455,
          -0.6080593466758728,
          -2.2573390007019043,
          3.356189727783203,
          -8.159296035766602,
          -12.252275466918945,
          -0.24449124932289124,
          3.70865797996521,
          2.348689079284668,
          2.8184022903442383,
          3.8267810344696045,
          -12.909984588623047,
          3.3982677459716797,
          1.514923334121704,
          -12.419915199279785,
          4.099425315856934,
          2.4900753498077393,
          3.993170976638794,
          4.425537586212158,
          3.524813413619995,
          1.0103839635849,
          1.2068758010864258,
          3.841610908508301,
          -0.9685792326927185,
          -6.580197811126709,
          -0.8547364473342896,
          -13.3832368850708,
          -13.242096900939941,
          3.7146573066711426,
          1.0621299743652344,
          2.3686418533325195,
          -11.811344146728516,
          0.017833556979894638,
          -12.123093605041504,
          -2.666341781616211,
          -2.2168617248535156,
          4.458522796630859,
          -6.781774997711182,
          -8.307900428771973,
          4.2716546058654785,
          -5.931258678436279,
          4.1891889572143555,
          -7.788599967956543,
          0.465764582157135,
          -4.399170875549316,
          -11.816882133483887,
          0.9333052039146423,
          3.9922516345977783,
          1.179178237915039,
          1.6261080503463745,
          2.378356456756592,
          0.6546432971954346,
          -11.71728229522705,
          3.614680767059326,
          -5.699661731719971,
          -1.7060127258300781,
          -13.092068672180176,
          -13.345040321350098,
          -1.7889801263809204,
          -1.3280088901519775,
          -11.663259506225586,
          -6.173867702484131,
          3.0071754455566406,
          -13.350252151489258,
          0.4158264696598053,
          -2.1608493328094482,
          0.6369813680648804,
          -2.145047187805176,
          -12.756584167480469,
          0.8801429867744446,
          1.8358311653137207,
          0.597305178642273,
          -6.061119079589844,
          2.7557575702667236,
          2.0526843070983887,
          2.7402267456054688,
          2.9615228176116943,
          3.506748676300049,
          -2.704132080078125,
          -0.09260205179452896,
          -5.910741329193115,
          -7.08107852935791,
          -13.255911827087402,
          3.2453670501708984,
          -9.872520446777344,
          -12.569125175476074,
          0.7641392350196838,
          4.202206134796143,
          0.15575745701789856,
          -4.427543640136719,
          4.417868137359619,
          -2.881147623062134,
          -12.346488952636719,
          1.2792001962661743,
          -12.987224578857422,
          -9.068673133850098,
          -13.256928443908691,
          4.2556962966918945,
          -2.4016001224517822,
          3.688138246536255,
          2.827211856842041,
          4.424103736877441,
          4.179105758666992,
          3.2924935817718506,
          2.535598039627075,
          -11.617220878601074,
          3.993422508239746,
          -5.111292839050293,
          -10.146286010742188,
          3.6447246074676514,
          3.5373263359069824,
          -4.801044464111328,
          -13.323749542236328,
          -8.364494323730469,
          -0.5249428749084473,
          4.047431468963623,
          -11.802416801452637,
          -7.1946234703063965,
          2.6707563400268555,
          -7.279001712799072,
          1.9544278383255005,
          4.444993019104004,
          -12.952017784118652,
          -5.140771865844727,
          -12.469042778015137,
          3.919644355773926,
          0.1530914008617401,
          2.88188099861145,
          -2.0841524600982666,
          0.7174569964408875,
          1.983574390411377,
          -5.572378158569336,
          -9.747241973876953,
          -5.416234016418457,
          -5.423861503601074,
          0.39929381012916565,
          -12.43433952331543,
          -0.16251742839813232,
          4.22396993637085,
          0.903900682926178,
          -0.43629565834999084,
          -5.595469951629639,
          2.639615058898926,
          -11.74897575378418,
          3.521855592727661,
          -2.0103566646575928,
          -9.53770923614502,
          2.5654938220977783,
          -10.259830474853516,
          -9.771842956542969,
          -12.482874870300293,
          -12.740550994873047,
          2.6880664825439453,
          2.6649606227874756,
          -1.0202680826187134,
          3.686135768890381,
          -0.22077436745166779,
          3.753119707107544,
          0.19691157341003418,
          4.466444492340088,
          -8.861207962036133,
          -12.212787628173828,
          1.7583675384521484,
          4.403282642364502,
          -1.0251485109329224,
          -2.4046173095703125,
          -12.805224418640137,
          -13.2442626953125,
          -9.984295845031738,
          -4.441359519958496,
          -2.2704412937164307,
          -1.7863240242004395,
          2.665621757507324,
          -13.380475044250488,
          -10.101985931396484,
          -12.459229469299316,
          -7.0943403244018555,
          -13.045635223388672,
          -11.84642219543457,
          -8.090570449829102,
          4.146671295166016,
          -11.60586166381836,
          1.0612149238586426,
          2.6205661296844482,
          -5.411901473999023,
          -2.8377082347869873,
          -13.1594877243042,
          -11.628474235534668,
          -0.4035031795501709,
          -7.3838725090026855,
          -6.341149806976318,
          -6.3092241287231445,
          -12.817575454711914,
          4.013742446899414,
          -9.610956192016602,
          -2.9028263092041016,
          -6.727470874786377,
          -12.193771362304688,
          3.841646194458008,
          -13.01552963256836,
          -8.303126335144043,
          -13.393630981445312,
          -11.692138671875,
          -6.667670726776123,
          -13.031578063964844,
          -2.094484567642212,
          -2.849405288696289,
          -11.70835018157959,
          -2.7763564586639404,
          2.349823236465454,
          -3.1914865970611572,
          -13.399771690368652,
          -5.6913042068481445,
          4.211479187011719,
          3.7612531185150146,
          -4.633033275604248,
          -2.333815097808838,
          -7.313065528869629,
          -12.036320686340332,
          -13.398411750793457,
          -7.2350897789001465,
          3.4971766471862793,
          1.0590466260910034,
          -4.759243488311768,
          2.609194040298462,
          -7.348511695861816,
          -6.339633464813232,
          -12.692178726196289,
          -10.093968391418457,
          -6.687410354614258,
          -3.492903709411621,
          -11.960914611816406,
          -10.028804779052734,
          -9.928858757019043,
          -9.453694343566895,
          2.9583218097686768,
          4.1391215324401855,
          -12.50059986114502,
          -6.656042098999023,
          4.011662483215332,
          -13.124299049377441,
          1.0883045196533203,
          4.277275085449219,
          -9.64669418334961,
          -5.632169723510742,
          -11.885893821716309,
          -2.6682288646698,
          -8.169044494628906,
          -0.10422911494970322,
          -2.132366895675659,
          4.453957557678223,
          -12.773161888122559,
          2.730896472930908,
          3.997854471206665,
          -13.404122352600098,
          -4.440791130065918,
          -2.76103138923645,
          -8.959162712097168,
          -13.340675354003906,
          -8.882364273071289,
          4.440945625305176,
          3.3525948524475098,
          -1.667138695716858,
          4.486454963684082,
          3.384212017059326,
          -7.280215740203857,
          1.3991429805755615,
          -5.344326019287109,
          -10.373613357543945,
          -9.232221603393555,
          -13.259147644042969,
          -5.54449462890625,
          -2.0642874240875244,
          3.969484567642212,
          -13.224644660949707,
          4.095189571380615,
          -0.6942574977874756,
          4.225547790527344,
          2.6928224563598633,
          2.8322913646698,
          -0.15666736662387848,
          -7.66094446182251,
          0.34422197937965393,
          3.8316493034362793,
          3.0729475021362305,
          -2.9133849143981934,
          -7.640351295471191,
          3.0718512535095215,
          2.766834020614624,
          3.0796327590942383,
          -6.856631278991699,
          -1.4471973180770874,
          3.5291266441345215,
          -12.428350448608398,
          -11.661433219909668,
          3.8524084091186523,
          -2.2961435317993164,
          -2.4170045852661133,
          4.324940204620361,
          -1.7978700399398804,
          -13.398701667785645,
          -6.004490852355957,
          -9.852886199951172,
          1.4407168626785278,
          -13.267611503601074,
          2.378621816635132,
          4.436737060546875,
          -0.9986060857772827,
          -11.690529823303223,
          -13.188846588134766,
          2.7865993976593018,
          4.293832778930664
         ]
        },
        {
         "hoverlabel": {
          "namelength": 0
         },
         "hovertemplate": "Dominant_Topic=Topic 3<br>0=%{x}<br>1=%{y}<br>2=%{z}",
         "legendgroup": "Dominant_Topic=Topic 3",
         "marker": {
          "color": "#ab63fa",
          "opacity": 0.7,
          "symbol": "circle"
         },
         "mode": "markers",
         "name": "Dominant_Topic=Topic 3",
         "scene": "scene",
         "showlegend": true,
         "type": "scatter3d",
         "x": [
          9.462530136108398,
          9.68692398071289,
          7.948968887329102,
          9.081199645996094,
          9.212212562561035,
          8.45190143585205,
          8.174384117126465,
          9.7589750289917,
          8.04833698272705,
          8.819643020629883,
          9.23000431060791,
          9.422211647033691,
          9.259100914001465,
          9.602933883666992,
          9.596540451049805,
          9.539924621582031,
          9.949755668640137,
          9.865701675415039,
          9.494436264038086,
          8.439001083374023,
          7.7369704246521,
          9.316985130310059,
          7.921648025512695,
          9.137934684753418,
          8.341516494750977,
          9.860810279846191,
          9.65958309173584,
          8.966413497924805,
          8.475747108459473,
          9.538201332092285,
          8.070229530334473,
          7.991795063018799,
          9.928653717041016,
          7.9905104637146,
          8.899927139282227,
          9.087644577026367,
          8.727230072021484,
          9.027896881103516,
          9.34129524230957
         ],
         "y": [
          -5.705887317657471,
          -5.886375427246094,
          -3.595604658126831,
          -5.364914417266846,
          -4.991818904876709,
          -4.2314772605896,
          -3.889735221862793,
          -5.829552173614502,
          -3.723310947418213,
          -5.106459140777588,
          -5.757086753845215,
          -5.313933849334717,
          -4.992588996887207,
          -5.401516437530518,
          -4.991471290588379,
          -5.1686224937438965,
          -5.408856391906738,
          -5.232740879058838,
          -4.899733066558838,
          -4.220865726470947,
          -3.316758394241333,
          -5.726060390472412,
          -3.560220718383789,
          -5.857324123382568,
          -4.101019382476807,
          -5.3294172286987305,
          -5.421205520629883,
          -5.455179691314697,
          -4.26685094833374,
          -5.930286884307861,
          -3.752865791320801,
          -3.6515119075775146,
          -5.614563465118408,
          -3.6493723392486572,
          -4.792074203491211,
          -5.823592185974121,
          -5.205785751342773,
          -5.380089282989502,
          -4.877958297729492
         ],
         "z": [
          -6.135617256164551,
          -5.492866039276123,
          -3.8055579662323,
          -5.194530963897705,
          -5.244998455047607,
          -4.522287368774414,
          -4.152284145355225,
          -5.491344928741455,
          -3.9581971168518066,
          -5.587202072143555,
          -6.0434794425964355,
          -6.212309837341309,
          -5.906198024749756,
          -6.191895008087158,
          -5.8844380378723145,
          -5.196400165557861,
          -5.820074081420898,
          -5.44532585144043,
          -5.504495620727539,
          -4.513786792755127,
          -3.439885139465332,
          -5.248699188232422,
          -3.7608070373535156,
          -5.603291988372803,
          -4.383284568786621,
          -6.001251697540283,
          -5.218099117279053,
          -6.010249614715576,
          -4.563425064086914,
          -5.826394081115723,
          -3.994184970855713,
          -3.8757970333099365,
          -5.631921768188477,
          -3.872349500656128,
          -5.090014934539795,
          -5.661754608154297,
          -5.792111873626709,
          -5.241269588470459,
          -5.656716823577881
         ]
        }
       ],
       "layout": {
        "height": 800,
        "legend": {
         "tracegroupgap": 0
        },
        "scene": {
         "domain": {
          "x": [
           0,
           1
          ],
          "y": [
           0,
           1
          ]
         },
         "xaxis": {
          "title": {
           "text": "0"
          }
         },
         "yaxis": {
          "title": {
           "text": "1"
          }
         },
         "zaxis": {
          "title": {
           "text": "2"
          }
         }
        },
        "template": {
         "data": {
          "bar": [
           {
            "error_x": {
             "color": "#2a3f5f"
            },
            "error_y": {
             "color": "#2a3f5f"
            },
            "marker": {
             "line": {
              "color": "#E5ECF6",
              "width": 0.5
             }
            },
            "type": "bar"
           }
          ],
          "barpolar": [
           {
            "marker": {
             "line": {
              "color": "#E5ECF6",
              "width": 0.5
             }
            },
            "type": "barpolar"
           }
          ],
          "carpet": [
           {
            "aaxis": {
             "endlinecolor": "#2a3f5f",
             "gridcolor": "white",
             "linecolor": "white",
             "minorgridcolor": "white",
             "startlinecolor": "#2a3f5f"
            },
            "baxis": {
             "endlinecolor": "#2a3f5f",
             "gridcolor": "white",
             "linecolor": "white",
             "minorgridcolor": "white",
             "startlinecolor": "#2a3f5f"
            },
            "type": "carpet"
           }
          ],
          "choropleth": [
           {
            "colorbar": {
             "outlinewidth": 0,
             "ticks": ""
            },
            "type": "choropleth"
           }
          ],
          "contour": [
           {
            "colorbar": {
             "outlinewidth": 0,
             "ticks": ""
            },
            "colorscale": [
             [
              0,
              "#0d0887"
             ],
             [
              0.1111111111111111,
              "#46039f"
             ],
             [
              0.2222222222222222,
              "#7201a8"
             ],
             [
              0.3333333333333333,
              "#9c179e"
             ],
             [
              0.4444444444444444,
              "#bd3786"
             ],
             [
              0.5555555555555556,
              "#d8576b"
             ],
             [
              0.6666666666666666,
              "#ed7953"
             ],
             [
              0.7777777777777778,
              "#fb9f3a"
             ],
             [
              0.8888888888888888,
              "#fdca26"
             ],
             [
              1,
              "#f0f921"
             ]
            ],
            "type": "contour"
           }
          ],
          "contourcarpet": [
           {
            "colorbar": {
             "outlinewidth": 0,
             "ticks": ""
            },
            "type": "contourcarpet"
           }
          ],
          "heatmap": [
           {
            "colorbar": {
             "outlinewidth": 0,
             "ticks": ""
            },
            "colorscale": [
             [
              0,
              "#0d0887"
             ],
             [
              0.1111111111111111,
              "#46039f"
             ],
             [
              0.2222222222222222,
              "#7201a8"
             ],
             [
              0.3333333333333333,
              "#9c179e"
             ],
             [
              0.4444444444444444,
              "#bd3786"
             ],
             [
              0.5555555555555556,
              "#d8576b"
             ],
             [
              0.6666666666666666,
              "#ed7953"
             ],
             [
              0.7777777777777778,
              "#fb9f3a"
             ],
             [
              0.8888888888888888,
              "#fdca26"
             ],
             [
              1,
              "#f0f921"
             ]
            ],
            "type": "heatmap"
           }
          ],
          "heatmapgl": [
           {
            "colorbar": {
             "outlinewidth": 0,
             "ticks": ""
            },
            "colorscale": [
             [
              0,
              "#0d0887"
             ],
             [
              0.1111111111111111,
              "#46039f"
             ],
             [
              0.2222222222222222,
              "#7201a8"
             ],
             [
              0.3333333333333333,
              "#9c179e"
             ],
             [
              0.4444444444444444,
              "#bd3786"
             ],
             [
              0.5555555555555556,
              "#d8576b"
             ],
             [
              0.6666666666666666,
              "#ed7953"
             ],
             [
              0.7777777777777778,
              "#fb9f3a"
             ],
             [
              0.8888888888888888,
              "#fdca26"
             ],
             [
              1,
              "#f0f921"
             ]
            ],
            "type": "heatmapgl"
           }
          ],
          "histogram": [
           {
            "marker": {
             "colorbar": {
              "outlinewidth": 0,
              "ticks": ""
             }
            },
            "type": "histogram"
           }
          ],
          "histogram2d": [
           {
            "colorbar": {
             "outlinewidth": 0,
             "ticks": ""
            },
            "colorscale": [
             [
              0,
              "#0d0887"
             ],
             [
              0.1111111111111111,
              "#46039f"
             ],
             [
              0.2222222222222222,
              "#7201a8"
             ],
             [
              0.3333333333333333,
              "#9c179e"
             ],
             [
              0.4444444444444444,
              "#bd3786"
             ],
             [
              0.5555555555555556,
              "#d8576b"
             ],
             [
              0.6666666666666666,
              "#ed7953"
             ],
             [
              0.7777777777777778,
              "#fb9f3a"
             ],
             [
              0.8888888888888888,
              "#fdca26"
             ],
             [
              1,
              "#f0f921"
             ]
            ],
            "type": "histogram2d"
           }
          ],
          "histogram2dcontour": [
           {
            "colorbar": {
             "outlinewidth": 0,
             "ticks": ""
            },
            "colorscale": [
             [
              0,
              "#0d0887"
             ],
             [
              0.1111111111111111,
              "#46039f"
             ],
             [
              0.2222222222222222,
              "#7201a8"
             ],
             [
              0.3333333333333333,
              "#9c179e"
             ],
             [
              0.4444444444444444,
              "#bd3786"
             ],
             [
              0.5555555555555556,
              "#d8576b"
             ],
             [
              0.6666666666666666,
              "#ed7953"
             ],
             [
              0.7777777777777778,
              "#fb9f3a"
             ],
             [
              0.8888888888888888,
              "#fdca26"
             ],
             [
              1,
              "#f0f921"
             ]
            ],
            "type": "histogram2dcontour"
           }
          ],
          "mesh3d": [
           {
            "colorbar": {
             "outlinewidth": 0,
             "ticks": ""
            },
            "type": "mesh3d"
           }
          ],
          "parcoords": [
           {
            "line": {
             "colorbar": {
              "outlinewidth": 0,
              "ticks": ""
             }
            },
            "type": "parcoords"
           }
          ],
          "pie": [
           {
            "automargin": true,
            "type": "pie"
           }
          ],
          "scatter": [
           {
            "marker": {
             "colorbar": {
              "outlinewidth": 0,
              "ticks": ""
             }
            },
            "type": "scatter"
           }
          ],
          "scatter3d": [
           {
            "line": {
             "colorbar": {
              "outlinewidth": 0,
              "ticks": ""
             }
            },
            "marker": {
             "colorbar": {
              "outlinewidth": 0,
              "ticks": ""
             }
            },
            "type": "scatter3d"
           }
          ],
          "scattercarpet": [
           {
            "marker": {
             "colorbar": {
              "outlinewidth": 0,
              "ticks": ""
             }
            },
            "type": "scattercarpet"
           }
          ],
          "scattergeo": [
           {
            "marker": {
             "colorbar": {
              "outlinewidth": 0,
              "ticks": ""
             }
            },
            "type": "scattergeo"
           }
          ],
          "scattergl": [
           {
            "marker": {
             "colorbar": {
              "outlinewidth": 0,
              "ticks": ""
             }
            },
            "type": "scattergl"
           }
          ],
          "scattermapbox": [
           {
            "marker": {
             "colorbar": {
              "outlinewidth": 0,
              "ticks": ""
             }
            },
            "type": "scattermapbox"
           }
          ],
          "scatterpolar": [
           {
            "marker": {
             "colorbar": {
              "outlinewidth": 0,
              "ticks": ""
             }
            },
            "type": "scatterpolar"
           }
          ],
          "scatterpolargl": [
           {
            "marker": {
             "colorbar": {
              "outlinewidth": 0,
              "ticks": ""
             }
            },
            "type": "scatterpolargl"
           }
          ],
          "scatterternary": [
           {
            "marker": {
             "colorbar": {
              "outlinewidth": 0,
              "ticks": ""
             }
            },
            "type": "scatterternary"
           }
          ],
          "surface": [
           {
            "colorbar": {
             "outlinewidth": 0,
             "ticks": ""
            },
            "colorscale": [
             [
              0,
              "#0d0887"
             ],
             [
              0.1111111111111111,
              "#46039f"
             ],
             [
              0.2222222222222222,
              "#7201a8"
             ],
             [
              0.3333333333333333,
              "#9c179e"
             ],
             [
              0.4444444444444444,
              "#bd3786"
             ],
             [
              0.5555555555555556,
              "#d8576b"
             ],
             [
              0.6666666666666666,
              "#ed7953"
             ],
             [
              0.7777777777777778,
              "#fb9f3a"
             ],
             [
              0.8888888888888888,
              "#fdca26"
             ],
             [
              1,
              "#f0f921"
             ]
            ],
            "type": "surface"
           }
          ],
          "table": [
           {
            "cells": {
             "fill": {
              "color": "#EBF0F8"
             },
             "line": {
              "color": "white"
             }
            },
            "header": {
             "fill": {
              "color": "#C8D4E3"
             },
             "line": {
              "color": "white"
             }
            },
            "type": "table"
           }
          ]
         },
         "layout": {
          "annotationdefaults": {
           "arrowcolor": "#2a3f5f",
           "arrowhead": 0,
           "arrowwidth": 1
          },
          "coloraxis": {
           "colorbar": {
            "outlinewidth": 0,
            "ticks": ""
           }
          },
          "colorscale": {
           "diverging": [
            [
             0,
             "#8e0152"
            ],
            [
             0.1,
             "#c51b7d"
            ],
            [
             0.2,
             "#de77ae"
            ],
            [
             0.3,
             "#f1b6da"
            ],
            [
             0.4,
             "#fde0ef"
            ],
            [
             0.5,
             "#f7f7f7"
            ],
            [
             0.6,
             "#e6f5d0"
            ],
            [
             0.7,
             "#b8e186"
            ],
            [
             0.8,
             "#7fbc41"
            ],
            [
             0.9,
             "#4d9221"
            ],
            [
             1,
             "#276419"
            ]
           ],
           "sequential": [
            [
             0,
             "#0d0887"
            ],
            [
             0.1111111111111111,
             "#46039f"
            ],
            [
             0.2222222222222222,
             "#7201a8"
            ],
            [
             0.3333333333333333,
             "#9c179e"
            ],
            [
             0.4444444444444444,
             "#bd3786"
            ],
            [
             0.5555555555555556,
             "#d8576b"
            ],
            [
             0.6666666666666666,
             "#ed7953"
            ],
            [
             0.7777777777777778,
             "#fb9f3a"
            ],
            [
             0.8888888888888888,
             "#fdca26"
            ],
            [
             1,
             "#f0f921"
            ]
           ],
           "sequentialminus": [
            [
             0,
             "#0d0887"
            ],
            [
             0.1111111111111111,
             "#46039f"
            ],
            [
             0.2222222222222222,
             "#7201a8"
            ],
            [
             0.3333333333333333,
             "#9c179e"
            ],
            [
             0.4444444444444444,
             "#bd3786"
            ],
            [
             0.5555555555555556,
             "#d8576b"
            ],
            [
             0.6666666666666666,
             "#ed7953"
            ],
            [
             0.7777777777777778,
             "#fb9f3a"
            ],
            [
             0.8888888888888888,
             "#fdca26"
            ],
            [
             1,
             "#f0f921"
            ]
           ]
          },
          "colorway": [
           "#636efa",
           "#EF553B",
           "#00cc96",
           "#ab63fa",
           "#FFA15A",
           "#19d3f3",
           "#FF6692",
           "#B6E880",
           "#FF97FF",
           "#FECB52"
          ],
          "font": {
           "color": "#2a3f5f"
          },
          "geo": {
           "bgcolor": "white",
           "lakecolor": "white",
           "landcolor": "#E5ECF6",
           "showlakes": true,
           "showland": true,
           "subunitcolor": "white"
          },
          "hoverlabel": {
           "align": "left"
          },
          "hovermode": "closest",
          "mapbox": {
           "style": "light"
          },
          "paper_bgcolor": "white",
          "plot_bgcolor": "#E5ECF6",
          "polar": {
           "angularaxis": {
            "gridcolor": "white",
            "linecolor": "white",
            "ticks": ""
           },
           "bgcolor": "#E5ECF6",
           "radialaxis": {
            "gridcolor": "white",
            "linecolor": "white",
            "ticks": ""
           }
          },
          "scene": {
           "xaxis": {
            "backgroundcolor": "#E5ECF6",
            "gridcolor": "white",
            "gridwidth": 2,
            "linecolor": "white",
            "showbackground": true,
            "ticks": "",
            "zerolinecolor": "white"
           },
           "yaxis": {
            "backgroundcolor": "#E5ECF6",
            "gridcolor": "white",
            "gridwidth": 2,
            "linecolor": "white",
            "showbackground": true,
            "ticks": "",
            "zerolinecolor": "white"
           },
           "zaxis": {
            "backgroundcolor": "#E5ECF6",
            "gridcolor": "white",
            "gridwidth": 2,
            "linecolor": "white",
            "showbackground": true,
            "ticks": "",
            "zerolinecolor": "white"
           }
          },
          "shapedefaults": {
           "line": {
            "color": "#2a3f5f"
           }
          },
          "ternary": {
           "aaxis": {
            "gridcolor": "white",
            "linecolor": "white",
            "ticks": ""
           },
           "baxis": {
            "gridcolor": "white",
            "linecolor": "white",
            "ticks": ""
           },
           "bgcolor": "#E5ECF6",
           "caxis": {
            "gridcolor": "white",
            "linecolor": "white",
            "ticks": ""
           }
          },
          "title": {
           "x": 0.05
          },
          "xaxis": {
           "automargin": true,
           "gridcolor": "white",
           "linecolor": "white",
           "ticks": "",
           "title": {
            "standoff": 15
           },
           "zerolinecolor": "white",
           "zerolinewidth": 2
          },
          "yaxis": {
           "automargin": true,
           "gridcolor": "white",
           "linecolor": "white",
           "ticks": "",
           "title": {
            "standoff": 15
           },
           "zerolinecolor": "white",
           "zerolinewidth": 2
          }
         }
        },
        "title": {
         "text": "3d TSNE Plot for Topic Model"
        },
        "width": 900
       }
      },
      "text/html": [
       "<div>\n",
       "        \n",
       "        \n",
       "            <div id=\"59d57ec3-0d6f-4b50-9629-1da1ceabd56e\" class=\"plotly-graph-div\" style=\"height:800px; width:900px;\"></div>\n",
       "            <script type=\"text/javascript\">\n",
       "                require([\"plotly\"], function(Plotly) {\n",
       "                    window.PLOTLYENV=window.PLOTLYENV || {};\n",
       "                    \n",
       "                if (document.getElementById(\"59d57ec3-0d6f-4b50-9629-1da1ceabd56e\")) {\n",
       "                    Plotly.newPlot(\n",
       "                        '59d57ec3-0d6f-4b50-9629-1da1ceabd56e',\n",
       "                        [{\"hoverlabel\": {\"namelength\": 0}, \"hovertemplate\": \"Dominant_Topic=Topic 0<br>0=%{x}<br>1=%{y}<br>2=%{z}\", \"legendgroup\": \"Dominant_Topic=Topic 0\", \"marker\": {\"color\": \"#636efa\", \"opacity\": 0.7, \"symbol\": \"circle\"}, \"mode\": \"markers\", \"name\": \"Dominant_Topic=Topic 0\", \"scene\": \"scene\", \"showlegend\": true, \"type\": \"scatter3d\", \"x\": [11.531847953796387, 15.068507194519043, 11.912078857421875, 11.112519264221191, 10.042877197265625, 7.818315029144287, 13.305817604064941, 14.60688304901123, 7.560601711273193, 10.23253345489502, 7.0051445960998535, 11.39444351196289, 8.443708419799805, 9.059886932373047, 9.375234603881836, 11.105198860168457, 15.037480354309082, 5.472512245178223, 6.497344493865967, 4.958730220794678, 10.508007049560547, 14.604168891906738, 15.134623527526855, 5.030663013458252, 13.542328834533691, 13.18542766571045, 12.738702774047852, 4.793269634246826, 11.859829902648926, 3.6131908893585205, 12.836223602294922, 10.835357666015625, 9.3466796875, 2.797593355178833, 12.603099822998047, 9.201177597045898, 3.3178818225860596, 11.134796142578125, 10.167235374450684, 12.865394592285156, 11.865120887756348, 3.99408221244812, 6.016854286193848, 10.996770858764648, 13.795610427856445, 5.011973857879639, 9.016427040100098, 1.4086925983428955, 3.379094123840332, 11.048724174499512, 12.593798637390137, 13.820843696594238, 8.748296737670898, 13.43479061126709, 6.361194610595703, 14.069527626037598, 12.366947174072266, 8.558985710144043, 15.144640922546387, 7.853326320648193, 12.961231231689453, 15.918539047241211, 5.06104040145874, 6.358774662017822, 9.738422393798828, 6.347071647644043, 3.572159767150879, 11.780489921569824, 2.6309010982513428, 14.052008628845215, 10.723153114318848, 11.118358612060547, 11.378658294677734, 8.384446144104004, 11.119295120239258, 8.734959602355957, 7.398254871368408, 11.844306945800781, 15.842947006225586, 15.1452054977417, 15.56734561920166, 13.318105697631836, 5.5125861167907715, 10.672093391418457, 6.866118431091309, 10.489164352416992, 5.826243877410889, 8.342105865478516, 7.157680034637451, 10.606297492980957, 15.864714622497559, 15.320274353027344, 15.18509578704834, 10.875082969665527, 14.245248794555664, 12.377394676208496, -1.4006147384643555, 8.880005836486816, 2.9804413318634033, 10.009227752685547, 8.140177726745605, 6.156125068664551, 6.390029430389404, 10.91723346710205, 15.77295970916748, 12.248591423034668, 11.583934783935547, 11.279311180114746, 13.907694816589355, 10.631232261657715, 11.30124282836914, 6.702589988708496, 15.913552284240723, 3.7155704498291016, 9.082491874694824, 6.50567626953125, 10.05313777923584, 12.279007911682129, 11.374808311462402, 3.0726754665374756, 2.2380805015563965, 13.07419204711914, 15.133293151855469, 12.616286277770996, 6.453952789306641, 15.222476959228516, 15.564485549926758, 14.599337577819824, 5.016981601715088, 3.0907280445098877, 7.1335649490356445, 6.462722301483154, 15.921743392944336, 12.953706741333008, 13.932710647583008, 12.290297508239746, 10.594456672668457, 5.408527374267578, 5.760393142700195, 14.929325103759766, 6.6751203536987305, 5.669658660888672, 5.602505207061768, 12.272452354431152, 11.749003410339355, 15.004252433776855, 15.918476104736328, 12.137322425842285, 12.261184692382812, 7.397182941436768, 11.789420127868652, 4.577361106872559, 12.306953430175781, 15.661770820617676, 15.655574798583984, 8.10761547088623, 2.560797929763794, 14.04651927947998, 3.16605806350708, 7.119462966918945, 11.274079322814941, 15.42704963684082, 9.546228408813477, 7.999740123748779, 2.7051842212677, 14.452625274658203, 12.215567588806152, 3.40917706489563, 8.659686088562012, 6.69616174697876, 14.309962272644043, 6.257029056549072, 11.15176010131836, 4.192368030548096, 3.525784969329834, 3.061279296875, 2.463608741760254, 12.25195598602295, 12.025282859802246, 13.305318832397461, 14.90219497680664, 15.103413581848145, 11.106626510620117, 13.666814804077148, 4.588054180145264, 7.862307548522949, 6.497379302978516, 9.963001251220703, 14.600309371948242, 7.197085857391357, 5.934593200683594, 7.084109306335449, 11.422178268432617, 3.073018789291382, 11.117292404174805, 11.24994945526123, 14.070016860961914, 3.1902995109558105, 6.500241756439209, 8.092864036560059, 6.624497413635254, 12.348557472229004, 6.7587385177612305, 8.030717849731445, 10.539878845214844, 15.53592586517334, 15.521123886108398, 10.458459854125977, 15.862013816833496, 5.4293212890625, 5.112768650054932, 11.344279289245605, 4.978140830993652, 13.4403076171875, 6.335390567779541, 4.88328218460083, 14.912521362304688, 12.15578556060791, 11.615567207336426, 11.671038627624512, 8.450997352600098, 13.071687698364258, 11.374671936035156, 10.256104469299316, 9.239980697631836, 2.5320844650268555, 15.642324447631836, 14.049921989440918, 10.083351135253906, 11.202037811279297, 13.431782722473145, 10.484272003173828, 3.1166622638702393, 7.882793426513672, 8.832469940185547, 12.478996276855469, 12.325577735900879, 14.898845672607422, 3.892075777053833, 12.155533790588379, 4.509699821472168, 1.4675465822219849, 14.311469078063965, 8.272576332092285, 7.23618745803833, 10.291028022766113, 6.215862274169922, 4.445594787597656, 5.2960205078125, 10.955430030822754, 10.985182762145996, 12.833431243896484, 10.694637298583984, 15.918791770935059, 15.444378852844238, 11.32064437866211, 6.423776149749756, 9.87108039855957, 8.117558479309082, 7.592957496643066, 11.435681343078613, 6.68161153793335, 7.552094459533691, 3.5522494316101074, 5.254065036773682, 11.420666694641113, 12.543617248535156, 11.67396354675293, 11.632113456726074, 2.8176350593566895, 12.869484901428223, 12.025863647460938, 9.675707817077637, 12.725024223327637, 13.311108589172363, 11.473048210144043, 12.275694847106934], \"y\": [8.946746826171875, 5.473373889923096, 8.895722389221191, 3.452895402908325, 4.776148796081543, 4.375450611114502, 7.722232341766357, 6.884210109710693, 4.216914176940918, -0.35673534870147705, -2.4708385467529297, 9.65601921081543, -1.4323855638504028, -1.1826566457748413, -0.9979272484779358, 9.564407348632812, 6.476795196533203, 0.017440402880311012, -1.7656562328338623, -2.797088861465454, -0.03776266425848007, 6.88663911819458, 5.5042924880981445, -1.7664885520935059, 7.54293966293335, 7.809816360473633, 8.222628593444824, -2.9644970893859863, 8.954534530639648, -3.5119001865386963, 8.109484672546387, 4.328217506408691, 4.7834906578063965, 2.1642417907714844, 8.300634384155273, 4.770866394042969, -4.175792694091797, 9.59524154663086, -0.4080064594745636, 8.074899673461914, 2.1117048263549805, -4.063226699829102, 2.4789657592773438, 2.684601306915283, 7.3705878257751465, -2.7369697093963623, 4.758242130279541, 3.1243503093719482, 1.8355201482772827, 0.8124555945396423, 8.316018104553223, 7.35370397567749, 4.7137274742126465, 7.624483585357666, 3.0041253566741943, 7.196267604827881, 8.619441032409668, -1.404492974281311, 6.695904731750488, 4.394813060760498, 8.000114440917969, 6.122035503387451, -2.7064414024353027, -1.8383475542068481, -0.2318236082792282, -1.362438440322876, 1.7524577379226685, 9.648694038391113, 2.273158311843872, 7.207970142364502, 4.307754039764404, 9.581762313842773, 9.234076499938965, -1.4544579982757568, 9.579566955566406, -1.3456956148147583, 4.101767539978027, 8.975192070007324, 6.303808689117432, 6.826138496398926, 6.564598083496094, 7.712615489959717, 1.9290581941604614, 1.5148602724075317, -2.3551199436187744, 1.680472731590271, 0.9395203590393066, 4.597625732421875, -2.225785732269287, 0.09434736520051956, 6.285642623901367, 5.591774940490723, 6.498425483703613, 0.45778366923332214, 7.092069149017334, 8.389907836914062, 2.2869341373443604, -1.2866261005401611, -4.700367450714111, -0.5521714687347412, 4.528722286224365, 2.6839776039123535, -1.7989652156829834, 0.5205214023590088, 5.854494571685791, 8.667168617248535, 1.5764132738113403, 9.283609390258789, 7.296992301940918, 0.1702493578195572, 9.647075653076172, 3.47469162940979, 5.994630336761475, -4.534928798675537, -1.175545334815979, 3.2178618907928467, 4.773642063140869, 8.596964836120605, 9.654409408569336, -5.914249897003174, 2.5390326976776123, 7.901416778564453, 5.50349235534668, 8.306110382080078, 3.1421313285827637, 6.695735931396484, 6.558815002441406, 6.88878059387207, -2.734713554382324, -5.863405227661133, -2.257697820663452, 3.1595396995544434, 6.131308555603027, 8.006158828735352, 7.28108024597168, 3.1503326892852783, 0.011650634929537773, -0.32521307468414307, 1.1552704572677612, 6.650175094604492, -1.710200548171997, 0.028003742918372154, -2.3180909156799316, 8.58057689666748, 9.174752235412598, 6.78594970703125, 6.121905326843262, 2.7389984130859375, 8.469966888427734, 4.099399089813232, 8.994430541992188, 0.0406416691839695, 3.232839345932007, 6.56258487701416, 6.229873180389404, 4.516743183135986, -4.397334098815918, 7.211048603057861, 1.9472010135650635, -2.1795570850372314, 9.293988227844238, 6.482163429260254, 4.802706718444824, -1.5237449407577515, -4.238705635070801, 6.9760332107543945, 2.964672803878784, -5.121366024017334, -1.3725770711898804, 3.7284367084503174, 7.056766986846924, -2.2249386310577393, 0.8687590956687927, 1.487501621246338, 1.7665414810180664, 1.9983668327331543, -4.871480941772461, 8.65989875793457, 2.4583678245544434, 7.722141742706299, 6.73382568359375, 6.402192115783691, 9.563679695129395, 7.457303047180176, -2.6137125492095947, -1.5460988283157349, -1.788940191268921, 4.792687892913818, 6.889342308044434, -2.23146915435791, 2.326666831970215, 3.835771083831787, 9.208291053771973, -5.913442134857178, 9.575506210327148, 1.094536542892456, 7.196269512176514, -5.617800235748291, -1.6176725625991821, 4.512218475341797, -2.302845001220703, 3.317171812057495, 3.530594825744629, -1.5202199220657349, 0.0030986028723418713, 5.701706886291504, 6.602838039398193, 4.741713523864746, 5.9280781745910645, -2.4134151935577393, -0.8036719560623169, 1.1716411113739014, 1.7872507572174072, 7.6208577156066895, 2.964019536972046, 1.7584819793701172, 6.727595806121826, 8.697056770324707, 9.236416816711426, 1.797905445098877, -1.4367433786392212, 7.903987407684326, 1.2161718606948853, 4.770264625549316, -1.0628175735473633, 2.3332180976867676, 6.216775894165039, 7.209144115447998, -0.4719158113002777, 9.364358901977539, 7.624622821807861, -0.05009074509143829, 1.974236249923706, -1.5389316082000732, 4.725354194641113, 8.534455299377441, 3.2855796813964844, 6.737534523010254, 1.672999620437622, 2.7516181468963623, -2.745615243911743, 3.090822696685791, 7.055126667022705, 4.572000503540039, -2.1779367923736572, -0.29722076654434204, -1.192862629890442, -2.9844279289245605, 1.8826292753219604, 2.5339982509613037, -0.6867513656616211, 8.1033353805542, 0.15671147406101227, 6.112143516540527, 6.23129940032959, 9.257272720336914, 3.0999743938446045, -0.6660745143890381, 4.516504764556885, 4.249370574951172, 9.657625198364258, 3.4448611736297607, -3.0630581378936768, -4.839765548706055, -0.8606905341148376, 9.20747184753418, 8.416803359985352, 8.880940437316895, 9.057564735412598, -5.539771556854248, 8.070931434631348, 2.472470283508301, 4.793115139007568, 8.232973098754883, 7.7176079750061035, 1.4108864068984985, 8.654430389404297], \"z\": [-9.698921203613281, 1.5815455913543701, -9.109580993652344, -0.10090398788452148, -0.18983840942382812, -0.36263400316238403, -5.587565898895264, -2.339223623275757, -0.33544453978538513, 2.974250316619873, -2.3471295833587646, -11.896158218383789, 2.8762457370758057, 2.997758150100708, 3.014056921005249, -11.354815483093262, -1.3038700819015503, 1.3736766576766968, 2.1604325771331787, 1.7663242816925049, 2.865947723388672, -2.346628189086914, 1.5387355089187622, 1.6430292129516602, -4.950254917144775, -5.906604766845703, -7.16284704208374, 1.7319717407226562, -9.51831340789795, 1.7361581325531006, -6.873655796051025, 0.11721063405275345, -0.28929781913757324, 1.9306412935256958, -7.478909015655518, -0.30509597063064575, 1.6699458360671997, -11.46756362915039, 3.0266478061676025, -6.775171279907227, 2.061657667160034, 1.5363065004348755, 0.3464466333389282, -0.3818185031414032, -4.303122520446777, 1.7755236625671387, -0.32842522859573364, 2.5181705951690674, 1.7023584842681885, 2.6859078407287598, -7.509568691253662, -4.2407307624816895, -0.3509180545806885, -5.2423858642578125, 0.07284995913505554, -3.619701385498047, -8.023758888244629, 2.9089953899383545, -0.8843753933906555, -0.36564821004867554, -6.510150909423828, 0.4290063977241516, 1.786792278289795, 2.120154857635498, 3.74139666557312, 2.0162618160247803, 1.6250932216644287, -12.191608428955078, 2.001220703125, -3.6629302501678467, 0.08793102949857712, -11.419364929199219, -10.087050437927246, 2.8587167263031006, -11.425262451171875, 2.937507390975952, -0.31327858567237854, -9.593027114868164, -0.111084945499897, -1.2383638620376587, -0.28461652994155884, -5.55542516708374, 0.7114952206611633, 2.6073553562164307, -2.218353271484375, 2.591782569885254, 0.9840691685676575, -0.36421144008636475, -1.682515025138855, 2.984717845916748, 0.19064974784851074, 1.407811164855957, -1.3458151817321777, 2.7961390018463135, -3.1881492137908936, -8.123801231384277, 2.293471097946167, 2.9653844833374023, 1.6255472898483276, 3.004756212234497, -0.36718836426734924, 0.2320278286933899, 2.1247165203094482, 2.7769505977630615, 0.9826163053512573, -8.397894859313965, 2.332115411758423, -10.353875160217285, -4.01706600189209, 2.9474658966064453, -11.794573783874512, -0.13215936720371246, 0.6768383979797363, 1.4483708143234253, 2.9948935508728027, -0.0280374214053154, -0.18671058118343353, -8.410639762878418, -11.875483512878418, 1.1864957809448242, 2.16595196723938, -6.209468364715576, 1.5396288633346558, -7.463809013366699, 0.007547938730567694, -1.3845099210739136, -0.2846514880657196, -2.3533926010131836, 1.7768040895462036, 1.197312593460083, -1.8267782926559448, -0.007271125912666321, 0.40756964683532715, -6.528867244720459, -3.951870918273926, 1.4704968929290771, 2.9716598987579346, 1.4754880666732788, 0.9152668714523315, -1.2017468214035034, 2.2220592498779297, 1.3665187358856201, 1.9219342470169067, -8.409372329711914, -9.480576515197754, -1.1820666790008545, 0.4297989010810852, 1.712770938873291, -8.033395767211914, -0.30777063965797424, -9.273579597473145, 1.5317399501800537, 1.4161487817764282, -0.32589536905288696, -0.4548724293708801, -0.3668644428253174, 1.8692570924758911, -3.674774646759033, 1.7852096557617188, -1.4340273141860962, -10.35371208190918, -1.040468692779541, -0.2681216895580292, 2.730379343032837, 1.857922911643982, -2.7025909423828125, 1.5776244401931763, 1.3422939777374268, 2.936568260192871, -0.5608343482017517, -3.035233736038208, -2.326080322265625, 2.6472907066345215, 1.3943250179290771, 1.6447035074234009, 1.8272993564605713, 1.7681032419204712, -8.40532398223877, 1.8746681213378906, -5.588510513305664, -1.6721093654632568, -0.8971539735794067, -11.361948013305664, -4.638432502746582, 1.6579755544662476, 2.68051815032959, 2.1657426357269287, -0.20683160424232483, -2.3506927490234375, -1.7375383377075195, 0.42259159684181213, -0.23377496004104614, -9.976433753967285, 1.186643362045288, -11.410396575927734, 2.5597963333129883, -3.6218795776367188, 1.2452198266983032, 2.1325643062591553, -0.3660351037979126, -2.2868242263793945, 1.3692256212234497, -0.14440451562404633, 2.742102861404419, 3.0192127227783203, 1.239126205444336, -0.6799355745315552, -0.11572278290987015, 0.8277447819709778, 1.8738014698028564, 1.5437160730361938, 2.5184950828552246, 0.9624421000480652, -5.22673225402832, 0.09107305109500885, 1.0110011100769043, -1.6366333961486816, -8.69235897064209, -9.656150817871094, 2.198777437210083, 2.8780791759490967, -6.217031002044678, 2.497791290283203, -0.15721939504146576, 3.023940086364746, 2.040640354156494, -0.44652384519577026, -3.6671202182769775, 3.047736644744873, -10.543590545654297, -5.252023220062256, 2.8326478004455566, 1.804679274559021, 2.6873843669891357, -0.34279024600982666, -8.143767356872559, 1.3850505352020264, -1.6774027347564697, 1.4885919094085693, 1.7112053632736206, 1.6634857654571533, 2.4971566200256348, -3.030571699142456, -0.3652208149433136, -1.6159515380859375, 3.0415167808532715, 1.9282548427581787, 1.6770527362823486, 0.8060696721076965, -0.42936384677886963, 2.681704044342041, -6.856959819793701, 2.890883684158325, 0.47137337923049927, -0.3555273413658142, -10.226120948791504, 0.026676086708903313, 3.0176663398742676, -0.3700597286224365, -0.3363140821456909, -11.935503005981445, -0.1119421198964119, -3.0851142406463623, 1.3936899900436401, 1.5708152055740356, -9.979523658752441, -7.779031753540039, -9.474586486816406, -9.403912544250488, 1.408220887184143, -6.762368679046631, 1.8651684522628784, -0.2465103715658188, -7.203360557556152, -5.573983192443848, 2.414172649383545, -8.421356201171875]}, {\"hoverlabel\": {\"namelength\": 0}, \"hovertemplate\": \"Dominant_Topic=Topic 1<br>0=%{x}<br>1=%{y}<br>2=%{z}\", \"legendgroup\": \"Dominant_Topic=Topic 1\", \"marker\": {\"color\": \"#EF553B\", \"opacity\": 0.7, \"symbol\": \"circle\"}, \"mode\": \"markers\", \"name\": \"Dominant_Topic=Topic 1\", \"scene\": \"scene\", \"showlegend\": true, \"type\": \"scatter3d\", \"x\": [-0.8649324774742126, -3.928846597671509, -5.171008110046387, -3.0056142807006836, -3.2525837421417236, 0.3897964060306549, -2.328787326812744, -4.692837238311768, -0.44147446751594543, -5.248843669891357, -1.1642537117004395, -5.323063373565674, -3.8749563694000244, -4.255126953125, -1.9011682271957397, -3.651465892791748, -3.485732078552246, -1.93996262550354, 1.202278971672058, 1.1588630676269531, -3.034259080886841, -0.3132947087287903, -1.0116593837738037, -4.121346950531006, -3.270993232727051, 0.4792412221431732, 0.7565568089485168, -5.322198390960693, -2.120694875717163, -1.3802002668380737, -5.033029079437256, -3.6050148010253906, -4.409844875335693, 2.5154900550842285, -2.69854474067688, -1.0872377157211304, 0.6745222210884094, 2.730172872543335, -5.299217224121094, -1.1121386289596558, -1.1161054372787476, -1.2686762809753418, -1.4053624868392944, 1.8569130897521973, -2.3056693077087402, -1.7353122234344482, -3.3201820850372314, -1.9840337038040161, -3.127258062362671, -5.328124046325684, -2.919962167739868, -3.945321559906006, 0.9979402422904968, -3.2228057384490967, -3.922900676727295, -3.446091651916504, 1.4838135242462158, -4.465685844421387, -0.175698921084404, -1.7679165601730347, -2.4713497161865234, 1.628361701965332, 2.714177370071411, -5.002326488494873, 2.5601773262023926, -1.555785059928894, -4.899416446685791, -1.176472783088684, -3.9491190910339355, -0.3092004656791687, -3.174443483352661, -0.9835814833641052, -2.6681525707244873, -2.8042757511138916, -3.39835786819458, -3.079806327819824, -2.9518468379974365, -4.074481964111328, -4.2631449699401855, -3.746812582015991, -1.5837879180908203, -4.3738250732421875, -5.3212571144104, -3.937629461288452, -3.597297430038452, -1.1265414953231812, -5.134860038757324, -2.8617091178894043, -3.855616807937622, -2.6954262256622314, -0.9966307878494263, 1.074741244316101, 0.3678509593009949, -5.32390022277832, -4.813060760498047, -5.271389961242676, 0.5084031224250793, -0.5414137840270996, -2.021409749984741, -5.116843223571777, -5.325796127319336, -4.800459861755371, -4.0942769050598145, 0.8585681915283203, -5.104386329650879, -1.4162904024124146, -4.883421897888184, -1.0386964082717896, -4.012819766998291, -3.1655211448669434, -1.8533799648284912, -1.5556451082229614, -4.317028522491455, 0.802171528339386, 1.0565282106399536, -2.655561685562134, -3.6618707180023193, -1.896012306213379, -3.748500108718872, -1.4007961750030518, -5.056397438049316, 1.1863892078399658, -1.4353575706481934, -2.649164915084839, -3.125659704208374, -0.8102999329566956, -1.7876814603805542, -3.1092638969421387, -3.66215443611145, -2.646385431289673, 2.775987148284912, -2.307188034057617, 0.1611107736825943, 2.091796875, -5.187943458557129, 1.5697773694992065, 0.9702883958816528, -1.5350544452667236, -4.3213114738464355, -0.9434016346931458, -2.5989882946014404, -3.1904335021972656, -4.008361339569092, -4.0417799949646, -2.6483123302459717, -1.7759050130844116, -2.913752555847168, -3.1012766361236572, -4.612353801727295, 1.05013108253479, -4.1594767570495605, -3.203622341156006, -3.8065805435180664, -2.116380453109741, -3.6415529251098633, -4.4371185302734375, -5.324057579040527, -3.007004737854004, 1.5314531326293945, -3.072235345840454, 0.017699966207146645, -2.8275973796844482, -1.5392968654632568, -4.4061126708984375, -1.1230475902557373, -1.0987732410430908, -1.9890236854553223, -4.352688312530518, -4.404845714569092, -2.452507972717285, -4.6069440841674805, 0.8882970809936523, 0.021303096786141396, 0.4415857493877411, -2.8462140560150146, -4.637364864349365, -3.58799147605896, -3.1582961082458496, 1.1895251274108887, -2.0004348754882812, -5.235522270202637, -5.267823219299316, 1.3039852380752563, -4.545333385467529, -3.2553484439849854, -1.8545557260513306, -4.820559978485107, -5.049502849578857, -0.9934648275375366, -5.111604690551758, -5.288494110107422, -1.8617641925811768, 1.9302412271499634, -1.6752485036849976, -3.200551748275757, -4.937661647796631, -1.5475568771362305, -1.8300062417984009, -4.748751163482666, -3.4112439155578613, -1.1692485809326172, -5.118753910064697, -5.336441516876221, -1.2223761081695557, 1.2262297868728638, -3.8999745845794678, -1.7544198036193848, 3.0320627689361572, 1.094684362411499, 0.847048819065094, -4.751976490020752, -4.132542610168457, -1.4165743589401245, -5.28695821762085, -4.514280796051025, -4.518967628479004, -2.5324296951293945, -3.5583643913269043, 1.4586687088012695, -4.7818922996521, -1.0362986326217651, -2.33693265914917, 0.8547043800354004, -1.0633856058120728, 2.580566883087158, -3.157780408859253, -4.3929972648620605, -0.5663798451423645, -2.8075950145721436, -3.9459164142608643, -4.93717622756958, -1.493309736251831, -1.5372177362442017, -5.320541858673096, -3.022982120513916, -3.2661731243133545, 2.721989154815674, -4.977749824523926, -1.4171886444091797, -5.240890979766846, -5.038832187652588, -5.1085309982299805, -1.7692183256149292, -3.3423807621002197, -1.2950531244277954, -4.98043155670166, -1.4125112295150757, -2.2411978244781494, -2.361137866973877, -1.0413532257080078, -2.9040257930755615, 1.8744922876358032, -2.433635950088501, -4.530486106872559, -3.1793627738952637], \"y\": [-11.254207611083984, -6.879599571228027, -10.427989959716797, -7.717710018157959, -4.457378387451172, -10.221667289733887, -11.948938369750977, -6.600799083709717, -10.91983699798584, -9.981720924377441, -2.47680926322937, -9.275154113769531, -5.418126106262207, -5.948217391967773, -6.223783493041992, -5.158280849456787, -7.023050308227539, -5.176657199859619, -5.639822006225586, -9.253058433532715, -3.669978618621826, -5.591457843780518, -7.017624855041504, -12.033535957336426, -4.486818313598633, -7.185675144195557, -7.1320109367370605, -8.78327751159668, -11.881816864013672, -10.11820125579834, -10.91012191772461, -12.221735954284668, -6.776570796966553, -6.134383201599121, -8.592083930969238, -9.454059600830078, -9.918269157409668, -6.635563373565674, -9.523347854614258, -3.1160922050476074, -11.416401863098145, -3.162180185317993, -2.628365993499756, -8.027480125427246, -1.0608139038085938, -2.5928990840911865, -12.290085792541504, -6.373434543609619, -4.06965970993042, -9.341615676879883, -12.24930477142334, -6.683585166931152, -7.331873416900635, -12.274118423461914, -5.477054119110107, -12.25832462310791, -8.674758911132812, -6.701436519622803, -10.791608810424805, -11.724655151367188, -12.081705093383789, -8.393195152282715, -6.697998046875, -10.936779975891113, -6.974731922149658, -2.9474802017211914, -11.206323623657227, -6.980594635009766, -5.6116766929626465, -10.901049613952637, -7.49667501449585, -11.337158203125, -12.120376586914062, -8.852865219116211, -7.920739650726318, -7.105503082275391, -12.207337379455566, -5.672867774963379, -11.935067176818848, -12.192610740661621, -1.835831880569458, -6.037604808807373, -8.839629173278809, -5.493431568145752, -5.328836441040039, -2.3386363983154297, -10.571646690368652, -6.992494106292725, -12.165705680847168, -1.2397699356079102, -2.6261794567108154, -5.40236234664917, -10.242880821228027, -7.404300689697266, -6.847121238708496, -9.754181861877441, -10.153485298156738, -11.04961109161377, -10.149325370788574, -7.736320972442627, -8.930378913879395, -6.819761276245117, -6.271009922027588, -9.705567359924316, -10.791814804077148, -11.554704666137695, -7.012970447540283, -6.9576849937438965, -12.090288162231445, -4.694620609283447, -4.884672164916992, -2.8706047534942627, -6.029272079467773, -9.787412643432617, -7.179821014404297, -6.431005001068115, -5.793159484863281, -10.190657615661621, -7.972057342529297, -2.0219528675079346, -7.530116081237793, -9.181382179260254, -11.607922554016113, -1.2534959316253662, -3.7679154872894287, -9.527812004089355, -1.6314860582351685, -9.245107650756836, -12.216082572937012, -12.098613739013672, -6.564197063446045, -1.1806132793426514, -10.505281448364258, -7.6635589599609375, -10.296393394470215, -8.517955780029297, -7.504326820373535, -6.245109558105469, -6.522110939025879, -3.184175968170166, -1.1680335998535156, -4.308868885040283, -5.5846333503723145, -5.519280910491943, -1.3195459842681885, -2.3298521041870117, -12.195319175720215, -4.296152114868164, -11.603297233581543, -9.459218978881836, -12.014086723327637, -7.411724090576172, -5.5294952392578125, -1.2629501819610596, -12.232698440551758, -6.948580265045166, -8.799540519714355, -3.645326614379883, -5.510319232940674, -7.113230228424072, -10.582086563110352, -1.0081487894058228, -2.114135265350342, -6.272658824920654, -3.7432565689086914, -3.6595911979675293, -10.333041191101074, -6.057438850402832, -6.703948020935059, -1.1089115142822266, -6.465356349945068, -8.005691528320312, -10.588946342468262, -10.199256896972656, -12.210013389587402, -11.574589729309082, -5.095650672912598, -3.8056728839874268, -9.196167945861816, -11.855574607849121, -8.232084274291992, -9.816181182861328, -5.536499977111816, -6.364042282104492, -5.437306880950928, -6.579440593719482, -11.334648132324219, -10.855813026428223, -3.1309409141540527, -10.67321491241455, -9.733832359313965, -4.950159072875977, -7.923197269439697, -1.7324624061584473, -3.9139652252197266, -11.139699935913086, -6.104381561279297, -6.300583362579346, -8.74425983428955, -4.907939434051514, -11.449274063110352, -10.628490447998047, -9.0880765914917, -3.946324110031128, -5.268057346343994, -6.686440467834473, -4.203668117523193, -6.021035671234131, -9.3616361618042, -6.312954902648926, -6.728035926818848, -6.419571399688721, -2.572880983352661, -8.502028465270996, -6.313651084899902, -8.459434509277344, -12.029535293579102, -5.065572261810303, -8.712037086486816, -8.45054817199707, -3.513848304748535, -1.0641391277313232, -9.710779190063477, -10.017221450805664, -6.933958530426025, -12.223943710327148, -11.827472686767578, -11.010252952575684, -8.861166000366211, -5.599676609039307, -7.162101745605469, -2.1356844902038574, -2.514446973800659, -8.917952537536621, -8.42839241027832, -12.271854400634766, -6.660924911499023, -7.265287399291992, -11.583009719848633, -9.983922958374023, -7.470851421356201, -7.671537399291992, -2.435014486312866, -4.714507579803467, -11.516852378845215, -11.064821243286133, -2.2033536434173584, -4.518486499786377, -1.2799791097640991, -2.8098249435424805, -8.692926406860352, -8.025257110595703, -12.008537292480469, -11.693277359008789, -4.264761924743652], \"z\": [2.2401785850524902, 6.699892520904541, 7.816845417022705, 4.785906791687012, 4.551774024963379, 1.4439890384674072, 3.4877634048461914, 10.974742889404297, 1.9466674327850342, 8.210921287536621, 13.008010864257812, 8.840350151062012, 11.997023582458496, 9.357376098632812, 3.7402431964874268, 12.230818748474121, 5.758645057678223, 3.5274910926818848, 2.055521011352539, 1.136904001235962, 10.887850761413574, 2.7950990200042725, 2.9616189002990723, 5.689453125, 4.5939459800720215, 1.9752503633499146, 1.8317794799804688, 9.315513610839844, 3.290424108505249, 2.6649088859558105, 7.39299201965332, 4.9274187088012695, 8.110054969787598, 1.327380657196045, 4.186617851257324, 2.4730427265167236, 1.3048806190490723, 1.0840262174606323, 8.592292785644531, 12.850577354431152, 2.4332714080810547, 13.462477684020996, 12.896713256835938, 1.0641381740570068, 13.957303047180176, 13.47188949584961, 4.553190231323242, 3.8368186950683594, 4.133057117462158, 8.813380241394043, 4.0819411277771, 6.78593111038208, 1.6510744094848633, 4.436638355255127, 11.942534446716309, 4.70819616317749, 1.0863820314407349, 8.495349884033203, 1.7687785625457764, 2.974618673324585, 3.6220808029174805, 1.0806628465652466, 1.0725761651992798, 7.331484317779541, 1.0530025959014893, 13.410623550415039, 7.0793681144714355, 3.0905215740203857, 6.8220930099487305, 1.8569995164871216, 5.096133232116699, 2.3303582668304443, 3.819157838821411, 4.236629486083984, 5.350508689880371, 5.03776216506958, 4.082759380340576, 11.754060745239258, 5.916903972625732, 5.1276535987854, 13.424612998962402, 10.761344909667969, 9.249287605285645, 11.917662620544434, 5.741561412811279, 13.414119720458984, 7.690906524658203, 4.760157108306885, 5.286572456359863, 13.83883285522461, 13.173605918884277, 2.185086488723755, 1.4551323652267456, 10.131490707397461, 10.760649681091309, 8.386960983276367, 1.3794028759002686, 2.0151610374450684, 3.2276198863983154, 10.159890174865723, 9.168291091918945, 10.856886863708496, 7.2777628898620605, 1.2281124591827393, 7.564812660217285, 2.675516366958618, 10.669048309326172, 2.9912803173065186, 5.5192790031433105, 12.631387710571289, 3.3837573528289795, 13.002246856689453, 9.574441909790039, 1.2488219738006592, 1.6655114889144897, 4.535350799560547, 6.031610488891602, 3.1064651012420654, 5.942898273468018, 13.4550199508667, 10.328943252563477, 1.1347404718399048, 2.6919641494750977, 14.032547950744629, 10.74994945526123, 2.2640154361724854, 13.552427291870117, 4.309519290924072, 5.002514362335205, 3.7898433208465576, 1.0883668661117554, 14.034436225891113, 1.5622090101242065, 1.0578120946884155, 7.911280155181885, 1.0791655778884888, 1.6179882287979126, 3.438790798187256, 8.08816146850586, 13.281797409057617, 13.657638549804688, 4.3786492347717285, 11.839629173278809, 11.40429401397705, 13.914674758911133, 13.183945655822754, 4.056933403015137, 4.271376132965088, 6.5252604484558105, 1.1608058214187622, 5.744588851928711, 5.163117408752441, 6.368650436401367, 13.726283073425293, 4.974386692047119, 8.021268844604492, 9.313100814819336, 10.927872657775879, 1.9499882459640503, 5.025172710418701, 1.6502974033355713, 13.975671768188477, 13.114502906799316, 9.300511360168457, 12.999829292297363, 13.021289825439453, 3.1831319332122803, 11.380264282226562, 8.19153881072998, 13.612422943115234, 11.11976432800293, 1.531960129737854, 1.648341417312622, 1.414838194847107, 4.0055036544799805, 6.57244873046875, 12.30473804473877, 10.684014320373535, 1.1294519901275635, 3.1824378967285156, 9.768250465393066, 8.342543601989746, 2.041287422180176, 11.206942558288574, 5.089835166931152, 3.7211334705352783, 6.9180378913879395, 7.448801040649414, 12.9163818359375, 7.603227138519287, 8.439912796020508, 3.407085418701172, 1.0585685968399048, 13.464395523071289, 10.810432434082031, 7.1595025062561035, 3.443338632583618, 3.685114622116089, 7.591017723083496, 12.448715209960938, 2.4776484966278076, 7.641864776611328, 9.052968978881836, 12.953332901000977, 2.158139944076538, 6.670215129852295, 12.99966049194336, 1.1661466360092163, 1.150262475013733, 2.0240609645843506, 10.879620552062988, 7.381133079528809, 13.652620315551758, 9.56527328491211, 11.236401557922363, 7.223784446716309, 3.6755101680755615, 12.332714080810547, 1.090440034866333, 7.858750343322754, 13.030797958374023, 13.688873291015625, 1.2297548055648804, 2.4166831970214844, 1.0569915771484375, 4.35263204574585, 6.139389514923096, 2.0020828247070312, 4.238467693328857, 6.812519073486328, 10.576374053955078, 13.096529006958008, 13.649813652038574, 9.160624504089355, 4.620898246765137, 4.495538711547852, 1.0807589292526245, 10.470921516418457, 2.6769862174987793, 8.18542194366455, 10.33642292022705, 10.23585319519043, 13.172398567199707, 4.841897964477539, 2.5771865844726562, 7.263452053070068, 13.628355026245117, 3.544163465499878, 14.0757474899292, 13.476171493530273, 4.389564037322998, 1.0569572448730469, 3.5823581218719482, 6.377638339996338, 4.334897518157959]}, {\"hoverlabel\": {\"namelength\": 0}, \"hovertemplate\": \"Dominant_Topic=Topic 2<br>0=%{x}<br>1=%{y}<br>2=%{z}\", \"legendgroup\": \"Dominant_Topic=Topic 2\", \"marker\": {\"color\": \"#00cc96\", \"opacity\": 0.7, \"symbol\": \"circle\"}, \"mode\": \"markers\", \"name\": \"Dominant_Topic=Topic 2\", \"scene\": \"scene\", \"showlegend\": true, \"type\": \"scatter3d\", \"x\": [-1.7261848449707031, -5.860001087188721, -6.190662384033203, -11.052268981933594, -1.6224089860916138, -4.911978721618652, -9.166227340698242, -4.864662170410156, -2.905719518661499, -3.641404867172241, 1.067790150642395, -0.22666938602924347, -2.4784622192382812, -7.528541564941406, -8.389649391174316, -0.17108367383480072, -3.0965020656585693, -1.5471112728118896, -9.559802055358887, -10.892107009887695, -8.980010032653809, 1.095008373260498, -0.8853870630264282, 1.060238003730774, -1.790174126625061, -7.9527411460876465, -12.37551212310791, -0.09251680970191956, -5.662126541137695, -8.654568672180176, -8.092066764831543, -2.2865195274353027, -4.651763916015625, -8.229366302490234, -5.949452877044678, -0.36833637952804565, -4.811062812805176, -5.31643009185791, -3.289881706237793, -0.6433119773864746, -2.158764362335205, -6.403561115264893, -11.881004333496094, -8.469949722290039, -0.49935483932495117, -9.057950973510742, -8.557720184326172, -11.09561824798584, -10.342421531677246, -2.656339406967163, -8.025297164916992, -8.461609840393066, -12.235892295837402, -11.184916496276855, -12.061420440673828, -6.501945495605469, -6.284439563751221, -1.580244779586792, -5.626703262329102, -6.053645610809326, -12.319472312927246, -1.6607853174209595, -11.290786743164062, -0.8302837610244751, -1.1509429216384888, -2.2924234867095947, -0.024983376264572144, -10.873138427734375, -5.853662967681885, -12.123357772827148, -10.280180931091309, -0.588631808757782, -6.284956932067871, -12.36343002319336, -6.668860912322998, -4.879441738128662, -11.435165405273438, -11.956218719482422, -0.5863076448440552, -11.825841903686523, -11.932140350341797, -6.195984840393066, -5.009039402008057, -12.001676559448242, -4.389929294586182, -6.5135602951049805, -10.053934097290039, -10.37568187713623, -6.299778461456299, -5.327127933502197, -11.68220329284668, -11.295705795288086, -7.405937194824219, -0.24519619345664978, -10.375994682312012, -8.215465545654297, -5.246193885803223, -1.4287766218185425, -11.713419914245605, -8.411209106445312, -11.231372833251953, -10.760501861572266, -0.17361946403980255, -3.5761332511901855, -8.115355491638184, -3.739635467529297, -4.356107711791992, -5.294745445251465, -6.441133499145508, -6.409963607788086, -7.0605998039245605, -7.4867634773254395, -0.415097713470459, -7.720171928405762, -0.03543026000261307, -10.496344566345215, -12.171124458312988, -12.371849060058594, -12.714217185974121, -6.829423904418945, -10.051916122436523, -9.6172513961792, -0.31980761885643005, -12.327113151550293, -7.065424919128418, -11.18753433227539, -0.33740541338920593, -0.5360851287841797, -0.5028199553489685, -9.965228080749512, -6.781949996948242, -0.023626595735549927, -1.9145301580429077, -1.4181879758834839, -1.090673565864563, -4.247035980224609, -0.12185199558734894, -8.226876258850098, -5.888902187347412, -0.5664858818054199, -10.9304780960083, -10.94438648223877, -12.304606437683105, -1.2149521112442017, -0.8935307264328003, -2.79538893699646, -8.669317245483398, -1.372746229171753, -0.012703021988272667, -6.387998580932617, -0.0676189512014389, -6.8479390144348145, -12.138425827026367, -5.842099666595459, -10.74601936340332, -6.701867580413818, -2.778555393218994, -11.138906478881836, -2.219008207321167, -9.906414031982422, -7.47373104095459, -11.563058853149414, -0.014506518840789795, -11.872040748596191, -1.254332423210144, -11.490059852600098, -5.7191081047058105, -11.166703224182129, -7.325173854827881, -3.204939842224121, -0.21119125187397003, -5.797638416290283, -12.228741645812988, -0.5959713459014893, -1.0802205801010132, -7.400984764099121, -8.774720191955566, 0.050179168581962585, -11.255613327026367, -0.5624848008155823, -1.591263771057129, -7.842690467834473, -6.782778739929199, -12.158292770385742, -6.998366355895996, -0.39157187938690186, -7.9003825187683105, -5.344968318939209, -6.315752983093262, -10.839323043823242, -3.307220458984375, -6.3027849197387695, -4.394164562225342, -10.646296501159668, -0.12380123883485794, -7.033578395843506, -12.347209930419922, -6.509627342224121, -10.544635772705078, -0.8408233523368835, -10.415946006774902, -7.782264709472656, -0.281152606010437, -9.129446029663086, -7.271963596343994, -7.960450172424316, -6.3838090896606445, -4.138674736022949, -12.025311470031738, -0.14167526364326477, -6.724255084991455, -0.577889084815979, -7.877350807189941, -0.9131173491477966, -7.124976634979248, -12.098074913024902, -6.755191802978516, 0.7185503840446472, -4.189786911010742, -2.80617356300354, -3.3117048740386963, -1.894944429397583, -0.012509875930845737, -3.1214964389801025, -7.643272876739502, -5.236359119415283, -0.4164544939994812, -0.1466345638036728, -11.44132137298584, -0.9972666501998901, -7.313217639923096, -6.5263824462890625, -8.06260871887207, -0.010648499242961407, -10.33200454711914, -4.540220260620117, -10.367657661437988, -11.449450492858887, -6.044876575469971, -2.1391475200653076, -11.334399223327637, -0.258408784866333, -0.798198938369751, -12.34715461730957, -10.746018409729004, -12.176492691040039, -12.116385459899902, -6.506712913513184, -5.9915947914123535, -8.126921653747559, -11.291836738586426, -8.241910934448242, -12.233209609985352, -0.3082423806190491, -12.333975791931152, -7.30178689956665, -12.069402694702148, -10.580653190612793, -5.807498455047607, -2.6326093673706055, 0.02334083989262581, -3.5377368927001953, -7.4382734298706055, -8.388374328613281, -4.757205486297607, -5.011993408203125, -8.079828262329102, -0.0870036631822586, -0.36758196353912354, -3.9269521236419678, 1.0607995986938477, -12.32789421081543, -9.257412910461426, -6.4484357833862305, -3.796581506729126, -12.280162811279297, -4.937812805175781, -8.962148666381836, -2.8134138584136963, -11.573694229125977, -4.080156326293945, -6.636557579040527, -7.310266017913818, -0.4243154227733612, -0.7125676274299622, -5.617053985595703, -6.416863441467285, -6.842430114746094, -9.037626266479492, 1.0604625940322876, -1.2041010856628418, -5.3271613121032715, -2.6137609481811523, -4.913653373718262, -0.35658034682273865, -0.19818487763404846, -9.642641067504883, -7.667794704437256, 0.010527737438678741, -6.030937194824219, -2.3023438453674316, -5.9326043128967285, -6.843322277069092, -0.8523114323616028, -0.020017964765429497, -6.4920454025268555, -10.26042652130127, -5.348598957061768, -11.132294654846191, -2.279810905456543, -3.4377431869506836, -8.462716102600098, -6.793848037719727, -5.0998215675354, -0.00696325721219182, -0.6248385906219482, -0.7069975733757019, -7.209930419921875, -1.446347951889038, 0.04193063825368881, -5.132775783538818, -0.5781936049461365, -7.2720232009887695, -12.024638175964355, -0.09263261407613754, -12.016499519348145, -11.89773941040039, -6.745918273925781, -1.4052436351776123, -11.234354019165039, -2.2932581901550293, -3.5801713466644287, -11.504638671875, -6.8293046951293945, -4.8245062828063965, -0.10530246049165726, -1.4092371463775635, -4.849281311035156, -9.747673988342285, -7.702920436859131, -11.452866554260254, -2.7675259113311768, -10.184123039245605, -11.02364730834961, -0.3572773039340973, -5.35085916519165, -5.110367774963379, -10.181830406188965, -3.012693405151367, -5.510952472686768, -5.822754383087158, -8.406641006469727, -10.640801429748535, -6.980484485626221, -2.577866315841675, -10.739562034606934, -8.233715057373047, -0.6772356629371643, -11.97533893585205, -5.980745315551758, -8.433449745178223, -11.293159484863281, -0.033260319381952286, -12.08177375793457, -9.59869384765625, -10.465447425842285, -6.780047416687012, -5.635267734527588, -0.405274897813797, -1.1991604566574097, -1.1223809719085693, -1.301870584487915, -7.339428901672363, -6.807035446166992, -8.883426666259766, -1.0578866004943848, -9.0033597946167, -5.4721360206604, -3.638911247253418, -9.035656929016113, -5.537152290344238, -9.998123168945312, -4.812521934509277, -11.720394134521484, -5.999579429626465, -4.818056106567383, -8.759308815002441, -0.8393771648406982, -8.214823722839355, -6.813809394836426, -8.088679313659668, -1.8002187013626099, -7.8224639892578125, -6.565579414367676, -2.4606213569641113, 1.0132921934127808, -10.798842430114746, -6.428974628448486, -4.700577259063721, -6.2897629737854, -8.82150936126709, -2.841416358947754, -11.957749366760254, -10.081531524658203, -10.366621971130371, -6.825123310089111, -3.722066879272461, -10.667693138122559, -12.27420711517334, -9.654483795166016, -0.22892044484615326, -0.05282791331410408, -3.5638527870178223, -7.027289390563965, -12.089071273803711, -5.645016670227051, -9.16477108001709, -1.2487291097640991, -5.556376934051514, -7.875838279724121, -5.745207786560059, -0.9254494309425354, -1.7594969272613525, -4.352319240570068, -12.329864501953125, -3.227034568786621, -0.6471584439277649, 0.8389699459075928, -6.866569995880127], \"y\": [-0.7905632853507996, -0.8472347855567932, -0.6734312176704407, 7.335260391235352, -0.9694392085075378, -0.9473415017127991, 7.869957447052002, 7.30898380279541, 6.627166271209717, 3.8634533882141113, 3.3758277893066406, -7.1483964920043945, 6.461408615112305, 3.20672345161438, 7.8598408699035645, 4.135137557983398, -0.28939709067344666, 6.097989559173584, 2.706324577331543, 2.5716826915740967, 2.628582239151001, 3.3702776432037354, 5.759909152984619, 3.375474214553833, -0.6896346807479858, 4.253042697906494, 5.464404582977295, 4.895291328430176, -0.8369593024253845, 0.43815308809280396, 7.842038154602051, -0.20510177314281464, -1.3761991262435913, 4.181222915649414, -0.8024670481681824, -9.584117889404297, -1.2494134902954102, -0.9014305472373962, -0.39766380190849304, -4.265799045562744, -0.29513925313949585, 7.6970438957214355, 3.5705888271331787, 0.3125368058681488, -5.140296459197998, 0.7751819491386414, 0.379761666059494, 2.155923843383789, 7.840287208557129, 6.542031764984131, 2.461761951446533, 4.301153182983398, 5.849299430847168, 2.5038983821868896, 3.913480281829834, 1.792933702468872, 0.19837307929992676, -1.0632256269454956, -0.8459693789482117, 7.06693696975708, 5.346951961517334, -0.8996658325195312, 3.4966204166412354, -3.60299015045166, -2.2741475105285645, -0.2017894983291626, -8.915826797485352, 7.478930950164795, -0.8545864224433899, 4.118346214294434, 1.764656901359558, -4.648688316345215, 0.19783900678157806, 5.1042561531066895, 5.565924167633057, -1.212971568107605, 2.87458872795105, 3.6957342624664307, 5.564453125, 6.569828033447266, 3.6605520248413086, 0.4409863352775574, -0.5193815231323242, 6.219780445098877, 0.9624037742614746, 4.796694278717041, 1.5984126329421997, 1.8445603847503662, 4.115171909332275, -0.8976722359657288, 6.717418193817139, 2.702516555786133, -0.27160927653312683, -6.597036838531494, 7.657507419586182, 0.15117035806179047, 7.508731842041016, -1.4156489372253418, 6.142840385437012, 0.27195319533348083, 7.1605143547058105, 2.3708088397979736, 5.037479877471924, 6.8598761558532715, 0.3432518243789673, 4.332237243652344, 0.9740499258041382, 7.5164361000061035, 0.015433023683726788, 7.668756484985352, 4.206501007080078, 7.777838706970215, 5.182040214538574, 3.5031726360321045, -8.959466934204102, 7.548061370849609, 5.447787761688232, 5.427157402038574, 4.0854997634887695, -0.24251556396484375, 7.8158063888549805, 1.247272253036499, -6.738806247711182, 5.415617942810059, 7.879264831542969, 7.209898948669434, 3.6873137950897217, 5.524278163909912, -5.122264385223389, 7.819339275360107, 3.8519248962402344, -6.8711442947387695, 6.159624099731445, 2.975651502609253, 5.877289295196533, 7.1381402015686035, 4.950721740722656, 4.142019748687744, 0.2550579011440277, 5.553591728210449, 4.113772392272949, 2.3340609073638916, 4.94373083114624, -2.0553903579711914, -3.2922825813293457, -3.9581854343414307, 4.448209285736084, 2.5675063133239746, -7.875400066375732, 0.08940654247999191, -7.338415622711182, -0.27120649814605713, 4.15847635269165, 7.636741638183594, 1.9934653043746948, 1.9946117401123047, 6.584973335266113, 2.665151834487915, 6.360620498657227, 1.4865788221359253, 2.969529628753662, 3.083787202835083, -7.8628129959106445, 5.9713592529296875, 5.89234733581543, 5.851113796234131, 2.7730162143707275, 7.220339298248291, 3.0519566535949707, -0.35121867060661316, 5.109617710113525, -0.8719513416290283, 4.4588165283203125, -4.0379157066345215, -2.5216727256774902, -0.24366562068462372, 2.571185350418091, -8.279886245727539, 2.3632335662841797, 4.050811290740967, -1.0297666788101196, 3.2907302379608154, -0.26483264565467834, 6.072718620300293, -0.00016464682994410396, -5.675626754760742, 3.8059580326080322, 3.015000104904175, 0.6634812951087952, 2.2171273231506348, 4.074042797088623, 4.367346286773682, 4.500703811645508, 7.706791400909424, 4.913273811340332, -0.047604866325855255, 5.651134490966797, -0.4909410774707794, 1.9299551248550415, -3.4873948097229004, 7.608222007751465, -0.11215293407440186, -6.272210597991943, 4.425801753997803, 7.724409580230713, 3.1485633850097656, -0.5614400506019592, 7.102290630340576, 3.8090837001800537, -6.600624084472656, 3.372437000274658, -4.821505546569824, 1.0267853736877441, -3.2141871452331543, 7.736254692077637, 4.048819541931152, 6.865972995758057, 3.6704490184783936, 7.123262882232666, 6.426886081695557, 4.961122512817383, 3.2348172664642334, -8.840697288513184, -3.907679796218872, 0.23653389513492584, -0.9127750396728516, 5.183872222900391, 4.973832130432129, 2.8997802734375, -2.790055513381958, 1.9157055616378784, -0.0686093419790268, 7.839097499847412, -7.9003777503967285, 1.8303543329238892, 4.45927095413208, 1.828947901725769, 6.940364837646484, 7.678439140319824, -0.3091907203197479, 2.7717268466949463, -6.5771002769470215, 5.709969997406006, 5.810362339019775, 7.564619064331055, 4.245951175689697, 6.09824800491333, 4.379248142242432, -0.7740678787231445, 0.07042822241783142, 2.6758363246917725, 0.6110522747039795, 5.914004802703857, -6.91804313659668, 5.500716209411621, 7.757356643676758, 6.307798862457275, 4.267115592956543, -0.8748846650123596, 3.703500270843506, -8.02908992767334, 4.500069618225098, 0.6168748140335083, 0.23931656777858734, 4.396350383758545, -0.9391718506813049, 0.04118775576353073, -6.886288642883301, -5.77733039855957, 4.200567245483398, 3.375307321548462, 4.911441802978516, 7.86522102355957, 0.004889057483524084, 5.891573429107666, 5.6359028816223145, 7.3914690017700195, 0.7245565056800842, -0.15733790397644043, 6.812692165374756, 7.066151142120361, -0.13298209011554718, 0.34513598680496216, -5.479490280151367, -4.1868391036987305, -0.8473486304283142, -0.5386630296707153, -0.23155316710472107, 2.4555628299713135, 3.375309705734253, -2.0929174423217773, -0.8976894021034241, -0.11915336549282074, -1.1852904558181763, -5.393481254577637, -9.360089302062988, 1.281313419342041, 7.802542686462402, -8.761566162109375, 0.6474157571792603, 3.585479259490967, -0.8114421367645264, -0.2563866376876831, -4.021373748779297, -8.891936302185059, -0.049527037888765335, 1.7557415962219238, -1.030128836631775, 2.4948785305023193, -0.21225818991661072, 6.25706672668457, 0.297357439994812, -0.30361586809158325, -1.1142210960388184, -6.920314311981201, 5.563474655151367, -4.112590789794922, 2.0022504329681396, -1.3698396682739258, -8.200713157653809, -1.1050432920455933, -4.6398773193359375, 0.3643783628940582, 3.8194899559020996, -9.146432876586914, 3.8410260677337646, 6.208149433135986, -0.3334200084209442, -1.483195185661316, 2.443990707397461, 6.405066967010498, 5.846149444580078, 2.9861161708831787, -0.2740423083305359, -1.2388821840286255, -7.455944061279297, -1.463938593864441, -1.2258086204528809, 7.843989849090576, 3.8903825283050537, 2.9177627563476562, 3.68487286567688, 1.7237180471420288, 2.1006221771240234, -5.910090923309326, -0.8944878578186035, -1.1199567317962646, 2.5770907402038574, -0.24508799612522125, -0.868229329586029, -0.7957313060760498, 0.24190747737884521, 7.68991756439209, 7.560589790344238, -0.12120399624109268, 2.2769148349761963, 7.856753349304199, -4.322519779205322, 6.419020652770996, 7.435080528259277, 0.2533511519432068, 2.591470241546631, -7.733733177185059, 3.9243876934051514, 1.2351367473602295, 4.4430694580078125, -0.26023584604263306, 7.572211265563965, -5.598730564117432, 3.6037187576293945, 5.888580322265625, -1.7846437692642212, 0.07209610939025879, -0.303066223859787, 0.6560366749763489, -2.602029323577881, 0.7362347841262817, 7.507440567016602, 5.171638011932373, 2.538302421569824, 7.590147495269775, 7.831934928894043, -1.2595540285110474, 6.324224472045898, -0.7767870426177979, -0.9501602649688721, 0.5166226029396057, -3.4880826473236084, 0.5789739489555359, -0.19736987352371216, 7.7606587409973145, -0.6733019351959229, 7.8052873611450195, -0.09653741866350174, 6.4558024406433105, 3.4240338802337646, 7.525181770324707, 0.016390448436141014, -1.3397828340530396, 0.21578338742256165, 7.868394374847412, 4.486955642700195, 3.7578954696655273, 1.6043474674224854, 7.838655471801758, 5.605952739715576, 4.73621940612793, 1.9888213872909546, 4.6323113441467285, 7.846610069274902, -7.050380706787109, -9.020110130310059, 5.999755382537842, -0.009816407226026058, 4.034782409667969, 7.389103412628174, 2.5627081394195557, -1.9674806594848633, -0.9663175344467163, -0.06943067163228989, 0.14998504519462585, -3.167497396469116, 2.664947509765625, 7.1828227043151855, 4.925671100616455, -0.36130663752555847, -3.7829341888427734, 3.5940005779266357, 7.707874298095703], \"z\": [-13.272615432739258, -5.536351203918457, -4.906059741973877, 2.5320842266082764, -13.332358360290527, -10.317445755004883, 3.7198219299316406, 4.432494163513184, 4.282260417938232, 2.545320987701416, 2.6651875972747803, -12.115772247314453, 4.227298736572266, 0.6001181602478027, 3.9626944065093994, 3.0697498321533203, -11.853262901306152, 4.086476802825928, -2.0728161334991455, -6.134693622589111, -1.4764200448989868, 2.661973714828491, 3.9432146549224854, 2.6657145023345947, -13.232744216918945, 1.2368590831756592, -0.2840558588504791, 3.4975709915161133, -9.977444648742676, -9.34561538696289, 4.041511535644531, -12.811286926269531, -7.905855178833008, 1.0444124937057495, -5.402835369110107, -12.095755577087402, -7.346208572387695, -10.101546287536621, -11.618038177490234, -13.1776704788208, -12.93232250213623, 4.38230037689209, -3.3558688163757324, -9.530550003051758, -12.903956413269043, -8.82981014251709, -9.36083984375, -6.080935955047607, 3.1014420986175537, 4.258638381958008, -0.620269775390625, 1.034364938735962, 0.33373260498046875, -5.658178806304932, -2.660576343536377, -8.479251861572266, 0.34492653608322144, -13.349825859069824, -9.983089447021484, 4.014199733734131, -0.30959680676460266, -13.313691139221191, -2.5997774600982666, -13.270939826965332, -13.364076614379883, -12.805458068847656, -11.634284973144531, 2.748263120651245, -5.55905294418335, -2.280733823776245, -7.3882551193237305, -13.018489837646484, 0.34379762411117554, -0.7677505612373352, 2.790022611618042, -7.144282341003418, -4.876401424407959, -3.102228879928589, 3.846705675125122, 1.3487255573272705, -3.170142412185669, 0.682050347328186, -7.4195075035095215, 0.9468965530395508, -9.748549461364746, 2.282674789428711, -7.608682155609131, -7.238087177276611, 1.899788498878479, -10.102450370788574, 1.5865188837051392, -5.302605152130127, -9.949092864990234, -12.427380561828613, 3.2695372104644775, -9.653937339782715, 4.491070747375488, -13.401750564575195, 1.2919615507125854, -9.581222534179688, 2.2860569953918457, -6.163160800933838, 3.5763421058654785, 4.343335151672363, -7.241894245147705, 2.827328681945801, -9.769233703613281, 4.487322807312012, -0.18996170163154602, 4.355729579925537, 1.6109117269515991, 4.1840996742248535, 3.6439874172210693, 0.7163891196250916, -11.645059585571289, 3.1609997749328613, 0.037796057760715485, -0.3236726224422455, -0.6080593466758728, -2.2573390007019043, 3.356189727783203, -8.159296035766602, -12.252275466918945, -0.24449124932289124, 3.70865797996521, 2.348689079284668, 2.8184022903442383, 3.8267810344696045, -12.909984588623047, 3.3982677459716797, 1.514923334121704, -12.419915199279785, 4.099425315856934, 2.4900753498077393, 3.993170976638794, 4.425537586212158, 3.524813413619995, 1.0103839635849, 1.2068758010864258, 3.841610908508301, -0.9685792326927185, -6.580197811126709, -0.8547364473342896, -13.3832368850708, -13.242096900939941, 3.7146573066711426, 1.0621299743652344, 2.3686418533325195, -11.811344146728516, 0.017833556979894638, -12.123093605041504, -2.666341781616211, -2.2168617248535156, 4.458522796630859, -6.781774997711182, -8.307900428771973, 4.2716546058654785, -5.931258678436279, 4.1891889572143555, -7.788599967956543, 0.465764582157135, -4.399170875549316, -11.816882133483887, 0.9333052039146423, 3.9922516345977783, 1.179178237915039, 1.6261080503463745, 2.378356456756592, 0.6546432971954346, -11.71728229522705, 3.614680767059326, -5.699661731719971, -1.7060127258300781, -13.092068672180176, -13.345040321350098, -1.7889801263809204, -1.3280088901519775, -11.663259506225586, -6.173867702484131, 3.0071754455566406, -13.350252151489258, 0.4158264696598053, -2.1608493328094482, 0.6369813680648804, -2.145047187805176, -12.756584167480469, 0.8801429867744446, 1.8358311653137207, 0.597305178642273, -6.061119079589844, 2.7557575702667236, 2.0526843070983887, 2.7402267456054688, 2.9615228176116943, 3.506748676300049, -2.704132080078125, -0.09260205179452896, -5.910741329193115, -7.08107852935791, -13.255911827087402, 3.2453670501708984, -9.872520446777344, -12.569125175476074, 0.7641392350196838, 4.202206134796143, 0.15575745701789856, -4.427543640136719, 4.417868137359619, -2.881147623062134, -12.346488952636719, 1.2792001962661743, -12.987224578857422, -9.068673133850098, -13.256928443908691, 4.2556962966918945, -2.4016001224517822, 3.688138246536255, 2.827211856842041, 4.424103736877441, 4.179105758666992, 3.2924935817718506, 2.535598039627075, -11.617220878601074, 3.993422508239746, -5.111292839050293, -10.146286010742188, 3.6447246074676514, 3.5373263359069824, -4.801044464111328, -13.323749542236328, -8.364494323730469, -0.5249428749084473, 4.047431468963623, -11.802416801452637, -7.1946234703063965, 2.6707563400268555, -7.279001712799072, 1.9544278383255005, 4.444993019104004, -12.952017784118652, -5.140771865844727, -12.469042778015137, 3.919644355773926, 0.1530914008617401, 2.88188099861145, -2.0841524600982666, 0.7174569964408875, 1.983574390411377, -5.572378158569336, -9.747241973876953, -5.416234016418457, -5.423861503601074, 0.39929381012916565, -12.43433952331543, -0.16251742839813232, 4.22396993637085, 0.903900682926178, -0.43629565834999084, -5.595469951629639, 2.639615058898926, -11.74897575378418, 3.521855592727661, -2.0103566646575928, -9.53770923614502, 2.5654938220977783, -10.259830474853516, -9.771842956542969, -12.482874870300293, -12.740550994873047, 2.6880664825439453, 2.6649606227874756, -1.0202680826187134, 3.686135768890381, -0.22077436745166779, 3.753119707107544, 0.19691157341003418, 4.466444492340088, -8.861207962036133, -12.212787628173828, 1.7583675384521484, 4.403282642364502, -1.0251485109329224, -2.4046173095703125, -12.805224418640137, -13.2442626953125, -9.984295845031738, -4.441359519958496, -2.2704412937164307, -1.7863240242004395, 2.665621757507324, -13.380475044250488, -10.101985931396484, -12.459229469299316, -7.0943403244018555, -13.045635223388672, -11.84642219543457, -8.090570449829102, 4.146671295166016, -11.60586166381836, 1.0612149238586426, 2.6205661296844482, -5.411901473999023, -2.8377082347869873, -13.1594877243042, -11.628474235534668, -0.4035031795501709, -7.3838725090026855, -6.341149806976318, -6.3092241287231445, -12.817575454711914, 4.013742446899414, -9.610956192016602, -2.9028263092041016, -6.727470874786377, -12.193771362304688, 3.841646194458008, -13.01552963256836, -8.303126335144043, -13.393630981445312, -11.692138671875, -6.667670726776123, -13.031578063964844, -2.094484567642212, -2.849405288696289, -11.70835018157959, -2.7763564586639404, 2.349823236465454, -3.1914865970611572, -13.399771690368652, -5.6913042068481445, 4.211479187011719, 3.7612531185150146, -4.633033275604248, -2.333815097808838, -7.313065528869629, -12.036320686340332, -13.398411750793457, -7.2350897789001465, 3.4971766471862793, 1.0590466260910034, -4.759243488311768, 2.609194040298462, -7.348511695861816, -6.339633464813232, -12.692178726196289, -10.093968391418457, -6.687410354614258, -3.492903709411621, -11.960914611816406, -10.028804779052734, -9.928858757019043, -9.453694343566895, 2.9583218097686768, 4.1391215324401855, -12.50059986114502, -6.656042098999023, 4.011662483215332, -13.124299049377441, 1.0883045196533203, 4.277275085449219, -9.64669418334961, -5.632169723510742, -11.885893821716309, -2.6682288646698, -8.169044494628906, -0.10422911494970322, -2.132366895675659, 4.453957557678223, -12.773161888122559, 2.730896472930908, 3.997854471206665, -13.404122352600098, -4.440791130065918, -2.76103138923645, -8.959162712097168, -13.340675354003906, -8.882364273071289, 4.440945625305176, 3.3525948524475098, -1.667138695716858, 4.486454963684082, 3.384212017059326, -7.280215740203857, 1.3991429805755615, -5.344326019287109, -10.373613357543945, -9.232221603393555, -13.259147644042969, -5.54449462890625, -2.0642874240875244, 3.969484567642212, -13.224644660949707, 4.095189571380615, -0.6942574977874756, 4.225547790527344, 2.6928224563598633, 2.8322913646698, -0.15666736662387848, -7.66094446182251, 0.34422197937965393, 3.8316493034362793, 3.0729475021362305, -2.9133849143981934, -7.640351295471191, 3.0718512535095215, 2.766834020614624, 3.0796327590942383, -6.856631278991699, -1.4471973180770874, 3.5291266441345215, -12.428350448608398, -11.661433219909668, 3.8524084091186523, -2.2961435317993164, -2.4170045852661133, 4.324940204620361, -1.7978700399398804, -13.398701667785645, -6.004490852355957, -9.852886199951172, 1.4407168626785278, -13.267611503601074, 2.378621816635132, 4.436737060546875, -0.9986060857772827, -11.690529823303223, -13.188846588134766, 2.7865993976593018, 4.293832778930664]}, {\"hoverlabel\": {\"namelength\": 0}, \"hovertemplate\": \"Dominant_Topic=Topic 3<br>0=%{x}<br>1=%{y}<br>2=%{z}\", \"legendgroup\": \"Dominant_Topic=Topic 3\", \"marker\": {\"color\": \"#ab63fa\", \"opacity\": 0.7, \"symbol\": \"circle\"}, \"mode\": \"markers\", \"name\": \"Dominant_Topic=Topic 3\", \"scene\": \"scene\", \"showlegend\": true, \"type\": \"scatter3d\", \"x\": [9.462530136108398, 9.68692398071289, 7.948968887329102, 9.081199645996094, 9.212212562561035, 8.45190143585205, 8.174384117126465, 9.7589750289917, 8.04833698272705, 8.819643020629883, 9.23000431060791, 9.422211647033691, 9.259100914001465, 9.602933883666992, 9.596540451049805, 9.539924621582031, 9.949755668640137, 9.865701675415039, 9.494436264038086, 8.439001083374023, 7.7369704246521, 9.316985130310059, 7.921648025512695, 9.137934684753418, 8.341516494750977, 9.860810279846191, 9.65958309173584, 8.966413497924805, 8.475747108459473, 9.538201332092285, 8.070229530334473, 7.991795063018799, 9.928653717041016, 7.9905104637146, 8.899927139282227, 9.087644577026367, 8.727230072021484, 9.027896881103516, 9.34129524230957], \"y\": [-5.705887317657471, -5.886375427246094, -3.595604658126831, -5.364914417266846, -4.991818904876709, -4.2314772605896, -3.889735221862793, -5.829552173614502, -3.723310947418213, -5.106459140777588, -5.757086753845215, -5.313933849334717, -4.992588996887207, -5.401516437530518, -4.991471290588379, -5.1686224937438965, -5.408856391906738, -5.232740879058838, -4.899733066558838, -4.220865726470947, -3.316758394241333, -5.726060390472412, -3.560220718383789, -5.857324123382568, -4.101019382476807, -5.3294172286987305, -5.421205520629883, -5.455179691314697, -4.26685094833374, -5.930286884307861, -3.752865791320801, -3.6515119075775146, -5.614563465118408, -3.6493723392486572, -4.792074203491211, -5.823592185974121, -5.205785751342773, -5.380089282989502, -4.877958297729492], \"z\": [-6.135617256164551, -5.492866039276123, -3.8055579662323, -5.194530963897705, -5.244998455047607, -4.522287368774414, -4.152284145355225, -5.491344928741455, -3.9581971168518066, -5.587202072143555, -6.0434794425964355, -6.212309837341309, -5.906198024749756, -6.191895008087158, -5.8844380378723145, -5.196400165557861, -5.820074081420898, -5.44532585144043, -5.504495620727539, -4.513786792755127, -3.439885139465332, -5.248699188232422, -3.7608070373535156, -5.603291988372803, -4.383284568786621, -6.001251697540283, -5.218099117279053, -6.010249614715576, -4.563425064086914, -5.826394081115723, -3.994184970855713, -3.8757970333099365, -5.631921768188477, -3.872349500656128, -5.090014934539795, -5.661754608154297, -5.792111873626709, -5.241269588470459, -5.656716823577881]}],\n",
       "                        {\"height\": 800, \"legend\": {\"tracegroupgap\": 0}, \"scene\": {\"domain\": {\"x\": [0.0, 1.0], \"y\": [0.0, 1.0]}, \"xaxis\": {\"title\": {\"text\": \"0\"}}, \"yaxis\": {\"title\": {\"text\": \"1\"}}, \"zaxis\": {\"title\": {\"text\": \"2\"}}}, \"template\": {\"data\": {\"bar\": [{\"error_x\": {\"color\": \"#2a3f5f\"}, \"error_y\": {\"color\": \"#2a3f5f\"}, \"marker\": {\"line\": {\"color\": \"#E5ECF6\", \"width\": 0.5}}, \"type\": \"bar\"}], \"barpolar\": [{\"marker\": {\"line\": {\"color\": \"#E5ECF6\", \"width\": 0.5}}, \"type\": \"barpolar\"}], \"carpet\": [{\"aaxis\": {\"endlinecolor\": \"#2a3f5f\", \"gridcolor\": \"white\", \"linecolor\": \"white\", \"minorgridcolor\": \"white\", \"startlinecolor\": \"#2a3f5f\"}, \"baxis\": {\"endlinecolor\": \"#2a3f5f\", \"gridcolor\": \"white\", \"linecolor\": \"white\", \"minorgridcolor\": \"white\", \"startlinecolor\": \"#2a3f5f\"}, \"type\": \"carpet\"}], \"choropleth\": [{\"colorbar\": {\"outlinewidth\": 0, \"ticks\": \"\"}, \"type\": \"choropleth\"}], \"contour\": [{\"colorbar\": {\"outlinewidth\": 0, \"ticks\": \"\"}, \"colorscale\": [[0.0, \"#0d0887\"], [0.1111111111111111, \"#46039f\"], [0.2222222222222222, \"#7201a8\"], [0.3333333333333333, \"#9c179e\"], [0.4444444444444444, \"#bd3786\"], [0.5555555555555556, \"#d8576b\"], [0.6666666666666666, \"#ed7953\"], [0.7777777777777778, \"#fb9f3a\"], [0.8888888888888888, \"#fdca26\"], [1.0, \"#f0f921\"]], \"type\": \"contour\"}], \"contourcarpet\": [{\"colorbar\": {\"outlinewidth\": 0, \"ticks\": \"\"}, \"type\": \"contourcarpet\"}], \"heatmap\": [{\"colorbar\": {\"outlinewidth\": 0, \"ticks\": \"\"}, \"colorscale\": [[0.0, \"#0d0887\"], [0.1111111111111111, \"#46039f\"], [0.2222222222222222, \"#7201a8\"], [0.3333333333333333, \"#9c179e\"], [0.4444444444444444, \"#bd3786\"], [0.5555555555555556, \"#d8576b\"], [0.6666666666666666, \"#ed7953\"], [0.7777777777777778, \"#fb9f3a\"], [0.8888888888888888, \"#fdca26\"], [1.0, \"#f0f921\"]], \"type\": \"heatmap\"}], \"heatmapgl\": [{\"colorbar\": {\"outlinewidth\": 0, \"ticks\": \"\"}, \"colorscale\": [[0.0, \"#0d0887\"], [0.1111111111111111, \"#46039f\"], [0.2222222222222222, \"#7201a8\"], [0.3333333333333333, \"#9c179e\"], [0.4444444444444444, \"#bd3786\"], [0.5555555555555556, \"#d8576b\"], [0.6666666666666666, \"#ed7953\"], [0.7777777777777778, \"#fb9f3a\"], [0.8888888888888888, \"#fdca26\"], [1.0, \"#f0f921\"]], \"type\": \"heatmapgl\"}], \"histogram\": [{\"marker\": {\"colorbar\": {\"outlinewidth\": 0, \"ticks\": \"\"}}, \"type\": \"histogram\"}], \"histogram2d\": [{\"colorbar\": {\"outlinewidth\": 0, \"ticks\": \"\"}, \"colorscale\": [[0.0, \"#0d0887\"], [0.1111111111111111, \"#46039f\"], [0.2222222222222222, \"#7201a8\"], [0.3333333333333333, \"#9c179e\"], [0.4444444444444444, \"#bd3786\"], [0.5555555555555556, \"#d8576b\"], [0.6666666666666666, \"#ed7953\"], [0.7777777777777778, \"#fb9f3a\"], [0.8888888888888888, \"#fdca26\"], [1.0, \"#f0f921\"]], \"type\": \"histogram2d\"}], \"histogram2dcontour\": [{\"colorbar\": {\"outlinewidth\": 0, \"ticks\": \"\"}, \"colorscale\": [[0.0, \"#0d0887\"], [0.1111111111111111, \"#46039f\"], [0.2222222222222222, \"#7201a8\"], [0.3333333333333333, \"#9c179e\"], [0.4444444444444444, \"#bd3786\"], [0.5555555555555556, \"#d8576b\"], [0.6666666666666666, \"#ed7953\"], [0.7777777777777778, \"#fb9f3a\"], [0.8888888888888888, \"#fdca26\"], [1.0, \"#f0f921\"]], \"type\": \"histogram2dcontour\"}], \"mesh3d\": [{\"colorbar\": {\"outlinewidth\": 0, \"ticks\": \"\"}, \"type\": \"mesh3d\"}], \"parcoords\": [{\"line\": {\"colorbar\": {\"outlinewidth\": 0, \"ticks\": \"\"}}, \"type\": \"parcoords\"}], \"pie\": [{\"automargin\": true, \"type\": \"pie\"}], \"scatter\": [{\"marker\": {\"colorbar\": {\"outlinewidth\": 0, \"ticks\": \"\"}}, \"type\": \"scatter\"}], \"scatter3d\": [{\"line\": {\"colorbar\": {\"outlinewidth\": 0, \"ticks\": \"\"}}, \"marker\": {\"colorbar\": {\"outlinewidth\": 0, \"ticks\": \"\"}}, \"type\": \"scatter3d\"}], \"scattercarpet\": [{\"marker\": {\"colorbar\": {\"outlinewidth\": 0, \"ticks\": \"\"}}, \"type\": \"scattercarpet\"}], \"scattergeo\": [{\"marker\": {\"colorbar\": {\"outlinewidth\": 0, \"ticks\": \"\"}}, \"type\": \"scattergeo\"}], \"scattergl\": [{\"marker\": {\"colorbar\": {\"outlinewidth\": 0, \"ticks\": \"\"}}, \"type\": \"scattergl\"}], \"scattermapbox\": [{\"marker\": {\"colorbar\": {\"outlinewidth\": 0, \"ticks\": \"\"}}, \"type\": \"scattermapbox\"}], \"scatterpolar\": [{\"marker\": {\"colorbar\": {\"outlinewidth\": 0, \"ticks\": \"\"}}, \"type\": \"scatterpolar\"}], \"scatterpolargl\": [{\"marker\": {\"colorbar\": {\"outlinewidth\": 0, \"ticks\": \"\"}}, \"type\": \"scatterpolargl\"}], \"scatterternary\": [{\"marker\": {\"colorbar\": {\"outlinewidth\": 0, \"ticks\": \"\"}}, \"type\": \"scatterternary\"}], \"surface\": [{\"colorbar\": {\"outlinewidth\": 0, \"ticks\": \"\"}, \"colorscale\": [[0.0, \"#0d0887\"], [0.1111111111111111, \"#46039f\"], [0.2222222222222222, \"#7201a8\"], [0.3333333333333333, \"#9c179e\"], [0.4444444444444444, \"#bd3786\"], [0.5555555555555556, \"#d8576b\"], [0.6666666666666666, \"#ed7953\"], [0.7777777777777778, \"#fb9f3a\"], [0.8888888888888888, \"#fdca26\"], [1.0, \"#f0f921\"]], \"type\": \"surface\"}], \"table\": [{\"cells\": {\"fill\": {\"color\": \"#EBF0F8\"}, \"line\": {\"color\": \"white\"}}, \"header\": {\"fill\": {\"color\": \"#C8D4E3\"}, \"line\": {\"color\": \"white\"}}, \"type\": \"table\"}]}, \"layout\": {\"annotationdefaults\": {\"arrowcolor\": \"#2a3f5f\", \"arrowhead\": 0, \"arrowwidth\": 1}, \"coloraxis\": {\"colorbar\": {\"outlinewidth\": 0, \"ticks\": \"\"}}, \"colorscale\": {\"diverging\": [[0, \"#8e0152\"], [0.1, \"#c51b7d\"], [0.2, \"#de77ae\"], [0.3, \"#f1b6da\"], [0.4, \"#fde0ef\"], [0.5, \"#f7f7f7\"], [0.6, \"#e6f5d0\"], [0.7, \"#b8e186\"], [0.8, \"#7fbc41\"], [0.9, \"#4d9221\"], [1, \"#276419\"]], \"sequential\": [[0.0, \"#0d0887\"], [0.1111111111111111, \"#46039f\"], [0.2222222222222222, \"#7201a8\"], [0.3333333333333333, \"#9c179e\"], [0.4444444444444444, \"#bd3786\"], [0.5555555555555556, \"#d8576b\"], [0.6666666666666666, \"#ed7953\"], [0.7777777777777778, \"#fb9f3a\"], [0.8888888888888888, \"#fdca26\"], [1.0, \"#f0f921\"]], \"sequentialminus\": [[0.0, \"#0d0887\"], [0.1111111111111111, \"#46039f\"], [0.2222222222222222, \"#7201a8\"], [0.3333333333333333, \"#9c179e\"], [0.4444444444444444, \"#bd3786\"], [0.5555555555555556, \"#d8576b\"], [0.6666666666666666, \"#ed7953\"], [0.7777777777777778, \"#fb9f3a\"], [0.8888888888888888, \"#fdca26\"], [1.0, \"#f0f921\"]]}, \"colorway\": [\"#636efa\", \"#EF553B\", \"#00cc96\", \"#ab63fa\", \"#FFA15A\", \"#19d3f3\", \"#FF6692\", \"#B6E880\", \"#FF97FF\", \"#FECB52\"], \"font\": {\"color\": \"#2a3f5f\"}, \"geo\": {\"bgcolor\": \"white\", \"lakecolor\": \"white\", \"landcolor\": \"#E5ECF6\", \"showlakes\": true, \"showland\": true, \"subunitcolor\": \"white\"}, \"hoverlabel\": {\"align\": \"left\"}, \"hovermode\": \"closest\", \"mapbox\": {\"style\": \"light\"}, \"paper_bgcolor\": \"white\", \"plot_bgcolor\": \"#E5ECF6\", \"polar\": {\"angularaxis\": {\"gridcolor\": \"white\", \"linecolor\": \"white\", \"ticks\": \"\"}, \"bgcolor\": \"#E5ECF6\", \"radialaxis\": {\"gridcolor\": \"white\", \"linecolor\": \"white\", \"ticks\": \"\"}}, \"scene\": {\"xaxis\": {\"backgroundcolor\": \"#E5ECF6\", \"gridcolor\": \"white\", \"gridwidth\": 2, \"linecolor\": \"white\", \"showbackground\": true, \"ticks\": \"\", \"zerolinecolor\": \"white\"}, \"yaxis\": {\"backgroundcolor\": \"#E5ECF6\", \"gridcolor\": \"white\", \"gridwidth\": 2, \"linecolor\": \"white\", \"showbackground\": true, \"ticks\": \"\", \"zerolinecolor\": \"white\"}, \"zaxis\": {\"backgroundcolor\": \"#E5ECF6\", \"gridcolor\": \"white\", \"gridwidth\": 2, \"linecolor\": \"white\", \"showbackground\": true, \"ticks\": \"\", \"zerolinecolor\": \"white\"}}, \"shapedefaults\": {\"line\": {\"color\": \"#2a3f5f\"}}, \"ternary\": {\"aaxis\": {\"gridcolor\": \"white\", \"linecolor\": \"white\", \"ticks\": \"\"}, \"baxis\": {\"gridcolor\": \"white\", \"linecolor\": \"white\", \"ticks\": \"\"}, \"bgcolor\": \"#E5ECF6\", \"caxis\": {\"gridcolor\": \"white\", \"linecolor\": \"white\", \"ticks\": \"\"}}, \"title\": {\"x\": 0.05}, \"xaxis\": {\"automargin\": true, \"gridcolor\": \"white\", \"linecolor\": \"white\", \"ticks\": \"\", \"title\": {\"standoff\": 15}, \"zerolinecolor\": \"white\", \"zerolinewidth\": 2}, \"yaxis\": {\"automargin\": true, \"gridcolor\": \"white\", \"linecolor\": \"white\", \"ticks\": \"\", \"title\": {\"standoff\": 15}, \"zerolinecolor\": \"white\", \"zerolinewidth\": 2}}}, \"title\": {\"text\": \"3d TSNE Plot for Topic Model\"}, \"width\": 900},\n",
       "                        {\"responsive\": true}\n",
       "                    ).then(function(){\n",
       "                            \n",
       "var gd = document.getElementById('59d57ec3-0d6f-4b50-9629-1da1ceabd56e');\n",
       "var x = new MutationObserver(function (mutations, observer) {{\n",
       "        var display = window.getComputedStyle(gd).display;\n",
       "        if (!display || display === 'none') {{\n",
       "            console.log([gd, 'removed!']);\n",
       "            Plotly.purge(gd);\n",
       "            observer.disconnect();\n",
       "        }}\n",
       "}});\n",
       "\n",
       "// Listen for the removal of the full notebook cells\n",
       "var notebookContainer = gd.closest('#notebook-container');\n",
       "if (notebookContainer) {{\n",
       "    x.observe(notebookContainer, {childList: true});\n",
       "}}\n",
       "\n",
       "// Listen for the clearing of the current output cell\n",
       "var outputEl = gd.closest('.output');\n",
       "if (outputEl) {{\n",
       "    x.observe(outputEl, {childList: true});\n",
       "}}\n",
       "\n",
       "                        })\n",
       "                };\n",
       "                });\n",
       "            </script>\n",
       "        </div>"
      ]
     },
     "metadata": {},
     "output_type": "display_data"
    }
   ],
   "source": [
    "plot_model(lda, plot = 'tsne')"
   ]
  },
  {
   "cell_type": "markdown",
   "metadata": {},
   "source": [
    "T-distributed Stochastic Neighbor Embedding (t-SNE) is a nonlinear dimensionality reduction technique well-suited for embedding high-dimensional data for visualization in a low-dimensional space of two or three dimensions. \n",
    "\n",
    "__[Learn More](https://en.wikipedia.org/wiki/T-distributed_stochastic_neighbor_embedding)__"
   ]
  },
  {
   "cell_type": "markdown",
   "metadata": {},
   "source": [
    "### 9.6 Uniform Manifold Approximation and Projection Plot"
   ]
  },
  {
   "cell_type": "code",
   "execution_count": 18,
   "metadata": {
    "ExecuteTime": {
     "end_time": "2020-05-02T15:52:58.982306Z",
     "start_time": "2020-05-02T15:52:39.535519Z"
    }
   },
   "outputs": [
    {
     "data": {
      "text/html": [
       "        <script type=\"text/javascript\">\n",
       "        window.PlotlyConfig = {MathJaxConfig: 'local'};\n",
       "        if (window.MathJax) {MathJax.Hub.Config({SVG: {font: \"STIX-Web\"}});}\n",
       "        if (typeof require !== 'undefined') {\n",
       "        require.undef(\"plotly\");\n",
       "        requirejs.config({\n",
       "            paths: {\n",
       "                'plotly': ['https://cdn.plot.ly/plotly-latest.min']\n",
       "            }\n",
       "        });\n",
       "        require(['plotly'], function(Plotly) {\n",
       "            window._Plotly = Plotly;\n",
       "        });\n",
       "        }\n",
       "        </script>\n",
       "        "
      ]
     },
     "metadata": {},
     "output_type": "display_data"
    },
    {
     "data": {
      "image/png": "[encoded data removed]",
      "text/plain": [
       "<Figure size 720x432 with 1 Axes>"
      ]
     },
     "metadata": {},
     "output_type": "display_data"
    }
   ],
   "source": [
    "plot_model(lda, plot = 'umap')"
   ]
  },
  {
   "cell_type": "markdown",
   "metadata": {},
   "source": [
    "UMAP (Uniform Manifold Approximation and Projection) is a novel manifold learning technique for dimensionality reduction. It is similar to tSNE and PCA in its purpose as all of them are techniques to reduce dimensionality for 2d/3d projections. UMAP is constructed from a theoretical framework based in Riemannian geometry and algebraic topology. \n",
    "\n",
    "__[Learn More](https://towardsdatascience.com/how-exactly-umap-works-13e3040e1668)__"
   ]
  },
  {
   "cell_type": "markdown",
   "metadata": {},
   "source": [
    "# 10.0 Evaluate Model"
   ]
  },
  {
   "cell_type": "markdown",
   "metadata": {},
   "source": [
    "Another way to analyze the performance of models is to use `evaluate_model()` function which displays a user interface for all of the available plots for a given model. It internally uses the `plot_model()` function. See the example below where we have generated Sentiment Polarity Plot for `Topic 3` using the LDA model stored in `lda` variable."
   ]
  },
  {
   "cell_type": "code",
   "execution_count": 19,
   "metadata": {
    "ExecuteTime": {
     "end_time": "2020-05-02T15:52:59.007678Z",
     "start_time": "2020-05-02T15:52:58.983369Z"
    }
   },
   "outputs": [
    {
     "data": {
      "application/vnd.jupyter.widget-view+json": {
       "model_id": "23619a33853542f28e6b0ebe6cec5eb4",
       "version_major": 2,
       "version_minor": 0
      },
      "text/plain": [
       "interactive(children=(ToggleButtons(description='Plot Type:', icons=('',), options=(('Frequency Plot', 'freque…"
      ]
     },
     "metadata": {},
     "output_type": "display_data"
    }
   ],
   "source": [
    "evaluate_model(lda)"
   ]
  },
  {
   "cell_type": "markdown",
   "metadata": {},
   "source": [
    "# 11.0 Saving the Model"
   ]
  },
  {
   "cell_type": "markdown",
   "metadata": {},
   "source": [
    "As you get deeper into Natural Language Processing, you will learn that the training time of topic models increases exponentially as the size of corpus increases. As such, if you would like to continue your experiment or analysis at a later point, you don't need to repeat the entire experiment and re-train your model. PyCaret's inbuilt function `save_model()` allows you to save the model for later use."
   ]
  },
  {
   "cell_type": "code",
   "execution_count": 20,
   "metadata": {
    "ExecuteTime": {
     "end_time": "2020-05-02T15:52:59.131320Z",
     "start_time": "2020-05-02T15:52:59.008655Z"
    }
   },
   "outputs": [
    {
     "name": "stdout",
     "output_type": "stream",
     "text": [
      "Model Succesfully Saved\n"
     ]
    }
   ],
   "source": [
    "save_model(lda,'Final LDA Model 08Feb2020')"
   ]
  },
  {
   "cell_type": "markdown",
   "metadata": {},
   "source": [
    "# 12.0 Loading the Model"
   ]
  },
  {
   "cell_type": "markdown",
   "metadata": {},
   "source": [
    "To load the saved model on a future date in the same or different environment, we would use the PyCaret's `load_model()` function."
   ]
  },
  {
   "cell_type": "code",
   "execution_count": 21,
   "metadata": {
    "ExecuteTime": {
     "end_time": "2020-05-02T15:52:59.193102Z",
     "start_time": "2020-05-02T15:52:59.132319Z"
    }
   },
   "outputs": [
    {
     "name": "stdout",
     "output_type": "stream",
     "text": [
      "Model Sucessfully Loaded\n"
     ]
    }
   ],
   "source": [
    "saved_lda = load_model('Final LDA Model 08Feb2020')"
   ]
  },
  {
   "cell_type": "code",
   "execution_count": 22,
   "metadata": {
    "ExecuteTime": {
     "end_time": "2020-05-02T15:52:59.196722Z",
     "start_time": "2020-05-02T15:52:59.194250Z"
    }
   },
   "outputs": [
    {
     "name": "stdout",
     "output_type": "stream",
     "text": [
      "LdaModel(num_terms=6761, num_topics=4, decay=0.5, chunksize=100)\n"
     ]
    }
   ],
   "source": [
    "print(saved_lda)"
   ]
  },
  {
   "cell_type": "markdown",
   "metadata": {},
   "source": [
    "# 13.0 Wrap-Up / Next Steps?"
   ]
  },
  {
   "cell_type": "markdown",
   "metadata": {},
   "source": [
    "What we have covered in this tutorial is the entire workflow for Natural Language Processing experiment. Our task today was to create and analyze a topic model. We have performed several text pre-processing steps using `setup()`, then we have created a topic model using `create_model()`, assigned topics to the dataset using `assign_model()` and analyzed the results using `plot_model()`. All this was completed in less than 10 commands that are naturally constructed and very intuitive to remember. Re-creating the entire experiment without PyCaret would have taken well over 100 lines of code.\n",
    "\n",
    "In this tutorial, we have only covered the basics of `pycaret.nlp`. In the next tutorial we will demonstrate the use of `tune_model()` to automatically select the number of topics for a topic model. We will also go deeper into a few concepts and techniques, such as `custom_stopwords`, to improve the result of the topic model. \n",
    "\n",
    "See you at the next tutorial. Follow the link to __[Natural Language Processing (NLP102) - Level Intermediate](https://github.com/pycaret/pycaret/blob/master/Tutorials/Natural%20Language%20Processing%20Tutorial%20Level%20Intermediate%20-%20NLP102.ipynb)__"
   ]
  }
 ],
 "metadata": {
  "kernelspec": {
   "display_name": "Python [conda env:tutorial_env] *",
   "language": "python",
   "name": "conda-env-tutorial_env-py"
  },
  "language_info": {
   "codemirror_mode": {
    "name": "ipython",
    "version": 3
   },
   "file_extension": ".py",
   "mimetype": "text/x-python",
   "name": "python",
   "nbconvert_exporter": "python",
   "pygments_lexer": "ipython3",
   "version": "3.7.7"
  },
  "toc": {
   "base_numbering": 1,
   "nav_menu": {},
   "number_sections": false,
   "sideBar": true,
   "skip_h1_title": false,
   "title_cell": "Table of Contents",
   "title_sidebar": "Contents",
   "toc_cell": false,
   "toc_position": {},
   "toc_section_display": true,
   "toc_window_display": true
  },
  "varInspector": {
   "cols": {
    "lenName": 16,
    "lenType": 16,
    "lenVar": 40
   },
   "kernels_config": {
    "python": {
     "delete_cmd_postfix": "",
     "delete_cmd_prefix": "del ",
     "library": "var_list.py",
     "varRefreshCmd": "print(var_dic_list())"
    },
    "r": {
     "delete_cmd_postfix": ") ",
     "delete_cmd_prefix": "rm(",
     "library": "var_list.r",
     "varRefreshCmd": "cat(var_dic_list()) "
    }
   },
   "types_to_exclude": [
    "module",
    "function",
    "builtin_function_or_method",
    "instance",
    "_Feature"
   ],
   "window_display": false
  }
 },
 "nbformat": 4,
 "nbformat_minor": 2
}
